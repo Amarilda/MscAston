{
 "cells": [
  {
   "cell_type": "code",
   "execution_count": 1,
   "metadata": {
    "ExecuteTime": {
     "end_time": "2020-12-15T10:00:49.246197Z",
     "start_time": "2020-12-15T10:00:39.731300Z"
    }
   },
   "outputs": [],
   "source": [
    "import pandas as pd\n",
    "from matplotlib import pyplot as plt\n",
    "%matplotlib inline"
   ]
  },
  {
   "cell_type": "code",
   "execution_count": 2,
   "metadata": {
    "ExecuteTime": {
     "end_time": "2020-12-15T10:00:49.921152Z",
     "start_time": "2020-12-15T10:00:49.249419Z"
    }
   },
   "outputs": [],
   "source": [
    "df = pd.read_csv(\"hotel_bookings.csv\")"
   ]
  },
  {
   "cell_type": "markdown",
   "metadata": {
    "ExecuteTime": {
     "end_time": "2020-12-15T10:02:48.532975Z",
     "start_time": "2020-12-15T10:00:49.924287Z"
    }
   },
   "source": [
    "df_cleaned = pd.read_excel(\"hotel_cleaned.xlsx\")"
   ]
  },
  {
   "cell_type": "code",
   "execution_count": 4,
   "metadata": {
    "ExecuteTime": {
     "end_time": "2020-12-15T10:02:56.011352Z",
     "start_time": "2020-12-15T10:02:56.000184Z"
    }
   },
   "outputs": [
    {
     "data": {
      "text/plain": [
       "Index(['hotel', 'is_canceled', 'lead_time', 'arrival_date_year',\n",
       "       'arrival_date_month', 'arrival_date_week_number',\n",
       "       'arrival_date_day_of_month', 'stays_in_weekend_nights',\n",
       "       'stays_in_week_nights', 'adults', 'children', 'babies', 'meal',\n",
       "       'country', 'market_segment', 'distribution_channel',\n",
       "       'is_repeated_guest', 'previous_cancellations',\n",
       "       'previous_bookings_not_canceled', 'reserved_room_type',\n",
       "       'assigned_room_type', 'booking_changes', 'deposit_type', 'agent',\n",
       "       'company', 'days_in_waiting_list', 'customer_type', 'adr',\n",
       "       'required_car_parking_spaces', 'total_of_special_requests',\n",
       "       'reservation_status', 'reservation_status_date'],\n",
       "      dtype='object')"
      ]
     },
     "execution_count": 4,
     "metadata": {},
     "output_type": "execute_result"
    }
   ],
   "source": [
    "df3 =df\n",
    "df.columns"
   ]
  },
  {
   "cell_type": "code",
   "execution_count": 5,
   "metadata": {
    "ExecuteTime": {
     "end_time": "2020-12-15T10:02:57.459157Z",
     "start_time": "2020-12-15T10:02:57.388059Z"
    }
   },
   "outputs": [],
   "source": [
    "df = df.reindex(sorted(df.columns), axis=1)\n",
    "df2 = df"
   ]
  },
  {
   "cell_type": "markdown",
   "metadata": {},
   "source": [
    "## Pandas Profiling\n",
    "\n",
    "import pandas_profiling\n",
    "\n",
    "from pandas_profiling import ProfileReport\n",
    "profile = ProfileReport(df, title='Pandas Profiling Report', explorative=True)\n",
    "profile.to_widgets()\n",
    "profile\n",
    "profile.to_file(\"your_report.html\")"
   ]
  },
  {
   "cell_type": "code",
   "execution_count": 7,
   "metadata": {
    "ExecuteTime": {
     "end_time": "2020-12-15T10:03:12.604945Z",
     "start_time": "2020-12-15T10:03:12.595422Z"
    }
   },
   "outputs": [],
   "source": [
    "all = [ 'hotel', 'is_canceled','is_repeated_guest', \n",
    "       'reservation_status', 'total_of_special_requests']\n",
    "\n",
    "notsorted = ['arrival_date_year','arrival_date_month', 'arrival_date_week_number',\n",
    "             'arrival_date_day_of_month']\n",
    "\n",
    "grouped =['lead_time','previous_bookings_not_canceled', 'reserved_room_type',\n",
    "       'assigned_room_type', 'booking_changes', 'deposit_type', 'agent',\n",
    "       'company', 'days_in_waiting_list', 'customer_type', 'adr',\n",
    "       'required_car_parking_spaces', 'reservation_status', 'previous_cancellations' ]"
   ]
  },
  {
   "cell_type": "markdown",
   "metadata": {
    "ExecuteTime": {
     "end_time": "2020-12-15T10:07:55.601211Z",
     "start_time": "2020-12-15T10:07:55.596869Z"
    }
   },
   "source": [
    "# Categories under 5% threshold is grouped into \"Other\""
   ]
  },
  {
   "cell_type": "code",
   "execution_count": 16,
   "metadata": {
    "ExecuteTime": {
     "end_time": "2020-12-15T10:08:31.573189Z",
     "start_time": "2020-12-15T10:08:30.685593Z"
    }
   },
   "outputs": [
    {
     "name": "stdout",
     "output_type": "stream",
     "text": [
      "days_in_waiting_list\n"
     ]
    },
    {
     "data": {
      "text/plain": [
       "<Figure size 1600x1200 with 0 Axes>"
      ]
     },
     "metadata": {},
     "output_type": "display_data"
    },
    {
     "data": {
      "image/png": "[encoded data removed]",
      "text/plain": [
       "<Figure size 432x288 with 1 Axes>"
      ]
     },
     "metadata": {
      "needs_background": "light"
     },
     "output_type": "display_data"
    },
    {
     "name": "stdout",
     "output_type": "stream",
     "text": [
      "customer_type\n"
     ]
    },
    {
     "data": {
      "text/plain": [
       "<Figure size 1600x1200 with 0 Axes>"
      ]
     },
     "metadata": {},
     "output_type": "display_data"
    },
    {
     "data": {
      "image/png": "[encoded data removed]",
      "text/plain": [
       "<Figure size 432x288 with 1 Axes>"
      ]
     },
     "metadata": {
      "needs_background": "light"
     },
     "output_type": "display_data"
    },
    {
     "name": "stdout",
     "output_type": "stream",
     "text": [
      "adr\n"
     ]
    },
    {
     "data": {
      "text/plain": [
       "<Figure size 1600x1200 with 0 Axes>"
      ]
     },
     "metadata": {},
     "output_type": "display_data"
    },
    {
     "data": {
      "image/png": "[encoded data removed]",
      "text/plain": [
       "<Figure size 432x288 with 1 Axes>"
      ]
     },
     "metadata": {
      "needs_background": "light"
     },
     "output_type": "display_data"
    }
   ],
   "source": [
    "df = df3\n",
    "\n",
    "for i in df.columns[25:28]:\n",
    "\n",
    "    print(i)\n",
    "    \n",
    "    xx = df[i].value_counts().sort_values(ascending = False)\n",
    "    xx = xx.to_frame().reset_index()\n",
    "    xx.columns = [i, 'count']\n",
    "    xx['percentage'] = (xx['count']/sum(xx['count']))*100 \n",
    "    xx\n",
    "    len(xx[xx.percentage >= 5.0])\n",
    "    number= len(xx[xx.percentage >= 1.50]) \n",
    "    #print(sorted(df[i].unique()))\n",
    " \n",
    "    if len(df[i].unique())> len(xx[xx.percentage >= 1.5]):\n",
    "        plt.figure(figsize=(4, 3), dpi = 400)\n",
    "        \n",
    "        ### Creating top n\n",
    "        chartz = df[i].value_counts().sort_values(ascending = False).head(number)\n",
    "        \n",
    "        #### Creating other variable \n",
    "        a = len(df[i].value_counts().sort_values(ascending = False)) - number\n",
    "        b =df[i].value_counts().sort_values(ascending = False).tail(a)\n",
    "        \n",
    "        column_name = \"Other (\"+ str(len(b))+\")\"\n",
    "        c = [column_name, b.sum()]\n",
    "        z = pd.DataFrame([[column_name, b.sum()]], columns=[i, 'count'])\n",
    "        \n",
    "        #### fix first data frame, convert index to \n",
    "        chartz = chartz.reset_index()\n",
    "        chartz.columns = [i, 'count']\n",
    "        s = chartz.append(z)\n",
    "        final = s.reset_index()[s.reset_index().columns[-2:]]\n",
    "    \n",
    "        \n",
    "    else:\n",
    "        plt.figure(figsize=(4, 3), dpi = 400)\n",
    "        \n",
    "        chartz = df[i].value_counts().sort_values(ascending = False)\n",
    "        final = chartz.reset_index()\n",
    "        final.columns = [i, 'count']\n",
    "\n",
    "        \n",
    "    #### charting     \n",
    "    ax = final.plot(kind=\"barh\")\n",
    "    plt.gca().legend_.remove()\n",
    "    ax.set_yticklabels(final[i])\n",
    "    ax.invert_yaxis()\n",
    "        \n",
    "        #plt.xticks(fontsize=14)\n",
    "        #plt.yticks(fontsize=14)\n",
    "        \n",
    "    plt.show()\n",
    "    #filename = i+'.png'\n",
    "    #plt.savefig(filename, bbox_inches='tight')"
   ]
  },
  {
   "cell_type": "markdown",
   "metadata": {
    "ExecuteTime": {
     "end_time": "2020-12-15T10:08:48.946496Z",
     "start_time": "2020-12-15T10:08:48.941308Z"
    }
   },
   "source": [
    "# All Categories are plotted"
   ]
  },
  {
   "cell_type": "code",
   "execution_count": 19,
   "metadata": {
    "ExecuteTime": {
     "end_time": "2020-12-15T10:09:37.356840Z",
     "start_time": "2020-12-15T10:09:36.169737Z"
    }
   },
   "outputs": [
    {
     "name": "stdout",
     "output_type": "stream",
     "text": [
      "reserved_room_type\n",
      "  reserved_room_type  count\n",
      "0                  A  85994\n",
      "1                  D  19201\n",
      "2                  E   6535\n",
      "3                  F   2897\n",
      "4                  G   2094\n",
      "5                  B   1118\n",
      "6                  C    932\n",
      "7                  H    601\n",
      "8                  P     12\n",
      "9                  L      6\n",
      "assigned_room_type\n",
      "   assigned_room_type  count\n",
      "0                   A  74053\n",
      "1                   D  25322\n",
      "2                   E   7806\n",
      "3                   F   3751\n",
      "4                   G   2553\n",
      "5                   C   2375\n",
      "6                   B   2163\n",
      "7                   H    712\n",
      "8                   I    363\n",
      "9                   K    279\n",
      "10                  P     12\n",
      "11                  L      1\n"
     ]
    },
    {
     "data": {
      "text/plain": [
       "<Figure size 1600x1200 with 0 Axes>"
      ]
     },
     "metadata": {},
     "output_type": "display_data"
    },
    {
     "data": {
      "image/png": "[encoded data removed]",
      "text/plain": [
       "<Figure size 432x288 with 1 Axes>"
      ]
     },
     "metadata": {
      "needs_background": "light"
     },
     "output_type": "display_data"
    },
    {
     "data": {
      "text/plain": [
       "<Figure size 1600x1200 with 0 Axes>"
      ]
     },
     "metadata": {},
     "output_type": "display_data"
    },
    {
     "data": {
      "image/png": "[encoded data removed]",
      "text/plain": [
       "<Figure size 432x288 with 1 Axes>"
      ]
     },
     "metadata": {
      "needs_background": "light"
     },
     "output_type": "display_data"
    }
   ],
   "source": [
    "df = df3\n",
    "\n",
    "\n",
    "for i in df.columns[19:21]:\n",
    "    print(i)\n",
    "    \n",
    "\n",
    "    plt.figure(figsize=(4, 3), dpi = 400)\n",
    "        \n",
    "    chartz = df[i].value_counts()\n",
    "    final = chartz.reset_index()\n",
    "    final.columns = [i, 'count']\n",
    "    final = final.reset_index(drop=True)[final.reset_index(drop=True).columns[-2:]]\n",
    "    print(final)\n",
    "\n",
    "    ''' \n",
    "    #### charting     \n",
    "    ax = final['count'].plot(kind=\"barh\",width=1.0)\n",
    "    \n",
    "    ax.set_yticklabels(final[i])\n",
    "    #ax.set_xlim((final[i]), max(final[i]))\n",
    "    #ax.invert_yaxis()\n",
    "        \n",
    "        #plt.xticks(fontsize=14)\n",
    "        #plt.yticks(fontsize=14)\n",
    "\n",
    "    filename = i+'.png'\n",
    "    plt.savefig(filename, bbox_inches='tight')\n",
    "    plt.close()\n",
    "    '''   \n",
    "    \n",
    "    #### charting     \n",
    "    ax = final.plot(kind=\"barh\")\n",
    "    plt.gca().legend_.remove()\n",
    "    ax.set_yticklabels(final[i])\n",
    "    ax.invert_yaxis()\n",
    "        \n",
    "        #plt.xticks(fontsize=14)\n",
    "        #plt.yticks(fontsize=14)\n",
    "\n",
    "    filename = i+'.png'\n",
    "    plt.savefig(filename, bbox_inches='tight')\n",
    "\n",
    "\n",
    "\n"
   ]
  },
  {
   "cell_type": "code",
   "execution_count": 20,
   "metadata": {
    "ExecuteTime": {
     "end_time": "2020-12-15T10:09:50.047668Z",
     "start_time": "2020-12-15T10:09:50.040126Z"
    }
   },
   "outputs": [],
   "source": [
    "import ppscore as pps"
   ]
  },
  {
   "cell_type": "code",
   "execution_count": 22,
   "metadata": {
    "ExecuteTime": {
     "end_time": "2020-12-15T10:10:01.573747Z",
     "start_time": "2020-12-15T10:09:59.808499Z"
    }
   },
   "outputs": [],
   "source": [
    "a =pps.predictors(df, \"is_canceled\")"
   ]
  },
  {
   "cell_type": "code",
   "execution_count": 30,
   "metadata": {
    "ExecuteTime": {
     "end_time": "2020-12-15T10:11:31.048188Z",
     "start_time": "2020-12-15T10:11:30.789244Z"
    }
   },
   "outputs": [
    {
     "data": {
      "text/plain": [
       "<AxesSubplot:xlabel='x', ylabel='ppscore'>"
      ]
     },
     "execution_count": 30,
     "metadata": {},
     "output_type": "execute_result"
    },
    {
     "data": {
      "image/png": "[encoded data removed]",
      "text/plain": [
       "<Figure size 432x288 with 1 Axes>"
      ]
     },
     "metadata": {
      "needs_background": "light"
     },
     "output_type": "display_data"
    }
   ],
   "source": [
    "import seaborn as sns\n",
    "#predictors_df = pps.predictors(df, \"is_canceled\")\n",
    "sns.barplot(data=a[:3], x=\"x\", y=\"ppscore\")"
   ]
  },
  {
   "cell_type": "code",
   "execution_count": 28,
   "metadata": {
    "ExecuteTime": {
     "end_time": "2020-12-15T10:11:05.220097Z",
     "start_time": "2020-12-15T10:11:05.166400Z"
    }
   },
   "outputs": [
    {
     "data": {
      "text/html": [
       "<div>\n",
       "<style scoped>\n",
       "    .dataframe tbody tr th:only-of-type {\n",
       "        vertical-align: middle;\n",
       "    }\n",
       "\n",
       "    .dataframe tbody tr th {\n",
       "        vertical-align: top;\n",
       "    }\n",
       "\n",
       "    .dataframe thead th {\n",
       "        text-align: right;\n",
       "    }\n",
       "</style>\n",
       "<table border=\"1\" class=\"dataframe\">\n",
       "  <thead>\n",
       "    <tr style=\"text-align: right;\">\n",
       "      <th></th>\n",
       "      <th>x</th>\n",
       "      <th>y</th>\n",
       "      <th>ppscore</th>\n",
       "      <th>case</th>\n",
       "      <th>is_valid_score</th>\n",
       "      <th>metric</th>\n",
       "      <th>baseline_score</th>\n",
       "      <th>model_score</th>\n",
       "      <th>model</th>\n",
       "    </tr>\n",
       "  </thead>\n",
       "  <tbody>\n",
       "    <tr>\n",
       "      <th>0</th>\n",
       "      <td>reservation_status</td>\n",
       "      <td>is_canceled</td>\n",
       "      <td>1.000000</td>\n",
       "      <td>regression</td>\n",
       "      <td>True</td>\n",
       "      <td>mean absolute error</td>\n",
       "      <td>0.3642</td>\n",
       "      <td>0.000000</td>\n",
       "      <td>DecisionTreeRegressor(ccp_alpha=0.0, criterion...</td>\n",
       "    </tr>\n",
       "    <tr>\n",
       "      <th>1</th>\n",
       "      <td>deposit_type</td>\n",
       "      <td>is_canceled</td>\n",
       "      <td>0.046803</td>\n",
       "      <td>regression</td>\n",
       "      <td>True</td>\n",
       "      <td>mean absolute error</td>\n",
       "      <td>0.3686</td>\n",
       "      <td>0.351348</td>\n",
       "      <td>DecisionTreeRegressor(ccp_alpha=0.0, criterion...</td>\n",
       "    </tr>\n",
       "    <tr>\n",
       "      <th>2</th>\n",
       "      <td>reservation_status_date</td>\n",
       "      <td>is_canceled</td>\n",
       "      <td>0.029102</td>\n",
       "      <td>regression</td>\n",
       "      <td>True</td>\n",
       "      <td>mean absolute error</td>\n",
       "      <td>0.3730</td>\n",
       "      <td>0.362145</td>\n",
       "      <td>DecisionTreeRegressor(ccp_alpha=0.0, criterion...</td>\n",
       "    </tr>\n",
       "    <tr>\n",
       "      <th>3</th>\n",
       "      <td>hotel</td>\n",
       "      <td>is_canceled</td>\n",
       "      <td>0.000000</td>\n",
       "      <td>regression</td>\n",
       "      <td>True</td>\n",
       "      <td>mean absolute error</td>\n",
       "      <td>0.3636</td>\n",
       "      <td>0.453923</td>\n",
       "      <td>DecisionTreeRegressor(ccp_alpha=0.0, criterion...</td>\n",
       "    </tr>\n",
       "    <tr>\n",
       "      <th>4</th>\n",
       "      <td>lead_time</td>\n",
       "      <td>is_canceled</td>\n",
       "      <td>0.000000</td>\n",
       "      <td>regression</td>\n",
       "      <td>True</td>\n",
       "      <td>mean absolute error</td>\n",
       "      <td>0.3602</td>\n",
       "      <td>0.393205</td>\n",
       "      <td>DecisionTreeRegressor(ccp_alpha=0.0, criterion...</td>\n",
       "    </tr>\n",
       "    <tr>\n",
       "      <th>5</th>\n",
       "      <td>arrival_date_year</td>\n",
       "      <td>is_canceled</td>\n",
       "      <td>0.000000</td>\n",
       "      <td>regression</td>\n",
       "      <td>True</td>\n",
       "      <td>mean absolute error</td>\n",
       "      <td>0.3730</td>\n",
       "      <td>0.467184</td>\n",
       "      <td>DecisionTreeRegressor(ccp_alpha=0.0, criterion...</td>\n",
       "    </tr>\n",
       "    <tr>\n",
       "      <th>6</th>\n",
       "      <td>arrival_date_month</td>\n",
       "      <td>is_canceled</td>\n",
       "      <td>0.000000</td>\n",
       "      <td>regression</td>\n",
       "      <td>True</td>\n",
       "      <td>mean absolute error</td>\n",
       "      <td>0.3782</td>\n",
       "      <td>0.468788</td>\n",
       "      <td>DecisionTreeRegressor(ccp_alpha=0.0, criterion...</td>\n",
       "    </tr>\n",
       "    <tr>\n",
       "      <th>7</th>\n",
       "      <td>arrival_date_week_number</td>\n",
       "      <td>is_canceled</td>\n",
       "      <td>0.000000</td>\n",
       "      <td>regression</td>\n",
       "      <td>True</td>\n",
       "      <td>mean absolute error</td>\n",
       "      <td>0.3750</td>\n",
       "      <td>0.461453</td>\n",
       "      <td>DecisionTreeRegressor(ccp_alpha=0.0, criterion...</td>\n",
       "    </tr>\n",
       "    <tr>\n",
       "      <th>8</th>\n",
       "      <td>arrival_date_day_of_month</td>\n",
       "      <td>is_canceled</td>\n",
       "      <td>0.000000</td>\n",
       "      <td>regression</td>\n",
       "      <td>True</td>\n",
       "      <td>mean absolute error</td>\n",
       "      <td>0.3798</td>\n",
       "      <td>0.470945</td>\n",
       "      <td>DecisionTreeRegressor(ccp_alpha=0.0, criterion...</td>\n",
       "    </tr>\n",
       "    <tr>\n",
       "      <th>9</th>\n",
       "      <td>stays_in_weekend_nights</td>\n",
       "      <td>is_canceled</td>\n",
       "      <td>0.000000</td>\n",
       "      <td>regression</td>\n",
       "      <td>True</td>\n",
       "      <td>mean absolute error</td>\n",
       "      <td>0.3686</td>\n",
       "      <td>0.465039</td>\n",
       "      <td>DecisionTreeRegressor(ccp_alpha=0.0, criterion...</td>\n",
       "    </tr>\n",
       "    <tr>\n",
       "      <th>10</th>\n",
       "      <td>stays_in_week_nights</td>\n",
       "      <td>is_canceled</td>\n",
       "      <td>0.000000</td>\n",
       "      <td>regression</td>\n",
       "      <td>True</td>\n",
       "      <td>mean absolute error</td>\n",
       "      <td>0.3814</td>\n",
       "      <td>0.466839</td>\n",
       "      <td>DecisionTreeRegressor(ccp_alpha=0.0, criterion...</td>\n",
       "    </tr>\n",
       "    <tr>\n",
       "      <th>11</th>\n",
       "      <td>adults</td>\n",
       "      <td>is_canceled</td>\n",
       "      <td>0.000000</td>\n",
       "      <td>regression</td>\n",
       "      <td>True</td>\n",
       "      <td>mean absolute error</td>\n",
       "      <td>0.3656</td>\n",
       "      <td>0.461956</td>\n",
       "      <td>DecisionTreeRegressor(ccp_alpha=0.0, criterion...</td>\n",
       "    </tr>\n",
       "    <tr>\n",
       "      <th>12</th>\n",
       "      <td>children</td>\n",
       "      <td>is_canceled</td>\n",
       "      <td>0.000000</td>\n",
       "      <td>regression</td>\n",
       "      <td>True</td>\n",
       "      <td>mean absolute error</td>\n",
       "      <td>0.3856</td>\n",
       "      <td>0.473771</td>\n",
       "      <td>DecisionTreeRegressor(ccp_alpha=0.0, criterion...</td>\n",
       "    </tr>\n",
       "    <tr>\n",
       "      <th>13</th>\n",
       "      <td>babies</td>\n",
       "      <td>is_canceled</td>\n",
       "      <td>0.000000</td>\n",
       "      <td>regression</td>\n",
       "      <td>True</td>\n",
       "      <td>mean absolute error</td>\n",
       "      <td>0.3604</td>\n",
       "      <td>0.460827</td>\n",
       "      <td>DecisionTreeRegressor(ccp_alpha=0.0, criterion...</td>\n",
       "    </tr>\n",
       "    <tr>\n",
       "      <th>14</th>\n",
       "      <td>meal</td>\n",
       "      <td>is_canceled</td>\n",
       "      <td>0.000000</td>\n",
       "      <td>regression</td>\n",
       "      <td>True</td>\n",
       "      <td>mean absolute error</td>\n",
       "      <td>0.3698</td>\n",
       "      <td>0.463761</td>\n",
       "      <td>DecisionTreeRegressor(ccp_alpha=0.0, criterion...</td>\n",
       "    </tr>\n",
       "    <tr>\n",
       "      <th>15</th>\n",
       "      <td>country</td>\n",
       "      <td>is_canceled</td>\n",
       "      <td>0.000000</td>\n",
       "      <td>regression</td>\n",
       "      <td>True</td>\n",
       "      <td>mean absolute error</td>\n",
       "      <td>0.3648</td>\n",
       "      <td>0.414117</td>\n",
       "      <td>DecisionTreeRegressor(ccp_alpha=0.0, criterion...</td>\n",
       "    </tr>\n",
       "    <tr>\n",
       "      <th>16</th>\n",
       "      <td>market_segment</td>\n",
       "      <td>is_canceled</td>\n",
       "      <td>0.000000</td>\n",
       "      <td>regression</td>\n",
       "      <td>True</td>\n",
       "      <td>mean absolute error</td>\n",
       "      <td>0.3708</td>\n",
       "      <td>0.430450</td>\n",
       "      <td>DecisionTreeRegressor(ccp_alpha=0.0, criterion...</td>\n",
       "    </tr>\n",
       "    <tr>\n",
       "      <th>17</th>\n",
       "      <td>distribution_channel</td>\n",
       "      <td>is_canceled</td>\n",
       "      <td>0.000000</td>\n",
       "      <td>regression</td>\n",
       "      <td>True</td>\n",
       "      <td>mean absolute error</td>\n",
       "      <td>0.3608</td>\n",
       "      <td>0.448981</td>\n",
       "      <td>DecisionTreeRegressor(ccp_alpha=0.0, criterion...</td>\n",
       "    </tr>\n",
       "    <tr>\n",
       "      <th>18</th>\n",
       "      <td>is_repeated_guest</td>\n",
       "      <td>is_canceled</td>\n",
       "      <td>0.000000</td>\n",
       "      <td>regression</td>\n",
       "      <td>True</td>\n",
       "      <td>mean absolute error</td>\n",
       "      <td>0.3758</td>\n",
       "      <td>0.465462</td>\n",
       "      <td>DecisionTreeRegressor(ccp_alpha=0.0, criterion...</td>\n",
       "    </tr>\n",
       "    <tr>\n",
       "      <th>19</th>\n",
       "      <td>previous_cancellations</td>\n",
       "      <td>is_canceled</td>\n",
       "      <td>0.000000</td>\n",
       "      <td>regression</td>\n",
       "      <td>True</td>\n",
       "      <td>mean absolute error</td>\n",
       "      <td>0.3650</td>\n",
       "      <td>0.428149</td>\n",
       "      <td>DecisionTreeRegressor(ccp_alpha=0.0, criterion...</td>\n",
       "    </tr>\n",
       "    <tr>\n",
       "      <th>20</th>\n",
       "      <td>previous_bookings_not_canceled</td>\n",
       "      <td>is_canceled</td>\n",
       "      <td>0.000000</td>\n",
       "      <td>regression</td>\n",
       "      <td>True</td>\n",
       "      <td>mean absolute error</td>\n",
       "      <td>0.3712</td>\n",
       "      <td>0.459827</td>\n",
       "      <td>DecisionTreeRegressor(ccp_alpha=0.0, criterion...</td>\n",
       "    </tr>\n",
       "    <tr>\n",
       "      <th>21</th>\n",
       "      <td>reserved_room_type</td>\n",
       "      <td>is_canceled</td>\n",
       "      <td>0.000000</td>\n",
       "      <td>regression</td>\n",
       "      <td>True</td>\n",
       "      <td>mean absolute error</td>\n",
       "      <td>0.3742</td>\n",
       "      <td>0.465478</td>\n",
       "      <td>DecisionTreeRegressor(ccp_alpha=0.0, criterion...</td>\n",
       "    </tr>\n",
       "    <tr>\n",
       "      <th>22</th>\n",
       "      <td>assigned_room_type</td>\n",
       "      <td>is_canceled</td>\n",
       "      <td>0.000000</td>\n",
       "      <td>regression</td>\n",
       "      <td>True</td>\n",
       "      <td>mean absolute error</td>\n",
       "      <td>0.3692</td>\n",
       "      <td>0.444954</td>\n",
       "      <td>DecisionTreeRegressor(ccp_alpha=0.0, criterion...</td>\n",
       "    </tr>\n",
       "    <tr>\n",
       "      <th>23</th>\n",
       "      <td>booking_changes</td>\n",
       "      <td>is_canceled</td>\n",
       "      <td>0.000000</td>\n",
       "      <td>regression</td>\n",
       "      <td>True</td>\n",
       "      <td>mean absolute error</td>\n",
       "      <td>0.3754</td>\n",
       "      <td>0.451377</td>\n",
       "      <td>DecisionTreeRegressor(ccp_alpha=0.0, criterion...</td>\n",
       "    </tr>\n",
       "    <tr>\n",
       "      <th>24</th>\n",
       "      <td>agent</td>\n",
       "      <td>is_canceled</td>\n",
       "      <td>0.000000</td>\n",
       "      <td>regression</td>\n",
       "      <td>True</td>\n",
       "      <td>mean absolute error</td>\n",
       "      <td>0.3916</td>\n",
       "      <td>0.397336</td>\n",
       "      <td>DecisionTreeRegressor(ccp_alpha=0.0, criterion...</td>\n",
       "    </tr>\n",
       "    <tr>\n",
       "      <th>25</th>\n",
       "      <td>company</td>\n",
       "      <td>is_canceled</td>\n",
       "      <td>0.000000</td>\n",
       "      <td>regression</td>\n",
       "      <td>True</td>\n",
       "      <td>mean absolute error</td>\n",
       "      <td>0.1718</td>\n",
       "      <td>0.210127</td>\n",
       "      <td>DecisionTreeRegressor(ccp_alpha=0.0, criterion...</td>\n",
       "    </tr>\n",
       "    <tr>\n",
       "      <th>26</th>\n",
       "      <td>days_in_waiting_list</td>\n",
       "      <td>is_canceled</td>\n",
       "      <td>0.000000</td>\n",
       "      <td>regression</td>\n",
       "      <td>True</td>\n",
       "      <td>mean absolute error</td>\n",
       "      <td>0.3638</td>\n",
       "      <td>0.454471</td>\n",
       "      <td>DecisionTreeRegressor(ccp_alpha=0.0, criterion...</td>\n",
       "    </tr>\n",
       "    <tr>\n",
       "      <th>27</th>\n",
       "      <td>customer_type</td>\n",
       "      <td>is_canceled</td>\n",
       "      <td>0.000000</td>\n",
       "      <td>regression</td>\n",
       "      <td>True</td>\n",
       "      <td>mean absolute error</td>\n",
       "      <td>0.3716</td>\n",
       "      <td>0.457618</td>\n",
       "      <td>DecisionTreeRegressor(ccp_alpha=0.0, criterion...</td>\n",
       "    </tr>\n",
       "    <tr>\n",
       "      <th>28</th>\n",
       "      <td>adr</td>\n",
       "      <td>is_canceled</td>\n",
       "      <td>0.000000</td>\n",
       "      <td>regression</td>\n",
       "      <td>True</td>\n",
       "      <td>mean absolute error</td>\n",
       "      <td>0.3702</td>\n",
       "      <td>0.409321</td>\n",
       "      <td>DecisionTreeRegressor(ccp_alpha=0.0, criterion...</td>\n",
       "    </tr>\n",
       "    <tr>\n",
       "      <th>29</th>\n",
       "      <td>required_car_parking_spaces</td>\n",
       "      <td>is_canceled</td>\n",
       "      <td>0.000000</td>\n",
       "      <td>regression</td>\n",
       "      <td>True</td>\n",
       "      <td>mean absolute error</td>\n",
       "      <td>0.3746</td>\n",
       "      <td>0.449144</td>\n",
       "      <td>DecisionTreeRegressor(ccp_alpha=0.0, criterion...</td>\n",
       "    </tr>\n",
       "    <tr>\n",
       "      <th>30</th>\n",
       "      <td>total_of_special_requests</td>\n",
       "      <td>is_canceled</td>\n",
       "      <td>0.000000</td>\n",
       "      <td>regression</td>\n",
       "      <td>True</td>\n",
       "      <td>mean absolute error</td>\n",
       "      <td>0.3686</td>\n",
       "      <td>0.436229</td>\n",
       "      <td>DecisionTreeRegressor(ccp_alpha=0.0, criterion...</td>\n",
       "    </tr>\n",
       "  </tbody>\n",
       "</table>\n",
       "</div>"
      ],
      "text/plain": [
       "                                 x            y   ppscore        case  \\\n",
       "0               reservation_status  is_canceled  1.000000  regression   \n",
       "1                     deposit_type  is_canceled  0.046803  regression   \n",
       "2          reservation_status_date  is_canceled  0.029102  regression   \n",
       "3                            hotel  is_canceled  0.000000  regression   \n",
       "4                        lead_time  is_canceled  0.000000  regression   \n",
       "5                arrival_date_year  is_canceled  0.000000  regression   \n",
       "6               arrival_date_month  is_canceled  0.000000  regression   \n",
       "7         arrival_date_week_number  is_canceled  0.000000  regression   \n",
       "8        arrival_date_day_of_month  is_canceled  0.000000  regression   \n",
       "9          stays_in_weekend_nights  is_canceled  0.000000  regression   \n",
       "10            stays_in_week_nights  is_canceled  0.000000  regression   \n",
       "11                          adults  is_canceled  0.000000  regression   \n",
       "12                        children  is_canceled  0.000000  regression   \n",
       "13                          babies  is_canceled  0.000000  regression   \n",
       "14                            meal  is_canceled  0.000000  regression   \n",
       "15                         country  is_canceled  0.000000  regression   \n",
       "16                  market_segment  is_canceled  0.000000  regression   \n",
       "17            distribution_channel  is_canceled  0.000000  regression   \n",
       "18               is_repeated_guest  is_canceled  0.000000  regression   \n",
       "19          previous_cancellations  is_canceled  0.000000  regression   \n",
       "20  previous_bookings_not_canceled  is_canceled  0.000000  regression   \n",
       "21              reserved_room_type  is_canceled  0.000000  regression   \n",
       "22              assigned_room_type  is_canceled  0.000000  regression   \n",
       "23                 booking_changes  is_canceled  0.000000  regression   \n",
       "24                           agent  is_canceled  0.000000  regression   \n",
       "25                         company  is_canceled  0.000000  regression   \n",
       "26            days_in_waiting_list  is_canceled  0.000000  regression   \n",
       "27                   customer_type  is_canceled  0.000000  regression   \n",
       "28                             adr  is_canceled  0.000000  regression   \n",
       "29     required_car_parking_spaces  is_canceled  0.000000  regression   \n",
       "30       total_of_special_requests  is_canceled  0.000000  regression   \n",
       "\n",
       "    is_valid_score               metric  baseline_score  model_score  \\\n",
       "0             True  mean absolute error          0.3642     0.000000   \n",
       "1             True  mean absolute error          0.3686     0.351348   \n",
       "2             True  mean absolute error          0.3730     0.362145   \n",
       "3             True  mean absolute error          0.3636     0.453923   \n",
       "4             True  mean absolute error          0.3602     0.393205   \n",
       "5             True  mean absolute error          0.3730     0.467184   \n",
       "6             True  mean absolute error          0.3782     0.468788   \n",
       "7             True  mean absolute error          0.3750     0.461453   \n",
       "8             True  mean absolute error          0.3798     0.470945   \n",
       "9             True  mean absolute error          0.3686     0.465039   \n",
       "10            True  mean absolute error          0.3814     0.466839   \n",
       "11            True  mean absolute error          0.3656     0.461956   \n",
       "12            True  mean absolute error          0.3856     0.473771   \n",
       "13            True  mean absolute error          0.3604     0.460827   \n",
       "14            True  mean absolute error          0.3698     0.463761   \n",
       "15            True  mean absolute error          0.3648     0.414117   \n",
       "16            True  mean absolute error          0.3708     0.430450   \n",
       "17            True  mean absolute error          0.3608     0.448981   \n",
       "18            True  mean absolute error          0.3758     0.465462   \n",
       "19            True  mean absolute error          0.3650     0.428149   \n",
       "20            True  mean absolute error          0.3712     0.459827   \n",
       "21            True  mean absolute error          0.3742     0.465478   \n",
       "22            True  mean absolute error          0.3692     0.444954   \n",
       "23            True  mean absolute error          0.3754     0.451377   \n",
       "24            True  mean absolute error          0.3916     0.397336   \n",
       "25            True  mean absolute error          0.1718     0.210127   \n",
       "26            True  mean absolute error          0.3638     0.454471   \n",
       "27            True  mean absolute error          0.3716     0.457618   \n",
       "28            True  mean absolute error          0.3702     0.409321   \n",
       "29            True  mean absolute error          0.3746     0.449144   \n",
       "30            True  mean absolute error          0.3686     0.436229   \n",
       "\n",
       "                                                model  \n",
       "0   DecisionTreeRegressor(ccp_alpha=0.0, criterion...  \n",
       "1   DecisionTreeRegressor(ccp_alpha=0.0, criterion...  \n",
       "2   DecisionTreeRegressor(ccp_alpha=0.0, criterion...  \n",
       "3   DecisionTreeRegressor(ccp_alpha=0.0, criterion...  \n",
       "4   DecisionTreeRegressor(ccp_alpha=0.0, criterion...  \n",
       "5   DecisionTreeRegressor(ccp_alpha=0.0, criterion...  \n",
       "6   DecisionTreeRegressor(ccp_alpha=0.0, criterion...  \n",
       "7   DecisionTreeRegressor(ccp_alpha=0.0, criterion...  \n",
       "8   DecisionTreeRegressor(ccp_alpha=0.0, criterion...  \n",
       "9   DecisionTreeRegressor(ccp_alpha=0.0, criterion...  \n",
       "10  DecisionTreeRegressor(ccp_alpha=0.0, criterion...  \n",
       "11  DecisionTreeRegressor(ccp_alpha=0.0, criterion...  \n",
       "12  DecisionTreeRegressor(ccp_alpha=0.0, criterion...  \n",
       "13  DecisionTreeRegressor(ccp_alpha=0.0, criterion...  \n",
       "14  DecisionTreeRegressor(ccp_alpha=0.0, criterion...  \n",
       "15  DecisionTreeRegressor(ccp_alpha=0.0, criterion...  \n",
       "16  DecisionTreeRegressor(ccp_alpha=0.0, criterion...  \n",
       "17  DecisionTreeRegressor(ccp_alpha=0.0, criterion...  \n",
       "18  DecisionTreeRegressor(ccp_alpha=0.0, criterion...  \n",
       "19  DecisionTreeRegressor(ccp_alpha=0.0, criterion...  \n",
       "20  DecisionTreeRegressor(ccp_alpha=0.0, criterion...  \n",
       "21  DecisionTreeRegressor(ccp_alpha=0.0, criterion...  \n",
       "22  DecisionTreeRegressor(ccp_alpha=0.0, criterion...  \n",
       "23  DecisionTreeRegressor(ccp_alpha=0.0, criterion...  \n",
       "24  DecisionTreeRegressor(ccp_alpha=0.0, criterion...  \n",
       "25  DecisionTreeRegressor(ccp_alpha=0.0, criterion...  \n",
       "26  DecisionTreeRegressor(ccp_alpha=0.0, criterion...  \n",
       "27  DecisionTreeRegressor(ccp_alpha=0.0, criterion...  \n",
       "28  DecisionTreeRegressor(ccp_alpha=0.0, criterion...  \n",
       "29  DecisionTreeRegressor(ccp_alpha=0.0, criterion...  \n",
       "30  DecisionTreeRegressor(ccp_alpha=0.0, criterion...  "
      ]
     },
     "execution_count": 28,
     "metadata": {},
     "output_type": "execute_result"
    }
   ],
   "source": [
    "predictors_df"
   ]
  },
  {
   "cell_type": "code",
   "execution_count": 31,
   "metadata": {
    "ExecuteTime": {
     "end_time": "2020-12-15T10:11:50.055278Z",
     "start_time": "2020-12-15T10:11:50.048348Z"
    }
   },
   "outputs": [],
   "source": [
    "import seaborn as sns"
   ]
  },
  {
   "cell_type": "code",
   "execution_count": 33,
   "metadata": {
    "ExecuteTime": {
     "end_time": "2020-12-15T10:12:26.097952Z",
     "start_time": "2020-12-15T10:12:24.580897Z"
    }
   },
   "outputs": [
    {
     "data": {
      "text/plain": [
       "<AxesSubplot:>"
      ]
     },
     "execution_count": 33,
     "metadata": {},
     "output_type": "execute_result"
    },
    {
     "data": {
      "image/png": "[encoded data removed]",
      "text/plain": [
       "<Figure size 864x720 with 2 Axes>"
      ]
     },
     "metadata": {
      "needs_background": "light"
     },
     "output_type": "display_data"
    }
   ],
   "source": [
    "# calculate the correlation matrix, show only significant correlation\n",
    "corr = df.corr()\n",
    "\n",
    "plt.figure(figsize=(12,10))\n",
    "# plot the heatmap\n",
    "sns.heatmap(corr[(corr >= 0.5) | (corr <= -0.4)], \n",
    "        xticklabels=corr.columns,\n",
    "        yticklabels=corr.columns\n",
    "           ,annot=True)"
   ]
  },
  {
   "cell_type": "code",
   "execution_count": 34,
   "metadata": {
    "ExecuteTime": {
     "end_time": "2020-12-15T10:12:41.365659Z",
     "start_time": "2020-12-15T10:12:41.293218Z"
    }
   },
   "outputs": [
    {
     "data": {
      "text/html": [
       "<div>\n",
       "<style scoped>\n",
       "    .dataframe tbody tr th:only-of-type {\n",
       "        vertical-align: middle;\n",
       "    }\n",
       "\n",
       "    .dataframe tbody tr th {\n",
       "        vertical-align: top;\n",
       "    }\n",
       "\n",
       "    .dataframe thead th {\n",
       "        text-align: right;\n",
       "    }\n",
       "</style>\n",
       "<table border=\"1\" class=\"dataframe\">\n",
       "  <thead>\n",
       "    <tr style=\"text-align: right;\">\n",
       "      <th></th>\n",
       "      <th>x</th>\n",
       "      <th>y</th>\n",
       "      <th>ppscore</th>\n",
       "      <th>case</th>\n",
       "      <th>is_valid_score</th>\n",
       "      <th>metric</th>\n",
       "      <th>baseline_score</th>\n",
       "      <th>model_score</th>\n",
       "      <th>model</th>\n",
       "    </tr>\n",
       "  </thead>\n",
       "  <tbody>\n",
       "    <tr>\n",
       "      <th>11</th>\n",
       "      <td>adults</td>\n",
       "      <td>is_canceled</td>\n",
       "      <td>0.0</td>\n",
       "      <td>regression</td>\n",
       "      <td>True</td>\n",
       "      <td>mean absolute error</td>\n",
       "      <td>0.3790</td>\n",
       "      <td>0.466422</td>\n",
       "      <td>DecisionTreeRegressor(ccp_alpha=0.0, criterion...</td>\n",
       "    </tr>\n",
       "    <tr>\n",
       "      <th>12</th>\n",
       "      <td>children</td>\n",
       "      <td>is_canceled</td>\n",
       "      <td>0.0</td>\n",
       "      <td>regression</td>\n",
       "      <td>True</td>\n",
       "      <td>mean absolute error</td>\n",
       "      <td>0.3586</td>\n",
       "      <td>0.459369</td>\n",
       "      <td>DecisionTreeRegressor(ccp_alpha=0.0, criterion...</td>\n",
       "    </tr>\n",
       "    <tr>\n",
       "      <th>13</th>\n",
       "      <td>babies</td>\n",
       "      <td>is_canceled</td>\n",
       "      <td>0.0</td>\n",
       "      <td>regression</td>\n",
       "      <td>True</td>\n",
       "      <td>mean absolute error</td>\n",
       "      <td>0.3638</td>\n",
       "      <td>0.462823</td>\n",
       "      <td>DecisionTreeRegressor(ccp_alpha=0.0, criterion...</td>\n",
       "    </tr>\n",
       "    <tr>\n",
       "      <th>14</th>\n",
       "      <td>meal</td>\n",
       "      <td>is_canceled</td>\n",
       "      <td>0.0</td>\n",
       "      <td>regression</td>\n",
       "      <td>True</td>\n",
       "      <td>mean absolute error</td>\n",
       "      <td>0.3742</td>\n",
       "      <td>0.467140</td>\n",
       "      <td>DecisionTreeRegressor(ccp_alpha=0.0, criterion...</td>\n",
       "    </tr>\n",
       "    <tr>\n",
       "      <th>15</th>\n",
       "      <td>country</td>\n",
       "      <td>is_canceled</td>\n",
       "      <td>0.0</td>\n",
       "      <td>regression</td>\n",
       "      <td>True</td>\n",
       "      <td>mean absolute error</td>\n",
       "      <td>0.3682</td>\n",
       "      <td>0.405439</td>\n",
       "      <td>DecisionTreeRegressor(ccp_alpha=0.0, criterion...</td>\n",
       "    </tr>\n",
       "    <tr>\n",
       "      <th>16</th>\n",
       "      <td>market_segment</td>\n",
       "      <td>is_canceled</td>\n",
       "      <td>0.0</td>\n",
       "      <td>regression</td>\n",
       "      <td>True</td>\n",
       "      <td>mean absolute error</td>\n",
       "      <td>0.3826</td>\n",
       "      <td>0.445396</td>\n",
       "      <td>DecisionTreeRegressor(ccp_alpha=0.0, criterion...</td>\n",
       "    </tr>\n",
       "    <tr>\n",
       "      <th>17</th>\n",
       "      <td>distribution_channel</td>\n",
       "      <td>is_canceled</td>\n",
       "      <td>0.0</td>\n",
       "      <td>regression</td>\n",
       "      <td>True</td>\n",
       "      <td>mean absolute error</td>\n",
       "      <td>0.3718</td>\n",
       "      <td>0.450067</td>\n",
       "      <td>DecisionTreeRegressor(ccp_alpha=0.0, criterion...</td>\n",
       "    </tr>\n",
       "    <tr>\n",
       "      <th>18</th>\n",
       "      <td>is_repeated_guest</td>\n",
       "      <td>is_canceled</td>\n",
       "      <td>0.0</td>\n",
       "      <td>regression</td>\n",
       "      <td>True</td>\n",
       "      <td>mean absolute error</td>\n",
       "      <td>0.3758</td>\n",
       "      <td>0.465736</td>\n",
       "      <td>DecisionTreeRegressor(ccp_alpha=0.0, criterion...</td>\n",
       "    </tr>\n",
       "    <tr>\n",
       "      <th>19</th>\n",
       "      <td>previous_cancellations</td>\n",
       "      <td>is_canceled</td>\n",
       "      <td>0.0</td>\n",
       "      <td>regression</td>\n",
       "      <td>True</td>\n",
       "      <td>mean absolute error</td>\n",
       "      <td>0.3726</td>\n",
       "      <td>0.432817</td>\n",
       "      <td>DecisionTreeRegressor(ccp_alpha=0.0, criterion...</td>\n",
       "    </tr>\n",
       "    <tr>\n",
       "      <th>20</th>\n",
       "      <td>previous_bookings_not_canceled</td>\n",
       "      <td>is_canceled</td>\n",
       "      <td>0.0</td>\n",
       "      <td>regression</td>\n",
       "      <td>True</td>\n",
       "      <td>mean absolute error</td>\n",
       "      <td>0.3726</td>\n",
       "      <td>0.462050</td>\n",
       "      <td>DecisionTreeRegressor(ccp_alpha=0.0, criterion...</td>\n",
       "    </tr>\n",
       "    <tr>\n",
       "      <th>21</th>\n",
       "      <td>reserved_room_type</td>\n",
       "      <td>is_canceled</td>\n",
       "      <td>0.0</td>\n",
       "      <td>regression</td>\n",
       "      <td>True</td>\n",
       "      <td>mean absolute error</td>\n",
       "      <td>0.3754</td>\n",
       "      <td>0.465124</td>\n",
       "      <td>DecisionTreeRegressor(ccp_alpha=0.0, criterion...</td>\n",
       "    </tr>\n",
       "    <tr>\n",
       "      <th>22</th>\n",
       "      <td>assigned_room_type</td>\n",
       "      <td>is_canceled</td>\n",
       "      <td>0.0</td>\n",
       "      <td>regression</td>\n",
       "      <td>True</td>\n",
       "      <td>mean absolute error</td>\n",
       "      <td>0.3684</td>\n",
       "      <td>0.446947</td>\n",
       "      <td>DecisionTreeRegressor(ccp_alpha=0.0, criterion...</td>\n",
       "    </tr>\n",
       "    <tr>\n",
       "      <th>23</th>\n",
       "      <td>booking_changes</td>\n",
       "      <td>is_canceled</td>\n",
       "      <td>0.0</td>\n",
       "      <td>regression</td>\n",
       "      <td>True</td>\n",
       "      <td>mean absolute error</td>\n",
       "      <td>0.3584</td>\n",
       "      <td>0.445320</td>\n",
       "      <td>DecisionTreeRegressor(ccp_alpha=0.0, criterion...</td>\n",
       "    </tr>\n",
       "    <tr>\n",
       "      <th>24</th>\n",
       "      <td>agent</td>\n",
       "      <td>is_canceled</td>\n",
       "      <td>0.0</td>\n",
       "      <td>regression</td>\n",
       "      <td>True</td>\n",
       "      <td>mean absolute error</td>\n",
       "      <td>0.3984</td>\n",
       "      <td>0.406997</td>\n",
       "      <td>DecisionTreeRegressor(ccp_alpha=0.0, criterion...</td>\n",
       "    </tr>\n",
       "    <tr>\n",
       "      <th>25</th>\n",
       "      <td>company</td>\n",
       "      <td>is_canceled</td>\n",
       "      <td>0.0</td>\n",
       "      <td>regression</td>\n",
       "      <td>True</td>\n",
       "      <td>mean absolute error</td>\n",
       "      <td>0.1716</td>\n",
       "      <td>0.215911</td>\n",
       "      <td>DecisionTreeRegressor(ccp_alpha=0.0, criterion...</td>\n",
       "    </tr>\n",
       "    <tr>\n",
       "      <th>26</th>\n",
       "      <td>days_in_waiting_list</td>\n",
       "      <td>is_canceled</td>\n",
       "      <td>0.0</td>\n",
       "      <td>regression</td>\n",
       "      <td>True</td>\n",
       "      <td>mean absolute error</td>\n",
       "      <td>0.3730</td>\n",
       "      <td>0.456926</td>\n",
       "      <td>DecisionTreeRegressor(ccp_alpha=0.0, criterion...</td>\n",
       "    </tr>\n",
       "    <tr>\n",
       "      <th>27</th>\n",
       "      <td>customer_type</td>\n",
       "      <td>is_canceled</td>\n",
       "      <td>0.0</td>\n",
       "      <td>regression</td>\n",
       "      <td>True</td>\n",
       "      <td>mean absolute error</td>\n",
       "      <td>0.3700</td>\n",
       "      <td>0.460422</td>\n",
       "      <td>DecisionTreeRegressor(ccp_alpha=0.0, criterion...</td>\n",
       "    </tr>\n",
       "    <tr>\n",
       "      <th>28</th>\n",
       "      <td>adr</td>\n",
       "      <td>is_canceled</td>\n",
       "      <td>0.0</td>\n",
       "      <td>regression</td>\n",
       "      <td>True</td>\n",
       "      <td>mean absolute error</td>\n",
       "      <td>0.3654</td>\n",
       "      <td>0.403143</td>\n",
       "      <td>DecisionTreeRegressor(ccp_alpha=0.0, criterion...</td>\n",
       "    </tr>\n",
       "    <tr>\n",
       "      <th>29</th>\n",
       "      <td>required_car_parking_spaces</td>\n",
       "      <td>is_canceled</td>\n",
       "      <td>0.0</td>\n",
       "      <td>regression</td>\n",
       "      <td>True</td>\n",
       "      <td>mean absolute error</td>\n",
       "      <td>0.3688</td>\n",
       "      <td>0.449218</td>\n",
       "      <td>DecisionTreeRegressor(ccp_alpha=0.0, criterion...</td>\n",
       "    </tr>\n",
       "    <tr>\n",
       "      <th>30</th>\n",
       "      <td>total_of_special_requests</td>\n",
       "      <td>is_canceled</td>\n",
       "      <td>0.0</td>\n",
       "      <td>regression</td>\n",
       "      <td>True</td>\n",
       "      <td>mean absolute error</td>\n",
       "      <td>0.3866</td>\n",
       "      <td>0.439904</td>\n",
       "      <td>DecisionTreeRegressor(ccp_alpha=0.0, criterion...</td>\n",
       "    </tr>\n",
       "  </tbody>\n",
       "</table>\n",
       "</div>"
      ],
      "text/plain": [
       "                                 x            y  ppscore        case  \\\n",
       "11                          adults  is_canceled      0.0  regression   \n",
       "12                        children  is_canceled      0.0  regression   \n",
       "13                          babies  is_canceled      0.0  regression   \n",
       "14                            meal  is_canceled      0.0  regression   \n",
       "15                         country  is_canceled      0.0  regression   \n",
       "16                  market_segment  is_canceled      0.0  regression   \n",
       "17            distribution_channel  is_canceled      0.0  regression   \n",
       "18               is_repeated_guest  is_canceled      0.0  regression   \n",
       "19          previous_cancellations  is_canceled      0.0  regression   \n",
       "20  previous_bookings_not_canceled  is_canceled      0.0  regression   \n",
       "21              reserved_room_type  is_canceled      0.0  regression   \n",
       "22              assigned_room_type  is_canceled      0.0  regression   \n",
       "23                 booking_changes  is_canceled      0.0  regression   \n",
       "24                           agent  is_canceled      0.0  regression   \n",
       "25                         company  is_canceled      0.0  regression   \n",
       "26            days_in_waiting_list  is_canceled      0.0  regression   \n",
       "27                   customer_type  is_canceled      0.0  regression   \n",
       "28                             adr  is_canceled      0.0  regression   \n",
       "29     required_car_parking_spaces  is_canceled      0.0  regression   \n",
       "30       total_of_special_requests  is_canceled      0.0  regression   \n",
       "\n",
       "    is_valid_score               metric  baseline_score  model_score  \\\n",
       "11            True  mean absolute error          0.3790     0.466422   \n",
       "12            True  mean absolute error          0.3586     0.459369   \n",
       "13            True  mean absolute error          0.3638     0.462823   \n",
       "14            True  mean absolute error          0.3742     0.467140   \n",
       "15            True  mean absolute error          0.3682     0.405439   \n",
       "16            True  mean absolute error          0.3826     0.445396   \n",
       "17            True  mean absolute error          0.3718     0.450067   \n",
       "18            True  mean absolute error          0.3758     0.465736   \n",
       "19            True  mean absolute error          0.3726     0.432817   \n",
       "20            True  mean absolute error          0.3726     0.462050   \n",
       "21            True  mean absolute error          0.3754     0.465124   \n",
       "22            True  mean absolute error          0.3684     0.446947   \n",
       "23            True  mean absolute error          0.3584     0.445320   \n",
       "24            True  mean absolute error          0.3984     0.406997   \n",
       "25            True  mean absolute error          0.1716     0.215911   \n",
       "26            True  mean absolute error          0.3730     0.456926   \n",
       "27            True  mean absolute error          0.3700     0.460422   \n",
       "28            True  mean absolute error          0.3654     0.403143   \n",
       "29            True  mean absolute error          0.3688     0.449218   \n",
       "30            True  mean absolute error          0.3866     0.439904   \n",
       "\n",
       "                                                model  \n",
       "11  DecisionTreeRegressor(ccp_alpha=0.0, criterion...  \n",
       "12  DecisionTreeRegressor(ccp_alpha=0.0, criterion...  \n",
       "13  DecisionTreeRegressor(ccp_alpha=0.0, criterion...  \n",
       "14  DecisionTreeRegressor(ccp_alpha=0.0, criterion...  \n",
       "15  DecisionTreeRegressor(ccp_alpha=0.0, criterion...  \n",
       "16  DecisionTreeRegressor(ccp_alpha=0.0, criterion...  \n",
       "17  DecisionTreeRegressor(ccp_alpha=0.0, criterion...  \n",
       "18  DecisionTreeRegressor(ccp_alpha=0.0, criterion...  \n",
       "19  DecisionTreeRegressor(ccp_alpha=0.0, criterion...  \n",
       "20  DecisionTreeRegressor(ccp_alpha=0.0, criterion...  \n",
       "21  DecisionTreeRegressor(ccp_alpha=0.0, criterion...  \n",
       "22  DecisionTreeRegressor(ccp_alpha=0.0, criterion...  \n",
       "23  DecisionTreeRegressor(ccp_alpha=0.0, criterion...  \n",
       "24  DecisionTreeRegressor(ccp_alpha=0.0, criterion...  \n",
       "25  DecisionTreeRegressor(ccp_alpha=0.0, criterion...  \n",
       "26  DecisionTreeRegressor(ccp_alpha=0.0, criterion...  \n",
       "27  DecisionTreeRegressor(ccp_alpha=0.0, criterion...  \n",
       "28  DecisionTreeRegressor(ccp_alpha=0.0, criterion...  \n",
       "29  DecisionTreeRegressor(ccp_alpha=0.0, criterion...  \n",
       "30  DecisionTreeRegressor(ccp_alpha=0.0, criterion...  "
      ]
     },
     "execution_count": 34,
     "metadata": {},
     "output_type": "execute_result"
    }
   ],
   "source": [
    "a[-20:]"
   ]
  },
  {
   "cell_type": "code",
   "execution_count": 35,
   "metadata": {
    "ExecuteTime": {
     "end_time": "2020-12-15T10:12:52.313488Z",
     "start_time": "2020-12-15T10:12:52.302019Z"
    }
   },
   "outputs": [
    {
     "data": {
      "text/plain": [
       "total_of_special_requests        -0.234658\n",
       "required_car_parking_spaces      -0.195498\n",
       "booking_changes                  -0.144381\n",
       "is_repeated_guest                -0.084793\n",
       "agent                            -0.083114\n",
       "previous_bookings_not_canceled   -0.057358\n",
       "babies                           -0.032491\n",
       "company                          -0.020642\n",
       "arrival_date_day_of_month        -0.006130\n",
       "stays_in_weekend_nights          -0.001791\n",
       "children                          0.005048\n",
       "arrival_date_week_number          0.008148\n",
       "arrival_date_year                 0.016660\n",
       "stays_in_week_nights              0.024765\n",
       "adr                               0.047557\n",
       "days_in_waiting_list              0.054186\n",
       "adults                            0.060017\n",
       "previous_cancellations            0.110133\n",
       "lead_time                         0.293123\n",
       "is_canceled                       1.000000\n",
       "Name: is_canceled, dtype: float64"
      ]
     },
     "execution_count": 35,
     "metadata": {},
     "output_type": "execute_result"
    }
   ],
   "source": [
    "corr.is_canceled.sort_values()[:20]"
   ]
  },
  {
   "cell_type": "markdown",
   "metadata": {},
   "source": [
    "corr.to_excel('corr.xlsx')"
   ]
  }
 ],
 "metadata": {
  "kernelspec": {
   "display_name": "Python 3",
   "language": "python",
   "name": "python3"
  },
  "language_info": {
   "codemirror_mode": {
    "name": "ipython",
    "version": 3
   },
   "file_extension": ".py",
   "mimetype": "text/x-python",
   "name": "python",
   "nbconvert_exporter": "python",
   "pygments_lexer": "ipython3",
   "version": "3.7.4"
  },
  "toc": {
   "base_numbering": 1,
   "nav_menu": {},
   "number_sections": true,
   "sideBar": true,
   "skip_h1_title": false,
   "title_cell": "Table of Contents",
   "title_sidebar": "Contents",
   "toc_cell": false,
   "toc_position": {
    "height": "calc(100% - 180px)",
    "left": "10px",
    "top": "150px",
    "width": "304.79998779296875px"
   },
   "toc_section_display": true,
   "toc_window_display": true
  }
 },
 "nbformat": 4,
 "nbformat_minor": 2
}
