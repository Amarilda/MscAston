{
  "nbformat": 4,
  "nbformat_minor": 0,
  "metadata": {
    "colab": {
      "name": "Literature.ipynb",
      "provenance": [],
      "collapsed_sections": [],
      "toc_visible": true,
      "authorship_tag": "ABX9TyN3CG76yJIQjV5BcXZLzgn3",
      "include_colab_link": true
    },
    "kernelspec": {
      "name": "python3",
      "display_name": "Python 3"
    },
    "language_info": {
      "name": "python"
    }
  },
  "cells": [
    {
      "cell_type": "markdown",
      "metadata": {
        "id": "view-in-github",
        "colab_type": "text"
      },
      "source": [
        "<a href=\"https://colab.research.google.com/github/Amarilda/MscAston/blob/master/Literature.ipynb\" target=\"_parent\"><img src=\"https://colab.research.google.com/assets/colab-badge.svg\" alt=\"Open In Colab\"/></a>"
      ]
    },
    {
      "cell_type": "markdown",
      "metadata": {
        "id": "Tet1BE4ARiTT"
      },
      "source": [
        "# **Efficient Market Hypothesis**\n",
        "\n",
        "1. **week** - historical data can predict\n",
        "2. **semi strong** - week+current public information\n",
        "3. **strong** - semi strong + insider information\n",
        "\n",
        "Fama, E.F., 1965. The behavior of stock-market prices. The journal of Business, 38(1), pp.34-105.\n",
        "\n",
        "**Cited by 13908**\n",
        "\n",
        "https://www.jstor.org/stable/pdf/2350752.pdf?casa_token=R7Uuhje4I2AAAAAA:pcdIgnH_8Whuy3iO2InIyrkETdNAig1GjHC6F9I4zMo-lfAata3cc54rjYtSkLCpo8pHDHmDt3CFdMzb2_Ws0HNf4V6WbLAPkUvEwMlg003ZkvFjzw"
      ]
    },
    {
      "cell_type": "markdown",
      "metadata": {
        "id": "Ebx74mf1Rird"
      },
      "source": [
        "# **Random walk**\n",
        "\n",
        "the random walk hypothesis states that stock prices do not depend on past stocks. Thus, these are not patterns to be exploited since the historical data\n",
        "do not reflect the pattern of the current stock price.\n",
        "\n",
        "\n",
        "Fama, E.F., 1995. Random walks in stock market prices. Financial analysts journal, 21(5), pp.55-59.\n",
        "\n",
        "**Cited by 2205**\n",
        "\n",
        "https://www.jstor.org/stable/pdf/4469865.pdf?casa_token=KYqQLxOnaYIAAAAA:B1d6CsGKN3YHtmGkHtN-kch2rdbAfpdAGmrVlagt-7b8VVS9Z5mPNpyo_LZK-9hiOX06ScNfvCeLOb8qayWipjXg2JL-wTib27mP4bmqDGWXV8Vltg\n"
      ]
    },
    {
      "cell_type": "markdown",
      "metadata": {
        "id": "ZcW6jI1wYyZ9"
      },
      "source": [
        "# **Technical Analysis**\n",
        "\n",
        "Technical analysis is a numerical time series approach to  predict stock markets based on historical data using charts as  the primary tool\n",
        "\n",
        "\n",
        "[6] M. J. Pring, “Technical Analysis Explained,” New York (NY),\n",
        "McGraw-Hill, 1991."
      ]
    },
    {
      "cell_type": "markdown",
      "metadata": {
        "id": "awYPTWq2ZElc"
      },
      "source": [
        "# **Fundamental Analysis**\n",
        "\n",
        "Fundamental analysis is  the study on the factors that affect supply and demand [7]. The  fundamental analysis states that information gathering and  interpretation is the main process to predict the stock price. The  trading opportunity of this analysis utilizes the gap between the  occurrence of an event and the market response to the event.  The important data that is used for fundamental analysis are  economic data of companies (such as annual and quarterly  reports), auditor’s reports, balance sheets, and income  statements. News also plays a role in fundamental analysis as  news also reflects the current supply and demand chain in the  market\n",
        "\n",
        "[6] M. J. Pring, “Technical Analysis Explained,” New York (NY),\n",
        "McGraw-Hill, 1991.\n",
        "\n",
        "Thomsett, M.C., 1998. Mastering fundamental analysis. Dearborn Trade Publishing.\n"
      ]
    },
    {
      "cell_type": "markdown",
      "metadata": {
        "id": "bqtn09ggbPPo"
      },
      "source": [
        "# **Review of Stock Market Prediction with Artificial  Neural Network (ANN)**\n",
        "\n",
        "These conventional approaches are now becoming  inferior due to the increase in the computational power where  computer can now analyze larger data set more accurately  within a shorter time. However, these approaches still act as the  base of new artificial intelligence approaches such as machine  learning, computational intelligence and others. In this paper  we will discuss some of the ANN approaches. In the next  section, the concept of ANN is briefly described. \n",
        "\n",
        "Vui, C.S., Soon, G.K., On, C.K., Alfred, R. and Anthony, P., 2013, November. A review of stock market prediction with Artificial neural network (ANN). In 2013 IEEE international conference on control system, computing and engineering (pp. 477-482). IEEE.\n",
        "\n",
        "**Cited by 79**\n",
        "\n",
        "https://www.academia.edu/download/49511010/A_review_of_stock_market_prediction_with20161010-27090-16d1osj.pdf\n",
        "\n"
      ]
    },
    {
      "cell_type": "markdown",
      "metadata": {
        "id": "08awV290PNAJ"
      },
      "source": [
        "# **Structured events**\n",
        "\n",
        "**(1)** Structured events are more useful representations compared to bags-of-words for the task of stock market prediction.\n",
        "**(2)** A deep neural network model can be more accurate on predicting the stock market compared to the linear model.\n",
        "**(3)** Our approach can achieve stable experiment\n",
        "results on S&P 500 index prediction and individual stock prediction over a large amount of data\n",
        "(eight years of stock prices and more than 550,000\n",
        "pieces of news).\n",
        "**(4)** The quality of information is more important than the quantity of information on the task\n",
        "of stock market prediction. That is to say that the\n",
        "most relevant information (i.e. news title vs news\n",
        "content, individual company news vs all news) is\n",
        "better than more, but less relevant information.\n",
        "\n",
        "Ding, X., Zhang, Y., Liu, T. and Duan, J., 2014, October. Using structured events to predict stock price movement: An empirical investigation. In Proceedings of the 2014 Conference on Empirical Methods in Natural Language Processing (EMNLP) (pp. 1415-1425).\n",
        "\n",
        "**Cited by 160**\n",
        "\n",
        "https://www.aclweb.org/anthology/D14-1148.pdf"
      ]
    },
    {
      "cell_type": "markdown",
      "metadata": {
        "id": "41tTFjHLUXpz"
      },
      "source": [
        "# **If there is no news on the company, modle cant predict**\n",
        "\n",
        "Ding, X., Zhang, Y., Liu, T. and Duan, J., 2015, June. Deep learning for event-driven stock prediction. In Twenty-fourth international joint conference on artificial intelligence.\n",
        "\n",
        "**Cited by 505**\n",
        "\n",
        "http://www.wins.or.kr/DataPool/Board/4xxxx/455xx/45587/329.pdf\n"
      ]
    }
  ]
}