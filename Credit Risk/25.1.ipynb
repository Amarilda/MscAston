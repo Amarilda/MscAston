{
 "cells": [
  {
   "cell_type": "markdown",
   "metadata": {},
   "source": [
    "### Load packages"
   ]
  },
  {
   "cell_type": "code",
   "execution_count": 1,
   "metadata": {},
   "outputs": [],
   "source": [
    "import pandas as pd\n",
    "import numpy as np\n",
    "import seaborn as sns\n",
    "import matplotlib.pyplot as plt\n",
    "import statsmodels.api as sm\n",
    "%matplotlib inline"
   ]
  },
  {
   "cell_type": "markdown",
   "metadata": {},
   "source": [
    "### 1. Load a dataset from a CSV file"
   ]
  },
  {
   "cell_type": "code",
   "execution_count": 2,
   "metadata": {},
   "outputs": [],
   "source": [
    "data = pd.read_csv(\"loanapp.csv\")"
   ]
  },
  {
   "cell_type": "code",
   "execution_count": 3,
   "metadata": {},
   "outputs": [
    {
     "data": {
      "text/plain": [
       "(1988, 18)"
      ]
     },
     "execution_count": 3,
     "metadata": {},
     "output_type": "execute_result"
    }
   ],
   "source": [
    "#Check structure and for nulls\n",
    "data.shape"
   ]
  },
  {
   "cell_type": "code",
   "execution_count": 4,
   "metadata": {},
   "outputs": [
    {
     "name": "stdout",
     "output_type": "stream",
     "text": [
      "<class 'pandas.core.frame.DataFrame'>\n",
      "RangeIndex: 1988 entries, 0 to 1987\n",
      "Data columns (total 18 columns):\n",
      "Unnamed: 0                 1988 non-null int64\n",
      "married                    1988 non-null object\n",
      "race                       1988 non-null object\n",
      "loan_decision              1988 non-null object\n",
      "occupancy                  1988 non-null int64\n",
      "loan_amount                1988 non-null int64\n",
      "applicant_income           1988 non-null int64\n",
      "num_units                  1988 non-null object\n",
      "num_dependants             1988 non-null object\n",
      "self_employed              1988 non-null bool\n",
      "monthly_income             1988 non-null int64\n",
      "purchase_price             1988 non-null float64\n",
      "liquid_assets              1988 non-null float64\n",
      "mortage_payment_history    1988 non-null int64\n",
      "consumer_credit_history    1988 non-null int64\n",
      "filed_bankruptcy           1988 non-null bool\n",
      "property_type              1988 non-null int64\n",
      "gender                     1988 non-null object\n",
      "dtypes: bool(2), float64(2), int64(8), object(6)\n",
      "memory usage: 252.5+ KB\n"
     ]
    }
   ],
   "source": [
    "data.info()"
   ]
  },
  {
   "cell_type": "markdown",
   "metadata": {},
   "source": [
    "There are 18 columns, 1988 rows in this data set"
   ]
  },
  {
   "cell_type": "code",
   "execution_count": 5,
   "metadata": {},
   "outputs": [
    {
     "data": {
      "text/plain": [
       "count    1988.000000\n",
       "mean      993.500000\n",
       "std       574.030487\n",
       "min         0.000000\n",
       "25%       496.750000\n",
       "50%       993.500000\n",
       "75%      1490.250000\n",
       "max      1987.000000\n",
       "Name: Unnamed: 0, dtype: float64"
      ]
     },
     "execution_count": 5,
     "metadata": {},
     "output_type": "execute_result"
    }
   ],
   "source": [
    "data['Unnamed: 0'].describe()"
   ]
  },
  {
   "cell_type": "code",
   "execution_count": 6,
   "metadata": {},
   "outputs": [
    {
     "data": {
      "text/plain": [
       "Index(['married', 'race', 'loan_decision', 'occupancy', 'loan_amount',\n",
       "       'applicant_income', 'num_units', 'num_dependants', 'self_employed',\n",
       "       'monthly_income', 'purchase_price', 'liquid_assets',\n",
       "       'mortage_payment_history', 'consumer_credit_history',\n",
       "       'filed_bankruptcy', 'property_type', 'gender'],\n",
       "      dtype='object')"
      ]
     },
     "execution_count": 6,
     "metadata": {},
     "output_type": "execute_result"
    }
   ],
   "source": [
    "#It appears that Unnamed: 0 is a index column, drop the index column, to not cloud analysis\n",
    "data = data.drop(['Unnamed: 0'], axis=1)\n",
    "data.columns"
   ]
  },
  {
   "cell_type": "code",
   "execution_count": 7,
   "metadata": {},
   "outputs": [
    {
     "data": {
      "text/html": [
       "<div>\n",
       "<style scoped>\n",
       "    .dataframe tbody tr th:only-of-type {\n",
       "        vertical-align: middle;\n",
       "    }\n",
       "\n",
       "    .dataframe tbody tr th {\n",
       "        vertical-align: top;\n",
       "    }\n",
       "\n",
       "    .dataframe thead th {\n",
       "        text-align: right;\n",
       "    }\n",
       "</style>\n",
       "<table border=\"1\" class=\"dataframe\">\n",
       "  <thead>\n",
       "    <tr style=\"text-align: right;\">\n",
       "      <th></th>\n",
       "      <th>married</th>\n",
       "      <th>race</th>\n",
       "      <th>loan_decision</th>\n",
       "      <th>occupancy</th>\n",
       "      <th>loan_amount</th>\n",
       "      <th>applicant_income</th>\n",
       "      <th>num_units</th>\n",
       "      <th>num_dependants</th>\n",
       "      <th>self_employed</th>\n",
       "      <th>monthly_income</th>\n",
       "      <th>purchase_price</th>\n",
       "      <th>liquid_assets</th>\n",
       "      <th>mortage_payment_history</th>\n",
       "      <th>consumer_credit_history</th>\n",
       "      <th>filed_bankruptcy</th>\n",
       "      <th>property_type</th>\n",
       "      <th>gender</th>\n",
       "    </tr>\n",
       "  </thead>\n",
       "  <tbody>\n",
       "    <tr>\n",
       "      <th>0</th>\n",
       "      <td>true</td>\n",
       "      <td>white</td>\n",
       "      <td>reject</td>\n",
       "      <td>1</td>\n",
       "      <td>128</td>\n",
       "      <td>74</td>\n",
       "      <td>1</td>\n",
       "      <td>1</td>\n",
       "      <td>False</td>\n",
       "      <td>4583</td>\n",
       "      <td>160.0</td>\n",
       "      <td>52.0</td>\n",
       "      <td>2</td>\n",
       "      <td>2</td>\n",
       "      <td>False</td>\n",
       "      <td>2</td>\n",
       "      <td>male</td>\n",
       "    </tr>\n",
       "    <tr>\n",
       "      <th>1</th>\n",
       "      <td>false</td>\n",
       "      <td>white</td>\n",
       "      <td>approve</td>\n",
       "      <td>1</td>\n",
       "      <td>128</td>\n",
       "      <td>84</td>\n",
       "      <td>1</td>\n",
       "      <td>0</td>\n",
       "      <td>False</td>\n",
       "      <td>2666</td>\n",
       "      <td>143.0</td>\n",
       "      <td>37.0</td>\n",
       "      <td>2</td>\n",
       "      <td>2</td>\n",
       "      <td>False</td>\n",
       "      <td>2</td>\n",
       "      <td>male</td>\n",
       "    </tr>\n",
       "    <tr>\n",
       "      <th>2</th>\n",
       "      <td>true</td>\n",
       "      <td>white</td>\n",
       "      <td>approve</td>\n",
       "      <td>1</td>\n",
       "      <td>66</td>\n",
       "      <td>36</td>\n",
       "      <td>1</td>\n",
       "      <td>0</td>\n",
       "      <td>True</td>\n",
       "      <td>3000</td>\n",
       "      <td>110.0</td>\n",
       "      <td>19.0</td>\n",
       "      <td>2</td>\n",
       "      <td>6</td>\n",
       "      <td>True</td>\n",
       "      <td>2</td>\n",
       "      <td>male</td>\n",
       "    </tr>\n",
       "    <tr>\n",
       "      <th>3</th>\n",
       "      <td>true</td>\n",
       "      <td>white</td>\n",
       "      <td>approve</td>\n",
       "      <td>1</td>\n",
       "      <td>120</td>\n",
       "      <td>59</td>\n",
       "      <td>1</td>\n",
       "      <td>0</td>\n",
       "      <td>False</td>\n",
       "      <td>2583</td>\n",
       "      <td>134.0</td>\n",
       "      <td>31.0</td>\n",
       "      <td>2</td>\n",
       "      <td>1</td>\n",
       "      <td>False</td>\n",
       "      <td>1</td>\n",
       "      <td>male</td>\n",
       "    </tr>\n",
       "    <tr>\n",
       "      <th>4</th>\n",
       "      <td>false</td>\n",
       "      <td>white</td>\n",
       "      <td>approve</td>\n",
       "      <td>1</td>\n",
       "      <td>111</td>\n",
       "      <td>63</td>\n",
       "      <td>1</td>\n",
       "      <td>0</td>\n",
       "      <td>False</td>\n",
       "      <td>2208</td>\n",
       "      <td>138.0</td>\n",
       "      <td>169.0</td>\n",
       "      <td>2</td>\n",
       "      <td>6</td>\n",
       "      <td>False</td>\n",
       "      <td>2</td>\n",
       "      <td>male</td>\n",
       "    </tr>\n",
       "  </tbody>\n",
       "</table>\n",
       "</div>"
      ],
      "text/plain": [
       "  married   race loan_decision  occupancy  loan_amount  applicant_income  \\\n",
       "0    true  white        reject          1          128                74   \n",
       "1   false  white       approve          1          128                84   \n",
       "2    true  white       approve          1           66                36   \n",
       "3    true  white       approve          1          120                59   \n",
       "4   false  white       approve          1          111                63   \n",
       "\n",
       "  num_units num_dependants  self_employed  monthly_income  purchase_price  \\\n",
       "0         1              1          False            4583           160.0   \n",
       "1         1              0          False            2666           143.0   \n",
       "2         1              0           True            3000           110.0   \n",
       "3         1              0          False            2583           134.0   \n",
       "4         1              0          False            2208           138.0   \n",
       "\n",
       "   liquid_assets  mortage_payment_history  consumer_credit_history  \\\n",
       "0           52.0                        2                        2   \n",
       "1           37.0                        2                        2   \n",
       "2           19.0                        2                        6   \n",
       "3           31.0                        2                        1   \n",
       "4          169.0                        2                        6   \n",
       "\n",
       "   filed_bankruptcy  property_type gender  \n",
       "0             False              2   male  \n",
       "1             False              2   male  \n",
       "2              True              2   male  \n",
       "3             False              1   male  \n",
       "4             False              2   male  "
      ]
     },
     "execution_count": 7,
     "metadata": {},
     "output_type": "execute_result"
    }
   ],
   "source": [
    "#Check sample data\n",
    "data.head()"
   ]
  },
  {
   "cell_type": "code",
   "execution_count": 8,
   "metadata": {},
   "outputs": [],
   "source": [
    "# add helper column\n",
    "data['count'] = 1"
   ]
  },
  {
   "cell_type": "code",
   "execution_count": 9,
   "metadata": {},
   "outputs": [
    {
     "name": "stdout",
     "output_type": "stream",
     "text": [
      "Number of Numerical features:  12\n",
      "Number of Categorical features:  6\n"
     ]
    }
   ],
   "source": [
    "numerical_feats = data.dtypes[data.dtypes != \"object\"].index\n",
    "print(\"Number of Numerical features: \", len(numerical_feats))\n",
    "\n",
    "categorical_feats = data.dtypes[data.dtypes == \"object\"].index\n",
    "print(\"Number of Categorical features: \", len(categorical_feats))"
   ]
  },
  {
   "cell_type": "code",
   "execution_count": 10,
   "metadata": {},
   "outputs": [
    {
     "name": "stdout",
     "output_type": "stream",
     "text": [
      "These are numerical features: \n",
      "Index(['occupancy', 'loan_amount', 'applicant_income', 'self_employed',\n",
      "       'monthly_income', 'purchase_price', 'liquid_assets',\n",
      "       'mortage_payment_history', 'consumer_credit_history',\n",
      "       'filed_bankruptcy', 'property_type', 'count'],\n",
      "      dtype='object')\n"
     ]
    }
   ],
   "source": [
    "print(\"These are numerical features: \")\n",
    "print(data[numerical_feats].columns)"
   ]
  },
  {
   "cell_type": "code",
   "execution_count": 11,
   "metadata": {},
   "outputs": [
    {
     "name": "stdout",
     "output_type": "stream",
     "text": [
      "These are categorical features: \n",
      "Index(['married', 'race', 'loan_decision', 'num_units', 'num_dependants',\n",
      "       'gender'],\n",
      "      dtype='object')\n"
     ]
    }
   ],
   "source": [
    "print(\"These are categorical features: \")\n",
    "print(data[categorical_feats].columns)"
   ]
  },
  {
   "cell_type": "code",
   "execution_count": 12,
   "metadata": {},
   "outputs": [
    {
     "data": {
      "text/html": [
       "<div>\n",
       "<style scoped>\n",
       "    .dataframe tbody tr th:only-of-type {\n",
       "        vertical-align: middle;\n",
       "    }\n",
       "\n",
       "    .dataframe tbody tr th {\n",
       "        vertical-align: top;\n",
       "    }\n",
       "\n",
       "    .dataframe thead th {\n",
       "        text-align: right;\n",
       "    }\n",
       "</style>\n",
       "<table border=\"1\" class=\"dataframe\">\n",
       "  <thead>\n",
       "    <tr style=\"text-align: right;\">\n",
       "      <th></th>\n",
       "      <th>occupancy</th>\n",
       "      <th>loan_amount</th>\n",
       "      <th>applicant_income</th>\n",
       "      <th>self_employed</th>\n",
       "      <th>monthly_income</th>\n",
       "      <th>purchase_price</th>\n",
       "      <th>liquid_assets</th>\n",
       "      <th>mortage_payment_history</th>\n",
       "      <th>consumer_credit_history</th>\n",
       "      <th>filed_bankruptcy</th>\n",
       "      <th>property_type</th>\n",
       "      <th>count</th>\n",
       "    </tr>\n",
       "  </thead>\n",
       "  <tbody>\n",
       "    <tr>\n",
       "      <th>0</th>\n",
       "      <td>1</td>\n",
       "      <td>128</td>\n",
       "      <td>74</td>\n",
       "      <td>False</td>\n",
       "      <td>4583</td>\n",
       "      <td>160.0</td>\n",
       "      <td>52.0</td>\n",
       "      <td>2</td>\n",
       "      <td>2</td>\n",
       "      <td>False</td>\n",
       "      <td>2</td>\n",
       "      <td>1</td>\n",
       "    </tr>\n",
       "    <tr>\n",
       "      <th>1</th>\n",
       "      <td>1</td>\n",
       "      <td>128</td>\n",
       "      <td>84</td>\n",
       "      <td>False</td>\n",
       "      <td>2666</td>\n",
       "      <td>143.0</td>\n",
       "      <td>37.0</td>\n",
       "      <td>2</td>\n",
       "      <td>2</td>\n",
       "      <td>False</td>\n",
       "      <td>2</td>\n",
       "      <td>1</td>\n",
       "    </tr>\n",
       "    <tr>\n",
       "      <th>2</th>\n",
       "      <td>1</td>\n",
       "      <td>66</td>\n",
       "      <td>36</td>\n",
       "      <td>True</td>\n",
       "      <td>3000</td>\n",
       "      <td>110.0</td>\n",
       "      <td>19.0</td>\n",
       "      <td>2</td>\n",
       "      <td>6</td>\n",
       "      <td>True</td>\n",
       "      <td>2</td>\n",
       "      <td>1</td>\n",
       "    </tr>\n",
       "    <tr>\n",
       "      <th>3</th>\n",
       "      <td>1</td>\n",
       "      <td>120</td>\n",
       "      <td>59</td>\n",
       "      <td>False</td>\n",
       "      <td>2583</td>\n",
       "      <td>134.0</td>\n",
       "      <td>31.0</td>\n",
       "      <td>2</td>\n",
       "      <td>1</td>\n",
       "      <td>False</td>\n",
       "      <td>1</td>\n",
       "      <td>1</td>\n",
       "    </tr>\n",
       "    <tr>\n",
       "      <th>4</th>\n",
       "      <td>1</td>\n",
       "      <td>111</td>\n",
       "      <td>63</td>\n",
       "      <td>False</td>\n",
       "      <td>2208</td>\n",
       "      <td>138.0</td>\n",
       "      <td>169.0</td>\n",
       "      <td>2</td>\n",
       "      <td>6</td>\n",
       "      <td>False</td>\n",
       "      <td>2</td>\n",
       "      <td>1</td>\n",
       "    </tr>\n",
       "  </tbody>\n",
       "</table>\n",
       "</div>"
      ],
      "text/plain": [
       "   occupancy  loan_amount  applicant_income  self_employed  monthly_income  \\\n",
       "0          1          128                74          False            4583   \n",
       "1          1          128                84          False            2666   \n",
       "2          1           66                36           True            3000   \n",
       "3          1          120                59          False            2583   \n",
       "4          1          111                63          False            2208   \n",
       "\n",
       "   purchase_price  liquid_assets  mortage_payment_history  \\\n",
       "0           160.0           52.0                        2   \n",
       "1           143.0           37.0                        2   \n",
       "2           110.0           19.0                        2   \n",
       "3           134.0           31.0                        2   \n",
       "4           138.0          169.0                        2   \n",
       "\n",
       "   consumer_credit_history  filed_bankruptcy  property_type  count  \n",
       "0                        2             False              2      1  \n",
       "1                        2             False              2      1  \n",
       "2                        6              True              2      1  \n",
       "3                        1             False              1      1  \n",
       "4                        6             False              2      1  "
      ]
     },
     "execution_count": 12,
     "metadata": {},
     "output_type": "execute_result"
    }
   ],
   "source": [
    "#Retrieve sample of numerical features\n",
    "data[numerical_feats].head()"
   ]
  },
  {
   "cell_type": "code",
   "execution_count": 13,
   "metadata": {},
   "outputs": [
    {
     "data": {
      "text/html": [
       "<div>\n",
       "<style scoped>\n",
       "    .dataframe tbody tr th:only-of-type {\n",
       "        vertical-align: middle;\n",
       "    }\n",
       "\n",
       "    .dataframe tbody tr th {\n",
       "        vertical-align: top;\n",
       "    }\n",
       "\n",
       "    .dataframe thead th {\n",
       "        text-align: right;\n",
       "    }\n",
       "</style>\n",
       "<table border=\"1\" class=\"dataframe\">\n",
       "  <thead>\n",
       "    <tr style=\"text-align: right;\">\n",
       "      <th></th>\n",
       "      <th>married</th>\n",
       "      <th>race</th>\n",
       "      <th>loan_decision</th>\n",
       "      <th>num_units</th>\n",
       "      <th>num_dependants</th>\n",
       "      <th>gender</th>\n",
       "    </tr>\n",
       "  </thead>\n",
       "  <tbody>\n",
       "    <tr>\n",
       "      <th>0</th>\n",
       "      <td>true</td>\n",
       "      <td>white</td>\n",
       "      <td>reject</td>\n",
       "      <td>1</td>\n",
       "      <td>1</td>\n",
       "      <td>male</td>\n",
       "    </tr>\n",
       "    <tr>\n",
       "      <th>1</th>\n",
       "      <td>false</td>\n",
       "      <td>white</td>\n",
       "      <td>approve</td>\n",
       "      <td>1</td>\n",
       "      <td>0</td>\n",
       "      <td>male</td>\n",
       "    </tr>\n",
       "    <tr>\n",
       "      <th>2</th>\n",
       "      <td>true</td>\n",
       "      <td>white</td>\n",
       "      <td>approve</td>\n",
       "      <td>1</td>\n",
       "      <td>0</td>\n",
       "      <td>male</td>\n",
       "    </tr>\n",
       "    <tr>\n",
       "      <th>3</th>\n",
       "      <td>true</td>\n",
       "      <td>white</td>\n",
       "      <td>approve</td>\n",
       "      <td>1</td>\n",
       "      <td>0</td>\n",
       "      <td>male</td>\n",
       "    </tr>\n",
       "    <tr>\n",
       "      <th>4</th>\n",
       "      <td>false</td>\n",
       "      <td>white</td>\n",
       "      <td>approve</td>\n",
       "      <td>1</td>\n",
       "      <td>0</td>\n",
       "      <td>male</td>\n",
       "    </tr>\n",
       "  </tbody>\n",
       "</table>\n",
       "</div>"
      ],
      "text/plain": [
       "  married   race loan_decision num_units num_dependants gender\n",
       "0    true  white        reject         1              1   male\n",
       "1   false  white       approve         1              0   male\n",
       "2    true  white       approve         1              0   male\n",
       "3    true  white       approve         1              0   male\n",
       "4   false  white       approve         1              0   male"
      ]
     },
     "execution_count": 13,
     "metadata": {},
     "output_type": "execute_result"
    }
   ],
   "source": [
    "#retrieve sample of categorical features\n",
    "data[categorical_feats].head()"
   ]
  },
  {
   "cell_type": "markdown",
   "metadata": {},
   "source": [
    "#### Num_units & num_dependents should be numeric, have_dependents could be categorical \n",
    "#### (as person would have different financial situation with or without dependents)\n",
    "\n",
    "#### Self_employed & filed_bankruptcy should be categorical "
   ]
  },
  {
   "cell_type": "markdown",
   "metadata": {},
   "source": [
    "## Check unique values for columns and tranfer text to values\n",
    "\n",
    "With linear regression as end goal, make categorical features in numerical categories"
   ]
  },
  {
   "cell_type": "code",
   "execution_count": 14,
   "metadata": {},
   "outputs": [
    {
     "data": {
      "text/plain": [
       "array([False,  True])"
      ]
     },
     "execution_count": 14,
     "metadata": {},
     "output_type": "execute_result"
    }
   ],
   "source": [
    "# retrieve unique values\n",
    "data.filed_bankruptcy.unique()"
   ]
  },
  {
   "cell_type": "code",
   "execution_count": 15,
   "metadata": {},
   "outputs": [
    {
     "data": {
      "text/plain": [
       "array([False,  True])"
      ]
     },
     "execution_count": 15,
     "metadata": {},
     "output_type": "execute_result"
    }
   ],
   "source": [
    "# retrieve unique values\n",
    "data.self_employed.unique()"
   ]
  },
  {
   "cell_type": "code",
   "execution_count": 16,
   "metadata": {},
   "outputs": [],
   "source": [
    "#Function to change True/False to 1/0\n",
    "\n",
    "def Liking(x):\n",
    "    if str.lower(str(x)) == \"true\":\n",
    "        return 1\n",
    "    else:\n",
    "        return 0 "
   ]
  },
  {
   "cell_type": "code",
   "execution_count": 17,
   "metadata": {},
   "outputs": [],
   "source": [
    "#Traspose True/False to 1/0\n",
    "data['self_employed'] =  data.self_employed.apply(Liking)"
   ]
  },
  {
   "cell_type": "code",
   "execution_count": 18,
   "metadata": {},
   "outputs": [],
   "source": [
    "#Traspose True/False to 1/0\n",
    "data['filed_bankruptcy'] =  data.filed_bankruptcy.apply(Liking)"
   ]
  },
  {
   "cell_type": "code",
   "execution_count": 19,
   "metadata": {},
   "outputs": [
    {
     "data": {
      "text/plain": [
       "array(['reject', 'approve'], dtype=object)"
      ]
     },
     "execution_count": 19,
     "metadata": {},
     "output_type": "execute_result"
    }
   ],
   "source": [
    "# retrieve unique values\n",
    "data.loan_decision.unique()"
   ]
  },
  {
   "cell_type": "code",
   "execution_count": 20,
   "metadata": {},
   "outputs": [],
   "source": [
    "#Function to traspose Approve/reject to 1/0\n",
    "\n",
    "def SeekingApproval(x):\n",
    "    if str.lower(str(x)) == \"approve\":\n",
    "        return 1\n",
    "    else:\n",
    "        return 0 "
   ]
  },
  {
   "cell_type": "code",
   "execution_count": 21,
   "metadata": {},
   "outputs": [],
   "source": [
    "#Function to traspose Approve/reject to 1/0\n",
    "data['loan_decision'] =  data.loan_decision.apply(SeekingApproval)"
   ]
  },
  {
   "cell_type": "code",
   "execution_count": 22,
   "metadata": {},
   "outputs": [
    {
     "data": {
      "text/plain": [
       "array(['white', 'black', 'hispan'], dtype=object)"
      ]
     },
     "execution_count": 22,
     "metadata": {},
     "output_type": "execute_result"
    }
   ],
   "source": [
    "# retrieve unique values\n",
    "data.race.unique()"
   ]
  },
  {
   "cell_type": "code",
   "execution_count": 23,
   "metadata": {},
   "outputs": [
    {
     "data": {
      "text/html": [
       "<div>\n",
       "<style scoped>\n",
       "    .dataframe tbody tr th:only-of-type {\n",
       "        vertical-align: middle;\n",
       "    }\n",
       "\n",
       "    .dataframe tbody tr th {\n",
       "        vertical-align: top;\n",
       "    }\n",
       "\n",
       "    .dataframe thead th {\n",
       "        text-align: right;\n",
       "    }\n",
       "</style>\n",
       "<table border=\"1\" class=\"dataframe\">\n",
       "  <thead>\n",
       "    <tr style=\"text-align: right;\">\n",
       "      <th></th>\n",
       "      <th>black</th>\n",
       "      <th>hispan</th>\n",
       "      <th>white</th>\n",
       "    </tr>\n",
       "  </thead>\n",
       "  <tbody>\n",
       "    <tr>\n",
       "      <th>0</th>\n",
       "      <td>0</td>\n",
       "      <td>0</td>\n",
       "      <td>1</td>\n",
       "    </tr>\n",
       "    <tr>\n",
       "      <th>1</th>\n",
       "      <td>0</td>\n",
       "      <td>0</td>\n",
       "      <td>1</td>\n",
       "    </tr>\n",
       "    <tr>\n",
       "      <th>2</th>\n",
       "      <td>0</td>\n",
       "      <td>0</td>\n",
       "      <td>1</td>\n",
       "    </tr>\n",
       "    <tr>\n",
       "      <th>3</th>\n",
       "      <td>0</td>\n",
       "      <td>0</td>\n",
       "      <td>1</td>\n",
       "    </tr>\n",
       "    <tr>\n",
       "      <th>4</th>\n",
       "      <td>0</td>\n",
       "      <td>0</td>\n",
       "      <td>1</td>\n",
       "    </tr>\n",
       "  </tbody>\n",
       "</table>\n",
       "</div>"
      ],
      "text/plain": [
       "   black  hispan  white\n",
       "0      0       0      1\n",
       "1      0       0      1\n",
       "2      0       0      1\n",
       "3      0       0      1\n",
       "4      0       0      1"
      ]
     },
     "execution_count": 23,
     "metadata": {},
     "output_type": "execute_result"
    }
   ],
   "source": [
    "# Encoding race to 0,1,2 would immply that one race is twice as other. Create seperate columns for each race\n",
    "from sklearn.preprocessing import LabelBinarizer\n",
    "lb_style = LabelBinarizer()\n",
    "lb_results = lb_style.fit_transform(data[\"race\"])\n",
    "RaceA =pd.DataFrame(lb_results, columns=lb_style.classes_)\n",
    "RaceA.head()"
   ]
  },
  {
   "cell_type": "code",
   "execution_count": 24,
   "metadata": {},
   "outputs": [
    {
     "data": {
      "text/html": [
       "<div>\n",
       "<style scoped>\n",
       "    .dataframe tbody tr th:only-of-type {\n",
       "        vertical-align: middle;\n",
       "    }\n",
       "\n",
       "    .dataframe tbody tr th {\n",
       "        vertical-align: top;\n",
       "    }\n",
       "\n",
       "    .dataframe thead th {\n",
       "        text-align: right;\n",
       "    }\n",
       "</style>\n",
       "<table border=\"1\" class=\"dataframe\">\n",
       "  <thead>\n",
       "    <tr style=\"text-align: right;\">\n",
       "      <th></th>\n",
       "      <th>married</th>\n",
       "      <th>race</th>\n",
       "      <th>loan_decision</th>\n",
       "      <th>occupancy</th>\n",
       "      <th>loan_amount</th>\n",
       "      <th>applicant_income</th>\n",
       "      <th>num_units</th>\n",
       "      <th>num_dependants</th>\n",
       "      <th>self_employed</th>\n",
       "      <th>monthly_income</th>\n",
       "      <th>...</th>\n",
       "      <th>liquid_assets</th>\n",
       "      <th>mortage_payment_history</th>\n",
       "      <th>consumer_credit_history</th>\n",
       "      <th>filed_bankruptcy</th>\n",
       "      <th>property_type</th>\n",
       "      <th>gender</th>\n",
       "      <th>count</th>\n",
       "      <th>black</th>\n",
       "      <th>hispan</th>\n",
       "      <th>white</th>\n",
       "    </tr>\n",
       "  </thead>\n",
       "  <tbody>\n",
       "    <tr>\n",
       "      <th>0</th>\n",
       "      <td>true</td>\n",
       "      <td>white</td>\n",
       "      <td>0</td>\n",
       "      <td>1</td>\n",
       "      <td>128</td>\n",
       "      <td>74</td>\n",
       "      <td>1</td>\n",
       "      <td>1</td>\n",
       "      <td>0</td>\n",
       "      <td>4583</td>\n",
       "      <td>...</td>\n",
       "      <td>52.0</td>\n",
       "      <td>2</td>\n",
       "      <td>2</td>\n",
       "      <td>0</td>\n",
       "      <td>2</td>\n",
       "      <td>male</td>\n",
       "      <td>1</td>\n",
       "      <td>0</td>\n",
       "      <td>0</td>\n",
       "      <td>1</td>\n",
       "    </tr>\n",
       "    <tr>\n",
       "      <th>1</th>\n",
       "      <td>false</td>\n",
       "      <td>white</td>\n",
       "      <td>1</td>\n",
       "      <td>1</td>\n",
       "      <td>128</td>\n",
       "      <td>84</td>\n",
       "      <td>1</td>\n",
       "      <td>0</td>\n",
       "      <td>0</td>\n",
       "      <td>2666</td>\n",
       "      <td>...</td>\n",
       "      <td>37.0</td>\n",
       "      <td>2</td>\n",
       "      <td>2</td>\n",
       "      <td>0</td>\n",
       "      <td>2</td>\n",
       "      <td>male</td>\n",
       "      <td>1</td>\n",
       "      <td>0</td>\n",
       "      <td>0</td>\n",
       "      <td>1</td>\n",
       "    </tr>\n",
       "    <tr>\n",
       "      <th>2</th>\n",
       "      <td>true</td>\n",
       "      <td>white</td>\n",
       "      <td>1</td>\n",
       "      <td>1</td>\n",
       "      <td>66</td>\n",
       "      <td>36</td>\n",
       "      <td>1</td>\n",
       "      <td>0</td>\n",
       "      <td>1</td>\n",
       "      <td>3000</td>\n",
       "      <td>...</td>\n",
       "      <td>19.0</td>\n",
       "      <td>2</td>\n",
       "      <td>6</td>\n",
       "      <td>1</td>\n",
       "      <td>2</td>\n",
       "      <td>male</td>\n",
       "      <td>1</td>\n",
       "      <td>0</td>\n",
       "      <td>0</td>\n",
       "      <td>1</td>\n",
       "    </tr>\n",
       "    <tr>\n",
       "      <th>3</th>\n",
       "      <td>true</td>\n",
       "      <td>white</td>\n",
       "      <td>1</td>\n",
       "      <td>1</td>\n",
       "      <td>120</td>\n",
       "      <td>59</td>\n",
       "      <td>1</td>\n",
       "      <td>0</td>\n",
       "      <td>0</td>\n",
       "      <td>2583</td>\n",
       "      <td>...</td>\n",
       "      <td>31.0</td>\n",
       "      <td>2</td>\n",
       "      <td>1</td>\n",
       "      <td>0</td>\n",
       "      <td>1</td>\n",
       "      <td>male</td>\n",
       "      <td>1</td>\n",
       "      <td>0</td>\n",
       "      <td>0</td>\n",
       "      <td>1</td>\n",
       "    </tr>\n",
       "    <tr>\n",
       "      <th>4</th>\n",
       "      <td>false</td>\n",
       "      <td>white</td>\n",
       "      <td>1</td>\n",
       "      <td>1</td>\n",
       "      <td>111</td>\n",
       "      <td>63</td>\n",
       "      <td>1</td>\n",
       "      <td>0</td>\n",
       "      <td>0</td>\n",
       "      <td>2208</td>\n",
       "      <td>...</td>\n",
       "      <td>169.0</td>\n",
       "      <td>2</td>\n",
       "      <td>6</td>\n",
       "      <td>0</td>\n",
       "      <td>2</td>\n",
       "      <td>male</td>\n",
       "      <td>1</td>\n",
       "      <td>0</td>\n",
       "      <td>0</td>\n",
       "      <td>1</td>\n",
       "    </tr>\n",
       "  </tbody>\n",
       "</table>\n",
       "<p>5 rows × 21 columns</p>\n",
       "</div>"
      ],
      "text/plain": [
       "  married   race  loan_decision  occupancy  loan_amount  applicant_income  \\\n",
       "0    true  white              0          1          128                74   \n",
       "1   false  white              1          1          128                84   \n",
       "2    true  white              1          1           66                36   \n",
       "3    true  white              1          1          120                59   \n",
       "4   false  white              1          1          111                63   \n",
       "\n",
       "  num_units num_dependants  self_employed  monthly_income  ...    \\\n",
       "0         1              1              0            4583  ...     \n",
       "1         1              0              0            2666  ...     \n",
       "2         1              0              1            3000  ...     \n",
       "3         1              0              0            2583  ...     \n",
       "4         1              0              0            2208  ...     \n",
       "\n",
       "   liquid_assets  mortage_payment_history  consumer_credit_history  \\\n",
       "0           52.0                        2                        2   \n",
       "1           37.0                        2                        2   \n",
       "2           19.0                        2                        6   \n",
       "3           31.0                        2                        1   \n",
       "4          169.0                        2                        6   \n",
       "\n",
       "   filed_bankruptcy  property_type  gender count  black  hispan  white  \n",
       "0                 0              2    male     1      0       0      1  \n",
       "1                 0              2    male     1      0       0      1  \n",
       "2                 1              2    male     1      0       0      1  \n",
       "3                 0              1    male     1      0       0      1  \n",
       "4                 0              2    male     1      0       0      1  \n",
       "\n",
       "[5 rows x 21 columns]"
      ]
     },
     "execution_count": 24,
     "metadata": {},
     "output_type": "execute_result"
    }
   ],
   "source": [
    "#Join results back to data frame\n",
    "data = data.join(RaceA)\n",
    "data.head()"
   ]
  },
  {
   "cell_type": "code",
   "execution_count": 25,
   "metadata": {},
   "outputs": [
    {
     "data": {
      "text/plain": [
       "array(['true', 'false', '.'], dtype=object)"
      ]
     },
     "execution_count": 25,
     "metadata": {},
     "output_type": "execute_result"
    }
   ],
   "source": [
    "# retrieve unique values\n",
    "data.married.unique()"
   ]
  },
  {
   "cell_type": "code",
   "execution_count": 26,
   "metadata": {},
   "outputs": [
    {
     "data": {
      "text/html": [
       "<div>\n",
       "<style scoped>\n",
       "    .dataframe tbody tr th:only-of-type {\n",
       "        vertical-align: middle;\n",
       "    }\n",
       "\n",
       "    .dataframe tbody tr th {\n",
       "        vertical-align: top;\n",
       "    }\n",
       "\n",
       "    .dataframe thead th {\n",
       "        text-align: right;\n",
       "    }\n",
       "</style>\n",
       "<table border=\"1\" class=\"dataframe\">\n",
       "  <thead>\n",
       "    <tr style=\"text-align: right;\">\n",
       "      <th></th>\n",
       "      <th>married</th>\n",
       "      <th>race</th>\n",
       "      <th>loan_decision</th>\n",
       "      <th>occupancy</th>\n",
       "      <th>loan_amount</th>\n",
       "      <th>applicant_income</th>\n",
       "      <th>num_units</th>\n",
       "      <th>num_dependants</th>\n",
       "      <th>self_employed</th>\n",
       "      <th>monthly_income</th>\n",
       "      <th>...</th>\n",
       "      <th>liquid_assets</th>\n",
       "      <th>mortage_payment_history</th>\n",
       "      <th>consumer_credit_history</th>\n",
       "      <th>filed_bankruptcy</th>\n",
       "      <th>property_type</th>\n",
       "      <th>gender</th>\n",
       "      <th>count</th>\n",
       "      <th>black</th>\n",
       "      <th>hispan</th>\n",
       "      <th>white</th>\n",
       "    </tr>\n",
       "  </thead>\n",
       "  <tbody>\n",
       "    <tr>\n",
       "      <th>354</th>\n",
       "      <td>.</td>\n",
       "      <td>hispan</td>\n",
       "      <td>1</td>\n",
       "      <td>1</td>\n",
       "      <td>160</td>\n",
       "      <td>60</td>\n",
       "      <td>2</td>\n",
       "      <td>.</td>\n",
       "      <td>0</td>\n",
       "      <td>3816</td>\n",
       "      <td>...</td>\n",
       "      <td>39.0</td>\n",
       "      <td>2</td>\n",
       "      <td>6</td>\n",
       "      <td>1</td>\n",
       "      <td>3</td>\n",
       "      <td>male</td>\n",
       "      <td>1</td>\n",
       "      <td>0</td>\n",
       "      <td>1</td>\n",
       "      <td>0</td>\n",
       "    </tr>\n",
       "    <tr>\n",
       "      <th>757</th>\n",
       "      <td>.</td>\n",
       "      <td>white</td>\n",
       "      <td>1</td>\n",
       "      <td>1</td>\n",
       "      <td>158</td>\n",
       "      <td>50</td>\n",
       "      <td>.</td>\n",
       "      <td>.</td>\n",
       "      <td>0</td>\n",
       "      <td>4758</td>\n",
       "      <td>...</td>\n",
       "      <td>13.0</td>\n",
       "      <td>2</td>\n",
       "      <td>1</td>\n",
       "      <td>1</td>\n",
       "      <td>1</td>\n",
       "      <td>male</td>\n",
       "      <td>1</td>\n",
       "      <td>0</td>\n",
       "      <td>0</td>\n",
       "      <td>1</td>\n",
       "    </tr>\n",
       "    <tr>\n",
       "      <th>1390</th>\n",
       "      <td>.</td>\n",
       "      <td>white</td>\n",
       "      <td>1</td>\n",
       "      <td>1</td>\n",
       "      <td>170</td>\n",
       "      <td>120</td>\n",
       "      <td>.</td>\n",
       "      <td>.</td>\n",
       "      <td>0</td>\n",
       "      <td>10047</td>\n",
       "      <td>...</td>\n",
       "      <td>103.0</td>\n",
       "      <td>2</td>\n",
       "      <td>1</td>\n",
       "      <td>0</td>\n",
       "      <td>2</td>\n",
       "      <td>female</td>\n",
       "      <td>1</td>\n",
       "      <td>0</td>\n",
       "      <td>0</td>\n",
       "      <td>1</td>\n",
       "    </tr>\n",
       "  </tbody>\n",
       "</table>\n",
       "<p>3 rows × 21 columns</p>\n",
       "</div>"
      ],
      "text/plain": [
       "     married    race  loan_decision  occupancy  loan_amount  applicant_income  \\\n",
       "354        .  hispan              1          1          160                60   \n",
       "757        .   white              1          1          158                50   \n",
       "1390       .   white              1          1          170               120   \n",
       "\n",
       "     num_units num_dependants  self_employed  monthly_income  ...    \\\n",
       "354          2              .              0            3816  ...     \n",
       "757          .              .              0            4758  ...     \n",
       "1390         .              .              0           10047  ...     \n",
       "\n",
       "      liquid_assets  mortage_payment_history  consumer_credit_history  \\\n",
       "354            39.0                        2                        6   \n",
       "757            13.0                        2                        1   \n",
       "1390          103.0                        2                        1   \n",
       "\n",
       "      filed_bankruptcy  property_type  gender count  black  hispan  white  \n",
       "354                  1              3    male     1      0       1      0  \n",
       "757                  1              1    male     1      0       0      1  \n",
       "1390                 0              2  female     1      0       0      1  \n",
       "\n",
       "[3 rows x 21 columns]"
      ]
     },
     "execution_count": 26,
     "metadata": {},
     "output_type": "execute_result"
    }
   ],
   "source": [
    "# Even though that data.info() showed no NULLs in the data set, '.' should be treated as NULL\n",
    "# Retrieve sample of missing data\n",
    "data[data.married == '.']"
   ]
  },
  {
   "cell_type": "code",
   "execution_count": 27,
   "metadata": {},
   "outputs": [
    {
     "data": {
      "text/html": [
       "<div>\n",
       "<style scoped>\n",
       "    .dataframe tbody tr th:only-of-type {\n",
       "        vertical-align: middle;\n",
       "    }\n",
       "\n",
       "    .dataframe tbody tr th {\n",
       "        vertical-align: top;\n",
       "    }\n",
       "\n",
       "    .dataframe thead th {\n",
       "        text-align: right;\n",
       "    }\n",
       "</style>\n",
       "<table border=\"1\" class=\"dataframe\">\n",
       "  <thead>\n",
       "    <tr style=\"text-align: right;\">\n",
       "      <th></th>\n",
       "      <th>gender</th>\n",
       "      <th>race</th>\n",
       "      <th>married</th>\n",
       "      <th>loan_decision</th>\n",
       "    </tr>\n",
       "  </thead>\n",
       "  <tbody>\n",
       "    <tr>\n",
       "      <th>19</th>\n",
       "      <td>male</td>\n",
       "      <td>white</td>\n",
       "      <td>true</td>\n",
       "      <td>1012</td>\n",
       "    </tr>\n",
       "    <tr>\n",
       "      <th>18</th>\n",
       "      <td>male</td>\n",
       "      <td>white</td>\n",
       "      <td>false</td>\n",
       "      <td>361</td>\n",
       "    </tr>\n",
       "    <tr>\n",
       "      <th>17</th>\n",
       "      <td>male</td>\n",
       "      <td>white</td>\n",
       "      <td>.</td>\n",
       "      <td>1</td>\n",
       "    </tr>\n",
       "    <tr>\n",
       "      <th>10</th>\n",
       "      <td>female</td>\n",
       "      <td>white</td>\n",
       "      <td>false</td>\n",
       "      <td>204</td>\n",
       "    </tr>\n",
       "    <tr>\n",
       "      <th>11</th>\n",
       "      <td>female</td>\n",
       "      <td>white</td>\n",
       "      <td>true</td>\n",
       "      <td>91</td>\n",
       "    </tr>\n",
       "    <tr>\n",
       "      <th>9</th>\n",
       "      <td>female</td>\n",
       "      <td>white</td>\n",
       "      <td>.</td>\n",
       "      <td>1</td>\n",
       "    </tr>\n",
       "    <tr>\n",
       "      <th>3</th>\n",
       "      <td>.</td>\n",
       "      <td>white</td>\n",
       "      <td>false</td>\n",
       "      <td>5</td>\n",
       "    </tr>\n",
       "    <tr>\n",
       "      <th>4</th>\n",
       "      <td>.</td>\n",
       "      <td>white</td>\n",
       "      <td>true</td>\n",
       "      <td>5</td>\n",
       "    </tr>\n",
       "    <tr>\n",
       "      <th>16</th>\n",
       "      <td>male</td>\n",
       "      <td>hispan</td>\n",
       "      <td>true</td>\n",
       "      <td>66</td>\n",
       "    </tr>\n",
       "    <tr>\n",
       "      <th>15</th>\n",
       "      <td>male</td>\n",
       "      <td>hispan</td>\n",
       "      <td>false</td>\n",
       "      <td>20</td>\n",
       "    </tr>\n",
       "    <tr>\n",
       "      <th>14</th>\n",
       "      <td>male</td>\n",
       "      <td>hispan</td>\n",
       "      <td>.</td>\n",
       "      <td>1</td>\n",
       "    </tr>\n",
       "    <tr>\n",
       "      <th>7</th>\n",
       "      <td>female</td>\n",
       "      <td>hispan</td>\n",
       "      <td>false</td>\n",
       "      <td>11</td>\n",
       "    </tr>\n",
       "    <tr>\n",
       "      <th>8</th>\n",
       "      <td>female</td>\n",
       "      <td>hispan</td>\n",
       "      <td>true</td>\n",
       "      <td>11</td>\n",
       "    </tr>\n",
       "    <tr>\n",
       "      <th>2</th>\n",
       "      <td>.</td>\n",
       "      <td>hispan</td>\n",
       "      <td>true</td>\n",
       "      <td>2</td>\n",
       "    </tr>\n",
       "    <tr>\n",
       "      <th>13</th>\n",
       "      <td>male</td>\n",
       "      <td>black</td>\n",
       "      <td>true</td>\n",
       "      <td>106</td>\n",
       "    </tr>\n",
       "    <tr>\n",
       "      <th>12</th>\n",
       "      <td>male</td>\n",
       "      <td>black</td>\n",
       "      <td>false</td>\n",
       "      <td>38</td>\n",
       "    </tr>\n",
       "    <tr>\n",
       "      <th>5</th>\n",
       "      <td>female</td>\n",
       "      <td>black</td>\n",
       "      <td>false</td>\n",
       "      <td>37</td>\n",
       "    </tr>\n",
       "    <tr>\n",
       "      <th>6</th>\n",
       "      <td>female</td>\n",
       "      <td>black</td>\n",
       "      <td>true</td>\n",
       "      <td>14</td>\n",
       "    </tr>\n",
       "    <tr>\n",
       "      <th>0</th>\n",
       "      <td>.</td>\n",
       "      <td>black</td>\n",
       "      <td>false</td>\n",
       "      <td>1</td>\n",
       "    </tr>\n",
       "    <tr>\n",
       "      <th>1</th>\n",
       "      <td>.</td>\n",
       "      <td>black</td>\n",
       "      <td>true</td>\n",
       "      <td>1</td>\n",
       "    </tr>\n",
       "  </tbody>\n",
       "</table>\n",
       "</div>"
      ],
      "text/plain": [
       "    gender    race married  loan_decision\n",
       "19    male   white    true           1012\n",
       "18    male   white   false            361\n",
       "17    male   white       .              1\n",
       "10  female   white   false            204\n",
       "11  female   white    true             91\n",
       "9   female   white       .              1\n",
       "3        .   white   false              5\n",
       "4        .   white    true              5\n",
       "16    male  hispan    true             66\n",
       "15    male  hispan   false             20\n",
       "14    male  hispan       .              1\n",
       "7   female  hispan   false             11\n",
       "8   female  hispan    true             11\n",
       "2        .  hispan    true              2\n",
       "13    male   black    true            106\n",
       "12    male   black   false             38\n",
       "5   female   black   false             37\n",
       "6   female   black    true             14\n",
       "0        .   black   false              1\n",
       "1        .   black    true              1"
      ]
     },
     "execution_count": 27,
     "metadata": {},
     "output_type": "execute_result"
    }
   ],
   "source": [
    "# Make a pivottable to try to see if any trends are present to predict marital status\n",
    "data[['gender','race', 'married', 'loan_decision']].groupby(['gender','race', 'married'],as_index=False).count().sort_values(['race','gender','loan_decision'], ascending=False)"
   ]
  },
  {
   "cell_type": "code",
   "execution_count": 28,
   "metadata": {},
   "outputs": [],
   "source": [
    "# There are three missing marriatal stutuses. Most likely they were married. \n",
    "# However, I have previously worked with consumer loans and common practise was to reject when in doubt \n",
    "# and reavulate once they supply misisng documentation. If they truly fullfilled requirements loan is issued.\n",
    "# And if applicant end up not meeting criteria -less work for debt collection \n",
    "# and debt recovery is expensive and labour intensive. \n",
    "\n",
    "data = data[~data.married.isin(['.']) == True]"
   ]
  },
  {
   "cell_type": "code",
   "execution_count": 29,
   "metadata": {},
   "outputs": [
    {
     "data": {
      "text/plain": [
       "array(['true', 'false'], dtype=object)"
      ]
     },
     "execution_count": 29,
     "metadata": {},
     "output_type": "execute_result"
    }
   ],
   "source": [
    "# Check if dropping worked\n",
    "data.married.unique()"
   ]
  },
  {
   "cell_type": "code",
   "execution_count": 30,
   "metadata": {},
   "outputs": [],
   "source": [
    "# True/false to 1/0\n",
    "data['married'] =  data.married.apply(Liking)"
   ]
  },
  {
   "cell_type": "code",
   "execution_count": 31,
   "metadata": {},
   "outputs": [
    {
     "data": {
      "text/plain": [
       "array(['male', 'female', '.'], dtype=object)"
      ]
     },
     "execution_count": 31,
     "metadata": {},
     "output_type": "execute_result"
    }
   ],
   "source": [
    "# retrieve unique values\n",
    "data.gender.unique()"
   ]
  },
  {
   "cell_type": "code",
   "execution_count": 32,
   "metadata": {},
   "outputs": [],
   "source": [
    "# Drop missing genders. \n",
    "#There are not many of them and it would be emberassing to send welcome letter to customer with wrong title.\n",
    "\n",
    "data = data[~data.gender.isin(['.']) == True]"
   ]
  },
  {
   "cell_type": "code",
   "execution_count": 33,
   "metadata": {},
   "outputs": [],
   "source": [
    "#Function to traspose male/female to 1/0. \n",
    "# Again being female is not twice as awsome as being male, some would argue though\n",
    "\n",
    "def itsamansworld(x):\n",
    "    if str.lower(str(x)) == \"male\":\n",
    "        return 1\n",
    "    else:\n",
    "        return 0 "
   ]
  },
  {
   "cell_type": "code",
   "execution_count": 34,
   "metadata": {},
   "outputs": [],
   "source": [
    "#Create an extra column for binarized gender\n",
    "data['gender2'] =  data.gender.apply(itsamansworld)"
   ]
  },
  {
   "cell_type": "code",
   "execution_count": 35,
   "metadata": {},
   "outputs": [
    {
     "data": {
      "text/plain": [
       "array(['1', '2', '.', '3', '4'], dtype=object)"
      ]
     },
     "execution_count": 35,
     "metadata": {},
     "output_type": "execute_result"
    }
   ],
   "source": [
    "#retrieve unique values for units\n",
    "data.num_units.unique()"
   ]
  },
  {
   "cell_type": "code",
   "execution_count": 36,
   "metadata": {},
   "outputs": [
    {
     "data": {
      "text/html": [
       "<div>\n",
       "<style scoped>\n",
       "    .dataframe tbody tr th:only-of-type {\n",
       "        vertical-align: middle;\n",
       "    }\n",
       "\n",
       "    .dataframe tbody tr th {\n",
       "        vertical-align: top;\n",
       "    }\n",
       "\n",
       "    .dataframe thead th {\n",
       "        text-align: right;\n",
       "    }\n",
       "</style>\n",
       "<table border=\"1\" class=\"dataframe\">\n",
       "  <thead>\n",
       "    <tr style=\"text-align: right;\">\n",
       "      <th></th>\n",
       "      <th>married</th>\n",
       "      <th>race</th>\n",
       "      <th>loan_decision</th>\n",
       "      <th>occupancy</th>\n",
       "      <th>loan_amount</th>\n",
       "      <th>applicant_income</th>\n",
       "      <th>num_units</th>\n",
       "      <th>num_dependants</th>\n",
       "      <th>self_employed</th>\n",
       "      <th>monthly_income</th>\n",
       "      <th>...</th>\n",
       "      <th>mortage_payment_history</th>\n",
       "      <th>consumer_credit_history</th>\n",
       "      <th>filed_bankruptcy</th>\n",
       "      <th>property_type</th>\n",
       "      <th>gender</th>\n",
       "      <th>count</th>\n",
       "      <th>black</th>\n",
       "      <th>hispan</th>\n",
       "      <th>white</th>\n",
       "      <th>gender2</th>\n",
       "    </tr>\n",
       "  </thead>\n",
       "  <tbody>\n",
       "    <tr>\n",
       "      <th>106</th>\n",
       "      <td>1</td>\n",
       "      <td>white</td>\n",
       "      <td>0</td>\n",
       "      <td>1</td>\n",
       "      <td>100</td>\n",
       "      <td>38</td>\n",
       "      <td>.</td>\n",
       "      <td>0</td>\n",
       "      <td>0</td>\n",
       "      <td>1828</td>\n",
       "      <td>...</td>\n",
       "      <td>2</td>\n",
       "      <td>6</td>\n",
       "      <td>0</td>\n",
       "      <td>2</td>\n",
       "      <td>male</td>\n",
       "      <td>1</td>\n",
       "      <td>0</td>\n",
       "      <td>0</td>\n",
       "      <td>1</td>\n",
       "      <td>1</td>\n",
       "    </tr>\n",
       "    <tr>\n",
       "      <th>1497</th>\n",
       "      <td>1</td>\n",
       "      <td>white</td>\n",
       "      <td>0</td>\n",
       "      <td>1</td>\n",
       "      <td>70</td>\n",
       "      <td>70</td>\n",
       "      <td>.</td>\n",
       "      <td>4</td>\n",
       "      <td>0</td>\n",
       "      <td>2947</td>\n",
       "      <td>...</td>\n",
       "      <td>4</td>\n",
       "      <td>6</td>\n",
       "      <td>0</td>\n",
       "      <td>2</td>\n",
       "      <td>male</td>\n",
       "      <td>1</td>\n",
       "      <td>0</td>\n",
       "      <td>0</td>\n",
       "      <td>1</td>\n",
       "      <td>1</td>\n",
       "    </tr>\n",
       "  </tbody>\n",
       "</table>\n",
       "<p>2 rows × 22 columns</p>\n",
       "</div>"
      ],
      "text/plain": [
       "      married   race  loan_decision  occupancy  loan_amount  applicant_income  \\\n",
       "106         1  white              0          1          100                38   \n",
       "1497        1  white              0          1           70                70   \n",
       "\n",
       "     num_units num_dependants  self_employed  monthly_income   ...     \\\n",
       "106          .              0              0            1828   ...      \n",
       "1497         .              4              0            2947   ...      \n",
       "\n",
       "      mortage_payment_history  consumer_credit_history  filed_bankruptcy  \\\n",
       "106                         2                        6                 0   \n",
       "1497                        4                        6                 0   \n",
       "\n",
       "      property_type  gender  count black  hispan  white  gender2  \n",
       "106               2    male      1     0       0      1        1  \n",
       "1497              2    male      1     0       0      1        1  \n",
       "\n",
       "[2 rows x 22 columns]"
      ]
     },
     "execution_count": 36,
     "metadata": {},
     "output_type": "execute_result"
    }
   ],
   "source": [
    "# Check how many misisng units we are talking about\n",
    "data[data.num_units.isin(['.']) == True]"
   ]
  },
  {
   "cell_type": "code",
   "execution_count": 37,
   "metadata": {},
   "outputs": [
    {
     "data": {
      "text/html": [
       "<div>\n",
       "<style scoped>\n",
       "    .dataframe tbody tr th:only-of-type {\n",
       "        vertical-align: middle;\n",
       "    }\n",
       "\n",
       "    .dataframe tbody tr th {\n",
       "        vertical-align: top;\n",
       "    }\n",
       "\n",
       "    .dataframe thead th {\n",
       "        text-align: right;\n",
       "    }\n",
       "</style>\n",
       "<table border=\"1\" class=\"dataframe\">\n",
       "  <thead>\n",
       "    <tr style=\"text-align: right;\">\n",
       "      <th></th>\n",
       "      <th>married</th>\n",
       "      <th>loan_decision</th>\n",
       "      <th>occupancy</th>\n",
       "      <th>loan_amount</th>\n",
       "      <th>applicant_income</th>\n",
       "      <th>self_employed</th>\n",
       "      <th>monthly_income</th>\n",
       "      <th>purchase_price</th>\n",
       "      <th>liquid_assets</th>\n",
       "      <th>mortage_payment_history</th>\n",
       "      <th>consumer_credit_history</th>\n",
       "      <th>filed_bankruptcy</th>\n",
       "      <th>property_type</th>\n",
       "      <th>count</th>\n",
       "      <th>black</th>\n",
       "      <th>hispan</th>\n",
       "      <th>white</th>\n",
       "      <th>gender2</th>\n",
       "    </tr>\n",
       "  </thead>\n",
       "  <tbody>\n",
       "    <tr>\n",
       "      <th>count</th>\n",
       "      <td>1969.000000</td>\n",
       "      <td>1969.000000</td>\n",
       "      <td>1969.000000</td>\n",
       "      <td>1969.000000</td>\n",
       "      <td>1969.000000</td>\n",
       "      <td>1969.000000</td>\n",
       "      <td>1969.000000</td>\n",
       "      <td>1969.000000</td>\n",
       "      <td>1969.000000</td>\n",
       "      <td>1969.000000</td>\n",
       "      <td>1969.000000</td>\n",
       "      <td>1969.000000</td>\n",
       "      <td>1969.000000</td>\n",
       "      <td>1969.0</td>\n",
       "      <td>1969.000000</td>\n",
       "      <td>1969.000000</td>\n",
       "      <td>1969.000000</td>\n",
       "      <td>1969.000000</td>\n",
       "    </tr>\n",
       "    <tr>\n",
       "      <th>mean</th>\n",
       "      <td>0.659218</td>\n",
       "      <td>0.877095</td>\n",
       "      <td>1.031996</td>\n",
       "      <td>143.505333</td>\n",
       "      <td>84.908075</td>\n",
       "      <td>0.130523</td>\n",
       "      <td>5204.838497</td>\n",
       "      <td>196.748566</td>\n",
       "      <td>4664.390041</td>\n",
       "      <td>1.705942</td>\n",
       "      <td>2.110208</td>\n",
       "      <td>0.068563</td>\n",
       "      <td>1.862367</td>\n",
       "      <td>1.0</td>\n",
       "      <td>0.099035</td>\n",
       "      <td>0.054850</td>\n",
       "      <td>0.846115</td>\n",
       "      <td>0.813103</td>\n",
       "    </tr>\n",
       "    <tr>\n",
       "      <th>std</th>\n",
       "      <td>0.474093</td>\n",
       "      <td>0.328412</td>\n",
       "      <td>0.192576</td>\n",
       "      <td>80.802291</td>\n",
       "      <td>87.439115</td>\n",
       "      <td>0.336964</td>\n",
       "      <td>5290.834720</td>\n",
       "      <td>128.587218</td>\n",
       "      <td>67464.766307</td>\n",
       "      <td>0.554335</td>\n",
       "      <td>1.662151</td>\n",
       "      <td>0.252773</td>\n",
       "      <td>0.535195</td>\n",
       "      <td>0.0</td>\n",
       "      <td>0.298785</td>\n",
       "      <td>0.227745</td>\n",
       "      <td>0.360930</td>\n",
       "      <td>0.389928</td>\n",
       "    </tr>\n",
       "    <tr>\n",
       "      <th>min</th>\n",
       "      <td>0.000000</td>\n",
       "      <td>0.000000</td>\n",
       "      <td>1.000000</td>\n",
       "      <td>2.000000</td>\n",
       "      <td>0.000000</td>\n",
       "      <td>0.000000</td>\n",
       "      <td>0.000000</td>\n",
       "      <td>25.000000</td>\n",
       "      <td>0.000000</td>\n",
       "      <td>1.000000</td>\n",
       "      <td>1.000000</td>\n",
       "      <td>0.000000</td>\n",
       "      <td>1.000000</td>\n",
       "      <td>1.0</td>\n",
       "      <td>0.000000</td>\n",
       "      <td>0.000000</td>\n",
       "      <td>0.000000</td>\n",
       "      <td>0.000000</td>\n",
       "    </tr>\n",
       "    <tr>\n",
       "      <th>25%</th>\n",
       "      <td>0.000000</td>\n",
       "      <td>1.000000</td>\n",
       "      <td>1.000000</td>\n",
       "      <td>100.000000</td>\n",
       "      <td>48.000000</td>\n",
       "      <td>0.000000</td>\n",
       "      <td>2876.000000</td>\n",
       "      <td>130.000000</td>\n",
       "      <td>20.000000</td>\n",
       "      <td>1.000000</td>\n",
       "      <td>1.000000</td>\n",
       "      <td>0.000000</td>\n",
       "      <td>2.000000</td>\n",
       "      <td>1.0</td>\n",
       "      <td>0.000000</td>\n",
       "      <td>0.000000</td>\n",
       "      <td>1.000000</td>\n",
       "      <td>1.000000</td>\n",
       "    </tr>\n",
       "    <tr>\n",
       "      <th>50%</th>\n",
       "      <td>1.000000</td>\n",
       "      <td>1.000000</td>\n",
       "      <td>1.000000</td>\n",
       "      <td>126.000000</td>\n",
       "      <td>64.000000</td>\n",
       "      <td>0.000000</td>\n",
       "      <td>3812.000000</td>\n",
       "      <td>163.000000</td>\n",
       "      <td>38.000000</td>\n",
       "      <td>2.000000</td>\n",
       "      <td>1.000000</td>\n",
       "      <td>0.000000</td>\n",
       "      <td>2.000000</td>\n",
       "      <td>1.0</td>\n",
       "      <td>0.000000</td>\n",
       "      <td>0.000000</td>\n",
       "      <td>1.000000</td>\n",
       "      <td>1.000000</td>\n",
       "    </tr>\n",
       "    <tr>\n",
       "      <th>75%</th>\n",
       "      <td>1.000000</td>\n",
       "      <td>1.000000</td>\n",
       "      <td>1.000000</td>\n",
       "      <td>165.000000</td>\n",
       "      <td>88.000000</td>\n",
       "      <td>0.000000</td>\n",
       "      <td>5600.000000</td>\n",
       "      <td>225.000000</td>\n",
       "      <td>83.000000</td>\n",
       "      <td>2.000000</td>\n",
       "      <td>2.000000</td>\n",
       "      <td>0.000000</td>\n",
       "      <td>2.000000</td>\n",
       "      <td>1.0</td>\n",
       "      <td>0.000000</td>\n",
       "      <td>0.000000</td>\n",
       "      <td>1.000000</td>\n",
       "      <td>1.000000</td>\n",
       "    </tr>\n",
       "    <tr>\n",
       "      <th>max</th>\n",
       "      <td>1.000000</td>\n",
       "      <td>1.000000</td>\n",
       "      <td>3.000000</td>\n",
       "      <td>980.000000</td>\n",
       "      <td>972.000000</td>\n",
       "      <td>1.000000</td>\n",
       "      <td>81000.000000</td>\n",
       "      <td>1535.000000</td>\n",
       "      <td>1000000.000000</td>\n",
       "      <td>4.000000</td>\n",
       "      <td>6.000000</td>\n",
       "      <td>1.000000</td>\n",
       "      <td>3.000000</td>\n",
       "      <td>1.0</td>\n",
       "      <td>1.000000</td>\n",
       "      <td>1.000000</td>\n",
       "      <td>1.000000</td>\n",
       "      <td>1.000000</td>\n",
       "    </tr>\n",
       "  </tbody>\n",
       "</table>\n",
       "</div>"
      ],
      "text/plain": [
       "           married  loan_decision    occupancy  loan_amount  applicant_income  \\\n",
       "count  1969.000000    1969.000000  1969.000000  1969.000000       1969.000000   \n",
       "mean      0.659218       0.877095     1.031996   143.505333         84.908075   \n",
       "std       0.474093       0.328412     0.192576    80.802291         87.439115   \n",
       "min       0.000000       0.000000     1.000000     2.000000          0.000000   \n",
       "25%       0.000000       1.000000     1.000000   100.000000         48.000000   \n",
       "50%       1.000000       1.000000     1.000000   126.000000         64.000000   \n",
       "75%       1.000000       1.000000     1.000000   165.000000         88.000000   \n",
       "max       1.000000       1.000000     3.000000   980.000000        972.000000   \n",
       "\n",
       "       self_employed  monthly_income  purchase_price   liquid_assets  \\\n",
       "count    1969.000000     1969.000000     1969.000000     1969.000000   \n",
       "mean        0.130523     5204.838497      196.748566     4664.390041   \n",
       "std         0.336964     5290.834720      128.587218    67464.766307   \n",
       "min         0.000000        0.000000       25.000000        0.000000   \n",
       "25%         0.000000     2876.000000      130.000000       20.000000   \n",
       "50%         0.000000     3812.000000      163.000000       38.000000   \n",
       "75%         0.000000     5600.000000      225.000000       83.000000   \n",
       "max         1.000000    81000.000000     1535.000000  1000000.000000   \n",
       "\n",
       "       mortage_payment_history  consumer_credit_history  filed_bankruptcy  \\\n",
       "count              1969.000000              1969.000000       1969.000000   \n",
       "mean                  1.705942                 2.110208          0.068563   \n",
       "std                   0.554335                 1.662151          0.252773   \n",
       "min                   1.000000                 1.000000          0.000000   \n",
       "25%                   1.000000                 1.000000          0.000000   \n",
       "50%                   2.000000                 1.000000          0.000000   \n",
       "75%                   2.000000                 2.000000          0.000000   \n",
       "max                   4.000000                 6.000000          1.000000   \n",
       "\n",
       "       property_type   count        black       hispan        white  \\\n",
       "count    1969.000000  1969.0  1969.000000  1969.000000  1969.000000   \n",
       "mean        1.862367     1.0     0.099035     0.054850     0.846115   \n",
       "std         0.535195     0.0     0.298785     0.227745     0.360930   \n",
       "min         1.000000     1.0     0.000000     0.000000     0.000000   \n",
       "25%         2.000000     1.0     0.000000     0.000000     1.000000   \n",
       "50%         2.000000     1.0     0.000000     0.000000     1.000000   \n",
       "75%         2.000000     1.0     0.000000     0.000000     1.000000   \n",
       "max         3.000000     1.0     1.000000     1.000000     1.000000   \n",
       "\n",
       "           gender2  \n",
       "count  1969.000000  \n",
       "mean      0.813103  \n",
       "std       0.389928  \n",
       "min       0.000000  \n",
       "25%       1.000000  \n",
       "50%       1.000000  \n",
       "75%       1.000000  \n",
       "max       1.000000  "
      ]
     },
     "execution_count": 37,
     "metadata": {},
     "output_type": "execute_result"
    }
   ],
   "source": [
    "# Drop missing units, there are not lotof them and just to keep consistent with decissions made previously \n",
    "data = data[~data.num_units.isin(['.']) == True]\n",
    "data.describe()"
   ]
  },
  {
   "cell_type": "markdown",
   "metadata": {},
   "source": [
    "After cleaning, 19 records lost, which accounts for around 1% from inital data set. \n",
    "\n",
    "As Data entry errors are not many, effort spent trying to predict missing marriage status, gender and unit is greater than the difference in model output with and without these rows. \n",
    "\n",
    "Insights from this table:\n",
    "1. 66% of applicants are married\n",
    "\n",
    "2. 87.7% of applicats has their load approved\n",
    "\n",
    "3. 13% of applicants are self employed\n",
    "\n",
    "4. Under 7% of appliants have filled for bankruptcy\n",
    "\n",
    "5. 84% of applicats are white, 10% black and 5% hispan\n",
    "\n",
    "6. 81% of applicants are males"
   ]
  },
  {
   "cell_type": "code",
   "execution_count": 38,
   "metadata": {},
   "outputs": [],
   "source": [
    "# create 2nd data frame for correlation matrix\n",
    "# White will negative corralete with black\n",
    "\n",
    "data2 = data[['married', 'loan_decision', 'occupancy', 'loan_amount',\n",
    "       'applicant_income', 'num_units', 'num_dependants', 'self_employed',\n",
    "       'monthly_income', 'purchase_price', 'liquid_assets',\n",
    "       'mortage_payment_history', 'consumer_credit_history',\n",
    "       'filed_bankruptcy', 'property_type']]"
   ]
  },
  {
   "cell_type": "code",
   "execution_count": 39,
   "metadata": {},
   "outputs": [
    {
     "data": {
      "text/plain": [
       "<matplotlib.axes._subplots.AxesSubplot at 0xbe73f88>"
      ]
     },
     "execution_count": 39,
     "metadata": {},
     "output_type": "execute_result"
    },
    {
     "data": {
      "image/png": "[encoded data removed]",
      "text/plain": [
       "<Figure size 864x720 with 2 Axes>"
      ]
     },
     "metadata": {
      "needs_background": "light"
     },
     "output_type": "display_data"
    }
   ],
   "source": [
    "# calculate the correlation matrix, show only significant correlation\n",
    "corr = data2.corr()\n",
    "\n",
    "plt.figure(figsize=(12,10))\n",
    "# plot the heatmap\n",
    "sns.heatmap(corr[(corr >= 0.5) | (corr <= -0.4)], \n",
    "        xticklabels=corr.columns,\n",
    "        yticklabels=corr.columns\n",
    "           ,annot=True)"
   ]
  },
  {
   "cell_type": "markdown",
   "metadata": {},
   "source": [
    "Loan amount highly correalates with purchase price (0.83) & monthly_income (0.57)\n",
    "\n",
    "Monthly income correlates with applicant income(0.57) \n",
    "\n",
    "Loan decision does not show strong correlation with any of the features"
   ]
  },
  {
   "cell_type": "markdown",
   "metadata": {},
   "source": [
    "### Investigate distribution of monthly income and loan amount"
   ]
  },
  {
   "cell_type": "code",
   "execution_count": 40,
   "metadata": {},
   "outputs": [
    {
     "data": {
      "text/plain": [
       "<matplotlib.axes._subplots.AxesSubplot at 0xc4ba188>"
      ]
     },
     "execution_count": 40,
     "metadata": {},
     "output_type": "execute_result"
    },
    {
     "data": {
      "image/png": "[encoded data removed]",
      "text/plain": [
       "<Figure size 432x288 with 1 Axes>"
      ]
     },
     "metadata": {
      "needs_background": "light"
     },
     "output_type": "display_data"
    }
   ],
   "source": [
    "data.monthly_income.hist()"
   ]
  },
  {
   "cell_type": "code",
   "execution_count": 41,
   "metadata": {},
   "outputs": [
    {
     "data": {
      "text/plain": [
       "<matplotlib.axes._subplots.AxesSubplot at 0xc43d788>"
      ]
     },
     "execution_count": 41,
     "metadata": {},
     "output_type": "execute_result"
    },
    {
     "data": {
      "image/png": "[encoded data removed]",
      "text/plain": [
       "<Figure size 432x288 with 1 Axes>"
      ]
     },
     "metadata": {
      "needs_background": "light"
     },
     "output_type": "display_data"
    }
   ],
   "source": [
    "data.applicant_income.hist()"
   ]
  },
  {
   "cell_type": "markdown",
   "metadata": {},
   "source": [
    "Distribution of monthly income is not normally distributed"
   ]
  },
  {
   "cell_type": "code",
   "execution_count": 42,
   "metadata": {},
   "outputs": [
    {
     "data": {
      "text/plain": [
       "<matplotlib.axes._subplots.AxesSubplot at 0xc7bebc8>"
      ]
     },
     "execution_count": 42,
     "metadata": {},
     "output_type": "execute_result"
    },
    {
     "data": {
      "image/png": "[encoded data removed]",
      "text/plain": [
       "<Figure size 432x288 with 1 Axes>"
      ]
     },
     "metadata": {
      "needs_background": "light"
     },
     "output_type": "display_data"
    }
   ],
   "source": [
    "data.loan_amount.hist()"
   ]
  },
  {
   "cell_type": "markdown",
   "metadata": {},
   "source": [
    "Loan amount is not normaly distrubted, "
   ]
  },
  {
   "cell_type": "markdown",
   "metadata": {},
   "source": [
    "### Investigate if loan decision is affected by gender"
   ]
  },
  {
   "cell_type": "code",
   "execution_count": 43,
   "metadata": {},
   "outputs": [
    {
     "data": {
      "text/plain": [
       "0.8800749531542785"
      ]
     },
     "execution_count": 43,
     "metadata": {},
     "output_type": "execute_result"
    }
   ],
   "source": [
    "data.loan_decision[(data.gender2 == 1) & (data.loan_decision ==1 )].count()/data.loan_decision[(data.gender2 == 1)].count()"
   ]
  },
  {
   "cell_type": "code",
   "execution_count": 44,
   "metadata": {},
   "outputs": [
    {
     "data": {
      "text/plain": [
       "0.8641304347826086"
      ]
     },
     "execution_count": 44,
     "metadata": {},
     "output_type": "execute_result"
    }
   ],
   "source": [
    "data.loan_decision[(data.gender2 == 0) & (data.loan_decision ==1 )].count()/data.loan_decision[(data.gender2 == 0)].count()"
   ]
  },
  {
   "cell_type": "markdown",
   "metadata": {},
   "source": [
    "Even though females are under-represented in this data set, approval rate is similar.\n",
    "\n",
    "88% for males and 86% for females."
   ]
  },
  {
   "cell_type": "markdown",
   "metadata": {},
   "source": [
    "### Investigate if loan decission is affected by number of dependants"
   ]
  },
  {
   "cell_type": "code",
   "execution_count": 45,
   "metadata": {},
   "outputs": [
    {
     "data": {
      "text/html": [
       "<div>\n",
       "<style scoped>\n",
       "    .dataframe tbody tr th:only-of-type {\n",
       "        vertical-align: middle;\n",
       "    }\n",
       "\n",
       "    .dataframe tbody tr th {\n",
       "        vertical-align: top;\n",
       "    }\n",
       "\n",
       "    .dataframe thead th {\n",
       "        text-align: right;\n",
       "    }\n",
       "</style>\n",
       "<table border=\"1\" class=\"dataframe\">\n",
       "  <thead>\n",
       "    <tr style=\"text-align: right;\">\n",
       "      <th>loan_decision</th>\n",
       "      <th>0</th>\n",
       "      <th>1</th>\n",
       "    </tr>\n",
       "    <tr>\n",
       "      <th>num_dependants</th>\n",
       "      <th></th>\n",
       "      <th></th>\n",
       "    </tr>\n",
       "  </thead>\n",
       "  <tbody>\n",
       "    <tr>\n",
       "      <th>0</th>\n",
       "      <td>139</td>\n",
       "      <td>1026</td>\n",
       "    </tr>\n",
       "    <tr>\n",
       "      <th>1</th>\n",
       "      <td>37</td>\n",
       "      <td>277</td>\n",
       "    </tr>\n",
       "    <tr>\n",
       "      <th>2</th>\n",
       "      <td>40</td>\n",
       "      <td>285</td>\n",
       "    </tr>\n",
       "    <tr>\n",
       "      <th>3</th>\n",
       "      <td>19</td>\n",
       "      <td>106</td>\n",
       "    </tr>\n",
       "    <tr>\n",
       "      <th>4</th>\n",
       "      <td>7</td>\n",
       "      <td>23</td>\n",
       "    </tr>\n",
       "    <tr>\n",
       "      <th>5</th>\n",
       "      <td>0</td>\n",
       "      <td>5</td>\n",
       "    </tr>\n",
       "    <tr>\n",
       "      <th>6</th>\n",
       "      <td>0</td>\n",
       "      <td>3</td>\n",
       "    </tr>\n",
       "    <tr>\n",
       "      <th>7</th>\n",
       "      <td>0</td>\n",
       "      <td>1</td>\n",
       "    </tr>\n",
       "    <tr>\n",
       "      <th>8</th>\n",
       "      <td>0</td>\n",
       "      <td>1</td>\n",
       "    </tr>\n",
       "  </tbody>\n",
       "</table>\n",
       "</div>"
      ],
      "text/plain": [
       "loan_decision     0     1\n",
       "num_dependants           \n",
       "0               139  1026\n",
       "1                37   277\n",
       "2                40   285\n",
       "3                19   106\n",
       "4                 7    23\n",
       "5                 0     5\n",
       "6                 0     3\n",
       "7                 0     1\n",
       "8                 0     1"
      ]
     },
     "execution_count": 45,
     "metadata": {},
     "output_type": "execute_result"
    }
   ],
   "source": [
    "cont_table = pd.crosstab(data['num_dependants'], data['loan_decision'])\n",
    "\n",
    "# print the contingency table\n",
    "cont_table"
   ]
  },
  {
   "cell_type": "code",
   "execution_count": 46,
   "metadata": {},
   "outputs": [
    {
     "data": {
      "text/plain": [
       "<matplotlib.axes._subplots.AxesSubplot at 0xcc65088>"
      ]
     },
     "execution_count": 46,
     "metadata": {},
     "output_type": "execute_result"
    },
    {
     "data": {
      "image/png": "[encoded data removed]",
      "text/plain": [
       "<Figure size 432x288 with 1 Axes>"
      ]
     },
     "metadata": {
      "needs_background": "light"
     },
     "output_type": "display_data"
    }
   ],
   "source": [
    "# Visualize contigency table\n",
    "cont_table.plot(kind=\"bar\", stacked=True, rot=0)"
   ]
  },
  {
   "cell_type": "code",
   "execution_count": 47,
   "metadata": {},
   "outputs": [
    {
     "name": "stdout",
     "output_type": "stream",
     "text": [
      "p-value: 0.6482511256513371\n"
     ]
    }
   ],
   "source": [
    "# Perform chi test\n",
    "from scipy import stats\n",
    "chi2, p_val, dof, expected = stats.chi2_contingency(cont_table)\n",
    "print(f\"p-value: {p_val}\")"
   ]
  },
  {
   "cell_type": "markdown",
   "metadata": {},
   "source": [
    "The p-value is greater than the usual significance level of 0.05. Therefore, **we accept the null hypothesis that there is no dependence between the number of dependants and loan decision**. Loan decision is not affected by number of dependents in this data set"
   ]
  },
  {
   "cell_type": "markdown",
   "metadata": {},
   "source": [
    "### Investigate averege monthly income per race"
   ]
  },
  {
   "cell_type": "code",
   "execution_count": 48,
   "metadata": {},
   "outputs": [
    {
     "data": {
      "text/html": [
       "<div>\n",
       "<style scoped>\n",
       "    .dataframe tbody tr th:only-of-type {\n",
       "        vertical-align: middle;\n",
       "    }\n",
       "\n",
       "    .dataframe tbody tr th {\n",
       "        vertical-align: top;\n",
       "    }\n",
       "\n",
       "    .dataframe thead th {\n",
       "        text-align: right;\n",
       "    }\n",
       "</style>\n",
       "<table border=\"1\" class=\"dataframe\">\n",
       "  <thead>\n",
       "    <tr style=\"text-align: right;\">\n",
       "      <th></th>\n",
       "      <th>monthly_income</th>\n",
       "    </tr>\n",
       "    <tr>\n",
       "      <th>race</th>\n",
       "      <th></th>\n",
       "    </tr>\n",
       "  </thead>\n",
       "  <tbody>\n",
       "    <tr>\n",
       "      <th>black</th>\n",
       "      <td>4715.010256</td>\n",
       "    </tr>\n",
       "    <tr>\n",
       "      <th>hispan</th>\n",
       "      <td>4092.388889</td>\n",
       "    </tr>\n",
       "    <tr>\n",
       "      <th>white</th>\n",
       "      <td>5334.286915</td>\n",
       "    </tr>\n",
       "  </tbody>\n",
       "</table>\n",
       "</div>"
      ],
      "text/plain": [
       "        monthly_income\n",
       "race                  \n",
       "black      4715.010256\n",
       "hispan     4092.388889\n",
       "white      5334.286915"
      ]
     },
     "execution_count": 48,
     "metadata": {},
     "output_type": "execute_result"
    }
   ],
   "source": [
    "# Make a pivottable to calculate average monthly income per race\n",
    "Race = data[['race', 'monthly_income']].groupby(['race']).mean()\n",
    "Race"
   ]
  },
  {
   "cell_type": "code",
   "execution_count": 49,
   "metadata": {},
   "outputs": [
    {
     "name": "stdout",
     "output_type": "stream",
     "text": [
      "p-value: 1.0\n"
     ]
    }
   ],
   "source": [
    "chi2, p_val, dof, expected = stats.chi2_contingency(Race)\n",
    "print(f\"p-value: {p_val}\")"
   ]
  },
  {
   "cell_type": "markdown",
   "metadata": {},
   "source": [
    "The p-value is greater than the usual significance level of 0.05. Therefore, **we accept the null hypothesis that there is no dependence between the race and monthly income**. Which shows how scewed is this data set and/or world in general"
   ]
  },
  {
   "cell_type": "markdown",
   "metadata": {},
   "source": [
    "### Investigate if monthly income affects liquid assets"
   ]
  },
  {
   "cell_type": "code",
   "execution_count": 50,
   "metadata": {},
   "outputs": [
    {
     "name": "stdout",
     "output_type": "stream",
     "text": [
      "t-value: 0.3544932383991406, p-value: 0.723007250354225\n"
     ]
    }
   ],
   "source": [
    "# perform paired t-test\n",
    "t_val, p_val = stats.ttest_rel(data[\"monthly_income\"], data[\"liquid_assets\"])\n",
    "\n",
    "print(f\"t-value: {t_val}, p-value: {p_val}\")"
   ]
  },
  {
   "cell_type": "markdown",
   "metadata": {},
   "source": [
    "We conclude that **we have to accept the null that there is no difference liquid assets and monthly income**. \n",
    "\n",
    "There is 72% similitarity between liquid assets mean with monthly incomes mean"
   ]
  },
  {
   "cell_type": "markdown",
   "metadata": {},
   "source": [
    "### Implement a linear regression model"
   ]
  },
  {
   "cell_type": "markdown",
   "metadata": {},
   "source": [
    "Number of dependants not used as it proved to be statistically insignificant\n",
    "\n",
    "Applicant income not used as it correated with monthly income"
   ]
  },
  {
   "cell_type": "code",
   "execution_count": 51,
   "metadata": {},
   "outputs": [
    {
     "data": {
      "text/html": [
       "<table class=\"simpletable\">\n",
       "<caption>OLS Regression Results</caption>\n",
       "<tr>\n",
       "  <th>Dep. Variable:</th>       <td>loan_amount</td>   <th>  R-squared:         </th> <td>   0.710</td> \n",
       "</tr>\n",
       "<tr>\n",
       "  <th>Model:</th>                   <td>OLS</td>       <th>  Adj. R-squared:    </th> <td>   0.708</td> \n",
       "</tr>\n",
       "<tr>\n",
       "  <th>Method:</th>             <td>Least Squares</td>  <th>  F-statistic:       </th> <td>   368.3</td> \n",
       "</tr>\n",
       "<tr>\n",
       "  <th>Date:</th>             <td>Sun, 27 Oct 2019</td> <th>  Prob (F-statistic):</th>  <td>  0.00</td>  \n",
       "</tr>\n",
       "<tr>\n",
       "  <th>Time:</th>                 <td>21:47:43</td>     <th>  Log-Likelihood:    </th> <td> -10222.</td> \n",
       "</tr>\n",
       "<tr>\n",
       "  <th>No. Observations:</th>      <td>  1969</td>      <th>  AIC:               </th> <td>2.047e+04</td>\n",
       "</tr>\n",
       "<tr>\n",
       "  <th>Df Residuals:</th>          <td>  1955</td>      <th>  BIC:               </th> <td>2.055e+04</td>\n",
       "</tr>\n",
       "<tr>\n",
       "  <th>Df Model:</th>              <td>    13</td>      <th>                     </th>     <td> </td>    \n",
       "</tr>\n",
       "<tr>\n",
       "  <th>Covariance Type:</th>      <td>nonrobust</td>    <th>                     </th>     <td> </td>    \n",
       "</tr>\n",
       "</table>\n",
       "<table class=\"simpletable\">\n",
       "<tr>\n",
       "             <td></td>                <th>coef</th>     <th>std err</th>      <th>t</th>      <th>P>|t|</th>  <th>[0.025</th>    <th>0.975]</th>  \n",
       "</tr>\n",
       "<tr>\n",
       "  <th>Intercept</th>               <td>   28.2234</td> <td>    8.381</td> <td>    3.368</td> <td> 0.001</td> <td>   11.787</td> <td>   44.660</td>\n",
       "</tr>\n",
       "<tr>\n",
       "  <th>num_units[T.2]</th>          <td>    5.6288</td> <td>    5.160</td> <td>    1.091</td> <td> 0.275</td> <td>   -4.491</td> <td>   15.749</td>\n",
       "</tr>\n",
       "<tr>\n",
       "  <th>num_units[T.3]</th>          <td>    8.7173</td> <td>    6.936</td> <td>    1.257</td> <td> 0.209</td> <td>   -4.886</td> <td>   22.321</td>\n",
       "</tr>\n",
       "<tr>\n",
       "  <th>num_units[T.4]</th>          <td>   -3.6884</td> <td>   13.602</td> <td>   -0.271</td> <td> 0.786</td> <td>  -30.365</td> <td>   22.988</td>\n",
       "</tr>\n",
       "<tr>\n",
       "  <th>married</th>                 <td>    3.7791</td> <td>    2.297</td> <td>    1.645</td> <td> 0.100</td> <td>   -0.726</td> <td>    8.285</td>\n",
       "</tr>\n",
       "<tr>\n",
       "  <th>occupancy</th>               <td>   -4.0592</td> <td>    5.245</td> <td>   -0.774</td> <td> 0.439</td> <td>  -14.345</td> <td>    6.227</td>\n",
       "</tr>\n",
       "<tr>\n",
       "  <th>monthly_income</th>          <td>    0.0015</td> <td>    0.000</td> <td>    6.011</td> <td> 0.000</td> <td>    0.001</td> <td>    0.002</td>\n",
       "</tr>\n",
       "<tr>\n",
       "  <th>liquid_assets</th>           <td> 3.021e-05</td> <td> 1.47e-05</td> <td>    2.054</td> <td> 0.040</td> <td> 1.37e-06</td> <td>  5.9e-05</td>\n",
       "</tr>\n",
       "<tr>\n",
       "  <th>purchase_price</th>          <td>    0.4815</td> <td>    0.010</td> <td>   46.561</td> <td> 0.000</td> <td>    0.461</td> <td>    0.502</td>\n",
       "</tr>\n",
       "<tr>\n",
       "  <th>mortage_payment_history</th> <td>    0.2772</td> <td>    1.849</td> <td>    0.150</td> <td> 0.881</td> <td>   -3.350</td> <td>    3.904</td>\n",
       "</tr>\n",
       "<tr>\n",
       "  <th>consumer_credit_history</th> <td>    0.6318</td> <td>    0.607</td> <td>    1.042</td> <td> 0.298</td> <td>   -0.558</td> <td>    1.822</td>\n",
       "</tr>\n",
       "<tr>\n",
       "  <th>property_type</th>           <td>    8.1582</td> <td>    2.422</td> <td>    3.369</td> <td> 0.001</td> <td>    3.409</td> <td>   12.907</td>\n",
       "</tr>\n",
       "<tr>\n",
       "  <th>gender2</th>                 <td>    4.6217</td> <td>    2.730</td> <td>    1.693</td> <td> 0.091</td> <td>   -0.733</td> <td>    9.976</td>\n",
       "</tr>\n",
       "<tr>\n",
       "  <th>white</th>                   <td>   -8.0003</td> <td>    2.826</td> <td>   -2.831</td> <td> 0.005</td> <td>  -13.542</td> <td>   -2.458</td>\n",
       "</tr>\n",
       "</table>\n",
       "<table class=\"simpletable\">\n",
       "<tr>\n",
       "  <th>Omnibus:</th>       <td>746.667</td> <th>  Durbin-Watson:     </th> <td>   1.993</td> \n",
       "</tr>\n",
       "<tr>\n",
       "  <th>Prob(Omnibus):</th> <td> 0.000</td>  <th>  Jarque-Bera (JB):  </th> <td>83640.754</td>\n",
       "</tr>\n",
       "<tr>\n",
       "  <th>Skew:</th>          <td>-0.773</td>  <th>  Prob(JB):          </th> <td>    0.00</td> \n",
       "</tr>\n",
       "<tr>\n",
       "  <th>Kurtosis:</th>      <td>34.892</td>  <th>  Cond. No.          </th> <td>9.42e+05</td> \n",
       "</tr>\n",
       "</table><br/><br/>Warnings:<br/>[1] Standard Errors assume that the covariance matrix of the errors is correctly specified.<br/>[2] The condition number is large, 9.42e+05. This might indicate that there are<br/>strong multicollinearity or other numerical problems."
      ],
      "text/plain": [
       "<class 'statsmodels.iolib.summary.Summary'>\n",
       "\"\"\"\n",
       "                            OLS Regression Results                            \n",
       "==============================================================================\n",
       "Dep. Variable:            loan_amount   R-squared:                       0.710\n",
       "Model:                            OLS   Adj. R-squared:                  0.708\n",
       "Method:                 Least Squares   F-statistic:                     368.3\n",
       "Date:                Sun, 27 Oct 2019   Prob (F-statistic):               0.00\n",
       "Time:                        21:47:43   Log-Likelihood:                -10222.\n",
       "No. Observations:                1969   AIC:                         2.047e+04\n",
       "Df Residuals:                    1955   BIC:                         2.055e+04\n",
       "Df Model:                          13                                         \n",
       "Covariance Type:            nonrobust                                         \n",
       "===========================================================================================\n",
       "                              coef    std err          t      P>|t|      [0.025      0.975]\n",
       "-------------------------------------------------------------------------------------------\n",
       "Intercept                  28.2234      8.381      3.368      0.001      11.787      44.660\n",
       "num_units[T.2]              5.6288      5.160      1.091      0.275      -4.491      15.749\n",
       "num_units[T.3]              8.7173      6.936      1.257      0.209      -4.886      22.321\n",
       "num_units[T.4]             -3.6884     13.602     -0.271      0.786     -30.365      22.988\n",
       "married                     3.7791      2.297      1.645      0.100      -0.726       8.285\n",
       "occupancy                  -4.0592      5.245     -0.774      0.439     -14.345       6.227\n",
       "monthly_income              0.0015      0.000      6.011      0.000       0.001       0.002\n",
       "liquid_assets            3.021e-05   1.47e-05      2.054      0.040    1.37e-06     5.9e-05\n",
       "purchase_price              0.4815      0.010     46.561      0.000       0.461       0.502\n",
       "mortage_payment_history     0.2772      1.849      0.150      0.881      -3.350       3.904\n",
       "consumer_credit_history     0.6318      0.607      1.042      0.298      -0.558       1.822\n",
       "property_type               8.1582      2.422      3.369      0.001       3.409      12.907\n",
       "gender2                     4.6217      2.730      1.693      0.091      -0.733       9.976\n",
       "white                      -8.0003      2.826     -2.831      0.005     -13.542      -2.458\n",
       "==============================================================================\n",
       "Omnibus:                      746.667   Durbin-Watson:                   1.993\n",
       "Prob(Omnibus):                  0.000   Jarque-Bera (JB):            83640.754\n",
       "Skew:                          -0.773   Prob(JB):                         0.00\n",
       "Kurtosis:                      34.892   Cond. No.                     9.42e+05\n",
       "==============================================================================\n",
       "\n",
       "Warnings:\n",
       "[1] Standard Errors assume that the covariance matrix of the errors is correctly specified.\n",
       "[2] The condition number is large, 9.42e+05. This might indicate that there are\n",
       "strong multicollinearity or other numerical problems.\n",
       "\"\"\""
      ]
     },
     "execution_count": 51,
     "metadata": {},
     "output_type": "execute_result"
    }
   ],
   "source": [
    "model = sm.OLS.from_formula('loan_amount ~ married + occupancy + num_units +monthly_income + liquid_assets+purchase_price + mortage_payment_history + consumer_credit_history  + property_type +gender2+white', data=data).fit()\n",
    "model.summary()"
   ]
  },
  {
   "cell_type": "code",
   "execution_count": 52,
   "metadata": {},
   "outputs": [
    {
     "data": {
      "text/plain": [
       "<matplotlib.axes._subplots.AxesSubplot at 0xcd1e9c8>"
      ]
     },
     "execution_count": 52,
     "metadata": {},
     "output_type": "execute_result"
    },
    {
     "data": {
      "image/png": "[encoded data removed]",
      "text/plain": [
       "<Figure size 432x288 with 1 Axes>"
      ]
     },
     "metadata": {
      "needs_background": "light"
     },
     "output_type": "display_data"
    }
   ],
   "source": [
    "#Draw residual histogram for model\n",
    "model.resid.hist()"
   ]
  },
  {
   "cell_type": "markdown",
   "metadata": {},
   "source": [
    "### Assumptions about linear regression model\n",
    "\n",
    "#### Coefficients on the variables\n",
    "\n",
    "Loan amount is negatively affected by being white, having 4 units, occupancy type, by increasing these features loan amount reduces. \n",
    "\n",
    "Features like being married, credit history, property type among others increase loan amount\n",
    "\n",
    "\n",
    "#### Quality of the model\n",
    "\n",
    "R-squared:\t0.710\n",
    "R-squared:\t0.708\n",
    "\n",
    "Which is quite high prediction on the first run, without massive feature engineering. \n",
    "There is a warning about strong multicollinearity. To solve those additional documentation on features is needed, \n",
    "to deduct which  features logically thinking should affect other ones. \n",
    "\n",
    "\n",
    "\n",
    "#### Errors and residuals\n",
    "\n",
    "Looking at the distribution of error on the scatterplot and histogram we can get the following assumptions:\n",
    "\n",
    "Errors seem to be equally distributed around 0 but seem not to be normally distributed\n",
    "\n",
    "However the p-value of the Jarque-Bera is 83640.754, which is greater than the significance level of 0.05\n",
    "\n",
    "So, we can reject the null hypothesis of normal distribution"
   ]
  },
  {
   "cell_type": "code",
   "execution_count": null,
   "metadata": {},
   "outputs": [],
   "source": []
  }
 ],
 "metadata": {
  "kernelspec": {
   "display_name": "Python 3",
   "language": "python",
   "name": "python3"
  },
  "language_info": {
   "codemirror_mode": {
    "name": "ipython",
    "version": 3
   },
   "file_extension": ".py",
   "mimetype": "text/x-python",
   "name": "python",
   "nbconvert_exporter": "python",
   "pygments_lexer": "ipython3",
   "version": "3.7.4"
  }
 },
 "nbformat": 4,
 "nbformat_minor": 2
}
