{
 "cells": [
  {
   "cell_type": "code",
   "execution_count": 1,
   "metadata": {},
   "outputs": [],
   "source": [
    "import pandas as pd\n",
    "from sklearn.preprocessing import LabelEncoder\n",
    "from sklearn.preprocessing import OneHotEncoder\n",
    "%matplotlib inline\n",
    "from category_encoders import *\n",
    "import numpy as np\n",
    "import seaborn as sns\n",
    "import statsmodels.api as sm\n",
    "import matplotlib.pyplot as plt"
   ]
  },
  {
   "cell_type": "code",
   "execution_count": 2,
   "metadata": {},
   "outputs": [],
   "source": [
    "df2 = pd.read_excel(\"20191219export.xlsx\")\n"
   ]
  },
  {
   "cell_type": "code",
   "execution_count": 3,
   "metadata": {},
   "outputs": [],
   "source": [
    "df2 = df2[['beds', 'baths', 'prices','property_type','closest_train_station', 'closest_school']]\n",
    "df2 = df2[~df2.property_type.isnull()]\n",
    "df2 = df2[df2.property_type.isin(['block_of_flats', 'land']) == False]"
   ]
  },
  {
   "cell_type": "code",
   "execution_count": 4,
   "metadata": {},
   "outputs": [
    {
     "data": {
      "image/png": "[encoded data removed]",
      "text/plain": [
       "<Figure size 432x288 with 1 Axes>"
      ]
     },
     "metadata": {
      "needs_background": "light"
     },
     "output_type": "display_data"
    }
   ],
   "source": [
    "(df2.prices/1000).hist()\n",
    "\n",
    "plt.title(\"Price Ranges for House Types\",  pad=15)\n",
    "plt.xlabel('Property Price, Thousand £')\n",
    "plt.ylabel('Count')\n",
    "plt.axvline(x=320,ls='--', color='r')\n",
    "plt.axvline(x=22,ls='--', color='r')\n",
    "plt.savefig('price_freq.png', bbox_inches='tight', dpi=300)\n",
    "\n",
    "plt.show()"
   ]
  },
  {
   "cell_type": "code",
   "execution_count": 5,
   "metadata": {},
   "outputs": [
    {
     "data": {
      "text/html": [
       "<div>\n",
       "<style scoped>\n",
       "    .dataframe tbody tr th:only-of-type {\n",
       "        vertical-align: middle;\n",
       "    }\n",
       "\n",
       "    .dataframe tbody tr th {\n",
       "        vertical-align: top;\n",
       "    }\n",
       "\n",
       "    .dataframe thead th {\n",
       "        text-align: right;\n",
       "    }\n",
       "</style>\n",
       "<table border=\"1\" class=\"dataframe\">\n",
       "  <thead>\n",
       "    <tr style=\"text-align: right;\">\n",
       "      <th></th>\n",
       "      <th>baths</th>\n",
       "      <th>prices</th>\n",
       "      <th>%%</th>\n",
       "    </tr>\n",
       "  </thead>\n",
       "  <tbody>\n",
       "    <tr>\n",
       "      <td>0</td>\n",
       "      <td>1</td>\n",
       "      <td>167</td>\n",
       "      <td>81.07</td>\n",
       "    </tr>\n",
       "    <tr>\n",
       "      <td>1</td>\n",
       "      <td>2</td>\n",
       "      <td>37</td>\n",
       "      <td>17.96</td>\n",
       "    </tr>\n",
       "    <tr>\n",
       "      <td>3</td>\n",
       "      <td>\"\"</td>\n",
       "      <td>12</td>\n",
       "      <td>5.83</td>\n",
       "    </tr>\n",
       "    <tr>\n",
       "      <td>2</td>\n",
       "      <td>3</td>\n",
       "      <td>2</td>\n",
       "      <td>0.97</td>\n",
       "    </tr>\n",
       "  </tbody>\n",
       "</table>\n",
       "</div>"
      ],
      "text/plain": [
       "  baths  prices     %%\n",
       "0     1     167  81.07\n",
       "1     2      37  17.96\n",
       "3    \"\"      12   5.83\n",
       "2     3       2   0.97"
      ]
     },
     "execution_count": 5,
     "metadata": {},
     "output_type": "execute_result"
    }
   ],
   "source": [
    "bat = df2[['baths','prices']].groupby('baths').count().reset_index()\n",
    "bat['%%'] = round(bat.prices/(sum(bat.prices)-12)*100,2)\n",
    "bat.sort_values('%%', ascending=False)"
   ]
  },
  {
   "cell_type": "code",
   "execution_count": 6,
   "metadata": {},
   "outputs": [
    {
     "name": "stdout",
     "output_type": "stream",
     "text": [
      "t-value: 40.59584703085187, p-value: 5.857662289872613e-100\n"
     ]
    }
   ],
   "source": [
    "from scipy import stats\n",
    "t_val, p_val = stats.ttest_1samp(pd.to_numeric(df2.baths[df2.baths != '\"\"']),0 )\n",
    "\n",
    "# obtain a one-tail p-value\n",
    "p_val\n",
    "\n",
    "print(f\"t-value: {t_val}, p-value: {p_val}\")"
   ]
  },
  {
   "cell_type": "code",
   "execution_count": 7,
   "metadata": {},
   "outputs": [],
   "source": [
    "df2.baths[df2.baths == '\"\"'] = 1\n",
    "\n",
    "df2.baths = pd.to_numeric(df2.baths)\n",
    "df2.beds = pd.to_numeric(df2.beds)\n",
    "df2 = df2[df2.prices <  322971.06 ]\n"
   ]
  },
  {
   "cell_type": "markdown",
   "metadata": {},
   "source": [
    "df2.to_excel('cleared.xlsx')"
   ]
  },
  {
   "cell_type": "code",
   "execution_count": 8,
   "metadata": {},
   "outputs": [
    {
     "data": {
      "text/html": [
       "<div>\n",
       "<style scoped>\n",
       "    .dataframe tbody tr th:only-of-type {\n",
       "        vertical-align: middle;\n",
       "    }\n",
       "\n",
       "    .dataframe tbody tr th {\n",
       "        vertical-align: top;\n",
       "    }\n",
       "\n",
       "    .dataframe thead th {\n",
       "        text-align: right;\n",
       "    }\n",
       "</style>\n",
       "<table border=\"1\" class=\"dataframe\">\n",
       "  <thead>\n",
       "    <tr style=\"text-align: right;\">\n",
       "      <th></th>\n",
       "      <th>property_type</th>\n",
       "      <th>PriceMin</th>\n",
       "      <th>PriceMax</th>\n",
       "      <th>PriceAverage</th>\n",
       "      <th>BedAverage</th>\n",
       "      <th>Count</th>\n",
       "      <th>%%</th>\n",
       "    </tr>\n",
       "  </thead>\n",
       "  <tbody>\n",
       "    <tr>\n",
       "      <td>8</td>\n",
       "      <td>terraced</td>\n",
       "      <td>80000</td>\n",
       "      <td>255000</td>\n",
       "      <td>159696.551724</td>\n",
       "      <td>2.706897</td>\n",
       "      <td>58</td>\n",
       "      <td>27.88</td>\n",
       "    </tr>\n",
       "    <tr>\n",
       "      <td>6</td>\n",
       "      <td>semi_detached</td>\n",
       "      <td>70000</td>\n",
       "      <td>270000</td>\n",
       "      <td>191682.254902</td>\n",
       "      <td>2.843137</td>\n",
       "      <td>51</td>\n",
       "      <td>24.52</td>\n",
       "    </tr>\n",
       "    <tr>\n",
       "      <td>4</td>\n",
       "      <td>flat</td>\n",
       "      <td>50000</td>\n",
       "      <td>160000</td>\n",
       "      <td>104247.916667</td>\n",
       "      <td>1.833333</td>\n",
       "      <td>48</td>\n",
       "      <td>23.08</td>\n",
       "    </tr>\n",
       "    <tr>\n",
       "      <td>3</td>\n",
       "      <td>end_terrace</td>\n",
       "      <td>140000</td>\n",
       "      <td>225000</td>\n",
       "      <td>178774.944444</td>\n",
       "      <td>2.833333</td>\n",
       "      <td>18</td>\n",
       "      <td>8.65</td>\n",
       "    </tr>\n",
       "    <tr>\n",
       "      <td>1</td>\n",
       "      <td>detached</td>\n",
       "      <td>125000</td>\n",
       "      <td>320000</td>\n",
       "      <td>250166.666667</td>\n",
       "      <td>3.333333</td>\n",
       "      <td>15</td>\n",
       "      <td>7.21</td>\n",
       "    </tr>\n",
       "    <tr>\n",
       "      <td>5</td>\n",
       "      <td>maisonette</td>\n",
       "      <td>50000</td>\n",
       "      <td>139995</td>\n",
       "      <td>103849.500000</td>\n",
       "      <td>2.000000</td>\n",
       "      <td>10</td>\n",
       "      <td>4.81</td>\n",
       "    </tr>\n",
       "    <tr>\n",
       "      <td>10</td>\n",
       "      <td>town_house</td>\n",
       "      <td>160000</td>\n",
       "      <td>219950</td>\n",
       "      <td>194983.333333</td>\n",
       "      <td>3.333333</td>\n",
       "      <td>3</td>\n",
       "      <td>1.44</td>\n",
       "    </tr>\n",
       "    <tr>\n",
       "      <td>0</td>\n",
       "      <td>bungalow</td>\n",
       "      <td>200000</td>\n",
       "      <td>200000</td>\n",
       "      <td>200000.000000</td>\n",
       "      <td>2.000000</td>\n",
       "      <td>2</td>\n",
       "      <td>0.96</td>\n",
       "    </tr>\n",
       "    <tr>\n",
       "      <td>2</td>\n",
       "      <td>detached_bungalow</td>\n",
       "      <td>210000</td>\n",
       "      <td>210000</td>\n",
       "      <td>210000.000000</td>\n",
       "      <td>3.000000</td>\n",
       "      <td>1</td>\n",
       "      <td>0.48</td>\n",
       "    </tr>\n",
       "    <tr>\n",
       "      <td>7</td>\n",
       "      <td>semi_detached_bungalow</td>\n",
       "      <td>179950</td>\n",
       "      <td>179950</td>\n",
       "      <td>179950.000000</td>\n",
       "      <td>2.000000</td>\n",
       "      <td>1</td>\n",
       "      <td>0.48</td>\n",
       "    </tr>\n",
       "    <tr>\n",
       "      <td>9</td>\n",
       "      <td>terraced_bungalow</td>\n",
       "      <td>130000</td>\n",
       "      <td>130000</td>\n",
       "      <td>130000.000000</td>\n",
       "      <td>1.000000</td>\n",
       "      <td>1</td>\n",
       "      <td>0.48</td>\n",
       "    </tr>\n",
       "  </tbody>\n",
       "</table>\n",
       "</div>"
      ],
      "text/plain": [
       "             property_type  PriceMin  PriceMax   PriceAverage  BedAverage  \\\n",
       "8                 terraced     80000    255000  159696.551724    2.706897   \n",
       "6            semi_detached     70000    270000  191682.254902    2.843137   \n",
       "4                     flat     50000    160000  104247.916667    1.833333   \n",
       "3              end_terrace    140000    225000  178774.944444    2.833333   \n",
       "1                 detached    125000    320000  250166.666667    3.333333   \n",
       "5               maisonette     50000    139995  103849.500000    2.000000   \n",
       "10              town_house    160000    219950  194983.333333    3.333333   \n",
       "0                 bungalow    200000    200000  200000.000000    2.000000   \n",
       "2        detached_bungalow    210000    210000  210000.000000    3.000000   \n",
       "7   semi_detached_bungalow    179950    179950  179950.000000    2.000000   \n",
       "9        terraced_bungalow    130000    130000  130000.000000    1.000000   \n",
       "\n",
       "    Count     %%  \n",
       "8      58  27.88  \n",
       "6      51  24.52  \n",
       "4      48  23.08  \n",
       "3      18   8.65  \n",
       "1      15   7.21  \n",
       "5      10   4.81  \n",
       "10      3   1.44  \n",
       "0       2   0.96  \n",
       "2       1   0.48  \n",
       "7       1   0.48  \n",
       "9       1   0.48  "
      ]
     },
     "execution_count": 8,
     "metadata": {},
     "output_type": "execute_result"
    }
   ],
   "source": [
    "margins = df2[['property_type', 'prices','beds']]\n",
    "\n",
    "\n",
    "aa = margins.groupby(['property_type'],as_index=True).agg(\n",
    "    PriceMin=pd.NamedAgg(column='prices', aggfunc='min'),\n",
    "    PriceMax=pd.NamedAgg(column='prices', aggfunc='max'),\n",
    "    PriceAverage=pd.NamedAgg(column='prices', aggfunc=np.mean,),\n",
    "    BedAverage=pd.NamedAgg(column='beds', aggfunc=np.mean,),\n",
    "    Count = pd.NamedAgg(column='prices', aggfunc='count')).reset_index()\n",
    "\n",
    "aa['%%'] = round(aa.Count/sum(aa.Count)*100,2)\n",
    "aa.sort_values('%%', ascending=False)"
   ]
  },
  {
   "cell_type": "code",
   "execution_count": 9,
   "metadata": {},
   "outputs": [
    {
     "data": {
      "text/html": [
       "<div>\n",
       "<style scoped>\n",
       "    .dataframe tbody tr th:only-of-type {\n",
       "        vertical-align: middle;\n",
       "    }\n",
       "\n",
       "    .dataframe tbody tr th {\n",
       "        vertical-align: top;\n",
       "    }\n",
       "\n",
       "    .dataframe thead th {\n",
       "        text-align: right;\n",
       "    }\n",
       "</style>\n",
       "<table border=\"1\" class=\"dataframe\">\n",
       "  <thead>\n",
       "    <tr style=\"text-align: right;\">\n",
       "      <th></th>\n",
       "      <th>property_type</th>\n",
       "      <th>PriceMin</th>\n",
       "      <th>PriceMax</th>\n",
       "      <th>PriceAverage</th>\n",
       "      <th>Count</th>\n",
       "      <th>%%</th>\n",
       "    </tr>\n",
       "  </thead>\n",
       "  <tbody>\n",
       "    <tr>\n",
       "      <td>8</td>\n",
       "      <td>terraced</td>\n",
       "      <td>2</td>\n",
       "      <td>4</td>\n",
       "      <td>2.706897</td>\n",
       "      <td>58</td>\n",
       "      <td>27.88</td>\n",
       "    </tr>\n",
       "    <tr>\n",
       "      <td>6</td>\n",
       "      <td>semi_detached</td>\n",
       "      <td>2</td>\n",
       "      <td>4</td>\n",
       "      <td>2.843137</td>\n",
       "      <td>51</td>\n",
       "      <td>24.52</td>\n",
       "    </tr>\n",
       "    <tr>\n",
       "      <td>4</td>\n",
       "      <td>flat</td>\n",
       "      <td>1</td>\n",
       "      <td>2</td>\n",
       "      <td>1.833333</td>\n",
       "      <td>48</td>\n",
       "      <td>23.08</td>\n",
       "    </tr>\n",
       "    <tr>\n",
       "      <td>3</td>\n",
       "      <td>end_terrace</td>\n",
       "      <td>2</td>\n",
       "      <td>4</td>\n",
       "      <td>2.833333</td>\n",
       "      <td>18</td>\n",
       "      <td>8.65</td>\n",
       "    </tr>\n",
       "    <tr>\n",
       "      <td>1</td>\n",
       "      <td>detached</td>\n",
       "      <td>1</td>\n",
       "      <td>5</td>\n",
       "      <td>3.333333</td>\n",
       "      <td>15</td>\n",
       "      <td>7.21</td>\n",
       "    </tr>\n",
       "    <tr>\n",
       "      <td>5</td>\n",
       "      <td>maisonette</td>\n",
       "      <td>1</td>\n",
       "      <td>3</td>\n",
       "      <td>2.000000</td>\n",
       "      <td>10</td>\n",
       "      <td>4.81</td>\n",
       "    </tr>\n",
       "    <tr>\n",
       "      <td>10</td>\n",
       "      <td>town_house</td>\n",
       "      <td>2</td>\n",
       "      <td>4</td>\n",
       "      <td>3.333333</td>\n",
       "      <td>3</td>\n",
       "      <td>1.44</td>\n",
       "    </tr>\n",
       "    <tr>\n",
       "      <td>0</td>\n",
       "      <td>bungalow</td>\n",
       "      <td>2</td>\n",
       "      <td>2</td>\n",
       "      <td>2.000000</td>\n",
       "      <td>2</td>\n",
       "      <td>0.96</td>\n",
       "    </tr>\n",
       "    <tr>\n",
       "      <td>2</td>\n",
       "      <td>detached_bungalow</td>\n",
       "      <td>3</td>\n",
       "      <td>3</td>\n",
       "      <td>3.000000</td>\n",
       "      <td>1</td>\n",
       "      <td>0.48</td>\n",
       "    </tr>\n",
       "    <tr>\n",
       "      <td>7</td>\n",
       "      <td>semi_detached_bungalow</td>\n",
       "      <td>2</td>\n",
       "      <td>2</td>\n",
       "      <td>2.000000</td>\n",
       "      <td>1</td>\n",
       "      <td>0.48</td>\n",
       "    </tr>\n",
       "    <tr>\n",
       "      <td>9</td>\n",
       "      <td>terraced_bungalow</td>\n",
       "      <td>1</td>\n",
       "      <td>1</td>\n",
       "      <td>1.000000</td>\n",
       "      <td>1</td>\n",
       "      <td>0.48</td>\n",
       "    </tr>\n",
       "  </tbody>\n",
       "</table>\n",
       "</div>"
      ],
      "text/plain": [
       "             property_type  PriceMin  PriceMax  PriceAverage  Count     %%\n",
       "8                 terraced         2         4      2.706897     58  27.88\n",
       "6            semi_detached         2         4      2.843137     51  24.52\n",
       "4                     flat         1         2      1.833333     48  23.08\n",
       "3              end_terrace         2         4      2.833333     18   8.65\n",
       "1                 detached         1         5      3.333333     15   7.21\n",
       "5               maisonette         1         3      2.000000     10   4.81\n",
       "10              town_house         2         4      3.333333      3   1.44\n",
       "0                 bungalow         2         2      2.000000      2   0.96\n",
       "2        detached_bungalow         3         3      3.000000      1   0.48\n",
       "7   semi_detached_bungalow         2         2      2.000000      1   0.48\n",
       "9        terraced_bungalow         1         1      1.000000      1   0.48"
      ]
     },
     "execution_count": 9,
     "metadata": {},
     "output_type": "execute_result"
    }
   ],
   "source": [
    "margins = df2[['property_type', 'beds']]\n",
    "\n",
    "\n",
    "aa = margins.groupby(['property_type'],as_index=True).agg(\n",
    "    PriceMin=pd.NamedAgg(column='beds', aggfunc='min'),\n",
    "    PriceMax=pd.NamedAgg(column='beds', aggfunc='max'),\n",
    "    PriceAverage=pd.NamedAgg(column='beds', aggfunc=np.mean,),\n",
    "\n",
    "    Count = pd.NamedAgg(column='beds', aggfunc='count')).reset_index()\n",
    "\n",
    "aa['%%'] = round(aa.Count/sum(aa.Count)*100,2)\n",
    "aa.sort_values('%%', ascending=False)"
   ]
  },
  {
   "cell_type": "code",
   "execution_count": 10,
   "metadata": {},
   "outputs": [
    {
     "data": {
      "text/plain": [
       "208"
      ]
     },
     "execution_count": 10,
     "metadata": {},
     "output_type": "execute_result"
    }
   ],
   "source": [
    "aa.Count.sum()"
   ]
  },
  {
   "cell_type": "code",
   "execution_count": 11,
   "metadata": {},
   "outputs": [
    {
     "name": "stderr",
     "output_type": "stream",
     "text": [
      "/Users/Edite/opt/anaconda3/lib/python3.7/site-packages/ipykernel_launcher.py:2: SettingWithCopyWarning: \n",
      "A value is trying to be set on a copy of a slice from a DataFrame\n",
      "\n",
      "See the caveats in the documentation: http://pandas.pydata.org/pandas-docs/stable/user_guide/indexing.html#returning-a-view-versus-a-copy\n",
      "  \n",
      "/Users/Edite/opt/anaconda3/lib/python3.7/site-packages/ipykernel_launcher.py:3: SettingWithCopyWarning: \n",
      "A value is trying to be set on a copy of a slice from a DataFrame\n",
      "\n",
      "See the caveats in the documentation: http://pandas.pydata.org/pandas-docs/stable/user_guide/indexing.html#returning-a-view-versus-a-copy\n",
      "  This is separate from the ipykernel package so we can avoid doing imports until\n",
      "/Users/Edite/opt/anaconda3/lib/python3.7/site-packages/ipykernel_launcher.py:4: SettingWithCopyWarning: \n",
      "A value is trying to be set on a copy of a slice from a DataFrame\n",
      "\n",
      "See the caveats in the documentation: http://pandas.pydata.org/pandas-docs/stable/user_guide/indexing.html#returning-a-view-versus-a-copy\n",
      "  after removing the cwd from sys.path.\n",
      "/Users/Edite/opt/anaconda3/lib/python3.7/site-packages/ipykernel_launcher.py:5: SettingWithCopyWarning: \n",
      "A value is trying to be set on a copy of a slice from a DataFrame\n",
      "\n",
      "See the caveats in the documentation: http://pandas.pydata.org/pandas-docs/stable/user_guide/indexing.html#returning-a-view-versus-a-copy\n",
      "  \"\"\"\n",
      "/Users/Edite/opt/anaconda3/lib/python3.7/site-packages/ipykernel_launcher.py:6: SettingWithCopyWarning: \n",
      "A value is trying to be set on a copy of a slice from a DataFrame\n",
      "\n",
      "See the caveats in the documentation: http://pandas.pydata.org/pandas-docs/stable/user_guide/indexing.html#returning-a-view-versus-a-copy\n",
      "  \n",
      "/Users/Edite/opt/anaconda3/lib/python3.7/site-packages/ipykernel_launcher.py:7: SettingWithCopyWarning: \n",
      "A value is trying to be set on a copy of a slice from a DataFrame\n",
      "\n",
      "See the caveats in the documentation: http://pandas.pydata.org/pandas-docs/stable/user_guide/indexing.html#returning-a-view-versus-a-copy\n",
      "  import sys\n"
     ]
    }
   ],
   "source": [
    "df2.property_type[df2.property_type == 'maisonette'] = 'flat'\n",
    "df2.property_type[df2.property_type == 'semi_detached_bungalow'] = 'semi_detached'\n",
    "df2.property_type[df2.property_type == 'town_house'] = 'terraced'\n",
    "df2.property_type[df2.property_type == 'terraced_bungalow'] = 'terraced'\n",
    "df2.property_type[df2.property_type == 'detached_bungalow'] = 'detached'\n",
    "df2.property_type[df2.property_type == 'end_terrace'] = 'semi_detached'\n",
    "df2.property_type[df2.property_type == 'bungalow'] = 'semi_detached'\n"
   ]
  },
  {
   "cell_type": "code",
   "execution_count": 12,
   "metadata": {},
   "outputs": [],
   "source": [
    "margins = df2[['property_type', 'prices','beds', 'baths']]\n",
    "\n",
    "\n",
    "aa = margins.groupby(['property_type'],as_index=True).agg(\n",
    "    PriceMin=pd.NamedAgg(column='prices', aggfunc='min'),\n",
    "    PriceMax=pd.NamedAgg(column='prices', aggfunc='max'),\n",
    "    PriceAverage=pd.NamedAgg(column='prices', aggfunc=np.mean,),\n",
    "    BedAverage=pd.NamedAgg(column='beds', aggfunc=np.mean,),\n",
    "    BathAverage=pd.NamedAgg(column='baths', aggfunc=np.mean,),\n",
    "    Count = pd.NamedAgg(column='prices', aggfunc='count')).reset_index()\n",
    "\n",
    "aa['%%'] = round(aa.Count/sum(aa.Count)*100,2)\n",
    "aa.sort_values('%%', ascending=False)\n",
    "\n",
    "aa.property_type = aa.property_type.str.title()"
   ]
  },
  {
   "cell_type": "code",
   "execution_count": 13,
   "metadata": {},
   "outputs": [
    {
     "data": {
      "text/html": [
       "<div>\n",
       "<style scoped>\n",
       "    .dataframe tbody tr th:only-of-type {\n",
       "        vertical-align: middle;\n",
       "    }\n",
       "\n",
       "    .dataframe tbody tr th {\n",
       "        vertical-align: top;\n",
       "    }\n",
       "\n",
       "    .dataframe thead th {\n",
       "        text-align: right;\n",
       "    }\n",
       "</style>\n",
       "<table border=\"1\" class=\"dataframe\">\n",
       "  <thead>\n",
       "    <tr style=\"text-align: right;\">\n",
       "      <th></th>\n",
       "      <th>property_type</th>\n",
       "      <th>PriceMin</th>\n",
       "      <th>PriceMax</th>\n",
       "      <th>PriceAverage</th>\n",
       "      <th>BedAverage</th>\n",
       "      <th>BathAverage</th>\n",
       "      <th>Count</th>\n",
       "      <th>%%</th>\n",
       "    </tr>\n",
       "  </thead>\n",
       "  <tbody>\n",
       "    <tr>\n",
       "      <td>0</td>\n",
       "      <td>Detached</td>\n",
       "      <td>125000</td>\n",
       "      <td>320000</td>\n",
       "      <td>247656.250000</td>\n",
       "      <td>3.312500</td>\n",
       "      <td>1.250000</td>\n",
       "      <td>16</td>\n",
       "      <td>7.69</td>\n",
       "    </tr>\n",
       "    <tr>\n",
       "      <td>1</td>\n",
       "      <td>Flat</td>\n",
       "      <td>50000</td>\n",
       "      <td>160000</td>\n",
       "      <td>104179.224138</td>\n",
       "      <td>1.862069</td>\n",
       "      <td>1.103448</td>\n",
       "      <td>58</td>\n",
       "      <td>27.88</td>\n",
       "    </tr>\n",
       "    <tr>\n",
       "      <td>2</td>\n",
       "      <td>Semi_Detached</td>\n",
       "      <td>70000</td>\n",
       "      <td>270000</td>\n",
       "      <td>188523.527778</td>\n",
       "      <td>2.805556</td>\n",
       "      <td>1.236111</td>\n",
       "      <td>72</td>\n",
       "      <td>34.62</td>\n",
       "    </tr>\n",
       "    <tr>\n",
       "      <td>3</td>\n",
       "      <td>Terraced</td>\n",
       "      <td>80000</td>\n",
       "      <td>255000</td>\n",
       "      <td>160925.000000</td>\n",
       "      <td>2.709677</td>\n",
       "      <td>1.145161</td>\n",
       "      <td>62</td>\n",
       "      <td>29.81</td>\n",
       "    </tr>\n",
       "  </tbody>\n",
       "</table>\n",
       "</div>"
      ],
      "text/plain": [
       "   property_type  PriceMin  PriceMax   PriceAverage  BedAverage  BathAverage  \\\n",
       "0       Detached    125000    320000  247656.250000    3.312500     1.250000   \n",
       "1           Flat     50000    160000  104179.224138    1.862069     1.103448   \n",
       "2  Semi_Detached     70000    270000  188523.527778    2.805556     1.236111   \n",
       "3       Terraced     80000    255000  160925.000000    2.709677     1.145161   \n",
       "\n",
       "   Count     %%  \n",
       "0     16   7.69  \n",
       "1     58  27.88  \n",
       "2     72  34.62  \n",
       "3     62  29.81  "
      ]
     },
     "execution_count": 13,
     "metadata": {},
     "output_type": "execute_result"
    }
   ],
   "source": [
    "aa"
   ]
  },
  {
   "cell_type": "code",
   "execution_count": 14,
   "metadata": {},
   "outputs": [
    {
     "data": {
      "text/html": [
       "<div>\n",
       "<style scoped>\n",
       "    .dataframe tbody tr th:only-of-type {\n",
       "        vertical-align: middle;\n",
       "    }\n",
       "\n",
       "    .dataframe tbody tr th {\n",
       "        vertical-align: top;\n",
       "    }\n",
       "\n",
       "    .dataframe thead th {\n",
       "        text-align: right;\n",
       "    }\n",
       "</style>\n",
       "<table border=\"1\" class=\"dataframe\">\n",
       "  <thead>\n",
       "    <tr style=\"text-align: right;\">\n",
       "      <th></th>\n",
       "      <th>beds</th>\n",
       "      <th>PriceMin</th>\n",
       "      <th>PriceMax</th>\n",
       "      <th>PriceAverage</th>\n",
       "      <th>Count</th>\n",
       "      <th>%%</th>\n",
       "    </tr>\n",
       "  </thead>\n",
       "  <tbody>\n",
       "    <tr>\n",
       "      <td>2</td>\n",
       "      <td>3</td>\n",
       "      <td>80000</td>\n",
       "      <td>275000</td>\n",
       "      <td>188402.063830</td>\n",
       "      <td>94</td>\n",
       "      <td>45.19</td>\n",
       "    </tr>\n",
       "    <tr>\n",
       "      <td>1</td>\n",
       "      <td>2</td>\n",
       "      <td>50000</td>\n",
       "      <td>200000</td>\n",
       "      <td>127712.443182</td>\n",
       "      <td>88</td>\n",
       "      <td>42.31</td>\n",
       "    </tr>\n",
       "    <tr>\n",
       "      <td>3</td>\n",
       "      <td>4</td>\n",
       "      <td>180000</td>\n",
       "      <td>285000</td>\n",
       "      <td>224996.153846</td>\n",
       "      <td>13</td>\n",
       "      <td>6.25</td>\n",
       "    </tr>\n",
       "    <tr>\n",
       "      <td>0</td>\n",
       "      <td>1</td>\n",
       "      <td>65000</td>\n",
       "      <td>130000</td>\n",
       "      <td>96590.909091</td>\n",
       "      <td>11</td>\n",
       "      <td>5.29</td>\n",
       "    </tr>\n",
       "    <tr>\n",
       "      <td>4</td>\n",
       "      <td>5</td>\n",
       "      <td>300000</td>\n",
       "      <td>320000</td>\n",
       "      <td>310000.000000</td>\n",
       "      <td>2</td>\n",
       "      <td>0.96</td>\n",
       "    </tr>\n",
       "  </tbody>\n",
       "</table>\n",
       "</div>"
      ],
      "text/plain": [
       "   beds  PriceMin  PriceMax   PriceAverage  Count     %%\n",
       "2     3     80000    275000  188402.063830     94  45.19\n",
       "1     2     50000    200000  127712.443182     88  42.31\n",
       "3     4    180000    285000  224996.153846     13   6.25\n",
       "0     1     65000    130000   96590.909091     11   5.29\n",
       "4     5    300000    320000  310000.000000      2   0.96"
      ]
     },
     "execution_count": 14,
     "metadata": {},
     "output_type": "execute_result"
    }
   ],
   "source": [
    "margins = df2[['property_type', 'prices','beds']]\n",
    "\n",
    "\n",
    "bb = margins.groupby(['beds'],as_index=True).agg(\n",
    "    PriceMin=pd.NamedAgg(column='prices', aggfunc='min'),\n",
    "    PriceMax=pd.NamedAgg(column='prices', aggfunc='max'),\n",
    "    PriceAverage=pd.NamedAgg(column='prices', aggfunc=np.mean,),\n",
    "    \n",
    "    Count = pd.NamedAgg(column='prices', aggfunc='count')).reset_index()\n",
    "\n",
    "bb['%%'] = round(bb.Count/sum(bb.Count)*100,2)\n",
    "bb.sort_values('Count', ascending=False)"
   ]
  },
  {
   "cell_type": "code",
   "execution_count": 15,
   "metadata": {},
   "outputs": [
    {
     "data": {
      "text/plain": [
       "<matplotlib.axes._subplots.AxesSubplot at 0x1c19584150>"
      ]
     },
     "execution_count": 15,
     "metadata": {},
     "output_type": "execute_result"
    },
    {
     "data": {
      "image/png": "[encoded data removed]",
      "text/plain": [
       "<Figure size 432x288 with 1 Axes>"
      ]
     },
     "metadata": {
      "needs_background": "light"
     },
     "output_type": "display_data"
    }
   ],
   "source": [
    "df2[df2.beds ==3]['prices'].hist()"
   ]
  },
  {
   "cell_type": "code",
   "execution_count": 16,
   "metadata": {},
   "outputs": [
    {
     "data": {
      "text/plain": [
       "<matplotlib.axes._subplots.AxesSubplot at 0x1c1a600bd0>"
      ]
     },
     "execution_count": 16,
     "metadata": {},
     "output_type": "execute_result"
    },
    {
     "data": {
      "image/png": "[encoded data removed]",
      "text/plain": [
       "<Figure size 432x288 with 1 Axes>"
      ]
     },
     "metadata": {
      "needs_background": "light"
     },
     "output_type": "display_data"
    }
   ],
   "source": [
    "df2[df2.beds ==2]['prices'].hist()"
   ]
  },
  {
   "cell_type": "code",
   "execution_count": 17,
   "metadata": {},
   "outputs": [],
   "source": [
    "x1 = df2[df2.beds ==1] [['beds', 'prices']]\n",
    "x2 = df2[df2.beds ==2] [['beds', 'prices']]\n"
   ]
  },
  {
   "cell_type": "code",
   "execution_count": 18,
   "metadata": {},
   "outputs": [
    {
     "data": {
      "text/plain": [
       "Text(0, 0.5, 'Density')"
      ]
     },
     "execution_count": 18,
     "metadata": {},
     "output_type": "execute_result"
    },
    {
     "data": {
      "image/png": "[encoded data removed]",
      "text/plain": [
       "<Figure size 432x288 with 1 Axes>"
      ]
     },
     "metadata": {
      "needs_background": "light"
     },
     "output_type": "display_data"
    }
   ],
   "source": [
    "#df =df2[df2.beds ==5]\n",
    "#sns.distplot(df['prices']/1000, label='5', hist = True, kde = False, hist_kws=dict(alpha=.1))\n",
    "#df =df2[df2.beds ==4]\n",
    "#sns.distplot(df['prices']/1000, label='4', hist = True, kde = False, hist_kws=dict(alpha=.2))\n",
    "df =df2[(df2.beds ==3) & (df2.prices < 300000)]\n",
    "sns.distplot(df['prices']/1000, label='3', hist = True, kde = True, hist_kws=dict(alpha=.2))\n",
    "df =df2[df2.beds ==2]\n",
    "sns.distplot(df['prices']/1000, label='2', hist = True, kde = True, hist_kws=dict(alpha=.3))\n",
    "#df = df2[df2.beds ==1] \n",
    "#sns.distplot(df['prices']/1000, label='1', hist = True, kde = False, hist_kws=dict(alpha=1))\n",
    "\n",
    "plt.legend(prop={'size': 12})\n",
    "plt.title('Life Expectancy of Two Continents')\n",
    "plt.xlabel('Life Exp (years)')\n",
    "plt.ylabel('Density')"
   ]
  },
  {
   "cell_type": "code",
   "execution_count": 19,
   "metadata": {},
   "outputs": [
    {
     "data": {
      "text/plain": [
       "<seaborn.axisgrid.JointGrid at 0x1c195d4910>"
      ]
     },
     "execution_count": 19,
     "metadata": {},
     "output_type": "execute_result"
    },
    {
     "data": {
      "image/png": "[encoded data removed]",
      "text/plain": [
       "<Figure size 432x432 with 3 Axes>"
      ]
     },
     "metadata": {
      "needs_background": "light"
     },
     "output_type": "display_data"
    }
   ],
   "source": [
    "sns.jointplot(x=df2[\"closest_train_station\"], y=df2[\"prices\"], kind='hex', marginal_kws=dict(bins=10, rug=True))"
   ]
  },
  {
   "cell_type": "code",
   "execution_count": 20,
   "metadata": {},
   "outputs": [],
   "source": [
    "cat_columns = [\"beds\", \"property_type\", \"baths\"]\n",
    "\n",
    "df_processed = pd.get_dummies(df2, prefix_sep=\"__\",\n",
    "                              columns=cat_columns)"
   ]
  },
  {
   "cell_type": "code",
   "execution_count": 21,
   "metadata": {},
   "outputs": [],
   "source": [
    "df_processed['beds_2_3'] = df_processed.beds__2 + df_processed.beds__3"
   ]
  },
  {
   "cell_type": "code",
   "execution_count": 22,
   "metadata": {},
   "outputs": [
    {
     "data": {
      "text/plain": [
       "<matplotlib.axes._subplots.AxesSubplot at 0x1c1afed9d0>"
      ]
     },
     "execution_count": 22,
     "metadata": {},
     "output_type": "execute_result"
    },
    {
     "data": {
      "image/png": "[encoded data removed]",
      "text/plain": [
       "<Figure size 432x288 with 2 Axes>"
      ]
     },
     "metadata": {
      "needs_background": "light"
     },
     "output_type": "display_data"
    }
   ],
   "source": [
    "import seaborn as sns\n",
    "%matplotlib inline\n",
    "\n",
    "# calculate the correlation matrix\n",
    "corr = df2.corr()\n",
    "\n",
    "# plot the heatmap\n",
    "sns.heatmap(corr[(corr >= 0.5) | (corr <= -0.4)], \n",
    "        xticklabels=corr.columns,\n",
    "        yticklabels=corr.columns\n",
    "           ,annot=True)"
   ]
  },
  {
   "cell_type": "code",
   "execution_count": 23,
   "metadata": {},
   "outputs": [
    {
     "data": {
      "text/html": [
       "<div>\n",
       "<style scoped>\n",
       "    .dataframe tbody tr th:only-of-type {\n",
       "        vertical-align: middle;\n",
       "    }\n",
       "\n",
       "    .dataframe tbody tr th {\n",
       "        vertical-align: top;\n",
       "    }\n",
       "\n",
       "    .dataframe thead th {\n",
       "        text-align: right;\n",
       "    }\n",
       "</style>\n",
       "<table border=\"1\" class=\"dataframe\">\n",
       "  <thead>\n",
       "    <tr style=\"text-align: right;\">\n",
       "      <th></th>\n",
       "      <th>level_0</th>\n",
       "      <th>level_1</th>\n",
       "      <th>Correlation</th>\n",
       "    </tr>\n",
       "  </thead>\n",
       "  <tbody>\n",
       "    <tr>\n",
       "      <td>2</td>\n",
       "      <td>beds</td>\n",
       "      <td>prices</td>\n",
       "      <td>0.730112</td>\n",
       "    </tr>\n",
       "    <tr>\n",
       "      <td>10</td>\n",
       "      <td>prices</td>\n",
       "      <td>beds</td>\n",
       "      <td>0.730112</td>\n",
       "    </tr>\n",
       "  </tbody>\n",
       "</table>\n",
       "</div>"
      ],
      "text/plain": [
       "   level_0 level_1  Correlation\n",
       "2     beds  prices     0.730112\n",
       "10  prices    beds     0.730112"
      ]
     },
     "execution_count": 23,
     "metadata": {},
     "output_type": "execute_result"
    }
   ],
   "source": [
    "corr2 = corr.stack().reset_index()\n",
    "\n",
    "corr2.rename(columns={0: \"Correlation\"}, errors=\"raise\", inplace=True)\n",
    "\n",
    "corr2 = corr2[corr2.level_0 != corr2.level_1 ].sort_values('Correlation', ascending=False)\n",
    "\n",
    "corr2[(corr2.Correlation < -0.5) | (corr2.Correlation >0.5)]"
   ]
  },
  {
   "cell_type": "code",
   "execution_count": 24,
   "metadata": {},
   "outputs": [
    {
     "data": {
      "text/plain": [
       "<matplotlib.axes._subplots.AxesSubplot at 0x1c1b3cd490>"
      ]
     },
     "execution_count": 24,
     "metadata": {},
     "output_type": "execute_result"
    },
    {
     "data": {
      "image/png": "[encoded data removed]",
      "text/plain": [
       "<Figure size 432x288 with 1 Axes>"
      ]
     },
     "metadata": {
      "needs_background": "light"
     },
     "output_type": "display_data"
    }
   ],
   "source": [
    "import math\n",
    "yint = range(0, math.ceil(max(df2.beds))+1)\n",
    "plt.xticks(yint)\n",
    "\n",
    "df2.beds.hist(bins = 10, align ='mid')"
   ]
  },
  {
   "cell_type": "markdown",
   "metadata": {},
   "source": [
    "null_columns=df2.columns[df2.isnull().any()]\n",
    "df2[null_columns].isnull().sum()\n",
    "df2[df2.isnull().any(axis=1)][null_columns]"
   ]
  },
  {
   "cell_type": "code",
   "execution_count": 25,
   "metadata": {},
   "outputs": [],
   "source": [
    "df = df_processed.sample(100)"
   ]
  },
  {
   "cell_type": "code",
   "execution_count": 26,
   "metadata": {},
   "outputs": [],
   "source": [
    "target = df.prices"
   ]
  },
  {
   "cell_type": "markdown",
   "metadata": {},
   "source": [
    "import seaborn as sns\n",
    "\n",
    "import numpy as np\n",
    "import matplotlib.pyplot as plt\n",
    "\n",
    "\n",
    "sns.regplot(x=df2[\"prices\"]/1000, y=df2[\"beds\"])\n",
    "plt.xlabel('Property Price, Thousand £')\n",
    "plt.ylabel('Count of Bedrooms')\n",
    "plt.title('House Price Relationship to Bedroom Count', pad=15)\n",
    "\n",
    "plt.savefig('bedrooms.png'\n",
    "            #, bbox_inches='tight'\n",
    "            , dpi=300)"
   ]
  },
  {
   "cell_type": "code",
   "execution_count": 27,
   "metadata": {},
   "outputs": [
    {
     "data": {
      "text/plain": [
       "Index(['prices', 'closest_train_station', 'closest_school', 'beds__1',\n",
       "       'beds__2', 'beds__3', 'beds__4', 'beds__5', 'property_type__detached',\n",
       "       'property_type__flat', 'property_type__semi_detached',\n",
       "       'property_type__terraced', 'baths__1', 'baths__2', 'beds_2_3'],\n",
       "      dtype='object')"
      ]
     },
     "execution_count": 27,
     "metadata": {},
     "output_type": "execute_result"
    }
   ],
   "source": [
    "df_processed.columns"
   ]
  },
  {
   "cell_type": "code",
   "execution_count": 28,
   "metadata": {},
   "outputs": [
    {
     "data": {
      "text/html": [
       "<table class=\"simpletable\">\n",
       "<caption>OLS Regression Results</caption>\n",
       "<tr>\n",
       "  <th>Dep. Variable:</th>         <td>prices</td>      <th>  R-squared (uncentered):</th>      <td>   0.959</td> \n",
       "</tr>\n",
       "<tr>\n",
       "  <th>Model:</th>                   <td>OLS</td>       <th>  Adj. R-squared (uncentered):</th> <td>   0.957</td> \n",
       "</tr>\n",
       "<tr>\n",
       "  <th>Method:</th>             <td>Least Squares</td>  <th>  F-statistic:       </th>          <td>   512.2</td> \n",
       "</tr>\n",
       "<tr>\n",
       "  <th>Date:</th>             <td>Sun, 22 Dec 2019</td> <th>  Prob (F-statistic):</th>          <td>1.85e-132</td>\n",
       "</tr>\n",
       "<tr>\n",
       "  <th>Time:</th>                 <td>00:16:05</td>     <th>  Log-Likelihood:    </th>          <td> -2468.4</td> \n",
       "</tr>\n",
       "<tr>\n",
       "  <th>No. Observations:</th>      <td>   208</td>      <th>  AIC:               </th>          <td>   4955.</td> \n",
       "</tr>\n",
       "<tr>\n",
       "  <th>Df Residuals:</th>          <td>   199</td>      <th>  BIC:               </th>          <td>   4985.</td> \n",
       "</tr>\n",
       "<tr>\n",
       "  <th>Df Model:</th>              <td>     9</td>      <th>                     </th>              <td> </td>    \n",
       "</tr>\n",
       "<tr>\n",
       "  <th>Covariance Type:</th>      <td>nonrobust</td>    <th>                     </th>              <td> </td>    \n",
       "</tr>\n",
       "</table>\n",
       "<table class=\"simpletable\">\n",
       "<tr>\n",
       "                <td></td>                  <th>coef</th>     <th>std err</th>      <th>t</th>      <th>P>|t|</th>  <th>[0.025</th>    <th>0.975]</th>  \n",
       "</tr>\n",
       "<tr>\n",
       "  <th>closest_train_station</th>        <td> 2654.9391</td> <td> 8226.728</td> <td>    0.323</td> <td> 0.747</td> <td>-1.36e+04</td> <td> 1.89e+04</td>\n",
       "</tr>\n",
       "<tr>\n",
       "  <th>closest_school</th>               <td> 6.863e+04</td> <td> 2.25e+04</td> <td>    3.050</td> <td> 0.003</td> <td> 2.43e+04</td> <td> 1.13e+05</td>\n",
       "</tr>\n",
       "<tr>\n",
       "  <th>beds__1</th>                      <td>  1.01e+05</td> <td> 1.47e+04</td> <td>    6.872</td> <td> 0.000</td> <td>  7.2e+04</td> <td>  1.3e+05</td>\n",
       "</tr>\n",
       "<tr>\n",
       "  <th>beds_2_3</th>                     <td> 1.277e+05</td> <td> 1.01e+04</td> <td>   12.654</td> <td> 0.000</td> <td> 1.08e+05</td> <td> 1.48e+05</td>\n",
       "</tr>\n",
       "<tr>\n",
       "  <th>beds__4</th>                      <td> 1.595e+05</td> <td> 1.44e+04</td> <td>   11.103</td> <td> 0.000</td> <td> 1.31e+05</td> <td> 1.88e+05</td>\n",
       "</tr>\n",
       "<tr>\n",
       "  <th>property_type__detached</th>      <td> 1.016e+05</td> <td> 1.02e+04</td> <td>    9.980</td> <td> 0.000</td> <td> 8.15e+04</td> <td> 1.22e+05</td>\n",
       "</tr>\n",
       "<tr>\n",
       "  <th>property_type__flat</th>          <td>-4.304e+04</td> <td> 6670.798</td> <td>   -6.452</td> <td> 0.000</td> <td>-5.62e+04</td> <td>-2.99e+04</td>\n",
       "</tr>\n",
       "<tr>\n",
       "  <th>property_type__semi_detached</th> <td> 3.189e+04</td> <td> 6175.899</td> <td>    5.164</td> <td> 0.000</td> <td> 1.97e+04</td> <td> 4.41e+04</td>\n",
       "</tr>\n",
       "<tr>\n",
       "  <th>baths__2</th>                     <td> 1.302e+04</td> <td> 6923.231</td> <td>    1.880</td> <td> 0.062</td> <td> -633.930</td> <td> 2.67e+04</td>\n",
       "</tr>\n",
       "</table>\n",
       "<table class=\"simpletable\">\n",
       "<tr>\n",
       "  <th>Omnibus:</th>       <td>63.379</td> <th>  Durbin-Watson:     </th> <td>   1.956</td>\n",
       "</tr>\n",
       "<tr>\n",
       "  <th>Prob(Omnibus):</th> <td> 0.000</td> <th>  Jarque-Bera (JB):  </th> <td> 429.937</td>\n",
       "</tr>\n",
       "<tr>\n",
       "  <th>Skew:</th>          <td> 0.955</td> <th>  Prob(JB):          </th> <td>4.37e-94</td>\n",
       "</tr>\n",
       "<tr>\n",
       "  <th>Kurtosis:</th>      <td> 9.779</td> <th>  Cond. No.          </th> <td>    15.0</td>\n",
       "</tr>\n",
       "</table><br/><br/>Warnings:<br/>[1] Standard Errors assume that the covariance matrix of the errors is correctly specified."
      ],
      "text/plain": [
       "<class 'statsmodels.iolib.summary.Summary'>\n",
       "\"\"\"\n",
       "                                 OLS Regression Results                                \n",
       "=======================================================================================\n",
       "Dep. Variable:                 prices   R-squared (uncentered):                   0.959\n",
       "Model:                            OLS   Adj. R-squared (uncentered):              0.957\n",
       "Method:                 Least Squares   F-statistic:                              512.2\n",
       "Date:                Sun, 22 Dec 2019   Prob (F-statistic):                   1.85e-132\n",
       "Time:                        00:16:05   Log-Likelihood:                         -2468.4\n",
       "No. Observations:                 208   AIC:                                      4955.\n",
       "Df Residuals:                     199   BIC:                                      4985.\n",
       "Df Model:                           9                                                  \n",
       "Covariance Type:            nonrobust                                                  \n",
       "================================================================================================\n",
       "                                   coef    std err          t      P>|t|      [0.025      0.975]\n",
       "------------------------------------------------------------------------------------------------\n",
       "closest_train_station         2654.9391   8226.728      0.323      0.747   -1.36e+04    1.89e+04\n",
       "closest_school                6.863e+04   2.25e+04      3.050      0.003    2.43e+04    1.13e+05\n",
       "beds__1                        1.01e+05   1.47e+04      6.872      0.000     7.2e+04     1.3e+05\n",
       "beds_2_3                      1.277e+05   1.01e+04     12.654      0.000    1.08e+05    1.48e+05\n",
       "beds__4                       1.595e+05   1.44e+04     11.103      0.000    1.31e+05    1.88e+05\n",
       "property_type__detached       1.016e+05   1.02e+04      9.980      0.000    8.15e+04    1.22e+05\n",
       "property_type__flat          -4.304e+04   6670.798     -6.452      0.000   -5.62e+04   -2.99e+04\n",
       "property_type__semi_detached  3.189e+04   6175.899      5.164      0.000    1.97e+04    4.41e+04\n",
       "baths__2                      1.302e+04   6923.231      1.880      0.062    -633.930    2.67e+04\n",
       "==============================================================================\n",
       "Omnibus:                       63.379   Durbin-Watson:                   1.956\n",
       "Prob(Omnibus):                  0.000   Jarque-Bera (JB):              429.937\n",
       "Skew:                           0.955   Prob(JB):                     4.37e-94\n",
       "Kurtosis:                       9.779   Cond. No.                         15.0\n",
       "==============================================================================\n",
       "\n",
       "Warnings:\n",
       "[1] Standard Errors assume that the covariance matrix of the errors is correctly specified.\n",
       "\"\"\""
      ]
     },
     "execution_count": 28,
     "metadata": {},
     "output_type": "execute_result"
    }
   ],
   "source": [
    "X = df_processed[['closest_train_station', 'closest_school', 'beds__1',\n",
    "       'beds_2_3','beds__4', 'property_type__detached',\n",
    "       'property_type__flat', 'property_type__semi_detached',\n",
    "       'baths__2']]\n",
    "y = df_processed.prices\n",
    "\n",
    "# Note the difference in argument order\n",
    "model = sm.OLS(y, X).fit()\n",
    "predictions = model.predict(X) # make the predictions by the model\n",
    "\n",
    "# Print out the statistics\n",
    "model.summary()"
   ]
  },
  {
   "cell_type": "code",
   "execution_count": 29,
   "metadata": {},
   "outputs": [
    {
     "data": {
      "text/plain": [
       "0.7173951285136355"
      ]
     },
     "execution_count": 29,
     "metadata": {},
     "output_type": "execute_result"
    }
   ],
   "source": [
    "from sklearn import linear_model\n",
    "\n",
    "lm = linear_model.LinearRegression()\n",
    "model = lm.fit(X,y)\n",
    "lm.coef_\n",
    "lm.intercept_\n",
    "lm.score(X,y)"
   ]
  },
  {
   "cell_type": "code",
   "execution_count": 30,
   "metadata": {},
   "outputs": [
    {
     "data": {
      "text/plain": [
       "Index(['beds', 'baths', 'prices', 'property_type', 'closest_train_station',\n",
       "       'closest_school'],\n",
       "      dtype='object')"
      ]
     },
     "execution_count": 30,
     "metadata": {},
     "output_type": "execute_result"
    }
   ],
   "source": [
    "df2.columns"
   ]
  },
  {
   "cell_type": "markdown",
   "metadata": {},
   "source": [
    "df =aa\n",
    "\n",
    "df.PriceMax = df.PriceMax/1000\n",
    "df.PriceMin = df.PriceMin/1000\n",
    "\n",
    "fig = plt.figure()\n",
    "ax = fig.add_subplot(1, 1, 1)\n",
    "\n",
    "# Major ticks every 20, minor ticks every 5\n",
    "major_ticks = np.arange(0, max(df.PriceMax)+100, 50)\n",
    "minor_ticks = np.arange(0, max(df.PriceMax), 12.5)\n",
    "\n",
    "ax.set_xticks(major_ticks)\n",
    "#ax.set_xticks(minor_ticks, minor=True)\n",
    "ax.set_yticks(major_ticks)\n",
    "ax.set_yticks(minor_ticks, minor=True)\n",
    "\n",
    "# And a corresponding grid\n",
    "ax.grid(which='both')\n",
    "\n",
    "# Or if you want different settings for the grids:\n",
    "ax.grid(which='minor', alpha=0.2)\n",
    "ax.grid(which='major', alpha=0.5)\n",
    "\n",
    "ordered_df = df.sort_values(by='PriceMax')\n",
    "my_range=range(1,len(df.index)+1)\n",
    " \n",
    "# The vertical plot is made using the hline function\n",
    "# I load the seaborn library only to benefit the nice looking feature\n",
    "import seaborn as sns\n",
    "plt.hlines(y=my_range, xmin= ordered_df['PriceMin']\n",
    "           , xmax=ordered_df['PriceMax'], color='black', alpha=0.4, linewidth=4)\n",
    "plt.scatter(ordered_df['PriceMin'], my_range, color='skyblue', alpha=1, label='PriceMin', linewidth=4)\n",
    "plt.scatter(ordered_df['PriceMax'], my_range, color='green', alpha=0.4 , label='PriceMax', linewidth=4)\n",
    "plt.legend()\n",
    "#plt.grid(True,which='both')\n",
    "\n",
    "\n",
    " \n",
    "# Add title and axis names\n",
    "plt.yticks(my_range, ordered_df['property_type'])\n",
    "plt.title(\"Price Ranges for House Types\",  pad=15)\n",
    "plt.xlabel('Property Price, Thousand £')\n",
    "plt.ylabel('Property Type')\n",
    "plt.savefig('prices.png', bbox_inches='tight', dpi=300)\n",
    "\n",
    "plt.show()"
   ]
  },
  {
   "cell_type": "code",
   "execution_count": 31,
   "metadata": {},
   "outputs": [
    {
     "name": "stdout",
     "output_type": "stream",
     "text": [
      "t-value: -14.093191822378468, p-value: 2.2808800763673965e-32\n"
     ]
    }
   ],
   "source": [
    "from scipy import stats\n",
    "t_val, p_val = stats.ttest_1samp(df2['prices'],212483 )\n",
    "\n",
    "# obtain a one-tail p-value\n",
    "p_val /= 2\n",
    "\n",
    "print(f\"t-value: {t_val}, p-value: {p_val}\")"
   ]
  },
  {
   "cell_type": "code",
   "execution_count": 32,
   "metadata": {},
   "outputs": [
    {
     "data": {
      "text/html": [
       "<div>\n",
       "<style scoped>\n",
       "    .dataframe tbody tr th:only-of-type {\n",
       "        vertical-align: middle;\n",
       "    }\n",
       "\n",
       "    .dataframe tbody tr th {\n",
       "        vertical-align: top;\n",
       "    }\n",
       "\n",
       "    .dataframe thead th {\n",
       "        text-align: right;\n",
       "    }\n",
       "</style>\n",
       "<table border=\"1\" class=\"dataframe\">\n",
       "  <thead>\n",
       "    <tr style=\"text-align: right;\">\n",
       "      <th></th>\n",
       "      <th>beds</th>\n",
       "      <th>baths</th>\n",
       "      <th>prices</th>\n",
       "      <th>property_type</th>\n",
       "      <th>closest_train_station</th>\n",
       "      <th>closest_school</th>\n",
       "    </tr>\n",
       "  </thead>\n",
       "  <tbody>\n",
       "    <tr>\n",
       "      <td>0</td>\n",
       "      <td>3</td>\n",
       "      <td>2</td>\n",
       "      <td>270000</td>\n",
       "      <td>semi_detached</td>\n",
       "      <td>0.6</td>\n",
       "      <td>0.6</td>\n",
       "    </tr>\n",
       "    <tr>\n",
       "      <td>2</td>\n",
       "      <td>2</td>\n",
       "      <td>1</td>\n",
       "      <td>185000</td>\n",
       "      <td>semi_detached</td>\n",
       "      <td>1.6</td>\n",
       "      <td>0.4</td>\n",
       "    </tr>\n",
       "    <tr>\n",
       "      <td>3</td>\n",
       "      <td>2</td>\n",
       "      <td>1</td>\n",
       "      <td>125000</td>\n",
       "      <td>flat</td>\n",
       "      <td>1.0</td>\n",
       "      <td>0.4</td>\n",
       "    </tr>\n",
       "    <tr>\n",
       "      <td>4</td>\n",
       "      <td>2</td>\n",
       "      <td>1</td>\n",
       "      <td>150000</td>\n",
       "      <td>terraced</td>\n",
       "      <td>0.8</td>\n",
       "      <td>0.1</td>\n",
       "    </tr>\n",
       "    <tr>\n",
       "      <td>5</td>\n",
       "      <td>4</td>\n",
       "      <td>2</td>\n",
       "      <td>205000</td>\n",
       "      <td>terraced</td>\n",
       "      <td>0.8</td>\n",
       "      <td>0.3</td>\n",
       "    </tr>\n",
       "  </tbody>\n",
       "</table>\n",
       "</div>"
      ],
      "text/plain": [
       "   beds  baths  prices  property_type  closest_train_station  closest_school\n",
       "0     3      2  270000  semi_detached                    0.6             0.6\n",
       "2     2      1  185000  semi_detached                    1.6             0.4\n",
       "3     2      1  125000           flat                    1.0             0.4\n",
       "4     2      1  150000       terraced                    0.8             0.1\n",
       "5     4      2  205000       terraced                    0.8             0.3"
      ]
     },
     "execution_count": 32,
     "metadata": {},
     "output_type": "execute_result"
    }
   ],
   "source": [
    "df2.head()"
   ]
  },
  {
   "cell_type": "code",
   "execution_count": 33,
   "metadata": {},
   "outputs": [
    {
     "data": {
      "text/plain": [
       "count    208.000000\n",
       "mean       2.552885\n",
       "std        0.733657\n",
       "min        1.000000\n",
       "25%        2.000000\n",
       "50%        3.000000\n",
       "75%        3.000000\n",
       "max        5.000000\n",
       "Name: beds, dtype: float64"
      ]
     },
     "execution_count": 33,
     "metadata": {},
     "output_type": "execute_result"
    }
   ],
   "source": [
    "df2.beds.describe()"
   ]
  },
  {
   "cell_type": "code",
   "execution_count": 34,
   "metadata": {},
   "outputs": [
    {
     "data": {
      "text/html": [
       "<div>\n",
       "<style scoped>\n",
       "    .dataframe tbody tr th:only-of-type {\n",
       "        vertical-align: middle;\n",
       "    }\n",
       "\n",
       "    .dataframe tbody tr th {\n",
       "        vertical-align: top;\n",
       "    }\n",
       "\n",
       "    .dataframe thead th {\n",
       "        text-align: right;\n",
       "    }\n",
       "</style>\n",
       "<table border=\"1\" class=\"dataframe\">\n",
       "  <thead>\n",
       "    <tr style=\"text-align: right;\">\n",
       "      <th></th>\n",
       "      <th>prices</th>\n",
       "      <th>closest_train_station</th>\n",
       "      <th>closest_school</th>\n",
       "      <th>beds__1</th>\n",
       "      <th>beds__2</th>\n",
       "      <th>beds__3</th>\n",
       "      <th>beds__4</th>\n",
       "      <th>beds__5</th>\n",
       "      <th>property_type__detached</th>\n",
       "      <th>property_type__flat</th>\n",
       "      <th>property_type__semi_detached</th>\n",
       "      <th>property_type__terraced</th>\n",
       "      <th>baths__1</th>\n",
       "      <th>baths__2</th>\n",
       "      <th>beds_2_3</th>\n",
       "    </tr>\n",
       "  </thead>\n",
       "  <tbody>\n",
       "    <tr>\n",
       "      <td>count</td>\n",
       "      <td>208.000000</td>\n",
       "      <td>208.000000</td>\n",
       "      <td>208.000000</td>\n",
       "      <td>208.000000</td>\n",
       "      <td>208.000000</td>\n",
       "      <td>208.000000</td>\n",
       "      <td>208.000000</td>\n",
       "      <td>208.000000</td>\n",
       "      <td>208.000000</td>\n",
       "      <td>208.000000</td>\n",
       "      <td>208.000000</td>\n",
       "      <td>208.000000</td>\n",
       "      <td>208.000000</td>\n",
       "      <td>208.000000</td>\n",
       "      <td>208.000000</td>\n",
       "    </tr>\n",
       "    <tr>\n",
       "      <td>mean</td>\n",
       "      <td>161326.629808</td>\n",
       "      <td>0.908173</td>\n",
       "      <td>0.307212</td>\n",
       "      <td>0.052885</td>\n",
       "      <td>0.423077</td>\n",
       "      <td>0.451923</td>\n",
       "      <td>0.062500</td>\n",
       "      <td>0.009615</td>\n",
       "      <td>0.076923</td>\n",
       "      <td>0.278846</td>\n",
       "      <td>0.346154</td>\n",
       "      <td>0.298077</td>\n",
       "      <td>0.826923</td>\n",
       "      <td>0.173077</td>\n",
       "      <td>0.875000</td>\n",
       "    </tr>\n",
       "    <tr>\n",
       "      <td>std</td>\n",
       "      <td>52350.643664</td>\n",
       "      <td>0.295180</td>\n",
       "      <td>0.107658</td>\n",
       "      <td>0.224343</td>\n",
       "      <td>0.495239</td>\n",
       "      <td>0.498884</td>\n",
       "      <td>0.242645</td>\n",
       "      <td>0.097821</td>\n",
       "      <td>0.267112</td>\n",
       "      <td>0.449514</td>\n",
       "      <td>0.476891</td>\n",
       "      <td>0.458517</td>\n",
       "      <td>0.379226</td>\n",
       "      <td>0.379226</td>\n",
       "      <td>0.331517</td>\n",
       "    </tr>\n",
       "    <tr>\n",
       "      <td>min</td>\n",
       "      <td>50000.000000</td>\n",
       "      <td>0.300000</td>\n",
       "      <td>0.000000</td>\n",
       "      <td>0.000000</td>\n",
       "      <td>0.000000</td>\n",
       "      <td>0.000000</td>\n",
       "      <td>0.000000</td>\n",
       "      <td>0.000000</td>\n",
       "      <td>0.000000</td>\n",
       "      <td>0.000000</td>\n",
       "      <td>0.000000</td>\n",
       "      <td>0.000000</td>\n",
       "      <td>0.000000</td>\n",
       "      <td>0.000000</td>\n",
       "      <td>0.000000</td>\n",
       "    </tr>\n",
       "    <tr>\n",
       "      <td>25%</td>\n",
       "      <td>124375.000000</td>\n",
       "      <td>0.700000</td>\n",
       "      <td>0.200000</td>\n",
       "      <td>0.000000</td>\n",
       "      <td>0.000000</td>\n",
       "      <td>0.000000</td>\n",
       "      <td>0.000000</td>\n",
       "      <td>0.000000</td>\n",
       "      <td>0.000000</td>\n",
       "      <td>0.000000</td>\n",
       "      <td>0.000000</td>\n",
       "      <td>0.000000</td>\n",
       "      <td>1.000000</td>\n",
       "      <td>0.000000</td>\n",
       "      <td>1.000000</td>\n",
       "    </tr>\n",
       "    <tr>\n",
       "      <td>50%</td>\n",
       "      <td>160000.000000</td>\n",
       "      <td>0.800000</td>\n",
       "      <td>0.300000</td>\n",
       "      <td>0.000000</td>\n",
       "      <td>0.000000</td>\n",
       "      <td>0.000000</td>\n",
       "      <td>0.000000</td>\n",
       "      <td>0.000000</td>\n",
       "      <td>0.000000</td>\n",
       "      <td>0.000000</td>\n",
       "      <td>0.000000</td>\n",
       "      <td>0.000000</td>\n",
       "      <td>1.000000</td>\n",
       "      <td>0.000000</td>\n",
       "      <td>1.000000</td>\n",
       "    </tr>\n",
       "    <tr>\n",
       "      <td>75%</td>\n",
       "      <td>198499.250000</td>\n",
       "      <td>1.100000</td>\n",
       "      <td>0.400000</td>\n",
       "      <td>0.000000</td>\n",
       "      <td>1.000000</td>\n",
       "      <td>1.000000</td>\n",
       "      <td>0.000000</td>\n",
       "      <td>0.000000</td>\n",
       "      <td>0.000000</td>\n",
       "      <td>1.000000</td>\n",
       "      <td>1.000000</td>\n",
       "      <td>1.000000</td>\n",
       "      <td>1.000000</td>\n",
       "      <td>0.000000</td>\n",
       "      <td>1.000000</td>\n",
       "    </tr>\n",
       "    <tr>\n",
       "      <td>max</td>\n",
       "      <td>320000.000000</td>\n",
       "      <td>1.800000</td>\n",
       "      <td>0.600000</td>\n",
       "      <td>1.000000</td>\n",
       "      <td>1.000000</td>\n",
       "      <td>1.000000</td>\n",
       "      <td>1.000000</td>\n",
       "      <td>1.000000</td>\n",
       "      <td>1.000000</td>\n",
       "      <td>1.000000</td>\n",
       "      <td>1.000000</td>\n",
       "      <td>1.000000</td>\n",
       "      <td>1.000000</td>\n",
       "      <td>1.000000</td>\n",
       "      <td>1.000000</td>\n",
       "    </tr>\n",
       "  </tbody>\n",
       "</table>\n",
       "</div>"
      ],
      "text/plain": [
       "              prices  closest_train_station  closest_school     beds__1  \\\n",
       "count     208.000000             208.000000      208.000000  208.000000   \n",
       "mean   161326.629808               0.908173        0.307212    0.052885   \n",
       "std     52350.643664               0.295180        0.107658    0.224343   \n",
       "min     50000.000000               0.300000        0.000000    0.000000   \n",
       "25%    124375.000000               0.700000        0.200000    0.000000   \n",
       "50%    160000.000000               0.800000        0.300000    0.000000   \n",
       "75%    198499.250000               1.100000        0.400000    0.000000   \n",
       "max    320000.000000               1.800000        0.600000    1.000000   \n",
       "\n",
       "          beds__2     beds__3     beds__4     beds__5  \\\n",
       "count  208.000000  208.000000  208.000000  208.000000   \n",
       "mean     0.423077    0.451923    0.062500    0.009615   \n",
       "std      0.495239    0.498884    0.242645    0.097821   \n",
       "min      0.000000    0.000000    0.000000    0.000000   \n",
       "25%      0.000000    0.000000    0.000000    0.000000   \n",
       "50%      0.000000    0.000000    0.000000    0.000000   \n",
       "75%      1.000000    1.000000    0.000000    0.000000   \n",
       "max      1.000000    1.000000    1.000000    1.000000   \n",
       "\n",
       "       property_type__detached  property_type__flat  \\\n",
       "count               208.000000           208.000000   \n",
       "mean                  0.076923             0.278846   \n",
       "std                   0.267112             0.449514   \n",
       "min                   0.000000             0.000000   \n",
       "25%                   0.000000             0.000000   \n",
       "50%                   0.000000             0.000000   \n",
       "75%                   0.000000             1.000000   \n",
       "max                   1.000000             1.000000   \n",
       "\n",
       "       property_type__semi_detached  property_type__terraced    baths__1  \\\n",
       "count                    208.000000               208.000000  208.000000   \n",
       "mean                       0.346154                 0.298077    0.826923   \n",
       "std                        0.476891                 0.458517    0.379226   \n",
       "min                        0.000000                 0.000000    0.000000   \n",
       "25%                        0.000000                 0.000000    1.000000   \n",
       "50%                        0.000000                 0.000000    1.000000   \n",
       "75%                        1.000000                 1.000000    1.000000   \n",
       "max                        1.000000                 1.000000    1.000000   \n",
       "\n",
       "         baths__2    beds_2_3  \n",
       "count  208.000000  208.000000  \n",
       "mean     0.173077    0.875000  \n",
       "std      0.379226    0.331517  \n",
       "min      0.000000    0.000000  \n",
       "25%      0.000000    1.000000  \n",
       "50%      0.000000    1.000000  \n",
       "75%      0.000000    1.000000  \n",
       "max      1.000000    1.000000  "
      ]
     },
     "execution_count": 34,
     "metadata": {},
     "output_type": "execute_result"
    }
   ],
   "source": [
    "df_processed.describe()"
   ]
  },
  {
   "cell_type": "code",
   "execution_count": 35,
   "metadata": {},
   "outputs": [],
   "source": [
    "df_processed['beds_2_3'] = df_processed.beds__2 + df_processed.beds__3"
   ]
  },
  {
   "cell_type": "code",
   "execution_count": 36,
   "metadata": {},
   "outputs": [
    {
     "data": {
      "text/plain": [
       "count    208.000000\n",
       "mean       0.875000\n",
       "std        0.331517\n",
       "min        0.000000\n",
       "25%        1.000000\n",
       "50%        1.000000\n",
       "75%        1.000000\n",
       "max        1.000000\n",
       "Name: beds_2_3, dtype: float64"
      ]
     },
     "execution_count": 36,
     "metadata": {},
     "output_type": "execute_result"
    }
   ],
   "source": [
    "df_processed['beds_2_3'].describe()"
   ]
  },
  {
   "cell_type": "code",
   "execution_count": 37,
   "metadata": {},
   "outputs": [
    {
     "data": {
      "text/plain": [
       "Index(['prices', 'closest_train_station', 'closest_school', 'beds__1',\n",
       "       'beds__2', 'beds__3', 'beds__4', 'beds__5', 'property_type__detached',\n",
       "       'property_type__flat', 'property_type__semi_detached',\n",
       "       'property_type__terraced', 'baths__1', 'baths__2', 'beds_2_3'],\n",
       "      dtype='object')"
      ]
     },
     "execution_count": 37,
     "metadata": {},
     "output_type": "execute_result"
    }
   ],
   "source": [
    "df_processed.columns"
   ]
  },
  {
   "cell_type": "code",
   "execution_count": 38,
   "metadata": {},
   "outputs": [
    {
     "data": {
      "text/plain": [
       "<matplotlib.axes._subplots.AxesSubplot at 0x1c1bd48fd0>"
      ]
     },
     "execution_count": 38,
     "metadata": {},
     "output_type": "execute_result"
    },
    {
     "data": {
      "image/png": "[encoded data removed]",
      "text/plain": [
       "<Figure size 432x288 with 2 Axes>"
      ]
     },
     "metadata": {
      "needs_background": "light"
     },
     "output_type": "display_data"
    }
   ],
   "source": [
    "import seaborn as sns\n",
    "%matplotlib inline\n",
    "\n",
    "# calculate the correlation matrix\n",
    "corr = df_processed[['prices', 'closest_train_station', 'closest_school', 'beds__1',\n",
    "       'beds__2', 'beds__3', 'beds__4', 'beds__5', 'property_type__detached',\n",
    "       'property_type__flat', 'property_type__semi_detached',\n",
    "       'property_type__terraced', 'baths__1', 'baths__2', 'beds_2_3']].corr()\n",
    "\n",
    "# plot the heatmap\n",
    "sns.heatmap(corr[(corr >= 0.5) | (corr <= -0.4)], \n",
    "        xticklabels=corr.columns,\n",
    "        yticklabels=corr.columns)"
   ]
  },
  {
   "cell_type": "code",
   "execution_count": 98,
   "metadata": {},
   "outputs": [
    {
     "name": "stdout",
     "output_type": "stream",
     "text": [
      "p-values 6.951817685830847e-15\n",
      "0.0000000%\n",
      " we are rejecting null hypothesis\n"
     ]
    }
   ],
   "source": [
    "from scipy.stats import ttest_1samp\n",
    "import numpy as np\n",
    "\n",
    "tset, pval = ttest_1samp(df2[df2.property_type == 'flat']['prices'], 137832 )\n",
    "print(\"p-values\",pval)\n",
    "print(\"{0:.7%}\".format(pval))\n",
    "if pval < 0.05:    # alpha value is 0.05 or 5%\n",
    "   print(\" we are rejecting null hypothesis\")\n",
    "else:\n",
    "  print(\"we are accepting null hypothesis\")\n"
   ]
  },
  {
   "cell_type": "code",
   "execution_count": 60,
   "metadata": {},
   "outputs": [
    {
     "data": {
      "text/plain": [
       "Index(['beds', 'baths', 'prices', 'property_type', 'closest_train_station',\n",
       "       'closest_school'],\n",
       "      dtype='object')"
      ]
     },
     "execution_count": 60,
     "metadata": {},
     "output_type": "execute_result"
    }
   ],
   "source": [
    "df2.columns\n"
   ]
  },
  {
   "cell_type": "code",
   "execution_count": 62,
   "metadata": {},
   "outputs": [
    {
     "data": {
      "text/plain": [
       "array(['semi_detached', 'flat', 'terraced', 'detached'], dtype=object)"
      ]
     },
     "execution_count": 62,
     "metadata": {},
     "output_type": "execute_result"
    }
   ],
   "source": [
    "df2.property_type.unique()"
   ]
  },
  {
   "cell_type": "code",
   "execution_count": 101,
   "metadata": {},
   "outputs": [],
   "source": [
    "df_processed.to_excel(\"processed.xlsx\")"
   ]
  },
  {
   "cell_type": "code",
   "execution_count": null,
   "metadata": {},
   "outputs": [],
   "source": []
  }
 ],
 "metadata": {
  "kernelspec": {
   "display_name": "Python 3",
   "language": "python",
   "name": "python3"
  },
  "language_info": {
   "codemirror_mode": {
    "name": "ipython",
    "version": 3
   },
   "file_extension": ".py",
   "mimetype": "text/x-python",
   "name": "python",
   "nbconvert_exporter": "python",
   "pygments_lexer": "ipython3",
   "version": "3.7.4"
  }
 },
 "nbformat": 4,
 "nbformat_minor": 2
}
