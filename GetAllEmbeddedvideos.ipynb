{
 "cells": [
  {
   "cell_type": "code",
   "execution_count": 109,
   "metadata": {
    "ExecuteTime": {
     "end_time": "2020-12-03T14:15:59.506054Z",
     "start_time": "2020-12-03T14:15:59.489502Z"
    }
   },
   "outputs": [],
   "source": [
    "import os\n",
    "import time\n",
    "import random\n",
    "root = '/Volumes/Seagate Backup Plus Drive/unit4'"
   ]
  },
  {
   "cell_type": "markdown",
   "metadata": {},
   "source": [
    "**Obtain all the HTML files in this particular directory**"
   ]
  },
  {
   "cell_type": "markdown",
   "metadata": {
    "ExecuteTime": {
     "end_time": "2020-12-03T12:41:55.222249Z",
     "start_time": "2020-12-03T12:41:54.778148Z"
    }
   },
   "source": [
    "fil_pathes = []\n",
    "for path, subdirs, files in os.walk(root):\n",
    "    for name in files:\n",
    "        if name.endswith(\".html\"):\n",
    "            print(os.path.join(path, name))\n",
    "            fil_pathes.append(os.path.join(path, name))"
   ]
  },
  {
   "cell_type": "markdown",
   "metadata": {},
   "source": [
    "pd.DataFrame(columns = ['HTML', 'Title', 'Url', 'Url2']).to_excel('BigVideo.xlsx', index = False)\n",
    "\n",
    "df = pd.read_excel('BigVideo.xlsx')\n",
    "\n",
    "df"
   ]
  },
  {
   "cell_type": "code",
   "execution_count": 96,
   "metadata": {
    "ExecuteTime": {
     "end_time": "2020-12-03T13:55:47.058290Z",
     "start_time": "2020-12-03T13:55:47.050586Z"
    }
   },
   "outputs": [],
   "source": [
    "def find_all(a_str, sub):\n",
    "    start = 0\n",
    "    while True:\n",
    "        start = a_str.find(sub, start)\n",
    "        if start == -1: return\n",
    "        yield start\n",
    "        start += len(sub) # use start += 1 to find overlapping matches"
   ]
  },
  {
   "cell_type": "code",
   "execution_count": 31,
   "metadata": {
    "ExecuteTime": {
     "end_time": "2020-12-03T12:31:24.381023Z",
     "start_time": "2020-12-03T12:31:24.376886Z"
    }
   },
   "outputs": [],
   "source": [
    "def delete_comments(file):\n",
    "    re.sub(\"(<!--.*?-->)\", \"\", file, flags=re.DOTALL)"
   ]
  },
  {
   "cell_type": "code",
   "execution_count": 3,
   "metadata": {
    "ExecuteTime": {
     "end_time": "2020-12-03T12:22:26.936437Z",
     "start_time": "2020-12-03T12:22:26.926317Z"
    }
   },
   "outputs": [],
   "source": [
    "def first_step(html_string):\n",
    "    string_start = html_string[html_string.find(\"iframe title\")+14:]\n",
    "    string_end = string_start[:string_start.find('</div')]\n",
    "    videofile =  string_end[string_end.find('src')+5:][:string_end[string_end.find('src')+5:].find('width')]\n",
    "    return videofile"
   ]
  },
  {
   "cell_type": "markdown",
   "metadata": {},
   "source": [
    "Read each file in the directory\n",
    "Remove comments from HTML\n"
   ]
  },
  {
   "cell_type": "markdown",
   "metadata": {
    "ExecuteTime": {
     "end_time": "2020-12-03T14:04:16.025578Z",
     "start_time": "2020-12-03T14:04:07.152843Z"
    }
   },
   "source": [
    "files_with_videos = []\n",
    "\n",
    "atbilde =[]\n",
    "#Read each HTML file in the directory\n",
    "for file in fil_pathes:\n",
    "    with open(file, 'r') as f:\n",
    "        html_string2 = f.read()\n",
    "        #Remove comments from HTML\n",
    "        html_string = re.sub(\"(<!--.*?-->)\", \"\", html_string2, flags=re.DOTALL)\n",
    "        if len(list(find_all(html_string, 'mediaEmbed'))) >=1:\n",
    "            for i in list(find_all(html_string, 'mediaEmbed')):\n",
    "                atbilde = []\n",
    "                print(file)\n",
    "                atbilde.append(file)\n",
    "                html_string_cut = html_string[i:]\n",
    "                title = html_string_cut[html_string_cut.find('title')+6: html_string_cut.find('src')]\n",
    "                print(title)\n",
    "                atbilde.append(title)\n",
    "                string_start = html_string_cut[html_string_cut.find(\"title\"):]\n",
    "                string_end = string_start[:string_start.find('</div')]\n",
    "                videofile =  string_end[string_end.find('src')+5:][:string_end[string_end.find('src')+5:].find('width')]\n",
    "                print(videofile) \n",
    "                atbilde.append(videofile)\n",
    "                r = requests.get(videofile)\n",
    "                data = r.text\n",
    "                soup = BeautifulSoup(data)\n",
    "                video_start2 = str(soup)[str(soup).find('VideoUrl')+11:]\n",
    "                \n",
    "                if len(str(video_start2)[:str(video_start2).find('m3u8\"')+4])>3:\n",
    "                    VideoUrl = (str(video_start2)[:str(video_start2).find('m3u8\"')+4])\n",
    "                else:\n",
    "                    VideoUrl = (str(video_start2)[:str(video_start2).find('mp4\"')+3])\n",
    "                    \n",
    "                VideoUrl2 = VideoUrl.replace('\\/', '/')\n",
    "                print(VideoUrl2)\n",
    "                atbilde.append(VideoUrl2)\n",
    "                df.loc[len(df)] = atbilde\n",
    "                print(\"\\n\")\n",
    "                time.sleep(random.randint(2, 15))\n",
    "                df.to_excel(\"BigVideo.xlsx\", index = False)"
   ]
  }
 ],
 "metadata": {
  "kernelspec": {
   "display_name": "Python 3",
   "language": "python",
   "name": "python3"
  },
  "language_info": {
   "codemirror_mode": {
    "name": "ipython",
    "version": 3
   },
   "file_extension": ".py",
   "mimetype": "text/x-python",
   "name": "python",
   "nbconvert_exporter": "python",
   "pygments_lexer": "ipython3",
   "version": "3.7.4"
  },
  "toc": {
   "base_numbering": 1,
   "nav_menu": {},
   "number_sections": true,
   "sideBar": true,
   "skip_h1_title": false,
   "title_cell": "Table of Contents",
   "title_sidebar": "Contents",
   "toc_cell": false,
   "toc_position": {},
   "toc_section_display": true,
   "toc_window_display": false
  }
 },
 "nbformat": 4,
 "nbformat_minor": 2
}
