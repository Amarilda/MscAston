{
 "cells": [
  {
   "cell_type": "markdown",
   "metadata": {
    "hide_input": true
   },
   "source": [
    "# Read the data"
   ]
  },
  {
   "cell_type": "code",
   "execution_count": 1,
   "metadata": {
    "ExecuteTime": {
     "end_time": "2020-12-19T14:12:44.228069Z",
     "start_time": "2020-12-19T14:12:31.429824Z"
    }
   },
   "outputs": [],
   "source": [
    "# Import necessary packages\n",
    "import pandas as pd\n",
    "import numpy as np\n",
    "from matplotlib import pyplot as plt\n",
    "%matplotlib inline\n",
    "\n",
    "import time\n",
    "from datetime import datetime\n",
    "from datetime import date\n",
    "\n",
    "from sklearn.metrics import mean_squared_error\n",
    "from sklearn.model_selection import TimeSeriesSplit, GridSearchCV\n",
    "from sklearn.tree import DecisionTreeRegressor\n",
    "from sklearn.ensemble import RandomForestRegressor\n",
    "\n",
    "import warnings\n",
    "warnings.filterwarnings(\"ignore\")"
   ]
  },
  {
   "cell_type": "code",
   "execution_count": 2,
   "metadata": {
    "ExecuteTime": {
     "end_time": "2020-12-19T14:12:44.278334Z",
     "start_time": "2020-12-19T14:12:44.232266Z"
    }
   },
   "outputs": [],
   "source": [
    "# Read the data\n",
    "df= pd.read_csv(\"UK Road Accidents 2018.csv\")"
   ]
  },
  {
   "cell_type": "markdown",
   "metadata": {},
   "source": [
    "### Random sample of data\n",
    "shows more variation in the data set than df.head(). Data set is usually sorted during ETL process."
   ]
  },
  {
   "cell_type": "code",
   "execution_count": 3,
   "metadata": {
    "ExecuteTime": {
     "end_time": "2020-12-19T14:12:44.333628Z",
     "start_time": "2020-12-19T14:12:44.281689Z"
    }
   },
   "outputs": [
    {
     "data": {
      "text/html": [
       "<div>\n",
       "<style scoped>\n",
       "    .dataframe tbody tr th:only-of-type {\n",
       "        vertical-align: middle;\n",
       "    }\n",
       "\n",
       "    .dataframe tbody tr th {\n",
       "        vertical-align: top;\n",
       "    }\n",
       "\n",
       "    .dataframe thead th {\n",
       "        text-align: right;\n",
       "    }\n",
       "</style>\n",
       "<table border=\"1\" class=\"dataframe\">\n",
       "  <thead>\n",
       "    <tr style=\"text-align: right;\">\n",
       "      <th></th>\n",
       "      <th>datetime</th>\n",
       "      <th>Count</th>\n",
       "      <th>Day_of_Week</th>\n",
       "      <th>Precipitation</th>\n",
       "      <th>High_Winds</th>\n",
       "      <th>Road_Surface_Conditions</th>\n",
       "      <th>Light_Conditions</th>\n",
       "      <th>Urban_or_Rural_Area</th>\n",
       "    </tr>\n",
       "  </thead>\n",
       "  <tbody>\n",
       "    <tr>\n",
       "      <th>5838</th>\n",
       "      <td>08/09/2018 01:00</td>\n",
       "      <td>7</td>\n",
       "      <td>Saturday</td>\n",
       "      <td>Fine</td>\n",
       "      <td>False</td>\n",
       "      <td>Dry</td>\n",
       "      <td>Darkness - lights lit</td>\n",
       "      <td>Urban</td>\n",
       "    </tr>\n",
       "    <tr>\n",
       "      <th>6588</th>\n",
       "      <td>10/10/2018 00:00</td>\n",
       "      <td>5</td>\n",
       "      <td>Wednesday</td>\n",
       "      <td>Fine</td>\n",
       "      <td>False</td>\n",
       "      <td>Dry</td>\n",
       "      <td>Darkness - lights lit</td>\n",
       "      <td>Urban</td>\n",
       "    </tr>\n",
       "    <tr>\n",
       "      <th>7440</th>\n",
       "      <td>15/11/2018 06:00</td>\n",
       "      <td>10</td>\n",
       "      <td>Thursday</td>\n",
       "      <td>Fine</td>\n",
       "      <td>False</td>\n",
       "      <td>Wet or damp</td>\n",
       "      <td>Daylight</td>\n",
       "      <td>Rural</td>\n",
       "    </tr>\n",
       "    <tr>\n",
       "      <th>2210</th>\n",
       "      <td>06/04/2018 06:00</td>\n",
       "      <td>4</td>\n",
       "      <td>Friday</td>\n",
       "      <td>Fine</td>\n",
       "      <td>False</td>\n",
       "      <td>Dry</td>\n",
       "      <td>Daylight</td>\n",
       "      <td>Urban</td>\n",
       "    </tr>\n",
       "    <tr>\n",
       "      <th>7434</th>\n",
       "      <td>14/11/2018 23:00</td>\n",
       "      <td>8</td>\n",
       "      <td>Wednesday</td>\n",
       "      <td>Fine</td>\n",
       "      <td>False</td>\n",
       "      <td>Dry</td>\n",
       "      <td>Darkness - lights lit</td>\n",
       "      <td>Urban</td>\n",
       "    </tr>\n",
       "  </tbody>\n",
       "</table>\n",
       "</div>"
      ],
      "text/plain": [
       "              datetime  Count Day_of_Week Precipitation  High_Winds  \\\n",
       "5838  08/09/2018 01:00      7    Saturday          Fine       False   \n",
       "6588  10/10/2018 00:00      5   Wednesday          Fine       False   \n",
       "7440  15/11/2018 06:00     10    Thursday          Fine       False   \n",
       "2210  06/04/2018 06:00      4      Friday          Fine       False   \n",
       "7434  14/11/2018 23:00      8   Wednesday          Fine       False   \n",
       "\n",
       "     Road_Surface_Conditions       Light_Conditions Urban_or_Rural_Area  \n",
       "5838                     Dry  Darkness - lights lit               Urban  \n",
       "6588                     Dry  Darkness - lights lit               Urban  \n",
       "7440             Wet or damp               Daylight               Rural  \n",
       "2210                     Dry               Daylight               Urban  \n",
       "7434                     Dry  Darkness - lights lit               Urban  "
      ]
     },
     "execution_count": 3,
     "metadata": {},
     "output_type": "execute_result"
    }
   ],
   "source": [
    "df.sample(5)"
   ]
  },
  {
   "cell_type": "markdown",
   "metadata": {},
   "source": [
    "### Check for nulls\n",
    "\n",
    "Non-null count provides the same as \" RangeIndex - df.isna().sum()\"\n",
    "\n",
    "RangeIndex: 8540\n",
    "\n",
    "All Non_Null Counts = 8540\n",
    "\n",
    "**Therefore Nulls are not present in this data set.**"
   ]
  },
  {
   "cell_type": "code",
   "execution_count": 4,
   "metadata": {
    "ExecuteTime": {
     "end_time": "2020-12-19T14:12:44.368755Z",
     "start_time": "2020-12-19T14:12:44.347921Z"
    }
   },
   "outputs": [
    {
     "name": "stdout",
     "output_type": "stream",
     "text": [
      "<class 'pandas.core.frame.DataFrame'>\n",
      "RangeIndex: 8540 entries, 0 to 8539\n",
      "Data columns (total 8 columns):\n",
      " #   Column                   Non-Null Count  Dtype \n",
      "---  ------                   --------------  ----- \n",
      " 0   datetime                 8540 non-null   object\n",
      " 1   Count                    8540 non-null   int64 \n",
      " 2   Day_of_Week              8540 non-null   object\n",
      " 3   Precipitation            8540 non-null   object\n",
      " 4   High_Winds               8540 non-null   bool  \n",
      " 5   Road_Surface_Conditions  8540 non-null   object\n",
      " 6   Light_Conditions         8540 non-null   object\n",
      " 7   Urban_or_Rural_Area      8540 non-null   object\n",
      "dtypes: bool(1), int64(1), object(6)\n",
      "memory usage: 475.5+ KB\n"
     ]
    }
   ],
   "source": [
    "df.info()"
   ]
  },
  {
   "cell_type": "markdown",
   "metadata": {},
   "source": [
    "Drop missing values encoded as \"Data missing or out of range\", \"Other\" and \"Unknown\".\n",
    "Data set is ample and in total 102 observations are dropped. \n",
    "In addition, it will reduce features created in further steps.\n",
    "Size is insignificant when compared to initial size of 8540 observations."
   ]
  },
  {
   "cell_type": "code",
   "execution_count": 5,
   "metadata": {
    "ExecuteTime": {
     "end_time": "2020-12-19T14:12:44.457600Z",
     "start_time": "2020-12-19T14:12:44.374146Z"
    }
   },
   "outputs": [
    {
     "name": "stdout",
     "output_type": "stream",
     "text": [
      "Precipitation\n",
      "\n",
      "Data missing or out of range: 1\n",
      "Other: 51\n",
      "Unknown: 48\n",
      "\n",
      "Road_Surface_Conditions\n",
      "\n",
      "Data missing or out of range: 2\n",
      "Other: 0\n",
      "Unknown: 0\n",
      "\n"
     ]
    }
   ],
   "source": [
    "for column in df.columns:\n",
    "    if len(df[df[column] == \"Data missing or out of range\"])+ len(df[df[column] == \"Other\"])+len(df[df[column] == \"Unknown\"]) > 0:\n",
    "        print(column)\n",
    "        print()\n",
    "        print(f'Data missing or out of range: {len(df[df[column] == \"Data missing or out of range\"])}')\n",
    "        df.drop(df[df[column] == \"Data missing or out of range\"].index, inplace = True) \n",
    "        \n",
    "        print(f'Other: {len(df[df[column] == \"Other\"])}')\n",
    "        df.drop(df[df[column] == \"Other\"].index, inplace = True) \n",
    "        \n",
    "        print(f'Unknown: {len(df[df[column] == \"Unknown\"])}')\n",
    "        df.drop(df[df[column] == \"Unknown\"].index, inplace = True)\n",
    "              \n",
    "        print()"
   ]
  },
  {
   "cell_type": "markdown",
   "metadata": {},
   "source": [
    "## Distribution plots "
   ]
  },
  {
   "cell_type": "markdown",
   "metadata": {
    "ExecuteTime": {
     "end_time": "2020-12-17T16:47:08.432079Z",
     "start_time": "2020-12-17T16:42:31.877571Z"
    }
   },
   "source": [
    "import matplotlib.pyplot as plt\n",
    "\n",
    "categorical_features = df.select_dtypes(include=['object', 'bool']).columns\n",
    "\n",
    "fig, ax = plt.subplots(1, len(categorical_features), figsize=(25, 4))\n",
    "for i, categorical_feature in enumerate(df[categorical_features]):\n",
    "    df[categorical_feature].value_counts().plot(kind=\"bar\", ax=ax[i]).set_title(categorical_feature)"
   ]
  },
  {
   "cell_type": "code",
   "execution_count": 6,
   "metadata": {
    "ExecuteTime": {
     "end_time": "2020-12-19T14:12:46.003116Z",
     "start_time": "2020-12-19T14:12:44.461466Z"
    }
   },
   "outputs": [
    {
     "name": "stdout",
     "output_type": "stream",
     "text": [
      "Day_of_Week\n"
     ]
    },
    {
     "data": {
      "image/png": "[encoded data removed]",
      "text/plain": [
       "<Figure size 576x360 with 1 Axes>"
      ]
     },
     "metadata": {
      "needs_background": "light"
     },
     "output_type": "display_data"
    },
    {
     "name": "stdout",
     "output_type": "stream",
     "text": [
      "\n",
      "Precipitation\n"
     ]
    },
    {
     "data": {
      "image/png": "[encoded data removed]",
      "text/plain": [
       "<Figure size 576x360 with 1 Axes>"
      ]
     },
     "metadata": {
      "needs_background": "light"
     },
     "output_type": "display_data"
    },
    {
     "name": "stdout",
     "output_type": "stream",
     "text": [
      "\n",
      "High_Winds\n"
     ]
    },
    {
     "data": {
      "image/png": "[encoded data removed]",
      "text/plain": [
       "<Figure size 576x360 with 1 Axes>"
      ]
     },
     "metadata": {
      "needs_background": "light"
     },
     "output_type": "display_data"
    },
    {
     "name": "stdout",
     "output_type": "stream",
     "text": [
      "\n",
      "Road_Surface_Conditions\n"
     ]
    },
    {
     "data": {
      "image/png": "[encoded data removed]",
      "text/plain": [
       "<Figure size 576x360 with 1 Axes>"
      ]
     },
     "metadata": {
      "needs_background": "light"
     },
     "output_type": "display_data"
    },
    {
     "name": "stdout",
     "output_type": "stream",
     "text": [
      "\n",
      "Light_Conditions\n"
     ]
    },
    {
     "data": {
      "image/png": "[encoded data removed]",
      "text/plain": [
       "<Figure size 576x360 with 1 Axes>"
      ]
     },
     "metadata": {
      "needs_background": "light"
     },
     "output_type": "display_data"
    },
    {
     "name": "stdout",
     "output_type": "stream",
     "text": [
      "\n",
      "Urban_or_Rural_Area\n"
     ]
    },
    {
     "data": {
      "image/png": "[encoded data removed]",
      "text/plain": [
       "<Figure size 576x360 with 1 Axes>"
      ]
     },
     "metadata": {
      "needs_background": "light"
     },
     "output_type": "display_data"
    },
    {
     "name": "stdout",
     "output_type": "stream",
     "text": [
      "\n"
     ]
    }
   ],
   "source": [
    "for i in df.columns[2:]:\n",
    "    print(i)\n",
    "    plt.figure(figsize=(8, 5))\n",
    "    ax = df[i].value_counts().plot(kind=\"barh\")\n",
    "    ax.invert_yaxis()\n",
    "    plt.show()\n",
    "    print()"
   ]
  },
  {
   "cell_type": "markdown",
   "metadata": {
    "ExecuteTime": {
     "end_time": "2020-12-17T11:28:56.283999Z",
     "start_time": "2020-12-17T11:28:56.239309Z"
    }
   },
   "source": [
    "df.pivot_table(index=(['Urban_or_Rural_Area','Day_of_Week'])\n",
    "               , values='Count'\n",
    "               , aggfunc=(\"count\",\"sum\")\n",
    "              ).reset_index().sort_values('count', ascending=False)"
   ]
  },
  {
   "cell_type": "markdown",
   "metadata": {
    "ExecuteTime": {
     "end_time": "2020-12-16T13:23:30.110673Z",
     "start_time": "2020-12-16T13:23:30.106850Z"
    }
   },
   "source": [
    "# Forecasting time series"
   ]
  },
  {
   "cell_type": "markdown",
   "metadata": {},
   "source": [
    "Select 2 columns for forecasting"
   ]
  },
  {
   "cell_type": "code",
   "execution_count": 7,
   "metadata": {
    "ExecuteTime": {
     "end_time": "2020-12-19T14:12:46.018370Z",
     "start_time": "2020-12-19T14:12:46.007601Z"
    }
   },
   "outputs": [],
   "source": [
    "df2 = df[['datetime', 'Count']]"
   ]
  },
  {
   "cell_type": "code",
   "execution_count": 8,
   "metadata": {
    "ExecuteTime": {
     "end_time": "2020-12-19T14:12:46.033827Z",
     "start_time": "2020-12-19T14:12:46.025382Z"
    }
   },
   "outputs": [],
   "source": [
    "df2.DatetimeIndex = df2.datetime\n",
    "del df2['datetime']"
   ]
  },
  {
   "cell_type": "code",
   "execution_count": 9,
   "metadata": {
    "ExecuteTime": {
     "end_time": "2020-12-19T14:12:46.049710Z",
     "start_time": "2020-12-19T14:12:46.037520Z"
    }
   },
   "outputs": [
    {
     "name": "stdout",
     "output_type": "stream",
     "text": [
      "7594 train and 844 test instances\n"
     ]
    }
   ],
   "source": [
    "from sklearn.model_selection import train_test_split\n",
    "\n",
    "train_set, test_set = train_test_split(df2, test_size=0.1, random_state=7, shuffle=False)\n",
    "print(f\"{train_set.shape[0]} train and {test_set.shape[0]} test instances\")"
   ]
  },
  {
   "cell_type": "markdown",
   "metadata": {},
   "source": [
    "## Exploratory Data Analysis\n",
    "\n",
    "Let's plot the data."
   ]
  },
  {
   "cell_type": "code",
   "execution_count": 10,
   "metadata": {
    "ExecuteTime": {
     "end_time": "2020-12-19T14:12:46.506124Z",
     "start_time": "2020-12-19T14:12:46.054011Z"
    }
   },
   "outputs": [
    {
     "data": {
      "text/plain": [
       "<AxesSubplot:>"
      ]
     },
     "execution_count": 10,
     "metadata": {},
     "output_type": "execute_result"
    },
    {
     "data": {
      "image/png": "[encoded data removed]",
      "text/plain": [
       "<Figure size 1152x216 with 1 Axes>"
      ]
     },
     "metadata": {
      "needs_background": "light"
     },
     "output_type": "display_data"
    }
   ],
   "source": [
    "train_set[:500].plot(figsize=(16,3))"
   ]
  },
  {
   "cell_type": "markdown",
   "metadata": {},
   "source": [
    "## Data cleaning and transformation\n",
    "\n",
    "Before we can start buinding a model, we need to ensure the data is **stationary**. We will use the Augmented Dickey-Fuller (ADF) test and the KPSS (Kwiatkowski-Phillips-Schmidt-Shin) tests to test the series for stationarity."
   ]
  },
  {
   "cell_type": "code",
   "execution_count": 11,
   "metadata": {
    "ExecuteTime": {
     "end_time": "2020-12-19T14:12:47.552900Z",
     "start_time": "2020-12-19T14:12:46.511025Z"
    }
   },
   "outputs": [
    {
     "name": "stdout",
     "output_type": "stream",
     "text": [
      "ADF, p-value: 5.622377150770526e-24\n"
     ]
    }
   ],
   "source": [
    "from statsmodels.tsa.stattools import adfuller, kpss\n",
    "\n",
    "adf_pval = adfuller(train_set['Count'], maxlag=10, regression='nc')[1]\n",
    "print(\"ADF, p-value:\", adf_pval)"
   ]
  },
  {
   "cell_type": "code",
   "execution_count": 12,
   "metadata": {
    "ExecuteTime": {
     "end_time": "2020-12-19T14:12:47.588438Z",
     "start_time": "2020-12-19T14:12:47.562583Z"
    }
   },
   "outputs": [
    {
     "name": "stdout",
     "output_type": "stream",
     "text": [
      "KPSS, p-value: 0.01\n"
     ]
    },
    {
     "name": "stderr",
     "output_type": "stream",
     "text": [
      "/Users/Edite/opt/anaconda3/lib/python3.7/site-packages/statsmodels/tsa/stattools.py:1708: InterpolationWarning: p-value is smaller than the indicated p-value\n",
      "  warn(\"p-value is smaller than the indicated p-value\", InterpolationWarning)\n"
     ]
    }
   ],
   "source": [
    "kpss_stat, kpss_pval, lags, crit_vals = kpss(train_set['Count'])\n",
    "print(\"KPSS, p-value:\", round(kpss_pval,2))"
   ]
  },
  {
   "cell_type": "markdown",
   "metadata": {
    "ExecuteTime": {
     "end_time": "2020-12-18T18:35:59.424151Z",
     "start_time": "2020-12-18T18:35:59.416226Z"
    }
   },
   "source": [
    "**InterpolationWarning**\n",
    "\n",
    "InterpolationWarning is issued when the test statistic is outside of the range of p-values available in the\n",
    "look-up table. The actual p-value is {direction} than the p-value returned. Not present for ADF.\n",
    "\n",
    "    if p_value == pvals[-1]:\n",
    "        warnings.warn(\n",
    "            warn_msg.format(direction=\"smaller\"), InterpolationWarning\n",
    "        )\n",
    "    elif p_value == pvals[0]:\n",
    "        warnings.warn(\n",
    "            warn_msg.format(direction=\"greater\"), InterpolationWarning\n",
    "        )\n",
    "\n",
    "\n",
    "[Source code](https://www.statsmodels.org/dev/_modules/statsmodels/tsa/stattools.html)\n",
    "\n",
    "\n"
   ]
  },
  {
   "cell_type": "code",
   "execution_count": 13,
   "metadata": {
    "ExecuteTime": {
     "end_time": "2020-12-19T14:12:47.604805Z",
     "start_time": "2020-12-19T14:12:47.596014Z"
    }
   },
   "outputs": [],
   "source": [
    "def Trending(adf_pval, kpss_stat):\n",
    "    if adf_pval>0.05 and kpss_pval < 0.05:\n",
    "        return \"non-Stationary\"\n",
    "    elif adf_pval<0.05 and kpss_pval > 0.05:\n",
    "        return \"Stationary\"\n",
    "    elif adf_pval>0.05 and kpss_pval > 0.05:\n",
    "        return \"3: ADF : non-Stationary, KPSS : Stationary\"\n",
    "    elif adf_pval<0.05 and kpss_pval < 0.05:\n",
    "        return \"ADF : Stationary, KPSS : non-Stationary\""
   ]
  },
  {
   "cell_type": "code",
   "execution_count": 14,
   "metadata": {
    "ExecuteTime": {
     "end_time": "2020-12-19T14:12:47.626136Z",
     "start_time": "2020-12-19T14:12:47.613445Z"
    }
   },
   "outputs": [
    {
     "data": {
      "text/plain": [
       "'ADF : Stationary, KPSS : non-Stationary'"
      ]
     },
     "execution_count": 14,
     "metadata": {},
     "output_type": "execute_result"
    }
   ],
   "source": [
    "Trending(adf_pval,kpss_pval )"
   ]
  },
  {
   "cell_type": "markdown",
   "metadata": {},
   "source": [
    "The series is not stationary in the levels (i.e., in the original form), according to the KPSS test, but it is stationary according to the ADF test. So it would be safer to assume that the series is not stationary. Let us difference it."
   ]
  },
  {
   "cell_type": "code",
   "execution_count": 15,
   "metadata": {
    "ExecuteTime": {
     "end_time": "2020-12-19T14:12:47.758437Z",
     "start_time": "2020-12-19T14:12:47.635407Z"
    }
   },
   "outputs": [
    {
     "name": "stderr",
     "output_type": "stream",
     "text": [
      "/Users/Edite/opt/anaconda3/lib/python3.7/site-packages/statsmodels/tsa/stattools.py:1710: InterpolationWarning: p-value is greater than the indicated p-value\n",
      "  warn(\"p-value is greater than the indicated p-value\", InterpolationWarning)\n"
     ]
    },
    {
     "data": {
      "text/plain": [
       "'Stationary'"
      ]
     },
     "execution_count": 15,
     "metadata": {},
     "output_type": "execute_result"
    }
   ],
   "source": [
    "train_diff = train_set['Count'].diff().dropna()\n",
    "\n",
    "adf_pval = adfuller(train_diff, maxlag=10, regression=\"nc\")[1]\n",
    "kpss_stat, kpss_pval, lags, crit_vals = kpss(train_diff)\n",
    "Trending(adf_pval, kpss_pval)"
   ]
  },
  {
   "cell_type": "markdown",
   "metadata": {},
   "source": [
    "The series has become stationary after the first differencing, so we'll use a differenced training set for building a model and we'll also difference the test data in order to be able to evaluate the model."
   ]
  },
  {
   "cell_type": "code",
   "execution_count": 16,
   "metadata": {
    "ExecuteTime": {
     "end_time": "2020-12-19T14:12:47.779662Z",
     "start_time": "2020-12-19T14:12:47.763289Z"
    }
   },
   "outputs": [],
   "source": [
    "test_diff = test_set['Count'].diff().dropna()"
   ]
  },
  {
   "cell_type": "markdown",
   "metadata": {},
   "source": [
    "## Build models\n",
    "\n",
    "### Baseline\n",
    "\n",
    "The persistence baseline is generating the previous hours accidents as the prediction for next hour. Baseline is 10.6 accidents per hour. If baseline would be derived as average accidents in the test data set, base line would be 14.5."
   ]
  },
  {
   "cell_type": "code",
   "execution_count": 17,
   "metadata": {
    "ExecuteTime": {
     "end_time": "2020-12-19T14:12:47.799275Z",
     "start_time": "2020-12-19T14:12:47.784776Z"
    }
   },
   "outputs": [
    {
     "data": {
      "text/plain": [
       "10.566832886189484"
      ]
     },
     "execution_count": 17,
     "metadata": {},
     "output_type": "execute_result"
    }
   ],
   "source": [
    "baseline_predictions = test_diff.shift()[1:]\n",
    "\n",
    "mse = mean_squared_error(test_diff[1:], baseline_predictions)\n",
    "\n",
    "baseline_rmse = np.sqrt(mse)\n",
    "baseline_rmse"
   ]
  },
  {
   "cell_type": "code",
   "execution_count": 18,
   "metadata": {
    "ExecuteTime": {
     "end_time": "2020-12-19T14:12:47.819909Z",
     "start_time": "2020-12-19T14:12:47.803440Z"
    }
   },
   "outputs": [
    {
     "data": {
      "text/plain": [
       "14.531990521327014"
      ]
     },
     "execution_count": 18,
     "metadata": {},
     "output_type": "execute_result"
    }
   ],
   "source": [
    "test_set['Count'].mean()"
   ]
  },
  {
   "cell_type": "markdown",
   "metadata": {},
   "source": [
    "### Extra transformation steps\n",
    "\n",
    "We need to do some transformation steps required to be able to input the data into the scikit-learn's implementation of the ML algorithms."
   ]
  },
  {
   "cell_type": "code",
   "execution_count": 19,
   "metadata": {
    "ExecuteTime": {
     "end_time": "2020-12-19T14:12:47.836744Z",
     "start_time": "2020-12-19T14:12:47.825116Z"
    }
   },
   "outputs": [],
   "source": [
    "def create_ar_vars(ts, lags=2):\n",
    "    \"\"\"Create autoregressive X variables\n",
    "    \"\"\"\n",
    "    dataX, dataY = [], []\n",
    "    for i in range(len(ts)-lags):\n",
    "        dataX.append(ts[i:i + lags, 0])\n",
    "        dataY.append(ts[i + lags, 0])\n",
    "    return np.array(dataX), np.array(dataY)"
   ]
  },
  {
   "cell_type": "markdown",
   "metadata": {},
   "source": [
    "We first create separate arrays for the predictors and the target, for both the training and test data. We'll use 3 lags to create autoregressive variables."
   ]
  },
  {
   "cell_type": "code",
   "execution_count": 20,
   "metadata": {
    "ExecuteTime": {
     "end_time": "2020-12-19T14:12:47.893623Z",
     "start_time": "2020-12-19T14:12:47.853969Z"
    }
   },
   "outputs": [],
   "source": [
    "Xtrain, ytrain = create_ar_vars(train_diff.values.reshape(-1, 1), lags=3)\n",
    "Xtest, ytest = create_ar_vars(test_diff.values.reshape(-1, 1), lags=3)"
   ]
  },
  {
   "cell_type": "markdown",
   "metadata": {},
   "source": [
    "Both predictor arrays need to be scaled (but the target variable should not be transformed)."
   ]
  },
  {
   "cell_type": "code",
   "execution_count": 21,
   "metadata": {
    "ExecuteTime": {
     "end_time": "2020-12-19T14:12:47.919958Z",
     "start_time": "2020-12-19T14:12:47.900846Z"
    }
   },
   "outputs": [],
   "source": [
    "from sklearn.preprocessing import StandardScaler\n",
    "\n",
    "scaler = StandardScaler()\n",
    "Xtrain = scaler.fit_transform(Xtrain)\n",
    "Xtest = scaler.transform(Xtest)"
   ]
  },
  {
   "cell_type": "markdown",
   "metadata": {},
   "source": [
    "Then we can use a grid search to find the most optimal hyperparameters settings.\n",
    "\n",
    "### Decision Tree regression\n",
    "\n",
    "We'll fine-tune `min_samples_split` (the minimum number of instances required to be at a node before it gets split) and `max_depth` (the maximum depth of each tree)."
   ]
  },
  {
   "cell_type": "code",
   "execution_count": 22,
   "metadata": {
    "ExecuteTime": {
     "end_time": "2020-12-19T14:12:48.896361Z",
     "start_time": "2020-12-19T14:12:47.927158Z"
    }
   },
   "outputs": [
    {
     "data": {
      "text/plain": [
       "GridSearchCV(cv=TimeSeriesSplit(max_train_size=None, n_splits=5),\n",
       "             error_score=nan,\n",
       "             estimator=DecisionTreeRegressor(ccp_alpha=0.0, criterion='mse',\n",
       "                                             max_depth=None, max_features=None,\n",
       "                                             max_leaf_nodes=None,\n",
       "                                             min_impurity_decrease=0.0,\n",
       "                                             min_impurity_split=None,\n",
       "                                             min_samples_leaf=1,\n",
       "                                             min_samples_split=2,\n",
       "                                             min_weight_fraction_leaf=0.0,\n",
       "                                             presort='deprecated',\n",
       "                                             random_state=7, splitter='best'),\n",
       "             iid='deprecated', n_jobs=None,\n",
       "             param_grid=[{'max_depth': [2, 5, 4, 6, 8],\n",
       "                          'min_samples_split': [2, 4, 6, 8, 3, 10, 9, 11]}],\n",
       "             pre_dispatch='2*n_jobs', refit=True, return_train_score=True,\n",
       "             scoring='neg_mean_squared_error', verbose=0)"
      ]
     },
     "execution_count": 22,
     "metadata": {},
     "output_type": "execute_result"
    }
   ],
   "source": [
    "dtree = DecisionTreeRegressor(random_state=7)\n",
    "param_grid = [\n",
    "    {'max_depth': [2, 5, 4, 6, 8],\n",
    "    'min_samples_split': [2, 4, 6, 8, 3, 10, 9, 11]}\n",
    "]\n",
    "\n",
    "tscv = TimeSeriesSplit(n_splits=5)\n",
    "dtree_grid_search = GridSearchCV(estimator=dtree, cv=tscv,\n",
    "                        param_grid=param_grid,\n",
    "                        scoring='neg_mean_squared_error', \n",
    "                        return_train_score=True)\n",
    "\n",
    "start = time.time()\n",
    "dtree_grid_search.fit(Xtrain, ytrain)"
   ]
  },
  {
   "cell_type": "code",
   "execution_count": 23,
   "metadata": {
    "ExecuteTime": {
     "end_time": "2020-12-19T14:12:48.912744Z",
     "start_time": "2020-12-19T14:12:48.899950Z"
    }
   },
   "outputs": [
    {
     "name": "stdout",
     "output_type": "stream",
     "text": [
      "7.062, 6.600, 1.070 {'max_depth': 5, 'min_samples_split': 10}\n",
      "7.066, 6.609, 1.069 {'max_depth': 5, 'min_samples_split': 11}\n",
      "7.072, 6.491, 1.089 {'max_depth': 6, 'min_samples_split': 10}\n",
      "7.077, 6.503, 1.088 {'max_depth': 6, 'min_samples_split': 11}\n",
      "7.108, 6.591, 1.078 {'max_depth': 5, 'min_samples_split': 8}\n",
      "7.110, 6.592, 1.079 {'max_depth': 5, 'min_samples_split': 9}\n",
      "7.116, 6.730, 1.057 {'max_depth': 4, 'min_samples_split': 4}\n",
      "7.116, 6.730, 1.057 {'max_depth': 4, 'min_samples_split': 3}\n",
      "7.116, 6.730, 1.057 {'max_depth': 4, 'min_samples_split': 2}\n",
      "7.116, 6.730, 1.057 {'max_depth': 4, 'min_samples_split': 6}\n",
      "7.120, 6.732, 1.058 {'max_depth': 4, 'min_samples_split': 9}\n",
      "7.120, 6.732, 1.058 {'max_depth': 4, 'min_samples_split': 8}\n",
      "7.120, 6.732, 1.058 {'max_depth': 4, 'min_samples_split': 11}\n",
      "7.120, 6.732, 1.058 {'max_depth': 4, 'min_samples_split': 10}\n",
      "7.124, 6.583, 1.082 {'max_depth': 5, 'min_samples_split': 6}\n",
      "7.124, 6.579, 1.083 {'max_depth': 5, 'min_samples_split': 2}\n",
      "7.125, 6.579, 1.083 {'max_depth': 5, 'min_samples_split': 3}\n",
      "7.125, 6.579, 1.083 {'max_depth': 5, 'min_samples_split': 4}\n",
      "7.130, 6.475, 1.101 {'max_depth': 6, 'min_samples_split': 9}\n",
      "7.131, 6.469, 1.102 {'max_depth': 6, 'min_samples_split': 8}\n",
      "7.148, 6.233, 1.147 {'max_depth': 8, 'min_samples_split': 10}\n",
      "7.149, 6.251, 1.144 {'max_depth': 8, 'min_samples_split': 11}\n",
      "7.153, 6.453, 1.108 {'max_depth': 6, 'min_samples_split': 6}\n",
      "7.183, 6.432, 1.117 {'max_depth': 6, 'min_samples_split': 2}\n",
      "7.187, 6.439, 1.116 {'max_depth': 6, 'min_samples_split': 4}\n",
      "7.193, 6.433, 1.118 {'max_depth': 6, 'min_samples_split': 3}\n",
      "7.207, 6.204, 1.162 {'max_depth': 8, 'min_samples_split': 9}\n",
      "7.213, 6.192, 1.165 {'max_depth': 8, 'min_samples_split': 8}\n",
      "7.249, 6.153, 1.178 {'max_depth': 8, 'min_samples_split': 6}\n",
      "7.296, 7.050, 1.035 {'max_depth': 2, 'min_samples_split': 9}\n",
      "7.296, 7.050, 1.035 {'max_depth': 2, 'min_samples_split': 8}\n",
      "7.296, 7.050, 1.035 {'max_depth': 2, 'min_samples_split': 6}\n",
      "7.296, 7.050, 1.035 {'max_depth': 2, 'min_samples_split': 4}\n",
      "7.296, 7.050, 1.035 {'max_depth': 2, 'min_samples_split': 3}\n",
      "7.296, 7.050, 1.035 {'max_depth': 2, 'min_samples_split': 2}\n",
      "7.296, 7.050, 1.035 {'max_depth': 2, 'min_samples_split': 11}\n",
      "7.296, 7.050, 1.035 {'max_depth': 2, 'min_samples_split': 10}\n",
      "7.305, 6.116, 1.194 {'max_depth': 8, 'min_samples_split': 4}\n",
      "7.311, 6.101, 1.198 {'max_depth': 8, 'min_samples_split': 3}\n",
      "7.323, 6.080, 1.204 {'max_depth': 8, 'min_samples_split': 2}\n"
     ]
    }
   ],
   "source": [
    "val_scores = dtree_grid_search.cv_results_[\"mean_test_score\"]\n",
    "train_scores = dtree_grid_search.cv_results_[\"mean_train_score\"]\n",
    "params = [str(x) for x in dtree_grid_search.cv_results_[\"params\"]]\n",
    "\n",
    "for val_score, train_score, param in sorted(zip(val_scores, train_scores, params), reverse=True):\n",
    "    print(f\"{np.sqrt(-val_score):.3f}, {np.sqrt(-train_score):.3f}, {np.sqrt(-val_score)/np.sqrt(-train_score):.3f}\", param)"
   ]
  },
  {
   "cell_type": "markdown",
   "metadata": {},
   "source": [
    "### Random Forest regression\n",
    "\n",
    "We'll fine-tune `n_estimators` (the number of decision trees used in the random forest) as well as `min_samples_split` and `max_depth` (hyperparameters of specific trees)."
   ]
  },
  {
   "cell_type": "code",
   "execution_count": 24,
   "metadata": {
    "ExecuteTime": {
     "end_time": "2020-12-19T14:13:32.200510Z",
     "start_time": "2020-12-19T14:12:48.918139Z"
    }
   },
   "outputs": [
    {
     "data": {
      "text/plain": [
       "GridSearchCV(cv=TimeSeriesSplit(max_train_size=None, n_splits=5),\n",
       "             error_score=nan,\n",
       "             estimator=RandomForestRegressor(bootstrap=True, ccp_alpha=0.0,\n",
       "                                             criterion='mse', max_depth=None,\n",
       "                                             max_features='auto',\n",
       "                                             max_leaf_nodes=None,\n",
       "                                             max_samples=None,\n",
       "                                             min_impurity_decrease=0.0,\n",
       "                                             min_impurity_split=None,\n",
       "                                             min_samples_leaf=1,\n",
       "                                             min_samples_split=2,\n",
       "                                             min_weight_fraction_leaf=0.0,\n",
       "                                             n_estimators=100, n_jobs=None,\n",
       "                                             oob_score=False, random_state=7,\n",
       "                                             verbose=0, warm_start=False),\n",
       "             iid='deprecated', n_jobs=None,\n",
       "             param_grid=[{'max_depth': [2, 4, 6, 8],\n",
       "                          'min_samples_split': [8, 10, 9, 11],\n",
       "                          'n_estimators': [2, 3, 5, 10, 15, 20, 30, 40, 50]}],\n",
       "             pre_dispatch='2*n_jobs', refit=True, return_train_score=True,\n",
       "             scoring='neg_mean_squared_error', verbose=0)"
      ]
     },
     "execution_count": 24,
     "metadata": {},
     "output_type": "execute_result"
    }
   ],
   "source": [
    "rf = RandomForestRegressor(random_state=7)\n",
    "param_grid = [\n",
    "    {'n_estimators': [2, 3, 5, 10, 15, 20, 30, 40, 50], \n",
    "     'max_depth': [2, 4, 6, 8],\n",
    "     'min_samples_split': [ 8, 10, 9, 11]\n",
    "    },\n",
    "]\n",
    "\n",
    "tscv = TimeSeriesSplit(n_splits=5)\n",
    "rf_grid_search = GridSearchCV(estimator=rf, cv=tscv,\n",
    "                        param_grid=param_grid,\n",
    "                        scoring='neg_mean_squared_error', \n",
    "                        return_train_score=True)\n",
    "\n",
    "start = time.time()\n",
    "rf_grid_search.fit(Xtrain, ytrain)"
   ]
  },
  {
   "cell_type": "markdown",
   "metadata": {},
   "source": [
    "Let's print the accuracy scores for every model evaluated during the grid search."
   ]
  },
  {
   "cell_type": "code",
   "execution_count": 25,
   "metadata": {
    "ExecuteTime": {
     "end_time": "2020-12-19T14:13:32.231378Z",
     "start_time": "2020-12-19T14:13:32.206778Z"
    }
   },
   "outputs": [
    {
     "name": "stdout",
     "output_type": "stream",
     "text": [
      "6.882, 6.144, 1.120 {'max_depth': 8, 'min_samples_split': 11, 'n_estimators': 20}\n",
      "6.885, 6.129, 1.123 {'max_depth': 8, 'min_samples_split': 10, 'n_estimators': 20}\n",
      "6.886, 6.115, 1.126 {'max_depth': 8, 'min_samples_split': 9, 'n_estimators': 20}\n",
      "6.887, 6.127, 1.124 {'max_depth': 8, 'min_samples_split': 11, 'n_estimators': 40}\n",
      "6.888, 6.161, 1.118 {'max_depth': 8, 'min_samples_split': 11, 'n_estimators': 15}\n",
      "6.889, 6.112, 1.127 {'max_depth': 8, 'min_samples_split': 10, 'n_estimators': 40}\n",
      "6.889, 6.101, 1.129 {'max_depth': 8, 'min_samples_split': 8, 'n_estimators': 20}\n",
      "6.890, 6.144, 1.121 {'max_depth': 8, 'min_samples_split': 10, 'n_estimators': 15}\n",
      "6.890, 6.131, 1.124 {'max_depth': 8, 'min_samples_split': 9, 'n_estimators': 15}\n",
      "6.891, 6.116, 1.127 {'max_depth': 8, 'min_samples_split': 11, 'n_estimators': 50}\n",
      "6.891, 6.097, 1.130 {'max_depth': 8, 'min_samples_split': 9, 'n_estimators': 40}\n",
      "6.891, 6.132, 1.124 {'max_depth': 8, 'min_samples_split': 11, 'n_estimators': 30}\n",
      "6.892, 6.103, 1.129 {'max_depth': 8, 'min_samples_split': 10, 'n_estimators': 50}\n",
      "6.893, 6.117, 1.127 {'max_depth': 8, 'min_samples_split': 10, 'n_estimators': 30}\n",
      "6.893, 6.088, 1.132 {'max_depth': 8, 'min_samples_split': 9, 'n_estimators': 50}\n",
      "6.894, 6.115, 1.127 {'max_depth': 8, 'min_samples_split': 8, 'n_estimators': 15}\n",
      "6.894, 6.102, 1.130 {'max_depth': 8, 'min_samples_split': 9, 'n_estimators': 30}\n",
      "6.894, 6.082, 1.134 {'max_depth': 8, 'min_samples_split': 8, 'n_estimators': 40}\n",
      "6.896, 6.073, 1.135 {'max_depth': 8, 'min_samples_split': 8, 'n_estimators': 50}\n",
      "6.896, 6.404, 1.077 {'max_depth': 6, 'min_samples_split': 9, 'n_estimators': 15}\n",
      "6.896, 6.409, 1.076 {'max_depth': 6, 'min_samples_split': 10, 'n_estimators': 15}\n",
      "6.896, 6.088, 1.133 {'max_depth': 8, 'min_samples_split': 8, 'n_estimators': 30}\n",
      "6.897, 6.400, 1.078 {'max_depth': 6, 'min_samples_split': 10, 'n_estimators': 20}\n",
      "6.897, 6.395, 1.078 {'max_depth': 6, 'min_samples_split': 9, 'n_estimators': 20}\n",
      "6.897, 6.396, 1.078 {'max_depth': 6, 'min_samples_split': 8, 'n_estimators': 15}\n",
      "6.898, 6.408, 1.076 {'max_depth': 6, 'min_samples_split': 11, 'n_estimators': 20}\n",
      "6.898, 6.417, 1.075 {'max_depth': 6, 'min_samples_split': 11, 'n_estimators': 15}\n",
      "6.898, 6.389, 1.080 {'max_depth': 6, 'min_samples_split': 8, 'n_estimators': 20}\n",
      "6.898, 6.375, 1.082 {'max_depth': 6, 'min_samples_split': 9, 'n_estimators': 50}\n",
      "6.899, 6.381, 1.081 {'max_depth': 6, 'min_samples_split': 10, 'n_estimators': 50}\n",
      "6.900, 6.368, 1.083 {'max_depth': 6, 'min_samples_split': 8, 'n_estimators': 50}\n",
      "6.900, 6.388, 1.080 {'max_depth': 6, 'min_samples_split': 11, 'n_estimators': 50}\n",
      "6.904, 6.387, 1.081 {'max_depth': 6, 'min_samples_split': 10, 'n_estimators': 40}\n",
      "6.904, 6.381, 1.082 {'max_depth': 6, 'min_samples_split': 9, 'n_estimators': 40}\n",
      "6.905, 6.395, 1.080 {'max_depth': 6, 'min_samples_split': 11, 'n_estimators': 40}\n",
      "6.905, 6.374, 1.083 {'max_depth': 6, 'min_samples_split': 8, 'n_estimators': 40}\n",
      "6.907, 6.383, 1.082 {'max_depth': 6, 'min_samples_split': 9, 'n_estimators': 30}\n",
      "6.908, 6.389, 1.081 {'max_depth': 6, 'min_samples_split': 10, 'n_estimators': 30}\n",
      "6.908, 6.376, 1.083 {'max_depth': 6, 'min_samples_split': 8, 'n_estimators': 30}\n",
      "6.908, 6.397, 1.080 {'max_depth': 6, 'min_samples_split': 11, 'n_estimators': 30}\n",
      "6.916, 6.420, 1.077 {'max_depth': 6, 'min_samples_split': 9, 'n_estimators': 10}\n",
      "6.916, 6.413, 1.078 {'max_depth': 6, 'min_samples_split': 8, 'n_estimators': 10}\n",
      "6.917, 6.423, 1.077 {'max_depth': 6, 'min_samples_split': 10, 'n_estimators': 10}\n",
      "6.920, 6.166, 1.122 {'max_depth': 8, 'min_samples_split': 10, 'n_estimators': 10}\n",
      "6.921, 6.181, 1.120 {'max_depth': 8, 'min_samples_split': 11, 'n_estimators': 10}\n",
      "6.921, 6.154, 1.125 {'max_depth': 8, 'min_samples_split': 9, 'n_estimators': 10}\n",
      "6.921, 6.431, 1.076 {'max_depth': 6, 'min_samples_split': 11, 'n_estimators': 10}\n",
      "6.924, 6.139, 1.128 {'max_depth': 8, 'min_samples_split': 8, 'n_estimators': 10}\n",
      "6.962, 6.469, 1.076 {'max_depth': 6, 'min_samples_split': 9, 'n_estimators': 5}\n",
      "6.964, 6.463, 1.077 {'max_depth': 6, 'min_samples_split': 8, 'n_estimators': 5}\n",
      "6.966, 6.479, 1.075 {'max_depth': 6, 'min_samples_split': 11, 'n_estimators': 5}\n",
      "6.966, 6.472, 1.076 {'max_depth': 6, 'min_samples_split': 10, 'n_estimators': 5}\n",
      "6.967, 6.243, 1.116 {'max_depth': 8, 'min_samples_split': 11, 'n_estimators': 5}\n",
      "6.970, 6.221, 1.120 {'max_depth': 8, 'min_samples_split': 9, 'n_estimators': 5}\n",
      "6.972, 6.230, 1.119 {'max_depth': 8, 'min_samples_split': 10, 'n_estimators': 5}\n",
      "6.973, 6.646, 1.049 {'max_depth': 4, 'min_samples_split': 9, 'n_estimators': 15}\n",
      "6.973, 6.206, 1.124 {'max_depth': 8, 'min_samples_split': 8, 'n_estimators': 5}\n",
      "6.974, 6.646, 1.049 {'max_depth': 4, 'min_samples_split': 8, 'n_estimators': 15}\n",
      "6.975, 6.647, 1.049 {'max_depth': 4, 'min_samples_split': 10, 'n_estimators': 15}\n",
      "6.975, 6.642, 1.050 {'max_depth': 4, 'min_samples_split': 9, 'n_estimators': 20}\n",
      "6.975, 6.651, 1.049 {'max_depth': 4, 'min_samples_split': 11, 'n_estimators': 15}\n",
      "6.975, 6.625, 1.053 {'max_depth': 4, 'min_samples_split': 9, 'n_estimators': 50}\n",
      "6.976, 6.627, 1.053 {'max_depth': 4, 'min_samples_split': 10, 'n_estimators': 50}\n",
      "6.976, 6.642, 1.050 {'max_depth': 4, 'min_samples_split': 8, 'n_estimators': 20}\n",
      "6.976, 6.625, 1.053 {'max_depth': 4, 'min_samples_split': 8, 'n_estimators': 50}\n",
      "6.976, 6.643, 1.050 {'max_depth': 4, 'min_samples_split': 10, 'n_estimators': 20}\n",
      "6.976, 6.629, 1.052 {'max_depth': 4, 'min_samples_split': 11, 'n_estimators': 50}\n",
      "6.977, 6.646, 1.050 {'max_depth': 4, 'min_samples_split': 11, 'n_estimators': 20}\n",
      "6.977, 6.631, 1.052 {'max_depth': 4, 'min_samples_split': 9, 'n_estimators': 30}\n",
      "6.978, 6.632, 1.052 {'max_depth': 4, 'min_samples_split': 10, 'n_estimators': 30}\n",
      "6.978, 6.631, 1.052 {'max_depth': 4, 'min_samples_split': 8, 'n_estimators': 30}\n",
      "6.978, 6.633, 1.052 {'max_depth': 4, 'min_samples_split': 10, 'n_estimators': 40}\n",
      "6.978, 6.631, 1.052 {'max_depth': 4, 'min_samples_split': 9, 'n_estimators': 40}\n",
      "6.978, 6.636, 1.052 {'max_depth': 4, 'min_samples_split': 11, 'n_estimators': 40}\n",
      "6.979, 6.631, 1.052 {'max_depth': 4, 'min_samples_split': 8, 'n_estimators': 40}\n",
      "6.979, 6.635, 1.052 {'max_depth': 4, 'min_samples_split': 11, 'n_estimators': 30}\n",
      "6.988, 6.653, 1.050 {'max_depth': 4, 'min_samples_split': 9, 'n_estimators': 10}\n",
      "6.990, 6.653, 1.051 {'max_depth': 4, 'min_samples_split': 8, 'n_estimators': 10}\n",
      "6.990, 6.654, 1.050 {'max_depth': 4, 'min_samples_split': 10, 'n_estimators': 10}\n",
      "6.993, 6.657, 1.050 {'max_depth': 4, 'min_samples_split': 11, 'n_estimators': 10}\n",
      "7.013, 6.500, 1.079 {'max_depth': 6, 'min_samples_split': 9, 'n_estimators': 3}\n",
      "7.015, 6.512, 1.077 {'max_depth': 6, 'min_samples_split': 11, 'n_estimators': 3}\n",
      "7.016, 6.503, 1.079 {'max_depth': 6, 'min_samples_split': 10, 'n_estimators': 3}\n",
      "7.016, 6.494, 1.080 {'max_depth': 6, 'min_samples_split': 8, 'n_estimators': 3}\n",
      "7.017, 6.690, 1.049 {'max_depth': 4, 'min_samples_split': 9, 'n_estimators': 5}\n",
      "7.019, 6.693, 1.049 {'max_depth': 4, 'min_samples_split': 11, 'n_estimators': 5}\n",
      "7.021, 6.692, 1.049 {'max_depth': 4, 'min_samples_split': 10, 'n_estimators': 5}\n",
      "7.021, 6.690, 1.050 {'max_depth': 4, 'min_samples_split': 8, 'n_estimators': 5}\n",
      "7.027, 6.742, 1.042 {'max_depth': 4, 'min_samples_split': 9, 'n_estimators': 2}\n",
      "7.029, 6.706, 1.048 {'max_depth': 4, 'min_samples_split': 9, 'n_estimators': 3}\n",
      "7.030, 6.743, 1.042 {'max_depth': 4, 'min_samples_split': 11, 'n_estimators': 2}\n",
      "7.030, 6.743, 1.042 {'max_depth': 4, 'min_samples_split': 10, 'n_estimators': 2}\n",
      "7.030, 6.709, 1.048 {'max_depth': 4, 'min_samples_split': 11, 'n_estimators': 3}\n",
      "7.032, 6.707, 1.048 {'max_depth': 4, 'min_samples_split': 10, 'n_estimators': 3}\n",
      "7.032, 6.705, 1.049 {'max_depth': 4, 'min_samples_split': 8, 'n_estimators': 3}\n",
      "7.033, 6.741, 1.043 {'max_depth': 4, 'min_samples_split': 8, 'n_estimators': 2}\n",
      "7.035, 6.307, 1.116 {'max_depth': 8, 'min_samples_split': 11, 'n_estimators': 3}\n",
      "7.042, 6.294, 1.119 {'max_depth': 8, 'min_samples_split': 10, 'n_estimators': 3}\n",
      "7.045, 6.289, 1.120 {'max_depth': 8, 'min_samples_split': 9, 'n_estimators': 3}\n",
      "7.049, 6.277, 1.123 {'max_depth': 8, 'min_samples_split': 8, 'n_estimators': 3}\n",
      "7.050, 6.571, 1.073 {'max_depth': 6, 'min_samples_split': 9, 'n_estimators': 2}\n",
      "7.053, 6.572, 1.073 {'max_depth': 6, 'min_samples_split': 10, 'n_estimators': 2}\n",
      "7.057, 6.579, 1.073 {'max_depth': 6, 'min_samples_split': 11, 'n_estimators': 2}\n",
      "7.058, 6.565, 1.075 {'max_depth': 6, 'min_samples_split': 8, 'n_estimators': 2}\n",
      "7.103, 6.388, 1.112 {'max_depth': 8, 'min_samples_split': 10, 'n_estimators': 2}\n",
      "7.105, 6.398, 1.111 {'max_depth': 8, 'min_samples_split': 11, 'n_estimators': 2}\n",
      "7.107, 6.385, 1.113 {'max_depth': 8, 'min_samples_split': 9, 'n_estimators': 2}\n",
      "7.114, 6.379, 1.115 {'max_depth': 8, 'min_samples_split': 8, 'n_estimators': 2}\n",
      "7.195, 6.975, 1.032 {'max_depth': 2, 'min_samples_split': 9, 'n_estimators': 20}\n",
      "7.195, 6.975, 1.032 {'max_depth': 2, 'min_samples_split': 8, 'n_estimators': 20}\n",
      "7.195, 6.975, 1.032 {'max_depth': 2, 'min_samples_split': 11, 'n_estimators': 20}\n",
      "7.195, 6.975, 1.032 {'max_depth': 2, 'min_samples_split': 10, 'n_estimators': 20}\n",
      "7.196, 6.964, 1.033 {'max_depth': 2, 'min_samples_split': 11, 'n_estimators': 50}\n",
      "7.196, 6.964, 1.033 {'max_depth': 2, 'min_samples_split': 10, 'n_estimators': 50}\n",
      "7.196, 6.964, 1.033 {'max_depth': 2, 'min_samples_split': 9, 'n_estimators': 50}\n",
      "7.196, 6.964, 1.033 {'max_depth': 2, 'min_samples_split': 8, 'n_estimators': 50}\n",
      "7.196, 6.979, 1.031 {'max_depth': 2, 'min_samples_split': 9, 'n_estimators': 15}\n",
      "7.196, 6.979, 1.031 {'max_depth': 2, 'min_samples_split': 8, 'n_estimators': 15}\n",
      "7.196, 6.979, 1.031 {'max_depth': 2, 'min_samples_split': 11, 'n_estimators': 15}\n",
      "7.196, 6.979, 1.031 {'max_depth': 2, 'min_samples_split': 10, 'n_estimators': 15}\n",
      "7.197, 6.966, 1.033 {'max_depth': 2, 'min_samples_split': 9, 'n_estimators': 30}\n",
      "7.197, 6.966, 1.033 {'max_depth': 2, 'min_samples_split': 8, 'n_estimators': 30}\n",
      "7.197, 6.966, 1.033 {'max_depth': 2, 'min_samples_split': 11, 'n_estimators': 30}\n",
      "7.197, 6.966, 1.033 {'max_depth': 2, 'min_samples_split': 10, 'n_estimators': 30}\n",
      "7.200, 6.970, 1.033 {'max_depth': 2, 'min_samples_split': 11, 'n_estimators': 40}\n",
      "7.200, 6.970, 1.033 {'max_depth': 2, 'min_samples_split': 10, 'n_estimators': 40}\n",
      "7.200, 6.970, 1.033 {'max_depth': 2, 'min_samples_split': 9, 'n_estimators': 40}\n",
      "7.200, 6.970, 1.033 {'max_depth': 2, 'min_samples_split': 8, 'n_estimators': 40}\n",
      "7.211, 6.982, 1.033 {'max_depth': 2, 'min_samples_split': 9, 'n_estimators': 10}\n",
      "7.211, 6.982, 1.033 {'max_depth': 2, 'min_samples_split': 8, 'n_estimators': 10}\n",
      "7.211, 6.982, 1.033 {'max_depth': 2, 'min_samples_split': 11, 'n_estimators': 10}\n",
      "7.211, 6.982, 1.033 {'max_depth': 2, 'min_samples_split': 10, 'n_estimators': 10}\n",
      "7.238, 6.997, 1.034 {'max_depth': 2, 'min_samples_split': 9, 'n_estimators': 5}\n",
      "7.238, 6.997, 1.034 {'max_depth': 2, 'min_samples_split': 8, 'n_estimators': 5}\n",
      "7.238, 6.997, 1.034 {'max_depth': 2, 'min_samples_split': 11, 'n_estimators': 5}\n",
      "7.238, 6.997, 1.034 {'max_depth': 2, 'min_samples_split': 10, 'n_estimators': 5}\n",
      "7.261, 7.016, 1.035 {'max_depth': 2, 'min_samples_split': 9, 'n_estimators': 3}\n",
      "7.261, 7.016, 1.035 {'max_depth': 2, 'min_samples_split': 8, 'n_estimators': 3}\n",
      "7.261, 7.016, 1.035 {'max_depth': 2, 'min_samples_split': 11, 'n_estimators': 3}\n",
      "7.261, 7.016, 1.035 {'max_depth': 2, 'min_samples_split': 10, 'n_estimators': 3}\n",
      "7.270, 7.037, 1.033 {'max_depth': 2, 'min_samples_split': 9, 'n_estimators': 2}\n",
      "7.270, 7.037, 1.033 {'max_depth': 2, 'min_samples_split': 8, 'n_estimators': 2}\n",
      "7.270, 7.037, 1.033 {'max_depth': 2, 'min_samples_split': 11, 'n_estimators': 2}\n",
      "7.270, 7.037, 1.033 {'max_depth': 2, 'min_samples_split': 10, 'n_estimators': 2}\n"
     ]
    }
   ],
   "source": [
    "val_scores = rf_grid_search.cv_results_[\"mean_test_score\"]\n",
    "train_scores = rf_grid_search.cv_results_[\"mean_train_score\"]\n",
    "params = [str(x) for x in rf_grid_search.cv_results_[\"params\"]]\n",
    "   \n",
    "for val_score, train_score, param in sorted(zip(val_scores, train_scores, params), reverse=True):\n",
    "    print(f\"{np.sqrt(-val_score):.3f}, {np.sqrt(-train_score):.3f}, {np.sqrt(-val_score)/np.sqrt(-train_score):.3f}\", param)"
   ]
  },
  {
   "cell_type": "markdown",
   "metadata": {},
   "source": [
    "The best models with both DT and RF methods do not seem to overfit too much, and their cross-validation RMSEs are quite above the baseline."
   ]
  },
  {
   "cell_type": "markdown",
   "metadata": {},
   "source": [
    "## Evaluate the best DT and RF models on the test data\n",
    "\n",
    "#### Decision tree"
   ]
  },
  {
   "cell_type": "code",
   "execution_count": 26,
   "metadata": {
    "ExecuteTime": {
     "end_time": "2020-12-19T14:13:32.248669Z",
     "start_time": "2020-12-19T14:13:32.236588Z"
    }
   },
   "outputs": [
    {
     "data": {
      "text/plain": [
       "7.381144660907249"
      ]
     },
     "execution_count": 26,
     "metadata": {},
     "output_type": "execute_result"
    }
   ],
   "source": [
    "best_model = dtree_grid_search.best_estimator_\n",
    "\n",
    "yhat = best_model.predict(Xtest)\n",
    "\n",
    "dtree_mse = mean_squared_error(ytest, yhat)\n",
    "dtree_rmse = np.sqrt(dtree_mse)\n",
    "dtree_rmse"
   ]
  },
  {
   "cell_type": "code",
   "execution_count": 27,
   "metadata": {
    "ExecuteTime": {
     "end_time": "2020-12-19T14:13:32.514289Z",
     "start_time": "2020-12-19T14:13:32.252249Z"
    }
   },
   "outputs": [
    {
     "data": {
      "text/plain": [
       "7.201542933554125"
      ]
     },
     "execution_count": 27,
     "metadata": {},
     "output_type": "execute_result"
    }
   ],
   "source": [
    "best_model = rf_grid_search.best_estimator_\n",
    "\n",
    "yhat = best_model.predict(Xtest)\n",
    "\n",
    "rf_mse = mean_squared_error(ytest, yhat)\n",
    "rf_rmse = np.sqrt(rf_mse)\n",
    "rf_rmse"
   ]
  },
  {
   "cell_type": "code",
   "execution_count": 28,
   "metadata": {
    "ExecuteTime": {
     "end_time": "2020-12-19T14:13:32.535448Z",
     "start_time": "2020-12-19T14:13:32.519786Z"
    }
   },
   "outputs": [
    {
     "data": {
      "text/plain": [
       "30.147994764314188"
      ]
     },
     "execution_count": 28,
     "metadata": {},
     "output_type": "execute_result"
    }
   ],
   "source": [
    "100*(baseline_rmse - dtree_rmse)/baseline_rmse"
   ]
  },
  {
   "cell_type": "markdown",
   "metadata": {},
   "source": [
    "By how much did the RF model improve on the persistence baseline, percent-wise?"
   ]
  },
  {
   "cell_type": "code",
   "execution_count": 29,
   "metadata": {
    "ExecuteTime": {
     "end_time": "2020-12-19T14:13:32.550806Z",
     "start_time": "2020-12-19T14:13:32.541187Z"
    }
   },
   "outputs": [
    {
     "data": {
      "text/plain": [
       "31.847668917274987"
      ]
     },
     "execution_count": 29,
     "metadata": {},
     "output_type": "execute_result"
    }
   ],
   "source": [
    "100*(baseline_rmse - rf_rmse)/baseline_rmse"
   ]
  },
  {
   "cell_type": "markdown",
   "metadata": {},
   "source": [
    "## Conclusion\n",
    "\n",
    "The Decision Tree regression model reduced the RMSE rate by 30%, while the RandomForest regression method by 31%, compared to the persistence baseline."
   ]
  },
  {
   "cell_type": "markdown",
   "metadata": {},
   "source": [
    "# Feature generation for regression"
   ]
  },
  {
   "cell_type": "markdown",
   "metadata": {},
   "source": [
    "Can the error be reduced by generation additional features and using regression instead of time series forecasting. "
   ]
  },
  {
   "cell_type": "markdown",
   "metadata": {},
   "source": [
    "##  Dr Strange "
   ]
  },
  {
   "cell_type": "markdown",
   "metadata": {},
   "source": [
    "### Function TimeSplit\n",
    "It takes datetime column and derives following new features:\n",
    "* Hour (0-23)\n",
    "* dayofweek (1-7)\n",
    "* quarter (1-4)\n",
    "* month(1-12)\n",
    "* dayofyear (1-365)\n",
    "* dayofmonth(1-31)\n",
    "* weekofyear(1-52)\n",
    "\n",
    "Extracting year does not serve any purpose as data set contains only 2018."
   ]
  },
  {
   "cell_type": "code",
   "execution_count": 30,
   "metadata": {
    "ExecuteTime": {
     "end_time": "2020-12-19T14:13:32.569771Z",
     "start_time": "2020-12-19T14:13:32.555482Z"
    }
   },
   "outputs": [],
   "source": [
    "def TimeSplit(df, label=None):\n",
    "    \"\"\"\n",
    "    Creates time series features from datetime index\n",
    "    \"\"\"\n",
    "    df['datetime'] = pd.to_datetime(df['datetime'], format=\"%d/%m/%Y %H:%M\" , errors='coerce')\n",
    "    df['Hour'] = df['datetime'].dt.hour\n",
    "    #df['Dayofweek'] = df['datetime'].dt.dayofweek+1\n",
    "    df['Quarter'] = df['datetime'].dt.quarter\n",
    "    df['Month'] = df['datetime'].dt.month\n",
    "    #df['year'] = df['Date'].dt.year\n",
    "    #df['dayofyear'] = df['datetime'].dt.dayofyear\n",
    "    df['Dayofmonth'] = df['datetime'].dt.day\n",
    "    df['Weekofyear'] = df['datetime'].dt.weekofyear\n",
    "    \n",
    "    \n",
    "    X = df[['Hour','Quarter','Month','Dayofmonth','Weekofyear'\n",
    "            #,'year','dayofyear','Dayofweek'\n",
    "            ]]\n",
    "    return X"
   ]
  },
  {
   "cell_type": "code",
   "execution_count": 31,
   "metadata": {
    "ExecuteTime": {
     "end_time": "2020-12-19T14:13:32.670129Z",
     "start_time": "2020-12-19T14:13:32.584680Z"
    }
   },
   "outputs": [
    {
     "data": {
      "text/html": [
       "<div>\n",
       "<style scoped>\n",
       "    .dataframe tbody tr th:only-of-type {\n",
       "        vertical-align: middle;\n",
       "    }\n",
       "\n",
       "    .dataframe tbody tr th {\n",
       "        vertical-align: top;\n",
       "    }\n",
       "\n",
       "    .dataframe thead th {\n",
       "        text-align: right;\n",
       "    }\n",
       "</style>\n",
       "<table border=\"1\" class=\"dataframe\">\n",
       "  <thead>\n",
       "    <tr style=\"text-align: right;\">\n",
       "      <th></th>\n",
       "      <th>Hour</th>\n",
       "      <th>Quarter</th>\n",
       "      <th>Month</th>\n",
       "      <th>Dayofmonth</th>\n",
       "      <th>Weekofyear</th>\n",
       "    </tr>\n",
       "  </thead>\n",
       "  <tbody>\n",
       "    <tr>\n",
       "      <th>0</th>\n",
       "      <td>0</td>\n",
       "      <td>1</td>\n",
       "      <td>1</td>\n",
       "      <td>1</td>\n",
       "      <td>1</td>\n",
       "    </tr>\n",
       "    <tr>\n",
       "      <th>1</th>\n",
       "      <td>1</td>\n",
       "      <td>1</td>\n",
       "      <td>1</td>\n",
       "      <td>1</td>\n",
       "      <td>1</td>\n",
       "    </tr>\n",
       "    <tr>\n",
       "      <th>2</th>\n",
       "      <td>2</td>\n",
       "      <td>1</td>\n",
       "      <td>1</td>\n",
       "      <td>1</td>\n",
       "      <td>1</td>\n",
       "    </tr>\n",
       "    <tr>\n",
       "      <th>3</th>\n",
       "      <td>3</td>\n",
       "      <td>1</td>\n",
       "      <td>1</td>\n",
       "      <td>1</td>\n",
       "      <td>1</td>\n",
       "    </tr>\n",
       "    <tr>\n",
       "      <th>4</th>\n",
       "      <td>4</td>\n",
       "      <td>1</td>\n",
       "      <td>1</td>\n",
       "      <td>1</td>\n",
       "      <td>1</td>\n",
       "    </tr>\n",
       "    <tr>\n",
       "      <th>...</th>\n",
       "      <td>...</td>\n",
       "      <td>...</td>\n",
       "      <td>...</td>\n",
       "      <td>...</td>\n",
       "      <td>...</td>\n",
       "    </tr>\n",
       "    <tr>\n",
       "      <th>8535</th>\n",
       "      <td>19</td>\n",
       "      <td>4</td>\n",
       "      <td>12</td>\n",
       "      <td>31</td>\n",
       "      <td>1</td>\n",
       "    </tr>\n",
       "    <tr>\n",
       "      <th>8536</th>\n",
       "      <td>20</td>\n",
       "      <td>4</td>\n",
       "      <td>12</td>\n",
       "      <td>31</td>\n",
       "      <td>1</td>\n",
       "    </tr>\n",
       "    <tr>\n",
       "      <th>8537</th>\n",
       "      <td>21</td>\n",
       "      <td>4</td>\n",
       "      <td>12</td>\n",
       "      <td>31</td>\n",
       "      <td>1</td>\n",
       "    </tr>\n",
       "    <tr>\n",
       "      <th>8538</th>\n",
       "      <td>22</td>\n",
       "      <td>4</td>\n",
       "      <td>12</td>\n",
       "      <td>31</td>\n",
       "      <td>1</td>\n",
       "    </tr>\n",
       "    <tr>\n",
       "      <th>8539</th>\n",
       "      <td>23</td>\n",
       "      <td>4</td>\n",
       "      <td>12</td>\n",
       "      <td>31</td>\n",
       "      <td>1</td>\n",
       "    </tr>\n",
       "  </tbody>\n",
       "</table>\n",
       "<p>8438 rows × 5 columns</p>\n",
       "</div>"
      ],
      "text/plain": [
       "      Hour  Quarter  Month  Dayofmonth  Weekofyear\n",
       "0        0        1      1           1           1\n",
       "1        1        1      1           1           1\n",
       "2        2        1      1           1           1\n",
       "3        3        1      1           1           1\n",
       "4        4        1      1           1           1\n",
       "...    ...      ...    ...         ...         ...\n",
       "8535    19        4     12          31           1\n",
       "8536    20        4     12          31           1\n",
       "8537    21        4     12          31           1\n",
       "8538    22        4     12          31           1\n",
       "8539    23        4     12          31           1\n",
       "\n",
       "[8438 rows x 5 columns]"
      ]
     },
     "execution_count": 31,
     "metadata": {},
     "output_type": "execute_result"
    }
   ],
   "source": [
    "TimeSplit(df)"
   ]
  },
  {
   "cell_type": "code",
   "execution_count": 32,
   "metadata": {
    "ExecuteTime": {
     "end_time": "2020-12-19T14:13:32.718158Z",
     "start_time": "2020-12-19T14:13:32.674439Z"
    }
   },
   "outputs": [
    {
     "data": {
      "text/html": [
       "<div>\n",
       "<style scoped>\n",
       "    .dataframe tbody tr th:only-of-type {\n",
       "        vertical-align: middle;\n",
       "    }\n",
       "\n",
       "    .dataframe tbody tr th {\n",
       "        vertical-align: top;\n",
       "    }\n",
       "\n",
       "    .dataframe thead th {\n",
       "        text-align: right;\n",
       "    }\n",
       "</style>\n",
       "<table border=\"1\" class=\"dataframe\">\n",
       "  <thead>\n",
       "    <tr style=\"text-align: right;\">\n",
       "      <th></th>\n",
       "      <th>datetime</th>\n",
       "      <th>Count</th>\n",
       "      <th>Day_of_Week</th>\n",
       "      <th>Precipitation</th>\n",
       "      <th>High_Winds</th>\n",
       "      <th>Road_Surface_Conditions</th>\n",
       "      <th>Light_Conditions</th>\n",
       "      <th>Urban_or_Rural_Area</th>\n",
       "      <th>Hour</th>\n",
       "      <th>Quarter</th>\n",
       "      <th>Month</th>\n",
       "      <th>Dayofmonth</th>\n",
       "      <th>Weekofyear</th>\n",
       "    </tr>\n",
       "  </thead>\n",
       "  <tbody>\n",
       "    <tr>\n",
       "      <th>7698</th>\n",
       "      <td>2018-11-26 02:00:00</td>\n",
       "      <td>1</td>\n",
       "      <td>Monday</td>\n",
       "      <td>Fine</td>\n",
       "      <td>False</td>\n",
       "      <td>Dry</td>\n",
       "      <td>Darkness - no lighting</td>\n",
       "      <td>Urban</td>\n",
       "      <td>2</td>\n",
       "      <td>4</td>\n",
       "      <td>11</td>\n",
       "      <td>26</td>\n",
       "      <td>48</td>\n",
       "    </tr>\n",
       "    <tr>\n",
       "      <th>8215</th>\n",
       "      <td>2018-12-18 04:00:00</td>\n",
       "      <td>3</td>\n",
       "      <td>Tuesday</td>\n",
       "      <td>Raining</td>\n",
       "      <td>False</td>\n",
       "      <td>Wet or damp</td>\n",
       "      <td>Darkness - no lighting</td>\n",
       "      <td>Rural</td>\n",
       "      <td>4</td>\n",
       "      <td>4</td>\n",
       "      <td>12</td>\n",
       "      <td>18</td>\n",
       "      <td>51</td>\n",
       "    </tr>\n",
       "    <tr>\n",
       "      <th>3804</th>\n",
       "      <td>2018-06-13 10:00:00</td>\n",
       "      <td>14</td>\n",
       "      <td>Wednesday</td>\n",
       "      <td>Fine</td>\n",
       "      <td>False</td>\n",
       "      <td>Dry</td>\n",
       "      <td>Daylight</td>\n",
       "      <td>Rural</td>\n",
       "      <td>10</td>\n",
       "      <td>2</td>\n",
       "      <td>6</td>\n",
       "      <td>13</td>\n",
       "      <td>24</td>\n",
       "    </tr>\n",
       "    <tr>\n",
       "      <th>2171</th>\n",
       "      <td>2018-04-04 14:00:00</td>\n",
       "      <td>13</td>\n",
       "      <td>Wednesday</td>\n",
       "      <td>Fine</td>\n",
       "      <td>False</td>\n",
       "      <td>Wet or damp</td>\n",
       "      <td>Daylight</td>\n",
       "      <td>Rural</td>\n",
       "      <td>14</td>\n",
       "      <td>2</td>\n",
       "      <td>4</td>\n",
       "      <td>4</td>\n",
       "      <td>14</td>\n",
       "    </tr>\n",
       "    <tr>\n",
       "      <th>8492</th>\n",
       "      <td>2018-12-29 23:00:00</td>\n",
       "      <td>14</td>\n",
       "      <td>Saturday</td>\n",
       "      <td>Fine</td>\n",
       "      <td>False</td>\n",
       "      <td>Dry</td>\n",
       "      <td>Darkness - lights lit</td>\n",
       "      <td>Urban</td>\n",
       "      <td>23</td>\n",
       "      <td>4</td>\n",
       "      <td>12</td>\n",
       "      <td>29</td>\n",
       "      <td>52</td>\n",
       "    </tr>\n",
       "    <tr>\n",
       "      <th>7960</th>\n",
       "      <td>2018-12-07 07:00:00</td>\n",
       "      <td>32</td>\n",
       "      <td>Friday</td>\n",
       "      <td>Raining</td>\n",
       "      <td>False</td>\n",
       "      <td>Wet or damp</td>\n",
       "      <td>Darkness - lights lit</td>\n",
       "      <td>Urban</td>\n",
       "      <td>7</td>\n",
       "      <td>4</td>\n",
       "      <td>12</td>\n",
       "      <td>7</td>\n",
       "      <td>49</td>\n",
       "    </tr>\n",
       "    <tr>\n",
       "      <th>1349</th>\n",
       "      <td>2018-02-28 05:00:00</td>\n",
       "      <td>7</td>\n",
       "      <td>Wednesday</td>\n",
       "      <td>Snowing</td>\n",
       "      <td>False</td>\n",
       "      <td>Snow</td>\n",
       "      <td>Darkness - lights lit</td>\n",
       "      <td>Urban</td>\n",
       "      <td>5</td>\n",
       "      <td>1</td>\n",
       "      <td>2</td>\n",
       "      <td>28</td>\n",
       "      <td>9</td>\n",
       "    </tr>\n",
       "    <tr>\n",
       "      <th>7278</th>\n",
       "      <td>2018-11-08 05:00:00</td>\n",
       "      <td>7</td>\n",
       "      <td>Thursday</td>\n",
       "      <td>Fine</td>\n",
       "      <td>False</td>\n",
       "      <td>Wet or damp</td>\n",
       "      <td>Darkness - no lighting</td>\n",
       "      <td>Rural</td>\n",
       "      <td>5</td>\n",
       "      <td>4</td>\n",
       "      <td>11</td>\n",
       "      <td>8</td>\n",
       "      <td>45</td>\n",
       "    </tr>\n",
       "    <tr>\n",
       "      <th>5345</th>\n",
       "      <td>2018-08-17 22:00:00</td>\n",
       "      <td>14</td>\n",
       "      <td>Friday</td>\n",
       "      <td>Fine</td>\n",
       "      <td>False</td>\n",
       "      <td>Dry</td>\n",
       "      <td>Darkness - lights lit</td>\n",
       "      <td>Urban</td>\n",
       "      <td>22</td>\n",
       "      <td>3</td>\n",
       "      <td>8</td>\n",
       "      <td>17</td>\n",
       "      <td>33</td>\n",
       "    </tr>\n",
       "    <tr>\n",
       "      <th>4231</th>\n",
       "      <td>2018-07-01 12:00:00</td>\n",
       "      <td>24</td>\n",
       "      <td>Sunday</td>\n",
       "      <td>Fine</td>\n",
       "      <td>False</td>\n",
       "      <td>Dry</td>\n",
       "      <td>Daylight</td>\n",
       "      <td>Rural</td>\n",
       "      <td>12</td>\n",
       "      <td>3</td>\n",
       "      <td>7</td>\n",
       "      <td>1</td>\n",
       "      <td>26</td>\n",
       "    </tr>\n",
       "  </tbody>\n",
       "</table>\n",
       "</div>"
      ],
      "text/plain": [
       "                datetime  Count Day_of_Week Precipitation  High_Winds  \\\n",
       "7698 2018-11-26 02:00:00      1      Monday          Fine       False   \n",
       "8215 2018-12-18 04:00:00      3     Tuesday       Raining       False   \n",
       "3804 2018-06-13 10:00:00     14   Wednesday          Fine       False   \n",
       "2171 2018-04-04 14:00:00     13   Wednesday          Fine       False   \n",
       "8492 2018-12-29 23:00:00     14    Saturday          Fine       False   \n",
       "7960 2018-12-07 07:00:00     32      Friday       Raining       False   \n",
       "1349 2018-02-28 05:00:00      7   Wednesday       Snowing       False   \n",
       "7278 2018-11-08 05:00:00      7    Thursday          Fine       False   \n",
       "5345 2018-08-17 22:00:00     14      Friday          Fine       False   \n",
       "4231 2018-07-01 12:00:00     24      Sunday          Fine       False   \n",
       "\n",
       "     Road_Surface_Conditions        Light_Conditions Urban_or_Rural_Area  \\\n",
       "7698                     Dry  Darkness - no lighting               Urban   \n",
       "8215             Wet or damp  Darkness - no lighting               Rural   \n",
       "3804                     Dry                Daylight               Rural   \n",
       "2171             Wet or damp                Daylight               Rural   \n",
       "8492                     Dry   Darkness - lights lit               Urban   \n",
       "7960             Wet or damp   Darkness - lights lit               Urban   \n",
       "1349                    Snow   Darkness - lights lit               Urban   \n",
       "7278             Wet or damp  Darkness - no lighting               Rural   \n",
       "5345                     Dry   Darkness - lights lit               Urban   \n",
       "4231                     Dry                Daylight               Rural   \n",
       "\n",
       "      Hour  Quarter  Month  Dayofmonth  Weekofyear  \n",
       "7698     2        4     11          26          48  \n",
       "8215     4        4     12          18          51  \n",
       "3804    10        2      6          13          24  \n",
       "2171    14        2      4           4          14  \n",
       "8492    23        4     12          29          52  \n",
       "7960     7        4     12           7          49  \n",
       "1349     5        1      2          28           9  \n",
       "7278     5        4     11           8          45  \n",
       "5345    22        3      8          17          33  \n",
       "4231    12        3      7           1          26  "
      ]
     },
     "execution_count": 32,
     "metadata": {},
     "output_type": "execute_result"
    }
   ],
   "source": [
    "df.sample(10)"
   ]
  },
  {
   "cell_type": "markdown",
   "metadata": {},
   "source": [
    "### Function TimeOfDay \n",
    "\n",
    "It takes hour derived with the previous function and splits in 5 categories:\n",
    "* morning rush (5-10)\n",
    "* office hours (10-15)\n",
    "* afternoon rush (15-19)\n",
    "* evening (19-23)\n",
    "* night (23-5)"
   ]
  },
  {
   "cell_type": "code",
   "execution_count": 33,
   "metadata": {
    "ExecuteTime": {
     "end_time": "2020-12-19T14:13:32.745562Z",
     "start_time": "2020-12-19T14:13:32.734098Z"
    }
   },
   "outputs": [],
   "source": [
    "def TimeOfDay(hour):\n",
    "    if hour >= 5 and hour < 10:\n",
    "        return \"Morning rush (5-10)\"\n",
    "    elif hour >= 10 and hour < 15:\n",
    "        return \"Office hours (10-15)\"\n",
    "    elif hour >= 15 and hour < 19:\n",
    "        return \"Afternoon rush (15-19)\"\n",
    "    elif hour >= 19 and hour < 23:\n",
    "        return \"Evening (19-23)\"\n",
    "    else:\n",
    "        return \"Night (23-5)\""
   ]
  },
  {
   "cell_type": "code",
   "execution_count": 34,
   "metadata": {
    "ExecuteTime": {
     "end_time": "2020-12-19T14:13:32.761715Z",
     "start_time": "2020-12-19T14:13:32.750367Z"
    }
   },
   "outputs": [],
   "source": [
    "df['Time_of_Day'] = df['Hour'].apply(TimeOfDay)"
   ]
  },
  {
   "cell_type": "markdown",
   "metadata": {},
   "source": [
    "Package holidays are imported and respective holidays for England in 2018 is appended to dataframe bank_holidays. \n",
    "United_Kingdom contains holidays for Scotland, Wales and Ireland, which are not Bank holidays across all United Kingdom. "
   ]
  },
  {
   "cell_type": "code",
   "execution_count": 35,
   "metadata": {
    "ExecuteTime": {
     "end_time": "2020-12-19T14:13:33.438205Z",
     "start_time": "2020-12-19T14:13:32.766046Z"
    }
   },
   "outputs": [],
   "source": [
    "import holidays \n",
    "uk_holidays = holidays.UnitedKingdom() \n",
    "bank_holidays = []\n",
    "\n",
    "for ptr in holidays.England(years = 2018).items(): \n",
    "    bank_holidays.append(str(ptr[0]))"
   ]
  },
  {
   "cell_type": "markdown",
   "metadata": {},
   "source": [
    "### Function Is_it_weekend \n",
    "Returning 1 if it is Sunday, Saturday or Bank Holiday in England. "
   ]
  },
  {
   "cell_type": "code",
   "execution_count": 36,
   "metadata": {
    "ExecuteTime": {
     "end_time": "2020-12-19T14:13:33.457864Z",
     "start_time": "2020-12-19T14:13:33.449873Z"
    }
   },
   "outputs": [],
   "source": [
    "def is_it_weekend(x):\n",
    "    m = x.normalize()\n",
    "    if m.dayofweek+1 == 6:\n",
    "        return 1\n",
    "    elif m.dayofweek+1 == 7:\n",
    "        return 1\n",
    "    elif str(m.date()) in bank_holidays:\n",
    "        return 1\n",
    "    else:\n",
    "        return 0"
   ]
  },
  {
   "cell_type": "code",
   "execution_count": 37,
   "metadata": {
    "ExecuteTime": {
     "end_time": "2020-12-19T14:13:33.658763Z",
     "start_time": "2020-12-19T14:13:33.465047Z"
    }
   },
   "outputs": [],
   "source": [
    "df['Is_weekend'] = df.datetime.apply(is_it_weekend)"
   ]
  },
  {
   "cell_type": "code",
   "execution_count": 38,
   "metadata": {
    "ExecuteTime": {
     "end_time": "2020-12-19T14:13:33.668702Z",
     "start_time": "2020-12-19T14:13:33.661566Z"
    }
   },
   "outputs": [],
   "source": [
    "#Function to change True/False to 1/0\n",
    "\n",
    "def Liking(x):\n",
    "    if str.lower(str(x)) == \"true\":\n",
    "        return 1\n",
    "    else:\n",
    "        return 0 "
   ]
  },
  {
   "cell_type": "code",
   "execution_count": 39,
   "metadata": {
    "ExecuteTime": {
     "end_time": "2020-12-19T14:13:33.688406Z",
     "start_time": "2020-12-19T14:13:33.672744Z"
    }
   },
   "outputs": [],
   "source": [
    "df.High_Winds = df.High_Winds.apply(Liking)"
   ]
  },
  {
   "cell_type": "code",
   "execution_count": 40,
   "metadata": {
    "ExecuteTime": {
     "end_time": "2020-12-19T14:13:33.730711Z",
     "start_time": "2020-12-19T14:13:33.693199Z"
    }
   },
   "outputs": [
    {
     "data": {
      "text/html": [
       "<div>\n",
       "<style scoped>\n",
       "    .dataframe tbody tr th:only-of-type {\n",
       "        vertical-align: middle;\n",
       "    }\n",
       "\n",
       "    .dataframe tbody tr th {\n",
       "        vertical-align: top;\n",
       "    }\n",
       "\n",
       "    .dataframe thead th {\n",
       "        text-align: right;\n",
       "    }\n",
       "</style>\n",
       "<table border=\"1\" class=\"dataframe\">\n",
       "  <thead>\n",
       "    <tr style=\"text-align: right;\">\n",
       "      <th></th>\n",
       "      <th>datetime</th>\n",
       "      <th>Count</th>\n",
       "      <th>Day_of_Week</th>\n",
       "      <th>Precipitation</th>\n",
       "      <th>High_Winds</th>\n",
       "      <th>Road_Surface_Conditions</th>\n",
       "      <th>Light_Conditions</th>\n",
       "      <th>Urban_or_Rural_Area</th>\n",
       "      <th>Hour</th>\n",
       "      <th>Quarter</th>\n",
       "      <th>Month</th>\n",
       "      <th>Dayofmonth</th>\n",
       "      <th>Weekofyear</th>\n",
       "      <th>Time_of_Day</th>\n",
       "      <th>Is_weekend</th>\n",
       "    </tr>\n",
       "  </thead>\n",
       "  <tbody>\n",
       "    <tr>\n",
       "      <th>122</th>\n",
       "      <td>2018-01-06 07:00:00</td>\n",
       "      <td>9</td>\n",
       "      <td>Saturday</td>\n",
       "      <td>Fine</td>\n",
       "      <td>0</td>\n",
       "      <td>Frost or ice</td>\n",
       "      <td>Daylight</td>\n",
       "      <td>Urban</td>\n",
       "      <td>7</td>\n",
       "      <td>1</td>\n",
       "      <td>1</td>\n",
       "      <td>6</td>\n",
       "      <td>1</td>\n",
       "      <td>Morning rush (5-10)</td>\n",
       "      <td>1</td>\n",
       "    </tr>\n",
       "    <tr>\n",
       "      <th>4320</th>\n",
       "      <td>2018-07-05 07:00:00</td>\n",
       "      <td>24</td>\n",
       "      <td>Thursday</td>\n",
       "      <td>Fine</td>\n",
       "      <td>0</td>\n",
       "      <td>Dry</td>\n",
       "      <td>Daylight</td>\n",
       "      <td>Urban</td>\n",
       "      <td>7</td>\n",
       "      <td>3</td>\n",
       "      <td>7</td>\n",
       "      <td>5</td>\n",
       "      <td>27</td>\n",
       "      <td>Morning rush (5-10)</td>\n",
       "      <td>0</td>\n",
       "    </tr>\n",
       "    <tr>\n",
       "      <th>7034</th>\n",
       "      <td>2018-10-28 20:00:00</td>\n",
       "      <td>7</td>\n",
       "      <td>Sunday</td>\n",
       "      <td>Fine</td>\n",
       "      <td>0</td>\n",
       "      <td>Dry</td>\n",
       "      <td>Darkness - lights lit</td>\n",
       "      <td>Urban</td>\n",
       "      <td>20</td>\n",
       "      <td>4</td>\n",
       "      <td>10</td>\n",
       "      <td>28</td>\n",
       "      <td>43</td>\n",
       "      <td>Evening (19-23)</td>\n",
       "      <td>1</td>\n",
       "    </tr>\n",
       "    <tr>\n",
       "      <th>2189</th>\n",
       "      <td>2018-04-05 08:00:00</td>\n",
       "      <td>19</td>\n",
       "      <td>Thursday</td>\n",
       "      <td>Fine</td>\n",
       "      <td>0</td>\n",
       "      <td>Dry</td>\n",
       "      <td>Daylight</td>\n",
       "      <td>Urban</td>\n",
       "      <td>8</td>\n",
       "      <td>2</td>\n",
       "      <td>4</td>\n",
       "      <td>5</td>\n",
       "      <td>14</td>\n",
       "      <td>Morning rush (5-10)</td>\n",
       "      <td>0</td>\n",
       "    </tr>\n",
       "    <tr>\n",
       "      <th>3572</th>\n",
       "      <td>2018-06-03 08:00:00</td>\n",
       "      <td>9</td>\n",
       "      <td>Sunday</td>\n",
       "      <td>Fine</td>\n",
       "      <td>0</td>\n",
       "      <td>Dry</td>\n",
       "      <td>Daylight</td>\n",
       "      <td>Rural</td>\n",
       "      <td>8</td>\n",
       "      <td>2</td>\n",
       "      <td>6</td>\n",
       "      <td>3</td>\n",
       "      <td>22</td>\n",
       "      <td>Morning rush (5-10)</td>\n",
       "      <td>1</td>\n",
       "    </tr>\n",
       "  </tbody>\n",
       "</table>\n",
       "</div>"
      ],
      "text/plain": [
       "                datetime  Count Day_of_Week Precipitation  High_Winds  \\\n",
       "122  2018-01-06 07:00:00      9    Saturday          Fine           0   \n",
       "4320 2018-07-05 07:00:00     24    Thursday          Fine           0   \n",
       "7034 2018-10-28 20:00:00      7      Sunday          Fine           0   \n",
       "2189 2018-04-05 08:00:00     19    Thursday          Fine           0   \n",
       "3572 2018-06-03 08:00:00      9      Sunday          Fine           0   \n",
       "\n",
       "     Road_Surface_Conditions       Light_Conditions Urban_or_Rural_Area  Hour  \\\n",
       "122             Frost or ice               Daylight               Urban     7   \n",
       "4320                     Dry               Daylight               Urban     7   \n",
       "7034                     Dry  Darkness - lights lit               Urban    20   \n",
       "2189                     Dry               Daylight               Urban     8   \n",
       "3572                     Dry               Daylight               Rural     8   \n",
       "\n",
       "      Quarter  Month  Dayofmonth  Weekofyear          Time_of_Day  Is_weekend  \n",
       "122         1      1           6           1  Morning rush (5-10)           1  \n",
       "4320        3      7           5          27  Morning rush (5-10)           0  \n",
       "7034        4     10          28          43      Evening (19-23)           1  \n",
       "2189        2      4           5          14  Morning rush (5-10)           0  \n",
       "3572        2      6           3          22  Morning rush (5-10)           1  "
      ]
     },
     "execution_count": 40,
     "metadata": {},
     "output_type": "execute_result"
    }
   ],
   "source": [
    "df.sample(5)"
   ]
  },
  {
   "cell_type": "markdown",
   "metadata": {},
   "source": [
    "Create a new feature \"Urban\" based on Urban_or_Rural_Area. Returns 1 if Urban and 0 if Rural. \n",
    "Deletes column Urban_or_Rural_Area.\n",
    "This is done so column name does not become extremely long and confusing. One hot encoding would create column named \"Urban_or_Rural_Area_Urban\". \n",
    "In case of using SHAP to explain machine learning model, approximately one third of variable name would be displayed, which in result would not aid in explaining black box of machine learning. "
   ]
  },
  {
   "cell_type": "code",
   "execution_count": 41,
   "metadata": {
    "ExecuteTime": {
     "end_time": "2020-12-19T14:13:33.752312Z",
     "start_time": "2020-12-19T14:13:33.735871Z"
    }
   },
   "outputs": [],
   "source": [
    "df['Urban']= np.where(df['Urban_or_Rural_Area'] == \"Urban\" , 1, 0)\n",
    "del df['Urban_or_Rural_Area']"
   ]
  },
  {
   "cell_type": "code",
   "execution_count": 42,
   "metadata": {
    "ExecuteTime": {
     "end_time": "2020-12-19T14:13:33.812358Z",
     "start_time": "2020-12-19T14:13:33.758342Z"
    }
   },
   "outputs": [
    {
     "data": {
      "text/html": [
       "<div>\n",
       "<style scoped>\n",
       "    .dataframe tbody tr th:only-of-type {\n",
       "        vertical-align: middle;\n",
       "    }\n",
       "\n",
       "    .dataframe tbody tr th {\n",
       "        vertical-align: top;\n",
       "    }\n",
       "\n",
       "    .dataframe thead th {\n",
       "        text-align: right;\n",
       "    }\n",
       "</style>\n",
       "<table border=\"1\" class=\"dataframe\">\n",
       "  <thead>\n",
       "    <tr style=\"text-align: right;\">\n",
       "      <th></th>\n",
       "      <th>Count</th>\n",
       "      <th>High_Winds</th>\n",
       "      <th>Hour</th>\n",
       "      <th>Quarter</th>\n",
       "      <th>Month</th>\n",
       "      <th>Dayofmonth</th>\n",
       "      <th>Weekofyear</th>\n",
       "      <th>Is_weekend</th>\n",
       "      <th>Urban</th>\n",
       "    </tr>\n",
       "  </thead>\n",
       "  <tbody>\n",
       "    <tr>\n",
       "      <th>count</th>\n",
       "      <td>8438.000000</td>\n",
       "      <td>8438.000000</td>\n",
       "      <td>8438.000000</td>\n",
       "      <td>8438.000000</td>\n",
       "      <td>8438.000000</td>\n",
       "      <td>8438.000000</td>\n",
       "      <td>8438.000000</td>\n",
       "      <td>8438.000000</td>\n",
       "      <td>8438.000000</td>\n",
       "    </tr>\n",
       "    <tr>\n",
       "      <th>mean</th>\n",
       "      <td>14.505689</td>\n",
       "      <td>0.008177</td>\n",
       "      <td>11.795094</td>\n",
       "      <td>2.518369</td>\n",
       "      <td>6.547997</td>\n",
       "      <td>15.738327</td>\n",
       "      <td>26.536857</td>\n",
       "      <td>0.313344</td>\n",
       "      <td>0.807300</td>\n",
       "    </tr>\n",
       "    <tr>\n",
       "      <th>std</th>\n",
       "      <td>10.455079</td>\n",
       "      <td>0.090063</td>\n",
       "      <td>6.833816</td>\n",
       "      <td>1.113807</td>\n",
       "      <td>3.437139</td>\n",
       "      <td>8.801340</td>\n",
       "      <td>15.000976</td>\n",
       "      <td>0.463881</td>\n",
       "      <td>0.394443</td>\n",
       "    </tr>\n",
       "    <tr>\n",
       "      <th>min</th>\n",
       "      <td>1.000000</td>\n",
       "      <td>0.000000</td>\n",
       "      <td>0.000000</td>\n",
       "      <td>1.000000</td>\n",
       "      <td>1.000000</td>\n",
       "      <td>1.000000</td>\n",
       "      <td>1.000000</td>\n",
       "      <td>0.000000</td>\n",
       "      <td>0.000000</td>\n",
       "    </tr>\n",
       "    <tr>\n",
       "      <th>25%</th>\n",
       "      <td>6.000000</td>\n",
       "      <td>0.000000</td>\n",
       "      <td>6.000000</td>\n",
       "      <td>2.000000</td>\n",
       "      <td>4.000000</td>\n",
       "      <td>8.000000</td>\n",
       "      <td>14.000000</td>\n",
       "      <td>0.000000</td>\n",
       "      <td>1.000000</td>\n",
       "    </tr>\n",
       "    <tr>\n",
       "      <th>50%</th>\n",
       "      <td>13.000000</td>\n",
       "      <td>0.000000</td>\n",
       "      <td>12.000000</td>\n",
       "      <td>3.000000</td>\n",
       "      <td>7.000000</td>\n",
       "      <td>16.000000</td>\n",
       "      <td>27.000000</td>\n",
       "      <td>0.000000</td>\n",
       "      <td>1.000000</td>\n",
       "    </tr>\n",
       "    <tr>\n",
       "      <th>75%</th>\n",
       "      <td>21.000000</td>\n",
       "      <td>0.000000</td>\n",
       "      <td>18.000000</td>\n",
       "      <td>4.000000</td>\n",
       "      <td>10.000000</td>\n",
       "      <td>23.000000</td>\n",
       "      <td>40.000000</td>\n",
       "      <td>1.000000</td>\n",
       "      <td>1.000000</td>\n",
       "    </tr>\n",
       "    <tr>\n",
       "      <th>max</th>\n",
       "      <td>62.000000</td>\n",
       "      <td>1.000000</td>\n",
       "      <td>23.000000</td>\n",
       "      <td>4.000000</td>\n",
       "      <td>12.000000</td>\n",
       "      <td>31.000000</td>\n",
       "      <td>52.000000</td>\n",
       "      <td>1.000000</td>\n",
       "      <td>1.000000</td>\n",
       "    </tr>\n",
       "  </tbody>\n",
       "</table>\n",
       "</div>"
      ],
      "text/plain": [
       "             Count   High_Winds         Hour      Quarter        Month  \\\n",
       "count  8438.000000  8438.000000  8438.000000  8438.000000  8438.000000   \n",
       "mean     14.505689     0.008177    11.795094     2.518369     6.547997   \n",
       "std      10.455079     0.090063     6.833816     1.113807     3.437139   \n",
       "min       1.000000     0.000000     0.000000     1.000000     1.000000   \n",
       "25%       6.000000     0.000000     6.000000     2.000000     4.000000   \n",
       "50%      13.000000     0.000000    12.000000     3.000000     7.000000   \n",
       "75%      21.000000     0.000000    18.000000     4.000000    10.000000   \n",
       "max      62.000000     1.000000    23.000000     4.000000    12.000000   \n",
       "\n",
       "        Dayofmonth   Weekofyear   Is_weekend        Urban  \n",
       "count  8438.000000  8438.000000  8438.000000  8438.000000  \n",
       "mean     15.738327    26.536857     0.313344     0.807300  \n",
       "std       8.801340    15.000976     0.463881     0.394443  \n",
       "min       1.000000     1.000000     0.000000     0.000000  \n",
       "25%       8.000000    14.000000     0.000000     1.000000  \n",
       "50%      16.000000    27.000000     0.000000     1.000000  \n",
       "75%      23.000000    40.000000     1.000000     1.000000  \n",
       "max      31.000000    52.000000     1.000000     1.000000  "
      ]
     },
     "execution_count": 42,
     "metadata": {},
     "output_type": "execute_result"
    }
   ],
   "source": [
    "df.describe()"
   ]
  },
  {
   "cell_type": "markdown",
   "metadata": {},
   "source": [
    "## Create  dummies "
   ]
  },
  {
   "cell_type": "code",
   "execution_count": 43,
   "metadata": {
    "ExecuteTime": {
     "end_time": "2020-12-19T14:13:33.825268Z",
     "start_time": "2020-12-19T14:13:33.816662Z"
    }
   },
   "outputs": [
    {
     "data": {
      "text/plain": [
       "Index(['datetime', 'Count', 'Day_of_Week', 'Precipitation', 'High_Winds',\n",
       "       'Road_Surface_Conditions', 'Light_Conditions', 'Hour', 'Quarter',\n",
       "       'Month', 'Dayofmonth', 'Weekofyear', 'Time_of_Day', 'Is_weekend',\n",
       "       'Urban'],\n",
       "      dtype='object')"
      ]
     },
     "execution_count": 43,
     "metadata": {},
     "output_type": "execute_result"
    }
   ],
   "source": [
    "df.columns"
   ]
  },
  {
   "cell_type": "code",
   "execution_count": 44,
   "metadata": {
    "ExecuteTime": {
     "end_time": "2020-12-19T14:13:33.856741Z",
     "start_time": "2020-12-19T14:13:33.829518Z"
    }
   },
   "outputs": [],
   "source": [
    "df2 = pd.get_dummies(df, drop_first=True)"
   ]
  },
  {
   "cell_type": "code",
   "execution_count": 45,
   "metadata": {
    "ExecuteTime": {
     "end_time": "2020-12-19T14:13:33.889153Z",
     "start_time": "2020-12-19T14:13:33.859644Z"
    }
   },
   "outputs": [
    {
     "data": {
      "text/html": [
       "<div>\n",
       "<style scoped>\n",
       "    .dataframe tbody tr th:only-of-type {\n",
       "        vertical-align: middle;\n",
       "    }\n",
       "\n",
       "    .dataframe tbody tr th {\n",
       "        vertical-align: top;\n",
       "    }\n",
       "\n",
       "    .dataframe thead th {\n",
       "        text-align: right;\n",
       "    }\n",
       "</style>\n",
       "<table border=\"1\" class=\"dataframe\">\n",
       "  <thead>\n",
       "    <tr style=\"text-align: right;\">\n",
       "      <th></th>\n",
       "      <th>413</th>\n",
       "      <th>5199</th>\n",
       "      <th>7854</th>\n",
       "      <th>980</th>\n",
       "      <th>5131</th>\n",
       "    </tr>\n",
       "  </thead>\n",
       "  <tbody>\n",
       "    <tr>\n",
       "      <th>datetime</th>\n",
       "      <td>2018-01-18 17:00:00</td>\n",
       "      <td>2018-08-11 17:00:00</td>\n",
       "      <td>2018-12-02 16:00:00</td>\n",
       "      <td>2018-02-12 05:00:00</td>\n",
       "      <td>2018-08-08 21:00:00</td>\n",
       "    </tr>\n",
       "    <tr>\n",
       "      <th>Count</th>\n",
       "      <td>39</td>\n",
       "      <td>19</td>\n",
       "      <td>18</td>\n",
       "      <td>2</td>\n",
       "      <td>7</td>\n",
       "    </tr>\n",
       "    <tr>\n",
       "      <th>High_Winds</th>\n",
       "      <td>0</td>\n",
       "      <td>0</td>\n",
       "      <td>0</td>\n",
       "      <td>0</td>\n",
       "      <td>0</td>\n",
       "    </tr>\n",
       "    <tr>\n",
       "      <th>Hour</th>\n",
       "      <td>17</td>\n",
       "      <td>17</td>\n",
       "      <td>16</td>\n",
       "      <td>5</td>\n",
       "      <td>21</td>\n",
       "    </tr>\n",
       "    <tr>\n",
       "      <th>Quarter</th>\n",
       "      <td>1</td>\n",
       "      <td>3</td>\n",
       "      <td>4</td>\n",
       "      <td>1</td>\n",
       "      <td>3</td>\n",
       "    </tr>\n",
       "    <tr>\n",
       "      <th>Month</th>\n",
       "      <td>1</td>\n",
       "      <td>8</td>\n",
       "      <td>12</td>\n",
       "      <td>2</td>\n",
       "      <td>8</td>\n",
       "    </tr>\n",
       "    <tr>\n",
       "      <th>Dayofmonth</th>\n",
       "      <td>18</td>\n",
       "      <td>11</td>\n",
       "      <td>2</td>\n",
       "      <td>12</td>\n",
       "      <td>8</td>\n",
       "    </tr>\n",
       "    <tr>\n",
       "      <th>Weekofyear</th>\n",
       "      <td>3</td>\n",
       "      <td>32</td>\n",
       "      <td>48</td>\n",
       "      <td>7</td>\n",
       "      <td>32</td>\n",
       "    </tr>\n",
       "    <tr>\n",
       "      <th>Is_weekend</th>\n",
       "      <td>0</td>\n",
       "      <td>1</td>\n",
       "      <td>1</td>\n",
       "      <td>0</td>\n",
       "      <td>0</td>\n",
       "    </tr>\n",
       "    <tr>\n",
       "      <th>Urban</th>\n",
       "      <td>1</td>\n",
       "      <td>1</td>\n",
       "      <td>1</td>\n",
       "      <td>0</td>\n",
       "      <td>1</td>\n",
       "    </tr>\n",
       "    <tr>\n",
       "      <th>Day_of_Week_Monday</th>\n",
       "      <td>0</td>\n",
       "      <td>0</td>\n",
       "      <td>0</td>\n",
       "      <td>1</td>\n",
       "      <td>0</td>\n",
       "    </tr>\n",
       "    <tr>\n",
       "      <th>Day_of_Week_Saturday</th>\n",
       "      <td>0</td>\n",
       "      <td>1</td>\n",
       "      <td>0</td>\n",
       "      <td>0</td>\n",
       "      <td>0</td>\n",
       "    </tr>\n",
       "    <tr>\n",
       "      <th>Day_of_Week_Sunday</th>\n",
       "      <td>0</td>\n",
       "      <td>0</td>\n",
       "      <td>1</td>\n",
       "      <td>0</td>\n",
       "      <td>0</td>\n",
       "    </tr>\n",
       "    <tr>\n",
       "      <th>Day_of_Week_Thursday</th>\n",
       "      <td>1</td>\n",
       "      <td>0</td>\n",
       "      <td>0</td>\n",
       "      <td>0</td>\n",
       "      <td>0</td>\n",
       "    </tr>\n",
       "    <tr>\n",
       "      <th>Day_of_Week_Tuesday</th>\n",
       "      <td>0</td>\n",
       "      <td>0</td>\n",
       "      <td>0</td>\n",
       "      <td>0</td>\n",
       "      <td>0</td>\n",
       "    </tr>\n",
       "    <tr>\n",
       "      <th>Day_of_Week_Wednesday</th>\n",
       "      <td>0</td>\n",
       "      <td>0</td>\n",
       "      <td>0</td>\n",
       "      <td>0</td>\n",
       "      <td>1</td>\n",
       "    </tr>\n",
       "    <tr>\n",
       "      <th>Precipitation_Fog or mist</th>\n",
       "      <td>0</td>\n",
       "      <td>0</td>\n",
       "      <td>0</td>\n",
       "      <td>0</td>\n",
       "      <td>0</td>\n",
       "    </tr>\n",
       "    <tr>\n",
       "      <th>Precipitation_Raining</th>\n",
       "      <td>0</td>\n",
       "      <td>0</td>\n",
       "      <td>1</td>\n",
       "      <td>0</td>\n",
       "      <td>0</td>\n",
       "    </tr>\n",
       "    <tr>\n",
       "      <th>Precipitation_Snowing</th>\n",
       "      <td>0</td>\n",
       "      <td>0</td>\n",
       "      <td>0</td>\n",
       "      <td>1</td>\n",
       "      <td>0</td>\n",
       "    </tr>\n",
       "    <tr>\n",
       "      <th>Road_Surface_Conditions_Flood over 3cm. deep</th>\n",
       "      <td>0</td>\n",
       "      <td>0</td>\n",
       "      <td>0</td>\n",
       "      <td>0</td>\n",
       "      <td>0</td>\n",
       "    </tr>\n",
       "    <tr>\n",
       "      <th>Road_Surface_Conditions_Frost or ice</th>\n",
       "      <td>0</td>\n",
       "      <td>0</td>\n",
       "      <td>0</td>\n",
       "      <td>0</td>\n",
       "      <td>0</td>\n",
       "    </tr>\n",
       "    <tr>\n",
       "      <th>Road_Surface_Conditions_Snow</th>\n",
       "      <td>0</td>\n",
       "      <td>0</td>\n",
       "      <td>0</td>\n",
       "      <td>1</td>\n",
       "      <td>0</td>\n",
       "    </tr>\n",
       "    <tr>\n",
       "      <th>Road_Surface_Conditions_Wet or damp</th>\n",
       "      <td>1</td>\n",
       "      <td>0</td>\n",
       "      <td>1</td>\n",
       "      <td>0</td>\n",
       "      <td>0</td>\n",
       "    </tr>\n",
       "    <tr>\n",
       "      <th>Light_Conditions_Darkness - lights lit</th>\n",
       "      <td>1</td>\n",
       "      <td>0</td>\n",
       "      <td>1</td>\n",
       "      <td>0</td>\n",
       "      <td>1</td>\n",
       "    </tr>\n",
       "    <tr>\n",
       "      <th>Light_Conditions_Darkness - lights unlit</th>\n",
       "      <td>0</td>\n",
       "      <td>0</td>\n",
       "      <td>0</td>\n",
       "      <td>0</td>\n",
       "      <td>0</td>\n",
       "    </tr>\n",
       "    <tr>\n",
       "      <th>Light_Conditions_Darkness - no lighting</th>\n",
       "      <td>0</td>\n",
       "      <td>0</td>\n",
       "      <td>0</td>\n",
       "      <td>0</td>\n",
       "      <td>0</td>\n",
       "    </tr>\n",
       "    <tr>\n",
       "      <th>Light_Conditions_Daylight</th>\n",
       "      <td>0</td>\n",
       "      <td>1</td>\n",
       "      <td>0</td>\n",
       "      <td>1</td>\n",
       "      <td>0</td>\n",
       "    </tr>\n",
       "    <tr>\n",
       "      <th>Time_of_Day_Evening (19-23)</th>\n",
       "      <td>0</td>\n",
       "      <td>0</td>\n",
       "      <td>0</td>\n",
       "      <td>0</td>\n",
       "      <td>1</td>\n",
       "    </tr>\n",
       "    <tr>\n",
       "      <th>Time_of_Day_Morning rush (5-10)</th>\n",
       "      <td>0</td>\n",
       "      <td>0</td>\n",
       "      <td>0</td>\n",
       "      <td>1</td>\n",
       "      <td>0</td>\n",
       "    </tr>\n",
       "    <tr>\n",
       "      <th>Time_of_Day_Night (23-5)</th>\n",
       "      <td>0</td>\n",
       "      <td>0</td>\n",
       "      <td>0</td>\n",
       "      <td>0</td>\n",
       "      <td>0</td>\n",
       "    </tr>\n",
       "    <tr>\n",
       "      <th>Time_of_Day_Office hours (10-15)</th>\n",
       "      <td>0</td>\n",
       "      <td>0</td>\n",
       "      <td>0</td>\n",
       "      <td>0</td>\n",
       "      <td>0</td>\n",
       "    </tr>\n",
       "  </tbody>\n",
       "</table>\n",
       "</div>"
      ],
      "text/plain": [
       "                                                             413   \\\n",
       "datetime                                      2018-01-18 17:00:00   \n",
       "Count                                                          39   \n",
       "High_Winds                                                      0   \n",
       "Hour                                                           17   \n",
       "Quarter                                                         1   \n",
       "Month                                                           1   \n",
       "Dayofmonth                                                     18   \n",
       "Weekofyear                                                      3   \n",
       "Is_weekend                                                      0   \n",
       "Urban                                                           1   \n",
       "Day_of_Week_Monday                                              0   \n",
       "Day_of_Week_Saturday                                            0   \n",
       "Day_of_Week_Sunday                                              0   \n",
       "Day_of_Week_Thursday                                            1   \n",
       "Day_of_Week_Tuesday                                             0   \n",
       "Day_of_Week_Wednesday                                           0   \n",
       "Precipitation_Fog or mist                                       0   \n",
       "Precipitation_Raining                                           0   \n",
       "Precipitation_Snowing                                           0   \n",
       "Road_Surface_Conditions_Flood over 3cm. deep                    0   \n",
       "Road_Surface_Conditions_Frost or ice                            0   \n",
       "Road_Surface_Conditions_Snow                                    0   \n",
       "Road_Surface_Conditions_Wet or damp                             1   \n",
       "Light_Conditions_Darkness - lights lit                          1   \n",
       "Light_Conditions_Darkness - lights unlit                        0   \n",
       "Light_Conditions_Darkness - no lighting                         0   \n",
       "Light_Conditions_Daylight                                       0   \n",
       "Time_of_Day_Evening (19-23)                                     0   \n",
       "Time_of_Day_Morning rush (5-10)                                 0   \n",
       "Time_of_Day_Night (23-5)                                        0   \n",
       "Time_of_Day_Office hours (10-15)                                0   \n",
       "\n",
       "                                                             5199  \\\n",
       "datetime                                      2018-08-11 17:00:00   \n",
       "Count                                                          19   \n",
       "High_Winds                                                      0   \n",
       "Hour                                                           17   \n",
       "Quarter                                                         3   \n",
       "Month                                                           8   \n",
       "Dayofmonth                                                     11   \n",
       "Weekofyear                                                     32   \n",
       "Is_weekend                                                      1   \n",
       "Urban                                                           1   \n",
       "Day_of_Week_Monday                                              0   \n",
       "Day_of_Week_Saturday                                            1   \n",
       "Day_of_Week_Sunday                                              0   \n",
       "Day_of_Week_Thursday                                            0   \n",
       "Day_of_Week_Tuesday                                             0   \n",
       "Day_of_Week_Wednesday                                           0   \n",
       "Precipitation_Fog or mist                                       0   \n",
       "Precipitation_Raining                                           0   \n",
       "Precipitation_Snowing                                           0   \n",
       "Road_Surface_Conditions_Flood over 3cm. deep                    0   \n",
       "Road_Surface_Conditions_Frost or ice                            0   \n",
       "Road_Surface_Conditions_Snow                                    0   \n",
       "Road_Surface_Conditions_Wet or damp                             0   \n",
       "Light_Conditions_Darkness - lights lit                          0   \n",
       "Light_Conditions_Darkness - lights unlit                        0   \n",
       "Light_Conditions_Darkness - no lighting                         0   \n",
       "Light_Conditions_Daylight                                       1   \n",
       "Time_of_Day_Evening (19-23)                                     0   \n",
       "Time_of_Day_Morning rush (5-10)                                 0   \n",
       "Time_of_Day_Night (23-5)                                        0   \n",
       "Time_of_Day_Office hours (10-15)                                0   \n",
       "\n",
       "                                                             7854  \\\n",
       "datetime                                      2018-12-02 16:00:00   \n",
       "Count                                                          18   \n",
       "High_Winds                                                      0   \n",
       "Hour                                                           16   \n",
       "Quarter                                                         4   \n",
       "Month                                                          12   \n",
       "Dayofmonth                                                      2   \n",
       "Weekofyear                                                     48   \n",
       "Is_weekend                                                      1   \n",
       "Urban                                                           1   \n",
       "Day_of_Week_Monday                                              0   \n",
       "Day_of_Week_Saturday                                            0   \n",
       "Day_of_Week_Sunday                                              1   \n",
       "Day_of_Week_Thursday                                            0   \n",
       "Day_of_Week_Tuesday                                             0   \n",
       "Day_of_Week_Wednesday                                           0   \n",
       "Precipitation_Fog or mist                                       0   \n",
       "Precipitation_Raining                                           1   \n",
       "Precipitation_Snowing                                           0   \n",
       "Road_Surface_Conditions_Flood over 3cm. deep                    0   \n",
       "Road_Surface_Conditions_Frost or ice                            0   \n",
       "Road_Surface_Conditions_Snow                                    0   \n",
       "Road_Surface_Conditions_Wet or damp                             1   \n",
       "Light_Conditions_Darkness - lights lit                          1   \n",
       "Light_Conditions_Darkness - lights unlit                        0   \n",
       "Light_Conditions_Darkness - no lighting                         0   \n",
       "Light_Conditions_Daylight                                       0   \n",
       "Time_of_Day_Evening (19-23)                                     0   \n",
       "Time_of_Day_Morning rush (5-10)                                 0   \n",
       "Time_of_Day_Night (23-5)                                        0   \n",
       "Time_of_Day_Office hours (10-15)                                0   \n",
       "\n",
       "                                                             980   \\\n",
       "datetime                                      2018-02-12 05:00:00   \n",
       "Count                                                           2   \n",
       "High_Winds                                                      0   \n",
       "Hour                                                            5   \n",
       "Quarter                                                         1   \n",
       "Month                                                           2   \n",
       "Dayofmonth                                                     12   \n",
       "Weekofyear                                                      7   \n",
       "Is_weekend                                                      0   \n",
       "Urban                                                           0   \n",
       "Day_of_Week_Monday                                              1   \n",
       "Day_of_Week_Saturday                                            0   \n",
       "Day_of_Week_Sunday                                              0   \n",
       "Day_of_Week_Thursday                                            0   \n",
       "Day_of_Week_Tuesday                                             0   \n",
       "Day_of_Week_Wednesday                                           0   \n",
       "Precipitation_Fog or mist                                       0   \n",
       "Precipitation_Raining                                           0   \n",
       "Precipitation_Snowing                                           1   \n",
       "Road_Surface_Conditions_Flood over 3cm. deep                    0   \n",
       "Road_Surface_Conditions_Frost or ice                            0   \n",
       "Road_Surface_Conditions_Snow                                    1   \n",
       "Road_Surface_Conditions_Wet or damp                             0   \n",
       "Light_Conditions_Darkness - lights lit                          0   \n",
       "Light_Conditions_Darkness - lights unlit                        0   \n",
       "Light_Conditions_Darkness - no lighting                         0   \n",
       "Light_Conditions_Daylight                                       1   \n",
       "Time_of_Day_Evening (19-23)                                     0   \n",
       "Time_of_Day_Morning rush (5-10)                                 1   \n",
       "Time_of_Day_Night (23-5)                                        0   \n",
       "Time_of_Day_Office hours (10-15)                                0   \n",
       "\n",
       "                                                             5131  \n",
       "datetime                                      2018-08-08 21:00:00  \n",
       "Count                                                           7  \n",
       "High_Winds                                                      0  \n",
       "Hour                                                           21  \n",
       "Quarter                                                         3  \n",
       "Month                                                           8  \n",
       "Dayofmonth                                                      8  \n",
       "Weekofyear                                                     32  \n",
       "Is_weekend                                                      0  \n",
       "Urban                                                           1  \n",
       "Day_of_Week_Monday                                              0  \n",
       "Day_of_Week_Saturday                                            0  \n",
       "Day_of_Week_Sunday                                              0  \n",
       "Day_of_Week_Thursday                                            0  \n",
       "Day_of_Week_Tuesday                                             0  \n",
       "Day_of_Week_Wednesday                                           1  \n",
       "Precipitation_Fog or mist                                       0  \n",
       "Precipitation_Raining                                           0  \n",
       "Precipitation_Snowing                                           0  \n",
       "Road_Surface_Conditions_Flood over 3cm. deep                    0  \n",
       "Road_Surface_Conditions_Frost or ice                            0  \n",
       "Road_Surface_Conditions_Snow                                    0  \n",
       "Road_Surface_Conditions_Wet or damp                             0  \n",
       "Light_Conditions_Darkness - lights lit                          1  \n",
       "Light_Conditions_Darkness - lights unlit                        0  \n",
       "Light_Conditions_Darkness - no lighting                         0  \n",
       "Light_Conditions_Daylight                                       0  \n",
       "Time_of_Day_Evening (19-23)                                     1  \n",
       "Time_of_Day_Morning rush (5-10)                                 0  \n",
       "Time_of_Day_Night (23-5)                                        0  \n",
       "Time_of_Day_Office hours (10-15)                                0  "
      ]
     },
     "execution_count": 45,
     "metadata": {},
     "output_type": "execute_result"
    }
   ],
   "source": [
    "df2.sample(5).T"
   ]
  },
  {
   "cell_type": "code",
   "execution_count": 46,
   "metadata": {
    "ExecuteTime": {
     "end_time": "2020-12-19T14:13:33.923882Z",
     "start_time": "2020-12-19T14:13:33.893707Z"
    }
   },
   "outputs": [
    {
     "data": {
      "text/plain": [
       "Count                                           1.000000\n",
       "Light_Conditions_Daylight                       0.455375\n",
       "Hour                                            0.365645\n",
       "Urban                                           0.301672\n",
       "Time_of_Day_Office hours (10-15)                0.191140\n",
       "Day_of_Week_Thursday                            0.041966\n",
       "Weekofyear                                      0.041304\n",
       "Quarter                                         0.035880\n",
       "Month                                           0.035640\n",
       "Day_of_Week_Wednesday                           0.034674\n",
       "Day_of_Week_Tuesday                             0.030162\n",
       "Day_of_Week_Monday                              0.002505\n",
       "Dayofmonth                                     -0.003169\n",
       "Road_Surface_Conditions_Frost or ice           -0.019573\n",
       "Road_Surface_Conditions_Flood over 3cm. deep   -0.028196\n",
       "Precipitation_Snowing                          -0.039278\n",
       "Road_Surface_Conditions_Snow                   -0.046214\n",
       "Day_of_Week_Saturday                           -0.057734\n",
       "Precipitation_Fog or mist                      -0.058407\n",
       "Time_of_Day_Morning rush (5-10)                -0.061082\n",
       "Light_Conditions_Darkness - lights unlit       -0.064312\n",
       "High_Winds                                     -0.083819\n",
       "Time_of_Day_Evening (19-23)                    -0.091421\n",
       "Precipitation_Raining                          -0.104153\n",
       "Day_of_Week_Sunday                             -0.130711\n",
       "Road_Surface_Conditions_Wet or damp            -0.144277\n",
       "Is_weekend                                     -0.164889\n",
       "Light_Conditions_Darkness - no lighting        -0.269525\n",
       "Light_Conditions_Darkness - lights lit         -0.305285\n",
       "Time_of_Day_Night (23-5)                       -0.526061\n",
       "Name: Count, dtype: float64"
      ]
     },
     "execution_count": 46,
     "metadata": {},
     "output_type": "execute_result"
    }
   ],
   "source": [
    "corr_matrix = df2.corr()\n",
    "corr_matrix['Count'].sort_values(ascending=False)"
   ]
  },
  {
   "cell_type": "markdown",
   "metadata": {},
   "source": [
    "# Linear regression"
   ]
  },
  {
   "cell_type": "code",
   "execution_count": 47,
   "metadata": {
    "ExecuteTime": {
     "end_time": "2020-12-19T14:13:33.939375Z",
     "start_time": "2020-12-19T14:13:33.927947Z"
    }
   },
   "outputs": [
    {
     "name": "stdout",
     "output_type": "stream",
     "text": [
      "7594 train and 844 test instances\n"
     ]
    }
   ],
   "source": [
    "train_set, test_set = train_test_split(df2, test_size=0.1, random_state=7, shuffle=False)\n",
    "print(f\"{train_set.shape[0]} train and {test_set.shape[0]} test instances\")"
   ]
  },
  {
   "cell_type": "code",
   "execution_count": 48,
   "metadata": {
    "ExecuteTime": {
     "end_time": "2020-12-19T14:13:33.956884Z",
     "start_time": "2020-12-19T14:13:33.943318Z"
    }
   },
   "outputs": [],
   "source": [
    "Xtrain = train_set[['High_Winds', 'Hour', 'Quarter', 'Month',\n",
    "       'Dayofmonth', 'Weekofyear', 'Is_weekend', 'Urban', 'Day_of_Week_Monday',\n",
    "       'Day_of_Week_Saturday', 'Day_of_Week_Sunday', 'Day_of_Week_Thursday',\n",
    "       'Day_of_Week_Tuesday', 'Day_of_Week_Wednesday',\n",
    "       'Precipitation_Fog or mist', 'Precipitation_Raining',\n",
    "       'Precipitation_Snowing', 'Road_Surface_Conditions_Flood over 3cm. deep',\n",
    "       'Road_Surface_Conditions_Frost or ice', 'Road_Surface_Conditions_Snow',\n",
    "       'Road_Surface_Conditions_Wet or damp',\n",
    "       'Light_Conditions_Darkness - lights lit',\n",
    "       'Light_Conditions_Darkness - lights unlit',\n",
    "       'Light_Conditions_Darkness - no lighting', 'Light_Conditions_Daylight',\n",
    "       'Time_of_Day_Evening (19-23)', 'Time_of_Day_Morning rush (5-10)',\n",
    "       'Time_of_Day_Night (23-5)', 'Time_of_Day_Office hours (10-15)']]\n",
    "\n",
    "ytrain = train_set['Count']"
   ]
  },
  {
   "cell_type": "code",
   "execution_count": 49,
   "metadata": {
    "ExecuteTime": {
     "end_time": "2020-12-19T14:13:33.993440Z",
     "start_time": "2020-12-19T14:13:33.960252Z"
    }
   },
   "outputs": [
    {
     "data": {
      "text/plain": [
       "LinearRegression(copy_X=True, fit_intercept=True, n_jobs=None, normalize=False)"
      ]
     },
     "execution_count": 49,
     "metadata": {},
     "output_type": "execute_result"
    }
   ],
   "source": [
    "from sklearn.linear_model import LinearRegression\n",
    "\n",
    "lin_reg = LinearRegression()\n",
    "\n",
    "lin_reg.fit(Xtrain, ytrain)"
   ]
  },
  {
   "cell_type": "code",
   "execution_count": 50,
   "metadata": {
    "ExecuteTime": {
     "end_time": "2020-12-19T14:13:34.022036Z",
     "start_time": "2020-12-19T14:13:33.997636Z"
    }
   },
   "outputs": [
    {
     "data": {
      "text/plain": [
       "6.877592809712238"
      ]
     },
     "execution_count": 50,
     "metadata": {},
     "output_type": "execute_result"
    }
   ],
   "source": [
    "# make predictions\n",
    "yhat = lin_reg.predict(Xtrain)\n",
    "\n",
    "lin_mse = mean_squared_error(ytrain, yhat)\n",
    "\n",
    "# take square root\n",
    "lin_rmse = np.sqrt(lin_mse)\n",
    "\n",
    "lin_rmse"
   ]
  },
  {
   "cell_type": "code",
   "execution_count": 51,
   "metadata": {
    "ExecuteTime": {
     "end_time": "2020-12-19T14:13:34.222778Z",
     "start_time": "2020-12-19T14:13:34.027420Z"
    }
   },
   "outputs": [
    {
     "name": "stdout",
     "output_type": "stream",
     "text": [
      "Scores: [7.52156064 6.84101071 6.70611634 7.26938994 6.93635611 7.58267261\n",
      " 5.67804379 6.53360723 7.27307227 7.38019337] [False  True  True False  True False  True  True False False]\n",
      "Mean: 6.972202301406665\n",
      "Standard deviation: 0.5455527792915901\n"
     ]
    }
   ],
   "source": [
    "from sklearn.model_selection import cross_val_score\n",
    "\n",
    "lin_reg = LinearRegression()\n",
    "scores = cross_val_score(lin_reg, Xtrain, ytrain,\n",
    "                         scoring=\"neg_mean_squared_error\", cv=10)\n",
    "rmse_scores = np.sqrt(-scores)\n",
    "\n",
    "def display_scores(scores):\n",
    "    print(\"Scores:\", scores, scores < 7.2)\n",
    "    print(\"Mean:\", scores.mean())\n",
    "    print(\"Standard deviation:\", scores.std()) \n",
    "    \n",
    "display_scores(rmse_scores)"
   ]
  },
  {
   "cell_type": "markdown",
   "metadata": {},
   "source": [
    "It turns out that linear regression has a slightly lower average error rate than Decision Trees, and at the same time exhibits lower variance."
   ]
  },
  {
   "cell_type": "code",
   "execution_count": 52,
   "metadata": {
    "ExecuteTime": {
     "end_time": "2020-12-19T14:13:34.306984Z",
     "start_time": "2020-12-19T14:13:34.227929Z"
    }
   },
   "outputs": [
    {
     "data": {
      "text/plain": [
       "0.0"
      ]
     },
     "execution_count": 52,
     "metadata": {},
     "output_type": "execute_result"
    }
   ],
   "source": [
    "from sklearn.tree import DecisionTreeRegressor\n",
    "\n",
    "tree_reg = DecisionTreeRegressor()\n",
    "tree_reg.fit(Xtrain, ytrain)\n",
    "yhat = tree_reg.predict(Xtrain)\n",
    "tree_mse = mean_squared_error(ytrain, yhat)\n",
    "tree_rmse = np.sqrt(tree_mse)\n",
    "tree_rmse"
   ]
  },
  {
   "cell_type": "markdown",
   "metadata": {},
   "source": [
    "# Decision Tree regression\n",
    "\n",
    "We'll fine-tune `min_samples_split` (the minimum number of instances required to be at a node before it gets split) and `max_depth` (the maximum depth of each tree)."
   ]
  },
  {
   "cell_type": "code",
   "execution_count": 53,
   "metadata": {
    "ExecuteTime": {
     "end_time": "2020-12-19T14:13:36.930488Z",
     "start_time": "2020-12-19T14:13:34.311341Z"
    }
   },
   "outputs": [
    {
     "data": {
      "text/plain": [
       "GridSearchCV(cv=TimeSeriesSplit(max_train_size=None, n_splits=5),\n",
       "             error_score=nan,\n",
       "             estimator=DecisionTreeRegressor(ccp_alpha=0.0, criterion='mse',\n",
       "                                             max_depth=None, max_features=None,\n",
       "                                             max_leaf_nodes=None,\n",
       "                                             min_impurity_decrease=0.0,\n",
       "                                             min_impurity_split=None,\n",
       "                                             min_samples_leaf=1,\n",
       "                                             min_samples_split=2,\n",
       "                                             min_weight_fraction_leaf=0.0,\n",
       "                                             presort='deprecated',\n",
       "                                             random_state=7, splitter='best'),\n",
       "             iid='deprecated', n_jobs=None,\n",
       "             param_grid=[{'max_depth': [2, 5, 4, 6, 8],\n",
       "                          'min_samples_split': [2, 4, 6, 8, 3, 10, 9, 11]}],\n",
       "             pre_dispatch='2*n_jobs', refit=True, return_train_score=True,\n",
       "             scoring='neg_mean_squared_error', verbose=0)"
      ]
     },
     "execution_count": 53,
     "metadata": {},
     "output_type": "execute_result"
    }
   ],
   "source": [
    "dtree = DecisionTreeRegressor(random_state=7)\n",
    "param_grid = [\n",
    "    {'max_depth': [2, 5, 4, 6, 8],\n",
    "    'min_samples_split': [2, 4, 6, 8, 3, 10, 9, 11]}\n",
    "]\n",
    "\n",
    "tscv = TimeSeriesSplit(n_splits=5)\n",
    "dtree_grid_search = GridSearchCV(estimator=dtree, cv=tscv,\n",
    "                        param_grid=param_grid,\n",
    "                        scoring='neg_mean_squared_error', \n",
    "                        return_train_score=True)\n",
    "\n",
    "start = time.time()\n",
    "dtree_grid_search.fit(Xtrain, ytrain)"
   ]
  },
  {
   "cell_type": "code",
   "execution_count": 54,
   "metadata": {
    "ExecuteTime": {
     "end_time": "2020-12-19T14:13:36.949044Z",
     "start_time": "2020-12-19T14:13:36.935160Z"
    }
   },
   "outputs": [
    {
     "name": "stdout",
     "output_type": "stream",
     "text": [
      "5.706, 4.630, 1.232 {'max_depth': 8, 'min_samples_split': 10}\n",
      "5.707, 4.637, 1.231 {'max_depth': 8, 'min_samples_split': 11}\n",
      "5.713, 4.622, 1.236 {'max_depth': 8, 'min_samples_split': 8}\n",
      "5.713, 4.628, 1.235 {'max_depth': 8, 'min_samples_split': 9}\n",
      "5.720, 5.188, 1.103 {'max_depth': 6, 'min_samples_split': 11}\n",
      "5.720, 5.188, 1.103 {'max_depth': 6, 'min_samples_split': 10}\n",
      "5.729, 5.183, 1.105 {'max_depth': 6, 'min_samples_split': 6}\n",
      "5.729, 5.181, 1.106 {'max_depth': 6, 'min_samples_split': 3}\n",
      "5.730, 5.186, 1.105 {'max_depth': 6, 'min_samples_split': 9}\n",
      "5.731, 5.185, 1.105 {'max_depth': 6, 'min_samples_split': 8}\n",
      "5.732, 4.609, 1.244 {'max_depth': 8, 'min_samples_split': 6}\n",
      "5.734, 5.181, 1.107 {'max_depth': 6, 'min_samples_split': 2}\n",
      "5.740, 5.181, 1.108 {'max_depth': 6, 'min_samples_split': 4}\n",
      "5.750, 4.598, 1.251 {'max_depth': 8, 'min_samples_split': 3}\n",
      "5.754, 4.602, 1.251 {'max_depth': 8, 'min_samples_split': 4}\n",
      "5.756, 4.596, 1.252 {'max_depth': 8, 'min_samples_split': 2}\n",
      "5.890, 5.481, 1.075 {'max_depth': 5, 'min_samples_split': 9}\n",
      "5.890, 5.481, 1.075 {'max_depth': 5, 'min_samples_split': 11}\n",
      "5.890, 5.481, 1.075 {'max_depth': 5, 'min_samples_split': 10}\n",
      "5.891, 5.480, 1.075 {'max_depth': 5, 'min_samples_split': 8}\n",
      "5.891, 5.479, 1.075 {'max_depth': 5, 'min_samples_split': 6}\n",
      "5.896, 5.479, 1.076 {'max_depth': 5, 'min_samples_split': 4}\n",
      "5.896, 5.479, 1.076 {'max_depth': 5, 'min_samples_split': 3}\n",
      "5.896, 5.479, 1.076 {'max_depth': 5, 'min_samples_split': 2}\n",
      "6.278, 5.979, 1.050 {'max_depth': 4, 'min_samples_split': 9}\n",
      "6.278, 5.979, 1.050 {'max_depth': 4, 'min_samples_split': 8}\n",
      "6.278, 5.979, 1.050 {'max_depth': 4, 'min_samples_split': 6}\n",
      "6.278, 5.979, 1.050 {'max_depth': 4, 'min_samples_split': 4}\n",
      "6.278, 5.979, 1.050 {'max_depth': 4, 'min_samples_split': 3}\n",
      "6.278, 5.979, 1.050 {'max_depth': 4, 'min_samples_split': 2}\n",
      "6.278, 5.979, 1.050 {'max_depth': 4, 'min_samples_split': 11}\n",
      "6.278, 5.979, 1.050 {'max_depth': 4, 'min_samples_split': 10}\n",
      "7.254, 7.151, 1.014 {'max_depth': 2, 'min_samples_split': 9}\n",
      "7.254, 7.151, 1.014 {'max_depth': 2, 'min_samples_split': 8}\n",
      "7.254, 7.151, 1.014 {'max_depth': 2, 'min_samples_split': 6}\n",
      "7.254, 7.151, 1.014 {'max_depth': 2, 'min_samples_split': 4}\n",
      "7.254, 7.151, 1.014 {'max_depth': 2, 'min_samples_split': 3}\n",
      "7.254, 7.151, 1.014 {'max_depth': 2, 'min_samples_split': 2}\n",
      "7.254, 7.151, 1.014 {'max_depth': 2, 'min_samples_split': 11}\n",
      "7.254, 7.151, 1.014 {'max_depth': 2, 'min_samples_split': 10}\n"
     ]
    }
   ],
   "source": [
    "val_scores = dtree_grid_search.cv_results_[\"mean_test_score\"]\n",
    "train_scores = dtree_grid_search.cv_results_[\"mean_train_score\"]\n",
    "params = [str(x) for x in dtree_grid_search.cv_results_[\"params\"]]\n",
    "\n",
    "for val_score, train_score, param in sorted(zip(val_scores, train_scores, params), reverse=True):\n",
    "    print(f\"{np.sqrt(-val_score):.3f}, {np.sqrt(-train_score):.3f}, {np.sqrt(-val_score)/np.sqrt(-train_score):.3f}\", param)"
   ]
  },
  {
   "cell_type": "markdown",
   "metadata": {
    "ExecuteTime": {
     "end_time": "2020-12-19T12:42:40.041303Z",
     "start_time": "2020-12-19T12:42:40.036687Z"
    }
   },
   "source": [
    "# Random Forest regression"
   ]
  },
  {
   "cell_type": "code",
   "execution_count": 55,
   "metadata": {
    "ExecuteTime": {
     "end_time": "2020-12-19T14:14:51.829388Z",
     "start_time": "2020-12-19T14:13:36.954591Z"
    }
   },
   "outputs": [
    {
     "data": {
      "text/plain": [
       "GridSearchCV(cv=TimeSeriesSplit(max_train_size=None, n_splits=5),\n",
       "             error_score=nan,\n",
       "             estimator=RandomForestRegressor(bootstrap=True, ccp_alpha=0.0,\n",
       "                                             criterion='mse', max_depth=None,\n",
       "                                             max_features='auto',\n",
       "                                             max_leaf_nodes=None,\n",
       "                                             max_samples=None,\n",
       "                                             min_impurity_decrease=0.0,\n",
       "                                             min_impurity_split=None,\n",
       "                                             min_samples_leaf=1,\n",
       "                                             min_samples_split=2,\n",
       "                                             min_weight_fraction_leaf=0.0,\n",
       "                                             n_estimators=100, n_jobs=None,\n",
       "                                             oob_score=False, random_state=7,\n",
       "                                             verbose=0, warm_start=False),\n",
       "             iid='deprecated', n_jobs=None,\n",
       "             param_grid=[{'max_depth': [2, 4, 6, 8],\n",
       "                          'min_samples_split': [8, 10, 9, 11],\n",
       "                          'n_estimators': [2, 3, 5, 10, 15, 20, 30, 40, 50]}],\n",
       "             pre_dispatch='2*n_jobs', refit=True, return_train_score=True,\n",
       "             scoring='neg_mean_squared_error', verbose=0)"
      ]
     },
     "execution_count": 55,
     "metadata": {},
     "output_type": "execute_result"
    }
   ],
   "source": [
    "rf = RandomForestRegressor(random_state=7)\n",
    "param_grid = [\n",
    "    {'n_estimators': [2, 3, 5, 10, 15, 20, 30, 40, 50], \n",
    "     'max_depth': [2, 4, 6, 8],\n",
    "     'min_samples_split': [ 8, 10, 9, 11]\n",
    "    },\n",
    "]\n",
    "\n",
    "tscv = TimeSeriesSplit(n_splits=5)\n",
    "rf_grid_search = GridSearchCV(estimator=rf, cv=tscv,\n",
    "                        param_grid=param_grid,\n",
    "                        scoring='neg_mean_squared_error', \n",
    "                        return_train_score=True)\n",
    "\n",
    "start = time.time()\n",
    "rf_grid_search.fit(Xtrain, ytrain)"
   ]
  },
  {
   "cell_type": "markdown",
   "metadata": {},
   "source": [
    "Let's print the accuracy scores for every model evaluated during the grid search."
   ]
  },
  {
   "cell_type": "code",
   "execution_count": 56,
   "metadata": {
    "ExecuteTime": {
     "end_time": "2020-12-19T14:14:51.857839Z",
     "start_time": "2020-12-19T14:14:51.834148Z"
    }
   },
   "outputs": [
    {
     "name": "stdout",
     "output_type": "stream",
     "text": [
      "5.381, 4.425, 1.216 {'max_depth': 8, 'min_samples_split': 11, 'n_estimators': 50}\n",
      "5.387, 4.408, 1.222 {'max_depth': 8, 'min_samples_split': 9, 'n_estimators': 50}\n",
      "5.387, 4.417, 1.220 {'max_depth': 8, 'min_samples_split': 10, 'n_estimators': 50}\n",
      "5.387, 4.436, 1.214 {'max_depth': 8, 'min_samples_split': 11, 'n_estimators': 40}\n",
      "5.391, 4.400, 1.225 {'max_depth': 8, 'min_samples_split': 8, 'n_estimators': 50}\n",
      "5.393, 4.428, 1.218 {'max_depth': 8, 'min_samples_split': 10, 'n_estimators': 40}\n",
      "5.395, 4.419, 1.221 {'max_depth': 8, 'min_samples_split': 9, 'n_estimators': 40}\n",
      "5.400, 4.410, 1.224 {'max_depth': 8, 'min_samples_split': 8, 'n_estimators': 40}\n",
      "5.426, 4.434, 1.224 {'max_depth': 8, 'min_samples_split': 11, 'n_estimators': 30}\n",
      "5.435, 4.426, 1.228 {'max_depth': 8, 'min_samples_split': 10, 'n_estimators': 30}\n",
      "5.436, 4.417, 1.231 {'max_depth': 8, 'min_samples_split': 9, 'n_estimators': 30}\n",
      "5.442, 4.408, 1.235 {'max_depth': 8, 'min_samples_split': 8, 'n_estimators': 30}\n",
      "5.450, 4.455, 1.223 {'max_depth': 8, 'min_samples_split': 11, 'n_estimators': 20}\n",
      "5.456, 4.446, 1.227 {'max_depth': 8, 'min_samples_split': 10, 'n_estimators': 20}\n",
      "5.460, 4.438, 1.230 {'max_depth': 8, 'min_samples_split': 9, 'n_estimators': 20}\n",
      "5.464, 4.431, 1.233 {'max_depth': 8, 'min_samples_split': 8, 'n_estimators': 20}\n",
      "5.487, 4.465, 1.229 {'max_depth': 8, 'min_samples_split': 11, 'n_estimators': 15}\n",
      "5.491, 4.457, 1.232 {'max_depth': 8, 'min_samples_split': 10, 'n_estimators': 15}\n",
      "5.497, 4.448, 1.236 {'max_depth': 8, 'min_samples_split': 9, 'n_estimators': 15}\n",
      "5.501, 4.441, 1.239 {'max_depth': 8, 'min_samples_split': 8, 'n_estimators': 15}\n",
      "5.540, 4.502, 1.231 {'max_depth': 8, 'min_samples_split': 11, 'n_estimators': 10}\n",
      "5.544, 4.493, 1.234 {'max_depth': 8, 'min_samples_split': 10, 'n_estimators': 10}\n",
      "5.549, 4.484, 1.237 {'max_depth': 8, 'min_samples_split': 9, 'n_estimators': 10}\n",
      "5.551, 4.478, 1.240 {'max_depth': 8, 'min_samples_split': 8, 'n_estimators': 10}\n",
      "5.565, 5.039, 1.105 {'max_depth': 6, 'min_samples_split': 8, 'n_estimators': 50}\n",
      "5.565, 5.042, 1.104 {'max_depth': 6, 'min_samples_split': 11, 'n_estimators': 50}\n",
      "5.566, 5.041, 1.104 {'max_depth': 6, 'min_samples_split': 10, 'n_estimators': 50}\n",
      "5.566, 5.040, 1.104 {'max_depth': 6, 'min_samples_split': 9, 'n_estimators': 50}\n",
      "5.582, 5.046, 1.106 {'max_depth': 6, 'min_samples_split': 8, 'n_estimators': 40}\n",
      "5.582, 5.050, 1.105 {'max_depth': 6, 'min_samples_split': 11, 'n_estimators': 40}\n",
      "5.582, 5.047, 1.106 {'max_depth': 6, 'min_samples_split': 9, 'n_estimators': 40}\n",
      "5.583, 5.049, 1.106 {'max_depth': 6, 'min_samples_split': 10, 'n_estimators': 40}\n",
      "5.594, 5.044, 1.109 {'max_depth': 6, 'min_samples_split': 11, 'n_estimators': 30}\n",
      "5.595, 5.043, 1.109 {'max_depth': 6, 'min_samples_split': 10, 'n_estimators': 30}\n",
      "5.595, 5.041, 1.110 {'max_depth': 6, 'min_samples_split': 8, 'n_estimators': 30}\n",
      "5.595, 5.042, 1.110 {'max_depth': 6, 'min_samples_split': 9, 'n_estimators': 30}\n",
      "5.601, 5.049, 1.109 {'max_depth': 6, 'min_samples_split': 11, 'n_estimators': 20}\n",
      "5.601, 5.048, 1.110 {'max_depth': 6, 'min_samples_split': 10, 'n_estimators': 20}\n",
      "5.602, 5.047, 1.110 {'max_depth': 6, 'min_samples_split': 9, 'n_estimators': 20}\n",
      "5.602, 5.046, 1.110 {'max_depth': 6, 'min_samples_split': 8, 'n_estimators': 20}\n",
      "5.622, 5.053, 1.113 {'max_depth': 6, 'min_samples_split': 11, 'n_estimators': 15}\n",
      "5.622, 5.052, 1.113 {'max_depth': 6, 'min_samples_split': 10, 'n_estimators': 15}\n",
      "5.623, 5.051, 1.113 {'max_depth': 6, 'min_samples_split': 9, 'n_estimators': 15}\n",
      "5.623, 5.050, 1.113 {'max_depth': 6, 'min_samples_split': 8, 'n_estimators': 15}\n",
      "5.638, 5.078, 1.110 {'max_depth': 6, 'min_samples_split': 9, 'n_estimators': 5}\n",
      "5.639, 5.079, 1.110 {'max_depth': 6, 'min_samples_split': 10, 'n_estimators': 5}\n",
      "5.640, 5.077, 1.111 {'max_depth': 6, 'min_samples_split': 8, 'n_estimators': 5}\n",
      "5.640, 5.080, 1.110 {'max_depth': 6, 'min_samples_split': 11, 'n_estimators': 5}\n",
      "5.650, 5.083, 1.112 {'max_depth': 6, 'min_samples_split': 9, 'n_estimators': 10}\n",
      "5.651, 5.084, 1.111 {'max_depth': 6, 'min_samples_split': 10, 'n_estimators': 10}\n",
      "5.651, 5.082, 1.112 {'max_depth': 6, 'min_samples_split': 8, 'n_estimators': 10}\n",
      "5.652, 5.085, 1.111 {'max_depth': 6, 'min_samples_split': 11, 'n_estimators': 10}\n",
      "5.662, 4.539, 1.247 {'max_depth': 8, 'min_samples_split': 11, 'n_estimators': 5}\n",
      "5.672, 4.532, 1.252 {'max_depth': 8, 'min_samples_split': 10, 'n_estimators': 5}\n",
      "5.673, 4.517, 1.256 {'max_depth': 8, 'min_samples_split': 8, 'n_estimators': 5}\n",
      "5.675, 5.074, 1.119 {'max_depth': 6, 'min_samples_split': 11, 'n_estimators': 3}\n",
      "5.675, 5.071, 1.119 {'max_depth': 6, 'min_samples_split': 8, 'n_estimators': 3}\n",
      "5.676, 5.072, 1.119 {'max_depth': 6, 'min_samples_split': 9, 'n_estimators': 3}\n",
      "5.677, 4.524, 1.255 {'max_depth': 8, 'min_samples_split': 9, 'n_estimators': 5}\n",
      "5.677, 5.072, 1.119 {'max_depth': 6, 'min_samples_split': 10, 'n_estimators': 3}\n",
      "5.689, 5.109, 1.113 {'max_depth': 6, 'min_samples_split': 11, 'n_estimators': 2}\n",
      "5.690, 5.107, 1.114 {'max_depth': 6, 'min_samples_split': 9, 'n_estimators': 2}\n",
      "5.690, 5.106, 1.114 {'max_depth': 6, 'min_samples_split': 8, 'n_estimators': 2}\n",
      "5.691, 5.107, 1.114 {'max_depth': 6, 'min_samples_split': 10, 'n_estimators': 2}\n",
      "5.693, 4.585, 1.242 {'max_depth': 8, 'min_samples_split': 11, 'n_estimators': 3}\n",
      "5.701, 4.563, 1.249 {'max_depth': 8, 'min_samples_split': 8, 'n_estimators': 3}\n",
      "5.710, 4.577, 1.248 {'max_depth': 8, 'min_samples_split': 10, 'n_estimators': 3}\n",
      "5.713, 4.571, 1.250 {'max_depth': 8, 'min_samples_split': 9, 'n_estimators': 3}\n",
      "5.810, 4.670, 1.244 {'max_depth': 8, 'min_samples_split': 11, 'n_estimators': 2}\n",
      "5.829, 4.644, 1.255 {'max_depth': 8, 'min_samples_split': 8, 'n_estimators': 2}\n",
      "5.834, 4.661, 1.252 {'max_depth': 8, 'min_samples_split': 10, 'n_estimators': 2}\n",
      "5.834, 4.655, 1.253 {'max_depth': 8, 'min_samples_split': 9, 'n_estimators': 2}\n",
      "6.115, 5.837, 1.048 {'max_depth': 4, 'min_samples_split': 11, 'n_estimators': 10}\n",
      "6.115, 5.837, 1.048 {'max_depth': 4, 'min_samples_split': 10, 'n_estimators': 10}\n",
      "6.115, 5.837, 1.048 {'max_depth': 4, 'min_samples_split': 9, 'n_estimators': 10}\n",
      "6.116, 5.837, 1.048 {'max_depth': 4, 'min_samples_split': 8, 'n_estimators': 10}\n",
      "6.125, 5.850, 1.047 {'max_depth': 4, 'min_samples_split': 9, 'n_estimators': 15}\n",
      "6.125, 5.850, 1.047 {'max_depth': 4, 'min_samples_split': 10, 'n_estimators': 15}\n",
      "6.125, 5.850, 1.047 {'max_depth': 4, 'min_samples_split': 8, 'n_estimators': 15}\n",
      "6.125, 5.850, 1.047 {'max_depth': 4, 'min_samples_split': 11, 'n_estimators': 15}\n",
      "6.130, 5.851, 1.048 {'max_depth': 4, 'min_samples_split': 9, 'n_estimators': 20}\n",
      "6.130, 5.851, 1.048 {'max_depth': 4, 'min_samples_split': 10, 'n_estimators': 20}\n",
      "6.130, 5.851, 1.048 {'max_depth': 4, 'min_samples_split': 8, 'n_estimators': 20}\n",
      "6.130, 5.851, 1.048 {'max_depth': 4, 'min_samples_split': 11, 'n_estimators': 20}\n",
      "6.137, 5.853, 1.048 {'max_depth': 4, 'min_samples_split': 10, 'n_estimators': 40}\n",
      "6.137, 5.853, 1.048 {'max_depth': 4, 'min_samples_split': 9, 'n_estimators': 40}\n",
      "6.137, 5.853, 1.048 {'max_depth': 4, 'min_samples_split': 8, 'n_estimators': 40}\n",
      "6.137, 5.853, 1.048 {'max_depth': 4, 'min_samples_split': 11, 'n_estimators': 40}\n",
      "6.141, 5.862, 1.048 {'max_depth': 4, 'min_samples_split': 9, 'n_estimators': 30}\n",
      "6.141, 5.862, 1.048 {'max_depth': 4, 'min_samples_split': 10, 'n_estimators': 30}\n",
      "6.141, 5.862, 1.048 {'max_depth': 4, 'min_samples_split': 8, 'n_estimators': 30}\n",
      "6.142, 5.862, 1.048 {'max_depth': 4, 'min_samples_split': 11, 'n_estimators': 30}\n",
      "6.143, 5.861, 1.048 {'max_depth': 4, 'min_samples_split': 10, 'n_estimators': 50}\n",
      "6.143, 5.861, 1.048 {'max_depth': 4, 'min_samples_split': 11, 'n_estimators': 50}\n",
      "6.143, 5.861, 1.048 {'max_depth': 4, 'min_samples_split': 9, 'n_estimators': 50}\n",
      "6.143, 5.861, 1.048 {'max_depth': 4, 'min_samples_split': 8, 'n_estimators': 50}\n",
      "6.156, 5.881, 1.047 {'max_depth': 4, 'min_samples_split': 9, 'n_estimators': 5}\n",
      "6.156, 5.881, 1.047 {'max_depth': 4, 'min_samples_split': 11, 'n_estimators': 5}\n",
      "6.156, 5.881, 1.047 {'max_depth': 4, 'min_samples_split': 10, 'n_estimators': 5}\n",
      "6.156, 5.881, 1.047 {'max_depth': 4, 'min_samples_split': 8, 'n_estimators': 5}\n",
      "6.239, 5.965, 1.046 {'max_depth': 4, 'min_samples_split': 8, 'n_estimators': 3}\n",
      "6.239, 5.965, 1.046 {'max_depth': 4, 'min_samples_split': 9, 'n_estimators': 3}\n",
      "6.239, 5.965, 1.046 {'max_depth': 4, 'min_samples_split': 11, 'n_estimators': 3}\n",
      "6.239, 5.965, 1.046 {'max_depth': 4, 'min_samples_split': 10, 'n_estimators': 3}\n",
      "6.245, 5.981, 1.044 {'max_depth': 4, 'min_samples_split': 9, 'n_estimators': 2}\n",
      "6.245, 5.981, 1.044 {'max_depth': 4, 'min_samples_split': 8, 'n_estimators': 2}\n",
      "6.245, 5.981, 1.044 {'max_depth': 4, 'min_samples_split': 11, 'n_estimators': 2}\n",
      "6.245, 5.981, 1.044 {'max_depth': 4, 'min_samples_split': 10, 'n_estimators': 2}\n",
      "7.253, 7.151, 1.014 {'max_depth': 2, 'min_samples_split': 9, 'n_estimators': 50}\n",
      "7.253, 7.151, 1.014 {'max_depth': 2, 'min_samples_split': 8, 'n_estimators': 50}\n",
      "7.253, 7.151, 1.014 {'max_depth': 2, 'min_samples_split': 11, 'n_estimators': 50}\n",
      "7.253, 7.151, 1.014 {'max_depth': 2, 'min_samples_split': 10, 'n_estimators': 50}\n",
      "7.253, 7.151, 1.014 {'max_depth': 2, 'min_samples_split': 9, 'n_estimators': 40}\n",
      "7.253, 7.151, 1.014 {'max_depth': 2, 'min_samples_split': 8, 'n_estimators': 40}\n",
      "7.253, 7.151, 1.014 {'max_depth': 2, 'min_samples_split': 11, 'n_estimators': 40}\n",
      "7.253, 7.151, 1.014 {'max_depth': 2, 'min_samples_split': 10, 'n_estimators': 40}\n",
      "7.253, 7.151, 1.014 {'max_depth': 2, 'min_samples_split': 9, 'n_estimators': 30}\n",
      "7.253, 7.151, 1.014 {'max_depth': 2, 'min_samples_split': 8, 'n_estimators': 30}\n",
      "7.253, 7.151, 1.014 {'max_depth': 2, 'min_samples_split': 11, 'n_estimators': 30}\n",
      "7.253, 7.151, 1.014 {'max_depth': 2, 'min_samples_split': 10, 'n_estimators': 30}\n",
      "7.258, 7.152, 1.015 {'max_depth': 2, 'min_samples_split': 9, 'n_estimators': 15}\n",
      "7.258, 7.152, 1.015 {'max_depth': 2, 'min_samples_split': 8, 'n_estimators': 15}\n",
      "7.258, 7.152, 1.015 {'max_depth': 2, 'min_samples_split': 11, 'n_estimators': 15}\n",
      "7.258, 7.152, 1.015 {'max_depth': 2, 'min_samples_split': 10, 'n_estimators': 15}\n",
      "7.258, 7.151, 1.015 {'max_depth': 2, 'min_samples_split': 9, 'n_estimators': 20}\n",
      "7.258, 7.151, 1.015 {'max_depth': 2, 'min_samples_split': 8, 'n_estimators': 20}\n",
      "7.258, 7.151, 1.015 {'max_depth': 2, 'min_samples_split': 11, 'n_estimators': 20}\n",
      "7.258, 7.151, 1.015 {'max_depth': 2, 'min_samples_split': 10, 'n_estimators': 20}\n",
      "7.260, 7.152, 1.015 {'max_depth': 2, 'min_samples_split': 9, 'n_estimators': 10}\n",
      "7.260, 7.152, 1.015 {'max_depth': 2, 'min_samples_split': 8, 'n_estimators': 10}\n",
      "7.260, 7.152, 1.015 {'max_depth': 2, 'min_samples_split': 11, 'n_estimators': 10}\n",
      "7.260, 7.152, 1.015 {'max_depth': 2, 'min_samples_split': 10, 'n_estimators': 10}\n",
      "7.261, 7.152, 1.015 {'max_depth': 2, 'min_samples_split': 9, 'n_estimators': 5}\n",
      "7.261, 7.152, 1.015 {'max_depth': 2, 'min_samples_split': 8, 'n_estimators': 5}\n",
      "7.261, 7.152, 1.015 {'max_depth': 2, 'min_samples_split': 11, 'n_estimators': 5}\n",
      "7.261, 7.152, 1.015 {'max_depth': 2, 'min_samples_split': 10, 'n_estimators': 5}\n",
      "7.271, 7.153, 1.016 {'max_depth': 2, 'min_samples_split': 9, 'n_estimators': 3}\n",
      "7.271, 7.153, 1.016 {'max_depth': 2, 'min_samples_split': 8, 'n_estimators': 3}\n",
      "7.271, 7.153, 1.016 {'max_depth': 2, 'min_samples_split': 11, 'n_estimators': 3}\n",
      "7.271, 7.153, 1.016 {'max_depth': 2, 'min_samples_split': 10, 'n_estimators': 3}\n",
      "7.277, 7.154, 1.017 {'max_depth': 2, 'min_samples_split': 9, 'n_estimators': 2}\n",
      "7.277, 7.154, 1.017 {'max_depth': 2, 'min_samples_split': 8, 'n_estimators': 2}\n",
      "7.277, 7.154, 1.017 {'max_depth': 2, 'min_samples_split': 11, 'n_estimators': 2}\n",
      "7.277, 7.154, 1.017 {'max_depth': 2, 'min_samples_split': 10, 'n_estimators': 2}\n"
     ]
    }
   ],
   "source": [
    "val_scores = rf_grid_search.cv_results_[\"mean_test_score\"]\n",
    "train_scores = rf_grid_search.cv_results_[\"mean_train_score\"]\n",
    "params = [str(x) for x in rf_grid_search.cv_results_[\"params\"]]\n",
    "   \n",
    "for val_score, train_score, param in sorted(zip(val_scores, train_scores, params), reverse=True):\n",
    "    print(f\"{np.sqrt(-val_score):.3f}, {np.sqrt(-train_score):.3f}, {np.sqrt(-val_score)/np.sqrt(-train_score):.3f}\", param)"
   ]
  },
  {
   "cell_type": "markdown",
   "metadata": {},
   "source": [
    "# Random Forest\n",
    "\n",
    "Finally, let's evaluate a RandomForest regression algorithm. Random Forests work by training many Decision Trees on random subsets of the features, then averaging out their predictions.\n",
    "\n",
    "We specify that we want the algorithm to use 10 decision trees. We do that by passing `n_estimators=10` when we initialize the `RandomForestRegressor` class "
   ]
  },
  {
   "cell_type": "markdown",
   "metadata": {},
   "source": [
    "The algorithm produced a much lower RMSE score (47,820) than either Decision Trees or linear regression methods. It seems to be a particularly suitable algorithm to be explored further."
   ]
  },
  {
   "cell_type": "markdown",
   "metadata": {},
   "source": [
    "In the previous experiment, we used 10 decision trees in the Random Forest algorithm. This setting is called a hyperparameter of the algorithm, and needs to be set before a model is trained.\n",
    "\n",
    "We might experiment with several different settings of the hyperparameter to find its optimal settings. However, many algorithms have quite a few of such hyperparameters. Scikit-learn has a utility to automatically search for the best combination of hyperparameter values, implemented in the `GridSearchCV` class. \n",
    "\n",
    "### Exhaustive grid search\n",
    "\n",
    "`GridSearchCV` takes a set of hyperparameters and the search range for each hyperparameter, constructs a search grid with all possible hyperparameter combinations, and evaluates each combination using cross-validation. The output is the model with the best cross-validation accuracy.\n",
    "\n",
    "Let's take a look at an example. We will train a RandomForest regressor, searching for the best model in the grid created from two hyperparameters: `n_estimators` (the number of decision trees, trying values 3, 10 and 30) and `max_depth` (the maximum depth of each tree, trying values 4, 6, 8 and None - None being the maximum possible depth, the default value). So, the grid search will involve creating and evaluating 12 models using cross-validation."
   ]
  },
  {
   "cell_type": "code",
   "execution_count": 57,
   "metadata": {
    "ExecuteTime": {
     "end_time": "2020-12-19T14:15:14.578717Z",
     "start_time": "2020-12-19T14:14:51.862578Z"
    }
   },
   "outputs": [
    {
     "data": {
      "text/plain": [
       "GridSearchCV(cv=10, error_score=nan,\n",
       "             estimator=RandomForestRegressor(bootstrap=True, ccp_alpha=0.0,\n",
       "                                             criterion='mse', max_depth=None,\n",
       "                                             max_features='auto',\n",
       "                                             max_leaf_nodes=None,\n",
       "                                             max_samples=None,\n",
       "                                             min_impurity_decrease=0.0,\n",
       "                                             min_impurity_split=None,\n",
       "                                             min_samples_leaf=1,\n",
       "                                             min_samples_split=2,\n",
       "                                             min_weight_fraction_leaf=0.0,\n",
       "                                             n_estimators=100, n_jobs=None,\n",
       "                                             oob_score=False, random_state=7,\n",
       "                                             verbose=0, warm_start=False),\n",
       "             iid='deprecated', n_jobs=None,\n",
       "             param_grid=[{'max_depth': [4, 6, 8, None],\n",
       "                          'n_estimators': [3, 10, 30]}],\n",
       "             pre_dispatch='2*n_jobs', refit=True, return_train_score=True,\n",
       "             scoring='neg_mean_squared_error', verbose=0)"
      ]
     },
     "execution_count": 57,
     "metadata": {},
     "output_type": "execute_result"
    }
   ],
   "source": [
    "from sklearn.model_selection import GridSearchCV\n",
    "\n",
    "# specify the hyperparameters and their values\n",
    "param_grid = [\n",
    "    {'n_estimators': [3, 10, 30], 'max_depth': [4, 6, 8, None]},\n",
    "]\n",
    "\n",
    "forest_reg = RandomForestRegressor(random_state=7)\n",
    "\n",
    "# we'll use 10-fold cross-validation\n",
    "grid_search = GridSearchCV(forest_reg, param_grid, cv=10,\n",
    "                           scoring='neg_mean_squared_error', \n",
    "                           return_train_score=True)\n",
    "\n",
    "grid_search.fit(Xtrain, ytrain)"
   ]
  },
  {
   "cell_type": "markdown",
   "metadata": {},
   "source": [
    "Once grid search is complete we can obtain the best model and its accuracy score: they are attributes on the `GridSearchCV` class:"
   ]
  },
  {
   "cell_type": "code",
   "execution_count": 58,
   "metadata": {
    "ExecuteTime": {
     "end_time": "2020-12-19T14:15:14.591413Z",
     "start_time": "2020-12-19T14:15:14.583457Z"
    }
   },
   "outputs": [
    {
     "data": {
      "text/plain": [
       "RandomForestRegressor(bootstrap=True, ccp_alpha=0.0, criterion='mse',\n",
       "                      max_depth=8, max_features='auto', max_leaf_nodes=None,\n",
       "                      max_samples=None, min_impurity_decrease=0.0,\n",
       "                      min_impurity_split=None, min_samples_leaf=1,\n",
       "                      min_samples_split=2, min_weight_fraction_leaf=0.0,\n",
       "                      n_estimators=30, n_jobs=None, oob_score=False,\n",
       "                      random_state=7, verbose=0, warm_start=False)"
      ]
     },
     "execution_count": 58,
     "metadata": {},
     "output_type": "execute_result"
    }
   ],
   "source": [
    "grid_search.best_estimator_"
   ]
  },
  {
   "cell_type": "markdown",
   "metadata": {},
   "source": [
    "The best model proved to be one with `n_estimator=30` and `max_depth=None`.\n",
    "\n",
    "Let's look up its RMSE."
   ]
  },
  {
   "cell_type": "code",
   "execution_count": 59,
   "metadata": {
    "ExecuteTime": {
     "end_time": "2020-12-19T14:15:14.700914Z",
     "start_time": "2020-12-19T14:15:14.596256Z"
    }
   },
   "outputs": [
    {
     "data": {
      "text/plain": [
       "5.195180632887147"
      ]
     },
     "execution_count": 59,
     "metadata": {},
     "output_type": "execute_result"
    }
   ],
   "source": [
    "np.sqrt(-grid_search.best_score_)"
   ]
  },
  {
   "cell_type": "markdown",
   "metadata": {},
   "source": [
    "Thus by tuning hyperparameters, we were able to further reduce the error rate (from 47820 to 46209). \n",
    "\n",
    "You could have noticed that the largest value of `n_estimators` we tried (30) produced the best result. This suggests we should try even greater values - we could improve the error rate further.\n",
    "\n",
    "We can also access RMSE scores of each model trained during grid search. They are stored in the `cv_results_` attribute:"
   ]
  },
  {
   "cell_type": "markdown",
   "metadata": {},
   "source": [
    "The best-performing model showed a much lower RMSE on the training set (17985) than on the test set (46209). This indicates the model overfitted the training data. The overfitting could be reduced and the model further improved by introducing constraints on the learned trees (for example, enforcing a maximum depth of the learned trees)."
   ]
  },
  {
   "cell_type": "markdown",
   "metadata": {},
   "source": [
    "## 5.5 Analyze the most promising models\n",
    "\n",
    "We can examine what variables were the most important for the regression problem in the best-performing model. They are also stored as an attribute on the model object:"
   ]
  },
  {
   "cell_type": "code",
   "execution_count": 60,
   "metadata": {
    "ExecuteTime": {
     "end_time": "2020-12-19T14:15:14.725824Z",
     "start_time": "2020-12-19T14:15:14.709513Z"
    }
   },
   "outputs": [
    {
     "name": "stdout",
     "output_type": "stream",
     "text": [
      "Hour: 0.7945086630196462\n",
      "Is_weekend: 0.06856406958688961\n",
      "Weekofyear: 0.0374159785940059\n",
      "Time_of_Day_Office hours (10-15): 0.03499782708398361\n",
      "Time_of_Day_Morning rush (5-10): 0.016933478275217306\n",
      "Time_of_Day_Evening (19-23): 0.015907327038465528\n",
      "Dayofmonth: 0.007812514036179866\n",
      "Day_of_Week_Saturday: 0.004598600512811241\n",
      "Month: 0.004178430510168855\n",
      "Urban: 0.003217989879140609\n",
      "Light_Conditions_Darkness - lights lit: 0.002142965401511673\n",
      "Day_of_Week_Monday: 0.0014514861751766949\n",
      "Day_of_Week_Sunday: 0.001175193705596254\n",
      "Precipitation_Raining: 0.0010521221833500888\n",
      "Day_of_Week_Tuesday: 0.0010111480005218399\n",
      "Light_Conditions_Daylight: 0.0008940513376108555\n",
      "Road_Surface_Conditions_Wet or damp: 0.0008133433955985458\n",
      "Quarter: 0.0006868178000413155\n",
      "Day_of_Week_Wednesday: 0.0005127097681662846\n",
      "Time_of_Day_Night (23-5): 0.0004232027498240846\n",
      "Precipitation_Snowing: 0.00040147623303655533\n",
      "Road_Surface_Conditions_Snow: 0.00038995099121696616\n",
      "Road_Surface_Conditions_Frost or ice: 0.00032906200241371937\n",
      "Day_of_Week_Thursday: 0.00024400774880997412\n",
      "Light_Conditions_Darkness - no lighting: 0.00020322863946478956\n",
      "High_Winds: 0.00011706634059985134\n",
      "Precipitation_Fog or mist: 1.2337766682902388e-05\n",
      "Light_Conditions_Darkness - lights unlit: 4.916553005185448e-06\n",
      "Road_Surface_Conditions_Flood over 3cm. deep: 3.467086371416345e-08\n"
     ]
    }
   ],
   "source": [
    "# put them into a separate variable for convenience\n",
    "feature_importances = grid_search.best_estimator_.feature_importances_\n",
    "\n",
    "# the order of the features in `feature_importances` is the same as in the Xtrain dataframe,\n",
    "# so we can \"zip\" the two and print in the descending order:\n",
    "\n",
    "for k, v in sorted(zip(feature_importances, Xtrain.columns), reverse=True):\n",
    "    print(f\"{v}: {k}\")"
   ]
  },
  {
   "cell_type": "markdown",
   "metadata": {},
   "source": [
    "We can notice that median income is by far the most useful variable for predicting the price of housing. Other useful features are the position of the district relative to the ocean, the average number of persons per household in a district.\n",
    "\n",
    "There are some features that are much less useful: \"NEAR OCEAN\", \"NEAR BAY\" and \"ISLAND\". We may consider removing them both from the training and test set.\n",
    "\n",
    "It often helps to also visualize the predictions made by the model. Let's refit the best model on the first 90% of the training set and generate predictions on the last 10%. There are 15736 training instances, so we will use 14162 for training and the rest for testing."
   ]
  },
  {
   "cell_type": "markdown",
   "metadata": {},
   "source": [
    "# Random Forest Regressor"
   ]
  },
  {
   "cell_type": "code",
   "execution_count": 61,
   "metadata": {
    "ExecuteTime": {
     "end_time": "2020-12-19T14:16:02.449101Z",
     "start_time": "2020-12-19T14:15:14.730239Z"
    }
   },
   "outputs": [
    {
     "data": {
      "text/plain": [
       "GridSearchCV(cv=10, error_score=nan,\n",
       "             estimator=RandomForestRegressor(bootstrap=True, ccp_alpha=0.0,\n",
       "                                             criterion='mse', max_depth=None,\n",
       "                                             max_features='auto',\n",
       "                                             max_leaf_nodes=None,\n",
       "                                             max_samples=None,\n",
       "                                             min_impurity_decrease=0.0,\n",
       "                                             min_impurity_split=None,\n",
       "                                             min_samples_leaf=1,\n",
       "                                             min_samples_split=2,\n",
       "                                             min_weight_fraction_leaf=0.0,\n",
       "                                             n_estimators=100, n_jobs=None,\n",
       "                                             oob_score=False, random_state=7,\n",
       "                                             verbose=0, warm_start=False),\n",
       "             iid='deprecated', n_jobs=None,\n",
       "             param_grid=[{'max_depth': [2, 4, 6, 8, None],\n",
       "                          'min_samples_split': [2, 4, 6, 8],\n",
       "                          'n_estimators': [2, 3, 5, 10]}],\n",
       "             pre_dispatch='2*n_jobs', refit=True, return_train_score=True,\n",
       "             scoring='neg_mean_squared_error', verbose=0)"
      ]
     },
     "execution_count": 61,
     "metadata": {},
     "output_type": "execute_result"
    }
   ],
   "source": [
    "from sklearn.model_selection import GridSearchCV\n",
    "\n",
    "from sklearn.ensemble import RandomForestRegressor\n",
    "\n",
    "# specify the hyperparameters and their values\n",
    "\n",
    "param_grid = [\n",
    "    {'n_estimators': [2, 3, 5, 10], \n",
    "     'max_depth': [2, 4, 6, 8, None],\n",
    "     'min_samples_split': [2, 4, 6, 8]\n",
    "    },\n",
    "]\n",
    "forest_reg = RandomForestRegressor(random_state=7)\n",
    "\n",
    "# we'll use 10-fold cross-validation\n",
    "rf_grid_search = GridSearchCV(forest_reg, param_grid, cv=10, \n",
    "                              scoring='neg_mean_squared_error',\n",
    "                              return_train_score=True)\n",
    "\n",
    "rf_grid_search.fit(Xtrain, ytrain)"
   ]
  },
  {
   "cell_type": "code",
   "execution_count": 62,
   "metadata": {
    "ExecuteTime": {
     "end_time": "2020-12-19T14:16:02.462754Z",
     "start_time": "2020-12-19T14:16:02.453608Z"
    }
   },
   "outputs": [
    {
     "data": {
      "text/plain": [
       "RandomForestRegressor(bootstrap=True, ccp_alpha=0.0, criterion='mse',\n",
       "                      max_depth=8, max_features='auto', max_leaf_nodes=None,\n",
       "                      max_samples=None, min_impurity_decrease=0.0,\n",
       "                      min_impurity_split=None, min_samples_leaf=1,\n",
       "                      min_samples_split=8, min_weight_fraction_leaf=0.0,\n",
       "                      n_estimators=10, n_jobs=None, oob_score=False,\n",
       "                      random_state=7, verbose=0, warm_start=False)"
      ]
     },
     "execution_count": 62,
     "metadata": {},
     "output_type": "execute_result"
    }
   ],
   "source": [
    "# the best model\n",
    "\n",
    "rf_grid_search.best_estimator_"
   ]
  },
  {
   "cell_type": "code",
   "execution_count": 63,
   "metadata": {
    "ExecuteTime": {
     "end_time": "2020-12-19T14:16:02.477580Z",
     "start_time": "2020-12-19T14:16:02.468263Z"
    }
   },
   "outputs": [
    {
     "data": {
      "text/plain": [
       "5.222572850648849"
      ]
     },
     "execution_count": 63,
     "metadata": {},
     "output_type": "execute_result"
    }
   ],
   "source": [
    "# the best model's RMSE\n",
    "\n",
    "np.sqrt(-rf_grid_search.best_score_)"
   ]
  },
  {
   "cell_type": "code",
   "execution_count": 64,
   "metadata": {
    "ExecuteTime": {
     "end_time": "2020-12-19T14:16:02.503249Z",
     "start_time": "2020-12-19T14:16:02.482012Z"
    }
   },
   "outputs": [
    {
     "name": "stdout",
     "output_type": "stream",
     "text": [
      "7.2163399808592565 7.180762734340544 {'max_depth': 2, 'min_samples_split': 2, 'n_estimators': 2}\n",
      "7.22417343524722 7.180702169424574 {'max_depth': 2, 'min_samples_split': 2, 'n_estimators': 3}\n",
      "7.219337425335175 7.180253846711606 {'max_depth': 2, 'min_samples_split': 2, 'n_estimators': 5}\n",
      "7.21394464556634 7.180023229656101 {'max_depth': 2, 'min_samples_split': 2, 'n_estimators': 10}\n",
      "7.2163399808592565 7.180762734340544 {'max_depth': 2, 'min_samples_split': 4, 'n_estimators': 2}\n",
      "7.22417343524722 7.180702169424574 {'max_depth': 2, 'min_samples_split': 4, 'n_estimators': 3}\n",
      "7.219337425335175 7.180253846711606 {'max_depth': 2, 'min_samples_split': 4, 'n_estimators': 5}\n",
      "7.21394464556634 7.180023229656101 {'max_depth': 2, 'min_samples_split': 4, 'n_estimators': 10}\n",
      "7.2163399808592565 7.180762734340544 {'max_depth': 2, 'min_samples_split': 6, 'n_estimators': 2}\n",
      "7.22417343524722 7.180702169424574 {'max_depth': 2, 'min_samples_split': 6, 'n_estimators': 3}\n",
      "7.219337425335175 7.180253846711606 {'max_depth': 2, 'min_samples_split': 6, 'n_estimators': 5}\n",
      "7.21394464556634 7.180023229656101 {'max_depth': 2, 'min_samples_split': 6, 'n_estimators': 10}\n",
      "7.2163399808592565 7.180762734340544 {'max_depth': 2, 'min_samples_split': 8, 'n_estimators': 2}\n",
      "7.22417343524722 7.180702169424574 {'max_depth': 2, 'min_samples_split': 8, 'n_estimators': 3}\n",
      "7.219337425335175 7.180253846711606 {'max_depth': 2, 'min_samples_split': 8, 'n_estimators': 5}\n",
      "7.21394464556634 7.180023229656101 {'max_depth': 2, 'min_samples_split': 8, 'n_estimators': 10}\n",
      "6.224463602801249 6.0991144633539855 {'max_depth': 4, 'min_samples_split': 2, 'n_estimators': 2}\n",
      "6.2316874250934875 6.1005042743557345 {'max_depth': 4, 'min_samples_split': 2, 'n_estimators': 3}\n",
      "6.170722417301769 6.052966029295776 {'max_depth': 4, 'min_samples_split': 2, 'n_estimators': 5}\n",
      "6.115806619307867 6.003031603986014 {'max_depth': 4, 'min_samples_split': 2, 'n_estimators': 10}\n",
      "6.224463602801249 6.0991144633539855 {'max_depth': 4, 'min_samples_split': 4, 'n_estimators': 2}\n",
      "6.2316874250934875 6.1005042743557345 {'max_depth': 4, 'min_samples_split': 4, 'n_estimators': 3}\n",
      "6.170722417301769 6.052966029295776 {'max_depth': 4, 'min_samples_split': 4, 'n_estimators': 5}\n",
      "6.115806619307867 6.003031603986014 {'max_depth': 4, 'min_samples_split': 4, 'n_estimators': 10}\n",
      "6.224463602801249 6.0991144633539855 {'max_depth': 4, 'min_samples_split': 6, 'n_estimators': 2}\n",
      "6.2316874250934875 6.1005042743557345 {'max_depth': 4, 'min_samples_split': 6, 'n_estimators': 3}\n",
      "6.170722417301769 6.052966029295776 {'max_depth': 4, 'min_samples_split': 6, 'n_estimators': 5}\n",
      "6.115806619307867 6.003031603986014 {'max_depth': 4, 'min_samples_split': 6, 'n_estimators': 10}\n",
      "6.224463602801249 6.0991144633539855 {'max_depth': 4, 'min_samples_split': 8, 'n_estimators': 2}\n",
      "6.2316874250934875 6.1005042743557345 {'max_depth': 4, 'min_samples_split': 8, 'n_estimators': 3}\n",
      "6.170722417301769 6.052966029295776 {'max_depth': 4, 'min_samples_split': 8, 'n_estimators': 5}\n",
      "6.115806619307867 6.003031603986014 {'max_depth': 4, 'min_samples_split': 8, 'n_estimators': 10}\n",
      "5.330267167430584 5.12914034079029 {'max_depth': 6, 'min_samples_split': 2, 'n_estimators': 2}\n",
      "5.296698132660909 5.105397550411601 {'max_depth': 6, 'min_samples_split': 2, 'n_estimators': 3}\n",
      "5.299290705185565 5.087861171103718 {'max_depth': 6, 'min_samples_split': 2, 'n_estimators': 5}\n",
      "5.307890883994489 5.096104740119743 {'max_depth': 6, 'min_samples_split': 2, 'n_estimators': 10}\n",
      "5.330758532258157 5.129450689333145 {'max_depth': 6, 'min_samples_split': 4, 'n_estimators': 2}\n",
      "5.297436996287607 5.105655114610769 {'max_depth': 6, 'min_samples_split': 4, 'n_estimators': 3}\n",
      "5.299744424054124 5.08804452936086 {'max_depth': 6, 'min_samples_split': 4, 'n_estimators': 5}\n",
      "5.307635567178582 5.096469700310643 {'max_depth': 6, 'min_samples_split': 4, 'n_estimators': 10}\n",
      "5.330851775292493 5.129576814292077 {'max_depth': 6, 'min_samples_split': 6, 'n_estimators': 2}\n",
      "5.296377137675925 5.105955694221514 {'max_depth': 6, 'min_samples_split': 6, 'n_estimators': 3}\n",
      "5.299147260825653 5.088809230974018 {'max_depth': 6, 'min_samples_split': 6, 'n_estimators': 5}\n",
      "5.307325245904757 5.097120701307177 {'max_depth': 6, 'min_samples_split': 6, 'n_estimators': 10}\n",
      "5.330356454189394 5.129554132463253 {'max_depth': 6, 'min_samples_split': 8, 'n_estimators': 2}\n",
      "5.296503289255071 5.106029475535042 {'max_depth': 6, 'min_samples_split': 8, 'n_estimators': 3}\n",
      "5.299780257249215 5.0894069031960205 {'max_depth': 6, 'min_samples_split': 8, 'n_estimators': 5}\n",
      "5.307945731610857 5.097666955908367 {'max_depth': 6, 'min_samples_split': 8, 'n_estimators': 10}\n",
      "5.453640013971809 4.725341200950916 {'max_depth': 8, 'min_samples_split': 2, 'n_estimators': 2}\n",
      "5.3415470731663826 4.649156925174707 {'max_depth': 8, 'min_samples_split': 2, 'n_estimators': 3}\n",
      "5.28821885288369 4.611225521477911 {'max_depth': 8, 'min_samples_split': 2, 'n_estimators': 5}\n",
      "5.222907858711806 4.596569047760114 {'max_depth': 8, 'min_samples_split': 2, 'n_estimators': 10}\n",
      "5.443762641729537 4.728005105633935 {'max_depth': 8, 'min_samples_split': 4, 'n_estimators': 2}\n",
      "5.3351224937035955 4.653419623053671 {'max_depth': 8, 'min_samples_split': 4, 'n_estimators': 3}\n",
      "5.286394391140206 4.615521998268985 {'max_depth': 8, 'min_samples_split': 4, 'n_estimators': 5}\n",
      "5.223044145633994 4.60119303530459 {'max_depth': 8, 'min_samples_split': 4, 'n_estimators': 10}\n",
      "5.453150179554758 4.731179020447682 {'max_depth': 8, 'min_samples_split': 6, 'n_estimators': 2}\n",
      "5.339670880950799 4.657491456587255 {'max_depth': 8, 'min_samples_split': 6, 'n_estimators': 3}\n",
      "5.290397718422891 4.621158800471346 {'max_depth': 8, 'min_samples_split': 6, 'n_estimators': 5}\n",
      "5.224679220758028 4.606608906639007 {'max_depth': 8, 'min_samples_split': 6, 'n_estimators': 10}\n",
      "5.436230055320932 4.733979802393732 {'max_depth': 8, 'min_samples_split': 8, 'n_estimators': 2}\n",
      "5.3294886439476805 4.660458625027895 {'max_depth': 8, 'min_samples_split': 8, 'n_estimators': 3}\n",
      "5.286125159420114 4.625301105795135 {'max_depth': 8, 'min_samples_split': 8, 'n_estimators': 5}\n",
      "5.222572850648849 4.610836990561217 {'max_depth': 8, 'min_samples_split': 8, 'n_estimators': 10}\n",
      "6.160481908209548 3.014029565848284 {'max_depth': None, 'min_samples_split': 2, 'n_estimators': 2}\n",
      "5.896011544909018 2.648637154520512 {'max_depth': None, 'min_samples_split': 2, 'n_estimators': 3}\n",
      "5.6817905871044765 2.311951569472028 {'max_depth': None, 'min_samples_split': 2, 'n_estimators': 5}\n",
      "5.488723327580748 2.027859864527822 {'max_depth': None, 'min_samples_split': 2, 'n_estimators': 10}\n",
      "6.038259714520296 3.2750573194943633 {'max_depth': None, 'min_samples_split': 4, 'n_estimators': 2}\n",
      "5.832853281684747 2.973861309619591 {'max_depth': None, 'min_samples_split': 4, 'n_estimators': 3}\n",
      "5.637937974770625 2.7025464099636163 {'max_depth': None, 'min_samples_split': 4, 'n_estimators': 5}\n",
      "5.464184408121254 2.4887630060538513 {'max_depth': None, 'min_samples_split': 4, 'n_estimators': 10}\n",
      "5.854591074781988 3.497690654294222 {'max_depth': None, 'min_samples_split': 6, 'n_estimators': 2}\n",
      "5.698858356864568 3.2427536204447875 {'max_depth': None, 'min_samples_split': 6, 'n_estimators': 3}\n",
      "5.533604378619886 3.0119602539397228 {'max_depth': None, 'min_samples_split': 6, 'n_estimators': 5}\n",
      "5.393191360339032 2.8389826841481067 {'max_depth': None, 'min_samples_split': 6, 'n_estimators': 10}\n",
      "5.751243397433979 3.668041769104407 {'max_depth': None, 'min_samples_split': 8, 'n_estimators': 2}\n",
      "5.590978666766297 3.4347649256178463 {'max_depth': None, 'min_samples_split': 8, 'n_estimators': 3}\n",
      "5.465304536974728 3.2339548622307115 {'max_depth': None, 'min_samples_split': 8, 'n_estimators': 5}\n",
      "5.354584400811442 3.0872540898552976 {'max_depth': None, 'min_samples_split': 8, 'n_estimators': 10}\n"
     ]
    }
   ],
   "source": [
    "# training and validation RMSE\n",
    "\n",
    "val_scores = rf_grid_search.cv_results_[\"mean_test_score\"]\n",
    "train_scores = rf_grid_search.cv_results_[\"mean_train_score\"]\n",
    "params = rf_grid_search.cv_results_[\"params\"]\n",
    "\n",
    "for val_score, train_score, param in zip(val_scores, train_scores, params):\n",
    "    print(np.sqrt(-val_score), np.sqrt(-train_score), param)"
   ]
  },
  {
   "cell_type": "markdown",
   "metadata": {},
   "source": [
    "**Comments**: The best model is achieved with n_estmators=200. Comparing the mean RMSE on the training set and the validation set, we notice that the latter is around three times lower than the former. This indicates the models overfit and we should constrain the learned trees in some way (e.g., introduce the maximum tree depth) to reduce it. This in turn may help to reduce the RMSE on the validation set."
   ]
  },
  {
   "cell_type": "markdown",
   "metadata": {},
   "source": [
    "Indeed, the predictions are spot on! But, these are predictions on training data. Decision trees are powerful models, capable of capturing complex patterns in the data, but at the same time they will **overfit**, unless they are contrained in some way (e.g. a maximum tree depth is set). To confirm this, we would need to see how the model fares on the test data, but this needs to be postponed till after we have selected the most promising models for the eventual evaluation on the test set.\n",
    "\n",
    "Another possibility is to evaluate the model using **cross-validation**.\n",
    "\n",
    "## 5.3 Cross-validation\n",
    "\n",
    "The idea behind cross-validation is the following: take the training set, split it into $k$ parts (e.g., $k$=10). Then train a model on the $k-1$ parts and evaluate the model on the $k$-th part. Repeat this $k$ times, each time recording the accuracy score. The final accuracy score is the mean of the accuracy scores of the $k$ models.\n",
    "\n",
    "In scikit-learn, this can be achieved as follows.\n",
    "\n",
    "### Decision trees"
   ]
  },
  {
   "cell_type": "code",
   "execution_count": 65,
   "metadata": {
    "ExecuteTime": {
     "end_time": "2020-12-19T14:16:02.973452Z",
     "start_time": "2020-12-19T14:16:02.507918Z"
    }
   },
   "outputs": [
    {
     "name": "stdout",
     "output_type": "stream",
     "text": [
      "Scores: [7.18001613 6.56966714 6.36974758 7.08974426 7.00094102 6.96613302\n",
      " 6.72007591 6.55140814 6.66356977 7.77432008]\n",
      "Mean: 6.8885623048948075\n",
      "Standard deviation: 0.38628714983013346\n"
     ]
    }
   ],
   "source": [
    "from sklearn.model_selection import cross_val_score\n",
    "\n",
    "tree_reg = DecisionTreeRegressor()\n",
    "\n",
    "# Scikit-Learn cross-validation features expect a utility function (greater is better) \n",
    "# rather than a cost function (lower is better), so the scoring function is actually \n",
    "# the opposite of the MSE\n",
    "scores = cross_val_score(tree_reg, Xtrain, ytrain, scoring=\"neg_mean_squared_error\", cv=10)\n",
    "\n",
    "rmse_scores = np.sqrt(-scores)\n",
    "\n",
    "def display_scores(scores):\n",
    "    print(\"Scores:\", scores)\n",
    "    print(\"Mean:\", scores.mean())\n",
    "    print(\"Standard deviation:\", scores.std())\n",
    "\n",
    "display_scores(rmse_scores)"
   ]
  },
  {
   "cell_type": "markdown",
   "metadata": {},
   "source": [
    "Thus, the Decision Tree algorithm produces models that have the RMSE of 64,811; the standard deviation being 2,166 (which gives an idea of the variance of the algorithm).\n",
    "\n",
    "So we can confirm that our original model, which was evaluated on the training set, overfitted the data."
   ]
  },
  {
   "cell_type": "markdown",
   "metadata": {
    "ExecuteTime": {
     "end_time": "2020-12-19T14:23:42.362408Z",
     "start_time": "2020-12-19T14:23:42.357148Z"
    }
   },
   "source": [
    "# Summary \n",
    "TL;DR"
   ]
  },
  {
   "cell_type": "markdown",
   "metadata": {},
   "source": []
  }
 ],
 "metadata": {
  "kernelspec": {
   "display_name": "Python 3",
   "language": "python",
   "name": "python3"
  },
  "language_info": {
   "codemirror_mode": {
    "name": "ipython",
    "version": 3
   },
   "file_extension": ".py",
   "mimetype": "text/x-python",
   "name": "python",
   "nbconvert_exporter": "python",
   "pygments_lexer": "ipython3",
   "version": "3.7.4"
  },
  "toc": {
   "base_numbering": 1,
   "nav_menu": {},
   "number_sections": true,
   "sideBar": true,
   "skip_h1_title": false,
   "title_cell": "Table of Contents",
   "title_sidebar": "Contents",
   "toc_cell": false,
   "toc_position": {
    "height": "calc(100% - 180px)",
    "left": "10px",
    "top": "150px",
    "width": "304.796875px"
   },
   "toc_section_display": true,
   "toc_window_display": true
  }
 },
 "nbformat": 4,
 "nbformat_minor": 2
}
