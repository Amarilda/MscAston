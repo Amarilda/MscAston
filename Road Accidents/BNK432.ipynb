{
 "cells": [
  {
   "cell_type": "markdown",
   "metadata": {},
   "source": [
    "Business objective"
   ]
  },
  {
   "cell_type": "markdown",
   "metadata": {
    "hide_input": true
   },
   "source": [
    "# Read the data"
   ]
  },
  {
   "cell_type": "code",
   "execution_count": 1,
   "metadata": {
    "ExecuteTime": {
     "end_time": "2020-12-20T12:34:37.912284Z",
     "start_time": "2020-12-20T12:34:28.749027Z"
    }
   },
   "outputs": [
    {
     "name": "stderr",
     "output_type": "stream",
     "text": [
      "/Users/Edite/opt/anaconda3/lib/python3.7/site-packages/ipykernel_launcher.py:3: FutureWarning: pandas.util.testing is deprecated. Use the functions in the public API at pandas.testing instead.\n",
      "  This is separate from the ipykernel package so we can avoid doing imports until\n"
     ]
    }
   ],
   "source": [
    "# Import necessary packages\n",
    "import pandas as pd\n",
    "import pandas.util.testing as tm\n",
    "import numpy as np\n",
    "from matplotlib import pyplot as plt\n",
    "%matplotlib inline\n",
    "\n",
    "import time\n",
    "from datetime import datetime\n",
    "from datetime import date\n",
    "\n",
    "from sklearn.metrics import mean_squared_error\n",
    "from sklearn.tree import DecisionTreeRegressor\n",
    "from sklearn.ensemble import RandomForestRegressor\n",
    "\n",
    "from sklearn.model_selection import train_test_split\n",
    "from sklearn.model_selection import TimeSeriesSplit, GridSearchCV\n",
    "\n",
    "import statsmodels.api as sm\n",
    "\n",
    "import warnings\n",
    "warnings.filterwarnings(\"ignore\")"
   ]
  },
  {
   "cell_type": "code",
   "execution_count": 2,
   "metadata": {
    "ExecuteTime": {
     "end_time": "2020-12-20T12:34:37.979620Z",
     "start_time": "2020-12-20T12:34:37.916940Z"
    }
   },
   "outputs": [],
   "source": [
    "# Read the data\n",
    "df= pd.read_csv(\"UK Road Accidents 2018.csv\")"
   ]
  },
  {
   "cell_type": "markdown",
   "metadata": {},
   "source": [
    "### Random sample of data\n",
    "df.sample(n) shows more variation in the data set than df.head(). Data set is usually sorted during ETL process. In this case each observation represents an hour and data is not expected to be changing drastically within that time span."
   ]
  },
  {
   "cell_type": "code",
   "execution_count": 3,
   "metadata": {
    "ExecuteTime": {
     "end_time": "2020-12-20T12:34:38.134210Z",
     "start_time": "2020-12-20T12:34:37.996912Z"
    }
   },
   "outputs": [
    {
     "data": {
      "text/html": [
       "<div>\n",
       "<style scoped>\n",
       "    .dataframe tbody tr th:only-of-type {\n",
       "        vertical-align: middle;\n",
       "    }\n",
       "\n",
       "    .dataframe tbody tr th {\n",
       "        vertical-align: top;\n",
       "    }\n",
       "\n",
       "    .dataframe thead th {\n",
       "        text-align: right;\n",
       "    }\n",
       "</style>\n",
       "<table border=\"1\" class=\"dataframe\">\n",
       "  <thead>\n",
       "    <tr style=\"text-align: right;\">\n",
       "      <th></th>\n",
       "      <th>datetime</th>\n",
       "      <th>Count</th>\n",
       "      <th>Day_of_Week</th>\n",
       "      <th>Precipitation</th>\n",
       "      <th>High_Winds</th>\n",
       "      <th>Road_Surface_Conditions</th>\n",
       "      <th>Light_Conditions</th>\n",
       "      <th>Urban_or_Rural_Area</th>\n",
       "    </tr>\n",
       "  </thead>\n",
       "  <tbody>\n",
       "    <tr>\n",
       "      <th>4760</th>\n",
       "      <td>24/07/2018 01:00</td>\n",
       "      <td>2</td>\n",
       "      <td>Tuesday</td>\n",
       "      <td>Fine</td>\n",
       "      <td>False</td>\n",
       "      <td>Dry</td>\n",
       "      <td>Darkness - lights lit</td>\n",
       "      <td>Urban</td>\n",
       "    </tr>\n",
       "    <tr>\n",
       "      <th>7368</th>\n",
       "      <td>12/11/2018 01:00</td>\n",
       "      <td>1</td>\n",
       "      <td>Monday</td>\n",
       "      <td>Raining</td>\n",
       "      <td>False</td>\n",
       "      <td>Wet or damp</td>\n",
       "      <td>Darkness - lights lit</td>\n",
       "      <td>Rural</td>\n",
       "    </tr>\n",
       "    <tr>\n",
       "      <th>3479</th>\n",
       "      <td>30/05/2018 10:00</td>\n",
       "      <td>15</td>\n",
       "      <td>Wednesday</td>\n",
       "      <td>Fine</td>\n",
       "      <td>False</td>\n",
       "      <td>Dry</td>\n",
       "      <td>Daylight</td>\n",
       "      <td>Urban</td>\n",
       "    </tr>\n",
       "    <tr>\n",
       "      <th>7515</th>\n",
       "      <td>18/11/2018 09:00</td>\n",
       "      <td>15</td>\n",
       "      <td>Sunday</td>\n",
       "      <td>Fine</td>\n",
       "      <td>False</td>\n",
       "      <td>Dry</td>\n",
       "      <td>Daylight</td>\n",
       "      <td>Rural</td>\n",
       "    </tr>\n",
       "    <tr>\n",
       "      <th>2131</th>\n",
       "      <td>02/04/2018 20:00</td>\n",
       "      <td>6</td>\n",
       "      <td>Monday</td>\n",
       "      <td>Raining</td>\n",
       "      <td>False</td>\n",
       "      <td>Wet or damp</td>\n",
       "      <td>Darkness - lights lit</td>\n",
       "      <td>Urban</td>\n",
       "    </tr>\n",
       "  </tbody>\n",
       "</table>\n",
       "</div>"
      ],
      "text/plain": [
       "              datetime  Count Day_of_Week Precipitation  High_Winds  \\\n",
       "4760  24/07/2018 01:00      2     Tuesday          Fine       False   \n",
       "7368  12/11/2018 01:00      1      Monday       Raining       False   \n",
       "3479  30/05/2018 10:00     15   Wednesday          Fine       False   \n",
       "7515  18/11/2018 09:00     15      Sunday          Fine       False   \n",
       "2131  02/04/2018 20:00      6      Monday       Raining       False   \n",
       "\n",
       "     Road_Surface_Conditions       Light_Conditions Urban_or_Rural_Area  \n",
       "4760                     Dry  Darkness - lights lit               Urban  \n",
       "7368             Wet or damp  Darkness - lights lit               Rural  \n",
       "3479                     Dry               Daylight               Urban  \n",
       "7515                     Dry               Daylight               Rural  \n",
       "2131             Wet or damp  Darkness - lights lit               Urban  "
      ]
     },
     "execution_count": 3,
     "metadata": {},
     "output_type": "execute_result"
    }
   ],
   "source": [
    "df.sample(5)"
   ]
  },
  {
   "cell_type": "markdown",
   "metadata": {},
   "source": [
    "### Check for nulls\n",
    "\n",
    "Non-null count provides the same as \" RangeIndex - df.isna().sum()\"\n",
    "\n",
    "RangeIndex: 8540\n",
    "\n",
    "All Non_Null Counts = 8540\n",
    "\n",
    "**Therefore Nulls are not present in this data set.**"
   ]
  },
  {
   "cell_type": "code",
   "execution_count": 4,
   "metadata": {
    "ExecuteTime": {
     "end_time": "2020-12-20T12:34:38.168416Z",
     "start_time": "2020-12-20T12:34:38.145636Z"
    }
   },
   "outputs": [
    {
     "name": "stdout",
     "output_type": "stream",
     "text": [
      "<class 'pandas.core.frame.DataFrame'>\n",
      "RangeIndex: 8540 entries, 0 to 8539\n",
      "Data columns (total 8 columns):\n",
      " #   Column                   Non-Null Count  Dtype \n",
      "---  ------                   --------------  ----- \n",
      " 0   datetime                 8540 non-null   object\n",
      " 1   Count                    8540 non-null   int64 \n",
      " 2   Day_of_Week              8540 non-null   object\n",
      " 3   Precipitation            8540 non-null   object\n",
      " 4   High_Winds               8540 non-null   bool  \n",
      " 5   Road_Surface_Conditions  8540 non-null   object\n",
      " 6   Light_Conditions         8540 non-null   object\n",
      " 7   Urban_or_Rural_Area      8540 non-null   object\n",
      "dtypes: bool(1), int64(1), object(6)\n",
      "memory usage: 475.5+ KB\n"
     ]
    }
   ],
   "source": [
    "df.info()"
   ]
  },
  {
   "cell_type": "markdown",
   "metadata": {},
   "source": [
    "Drop missing values encoded as \"Data missing or out of range\", \"Other\" and \"Unknown\".\n",
    "Data set is ample and in total 102 observations are dropped. \n",
    "In addition, it will reduce features created in further steps.\n",
    "Size is insignificant when compared to initial size of 8540 observations."
   ]
  },
  {
   "cell_type": "code",
   "execution_count": 5,
   "metadata": {
    "ExecuteTime": {
     "end_time": "2020-12-20T12:34:38.271079Z",
     "start_time": "2020-12-20T12:34:38.181081Z"
    }
   },
   "outputs": [
    {
     "name": "stdout",
     "output_type": "stream",
     "text": [
      "Precipitation\n",
      "\n",
      "Data missing or out of range: 1\n",
      "Other: 51\n",
      "Unknown: 48\n",
      "\n",
      "Road_Surface_Conditions\n",
      "\n",
      "Data missing or out of range: 2\n",
      "Other: 0\n",
      "Unknown: 0\n",
      "\n"
     ]
    }
   ],
   "source": [
    "for column in df.columns:\n",
    "    if len(df[df[column] == \"Data missing or out of range\"])+ len(df[df[column] == \"Other\"])+len(df[df[column] == \"Unknown\"]) > 0:\n",
    "        print(column)\n",
    "        print()\n",
    "        print(f'Data missing or out of range: {len(df[df[column] == \"Data missing or out of range\"])}')\n",
    "        df.drop(df[df[column] == \"Data missing or out of range\"].index, inplace = True) \n",
    "        \n",
    "        print(f'Other: {len(df[df[column] == \"Other\"])}')\n",
    "        df.drop(df[df[column] == \"Other\"].index, inplace = True) \n",
    "        \n",
    "        print(f'Unknown: {len(df[df[column] == \"Unknown\"])}')\n",
    "        df.drop(df[df[column] == \"Unknown\"].index, inplace = True)\n",
    "              \n",
    "        print()"
   ]
  },
  {
   "cell_type": "markdown",
   "metadata": {
    "ExecuteTime": {
     "end_time": "2020-12-16T13:23:30.110673Z",
     "start_time": "2020-12-16T13:23:30.106850Z"
    }
   },
   "source": [
    "# Forecasting time series"
   ]
  },
  {
   "cell_type": "markdown",
   "metadata": {},
   "source": [
    "Select 2 columns for forecasting"
   ]
  },
  {
   "cell_type": "code",
   "execution_count": 6,
   "metadata": {
    "ExecuteTime": {
     "end_time": "2020-12-20T12:34:38.282435Z",
     "start_time": "2020-12-20T12:34:38.276860Z"
    }
   },
   "outputs": [],
   "source": [
    "df2 = df[['datetime', 'Count']]"
   ]
  },
  {
   "cell_type": "markdown",
   "metadata": {
    "ExecuteTime": {
     "end_time": "2020-12-20T12:18:21.379222Z",
     "start_time": "2020-12-20T12:18:21.326174Z"
    }
   },
   "source": [
    "In order to forecast datetime needs to be DatetimeIndex, instead of the feature."
   ]
  },
  {
   "cell_type": "code",
   "execution_count": 7,
   "metadata": {
    "ExecuteTime": {
     "end_time": "2020-12-20T12:34:38.293317Z",
     "start_time": "2020-12-20T12:34:38.288367Z"
    }
   },
   "outputs": [],
   "source": [
    "df2.DatetimeIndex = df2.datetime\n",
    "del df2['datetime']"
   ]
  },
  {
   "cell_type": "markdown",
   "metadata": {},
   "source": [
    "**Data is split into training and testing sets.**\n",
    "\n",
    "\n",
    "`test_size=0.1`\n",
    "\n",
    "Test size is 10% and 90 % of data is allocated to the training set. \n",
    "\n",
    "`random_state=7`\n",
    "\n",
    "To enable reproducibility, random state 7 is applied.  In all future iterations, given the data set stays the same and transformation do not change, data will be split exactly in the same way. \n",
    "\n",
    "`shuffle=False`\n",
    "Time series is an autoregression model. An autoregression model makes an assumption that the observations at previous time steps are useful to predict the value at the next time step. Therefore it is important that testing set is selected after the training set. "
   ]
  },
  {
   "cell_type": "code",
   "execution_count": 8,
   "metadata": {
    "ExecuteTime": {
     "end_time": "2020-12-20T12:34:38.308324Z",
     "start_time": "2020-12-20T12:34:38.297672Z"
    }
   },
   "outputs": [
    {
     "name": "stdout",
     "output_type": "stream",
     "text": [
      "7594 train and 844 test instances\n"
     ]
    }
   ],
   "source": [
    "train_set, test_set = train_test_split(df2, test_size=0.1, random_state=7, shuffle=False)\n",
    "print(f\"{train_set.shape[0]} train and {test_set.shape[0]} test instances\")"
   ]
  },
  {
   "cell_type": "markdown",
   "metadata": {},
   "source": [
    "## Exploratory Data Analysis\n",
    "\n",
    "Let's plot the data."
   ]
  },
  {
   "cell_type": "code",
   "execution_count": 9,
   "metadata": {
    "ExecuteTime": {
     "end_time": "2020-12-20T12:34:38.750634Z",
     "start_time": "2020-12-20T12:34:38.312203Z"
    }
   },
   "outputs": [
    {
     "data": {
      "text/plain": [
       "<AxesSubplot:>"
      ]
     },
     "execution_count": 9,
     "metadata": {},
     "output_type": "execute_result"
    },
    {
     "data": {
      "image/png": "[encoded data removed]",
      "text/plain": [
       "<Figure size 1152x216 with 1 Axes>"
      ]
     },
     "metadata": {
      "needs_background": "light"
     },
     "output_type": "display_data"
    }
   ],
   "source": [
    "train_set[:120].plot(figsize=(16,3))"
   ]
  },
  {
   "cell_type": "markdown",
   "metadata": {},
   "source": [
    "## Data cleaning and transformation\n",
    "\n",
    "Before we can start buinding a model, we need to ensure the data is **stationary**. We will use the Augmented Dickey-Fuller (ADF) test and the KPSS (Kwiatkowski-Phillips-Schmidt-Shin) tests to test the series for stationarity."
   ]
  },
  {
   "cell_type": "markdown",
   "metadata": {
    "ExecuteTime": {
     "end_time": "2020-12-19T17:36:06.999830Z",
     "start_time": "2020-12-19T17:36:06.985813Z"
    }
   },
   "source": [
    "<font size=\"5\">**Augmented Dickey-Fuller**</font>\n",
    "\n",
    "ADF test is used to determine the presence of unit root in the series, and hence helps in understand if the series is stationary or not. \n",
    "\n",
    "Tests whether a time series has a unit root, e.g. has a trend or more generally is autoregressive.\n",
    "\n",
    "**Assumptions**\n",
    "\n",
    "Observations in are temporally ordered.\n",
    "\n",
    "**Interpretation**\n",
    "\n",
    "* H0: a unit root is present (series is non-stationary).\n",
    "* H1: a unit root is not present (series is stationary).\n",
    "\n",
    "\n",
    "\n",
    "<font size=\"5\">**Kwiatkowski-Phillips-Schmidt-Shin**</font> (KPSS) test\n",
    "\n",
    "The null and alternate hypothesis for the KPSS test are opposite that of the ADF test.\n",
    "\n",
    "**Assumptions**\n",
    "\n",
    "Observations in are temporally ordered.\n",
    "\n",
    "**Interpretation**\n",
    "\n",
    "* H0: the time series is not trend-stationary.\n",
    "* H1: the time series is trend-stationary.\n",
    "\n",
    "\n",
    "\n",
    "\n",
    "Missing values are not handled.\n",
    "\n",
    "\n",
    "[statsmodels.org/stationarity_detrending_adf_kpss](https://www.statsmodels.org/stable/examples/notebooks/generated/stationarity_detrending_adf_kpss.html)"
   ]
  },
  {
   "cell_type": "code",
   "execution_count": 10,
   "metadata": {
    "ExecuteTime": {
     "end_time": "2020-12-20T12:34:38.851405Z",
     "start_time": "2020-12-20T12:34:38.756487Z"
    }
   },
   "outputs": [
    {
     "name": "stdout",
     "output_type": "stream",
     "text": [
      "ADF, p-value: 5.622377150770526e-24\n"
     ]
    }
   ],
   "source": [
    "from statsmodels.tsa.stattools import adfuller, kpss\n",
    "\n",
    "adf_pval = adfuller(train_set['Count'], maxlag=10, regression='nc')[1]\n",
    "print(\"ADF, p-value:\", adf_pval)"
   ]
  },
  {
   "cell_type": "code",
   "execution_count": 11,
   "metadata": {
    "ExecuteTime": {
     "end_time": "2020-12-20T12:34:38.868297Z",
     "start_time": "2020-12-20T12:34:38.855875Z"
    }
   },
   "outputs": [
    {
     "name": "stdout",
     "output_type": "stream",
     "text": [
      "KPSS, p-value: 0.01\n"
     ]
    }
   ],
   "source": [
    "kpss_stat, kpss_pval, lags, crit_vals = kpss(train_set['Count'])\n",
    "print(\"KPSS, p-value:\", round(kpss_pval,2))"
   ]
  },
  {
   "cell_type": "markdown",
   "metadata": {
    "ExecuteTime": {
     "end_time": "2020-12-18T18:35:59.424151Z",
     "start_time": "2020-12-18T18:35:59.416226Z"
    }
   },
   "source": [
    "**InterpolationWarning**\n",
    "\n",
    "InterpolationWarning is issued when the test statistic is outside of the range of p-values available in the\n",
    "look-up table. The actual p-value is {direction} than the p-value returned. Not present for ADF.\n",
    "\n",
    "    if p_value == pvals[-1]:\n",
    "        warnings.warn(\n",
    "            warn_msg.format(direction=\"smaller\"), InterpolationWarning\n",
    "        )\n",
    "    elif p_value == pvals[0]:\n",
    "        warnings.warn(\n",
    "            warn_msg.format(direction=\"greater\"), InterpolationWarning\n",
    "        )\n",
    "\n",
    "\n",
    "[Source code](https://www.statsmodels.org/dev/_modules/statsmodels/tsa/stattools.html)\n",
    "\n",
    "\n"
   ]
  },
  {
   "cell_type": "markdown",
   "metadata": {},
   "source": [
    "### Function Trending"
   ]
  },
  {
   "cell_type": "markdown",
   "metadata": {},
   "source": [
    "Function Trending takes as arguments adf_pval and kpss_stat values."
   ]
  },
  {
   "cell_type": "code",
   "execution_count": 12,
   "metadata": {
    "ExecuteTime": {
     "end_time": "2020-12-20T12:34:38.887014Z",
     "start_time": "2020-12-20T12:34:38.873307Z"
    }
   },
   "outputs": [],
   "source": [
    "def Trending(adf_pval, kpss_stat):\n",
    "    if adf_pval>0.05 and kpss_pval < 0.05:\n",
    "        return \"non-Stationary\"\n",
    "    elif adf_pval<0.05 and kpss_pval > 0.05:\n",
    "        return \"Stationary\"\n",
    "    elif adf_pval>0.05 and kpss_pval > 0.05:\n",
    "        return \"3: ADF : non-Stationary, KPSS : Stationary\"\n",
    "    elif adf_pval<0.05 and kpss_pval < 0.05:\n",
    "        return \"ADF : Stationary, KPSS : non-Stationary\""
   ]
  },
  {
   "cell_type": "code",
   "execution_count": 13,
   "metadata": {
    "ExecuteTime": {
     "end_time": "2020-12-20T12:34:38.906025Z",
     "start_time": "2020-12-20T12:34:38.896775Z"
    }
   },
   "outputs": [
    {
     "data": {
      "text/plain": [
       "'ADF : Stationary, KPSS : non-Stationary'"
      ]
     },
     "execution_count": 13,
     "metadata": {},
     "output_type": "execute_result"
    }
   ],
   "source": [
    "Trending(adf_pval,kpss_pval )"
   ]
  },
  {
   "cell_type": "markdown",
   "metadata": {},
   "source": [
    "The series is not stationary in the levels (i.e., in the original form), according to the KPSS test, but it is stationary according to the ADF test. So it would be safer to assume that the series is not stationary. Let us difference it."
   ]
  },
  {
   "cell_type": "code",
   "execution_count": 14,
   "metadata": {
    "ExecuteTime": {
     "end_time": "2020-12-20T12:34:39.100767Z",
     "start_time": "2020-12-20T12:34:38.916309Z"
    }
   },
   "outputs": [
    {
     "data": {
      "text/plain": [
       "'Stationary'"
      ]
     },
     "execution_count": 14,
     "metadata": {},
     "output_type": "execute_result"
    }
   ],
   "source": [
    "train_diff = train_set['Count'].diff().dropna()\n",
    "\n",
    "adf_pval = adfuller(train_diff, maxlag=10, regression=\"nc\")[1]\n",
    "kpss_stat, kpss_pval, lags, crit_vals = kpss(train_diff)\n",
    "Trending(adf_pval, kpss_pval)"
   ]
  },
  {
   "cell_type": "markdown",
   "metadata": {},
   "source": [
    "The series has become stationary after the first differencing, so we'll use a differenced training set for building a model and we'll also difference the test data in order to be able to evaluate the model."
   ]
  },
  {
   "cell_type": "code",
   "execution_count": 15,
   "metadata": {
    "ExecuteTime": {
     "end_time": "2020-12-20T12:34:39.127728Z",
     "start_time": "2020-12-20T12:34:39.105074Z"
    }
   },
   "outputs": [],
   "source": [
    "test_diff = test_set['Count'].diff().dropna()"
   ]
  },
  {
   "cell_type": "markdown",
   "metadata": {},
   "source": [
    "## Build models\n",
    "\n",
    "### Baseline\n",
    "\n",
    "The persistence baseline is generating the previous hours accidents as the prediction for next hour. \n",
    "\n",
    "Baseline rmse is <font size=\"4\" style = \"color:red\">**10.6**</font> accidents per hour.  \n",
    "\n",
    "If baseline would be derived as average accidents per hour in the test data set, average accident per hour is 14.33 and root squared error is 16.24, which is 35% worse of a prediction than assuming last hours figure. "
   ]
  },
  {
   "cell_type": "code",
   "execution_count": 16,
   "metadata": {
    "ExecuteTime": {
     "end_time": "2020-12-20T12:34:39.150636Z",
     "start_time": "2020-12-20T12:34:39.137422Z"
    }
   },
   "outputs": [
    {
     "data": {
      "text/plain": [
       "10.566832886189484"
      ]
     },
     "execution_count": 16,
     "metadata": {},
     "output_type": "execute_result"
    }
   ],
   "source": [
    "baseline_predictions = test_diff.shift()[1:]\n",
    "\n",
    "mse = mean_squared_error(test_diff[1:], baseline_predictions)\n",
    "\n",
    "baseline_rmse = np.sqrt(mse)\n",
    "baseline_rmse"
   ]
  },
  {
   "cell_type": "code",
   "execution_count": 17,
   "metadata": {
    "ExecuteTime": {
     "end_time": "2020-12-20T12:34:39.180197Z",
     "start_time": "2020-12-20T12:34:39.155220Z"
    }
   },
   "outputs": [
    {
     "data": {
      "text/plain": [
       "16.41803112782183"
      ]
     },
     "execution_count": 17,
     "metadata": {},
     "output_type": "execute_result"
    }
   ],
   "source": [
    "a = np.empty(len(test_diff[1:]))\n",
    "a.fill(test_set['Count'].mean())\n",
    "np.sqrt(mean_squared_error(test_diff[1:], a))"
   ]
  },
  {
   "cell_type": "markdown",
   "metadata": {},
   "source": [
    "### Extra transformation steps\n",
    "\n",
    "We need to do some transformation steps required to be able to input the data into the scikit-learn's implementation of the ML algorithms."
   ]
  },
  {
   "cell_type": "code",
   "execution_count": 18,
   "metadata": {
    "ExecuteTime": {
     "end_time": "2020-12-20T12:34:39.211445Z",
     "start_time": "2020-12-20T12:34:39.191393Z"
    }
   },
   "outputs": [],
   "source": [
    "def create_ar_vars(ts, lags=2):\n",
    "    \"\"\"Create autoregressive X variables\n",
    "    \"\"\"\n",
    "    dataX, dataY = [], []\n",
    "    for i in range(len(ts)-lags):\n",
    "        dataX.append(ts[i:i + lags, 0])\n",
    "        dataY.append(ts[i + lags, 0])\n",
    "    return np.array(dataX), np.array(dataY)"
   ]
  },
  {
   "cell_type": "markdown",
   "metadata": {},
   "source": [
    "We first create separate arrays for the predictors and the target, for both the training and test data. We'll use 3 lags to create autoregressive variables."
   ]
  },
  {
   "cell_type": "code",
   "execution_count": 19,
   "metadata": {
    "ExecuteTime": {
     "end_time": "2020-12-20T12:34:39.264267Z",
     "start_time": "2020-12-20T12:34:39.219601Z"
    }
   },
   "outputs": [],
   "source": [
    "Xtrain, ytrain = create_ar_vars(train_diff.values.reshape(-1, 1), lags=3)\n",
    "Xtest, ytest = create_ar_vars(test_diff.values.reshape(-1, 1), lags=3)"
   ]
  },
  {
   "cell_type": "markdown",
   "metadata": {},
   "source": [
    "Both predictor arrays need to be scaled (but the target variable should not be transformed).\n",
    "\n",
    "Standardization of a dataset is a common requirement for many\n",
    "machine learning estimators: they might behave badly if the\n",
    "individual features do not more or less look like standard normally\n",
    "distributed data.\n",
    "\n",
    "For instance many elements used in the objective function of\n",
    "a learning algorithm (such as the RBF kernel of Support Vector\n",
    "Machines or the L1 and L2 regularizers of linear models) assume that\n",
    "all features are centered around 0 and have variance in the same\n",
    "order. If a feature has a variance that is orders of magnitude larger\n",
    "that others, it might dominate the objective function and make the\n",
    "estimator unable to learn from other features correctly as expected."
   ]
  },
  {
   "cell_type": "code",
   "execution_count": 20,
   "metadata": {
    "ExecuteTime": {
     "end_time": "2020-12-20T12:34:39.289754Z",
     "start_time": "2020-12-20T12:34:39.277347Z"
    }
   },
   "outputs": [],
   "source": [
    "from sklearn.preprocessing import StandardScaler\n",
    "\n",
    "scaler = StandardScaler()\n",
    "Xtrain = scaler.fit_transform(Xtrain)\n",
    "Xtest = scaler.transform(Xtest)"
   ]
  },
  {
   "cell_type": "markdown",
   "metadata": {},
   "source": [
    "Then we can use a grid search to find the most optimal hyperparameters settings.\n",
    "\n",
    "### Decision Tree regression"
   ]
  },
  {
   "cell_type": "markdown",
   "metadata": {},
   "source": [
    "`max_depth`\n",
    "\n",
    "The maximum depth of the tree. If None, then nodes are expanded until all leaves are pure or until all leaves contain less than min_samples_split samples. \n",
    "\n",
    "`min_samples_split`\n",
    "\n",
    "The minimum number of samples required to split an internal node\n",
    "\n",
    "`n_splits` \n",
    "\n",
    "Time Series cross-validator, this data set is split 10 times in order to cross validate. Each successive training set is supersets of those that come before them.\n",
    "\n",
    "GridSearchCV will iterate over all combinations of `max_depth` and `min_samples_split` and will derive the optimal pair."
   ]
  },
  {
   "cell_type": "code",
   "execution_count": 21,
   "metadata": {
    "ExecuteTime": {
     "end_time": "2020-12-20T12:34:40.473518Z",
     "start_time": "2020-12-20T12:34:39.293623Z"
    }
   },
   "outputs": [
    {
     "data": {
      "text/plain": [
       "GridSearchCV(cv=TimeSeriesSplit(max_train_size=None, n_splits=10),\n",
       "             error_score=nan,\n",
       "             estimator=DecisionTreeRegressor(ccp_alpha=0.0, criterion='mse',\n",
       "                                             max_depth=None, max_features=None,\n",
       "                                             max_leaf_nodes=None,\n",
       "                                             min_impurity_decrease=0.0,\n",
       "                                             min_impurity_split=None,\n",
       "                                             min_samples_leaf=1,\n",
       "                                             min_samples_split=2,\n",
       "                                             min_weight_fraction_leaf=0.0,\n",
       "                                             presort='deprecated',\n",
       "                                             random_state=7, splitter='best'),\n",
       "             iid='deprecated', n_jobs=None,\n",
       "             param_grid=[{'max_depth': [6, 8, 10, 7],\n",
       "                          'min_samples_split': [6, 8, 10, 11, 9]}],\n",
       "             pre_dispatch='2*n_jobs', refit=True, return_train_score=True,\n",
       "             scoring='neg_mean_squared_error', verbose=0)"
      ]
     },
     "execution_count": 21,
     "metadata": {},
     "output_type": "execute_result"
    }
   ],
   "source": [
    "dtree = DecisionTreeRegressor(random_state=7)\n",
    "param_grid = [\n",
    "    {'max_depth': [6, 8, 10, 7],\n",
    "    'min_samples_split': [6, 8, 10, 11, 9]}\n",
    "]\n",
    "\n",
    "tscv = TimeSeriesSplit(n_splits=10)\n",
    "dtree_grid_search = GridSearchCV(estimator=dtree, cv=tscv,\n",
    "                        param_grid=param_grid,\n",
    "                        scoring='neg_mean_squared_error', \n",
    "                        return_train_score=True)\n",
    "\n",
    "dtree_grid_search.fit(Xtrain, ytrain)"
   ]
  },
  {
   "cell_type": "markdown",
   "metadata": {},
   "source": [
    "Let's print the accuracy scores for every model evaluated during the grid search."
   ]
  },
  {
   "cell_type": "code",
   "execution_count": 22,
   "metadata": {
    "ExecuteTime": {
     "end_time": "2020-12-20T12:34:40.490941Z",
     "start_time": "2020-12-20T12:34:40.477429Z"
    }
   },
   "outputs": [
    {
     "name": "stdout",
     "output_type": "stream",
     "text": [
      "7.225, 6.464, 1.118 {'max_depth': 6, 'min_samples_split': 10}\n",
      "7.229, 6.470, 1.117 {'max_depth': 6, 'min_samples_split': 11}\n",
      "7.233, 6.451, 1.121 {'max_depth': 6, 'min_samples_split': 9}\n",
      "7.242, 6.446, 1.123 {'max_depth': 6, 'min_samples_split': 8}\n",
      "7.255, 6.432, 1.128 {'max_depth': 6, 'min_samples_split': 6}\n",
      "7.273, 6.356, 1.144 {'max_depth': 7, 'min_samples_split': 11}\n",
      "7.282, 6.345, 1.148 {'max_depth': 7, 'min_samples_split': 10}\n",
      "7.293, 6.327, 1.153 {'max_depth': 7, 'min_samples_split': 9}\n",
      "7.312, 6.316, 1.158 {'max_depth': 7, 'min_samples_split': 8}\n",
      "7.342, 6.227, 1.179 {'max_depth': 8, 'min_samples_split': 11}\n",
      "7.343, 6.290, 1.167 {'max_depth': 7, 'min_samples_split': 6}\n",
      "7.364, 6.210, 1.186 {'max_depth': 8, 'min_samples_split': 10}\n",
      "7.377, 6.188, 1.192 {'max_depth': 8, 'min_samples_split': 9}\n",
      "7.395, 6.175, 1.198 {'max_depth': 8, 'min_samples_split': 8}\n",
      "7.427, 6.137, 1.210 {'max_depth': 8, 'min_samples_split': 6}\n",
      "7.502, 5.946, 1.262 {'max_depth': 10, 'min_samples_split': 11}\n",
      "7.516, 5.917, 1.270 {'max_depth': 10, 'min_samples_split': 10}\n",
      "7.548, 5.886, 1.283 {'max_depth': 10, 'min_samples_split': 9}\n",
      "7.614, 5.850, 1.301 {'max_depth': 10, 'min_samples_split': 8}\n",
      "7.674, 5.770, 1.330 {'max_depth': 10, 'min_samples_split': 6}\n"
     ]
    }
   ],
   "source": [
    "val_scores = dtree_grid_search.cv_results_[\"mean_test_score\"]\n",
    "train_scores = dtree_grid_search.cv_results_[\"mean_train_score\"]\n",
    "params = [str(x) for x in dtree_grid_search.cv_results_[\"params\"]]\n",
    "\n",
    "for val_score, train_score, param in sorted(zip(val_scores, train_scores, params), reverse=True):\n",
    "    print(f\"{np.sqrt(-val_score):.3f}, {np.sqrt(-train_score):.3f}, {np.sqrt(-val_score)/np.sqrt(-train_score):.3f}\", param)"
   ]
  },
  {
   "cell_type": "markdown",
   "metadata": {
    "ExecuteTime": {
     "end_time": "2020-12-19T18:54:03.531779Z",
     "start_time": "2020-12-19T18:54:03.524652Z"
    }
   },
   "source": [
    "After fitting initial param_grid\n",
    "\n",
    "`\n",
    "param_grid = [\n",
    "    {'max_depth': [2, 4, 6, 8],\n",
    "    'min_samples_split': [2, 4, 6, 8]}\n",
    "]\n",
    "`\n",
    "\n",
    "the best performing values were 8, therefore 9, 10, 11 is added and 2 & 4 is removed from param_grid.\n",
    "\n",
    "After tuning the hyperparameters, the best performing pair is 'max_depth': 6, 'min_samples_split': 10"
   ]
  },
  {
   "cell_type": "markdown",
   "metadata": {},
   "source": [
    "### Random Forest regression\n",
    "\n",
    "`n_estimators`\n",
    "\n",
    "The number of trees in the forest.\n",
    "\n",
    "`max_depth`\n",
    "\n",
    "The maximum depth of the tree. If None, then nodes are expanded until all leaves are pure or until all leaves contain less than min_samples_split samples. \n",
    "\n",
    "`min_samples_split`\n",
    "\n",
    "The minimum number of samples required to split an internal node\n",
    "\n",
    "`n_splits` \n",
    "\n",
    "Time Series cross-validator, this data set is split 10 times in order to cross validate. Each successive training set is supersets of those that come before them.\n",
    "\n",
    "GridSearchCV will iterate over all combinations of `n_estimators`, `max_depth` and `min_samples_split` and will derive the optimal combination."
   ]
  },
  {
   "cell_type": "code",
   "execution_count": 23,
   "metadata": {
    "ExecuteTime": {
     "end_time": "2020-12-20T12:35:03.904801Z",
     "start_time": "2020-12-20T12:34:40.495868Z"
    }
   },
   "outputs": [
    {
     "data": {
      "text/plain": [
       "GridSearchCV(cv=TimeSeriesSplit(max_train_size=None, n_splits=10),\n",
       "             error_score=nan,\n",
       "             estimator=RandomForestRegressor(bootstrap=True, ccp_alpha=0.0,\n",
       "                                             criterion='mse', max_depth=None,\n",
       "                                             max_features='auto',\n",
       "                                             max_leaf_nodes=None,\n",
       "                                             max_samples=None,\n",
       "                                             min_impurity_decrease=0.0,\n",
       "                                             min_impurity_split=None,\n",
       "                                             min_samples_leaf=1,\n",
       "                                             min_samples_split=2,\n",
       "                                             min_weight_fraction_leaf=0.0,\n",
       "                                             n_estimators=100, n_jobs=None,\n",
       "                                             oob_score=False, random_state=7,\n",
       "                                             verbose=0, warm_start=False),\n",
       "             iid='deprecated', n_jobs=None,\n",
       "             param_grid=[{'max_depth': [8], 'min_samples_split': [8, 10],\n",
       "                          'n_estimators': [20, 30, 40, 50, 60, 55, 35]}],\n",
       "             pre_dispatch='2*n_jobs', refit=True, return_train_score=True,\n",
       "             scoring='neg_mean_squared_error', verbose=0)"
      ]
     },
     "execution_count": 23,
     "metadata": {},
     "output_type": "execute_result"
    }
   ],
   "source": [
    "rf = RandomForestRegressor(random_state=7)\n",
    "param_grid = [\n",
    "    {'n_estimators': [20, 30, 40, 50, 60, 55, 35], \n",
    "     'max_depth': [8],\n",
    "     'min_samples_split': [8, 10]\n",
    "    },\n",
    "]\n",
    "\n",
    "tscv = TimeSeriesSplit(n_splits=10)\n",
    "rf_grid_search = GridSearchCV(estimator=rf, cv=tscv,\n",
    "                        param_grid=param_grid,\n",
    "                        scoring='neg_mean_squared_error', \n",
    "                        return_train_score=True)\n",
    "\n",
    "start = time.time()\n",
    "rf_grid_search.fit(Xtrain, ytrain)"
   ]
  },
  {
   "cell_type": "markdown",
   "metadata": {},
   "source": [
    "Let's print the accuracy scores for every model evaluated during the grid search."
   ]
  },
  {
   "cell_type": "code",
   "execution_count": 24,
   "metadata": {
    "ExecuteTime": {
     "end_time": "2020-12-20T12:35:03.921077Z",
     "start_time": "2020-12-20T12:35:03.908776Z"
    }
   },
   "outputs": [
    {
     "name": "stdout",
     "output_type": "stream",
     "text": [
      "6.896, 6.089, 1.133 {'max_depth': 8, 'min_samples_split': 10, 'n_estimators': 55}\n",
      "6.896, 6.119, 1.127 {'max_depth': 8, 'min_samples_split': 10, 'n_estimators': 20}\n",
      "6.897, 6.088, 1.133 {'max_depth': 8, 'min_samples_split': 10, 'n_estimators': 60}\n",
      "6.898, 6.091, 1.132 {'max_depth': 8, 'min_samples_split': 10, 'n_estimators': 50}\n",
      "6.900, 6.054, 1.140 {'max_depth': 8, 'min_samples_split': 8, 'n_estimators': 55}\n",
      "6.900, 6.052, 1.140 {'max_depth': 8, 'min_samples_split': 8, 'n_estimators': 60}\n",
      "6.901, 6.105, 1.130 {'max_depth': 8, 'min_samples_split': 10, 'n_estimators': 35}\n",
      "6.901, 6.057, 1.139 {'max_depth': 8, 'min_samples_split': 8, 'n_estimators': 50}\n",
      "6.903, 6.098, 1.132 {'max_depth': 8, 'min_samples_split': 10, 'n_estimators': 40}\n",
      "6.905, 6.087, 1.134 {'max_depth': 8, 'min_samples_split': 8, 'n_estimators': 20}\n",
      "6.905, 6.070, 1.137 {'max_depth': 8, 'min_samples_split': 8, 'n_estimators': 35}\n",
      "6.906, 6.104, 1.131 {'max_depth': 8, 'min_samples_split': 10, 'n_estimators': 30}\n",
      "6.907, 6.064, 1.139 {'max_depth': 8, 'min_samples_split': 8, 'n_estimators': 40}\n",
      "6.911, 6.070, 1.139 {'max_depth': 8, 'min_samples_split': 8, 'n_estimators': 30}\n"
     ]
    }
   ],
   "source": [
    "val_scores = rf_grid_search.cv_results_[\"mean_test_score\"]\n",
    "train_scores = rf_grid_search.cv_results_[\"mean_train_score\"]\n",
    "params = [str(x) for x in rf_grid_search.cv_results_[\"params\"]]\n",
    "   \n",
    "for val_score, train_score, param in sorted(zip(val_scores, train_scores, params), reverse=True):\n",
    "    print(f\"{np.sqrt(-val_score):.3f}, {np.sqrt(-train_score):.3f}, {np.sqrt(-val_score)/np.sqrt(-train_score):.3f}\", param)"
   ]
  },
  {
   "cell_type": "markdown",
   "metadata": {},
   "source": [
    "Initial param_grid\n",
    "param_grid = [\n",
    "    {'n_estimators': [2, 4, 6, 8, 10], \n",
    "     'max_depth': [2, 4, 6, 8],\n",
    "     'min_samples_split': [ 2, 4, 6, 8]\n",
    "    },\n",
    "]\n",
    "\n",
    "best performing `'max_depth': 8, 'min_samples_split': 4, 'n_estimators': 10`\n",
    "\n",
    "after tuning `'max_depth': 8, 'min_samples_split': 10, 'n_estimators': 50`"
   ]
  },
  {
   "cell_type": "markdown",
   "metadata": {},
   "source": [
    "The best models with both DT and RF methods do not seem to overfit too much, and their cross-validation RMSEs are quite above the baseline."
   ]
  },
  {
   "cell_type": "markdown",
   "metadata": {},
   "source": [
    "## Evaluate the best DT and RF models on the test data\n",
    "\n",
    "**Decision tree**"
   ]
  },
  {
   "cell_type": "code",
   "execution_count": 25,
   "metadata": {
    "ExecuteTime": {
     "end_time": "2020-12-20T12:35:03.937750Z",
     "start_time": "2020-12-20T12:35:03.926072Z"
    }
   },
   "outputs": [
    {
     "data": {
      "text/plain": [
       "7.334111718843229"
      ]
     },
     "execution_count": 25,
     "metadata": {},
     "output_type": "execute_result"
    }
   ],
   "source": [
    "best_model = dtree_grid_search.best_estimator_\n",
    "\n",
    "yhat = best_model.predict(Xtest)\n",
    "\n",
    "dtree_mse = mean_squared_error(ytest, yhat)\n",
    "dtree_rmse = np.sqrt(dtree_mse)\n",
    "dtree_rmse"
   ]
  },
  {
   "cell_type": "markdown",
   "metadata": {
    "ExecuteTime": {
     "end_time": "2020-12-19T17:26:51.230043Z",
     "start_time": "2020-12-19T17:26:51.215901Z"
    }
   },
   "source": [
    "**Random forrest**"
   ]
  },
  {
   "cell_type": "code",
   "execution_count": 26,
   "metadata": {
    "ExecuteTime": {
     "end_time": "2020-12-20T12:35:03.967475Z",
     "start_time": "2020-12-20T12:35:03.941645Z"
    }
   },
   "outputs": [
    {
     "data": {
      "text/plain": [
       "7.174905073228041"
      ]
     },
     "execution_count": 26,
     "metadata": {},
     "output_type": "execute_result"
    }
   ],
   "source": [
    "best_model = rf_grid_search.best_estimator_\n",
    "\n",
    "yhat = best_model.predict(Xtest)\n",
    "\n",
    "rf_mse = mean_squared_error(ytest, yhat)\n",
    "rf_rmse = np.sqrt(rf_mse)\n",
    "rf_rmse"
   ]
  },
  {
   "cell_type": "markdown",
   "metadata": {},
   "source": [
    "## Forecasting results\n",
    "\n",
    "\n",
    "The best Decision Tree regression model's RMSE is **7.33** (reduced the RMSE rate by 30%)\n",
    "\n",
    "The RandomForest regression method's RMSE is **7.17** (reduced the RMSE rate by 32%)"
   ]
  },
  {
   "cell_type": "markdown",
   "metadata": {},
   "source": [
    "# Feature generation for regression"
   ]
  },
  {
   "cell_type": "markdown",
   "metadata": {},
   "source": [
    "Can the error be reduced by generation additional features and using regression instead of time series forecasting. "
   ]
  },
  {
   "cell_type": "markdown",
   "metadata": {},
   "source": [
    "## Distribution plots "
   ]
  },
  {
   "cell_type": "code",
   "execution_count": 29,
   "metadata": {
    "ExecuteTime": {
     "end_time": "2020-12-20T12:35:05.397684Z",
     "start_time": "2020-12-20T12:35:04.033043Z"
    }
   },
   "outputs": [
    {
     "name": "stdout",
     "output_type": "stream",
     "text": [
      "Day_of_Week\n"
     ]
    },
    {
     "data": {
      "image/png": "[encoded data removed]",
      "text/plain": [
       "<Figure size 576x360 with 1 Axes>"
      ]
     },
     "metadata": {
      "needs_background": "light"
     },
     "output_type": "display_data"
    },
    {
     "name": "stdout",
     "output_type": "stream",
     "text": [
      "\n",
      "Precipitation\n"
     ]
    },
    {
     "data": {
      "image/png": "[encoded data removed]",
      "text/plain": [
       "<Figure size 576x360 with 1 Axes>"
      ]
     },
     "metadata": {
      "needs_background": "light"
     },
     "output_type": "display_data"
    },
    {
     "name": "stdout",
     "output_type": "stream",
     "text": [
      "\n",
      "High_Winds\n"
     ]
    },
    {
     "data": {
      "image/png": "[encoded data removed]",
      "text/plain": [
       "<Figure size 576x360 with 1 Axes>"
      ]
     },
     "metadata": {
      "needs_background": "light"
     },
     "output_type": "display_data"
    },
    {
     "name": "stdout",
     "output_type": "stream",
     "text": [
      "\n",
      "Road_Surface_Conditions\n"
     ]
    },
    {
     "data": {
      "image/png": "[encoded data removed]",
      "text/plain": [
       "<Figure size 576x360 with 1 Axes>"
      ]
     },
     "metadata": {
      "needs_background": "light"
     },
     "output_type": "display_data"
    },
    {
     "name": "stdout",
     "output_type": "stream",
     "text": [
      "\n",
      "Light_Conditions\n"
     ]
    },
    {
     "data": {
      "image/png": "[encoded data removed]",
      "text/plain": [
       "<Figure size 576x360 with 1 Axes>"
      ]
     },
     "metadata": {
      "needs_background": "light"
     },
     "output_type": "display_data"
    },
    {
     "name": "stdout",
     "output_type": "stream",
     "text": [
      "\n",
      "Urban_or_Rural_Area\n"
     ]
    },
    {
     "data": {
      "image/png": "[encoded data removed]",
      "text/plain": [
       "<Figure size 576x360 with 1 Axes>"
      ]
     },
     "metadata": {
      "needs_background": "light"
     },
     "output_type": "display_data"
    },
    {
     "name": "stdout",
     "output_type": "stream",
     "text": [
      "\n"
     ]
    }
   ],
   "source": [
    "for i in df.columns[2:]:\n",
    "    print(i)\n",
    "    plt.figure(figsize=(8, 5))\n",
    "    ax = df[i].value_counts().plot(kind=\"barh\")\n",
    "    ax.invert_yaxis()\n",
    "    plt.show()\n",
    "    print()"
   ]
  },
  {
   "cell_type": "code",
   "execution_count": 30,
   "metadata": {
    "ExecuteTime": {
     "end_time": "2020-12-20T12:35:06.496169Z",
     "start_time": "2020-12-20T12:35:05.402338Z"
    }
   },
   "outputs": [
    {
     "data": {
      "image/png": "[encoded data removed]",
      "text/plain": [
       "<Figure size 1800x288 with 5 Axes>"
      ]
     },
     "metadata": {
      "needs_background": "light"
     },
     "output_type": "display_data"
    }
   ],
   "source": [
    "categorical_features = df[df.columns[1:]].select_dtypes(include=['object']).columns\n",
    "\n",
    "fig, ax = plt.subplots(1, len(categorical_features), figsize=(25, 4))\n",
    "for i, categorical_feature in enumerate(df[categorical_features]):\n",
    "    df[categorical_feature].value_counts().plot(kind=\"bar\", ax=ax[i]).set_title(categorical_feature)"
   ]
  },
  {
   "cell_type": "markdown",
   "metadata": {},
   "source": [
    "### Function TimeSplit\n",
    "It takes datetime column and derives following new features:\n",
    "* Hour (0-23)\n",
    "* dayofweek (1-7)\n",
    "* quarter (1-4)\n",
    "* month(1-12)\n",
    "* dayofyear (1-365)\n",
    "* dayofmonth(1-31)\n",
    "* weekofyear(1-52)\n",
    "\n",
    "Extracting year does not serve any purpose as data set contains only 2018."
   ]
  },
  {
   "cell_type": "code",
   "execution_count": 31,
   "metadata": {
    "ExecuteTime": {
     "end_time": "2020-12-20T12:35:06.511990Z",
     "start_time": "2020-12-20T12:35:06.501927Z"
    }
   },
   "outputs": [],
   "source": [
    "def TimeSplit(df, label=None):\n",
    "    \"\"\"\n",
    "    Creates time series features from datetime index\n",
    "    \"\"\"\n",
    "    df['datetime'] = pd.to_datetime(df['datetime'], format=\"%d/%m/%Y %H:%M\" , errors='coerce')\n",
    "    df['Hour'] = df['datetime'].dt.hour\n",
    "    #df['Dayofweek'] = df['datetime'].dt.dayofweek+1\n",
    "    df['Quarter'] = df['datetime'].dt.quarter\n",
    "    df['Month'] = df['datetime'].dt.month\n",
    "    #df['year'] = df['Date'].dt.year\n",
    "    #df['dayofyear'] = df['datetime'].dt.dayofyear\n",
    "    df['Dayofmonth'] = df['datetime'].dt.day\n",
    "    df['Weekofyear'] = df['datetime'].dt.weekofyear\n",
    "    \n",
    "    \n",
    "    X = df[['Hour','Quarter','Month','Dayofmonth','Weekofyear'\n",
    "            #,'year','dayofyear','Dayofweek'\n",
    "            ]]\n",
    "    return X"
   ]
  },
  {
   "cell_type": "code",
   "execution_count": 32,
   "metadata": {
    "ExecuteTime": {
     "end_time": "2020-12-20T12:35:06.632528Z",
     "start_time": "2020-12-20T12:35:06.516797Z"
    }
   },
   "outputs": [
    {
     "data": {
      "text/html": [
       "<div>\n",
       "<style scoped>\n",
       "    .dataframe tbody tr th:only-of-type {\n",
       "        vertical-align: middle;\n",
       "    }\n",
       "\n",
       "    .dataframe tbody tr th {\n",
       "        vertical-align: top;\n",
       "    }\n",
       "\n",
       "    .dataframe thead th {\n",
       "        text-align: right;\n",
       "    }\n",
       "</style>\n",
       "<table border=\"1\" class=\"dataframe\">\n",
       "  <thead>\n",
       "    <tr style=\"text-align: right;\">\n",
       "      <th></th>\n",
       "      <th>Hour</th>\n",
       "      <th>Quarter</th>\n",
       "      <th>Month</th>\n",
       "      <th>Dayofmonth</th>\n",
       "      <th>Weekofyear</th>\n",
       "    </tr>\n",
       "  </thead>\n",
       "  <tbody>\n",
       "    <tr>\n",
       "      <th>0</th>\n",
       "      <td>0</td>\n",
       "      <td>1</td>\n",
       "      <td>1</td>\n",
       "      <td>1</td>\n",
       "      <td>1</td>\n",
       "    </tr>\n",
       "    <tr>\n",
       "      <th>1</th>\n",
       "      <td>1</td>\n",
       "      <td>1</td>\n",
       "      <td>1</td>\n",
       "      <td>1</td>\n",
       "      <td>1</td>\n",
       "    </tr>\n",
       "    <tr>\n",
       "      <th>2</th>\n",
       "      <td>2</td>\n",
       "      <td>1</td>\n",
       "      <td>1</td>\n",
       "      <td>1</td>\n",
       "      <td>1</td>\n",
       "    </tr>\n",
       "    <tr>\n",
       "      <th>3</th>\n",
       "      <td>3</td>\n",
       "      <td>1</td>\n",
       "      <td>1</td>\n",
       "      <td>1</td>\n",
       "      <td>1</td>\n",
       "    </tr>\n",
       "    <tr>\n",
       "      <th>4</th>\n",
       "      <td>4</td>\n",
       "      <td>1</td>\n",
       "      <td>1</td>\n",
       "      <td>1</td>\n",
       "      <td>1</td>\n",
       "    </tr>\n",
       "    <tr>\n",
       "      <th>...</th>\n",
       "      <td>...</td>\n",
       "      <td>...</td>\n",
       "      <td>...</td>\n",
       "      <td>...</td>\n",
       "      <td>...</td>\n",
       "    </tr>\n",
       "    <tr>\n",
       "      <th>8535</th>\n",
       "      <td>19</td>\n",
       "      <td>4</td>\n",
       "      <td>12</td>\n",
       "      <td>31</td>\n",
       "      <td>1</td>\n",
       "    </tr>\n",
       "    <tr>\n",
       "      <th>8536</th>\n",
       "      <td>20</td>\n",
       "      <td>4</td>\n",
       "      <td>12</td>\n",
       "      <td>31</td>\n",
       "      <td>1</td>\n",
       "    </tr>\n",
       "    <tr>\n",
       "      <th>8537</th>\n",
       "      <td>21</td>\n",
       "      <td>4</td>\n",
       "      <td>12</td>\n",
       "      <td>31</td>\n",
       "      <td>1</td>\n",
       "    </tr>\n",
       "    <tr>\n",
       "      <th>8538</th>\n",
       "      <td>22</td>\n",
       "      <td>4</td>\n",
       "      <td>12</td>\n",
       "      <td>31</td>\n",
       "      <td>1</td>\n",
       "    </tr>\n",
       "    <tr>\n",
       "      <th>8539</th>\n",
       "      <td>23</td>\n",
       "      <td>4</td>\n",
       "      <td>12</td>\n",
       "      <td>31</td>\n",
       "      <td>1</td>\n",
       "    </tr>\n",
       "  </tbody>\n",
       "</table>\n",
       "<p>8438 rows × 5 columns</p>\n",
       "</div>"
      ],
      "text/plain": [
       "      Hour  Quarter  Month  Dayofmonth  Weekofyear\n",
       "0        0        1      1           1           1\n",
       "1        1        1      1           1           1\n",
       "2        2        1      1           1           1\n",
       "3        3        1      1           1           1\n",
       "4        4        1      1           1           1\n",
       "...    ...      ...    ...         ...         ...\n",
       "8535    19        4     12          31           1\n",
       "8536    20        4     12          31           1\n",
       "8537    21        4     12          31           1\n",
       "8538    22        4     12          31           1\n",
       "8539    23        4     12          31           1\n",
       "\n",
       "[8438 rows x 5 columns]"
      ]
     },
     "execution_count": 32,
     "metadata": {},
     "output_type": "execute_result"
    }
   ],
   "source": [
    "TimeSplit(df)"
   ]
  },
  {
   "cell_type": "code",
   "execution_count": null,
   "metadata": {
    "ExecuteTime": {
     "end_time": "2020-12-20T12:36:52.495377Z",
     "start_time": "2020-12-20T12:36:17.974Z"
    }
   },
   "outputs": [],
   "source": [
    "df.sample(5)"
   ]
  },
  {
   "cell_type": "markdown",
   "metadata": {},
   "source": [
    "### Function TimeOfDay \n",
    "\n",
    "It takes hour derived with the previous function and splits in 5 categories:\n",
    "* morning rush (5-10)\n",
    "* office hours (10-15)\n",
    "* afternoon rush (15-19)\n",
    "* evening (19-23)\n",
    "* night (23-5)"
   ]
  },
  {
   "cell_type": "code",
   "execution_count": 34,
   "metadata": {
    "ExecuteTime": {
     "end_time": "2020-12-20T12:35:06.688774Z",
     "start_time": "2020-12-20T12:35:06.680547Z"
    }
   },
   "outputs": [],
   "source": [
    "def TimeOfDay(hour):\n",
    "    if hour >= 5 and hour < 10:\n",
    "        return \"Morning rush (5-10)\"\n",
    "    elif hour >= 10 and hour < 15:\n",
    "        return \"Office hours (10-15)\"\n",
    "    elif hour >= 15 and hour < 19:\n",
    "        return \"Afternoon rush (15-19)\"\n",
    "    elif hour >= 19 and hour < 23:\n",
    "        return \"Evening (19-23)\"\n",
    "    else:\n",
    "        return \"Night (23-5)\""
   ]
  },
  {
   "cell_type": "code",
   "execution_count": 35,
   "metadata": {
    "ExecuteTime": {
     "end_time": "2020-12-20T12:35:06.708129Z",
     "start_time": "2020-12-20T12:35:06.693316Z"
    }
   },
   "outputs": [],
   "source": [
    "df['Time_of_Day'] = df['Hour'].apply(TimeOfDay)"
   ]
  },
  {
   "cell_type": "markdown",
   "metadata": {},
   "source": [
    "Package holidays are imported and respective holidays for England in 2018 is appended to dataframe bank_holidays. \n",
    "United_Kingdom contains holidays for Scotland, Wales and Ireland, which are not Bank holidays across all United Kingdom. "
   ]
  },
  {
   "cell_type": "code",
   "execution_count": 36,
   "metadata": {
    "ExecuteTime": {
     "end_time": "2020-12-20T12:35:07.040118Z",
     "start_time": "2020-12-20T12:35:06.711067Z"
    }
   },
   "outputs": [],
   "source": [
    "import holidays \n",
    "uk_holidays = holidays.UnitedKingdom() \n",
    "bank_holidays = []\n",
    "\n",
    "for ptr in holidays.England(years = 2018).items(): \n",
    "    bank_holidays.append(str(ptr[0]))"
   ]
  },
  {
   "cell_type": "markdown",
   "metadata": {},
   "source": [
    "### Function Is_it_weekend \n",
    "Returning 1 if it is Sunday, Saturday or Bank Holiday in England. Assuming that driving pattern would change on those days as there is no commute to school/work for majority."
   ]
  },
  {
   "cell_type": "code",
   "execution_count": 37,
   "metadata": {
    "ExecuteTime": {
     "end_time": "2020-12-20T12:35:07.052774Z",
     "start_time": "2020-12-20T12:35:07.043745Z"
    }
   },
   "outputs": [],
   "source": [
    "def is_it_weekend(x):\n",
    "    m = x.normalize()\n",
    "    if m.dayofweek+1 == 6:\n",
    "        return 1\n",
    "    elif m.dayofweek+1 == 7:\n",
    "        return 1\n",
    "    elif str(m.date()) in bank_holidays:\n",
    "        return 1\n",
    "    else:\n",
    "        return 0"
   ]
  },
  {
   "cell_type": "code",
   "execution_count": 38,
   "metadata": {
    "ExecuteTime": {
     "end_time": "2020-12-20T12:35:07.338202Z",
     "start_time": "2020-12-20T12:35:07.056840Z"
    }
   },
   "outputs": [],
   "source": [
    "df['Is_weekend'] = df.datetime.apply(is_it_weekend)"
   ]
  },
  {
   "cell_type": "code",
   "execution_count": 39,
   "metadata": {
    "ExecuteTime": {
     "end_time": "2020-12-20T12:35:07.348579Z",
     "start_time": "2020-12-20T12:35:07.341531Z"
    }
   },
   "outputs": [],
   "source": [
    "#Function to change True/False to 1/0\n",
    "\n",
    "def Liking(x):\n",
    "    if str.lower(str(x)) == \"true\":\n",
    "        return 1\n",
    "    else:\n",
    "        return 0 "
   ]
  },
  {
   "cell_type": "code",
   "execution_count": 40,
   "metadata": {
    "ExecuteTime": {
     "end_time": "2020-12-20T12:35:07.370122Z",
     "start_time": "2020-12-20T12:35:07.353302Z"
    }
   },
   "outputs": [],
   "source": [
    "df.High_Winds = df.High_Winds.apply(Liking)"
   ]
  },
  {
   "cell_type": "code",
   "execution_count": 41,
   "metadata": {
    "ExecuteTime": {
     "end_time": "2020-12-20T12:35:07.404762Z",
     "start_time": "2020-12-20T12:35:07.374457Z"
    }
   },
   "outputs": [
    {
     "data": {
      "text/html": [
       "<div>\n",
       "<style scoped>\n",
       "    .dataframe tbody tr th:only-of-type {\n",
       "        vertical-align: middle;\n",
       "    }\n",
       "\n",
       "    .dataframe tbody tr th {\n",
       "        vertical-align: top;\n",
       "    }\n",
       "\n",
       "    .dataframe thead th {\n",
       "        text-align: right;\n",
       "    }\n",
       "</style>\n",
       "<table border=\"1\" class=\"dataframe\">\n",
       "  <thead>\n",
       "    <tr style=\"text-align: right;\">\n",
       "      <th></th>\n",
       "      <th>datetime</th>\n",
       "      <th>Count</th>\n",
       "      <th>Day_of_Week</th>\n",
       "      <th>Precipitation</th>\n",
       "      <th>High_Winds</th>\n",
       "      <th>Road_Surface_Conditions</th>\n",
       "      <th>Light_Conditions</th>\n",
       "      <th>Urban_or_Rural_Area</th>\n",
       "      <th>Hour</th>\n",
       "      <th>Quarter</th>\n",
       "      <th>Month</th>\n",
       "      <th>Dayofmonth</th>\n",
       "      <th>Weekofyear</th>\n",
       "      <th>Time_of_Day</th>\n",
       "      <th>Is_weekend</th>\n",
       "    </tr>\n",
       "  </thead>\n",
       "  <tbody>\n",
       "    <tr>\n",
       "      <th>8140</th>\n",
       "      <td>2018-12-15 00:00:00</td>\n",
       "      <td>10</td>\n",
       "      <td>Saturday</td>\n",
       "      <td>Fine</td>\n",
       "      <td>0</td>\n",
       "      <td>Dry</td>\n",
       "      <td>Darkness - lights lit</td>\n",
       "      <td>Urban</td>\n",
       "      <td>0</td>\n",
       "      <td>4</td>\n",
       "      <td>12</td>\n",
       "      <td>15</td>\n",
       "      <td>50</td>\n",
       "      <td>Night (23-5)</td>\n",
       "      <td>1</td>\n",
       "    </tr>\n",
       "    <tr>\n",
       "      <th>7339</th>\n",
       "      <td>2018-11-10 20:00:00</td>\n",
       "      <td>17</td>\n",
       "      <td>Saturday</td>\n",
       "      <td>Raining</td>\n",
       "      <td>0</td>\n",
       "      <td>Wet or damp</td>\n",
       "      <td>Darkness - lights lit</td>\n",
       "      <td>Urban</td>\n",
       "      <td>20</td>\n",
       "      <td>4</td>\n",
       "      <td>11</td>\n",
       "      <td>10</td>\n",
       "      <td>45</td>\n",
       "      <td>Evening (19-23)</td>\n",
       "      <td>1</td>\n",
       "    </tr>\n",
       "    <tr>\n",
       "      <th>6615</th>\n",
       "      <td>2018-10-11 04:00:00</td>\n",
       "      <td>3</td>\n",
       "      <td>Thursday</td>\n",
       "      <td>Fine</td>\n",
       "      <td>0</td>\n",
       "      <td>Wet or damp</td>\n",
       "      <td>Darkness - no lighting</td>\n",
       "      <td>Rural</td>\n",
       "      <td>4</td>\n",
       "      <td>4</td>\n",
       "      <td>10</td>\n",
       "      <td>11</td>\n",
       "      <td>41</td>\n",
       "      <td>Night (23-5)</td>\n",
       "      <td>0</td>\n",
       "    </tr>\n",
       "    <tr>\n",
       "      <th>4835</th>\n",
       "      <td>2018-07-27 05:00:00</td>\n",
       "      <td>2</td>\n",
       "      <td>Friday</td>\n",
       "      <td>Fine</td>\n",
       "      <td>0</td>\n",
       "      <td>Wet or damp</td>\n",
       "      <td>Daylight</td>\n",
       "      <td>Rural</td>\n",
       "      <td>5</td>\n",
       "      <td>3</td>\n",
       "      <td>7</td>\n",
       "      <td>27</td>\n",
       "      <td>30</td>\n",
       "      <td>Morning rush (5-10)</td>\n",
       "      <td>0</td>\n",
       "    </tr>\n",
       "    <tr>\n",
       "      <th>87</th>\n",
       "      <td>2018-01-04 18:00:00</td>\n",
       "      <td>17</td>\n",
       "      <td>Thursday</td>\n",
       "      <td>Fine</td>\n",
       "      <td>0</td>\n",
       "      <td>Wet or damp</td>\n",
       "      <td>Darkness - lights lit</td>\n",
       "      <td>Urban</td>\n",
       "      <td>18</td>\n",
       "      <td>1</td>\n",
       "      <td>1</td>\n",
       "      <td>4</td>\n",
       "      <td>1</td>\n",
       "      <td>Afternoon rush (15-19)</td>\n",
       "      <td>0</td>\n",
       "    </tr>\n",
       "  </tbody>\n",
       "</table>\n",
       "</div>"
      ],
      "text/plain": [
       "                datetime  Count Day_of_Week Precipitation  High_Winds  \\\n",
       "8140 2018-12-15 00:00:00     10    Saturday          Fine           0   \n",
       "7339 2018-11-10 20:00:00     17    Saturday       Raining           0   \n",
       "6615 2018-10-11 04:00:00      3    Thursday          Fine           0   \n",
       "4835 2018-07-27 05:00:00      2      Friday          Fine           0   \n",
       "87   2018-01-04 18:00:00     17    Thursday          Fine           0   \n",
       "\n",
       "     Road_Surface_Conditions        Light_Conditions Urban_or_Rural_Area  \\\n",
       "8140                     Dry   Darkness - lights lit               Urban   \n",
       "7339             Wet or damp   Darkness - lights lit               Urban   \n",
       "6615             Wet or damp  Darkness - no lighting               Rural   \n",
       "4835             Wet or damp                Daylight               Rural   \n",
       "87               Wet or damp   Darkness - lights lit               Urban   \n",
       "\n",
       "      Hour  Quarter  Month  Dayofmonth  Weekofyear             Time_of_Day  \\\n",
       "8140     0        4     12          15          50            Night (23-5)   \n",
       "7339    20        4     11          10          45         Evening (19-23)   \n",
       "6615     4        4     10          11          41            Night (23-5)   \n",
       "4835     5        3      7          27          30     Morning rush (5-10)   \n",
       "87      18        1      1           4           1  Afternoon rush (15-19)   \n",
       "\n",
       "      Is_weekend  \n",
       "8140           1  \n",
       "7339           1  \n",
       "6615           0  \n",
       "4835           0  \n",
       "87             0  "
      ]
     },
     "execution_count": 41,
     "metadata": {},
     "output_type": "execute_result"
    }
   ],
   "source": [
    "df.sample(5)"
   ]
  },
  {
   "cell_type": "markdown",
   "metadata": {},
   "source": [
    "Create a new feature \"Urban\" based on Urban_or_Rural_Area. Returns 1 if Urban and 0 if Rural. \n",
    "Deletes column Urban_or_Rural_Area.\n",
    "This is done so column name does not become extremely long and confusing. One hot encoding would create column named \"Urban_or_Rural_Area_Urban\". \n",
    "In case of using SHAP to explain machine learning model, approximately one third of variable name would be displayed, which in result would not aid in explaining black box of machine learning. "
   ]
  },
  {
   "cell_type": "code",
   "execution_count": 42,
   "metadata": {
    "ExecuteTime": {
     "end_time": "2020-12-20T12:35:07.422916Z",
     "start_time": "2020-12-20T12:35:07.410575Z"
    }
   },
   "outputs": [],
   "source": [
    "df['Urban']= np.where(df['Urban_or_Rural_Area'] == \"Urban\" , 1, 0)\n",
    "del df['Urban_or_Rural_Area']"
   ]
  },
  {
   "cell_type": "code",
   "execution_count": 43,
   "metadata": {
    "ExecuteTime": {
     "end_time": "2020-12-20T12:35:07.492823Z",
     "start_time": "2020-12-20T12:35:07.436074Z"
    }
   },
   "outputs": [
    {
     "data": {
      "text/html": [
       "<div>\n",
       "<style scoped>\n",
       "    .dataframe tbody tr th:only-of-type {\n",
       "        vertical-align: middle;\n",
       "    }\n",
       "\n",
       "    .dataframe tbody tr th {\n",
       "        vertical-align: top;\n",
       "    }\n",
       "\n",
       "    .dataframe thead th {\n",
       "        text-align: right;\n",
       "    }\n",
       "</style>\n",
       "<table border=\"1\" class=\"dataframe\">\n",
       "  <thead>\n",
       "    <tr style=\"text-align: right;\">\n",
       "      <th></th>\n",
       "      <th>Count</th>\n",
       "      <th>High_Winds</th>\n",
       "      <th>Hour</th>\n",
       "      <th>Quarter</th>\n",
       "      <th>Month</th>\n",
       "      <th>Dayofmonth</th>\n",
       "      <th>Weekofyear</th>\n",
       "      <th>Is_weekend</th>\n",
       "      <th>Urban</th>\n",
       "    </tr>\n",
       "  </thead>\n",
       "  <tbody>\n",
       "    <tr>\n",
       "      <th>count</th>\n",
       "      <td>8438.000000</td>\n",
       "      <td>8438.000000</td>\n",
       "      <td>8438.000000</td>\n",
       "      <td>8438.000000</td>\n",
       "      <td>8438.000000</td>\n",
       "      <td>8438.000000</td>\n",
       "      <td>8438.000000</td>\n",
       "      <td>8438.000000</td>\n",
       "      <td>8438.000000</td>\n",
       "    </tr>\n",
       "    <tr>\n",
       "      <th>mean</th>\n",
       "      <td>14.505689</td>\n",
       "      <td>0.008177</td>\n",
       "      <td>11.795094</td>\n",
       "      <td>2.518369</td>\n",
       "      <td>6.547997</td>\n",
       "      <td>15.738327</td>\n",
       "      <td>26.536857</td>\n",
       "      <td>0.313344</td>\n",
       "      <td>0.807300</td>\n",
       "    </tr>\n",
       "    <tr>\n",
       "      <th>std</th>\n",
       "      <td>10.455079</td>\n",
       "      <td>0.090063</td>\n",
       "      <td>6.833816</td>\n",
       "      <td>1.113807</td>\n",
       "      <td>3.437139</td>\n",
       "      <td>8.801340</td>\n",
       "      <td>15.000976</td>\n",
       "      <td>0.463881</td>\n",
       "      <td>0.394443</td>\n",
       "    </tr>\n",
       "    <tr>\n",
       "      <th>min</th>\n",
       "      <td>1.000000</td>\n",
       "      <td>0.000000</td>\n",
       "      <td>0.000000</td>\n",
       "      <td>1.000000</td>\n",
       "      <td>1.000000</td>\n",
       "      <td>1.000000</td>\n",
       "      <td>1.000000</td>\n",
       "      <td>0.000000</td>\n",
       "      <td>0.000000</td>\n",
       "    </tr>\n",
       "    <tr>\n",
       "      <th>25%</th>\n",
       "      <td>6.000000</td>\n",
       "      <td>0.000000</td>\n",
       "      <td>6.000000</td>\n",
       "      <td>2.000000</td>\n",
       "      <td>4.000000</td>\n",
       "      <td>8.000000</td>\n",
       "      <td>14.000000</td>\n",
       "      <td>0.000000</td>\n",
       "      <td>1.000000</td>\n",
       "    </tr>\n",
       "    <tr>\n",
       "      <th>50%</th>\n",
       "      <td>13.000000</td>\n",
       "      <td>0.000000</td>\n",
       "      <td>12.000000</td>\n",
       "      <td>3.000000</td>\n",
       "      <td>7.000000</td>\n",
       "      <td>16.000000</td>\n",
       "      <td>27.000000</td>\n",
       "      <td>0.000000</td>\n",
       "      <td>1.000000</td>\n",
       "    </tr>\n",
       "    <tr>\n",
       "      <th>75%</th>\n",
       "      <td>21.000000</td>\n",
       "      <td>0.000000</td>\n",
       "      <td>18.000000</td>\n",
       "      <td>4.000000</td>\n",
       "      <td>10.000000</td>\n",
       "      <td>23.000000</td>\n",
       "      <td>40.000000</td>\n",
       "      <td>1.000000</td>\n",
       "      <td>1.000000</td>\n",
       "    </tr>\n",
       "    <tr>\n",
       "      <th>max</th>\n",
       "      <td>62.000000</td>\n",
       "      <td>1.000000</td>\n",
       "      <td>23.000000</td>\n",
       "      <td>4.000000</td>\n",
       "      <td>12.000000</td>\n",
       "      <td>31.000000</td>\n",
       "      <td>52.000000</td>\n",
       "      <td>1.000000</td>\n",
       "      <td>1.000000</td>\n",
       "    </tr>\n",
       "  </tbody>\n",
       "</table>\n",
       "</div>"
      ],
      "text/plain": [
       "             Count   High_Winds         Hour      Quarter        Month  \\\n",
       "count  8438.000000  8438.000000  8438.000000  8438.000000  8438.000000   \n",
       "mean     14.505689     0.008177    11.795094     2.518369     6.547997   \n",
       "std      10.455079     0.090063     6.833816     1.113807     3.437139   \n",
       "min       1.000000     0.000000     0.000000     1.000000     1.000000   \n",
       "25%       6.000000     0.000000     6.000000     2.000000     4.000000   \n",
       "50%      13.000000     0.000000    12.000000     3.000000     7.000000   \n",
       "75%      21.000000     0.000000    18.000000     4.000000    10.000000   \n",
       "max      62.000000     1.000000    23.000000     4.000000    12.000000   \n",
       "\n",
       "        Dayofmonth   Weekofyear   Is_weekend        Urban  \n",
       "count  8438.000000  8438.000000  8438.000000  8438.000000  \n",
       "mean     15.738327    26.536857     0.313344     0.807300  \n",
       "std       8.801340    15.000976     0.463881     0.394443  \n",
       "min       1.000000     1.000000     0.000000     0.000000  \n",
       "25%       8.000000    14.000000     0.000000     1.000000  \n",
       "50%      16.000000    27.000000     0.000000     1.000000  \n",
       "75%      23.000000    40.000000     1.000000     1.000000  \n",
       "max      31.000000    52.000000     1.000000     1.000000  "
      ]
     },
     "execution_count": 43,
     "metadata": {},
     "output_type": "execute_result"
    }
   ],
   "source": [
    "df.describe()"
   ]
  },
  {
   "cell_type": "markdown",
   "metadata": {},
   "source": [
    "## Create  dummies "
   ]
  },
  {
   "cell_type": "code",
   "execution_count": 44,
   "metadata": {
    "ExecuteTime": {
     "end_time": "2020-12-20T12:35:07.505813Z",
     "start_time": "2020-12-20T12:35:07.497138Z"
    }
   },
   "outputs": [
    {
     "data": {
      "text/plain": [
       "Index(['datetime', 'Count', 'Day_of_Week', 'Precipitation', 'High_Winds',\n",
       "       'Road_Surface_Conditions', 'Light_Conditions', 'Hour', 'Quarter',\n",
       "       'Month', 'Dayofmonth', 'Weekofyear', 'Time_of_Day', 'Is_weekend',\n",
       "       'Urban'],\n",
       "      dtype='object')"
      ]
     },
     "execution_count": 44,
     "metadata": {},
     "output_type": "execute_result"
    }
   ],
   "source": [
    "df.columns"
   ]
  },
  {
   "cell_type": "code",
   "execution_count": 45,
   "metadata": {
    "ExecuteTime": {
     "end_time": "2020-12-20T12:35:07.537378Z",
     "start_time": "2020-12-20T12:35:07.510127Z"
    }
   },
   "outputs": [],
   "source": [
    "df2 = pd.get_dummies(df, drop_first=True)"
   ]
  },
  {
   "cell_type": "code",
   "execution_count": 46,
   "metadata": {
    "ExecuteTime": {
     "end_time": "2020-12-20T12:35:07.572337Z",
     "start_time": "2020-12-20T12:35:07.540509Z"
    }
   },
   "outputs": [
    {
     "data": {
      "text/html": [
       "<div>\n",
       "<style scoped>\n",
       "    .dataframe tbody tr th:only-of-type {\n",
       "        vertical-align: middle;\n",
       "    }\n",
       "\n",
       "    .dataframe tbody tr th {\n",
       "        vertical-align: top;\n",
       "    }\n",
       "\n",
       "    .dataframe thead th {\n",
       "        text-align: right;\n",
       "    }\n",
       "</style>\n",
       "<table border=\"1\" class=\"dataframe\">\n",
       "  <thead>\n",
       "    <tr style=\"text-align: right;\">\n",
       "      <th></th>\n",
       "      <th>4696</th>\n",
       "      <th>2565</th>\n",
       "      <th>4310</th>\n",
       "      <th>13</th>\n",
       "      <th>4378</th>\n",
       "    </tr>\n",
       "  </thead>\n",
       "  <tbody>\n",
       "    <tr>\n",
       "      <th>datetime</th>\n",
       "      <td>2018-07-21 08:00:00</td>\n",
       "      <td>2018-04-21 10:00:00</td>\n",
       "      <td>2018-07-04 21:00:00</td>\n",
       "      <td>2018-01-01 13:00:00</td>\n",
       "      <td>2018-07-07 17:00:00</td>\n",
       "    </tr>\n",
       "    <tr>\n",
       "      <th>Count</th>\n",
       "      <td>13</td>\n",
       "      <td>23</td>\n",
       "      <td>7</td>\n",
       "      <td>13</td>\n",
       "      <td>28</td>\n",
       "    </tr>\n",
       "    <tr>\n",
       "      <th>High_Winds</th>\n",
       "      <td>0</td>\n",
       "      <td>0</td>\n",
       "      <td>0</td>\n",
       "      <td>0</td>\n",
       "      <td>0</td>\n",
       "    </tr>\n",
       "    <tr>\n",
       "      <th>Hour</th>\n",
       "      <td>8</td>\n",
       "      <td>10</td>\n",
       "      <td>21</td>\n",
       "      <td>13</td>\n",
       "      <td>17</td>\n",
       "    </tr>\n",
       "    <tr>\n",
       "      <th>Quarter</th>\n",
       "      <td>3</td>\n",
       "      <td>2</td>\n",
       "      <td>3</td>\n",
       "      <td>1</td>\n",
       "      <td>3</td>\n",
       "    </tr>\n",
       "    <tr>\n",
       "      <th>Month</th>\n",
       "      <td>7</td>\n",
       "      <td>4</td>\n",
       "      <td>7</td>\n",
       "      <td>1</td>\n",
       "      <td>7</td>\n",
       "    </tr>\n",
       "    <tr>\n",
       "      <th>Dayofmonth</th>\n",
       "      <td>21</td>\n",
       "      <td>21</td>\n",
       "      <td>4</td>\n",
       "      <td>1</td>\n",
       "      <td>7</td>\n",
       "    </tr>\n",
       "    <tr>\n",
       "      <th>Weekofyear</th>\n",
       "      <td>29</td>\n",
       "      <td>16</td>\n",
       "      <td>27</td>\n",
       "      <td>1</td>\n",
       "      <td>27</td>\n",
       "    </tr>\n",
       "    <tr>\n",
       "      <th>Is_weekend</th>\n",
       "      <td>1</td>\n",
       "      <td>1</td>\n",
       "      <td>0</td>\n",
       "      <td>1</td>\n",
       "      <td>1</td>\n",
       "    </tr>\n",
       "    <tr>\n",
       "      <th>Urban</th>\n",
       "      <td>0</td>\n",
       "      <td>1</td>\n",
       "      <td>1</td>\n",
       "      <td>1</td>\n",
       "      <td>1</td>\n",
       "    </tr>\n",
       "    <tr>\n",
       "      <th>Day_of_Week_Monday</th>\n",
       "      <td>0</td>\n",
       "      <td>0</td>\n",
       "      <td>0</td>\n",
       "      <td>1</td>\n",
       "      <td>0</td>\n",
       "    </tr>\n",
       "    <tr>\n",
       "      <th>Day_of_Week_Saturday</th>\n",
       "      <td>1</td>\n",
       "      <td>1</td>\n",
       "      <td>0</td>\n",
       "      <td>0</td>\n",
       "      <td>1</td>\n",
       "    </tr>\n",
       "    <tr>\n",
       "      <th>Day_of_Week_Sunday</th>\n",
       "      <td>0</td>\n",
       "      <td>0</td>\n",
       "      <td>0</td>\n",
       "      <td>0</td>\n",
       "      <td>0</td>\n",
       "    </tr>\n",
       "    <tr>\n",
       "      <th>Day_of_Week_Thursday</th>\n",
       "      <td>0</td>\n",
       "      <td>0</td>\n",
       "      <td>0</td>\n",
       "      <td>0</td>\n",
       "      <td>0</td>\n",
       "    </tr>\n",
       "    <tr>\n",
       "      <th>Day_of_Week_Tuesday</th>\n",
       "      <td>0</td>\n",
       "      <td>0</td>\n",
       "      <td>0</td>\n",
       "      <td>0</td>\n",
       "      <td>0</td>\n",
       "    </tr>\n",
       "    <tr>\n",
       "      <th>Day_of_Week_Wednesday</th>\n",
       "      <td>0</td>\n",
       "      <td>0</td>\n",
       "      <td>1</td>\n",
       "      <td>0</td>\n",
       "      <td>0</td>\n",
       "    </tr>\n",
       "    <tr>\n",
       "      <th>Precipitation_Fog or mist</th>\n",
       "      <td>0</td>\n",
       "      <td>0</td>\n",
       "      <td>0</td>\n",
       "      <td>0</td>\n",
       "      <td>0</td>\n",
       "    </tr>\n",
       "    <tr>\n",
       "      <th>Precipitation_Raining</th>\n",
       "      <td>0</td>\n",
       "      <td>0</td>\n",
       "      <td>0</td>\n",
       "      <td>0</td>\n",
       "      <td>0</td>\n",
       "    </tr>\n",
       "    <tr>\n",
       "      <th>Precipitation_Snowing</th>\n",
       "      <td>0</td>\n",
       "      <td>0</td>\n",
       "      <td>0</td>\n",
       "      <td>0</td>\n",
       "      <td>0</td>\n",
       "    </tr>\n",
       "    <tr>\n",
       "      <th>Road_Surface_Conditions_Flood over 3cm. deep</th>\n",
       "      <td>0</td>\n",
       "      <td>0</td>\n",
       "      <td>0</td>\n",
       "      <td>0</td>\n",
       "      <td>0</td>\n",
       "    </tr>\n",
       "    <tr>\n",
       "      <th>Road_Surface_Conditions_Frost or ice</th>\n",
       "      <td>0</td>\n",
       "      <td>0</td>\n",
       "      <td>0</td>\n",
       "      <td>0</td>\n",
       "      <td>0</td>\n",
       "    </tr>\n",
       "    <tr>\n",
       "      <th>Road_Surface_Conditions_Snow</th>\n",
       "      <td>0</td>\n",
       "      <td>0</td>\n",
       "      <td>0</td>\n",
       "      <td>0</td>\n",
       "      <td>0</td>\n",
       "    </tr>\n",
       "    <tr>\n",
       "      <th>Road_Surface_Conditions_Wet or damp</th>\n",
       "      <td>0</td>\n",
       "      <td>0</td>\n",
       "      <td>0</td>\n",
       "      <td>0</td>\n",
       "      <td>0</td>\n",
       "    </tr>\n",
       "    <tr>\n",
       "      <th>Light_Conditions_Darkness - lights lit</th>\n",
       "      <td>0</td>\n",
       "      <td>0</td>\n",
       "      <td>0</td>\n",
       "      <td>0</td>\n",
       "      <td>0</td>\n",
       "    </tr>\n",
       "    <tr>\n",
       "      <th>Light_Conditions_Darkness - lights unlit</th>\n",
       "      <td>0</td>\n",
       "      <td>0</td>\n",
       "      <td>0</td>\n",
       "      <td>0</td>\n",
       "      <td>0</td>\n",
       "    </tr>\n",
       "    <tr>\n",
       "      <th>Light_Conditions_Darkness - no lighting</th>\n",
       "      <td>0</td>\n",
       "      <td>0</td>\n",
       "      <td>0</td>\n",
       "      <td>0</td>\n",
       "      <td>0</td>\n",
       "    </tr>\n",
       "    <tr>\n",
       "      <th>Light_Conditions_Daylight</th>\n",
       "      <td>1</td>\n",
       "      <td>1</td>\n",
       "      <td>1</td>\n",
       "      <td>1</td>\n",
       "      <td>1</td>\n",
       "    </tr>\n",
       "    <tr>\n",
       "      <th>Time_of_Day_Evening (19-23)</th>\n",
       "      <td>0</td>\n",
       "      <td>0</td>\n",
       "      <td>1</td>\n",
       "      <td>0</td>\n",
       "      <td>0</td>\n",
       "    </tr>\n",
       "    <tr>\n",
       "      <th>Time_of_Day_Morning rush (5-10)</th>\n",
       "      <td>1</td>\n",
       "      <td>0</td>\n",
       "      <td>0</td>\n",
       "      <td>0</td>\n",
       "      <td>0</td>\n",
       "    </tr>\n",
       "    <tr>\n",
       "      <th>Time_of_Day_Night (23-5)</th>\n",
       "      <td>0</td>\n",
       "      <td>0</td>\n",
       "      <td>0</td>\n",
       "      <td>0</td>\n",
       "      <td>0</td>\n",
       "    </tr>\n",
       "    <tr>\n",
       "      <th>Time_of_Day_Office hours (10-15)</th>\n",
       "      <td>0</td>\n",
       "      <td>1</td>\n",
       "      <td>0</td>\n",
       "      <td>1</td>\n",
       "      <td>0</td>\n",
       "    </tr>\n",
       "  </tbody>\n",
       "</table>\n",
       "</div>"
      ],
      "text/plain": [
       "                                                             4696  \\\n",
       "datetime                                      2018-07-21 08:00:00   \n",
       "Count                                                          13   \n",
       "High_Winds                                                      0   \n",
       "Hour                                                            8   \n",
       "Quarter                                                         3   \n",
       "Month                                                           7   \n",
       "Dayofmonth                                                     21   \n",
       "Weekofyear                                                     29   \n",
       "Is_weekend                                                      1   \n",
       "Urban                                                           0   \n",
       "Day_of_Week_Monday                                              0   \n",
       "Day_of_Week_Saturday                                            1   \n",
       "Day_of_Week_Sunday                                              0   \n",
       "Day_of_Week_Thursday                                            0   \n",
       "Day_of_Week_Tuesday                                             0   \n",
       "Day_of_Week_Wednesday                                           0   \n",
       "Precipitation_Fog or mist                                       0   \n",
       "Precipitation_Raining                                           0   \n",
       "Precipitation_Snowing                                           0   \n",
       "Road_Surface_Conditions_Flood over 3cm. deep                    0   \n",
       "Road_Surface_Conditions_Frost or ice                            0   \n",
       "Road_Surface_Conditions_Snow                                    0   \n",
       "Road_Surface_Conditions_Wet or damp                             0   \n",
       "Light_Conditions_Darkness - lights lit                          0   \n",
       "Light_Conditions_Darkness - lights unlit                        0   \n",
       "Light_Conditions_Darkness - no lighting                         0   \n",
       "Light_Conditions_Daylight                                       1   \n",
       "Time_of_Day_Evening (19-23)                                     0   \n",
       "Time_of_Day_Morning rush (5-10)                                 1   \n",
       "Time_of_Day_Night (23-5)                                        0   \n",
       "Time_of_Day_Office hours (10-15)                                0   \n",
       "\n",
       "                                                             2565  \\\n",
       "datetime                                      2018-04-21 10:00:00   \n",
       "Count                                                          23   \n",
       "High_Winds                                                      0   \n",
       "Hour                                                           10   \n",
       "Quarter                                                         2   \n",
       "Month                                                           4   \n",
       "Dayofmonth                                                     21   \n",
       "Weekofyear                                                     16   \n",
       "Is_weekend                                                      1   \n",
       "Urban                                                           1   \n",
       "Day_of_Week_Monday                                              0   \n",
       "Day_of_Week_Saturday                                            1   \n",
       "Day_of_Week_Sunday                                              0   \n",
       "Day_of_Week_Thursday                                            0   \n",
       "Day_of_Week_Tuesday                                             0   \n",
       "Day_of_Week_Wednesday                                           0   \n",
       "Precipitation_Fog or mist                                       0   \n",
       "Precipitation_Raining                                           0   \n",
       "Precipitation_Snowing                                           0   \n",
       "Road_Surface_Conditions_Flood over 3cm. deep                    0   \n",
       "Road_Surface_Conditions_Frost or ice                            0   \n",
       "Road_Surface_Conditions_Snow                                    0   \n",
       "Road_Surface_Conditions_Wet or damp                             0   \n",
       "Light_Conditions_Darkness - lights lit                          0   \n",
       "Light_Conditions_Darkness - lights unlit                        0   \n",
       "Light_Conditions_Darkness - no lighting                         0   \n",
       "Light_Conditions_Daylight                                       1   \n",
       "Time_of_Day_Evening (19-23)                                     0   \n",
       "Time_of_Day_Morning rush (5-10)                                 0   \n",
       "Time_of_Day_Night (23-5)                                        0   \n",
       "Time_of_Day_Office hours (10-15)                                1   \n",
       "\n",
       "                                                             4310  \\\n",
       "datetime                                      2018-07-04 21:00:00   \n",
       "Count                                                           7   \n",
       "High_Winds                                                      0   \n",
       "Hour                                                           21   \n",
       "Quarter                                                         3   \n",
       "Month                                                           7   \n",
       "Dayofmonth                                                      4   \n",
       "Weekofyear                                                     27   \n",
       "Is_weekend                                                      0   \n",
       "Urban                                                           1   \n",
       "Day_of_Week_Monday                                              0   \n",
       "Day_of_Week_Saturday                                            0   \n",
       "Day_of_Week_Sunday                                              0   \n",
       "Day_of_Week_Thursday                                            0   \n",
       "Day_of_Week_Tuesday                                             0   \n",
       "Day_of_Week_Wednesday                                           1   \n",
       "Precipitation_Fog or mist                                       0   \n",
       "Precipitation_Raining                                           0   \n",
       "Precipitation_Snowing                                           0   \n",
       "Road_Surface_Conditions_Flood over 3cm. deep                    0   \n",
       "Road_Surface_Conditions_Frost or ice                            0   \n",
       "Road_Surface_Conditions_Snow                                    0   \n",
       "Road_Surface_Conditions_Wet or damp                             0   \n",
       "Light_Conditions_Darkness - lights lit                          0   \n",
       "Light_Conditions_Darkness - lights unlit                        0   \n",
       "Light_Conditions_Darkness - no lighting                         0   \n",
       "Light_Conditions_Daylight                                       1   \n",
       "Time_of_Day_Evening (19-23)                                     1   \n",
       "Time_of_Day_Morning rush (5-10)                                 0   \n",
       "Time_of_Day_Night (23-5)                                        0   \n",
       "Time_of_Day_Office hours (10-15)                                0   \n",
       "\n",
       "                                                             13    \\\n",
       "datetime                                      2018-01-01 13:00:00   \n",
       "Count                                                          13   \n",
       "High_Winds                                                      0   \n",
       "Hour                                                           13   \n",
       "Quarter                                                         1   \n",
       "Month                                                           1   \n",
       "Dayofmonth                                                      1   \n",
       "Weekofyear                                                      1   \n",
       "Is_weekend                                                      1   \n",
       "Urban                                                           1   \n",
       "Day_of_Week_Monday                                              1   \n",
       "Day_of_Week_Saturday                                            0   \n",
       "Day_of_Week_Sunday                                              0   \n",
       "Day_of_Week_Thursday                                            0   \n",
       "Day_of_Week_Tuesday                                             0   \n",
       "Day_of_Week_Wednesday                                           0   \n",
       "Precipitation_Fog or mist                                       0   \n",
       "Precipitation_Raining                                           0   \n",
       "Precipitation_Snowing                                           0   \n",
       "Road_Surface_Conditions_Flood over 3cm. deep                    0   \n",
       "Road_Surface_Conditions_Frost or ice                            0   \n",
       "Road_Surface_Conditions_Snow                                    0   \n",
       "Road_Surface_Conditions_Wet or damp                             0   \n",
       "Light_Conditions_Darkness - lights lit                          0   \n",
       "Light_Conditions_Darkness - lights unlit                        0   \n",
       "Light_Conditions_Darkness - no lighting                         0   \n",
       "Light_Conditions_Daylight                                       1   \n",
       "Time_of_Day_Evening (19-23)                                     0   \n",
       "Time_of_Day_Morning rush (5-10)                                 0   \n",
       "Time_of_Day_Night (23-5)                                        0   \n",
       "Time_of_Day_Office hours (10-15)                                1   \n",
       "\n",
       "                                                             4378  \n",
       "datetime                                      2018-07-07 17:00:00  \n",
       "Count                                                          28  \n",
       "High_Winds                                                      0  \n",
       "Hour                                                           17  \n",
       "Quarter                                                         3  \n",
       "Month                                                           7  \n",
       "Dayofmonth                                                      7  \n",
       "Weekofyear                                                     27  \n",
       "Is_weekend                                                      1  \n",
       "Urban                                                           1  \n",
       "Day_of_Week_Monday                                              0  \n",
       "Day_of_Week_Saturday                                            1  \n",
       "Day_of_Week_Sunday                                              0  \n",
       "Day_of_Week_Thursday                                            0  \n",
       "Day_of_Week_Tuesday                                             0  \n",
       "Day_of_Week_Wednesday                                           0  \n",
       "Precipitation_Fog or mist                                       0  \n",
       "Precipitation_Raining                                           0  \n",
       "Precipitation_Snowing                                           0  \n",
       "Road_Surface_Conditions_Flood over 3cm. deep                    0  \n",
       "Road_Surface_Conditions_Frost or ice                            0  \n",
       "Road_Surface_Conditions_Snow                                    0  \n",
       "Road_Surface_Conditions_Wet or damp                             0  \n",
       "Light_Conditions_Darkness - lights lit                          0  \n",
       "Light_Conditions_Darkness - lights unlit                        0  \n",
       "Light_Conditions_Darkness - no lighting                         0  \n",
       "Light_Conditions_Daylight                                       1  \n",
       "Time_of_Day_Evening (19-23)                                     0  \n",
       "Time_of_Day_Morning rush (5-10)                                 0  \n",
       "Time_of_Day_Night (23-5)                                        0  \n",
       "Time_of_Day_Office hours (10-15)                                0  "
      ]
     },
     "execution_count": 46,
     "metadata": {},
     "output_type": "execute_result"
    }
   ],
   "source": [
    "df2.sample(5).T"
   ]
  },
  {
   "cell_type": "code",
   "execution_count": 47,
   "metadata": {
    "ExecuteTime": {
     "end_time": "2020-12-20T12:35:07.607323Z",
     "start_time": "2020-12-20T12:35:07.577478Z"
    }
   },
   "outputs": [
    {
     "data": {
      "text/plain": [
       "Count                                           1.000000\n",
       "Light_Conditions_Daylight                       0.455375\n",
       "Hour                                            0.365645\n",
       "Urban                                           0.301672\n",
       "Time_of_Day_Office hours (10-15)                0.191140\n",
       "Day_of_Week_Thursday                            0.041966\n",
       "Weekofyear                                      0.041304\n",
       "Quarter                                         0.035880\n",
       "Month                                           0.035640\n",
       "Day_of_Week_Wednesday                           0.034674\n",
       "Day_of_Week_Tuesday                             0.030162\n",
       "Day_of_Week_Monday                              0.002505\n",
       "Dayofmonth                                     -0.003169\n",
       "Road_Surface_Conditions_Frost or ice           -0.019573\n",
       "Road_Surface_Conditions_Flood over 3cm. deep   -0.028196\n",
       "Precipitation_Snowing                          -0.039278\n",
       "Road_Surface_Conditions_Snow                   -0.046214\n",
       "Day_of_Week_Saturday                           -0.057734\n",
       "Precipitation_Fog or mist                      -0.058407\n",
       "Time_of_Day_Morning rush (5-10)                -0.061082\n",
       "Light_Conditions_Darkness - lights unlit       -0.064312\n",
       "High_Winds                                     -0.083819\n",
       "Time_of_Day_Evening (19-23)                    -0.091421\n",
       "Precipitation_Raining                          -0.104153\n",
       "Day_of_Week_Sunday                             -0.130711\n",
       "Road_Surface_Conditions_Wet or damp            -0.144277\n",
       "Is_weekend                                     -0.164889\n",
       "Light_Conditions_Darkness - no lighting        -0.269525\n",
       "Light_Conditions_Darkness - lights lit         -0.305285\n",
       "Time_of_Day_Night (23-5)                       -0.526061\n",
       "Name: Count, dtype: float64"
      ]
     },
     "execution_count": 47,
     "metadata": {},
     "output_type": "execute_result"
    }
   ],
   "source": [
    "corr_matrix = df2.corr()\n",
    "corr_matrix['Count'].sort_values(ascending=False)"
   ]
  },
  {
   "cell_type": "markdown",
   "metadata": {},
   "source": [
    "# Linear regression"
   ]
  },
  {
   "cell_type": "code",
   "execution_count": 48,
   "metadata": {
    "ExecuteTime": {
     "end_time": "2020-12-20T12:35:07.623728Z",
     "start_time": "2020-12-20T12:35:07.611687Z"
    }
   },
   "outputs": [
    {
     "name": "stdout",
     "output_type": "stream",
     "text": [
      "7594 train and 844 test instances\n"
     ]
    }
   ],
   "source": [
    "train_set, test_set = train_test_split(df2, test_size=0.1, random_state=7, shuffle=False)\n",
    "print(f\"{train_set.shape[0]} train and {test_set.shape[0]} test instances\")"
   ]
  },
  {
   "cell_type": "code",
   "execution_count": 49,
   "metadata": {
    "ExecuteTime": {
     "end_time": "2020-12-20T12:35:07.643924Z",
     "start_time": "2020-12-20T12:35:07.628263Z"
    }
   },
   "outputs": [],
   "source": [
    "predictors = ['High_Winds', 'Hour', 'Quarter', 'Month',\n",
    "       'Dayofmonth', 'Weekofyear', 'Is_weekend', 'Urban', 'Day_of_Week_Monday',\n",
    "       'Day_of_Week_Saturday', 'Day_of_Week_Sunday', 'Day_of_Week_Thursday',\n",
    "       'Day_of_Week_Tuesday', 'Day_of_Week_Wednesday',\n",
    "       'Precipitation_Fog or mist', 'Precipitation_Raining',\n",
    "       'Precipitation_Snowing', 'Road_Surface_Conditions_Flood over 3cm. deep',\n",
    "       'Road_Surface_Conditions_Frost or ice', 'Road_Surface_Conditions_Snow',\n",
    "       'Road_Surface_Conditions_Wet or damp',\n",
    "       'Light_Conditions_Darkness - lights lit',\n",
    "       'Light_Conditions_Darkness - lights unlit',\n",
    "       'Light_Conditions_Darkness - no lighting', 'Light_Conditions_Daylight',\n",
    "       'Time_of_Day_Evening (19-23)', 'Time_of_Day_Morning rush (5-10)',\n",
    "       'Time_of_Day_Night (23-5)', 'Time_of_Day_Office hours (10-15)']\n",
    "\n",
    "Xtrain = train_set[predictors]\n",
    "ytrain = train_set['Count']\n",
    "\n",
    "Xtest = test_set[predictors]\n",
    "ytest = test_set['Count']\n"
   ]
  },
  {
   "cell_type": "code",
   "execution_count": 50,
   "metadata": {
    "ExecuteTime": {
     "end_time": "2020-12-20T12:35:07.667785Z",
     "start_time": "2020-12-20T12:35:07.646937Z"
    }
   },
   "outputs": [
    {
     "data": {
      "text/plain": [
       "LinearRegression(copy_X=True, fit_intercept=True, n_jobs=None, normalize=False)"
      ]
     },
     "execution_count": 50,
     "metadata": {},
     "output_type": "execute_result"
    }
   ],
   "source": [
    "from sklearn.linear_model import LinearRegression\n",
    "\n",
    "lin_reg = LinearRegression()\n",
    "\n",
    "lin_reg.fit(Xtrain, ytrain)"
   ]
  },
  {
   "cell_type": "code",
   "execution_count": 51,
   "metadata": {
    "ExecuteTime": {
     "end_time": "2020-12-20T12:35:07.686492Z",
     "start_time": "2020-12-20T12:35:07.671826Z"
    }
   },
   "outputs": [
    {
     "data": {
      "text/plain": [
       "6.877592809712238"
      ]
     },
     "execution_count": 51,
     "metadata": {},
     "output_type": "execute_result"
    }
   ],
   "source": [
    "# make predictions\n",
    "yhat = lin_reg.predict(Xtrain)\n",
    "\n",
    "lin_mse = mean_squared_error(ytrain, yhat)\n",
    "\n",
    "# take square root\n",
    "lin_rmse = np.sqrt(lin_mse)\n",
    "\n",
    "lin_rmse"
   ]
  },
  {
   "cell_type": "markdown",
   "metadata": {},
   "source": [
    "Linear regression in combination with feature engineering, produces root mean squared error of 6.87, which is 35% reduction in error compared to the baseline (previous hours accidents).\n",
    "Further we will investigate if error rate can be reduced even further, applying Decision tree and Random forest regressions.\n",
    "\n",
    "The same steps as in **2.3.3 & 2.3.4, 2.4** will be followed."
   ]
  },
  {
   "cell_type": "code",
   "execution_count": 52,
   "metadata": {
    "ExecuteTime": {
     "end_time": "2020-12-20T12:35:07.724295Z",
     "start_time": "2020-12-20T12:35:07.691445Z"
    }
   },
   "outputs": [],
   "source": [
    "from sklearn.preprocessing import StandardScaler\n",
    "\n",
    "scaler = StandardScaler()\n",
    "Xtrain = scaler.fit_transform(Xtrain)\n",
    "Xtest = scaler.transform(Xtest)"
   ]
  },
  {
   "cell_type": "markdown",
   "metadata": {
    "ExecuteTime": {
     "end_time": "2020-12-20T09:32:48.589637Z",
     "start_time": "2020-12-20T09:32:48.575895Z"
    }
   },
   "source": [
    "# Decision Tree regression\n",
    "\n",
    "We'll fine-tune `min_samples_split` (the minimum number of instances required to be at a node before it gets split) and `max_depth` (the maximum depth of each tree)."
   ]
  },
  {
   "cell_type": "code",
   "execution_count": 53,
   "metadata": {
    "ExecuteTime": {
     "end_time": "2020-12-20T12:35:09.195938Z",
     "start_time": "2020-12-20T12:35:07.732030Z"
    }
   },
   "outputs": [
    {
     "data": {
      "text/plain": [
       "GridSearchCV(cv=TimeSeriesSplit(max_train_size=None, n_splits=10),\n",
       "             error_score=nan,\n",
       "             estimator=DecisionTreeRegressor(ccp_alpha=0.0, criterion='mse',\n",
       "                                             max_depth=None, max_features=None,\n",
       "                                             max_leaf_nodes=None,\n",
       "                                             min_impurity_decrease=0.0,\n",
       "                                             min_impurity_split=None,\n",
       "                                             min_samples_leaf=1,\n",
       "                                             min_samples_split=2,\n",
       "                                             min_weight_fraction_leaf=0.0,\n",
       "                                             presort='deprecated',\n",
       "                                             random_state=7, splitter='best'),\n",
       "             iid='deprecated', n_jobs=None,\n",
       "             param_grid=[{'max_depth': [6, 7, 8],\n",
       "                          'min_samples_split': [6, 8, 10, 9]}],\n",
       "             pre_dispatch='2*n_jobs', refit=True, return_train_score=True,\n",
       "             scoring='neg_mean_squared_error', verbose=0)"
      ]
     },
     "execution_count": 53,
     "metadata": {},
     "output_type": "execute_result"
    }
   ],
   "source": [
    "dtree = DecisionTreeRegressor(random_state=7)\n",
    "param_grid = [\n",
    "    {'max_depth': [6, 7, 8],\n",
    "    'min_samples_split': [6, 8, 10, 9]}\n",
    "]\n",
    "\n",
    "tscv = TimeSeriesSplit(n_splits=10)\n",
    "dtree_grid_search = GridSearchCV(estimator=dtree, cv=tscv,\n",
    "                        param_grid=param_grid,\n",
    "                        scoring='neg_mean_squared_error', \n",
    "                        return_train_score=True)\n",
    "\n",
    "start = time.time()\n",
    "dtree_grid_search.fit(Xtrain, ytrain)"
   ]
  },
  {
   "cell_type": "code",
   "execution_count": 54,
   "metadata": {
    "ExecuteTime": {
     "end_time": "2020-12-20T12:35:09.218397Z",
     "start_time": "2020-12-20T12:35:09.209511Z"
    }
   },
   "outputs": [
    {
     "name": "stdout",
     "output_type": "stream",
     "text": [
      "5.645, 5.217, 1.082 {'max_depth': 6, 'min_samples_split': 10}\n",
      "5.645, 5.213, 1.083 {'max_depth': 6, 'min_samples_split': 8}\n",
      "5.648, 5.214, 1.083 {'max_depth': 6, 'min_samples_split': 9}\n",
      "5.650, 5.212, 1.084 {'max_depth': 6, 'min_samples_split': 6}\n",
      "5.810, 4.604, 1.262 {'max_depth': 8, 'min_samples_split': 9}\n",
      "5.841, 4.609, 1.267 {'max_depth': 8, 'min_samples_split': 10}\n",
      "5.843, 4.928, 1.186 {'max_depth': 7, 'min_samples_split': 9}\n",
      "5.861, 4.917, 1.192 {'max_depth': 7, 'min_samples_split': 6}\n",
      "5.869, 4.590, 1.279 {'max_depth': 8, 'min_samples_split': 8}\n",
      "5.883, 4.920, 1.196 {'max_depth': 7, 'min_samples_split': 8}\n",
      "5.891, 4.580, 1.286 {'max_depth': 8, 'min_samples_split': 6}\n",
      "5.935, 4.932, 1.203 {'max_depth': 7, 'min_samples_split': 10}\n"
     ]
    }
   ],
   "source": [
    "val_scores = dtree_grid_search.cv_results_[\"mean_test_score\"]\n",
    "train_scores = dtree_grid_search.cv_results_[\"mean_train_score\"]\n",
    "params = [str(x) for x in dtree_grid_search.cv_results_[\"params\"]]\n",
    "\n",
    "for val_score, train_score, param in sorted(zip(val_scores, train_scores, params), reverse=True):\n",
    "    print(f\"{np.sqrt(-val_score):.3f}, {np.sqrt(-train_score):.3f}, {np.sqrt(-val_score)/np.sqrt(-train_score):.3f}\", param)"
   ]
  },
  {
   "cell_type": "markdown",
   "metadata": {
    "ExecuteTime": {
     "end_time": "2020-12-19T12:42:40.041303Z",
     "start_time": "2020-12-19T12:42:40.036687Z"
    }
   },
   "source": [
    "# Random Forest regression"
   ]
  },
  {
   "cell_type": "code",
   "execution_count": 55,
   "metadata": {
    "ExecuteTime": {
     "end_time": "2020-12-20T12:36:27.138030Z",
     "start_time": "2020-12-20T12:35:09.224592Z"
    }
   },
   "outputs": [
    {
     "data": {
      "text/plain": [
       "GridSearchCV(cv=TimeSeriesSplit(max_train_size=None, n_splits=10),\n",
       "             error_score=nan,\n",
       "             estimator=RandomForestRegressor(bootstrap=True, ccp_alpha=0.0,\n",
       "                                             criterion='mse', max_depth=None,\n",
       "                                             max_features='auto',\n",
       "                                             max_leaf_nodes=None,\n",
       "                                             max_samples=None,\n",
       "                                             min_impurity_decrease=0.0,\n",
       "                                             min_impurity_split=None,\n",
       "                                             min_samples_leaf=1,\n",
       "                                             min_samples_split=2,\n",
       "                                             min_weight_fraction_leaf=0.0,\n",
       "                                             n_estimators=100, n_jobs=None,\n",
       "                                             oob_score=False, random_state=7,\n",
       "                                             verbose=0, warm_start=False),\n",
       "             iid='deprecated', n_jobs=None,\n",
       "             param_grid=[{'max_depth': [8, 10],\n",
       "                          'min_samples_split': [10, 11, 12],\n",
       "                          'n_estimators': [20, 30, 40, 50, 25]}],\n",
       "             pre_dispatch='2*n_jobs', refit=True, return_train_score=True,\n",
       "             scoring='neg_mean_squared_error', verbose=0)"
      ]
     },
     "execution_count": 55,
     "metadata": {},
     "output_type": "execute_result"
    }
   ],
   "source": [
    "rf = RandomForestRegressor(random_state=7)\n",
    "param_grid = [\n",
    "    {'n_estimators': [20, 30, 40, 50, 25], \n",
    "     'max_depth': [8, 10],\n",
    "     'min_samples_split': [ 10, 11, 12]\n",
    "    },\n",
    "]\n",
    "\n",
    "tscv = TimeSeriesSplit(n_splits=10)\n",
    "rf_grid_search = GridSearchCV(estimator=rf, cv=tscv,\n",
    "                        param_grid=param_grid,\n",
    "                        scoring='neg_mean_squared_error', \n",
    "                        return_train_score=True)\n",
    "\n",
    "start = time.time()\n",
    "rf_grid_search.fit(Xtrain, ytrain)"
   ]
  },
  {
   "cell_type": "markdown",
   "metadata": {},
   "source": [
    "Let's print the accuracy scores for every model evaluated during the grid search."
   ]
  },
  {
   "cell_type": "code",
   "execution_count": 56,
   "metadata": {
    "ExecuteTime": {
     "end_time": "2020-12-20T12:36:27.155359Z",
     "start_time": "2020-12-20T12:36:27.142218Z"
    }
   },
   "outputs": [
    {
     "name": "stdout",
     "output_type": "stream",
     "text": [
      "5.496, 4.455, 1.234 {'max_depth': 8, 'min_samples_split': 12, 'n_estimators': 25}\n",
      "5.498, 4.447, 1.237 {'max_depth': 8, 'min_samples_split': 12, 'n_estimators': 30}\n",
      "5.500, 4.459, 1.234 {'max_depth': 8, 'min_samples_split': 12, 'n_estimators': 20}\n",
      "5.503, 4.437, 1.240 {'max_depth': 8, 'min_samples_split': 12, 'n_estimators': 50}\n",
      "5.504, 4.449, 1.237 {'max_depth': 8, 'min_samples_split': 11, 'n_estimators': 20}\n",
      "5.504, 4.444, 1.238 {'max_depth': 8, 'min_samples_split': 11, 'n_estimators': 25}\n",
      "5.504, 4.427, 1.243 {'max_depth': 8, 'min_samples_split': 11, 'n_estimators': 50}\n",
      "5.506, 4.436, 1.241 {'max_depth': 8, 'min_samples_split': 11, 'n_estimators': 30}\n",
      "5.510, 4.418, 1.247 {'max_depth': 8, 'min_samples_split': 10, 'n_estimators': 50}\n",
      "5.511, 4.448, 1.239 {'max_depth': 8, 'min_samples_split': 12, 'n_estimators': 40}\n",
      "5.512, 3.938, 1.400 {'max_depth': 10, 'min_samples_split': 12, 'n_estimators': 50}\n",
      "5.514, 4.437, 1.243 {'max_depth': 8, 'min_samples_split': 11, 'n_estimators': 40}\n",
      "5.515, 4.435, 1.243 {'max_depth': 8, 'min_samples_split': 10, 'n_estimators': 25}\n",
      "5.515, 3.912, 1.410 {'max_depth': 10, 'min_samples_split': 11, 'n_estimators': 50}\n",
      "5.516, 4.427, 1.246 {'max_depth': 8, 'min_samples_split': 10, 'n_estimators': 30}\n",
      "5.517, 4.440, 1.243 {'max_depth': 8, 'min_samples_split': 10, 'n_estimators': 20}\n",
      "5.524, 4.429, 1.247 {'max_depth': 8, 'min_samples_split': 10, 'n_estimators': 40}\n",
      "5.526, 3.887, 1.422 {'max_depth': 10, 'min_samples_split': 10, 'n_estimators': 50}\n",
      "5.529, 3.927, 1.408 {'max_depth': 10, 'min_samples_split': 11, 'n_estimators': 30}\n",
      "5.529, 3.934, 1.406 {'max_depth': 10, 'min_samples_split': 11, 'n_estimators': 25}\n",
      "5.530, 3.923, 1.410 {'max_depth': 10, 'min_samples_split': 11, 'n_estimators': 40}\n",
      "5.531, 3.948, 1.401 {'max_depth': 10, 'min_samples_split': 12, 'n_estimators': 40}\n",
      "5.532, 3.959, 1.397 {'max_depth': 10, 'min_samples_split': 12, 'n_estimators': 25}\n",
      "5.533, 3.952, 1.400 {'max_depth': 10, 'min_samples_split': 12, 'n_estimators': 30}\n",
      "5.542, 3.939, 1.407 {'max_depth': 10, 'min_samples_split': 11, 'n_estimators': 20}\n",
      "5.542, 3.898, 1.422 {'max_depth': 10, 'min_samples_split': 10, 'n_estimators': 40}\n",
      "5.547, 3.963, 1.399 {'max_depth': 10, 'min_samples_split': 12, 'n_estimators': 20}\n",
      "5.551, 3.903, 1.422 {'max_depth': 10, 'min_samples_split': 10, 'n_estimators': 30}\n",
      "5.551, 3.909, 1.420 {'max_depth': 10, 'min_samples_split': 10, 'n_estimators': 25}\n",
      "5.560, 3.914, 1.421 {'max_depth': 10, 'min_samples_split': 10, 'n_estimators': 20}\n"
     ]
    }
   ],
   "source": [
    "val_scores = rf_grid_search.cv_results_[\"mean_test_score\"]\n",
    "train_scores = rf_grid_search.cv_results_[\"mean_train_score\"]\n",
    "params = [str(x) for x in rf_grid_search.cv_results_[\"params\"]]\n",
    "   \n",
    "for val_score, train_score, param in sorted(zip(val_scores, train_scores, params), reverse=True):\n",
    "    print(f\"{np.sqrt(-val_score):.3f}, {np.sqrt(-train_score):.3f}, {np.sqrt(-val_score)/np.sqrt(-train_score):.3f}\", param)"
   ]
  },
  {
   "cell_type": "markdown",
   "metadata": {},
   "source": [
    "## Evaluate the best DT and RF models on the test data\n",
    "\n",
    "**Decision tree**"
   ]
  },
  {
   "cell_type": "code",
   "execution_count": 57,
   "metadata": {
    "ExecuteTime": {
     "end_time": "2020-12-20T12:36:27.175355Z",
     "start_time": "2020-12-20T12:36:27.162124Z"
    }
   },
   "outputs": [
    {
     "data": {
      "text/plain": [
       "6.510712307172764"
      ]
     },
     "execution_count": 57,
     "metadata": {},
     "output_type": "execute_result"
    }
   ],
   "source": [
    "best_model = dtree_grid_search.best_estimator_\n",
    "\n",
    "yhat = best_model.predict(Xtest)\n",
    "\n",
    "dtree_mse = mean_squared_error(ytest, yhat)\n",
    "dtree_rmse = np.sqrt(dtree_mse)\n",
    "dtree_rmse"
   ]
  },
  {
   "cell_type": "markdown",
   "metadata": {
    "ExecuteTime": {
     "end_time": "2020-12-19T17:26:51.230043Z",
     "start_time": "2020-12-19T17:26:51.215901Z"
    }
   },
   "source": [
    "**Random forrest**"
   ]
  },
  {
   "cell_type": "code",
   "execution_count": 58,
   "metadata": {
    "ExecuteTime": {
     "end_time": "2020-12-20T12:36:27.447328Z",
     "start_time": "2020-12-20T12:36:27.179798Z"
    }
   },
   "outputs": [
    {
     "data": {
      "text/plain": [
       "6.396903039403599"
      ]
     },
     "execution_count": 58,
     "metadata": {},
     "output_type": "execute_result"
    }
   ],
   "source": [
    "best_model = rf_grid_search.best_estimator_\n",
    "\n",
    "yhat = best_model.predict(Xtest)\n",
    "\n",
    "rf_mse = mean_squared_error(ytest, yhat)\n",
    "rf_rmse = np.sqrt(rf_mse)\n",
    "rf_rmse"
   ]
  },
  {
   "cell_type": "code",
   "execution_count": 59,
   "metadata": {
    "ExecuteTime": {
     "end_time": "2020-12-20T12:36:27.460737Z",
     "start_time": "2020-12-20T12:36:27.451375Z"
    }
   },
   "outputs": [
    {
     "data": {
      "text/plain": [
       "38.38539534696286"
      ]
     },
     "execution_count": 59,
     "metadata": {},
     "output_type": "execute_result"
    }
   ],
   "source": [
    "100*(baseline_rmse - dtree_rmse)/baseline_rmse"
   ]
  },
  {
   "cell_type": "markdown",
   "metadata": {},
   "source": [
    "By how much did the RF model improve on the persistence baseline, percent-wise?"
   ]
  },
  {
   "cell_type": "code",
   "execution_count": 60,
   "metadata": {
    "ExecuteTime": {
     "end_time": "2020-12-20T12:36:27.477492Z",
     "start_time": "2020-12-20T12:36:27.465824Z"
    }
   },
   "outputs": [
    {
     "data": {
      "text/plain": [
       "39.46243772091685"
      ]
     },
     "execution_count": 60,
     "metadata": {},
     "output_type": "execute_result"
    }
   ],
   "source": [
    "100*(baseline_rmse - rf_rmse)/baseline_rmse"
   ]
  },
  {
   "cell_type": "markdown",
   "metadata": {},
   "source": [
    "# Random Forest\n",
    "\n",
    "Finally, let's evaluate a RandomForest regression algorithm. Random Forests work by training many Decision Trees on random subsets of the features, then averaging out their predictions.\n",
    "\n",
    "We specify that we want the algorithm to use 10 decision trees. We do that by passing `n_estimators=10` when we initialize the `RandomForestRegressor` class "
   ]
  },
  {
   "cell_type": "markdown",
   "metadata": {},
   "source": [
    "The algorithm produced a much lower RMSE score (47,820) than either Decision Trees or linear regression methods. It seems to be a particularly suitable algorithm to be explored further."
   ]
  },
  {
   "cell_type": "markdown",
   "metadata": {},
   "source": [
    "In the previous experiment, we used 10 decision trees in the Random Forest algorithm. This setting is called a hyperparameter of the algorithm, and needs to be set before a model is trained.\n",
    "\n",
    "We might experiment with several different settings of the hyperparameter to find its optimal settings. However, many algorithms have quite a few of such hyperparameters. Scikit-learn has a utility to automatically search for the best combination of hyperparameter values, implemented in the `GridSearchCV` class. \n",
    "\n",
    "### Exhaustive grid search\n",
    "\n",
    "`GridSearchCV` takes a set of hyperparameters and the search range for each hyperparameter, constructs a search grid with all possible hyperparameter combinations, and evaluates each combination using cross-validation. The output is the model with the best cross-validation accuracy.\n",
    "\n",
    "Let's take a look at an example. We will train a RandomForest regressor, searching for the best model in the grid created from two hyperparameters: `n_estimators` (the number of decision trees, trying values 3, 10 and 30) and `max_depth` (the maximum depth of each tree, trying values 4, 6, 8 and None - None being the maximum possible depth, the default value). So, the grid search will involve creating and evaluating 12 models using cross-validation."
   ]
  },
  {
   "cell_type": "code",
   "execution_count": 61,
   "metadata": {
    "ExecuteTime": {
     "end_time": "2020-12-20T12:36:51.973330Z",
     "start_time": "2020-12-20T12:36:27.484229Z"
    }
   },
   "outputs": [
    {
     "data": {
      "text/plain": [
       "GridSearchCV(cv=10, error_score=nan,\n",
       "             estimator=RandomForestRegressor(bootstrap=True, ccp_alpha=0.0,\n",
       "                                             criterion='mse', max_depth=None,\n",
       "                                             max_features='auto',\n",
       "                                             max_leaf_nodes=None,\n",
       "                                             max_samples=None,\n",
       "                                             min_impurity_decrease=0.0,\n",
       "                                             min_impurity_split=None,\n",
       "                                             min_samples_leaf=1,\n",
       "                                             min_samples_split=2,\n",
       "                                             min_weight_fraction_leaf=0.0,\n",
       "                                             n_estimators=100, n_jobs=None,\n",
       "                                             oob_score=False, random_state=7,\n",
       "                                             verbose=0, warm_start=False),\n",
       "             iid='deprecated', n_jobs=None,\n",
       "             param_grid=[{'max_depth': [4, 6, 8, None],\n",
       "                          'n_estimators': [3, 10, 30]}],\n",
       "             pre_dispatch='2*n_jobs', refit=True, return_train_score=True,\n",
       "             scoring='neg_mean_squared_error', verbose=0)"
      ]
     },
     "execution_count": 61,
     "metadata": {},
     "output_type": "execute_result"
    }
   ],
   "source": [
    "from sklearn.model_selection import GridSearchCV\n",
    "\n",
    "# specify the hyperparameters and their values\n",
    "param_grid = [\n",
    "    {'n_estimators': [3, 10, 30], 'max_depth': [4, 6, 8, None]},\n",
    "]\n",
    "\n",
    "forest_reg = RandomForestRegressor(random_state=7)\n",
    "\n",
    "# we'll use 10-fold cross-validation\n",
    "grid_search = GridSearchCV(forest_reg, param_grid, cv=10,\n",
    "                           scoring='neg_mean_squared_error', \n",
    "                           return_train_score=True)\n",
    "\n",
    "grid_search.fit(Xtrain, ytrain)"
   ]
  },
  {
   "cell_type": "markdown",
   "metadata": {},
   "source": [
    "Once grid search is complete we can obtain the best model and its accuracy score: they are attributes on the `GridSearchCV` class:"
   ]
  },
  {
   "cell_type": "code",
   "execution_count": 62,
   "metadata": {
    "ExecuteTime": {
     "end_time": "2020-12-20T12:36:51.989537Z",
     "start_time": "2020-12-20T12:36:51.979834Z"
    }
   },
   "outputs": [
    {
     "data": {
      "text/plain": [
       "RandomForestRegressor(bootstrap=True, ccp_alpha=0.0, criterion='mse',\n",
       "                      max_depth=8, max_features='auto', max_leaf_nodes=None,\n",
       "                      max_samples=None, min_impurity_decrease=0.0,\n",
       "                      min_impurity_split=None, min_samples_leaf=1,\n",
       "                      min_samples_split=2, min_weight_fraction_leaf=0.0,\n",
       "                      n_estimators=30, n_jobs=None, oob_score=False,\n",
       "                      random_state=7, verbose=0, warm_start=False)"
      ]
     },
     "execution_count": 62,
     "metadata": {},
     "output_type": "execute_result"
    }
   ],
   "source": [
    "grid_search.best_estimator_"
   ]
  },
  {
   "cell_type": "markdown",
   "metadata": {},
   "source": [
    "The best model proved to be one with `n_estimator=30` and `max_depth=None`.\n",
    "\n",
    "Let's look up its RMSE."
   ]
  },
  {
   "cell_type": "code",
   "execution_count": 63,
   "metadata": {
    "ExecuteTime": {
     "end_time": "2020-12-20T12:36:52.011160Z",
     "start_time": "2020-12-20T12:36:51.994416Z"
    }
   },
   "outputs": [
    {
     "data": {
      "text/plain": [
       "5.195412066745362"
      ]
     },
     "execution_count": 63,
     "metadata": {},
     "output_type": "execute_result"
    }
   ],
   "source": [
    "np.sqrt(-grid_search.best_score_)"
   ]
  },
  {
   "cell_type": "markdown",
   "metadata": {},
   "source": [
    "Thus by tuning hyperparameters, we were able to further reduce the error rate (from 47820 to 46209). \n",
    "\n",
    "You could have noticed that the largest value of `n_estimators` we tried (30) produced the best result. This suggests we should try even greater values - we could improve the error rate further.\n",
    "\n",
    "We can also access RMSE scores of each model trained during grid search. They are stored in the `cv_results_` attribute:"
   ]
  },
  {
   "cell_type": "markdown",
   "metadata": {},
   "source": [
    "The best-performing model showed a much lower RMSE on the training set (17985) than on the test set (46209). This indicates the model overfitted the training data. The overfitting could be reduced and the model further improved by introducing constraints on the learned trees (for example, enforcing a maximum depth of the learned trees)."
   ]
  },
  {
   "cell_type": "markdown",
   "metadata": {},
   "source": [
    "## 5.5 Analyze the most promising models\n",
    "\n",
    "We can examine what variables were the most important for the regression problem in the best-performing model. They are also stored as an attribute on the model object:"
   ]
  },
  {
   "cell_type": "code",
   "execution_count": 64,
   "metadata": {
    "ExecuteTime": {
     "end_time": "2020-12-20T12:36:52.487199Z",
     "start_time": "2020-12-20T12:36:52.016470Z"
    }
   },
   "outputs": [
    {
     "ename": "AttributeError",
     "evalue": "'numpy.ndarray' object has no attribute 'columns'",
     "output_type": "error",
     "traceback": [
      "\u001b[0;31m---------------------------------------------------------------------------\u001b[0m",
      "\u001b[0;31mAttributeError\u001b[0m                            Traceback (most recent call last)",
      "\u001b[0;32m<ipython-input-64-09308d86d863>\u001b[0m in \u001b[0;36m<module>\u001b[0;34m\u001b[0m\n\u001b[1;32m      5\u001b[0m \u001b[0;31m# so we can \"zip\" the two and print in the descending order:\u001b[0m\u001b[0;34m\u001b[0m\u001b[0;34m\u001b[0m\u001b[0;34m\u001b[0m\u001b[0m\n\u001b[1;32m      6\u001b[0m \u001b[0;34m\u001b[0m\u001b[0m\n\u001b[0;32m----> 7\u001b[0;31m \u001b[0;32mfor\u001b[0m \u001b[0mk\u001b[0m\u001b[0;34m,\u001b[0m \u001b[0mv\u001b[0m \u001b[0;32min\u001b[0m \u001b[0msorted\u001b[0m\u001b[0;34m(\u001b[0m\u001b[0mzip\u001b[0m\u001b[0;34m(\u001b[0m\u001b[0mfeature_importances\u001b[0m\u001b[0;34m,\u001b[0m \u001b[0mXtrain\u001b[0m\u001b[0;34m.\u001b[0m\u001b[0mcolumns\u001b[0m\u001b[0;34m)\u001b[0m\u001b[0;34m,\u001b[0m \u001b[0mreverse\u001b[0m\u001b[0;34m=\u001b[0m\u001b[0;32mTrue\u001b[0m\u001b[0;34m)\u001b[0m\u001b[0;34m:\u001b[0m\u001b[0;34m\u001b[0m\u001b[0;34m\u001b[0m\u001b[0m\n\u001b[0m\u001b[1;32m      8\u001b[0m     \u001b[0mprint\u001b[0m\u001b[0;34m(\u001b[0m\u001b[0;34mf\"{v}: {k}\"\u001b[0m\u001b[0;34m)\u001b[0m\u001b[0;34m\u001b[0m\u001b[0;34m\u001b[0m\u001b[0m\n",
      "\u001b[0;31mAttributeError\u001b[0m: 'numpy.ndarray' object has no attribute 'columns'"
     ]
    }
   ],
   "source": [
    "# put them into a separate variable for convenience\n",
    "feature_importances = grid_search.best_estimator_.feature_importances_\n",
    "\n",
    "# the order of the features in `feature_importances` is the same as in the Xtrain dataframe,\n",
    "# so we can \"zip\" the two and print in the descending order:\n",
    "\n",
    "for k, v in sorted(zip(feature_importances, Xtrain.columns), reverse=True):\n",
    "    print(f\"{v}: {k}\")"
   ]
  },
  {
   "cell_type": "markdown",
   "metadata": {},
   "source": [
    "We can notice that median income is by far the most useful variable for predicting the price of housing. Other useful features are the position of the district relative to the ocean, the average number of persons per household in a district.\n",
    "\n",
    "There are some features that are much less useful: \"NEAR OCEAN\", \"NEAR BAY\" and \"ISLAND\". We may consider removing them both from the training and test set.\n",
    "\n",
    "It often helps to also visualize the predictions made by the model. Let's refit the best model on the first 90% of the training set and generate predictions on the last 10%. There are 15736 training instances, so we will use 14162 for training and the rest for testing."
   ]
  },
  {
   "cell_type": "markdown",
   "metadata": {},
   "source": [
    "**Comments**: The best model is achieved with n_estmators=200. Comparing the mean RMSE on the training set and the validation set, we notice that the latter is around three times lower than the former. This indicates the models overfit and we should constrain the learned trees in some way (e.g., introduce the maximum tree depth) to reduce it. This in turn may help to reduce the RMSE on the validation set."
   ]
  },
  {
   "cell_type": "markdown",
   "metadata": {},
   "source": [
    "Indeed, the predictions are spot on! But, these are predictions on training data. Decision trees are powerful models, capable of capturing complex patterns in the data, but at the same time they will **overfit**, unless they are contrained in some way (e.g. a maximum tree depth is set). To confirm this, we would need to see how the model fares on the test data, but this needs to be postponed till after we have selected the most promising models for the eventual evaluation on the test set.\n",
    "\n",
    "Another possibility is to evaluate the model using **cross-validation**.\n",
    "\n",
    "## 5.3 Cross-validation\n",
    "\n",
    "The idea behind cross-validation is the following: take the training set, split it into $k$ parts (e.g., $k$=10). Then train a model on the $k-1$ parts and evaluate the model on the $k$-th part. Repeat this $k$ times, each time recording the accuracy score. The final accuracy score is the mean of the accuracy scores of the $k$ models.\n",
    "\n",
    "In scikit-learn, this can be achieved as follows."
   ]
  },
  {
   "cell_type": "markdown",
   "metadata": {},
   "source": [
    "Thus, the Decision Tree algorithm produces models that have the RMSE of 64,811; the standard deviation being 2,166 (which gives an idea of the variance of the algorithm).\n",
    "\n",
    "So we can confirm that our original model, which was evaluated on the training set, overfitted the data."
   ]
  },
  {
   "cell_type": "markdown",
   "metadata": {
    "ExecuteTime": {
     "end_time": "2020-12-19T14:23:42.362408Z",
     "start_time": "2020-12-19T14:23:42.357148Z"
    }
   },
   "source": [
    "# Summary \n",
    "TL;DR"
   ]
  },
  {
   "cell_type": "markdown",
   "metadata": {},
   "source": [
    "- Play with lags\n",
    "- Additional feature engineering\n",
    "- XGboost\n",
    "- Represent time as sin/cos\n",
    "- Tensorflow/pytoch/FastAI\n",
    "- Data on terms and halfterms"
   ]
  },
  {
   "cell_type": "code",
   "execution_count": null,
   "metadata": {},
   "outputs": [],
   "source": []
  }
 ],
 "metadata": {
  "kernelspec": {
   "display_name": "Python 3",
   "language": "python",
   "name": "python3"
  },
  "language_info": {
   "codemirror_mode": {
    "name": "ipython",
    "version": 3
   },
   "file_extension": ".py",
   "mimetype": "text/x-python",
   "name": "python",
   "nbconvert_exporter": "python",
   "pygments_lexer": "ipython3",
   "version": "3.7.4"
  },
  "toc": {
   "base_numbering": 1,
   "nav_menu": {},
   "number_sections": true,
   "sideBar": true,
   "skip_h1_title": false,
   "title_cell": "Table of Contents",
   "title_sidebar": "Contents",
   "toc_cell": false,
   "toc_position": {
    "height": "calc(100% - 180px)",
    "left": "10px",
    "top": "150px",
    "width": "304.796875px"
   },
   "toc_section_display": true,
   "toc_window_display": true
  }
 },
 "nbformat": 4,
 "nbformat_minor": 2
}
