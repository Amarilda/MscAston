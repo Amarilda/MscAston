{
 "cells": [
  {
   "cell_type": "markdown",
   "metadata": {
    "hide_input": true
   },
   "source": [
    "# Read the data"
   ]
  },
  {
   "cell_type": "code",
   "execution_count": 1,
   "metadata": {
    "ExecuteTime": {
     "end_time": "2020-12-17T12:49:50.316749Z",
     "start_time": "2020-12-17T12:49:37.176760Z"
    }
   },
   "outputs": [],
   "source": [
    "# Import necessary packages\n",
    "import pandas as pd\n",
    "import numpy as np\n",
    "from matplotlib import pyplot as plt\n",
    "%matplotlib inline\n",
    "\n",
    "import time\n",
    "from datetime import datetime\n",
    "from datetime import date\n",
    "\n",
    "from sklearn.metrics import mean_squared_error\n",
    "from sklearn.model_selection import TimeSeriesSplit, GridSearchCV\n",
    "from sklearn.tree import DecisionTreeRegressor\n",
    "from sklearn.ensemble import RandomForestRegressor\n",
    "\n",
    "\n",
    "\n",
    "import warnings\n",
    "warnings.filterwarnings(\"ignore\")"
   ]
  },
  {
   "cell_type": "code",
   "execution_count": 2,
   "metadata": {
    "ExecuteTime": {
     "end_time": "2020-12-17T12:49:50.366055Z",
     "start_time": "2020-12-17T12:49:50.322095Z"
    }
   },
   "outputs": [],
   "source": [
    "# Read the data\n",
    "df= pd.read_csv(\"UK Road Accidents 2018.csv\")"
   ]
  },
  {
   "cell_type": "markdown",
   "metadata": {},
   "source": [
    "### Random sample of data\n",
    "shows more variation in the data set than df.head(). Data set is usually sorted during ETL process."
   ]
  },
  {
   "cell_type": "code",
   "execution_count": 3,
   "metadata": {
    "ExecuteTime": {
     "end_time": "2020-12-17T12:49:50.416622Z",
     "start_time": "2020-12-17T12:49:50.371004Z"
    }
   },
   "outputs": [
    {
     "data": {
      "text/html": [
       "<div>\n",
       "<style scoped>\n",
       "    .dataframe tbody tr th:only-of-type {\n",
       "        vertical-align: middle;\n",
       "    }\n",
       "\n",
       "    .dataframe tbody tr th {\n",
       "        vertical-align: top;\n",
       "    }\n",
       "\n",
       "    .dataframe thead th {\n",
       "        text-align: right;\n",
       "    }\n",
       "</style>\n",
       "<table border=\"1\" class=\"dataframe\">\n",
       "  <thead>\n",
       "    <tr style=\"text-align: right;\">\n",
       "      <th></th>\n",
       "      <th>datetime</th>\n",
       "      <th>Count</th>\n",
       "      <th>Day_of_Week</th>\n",
       "      <th>Precipitation</th>\n",
       "      <th>High_Winds</th>\n",
       "      <th>Road_Surface_Conditions</th>\n",
       "      <th>Light_Conditions</th>\n",
       "      <th>Urban_or_Rural_Area</th>\n",
       "    </tr>\n",
       "  </thead>\n",
       "  <tbody>\n",
       "    <tr>\n",
       "      <th>5658</th>\n",
       "      <td>31/08/2018 04:00</td>\n",
       "      <td>3</td>\n",
       "      <td>Friday</td>\n",
       "      <td>Fine</td>\n",
       "      <td>False</td>\n",
       "      <td>Dry</td>\n",
       "      <td>Daylight</td>\n",
       "      <td>Urban</td>\n",
       "    </tr>\n",
       "    <tr>\n",
       "      <th>5684</th>\n",
       "      <td>01/09/2018 06:00</td>\n",
       "      <td>6</td>\n",
       "      <td>Saturday</td>\n",
       "      <td>Fine</td>\n",
       "      <td>False</td>\n",
       "      <td>Dry</td>\n",
       "      <td>Daylight</td>\n",
       "      <td>Urban</td>\n",
       "    </tr>\n",
       "    <tr>\n",
       "      <th>7840</th>\n",
       "      <td>02/12/2018 02:00</td>\n",
       "      <td>7</td>\n",
       "      <td>Sunday</td>\n",
       "      <td>Raining</td>\n",
       "      <td>False</td>\n",
       "      <td>Wet or damp</td>\n",
       "      <td>Darkness - lights lit</td>\n",
       "      <td>Urban</td>\n",
       "    </tr>\n",
       "    <tr>\n",
       "      <th>1855</th>\n",
       "      <td>22/03/2018 01:00</td>\n",
       "      <td>2</td>\n",
       "      <td>Thursday</td>\n",
       "      <td>Raining</td>\n",
       "      <td>False</td>\n",
       "      <td>Wet or damp</td>\n",
       "      <td>Darkness - no lighting</td>\n",
       "      <td>Rural</td>\n",
       "    </tr>\n",
       "    <tr>\n",
       "      <th>4414</th>\n",
       "      <td>09/07/2018 05:00</td>\n",
       "      <td>1</td>\n",
       "      <td>Monday</td>\n",
       "      <td>Fine</td>\n",
       "      <td>False</td>\n",
       "      <td>Dry</td>\n",
       "      <td>Daylight</td>\n",
       "      <td>Rural</td>\n",
       "    </tr>\n",
       "  </tbody>\n",
       "</table>\n",
       "</div>"
      ],
      "text/plain": [
       "              datetime  Count Day_of_Week Precipitation  High_Winds  \\\n",
       "5658  31/08/2018 04:00      3      Friday          Fine       False   \n",
       "5684  01/09/2018 06:00      6    Saturday          Fine       False   \n",
       "7840  02/12/2018 02:00      7      Sunday       Raining       False   \n",
       "1855  22/03/2018 01:00      2    Thursday       Raining       False   \n",
       "4414  09/07/2018 05:00      1      Monday          Fine       False   \n",
       "\n",
       "     Road_Surface_Conditions        Light_Conditions Urban_or_Rural_Area  \n",
       "5658                     Dry                Daylight               Urban  \n",
       "5684                     Dry                Daylight               Urban  \n",
       "7840             Wet or damp   Darkness - lights lit               Urban  \n",
       "1855             Wet or damp  Darkness - no lighting               Rural  \n",
       "4414                     Dry                Daylight               Rural  "
      ]
     },
     "execution_count": 3,
     "metadata": {},
     "output_type": "execute_result"
    }
   ],
   "source": [
    "df.sample(5)"
   ]
  },
  {
   "cell_type": "markdown",
   "metadata": {},
   "source": [
    "### Check for nulls\n",
    "\n",
    "Non-null count provides the same as \" RangeIndex - df.isna().sum()\"\n",
    "\n",
    "RangeIndex: 8540\n",
    "\n",
    "All Non_Null Counts = 8540\n",
    "\n",
    "**Therefore Nulls are not present in this data set.**"
   ]
  },
  {
   "cell_type": "code",
   "execution_count": 4,
   "metadata": {
    "ExecuteTime": {
     "end_time": "2020-12-17T12:49:50.448437Z",
     "start_time": "2020-12-17T12:49:50.421885Z"
    }
   },
   "outputs": [
    {
     "name": "stdout",
     "output_type": "stream",
     "text": [
      "<class 'pandas.core.frame.DataFrame'>\n",
      "RangeIndex: 8540 entries, 0 to 8539\n",
      "Data columns (total 8 columns):\n",
      " #   Column                   Non-Null Count  Dtype \n",
      "---  ------                   --------------  ----- \n",
      " 0   datetime                 8540 non-null   object\n",
      " 1   Count                    8540 non-null   int64 \n",
      " 2   Day_of_Week              8540 non-null   object\n",
      " 3   Precipitation            8540 non-null   object\n",
      " 4   High_Winds               8540 non-null   bool  \n",
      " 5   Road_Surface_Conditions  8540 non-null   object\n",
      " 6   Light_Conditions         8540 non-null   object\n",
      " 7   Urban_or_Rural_Area      8540 non-null   object\n",
      "dtypes: bool(1), int64(1), object(6)\n",
      "memory usage: 475.5+ KB\n"
     ]
    }
   ],
   "source": [
    "df.info()"
   ]
  },
  {
   "cell_type": "code",
   "execution_count": 5,
   "metadata": {
    "ExecuteTime": {
     "end_time": "2020-12-17T12:49:50.523990Z",
     "start_time": "2020-12-17T12:49:50.452524Z"
    }
   },
   "outputs": [
    {
     "name": "stdout",
     "output_type": "stream",
     "text": [
      "Precipitation\n",
      "1\n",
      "51\n",
      "48\n",
      "Road_Surface_Conditions\n",
      "2\n",
      "0\n",
      "0\n"
     ]
    }
   ],
   "source": [
    "for column in df.columns:\n",
    "    if len(df[df[column] == \"Data missing or out of range\"])+ len(df[df[column] == \"Other\"]) > 0:\n",
    "        print(column)\n",
    "        print(len(df[df[column] == \"Data missing or out of range\"]))\n",
    "        df.drop(df[df[column] == \"Data missing or out of range\"].index, inplace = True) \n",
    "        \n",
    "        print(len(df[df[column] == \"Other\"]))\n",
    "        df.drop(df[df[column] == \"Other\"].index, inplace = True) \n",
    "        \n",
    "        print(len(df[df[column] == \"Unknown\"]))\n",
    "        df.drop(df[df[column] == \"Unknown\"].index, inplace = True)"
   ]
  },
  {
   "cell_type": "code",
   "execution_count": 6,
   "metadata": {
    "ExecuteTime": {
     "end_time": "2020-12-17T12:49:50.543870Z",
     "start_time": "2020-12-17T12:49:50.527764Z"
    }
   },
   "outputs": [
    {
     "name": "stdout",
     "output_type": "stream",
     "text": [
      "<class 'pandas.core.frame.DataFrame'>\n",
      "Int64Index: 8438 entries, 0 to 8539\n",
      "Data columns (total 8 columns):\n",
      " #   Column                   Non-Null Count  Dtype \n",
      "---  ------                   --------------  ----- \n",
      " 0   datetime                 8438 non-null   object\n",
      " 1   Count                    8438 non-null   int64 \n",
      " 2   Day_of_Week              8438 non-null   object\n",
      " 3   Precipitation            8438 non-null   object\n",
      " 4   High_Winds               8438 non-null   bool  \n",
      " 5   Road_Surface_Conditions  8438 non-null   object\n",
      " 6   Light_Conditions         8438 non-null   object\n",
      " 7   Urban_or_Rural_Area      8438 non-null   object\n",
      "dtypes: bool(1), int64(1), object(6)\n",
      "memory usage: 535.6+ KB\n"
     ]
    }
   ],
   "source": [
    "df.info()"
   ]
  },
  {
   "cell_type": "code",
   "execution_count": 7,
   "metadata": {
    "ExecuteTime": {
     "end_time": "2020-12-17T12:49:50.557723Z",
     "start_time": "2020-12-17T12:49:50.552745Z"
    }
   },
   "outputs": [],
   "source": [
    "df2 = df"
   ]
  },
  {
   "cell_type": "markdown",
   "metadata": {},
   "source": [
    "##  Dr Strange "
   ]
  },
  {
   "cell_type": "markdown",
   "metadata": {},
   "source": [
    "### Function TimeSplit\n",
    "It takes datetime column and derives following new features:\n",
    "* Hour (0-23)\n",
    "* dayofweek (1-7)\n",
    "* quarter (1-4)\n",
    "* month(1-12)\n",
    "* dayofyear (1-365)\n",
    "* dayofmonth(1-31)\n",
    "* weekofyear(1-52)\n",
    "\n",
    "Extracting year does not serve any purpose as data set contains only 2018."
   ]
  },
  {
   "cell_type": "code",
   "execution_count": 8,
   "metadata": {
    "ExecuteTime": {
     "end_time": "2020-12-17T12:49:50.575732Z",
     "start_time": "2020-12-17T12:49:50.563817Z"
    }
   },
   "outputs": [],
   "source": [
    "def TimeSplit(df, label=None):\n",
    "    \"\"\"\n",
    "    Creates time series features from datetime index\n",
    "    \"\"\"\n",
    "    df['datetime'] = pd.to_datetime(df['datetime'], format=\"%d/%m/%Y %H:%M\" , errors='coerce')\n",
    "    df['Hour'] = df['datetime'].dt.hour\n",
    "    df['Dayofweek'] = df['datetime'].dt.dayofweek+1\n",
    "    df['Quarter'] = df['datetime'].dt.quarter\n",
    "    df['Month'] = df['datetime'].dt.month\n",
    "    #df['year'] = df['Date'].dt.year\n",
    "    #df['dayofyear'] = df['datetime'].dt.dayofyear\n",
    "    df['Dayofmonth'] = df['datetime'].dt.day\n",
    "    df['Weekofyear'] = df['datetime'].dt.weekofyear\n",
    "    \n",
    "    \n",
    "    X = df[['Hour','Dayofweek','Quarter','Month',\n",
    "            #'year','dayofyear',\n",
    "            'Dayofmonth','Weekofyear']]\n",
    "    return X"
   ]
  },
  {
   "cell_type": "code",
   "execution_count": 9,
   "metadata": {
    "ExecuteTime": {
     "end_time": "2020-12-17T12:49:50.904926Z",
     "start_time": "2020-12-17T12:49:50.579551Z"
    }
   },
   "outputs": [
    {
     "data": {
      "text/html": [
       "<div>\n",
       "<style scoped>\n",
       "    .dataframe tbody tr th:only-of-type {\n",
       "        vertical-align: middle;\n",
       "    }\n",
       "\n",
       "    .dataframe tbody tr th {\n",
       "        vertical-align: top;\n",
       "    }\n",
       "\n",
       "    .dataframe thead th {\n",
       "        text-align: right;\n",
       "    }\n",
       "</style>\n",
       "<table border=\"1\" class=\"dataframe\">\n",
       "  <thead>\n",
       "    <tr style=\"text-align: right;\">\n",
       "      <th></th>\n",
       "      <th>Hour</th>\n",
       "      <th>Dayofweek</th>\n",
       "      <th>Quarter</th>\n",
       "      <th>Month</th>\n",
       "      <th>Dayofmonth</th>\n",
       "      <th>Weekofyear</th>\n",
       "    </tr>\n",
       "  </thead>\n",
       "  <tbody>\n",
       "    <tr>\n",
       "      <th>0</th>\n",
       "      <td>0</td>\n",
       "      <td>1</td>\n",
       "      <td>1</td>\n",
       "      <td>1</td>\n",
       "      <td>1</td>\n",
       "      <td>1</td>\n",
       "    </tr>\n",
       "    <tr>\n",
       "      <th>1</th>\n",
       "      <td>1</td>\n",
       "      <td>1</td>\n",
       "      <td>1</td>\n",
       "      <td>1</td>\n",
       "      <td>1</td>\n",
       "      <td>1</td>\n",
       "    </tr>\n",
       "    <tr>\n",
       "      <th>2</th>\n",
       "      <td>2</td>\n",
       "      <td>1</td>\n",
       "      <td>1</td>\n",
       "      <td>1</td>\n",
       "      <td>1</td>\n",
       "      <td>1</td>\n",
       "    </tr>\n",
       "    <tr>\n",
       "      <th>3</th>\n",
       "      <td>3</td>\n",
       "      <td>1</td>\n",
       "      <td>1</td>\n",
       "      <td>1</td>\n",
       "      <td>1</td>\n",
       "      <td>1</td>\n",
       "    </tr>\n",
       "    <tr>\n",
       "      <th>4</th>\n",
       "      <td>4</td>\n",
       "      <td>1</td>\n",
       "      <td>1</td>\n",
       "      <td>1</td>\n",
       "      <td>1</td>\n",
       "      <td>1</td>\n",
       "    </tr>\n",
       "    <tr>\n",
       "      <th>...</th>\n",
       "      <td>...</td>\n",
       "      <td>...</td>\n",
       "      <td>...</td>\n",
       "      <td>...</td>\n",
       "      <td>...</td>\n",
       "      <td>...</td>\n",
       "    </tr>\n",
       "    <tr>\n",
       "      <th>8535</th>\n",
       "      <td>19</td>\n",
       "      <td>1</td>\n",
       "      <td>4</td>\n",
       "      <td>12</td>\n",
       "      <td>31</td>\n",
       "      <td>1</td>\n",
       "    </tr>\n",
       "    <tr>\n",
       "      <th>8536</th>\n",
       "      <td>20</td>\n",
       "      <td>1</td>\n",
       "      <td>4</td>\n",
       "      <td>12</td>\n",
       "      <td>31</td>\n",
       "      <td>1</td>\n",
       "    </tr>\n",
       "    <tr>\n",
       "      <th>8537</th>\n",
       "      <td>21</td>\n",
       "      <td>1</td>\n",
       "      <td>4</td>\n",
       "      <td>12</td>\n",
       "      <td>31</td>\n",
       "      <td>1</td>\n",
       "    </tr>\n",
       "    <tr>\n",
       "      <th>8538</th>\n",
       "      <td>22</td>\n",
       "      <td>1</td>\n",
       "      <td>4</td>\n",
       "      <td>12</td>\n",
       "      <td>31</td>\n",
       "      <td>1</td>\n",
       "    </tr>\n",
       "    <tr>\n",
       "      <th>8539</th>\n",
       "      <td>23</td>\n",
       "      <td>1</td>\n",
       "      <td>4</td>\n",
       "      <td>12</td>\n",
       "      <td>31</td>\n",
       "      <td>1</td>\n",
       "    </tr>\n",
       "  </tbody>\n",
       "</table>\n",
       "<p>8438 rows × 6 columns</p>\n",
       "</div>"
      ],
      "text/plain": [
       "      Hour  Dayofweek  Quarter  Month  Dayofmonth  Weekofyear\n",
       "0        0          1        1      1           1           1\n",
       "1        1          1        1      1           1           1\n",
       "2        2          1        1      1           1           1\n",
       "3        3          1        1      1           1           1\n",
       "4        4          1        1      1           1           1\n",
       "...    ...        ...      ...    ...         ...         ...\n",
       "8535    19          1        4     12          31           1\n",
       "8536    20          1        4     12          31           1\n",
       "8537    21          1        4     12          31           1\n",
       "8538    22          1        4     12          31           1\n",
       "8539    23          1        4     12          31           1\n",
       "\n",
       "[8438 rows x 6 columns]"
      ]
     },
     "execution_count": 9,
     "metadata": {},
     "output_type": "execute_result"
    }
   ],
   "source": [
    "TimeSplit(df)"
   ]
  },
  {
   "cell_type": "markdown",
   "metadata": {},
   "source": [
    "### Function TimeOfDay \n",
    "\n",
    "It takes hour derived with the previous function and splits in 5 categories:\n",
    "* morning rush (5-10)\n",
    "* office hours (10-15)\n",
    "* afternoon rush (15-19)\n",
    "* evening (19-23)\n",
    "* night (23-5)"
   ]
  },
  {
   "cell_type": "code",
   "execution_count": 10,
   "metadata": {
    "ExecuteTime": {
     "end_time": "2020-12-17T12:49:50.918726Z",
     "start_time": "2020-12-17T12:49:50.908932Z"
    }
   },
   "outputs": [],
   "source": [
    "def TimeOfDay(hour):\n",
    "    if hour >= 5 and hour < 10:\n",
    "        return \"Morning rush (5-10)\"\n",
    "    elif hour >= 10 and hour < 15:\n",
    "        return \"Office hours (10-15)\"\n",
    "    elif hour >= 15 and hour < 19:\n",
    "        return \"Afternoon rush (15-19)\"\n",
    "    elif hour >= 19 and hour < 23:\n",
    "        return \"Evening (19-23)\"\n",
    "    else:\n",
    "        return \"Night (23-5)\""
   ]
  },
  {
   "cell_type": "code",
   "execution_count": 11,
   "metadata": {
    "ExecuteTime": {
     "end_time": "2020-12-17T12:49:50.935938Z",
     "start_time": "2020-12-17T12:49:50.922965Z"
    }
   },
   "outputs": [],
   "source": [
    "df['Time_of_Day'] = df['Hour'].apply(TimeOfDay)"
   ]
  },
  {
   "cell_type": "markdown",
   "metadata": {},
   "source": [
    "Package holidays are imported and respective holidays for England in 2018 is appended to dataframe bank_holidays. \n",
    "United_Kingdom contains holidays for Scotland, Wales and Ireland, which are not bank holidays across all United Kingdom. "
   ]
  },
  {
   "cell_type": "code",
   "execution_count": 12,
   "metadata": {
    "ExecuteTime": {
     "end_time": "2020-12-17T12:49:51.297742Z",
     "start_time": "2020-12-17T12:49:50.940552Z"
    }
   },
   "outputs": [],
   "source": [
    "import holidays \n",
    "uk_holidays = holidays.UnitedKingdom() \n",
    "bank_holidays = []\n",
    "\n",
    "for ptr in holidays.England(years = 2018).items(): \n",
    "    bank_holidays.append(str(ptr[0]))"
   ]
  },
  {
   "cell_type": "markdown",
   "metadata": {},
   "source": [
    "### Function Is_it_weekend \n",
    "Returning 1 if it is Sunday, Saturday or Bank Holiday in England. "
   ]
  },
  {
   "cell_type": "code",
   "execution_count": 13,
   "metadata": {
    "ExecuteTime": {
     "end_time": "2020-12-17T12:49:51.308873Z",
     "start_time": "2020-12-17T12:49:51.300797Z"
    }
   },
   "outputs": [],
   "source": [
    "def is_it_weekend(x):\n",
    "    m = x.normalize()\n",
    "    if m.dayofweek+1 == 6:\n",
    "        return 1\n",
    "    elif m.dayofweek+1 == 7:\n",
    "        return 1\n",
    "    elif str(m.date()) in bank_holidays:\n",
    "        return 1\n",
    "    else:\n",
    "        return 0"
   ]
  },
  {
   "cell_type": "code",
   "execution_count": 14,
   "metadata": {
    "ExecuteTime": {
     "end_time": "2020-12-17T12:49:51.494093Z",
     "start_time": "2020-12-17T12:49:51.313124Z"
    }
   },
   "outputs": [],
   "source": [
    "df['Weekend'] = df.datetime.apply(is_it_weekend)"
   ]
  },
  {
   "cell_type": "code",
   "execution_count": 15,
   "metadata": {
    "ExecuteTime": {
     "end_time": "2020-12-17T12:49:51.503513Z",
     "start_time": "2020-12-17T12:49:51.496990Z"
    }
   },
   "outputs": [],
   "source": [
    "#Function to change True/False to 1/0\n",
    "\n",
    "def Liking(x):\n",
    "    if str.lower(str(x)) == \"true\":\n",
    "        return 1\n",
    "    else:\n",
    "        return 0 "
   ]
  },
  {
   "cell_type": "code",
   "execution_count": 16,
   "metadata": {
    "ExecuteTime": {
     "end_time": "2020-12-17T12:49:51.530564Z",
     "start_time": "2020-12-17T12:49:51.507529Z"
    }
   },
   "outputs": [
    {
     "data": {
      "text/plain": [
       "count    8438.000000\n",
       "mean        0.008177\n",
       "std         0.090063\n",
       "min         0.000000\n",
       "25%         0.000000\n",
       "50%         0.000000\n",
       "75%         0.000000\n",
       "max         1.000000\n",
       "Name: High_Winds, dtype: float64"
      ]
     },
     "execution_count": 16,
     "metadata": {},
     "output_type": "execute_result"
    }
   ],
   "source": [
    "df.High_Winds.apply(Liking).describe()"
   ]
  },
  {
   "cell_type": "code",
   "execution_count": 17,
   "metadata": {
    "ExecuteTime": {
     "end_time": "2020-12-17T12:49:51.565293Z",
     "start_time": "2020-12-17T12:49:51.534590Z"
    }
   },
   "outputs": [
    {
     "data": {
      "text/html": [
       "<div>\n",
       "<style scoped>\n",
       "    .dataframe tbody tr th:only-of-type {\n",
       "        vertical-align: middle;\n",
       "    }\n",
       "\n",
       "    .dataframe tbody tr th {\n",
       "        vertical-align: top;\n",
       "    }\n",
       "\n",
       "    .dataframe thead th {\n",
       "        text-align: right;\n",
       "    }\n",
       "</style>\n",
       "<table border=\"1\" class=\"dataframe\">\n",
       "  <thead>\n",
       "    <tr style=\"text-align: right;\">\n",
       "      <th></th>\n",
       "      <th>datetime</th>\n",
       "      <th>Count</th>\n",
       "      <th>Day_of_Week</th>\n",
       "      <th>Precipitation</th>\n",
       "      <th>High_Winds</th>\n",
       "      <th>Road_Surface_Conditions</th>\n",
       "      <th>Light_Conditions</th>\n",
       "      <th>Urban_or_Rural_Area</th>\n",
       "      <th>Hour</th>\n",
       "      <th>Dayofweek</th>\n",
       "      <th>Quarter</th>\n",
       "      <th>Month</th>\n",
       "      <th>Dayofmonth</th>\n",
       "      <th>Weekofyear</th>\n",
       "      <th>Time_of_Day</th>\n",
       "      <th>Weekend</th>\n",
       "    </tr>\n",
       "  </thead>\n",
       "  <tbody>\n",
       "    <tr>\n",
       "      <th>8465</th>\n",
       "      <td>2018-12-28 19:00:00</td>\n",
       "      <td>15</td>\n",
       "      <td>Friday</td>\n",
       "      <td>Fine</td>\n",
       "      <td>False</td>\n",
       "      <td>Dry</td>\n",
       "      <td>Darkness - lights lit</td>\n",
       "      <td>Urban</td>\n",
       "      <td>19</td>\n",
       "      <td>5</td>\n",
       "      <td>4</td>\n",
       "      <td>12</td>\n",
       "      <td>28</td>\n",
       "      <td>52</td>\n",
       "      <td>Evening (19-23)</td>\n",
       "      <td>0</td>\n",
       "    </tr>\n",
       "    <tr>\n",
       "      <th>7378</th>\n",
       "      <td>2018-11-12 12:00:00</td>\n",
       "      <td>18</td>\n",
       "      <td>Monday</td>\n",
       "      <td>Fine</td>\n",
       "      <td>False</td>\n",
       "      <td>Dry</td>\n",
       "      <td>Daylight</td>\n",
       "      <td>Urban</td>\n",
       "      <td>12</td>\n",
       "      <td>1</td>\n",
       "      <td>4</td>\n",
       "      <td>11</td>\n",
       "      <td>12</td>\n",
       "      <td>46</td>\n",
       "      <td>Office hours (10-15)</td>\n",
       "      <td>0</td>\n",
       "    </tr>\n",
       "    <tr>\n",
       "      <th>5826</th>\n",
       "      <td>2018-09-07 13:00:00</td>\n",
       "      <td>20</td>\n",
       "      <td>Friday</td>\n",
       "      <td>Fine</td>\n",
       "      <td>False</td>\n",
       "      <td>Dry</td>\n",
       "      <td>Daylight</td>\n",
       "      <td>Urban</td>\n",
       "      <td>13</td>\n",
       "      <td>5</td>\n",
       "      <td>3</td>\n",
       "      <td>9</td>\n",
       "      <td>7</td>\n",
       "      <td>36</td>\n",
       "      <td>Office hours (10-15)</td>\n",
       "      <td>0</td>\n",
       "    </tr>\n",
       "    <tr>\n",
       "      <th>2787</th>\n",
       "      <td>2018-04-30 18:00:00</td>\n",
       "      <td>19</td>\n",
       "      <td>Monday</td>\n",
       "      <td>Fine</td>\n",
       "      <td>False</td>\n",
       "      <td>Dry</td>\n",
       "      <td>Daylight</td>\n",
       "      <td>Urban</td>\n",
       "      <td>18</td>\n",
       "      <td>1</td>\n",
       "      <td>2</td>\n",
       "      <td>4</td>\n",
       "      <td>30</td>\n",
       "      <td>18</td>\n",
       "      <td>Afternoon rush (15-19)</td>\n",
       "      <td>0</td>\n",
       "    </tr>\n",
       "    <tr>\n",
       "      <th>6208</th>\n",
       "      <td>2018-09-23 22:00:00</td>\n",
       "      <td>3</td>\n",
       "      <td>Sunday</td>\n",
       "      <td>Fine</td>\n",
       "      <td>False</td>\n",
       "      <td>Dry</td>\n",
       "      <td>Darkness - lights lit</td>\n",
       "      <td>Urban</td>\n",
       "      <td>22</td>\n",
       "      <td>7</td>\n",
       "      <td>3</td>\n",
       "      <td>9</td>\n",
       "      <td>23</td>\n",
       "      <td>38</td>\n",
       "      <td>Evening (19-23)</td>\n",
       "      <td>1</td>\n",
       "    </tr>\n",
       "  </tbody>\n",
       "</table>\n",
       "</div>"
      ],
      "text/plain": [
       "                datetime  Count Day_of_Week Precipitation  High_Winds  \\\n",
       "8465 2018-12-28 19:00:00     15      Friday          Fine       False   \n",
       "7378 2018-11-12 12:00:00     18      Monday          Fine       False   \n",
       "5826 2018-09-07 13:00:00     20      Friday          Fine       False   \n",
       "2787 2018-04-30 18:00:00     19      Monday          Fine       False   \n",
       "6208 2018-09-23 22:00:00      3      Sunday          Fine       False   \n",
       "\n",
       "     Road_Surface_Conditions       Light_Conditions Urban_or_Rural_Area  Hour  \\\n",
       "8465                     Dry  Darkness - lights lit               Urban    19   \n",
       "7378                     Dry               Daylight               Urban    12   \n",
       "5826                     Dry               Daylight               Urban    13   \n",
       "2787                     Dry               Daylight               Urban    18   \n",
       "6208                     Dry  Darkness - lights lit               Urban    22   \n",
       "\n",
       "      Dayofweek  Quarter  Month  Dayofmonth  Weekofyear  \\\n",
       "8465          5        4     12          28          52   \n",
       "7378          1        4     11          12          46   \n",
       "5826          5        3      9           7          36   \n",
       "2787          1        2      4          30          18   \n",
       "6208          7        3      9          23          38   \n",
       "\n",
       "                 Time_of_Day  Weekend  \n",
       "8465         Evening (19-23)        0  \n",
       "7378    Office hours (10-15)        0  \n",
       "5826    Office hours (10-15)        0  \n",
       "2787  Afternoon rush (15-19)        0  \n",
       "6208         Evening (19-23)        1  "
      ]
     },
     "execution_count": 17,
     "metadata": {},
     "output_type": "execute_result"
    }
   ],
   "source": [
    "df.sample(5)"
   ]
  },
  {
   "cell_type": "code",
   "execution_count": 18,
   "metadata": {
    "ExecuteTime": {
     "end_time": "2020-12-17T12:49:51.617788Z",
     "start_time": "2020-12-17T12:49:51.570343Z"
    }
   },
   "outputs": [
    {
     "data": {
      "text/html": [
       "<div>\n",
       "<style scoped>\n",
       "    .dataframe tbody tr th:only-of-type {\n",
       "        vertical-align: middle;\n",
       "    }\n",
       "\n",
       "    .dataframe tbody tr th {\n",
       "        vertical-align: top;\n",
       "    }\n",
       "\n",
       "    .dataframe thead th {\n",
       "        text-align: right;\n",
       "    }\n",
       "</style>\n",
       "<table border=\"1\" class=\"dataframe\">\n",
       "  <thead>\n",
       "    <tr style=\"text-align: right;\">\n",
       "      <th></th>\n",
       "      <th>Count</th>\n",
       "      <th>Hour</th>\n",
       "      <th>Dayofweek</th>\n",
       "      <th>Quarter</th>\n",
       "      <th>Month</th>\n",
       "      <th>Dayofmonth</th>\n",
       "      <th>Weekofyear</th>\n",
       "      <th>Weekend</th>\n",
       "    </tr>\n",
       "  </thead>\n",
       "  <tbody>\n",
       "    <tr>\n",
       "      <th>count</th>\n",
       "      <td>8438.000000</td>\n",
       "      <td>8438.000000</td>\n",
       "      <td>8438.000000</td>\n",
       "      <td>8438.000000</td>\n",
       "      <td>8438.000000</td>\n",
       "      <td>8438.000000</td>\n",
       "      <td>8438.000000</td>\n",
       "      <td>8438.000000</td>\n",
       "    </tr>\n",
       "    <tr>\n",
       "      <th>mean</th>\n",
       "      <td>14.505689</td>\n",
       "      <td>11.795094</td>\n",
       "      <td>4.020028</td>\n",
       "      <td>2.518369</td>\n",
       "      <td>6.547997</td>\n",
       "      <td>15.738327</td>\n",
       "      <td>26.536857</td>\n",
       "      <td>0.313344</td>\n",
       "    </tr>\n",
       "    <tr>\n",
       "      <th>std</th>\n",
       "      <td>10.455079</td>\n",
       "      <td>6.833816</td>\n",
       "      <td>2.007088</td>\n",
       "      <td>1.113807</td>\n",
       "      <td>3.437139</td>\n",
       "      <td>8.801340</td>\n",
       "      <td>15.000976</td>\n",
       "      <td>0.463881</td>\n",
       "    </tr>\n",
       "    <tr>\n",
       "      <th>min</th>\n",
       "      <td>1.000000</td>\n",
       "      <td>0.000000</td>\n",
       "      <td>1.000000</td>\n",
       "      <td>1.000000</td>\n",
       "      <td>1.000000</td>\n",
       "      <td>1.000000</td>\n",
       "      <td>1.000000</td>\n",
       "      <td>0.000000</td>\n",
       "    </tr>\n",
       "    <tr>\n",
       "      <th>25%</th>\n",
       "      <td>6.000000</td>\n",
       "      <td>6.000000</td>\n",
       "      <td>2.000000</td>\n",
       "      <td>2.000000</td>\n",
       "      <td>4.000000</td>\n",
       "      <td>8.000000</td>\n",
       "      <td>14.000000</td>\n",
       "      <td>0.000000</td>\n",
       "    </tr>\n",
       "    <tr>\n",
       "      <th>50%</th>\n",
       "      <td>13.000000</td>\n",
       "      <td>12.000000</td>\n",
       "      <td>4.000000</td>\n",
       "      <td>3.000000</td>\n",
       "      <td>7.000000</td>\n",
       "      <td>16.000000</td>\n",
       "      <td>27.000000</td>\n",
       "      <td>0.000000</td>\n",
       "    </tr>\n",
       "    <tr>\n",
       "      <th>75%</th>\n",
       "      <td>21.000000</td>\n",
       "      <td>18.000000</td>\n",
       "      <td>6.000000</td>\n",
       "      <td>4.000000</td>\n",
       "      <td>10.000000</td>\n",
       "      <td>23.000000</td>\n",
       "      <td>40.000000</td>\n",
       "      <td>1.000000</td>\n",
       "    </tr>\n",
       "    <tr>\n",
       "      <th>max</th>\n",
       "      <td>62.000000</td>\n",
       "      <td>23.000000</td>\n",
       "      <td>7.000000</td>\n",
       "      <td>4.000000</td>\n",
       "      <td>12.000000</td>\n",
       "      <td>31.000000</td>\n",
       "      <td>52.000000</td>\n",
       "      <td>1.000000</td>\n",
       "    </tr>\n",
       "  </tbody>\n",
       "</table>\n",
       "</div>"
      ],
      "text/plain": [
       "             Count         Hour    Dayofweek      Quarter        Month  \\\n",
       "count  8438.000000  8438.000000  8438.000000  8438.000000  8438.000000   \n",
       "mean     14.505689    11.795094     4.020028     2.518369     6.547997   \n",
       "std      10.455079     6.833816     2.007088     1.113807     3.437139   \n",
       "min       1.000000     0.000000     1.000000     1.000000     1.000000   \n",
       "25%       6.000000     6.000000     2.000000     2.000000     4.000000   \n",
       "50%      13.000000    12.000000     4.000000     3.000000     7.000000   \n",
       "75%      21.000000    18.000000     6.000000     4.000000    10.000000   \n",
       "max      62.000000    23.000000     7.000000     4.000000    12.000000   \n",
       "\n",
       "        Dayofmonth   Weekofyear      Weekend  \n",
       "count  8438.000000  8438.000000  8438.000000  \n",
       "mean     15.738327    26.536857     0.313344  \n",
       "std       8.801340    15.000976     0.463881  \n",
       "min       1.000000     1.000000     0.000000  \n",
       "25%       8.000000    14.000000     0.000000  \n",
       "50%      16.000000    27.000000     0.000000  \n",
       "75%      23.000000    40.000000     1.000000  \n",
       "max      31.000000    52.000000     1.000000  "
      ]
     },
     "execution_count": 18,
     "metadata": {},
     "output_type": "execute_result"
    }
   ],
   "source": [
    "df.describe()"
   ]
  },
  {
   "cell_type": "markdown",
   "metadata": {},
   "source": [
    "## Distribution plots "
   ]
  },
  {
   "cell_type": "code",
   "execution_count": 19,
   "metadata": {
    "ExecuteTime": {
     "end_time": "2020-12-17T12:49:51.643967Z",
     "start_time": "2020-12-17T12:49:51.622099Z"
    }
   },
   "outputs": [
    {
     "name": "stdout",
     "output_type": "stream",
     "text": [
      "<class 'pandas.core.frame.DataFrame'>\n",
      "Int64Index: 8438 entries, 0 to 8539\n",
      "Data columns (total 16 columns):\n",
      " #   Column                   Non-Null Count  Dtype         \n",
      "---  ------                   --------------  -----         \n",
      " 0   datetime                 8438 non-null   datetime64[ns]\n",
      " 1   Count                    8438 non-null   int64         \n",
      " 2   Day_of_Week              8438 non-null   object        \n",
      " 3   Precipitation            8438 non-null   object        \n",
      " 4   High_Winds               8438 non-null   bool          \n",
      " 5   Road_Surface_Conditions  8438 non-null   object        \n",
      " 6   Light_Conditions         8438 non-null   object        \n",
      " 7   Urban_or_Rural_Area      8438 non-null   object        \n",
      " 8   Hour                     8438 non-null   int64         \n",
      " 9   Dayofweek                8438 non-null   int64         \n",
      " 10  Quarter                  8438 non-null   int64         \n",
      " 11  Month                    8438 non-null   int64         \n",
      " 12  Dayofmonth               8438 non-null   int64         \n",
      " 13  Weekofyear               8438 non-null   int64         \n",
      " 14  Time_of_Day              8438 non-null   object        \n",
      " 15  Weekend                  8438 non-null   int64         \n",
      "dtypes: bool(1), datetime64[ns](1), int64(8), object(6)\n",
      "memory usage: 1.0+ MB\n"
     ]
    }
   ],
   "source": [
    "df.info()"
   ]
  },
  {
   "cell_type": "markdown",
   "metadata": {
    "ExecuteTime": {
     "end_time": "2020-12-17T11:38:14.999483Z",
     "start_time": "2020-12-17T11:38:13.276360Z"
    }
   },
   "source": [
    "import matplotlib.pyplot as plt\n",
    "\n",
    "categorical_features = df.select_dtypes(include=['object', 'bool']).columns\n",
    "\n",
    "fig, ax = plt.subplots(1, len(categorical_features), figsize=(25, 4))\n",
    "for i, categorical_feature in enumerate(df[categorical_features]):\n",
    "    df[categorical_feature].value_counts().plot(kind=\"bar\", ax=ax[i]).set_title(categorical_feature)"
   ]
  },
  {
   "cell_type": "markdown",
   "metadata": {
    "ExecuteTime": {
     "end_time": "2020-12-16T13:40:35.879054Z",
     "start_time": "2020-12-16T13:40:19.848996Z"
    }
   },
   "source": [
    "for i in df.columns[2:]:\n",
    "    print(i)\n",
    "    plt.figure(figsize=(8, 5))\n",
    "    ax = df[i].value_counts().plot(kind=\"barh\")\n",
    "    ax.invert_yaxis()\n",
    "    plt.show()\n",
    "    print()"
   ]
  },
  {
   "cell_type": "markdown",
   "metadata": {
    "ExecuteTime": {
     "end_time": "2020-12-17T11:28:56.283999Z",
     "start_time": "2020-12-17T11:28:56.239309Z"
    }
   },
   "source": [
    "df.pivot_table(index=(['Urban_or_Rural_Area','Day_of_Week'])\n",
    "               , values='Count'\n",
    "               , aggfunc=(\"count\",\"sum\")\n",
    "              ).reset_index().sort_values('count', ascending=False)"
   ]
  },
  {
   "cell_type": "markdown",
   "metadata": {},
   "source": [
    "## Create  dummies "
   ]
  },
  {
   "cell_type": "code",
   "execution_count": 20,
   "metadata": {
    "ExecuteTime": {
     "end_time": "2020-12-17T12:49:51.672205Z",
     "start_time": "2020-12-17T12:49:51.652364Z"
    }
   },
   "outputs": [
    {
     "data": {
      "text/plain": [
       "Index(['datetime', 'Count', 'Day_of_Week', 'Precipitation', 'High_Winds',\n",
       "       'Road_Surface_Conditions', 'Light_Conditions', 'Urban_or_Rural_Area',\n",
       "       'Hour', 'Dayofweek', 'Quarter', 'Month', 'Dayofmonth', 'Weekofyear',\n",
       "       'Time_of_Day', 'Weekend'],\n",
       "      dtype='object')"
      ]
     },
     "execution_count": 20,
     "metadata": {},
     "output_type": "execute_result"
    }
   ],
   "source": [
    "df2.columns"
   ]
  },
  {
   "cell_type": "code",
   "execution_count": 21,
   "metadata": {
    "ExecuteTime": {
     "end_time": "2020-12-17T12:49:51.685517Z",
     "start_time": "2020-12-17T12:49:51.676688Z"
    }
   },
   "outputs": [],
   "source": [
    "categorical = ['Precipitation', 'High_Winds','Road_Surface_Conditions', 'Light_Conditions', 'Urban_or_Rural_Area',\n",
    "       'Hour', 'Dayofweek', 'Quarter', 'Month', 'Dayofmonth', 'Weekofyear',\n",
    "       'Time_of_Day']"
   ]
  },
  {
   "cell_type": "code",
   "execution_count": 22,
   "metadata": {
    "ExecuteTime": {
     "end_time": "2020-12-17T12:49:51.740339Z",
     "start_time": "2020-12-17T12:49:51.713954Z"
    }
   },
   "outputs": [],
   "source": [
    "df2 = pd.get_dummies(df2, drop_first=True)"
   ]
  },
  {
   "cell_type": "markdown",
   "metadata": {
    "ExecuteTime": {
     "end_time": "2020-12-17T11:28:56.409584Z",
     "start_time": "2020-12-17T11:28:56.391325Z"
    }
   },
   "source": [
    "## delete the categorical column\n",
    "for i in categorical:\n",
    "    del df2[i]"
   ]
  },
  {
   "cell_type": "code",
   "execution_count": 23,
   "metadata": {
    "ExecuteTime": {
     "end_time": "2020-12-17T12:49:51.786462Z",
     "start_time": "2020-12-17T12:49:51.747587Z"
    }
   },
   "outputs": [
    {
     "data": {
      "text/html": [
       "<div>\n",
       "<style scoped>\n",
       "    .dataframe tbody tr th:only-of-type {\n",
       "        vertical-align: middle;\n",
       "    }\n",
       "\n",
       "    .dataframe tbody tr th {\n",
       "        vertical-align: top;\n",
       "    }\n",
       "\n",
       "    .dataframe thead th {\n",
       "        text-align: right;\n",
       "    }\n",
       "</style>\n",
       "<table border=\"1\" class=\"dataframe\">\n",
       "  <thead>\n",
       "    <tr style=\"text-align: right;\">\n",
       "      <th></th>\n",
       "      <th>datetime</th>\n",
       "      <th>Count</th>\n",
       "      <th>High_Winds</th>\n",
       "      <th>Hour</th>\n",
       "      <th>Dayofweek</th>\n",
       "      <th>Quarter</th>\n",
       "      <th>Month</th>\n",
       "      <th>Dayofmonth</th>\n",
       "      <th>Weekofyear</th>\n",
       "      <th>Weekend</th>\n",
       "      <th>...</th>\n",
       "      <th>Road_Surface_Conditions_Wet or damp</th>\n",
       "      <th>Light_Conditions_Darkness - lights lit</th>\n",
       "      <th>Light_Conditions_Darkness - lights unlit</th>\n",
       "      <th>Light_Conditions_Darkness - no lighting</th>\n",
       "      <th>Light_Conditions_Daylight</th>\n",
       "      <th>Urban_or_Rural_Area_Urban</th>\n",
       "      <th>Time_of_Day_Evening (19-23)</th>\n",
       "      <th>Time_of_Day_Morning rush (5-10)</th>\n",
       "      <th>Time_of_Day_Night (23-5)</th>\n",
       "      <th>Time_of_Day_Office hours (10-15)</th>\n",
       "    </tr>\n",
       "  </thead>\n",
       "  <tbody>\n",
       "    <tr>\n",
       "      <th>0</th>\n",
       "      <td>2018-01-01 00:00:00</td>\n",
       "      <td>18</td>\n",
       "      <td>False</td>\n",
       "      <td>0</td>\n",
       "      <td>1</td>\n",
       "      <td>1</td>\n",
       "      <td>1</td>\n",
       "      <td>1</td>\n",
       "      <td>1</td>\n",
       "      <td>1</td>\n",
       "      <td>...</td>\n",
       "      <td>0</td>\n",
       "      <td>1</td>\n",
       "      <td>0</td>\n",
       "      <td>0</td>\n",
       "      <td>0</td>\n",
       "      <td>1</td>\n",
       "      <td>0</td>\n",
       "      <td>0</td>\n",
       "      <td>1</td>\n",
       "      <td>0</td>\n",
       "    </tr>\n",
       "    <tr>\n",
       "      <th>1</th>\n",
       "      <td>2018-01-01 01:00:00</td>\n",
       "      <td>9</td>\n",
       "      <td>False</td>\n",
       "      <td>1</td>\n",
       "      <td>1</td>\n",
       "      <td>1</td>\n",
       "      <td>1</td>\n",
       "      <td>1</td>\n",
       "      <td>1</td>\n",
       "      <td>1</td>\n",
       "      <td>...</td>\n",
       "      <td>1</td>\n",
       "      <td>1</td>\n",
       "      <td>0</td>\n",
       "      <td>0</td>\n",
       "      <td>0</td>\n",
       "      <td>1</td>\n",
       "      <td>0</td>\n",
       "      <td>0</td>\n",
       "      <td>1</td>\n",
       "      <td>0</td>\n",
       "    </tr>\n",
       "    <tr>\n",
       "      <th>2</th>\n",
       "      <td>2018-01-01 02:00:00</td>\n",
       "      <td>14</td>\n",
       "      <td>False</td>\n",
       "      <td>2</td>\n",
       "      <td>1</td>\n",
       "      <td>1</td>\n",
       "      <td>1</td>\n",
       "      <td>1</td>\n",
       "      <td>1</td>\n",
       "      <td>1</td>\n",
       "      <td>...</td>\n",
       "      <td>1</td>\n",
       "      <td>1</td>\n",
       "      <td>0</td>\n",
       "      <td>0</td>\n",
       "      <td>0</td>\n",
       "      <td>1</td>\n",
       "      <td>0</td>\n",
       "      <td>0</td>\n",
       "      <td>1</td>\n",
       "      <td>0</td>\n",
       "    </tr>\n",
       "    <tr>\n",
       "      <th>3</th>\n",
       "      <td>2018-01-01 03:00:00</td>\n",
       "      <td>10</td>\n",
       "      <td>False</td>\n",
       "      <td>3</td>\n",
       "      <td>1</td>\n",
       "      <td>1</td>\n",
       "      <td>1</td>\n",
       "      <td>1</td>\n",
       "      <td>1</td>\n",
       "      <td>1</td>\n",
       "      <td>...</td>\n",
       "      <td>1</td>\n",
       "      <td>1</td>\n",
       "      <td>0</td>\n",
       "      <td>0</td>\n",
       "      <td>0</td>\n",
       "      <td>1</td>\n",
       "      <td>0</td>\n",
       "      <td>0</td>\n",
       "      <td>1</td>\n",
       "      <td>0</td>\n",
       "    </tr>\n",
       "    <tr>\n",
       "      <th>4</th>\n",
       "      <td>2018-01-01 04:00:00</td>\n",
       "      <td>8</td>\n",
       "      <td>False</td>\n",
       "      <td>4</td>\n",
       "      <td>1</td>\n",
       "      <td>1</td>\n",
       "      <td>1</td>\n",
       "      <td>1</td>\n",
       "      <td>1</td>\n",
       "      <td>1</td>\n",
       "      <td>...</td>\n",
       "      <td>0</td>\n",
       "      <td>1</td>\n",
       "      <td>0</td>\n",
       "      <td>0</td>\n",
       "      <td>0</td>\n",
       "      <td>1</td>\n",
       "      <td>0</td>\n",
       "      <td>0</td>\n",
       "      <td>1</td>\n",
       "      <td>0</td>\n",
       "    </tr>\n",
       "    <tr>\n",
       "      <th>...</th>\n",
       "      <td>...</td>\n",
       "      <td>...</td>\n",
       "      <td>...</td>\n",
       "      <td>...</td>\n",
       "      <td>...</td>\n",
       "      <td>...</td>\n",
       "      <td>...</td>\n",
       "      <td>...</td>\n",
       "      <td>...</td>\n",
       "      <td>...</td>\n",
       "      <td>...</td>\n",
       "      <td>...</td>\n",
       "      <td>...</td>\n",
       "      <td>...</td>\n",
       "      <td>...</td>\n",
       "      <td>...</td>\n",
       "      <td>...</td>\n",
       "      <td>...</td>\n",
       "      <td>...</td>\n",
       "      <td>...</td>\n",
       "      <td>...</td>\n",
       "    </tr>\n",
       "    <tr>\n",
       "      <th>8535</th>\n",
       "      <td>2018-12-31 19:00:00</td>\n",
       "      <td>13</td>\n",
       "      <td>False</td>\n",
       "      <td>19</td>\n",
       "      <td>1</td>\n",
       "      <td>4</td>\n",
       "      <td>12</td>\n",
       "      <td>31</td>\n",
       "      <td>1</td>\n",
       "      <td>0</td>\n",
       "      <td>...</td>\n",
       "      <td>0</td>\n",
       "      <td>1</td>\n",
       "      <td>0</td>\n",
       "      <td>0</td>\n",
       "      <td>0</td>\n",
       "      <td>1</td>\n",
       "      <td>1</td>\n",
       "      <td>0</td>\n",
       "      <td>0</td>\n",
       "      <td>0</td>\n",
       "    </tr>\n",
       "    <tr>\n",
       "      <th>8536</th>\n",
       "      <td>2018-12-31 20:00:00</td>\n",
       "      <td>12</td>\n",
       "      <td>False</td>\n",
       "      <td>20</td>\n",
       "      <td>1</td>\n",
       "      <td>4</td>\n",
       "      <td>12</td>\n",
       "      <td>31</td>\n",
       "      <td>1</td>\n",
       "      <td>0</td>\n",
       "      <td>...</td>\n",
       "      <td>0</td>\n",
       "      <td>1</td>\n",
       "      <td>0</td>\n",
       "      <td>0</td>\n",
       "      <td>0</td>\n",
       "      <td>1</td>\n",
       "      <td>1</td>\n",
       "      <td>0</td>\n",
       "      <td>0</td>\n",
       "      <td>0</td>\n",
       "    </tr>\n",
       "    <tr>\n",
       "      <th>8537</th>\n",
       "      <td>2018-12-31 21:00:00</td>\n",
       "      <td>5</td>\n",
       "      <td>False</td>\n",
       "      <td>21</td>\n",
       "      <td>1</td>\n",
       "      <td>4</td>\n",
       "      <td>12</td>\n",
       "      <td>31</td>\n",
       "      <td>1</td>\n",
       "      <td>0</td>\n",
       "      <td>...</td>\n",
       "      <td>0</td>\n",
       "      <td>1</td>\n",
       "      <td>0</td>\n",
       "      <td>0</td>\n",
       "      <td>0</td>\n",
       "      <td>1</td>\n",
       "      <td>1</td>\n",
       "      <td>0</td>\n",
       "      <td>0</td>\n",
       "      <td>0</td>\n",
       "    </tr>\n",
       "    <tr>\n",
       "      <th>8538</th>\n",
       "      <td>2018-12-31 22:00:00</td>\n",
       "      <td>18</td>\n",
       "      <td>False</td>\n",
       "      <td>22</td>\n",
       "      <td>1</td>\n",
       "      <td>4</td>\n",
       "      <td>12</td>\n",
       "      <td>31</td>\n",
       "      <td>1</td>\n",
       "      <td>0</td>\n",
       "      <td>...</td>\n",
       "      <td>0</td>\n",
       "      <td>1</td>\n",
       "      <td>0</td>\n",
       "      <td>0</td>\n",
       "      <td>0</td>\n",
       "      <td>1</td>\n",
       "      <td>1</td>\n",
       "      <td>0</td>\n",
       "      <td>0</td>\n",
       "      <td>0</td>\n",
       "    </tr>\n",
       "    <tr>\n",
       "      <th>8539</th>\n",
       "      <td>2018-12-31 23:00:00</td>\n",
       "      <td>9</td>\n",
       "      <td>False</td>\n",
       "      <td>23</td>\n",
       "      <td>1</td>\n",
       "      <td>4</td>\n",
       "      <td>12</td>\n",
       "      <td>31</td>\n",
       "      <td>1</td>\n",
       "      <td>0</td>\n",
       "      <td>...</td>\n",
       "      <td>0</td>\n",
       "      <td>1</td>\n",
       "      <td>0</td>\n",
       "      <td>0</td>\n",
       "      <td>0</td>\n",
       "      <td>1</td>\n",
       "      <td>0</td>\n",
       "      <td>0</td>\n",
       "      <td>1</td>\n",
       "      <td>0</td>\n",
       "    </tr>\n",
       "  </tbody>\n",
       "</table>\n",
       "<p>8438 rows × 32 columns</p>\n",
       "</div>"
      ],
      "text/plain": [
       "                datetime  Count  High_Winds  Hour  Dayofweek  Quarter  Month  \\\n",
       "0    2018-01-01 00:00:00     18       False     0          1        1      1   \n",
       "1    2018-01-01 01:00:00      9       False     1          1        1      1   \n",
       "2    2018-01-01 02:00:00     14       False     2          1        1      1   \n",
       "3    2018-01-01 03:00:00     10       False     3          1        1      1   \n",
       "4    2018-01-01 04:00:00      8       False     4          1        1      1   \n",
       "...                  ...    ...         ...   ...        ...      ...    ...   \n",
       "8535 2018-12-31 19:00:00     13       False    19          1        4     12   \n",
       "8536 2018-12-31 20:00:00     12       False    20          1        4     12   \n",
       "8537 2018-12-31 21:00:00      5       False    21          1        4     12   \n",
       "8538 2018-12-31 22:00:00     18       False    22          1        4     12   \n",
       "8539 2018-12-31 23:00:00      9       False    23          1        4     12   \n",
       "\n",
       "      Dayofmonth  Weekofyear  Weekend  ...  \\\n",
       "0              1           1        1  ...   \n",
       "1              1           1        1  ...   \n",
       "2              1           1        1  ...   \n",
       "3              1           1        1  ...   \n",
       "4              1           1        1  ...   \n",
       "...          ...         ...      ...  ...   \n",
       "8535          31           1        0  ...   \n",
       "8536          31           1        0  ...   \n",
       "8537          31           1        0  ...   \n",
       "8538          31           1        0  ...   \n",
       "8539          31           1        0  ...   \n",
       "\n",
       "      Road_Surface_Conditions_Wet or damp  \\\n",
       "0                                       0   \n",
       "1                                       1   \n",
       "2                                       1   \n",
       "3                                       1   \n",
       "4                                       0   \n",
       "...                                   ...   \n",
       "8535                                    0   \n",
       "8536                                    0   \n",
       "8537                                    0   \n",
       "8538                                    0   \n",
       "8539                                    0   \n",
       "\n",
       "      Light_Conditions_Darkness - lights lit  \\\n",
       "0                                          1   \n",
       "1                                          1   \n",
       "2                                          1   \n",
       "3                                          1   \n",
       "4                                          1   \n",
       "...                                      ...   \n",
       "8535                                       1   \n",
       "8536                                       1   \n",
       "8537                                       1   \n",
       "8538                                       1   \n",
       "8539                                       1   \n",
       "\n",
       "      Light_Conditions_Darkness - lights unlit  \\\n",
       "0                                            0   \n",
       "1                                            0   \n",
       "2                                            0   \n",
       "3                                            0   \n",
       "4                                            0   \n",
       "...                                        ...   \n",
       "8535                                         0   \n",
       "8536                                         0   \n",
       "8537                                         0   \n",
       "8538                                         0   \n",
       "8539                                         0   \n",
       "\n",
       "      Light_Conditions_Darkness - no lighting  Light_Conditions_Daylight  \\\n",
       "0                                           0                          0   \n",
       "1                                           0                          0   \n",
       "2                                           0                          0   \n",
       "3                                           0                          0   \n",
       "4                                           0                          0   \n",
       "...                                       ...                        ...   \n",
       "8535                                        0                          0   \n",
       "8536                                        0                          0   \n",
       "8537                                        0                          0   \n",
       "8538                                        0                          0   \n",
       "8539                                        0                          0   \n",
       "\n",
       "      Urban_or_Rural_Area_Urban  Time_of_Day_Evening (19-23)  \\\n",
       "0                             1                            0   \n",
       "1                             1                            0   \n",
       "2                             1                            0   \n",
       "3                             1                            0   \n",
       "4                             1                            0   \n",
       "...                         ...                          ...   \n",
       "8535                          1                            1   \n",
       "8536                          1                            1   \n",
       "8537                          1                            1   \n",
       "8538                          1                            1   \n",
       "8539                          1                            0   \n",
       "\n",
       "      Time_of_Day_Morning rush (5-10)  Time_of_Day_Night (23-5)  \\\n",
       "0                                   0                         1   \n",
       "1                                   0                         1   \n",
       "2                                   0                         1   \n",
       "3                                   0                         1   \n",
       "4                                   0                         1   \n",
       "...                               ...                       ...   \n",
       "8535                                0                         0   \n",
       "8536                                0                         0   \n",
       "8537                                0                         0   \n",
       "8538                                0                         0   \n",
       "8539                                0                         1   \n",
       "\n",
       "      Time_of_Day_Office hours (10-15)  \n",
       "0                                    0  \n",
       "1                                    0  \n",
       "2                                    0  \n",
       "3                                    0  \n",
       "4                                    0  \n",
       "...                                ...  \n",
       "8535                                 0  \n",
       "8536                                 0  \n",
       "8537                                 0  \n",
       "8538                                 0  \n",
       "8539                                 0  \n",
       "\n",
       "[8438 rows x 32 columns]"
      ]
     },
     "execution_count": 23,
     "metadata": {},
     "output_type": "execute_result"
    }
   ],
   "source": [
    "df2"
   ]
  },
  {
   "cell_type": "code",
   "execution_count": 24,
   "metadata": {
    "ExecuteTime": {
     "end_time": "2020-12-17T12:49:51.845881Z",
     "start_time": "2020-12-17T12:49:51.791227Z"
    }
   },
   "outputs": [
    {
     "data": {
      "text/plain": [
       "Count                                           1.000000\n",
       "Light_Conditions_Daylight                       0.455375\n",
       "Hour                                            0.365645\n",
       "Urban_or_Rural_Area_Urban                       0.301672\n",
       "Time_of_Day_Office hours (10-15)                0.191140\n",
       "Day_of_Week_Thursday                            0.041966\n",
       "Weekofyear                                      0.041304\n",
       "Quarter                                         0.035880\n",
       "Month                                           0.035640\n",
       "Day_of_Week_Wednesday                           0.034674\n",
       "Day_of_Week_Tuesday                             0.030162\n",
       "Day_of_Week_Monday                              0.002505\n",
       "Dayofmonth                                     -0.003169\n",
       "Road_Surface_Conditions_Frost or ice           -0.019573\n",
       "Road_Surface_Conditions_Flood over 3cm. deep   -0.028196\n",
       "Precipitation_Snowing                          -0.039278\n",
       "Road_Surface_Conditions_Snow                   -0.046214\n",
       "Day_of_Week_Saturday                           -0.057734\n",
       "Precipitation_Fog or mist                      -0.058407\n",
       "Time_of_Day_Morning rush (5-10)                -0.061082\n",
       "Light_Conditions_Darkness - lights unlit       -0.064312\n",
       "High_Winds                                     -0.083819\n",
       "Time_of_Day_Evening (19-23)                    -0.091421\n",
       "Dayofweek                                      -0.092765\n",
       "Precipitation_Raining                          -0.104153\n",
       "Day_of_Week_Sunday                             -0.130711\n",
       "Road_Surface_Conditions_Wet or damp            -0.144277\n",
       "Weekend                                        -0.164889\n",
       "Light_Conditions_Darkness - no lighting        -0.269525\n",
       "Light_Conditions_Darkness - lights lit         -0.305285\n",
       "Time_of_Day_Night (23-5)                       -0.526061\n",
       "Name: Count, dtype: float64"
      ]
     },
     "execution_count": 24,
     "metadata": {},
     "output_type": "execute_result"
    }
   ],
   "source": [
    "corr_matrix = df2.corr()\n",
    "corr_matrix['Count'].sort_values(ascending=False)"
   ]
  },
  {
   "cell_type": "markdown",
   "metadata": {
    "ExecuteTime": {
     "end_time": "2020-12-16T13:23:30.110673Z",
     "start_time": "2020-12-16T13:23:30.106850Z"
    }
   },
   "source": [
    "# Forecasting time series"
   ]
  },
  {
   "cell_type": "markdown",
   "metadata": {},
   "source": [
    "Select 2 columns for forecasting"
   ]
  },
  {
   "cell_type": "code",
   "execution_count": 25,
   "metadata": {
    "ExecuteTime": {
     "end_time": "2020-12-17T12:49:51.858245Z",
     "start_time": "2020-12-17T12:49:51.850091Z"
    }
   },
   "outputs": [],
   "source": [
    "df = df[['datetime', 'Count']]"
   ]
  },
  {
   "cell_type": "code",
   "execution_count": 26,
   "metadata": {
    "ExecuteTime": {
     "end_time": "2020-12-17T12:49:51.868349Z",
     "start_time": "2020-12-17T12:49:51.861682Z"
    }
   },
   "outputs": [],
   "source": [
    "df.DatetimeIndex = df.datetime\n",
    "\n",
    "del df['datetime']"
   ]
  },
  {
   "cell_type": "code",
   "execution_count": 27,
   "metadata": {
    "ExecuteTime": {
     "end_time": "2020-12-17T12:49:51.882148Z",
     "start_time": "2020-12-17T12:49:51.872656Z"
    }
   },
   "outputs": [
    {
     "name": "stdout",
     "output_type": "stream",
     "text": [
      "7594 train and 844 test instances\n"
     ]
    }
   ],
   "source": [
    "from sklearn.model_selection import train_test_split\n",
    "\n",
    "train_set, test_set = train_test_split(df, test_size=0.1, random_state=7, shuffle=False)\n",
    "print(f\"{train_set.shape[0]} train and {test_set.shape[0]} test instances\")"
   ]
  },
  {
   "cell_type": "markdown",
   "metadata": {},
   "source": [
    "## Exploratory Data Analysis\n",
    "\n",
    "Let's plot the data."
   ]
  },
  {
   "cell_type": "code",
   "execution_count": 28,
   "metadata": {
    "ExecuteTime": {
     "end_time": "2020-12-17T12:49:52.539417Z",
     "start_time": "2020-12-17T12:49:51.886702Z"
    }
   },
   "outputs": [
    {
     "data": {
      "text/plain": [
       "<AxesSubplot:>"
      ]
     },
     "execution_count": 28,
     "metadata": {},
     "output_type": "execute_result"
    },
    {
     "data": {
      "image/png": "[encoded data removed]",
      "text/plain": [
       "<Figure size 1152x216 with 1 Axes>"
      ]
     },
     "metadata": {
      "needs_background": "light"
     },
     "output_type": "display_data"
    }
   ],
   "source": [
    "train_set.plot(figsize=(16,3))"
   ]
  },
  {
   "cell_type": "markdown",
   "metadata": {},
   "source": [
    "There does not appear any seasonality or trend in the series."
   ]
  },
  {
   "cell_type": "markdown",
   "metadata": {},
   "source": [
    "## Data cleaning and transformation\n",
    "\n",
    "Before we can start buinding a model, we need to ensure the data is **stationary**. We will use the Augmented Dickey-Fuller (ADF) test and the KPSS (Kwiatkowski-Phillips-Schmidt-Shin) tests to test the series for stationarity."
   ]
  },
  {
   "cell_type": "code",
   "execution_count": 29,
   "metadata": {
    "ExecuteTime": {
     "end_time": "2020-12-17T12:49:54.049974Z",
     "start_time": "2020-12-17T12:49:52.545509Z"
    }
   },
   "outputs": [
    {
     "name": "stdout",
     "output_type": "stream",
     "text": [
      "ADF, p-value: 5.622377150770526e-24\n"
     ]
    }
   ],
   "source": [
    "from statsmodels.tsa.stattools import adfuller, kpss\n",
    "\n",
    "adf_pval = adfuller(train_set['Count'], maxlag=10, regression='nc')[1]\n",
    "\n",
    "print(\"ADF, p-value:\", adf_pval)"
   ]
  },
  {
   "cell_type": "code",
   "execution_count": 30,
   "metadata": {
    "ExecuteTime": {
     "end_time": "2020-12-17T12:49:54.075836Z",
     "start_time": "2020-12-17T12:49:54.053986Z"
    }
   },
   "outputs": [
    {
     "name": "stderr",
     "output_type": "stream",
     "text": [
      "/Users/Edite/opt/anaconda3/lib/python3.7/site-packages/statsmodels/tsa/stattools.py:1708: InterpolationWarning: p-value is smaller than the indicated p-value\n",
      "  warn(\"p-value is smaller than the indicated p-value\", InterpolationWarning)\n"
     ]
    }
   ],
   "source": [
    "kpss_stat, kpss_pval, lags, crit_vals = kpss(train_set['Count'])"
   ]
  },
  {
   "cell_type": "code",
   "execution_count": 31,
   "metadata": {
    "ExecuteTime": {
     "end_time": "2020-12-17T12:49:54.106481Z",
     "start_time": "2020-12-17T12:49:54.084943Z"
    }
   },
   "outputs": [
    {
     "name": "stdout",
     "output_type": "stream",
     "text": [
      "KPSS, p-value: 0.01\n"
     ]
    }
   ],
   "source": [
    "print(\"KPSS, p-value:\", kpss_pval)"
   ]
  },
  {
   "cell_type": "markdown",
   "metadata": {},
   "source": [
    "The series is not stationary in the levels (i.e., in the original form), according to the ADF test, but it is stationary according to the KPSS test. So it would be safer to assume that the series is not stationary. Let us difference it."
   ]
  },
  {
   "cell_type": "code",
   "execution_count": 32,
   "metadata": {
    "ExecuteTime": {
     "end_time": "2020-12-17T12:49:54.220387Z",
     "start_time": "2020-12-17T12:49:54.110637Z"
    }
   },
   "outputs": [
    {
     "name": "stdout",
     "output_type": "stream",
     "text": [
      "ADF, p-value: 0.0\n"
     ]
    }
   ],
   "source": [
    "train_diff = train_set['Count'].diff().dropna()\n",
    "\n",
    "adf_pval = adfuller(train_diff, maxlag=10, regression=\"nc\")[1]\n",
    "print(\"ADF, p-value:\", adf_pval)"
   ]
  },
  {
   "cell_type": "code",
   "execution_count": 33,
   "metadata": {
    "ExecuteTime": {
     "end_time": "2020-12-17T12:49:54.237197Z",
     "start_time": "2020-12-17T12:49:54.224904Z"
    }
   },
   "outputs": [
    {
     "name": "stdout",
     "output_type": "stream",
     "text": [
      "KPSS, p-value: 0.1\n"
     ]
    },
    {
     "name": "stderr",
     "output_type": "stream",
     "text": [
      "/Users/Edite/opt/anaconda3/lib/python3.7/site-packages/statsmodels/tsa/stattools.py:1710: InterpolationWarning: p-value is greater than the indicated p-value\n",
      "  warn(\"p-value is greater than the indicated p-value\", InterpolationWarning)\n"
     ]
    }
   ],
   "source": [
    "kpss_stat, kpss_pval, lags, crit_vals = kpss(train_diff)\n",
    "print(\"KPSS, p-value:\", kpss_pval)"
   ]
  },
  {
   "cell_type": "markdown",
   "metadata": {},
   "source": [
    "The series has become stationary after the first differencing, so we'll use a differenced training set for building a model and we'll also difference the test data in order to be able to evaluate the model."
   ]
  },
  {
   "cell_type": "code",
   "execution_count": 34,
   "metadata": {
    "ExecuteTime": {
     "end_time": "2020-12-17T12:49:54.258389Z",
     "start_time": "2020-12-17T12:49:54.242272Z"
    }
   },
   "outputs": [],
   "source": [
    "test_diff = test_set['Count'].diff().dropna()"
   ]
  },
  {
   "cell_type": "markdown",
   "metadata": {},
   "source": [
    "## Build models\n",
    "\n",
    "### Baseline\n",
    "\n",
    "The persistence baseline is generating the previous day's sales as the prediction for this day."
   ]
  },
  {
   "cell_type": "code",
   "execution_count": 35,
   "metadata": {
    "ExecuteTime": {
     "end_time": "2020-12-17T12:49:54.292245Z",
     "start_time": "2020-12-17T12:49:54.266763Z"
    }
   },
   "outputs": [
    {
     "data": {
      "text/plain": [
       "10.566832886189484"
      ]
     },
     "execution_count": 35,
     "metadata": {},
     "output_type": "execute_result"
    }
   ],
   "source": [
    "baseline_predictions = test_diff.shift()[1:]\n",
    "\n",
    "mse = mean_squared_error(test_diff[1:], baseline_predictions)\n",
    "\n",
    "baseline_rmse = np.sqrt(mse)\n",
    "baseline_rmse"
   ]
  },
  {
   "cell_type": "markdown",
   "metadata": {},
   "source": [
    "### Extra transformation steps\n",
    "\n",
    "We need to do some transformation steps required to be able to input the data into the scikit-learn's implementation of the ML algorithms."
   ]
  },
  {
   "cell_type": "code",
   "execution_count": 36,
   "metadata": {
    "ExecuteTime": {
     "end_time": "2020-12-17T12:49:54.306005Z",
     "start_time": "2020-12-17T12:49:54.295909Z"
    }
   },
   "outputs": [],
   "source": [
    "def create_ar_vars(ts, lags=2):\n",
    "    \"\"\"Create autoregressive X variables\n",
    "    \"\"\"\n",
    "    dataX, dataY = [], []\n",
    "    for i in range(len(ts)-lags):\n",
    "        dataX.append(ts[i:i + lags, 0])\n",
    "        dataY.append(ts[i + lags, 0])\n",
    "    return np.array(dataX), np.array(dataY)"
   ]
  },
  {
   "cell_type": "markdown",
   "metadata": {},
   "source": [
    "We first create separate arrays for the predictors and the target, for both the training and test data. We'll use 3 lags to create autoregressive variables."
   ]
  },
  {
   "cell_type": "code",
   "execution_count": 37,
   "metadata": {
    "ExecuteTime": {
     "end_time": "2020-12-17T12:49:54.353686Z",
     "start_time": "2020-12-17T12:49:54.309961Z"
    }
   },
   "outputs": [],
   "source": [
    "Xtrain, ytrain = create_ar_vars(train_diff.values.reshape(-1, 1), lags=3)\n",
    "Xtest, ytest = create_ar_vars(test_diff.values.reshape(-1, 1), lags=3)"
   ]
  },
  {
   "cell_type": "markdown",
   "metadata": {},
   "source": [
    "Both predictor arrays need to be scaled (but the target variable should not be transformed)."
   ]
  },
  {
   "cell_type": "code",
   "execution_count": 38,
   "metadata": {
    "ExecuteTime": {
     "end_time": "2020-12-17T12:49:54.369795Z",
     "start_time": "2020-12-17T12:49:54.357108Z"
    }
   },
   "outputs": [],
   "source": [
    "from sklearn.preprocessing import StandardScaler\n",
    "\n",
    "scaler = StandardScaler()\n",
    "Xtrain = scaler.fit_transform(Xtrain)\n",
    "Xtest = scaler.transform(Xtest)"
   ]
  },
  {
   "cell_type": "markdown",
   "metadata": {},
   "source": [
    "Then we can use a grid search to find the most optimal hyperparameters settings.\n",
    "\n",
    "### Decision Tree regression\n",
    "\n",
    "We'll fine-tune `min_samples_split` (the minimum number of instances required to be at a node before it gets split) and `max_depth` (the maximum depth of each tree)."
   ]
  },
  {
   "cell_type": "code",
   "execution_count": 39,
   "metadata": {
    "ExecuteTime": {
     "end_time": "2020-12-17T12:49:55.067731Z",
     "start_time": "2020-12-17T12:49:54.373012Z"
    }
   },
   "outputs": [
    {
     "name": "stdout",
     "output_type": "stream",
     "text": [
      "Took 0.686 seconds\n"
     ]
    }
   ],
   "source": [
    "dtree = DecisionTreeRegressor(random_state=7)\n",
    "param_grid = [\n",
    "    {'max_depth': [2, 3, 4, 6, 8, None],\n",
    "    'min_samples_split': [2, 4, 6, 8]}\n",
    "]\n",
    "\n",
    "tscv = TimeSeriesSplit(n_splits=5)\n",
    "dtree_grid_search = GridSearchCV(estimator=dtree, cv=tscv,\n",
    "                        param_grid=param_grid,\n",
    "                        scoring='neg_mean_squared_error', \n",
    "                        return_train_score=True)\n",
    "\n",
    "start = time.time()\n",
    "dtree_grid_search.fit(Xtrain, ytrain)\n",
    "duration = time.time() - start\n",
    "print(f'Took {duration:.3f} seconds')"
   ]
  },
  {
   "cell_type": "code",
   "execution_count": 40,
   "metadata": {
    "ExecuteTime": {
     "end_time": "2020-12-17T12:49:55.084673Z",
     "start_time": "2020-12-17T12:49:55.071524Z"
    }
   },
   "outputs": [
    {
     "name": "stdout",
     "output_type": "stream",
     "text": [
      "7.115521576810344 6.7301399704068 {'max_depth': 4, 'min_samples_split': 4}\n",
      "7.115521576810344 6.7301399704068 {'max_depth': 4, 'min_samples_split': 2}\n",
      "7.115521576810344 6.730299842918821 {'max_depth': 4, 'min_samples_split': 6}\n",
      "7.120182670876918 6.732384782766594 {'max_depth': 4, 'min_samples_split': 8}\n",
      "7.131079534419739 6.469150560390318 {'max_depth': 6, 'min_samples_split': 8}\n",
      "7.152664888585318 6.452828248417701 {'max_depth': 6, 'min_samples_split': 6}\n",
      "7.1830151115782765 6.4317608754627225 {'max_depth': 6, 'min_samples_split': 2}\n",
      "7.186592478434336 6.438900759948303 {'max_depth': 6, 'min_samples_split': 4}\n",
      "7.212511384044695 6.1920611728598765 {'max_depth': 8, 'min_samples_split': 8}\n",
      "7.217467179813765 6.890041795140688 {'max_depth': 3, 'min_samples_split': 8}\n",
      "7.217467179813765 6.890041795140688 {'max_depth': 3, 'min_samples_split': 6}\n",
      "7.217467179813765 6.890041795140688 {'max_depth': 3, 'min_samples_split': 4}\n",
      "7.217467179813765 6.890041795140688 {'max_depth': 3, 'min_samples_split': 2}\n",
      "7.248946744355315 6.152901858867706 {'max_depth': 8, 'min_samples_split': 6}\n",
      "7.296130065988639 7.050322506735844 {'max_depth': 2, 'min_samples_split': 8}\n",
      "7.296130065988639 7.050322506735844 {'max_depth': 2, 'min_samples_split': 6}\n",
      "7.296130065988639 7.050322506735844 {'max_depth': 2, 'min_samples_split': 4}\n",
      "7.296130065988639 7.050322506735844 {'max_depth': 2, 'min_samples_split': 2}\n",
      "7.3046778080366614 6.1162104357759945 {'max_depth': 8, 'min_samples_split': 4}\n",
      "7.323325591834911 6.080008621882861 {'max_depth': 8, 'min_samples_split': 2}\n",
      "8.384569600051174 4.637346440803171 {'max_depth': None, 'min_samples_split': 8}\n",
      "8.686206498710241 4.202755592454401 {'max_depth': None, 'min_samples_split': 6}\n",
      "9.0637907276418 3.5102614463747552 {'max_depth': None, 'min_samples_split': 4}\n",
      "9.438923758209455 2.4921689343267617 {'max_depth': None, 'min_samples_split': 2}\n"
     ]
    }
   ],
   "source": [
    "val_scores = dtree_grid_search.cv_results_[\"mean_test_score\"]\n",
    "train_scores = dtree_grid_search.cv_results_[\"mean_train_score\"]\n",
    "params = [str(x) for x in dtree_grid_search.cv_results_[\"params\"]]\n",
    "\n",
    "for val_score, train_score, param in sorted(zip(val_scores, train_scores, params), reverse=True):\n",
    "    print(np.sqrt(-val_score), np.sqrt(-train_score), param)"
   ]
  },
  {
   "cell_type": "markdown",
   "metadata": {},
   "source": [
    "### Random Forest regression\n",
    "\n",
    "We'll fine-tune `n_estimators` (the number of decision trees used in the random forest) as well as `min_samples_split` and `max_depth` (hyperparameters of specific trees)."
   ]
  },
  {
   "cell_type": "code",
   "execution_count": 41,
   "metadata": {
    "ExecuteTime": {
     "end_time": "2020-12-17T12:50:00.884723Z",
     "start_time": "2020-12-17T12:49:55.088459Z"
    }
   },
   "outputs": [
    {
     "name": "stdout",
     "output_type": "stream",
     "text": [
      "Took 5.781 seconds\n"
     ]
    }
   ],
   "source": [
    "rf = RandomForestRegressor(random_state=7)\n",
    "param_grid = [\n",
    "    {'n_estimators': [2, 3, 5, 10], \n",
    "     'max_depth': [2, 4, 6, 8],\n",
    "     'min_samples_split': [4, 6, 8, 10]\n",
    "    },\n",
    "]\n",
    "\n",
    "tscv = TimeSeriesSplit(n_splits=5)\n",
    "rf_grid_search = GridSearchCV(estimator=rf, cv=tscv,\n",
    "                        param_grid=param_grid,\n",
    "                        scoring='neg_mean_squared_error', \n",
    "                        return_train_score=True)\n",
    "\n",
    "start = time.time()\n",
    "rf_grid_search.fit(Xtrain, ytrain)\n",
    "duration = time.time() - start\n",
    "print(f'Took {duration:.3f} seconds')"
   ]
  },
  {
   "cell_type": "markdown",
   "metadata": {},
   "source": [
    "Let's print the accuracy scores for every model evaluated during the grid search."
   ]
  },
  {
   "cell_type": "code",
   "execution_count": 42,
   "metadata": {
    "ExecuteTime": {
     "end_time": "2020-12-17T12:50:00.906210Z",
     "start_time": "2020-12-17T12:50:00.888880Z"
    }
   },
   "outputs": [
    {
     "name": "stdout",
     "output_type": "stream",
     "text": [
      "6.915872169070457 6.41278494037545 {'max_depth': 6, 'min_samples_split': 8, 'n_estimators': 10}\n",
      "6.91668574042748 6.42288378569243 {'max_depth': 6, 'min_samples_split': 10, 'n_estimators': 10}\n",
      "6.920040526692828 6.165545692207578 {'max_depth': 8, 'min_samples_split': 10, 'n_estimators': 10}\n",
      "6.922146380117927 6.400955751195799 {'max_depth': 6, 'min_samples_split': 6, 'n_estimators': 10}\n",
      "6.922370051547146 6.391001982042908 {'max_depth': 6, 'min_samples_split': 4, 'n_estimators': 10}\n",
      "6.92428849201159 6.138697133930305 {'max_depth': 8, 'min_samples_split': 8, 'n_estimators': 10}\n",
      "6.929959834793768 6.106529474290139 {'max_depth': 8, 'min_samples_split': 6, 'n_estimators': 10}\n",
      "6.941137140448905 6.074169443361317 {'max_depth': 8, 'min_samples_split': 4, 'n_estimators': 10}\n",
      "6.96374839676334 6.463059482973225 {'max_depth': 6, 'min_samples_split': 8, 'n_estimators': 5}\n",
      "6.966411572656291 6.4723992723926935 {'max_depth': 6, 'min_samples_split': 10, 'n_estimators': 5}\n",
      "6.97126784176049 6.456300079229032 {'max_depth': 6, 'min_samples_split': 6, 'n_estimators': 5}\n",
      "6.972442653451204 6.230463481695673 {'max_depth': 8, 'min_samples_split': 10, 'n_estimators': 5}\n",
      "6.97346951769745 6.205785269744469 {'max_depth': 8, 'min_samples_split': 8, 'n_estimators': 5}\n",
      "6.973833599320923 6.446941808982394 {'max_depth': 6, 'min_samples_split': 4, 'n_estimators': 5}\n",
      "6.980768894714653 6.184422401722443 {'max_depth': 8, 'min_samples_split': 6, 'n_estimators': 5}\n",
      "6.9895183559558784 6.64974943293947 {'max_depth': 4, 'min_samples_split': 6, 'n_estimators': 10}\n",
      "6.989700604087948 6.652672804455248 {'max_depth': 4, 'min_samples_split': 8, 'n_estimators': 10}\n",
      "6.989749392517737 6.653747622865903 {'max_depth': 4, 'min_samples_split': 10, 'n_estimators': 10}\n",
      "6.990540068975662 6.648323308794271 {'max_depth': 4, 'min_samples_split': 4, 'n_estimators': 10}\n",
      "7.002682732030509 6.1531762307140445 {'max_depth': 8, 'min_samples_split': 4, 'n_estimators': 5}\n",
      "7.016232459950028 6.5027786417766045 {'max_depth': 6, 'min_samples_split': 10, 'n_estimators': 3}\n",
      "7.016237928950457 6.4939954629078445 {'max_depth': 6, 'min_samples_split': 8, 'n_estimators': 3}\n",
      "7.02101310355007 6.689228317693251 {'max_depth': 4, 'min_samples_split': 6, 'n_estimators': 5}\n",
      "7.021040298738787 6.6915452272983496 {'max_depth': 4, 'min_samples_split': 10, 'n_estimators': 5}\n",
      "7.021145792284988 6.689871761098786 {'max_depth': 4, 'min_samples_split': 8, 'n_estimators': 5}\n",
      "7.0216298084492985 6.6873497514345 {'max_depth': 4, 'min_samples_split': 4, 'n_estimators': 5}\n",
      "7.027250021237468 6.489908405689679 {'max_depth': 6, 'min_samples_split': 6, 'n_estimators': 3}\n",
      "7.028766318871754 6.735431457705365 {'max_depth': 4, 'min_samples_split': 4, 'n_estimators': 2}\n",
      "7.029221110378466 6.482695819858283 {'max_depth': 6, 'min_samples_split': 4, 'n_estimators': 3}\n",
      "7.029546404806685 6.743234637798519 {'max_depth': 4, 'min_samples_split': 10, 'n_estimators': 2}\n",
      "7.030492041289122 6.70149483427598 {'max_depth': 4, 'min_samples_split': 4, 'n_estimators': 3}\n",
      "7.031731720932638 6.704528638976353 {'max_depth': 4, 'min_samples_split': 6, 'n_estimators': 3}\n",
      "7.032138414863317 6.707379794455863 {'max_depth': 4, 'min_samples_split': 10, 'n_estimators': 3}\n",
      "7.032273929726251 6.7053301550786815 {'max_depth': 4, 'min_samples_split': 8, 'n_estimators': 3}\n",
      "7.032997075494508 6.740876670022429 {'max_depth': 4, 'min_samples_split': 8, 'n_estimators': 2}\n",
      "7.0341106489711125 6.741098752735774 {'max_depth': 4, 'min_samples_split': 6, 'n_estimators': 2}\n",
      "7.042485600179228 6.294346962918626 {'max_depth': 8, 'min_samples_split': 10, 'n_estimators': 3}\n",
      "7.0489826621504905 6.276980326203927 {'max_depth': 8, 'min_samples_split': 8, 'n_estimators': 3}\n",
      "7.052963492938631 6.572379825140732 {'max_depth': 6, 'min_samples_split': 10, 'n_estimators': 2}\n",
      "7.058364538274665 6.565247036958322 {'max_depth': 6, 'min_samples_split': 8, 'n_estimators': 2}\n",
      "7.065079100446117 6.56478482207063 {'max_depth': 6, 'min_samples_split': 6, 'n_estimators': 2}\n",
      "7.0657949417513315 6.256318129374415 {'max_depth': 8, 'min_samples_split': 6, 'n_estimators': 3}\n",
      "7.0738479782081045 6.556764217168674 {'max_depth': 6, 'min_samples_split': 4, 'n_estimators': 2}\n",
      "7.091691264370459 6.226983398816346 {'max_depth': 8, 'min_samples_split': 4, 'n_estimators': 3}\n",
      "7.103220604643755 6.388465562552163 {'max_depth': 8, 'min_samples_split': 10, 'n_estimators': 2}\n",
      "7.114357439591658 6.3787289788210915 {'max_depth': 8, 'min_samples_split': 8, 'n_estimators': 2}\n",
      "7.13219295810987 6.36023352644414 {'max_depth': 8, 'min_samples_split': 6, 'n_estimators': 2}\n",
      "7.163518229623325 6.339322353309711 {'max_depth': 8, 'min_samples_split': 4, 'n_estimators': 2}\n",
      "7.211117442504623 6.982065965003453 {'max_depth': 2, 'min_samples_split': 4, 'n_estimators': 10}\n",
      "7.211242544749598 6.982199480119563 {'max_depth': 2, 'min_samples_split': 8, 'n_estimators': 10}\n",
      "7.211242544749598 6.982199480119563 {'max_depth': 2, 'min_samples_split': 6, 'n_estimators': 10}\n",
      "7.211242544749598 6.982199480119563 {'max_depth': 2, 'min_samples_split': 10, 'n_estimators': 10}\n",
      "7.237910273619365 6.996887068270667 {'max_depth': 2, 'min_samples_split': 4, 'n_estimators': 5}\n",
      "7.2380564721568 6.997155294882716 {'max_depth': 2, 'min_samples_split': 8, 'n_estimators': 5}\n",
      "7.2380564721568 6.997155294882716 {'max_depth': 2, 'min_samples_split': 6, 'n_estimators': 5}\n",
      "7.2380564721568 6.997155294882716 {'max_depth': 2, 'min_samples_split': 10, 'n_estimators': 5}\n",
      "7.260334089034123 7.0143317220271655 {'max_depth': 2, 'min_samples_split': 4, 'n_estimators': 3}\n",
      "7.260932987614422 7.016079162464465 {'max_depth': 2, 'min_samples_split': 8, 'n_estimators': 3}\n",
      "7.260932987614422 7.016079162464465 {'max_depth': 2, 'min_samples_split': 6, 'n_estimators': 3}\n",
      "7.260932987614422 7.016079162464465 {'max_depth': 2, 'min_samples_split': 10, 'n_estimators': 3}\n",
      "7.268691249454847 7.033137344014545 {'max_depth': 2, 'min_samples_split': 4, 'n_estimators': 2}\n",
      "7.2700584998370195 7.037190667190219 {'max_depth': 2, 'min_samples_split': 8, 'n_estimators': 2}\n",
      "7.2700584998370195 7.037190667190219 {'max_depth': 2, 'min_samples_split': 6, 'n_estimators': 2}\n",
      "7.2700584998370195 7.037190667190219 {'max_depth': 2, 'min_samples_split': 10, 'n_estimators': 2}\n"
     ]
    }
   ],
   "source": [
    "val_scores = rf_grid_search.cv_results_[\"mean_test_score\"]\n",
    "train_scores = rf_grid_search.cv_results_[\"mean_train_score\"]\n",
    "params = [str(x) for x in rf_grid_search.cv_results_[\"params\"]]\n",
    "   \n",
    "for val_score, train_score, param in sorted(zip(val_scores, train_scores, params), reverse=True):\n",
    "    print(np.sqrt(-val_score), np.sqrt(-train_score), param)"
   ]
  },
  {
   "cell_type": "markdown",
   "metadata": {},
   "source": [
    "The best models with both DT and RF methods do not seem to overfit too much, and their cross-validation RMSEs are quite above the baseline."
   ]
  },
  {
   "cell_type": "markdown",
   "metadata": {},
   "source": [
    "## Evaluate the best DT and RF models on the test data\n",
    "\n",
    "#### Decision tree"
   ]
  },
  {
   "cell_type": "code",
   "execution_count": 43,
   "metadata": {
    "ExecuteTime": {
     "end_time": "2020-12-17T12:50:00.922859Z",
     "start_time": "2020-12-17T12:50:00.911031Z"
    }
   },
   "outputs": [
    {
     "data": {
      "text/plain": [
       "7.4742039469590775"
      ]
     },
     "execution_count": 43,
     "metadata": {},
     "output_type": "execute_result"
    }
   ],
   "source": [
    "best_model = dtree_grid_search.best_estimator_\n",
    "\n",
    "yhat = best_model.predict(Xtest)\n",
    "\n",
    "dtree_mse = mean_squared_error(ytest, yhat)\n",
    "dtree_rmse = np.sqrt(dtree_mse)\n",
    "dtree_rmse"
   ]
  },
  {
   "cell_type": "code",
   "execution_count": 44,
   "metadata": {
    "ExecuteTime": {
     "end_time": "2020-12-17T12:50:00.941931Z",
     "start_time": "2020-12-17T12:50:00.927842Z"
    }
   },
   "outputs": [
    {
     "data": {
      "text/plain": [
       "7.22972627890615"
      ]
     },
     "execution_count": 44,
     "metadata": {},
     "output_type": "execute_result"
    }
   ],
   "source": [
    "best_model = rf_grid_search.best_estimator_\n",
    "\n",
    "yhat = best_model.predict(Xtest)\n",
    "\n",
    "rf_mse = mean_squared_error(ytest, yhat)\n",
    "rf_rmse = np.sqrt(rf_mse)\n",
    "rf_rmse"
   ]
  },
  {
   "cell_type": "code",
   "execution_count": 45,
   "metadata": {
    "ExecuteTime": {
     "end_time": "2020-12-17T12:50:00.965034Z",
     "start_time": "2020-12-17T12:50:00.946110Z"
    }
   },
   "outputs": [
    {
     "data": {
      "text/plain": [
       "29.26732136809294"
      ]
     },
     "execution_count": 45,
     "metadata": {},
     "output_type": "execute_result"
    }
   ],
   "source": [
    "100*(baseline_rmse - dtree_rmse)/baseline_rmse"
   ]
  },
  {
   "cell_type": "markdown",
   "metadata": {},
   "source": [
    "By how much did the RF model improve on the persistence baseline, percent-wise?"
   ]
  },
  {
   "cell_type": "code",
   "execution_count": 46,
   "metadata": {
    "ExecuteTime": {
     "end_time": "2020-12-17T12:50:01.000920Z",
     "start_time": "2020-12-17T12:50:00.974845Z"
    }
   },
   "outputs": [
    {
     "data": {
      "text/plain": [
       "31.580953756208512"
      ]
     },
     "execution_count": 46,
     "metadata": {},
     "output_type": "execute_result"
    }
   ],
   "source": [
    "100*(baseline_rmse - rf_rmse)/baseline_rmse"
   ]
  },
  {
   "cell_type": "markdown",
   "metadata": {},
   "source": [
    "## Conclusion\n",
    "\n",
    "The Decision Tree regression model reduced the RMSE rate by 42%, while the RandomForest regression method by 45.2%, compared to the persistence baseline."
   ]
  },
  {
   "cell_type": "markdown",
   "metadata": {},
   "source": [
    "# Random Forest Regressor"
   ]
  },
  {
   "cell_type": "code",
   "execution_count": 47,
   "metadata": {
    "ExecuteTime": {
     "end_time": "2020-12-17T12:50:01.014945Z",
     "start_time": "2020-12-17T12:50:01.005141Z"
    }
   },
   "outputs": [],
   "source": [
    "# drop labels for training set, but keep all others\n",
    "Xtrain = df2.drop([\"Count\", 'High_Winds', 'datetime'], axis=1)\n",
    "\n",
    "ytrain = df2[\"Count\"].copy()"
   ]
  },
  {
   "cell_type": "code",
   "execution_count": 48,
   "metadata": {
    "ExecuteTime": {
     "end_time": "2020-12-17T12:50:01.104710Z",
     "start_time": "2020-12-17T12:50:01.020509Z"
    }
   },
   "outputs": [
    {
     "data": {
      "text/html": [
       "<div>\n",
       "<style scoped>\n",
       "    .dataframe tbody tr th:only-of-type {\n",
       "        vertical-align: middle;\n",
       "    }\n",
       "\n",
       "    .dataframe tbody tr th {\n",
       "        vertical-align: top;\n",
       "    }\n",
       "\n",
       "    .dataframe thead th {\n",
       "        text-align: right;\n",
       "    }\n",
       "</style>\n",
       "<table border=\"1\" class=\"dataframe\">\n",
       "  <thead>\n",
       "    <tr style=\"text-align: right;\">\n",
       "      <th></th>\n",
       "      <th>5376</th>\n",
       "      <th>7219</th>\n",
       "      <th>3277</th>\n",
       "      <th>1584</th>\n",
       "      <th>1004</th>\n",
       "      <th>630</th>\n",
       "      <th>1855</th>\n",
       "      <th>8274</th>\n",
       "      <th>2110</th>\n",
       "      <th>5838</th>\n",
       "    </tr>\n",
       "  </thead>\n",
       "  <tbody>\n",
       "    <tr>\n",
       "      <th>datetime</th>\n",
       "      <td>2018-08-19 05:00:00</td>\n",
       "      <td>2018-11-05 17:00:00</td>\n",
       "      <td>2018-05-21 19:00:00</td>\n",
       "      <td>2018-03-10 09:00:00</td>\n",
       "      <td>2018-02-13 07:00:00</td>\n",
       "      <td>2018-01-28 01:00:00</td>\n",
       "      <td>2018-03-22 01:00:00</td>\n",
       "      <td>2018-12-20 16:00:00</td>\n",
       "      <td>2018-04-01 23:00:00</td>\n",
       "      <td>2018-09-08 01:00:00</td>\n",
       "    </tr>\n",
       "    <tr>\n",
       "      <th>Count</th>\n",
       "      <td>4</td>\n",
       "      <td>45</td>\n",
       "      <td>13</td>\n",
       "      <td>9</td>\n",
       "      <td>19</td>\n",
       "      <td>6</td>\n",
       "      <td>2</td>\n",
       "      <td>25</td>\n",
       "      <td>13</td>\n",
       "      <td>7</td>\n",
       "    </tr>\n",
       "    <tr>\n",
       "      <th>High_Winds</th>\n",
       "      <td>False</td>\n",
       "      <td>False</td>\n",
       "      <td>False</td>\n",
       "      <td>False</td>\n",
       "      <td>False</td>\n",
       "      <td>False</td>\n",
       "      <td>False</td>\n",
       "      <td>False</td>\n",
       "      <td>False</td>\n",
       "      <td>False</td>\n",
       "    </tr>\n",
       "    <tr>\n",
       "      <th>Hour</th>\n",
       "      <td>5</td>\n",
       "      <td>17</td>\n",
       "      <td>19</td>\n",
       "      <td>9</td>\n",
       "      <td>7</td>\n",
       "      <td>1</td>\n",
       "      <td>1</td>\n",
       "      <td>16</td>\n",
       "      <td>23</td>\n",
       "      <td>1</td>\n",
       "    </tr>\n",
       "    <tr>\n",
       "      <th>Dayofweek</th>\n",
       "      <td>7</td>\n",
       "      <td>1</td>\n",
       "      <td>1</td>\n",
       "      <td>6</td>\n",
       "      <td>2</td>\n",
       "      <td>7</td>\n",
       "      <td>4</td>\n",
       "      <td>4</td>\n",
       "      <td>7</td>\n",
       "      <td>6</td>\n",
       "    </tr>\n",
       "    <tr>\n",
       "      <th>Quarter</th>\n",
       "      <td>3</td>\n",
       "      <td>4</td>\n",
       "      <td>2</td>\n",
       "      <td>1</td>\n",
       "      <td>1</td>\n",
       "      <td>1</td>\n",
       "      <td>1</td>\n",
       "      <td>4</td>\n",
       "      <td>2</td>\n",
       "      <td>3</td>\n",
       "    </tr>\n",
       "    <tr>\n",
       "      <th>Month</th>\n",
       "      <td>8</td>\n",
       "      <td>11</td>\n",
       "      <td>5</td>\n",
       "      <td>3</td>\n",
       "      <td>2</td>\n",
       "      <td>1</td>\n",
       "      <td>3</td>\n",
       "      <td>12</td>\n",
       "      <td>4</td>\n",
       "      <td>9</td>\n",
       "    </tr>\n",
       "    <tr>\n",
       "      <th>Dayofmonth</th>\n",
       "      <td>19</td>\n",
       "      <td>5</td>\n",
       "      <td>21</td>\n",
       "      <td>10</td>\n",
       "      <td>13</td>\n",
       "      <td>28</td>\n",
       "      <td>22</td>\n",
       "      <td>20</td>\n",
       "      <td>1</td>\n",
       "      <td>8</td>\n",
       "    </tr>\n",
       "    <tr>\n",
       "      <th>Weekofyear</th>\n",
       "      <td>33</td>\n",
       "      <td>45</td>\n",
       "      <td>21</td>\n",
       "      <td>10</td>\n",
       "      <td>7</td>\n",
       "      <td>4</td>\n",
       "      <td>12</td>\n",
       "      <td>51</td>\n",
       "      <td>13</td>\n",
       "      <td>36</td>\n",
       "    </tr>\n",
       "    <tr>\n",
       "      <th>Weekend</th>\n",
       "      <td>1</td>\n",
       "      <td>0</td>\n",
       "      <td>0</td>\n",
       "      <td>1</td>\n",
       "      <td>0</td>\n",
       "      <td>1</td>\n",
       "      <td>0</td>\n",
       "      <td>0</td>\n",
       "      <td>1</td>\n",
       "      <td>1</td>\n",
       "    </tr>\n",
       "    <tr>\n",
       "      <th>Day_of_Week_Monday</th>\n",
       "      <td>0</td>\n",
       "      <td>1</td>\n",
       "      <td>1</td>\n",
       "      <td>0</td>\n",
       "      <td>0</td>\n",
       "      <td>0</td>\n",
       "      <td>0</td>\n",
       "      <td>0</td>\n",
       "      <td>0</td>\n",
       "      <td>0</td>\n",
       "    </tr>\n",
       "    <tr>\n",
       "      <th>Day_of_Week_Saturday</th>\n",
       "      <td>0</td>\n",
       "      <td>0</td>\n",
       "      <td>0</td>\n",
       "      <td>1</td>\n",
       "      <td>0</td>\n",
       "      <td>0</td>\n",
       "      <td>0</td>\n",
       "      <td>0</td>\n",
       "      <td>0</td>\n",
       "      <td>1</td>\n",
       "    </tr>\n",
       "    <tr>\n",
       "      <th>Day_of_Week_Sunday</th>\n",
       "      <td>1</td>\n",
       "      <td>0</td>\n",
       "      <td>0</td>\n",
       "      <td>0</td>\n",
       "      <td>0</td>\n",
       "      <td>1</td>\n",
       "      <td>0</td>\n",
       "      <td>0</td>\n",
       "      <td>1</td>\n",
       "      <td>0</td>\n",
       "    </tr>\n",
       "    <tr>\n",
       "      <th>Day_of_Week_Thursday</th>\n",
       "      <td>0</td>\n",
       "      <td>0</td>\n",
       "      <td>0</td>\n",
       "      <td>0</td>\n",
       "      <td>0</td>\n",
       "      <td>0</td>\n",
       "      <td>1</td>\n",
       "      <td>1</td>\n",
       "      <td>0</td>\n",
       "      <td>0</td>\n",
       "    </tr>\n",
       "    <tr>\n",
       "      <th>Day_of_Week_Tuesday</th>\n",
       "      <td>0</td>\n",
       "      <td>0</td>\n",
       "      <td>0</td>\n",
       "      <td>0</td>\n",
       "      <td>1</td>\n",
       "      <td>0</td>\n",
       "      <td>0</td>\n",
       "      <td>0</td>\n",
       "      <td>0</td>\n",
       "      <td>0</td>\n",
       "    </tr>\n",
       "    <tr>\n",
       "      <th>Day_of_Week_Wednesday</th>\n",
       "      <td>0</td>\n",
       "      <td>0</td>\n",
       "      <td>0</td>\n",
       "      <td>0</td>\n",
       "      <td>0</td>\n",
       "      <td>0</td>\n",
       "      <td>0</td>\n",
       "      <td>0</td>\n",
       "      <td>0</td>\n",
       "      <td>0</td>\n",
       "    </tr>\n",
       "    <tr>\n",
       "      <th>Precipitation_Fog or mist</th>\n",
       "      <td>0</td>\n",
       "      <td>0</td>\n",
       "      <td>0</td>\n",
       "      <td>0</td>\n",
       "      <td>0</td>\n",
       "      <td>0</td>\n",
       "      <td>0</td>\n",
       "      <td>0</td>\n",
       "      <td>0</td>\n",
       "      <td>0</td>\n",
       "    </tr>\n",
       "    <tr>\n",
       "      <th>Precipitation_Raining</th>\n",
       "      <td>0</td>\n",
       "      <td>0</td>\n",
       "      <td>0</td>\n",
       "      <td>0</td>\n",
       "      <td>0</td>\n",
       "      <td>0</td>\n",
       "      <td>1</td>\n",
       "      <td>0</td>\n",
       "      <td>1</td>\n",
       "      <td>0</td>\n",
       "    </tr>\n",
       "    <tr>\n",
       "      <th>Precipitation_Snowing</th>\n",
       "      <td>0</td>\n",
       "      <td>0</td>\n",
       "      <td>0</td>\n",
       "      <td>0</td>\n",
       "      <td>0</td>\n",
       "      <td>0</td>\n",
       "      <td>0</td>\n",
       "      <td>0</td>\n",
       "      <td>0</td>\n",
       "      <td>0</td>\n",
       "    </tr>\n",
       "    <tr>\n",
       "      <th>Road_Surface_Conditions_Flood over 3cm. deep</th>\n",
       "      <td>0</td>\n",
       "      <td>0</td>\n",
       "      <td>0</td>\n",
       "      <td>0</td>\n",
       "      <td>0</td>\n",
       "      <td>0</td>\n",
       "      <td>0</td>\n",
       "      <td>0</td>\n",
       "      <td>0</td>\n",
       "      <td>0</td>\n",
       "    </tr>\n",
       "    <tr>\n",
       "      <th>Road_Surface_Conditions_Frost or ice</th>\n",
       "      <td>0</td>\n",
       "      <td>0</td>\n",
       "      <td>0</td>\n",
       "      <td>0</td>\n",
       "      <td>0</td>\n",
       "      <td>0</td>\n",
       "      <td>0</td>\n",
       "      <td>0</td>\n",
       "      <td>0</td>\n",
       "      <td>0</td>\n",
       "    </tr>\n",
       "    <tr>\n",
       "      <th>Road_Surface_Conditions_Snow</th>\n",
       "      <td>0</td>\n",
       "      <td>0</td>\n",
       "      <td>0</td>\n",
       "      <td>0</td>\n",
       "      <td>0</td>\n",
       "      <td>0</td>\n",
       "      <td>0</td>\n",
       "      <td>0</td>\n",
       "      <td>0</td>\n",
       "      <td>0</td>\n",
       "    </tr>\n",
       "    <tr>\n",
       "      <th>Road_Surface_Conditions_Wet or damp</th>\n",
       "      <td>0</td>\n",
       "      <td>0</td>\n",
       "      <td>0</td>\n",
       "      <td>1</td>\n",
       "      <td>1</td>\n",
       "      <td>0</td>\n",
       "      <td>1</td>\n",
       "      <td>0</td>\n",
       "      <td>1</td>\n",
       "      <td>0</td>\n",
       "    </tr>\n",
       "    <tr>\n",
       "      <th>Light_Conditions_Darkness - lights lit</th>\n",
       "      <td>0</td>\n",
       "      <td>1</td>\n",
       "      <td>0</td>\n",
       "      <td>0</td>\n",
       "      <td>0</td>\n",
       "      <td>1</td>\n",
       "      <td>0</td>\n",
       "      <td>1</td>\n",
       "      <td>1</td>\n",
       "      <td>1</td>\n",
       "    </tr>\n",
       "    <tr>\n",
       "      <th>Light_Conditions_Darkness - lights unlit</th>\n",
       "      <td>0</td>\n",
       "      <td>0</td>\n",
       "      <td>0</td>\n",
       "      <td>0</td>\n",
       "      <td>0</td>\n",
       "      <td>0</td>\n",
       "      <td>0</td>\n",
       "      <td>0</td>\n",
       "      <td>0</td>\n",
       "      <td>0</td>\n",
       "    </tr>\n",
       "    <tr>\n",
       "      <th>Light_Conditions_Darkness - no lighting</th>\n",
       "      <td>0</td>\n",
       "      <td>0</td>\n",
       "      <td>0</td>\n",
       "      <td>0</td>\n",
       "      <td>0</td>\n",
       "      <td>0</td>\n",
       "      <td>1</td>\n",
       "      <td>0</td>\n",
       "      <td>0</td>\n",
       "      <td>0</td>\n",
       "    </tr>\n",
       "    <tr>\n",
       "      <th>Light_Conditions_Daylight</th>\n",
       "      <td>1</td>\n",
       "      <td>0</td>\n",
       "      <td>1</td>\n",
       "      <td>1</td>\n",
       "      <td>1</td>\n",
       "      <td>0</td>\n",
       "      <td>0</td>\n",
       "      <td>0</td>\n",
       "      <td>0</td>\n",
       "      <td>0</td>\n",
       "    </tr>\n",
       "    <tr>\n",
       "      <th>Urban_or_Rural_Area_Urban</th>\n",
       "      <td>1</td>\n",
       "      <td>1</td>\n",
       "      <td>1</td>\n",
       "      <td>0</td>\n",
       "      <td>1</td>\n",
       "      <td>1</td>\n",
       "      <td>0</td>\n",
       "      <td>1</td>\n",
       "      <td>1</td>\n",
       "      <td>1</td>\n",
       "    </tr>\n",
       "    <tr>\n",
       "      <th>Time_of_Day_Evening (19-23)</th>\n",
       "      <td>0</td>\n",
       "      <td>0</td>\n",
       "      <td>1</td>\n",
       "      <td>0</td>\n",
       "      <td>0</td>\n",
       "      <td>0</td>\n",
       "      <td>0</td>\n",
       "      <td>0</td>\n",
       "      <td>0</td>\n",
       "      <td>0</td>\n",
       "    </tr>\n",
       "    <tr>\n",
       "      <th>Time_of_Day_Morning rush (5-10)</th>\n",
       "      <td>1</td>\n",
       "      <td>0</td>\n",
       "      <td>0</td>\n",
       "      <td>1</td>\n",
       "      <td>1</td>\n",
       "      <td>0</td>\n",
       "      <td>0</td>\n",
       "      <td>0</td>\n",
       "      <td>0</td>\n",
       "      <td>0</td>\n",
       "    </tr>\n",
       "    <tr>\n",
       "      <th>Time_of_Day_Night (23-5)</th>\n",
       "      <td>0</td>\n",
       "      <td>0</td>\n",
       "      <td>0</td>\n",
       "      <td>0</td>\n",
       "      <td>0</td>\n",
       "      <td>1</td>\n",
       "      <td>1</td>\n",
       "      <td>0</td>\n",
       "      <td>1</td>\n",
       "      <td>1</td>\n",
       "    </tr>\n",
       "    <tr>\n",
       "      <th>Time_of_Day_Office hours (10-15)</th>\n",
       "      <td>0</td>\n",
       "      <td>0</td>\n",
       "      <td>0</td>\n",
       "      <td>0</td>\n",
       "      <td>0</td>\n",
       "      <td>0</td>\n",
       "      <td>0</td>\n",
       "      <td>0</td>\n",
       "      <td>0</td>\n",
       "      <td>0</td>\n",
       "    </tr>\n",
       "  </tbody>\n",
       "</table>\n",
       "</div>"
      ],
      "text/plain": [
       "                                                             5376  \\\n",
       "datetime                                      2018-08-19 05:00:00   \n",
       "Count                                                           4   \n",
       "High_Winds                                                  False   \n",
       "Hour                                                            5   \n",
       "Dayofweek                                                       7   \n",
       "Quarter                                                         3   \n",
       "Month                                                           8   \n",
       "Dayofmonth                                                     19   \n",
       "Weekofyear                                                     33   \n",
       "Weekend                                                         1   \n",
       "Day_of_Week_Monday                                              0   \n",
       "Day_of_Week_Saturday                                            0   \n",
       "Day_of_Week_Sunday                                              1   \n",
       "Day_of_Week_Thursday                                            0   \n",
       "Day_of_Week_Tuesday                                             0   \n",
       "Day_of_Week_Wednesday                                           0   \n",
       "Precipitation_Fog or mist                                       0   \n",
       "Precipitation_Raining                                           0   \n",
       "Precipitation_Snowing                                           0   \n",
       "Road_Surface_Conditions_Flood over 3cm. deep                    0   \n",
       "Road_Surface_Conditions_Frost or ice                            0   \n",
       "Road_Surface_Conditions_Snow                                    0   \n",
       "Road_Surface_Conditions_Wet or damp                             0   \n",
       "Light_Conditions_Darkness - lights lit                          0   \n",
       "Light_Conditions_Darkness - lights unlit                        0   \n",
       "Light_Conditions_Darkness - no lighting                         0   \n",
       "Light_Conditions_Daylight                                       1   \n",
       "Urban_or_Rural_Area_Urban                                       1   \n",
       "Time_of_Day_Evening (19-23)                                     0   \n",
       "Time_of_Day_Morning rush (5-10)                                 1   \n",
       "Time_of_Day_Night (23-5)                                        0   \n",
       "Time_of_Day_Office hours (10-15)                                0   \n",
       "\n",
       "                                                             7219  \\\n",
       "datetime                                      2018-11-05 17:00:00   \n",
       "Count                                                          45   \n",
       "High_Winds                                                  False   \n",
       "Hour                                                           17   \n",
       "Dayofweek                                                       1   \n",
       "Quarter                                                         4   \n",
       "Month                                                          11   \n",
       "Dayofmonth                                                      5   \n",
       "Weekofyear                                                     45   \n",
       "Weekend                                                         0   \n",
       "Day_of_Week_Monday                                              1   \n",
       "Day_of_Week_Saturday                                            0   \n",
       "Day_of_Week_Sunday                                              0   \n",
       "Day_of_Week_Thursday                                            0   \n",
       "Day_of_Week_Tuesday                                             0   \n",
       "Day_of_Week_Wednesday                                           0   \n",
       "Precipitation_Fog or mist                                       0   \n",
       "Precipitation_Raining                                           0   \n",
       "Precipitation_Snowing                                           0   \n",
       "Road_Surface_Conditions_Flood over 3cm. deep                    0   \n",
       "Road_Surface_Conditions_Frost or ice                            0   \n",
       "Road_Surface_Conditions_Snow                                    0   \n",
       "Road_Surface_Conditions_Wet or damp                             0   \n",
       "Light_Conditions_Darkness - lights lit                          1   \n",
       "Light_Conditions_Darkness - lights unlit                        0   \n",
       "Light_Conditions_Darkness - no lighting                         0   \n",
       "Light_Conditions_Daylight                                       0   \n",
       "Urban_or_Rural_Area_Urban                                       1   \n",
       "Time_of_Day_Evening (19-23)                                     0   \n",
       "Time_of_Day_Morning rush (5-10)                                 0   \n",
       "Time_of_Day_Night (23-5)                                        0   \n",
       "Time_of_Day_Office hours (10-15)                                0   \n",
       "\n",
       "                                                             3277  \\\n",
       "datetime                                      2018-05-21 19:00:00   \n",
       "Count                                                          13   \n",
       "High_Winds                                                  False   \n",
       "Hour                                                           19   \n",
       "Dayofweek                                                       1   \n",
       "Quarter                                                         2   \n",
       "Month                                                           5   \n",
       "Dayofmonth                                                     21   \n",
       "Weekofyear                                                     21   \n",
       "Weekend                                                         0   \n",
       "Day_of_Week_Monday                                              1   \n",
       "Day_of_Week_Saturday                                            0   \n",
       "Day_of_Week_Sunday                                              0   \n",
       "Day_of_Week_Thursday                                            0   \n",
       "Day_of_Week_Tuesday                                             0   \n",
       "Day_of_Week_Wednesday                                           0   \n",
       "Precipitation_Fog or mist                                       0   \n",
       "Precipitation_Raining                                           0   \n",
       "Precipitation_Snowing                                           0   \n",
       "Road_Surface_Conditions_Flood over 3cm. deep                    0   \n",
       "Road_Surface_Conditions_Frost or ice                            0   \n",
       "Road_Surface_Conditions_Snow                                    0   \n",
       "Road_Surface_Conditions_Wet or damp                             0   \n",
       "Light_Conditions_Darkness - lights lit                          0   \n",
       "Light_Conditions_Darkness - lights unlit                        0   \n",
       "Light_Conditions_Darkness - no lighting                         0   \n",
       "Light_Conditions_Daylight                                       1   \n",
       "Urban_or_Rural_Area_Urban                                       1   \n",
       "Time_of_Day_Evening (19-23)                                     1   \n",
       "Time_of_Day_Morning rush (5-10)                                 0   \n",
       "Time_of_Day_Night (23-5)                                        0   \n",
       "Time_of_Day_Office hours (10-15)                                0   \n",
       "\n",
       "                                                             1584  \\\n",
       "datetime                                      2018-03-10 09:00:00   \n",
       "Count                                                           9   \n",
       "High_Winds                                                  False   \n",
       "Hour                                                            9   \n",
       "Dayofweek                                                       6   \n",
       "Quarter                                                         1   \n",
       "Month                                                           3   \n",
       "Dayofmonth                                                     10   \n",
       "Weekofyear                                                     10   \n",
       "Weekend                                                         1   \n",
       "Day_of_Week_Monday                                              0   \n",
       "Day_of_Week_Saturday                                            1   \n",
       "Day_of_Week_Sunday                                              0   \n",
       "Day_of_Week_Thursday                                            0   \n",
       "Day_of_Week_Tuesday                                             0   \n",
       "Day_of_Week_Wednesday                                           0   \n",
       "Precipitation_Fog or mist                                       0   \n",
       "Precipitation_Raining                                           0   \n",
       "Precipitation_Snowing                                           0   \n",
       "Road_Surface_Conditions_Flood over 3cm. deep                    0   \n",
       "Road_Surface_Conditions_Frost or ice                            0   \n",
       "Road_Surface_Conditions_Snow                                    0   \n",
       "Road_Surface_Conditions_Wet or damp                             1   \n",
       "Light_Conditions_Darkness - lights lit                          0   \n",
       "Light_Conditions_Darkness - lights unlit                        0   \n",
       "Light_Conditions_Darkness - no lighting                         0   \n",
       "Light_Conditions_Daylight                                       1   \n",
       "Urban_or_Rural_Area_Urban                                       0   \n",
       "Time_of_Day_Evening (19-23)                                     0   \n",
       "Time_of_Day_Morning rush (5-10)                                 1   \n",
       "Time_of_Day_Night (23-5)                                        0   \n",
       "Time_of_Day_Office hours (10-15)                                0   \n",
       "\n",
       "                                                             1004  \\\n",
       "datetime                                      2018-02-13 07:00:00   \n",
       "Count                                                          19   \n",
       "High_Winds                                                  False   \n",
       "Hour                                                            7   \n",
       "Dayofweek                                                       2   \n",
       "Quarter                                                         1   \n",
       "Month                                                           2   \n",
       "Dayofmonth                                                     13   \n",
       "Weekofyear                                                      7   \n",
       "Weekend                                                         0   \n",
       "Day_of_Week_Monday                                              0   \n",
       "Day_of_Week_Saturday                                            0   \n",
       "Day_of_Week_Sunday                                              0   \n",
       "Day_of_Week_Thursday                                            0   \n",
       "Day_of_Week_Tuesday                                             1   \n",
       "Day_of_Week_Wednesday                                           0   \n",
       "Precipitation_Fog or mist                                       0   \n",
       "Precipitation_Raining                                           0   \n",
       "Precipitation_Snowing                                           0   \n",
       "Road_Surface_Conditions_Flood over 3cm. deep                    0   \n",
       "Road_Surface_Conditions_Frost or ice                            0   \n",
       "Road_Surface_Conditions_Snow                                    0   \n",
       "Road_Surface_Conditions_Wet or damp                             1   \n",
       "Light_Conditions_Darkness - lights lit                          0   \n",
       "Light_Conditions_Darkness - lights unlit                        0   \n",
       "Light_Conditions_Darkness - no lighting                         0   \n",
       "Light_Conditions_Daylight                                       1   \n",
       "Urban_or_Rural_Area_Urban                                       1   \n",
       "Time_of_Day_Evening (19-23)                                     0   \n",
       "Time_of_Day_Morning rush (5-10)                                 1   \n",
       "Time_of_Day_Night (23-5)                                        0   \n",
       "Time_of_Day_Office hours (10-15)                                0   \n",
       "\n",
       "                                                             630   \\\n",
       "datetime                                      2018-01-28 01:00:00   \n",
       "Count                                                           6   \n",
       "High_Winds                                                  False   \n",
       "Hour                                                            1   \n",
       "Dayofweek                                                       7   \n",
       "Quarter                                                         1   \n",
       "Month                                                           1   \n",
       "Dayofmonth                                                     28   \n",
       "Weekofyear                                                      4   \n",
       "Weekend                                                         1   \n",
       "Day_of_Week_Monday                                              0   \n",
       "Day_of_Week_Saturday                                            0   \n",
       "Day_of_Week_Sunday                                              1   \n",
       "Day_of_Week_Thursday                                            0   \n",
       "Day_of_Week_Tuesday                                             0   \n",
       "Day_of_Week_Wednesday                                           0   \n",
       "Precipitation_Fog or mist                                       0   \n",
       "Precipitation_Raining                                           0   \n",
       "Precipitation_Snowing                                           0   \n",
       "Road_Surface_Conditions_Flood over 3cm. deep                    0   \n",
       "Road_Surface_Conditions_Frost or ice                            0   \n",
       "Road_Surface_Conditions_Snow                                    0   \n",
       "Road_Surface_Conditions_Wet or damp                             0   \n",
       "Light_Conditions_Darkness - lights lit                          1   \n",
       "Light_Conditions_Darkness - lights unlit                        0   \n",
       "Light_Conditions_Darkness - no lighting                         0   \n",
       "Light_Conditions_Daylight                                       0   \n",
       "Urban_or_Rural_Area_Urban                                       1   \n",
       "Time_of_Day_Evening (19-23)                                     0   \n",
       "Time_of_Day_Morning rush (5-10)                                 0   \n",
       "Time_of_Day_Night (23-5)                                        1   \n",
       "Time_of_Day_Office hours (10-15)                                0   \n",
       "\n",
       "                                                             1855  \\\n",
       "datetime                                      2018-03-22 01:00:00   \n",
       "Count                                                           2   \n",
       "High_Winds                                                  False   \n",
       "Hour                                                            1   \n",
       "Dayofweek                                                       4   \n",
       "Quarter                                                         1   \n",
       "Month                                                           3   \n",
       "Dayofmonth                                                     22   \n",
       "Weekofyear                                                     12   \n",
       "Weekend                                                         0   \n",
       "Day_of_Week_Monday                                              0   \n",
       "Day_of_Week_Saturday                                            0   \n",
       "Day_of_Week_Sunday                                              0   \n",
       "Day_of_Week_Thursday                                            1   \n",
       "Day_of_Week_Tuesday                                             0   \n",
       "Day_of_Week_Wednesday                                           0   \n",
       "Precipitation_Fog or mist                                       0   \n",
       "Precipitation_Raining                                           1   \n",
       "Precipitation_Snowing                                           0   \n",
       "Road_Surface_Conditions_Flood over 3cm. deep                    0   \n",
       "Road_Surface_Conditions_Frost or ice                            0   \n",
       "Road_Surface_Conditions_Snow                                    0   \n",
       "Road_Surface_Conditions_Wet or damp                             1   \n",
       "Light_Conditions_Darkness - lights lit                          0   \n",
       "Light_Conditions_Darkness - lights unlit                        0   \n",
       "Light_Conditions_Darkness - no lighting                         1   \n",
       "Light_Conditions_Daylight                                       0   \n",
       "Urban_or_Rural_Area_Urban                                       0   \n",
       "Time_of_Day_Evening (19-23)                                     0   \n",
       "Time_of_Day_Morning rush (5-10)                                 0   \n",
       "Time_of_Day_Night (23-5)                                        1   \n",
       "Time_of_Day_Office hours (10-15)                                0   \n",
       "\n",
       "                                                             8274  \\\n",
       "datetime                                      2018-12-20 16:00:00   \n",
       "Count                                                          25   \n",
       "High_Winds                                                  False   \n",
       "Hour                                                           16   \n",
       "Dayofweek                                                       4   \n",
       "Quarter                                                         4   \n",
       "Month                                                          12   \n",
       "Dayofmonth                                                     20   \n",
       "Weekofyear                                                     51   \n",
       "Weekend                                                         0   \n",
       "Day_of_Week_Monday                                              0   \n",
       "Day_of_Week_Saturday                                            0   \n",
       "Day_of_Week_Sunday                                              0   \n",
       "Day_of_Week_Thursday                                            1   \n",
       "Day_of_Week_Tuesday                                             0   \n",
       "Day_of_Week_Wednesday                                           0   \n",
       "Precipitation_Fog or mist                                       0   \n",
       "Precipitation_Raining                                           0   \n",
       "Precipitation_Snowing                                           0   \n",
       "Road_Surface_Conditions_Flood over 3cm. deep                    0   \n",
       "Road_Surface_Conditions_Frost or ice                            0   \n",
       "Road_Surface_Conditions_Snow                                    0   \n",
       "Road_Surface_Conditions_Wet or damp                             0   \n",
       "Light_Conditions_Darkness - lights lit                          1   \n",
       "Light_Conditions_Darkness - lights unlit                        0   \n",
       "Light_Conditions_Darkness - no lighting                         0   \n",
       "Light_Conditions_Daylight                                       0   \n",
       "Urban_or_Rural_Area_Urban                                       1   \n",
       "Time_of_Day_Evening (19-23)                                     0   \n",
       "Time_of_Day_Morning rush (5-10)                                 0   \n",
       "Time_of_Day_Night (23-5)                                        0   \n",
       "Time_of_Day_Office hours (10-15)                                0   \n",
       "\n",
       "                                                             2110  \\\n",
       "datetime                                      2018-04-01 23:00:00   \n",
       "Count                                                          13   \n",
       "High_Winds                                                  False   \n",
       "Hour                                                           23   \n",
       "Dayofweek                                                       7   \n",
       "Quarter                                                         2   \n",
       "Month                                                           4   \n",
       "Dayofmonth                                                      1   \n",
       "Weekofyear                                                     13   \n",
       "Weekend                                                         1   \n",
       "Day_of_Week_Monday                                              0   \n",
       "Day_of_Week_Saturday                                            0   \n",
       "Day_of_Week_Sunday                                              1   \n",
       "Day_of_Week_Thursday                                            0   \n",
       "Day_of_Week_Tuesday                                             0   \n",
       "Day_of_Week_Wednesday                                           0   \n",
       "Precipitation_Fog or mist                                       0   \n",
       "Precipitation_Raining                                           1   \n",
       "Precipitation_Snowing                                           0   \n",
       "Road_Surface_Conditions_Flood over 3cm. deep                    0   \n",
       "Road_Surface_Conditions_Frost or ice                            0   \n",
       "Road_Surface_Conditions_Snow                                    0   \n",
       "Road_Surface_Conditions_Wet or damp                             1   \n",
       "Light_Conditions_Darkness - lights lit                          1   \n",
       "Light_Conditions_Darkness - lights unlit                        0   \n",
       "Light_Conditions_Darkness - no lighting                         0   \n",
       "Light_Conditions_Daylight                                       0   \n",
       "Urban_or_Rural_Area_Urban                                       1   \n",
       "Time_of_Day_Evening (19-23)                                     0   \n",
       "Time_of_Day_Morning rush (5-10)                                 0   \n",
       "Time_of_Day_Night (23-5)                                        1   \n",
       "Time_of_Day_Office hours (10-15)                                0   \n",
       "\n",
       "                                                             5838  \n",
       "datetime                                      2018-09-08 01:00:00  \n",
       "Count                                                           7  \n",
       "High_Winds                                                  False  \n",
       "Hour                                                            1  \n",
       "Dayofweek                                                       6  \n",
       "Quarter                                                         3  \n",
       "Month                                                           9  \n",
       "Dayofmonth                                                      8  \n",
       "Weekofyear                                                     36  \n",
       "Weekend                                                         1  \n",
       "Day_of_Week_Monday                                              0  \n",
       "Day_of_Week_Saturday                                            1  \n",
       "Day_of_Week_Sunday                                              0  \n",
       "Day_of_Week_Thursday                                            0  \n",
       "Day_of_Week_Tuesday                                             0  \n",
       "Day_of_Week_Wednesday                                           0  \n",
       "Precipitation_Fog or mist                                       0  \n",
       "Precipitation_Raining                                           0  \n",
       "Precipitation_Snowing                                           0  \n",
       "Road_Surface_Conditions_Flood over 3cm. deep                    0  \n",
       "Road_Surface_Conditions_Frost or ice                            0  \n",
       "Road_Surface_Conditions_Snow                                    0  \n",
       "Road_Surface_Conditions_Wet or damp                             0  \n",
       "Light_Conditions_Darkness - lights lit                          1  \n",
       "Light_Conditions_Darkness - lights unlit                        0  \n",
       "Light_Conditions_Darkness - no lighting                         0  \n",
       "Light_Conditions_Daylight                                       0  \n",
       "Urban_or_Rural_Area_Urban                                       1  \n",
       "Time_of_Day_Evening (19-23)                                     0  \n",
       "Time_of_Day_Morning rush (5-10)                                 0  \n",
       "Time_of_Day_Night (23-5)                                        1  \n",
       "Time_of_Day_Office hours (10-15)                                0  "
      ]
     },
     "execution_count": 48,
     "metadata": {},
     "output_type": "execute_result"
    }
   ],
   "source": [
    "df2.sample(10).T"
   ]
  },
  {
   "cell_type": "code",
   "execution_count": 49,
   "metadata": {
    "ExecuteTime": {
     "end_time": "2020-12-17T12:50:55.902531Z",
     "start_time": "2020-12-17T12:50:01.108372Z"
    }
   },
   "outputs": [
    {
     "data": {
      "text/plain": [
       "GridSearchCV(cv=10, error_score=nan,\n",
       "             estimator=RandomForestRegressor(bootstrap=True, ccp_alpha=0.0,\n",
       "                                             criterion='mse', max_depth=None,\n",
       "                                             max_features='auto',\n",
       "                                             max_leaf_nodes=None,\n",
       "                                             max_samples=None,\n",
       "                                             min_impurity_decrease=0.0,\n",
       "                                             min_impurity_split=None,\n",
       "                                             min_samples_leaf=1,\n",
       "                                             min_samples_split=2,\n",
       "                                             min_weight_fraction_leaf=0.0,\n",
       "                                             n_estimators=100, n_jobs=None,\n",
       "                                             oob_score=False, random_state=7,\n",
       "                                             verbose=0, warm_start=False),\n",
       "             iid='deprecated', n_jobs=None,\n",
       "             param_grid=[{'max_depth': [2, 4, 6, 8, None],\n",
       "                          'min_samples_split': [2, 4, 6, 8],\n",
       "                          'n_estimators': [2, 3, 5, 10]}],\n",
       "             pre_dispatch='2*n_jobs', refit=True, return_train_score=True,\n",
       "             scoring='neg_mean_squared_error', verbose=0)"
      ]
     },
     "execution_count": 49,
     "metadata": {},
     "output_type": "execute_result"
    }
   ],
   "source": [
    "from sklearn.model_selection import GridSearchCV\n",
    "\n",
    "from sklearn.ensemble import RandomForestRegressor\n",
    "\n",
    "# specify the hyperparameters and their values\n",
    "\n",
    "param_grid = [\n",
    "    {'n_estimators': [2, 3, 5, 10], \n",
    "     'max_depth': [2, 4, 6, 8, None],\n",
    "     'min_samples_split': [2, 4, 6, 8]\n",
    "    },\n",
    "]\n",
    "forest_reg = RandomForestRegressor(random_state=7)\n",
    "\n",
    "# we'll use 10-fold cross-validation\n",
    "rf_grid_search = GridSearchCV(forest_reg, param_grid, cv=10, \n",
    "                              scoring='neg_mean_squared_error',\n",
    "                              return_train_score=True)\n",
    "\n",
    "rf_grid_search.fit(Xtrain, ytrain)"
   ]
  },
  {
   "cell_type": "code",
   "execution_count": 50,
   "metadata": {
    "ExecuteTime": {
     "end_time": "2020-12-17T12:50:55.915229Z",
     "start_time": "2020-12-17T12:50:55.906600Z"
    }
   },
   "outputs": [
    {
     "data": {
      "text/plain": [
       "RandomForestRegressor(bootstrap=True, ccp_alpha=0.0, criterion='mse',\n",
       "                      max_depth=8, max_features='auto', max_leaf_nodes=None,\n",
       "                      max_samples=None, min_impurity_decrease=0.0,\n",
       "                      min_impurity_split=None, min_samples_leaf=1,\n",
       "                      min_samples_split=4, min_weight_fraction_leaf=0.0,\n",
       "                      n_estimators=10, n_jobs=None, oob_score=False,\n",
       "                      random_state=7, verbose=0, warm_start=False)"
      ]
     },
     "execution_count": 50,
     "metadata": {},
     "output_type": "execute_result"
    }
   ],
   "source": [
    "# the best model\n",
    "\n",
    "rf_grid_search.best_estimator_"
   ]
  },
  {
   "cell_type": "code",
   "execution_count": 51,
   "metadata": {
    "ExecuteTime": {
     "end_time": "2020-12-17T12:50:55.930095Z",
     "start_time": "2020-12-17T12:50:55.920251Z"
    }
   },
   "outputs": [
    {
     "data": {
      "text/plain": [
       "5.288623368257133"
      ]
     },
     "execution_count": 51,
     "metadata": {},
     "output_type": "execute_result"
    }
   ],
   "source": [
    "# the best model's RMSE\n",
    "\n",
    "np.sqrt(-rf_grid_search.best_score_)"
   ]
  },
  {
   "cell_type": "code",
   "execution_count": 52,
   "metadata": {
    "ExecuteTime": {
     "end_time": "2020-12-17T12:50:55.953577Z",
     "start_time": "2020-12-17T12:50:55.934215Z"
    }
   },
   "outputs": [
    {
     "name": "stdout",
     "output_type": "stream",
     "text": [
      "7.362554893571152 7.333745672186265 {'max_depth': 2, 'min_samples_split': 2, 'n_estimators': 2}\n",
      "7.3661443607729895 7.3338271031751034 {'max_depth': 2, 'min_samples_split': 2, 'n_estimators': 3}\n",
      "7.362097083392584 7.333351297892602 {'max_depth': 2, 'min_samples_split': 2, 'n_estimators': 5}\n",
      "7.3598544439932745 7.333150232721527 {'max_depth': 2, 'min_samples_split': 2, 'n_estimators': 10}\n",
      "7.362554893571152 7.333745672186265 {'max_depth': 2, 'min_samples_split': 4, 'n_estimators': 2}\n",
      "7.3661443607729895 7.3338271031751034 {'max_depth': 2, 'min_samples_split': 4, 'n_estimators': 3}\n",
      "7.362097083392584 7.333351297892602 {'max_depth': 2, 'min_samples_split': 4, 'n_estimators': 5}\n",
      "7.3598544439932745 7.333150232721527 {'max_depth': 2, 'min_samples_split': 4, 'n_estimators': 10}\n",
      "7.362554893571152 7.333745672186265 {'max_depth': 2, 'min_samples_split': 6, 'n_estimators': 2}\n",
      "7.3661443607729895 7.3338271031751034 {'max_depth': 2, 'min_samples_split': 6, 'n_estimators': 3}\n",
      "7.362097083392584 7.333351297892602 {'max_depth': 2, 'min_samples_split': 6, 'n_estimators': 5}\n",
      "7.3598544439932745 7.333150232721527 {'max_depth': 2, 'min_samples_split': 6, 'n_estimators': 10}\n",
      "7.362554893571152 7.333745672186265 {'max_depth': 2, 'min_samples_split': 8, 'n_estimators': 2}\n",
      "7.3661443607729895 7.3338271031751034 {'max_depth': 2, 'min_samples_split': 8, 'n_estimators': 3}\n",
      "7.362097083392584 7.333351297892602 {'max_depth': 2, 'min_samples_split': 8, 'n_estimators': 5}\n",
      "7.3598544439932745 7.333150232721527 {'max_depth': 2, 'min_samples_split': 8, 'n_estimators': 10}\n",
      "6.338331620902329 6.236252973024072 {'max_depth': 4, 'min_samples_split': 2, 'n_estimators': 2}\n",
      "6.3503087374566975 6.234214825140809 {'max_depth': 4, 'min_samples_split': 2, 'n_estimators': 3}\n",
      "6.211924514379661 6.105606252228795 {'max_depth': 4, 'min_samples_split': 2, 'n_estimators': 5}\n",
      "6.15733059579028 6.059659873980068 {'max_depth': 4, 'min_samples_split': 2, 'n_estimators': 10}\n",
      "6.338331620902329 6.236252973024072 {'max_depth': 4, 'min_samples_split': 4, 'n_estimators': 2}\n",
      "6.3503087374566975 6.234214825140809 {'max_depth': 4, 'min_samples_split': 4, 'n_estimators': 3}\n",
      "6.211924514379661 6.105606252228795 {'max_depth': 4, 'min_samples_split': 4, 'n_estimators': 5}\n",
      "6.15733059579028 6.059659873980068 {'max_depth': 4, 'min_samples_split': 4, 'n_estimators': 10}\n",
      "6.338331620902329 6.236252973024072 {'max_depth': 4, 'min_samples_split': 6, 'n_estimators': 2}\n",
      "6.3503087374566975 6.234214825140809 {'max_depth': 4, 'min_samples_split': 6, 'n_estimators': 3}\n",
      "6.211924514379661 6.105606252228795 {'max_depth': 4, 'min_samples_split': 6, 'n_estimators': 5}\n",
      "6.15733059579028 6.059659873980068 {'max_depth': 4, 'min_samples_split': 6, 'n_estimators': 10}\n",
      "6.338331620902329 6.236252973024072 {'max_depth': 4, 'min_samples_split': 8, 'n_estimators': 2}\n",
      "6.3503087374566975 6.234214825140809 {'max_depth': 4, 'min_samples_split': 8, 'n_estimators': 3}\n",
      "6.211924514379661 6.105606252228795 {'max_depth': 4, 'min_samples_split': 8, 'n_estimators': 5}\n",
      "6.15733059579028 6.059659873980068 {'max_depth': 4, 'min_samples_split': 8, 'n_estimators': 10}\n",
      "5.409729070134668 5.2363422325820554 {'max_depth': 6, 'min_samples_split': 2, 'n_estimators': 2}\n",
      "5.40669284431263 5.217849621324575 {'max_depth': 6, 'min_samples_split': 2, 'n_estimators': 3}\n",
      "5.421939667154024 5.2275575265537135 {'max_depth': 6, 'min_samples_split': 2, 'n_estimators': 5}\n",
      "5.422853605816026 5.218424228663404 {'max_depth': 6, 'min_samples_split': 2, 'n_estimators': 10}\n",
      "5.410906191666665 5.23671484254813 {'max_depth': 6, 'min_samples_split': 4, 'n_estimators': 2}\n",
      "5.407234222861877 5.218083884744296 {'max_depth': 6, 'min_samples_split': 4, 'n_estimators': 3}\n",
      "5.421810307534298 5.227737581196571 {'max_depth': 6, 'min_samples_split': 4, 'n_estimators': 5}\n",
      "5.423065965708126 5.218631085031987 {'max_depth': 6, 'min_samples_split': 4, 'n_estimators': 10}\n",
      "5.40845159323269 5.236910458762813 {'max_depth': 6, 'min_samples_split': 6, 'n_estimators': 2}\n",
      "5.407314751982239 5.218301130080345 {'max_depth': 6, 'min_samples_split': 6, 'n_estimators': 3}\n",
      "5.422116178466747 5.2279667820143025 {'max_depth': 6, 'min_samples_split': 6, 'n_estimators': 5}\n",
      "5.4232433972324765 5.218856130416396 {'max_depth': 6, 'min_samples_split': 6, 'n_estimators': 10}\n",
      "5.406548882333698 5.236879116502928 {'max_depth': 6, 'min_samples_split': 8, 'n_estimators': 2}\n",
      "5.4061016777239566 5.218460834935468 {'max_depth': 6, 'min_samples_split': 8, 'n_estimators': 3}\n",
      "5.421578180128016 5.228248434058969 {'max_depth': 6, 'min_samples_split': 8, 'n_estimators': 5}\n",
      "5.422867090874933 5.219193068651325 {'max_depth': 6, 'min_samples_split': 8, 'n_estimators': 10}\n",
      "5.445996129528492 4.788895923065435 {'max_depth': 8, 'min_samples_split': 2, 'n_estimators': 2}\n",
      "5.382164476885319 4.728851852036687 {'max_depth': 8, 'min_samples_split': 2, 'n_estimators': 3}\n",
      "5.352924876253523 4.726483802296456 {'max_depth': 8, 'min_samples_split': 2, 'n_estimators': 5}\n",
      "5.291793740652879 4.705895295198278 {'max_depth': 8, 'min_samples_split': 2, 'n_estimators': 10}\n",
      "5.440665403278174 4.792433171976135 {'max_depth': 8, 'min_samples_split': 4, 'n_estimators': 2}\n",
      "5.3801453058056765 4.731513544620429 {'max_depth': 8, 'min_samples_split': 4, 'n_estimators': 3}\n",
      "5.352434362700591 4.729183455268695 {'max_depth': 8, 'min_samples_split': 4, 'n_estimators': 5}\n",
      "5.288623368257133 4.709278934488444 {'max_depth': 8, 'min_samples_split': 4, 'n_estimators': 10}\n",
      "5.447431204258276 4.7953350027770885 {'max_depth': 8, 'min_samples_split': 6, 'n_estimators': 2}\n",
      "5.403498444627091 4.733943360523989 {'max_depth': 8, 'min_samples_split': 6, 'n_estimators': 3}\n",
      "5.365059520767287 4.732390360179355 {'max_depth': 8, 'min_samples_split': 6, 'n_estimators': 5}\n",
      "5.295049935576369 4.7124540267689445 {'max_depth': 8, 'min_samples_split': 6, 'n_estimators': 10}\n",
      "5.440386663838171 4.798136892718253 {'max_depth': 8, 'min_samples_split': 8, 'n_estimators': 2}\n",
      "5.400561513596956 4.737254015331535 {'max_depth': 8, 'min_samples_split': 8, 'n_estimators': 3}\n",
      "5.363980404078171 4.735871195373318 {'max_depth': 8, 'min_samples_split': 8, 'n_estimators': 5}\n",
      "5.291360137639327 4.716667762754835 {'max_depth': 8, 'min_samples_split': 8, 'n_estimators': 10}\n",
      "6.33425150027842 2.988173908895303 {'max_depth': None, 'min_samples_split': 2, 'n_estimators': 2}\n",
      "5.99490429875337 2.616594437489425 {'max_depth': None, 'min_samples_split': 2, 'n_estimators': 3}\n",
      "5.703732659612133 2.2948544381289544 {'max_depth': None, 'min_samples_split': 2, 'n_estimators': 5}\n",
      "5.5050476575989125 2.0199246116929337 {'max_depth': None, 'min_samples_split': 2, 'n_estimators': 10}\n",
      "6.189526740560132 3.256813209110667 {'max_depth': None, 'min_samples_split': 4, 'n_estimators': 2}\n",
      "5.881880560719553 2.953061449334355 {'max_depth': None, 'min_samples_split': 4, 'n_estimators': 3}\n",
      "5.6417708515465845 2.690924769246078 {'max_depth': None, 'min_samples_split': 4, 'n_estimators': 5}\n",
      "5.4698380098497825 2.464830366415765 {'max_depth': None, 'min_samples_split': 4, 'n_estimators': 10}\n",
      "6.1092891671156995 3.4879124887082806 {'max_depth': None, 'min_samples_split': 6, 'n_estimators': 2}\n",
      "5.813890711137183 3.2277267988067995 {'max_depth': None, 'min_samples_split': 6, 'n_estimators': 3}\n",
      "5.595731501871613 3.0099888291456427 {'max_depth': None, 'min_samples_split': 6, 'n_estimators': 5}\n",
      "5.424615436417124 2.822851852814749 {'max_depth': None, 'min_samples_split': 6, 'n_estimators': 10}\n",
      "6.009746377801079 3.6521755917881094 {'max_depth': None, 'min_samples_split': 8, 'n_estimators': 2}\n",
      "5.758763613989371 3.4165691055722602 {'max_depth': None, 'min_samples_split': 8, 'n_estimators': 3}\n",
      "5.531616369108761 3.230478959414994 {'max_depth': None, 'min_samples_split': 8, 'n_estimators': 5}\n",
      "5.377917488452013 3.0678104911756505 {'max_depth': None, 'min_samples_split': 8, 'n_estimators': 10}\n"
     ]
    }
   ],
   "source": [
    "# training and validation RMSE\n",
    "\n",
    "val_scores = rf_grid_search.cv_results_[\"mean_test_score\"]\n",
    "train_scores = rf_grid_search.cv_results_[\"mean_train_score\"]\n",
    "params = rf_grid_search.cv_results_[\"params\"]\n",
    "\n",
    "for val_score, train_score, param in zip(val_scores, train_scores, params):\n",
    "    print(np.sqrt(-val_score), np.sqrt(-train_score), param)"
   ]
  },
  {
   "cell_type": "markdown",
   "metadata": {},
   "source": [
    "**Comments**: The best model is achieved with n_estmators=200. Comparing the mean RMSE on the training set and the validation set, we notice that the latter is around three times lower than the former. This indicates the models overfit and we should constrain the learned trees in some way (e.g., introduce the maximum tree depth) to reduce it. This in turn may help to reduce the RMSE on the validation set."
   ]
  },
  {
   "cell_type": "markdown",
   "metadata": {},
   "source": [
    "### Support Vector Regressor"
   ]
  },
  {
   "cell_type": "code",
   "execution_count": 53,
   "metadata": {
    "ExecuteTime": {
     "end_time": "2020-12-17T13:01:57.426872Z",
     "start_time": "2020-12-17T12:50:55.958576Z"
    }
   },
   "outputs": [
    {
     "data": {
      "text/plain": [
       "GridSearchCV(cv=10, error_score=nan,\n",
       "             estimator=SVR(C=1.0, cache_size=200, coef0=0.0, degree=3,\n",
       "                           epsilon=0.1, gamma='scale', kernel='rbf',\n",
       "                           max_iter=-1, shrinking=True, tol=0.001,\n",
       "                           verbose=False),\n",
       "             iid='deprecated', n_jobs=None,\n",
       "             param_grid=[{'C': [0.1, 0.01, 1], 'gamma': [0.1, 0.5, 0.9]}],\n",
       "             pre_dispatch='2*n_jobs', refit=True, return_train_score=True,\n",
       "             scoring='neg_mean_squared_error', verbose=0)"
      ]
     },
     "execution_count": 53,
     "metadata": {},
     "output_type": "execute_result"
    }
   ],
   "source": [
    "from sklearn.svm import SVR\n",
    "\n",
    "param_grid = [\n",
    "    {'C': [0.1, 0.01, 1], \n",
    "     'gamma': [0.1, 0.5, 0.9]\n",
    "    },\n",
    "]\n",
    "\n",
    "svr = SVR(kernel=\"rbf\")\n",
    "\n",
    "sv_grid_search = GridSearchCV(svr, param_grid, cv=10, \n",
    "                              scoring='neg_mean_squared_error',\n",
    "                              return_train_score=True)\n",
    "\n",
    "sv_grid_search.fit(Xtrain, ytrain)"
   ]
  },
  {
   "cell_type": "code",
   "execution_count": 54,
   "metadata": {
    "ExecuteTime": {
     "end_time": "2020-12-17T13:01:57.441717Z",
     "start_time": "2020-12-17T13:01:57.432849Z"
    }
   },
   "outputs": [
    {
     "data": {
      "text/plain": [
       "SVR(C=1, cache_size=200, coef0=0.0, degree=3, epsilon=0.1, gamma=0.1,\n",
       "    kernel='rbf', max_iter=-1, shrinking=True, tol=0.001, verbose=False)"
      ]
     },
     "execution_count": 54,
     "metadata": {},
     "output_type": "execute_result"
    }
   ],
   "source": [
    "# the best model\n",
    "\n",
    "sv_grid_search.best_estimator_"
   ]
  },
  {
   "cell_type": "code",
   "execution_count": 55,
   "metadata": {
    "ExecuteTime": {
     "end_time": "2020-12-17T13:01:57.810128Z",
     "start_time": "2020-12-17T13:01:57.446915Z"
    }
   },
   "outputs": [
    {
     "data": {
      "text/plain": [
       "10.028979839073946"
      ]
     },
     "execution_count": 55,
     "metadata": {},
     "output_type": "execute_result"
    }
   ],
   "source": [
    "# the best model's RMSE\n",
    "\n",
    "np.sqrt(-sv_grid_search.best_score_)"
   ]
  },
  {
   "cell_type": "code",
   "execution_count": 56,
   "metadata": {
    "ExecuteTime": {
     "end_time": "2020-12-17T13:01:57.825989Z",
     "start_time": "2020-12-17T13:01:57.814725Z"
    }
   },
   "outputs": [
    {
     "name": "stdout",
     "output_type": "stream",
     "text": [
      "10.503232524686206 9.84779696563859 {'C': 0.1, 'gamma': 0.1}\n",
      "10.577963874544533 10.41228875752028 {'C': 0.1, 'gamma': 0.5}\n",
      "10.5782994605318 10.459153751078416 {'C': 0.1, 'gamma': 0.9}\n",
      "10.562040717869625 10.490624687357224 {'C': 0.01, 'gamma': 0.1}\n",
      "10.573939185182883 10.552397822780124 {'C': 0.01, 'gamma': 0.5}\n",
      "10.573953026841904 10.55705703339121 {'C': 0.01, 'gamma': 0.9}\n",
      "10.028979839073946 6.486414611287232 {'C': 1, 'gamma': 0.1}\n",
      "10.618373770828153 9.083959893873361 {'C': 1, 'gamma': 0.5}\n",
      "10.597476068937048 9.493609110004847 {'C': 1, 'gamma': 0.9}\n"
     ]
    }
   ],
   "source": [
    "# training and validation RMSE\n",
    "\n",
    "val_scores = sv_grid_search.cv_results_[\"mean_test_score\"]\n",
    "train_scores = sv_grid_search.cv_results_[\"mean_train_score\"]\n",
    "params = sv_grid_search.cv_results_[\"params\"]\n",
    "\n",
    "for val_score, train_score, param in zip(val_scores, train_scores, params):\n",
    "    print(np.sqrt(-val_score), np.sqrt(-train_score), param)"
   ]
  },
  {
   "cell_type": "markdown",
   "metadata": {},
   "source": [
    "**Comments**: The best RMSE was achieved with C=10000 and gamma=0.1. There is no evidence of overfitting with this model: the performance on the training data is similar to that on the validation data."
   ]
  },
  {
   "cell_type": "markdown",
   "metadata": {},
   "source": [
    "Indeed, the predictions are spot on! But, these are predictions on training data. Decision trees are powerful models, capable of capturing complex patterns in the data, but at the same time they will **overfit**, unless they are contrained in some way (e.g. a maximum tree depth is set). To confirm this, we would need to see how the model fares on the test data, but this needs to be postponed till after we have selected the most promising models for the eventual evaluation on the test set.\n",
    "\n",
    "Another possibility is to evaluate the model using **cross-validation**.\n",
    "\n",
    "## 5.3 Cross-validation\n",
    "\n",
    "The idea behind cross-validation is the following: take the training set, split it into $k$ parts (e.g., $k$=10). Then train a model on the $k-1$ parts and evaluate the model on the $k$-th part. Repeat this $k$ times, each time recording the accuracy score. The final accuracy score is the mean of the accuracy scores of the $k$ models.\n",
    "\n",
    "In scikit-learn, this can be achieved as follows.\n",
    "\n",
    "### Decision trees"
   ]
  },
  {
   "cell_type": "code",
   "execution_count": 57,
   "metadata": {
    "ExecuteTime": {
     "end_time": "2020-12-17T13:01:58.329963Z",
     "start_time": "2020-12-17T13:01:57.831034Z"
    }
   },
   "outputs": [
    {
     "name": "stdout",
     "output_type": "stream",
     "text": [
      "Scores: [7.27799384 6.81631024 6.6054157  7.54276905 6.97048619 6.77306486\n",
      " 6.79297797 6.73174203 7.11546859 7.74121781]\n",
      "Mean: 7.036744627675084\n",
      "Standard deviation: 0.35745541683669946\n"
     ]
    }
   ],
   "source": [
    "from sklearn.model_selection import cross_val_score\n",
    "\n",
    "tree_reg = DecisionTreeRegressor()\n",
    "\n",
    "# Scikit-Learn cross-validation features expect a utility function (greater is better) \n",
    "# rather than a cost function (lower is better), so the scoring function is actually \n",
    "# the opposite of the MSE\n",
    "scores = cross_val_score(tree_reg, Xtrain, ytrain, scoring=\"neg_mean_squared_error\", cv=10)\n",
    "\n",
    "rmse_scores = np.sqrt(-scores)\n",
    "\n",
    "def display_scores(scores):\n",
    "    print(\"Scores:\", scores)\n",
    "    print(\"Mean:\", scores.mean())\n",
    "    print(\"Standard deviation:\", scores.std())\n",
    "\n",
    "display_scores(rmse_scores)"
   ]
  },
  {
   "cell_type": "markdown",
   "metadata": {},
   "source": [
    "Thus, the Decision Tree algorithm produces models that have the RMSE of 64,811; the standard deviation being 2,166 (which gives an idea of the variance of the algorithm).\n",
    "\n",
    "So we can confirm that our original model, which was evaluated on the training set, overfitted the data."
   ]
  },
  {
   "cell_type": "code",
   "execution_count": null,
   "metadata": {},
   "outputs": [],
   "source": []
  },
  {
   "cell_type": "markdown",
   "metadata": {},
   "source": [
    "# Linear regression\n",
    "\n",
    "For comparison, let's also evaluate the linear regression using cross-validation:"
   ]
  },
  {
   "cell_type": "code",
   "execution_count": 58,
   "metadata": {
    "ExecuteTime": {
     "end_time": "2020-12-17T13:01:58.505667Z",
     "start_time": "2020-12-17T13:01:58.333667Z"
    }
   },
   "outputs": [
    {
     "name": "stdout",
     "output_type": "stream",
     "text": [
      "Scores: [ 7.39985632  6.9719456   6.92972555  7.2900386   7.31181112  6.15297012\n",
      "  6.2679948   7.2965199   7.21361275 37.73364015]\n",
      "Mean: 10.056811491102867\n",
      "Standard deviation: 9.234984985593098\n"
     ]
    }
   ],
   "source": [
    "from sklearn.linear_model import LinearRegression\n",
    "lin_reg = LinearRegression()\n",
    "scores = cross_val_score(lin_reg, Xtrain, ytrain,\n",
    "                         scoring=\"neg_mean_squared_error\", cv=10)\n",
    "rmse_scores = np.sqrt(-scores)\n",
    "display_scores(rmse_scores)"
   ]
  },
  {
   "cell_type": "markdown",
   "metadata": {},
   "source": [
    "It turns out that linear regression has a slightly lower average error rate than Decision Trees, and at the same time exhibits lower variance."
   ]
  },
  {
   "cell_type": "markdown",
   "metadata": {},
   "source": [
    "### Random Forest\n",
    "\n",
    "Finally, let's evaluate a RandomForest regression algorithm. Random Forests work by training many Decision Trees on random subsets of the features, then averaging out their predictions.\n",
    "\n",
    "We specify that we want the algorithm to use 10 decision trees. We do that by passing `n_estimators=10` when we initialize the `RandomForestRegressor` class "
   ]
  },
  {
   "cell_type": "code",
   "execution_count": 59,
   "metadata": {
    "ExecuteTime": {
     "end_time": "2020-12-17T13:02:01.254708Z",
     "start_time": "2020-12-17T13:01:58.509677Z"
    }
   },
   "outputs": [
    {
     "name": "stdout",
     "output_type": "stream",
     "text": [
      "Scores: [5.67243689 5.24126106 5.76604705 5.30643555 5.73682087 4.84145923\n",
      " 5.03147911 5.34288183 5.48682018 6.45634395]\n",
      "Mean: 5.488198573623224\n",
      "Standard deviation: 0.4303790525981547\n"
     ]
    }
   ],
   "source": [
    "from sklearn.ensemble import RandomForestRegressor\n",
    "\n",
    "forest_reg = RandomForestRegressor(n_estimators=10, random_state=7)\n",
    "scores = cross_val_score(forest_reg, Xtrain, ytrain,\n",
    "                         scoring=\"neg_mean_squared_error\", cv=10)\n",
    "rmse_scores = np.sqrt(-scores)\n",
    "display_scores(rmse_scores)"
   ]
  },
  {
   "cell_type": "markdown",
   "metadata": {},
   "source": [
    "The algorithm produced a much lower RMSE score (47,820) than either Decision Trees or linear regression methods. It seems to be a particularly suitable algorithm to be explored further."
   ]
  },
  {
   "cell_type": "markdown",
   "metadata": {},
   "source": [
    "## 5.4 Tuning hyperparameters\n"
   ]
  },
  {
   "cell_type": "markdown",
   "metadata": {},
   "source": [
    "In the previous experiment, we used 10 decision trees in the Random Forest algorithm. This setting is called a hyperparameter of the algorithm, and needs to be set before a model is trained.\n",
    "\n",
    "We might experiment with several different settings of the hyperparameter to find its optimal settings. However, many algorithms have quite a few of such hyperparameters. Scikit-learn has a utility to automatically search for the best combination of hyperparameter values, implemented in the `GridSearchCV` class. \n",
    "\n",
    "### Exhaustive grid search\n",
    "\n",
    "`GridSearchCV` takes a set of hyperparameters and the search range for each hyperparameter, constructs a search grid with all possible hyperparameter combinations, and evaluates each combination using cross-validation. The output is the model with the best cross-validation accuracy.\n",
    "\n",
    "Let's take a look at an example. We will train a RandomForest regressor, searching for the best model in the grid created from two hyperparameters: `n_estimators` (the number of decision trees, trying values 3, 10 and 30) and `max_depth` (the maximum depth of each tree, trying values 4, 6, 8 and None - None being the maximum possible depth, the default value). So, the grid search will involve creating and evaluating 12 models using cross-validation."
   ]
  },
  {
   "cell_type": "code",
   "execution_count": 60,
   "metadata": {
    "ExecuteTime": {
     "end_time": "2020-12-17T13:02:27.669098Z",
     "start_time": "2020-12-17T13:02:01.258828Z"
    }
   },
   "outputs": [
    {
     "data": {
      "text/plain": [
       "GridSearchCV(cv=10, error_score=nan,\n",
       "             estimator=RandomForestRegressor(bootstrap=True, ccp_alpha=0.0,\n",
       "                                             criterion='mse', max_depth=None,\n",
       "                                             max_features='auto',\n",
       "                                             max_leaf_nodes=None,\n",
       "                                             max_samples=None,\n",
       "                                             min_impurity_decrease=0.0,\n",
       "                                             min_impurity_split=None,\n",
       "                                             min_samples_leaf=1,\n",
       "                                             min_samples_split=2,\n",
       "                                             min_weight_fraction_leaf=0.0,\n",
       "                                             n_estimators=100, n_jobs=None,\n",
       "                                             oob_score=False, random_state=7,\n",
       "                                             verbose=0, warm_start=False),\n",
       "             iid='deprecated', n_jobs=None,\n",
       "             param_grid=[{'max_depth': [4, 6, 8, None],\n",
       "                          'n_estimators': [3, 10, 30]}],\n",
       "             pre_dispatch='2*n_jobs', refit=True, return_train_score=True,\n",
       "             scoring='neg_mean_squared_error', verbose=0)"
      ]
     },
     "execution_count": 60,
     "metadata": {},
     "output_type": "execute_result"
    }
   ],
   "source": [
    "from sklearn.model_selection import GridSearchCV\n",
    "\n",
    "# specify the hyperparameters and their values\n",
    "param_grid = [\n",
    "    {'n_estimators': [3, 10, 30], 'max_depth': [4, 6, 8, None]},\n",
    "]\n",
    "\n",
    "forest_reg = RandomForestRegressor(random_state=7)\n",
    "\n",
    "# we'll use 10-fold cross-validation\n",
    "grid_search = GridSearchCV(forest_reg, param_grid, cv=10,\n",
    "                           scoring='neg_mean_squared_error', \n",
    "                           return_train_score=True)\n",
    "\n",
    "grid_search.fit(Xtrain, ytrain)"
   ]
  },
  {
   "cell_type": "markdown",
   "metadata": {},
   "source": [
    "Once grid search is complete we can obtain the best model and its accuracy score: they are attributes on the `GridSearchCV` class:"
   ]
  },
  {
   "cell_type": "code",
   "execution_count": 61,
   "metadata": {
    "ExecuteTime": {
     "end_time": "2020-12-17T13:02:27.683701Z",
     "start_time": "2020-12-17T13:02:27.672964Z"
    }
   },
   "outputs": [
    {
     "data": {
      "text/plain": [
       "RandomForestRegressor(bootstrap=True, ccp_alpha=0.0, criterion='mse',\n",
       "                      max_depth=8, max_features='auto', max_leaf_nodes=None,\n",
       "                      max_samples=None, min_impurity_decrease=0.0,\n",
       "                      min_impurity_split=None, min_samples_leaf=1,\n",
       "                      min_samples_split=2, min_weight_fraction_leaf=0.0,\n",
       "                      n_estimators=30, n_jobs=None, oob_score=False,\n",
       "                      random_state=7, verbose=0, warm_start=False)"
      ]
     },
     "execution_count": 61,
     "metadata": {},
     "output_type": "execute_result"
    }
   ],
   "source": [
    "grid_search.best_estimator_"
   ]
  },
  {
   "cell_type": "markdown",
   "metadata": {},
   "source": [
    "The best model proved to be one with `n_estimator=30` and `max_depth=None`.\n",
    "\n",
    "Let's look up its RMSE."
   ]
  },
  {
   "cell_type": "code",
   "execution_count": 62,
   "metadata": {
    "ExecuteTime": {
     "end_time": "2020-12-17T13:02:27.708772Z",
     "start_time": "2020-12-17T13:02:27.688254Z"
    }
   },
   "outputs": [
    {
     "data": {
      "text/plain": [
       "5.280166386158648"
      ]
     },
     "execution_count": 62,
     "metadata": {},
     "output_type": "execute_result"
    }
   ],
   "source": [
    "np.sqrt(-grid_search.best_score_)"
   ]
  },
  {
   "cell_type": "markdown",
   "metadata": {},
   "source": [
    "Thus by tuning hyperparameters, we were able to further reduce the error rate (from 47820 to 46209). \n",
    "\n",
    "You could have noticed that the largest value of `n_estimators` we tried (30) produced the best result. This suggests we should try even greater values - we could improve the error rate further.\n",
    "\n",
    "We can also access RMSE scores of each model trained during grid search. They are stored in the `cv_results_` attribute:"
   ]
  },
  {
   "cell_type": "code",
   "execution_count": 63,
   "metadata": {
    "ExecuteTime": {
     "end_time": "2020-12-17T13:02:27.736312Z",
     "start_time": "2020-12-17T13:02:27.713423Z"
    }
   },
   "outputs": [
    {
     "name": "stdout",
     "output_type": "stream",
     "text": [
      "6.3503087374566975 6.234214825140809 {'max_depth': 4, 'n_estimators': 3}\n",
      "6.15733059579028 6.059659873980068 {'max_depth': 4, 'n_estimators': 10}\n",
      "6.181004831072239 6.080228343526752 {'max_depth': 4, 'n_estimators': 30}\n",
      "5.40669284431263 5.217849621324575 {'max_depth': 6, 'n_estimators': 3}\n",
      "5.422853605816026 5.218424228663404 {'max_depth': 6, 'n_estimators': 10}\n",
      "5.4120320482510325 5.210811615381205 {'max_depth': 6, 'n_estimators': 30}\n",
      "5.382164476885319 4.728851852036687 {'max_depth': 8, 'n_estimators': 3}\n",
      "5.291793740652879 4.705895295198278 {'max_depth': 8, 'n_estimators': 10}\n",
      "5.280166386158648 4.676004350537132 {'max_depth': 8, 'n_estimators': 30}\n",
      "5.99490429875337 2.616594437489425 {'max_depth': None, 'n_estimators': 3}\n",
      "5.5050476575989125 2.0199246116929337 {'max_depth': None, 'n_estimators': 10}\n",
      "5.434122158645126 1.819630202256117 {'max_depth': None, 'n_estimators': 30}\n"
     ]
    }
   ],
   "source": [
    "val_scores = grid_search.cv_results_[\"mean_test_score\"]\n",
    "train_scores = grid_search.cv_results_[\"mean_train_score\"]\n",
    "params = grid_search.cv_results_[\"params\"]\n",
    "\n",
    "for val_score, train_score, param in zip(val_scores, train_scores, params):\n",
    "    print(np.sqrt(-val_score), np.sqrt(-train_score), param)"
   ]
  },
  {
   "cell_type": "markdown",
   "metadata": {},
   "source": [
    "The best-performing model showed a much lower RMSE on the training set (17985) than on the test set (46209). This indicates the model overfitted the training data. The overfitting could be reduced and the model further improved by introducing constraints on the learned trees (for example, enforcing a maximum depth of the learned trees)."
   ]
  },
  {
   "cell_type": "markdown",
   "metadata": {},
   "source": [
    "### Randomized grid search\n",
    "\n",
    "When the search space of hyperparameters is very large, running exhaustive grid search may take too much time. In such cases, one can try `RandomizedSearchCV` instead. It allows to limit the number of models to build and thus control the amount of computing resources one uses.\n",
    "\n",
    "The class works very much the same as `GridSearchCV`, but takes extra arguments: `n_iter`, the number of random combinations to try and `random_state`, which can be set to the same constant to ensure that the same random combinations are tried in different runs of the code.\n",
    "\n",
    "Here, we will try 6 random combinations (`n_iter=6`), instead of 12 in the exhaustive search."
   ]
  },
  {
   "cell_type": "code",
   "execution_count": 64,
   "metadata": {
    "ExecuteTime": {
     "end_time": "2020-12-17T13:02:38.720048Z",
     "start_time": "2020-12-17T13:02:27.740572Z"
    }
   },
   "outputs": [
    {
     "data": {
      "text/plain": [
       "RandomizedSearchCV(cv=10, error_score=nan,\n",
       "                   estimator=RandomForestRegressor(bootstrap=True,\n",
       "                                                   ccp_alpha=0.0,\n",
       "                                                   criterion='mse',\n",
       "                                                   max_depth=None,\n",
       "                                                   max_features='auto',\n",
       "                                                   max_leaf_nodes=None,\n",
       "                                                   max_samples=None,\n",
       "                                                   min_impurity_decrease=0.0,\n",
       "                                                   min_impurity_split=None,\n",
       "                                                   min_samples_leaf=1,\n",
       "                                                   min_samples_split=2,\n",
       "                                                   min_weight_fraction_leaf=0.0,\n",
       "                                                   n_estimators=100,\n",
       "                                                   n_jobs=None, oob_score=False,\n",
       "                                                   random_state=7, verbose=0,\n",
       "                                                   warm_start=False),\n",
       "                   iid='deprecated', n_iter=6, n_jobs=None,\n",
       "                   param_distributions={'max_depth': [4, 6, 8, None],\n",
       "                                        'n_estimators': [3, 10, 30]},\n",
       "                   pre_dispatch='2*n_jobs', random_state=7, refit=True,\n",
       "                   return_train_score=True, scoring='neg_mean_squared_error',\n",
       "                   verbose=0)"
      ]
     },
     "execution_count": 64,
     "metadata": {},
     "output_type": "execute_result"
    }
   ],
   "source": [
    "from sklearn.model_selection import RandomizedSearchCV\n",
    "\n",
    "# specify the hyperparameters and their values\n",
    "param_grid = {'n_estimators': [3, 10, 30], 'max_depth': [4, 6, 8, None]}\n",
    "\n",
    "forest_reg = RandomForestRegressor(random_state=7)\n",
    "\n",
    "# we'll use 10-fold cross-validation\n",
    "rand_grid_search = RandomizedSearchCV(forest_reg, param_grid, cv=10, n_iter=6,\n",
    "                                     scoring='neg_mean_squared_error', random_state=7,\n",
    "                                     return_train_score=True)\n",
    "\n",
    "rand_grid_search.fit(Xtrain, ytrain)"
   ]
  },
  {
   "cell_type": "code",
   "execution_count": 65,
   "metadata": {
    "ExecuteTime": {
     "end_time": "2020-12-17T13:02:38.734851Z",
     "start_time": "2020-12-17T13:02:38.724419Z"
    }
   },
   "outputs": [
    {
     "data": {
      "text/plain": [
       "RandomForestRegressor(bootstrap=True, ccp_alpha=0.0, criterion='mse',\n",
       "                      max_depth=8, max_features='auto', max_leaf_nodes=None,\n",
       "                      max_samples=None, min_impurity_decrease=0.0,\n",
       "                      min_impurity_split=None, min_samples_leaf=1,\n",
       "                      min_samples_split=2, min_weight_fraction_leaf=0.0,\n",
       "                      n_estimators=10, n_jobs=None, oob_score=False,\n",
       "                      random_state=7, verbose=0, warm_start=False)"
      ]
     },
     "execution_count": 65,
     "metadata": {},
     "output_type": "execute_result"
    }
   ],
   "source": [
    "rand_grid_search.best_estimator_"
   ]
  },
  {
   "cell_type": "markdown",
   "metadata": {},
   "source": [
    "The best model found is with `n_estimators=10` and `max_depth=None`.\n",
    "\n",
    "Its RMSE score is:"
   ]
  },
  {
   "cell_type": "code",
   "execution_count": 66,
   "metadata": {
    "ExecuteTime": {
     "end_time": "2020-12-17T13:02:38.750197Z",
     "start_time": "2020-12-17T13:02:38.739979Z"
    }
   },
   "outputs": [
    {
     "data": {
      "text/plain": [
       "5.291793740652879"
      ]
     },
     "execution_count": 66,
     "metadata": {},
     "output_type": "execute_result"
    }
   ],
   "source": [
    "np.sqrt(-rand_grid_search.best_score_)"
   ]
  },
  {
   "cell_type": "markdown",
   "metadata": {},
   "source": [
    "## 5.5 Analyze the most promising models\n",
    "\n",
    "We can examine what variables were the most important for the regression problem in the best-performing model. They are also stored as an attribute on the model object:"
   ]
  },
  {
   "cell_type": "code",
   "execution_count": 67,
   "metadata": {
    "ExecuteTime": {
     "end_time": "2020-12-17T13:02:38.786806Z",
     "start_time": "2020-12-17T13:02:38.768830Z"
    }
   },
   "outputs": [
    {
     "name": "stdout",
     "output_type": "stream",
     "text": [
      "Hour: 0.769271682364635\n",
      "Weekend: 0.07530736805840361\n",
      "Time_of_Day_Office hours (10-15): 0.03869658204829355\n",
      "Weekofyear: 0.03593362233614116\n",
      "Time_of_Day_Morning rush (5-10): 0.02558458044758602\n",
      "Time_of_Day_Evening (19-23): 0.0190519083667776\n",
      "Dayofweek: 0.008914082722078314\n",
      "Dayofmonth: 0.006298281856612224\n",
      "Day_of_Week_Saturday: 0.00420439297224768\n",
      "Month: 0.0030768577743843146\n",
      "Light_Conditions_Darkness - lights lit: 0.002601928100891391\n",
      "Urban_or_Rural_Area_Urban: 0.0023432615755310856\n",
      "Precipitation_Raining: 0.0020007365006510123\n",
      "Day_of_Week_Sunday: 0.0015188336440423614\n",
      "Light_Conditions_Daylight: 0.0011165090181389364\n",
      "Quarter: 0.0008471137092278127\n",
      "Time_of_Day_Night (23-5): 0.00047720794197373496\n",
      "Road_Surface_Conditions_Wet or damp: 0.00047192865824703965\n",
      "Road_Surface_Conditions_Snow: 0.00042040419869327823\n",
      "Road_Surface_Conditions_Frost or ice: 0.00038896565792943957\n",
      "Precipitation_Snowing: 0.0003440080981788336\n",
      "Day_of_Week_Tuesday: 0.0002779134954675544\n",
      "Day_of_Week_Monday: 0.000253994916359803\n",
      "Day_of_Week_Thursday: 0.00023088537118929665\n",
      "Day_of_Week_Wednesday: 0.00019048682964878123\n",
      "Light_Conditions_Darkness - no lighting: 0.00016092562439263655\n",
      "Precipitation_Fog or mist: 1.4766514490137036e-05\n",
      "Light_Conditions_Darkness - lights unlit: 7.711977874483393e-07\n",
      "Road_Surface_Conditions_Flood over 3cm. deep: 0.0\n"
     ]
    }
   ],
   "source": [
    "# put them into a separate variable for convenience\n",
    "feature_importances = grid_search.best_estimator_.feature_importances_\n",
    "\n",
    "# the order of the features in `feature_importances` is the same as in the Xtrain dataframe,\n",
    "# so we can \"zip\" the two and print in the descending order:\n",
    "\n",
    "for k, v in sorted(zip(feature_importances, Xtrain.columns), reverse=True):\n",
    "    print(f\"{v}: {k}\")"
   ]
  },
  {
   "cell_type": "markdown",
   "metadata": {},
   "source": [
    "We can notice that median income is by far the most useful variable for predicting the price of housing. Other useful features are the position of the district relative to the ocean, the average number of persons per household in a district.\n",
    "\n",
    "There are some features that are much less useful: \"NEAR OCEAN\", \"NEAR BAY\" and \"ISLAND\". We may consider removing them both from the training and test set.\n",
    "\n",
    "It often helps to also visualize the predictions made by the model. Let's refit the best model on the first 90% of the training set and generate predictions on the last 10%. There are 15736 training instances, so we will use 14162 for training and the rest for testing."
   ]
  }
 ],
 "metadata": {
  "kernelspec": {
   "display_name": "Python 3",
   "language": "python",
   "name": "python3"
  },
  "language_info": {
   "codemirror_mode": {
    "name": "ipython",
    "version": 3
   },
   "file_extension": ".py",
   "mimetype": "text/x-python",
   "name": "python",
   "nbconvert_exporter": "python",
   "pygments_lexer": "ipython3",
   "version": "3.7.4"
  },
  "toc": {
   "base_numbering": 1,
   "nav_menu": {},
   "number_sections": true,
   "sideBar": true,
   "skip_h1_title": false,
   "title_cell": "Table of Contents",
   "title_sidebar": "Contents",
   "toc_cell": false,
   "toc_position": {
    "height": "calc(100% - 180px)",
    "left": "10px",
    "top": "150px",
    "width": "304.796875px"
   },
   "toc_section_display": true,
   "toc_window_display": true
  }
 },
 "nbformat": 4,
 "nbformat_minor": 2
}
