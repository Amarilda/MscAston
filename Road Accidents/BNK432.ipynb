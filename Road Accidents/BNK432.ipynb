{
 "cells": [
  {
   "cell_type": "markdown",
   "metadata": {},
   "source": [
    "# Read the data"
   ]
  },
  {
   "cell_type": "code",
   "execution_count": 1,
   "metadata": {
    "ExecuteTime": {
     "end_time": "2020-12-15T15:29:37.945566Z",
     "start_time": "2020-12-15T15:29:37.153223Z"
    }
   },
   "outputs": [],
   "source": [
    "# Import necessary packages\n",
    "import pandas as pd\n",
    "import numpy as np\n",
    "from matplotlib import pyplot as plt\n",
    "%matplotlib inline\n",
    "\n",
    "from datetime import datetime\n",
    "from datetime import date\n"
   ]
  },
  {
   "cell_type": "code",
   "execution_count": 2,
   "metadata": {
    "ExecuteTime": {
     "end_time": "2020-12-15T15:29:37.977904Z",
     "start_time": "2020-12-15T15:29:37.949503Z"
    }
   },
   "outputs": [],
   "source": [
    "# Read the dat\n",
    "df= pd.read_csv(\"UK Road Accidents 2018.csv\")"
   ]
  },
  {
   "cell_type": "markdown",
   "metadata": {},
   "source": [
    "Random sample of data set, shows more variation in the data set than df.head(). Data set is usually sorted."
   ]
  },
  {
   "cell_type": "code",
   "execution_count": 3,
   "metadata": {
    "ExecuteTime": {
     "end_time": "2020-12-15T15:29:38.007218Z",
     "start_time": "2020-12-15T15:29:37.981294Z"
    }
   },
   "outputs": [
    {
     "data": {
      "text/html": [
       "<div>\n",
       "<style scoped>\n",
       "    .dataframe tbody tr th:only-of-type {\n",
       "        vertical-align: middle;\n",
       "    }\n",
       "\n",
       "    .dataframe tbody tr th {\n",
       "        vertical-align: top;\n",
       "    }\n",
       "\n",
       "    .dataframe thead th {\n",
       "        text-align: right;\n",
       "    }\n",
       "</style>\n",
       "<table border=\"1\" class=\"dataframe\">\n",
       "  <thead>\n",
       "    <tr style=\"text-align: right;\">\n",
       "      <th></th>\n",
       "      <th>datetime</th>\n",
       "      <th>Count</th>\n",
       "      <th>Day_of_Week</th>\n",
       "      <th>Precipitation</th>\n",
       "      <th>High_Winds</th>\n",
       "      <th>Road_Surface_Conditions</th>\n",
       "      <th>Light_Conditions</th>\n",
       "      <th>Urban_or_Rural_Area</th>\n",
       "    </tr>\n",
       "  </thead>\n",
       "  <tbody>\n",
       "    <tr>\n",
       "      <th>1667</th>\n",
       "      <td>14/03/2018 01:00</td>\n",
       "      <td>1</td>\n",
       "      <td>Wednesday</td>\n",
       "      <td>Fine</td>\n",
       "      <td>False</td>\n",
       "      <td>Dry</td>\n",
       "      <td>Darkness - lights lit</td>\n",
       "      <td>Urban</td>\n",
       "    </tr>\n",
       "    <tr>\n",
       "      <th>1984</th>\n",
       "      <td>27/03/2018 14:00</td>\n",
       "      <td>15</td>\n",
       "      <td>Tuesday</td>\n",
       "      <td>Fine</td>\n",
       "      <td>False</td>\n",
       "      <td>Dry</td>\n",
       "      <td>Daylight</td>\n",
       "      <td>Urban</td>\n",
       "    </tr>\n",
       "    <tr>\n",
       "      <th>6665</th>\n",
       "      <td>13/10/2018 06:00</td>\n",
       "      <td>4</td>\n",
       "      <td>Saturday</td>\n",
       "      <td>Fine</td>\n",
       "      <td>False</td>\n",
       "      <td>Wet or damp</td>\n",
       "      <td>Darkness - lights lit</td>\n",
       "      <td>Rural</td>\n",
       "    </tr>\n",
       "    <tr>\n",
       "      <th>7327</th>\n",
       "      <td>10/11/2018 08:00</td>\n",
       "      <td>13</td>\n",
       "      <td>Saturday</td>\n",
       "      <td>Fine</td>\n",
       "      <td>False</td>\n",
       "      <td>Wet or damp</td>\n",
       "      <td>Daylight</td>\n",
       "      <td>Urban</td>\n",
       "    </tr>\n",
       "    <tr>\n",
       "      <th>7567</th>\n",
       "      <td>20/11/2018 14:00</td>\n",
       "      <td>19</td>\n",
       "      <td>Tuesday</td>\n",
       "      <td>Raining</td>\n",
       "      <td>False</td>\n",
       "      <td>Wet or damp</td>\n",
       "      <td>Daylight</td>\n",
       "      <td>Urban</td>\n",
       "    </tr>\n",
       "  </tbody>\n",
       "</table>\n",
       "</div>"
      ],
      "text/plain": [
       "              datetime  Count Day_of_Week Precipitation  High_Winds  \\\n",
       "1667  14/03/2018 01:00      1   Wednesday          Fine       False   \n",
       "1984  27/03/2018 14:00     15     Tuesday          Fine       False   \n",
       "6665  13/10/2018 06:00      4    Saturday          Fine       False   \n",
       "7327  10/11/2018 08:00     13    Saturday          Fine       False   \n",
       "7567  20/11/2018 14:00     19     Tuesday       Raining       False   \n",
       "\n",
       "     Road_Surface_Conditions       Light_Conditions Urban_or_Rural_Area  \n",
       "1667                     Dry  Darkness - lights lit               Urban  \n",
       "1984                     Dry               Daylight               Urban  \n",
       "6665             Wet or damp  Darkness - lights lit               Rural  \n",
       "7327             Wet or damp               Daylight               Urban  \n",
       "7567             Wet or damp               Daylight               Urban  "
      ]
     },
     "execution_count": 3,
     "metadata": {},
     "output_type": "execute_result"
    }
   ],
   "source": [
    "df.sample(5)"
   ]
  },
  {
   "cell_type": "markdown",
   "metadata": {},
   "source": [
    "Non-null count provides the same as \" RangeIndex - df.isna().sum()\"\n",
    "\n",
    "RangeIndex: 8540 "
   ]
  },
  {
   "cell_type": "code",
   "execution_count": 4,
   "metadata": {
    "ExecuteTime": {
     "end_time": "2020-12-15T15:29:38.030505Z",
     "start_time": "2020-12-15T15:29:38.011265Z"
    }
   },
   "outputs": [
    {
     "name": "stdout",
     "output_type": "stream",
     "text": [
      "<class 'pandas.core.frame.DataFrame'>\n",
      "RangeIndex: 8540 entries, 0 to 8539\n",
      "Data columns (total 8 columns):\n",
      " #   Column                   Non-Null Count  Dtype \n",
      "---  ------                   --------------  ----- \n",
      " 0   datetime                 8540 non-null   object\n",
      " 1   Count                    8540 non-null   int64 \n",
      " 2   Day_of_Week              8540 non-null   object\n",
      " 3   Precipitation            8540 non-null   object\n",
      " 4   High_Winds               8540 non-null   bool  \n",
      " 5   Road_Surface_Conditions  8540 non-null   object\n",
      " 6   Light_Conditions         8540 non-null   object\n",
      " 7   Urban_or_Rural_Area      8540 non-null   object\n",
      "dtypes: bool(1), int64(1), object(6)\n",
      "memory usage: 475.5+ KB\n"
     ]
    }
   ],
   "source": [
    "df.info()"
   ]
  },
  {
   "cell_type": "markdown",
   "metadata": {
    "ExecuteTime": {
     "end_time": "2020-12-15T13:32:26.083312Z",
     "start_time": "2020-12-15T13:32:26.068243Z"
    }
   },
   "source": [
    "df.isna().sum()"
   ]
  },
  {
   "cell_type": "markdown",
   "metadata": {},
   "source": [
    "## Dr Strange "
   ]
  },
  {
   "cell_type": "code",
   "execution_count": 7,
   "metadata": {
    "ExecuteTime": {
     "end_time": "2020-12-15T15:30:12.540796Z",
     "start_time": "2020-12-15T15:30:12.531274Z"
    }
   },
   "outputs": [],
   "source": [
    "def create_features(df, label=None):\n",
    "    \"\"\"\n",
    "    Creates time series features from datetime index\n",
    "    \"\"\"\n",
    "    df['datetime'] = pd.to_datetime(df['datetime'], format=\"%d/%m/%Y %H:%M\" , errors='coerce')\n",
    "    df['hour'] = df['datetime'].dt.hour\n",
    "    df['dayofweek'] = df['datetime'].dt.dayofweek\n",
    "    df['quarter'] = df['datetime'].dt.quarter\n",
    "    df['month'] = df['datetime'].dt.month\n",
    "    #df['year'] = df['Date'].dt.year\n",
    "    df['dayofyear'] = df['datetime'].dt.dayofyear\n",
    "    df['dayofmonth'] = df['datetime'].dt.day\n",
    "    df['weekofyear'] = df['datetime'].dt.weekofyear\n",
    "    \n",
    "    \n",
    "    X = df[['hour','dayofweek','quarter','month',\n",
    "            #'year',\n",
    "           'dayofyear','dayofmonth','weekofyear']]\n",
    "    if label:\n",
    "        y = df[label]\n",
    "        return X, y\n",
    "    return X"
   ]
  },
  {
   "cell_type": "code",
   "execution_count": 8,
   "metadata": {
    "ExecuteTime": {
     "end_time": "2020-12-15T15:30:17.011585Z",
     "start_time": "2020-12-15T15:30:16.972349Z"
    }
   },
   "outputs": [
    {
     "data": {
      "text/plain": [
       "(8540, 7)"
      ]
     },
     "execution_count": 8,
     "metadata": {},
     "output_type": "execute_result"
    }
   ],
   "source": [
    "create_features(df).shape"
   ]
  },
  {
   "cell_type": "code",
   "execution_count": 9,
   "metadata": {
    "ExecuteTime": {
     "end_time": "2020-12-15T15:30:19.053775Z",
     "start_time": "2020-12-15T15:30:19.041773Z"
    }
   },
   "outputs": [
    {
     "data": {
      "text/plain": [
       "Index(['datetime', 'Count', 'Day_of_Week', 'Precipitation', 'High_Winds',\n",
       "       'Road_Surface_Conditions', 'Light_Conditions', 'Urban_or_Rural_Area',\n",
       "       'hour', 'dayofweek', 'quarter', 'month', 'dayofyear', 'dayofmonth',\n",
       "       'weekofyear'],\n",
       "      dtype='object')"
      ]
     },
     "execution_count": 9,
     "metadata": {},
     "output_type": "execute_result"
    }
   ],
   "source": [
    "df.columns"
   ]
  },
  {
   "cell_type": "code",
   "execution_count": 11,
   "metadata": {
    "ExecuteTime": {
     "end_time": "2020-12-15T15:36:25.710156Z",
     "start_time": "2020-12-15T15:36:13.611257Z"
    }
   },
   "outputs": [
    {
     "name": "stdout",
     "output_type": "stream",
     "text": [
      "Day_of_Week\n"
     ]
    },
    {
     "data": {
      "image/png": "[encoded data removed]",
      "text/plain": [
       "<Figure size 576x360 with 1 Axes>"
      ]
     },
     "metadata": {
      "needs_background": "light"
     },
     "output_type": "display_data"
    },
    {
     "name": "stdout",
     "output_type": "stream",
     "text": [
      "\n",
      "Precipitation\n"
     ]
    },
    {
     "data": {
      "image/png": "[encoded data removed]",
      "text/plain": [
       "<Figure size 576x360 with 1 Axes>"
      ]
     },
     "metadata": {
      "needs_background": "light"
     },
     "output_type": "display_data"
    },
    {
     "name": "stdout",
     "output_type": "stream",
     "text": [
      "\n",
      "High_Winds\n"
     ]
    },
    {
     "data": {
      "image/png": "[encoded data removed]",
      "text/plain": [
       "<Figure size 576x360 with 1 Axes>"
      ]
     },
     "metadata": {
      "needs_background": "light"
     },
     "output_type": "display_data"
    },
    {
     "name": "stdout",
     "output_type": "stream",
     "text": [
      "\n",
      "Road_Surface_Conditions\n"
     ]
    },
    {
     "data": {
      "image/png": "[encoded data removed]",
      "text/plain": [
       "<Figure size 576x360 with 1 Axes>"
      ]
     },
     "metadata": {
      "needs_background": "light"
     },
     "output_type": "display_data"
    },
    {
     "name": "stdout",
     "output_type": "stream",
     "text": [
      "\n",
      "Light_Conditions\n"
     ]
    },
    {
     "data": {
      "image/png": "[encoded data removed]",
      "text/plain": [
       "<Figure size 576x360 with 1 Axes>"
      ]
     },
     "metadata": {
      "needs_background": "light"
     },
     "output_type": "display_data"
    },
    {
     "name": "stdout",
     "output_type": "stream",
     "text": [
      "\n",
      "Urban_or_Rural_Area\n"
     ]
    },
    {
     "data": {
      "image/png": "[encoded data removed]",
      "text/plain": [
       "<Figure size 576x360 with 1 Axes>"
      ]
     },
     "metadata": {
      "needs_background": "light"
     },
     "output_type": "display_data"
    },
    {
     "name": "stdout",
     "output_type": "stream",
     "text": [
      "\n",
      "hour\n"
     ]
    },
    {
     "data": {
      "image/png": "[encoded data removed]",
      "text/plain": [
       "<Figure size 576x360 with 1 Axes>"
      ]
     },
     "metadata": {
      "needs_background": "light"
     },
     "output_type": "display_data"
    },
    {
     "name": "stdout",
     "output_type": "stream",
     "text": [
      "\n",
      "dayofweek\n"
     ]
    },
    {
     "data": {
      "image/png": "[encoded data removed]",
      "text/plain": [
       "<Figure size 576x360 with 1 Axes>"
      ]
     },
     "metadata": {
      "needs_background": "light"
     },
     "output_type": "display_data"
    },
    {
     "name": "stdout",
     "output_type": "stream",
     "text": [
      "\n",
      "quarter\n"
     ]
    },
    {
     "data": {
      "image/png": "[encoded data removed]",
      "text/plain": [
       "<Figure size 576x360 with 1 Axes>"
      ]
     },
     "metadata": {
      "needs_background": "light"
     },
     "output_type": "display_data"
    },
    {
     "name": "stdout",
     "output_type": "stream",
     "text": [
      "\n",
      "month\n"
     ]
    },
    {
     "data": {
      "image/png": "[encoded data removed]",
      "text/plain": [
       "<Figure size 576x360 with 1 Axes>"
      ]
     },
     "metadata": {
      "needs_background": "light"
     },
     "output_type": "display_data"
    },
    {
     "name": "stdout",
     "output_type": "stream",
     "text": [
      "\n",
      "dayofyear\n"
     ]
    },
    {
     "data": {
      "image/png": "[encoded data removed]",
      "text/plain": [
       "<Figure size 576x360 with 1 Axes>"
      ]
     },
     "metadata": {
      "needs_background": "light"
     },
     "output_type": "display_data"
    },
    {
     "name": "stdout",
     "output_type": "stream",
     "text": [
      "\n",
      "dayofmonth\n"
     ]
    },
    {
     "data": {
      "image/png": "[encoded data removed]",
      "text/plain": [
       "<Figure size 576x360 with 1 Axes>"
      ]
     },
     "metadata": {
      "needs_background": "light"
     },
     "output_type": "display_data"
    },
    {
     "name": "stdout",
     "output_type": "stream",
     "text": [
      "\n",
      "weekofyear\n"
     ]
    },
    {
     "data": {
      "image/png": "[encoded data removed]",
      "text/plain": [
       "<Figure size 576x360 with 1 Axes>"
      ]
     },
     "metadata": {
      "needs_background": "light"
     },
     "output_type": "display_data"
    },
    {
     "name": "stdout",
     "output_type": "stream",
     "text": [
      "\n"
     ]
    }
   ],
   "source": [
    "for i in df.columns[2:]:\n",
    "    print(i)\n",
    "    plt.figure(figsize=(8, 5))\n",
    "    ax = df[i].value_counts().plot(kind=\"barh\")\n",
    "    ax.invert_yaxis()\n",
    "    plt.show()\n",
    "    print()"
   ]
  },
  {
   "cell_type": "markdown",
   "metadata": {},
   "source": [
    "bank holidays\n",
    "school rush\n",
    "school breaks\n",
    "storms\n",
    "brz"
   ]
  },
  {
   "cell_type": "code",
   "execution_count": 12,
   "metadata": {
    "ExecuteTime": {
     "end_time": "2020-12-15T15:36:52.848240Z",
     "start_time": "2020-12-15T15:36:52.787488Z"
    }
   },
   "outputs": [
    {
     "data": {
      "text/html": [
       "<div>\n",
       "<style scoped>\n",
       "    .dataframe tbody tr th:only-of-type {\n",
       "        vertical-align: middle;\n",
       "    }\n",
       "\n",
       "    .dataframe tbody tr th {\n",
       "        vertical-align: top;\n",
       "    }\n",
       "\n",
       "    .dataframe thead th {\n",
       "        text-align: right;\n",
       "    }\n",
       "</style>\n",
       "<table border=\"1\" class=\"dataframe\">\n",
       "  <thead>\n",
       "    <tr style=\"text-align: right;\">\n",
       "      <th></th>\n",
       "      <th>Urban_or_Rural_Area</th>\n",
       "      <th>Day_of_Week</th>\n",
       "      <th>count</th>\n",
       "      <th>sum</th>\n",
       "    </tr>\n",
       "  </thead>\n",
       "  <tbody>\n",
       "    <tr>\n",
       "      <th>7</th>\n",
       "      <td>Urban</td>\n",
       "      <td>Friday</td>\n",
       "      <td>1014</td>\n",
       "      <td>18352</td>\n",
       "    </tr>\n",
       "    <tr>\n",
       "      <th>11</th>\n",
       "      <td>Urban</td>\n",
       "      <td>Thursday</td>\n",
       "      <td>1007</td>\n",
       "      <td>17274</td>\n",
       "    </tr>\n",
       "    <tr>\n",
       "      <th>9</th>\n",
       "      <td>Urban</td>\n",
       "      <td>Saturday</td>\n",
       "      <td>1005</td>\n",
       "      <td>14037</td>\n",
       "    </tr>\n",
       "    <tr>\n",
       "      <th>13</th>\n",
       "      <td>Urban</td>\n",
       "      <td>Wednesday</td>\n",
       "      <td>983</td>\n",
       "      <td>16780</td>\n",
       "    </tr>\n",
       "    <tr>\n",
       "      <th>12</th>\n",
       "      <td>Urban</td>\n",
       "      <td>Tuesday</td>\n",
       "      <td>972</td>\n",
       "      <td>16606</td>\n",
       "    </tr>\n",
       "    <tr>\n",
       "      <th>8</th>\n",
       "      <td>Urban</td>\n",
       "      <td>Monday</td>\n",
       "      <td>967</td>\n",
       "      <td>15677</td>\n",
       "    </tr>\n",
       "    <tr>\n",
       "      <th>10</th>\n",
       "      <td>Urban</td>\n",
       "      <td>Sunday</td>\n",
       "      <td>928</td>\n",
       "      <td>10730</td>\n",
       "    </tr>\n",
       "    <tr>\n",
       "      <th>3</th>\n",
       "      <td>Rural</td>\n",
       "      <td>Sunday</td>\n",
       "      <td>316</td>\n",
       "      <td>3068</td>\n",
       "    </tr>\n",
       "    <tr>\n",
       "      <th>1</th>\n",
       "      <td>Rural</td>\n",
       "      <td>Monday</td>\n",
       "      <td>267</td>\n",
       "      <td>2061</td>\n",
       "    </tr>\n",
       "    <tr>\n",
       "      <th>2</th>\n",
       "      <td>Rural</td>\n",
       "      <td>Saturday</td>\n",
       "      <td>238</td>\n",
       "      <td>2032</td>\n",
       "    </tr>\n",
       "    <tr>\n",
       "      <th>6</th>\n",
       "      <td>Rural</td>\n",
       "      <td>Wednesday</td>\n",
       "      <td>223</td>\n",
       "      <td>1616</td>\n",
       "    </tr>\n",
       "    <tr>\n",
       "      <th>5</th>\n",
       "      <td>Rural</td>\n",
       "      <td>Tuesday</td>\n",
       "      <td>220</td>\n",
       "      <td>1342</td>\n",
       "    </tr>\n",
       "    <tr>\n",
       "      <th>0</th>\n",
       "      <td>Rural</td>\n",
       "      <td>Friday</td>\n",
       "      <td>203</td>\n",
       "      <td>1665</td>\n",
       "    </tr>\n",
       "    <tr>\n",
       "      <th>4</th>\n",
       "      <td>Rural</td>\n",
       "      <td>Thursday</td>\n",
       "      <td>197</td>\n",
       "      <td>1382</td>\n",
       "    </tr>\n",
       "  </tbody>\n",
       "</table>\n",
       "</div>"
      ],
      "text/plain": [
       "   Urban_or_Rural_Area Day_of_Week  count    sum\n",
       "7                Urban      Friday   1014  18352\n",
       "11               Urban    Thursday   1007  17274\n",
       "9                Urban    Saturday   1005  14037\n",
       "13               Urban   Wednesday    983  16780\n",
       "12               Urban     Tuesday    972  16606\n",
       "8                Urban      Monday    967  15677\n",
       "10               Urban      Sunday    928  10730\n",
       "3                Rural      Sunday    316   3068\n",
       "1                Rural      Monday    267   2061\n",
       "2                Rural    Saturday    238   2032\n",
       "6                Rural   Wednesday    223   1616\n",
       "5                Rural     Tuesday    220   1342\n",
       "0                Rural      Friday    203   1665\n",
       "4                Rural    Thursday    197   1382"
      ]
     },
     "execution_count": 12,
     "metadata": {},
     "output_type": "execute_result"
    }
   ],
   "source": [
    "df.pivot_table(index=(['Urban_or_Rural_Area','Day_of_Week'])\n",
    "               , values='Count'\n",
    "               , aggfunc=(\"count\",\"sum\")\n",
    "              ).reset_index().sort_values('count', ascending=False)"
   ]
  },
  {
   "cell_type": "code",
   "execution_count": 14,
   "metadata": {
    "ExecuteTime": {
     "end_time": "2020-12-15T15:37:10.066896Z",
     "start_time": "2020-12-15T15:37:09.705061Z"
    }
   },
   "outputs": [
    {
     "name": "stdout",
     "output_type": "stream",
     "text": [
      "Precipitation\n",
      "1\n",
      "51\n",
      "\n",
      "Road_Surface_Conditions\n",
      "11\n",
      "0\n",
      "\n",
      "Missing: 63\n"
     ]
    },
    {
     "name": "stderr",
     "output_type": "stream",
     "text": [
      "/Users/Edite/opt/anaconda3/lib/python3.7/site-packages/pandas/core/ops/array_ops.py:253: FutureWarning: elementwise comparison failed; returning scalar instead, but in the future will perform elementwise comparison\n",
      "  res_values = method(rvalues)\n"
     ]
    }
   ],
   "source": [
    "counter = 0\n",
    "for column in df.columns:\n",
    "    if len(df[df[column] == \"Data missing or out of range\"])+ len(df[df[column] == \"Other\"]) > 0:\n",
    "        print(column)\n",
    "        print(len(df[df[column] == \"Data missing or out of range\"]))\n",
    "        counter += (len(df[df[column] == \"Data missing or out of range\"]))\n",
    "        print(len(df[df[column] == \"Other\"]))\n",
    "        counter += (len(df[df[column] == \"Other\"]))\n",
    "        print()\n",
    "        \n",
    "print(f\"Missing: {counter}\")"
   ]
  }
 ],
 "metadata": {
  "kernelspec": {
   "display_name": "Python 3",
   "language": "python",
   "name": "python3"
  },
  "language_info": {
   "codemirror_mode": {
    "name": "ipython",
    "version": 3
   },
   "file_extension": ".py",
   "mimetype": "text/x-python",
   "name": "python",
   "nbconvert_exporter": "python",
   "pygments_lexer": "ipython3",
   "version": "3.7.4"
  },
  "toc": {
   "base_numbering": 1,
   "nav_menu": {},
   "number_sections": true,
   "sideBar": true,
   "skip_h1_title": false,
   "title_cell": "Table of Contents",
   "title_sidebar": "Contents",
   "toc_cell": false,
   "toc_position": {
    "height": "calc(100% - 180px)",
    "left": "10px",
    "top": "150px",
    "width": "304.79998779296875px"
   },
   "toc_section_display": true,
   "toc_window_display": false
  }
 },
 "nbformat": 4,
 "nbformat_minor": 2
}
