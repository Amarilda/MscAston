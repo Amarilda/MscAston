{
 "cells": [
  {
   "cell_type": "markdown",
   "metadata": {},
   "source": [
    "Business objective"
   ]
  },
  {
   "cell_type": "markdown",
   "metadata": {
    "hide_input": true
   },
   "source": [
    "# Read the data"
   ]
  },
  {
   "cell_type": "code",
   "execution_count": 1,
   "metadata": {
    "ExecuteTime": {
     "end_time": "2020-12-20T15:03:11.763253Z",
     "start_time": "2020-12-20T15:02:59.208644Z"
    }
   },
   "outputs": [
    {
     "name": "stderr",
     "output_type": "stream",
     "text": [
      "/Users/Edite/opt/anaconda3/lib/python3.7/site-packages/ipykernel_launcher.py:3: FutureWarning: pandas.util.testing is deprecated. Use the functions in the public API at pandas.testing instead.\n",
      "  This is separate from the ipykernel package so we can avoid doing imports until\n"
     ]
    }
   ],
   "source": [
    "# Import necessary packages\n",
    "import pandas as pd\n",
    "import pandas.util.testing as tm\n",
    "import numpy as np\n",
    "from matplotlib import pyplot as plt\n",
    "%matplotlib inline\n",
    "\n",
    "import time\n",
    "from datetime import datetime\n",
    "from datetime import date\n",
    "\n",
    "from sklearn.metrics import mean_squared_error\n",
    "from sklearn.tree import DecisionTreeRegressor\n",
    "from sklearn.ensemble import RandomForestRegressor\n",
    "\n",
    "from sklearn.model_selection import train_test_split\n",
    "from sklearn.model_selection import TimeSeriesSplit, GridSearchCV\n",
    "\n",
    "import statsmodels.api as sm\n",
    "\n",
    "import warnings\n",
    "warnings.filterwarnings(\"ignore\")"
   ]
  },
  {
   "cell_type": "code",
   "execution_count": 2,
   "metadata": {
    "ExecuteTime": {
     "end_time": "2020-12-20T15:03:11.883985Z",
     "start_time": "2020-12-20T15:03:11.767447Z"
    }
   },
   "outputs": [],
   "source": [
    "# Read the data\n",
    "df= pd.read_csv(\"UK Road Accidents 2018.csv\")"
   ]
  },
  {
   "cell_type": "markdown",
   "metadata": {},
   "source": [
    "### Random sample of data\n",
    "df.sample(n) shows more variation in the data set than df.head(). Data set is usually sorted during ETL process. In this case each observation represents an hour and data is not expected to be changing drastically within that time span."
   ]
  },
  {
   "cell_type": "code",
   "execution_count": 3,
   "metadata": {
    "ExecuteTime": {
     "end_time": "2020-12-20T15:03:11.929726Z",
     "start_time": "2020-12-20T15:03:11.887880Z"
    }
   },
   "outputs": [
    {
     "data": {
      "text/html": [
       "<div>\n",
       "<style scoped>\n",
       "    .dataframe tbody tr th:only-of-type {\n",
       "        vertical-align: middle;\n",
       "    }\n",
       "\n",
       "    .dataframe tbody tr th {\n",
       "        vertical-align: top;\n",
       "    }\n",
       "\n",
       "    .dataframe thead th {\n",
       "        text-align: right;\n",
       "    }\n",
       "</style>\n",
       "<table border=\"1\" class=\"dataframe\">\n",
       "  <thead>\n",
       "    <tr style=\"text-align: right;\">\n",
       "      <th></th>\n",
       "      <th>datetime</th>\n",
       "      <th>Count</th>\n",
       "      <th>Day_of_Week</th>\n",
       "      <th>Precipitation</th>\n",
       "      <th>High_Winds</th>\n",
       "      <th>Road_Surface_Conditions</th>\n",
       "      <th>Light_Conditions</th>\n",
       "      <th>Urban_or_Rural_Area</th>\n",
       "    </tr>\n",
       "  </thead>\n",
       "  <tbody>\n",
       "    <tr>\n",
       "      <th>5450</th>\n",
       "      <td>22/08/2018 07:00</td>\n",
       "      <td>13</td>\n",
       "      <td>Wednesday</td>\n",
       "      <td>Fine</td>\n",
       "      <td>False</td>\n",
       "      <td>Dry</td>\n",
       "      <td>Daylight</td>\n",
       "      <td>Urban</td>\n",
       "    </tr>\n",
       "    <tr>\n",
       "      <th>5859</th>\n",
       "      <td>08/09/2018 23:00</td>\n",
       "      <td>10</td>\n",
       "      <td>Saturday</td>\n",
       "      <td>Raining</td>\n",
       "      <td>False</td>\n",
       "      <td>Wet or damp</td>\n",
       "      <td>Darkness - lights lit</td>\n",
       "      <td>Rural</td>\n",
       "    </tr>\n",
       "    <tr>\n",
       "      <th>2007</th>\n",
       "      <td>28/03/2018 15:00</td>\n",
       "      <td>28</td>\n",
       "      <td>Wednesday</td>\n",
       "      <td>Fine</td>\n",
       "      <td>False</td>\n",
       "      <td>Dry</td>\n",
       "      <td>Daylight</td>\n",
       "      <td>Urban</td>\n",
       "    </tr>\n",
       "    <tr>\n",
       "      <th>5947</th>\n",
       "      <td>12/09/2018 18:00</td>\n",
       "      <td>31</td>\n",
       "      <td>Wednesday</td>\n",
       "      <td>Fine</td>\n",
       "      <td>False</td>\n",
       "      <td>Dry</td>\n",
       "      <td>Daylight</td>\n",
       "      <td>Urban</td>\n",
       "    </tr>\n",
       "    <tr>\n",
       "      <th>7280</th>\n",
       "      <td>08/11/2018 07:00</td>\n",
       "      <td>26</td>\n",
       "      <td>Thursday</td>\n",
       "      <td>Fine</td>\n",
       "      <td>False</td>\n",
       "      <td>Wet or damp</td>\n",
       "      <td>Daylight</td>\n",
       "      <td>Urban</td>\n",
       "    </tr>\n",
       "  </tbody>\n",
       "</table>\n",
       "</div>"
      ],
      "text/plain": [
       "              datetime  Count Day_of_Week Precipitation  High_Winds  \\\n",
       "5450  22/08/2018 07:00     13   Wednesday          Fine       False   \n",
       "5859  08/09/2018 23:00     10    Saturday       Raining       False   \n",
       "2007  28/03/2018 15:00     28   Wednesday          Fine       False   \n",
       "5947  12/09/2018 18:00     31   Wednesday          Fine       False   \n",
       "7280  08/11/2018 07:00     26    Thursday          Fine       False   \n",
       "\n",
       "     Road_Surface_Conditions       Light_Conditions Urban_or_Rural_Area  \n",
       "5450                     Dry               Daylight               Urban  \n",
       "5859             Wet or damp  Darkness - lights lit               Rural  \n",
       "2007                     Dry               Daylight               Urban  \n",
       "5947                     Dry               Daylight               Urban  \n",
       "7280             Wet or damp               Daylight               Urban  "
      ]
     },
     "execution_count": 3,
     "metadata": {},
     "output_type": "execute_result"
    }
   ],
   "source": [
    "df.sample(5)"
   ]
  },
  {
   "cell_type": "markdown",
   "metadata": {},
   "source": [
    "### Check for nulls\n",
    "\n",
    "Non-null count provides the same as \" RangeIndex - df.isna().sum()\"\n",
    "\n",
    "RangeIndex: 8540\n",
    "\n",
    "All Non_Null Counts = 8540\n",
    "\n",
    "**Therefore Nulls are not present in this data set.**"
   ]
  },
  {
   "cell_type": "code",
   "execution_count": 4,
   "metadata": {
    "ExecuteTime": {
     "end_time": "2020-12-20T15:03:11.953564Z",
     "start_time": "2020-12-20T15:03:11.933601Z"
    }
   },
   "outputs": [
    {
     "name": "stdout",
     "output_type": "stream",
     "text": [
      "<class 'pandas.core.frame.DataFrame'>\n",
      "RangeIndex: 8540 entries, 0 to 8539\n",
      "Data columns (total 8 columns):\n",
      " #   Column                   Non-Null Count  Dtype \n",
      "---  ------                   --------------  ----- \n",
      " 0   datetime                 8540 non-null   object\n",
      " 1   Count                    8540 non-null   int64 \n",
      " 2   Day_of_Week              8540 non-null   object\n",
      " 3   Precipitation            8540 non-null   object\n",
      " 4   High_Winds               8540 non-null   bool  \n",
      " 5   Road_Surface_Conditions  8540 non-null   object\n",
      " 6   Light_Conditions         8540 non-null   object\n",
      " 7   Urban_or_Rural_Area      8540 non-null   object\n",
      "dtypes: bool(1), int64(1), object(6)\n",
      "memory usage: 475.5+ KB\n"
     ]
    }
   ],
   "source": [
    "df.info()"
   ]
  },
  {
   "cell_type": "markdown",
   "metadata": {},
   "source": [
    "Drop missing values encoded as \"Data missing or out of range\", \"Other\" and \"Unknown\".\n",
    "Data set is ample and in total 102 observations are dropped. \n",
    "In addition, it will reduce features created in further steps.\n",
    "Size is insignificant when compared to initial size of 8540 observations."
   ]
  },
  {
   "cell_type": "code",
   "execution_count": 5,
   "metadata": {
    "ExecuteTime": {
     "end_time": "2020-12-20T15:03:12.048039Z",
     "start_time": "2020-12-20T15:03:11.959038Z"
    }
   },
   "outputs": [
    {
     "name": "stdout",
     "output_type": "stream",
     "text": [
      "Precipitation\n",
      "\n",
      "Data missing or out of range: 1\n",
      "Other: 51\n",
      "Unknown: 48\n",
      "\n",
      "Road_Surface_Conditions\n",
      "\n",
      "Data missing or out of range: 2\n",
      "Other: 0\n",
      "Unknown: 0\n",
      "\n"
     ]
    }
   ],
   "source": [
    "for column in df.columns:\n",
    "    if len(df[df[column] == \"Data missing or out of range\"])+ len(df[df[column] == \"Other\"])+len(df[df[column] == \"Unknown\"]) > 0:\n",
    "        print(column)\n",
    "        print()\n",
    "        print(f'Data missing or out of range: {len(df[df[column] == \"Data missing or out of range\"])}')\n",
    "        df.drop(df[df[column] == \"Data missing or out of range\"].index, inplace = True) \n",
    "        \n",
    "        print(f'Other: {len(df[df[column] == \"Other\"])}')\n",
    "        df.drop(df[df[column] == \"Other\"].index, inplace = True) \n",
    "        \n",
    "        print(f'Unknown: {len(df[df[column] == \"Unknown\"])}')\n",
    "        df.drop(df[df[column] == \"Unknown\"].index, inplace = True)\n",
    "              \n",
    "        print()"
   ]
  },
  {
   "cell_type": "markdown",
   "metadata": {
    "ExecuteTime": {
     "end_time": "2020-12-16T13:23:30.110673Z",
     "start_time": "2020-12-16T13:23:30.106850Z"
    }
   },
   "source": [
    "# Forecasting time series"
   ]
  },
  {
   "cell_type": "markdown",
   "metadata": {},
   "source": [
    "Select 2 columns for forecasting"
   ]
  },
  {
   "cell_type": "code",
   "execution_count": 6,
   "metadata": {
    "ExecuteTime": {
     "end_time": "2020-12-20T15:03:12.058586Z",
     "start_time": "2020-12-20T15:03:12.051657Z"
    }
   },
   "outputs": [],
   "source": [
    "df2 = df[['datetime', 'Count']]"
   ]
  },
  {
   "cell_type": "markdown",
   "metadata": {
    "ExecuteTime": {
     "end_time": "2020-12-20T12:18:21.379222Z",
     "start_time": "2020-12-20T12:18:21.326174Z"
    }
   },
   "source": [
    "In order to forecast datetime needs to be DatetimeIndex, instead of the feature."
   ]
  },
  {
   "cell_type": "code",
   "execution_count": 7,
   "metadata": {
    "ExecuteTime": {
     "end_time": "2020-12-20T15:03:12.073812Z",
     "start_time": "2020-12-20T15:03:12.067590Z"
    }
   },
   "outputs": [],
   "source": [
    "df2.DatetimeIndex = df2.datetime\n",
    "del df2['datetime']"
   ]
  },
  {
   "cell_type": "markdown",
   "metadata": {},
   "source": [
    "**Data is split into training and testing sets.**\n",
    "\n",
    "\n",
    "`test_size=0.1`\n",
    "\n",
    "Test size is 10% and 90 % of data is allocated to the training set. \n",
    "\n",
    "`random_state=7`\n",
    "\n",
    "To enable reproducibility, random state 7 is applied.  In all future iterations, given the data set stays the same and transformation do not change, data will be split exactly in the same way. \n",
    "\n",
    "`shuffle=False`\n",
    "Time series is an autoregression model. An autoregression model makes an assumption that the observations at previous time steps are useful to predict the value at the next time step. Therefore it is important that testing set is selected after the training set. "
   ]
  },
  {
   "cell_type": "code",
   "execution_count": 8,
   "metadata": {
    "ExecuteTime": {
     "end_time": "2020-12-20T15:03:12.089271Z",
     "start_time": "2020-12-20T15:03:12.079565Z"
    }
   },
   "outputs": [
    {
     "name": "stdout",
     "output_type": "stream",
     "text": [
      "7594 train and 844 test instances\n"
     ]
    }
   ],
   "source": [
    "train_set, test_set = train_test_split(df2, test_size=0.1, random_state=7, shuffle=False)\n",
    "print(f\"{train_set.shape[0]} train and {test_set.shape[0]} test instances\")"
   ]
  },
  {
   "cell_type": "markdown",
   "metadata": {},
   "source": [
    "## Exploratory Data Analysis\n",
    "\n",
    "Let's plot the data."
   ]
  },
  {
   "cell_type": "code",
   "execution_count": 9,
   "metadata": {
    "ExecuteTime": {
     "end_time": "2020-12-20T15:03:12.600904Z",
     "start_time": "2020-12-20T15:03:12.093963Z"
    }
   },
   "outputs": [
    {
     "data": {
      "text/plain": [
       "<AxesSubplot:>"
      ]
     },
     "execution_count": 9,
     "metadata": {},
     "output_type": "execute_result"
    },
    {
     "data": {
      "image/png": "[encoded data removed]",
      "text/plain": [
       "<Figure size 1152x216 with 1 Axes>"
      ]
     },
     "metadata": {
      "needs_background": "light"
     },
     "output_type": "display_data"
    }
   ],
   "source": [
    "train_set[:120].plot(figsize=(16,3))"
   ]
  },
  {
   "cell_type": "markdown",
   "metadata": {},
   "source": [
    "## Data cleaning and transformation\n",
    "\n",
    "Before we can start buinding a model, we need to ensure the data is **stationary**. We will use the Augmented Dickey-Fuller (ADF) test and the KPSS (Kwiatkowski-Phillips-Schmidt-Shin) tests to test the series for stationarity."
   ]
  },
  {
   "cell_type": "markdown",
   "metadata": {
    "ExecuteTime": {
     "end_time": "2020-12-19T17:36:06.999830Z",
     "start_time": "2020-12-19T17:36:06.985813Z"
    }
   },
   "source": [
    "<font size=\"5\">**Augmented Dickey-Fuller**</font>\n",
    "\n",
    "ADF test is used to determine the presence of unit root in the series, and hence helps in understand if the series is stationary or not. \n",
    "\n",
    "Tests whether a time series has a unit root, e.g. has a trend or more generally is autoregressive.\n",
    "\n",
    "**Assumptions**\n",
    "\n",
    "Observations in are temporally ordered.\n",
    "\n",
    "**Interpretation**\n",
    "\n",
    "* H0: a unit root is present (series is non-stationary).\n",
    "* H1: a unit root is not present (series is stationary).\n",
    "\n",
    "\n",
    "\n",
    "<font size=\"5\">**Kwiatkowski-Phillips-Schmidt-Shin**</font> (KPSS) test\n",
    "\n",
    "The null and alternate hypothesis for the KPSS test are opposite that of the ADF test.\n",
    "\n",
    "**Assumptions**\n",
    "\n",
    "Observations in are temporally ordered.\n",
    "\n",
    "**Interpretation**\n",
    "\n",
    "* H0: the time series is not trend-stationary.\n",
    "* H1: the time series is trend-stationary.\n",
    "\n",
    "\n",
    "\n",
    "\n",
    "Missing values are not handled.\n",
    "\n",
    "\n",
    "[statsmodels.org/stationarity_detrending_adf_kpss](https://www.statsmodels.org/stable/examples/notebooks/generated/stationarity_detrending_adf_kpss.html)"
   ]
  },
  {
   "cell_type": "code",
   "execution_count": 10,
   "metadata": {
    "ExecuteTime": {
     "end_time": "2020-12-20T15:03:12.727011Z",
     "start_time": "2020-12-20T15:03:12.605848Z"
    }
   },
   "outputs": [
    {
     "name": "stdout",
     "output_type": "stream",
     "text": [
      "ADF, p-value: 5.622377150770526e-24\n"
     ]
    }
   ],
   "source": [
    "from statsmodels.tsa.stattools import adfuller, kpss\n",
    "\n",
    "adf_pval = adfuller(train_set['Count'], maxlag=10, regression='nc')[1]\n",
    "print(\"ADF, p-value:\", adf_pval)"
   ]
  },
  {
   "cell_type": "code",
   "execution_count": 11,
   "metadata": {
    "ExecuteTime": {
     "end_time": "2020-12-20T15:03:12.744464Z",
     "start_time": "2020-12-20T15:03:12.731281Z"
    }
   },
   "outputs": [
    {
     "name": "stdout",
     "output_type": "stream",
     "text": [
      "KPSS, p-value: 0.01\n"
     ]
    }
   ],
   "source": [
    "kpss_stat, kpss_pval, lags, crit_vals = kpss(train_set['Count'])\n",
    "print(\"KPSS, p-value:\", round(kpss_pval,2))"
   ]
  },
  {
   "cell_type": "markdown",
   "metadata": {
    "ExecuteTime": {
     "end_time": "2020-12-18T18:35:59.424151Z",
     "start_time": "2020-12-18T18:35:59.416226Z"
    }
   },
   "source": [
    "**InterpolationWarning**\n",
    "\n",
    "InterpolationWarning is issued when the test statistic is outside of the range of p-values available in the\n",
    "look-up table. The actual p-value is {direction} than the p-value returned. Not present for ADF.\n",
    "\n",
    "    if p_value == pvals[-1]:\n",
    "        warnings.warn(\n",
    "            warn_msg.format(direction=\"smaller\"), InterpolationWarning\n",
    "        )\n",
    "    elif p_value == pvals[0]:\n",
    "        warnings.warn(\n",
    "            warn_msg.format(direction=\"greater\"), InterpolationWarning\n",
    "        )\n",
    "\n",
    "\n",
    "[Source code](https://www.statsmodels.org/dev/_modules/statsmodels/tsa/stattools.html)\n",
    "\n",
    "\n"
   ]
  },
  {
   "cell_type": "markdown",
   "metadata": {},
   "source": [
    "### Function Trending"
   ]
  },
  {
   "cell_type": "markdown",
   "metadata": {},
   "source": [
    "Function Trending takes as arguments adf_pval and kpss_stat values."
   ]
  },
  {
   "cell_type": "code",
   "execution_count": 12,
   "metadata": {
    "ExecuteTime": {
     "end_time": "2020-12-20T15:03:12.761797Z",
     "start_time": "2020-12-20T15:03:12.749076Z"
    }
   },
   "outputs": [],
   "source": [
    "def Trending(adf_pval, kpss_stat):\n",
    "    if adf_pval>0.05 and kpss_pval < 0.05:\n",
    "        return \"non-Stationary\"\n",
    "    elif adf_pval<0.05 and kpss_pval > 0.05:\n",
    "        return \"Stationary\"\n",
    "    elif adf_pval>0.05 and kpss_pval > 0.05:\n",
    "        return \"3: ADF : non-Stationary, KPSS : Stationary\"\n",
    "    elif adf_pval<0.05 and kpss_pval < 0.05:\n",
    "        return \"ADF : Stationary, KPSS : non-Stationary\""
   ]
  },
  {
   "cell_type": "code",
   "execution_count": 13,
   "metadata": {
    "ExecuteTime": {
     "end_time": "2020-12-20T15:03:12.775267Z",
     "start_time": "2020-12-20T15:03:12.765859Z"
    }
   },
   "outputs": [
    {
     "data": {
      "text/plain": [
       "'ADF : Stationary, KPSS : non-Stationary'"
      ]
     },
     "execution_count": 13,
     "metadata": {},
     "output_type": "execute_result"
    }
   ],
   "source": [
    "Trending(adf_pval,kpss_pval )"
   ]
  },
  {
   "cell_type": "markdown",
   "metadata": {},
   "source": [
    "The series is not stationary in the levels (i.e., in the original form), according to the KPSS test, but it is stationary according to the ADF test. So it would be safer to assume that the series is not stationary. Let us difference it."
   ]
  },
  {
   "cell_type": "code",
   "execution_count": 14,
   "metadata": {
    "ExecuteTime": {
     "end_time": "2020-12-20T15:03:12.955243Z",
     "start_time": "2020-12-20T15:03:12.779497Z"
    }
   },
   "outputs": [
    {
     "data": {
      "text/plain": [
       "'Stationary'"
      ]
     },
     "execution_count": 14,
     "metadata": {},
     "output_type": "execute_result"
    }
   ],
   "source": [
    "train_diff = train_set['Count'].diff().dropna()\n",
    "\n",
    "adf_pval = adfuller(train_diff, maxlag=10, regression=\"nc\")[1]\n",
    "kpss_stat, kpss_pval, lags, crit_vals = kpss(train_diff)\n",
    "Trending(adf_pval, kpss_pval)"
   ]
  },
  {
   "cell_type": "markdown",
   "metadata": {},
   "source": [
    "The series has become stationary after the first differencing, so we'll use a differenced training set for building a model and we'll also difference the test data in order to be able to evaluate the model."
   ]
  },
  {
   "cell_type": "code",
   "execution_count": 15,
   "metadata": {
    "ExecuteTime": {
     "end_time": "2020-12-20T15:03:12.980402Z",
     "start_time": "2020-12-20T15:03:12.964492Z"
    }
   },
   "outputs": [],
   "source": [
    "test_diff = test_set['Count'].diff().dropna()"
   ]
  },
  {
   "cell_type": "markdown",
   "metadata": {},
   "source": [
    "## Build models\n",
    "\n",
    "### Baseline\n",
    "\n",
    "The persistence baseline is generating the previous hours accidents as the prediction for next hour. \n",
    "\n",
    "Baseline rmse is <font size=\"4\" style = \"color:red\">**10.6**</font> accidents per hour.  \n",
    "\n",
    "If baseline would be derived as average accidents per hour in the test data set, average accident per hour is 14.33 and root squared error is 16.24, which is 35% worse of a prediction than assuming last hours figure. "
   ]
  },
  {
   "cell_type": "code",
   "execution_count": 16,
   "metadata": {
    "ExecuteTime": {
     "end_time": "2020-12-20T15:03:13.013738Z",
     "start_time": "2020-12-20T15:03:12.998014Z"
    }
   },
   "outputs": [
    {
     "data": {
      "text/plain": [
       "10.566832886189484"
      ]
     },
     "execution_count": 16,
     "metadata": {},
     "output_type": "execute_result"
    }
   ],
   "source": [
    "baseline_predictions = test_diff.shift()[1:]\n",
    "\n",
    "mse = mean_squared_error(test_diff[1:], baseline_predictions)\n",
    "\n",
    "baseline_rmse = np.sqrt(mse)\n",
    "baseline_rmse"
   ]
  },
  {
   "cell_type": "code",
   "execution_count": 17,
   "metadata": {
    "ExecuteTime": {
     "end_time": "2020-12-20T15:03:13.040560Z",
     "start_time": "2020-12-20T15:03:13.018404Z"
    }
   },
   "outputs": [
    {
     "data": {
      "text/plain": [
       "16.41803112782183"
      ]
     },
     "execution_count": 17,
     "metadata": {},
     "output_type": "execute_result"
    }
   ],
   "source": [
    "a = np.empty(len(test_diff[1:]))\n",
    "a.fill(test_set['Count'].mean())\n",
    "np.sqrt(mean_squared_error(test_diff[1:], a))"
   ]
  },
  {
   "cell_type": "markdown",
   "metadata": {},
   "source": [
    "### Extra transformation steps\n",
    "\n",
    "We need to do some transformation steps required to be able to input the data into the scikit-learn's implementation of the ML algorithms."
   ]
  },
  {
   "cell_type": "code",
   "execution_count": 18,
   "metadata": {
    "ExecuteTime": {
     "end_time": "2020-12-20T15:03:13.056263Z",
     "start_time": "2020-12-20T15:03:13.045163Z"
    }
   },
   "outputs": [],
   "source": [
    "def create_ar_vars(ts, lags=3):\n",
    "    \"\"\"Create autoregressive X variables\n",
    "    \"\"\"\n",
    "    dataX, dataY = [], []\n",
    "    for i in range(len(ts)-lags):\n",
    "        dataX.append(ts[i:i + lags, 0])\n",
    "        dataY.append(ts[i + lags, 0])\n",
    "    return np.array(dataX), np.array(dataY)"
   ]
  },
  {
   "cell_type": "markdown",
   "metadata": {},
   "source": [
    "We first create separate arrays for the predictors and the target, for both the training and test data. We'll use 3 lags to create autoregressive variables."
   ]
  },
  {
   "cell_type": "code",
   "execution_count": 19,
   "metadata": {
    "ExecuteTime": {
     "end_time": "2020-12-20T15:03:13.102826Z",
     "start_time": "2020-12-20T15:03:13.060882Z"
    }
   },
   "outputs": [],
   "source": [
    "Xtrain, ytrain = create_ar_vars(train_diff.values.reshape(-1, 1), lags=3)\n",
    "Xtest, ytest = create_ar_vars(test_diff.values.reshape(-1, 1), lags=3)"
   ]
  },
  {
   "cell_type": "markdown",
   "metadata": {},
   "source": [
    "Both predictor arrays need to be scaled (but the target variable should not be transformed).\n",
    "\n",
    "Standardization of a dataset is a common requirement for many\n",
    "machine learning estimators: they might behave badly if the\n",
    "individual features do not more or less look like standard normally\n",
    "distributed data.\n",
    "\n",
    "For instance many elements used in the objective function of\n",
    "a learning algorithm (such as the RBF kernel of Support Vector\n",
    "Machines or the L1 and L2 regularizers of linear models) assume that\n",
    "all features are centered around 0 and have variance in the same\n",
    "order. If a feature has a variance that is orders of magnitude larger\n",
    "that others, it might dominate the objective function and make the\n",
    "estimator unable to learn from other features correctly as expected."
   ]
  },
  {
   "cell_type": "code",
   "execution_count": 20,
   "metadata": {
    "ExecuteTime": {
     "end_time": "2020-12-20T15:03:13.127670Z",
     "start_time": "2020-12-20T15:03:13.113178Z"
    }
   },
   "outputs": [],
   "source": [
    "from sklearn.preprocessing import StandardScaler\n",
    "\n",
    "scaler = StandardScaler()\n",
    "Xtrain = scaler.fit_transform(Xtrain)\n",
    "Xtest = scaler.transform(Xtest)"
   ]
  },
  {
   "cell_type": "markdown",
   "metadata": {},
   "source": [
    "Then we can use a grid search to find the most optimal hyperparameters settings.\n",
    "\n",
    "### Decision Tree regression"
   ]
  },
  {
   "cell_type": "markdown",
   "metadata": {},
   "source": [
    "`max_depth`\n",
    "\n",
    "The maximum depth of the tree. If None, then nodes are expanded until all leaves are pure or until all leaves contain less than min_samples_split samples. \n",
    "\n",
    "`min_samples_split`\n",
    "\n",
    "The minimum number of samples required to split an internal node\n",
    "\n",
    "`n_splits` \n",
    "\n",
    "Time Series cross-validator, this data set is split 10 times in order to cross validate. Each successive training set is supersets of those that come before them.\n",
    "\n",
    "`GridSearchCV` will iterate over all possible combinations of `max_depth` and `min_samples_split`, and evaluates each combination using cross-validation. The output is the model with the best cross-validation accuracy."
   ]
  },
  {
   "cell_type": "code",
   "execution_count": 21,
   "metadata": {
    "ExecuteTime": {
     "end_time": "2020-12-20T15:03:14.290959Z",
     "start_time": "2020-12-20T15:03:13.140108Z"
    }
   },
   "outputs": [
    {
     "data": {
      "text/plain": [
       "GridSearchCV(cv=TimeSeriesSplit(max_train_size=None, n_splits=10),\n",
       "             error_score=nan,\n",
       "             estimator=DecisionTreeRegressor(ccp_alpha=0.0, criterion='mse',\n",
       "                                             max_depth=None, max_features=None,\n",
       "                                             max_leaf_nodes=None,\n",
       "                                             min_impurity_decrease=0.0,\n",
       "                                             min_impurity_split=None,\n",
       "                                             min_samples_leaf=1,\n",
       "                                             min_samples_split=2,\n",
       "                                             min_weight_fraction_leaf=0.0,\n",
       "                                             presort='deprecated',\n",
       "                                             random_state=7, splitter='best'),\n",
       "             iid='deprecated', n_jobs=None,\n",
       "             param_grid=[{'max_depth': [6, 8, 10, 7],\n",
       "                          'min_samples_split': [6, 8, 10, 11, 9]}],\n",
       "             pre_dispatch='2*n_jobs', refit=True, return_train_score=True,\n",
       "             scoring='neg_mean_squared_error', verbose=0)"
      ]
     },
     "execution_count": 21,
     "metadata": {},
     "output_type": "execute_result"
    }
   ],
   "source": [
    "dtree = DecisionTreeRegressor(random_state=7)\n",
    "param_grid = [\n",
    "    {'max_depth': [6, 8, 10, 7],\n",
    "    'min_samples_split': [6, 8, 10, 11, 9]}\n",
    "]\n",
    "\n",
    "tscv = TimeSeriesSplit(n_splits=10)\n",
    "dtree_grid_search = GridSearchCV(estimator=dtree, cv=tscv,\n",
    "                        param_grid=param_grid,\n",
    "                        scoring='neg_mean_squared_error', \n",
    "                        return_train_score=True)\n",
    "\n",
    "dtree_grid_search.fit(Xtrain, ytrain)"
   ]
  },
  {
   "cell_type": "markdown",
   "metadata": {},
   "source": [
    "Let's print the accuracy scores for every model evaluated during the grid search."
   ]
  },
  {
   "cell_type": "code",
   "execution_count": 22,
   "metadata": {
    "ExecuteTime": {
     "end_time": "2020-12-20T15:03:14.310284Z",
     "start_time": "2020-12-20T15:03:14.300935Z"
    }
   },
   "outputs": [
    {
     "name": "stdout",
     "output_type": "stream",
     "text": [
      "7.225, 6.464, 1.118 {'max_depth': 6, 'min_samples_split': 10}\n",
      "7.229, 6.470, 1.117 {'max_depth': 6, 'min_samples_split': 11}\n",
      "7.233, 6.451, 1.121 {'max_depth': 6, 'min_samples_split': 9}\n",
      "7.242, 6.446, 1.123 {'max_depth': 6, 'min_samples_split': 8}\n",
      "7.255, 6.432, 1.128 {'max_depth': 6, 'min_samples_split': 6}\n",
      "7.273, 6.356, 1.144 {'max_depth': 7, 'min_samples_split': 11}\n",
      "7.282, 6.345, 1.148 {'max_depth': 7, 'min_samples_split': 10}\n",
      "7.293, 6.327, 1.153 {'max_depth': 7, 'min_samples_split': 9}\n",
      "7.312, 6.316, 1.158 {'max_depth': 7, 'min_samples_split': 8}\n",
      "7.342, 6.227, 1.179 {'max_depth': 8, 'min_samples_split': 11}\n",
      "7.343, 6.290, 1.167 {'max_depth': 7, 'min_samples_split': 6}\n",
      "7.364, 6.210, 1.186 {'max_depth': 8, 'min_samples_split': 10}\n",
      "7.377, 6.188, 1.192 {'max_depth': 8, 'min_samples_split': 9}\n",
      "7.395, 6.175, 1.198 {'max_depth': 8, 'min_samples_split': 8}\n",
      "7.427, 6.137, 1.210 {'max_depth': 8, 'min_samples_split': 6}\n",
      "7.502, 5.946, 1.262 {'max_depth': 10, 'min_samples_split': 11}\n",
      "7.516, 5.917, 1.270 {'max_depth': 10, 'min_samples_split': 10}\n",
      "7.548, 5.886, 1.283 {'max_depth': 10, 'min_samples_split': 9}\n",
      "7.614, 5.850, 1.301 {'max_depth': 10, 'min_samples_split': 8}\n",
      "7.674, 5.770, 1.330 {'max_depth': 10, 'min_samples_split': 6}\n"
     ]
    }
   ],
   "source": [
    "val_scores = dtree_grid_search.cv_results_[\"mean_test_score\"]\n",
    "train_scores = dtree_grid_search.cv_results_[\"mean_train_score\"]\n",
    "params = [str(x) for x in dtree_grid_search.cv_results_[\"params\"]]\n",
    "\n",
    "for val_score, train_score, param in sorted(zip(val_scores, train_scores, params), reverse=True):\n",
    "    print(f\"{np.sqrt(-val_score):.3f}, {np.sqrt(-train_score):.3f}, {np.sqrt(-val_score)/np.sqrt(-train_score):.3f}\", param)"
   ]
  },
  {
   "cell_type": "markdown",
   "metadata": {
    "ExecuteTime": {
     "end_time": "2020-12-19T18:54:03.531779Z",
     "start_time": "2020-12-19T18:54:03.524652Z"
    }
   },
   "source": [
    "After fitting initial param_grid\n",
    "\n",
    "`\n",
    "param_grid = [\n",
    "    {'max_depth': [2, 4, 6, 8],\n",
    "    'min_samples_split': [2, 4, 6, 8]}\n",
    "]\n",
    "`\n",
    "\n",
    "the best performing values were 8, therefore 9, 10, 11 is added and 2 & 4 is removed from param_grid.\n",
    "\n",
    "After tuning the hyperparameters, the best performing pair is 'max_depth': 6, 'min_samples_split': 10"
   ]
  },
  {
   "cell_type": "markdown",
   "metadata": {},
   "source": [
    "### Random Forest regression\n",
    "\n",
    "`n_estimators`\n",
    "\n",
    "The number of trees in the forest.\n",
    "\n",
    "`max_depth`\n",
    "\n",
    "The maximum depth of the tree. If None, then nodes are expanded until all leaves are pure or until all leaves contain less than min_samples_split samples. \n",
    "\n",
    "`min_samples_split`\n",
    "\n",
    "The minimum number of samples required to split an internal node\n",
    "\n",
    "`n_splits` \n",
    "\n",
    "Time Series cross-validator, this data set is split 10 times in order to cross validate. Each successive training set is supersets of those that come before them.\n",
    "\n",
    "`GridSearchCV` will iterate over all possible combinations of `n_estimators`, `max_depth` and `min_samples_split`, and evaluates each combination using cross-validation. The output is the model with the best cross-validation accuracy."
   ]
  },
  {
   "cell_type": "code",
   "execution_count": 23,
   "metadata": {
    "ExecuteTime": {
     "end_time": "2020-12-20T15:03:37.966958Z",
     "start_time": "2020-12-20T15:03:14.330619Z"
    }
   },
   "outputs": [
    {
     "data": {
      "text/plain": [
       "GridSearchCV(cv=TimeSeriesSplit(max_train_size=None, n_splits=10),\n",
       "             error_score=nan,\n",
       "             estimator=RandomForestRegressor(bootstrap=True, ccp_alpha=0.0,\n",
       "                                             criterion='mse', max_depth=None,\n",
       "                                             max_features='auto',\n",
       "                                             max_leaf_nodes=None,\n",
       "                                             max_samples=None,\n",
       "                                             min_impurity_decrease=0.0,\n",
       "                                             min_impurity_split=None,\n",
       "                                             min_samples_leaf=1,\n",
       "                                             min_samples_split=2,\n",
       "                                             min_weight_fraction_leaf=0.0,\n",
       "                                             n_estimators=100, n_jobs=None,\n",
       "                                             oob_score=False, random_state=7,\n",
       "                                             verbose=0, warm_start=False),\n",
       "             iid='deprecated', n_jobs=None,\n",
       "             param_grid=[{'max_depth': [8], 'min_samples_split': [8, 10],\n",
       "                          'n_estimators': [20, 30, 40, 50, 60, 55, 35]}],\n",
       "             pre_dispatch='2*n_jobs', refit=True, return_train_score=True,\n",
       "             scoring='neg_mean_squared_error', verbose=0)"
      ]
     },
     "execution_count": 23,
     "metadata": {},
     "output_type": "execute_result"
    }
   ],
   "source": [
    "rf = RandomForestRegressor(random_state=7)\n",
    "param_grid = [\n",
    "    {'n_estimators': [20, 30, 40, 50, 60, 55, 35], \n",
    "     'max_depth': [8],\n",
    "     'min_samples_split': [8, 10]\n",
    "    },\n",
    "]\n",
    "\n",
    "tscv = TimeSeriesSplit(n_splits=10)\n",
    "rf_grid_search = GridSearchCV(estimator=rf, cv=tscv,\n",
    "                        param_grid=param_grid,\n",
    "                        scoring='neg_mean_squared_error', \n",
    "                        return_train_score=True)\n",
    "\n",
    "start = time.time()\n",
    "rf_grid_search.fit(Xtrain, ytrain)"
   ]
  },
  {
   "cell_type": "markdown",
   "metadata": {},
   "source": [
    "Let's print the accuracy scores for every model evaluated during the grid search."
   ]
  },
  {
   "cell_type": "code",
   "execution_count": 24,
   "metadata": {
    "ExecuteTime": {
     "end_time": "2020-12-20T15:03:37.975854Z",
     "start_time": "2020-12-20T15:03:37.969111Z"
    }
   },
   "outputs": [
    {
     "name": "stdout",
     "output_type": "stream",
     "text": [
      "6.896, 6.089, 1.133 {'max_depth': 8, 'min_samples_split': 10, 'n_estimators': 55}\n",
      "6.896, 6.119, 1.127 {'max_depth': 8, 'min_samples_split': 10, 'n_estimators': 20}\n",
      "6.897, 6.088, 1.133 {'max_depth': 8, 'min_samples_split': 10, 'n_estimators': 60}\n",
      "6.898, 6.091, 1.132 {'max_depth': 8, 'min_samples_split': 10, 'n_estimators': 50}\n",
      "6.900, 6.054, 1.140 {'max_depth': 8, 'min_samples_split': 8, 'n_estimators': 55}\n",
      "6.900, 6.052, 1.140 {'max_depth': 8, 'min_samples_split': 8, 'n_estimators': 60}\n",
      "6.901, 6.105, 1.130 {'max_depth': 8, 'min_samples_split': 10, 'n_estimators': 35}\n",
      "6.901, 6.057, 1.139 {'max_depth': 8, 'min_samples_split': 8, 'n_estimators': 50}\n",
      "6.903, 6.098, 1.132 {'max_depth': 8, 'min_samples_split': 10, 'n_estimators': 40}\n",
      "6.905, 6.087, 1.134 {'max_depth': 8, 'min_samples_split': 8, 'n_estimators': 20}\n",
      "6.905, 6.070, 1.137 {'max_depth': 8, 'min_samples_split': 8, 'n_estimators': 35}\n",
      "6.906, 6.104, 1.131 {'max_depth': 8, 'min_samples_split': 10, 'n_estimators': 30}\n",
      "6.907, 6.064, 1.139 {'max_depth': 8, 'min_samples_split': 8, 'n_estimators': 40}\n",
      "6.911, 6.070, 1.139 {'max_depth': 8, 'min_samples_split': 8, 'n_estimators': 30}\n"
     ]
    }
   ],
   "source": [
    "val_scores = rf_grid_search.cv_results_[\"mean_test_score\"]\n",
    "train_scores = rf_grid_search.cv_results_[\"mean_train_score\"]\n",
    "params = [str(x) for x in rf_grid_search.cv_results_[\"params\"]]\n",
    "   \n",
    "for val_score, train_score, param in sorted(zip(val_scores, train_scores, params), reverse=True):\n",
    "    print(f\"{np.sqrt(-val_score):.3f}, {np.sqrt(-train_score):.3f}, {np.sqrt(-val_score)/np.sqrt(-train_score):.3f}\", param)"
   ]
  },
  {
   "cell_type": "markdown",
   "metadata": {},
   "source": [
    "Initial param_grid\n",
    "param_grid = [\n",
    "    {'n_estimators': [2, 4, 6, 8, 10], \n",
    "     'max_depth': [2, 4, 6, 8],\n",
    "     'min_samples_split': [ 2, 4, 6, 8]\n",
    "    },\n",
    "]\n",
    "\n",
    "best performing `'max_depth': 8, 'min_samples_split': 4, 'n_estimators': 10`\n",
    "\n",
    "after tuning `'max_depth': 8, 'min_samples_split': 10, 'n_estimators': 55`"
   ]
  },
  {
   "cell_type": "markdown",
   "metadata": {},
   "source": [
    "The best models with both DT and RF methods do not seem to overfit too much, and their cross-validation RMSEs are quite above the baseline."
   ]
  },
  {
   "cell_type": "markdown",
   "metadata": {},
   "source": [
    "## Evaluate the best DT and RF models on the test data\n",
    "\n",
    "**Decision tree**"
   ]
  },
  {
   "cell_type": "code",
   "execution_count": 25,
   "metadata": {
    "ExecuteTime": {
     "end_time": "2020-12-20T15:03:37.988787Z",
     "start_time": "2020-12-20T15:03:37.978435Z"
    }
   },
   "outputs": [
    {
     "data": {
      "text/plain": [
       "7.334111718843229"
      ]
     },
     "execution_count": 25,
     "metadata": {},
     "output_type": "execute_result"
    }
   ],
   "source": [
    "best_model = dtree_grid_search.best_estimator_\n",
    "\n",
    "yhat = best_model.predict(Xtest)\n",
    "\n",
    "dtree_mse = mean_squared_error(ytest, yhat)\n",
    "dtree_rmse = np.sqrt(dtree_mse)\n",
    "dtree_rmse"
   ]
  },
  {
   "cell_type": "markdown",
   "metadata": {
    "ExecuteTime": {
     "end_time": "2020-12-19T17:26:51.230043Z",
     "start_time": "2020-12-19T17:26:51.215901Z"
    }
   },
   "source": [
    "**Random forrest**"
   ]
  },
  {
   "cell_type": "code",
   "execution_count": 26,
   "metadata": {
    "ExecuteTime": {
     "end_time": "2020-12-20T15:03:38.032694Z",
     "start_time": "2020-12-20T15:03:37.991375Z"
    }
   },
   "outputs": [
    {
     "data": {
      "text/plain": [
       "7.174905073228041"
      ]
     },
     "execution_count": 26,
     "metadata": {},
     "output_type": "execute_result"
    }
   ],
   "source": [
    "best_model = rf_grid_search.best_estimator_\n",
    "\n",
    "yhat = best_model.predict(Xtest)\n",
    "\n",
    "rf_mse = mean_squared_error(ytest, yhat)\n",
    "rf_rmse = np.sqrt(rf_mse)\n",
    "rf_rmse"
   ]
  },
  {
   "cell_type": "markdown",
   "metadata": {},
   "source": [
    "## Forecasting results\n",
    "\n",
    "\n",
    "The best Decision Tree regression model's RMSE is **7.33** (reduced the RMSE rate by <font style= \"color:red\"> **30%** </font>)\n",
    "\n",
    "The RandomForest regression method's RMSE is **7.17** (reduced the RMSE rate by <font style= \"color:red\"> **32%** </font>)"
   ]
  },
  {
   "cell_type": "markdown",
   "metadata": {},
   "source": [
    "# Feature generation for regression"
   ]
  },
  {
   "cell_type": "markdown",
   "metadata": {},
   "source": [
    "Can the error be reduced by generation additional features and using regression instead of time series forecasting. "
   ]
  },
  {
   "cell_type": "markdown",
   "metadata": {},
   "source": [
    "## Distribution plots "
   ]
  },
  {
   "cell_type": "markdown",
   "metadata": {},
   "source": [
    "First three columns are not included. \n",
    "`'datetime', 'Count'` will have long production time while producing little benefit. \n",
    "\n",
    "`'Count'` could be grouped into categories and from regression it would become a classification problem."
   ]
  },
  {
   "cell_type": "code",
   "execution_count": 27,
   "metadata": {
    "ExecuteTime": {
     "end_time": "2020-12-20T15:03:39.686554Z",
     "start_time": "2020-12-20T15:03:38.035180Z"
    }
   },
   "outputs": [
    {
     "data": {
      "image/png": "[encoded data removed]",
      "text/plain": [
       "<Figure size 576x360 with 1 Axes>"
      ]
     },
     "metadata": {
      "needs_background": "light"
     },
     "output_type": "display_data"
    },
    {
     "name": "stdout",
     "output_type": "stream",
     "text": [
      "\n"
     ]
    },
    {
     "data": {
      "image/png": "[encoded data removed]",
      "text/plain": [
       "<Figure size 576x360 with 1 Axes>"
      ]
     },
     "metadata": {
      "needs_background": "light"
     },
     "output_type": "display_data"
    },
    {
     "name": "stdout",
     "output_type": "stream",
     "text": [
      "\n"
     ]
    },
    {
     "data": {
      "image/png": "[encoded data removed]",
      "text/plain": [
       "<Figure size 576x360 with 1 Axes>"
      ]
     },
     "metadata": {
      "needs_background": "light"
     },
     "output_type": "display_data"
    },
    {
     "name": "stdout",
     "output_type": "stream",
     "text": [
      "\n"
     ]
    },
    {
     "data": {
      "image/png": "[encoded data removed]",
      "text/plain": [
       "<Figure size 576x360 with 1 Axes>"
      ]
     },
     "metadata": {
      "needs_background": "light"
     },
     "output_type": "display_data"
    },
    {
     "name": "stdout",
     "output_type": "stream",
     "text": [
      "\n"
     ]
    },
    {
     "data": {
      "image/png": "[encoded data removed]",
      "text/plain": [
       "<Figure size 576x360 with 1 Axes>"
      ]
     },
     "metadata": {
      "needs_background": "light"
     },
     "output_type": "display_data"
    },
    {
     "name": "stdout",
     "output_type": "stream",
     "text": [
      "\n"
     ]
    },
    {
     "data": {
      "image/png": "[encoded data removed]",
      "text/plain": [
       "<Figure size 576x360 with 1 Axes>"
      ]
     },
     "metadata": {
      "needs_background": "light"
     },
     "output_type": "display_data"
    },
    {
     "name": "stdout",
     "output_type": "stream",
     "text": [
      "\n"
     ]
    }
   ],
   "source": [
    "for i in df.columns[2:]:\n",
    "    plt.figure(figsize=(8, 5))\n",
    "    ax = df.groupby(i)['Count'].agg('sum').sort_values(ascending=False).plot(kind=\"barh\")\n",
    "    ax.invert_yaxis()\n",
    "    plt.show()\n",
    "    print()"
   ]
  },
  {
   "cell_type": "markdown",
   "metadata": {},
   "source": [
    "Based on the distribution charts above, when majority accidents happen weather conditions are fine (Precipitation - Fine, road is dry, no High winds).\n",
    "\n",
    "The most accidents happen on `Friday` (20003 accidents in total), Thursday (18640), Wednesday(18371).\n",
    "\n",
    "The least accidents happen on `Sunday` (13760, 2/3 of Fridays accidents)."
   ]
  },
  {
   "cell_type": "markdown",
   "metadata": {},
   "source": [
    "### Function TimeSplit\n",
    "It takes datetime column and derives following new features:\n",
    "* Hour (0-23)\n",
    "* dayofweek (1-7)\n",
    "* quarter (1-4)\n",
    "* month(1-12)\n",
    "* dayofyear (1-365)\n",
    "* dayofmonth(1-31)\n",
    "* weekofyear(1-52)\n",
    "\n",
    "Extracting year does not serve any purpose as data set contains only 2018."
   ]
  },
  {
   "cell_type": "code",
   "execution_count": 28,
   "metadata": {
    "ExecuteTime": {
     "end_time": "2020-12-20T15:03:39.720219Z",
     "start_time": "2020-12-20T15:03:39.701861Z"
    }
   },
   "outputs": [],
   "source": [
    "def TimeSplit(df, label=None):\n",
    "    \"\"\"\n",
    "    Creates time series features from datetime index\n",
    "    \"\"\"\n",
    "    df['datetime'] = pd.to_datetime(df['datetime'], format=\"%d/%m/%Y %H:%M\" , errors='coerce')\n",
    "    df['Hour'] = df['datetime'].dt.hour\n",
    "    #df['Dayofweek'] = df['datetime'].dt.dayofweek+1\n",
    "    df['Quarter'] = df['datetime'].dt.quarter\n",
    "    df['Month'] = df['datetime'].dt.month\n",
    "    #df['year'] = df['Date'].dt.year\n",
    "    #df['dayofyear'] = df['datetime'].dt.dayofyear\n",
    "    df['Dayofmonth'] = df['datetime'].dt.day\n",
    "    df['Weekofyear'] = df['datetime'].dt.weekofyear\n",
    "    \n",
    "    \n",
    "    X = df[['Hour','Quarter','Month','Dayofmonth','Weekofyear'\n",
    "            #,'year','dayofyear','Dayofweek'\n",
    "            ]]\n",
    "    return X"
   ]
  },
  {
   "cell_type": "code",
   "execution_count": 29,
   "metadata": {
    "ExecuteTime": {
     "end_time": "2020-12-20T15:03:39.884824Z",
     "start_time": "2020-12-20T15:03:39.729289Z"
    }
   },
   "outputs": [
    {
     "data": {
      "text/html": [
       "<div>\n",
       "<style scoped>\n",
       "    .dataframe tbody tr th:only-of-type {\n",
       "        vertical-align: middle;\n",
       "    }\n",
       "\n",
       "    .dataframe tbody tr th {\n",
       "        vertical-align: top;\n",
       "    }\n",
       "\n",
       "    .dataframe thead th {\n",
       "        text-align: right;\n",
       "    }\n",
       "</style>\n",
       "<table border=\"1\" class=\"dataframe\">\n",
       "  <thead>\n",
       "    <tr style=\"text-align: right;\">\n",
       "      <th></th>\n",
       "      <th>Hour</th>\n",
       "      <th>Quarter</th>\n",
       "      <th>Month</th>\n",
       "      <th>Dayofmonth</th>\n",
       "      <th>Weekofyear</th>\n",
       "    </tr>\n",
       "  </thead>\n",
       "  <tbody>\n",
       "    <tr>\n",
       "      <th>0</th>\n",
       "      <td>0</td>\n",
       "      <td>1</td>\n",
       "      <td>1</td>\n",
       "      <td>1</td>\n",
       "      <td>1</td>\n",
       "    </tr>\n",
       "    <tr>\n",
       "      <th>1</th>\n",
       "      <td>1</td>\n",
       "      <td>1</td>\n",
       "      <td>1</td>\n",
       "      <td>1</td>\n",
       "      <td>1</td>\n",
       "    </tr>\n",
       "    <tr>\n",
       "      <th>2</th>\n",
       "      <td>2</td>\n",
       "      <td>1</td>\n",
       "      <td>1</td>\n",
       "      <td>1</td>\n",
       "      <td>1</td>\n",
       "    </tr>\n",
       "    <tr>\n",
       "      <th>3</th>\n",
       "      <td>3</td>\n",
       "      <td>1</td>\n",
       "      <td>1</td>\n",
       "      <td>1</td>\n",
       "      <td>1</td>\n",
       "    </tr>\n",
       "    <tr>\n",
       "      <th>4</th>\n",
       "      <td>4</td>\n",
       "      <td>1</td>\n",
       "      <td>1</td>\n",
       "      <td>1</td>\n",
       "      <td>1</td>\n",
       "    </tr>\n",
       "    <tr>\n",
       "      <th>...</th>\n",
       "      <td>...</td>\n",
       "      <td>...</td>\n",
       "      <td>...</td>\n",
       "      <td>...</td>\n",
       "      <td>...</td>\n",
       "    </tr>\n",
       "    <tr>\n",
       "      <th>8535</th>\n",
       "      <td>19</td>\n",
       "      <td>4</td>\n",
       "      <td>12</td>\n",
       "      <td>31</td>\n",
       "      <td>1</td>\n",
       "    </tr>\n",
       "    <tr>\n",
       "      <th>8536</th>\n",
       "      <td>20</td>\n",
       "      <td>4</td>\n",
       "      <td>12</td>\n",
       "      <td>31</td>\n",
       "      <td>1</td>\n",
       "    </tr>\n",
       "    <tr>\n",
       "      <th>8537</th>\n",
       "      <td>21</td>\n",
       "      <td>4</td>\n",
       "      <td>12</td>\n",
       "      <td>31</td>\n",
       "      <td>1</td>\n",
       "    </tr>\n",
       "    <tr>\n",
       "      <th>8538</th>\n",
       "      <td>22</td>\n",
       "      <td>4</td>\n",
       "      <td>12</td>\n",
       "      <td>31</td>\n",
       "      <td>1</td>\n",
       "    </tr>\n",
       "    <tr>\n",
       "      <th>8539</th>\n",
       "      <td>23</td>\n",
       "      <td>4</td>\n",
       "      <td>12</td>\n",
       "      <td>31</td>\n",
       "      <td>1</td>\n",
       "    </tr>\n",
       "  </tbody>\n",
       "</table>\n",
       "<p>8438 rows × 5 columns</p>\n",
       "</div>"
      ],
      "text/plain": [
       "      Hour  Quarter  Month  Dayofmonth  Weekofyear\n",
       "0        0        1      1           1           1\n",
       "1        1        1      1           1           1\n",
       "2        2        1      1           1           1\n",
       "3        3        1      1           1           1\n",
       "4        4        1      1           1           1\n",
       "...    ...      ...    ...         ...         ...\n",
       "8535    19        4     12          31           1\n",
       "8536    20        4     12          31           1\n",
       "8537    21        4     12          31           1\n",
       "8538    22        4     12          31           1\n",
       "8539    23        4     12          31           1\n",
       "\n",
       "[8438 rows x 5 columns]"
      ]
     },
     "execution_count": 29,
     "metadata": {},
     "output_type": "execute_result"
    }
   ],
   "source": [
    "TimeSplit(df)"
   ]
  },
  {
   "cell_type": "markdown",
   "metadata": {},
   "source": [
    "### Function TimeOfDay \n",
    "\n",
    "It takes hour derived with the previous function and splits in 5 categories:\n",
    "* morning rush (5-10)\n",
    "* office hours (10-15)\n",
    "* afternoon rush (15-19)\n",
    "* evening (19-23)\n",
    "* night (23-5)"
   ]
  },
  {
   "cell_type": "code",
   "execution_count": 30,
   "metadata": {
    "ExecuteTime": {
     "end_time": "2020-12-20T15:03:39.912592Z",
     "start_time": "2020-12-20T15:03:39.891545Z"
    }
   },
   "outputs": [],
   "source": [
    "def TimeOfDay(hour):\n",
    "    if hour >= 5 and hour < 10:\n",
    "        return \"Morning rush (5-10)\"\n",
    "    elif hour >= 10 and hour < 15:\n",
    "        return \"Office hours (10-15)\"\n",
    "    elif hour >= 15 and hour < 19:\n",
    "        return \"Afternoon rush (15-19)\"\n",
    "    elif hour >= 19 and hour < 23:\n",
    "        return \"Evening (19-23)\"\n",
    "    else:\n",
    "        return \"Night (23-5)\""
   ]
  },
  {
   "cell_type": "code",
   "execution_count": 31,
   "metadata": {
    "ExecuteTime": {
     "end_time": "2020-12-20T15:03:39.939380Z",
     "start_time": "2020-12-20T15:03:39.920388Z"
    }
   },
   "outputs": [],
   "source": [
    "df['Time_of_Day'] = df['Hour'].apply(TimeOfDay)"
   ]
  },
  {
   "cell_type": "markdown",
   "metadata": {},
   "source": [
    "Package holidays are imported and respective holidays for England in 2018 is appended to dataframe bank_holidays. \n",
    "United_Kingdom contains holidays for Scotland, Wales and Ireland, which are not Bank holidays across all United Kingdom. "
   ]
  },
  {
   "cell_type": "code",
   "execution_count": 32,
   "metadata": {
    "ExecuteTime": {
     "end_time": "2020-12-20T15:03:40.497307Z",
     "start_time": "2020-12-20T15:03:39.947623Z"
    }
   },
   "outputs": [],
   "source": [
    "import holidays \n",
    "uk_holidays = holidays.UnitedKingdom() \n",
    "bank_holidays = []\n",
    "\n",
    "for ptr in holidays.England(years = 2018).items(): \n",
    "    bank_holidays.append(str(ptr[0]))"
   ]
  },
  {
   "cell_type": "markdown",
   "metadata": {},
   "source": [
    "### Function Is_it_weekend \n",
    "Returning 1 if it is Sunday, Saturday or Bank Holiday in England. Assuming that driving pattern would change on those days as there is no commute to school/work for majority."
   ]
  },
  {
   "cell_type": "code",
   "execution_count": 33,
   "metadata": {
    "ExecuteTime": {
     "end_time": "2020-12-20T15:03:40.517691Z",
     "start_time": "2020-12-20T15:03:40.499792Z"
    }
   },
   "outputs": [],
   "source": [
    "def is_it_weekend(x):\n",
    "    m = x.normalize()\n",
    "    if m.dayofweek+1 == 6:\n",
    "        return 1\n",
    "    elif m.dayofweek+1 == 7:\n",
    "        return 1\n",
    "    elif str(m.date()) in bank_holidays:\n",
    "        return 1\n",
    "    else:\n",
    "        return 0"
   ]
  },
  {
   "cell_type": "code",
   "execution_count": 34,
   "metadata": {
    "ExecuteTime": {
     "end_time": "2020-12-20T15:03:40.778512Z",
     "start_time": "2020-12-20T15:03:40.526703Z"
    }
   },
   "outputs": [],
   "source": [
    "df['Is_weekend'] = df.datetime.apply(is_it_weekend)"
   ]
  },
  {
   "cell_type": "code",
   "execution_count": 35,
   "metadata": {
    "ExecuteTime": {
     "end_time": "2020-12-20T15:03:40.805440Z",
     "start_time": "2020-12-20T15:03:40.781003Z"
    }
   },
   "outputs": [],
   "source": [
    "#Function to change True/False to 1/0\n",
    "\n",
    "def Liking(x):\n",
    "    if str.lower(str(x)) == \"true\":\n",
    "        return 1\n",
    "    else:\n",
    "        return 0 "
   ]
  },
  {
   "cell_type": "markdown",
   "metadata": {
    "ExecuteTime": {
     "end_time": "2020-12-20T13:48:08.304679Z",
     "start_time": "2020-12-20T13:48:08.147204Z"
    }
   },
   "source": [
    "`High_Winds` is transformed from True and False to 1/0."
   ]
  },
  {
   "cell_type": "code",
   "execution_count": 36,
   "metadata": {
    "ExecuteTime": {
     "end_time": "2020-12-20T15:03:40.873403Z",
     "start_time": "2020-12-20T15:03:40.821497Z"
    }
   },
   "outputs": [],
   "source": [
    "df.High_Winds = df.High_Winds.apply(Liking)"
   ]
  },
  {
   "cell_type": "markdown",
   "metadata": {},
   "source": [
    "Create a new feature \"Urban\" based on Urban_or_Rural_Area. Returns 1 if Urban and 0 if Rural. \n",
    "Deletes column Urban_or_Rural_Area.\n",
    "This is done so column name does not become extremely long and confusing. One hot encoding would create column named \"Urban_or_Rural_Area_Urban\". \n",
    "In case of using SHAP to explain machine learning model, approximately one third of variable name would be displayed, which in result would not aid in explaining black box of machine learning. "
   ]
  },
  {
   "cell_type": "code",
   "execution_count": 37,
   "metadata": {
    "ExecuteTime": {
     "end_time": "2020-12-20T15:03:40.907623Z",
     "start_time": "2020-12-20T15:03:40.876213Z"
    }
   },
   "outputs": [],
   "source": [
    "df['Urban']= np.where(df['Urban_or_Rural_Area'] == \"Urban\" , 1, 0)\n",
    "del df['Urban_or_Rural_Area']"
   ]
  },
  {
   "cell_type": "code",
   "execution_count": 38,
   "metadata": {
    "ExecuteTime": {
     "end_time": "2020-12-20T15:03:41.015130Z",
     "start_time": "2020-12-20T15:03:40.916682Z"
    }
   },
   "outputs": [
    {
     "data": {
      "text/html": [
       "<div>\n",
       "<style scoped>\n",
       "    .dataframe tbody tr th:only-of-type {\n",
       "        vertical-align: middle;\n",
       "    }\n",
       "\n",
       "    .dataframe tbody tr th {\n",
       "        vertical-align: top;\n",
       "    }\n",
       "\n",
       "    .dataframe thead th {\n",
       "        text-align: right;\n",
       "    }\n",
       "</style>\n",
       "<table border=\"1\" class=\"dataframe\">\n",
       "  <thead>\n",
       "    <tr style=\"text-align: right;\">\n",
       "      <th></th>\n",
       "      <th>Count</th>\n",
       "      <th>High_Winds</th>\n",
       "      <th>Hour</th>\n",
       "      <th>Quarter</th>\n",
       "      <th>Month</th>\n",
       "      <th>Dayofmonth</th>\n",
       "      <th>Weekofyear</th>\n",
       "      <th>Is_weekend</th>\n",
       "      <th>Urban</th>\n",
       "    </tr>\n",
       "  </thead>\n",
       "  <tbody>\n",
       "    <tr>\n",
       "      <th>count</th>\n",
       "      <td>8438.000000</td>\n",
       "      <td>8438.000000</td>\n",
       "      <td>8438.000000</td>\n",
       "      <td>8438.000000</td>\n",
       "      <td>8438.000000</td>\n",
       "      <td>8438.000000</td>\n",
       "      <td>8438.000000</td>\n",
       "      <td>8438.000000</td>\n",
       "      <td>8438.000000</td>\n",
       "    </tr>\n",
       "    <tr>\n",
       "      <th>mean</th>\n",
       "      <td>14.505689</td>\n",
       "      <td>0.008177</td>\n",
       "      <td>11.795094</td>\n",
       "      <td>2.518369</td>\n",
       "      <td>6.547997</td>\n",
       "      <td>15.738327</td>\n",
       "      <td>26.536857</td>\n",
       "      <td>0.313344</td>\n",
       "      <td>0.807300</td>\n",
       "    </tr>\n",
       "    <tr>\n",
       "      <th>std</th>\n",
       "      <td>10.455079</td>\n",
       "      <td>0.090063</td>\n",
       "      <td>6.833816</td>\n",
       "      <td>1.113807</td>\n",
       "      <td>3.437139</td>\n",
       "      <td>8.801340</td>\n",
       "      <td>15.000976</td>\n",
       "      <td>0.463881</td>\n",
       "      <td>0.394443</td>\n",
       "    </tr>\n",
       "    <tr>\n",
       "      <th>min</th>\n",
       "      <td>1.000000</td>\n",
       "      <td>0.000000</td>\n",
       "      <td>0.000000</td>\n",
       "      <td>1.000000</td>\n",
       "      <td>1.000000</td>\n",
       "      <td>1.000000</td>\n",
       "      <td>1.000000</td>\n",
       "      <td>0.000000</td>\n",
       "      <td>0.000000</td>\n",
       "    </tr>\n",
       "    <tr>\n",
       "      <th>25%</th>\n",
       "      <td>6.000000</td>\n",
       "      <td>0.000000</td>\n",
       "      <td>6.000000</td>\n",
       "      <td>2.000000</td>\n",
       "      <td>4.000000</td>\n",
       "      <td>8.000000</td>\n",
       "      <td>14.000000</td>\n",
       "      <td>0.000000</td>\n",
       "      <td>1.000000</td>\n",
       "    </tr>\n",
       "    <tr>\n",
       "      <th>50%</th>\n",
       "      <td>13.000000</td>\n",
       "      <td>0.000000</td>\n",
       "      <td>12.000000</td>\n",
       "      <td>3.000000</td>\n",
       "      <td>7.000000</td>\n",
       "      <td>16.000000</td>\n",
       "      <td>27.000000</td>\n",
       "      <td>0.000000</td>\n",
       "      <td>1.000000</td>\n",
       "    </tr>\n",
       "    <tr>\n",
       "      <th>75%</th>\n",
       "      <td>21.000000</td>\n",
       "      <td>0.000000</td>\n",
       "      <td>18.000000</td>\n",
       "      <td>4.000000</td>\n",
       "      <td>10.000000</td>\n",
       "      <td>23.000000</td>\n",
       "      <td>40.000000</td>\n",
       "      <td>1.000000</td>\n",
       "      <td>1.000000</td>\n",
       "    </tr>\n",
       "    <tr>\n",
       "      <th>max</th>\n",
       "      <td>62.000000</td>\n",
       "      <td>1.000000</td>\n",
       "      <td>23.000000</td>\n",
       "      <td>4.000000</td>\n",
       "      <td>12.000000</td>\n",
       "      <td>31.000000</td>\n",
       "      <td>52.000000</td>\n",
       "      <td>1.000000</td>\n",
       "      <td>1.000000</td>\n",
       "    </tr>\n",
       "  </tbody>\n",
       "</table>\n",
       "</div>"
      ],
      "text/plain": [
       "             Count   High_Winds         Hour      Quarter        Month  \\\n",
       "count  8438.000000  8438.000000  8438.000000  8438.000000  8438.000000   \n",
       "mean     14.505689     0.008177    11.795094     2.518369     6.547997   \n",
       "std      10.455079     0.090063     6.833816     1.113807     3.437139   \n",
       "min       1.000000     0.000000     0.000000     1.000000     1.000000   \n",
       "25%       6.000000     0.000000     6.000000     2.000000     4.000000   \n",
       "50%      13.000000     0.000000    12.000000     3.000000     7.000000   \n",
       "75%      21.000000     0.000000    18.000000     4.000000    10.000000   \n",
       "max      62.000000     1.000000    23.000000     4.000000    12.000000   \n",
       "\n",
       "        Dayofmonth   Weekofyear   Is_weekend        Urban  \n",
       "count  8438.000000  8438.000000  8438.000000  8438.000000  \n",
       "mean     15.738327    26.536857     0.313344     0.807300  \n",
       "std       8.801340    15.000976     0.463881     0.394443  \n",
       "min       1.000000     1.000000     0.000000     0.000000  \n",
       "25%       8.000000    14.000000     0.000000     1.000000  \n",
       "50%      16.000000    27.000000     0.000000     1.000000  \n",
       "75%      23.000000    40.000000     1.000000     1.000000  \n",
       "max      31.000000    52.000000     1.000000     1.000000  "
      ]
     },
     "execution_count": 38,
     "metadata": {},
     "output_type": "execute_result"
    }
   ],
   "source": [
    "df.describe()"
   ]
  },
  {
   "cell_type": "code",
   "execution_count": 39,
   "metadata": {
    "ExecuteTime": {
     "end_time": "2020-12-20T15:03:41.639563Z",
     "start_time": "2020-12-20T15:03:41.020843Z"
    }
   },
   "outputs": [
    {
     "data": {
      "image/png": "[encoded data removed]",
      "text/plain": [
       "<Figure size 576x360 with 1 Axes>"
      ]
     },
     "metadata": {
      "needs_background": "light"
     },
     "output_type": "display_data"
    },
    {
     "name": "stdout",
     "output_type": "stream",
     "text": [
      "\n"
     ]
    },
    {
     "data": {
      "image/png": "[encoded data removed]",
      "text/plain": [
       "<Figure size 576x360 with 1 Axes>"
      ]
     },
     "metadata": {
      "needs_background": "light"
     },
     "output_type": "display_data"
    },
    {
     "name": "stdout",
     "output_type": "stream",
     "text": [
      "\n"
     ]
    }
   ],
   "source": [
    "for i in df[['Time_of_Day', 'Is_weekend']]:\n",
    "    plt.figure(figsize=(8, 5))\n",
    "    ax = df.groupby(i)['Count'].agg('sum').sort_values(ascending=False).plot(kind=\"barh\")\n",
    "    ax.invert_yaxis()\n",
    "    plt.show()\n",
    "    print()"
   ]
  },
  {
   "cell_type": "markdown",
   "metadata": {},
   "source": [
    "## Create  dummies "
   ]
  },
  {
   "cell_type": "code",
   "execution_count": 40,
   "metadata": {
    "ExecuteTime": {
     "end_time": "2020-12-20T15:03:41.716857Z",
     "start_time": "2020-12-20T15:03:41.654650Z"
    }
   },
   "outputs": [],
   "source": [
    "df2 = pd.get_dummies(df, drop_first=True)"
   ]
  },
  {
   "cell_type": "code",
   "execution_count": 41,
   "metadata": {
    "ExecuteTime": {
     "end_time": "2020-12-20T15:03:41.777228Z",
     "start_time": "2020-12-20T15:03:41.730858Z"
    }
   },
   "outputs": [
    {
     "data": {
      "text/html": [
       "<div>\n",
       "<style scoped>\n",
       "    .dataframe tbody tr th:only-of-type {\n",
       "        vertical-align: middle;\n",
       "    }\n",
       "\n",
       "    .dataframe tbody tr th {\n",
       "        vertical-align: top;\n",
       "    }\n",
       "\n",
       "    .dataframe thead th {\n",
       "        text-align: right;\n",
       "    }\n",
       "</style>\n",
       "<table border=\"1\" class=\"dataframe\">\n",
       "  <thead>\n",
       "    <tr style=\"text-align: right;\">\n",
       "      <th></th>\n",
       "      <th>4750</th>\n",
       "      <th>7753</th>\n",
       "      <th>5653</th>\n",
       "      <th>3722</th>\n",
       "      <th>7517</th>\n",
       "    </tr>\n",
       "  </thead>\n",
       "  <tbody>\n",
       "    <tr>\n",
       "      <th>datetime</th>\n",
       "      <td>2018-07-23 15:00:00</td>\n",
       "      <td>2018-11-28 11:00:00</td>\n",
       "      <td>2018-08-30 23:00:00</td>\n",
       "      <td>2018-06-09 20:00:00</td>\n",
       "      <td>2018-11-18 11:00:00</td>\n",
       "    </tr>\n",
       "    <tr>\n",
       "      <th>Count</th>\n",
       "      <td>25</td>\n",
       "      <td>9</td>\n",
       "      <td>5</td>\n",
       "      <td>15</td>\n",
       "      <td>13</td>\n",
       "    </tr>\n",
       "    <tr>\n",
       "      <th>High_Winds</th>\n",
       "      <td>0</td>\n",
       "      <td>0</td>\n",
       "      <td>0</td>\n",
       "      <td>0</td>\n",
       "      <td>0</td>\n",
       "    </tr>\n",
       "    <tr>\n",
       "      <th>Hour</th>\n",
       "      <td>15</td>\n",
       "      <td>11</td>\n",
       "      <td>23</td>\n",
       "      <td>20</td>\n",
       "      <td>11</td>\n",
       "    </tr>\n",
       "    <tr>\n",
       "      <th>Quarter</th>\n",
       "      <td>3</td>\n",
       "      <td>4</td>\n",
       "      <td>3</td>\n",
       "      <td>2</td>\n",
       "      <td>4</td>\n",
       "    </tr>\n",
       "    <tr>\n",
       "      <th>Month</th>\n",
       "      <td>7</td>\n",
       "      <td>11</td>\n",
       "      <td>8</td>\n",
       "      <td>6</td>\n",
       "      <td>11</td>\n",
       "    </tr>\n",
       "    <tr>\n",
       "      <th>Dayofmonth</th>\n",
       "      <td>23</td>\n",
       "      <td>28</td>\n",
       "      <td>30</td>\n",
       "      <td>9</td>\n",
       "      <td>18</td>\n",
       "    </tr>\n",
       "    <tr>\n",
       "      <th>Weekofyear</th>\n",
       "      <td>30</td>\n",
       "      <td>48</td>\n",
       "      <td>35</td>\n",
       "      <td>23</td>\n",
       "      <td>46</td>\n",
       "    </tr>\n",
       "    <tr>\n",
       "      <th>Is_weekend</th>\n",
       "      <td>0</td>\n",
       "      <td>0</td>\n",
       "      <td>0</td>\n",
       "      <td>1</td>\n",
       "      <td>1</td>\n",
       "    </tr>\n",
       "    <tr>\n",
       "      <th>Urban</th>\n",
       "      <td>1</td>\n",
       "      <td>1</td>\n",
       "      <td>1</td>\n",
       "      <td>1</td>\n",
       "      <td>1</td>\n",
       "    </tr>\n",
       "    <tr>\n",
       "      <th>Day_of_Week_Monday</th>\n",
       "      <td>1</td>\n",
       "      <td>0</td>\n",
       "      <td>0</td>\n",
       "      <td>0</td>\n",
       "      <td>0</td>\n",
       "    </tr>\n",
       "    <tr>\n",
       "      <th>Day_of_Week_Saturday</th>\n",
       "      <td>0</td>\n",
       "      <td>0</td>\n",
       "      <td>0</td>\n",
       "      <td>1</td>\n",
       "      <td>0</td>\n",
       "    </tr>\n",
       "    <tr>\n",
       "      <th>Day_of_Week_Sunday</th>\n",
       "      <td>0</td>\n",
       "      <td>0</td>\n",
       "      <td>0</td>\n",
       "      <td>0</td>\n",
       "      <td>1</td>\n",
       "    </tr>\n",
       "    <tr>\n",
       "      <th>Day_of_Week_Thursday</th>\n",
       "      <td>0</td>\n",
       "      <td>0</td>\n",
       "      <td>1</td>\n",
       "      <td>0</td>\n",
       "      <td>0</td>\n",
       "    </tr>\n",
       "    <tr>\n",
       "      <th>Day_of_Week_Tuesday</th>\n",
       "      <td>0</td>\n",
       "      <td>0</td>\n",
       "      <td>0</td>\n",
       "      <td>0</td>\n",
       "      <td>0</td>\n",
       "    </tr>\n",
       "    <tr>\n",
       "      <th>Day_of_Week_Wednesday</th>\n",
       "      <td>0</td>\n",
       "      <td>1</td>\n",
       "      <td>0</td>\n",
       "      <td>0</td>\n",
       "      <td>0</td>\n",
       "    </tr>\n",
       "    <tr>\n",
       "      <th>Precipitation_Fog or mist</th>\n",
       "      <td>0</td>\n",
       "      <td>0</td>\n",
       "      <td>0</td>\n",
       "      <td>0</td>\n",
       "      <td>0</td>\n",
       "    </tr>\n",
       "    <tr>\n",
       "      <th>Precipitation_Raining</th>\n",
       "      <td>0</td>\n",
       "      <td>0</td>\n",
       "      <td>0</td>\n",
       "      <td>0</td>\n",
       "      <td>0</td>\n",
       "    </tr>\n",
       "    <tr>\n",
       "      <th>Precipitation_Snowing</th>\n",
       "      <td>0</td>\n",
       "      <td>0</td>\n",
       "      <td>0</td>\n",
       "      <td>0</td>\n",
       "      <td>0</td>\n",
       "    </tr>\n",
       "    <tr>\n",
       "      <th>Road_Surface_Conditions_Flood over 3cm. deep</th>\n",
       "      <td>0</td>\n",
       "      <td>0</td>\n",
       "      <td>0</td>\n",
       "      <td>0</td>\n",
       "      <td>0</td>\n",
       "    </tr>\n",
       "    <tr>\n",
       "      <th>Road_Surface_Conditions_Frost or ice</th>\n",
       "      <td>0</td>\n",
       "      <td>0</td>\n",
       "      <td>0</td>\n",
       "      <td>0</td>\n",
       "      <td>0</td>\n",
       "    </tr>\n",
       "    <tr>\n",
       "      <th>Road_Surface_Conditions_Snow</th>\n",
       "      <td>0</td>\n",
       "      <td>0</td>\n",
       "      <td>0</td>\n",
       "      <td>0</td>\n",
       "      <td>0</td>\n",
       "    </tr>\n",
       "    <tr>\n",
       "      <th>Road_Surface_Conditions_Wet or damp</th>\n",
       "      <td>0</td>\n",
       "      <td>1</td>\n",
       "      <td>0</td>\n",
       "      <td>0</td>\n",
       "      <td>0</td>\n",
       "    </tr>\n",
       "    <tr>\n",
       "      <th>Light_Conditions_Darkness - lights lit</th>\n",
       "      <td>0</td>\n",
       "      <td>0</td>\n",
       "      <td>1</td>\n",
       "      <td>0</td>\n",
       "      <td>0</td>\n",
       "    </tr>\n",
       "    <tr>\n",
       "      <th>Light_Conditions_Darkness - lights unlit</th>\n",
       "      <td>0</td>\n",
       "      <td>0</td>\n",
       "      <td>0</td>\n",
       "      <td>0</td>\n",
       "      <td>0</td>\n",
       "    </tr>\n",
       "    <tr>\n",
       "      <th>Light_Conditions_Darkness - no lighting</th>\n",
       "      <td>0</td>\n",
       "      <td>0</td>\n",
       "      <td>0</td>\n",
       "      <td>0</td>\n",
       "      <td>0</td>\n",
       "    </tr>\n",
       "    <tr>\n",
       "      <th>Light_Conditions_Daylight</th>\n",
       "      <td>1</td>\n",
       "      <td>1</td>\n",
       "      <td>0</td>\n",
       "      <td>1</td>\n",
       "      <td>1</td>\n",
       "    </tr>\n",
       "    <tr>\n",
       "      <th>Time_of_Day_Evening (19-23)</th>\n",
       "      <td>0</td>\n",
       "      <td>0</td>\n",
       "      <td>0</td>\n",
       "      <td>1</td>\n",
       "      <td>0</td>\n",
       "    </tr>\n",
       "    <tr>\n",
       "      <th>Time_of_Day_Morning rush (5-10)</th>\n",
       "      <td>0</td>\n",
       "      <td>0</td>\n",
       "      <td>0</td>\n",
       "      <td>0</td>\n",
       "      <td>0</td>\n",
       "    </tr>\n",
       "    <tr>\n",
       "      <th>Time_of_Day_Night (23-5)</th>\n",
       "      <td>0</td>\n",
       "      <td>0</td>\n",
       "      <td>1</td>\n",
       "      <td>0</td>\n",
       "      <td>0</td>\n",
       "    </tr>\n",
       "    <tr>\n",
       "      <th>Time_of_Day_Office hours (10-15)</th>\n",
       "      <td>0</td>\n",
       "      <td>1</td>\n",
       "      <td>0</td>\n",
       "      <td>0</td>\n",
       "      <td>1</td>\n",
       "    </tr>\n",
       "  </tbody>\n",
       "</table>\n",
       "</div>"
      ],
      "text/plain": [
       "                                                             4750  \\\n",
       "datetime                                      2018-07-23 15:00:00   \n",
       "Count                                                          25   \n",
       "High_Winds                                                      0   \n",
       "Hour                                                           15   \n",
       "Quarter                                                         3   \n",
       "Month                                                           7   \n",
       "Dayofmonth                                                     23   \n",
       "Weekofyear                                                     30   \n",
       "Is_weekend                                                      0   \n",
       "Urban                                                           1   \n",
       "Day_of_Week_Monday                                              1   \n",
       "Day_of_Week_Saturday                                            0   \n",
       "Day_of_Week_Sunday                                              0   \n",
       "Day_of_Week_Thursday                                            0   \n",
       "Day_of_Week_Tuesday                                             0   \n",
       "Day_of_Week_Wednesday                                           0   \n",
       "Precipitation_Fog or mist                                       0   \n",
       "Precipitation_Raining                                           0   \n",
       "Precipitation_Snowing                                           0   \n",
       "Road_Surface_Conditions_Flood over 3cm. deep                    0   \n",
       "Road_Surface_Conditions_Frost or ice                            0   \n",
       "Road_Surface_Conditions_Snow                                    0   \n",
       "Road_Surface_Conditions_Wet or damp                             0   \n",
       "Light_Conditions_Darkness - lights lit                          0   \n",
       "Light_Conditions_Darkness - lights unlit                        0   \n",
       "Light_Conditions_Darkness - no lighting                         0   \n",
       "Light_Conditions_Daylight                                       1   \n",
       "Time_of_Day_Evening (19-23)                                     0   \n",
       "Time_of_Day_Morning rush (5-10)                                 0   \n",
       "Time_of_Day_Night (23-5)                                        0   \n",
       "Time_of_Day_Office hours (10-15)                                0   \n",
       "\n",
       "                                                             7753  \\\n",
       "datetime                                      2018-11-28 11:00:00   \n",
       "Count                                                           9   \n",
       "High_Winds                                                      0   \n",
       "Hour                                                           11   \n",
       "Quarter                                                         4   \n",
       "Month                                                          11   \n",
       "Dayofmonth                                                     28   \n",
       "Weekofyear                                                     48   \n",
       "Is_weekend                                                      0   \n",
       "Urban                                                           1   \n",
       "Day_of_Week_Monday                                              0   \n",
       "Day_of_Week_Saturday                                            0   \n",
       "Day_of_Week_Sunday                                              0   \n",
       "Day_of_Week_Thursday                                            0   \n",
       "Day_of_Week_Tuesday                                             0   \n",
       "Day_of_Week_Wednesday                                           1   \n",
       "Precipitation_Fog or mist                                       0   \n",
       "Precipitation_Raining                                           0   \n",
       "Precipitation_Snowing                                           0   \n",
       "Road_Surface_Conditions_Flood over 3cm. deep                    0   \n",
       "Road_Surface_Conditions_Frost or ice                            0   \n",
       "Road_Surface_Conditions_Snow                                    0   \n",
       "Road_Surface_Conditions_Wet or damp                             1   \n",
       "Light_Conditions_Darkness - lights lit                          0   \n",
       "Light_Conditions_Darkness - lights unlit                        0   \n",
       "Light_Conditions_Darkness - no lighting                         0   \n",
       "Light_Conditions_Daylight                                       1   \n",
       "Time_of_Day_Evening (19-23)                                     0   \n",
       "Time_of_Day_Morning rush (5-10)                                 0   \n",
       "Time_of_Day_Night (23-5)                                        0   \n",
       "Time_of_Day_Office hours (10-15)                                1   \n",
       "\n",
       "                                                             5653  \\\n",
       "datetime                                      2018-08-30 23:00:00   \n",
       "Count                                                           5   \n",
       "High_Winds                                                      0   \n",
       "Hour                                                           23   \n",
       "Quarter                                                         3   \n",
       "Month                                                           8   \n",
       "Dayofmonth                                                     30   \n",
       "Weekofyear                                                     35   \n",
       "Is_weekend                                                      0   \n",
       "Urban                                                           1   \n",
       "Day_of_Week_Monday                                              0   \n",
       "Day_of_Week_Saturday                                            0   \n",
       "Day_of_Week_Sunday                                              0   \n",
       "Day_of_Week_Thursday                                            1   \n",
       "Day_of_Week_Tuesday                                             0   \n",
       "Day_of_Week_Wednesday                                           0   \n",
       "Precipitation_Fog or mist                                       0   \n",
       "Precipitation_Raining                                           0   \n",
       "Precipitation_Snowing                                           0   \n",
       "Road_Surface_Conditions_Flood over 3cm. deep                    0   \n",
       "Road_Surface_Conditions_Frost or ice                            0   \n",
       "Road_Surface_Conditions_Snow                                    0   \n",
       "Road_Surface_Conditions_Wet or damp                             0   \n",
       "Light_Conditions_Darkness - lights lit                          1   \n",
       "Light_Conditions_Darkness - lights unlit                        0   \n",
       "Light_Conditions_Darkness - no lighting                         0   \n",
       "Light_Conditions_Daylight                                       0   \n",
       "Time_of_Day_Evening (19-23)                                     0   \n",
       "Time_of_Day_Morning rush (5-10)                                 0   \n",
       "Time_of_Day_Night (23-5)                                        1   \n",
       "Time_of_Day_Office hours (10-15)                                0   \n",
       "\n",
       "                                                             3722  \\\n",
       "datetime                                      2018-06-09 20:00:00   \n",
       "Count                                                          15   \n",
       "High_Winds                                                      0   \n",
       "Hour                                                           20   \n",
       "Quarter                                                         2   \n",
       "Month                                                           6   \n",
       "Dayofmonth                                                      9   \n",
       "Weekofyear                                                     23   \n",
       "Is_weekend                                                      1   \n",
       "Urban                                                           1   \n",
       "Day_of_Week_Monday                                              0   \n",
       "Day_of_Week_Saturday                                            1   \n",
       "Day_of_Week_Sunday                                              0   \n",
       "Day_of_Week_Thursday                                            0   \n",
       "Day_of_Week_Tuesday                                             0   \n",
       "Day_of_Week_Wednesday                                           0   \n",
       "Precipitation_Fog or mist                                       0   \n",
       "Precipitation_Raining                                           0   \n",
       "Precipitation_Snowing                                           0   \n",
       "Road_Surface_Conditions_Flood over 3cm. deep                    0   \n",
       "Road_Surface_Conditions_Frost or ice                            0   \n",
       "Road_Surface_Conditions_Snow                                    0   \n",
       "Road_Surface_Conditions_Wet or damp                             0   \n",
       "Light_Conditions_Darkness - lights lit                          0   \n",
       "Light_Conditions_Darkness - lights unlit                        0   \n",
       "Light_Conditions_Darkness - no lighting                         0   \n",
       "Light_Conditions_Daylight                                       1   \n",
       "Time_of_Day_Evening (19-23)                                     1   \n",
       "Time_of_Day_Morning rush (5-10)                                 0   \n",
       "Time_of_Day_Night (23-5)                                        0   \n",
       "Time_of_Day_Office hours (10-15)                                0   \n",
       "\n",
       "                                                             7517  \n",
       "datetime                                      2018-11-18 11:00:00  \n",
       "Count                                                          13  \n",
       "High_Winds                                                      0  \n",
       "Hour                                                           11  \n",
       "Quarter                                                         4  \n",
       "Month                                                          11  \n",
       "Dayofmonth                                                     18  \n",
       "Weekofyear                                                     46  \n",
       "Is_weekend                                                      1  \n",
       "Urban                                                           1  \n",
       "Day_of_Week_Monday                                              0  \n",
       "Day_of_Week_Saturday                                            0  \n",
       "Day_of_Week_Sunday                                              1  \n",
       "Day_of_Week_Thursday                                            0  \n",
       "Day_of_Week_Tuesday                                             0  \n",
       "Day_of_Week_Wednesday                                           0  \n",
       "Precipitation_Fog or mist                                       0  \n",
       "Precipitation_Raining                                           0  \n",
       "Precipitation_Snowing                                           0  \n",
       "Road_Surface_Conditions_Flood over 3cm. deep                    0  \n",
       "Road_Surface_Conditions_Frost or ice                            0  \n",
       "Road_Surface_Conditions_Snow                                    0  \n",
       "Road_Surface_Conditions_Wet or damp                             0  \n",
       "Light_Conditions_Darkness - lights lit                          0  \n",
       "Light_Conditions_Darkness - lights unlit                        0  \n",
       "Light_Conditions_Darkness - no lighting                         0  \n",
       "Light_Conditions_Daylight                                       1  \n",
       "Time_of_Day_Evening (19-23)                                     0  \n",
       "Time_of_Day_Morning rush (5-10)                                 0  \n",
       "Time_of_Day_Night (23-5)                                        0  \n",
       "Time_of_Day_Office hours (10-15)                                1  "
      ]
     },
     "execution_count": 41,
     "metadata": {},
     "output_type": "execute_result"
    }
   ],
   "source": [
    "df2.sample(5).T"
   ]
  },
  {
   "cell_type": "code",
   "execution_count": 42,
   "metadata": {
    "ExecuteTime": {
     "end_time": "2020-12-20T15:03:41.871908Z",
     "start_time": "2020-12-20T15:03:41.805230Z"
    }
   },
   "outputs": [
    {
     "data": {
      "text/plain": [
       "Count                                           1.000000\n",
       "Light_Conditions_Daylight                       0.455375\n",
       "Hour                                            0.365645\n",
       "Urban                                           0.301672\n",
       "Time_of_Day_Office hours (10-15)                0.191140\n",
       "Day_of_Week_Thursday                            0.041966\n",
       "Weekofyear                                      0.041304\n",
       "Quarter                                         0.035880\n",
       "Month                                           0.035640\n",
       "Day_of_Week_Wednesday                           0.034674\n",
       "Day_of_Week_Tuesday                             0.030162\n",
       "Day_of_Week_Monday                              0.002505\n",
       "Dayofmonth                                     -0.003169\n",
       "Road_Surface_Conditions_Frost or ice           -0.019573\n",
       "Road_Surface_Conditions_Flood over 3cm. deep   -0.028196\n",
       "Precipitation_Snowing                          -0.039278\n",
       "Road_Surface_Conditions_Snow                   -0.046214\n",
       "Day_of_Week_Saturday                           -0.057734\n",
       "Precipitation_Fog or mist                      -0.058407\n",
       "Time_of_Day_Morning rush (5-10)                -0.061082\n",
       "Light_Conditions_Darkness - lights unlit       -0.064312\n",
       "High_Winds                                     -0.083819\n",
       "Time_of_Day_Evening (19-23)                    -0.091421\n",
       "Precipitation_Raining                          -0.104153\n",
       "Day_of_Week_Sunday                             -0.130711\n",
       "Road_Surface_Conditions_Wet or damp            -0.144277\n",
       "Is_weekend                                     -0.164889\n",
       "Light_Conditions_Darkness - no lighting        -0.269525\n",
       "Light_Conditions_Darkness - lights lit         -0.305285\n",
       "Time_of_Day_Night (23-5)                       -0.526061\n",
       "Name: Count, dtype: float64"
      ]
     },
     "execution_count": 42,
     "metadata": {},
     "output_type": "execute_result"
    }
   ],
   "source": [
    "corr_matrix = df2.corr()\n",
    "corr_matrix['Count'].sort_values(ascending=False)"
   ]
  },
  {
   "cell_type": "markdown",
   "metadata": {},
   "source": [
    "# Linear regression"
   ]
  },
  {
   "cell_type": "markdown",
   "metadata": {},
   "source": [
    "Data set with newly generated features is split in the same manner as for forecasting time series."
   ]
  },
  {
   "cell_type": "code",
   "execution_count": 43,
   "metadata": {
    "ExecuteTime": {
     "end_time": "2020-12-20T15:03:41.901000Z",
     "start_time": "2020-12-20T15:03:41.877400Z"
    }
   },
   "outputs": [
    {
     "name": "stdout",
     "output_type": "stream",
     "text": [
      "7594 train and 844 test instances\n"
     ]
    }
   ],
   "source": [
    "train_set, test_set = train_test_split(df2, test_size=0.1, random_state=7, shuffle=False)\n",
    "print(f\"{train_set.shape[0]} train and {test_set.shape[0]} test instances\")"
   ]
  },
  {
   "cell_type": "code",
   "execution_count": 44,
   "metadata": {
    "ExecuteTime": {
     "end_time": "2020-12-20T15:03:41.932786Z",
     "start_time": "2020-12-20T15:03:41.909994Z"
    }
   },
   "outputs": [],
   "source": [
    "predictors = ['High_Winds', 'Hour', 'Quarter', 'Month',\n",
    "       'Dayofmonth', 'Weekofyear', 'Is_weekend', 'Urban', 'Day_of_Week_Monday',\n",
    "       'Day_of_Week_Saturday', 'Day_of_Week_Sunday', 'Day_of_Week_Thursday',\n",
    "       'Day_of_Week_Tuesday', 'Day_of_Week_Wednesday',\n",
    "       'Precipitation_Fog or mist', 'Precipitation_Raining',\n",
    "       'Precipitation_Snowing', 'Road_Surface_Conditions_Flood over 3cm. deep',\n",
    "       'Road_Surface_Conditions_Frost or ice', 'Road_Surface_Conditions_Snow',\n",
    "       'Road_Surface_Conditions_Wet or damp',\n",
    "       'Light_Conditions_Darkness - lights lit',\n",
    "       'Light_Conditions_Darkness - lights unlit',\n",
    "       'Light_Conditions_Darkness - no lighting', 'Light_Conditions_Daylight',\n",
    "       'Time_of_Day_Evening (19-23)', 'Time_of_Day_Morning rush (5-10)',\n",
    "       'Time_of_Day_Night (23-5)', 'Time_of_Day_Office hours (10-15)']\n",
    "\n",
    "Xtrain = train_set[predictors]\n",
    "ytrain = train_set['Count']\n",
    "\n",
    "Xtest = test_set[predictors]\n",
    "ytest = test_set['Count']\n"
   ]
  },
  {
   "cell_type": "code",
   "execution_count": 45,
   "metadata": {
    "ExecuteTime": {
     "end_time": "2020-12-20T15:03:42.008518Z",
     "start_time": "2020-12-20T15:03:41.941719Z"
    }
   },
   "outputs": [
    {
     "data": {
      "text/plain": [
       "LinearRegression(copy_X=True, fit_intercept=True, n_jobs=None, normalize=False)"
      ]
     },
     "execution_count": 45,
     "metadata": {},
     "output_type": "execute_result"
    }
   ],
   "source": [
    "from sklearn.linear_model import LinearRegression\n",
    "\n",
    "lin_reg = LinearRegression()\n",
    "\n",
    "lin_reg.fit(Xtrain, ytrain)"
   ]
  },
  {
   "cell_type": "code",
   "execution_count": 46,
   "metadata": {
    "ExecuteTime": {
     "end_time": "2020-12-20T15:03:42.075592Z",
     "start_time": "2020-12-20T15:03:42.016165Z"
    }
   },
   "outputs": [
    {
     "data": {
      "text/plain": [
       "6.877592809712238"
      ]
     },
     "execution_count": 46,
     "metadata": {},
     "output_type": "execute_result"
    }
   ],
   "source": [
    "# make predictions\n",
    "yhat = lin_reg.predict(Xtrain)\n",
    "\n",
    "lin_mse = mean_squared_error(ytrain, yhat)\n",
    "\n",
    "# take square root\n",
    "lin_rmse = np.sqrt(lin_mse)\n",
    "\n",
    "lin_rmse"
   ]
  },
  {
   "cell_type": "markdown",
   "metadata": {},
   "source": [
    "Linear regression in combination with feature engineering, produces root mean squared error of \n",
    " **6.88** , which is <font style= \"color:red\"> **35%** </font> reduction in error compared to the baseline (previous hours accidents). For comparison, forecasting the time series using Random Forest method produced 32% improvement. \n",
    " \n",
    "Further we will investigate how much error rate can be reduced even further, applying Decision tree and Random forest regressions.\n",
    "\n",
    "The same steps as in **2.3.3 & 2.3.4, 2.4** will be followed."
   ]
  },
  {
   "cell_type": "code",
   "execution_count": 47,
   "metadata": {
    "ExecuteTime": {
     "end_time": "2020-12-20T15:03:42.117328Z",
     "start_time": "2020-12-20T15:03:42.085137Z"
    }
   },
   "outputs": [],
   "source": [
    "from sklearn.preprocessing import StandardScaler\n",
    "\n",
    "scaler = StandardScaler()\n",
    "Xtrain = scaler.fit_transform(Xtrain)\n",
    "Xtest = scaler.transform(Xtest)"
   ]
  },
  {
   "cell_type": "markdown",
   "metadata": {
    "ExecuteTime": {
     "end_time": "2020-12-20T09:32:48.589637Z",
     "start_time": "2020-12-20T09:32:48.575895Z"
    }
   },
   "source": [
    "# Decision Tree regression\n",
    "\n",
    "Refer to the 2.3.3 for explanation of hyperparameters. "
   ]
  },
  {
   "cell_type": "code",
   "execution_count": 48,
   "metadata": {
    "ExecuteTime": {
     "end_time": "2020-12-20T15:03:43.771722Z",
     "start_time": "2020-12-20T15:03:42.125947Z"
    }
   },
   "outputs": [
    {
     "data": {
      "text/plain": [
       "GridSearchCV(cv=TimeSeriesSplit(max_train_size=None, n_splits=10),\n",
       "             error_score=nan,\n",
       "             estimator=DecisionTreeRegressor(ccp_alpha=0.0, criterion='mse',\n",
       "                                             max_depth=None, max_features=None,\n",
       "                                             max_leaf_nodes=None,\n",
       "                                             min_impurity_decrease=0.0,\n",
       "                                             min_impurity_split=None,\n",
       "                                             min_samples_leaf=1,\n",
       "                                             min_samples_split=2,\n",
       "                                             min_weight_fraction_leaf=0.0,\n",
       "                                             presort='deprecated',\n",
       "                                             random_state=7, splitter='best'),\n",
       "             iid='deprecated', n_jobs=None,\n",
       "             param_grid=[{'max_depth': [6, 7, 8],\n",
       "                          'min_samples_split': [6, 8, 10, 9]}],\n",
       "             pre_dispatch='2*n_jobs', refit=True, return_train_score=True,\n",
       "             scoring='neg_mean_squared_error', verbose=0)"
      ]
     },
     "execution_count": 48,
     "metadata": {},
     "output_type": "execute_result"
    }
   ],
   "source": [
    "dtree = DecisionTreeRegressor(random_state=7)\n",
    "param_grid = [\n",
    "    {'max_depth': [6, 7, 8],\n",
    "    'min_samples_split': [6, 8, 10, 9]}\n",
    "]\n",
    "\n",
    "tscv = TimeSeriesSplit(n_splits=10)\n",
    "dtree_grid_search = GridSearchCV(estimator=dtree, cv=tscv,\n",
    "                        param_grid=param_grid,\n",
    "                        scoring='neg_mean_squared_error', \n",
    "                        return_train_score=True)\n",
    "\n",
    "start = time.time()\n",
    "dtree_grid_search.fit(Xtrain, ytrain)"
   ]
  },
  {
   "cell_type": "code",
   "execution_count": 49,
   "metadata": {
    "ExecuteTime": {
     "end_time": "2020-12-20T15:03:43.823109Z",
     "start_time": "2020-12-20T15:03:43.785788Z"
    }
   },
   "outputs": [
    {
     "name": "stdout",
     "output_type": "stream",
     "text": [
      "5.645, 5.217, 1.082 {'max_depth': 6, 'min_samples_split': 10}\n",
      "5.645, 5.213, 1.083 {'max_depth': 6, 'min_samples_split': 8}\n",
      "5.648, 5.214, 1.083 {'max_depth': 6, 'min_samples_split': 9}\n",
      "5.650, 5.212, 1.084 {'max_depth': 6, 'min_samples_split': 6}\n",
      "5.810, 4.604, 1.262 {'max_depth': 8, 'min_samples_split': 9}\n",
      "5.841, 4.609, 1.267 {'max_depth': 8, 'min_samples_split': 10}\n",
      "5.843, 4.928, 1.186 {'max_depth': 7, 'min_samples_split': 9}\n",
      "5.861, 4.917, 1.192 {'max_depth': 7, 'min_samples_split': 6}\n",
      "5.869, 4.590, 1.279 {'max_depth': 8, 'min_samples_split': 8}\n",
      "5.883, 4.920, 1.196 {'max_depth': 7, 'min_samples_split': 8}\n",
      "5.891, 4.580, 1.286 {'max_depth': 8, 'min_samples_split': 6}\n",
      "5.935, 4.932, 1.203 {'max_depth': 7, 'min_samples_split': 10}\n"
     ]
    }
   ],
   "source": [
    "val_scores = dtree_grid_search.cv_results_[\"mean_test_score\"]\n",
    "train_scores = dtree_grid_search.cv_results_[\"mean_train_score\"]\n",
    "params = [str(x) for x in dtree_grid_search.cv_results_[\"params\"]]\n",
    "\n",
    "for val_score, train_score, param in sorted(zip(val_scores, train_scores, params), reverse=True):\n",
    "    print(f\"{np.sqrt(-val_score):.3f}, {np.sqrt(-train_score):.3f}, {np.sqrt(-val_score)/np.sqrt(-train_score):.3f}\", param)"
   ]
  },
  {
   "cell_type": "markdown",
   "metadata": {
    "ExecuteTime": {
     "end_time": "2020-12-19T12:42:40.041303Z",
     "start_time": "2020-12-19T12:42:40.036687Z"
    }
   },
   "source": [
    "# Random Forest regression"
   ]
  },
  {
   "cell_type": "markdown",
   "metadata": {},
   "source": [
    "Refer to the 2.3.4 for explanation of hyperparameters. "
   ]
  },
  {
   "cell_type": "code",
   "execution_count": 50,
   "metadata": {
    "ExecuteTime": {
     "end_time": "2020-12-20T15:05:02.254895Z",
     "start_time": "2020-12-20T15:03:43.838905Z"
    }
   },
   "outputs": [
    {
     "data": {
      "text/plain": [
       "GridSearchCV(cv=TimeSeriesSplit(max_train_size=None, n_splits=10),\n",
       "             error_score=nan,\n",
       "             estimator=RandomForestRegressor(bootstrap=True, ccp_alpha=0.0,\n",
       "                                             criterion='mse', max_depth=None,\n",
       "                                             max_features='auto',\n",
       "                                             max_leaf_nodes=None,\n",
       "                                             max_samples=None,\n",
       "                                             min_impurity_decrease=0.0,\n",
       "                                             min_impurity_split=None,\n",
       "                                             min_samples_leaf=1,\n",
       "                                             min_samples_split=2,\n",
       "                                             min_weight_fraction_leaf=0.0,\n",
       "                                             n_estimators=100, n_jobs=None,\n",
       "                                             oob_score=False, random_state=7,\n",
       "                                             verbose=0, warm_start=False),\n",
       "             iid='deprecated', n_jobs=None,\n",
       "             param_grid=[{'max_depth': [8, 10],\n",
       "                          'min_samples_split': [10, 11, 12],\n",
       "                          'n_estimators': [20, 30, 40, 50, 25]}],\n",
       "             pre_dispatch='2*n_jobs', refit=True, return_train_score=True,\n",
       "             scoring='neg_mean_squared_error', verbose=0)"
      ]
     },
     "execution_count": 50,
     "metadata": {},
     "output_type": "execute_result"
    }
   ],
   "source": [
    "rf = RandomForestRegressor(random_state=7)\n",
    "param_grid = [\n",
    "    {'n_estimators': [20, 30, 40, 50, 25], \n",
    "     'max_depth': [8, 10],\n",
    "     'min_samples_split': [ 10, 11, 12]\n",
    "    },\n",
    "]\n",
    "\n",
    "tscv = TimeSeriesSplit(n_splits=10)\n",
    "rf_grid_search = GridSearchCV(estimator=rf, cv=tscv,\n",
    "                        param_grid=param_grid,\n",
    "                        scoring='neg_mean_squared_error', \n",
    "                        return_train_score=True)\n",
    "\n",
    "start = time.time()\n",
    "rf_grid_search.fit(Xtrain, ytrain)"
   ]
  },
  {
   "cell_type": "markdown",
   "metadata": {},
   "source": [
    "Let's print the accuracy scores for every model evaluated during the grid search."
   ]
  },
  {
   "cell_type": "code",
   "execution_count": 51,
   "metadata": {
    "ExecuteTime": {
     "end_time": "2020-12-20T15:05:02.277748Z",
     "start_time": "2020-12-20T15:05:02.260461Z"
    }
   },
   "outputs": [
    {
     "name": "stdout",
     "output_type": "stream",
     "text": [
      "5.496, 4.455, 1.234 {'max_depth': 8, 'min_samples_split': 12, 'n_estimators': 25}\n",
      "5.498, 4.447, 1.237 {'max_depth': 8, 'min_samples_split': 12, 'n_estimators': 30}\n",
      "5.500, 4.459, 1.234 {'max_depth': 8, 'min_samples_split': 12, 'n_estimators': 20}\n",
      "5.503, 4.437, 1.240 {'max_depth': 8, 'min_samples_split': 12, 'n_estimators': 50}\n",
      "5.504, 4.449, 1.237 {'max_depth': 8, 'min_samples_split': 11, 'n_estimators': 20}\n",
      "5.504, 4.444, 1.238 {'max_depth': 8, 'min_samples_split': 11, 'n_estimators': 25}\n",
      "5.504, 4.427, 1.243 {'max_depth': 8, 'min_samples_split': 11, 'n_estimators': 50}\n",
      "5.506, 4.436, 1.241 {'max_depth': 8, 'min_samples_split': 11, 'n_estimators': 30}\n",
      "5.510, 4.418, 1.247 {'max_depth': 8, 'min_samples_split': 10, 'n_estimators': 50}\n",
      "5.511, 4.448, 1.239 {'max_depth': 8, 'min_samples_split': 12, 'n_estimators': 40}\n",
      "5.512, 3.938, 1.400 {'max_depth': 10, 'min_samples_split': 12, 'n_estimators': 50}\n",
      "5.514, 4.437, 1.243 {'max_depth': 8, 'min_samples_split': 11, 'n_estimators': 40}\n",
      "5.515, 4.435, 1.243 {'max_depth': 8, 'min_samples_split': 10, 'n_estimators': 25}\n",
      "5.515, 3.912, 1.410 {'max_depth': 10, 'min_samples_split': 11, 'n_estimators': 50}\n",
      "5.516, 4.427, 1.246 {'max_depth': 8, 'min_samples_split': 10, 'n_estimators': 30}\n",
      "5.517, 4.440, 1.243 {'max_depth': 8, 'min_samples_split': 10, 'n_estimators': 20}\n",
      "5.524, 4.429, 1.247 {'max_depth': 8, 'min_samples_split': 10, 'n_estimators': 40}\n",
      "5.526, 3.887, 1.422 {'max_depth': 10, 'min_samples_split': 10, 'n_estimators': 50}\n",
      "5.529, 3.927, 1.408 {'max_depth': 10, 'min_samples_split': 11, 'n_estimators': 30}\n",
      "5.529, 3.934, 1.406 {'max_depth': 10, 'min_samples_split': 11, 'n_estimators': 25}\n",
      "5.530, 3.923, 1.410 {'max_depth': 10, 'min_samples_split': 11, 'n_estimators': 40}\n",
      "5.531, 3.948, 1.401 {'max_depth': 10, 'min_samples_split': 12, 'n_estimators': 40}\n",
      "5.532, 3.959, 1.397 {'max_depth': 10, 'min_samples_split': 12, 'n_estimators': 25}\n",
      "5.533, 3.952, 1.400 {'max_depth': 10, 'min_samples_split': 12, 'n_estimators': 30}\n",
      "5.542, 3.939, 1.407 {'max_depth': 10, 'min_samples_split': 11, 'n_estimators': 20}\n",
      "5.542, 3.898, 1.422 {'max_depth': 10, 'min_samples_split': 10, 'n_estimators': 40}\n",
      "5.547, 3.963, 1.399 {'max_depth': 10, 'min_samples_split': 12, 'n_estimators': 20}\n",
      "5.551, 3.903, 1.422 {'max_depth': 10, 'min_samples_split': 10, 'n_estimators': 30}\n",
      "5.551, 3.909, 1.420 {'max_depth': 10, 'min_samples_split': 10, 'n_estimators': 25}\n",
      "5.560, 3.914, 1.421 {'max_depth': 10, 'min_samples_split': 10, 'n_estimators': 20}\n"
     ]
    }
   ],
   "source": [
    "val_scores = rf_grid_search.cv_results_[\"mean_test_score\"]\n",
    "train_scores = rf_grid_search.cv_results_[\"mean_train_score\"]\n",
    "params = [str(x) for x in rf_grid_search.cv_results_[\"params\"]]\n",
    "   \n",
    "for val_score, train_score, param in sorted(zip(val_scores, train_scores, params), reverse=True):\n",
    "    print(f\"{np.sqrt(-val_score):.3f}, {np.sqrt(-train_score):.3f}, {np.sqrt(-val_score)/np.sqrt(-train_score):.3f}\", param)"
   ]
  },
  {
   "cell_type": "markdown",
   "metadata": {},
   "source": [
    "## Evaluate the best DT and RF models on the test data\n",
    "\n",
    "**Decision tree**"
   ]
  },
  {
   "cell_type": "code",
   "execution_count": 52,
   "metadata": {
    "ExecuteTime": {
     "end_time": "2020-12-20T15:05:02.297897Z",
     "start_time": "2020-12-20T15:05:02.284082Z"
    }
   },
   "outputs": [
    {
     "data": {
      "text/plain": [
       "6.510712307172764"
      ]
     },
     "execution_count": 52,
     "metadata": {},
     "output_type": "execute_result"
    }
   ],
   "source": [
    "best_model = dtree_grid_search.best_estimator_\n",
    "\n",
    "yhat = best_model.predict(Xtest)\n",
    "\n",
    "dtree_mse = mean_squared_error(ytest, yhat)\n",
    "dtree_rmse = np.sqrt(dtree_mse)\n",
    "dtree_rmse"
   ]
  },
  {
   "cell_type": "markdown",
   "metadata": {
    "ExecuteTime": {
     "end_time": "2020-12-19T17:26:51.230043Z",
     "start_time": "2020-12-19T17:26:51.215901Z"
    }
   },
   "source": [
    "**Random forrest**"
   ]
  },
  {
   "cell_type": "code",
   "execution_count": 53,
   "metadata": {
    "ExecuteTime": {
     "end_time": "2020-12-20T15:05:02.339544Z",
     "start_time": "2020-12-20T15:05:02.302386Z"
    }
   },
   "outputs": [
    {
     "data": {
      "text/plain": [
       "6.396903039403599"
      ]
     },
     "execution_count": 53,
     "metadata": {},
     "output_type": "execute_result"
    }
   ],
   "source": [
    "best_model = rf_grid_search.best_estimator_\n",
    "\n",
    "yhat = best_model.predict(Xtest)\n",
    "\n",
    "rf_mse = mean_squared_error(ytest, yhat)\n",
    "rf_rmse = np.sqrt(rf_mse)\n",
    "rf_rmse"
   ]
  },
  {
   "cell_type": "markdown",
   "metadata": {
    "ExecuteTime": {
     "end_time": "2020-12-20T14:27:28.476026Z",
     "start_time": "2020-12-20T14:27:28.466605Z"
    }
   },
   "source": [
    "## Regression results\n",
    "\n",
    "\n",
    "The best Decision Tree regression model's RMSE is **6.51** (reduced the RMSE rate by <font style= \"color:red\"> **38%** </font>)\n",
    "\n",
    "The RandomForest regression method's RMSE is **6.39** (reduced the RMSE rate by <font style= \"color:red\"> **39.5%** </font>)"
   ]
  },
  {
   "cell_type": "markdown",
   "metadata": {},
   "source": [
    "## 5.5 Analyze the most promising models\n",
    "\n",
    "We can examine what variables were the most important for the regression problem in the best-performing model. They are also stored as an attribute on the model object:"
   ]
  },
  {
   "cell_type": "code",
   "execution_count": 70,
   "metadata": {
    "ExecuteTime": {
     "end_time": "2020-12-20T15:17:20.833575Z",
     "start_time": "2020-12-20T15:17:20.816821Z"
    }
   },
   "outputs": [
    {
     "name": "stdout",
     "output_type": "stream",
     "text": [
      "Hour: 0.801\n",
      "Is_weekend: 0.069\n",
      "Weekofyear: 0.037\n",
      "Time_of_Day_Office hours (10-15): 0.032\n",
      "Time_of_Day_Morning rush (5-10): 0.016\n",
      "Time_of_Day_Evening (19-23): 0.016\n",
      "Dayofmonth: 0.007\n",
      "Month: 0.005\n",
      "Day_of_Week_Saturday: 0.005\n",
      "Urban: 0.003\n",
      "Light_Conditions_Darkness - lights lit: 0.003\n",
      "Day_of_Week_Monday: 0.001\n",
      "Day_of_Week_Sunday: 0.001\n",
      "Day_of_Week_Tuesday: 0.001\n",
      "Precipitation_Raining: 0.001\n",
      "Road_Surface_Conditions_Wet or damp: 0.001\n",
      "Time_of_Day_Night (23-5): 0.001\n"
     ]
    }
   ],
   "source": [
    "# put them into a separate variable for convenience\n",
    "feature_importances = rf_grid_search.best_estimator_.feature_importances_\n",
    "\n",
    "# the order of the features in `feature_importances` is the same as in the Xtrain dataframe,\n",
    "# so we can \"zip\" the two and print in the descending order:\n",
    "\n",
    "for k, v in sorted(zip(feature_importances, predictors), reverse=True):\n",
    "    print(f\"{v}: {k:.3f}\")"
   ]
  },
  {
   "cell_type": "markdown",
   "metadata": {
    "ExecuteTime": {
     "end_time": "2020-12-19T12:42:40.041303Z",
     "start_time": "2020-12-19T12:42:40.036687Z"
    }
   },
   "source": [
    "# Random Forest regression - less features"
   ]
  },
  {
   "cell_type": "markdown",
   "metadata": {},
   "source": [
    "Refer to the 2.3.4 for explanation of hyperparameters. "
   ]
  },
  {
   "cell_type": "code",
   "execution_count": 62,
   "metadata": {
    "ExecuteTime": {
     "end_time": "2020-12-20T15:13:01.849297Z",
     "start_time": "2020-12-20T15:13:01.839805Z"
    }
   },
   "outputs": [
    {
     "name": "stdout",
     "output_type": "stream",
     "text": [
      "7594 train and 844 test instances\n"
     ]
    }
   ],
   "source": [
    "train_set, test_set = train_test_split(df2, test_size=0.1, random_state=7, shuffle=False)\n",
    "print(f\"{train_set.shape[0]} train and {test_set.shape[0]} test instances\")"
   ]
  },
  {
   "cell_type": "code",
   "execution_count": 63,
   "metadata": {
    "ExecuteTime": {
     "end_time": "2020-12-20T15:13:04.232326Z",
     "start_time": "2020-12-20T15:13:04.219142Z"
    }
   },
   "outputs": [],
   "source": [
    "predictors = ['Hour', 'Month',\n",
    "       'Dayofmonth', 'Weekofyear', 'Is_weekend', 'Urban', 'Day_of_Week_Monday',\n",
    "       'Day_of_Week_Saturday', 'Day_of_Week_Sunday', \n",
    "       'Day_of_Week_Tuesday', 'Precipitation_Raining',\n",
    "       'Road_Surface_Conditions_Wet or damp',\n",
    "       'Light_Conditions_Darkness - lights lit',\n",
    "       'Time_of_Day_Evening (19-23)', 'Time_of_Day_Morning rush (5-10)',\n",
    "       'Time_of_Day_Night (23-5)', 'Time_of_Day_Office hours (10-15)']\n",
    "\n",
    "Xtrain = train_set[predictors]\n",
    "ytrain = train_set['Count']\n",
    "\n",
    "Xtest = test_set[predictors]\n",
    "ytest = test_set['Count']\n"
   ]
  },
  {
   "cell_type": "code",
   "execution_count": 67,
   "metadata": {
    "ExecuteTime": {
     "end_time": "2020-12-20T15:16:46.632067Z",
     "start_time": "2020-12-20T15:15:22.923491Z"
    }
   },
   "outputs": [
    {
     "data": {
      "text/plain": [
       "GridSearchCV(cv=TimeSeriesSplit(max_train_size=None, n_splits=10),\n",
       "             error_score=nan,\n",
       "             estimator=RandomForestRegressor(bootstrap=True, ccp_alpha=0.0,\n",
       "                                             criterion='mse', max_depth=None,\n",
       "                                             max_features='auto',\n",
       "                                             max_leaf_nodes=None,\n",
       "                                             max_samples=None,\n",
       "                                             min_impurity_decrease=0.0,\n",
       "                                             min_impurity_split=None,\n",
       "                                             min_samples_leaf=1,\n",
       "                                             min_samples_split=2,\n",
       "                                             min_weight_fraction_leaf=0.0,\n",
       "                                             n_estimators=100, n_jobs=None,\n",
       "                                             oob_score=False, random_state=7,\n",
       "                                             verbose=0, warm_start=False),\n",
       "             iid='deprecated', n_jobs=None,\n",
       "             param_grid=[{'max_depth': [8, 10],\n",
       "                          'min_samples_split': [10, 11, 12],\n",
       "                          'n_estimators': [20, 30, 40, 50, 25, 55]}],\n",
       "             pre_dispatch='2*n_jobs', refit=True, return_train_score=True,\n",
       "             scoring='neg_mean_squared_error', verbose=0)"
      ]
     },
     "execution_count": 67,
     "metadata": {},
     "output_type": "execute_result"
    }
   ],
   "source": [
    "rf = RandomForestRegressor(random_state=7)\n",
    "param_grid = [\n",
    "    {'n_estimators': [20, 30, 40, 50, 25, 55], \n",
    "     'max_depth': [8, 10],\n",
    "     'min_samples_split': [ 10, 11, 12]\n",
    "    },\n",
    "]\n",
    "\n",
    "tscv = TimeSeriesSplit(n_splits=10)\n",
    "rf_grid_search = GridSearchCV(estimator=rf, cv=tscv,\n",
    "                        param_grid=param_grid,\n",
    "                        scoring='neg_mean_squared_error', \n",
    "                        return_train_score=True)\n",
    "\n",
    "start = time.time()\n",
    "rf_grid_search.fit(Xtrain, ytrain)"
   ]
  },
  {
   "cell_type": "markdown",
   "metadata": {},
   "source": [
    "Let's print the accuracy scores for every model evaluated during the grid search."
   ]
  },
  {
   "cell_type": "code",
   "execution_count": 68,
   "metadata": {
    "ExecuteTime": {
     "end_time": "2020-12-20T15:16:46.649372Z",
     "start_time": "2020-12-20T15:16:46.636927Z"
    }
   },
   "outputs": [
    {
     "name": "stdout",
     "output_type": "stream",
     "text": [
      "5.482, 4.422, 1.240 {'max_depth': 8, 'min_samples_split': 10, 'n_estimators': 50}\n",
      "5.483, 4.442, 1.235 {'max_depth': 8, 'min_samples_split': 12, 'n_estimators': 50}\n",
      "5.484, 4.441, 1.235 {'max_depth': 8, 'min_samples_split': 12, 'n_estimators': 55}\n",
      "5.487, 4.421, 1.241 {'max_depth': 8, 'min_samples_split': 10, 'n_estimators': 55}\n",
      "5.487, 4.449, 1.233 {'max_depth': 8, 'min_samples_split': 11, 'n_estimators': 25}\n",
      "5.488, 4.460, 1.231 {'max_depth': 8, 'min_samples_split': 12, 'n_estimators': 25}\n",
      "5.488, 4.431, 1.239 {'max_depth': 8, 'min_samples_split': 11, 'n_estimators': 50}\n",
      "5.489, 4.453, 1.232 {'max_depth': 8, 'min_samples_split': 12, 'n_estimators': 30}\n",
      "5.490, 4.440, 1.237 {'max_depth': 8, 'min_samples_split': 10, 'n_estimators': 25}\n",
      "5.490, 4.430, 1.239 {'max_depth': 8, 'min_samples_split': 11, 'n_estimators': 55}\n",
      "5.491, 4.434, 1.238 {'max_depth': 8, 'min_samples_split': 10, 'n_estimators': 30}\n",
      "5.493, 4.433, 1.239 {'max_depth': 8, 'min_samples_split': 10, 'n_estimators': 40}\n",
      "5.495, 4.443, 1.237 {'max_depth': 8, 'min_samples_split': 11, 'n_estimators': 30}\n",
      "5.496, 4.452, 1.235 {'max_depth': 8, 'min_samples_split': 12, 'n_estimators': 40}\n",
      "5.499, 4.463, 1.232 {'max_depth': 8, 'min_samples_split': 12, 'n_estimators': 20}\n",
      "5.499, 4.444, 1.237 {'max_depth': 8, 'min_samples_split': 10, 'n_estimators': 20}\n",
      "5.501, 4.442, 1.238 {'max_depth': 8, 'min_samples_split': 11, 'n_estimators': 40}\n",
      "5.501, 4.453, 1.235 {'max_depth': 8, 'min_samples_split': 11, 'n_estimators': 20}\n",
      "5.514, 3.913, 1.409 {'max_depth': 10, 'min_samples_split': 11, 'n_estimators': 50}\n",
      "5.515, 3.911, 1.410 {'max_depth': 10, 'min_samples_split': 11, 'n_estimators': 55}\n",
      "5.521, 3.942, 1.401 {'max_depth': 10, 'min_samples_split': 12, 'n_estimators': 50}\n",
      "5.522, 3.929, 1.405 {'max_depth': 10, 'min_samples_split': 11, 'n_estimators': 30}\n",
      "5.523, 3.940, 1.402 {'max_depth': 10, 'min_samples_split': 12, 'n_estimators': 55}\n",
      "5.523, 3.937, 1.403 {'max_depth': 10, 'min_samples_split': 11, 'n_estimators': 25}\n",
      "5.528, 3.927, 1.408 {'max_depth': 10, 'min_samples_split': 11, 'n_estimators': 40}\n",
      "5.533, 3.888, 1.423 {'max_depth': 10, 'min_samples_split': 10, 'n_estimators': 50}\n",
      "5.533, 3.885, 1.424 {'max_depth': 10, 'min_samples_split': 10, 'n_estimators': 55}\n",
      "5.535, 3.911, 1.415 {'max_depth': 10, 'min_samples_split': 10, 'n_estimators': 25}\n",
      "5.536, 3.965, 1.396 {'max_depth': 10, 'min_samples_split': 12, 'n_estimators': 25}\n",
      "5.540, 3.955, 1.401 {'max_depth': 10, 'min_samples_split': 12, 'n_estimators': 40}\n",
      "5.542, 3.903, 1.420 {'max_depth': 10, 'min_samples_split': 10, 'n_estimators': 30}\n",
      "5.542, 3.956, 1.401 {'max_depth': 10, 'min_samples_split': 12, 'n_estimators': 30}\n",
      "5.548, 3.901, 1.422 {'max_depth': 10, 'min_samples_split': 10, 'n_estimators': 40}\n",
      "5.548, 3.943, 1.407 {'max_depth': 10, 'min_samples_split': 11, 'n_estimators': 20}\n",
      "5.550, 3.970, 1.398 {'max_depth': 10, 'min_samples_split': 12, 'n_estimators': 20}\n",
      "5.556, 3.916, 1.419 {'max_depth': 10, 'min_samples_split': 10, 'n_estimators': 20}\n"
     ]
    }
   ],
   "source": [
    "val_scores = rf_grid_search.cv_results_[\"mean_test_score\"]\n",
    "train_scores = rf_grid_search.cv_results_[\"mean_train_score\"]\n",
    "params = [str(x) for x in rf_grid_search.cv_results_[\"params\"]]\n",
    "   \n",
    "for val_score, train_score, param in sorted(zip(val_scores, train_scores, params), reverse=True):\n",
    "    print(f\"{np.sqrt(-val_score):.3f}, {np.sqrt(-train_score):.3f}, {np.sqrt(-val_score)/np.sqrt(-train_score):.3f}\", param)"
   ]
  },
  {
   "cell_type": "code",
   "execution_count": 69,
   "metadata": {
    "ExecuteTime": {
     "end_time": "2020-12-20T15:16:46.681348Z",
     "start_time": "2020-12-20T15:16:46.656116Z"
    }
   },
   "outputs": [
    {
     "data": {
      "text/plain": [
       "6.408804819733202"
      ]
     },
     "execution_count": 69,
     "metadata": {},
     "output_type": "execute_result"
    }
   ],
   "source": [
    "best_model = rf_grid_search.best_estimator_\n",
    "\n",
    "yhat = best_model.predict(Xtest)\n",
    "\n",
    "rf_mse = mean_squared_error(ytest, yhat)\n",
    "rf_rmse = np.sqrt(rf_mse)\n",
    "rf_rmse"
   ]
  },
  {
   "cell_type": "markdown",
   "metadata": {
    "ExecuteTime": {
     "end_time": "2020-12-19T14:23:42.362408Z",
     "start_time": "2020-12-19T14:23:42.357148Z"
    }
   },
   "source": [
    "# Summary \n",
    "TL;DR"
   ]
  },
  {
   "cell_type": "markdown",
   "metadata": {},
   "source": [
    "- Play with lags\n",
    "- Additional feature engineering\n",
    "Explore if \n",
    "- XGboost\n",
    "- Represent time as sin/cos\n",
    "- Tensorflow/pytoch/FastAI\n",
    "- Data on terms and halfterms"
   ]
  },
  {
   "cell_type": "code",
   "execution_count": null,
   "metadata": {},
   "outputs": [],
   "source": []
  }
 ],
 "metadata": {
  "kernelspec": {
   "display_name": "Python 3",
   "language": "python",
   "name": "python3"
  },
  "language_info": {
   "codemirror_mode": {
    "name": "ipython",
    "version": 3
   },
   "file_extension": ".py",
   "mimetype": "text/x-python",
   "name": "python",
   "nbconvert_exporter": "python",
   "pygments_lexer": "ipython3",
   "version": "3.7.4"
  },
  "toc": {
   "base_numbering": 1,
   "nav_menu": {},
   "number_sections": true,
   "sideBar": true,
   "skip_h1_title": false,
   "title_cell": "Table of Contents",
   "title_sidebar": "Contents",
   "toc_cell": false,
   "toc_position": {
    "height": "calc(100% - 180px)",
    "left": "10px",
    "top": "150px",
    "width": "304.796875px"
   },
   "toc_section_display": true,
   "toc_window_display": true
  }
 },
 "nbformat": 4,
 "nbformat_minor": 2
}
