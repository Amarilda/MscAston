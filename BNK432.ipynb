{
 "cells": [
  {
   "cell_type": "markdown",
   "metadata": {},
   "source": [
    "Business objective"
   ]
  },
  {
   "cell_type": "markdown",
   "metadata": {
    "hide_input": true
   },
   "source": [
    "# Read the data"
   ]
  },
  {
   "cell_type": "code",
   "execution_count": 1,
   "metadata": {
    "ExecuteTime": {
     "end_time": "2020-12-20T08:14:20.374850Z",
     "start_time": "2020-12-20T08:14:04.681330Z"
    }
   },
   "outputs": [
    {
     "name": "stderr",
     "output_type": "stream",
     "text": [
      "/Users/Edite/opt/anaconda3/lib/python3.7/site-packages/ipykernel_launcher.py:3: FutureWarning: pandas.util.testing is deprecated. Use the functions in the public API at pandas.testing instead.\n",
      "  This is separate from the ipykernel package so we can avoid doing imports until\n"
     ]
    }
   ],
   "source": [
    "# Import necessary packages\n",
    "import pandas as pd\n",
    "import pandas.util.testing as tm\n",
    "import numpy as np\n",
    "from matplotlib import pyplot as plt\n",
    "%matplotlib inline\n",
    "\n",
    "import time\n",
    "from datetime import datetime\n",
    "from datetime import date\n",
    "\n",
    "from sklearn.metrics import mean_squared_error\n",
    "from sklearn.tree import DecisionTreeRegressor\n",
    "from sklearn.ensemble import RandomForestRegressor\n",
    "\n",
    "from sklearn.model_selection import train_test_split\n",
    "from sklearn.model_selection import TimeSeriesSplit, GridSearchCV\n",
    "\n",
    "import statsmodels.api as sm\n",
    "\n",
    "import warnings\n",
    "warnings.filterwarnings(\"ignore\")"
   ]
  },
  {
   "cell_type": "code",
   "execution_count": 2,
   "metadata": {
    "ExecuteTime": {
     "end_time": "2020-12-20T08:14:20.407935Z",
     "start_time": "2020-12-20T08:14:20.378496Z"
    }
   },
   "outputs": [],
   "source": [
    "# Read the data\n",
    "df= pd.read_csv(\"UK Road Accidents 2018.csv\")"
   ]
  },
  {
   "cell_type": "markdown",
   "metadata": {},
   "source": [
    "### Random sample of data\n",
    "df.sample(n) shows more variation in the data set than df.head(). Data set is usually sorted during ETL process. In this case each observation represents an hour and data is not expected to be changing drastically within that time span."
   ]
  },
  {
   "cell_type": "code",
   "execution_count": 3,
   "metadata": {
    "ExecuteTime": {
     "end_time": "2020-12-20T08:14:20.474975Z",
     "start_time": "2020-12-20T08:14:20.411083Z"
    }
   },
   "outputs": [
    {
     "data": {
      "text/html": [
       "<div>\n",
       "<style scoped>\n",
       "    .dataframe tbody tr th:only-of-type {\n",
       "        vertical-align: middle;\n",
       "    }\n",
       "\n",
       "    .dataframe tbody tr th {\n",
       "        vertical-align: top;\n",
       "    }\n",
       "\n",
       "    .dataframe thead th {\n",
       "        text-align: right;\n",
       "    }\n",
       "</style>\n",
       "<table border=\"1\" class=\"dataframe\">\n",
       "  <thead>\n",
       "    <tr style=\"text-align: right;\">\n",
       "      <th></th>\n",
       "      <th>datetime</th>\n",
       "      <th>Count</th>\n",
       "      <th>Day_of_Week</th>\n",
       "      <th>Precipitation</th>\n",
       "      <th>High_Winds</th>\n",
       "      <th>Road_Surface_Conditions</th>\n",
       "      <th>Light_Conditions</th>\n",
       "      <th>Urban_or_Rural_Area</th>\n",
       "    </tr>\n",
       "  </thead>\n",
       "  <tbody>\n",
       "    <tr>\n",
       "      <th>7165</th>\n",
       "      <td>03/11/2018 10:00</td>\n",
       "      <td>21</td>\n",
       "      <td>Saturday</td>\n",
       "      <td>Fine</td>\n",
       "      <td>False</td>\n",
       "      <td>Dry</td>\n",
       "      <td>Daylight</td>\n",
       "      <td>Urban</td>\n",
       "    </tr>\n",
       "    <tr>\n",
       "      <th>7304</th>\n",
       "      <td>09/11/2018 09:00</td>\n",
       "      <td>13</td>\n",
       "      <td>Friday</td>\n",
       "      <td>Fine</td>\n",
       "      <td>False</td>\n",
       "      <td>Dry</td>\n",
       "      <td>Daylight</td>\n",
       "      <td>Urban</td>\n",
       "    </tr>\n",
       "    <tr>\n",
       "      <th>6393</th>\n",
       "      <td>01/10/2018 18:00</td>\n",
       "      <td>18</td>\n",
       "      <td>Monday</td>\n",
       "      <td>Fine</td>\n",
       "      <td>False</td>\n",
       "      <td>Dry</td>\n",
       "      <td>Daylight</td>\n",
       "      <td>Urban</td>\n",
       "    </tr>\n",
       "    <tr>\n",
       "      <th>6915</th>\n",
       "      <td>23/10/2018 19:00</td>\n",
       "      <td>21</td>\n",
       "      <td>Tuesday</td>\n",
       "      <td>Fine</td>\n",
       "      <td>False</td>\n",
       "      <td>Dry</td>\n",
       "      <td>Darkness - lights lit</td>\n",
       "      <td>Urban</td>\n",
       "    </tr>\n",
       "    <tr>\n",
       "      <th>4236</th>\n",
       "      <td>01/07/2018 17:00</td>\n",
       "      <td>24</td>\n",
       "      <td>Sunday</td>\n",
       "      <td>Fine</td>\n",
       "      <td>False</td>\n",
       "      <td>Dry</td>\n",
       "      <td>Daylight</td>\n",
       "      <td>Urban</td>\n",
       "    </tr>\n",
       "  </tbody>\n",
       "</table>\n",
       "</div>"
      ],
      "text/plain": [
       "              datetime  Count Day_of_Week Precipitation  High_Winds  \\\n",
       "7165  03/11/2018 10:00     21    Saturday          Fine       False   \n",
       "7304  09/11/2018 09:00     13      Friday          Fine       False   \n",
       "6393  01/10/2018 18:00     18      Monday          Fine       False   \n",
       "6915  23/10/2018 19:00     21     Tuesday          Fine       False   \n",
       "4236  01/07/2018 17:00     24      Sunday          Fine       False   \n",
       "\n",
       "     Road_Surface_Conditions       Light_Conditions Urban_or_Rural_Area  \n",
       "7165                     Dry               Daylight               Urban  \n",
       "7304                     Dry               Daylight               Urban  \n",
       "6393                     Dry               Daylight               Urban  \n",
       "6915                     Dry  Darkness - lights lit               Urban  \n",
       "4236                     Dry               Daylight               Urban  "
      ]
     },
     "execution_count": 3,
     "metadata": {},
     "output_type": "execute_result"
    }
   ],
   "source": [
    "df.sample(5)"
   ]
  },
  {
   "cell_type": "markdown",
   "metadata": {},
   "source": [
    "### Check for nulls\n",
    "\n",
    "Non-null count provides the same as \" RangeIndex - df.isna().sum()\"\n",
    "\n",
    "RangeIndex: 8540\n",
    "\n",
    "All Non_Null Counts = 8540\n",
    "\n",
    "**Therefore Nulls are not present in this data set.**"
   ]
  },
  {
   "cell_type": "code",
   "execution_count": 4,
   "metadata": {
    "ExecuteTime": {
     "end_time": "2020-12-20T08:14:20.498834Z",
     "start_time": "2020-12-20T08:14:20.478584Z"
    }
   },
   "outputs": [
    {
     "name": "stdout",
     "output_type": "stream",
     "text": [
      "<class 'pandas.core.frame.DataFrame'>\n",
      "RangeIndex: 8540 entries, 0 to 8539\n",
      "Data columns (total 8 columns):\n",
      " #   Column                   Non-Null Count  Dtype \n",
      "---  ------                   --------------  ----- \n",
      " 0   datetime                 8540 non-null   object\n",
      " 1   Count                    8540 non-null   int64 \n",
      " 2   Day_of_Week              8540 non-null   object\n",
      " 3   Precipitation            8540 non-null   object\n",
      " 4   High_Winds               8540 non-null   bool  \n",
      " 5   Road_Surface_Conditions  8540 non-null   object\n",
      " 6   Light_Conditions         8540 non-null   object\n",
      " 7   Urban_or_Rural_Area      8540 non-null   object\n",
      "dtypes: bool(1), int64(1), object(6)\n",
      "memory usage: 475.5+ KB\n"
     ]
    }
   ],
   "source": [
    "df.info()"
   ]
  },
  {
   "cell_type": "markdown",
   "metadata": {},
   "source": [
    "Drop missing values encoded as \"Data missing or out of range\", \"Other\" and \"Unknown\".\n",
    "Data set is ample and in total 102 observations are dropped. \n",
    "In addition, it will reduce features created in further steps.\n",
    "Size is insignificant when compared to initial size of 8540 observations."
   ]
  },
  {
   "cell_type": "code",
   "execution_count": 5,
   "metadata": {
    "ExecuteTime": {
     "end_time": "2020-12-20T08:14:20.592806Z",
     "start_time": "2020-12-20T08:14:20.503461Z"
    }
   },
   "outputs": [
    {
     "name": "stdout",
     "output_type": "stream",
     "text": [
      "Precipitation\n",
      "\n",
      "Data missing or out of range: 1\n",
      "Other: 51\n",
      "Unknown: 48\n",
      "\n",
      "Road_Surface_Conditions\n",
      "\n",
      "Data missing or out of range: 2\n",
      "Other: 0\n",
      "Unknown: 0\n",
      "\n"
     ]
    }
   ],
   "source": [
    "for column in df.columns:\n",
    "    if len(df[df[column] == \"Data missing or out of range\"])+ len(df[df[column] == \"Other\"])+len(df[df[column] == \"Unknown\"]) > 0:\n",
    "        print(column)\n",
    "        print()\n",
    "        print(f'Data missing or out of range: {len(df[df[column] == \"Data missing or out of range\"])}')\n",
    "        df.drop(df[df[column] == \"Data missing or out of range\"].index, inplace = True) \n",
    "        \n",
    "        print(f'Other: {len(df[df[column] == \"Other\"])}')\n",
    "        df.drop(df[df[column] == \"Other\"].index, inplace = True) \n",
    "        \n",
    "        print(f'Unknown: {len(df[df[column] == \"Unknown\"])}')\n",
    "        df.drop(df[df[column] == \"Unknown\"].index, inplace = True)\n",
    "              \n",
    "        print()"
   ]
  },
  {
   "cell_type": "markdown",
   "metadata": {
    "ExecuteTime": {
     "end_time": "2020-12-17T11:28:56.283999Z",
     "start_time": "2020-12-17T11:28:56.239309Z"
    }
   },
   "source": [
    "df.pivot_table(index=(['Urban_or_Rural_Area','Day_of_Week'])\n",
    "               , values='Count'\n",
    "               , aggfunc=(\"count\",\"sum\")\n",
    "              ).reset_index().sort_values('count', ascending=False)"
   ]
  },
  {
   "cell_type": "markdown",
   "metadata": {
    "ExecuteTime": {
     "end_time": "2020-12-16T13:23:30.110673Z",
     "start_time": "2020-12-16T13:23:30.106850Z"
    }
   },
   "source": [
    "# Forecasting time series"
   ]
  },
  {
   "cell_type": "markdown",
   "metadata": {},
   "source": [
    "Select 2 columns for forecasting"
   ]
  },
  {
   "cell_type": "code",
   "execution_count": 6,
   "metadata": {
    "ExecuteTime": {
     "end_time": "2020-12-20T08:14:20.606765Z",
     "start_time": "2020-12-20T08:14:20.599811Z"
    }
   },
   "outputs": [],
   "source": [
    "df2 = df[['datetime', 'Count']]"
   ]
  },
  {
   "cell_type": "code",
   "execution_count": 7,
   "metadata": {
    "ExecuteTime": {
     "end_time": "2020-12-20T08:14:20.619517Z",
     "start_time": "2020-12-20T08:14:20.613282Z"
    }
   },
   "outputs": [],
   "source": [
    "df2.DatetimeIndex = df2.datetime\n",
    "del df2['datetime']"
   ]
  },
  {
   "cell_type": "code",
   "execution_count": 8,
   "metadata": {
    "ExecuteTime": {
     "end_time": "2020-12-20T08:14:20.635449Z",
     "start_time": "2020-12-20T08:14:20.623807Z"
    }
   },
   "outputs": [
    {
     "name": "stdout",
     "output_type": "stream",
     "text": [
      "7594 train and 844 test instances\n"
     ]
    }
   ],
   "source": [
    "train_set, test_set = train_test_split(df2, test_size=0.1, random_state=7, shuffle=False)\n",
    "print(f\"{train_set.shape[0]} train and {test_set.shape[0]} test instances\")"
   ]
  },
  {
   "cell_type": "markdown",
   "metadata": {},
   "source": [
    "## Exploratory Data Analysis\n",
    "\n",
    "Let's plot the data."
   ]
  },
  {
   "cell_type": "code",
   "execution_count": 9,
   "metadata": {
    "ExecuteTime": {
     "end_time": "2020-12-20T08:14:21.150376Z",
     "start_time": "2020-12-20T08:14:20.641106Z"
    }
   },
   "outputs": [
    {
     "data": {
      "text/plain": [
       "<AxesSubplot:>"
      ]
     },
     "execution_count": 9,
     "metadata": {},
     "output_type": "execute_result"
    },
    {
     "data": {
      "image/png": "[encoded data removed]",
      "text/plain": [
       "<Figure size 1152x216 with 1 Axes>"
      ]
     },
     "metadata": {
      "needs_background": "light"
     },
     "output_type": "display_data"
    }
   ],
   "source": [
    "train_set[:500].plot(figsize=(16,3))"
   ]
  },
  {
   "cell_type": "markdown",
   "metadata": {},
   "source": [
    "## Data cleaning and transformation\n",
    "\n",
    "Before we can start buinding a model, we need to ensure the data is **stationary**. We will use the Augmented Dickey-Fuller (ADF) test and the KPSS (Kwiatkowski-Phillips-Schmidt-Shin) tests to test the series for stationarity."
   ]
  },
  {
   "cell_type": "markdown",
   "metadata": {
    "ExecuteTime": {
     "end_time": "2020-12-19T17:36:06.999830Z",
     "start_time": "2020-12-19T17:36:06.985813Z"
    }
   },
   "source": [
    "<font size=\"5\">**Augmented Dickey-Fuller**</font>\n",
    "\n",
    "ADF test is used to determine the presence of unit root in the series, and hence helps in understand if the series is stationary or not. \n",
    "\n",
    "Tests whether a time series has a unit root, e.g. has a trend or more generally is autoregressive.\n",
    "\n",
    "**Assumptions**\n",
    "\n",
    "Observations in are temporally ordered.\n",
    "\n",
    "**Interpretation**\n",
    "\n",
    "* H0: a unit root is present (series is non-stationary).\n",
    "* H1: a unit root is not present (series is stationary).\n",
    "\n",
    "\n",
    "\n",
    "<font size=\"5\">**Kwiatkowski-Phillips-Schmidt-Shin**</font> (KPSS) test\n",
    "\n",
    "The null and alternate hypothesis for the KPSS test are opposite that of the ADF test.\n",
    "\n",
    "**Assumptions**\n",
    "\n",
    "Observations in are temporally ordered.\n",
    "\n",
    "**Interpretation**\n",
    "\n",
    "* H0: the time series is not trend-stationary.\n",
    "* H1: the time series is trend-stationary.\n",
    "\n",
    "\n",
    "\n",
    "\n",
    "Missing values are not handled.\n",
    "\n",
    "\n",
    "[statsmodels.org/stationarity_detrending_adf_kpss](https://www.statsmodels.org/stable/examples/notebooks/generated/stationarity_detrending_adf_kpss.html)"
   ]
  },
  {
   "cell_type": "code",
   "execution_count": 10,
   "metadata": {
    "ExecuteTime": {
     "end_time": "2020-12-20T08:14:21.253530Z",
     "start_time": "2020-12-20T08:14:21.156813Z"
    }
   },
   "outputs": [
    {
     "name": "stdout",
     "output_type": "stream",
     "text": [
      "ADF, p-value: 5.622377150770526e-24\n"
     ]
    }
   ],
   "source": [
    "from statsmodels.tsa.stattools import adfuller, kpss\n",
    "\n",
    "adf_pval = adfuller(train_set['Count'], maxlag=10, regression='nc')[1]\n",
    "print(\"ADF, p-value:\", adf_pval)"
   ]
  },
  {
   "cell_type": "code",
   "execution_count": 11,
   "metadata": {
    "ExecuteTime": {
     "end_time": "2020-12-20T08:14:21.286388Z",
     "start_time": "2020-12-20T08:14:21.260336Z"
    }
   },
   "outputs": [
    {
     "name": "stdout",
     "output_type": "stream",
     "text": [
      "KPSS, p-value: 0.01\n"
     ]
    }
   ],
   "source": [
    "kpss_stat, kpss_pval, lags, crit_vals = kpss(train_set['Count'])\n",
    "print(\"KPSS, p-value:\", round(kpss_pval,2))"
   ]
  },
  {
   "cell_type": "markdown",
   "metadata": {
    "ExecuteTime": {
     "end_time": "2020-12-18T18:35:59.424151Z",
     "start_time": "2020-12-18T18:35:59.416226Z"
    }
   },
   "source": [
    "**InterpolationWarning**\n",
    "\n",
    "InterpolationWarning is issued when the test statistic is outside of the range of p-values available in the\n",
    "look-up table. The actual p-value is {direction} than the p-value returned. Not present for ADF.\n",
    "\n",
    "    if p_value == pvals[-1]:\n",
    "        warnings.warn(\n",
    "            warn_msg.format(direction=\"smaller\"), InterpolationWarning\n",
    "        )\n",
    "    elif p_value == pvals[0]:\n",
    "        warnings.warn(\n",
    "            warn_msg.format(direction=\"greater\"), InterpolationWarning\n",
    "        )\n",
    "\n",
    "\n",
    "[Source code](https://www.statsmodels.org/dev/_modules/statsmodels/tsa/stattools.html)\n",
    "\n",
    "\n"
   ]
  },
  {
   "cell_type": "markdown",
   "metadata": {},
   "source": [
    "### Function Trending"
   ]
  },
  {
   "cell_type": "markdown",
   "metadata": {},
   "source": [
    "Function Trending takes as arguments adf_pval and kpss_stat values."
   ]
  },
  {
   "cell_type": "code",
   "execution_count": 12,
   "metadata": {
    "ExecuteTime": {
     "end_time": "2020-12-20T08:14:21.299638Z",
     "start_time": "2020-12-20T08:14:21.291025Z"
    }
   },
   "outputs": [],
   "source": [
    "def Trending(adf_pval, kpss_stat):\n",
    "    if adf_pval>0.05 and kpss_pval < 0.05:\n",
    "        return \"non-Stationary\"\n",
    "    elif adf_pval<0.05 and kpss_pval > 0.05:\n",
    "        return \"Stationary\"\n",
    "    elif adf_pval>0.05 and kpss_pval > 0.05:\n",
    "        return \"3: ADF : non-Stationary, KPSS : Stationary\"\n",
    "    elif adf_pval<0.05 and kpss_pval < 0.05:\n",
    "        return \"ADF : Stationary, KPSS : non-Stationary\""
   ]
  },
  {
   "cell_type": "code",
   "execution_count": 13,
   "metadata": {
    "ExecuteTime": {
     "end_time": "2020-12-20T08:14:21.347984Z",
     "start_time": "2020-12-20T08:14:21.303994Z"
    }
   },
   "outputs": [
    {
     "data": {
      "text/plain": [
       "'ADF : Stationary, KPSS : non-Stationary'"
      ]
     },
     "execution_count": 13,
     "metadata": {},
     "output_type": "execute_result"
    }
   ],
   "source": [
    "Trending(adf_pval,kpss_pval )"
   ]
  },
  {
   "cell_type": "markdown",
   "metadata": {},
   "source": [
    "The series is not stationary in the levels (i.e., in the original form), according to the KPSS test, but it is stationary according to the ADF test. So it would be safer to assume that the series is not stationary. Let us difference it."
   ]
  },
  {
   "cell_type": "code",
   "execution_count": 14,
   "metadata": {
    "ExecuteTime": {
     "end_time": "2020-12-20T08:14:21.526816Z",
     "start_time": "2020-12-20T08:14:21.352035Z"
    }
   },
   "outputs": [
    {
     "data": {
      "text/plain": [
       "'Stationary'"
      ]
     },
     "execution_count": 14,
     "metadata": {},
     "output_type": "execute_result"
    }
   ],
   "source": [
    "train_diff = train_set['Count'].diff().dropna()\n",
    "\n",
    "adf_pval = adfuller(train_diff, maxlag=10, regression=\"nc\")[1]\n",
    "kpss_stat, kpss_pval, lags, crit_vals = kpss(train_diff)\n",
    "Trending(adf_pval, kpss_pval)"
   ]
  },
  {
   "cell_type": "markdown",
   "metadata": {},
   "source": [
    "The series has become stationary after the first differencing, so we'll use a differenced training set for building a model and we'll also difference the test data in order to be able to evaluate the model."
   ]
  },
  {
   "cell_type": "code",
   "execution_count": 15,
   "metadata": {
    "ExecuteTime": {
     "end_time": "2020-12-20T08:14:21.544121Z",
     "start_time": "2020-12-20T08:14:21.531188Z"
    }
   },
   "outputs": [],
   "source": [
    "test_diff = test_set['Count'].diff().dropna()"
   ]
  },
  {
   "cell_type": "markdown",
   "metadata": {},
   "source": [
    "## Build models\n",
    "\n",
    "### Baseline\n",
    "\n",
    "The persistence baseline is generating the previous hours accidents as the prediction for next hour. \n",
    "\n",
    "Baseline is <font size=\"4\" style = \"color:red\">**10.6**</font> accidents per hour.  \n",
    "\n",
    "If baseline would be derived as average accidents in the test data set, base line would be 14.5."
   ]
  },
  {
   "cell_type": "code",
   "execution_count": 16,
   "metadata": {
    "ExecuteTime": {
     "end_time": "2020-12-20T08:14:21.583623Z",
     "start_time": "2020-12-20T08:14:21.554986Z"
    }
   },
   "outputs": [
    {
     "data": {
      "text/plain": [
       "10.566832886189484"
      ]
     },
     "execution_count": 16,
     "metadata": {},
     "output_type": "execute_result"
    }
   ],
   "source": [
    "baseline_predictions = test_diff.shift()[1:]\n",
    "\n",
    "mse = mean_squared_error(test_diff[1:], baseline_predictions)\n",
    "\n",
    "baseline_rmse = np.sqrt(mse)\n",
    "baseline_rmse"
   ]
  },
  {
   "cell_type": "code",
   "execution_count": 17,
   "metadata": {
    "ExecuteTime": {
     "end_time": "2020-12-20T08:14:21.599387Z",
     "start_time": "2020-12-20T08:14:21.587945Z"
    }
   },
   "outputs": [
    {
     "data": {
      "text/plain": [
       "14.531990521327014"
      ]
     },
     "execution_count": 17,
     "metadata": {},
     "output_type": "execute_result"
    }
   ],
   "source": [
    "test_set['Count'].mean()"
   ]
  },
  {
   "cell_type": "markdown",
   "metadata": {},
   "source": [
    "### Extra transformation steps\n",
    "\n",
    "We need to do some transformation steps required to be able to input the data into the scikit-learn's implementation of the ML algorithms."
   ]
  },
  {
   "cell_type": "code",
   "execution_count": 18,
   "metadata": {
    "ExecuteTime": {
     "end_time": "2020-12-20T08:14:21.615098Z",
     "start_time": "2020-12-20T08:14:21.604654Z"
    }
   },
   "outputs": [],
   "source": [
    "def create_ar_vars(ts, lags=2):\n",
    "    \"\"\"Create autoregressive X variables\n",
    "    \"\"\"\n",
    "    dataX, dataY = [], []\n",
    "    for i in range(len(ts)-lags):\n",
    "        dataX.append(ts[i:i + lags, 0])\n",
    "        dataY.append(ts[i + lags, 0])\n",
    "    return np.array(dataX), np.array(dataY)"
   ]
  },
  {
   "cell_type": "markdown",
   "metadata": {},
   "source": [
    "We first create separate arrays for the predictors and the target, for both the training and test data. We'll use 3 lags to create autoregressive variables."
   ]
  },
  {
   "cell_type": "markdown",
   "metadata": {},
   "source": [
    "**An autoregression model makes an assumption that the observations at previous time steps are useful to predict the value at the next time step.\n",
    "The stronger the correlation between the output variable and a specific lagged variable, the more weight that autoregression model can put on that variable when modeling./\n",
    "Again, because the correlation is calculated between the variable and itself at previous time steps, it is called an autocorrelation. It is also called serial correlation because of the sequenced structure of time series data.**"
   ]
  },
  {
   "cell_type": "code",
   "execution_count": null,
   "metadata": {
    "ExecuteTime": {
     "end_time": "2020-12-20T08:14:21.656659Z",
     "start_time": "2020-12-20T08:14:04.748Z"
    }
   },
   "outputs": [],
   "source": [
    "Xtrain, ytrain = create_ar_vars(train_diff.values.reshape(-1, 1), lags=3)\n",
    "Xtest, ytest = create_ar_vars(test_diff.values.reshape(-1, 1), lags=3)"
   ]
  },
  {
   "cell_type": "markdown",
   "metadata": {},
   "source": [
    "Both predictor arrays need to be scaled (but the target variable should not be transformed)."
   ]
  },
  {
   "cell_type": "code",
   "execution_count": null,
   "metadata": {
    "ExecuteTime": {
     "end_time": "2020-12-20T08:14:21.664450Z",
     "start_time": "2020-12-20T08:14:04.752Z"
    }
   },
   "outputs": [],
   "source": [
    "from sklearn.preprocessing import StandardScaler\n",
    "\n",
    "scaler = StandardScaler()\n",
    "Xtrain = scaler.fit_transform(Xtrain)\n",
    "Xtest = scaler.transform(Xtest)"
   ]
  },
  {
   "cell_type": "markdown",
   "metadata": {},
   "source": [
    "Then we can use a grid search to find the most optimal hyperparameters settings.\n",
    "\n",
    "### Decision Tree regression"
   ]
  },
  {
   "cell_type": "markdown",
   "metadata": {},
   "source": [
    "`max_depth` : \n",
    "    The maximum depth of the tree. If None, then nodes are expanded until\n",
    "    all leaves are pure or until all leaves contain less than\n",
    "    min_samples_split samples.\n",
    "\n",
    "`min_samples_split` : \n",
    "    The minimum number of samples required to split an internal node"
   ]
  },
  {
   "cell_type": "markdown",
   "metadata": {
    "ExecuteTime": {
     "end_time": "2020-12-19T18:54:03.531779Z",
     "start_time": "2020-12-19T18:54:03.524652Z"
    }
   },
   "source": [
    "After fitting initial param_grid\n",
    "\n",
    "param_grid = [\n",
    "    {'max_depth': [2, 4, 6, 8],\n",
    "    'min_samples_split': [2, 4, 6, 8]}\n",
    "]\n",
    "\n",
    "the best performing values were 8, therefore 9, 10, 11 is added and 2 & 4 is removed from param_grid.\n",
    "\n",
    "The best performing values are 'max_depth': 8, 'min_samples_split': 10"
   ]
  },
  {
   "cell_type": "code",
   "execution_count": null,
   "metadata": {
    "ExecuteTime": {
     "end_time": "2020-12-20T08:14:21.667482Z",
     "start_time": "2020-12-20T08:14:04.757Z"
    }
   },
   "outputs": [],
   "source": [
    "dtree = DecisionTreeRegressor(random_state=7)\n",
    "param_grid = [\n",
    "    {'max_depth': [6, 8, 10],\n",
    "    'min_samples_split': [6, 8, 10, 11, 9]}\n",
    "]\n",
    "\n",
    "tscv = TimeSeriesSplit(n_splits=5)\n",
    "dtree_grid_search = GridSearchCV(estimator=dtree, cv=tscv,\n",
    "                        param_grid=param_grid,\n",
    "                        scoring='neg_mean_squared_error', \n",
    "                        return_train_score=True)\n",
    "\n",
    "start = time.time()\n",
    "dtree_grid_search.fit(Xtrain, ytrain)"
   ]
  },
  {
   "cell_type": "code",
   "execution_count": null,
   "metadata": {
    "ExecuteTime": {
     "end_time": "2020-12-20T08:14:21.686322Z",
     "start_time": "2020-12-20T08:14:04.761Z"
    }
   },
   "outputs": [],
   "source": [
    "val_scores = dtree_grid_search.cv_results_[\"mean_test_score\"]\n",
    "train_scores = dtree_grid_search.cv_results_[\"mean_train_score\"]\n",
    "params = [str(x) for x in dtree_grid_search.cv_results_[\"params\"]]\n",
    "\n",
    "for val_score, train_score, param in sorted(zip(val_scores, train_scores, params), reverse=True):\n",
    "    print(f\"{np.sqrt(-val_score):.3f}, {np.sqrt(-train_score):.3f}, {np.sqrt(-val_score)/np.sqrt(-train_score):.3f}\", param)"
   ]
  },
  {
   "cell_type": "markdown",
   "metadata": {},
   "source": [
    "### Random Forest regression\n",
    "\n",
    "We'll fine-tune `n_estimators` (the number of decision trees used in the random forest) as well as `min_samples_split` and `max_depth` (hyperparameters of specific trees)."
   ]
  },
  {
   "cell_type": "markdown",
   "metadata": {},
   "source": [
    "Initial param_grid\n",
    "param_grid = [\n",
    "    {'n_estimators': [2, 4, 6, 8, 10], \n",
    "     'max_depth': [2, 4, 6, 8],\n",
    "     'min_samples_split': [ 2, 4, 6, 8]\n",
    "    },\n",
    "]\n",
    "\n",
    "best performing `'max_depth': 8, 'min_samples_split': 4, 'n_estimators': 10`\n",
    "\n",
    "after tuning `'max_depth': 8, 'min_samples_split': 10, 'n_estimators': 50`"
   ]
  },
  {
   "cell_type": "code",
   "execution_count": null,
   "metadata": {
    "ExecuteTime": {
     "end_time": "2020-12-20T08:14:21.689548Z",
     "start_time": "2020-12-20T08:14:04.766Z"
    }
   },
   "outputs": [],
   "source": [
    "rf = RandomForestRegressor(random_state=7)\n",
    "param_grid = [\n",
    "    {'n_estimators': [20, 30, 40, 50, 60, 55], \n",
    "     'max_depth': [8],\n",
    "     'min_samples_split': [8, 10]\n",
    "    },\n",
    "]\n",
    "\n",
    "tscv = TimeSeriesSplit(n_splits=5)\n",
    "rf_grid_search = GridSearchCV(estimator=rf, cv=tscv,\n",
    "                        param_grid=param_grid,\n",
    "                        scoring='neg_mean_squared_error', \n",
    "                        return_train_score=True)\n",
    "\n",
    "start = time.time()\n",
    "rf_grid_search.fit(Xtrain, ytrain)"
   ]
  },
  {
   "cell_type": "markdown",
   "metadata": {},
   "source": [
    "Let's print the accuracy scores for every model evaluated during the grid search."
   ]
  },
  {
   "cell_type": "code",
   "execution_count": null,
   "metadata": {
    "ExecuteTime": {
     "end_time": "2020-12-20T08:14:21.692468Z",
     "start_time": "2020-12-20T08:14:04.770Z"
    }
   },
   "outputs": [],
   "source": [
    "val_scores = rf_grid_search.cv_results_[\"mean_test_score\"]\n",
    "train_scores = rf_grid_search.cv_results_[\"mean_train_score\"]\n",
    "params = [str(x) for x in rf_grid_search.cv_results_[\"params\"]]\n",
    "   \n",
    "for val_score, train_score, param in sorted(zip(val_scores, train_scores, params), reverse=True):\n",
    "    print(f\"{np.sqrt(-val_score):.3f}, {np.sqrt(-train_score):.3f}, {np.sqrt(-val_score)/np.sqrt(-train_score):.3f}\", param)"
   ]
  },
  {
   "cell_type": "markdown",
   "metadata": {},
   "source": [
    "The best models with both DT and RF methods do not seem to overfit too much, and their cross-validation RMSEs are quite above the baseline."
   ]
  },
  {
   "cell_type": "markdown",
   "metadata": {},
   "source": [
    "## Evaluate the best DT and RF models on the test data\n",
    "\n",
    "**Decision tree**"
   ]
  },
  {
   "cell_type": "code",
   "execution_count": null,
   "metadata": {
    "ExecuteTime": {
     "end_time": "2020-12-20T08:14:21.695547Z",
     "start_time": "2020-12-20T08:14:04.775Z"
    }
   },
   "outputs": [],
   "source": [
    "best_model = dtree_grid_search.best_estimator_\n",
    "\n",
    "yhat = best_model.predict(Xtest)\n",
    "\n",
    "dtree_mse = mean_squared_error(ytest, yhat)\n",
    "dtree_rmse = np.sqrt(dtree_mse)\n",
    "dtree_rmse"
   ]
  },
  {
   "cell_type": "markdown",
   "metadata": {
    "ExecuteTime": {
     "end_time": "2020-12-19T17:26:51.230043Z",
     "start_time": "2020-12-19T17:26:51.215901Z"
    }
   },
   "source": [
    "**Random forrest**"
   ]
  },
  {
   "cell_type": "code",
   "execution_count": null,
   "metadata": {
    "ExecuteTime": {
     "end_time": "2020-12-20T08:14:21.699943Z",
     "start_time": "2020-12-20T08:14:04.779Z"
    }
   },
   "outputs": [],
   "source": [
    "best_model = rf_grid_search.best_estimator_\n",
    "\n",
    "yhat = best_model.predict(Xtest)\n",
    "\n",
    "rf_mse = mean_squared_error(ytest, yhat)\n",
    "rf_rmse = np.sqrt(rf_mse)\n",
    "rf_rmse"
   ]
  },
  {
   "cell_type": "code",
   "execution_count": null,
   "metadata": {
    "ExecuteTime": {
     "end_time": "2020-12-20T08:14:21.703720Z",
     "start_time": "2020-12-20T08:14:04.783Z"
    }
   },
   "outputs": [],
   "source": [
    "100*(baseline_rmse - dtree_rmse)/baseline_rmse"
   ]
  },
  {
   "cell_type": "markdown",
   "metadata": {},
   "source": [
    "By how much did the RF model improve on the persistence baseline, percent-wise?"
   ]
  },
  {
   "cell_type": "code",
   "execution_count": null,
   "metadata": {
    "ExecuteTime": {
     "end_time": "2020-12-20T08:14:21.707037Z",
     "start_time": "2020-12-20T08:14:04.788Z"
    }
   },
   "outputs": [],
   "source": [
    "100*(baseline_rmse - rf_rmse)/baseline_rmse"
   ]
  },
  {
   "cell_type": "markdown",
   "metadata": {},
   "source": [
    "## Conclusion\n",
    "\n",
    "The Decision Tree regression model reduced the RMSE rate by 30%, while the RandomForest regression method by 31%, compared to the persistence baseline."
   ]
  },
  {
   "cell_type": "markdown",
   "metadata": {},
   "source": [
    "# Feature generation for regression"
   ]
  },
  {
   "cell_type": "markdown",
   "metadata": {},
   "source": [
    "Can the error be reduced by generation additional features and using regression instead of time series forecasting. "
   ]
  },
  {
   "cell_type": "markdown",
   "metadata": {},
   "source": [
    "##  Dr Strange "
   ]
  },
  {
   "cell_type": "markdown",
   "metadata": {},
   "source": [
    "## Distribution plots "
   ]
  },
  {
   "cell_type": "code",
   "execution_count": null,
   "metadata": {
    "ExecuteTime": {
     "end_time": "2020-12-20T08:14:21.710344Z",
     "start_time": "2020-12-20T08:14:04.794Z"
    }
   },
   "outputs": [],
   "source": [
    "for i in df.columns[2:]:\n",
    "    print(i)\n",
    "    plt.figure(figsize=(8, 5))\n",
    "    ax = df[i].value_counts().plot(kind=\"barh\")\n",
    "    ax.invert_yaxis()\n",
    "    plt.show()\n",
    "    print()"
   ]
  },
  {
   "cell_type": "markdown",
   "metadata": {},
   "source": [
    "### Function TimeSplit\n",
    "It takes datetime column and derives following new features:\n",
    "* Hour (0-23)\n",
    "* dayofweek (1-7)\n",
    "* quarter (1-4)\n",
    "* month(1-12)\n",
    "* dayofyear (1-365)\n",
    "* dayofmonth(1-31)\n",
    "* weekofyear(1-52)\n",
    "\n",
    "Extracting year does not serve any purpose as data set contains only 2018."
   ]
  },
  {
   "cell_type": "code",
   "execution_count": null,
   "metadata": {
    "ExecuteTime": {
     "end_time": "2020-12-20T08:14:21.713437Z",
     "start_time": "2020-12-20T08:14:04.799Z"
    }
   },
   "outputs": [],
   "source": [
    "def TimeSplit(df, label=None):\n",
    "    \"\"\"\n",
    "    Creates time series features from datetime index\n",
    "    \"\"\"\n",
    "    df['datetime'] = pd.to_datetime(df['datetime'], format=\"%d/%m/%Y %H:%M\" , errors='coerce')\n",
    "    df['Hour'] = df['datetime'].dt.hour\n",
    "    #df['Dayofweek'] = df['datetime'].dt.dayofweek+1\n",
    "    df['Quarter'] = df['datetime'].dt.quarter\n",
    "    df['Month'] = df['datetime'].dt.month\n",
    "    #df['year'] = df['Date'].dt.year\n",
    "    #df['dayofyear'] = df['datetime'].dt.dayofyear\n",
    "    df['Dayofmonth'] = df['datetime'].dt.day\n",
    "    df['Weekofyear'] = df['datetime'].dt.weekofyear\n",
    "    \n",
    "    \n",
    "    X = df[['Hour','Quarter','Month','Dayofmonth','Weekofyear'\n",
    "            #,'year','dayofyear','Dayofweek'\n",
    "            ]]\n",
    "    return X"
   ]
  },
  {
   "cell_type": "code",
   "execution_count": null,
   "metadata": {
    "ExecuteTime": {
     "end_time": "2020-12-20T08:14:21.716674Z",
     "start_time": "2020-12-20T08:14:04.804Z"
    }
   },
   "outputs": [],
   "source": [
    "TimeSplit(df)"
   ]
  },
  {
   "cell_type": "code",
   "execution_count": null,
   "metadata": {
    "ExecuteTime": {
     "end_time": "2020-12-20T08:14:21.720045Z",
     "start_time": "2020-12-20T08:14:04.809Z"
    }
   },
   "outputs": [],
   "source": [
    "df.sample(10)"
   ]
  },
  {
   "cell_type": "markdown",
   "metadata": {},
   "source": [
    "### Function TimeOfDay \n",
    "\n",
    "It takes hour derived with the previous function and splits in 5 categories:\n",
    "* morning rush (5-10)\n",
    "* office hours (10-15)\n",
    "* afternoon rush (15-19)\n",
    "* evening (19-23)\n",
    "* night (23-5)"
   ]
  },
  {
   "cell_type": "code",
   "execution_count": null,
   "metadata": {
    "ExecuteTime": {
     "end_time": "2020-12-20T08:14:21.723167Z",
     "start_time": "2020-12-20T08:14:04.813Z"
    }
   },
   "outputs": [],
   "source": [
    "def TimeOfDay(hour):\n",
    "    if hour >= 5 and hour < 10:\n",
    "        return \"Morning rush (5-10)\"\n",
    "    elif hour >= 10 and hour < 15:\n",
    "        return \"Office hours (10-15)\"\n",
    "    elif hour >= 15 and hour < 19:\n",
    "        return \"Afternoon rush (15-19)\"\n",
    "    elif hour >= 19 and hour < 23:\n",
    "        return \"Evening (19-23)\"\n",
    "    else:\n",
    "        return \"Night (23-5)\""
   ]
  },
  {
   "cell_type": "code",
   "execution_count": null,
   "metadata": {
    "ExecuteTime": {
     "end_time": "2020-12-20T08:14:21.726376Z",
     "start_time": "2020-12-20T08:14:04.817Z"
    }
   },
   "outputs": [],
   "source": [
    "df['Time_of_Day'] = df['Hour'].apply(TimeOfDay)"
   ]
  },
  {
   "cell_type": "markdown",
   "metadata": {},
   "source": [
    "Package holidays are imported and respective holidays for England in 2018 is appended to dataframe bank_holidays. \n",
    "United_Kingdom contains holidays for Scotland, Wales and Ireland, which are not Bank holidays across all United Kingdom. "
   ]
  },
  {
   "cell_type": "code",
   "execution_count": null,
   "metadata": {
    "ExecuteTime": {
     "end_time": "2020-12-20T08:14:21.730442Z",
     "start_time": "2020-12-20T08:14:04.821Z"
    }
   },
   "outputs": [],
   "source": [
    "import holidays \n",
    "uk_holidays = holidays.UnitedKingdom() \n",
    "bank_holidays = []\n",
    "\n",
    "for ptr in holidays.England(years = 2018).items(): \n",
    "    bank_holidays.append(str(ptr[0]))"
   ]
  },
  {
   "cell_type": "markdown",
   "metadata": {},
   "source": [
    "### Function Is_it_weekend \n",
    "Returning 1 if it is Sunday, Saturday or Bank Holiday in England. "
   ]
  },
  {
   "cell_type": "code",
   "execution_count": null,
   "metadata": {
    "ExecuteTime": {
     "end_time": "2020-12-20T08:14:21.741840Z",
     "start_time": "2020-12-20T08:14:04.825Z"
    }
   },
   "outputs": [],
   "source": [
    "def is_it_weekend(x):\n",
    "    m = x.normalize()\n",
    "    if m.dayofweek+1 == 6:\n",
    "        return 1\n",
    "    elif m.dayofweek+1 == 7:\n",
    "        return 1\n",
    "    elif str(m.date()) in bank_holidays:\n",
    "        return 1\n",
    "    else:\n",
    "        return 0"
   ]
  },
  {
   "cell_type": "code",
   "execution_count": null,
   "metadata": {
    "ExecuteTime": {
     "end_time": "2020-12-20T08:14:21.747048Z",
     "start_time": "2020-12-20T08:14:04.830Z"
    }
   },
   "outputs": [],
   "source": [
    "df['Is_weekend'] = df.datetime.apply(is_it_weekend)"
   ]
  },
  {
   "cell_type": "code",
   "execution_count": null,
   "metadata": {
    "ExecuteTime": {
     "end_time": "2020-12-20T08:14:21.749976Z",
     "start_time": "2020-12-20T08:14:04.834Z"
    }
   },
   "outputs": [],
   "source": [
    "#Function to change True/False to 1/0\n",
    "\n",
    "def Liking(x):\n",
    "    if str.lower(str(x)) == \"true\":\n",
    "        return 1\n",
    "    else:\n",
    "        return 0 "
   ]
  },
  {
   "cell_type": "code",
   "execution_count": null,
   "metadata": {
    "ExecuteTime": {
     "end_time": "2020-12-20T08:14:21.754819Z",
     "start_time": "2020-12-20T08:14:04.838Z"
    }
   },
   "outputs": [],
   "source": [
    "df.High_Winds = df.High_Winds.apply(Liking)"
   ]
  },
  {
   "cell_type": "code",
   "execution_count": null,
   "metadata": {
    "ExecuteTime": {
     "end_time": "2020-12-20T08:14:21.757635Z",
     "start_time": "2020-12-20T08:14:04.843Z"
    }
   },
   "outputs": [],
   "source": [
    "df.sample(5)"
   ]
  },
  {
   "cell_type": "markdown",
   "metadata": {},
   "source": [
    "Create a new feature \"Urban\" based on Urban_or_Rural_Area. Returns 1 if Urban and 0 if Rural. \n",
    "Deletes column Urban_or_Rural_Area.\n",
    "This is done so column name does not become extremely long and confusing. One hot encoding would create column named \"Urban_or_Rural_Area_Urban\". \n",
    "In case of using SHAP to explain machine learning model, approximately one third of variable name would be displayed, which in result would not aid in explaining black box of machine learning. "
   ]
  },
  {
   "cell_type": "code",
   "execution_count": null,
   "metadata": {
    "ExecuteTime": {
     "end_time": "2020-12-20T08:14:21.762506Z",
     "start_time": "2020-12-20T08:14:04.847Z"
    }
   },
   "outputs": [],
   "source": [
    "df['Urban']= np.where(df['Urban_or_Rural_Area'] == \"Urban\" , 1, 0)\n",
    "del df['Urban_or_Rural_Area']"
   ]
  },
  {
   "cell_type": "code",
   "execution_count": null,
   "metadata": {
    "ExecuteTime": {
     "end_time": "2020-12-20T08:14:21.765601Z",
     "start_time": "2020-12-20T08:14:04.852Z"
    }
   },
   "outputs": [],
   "source": [
    "df.describe()"
   ]
  },
  {
   "cell_type": "markdown",
   "metadata": {},
   "source": [
    "## Create  dummies "
   ]
  },
  {
   "cell_type": "code",
   "execution_count": null,
   "metadata": {
    "ExecuteTime": {
     "end_time": "2020-12-20T08:14:21.768924Z",
     "start_time": "2020-12-20T08:14:04.856Z"
    }
   },
   "outputs": [],
   "source": [
    "df.columns"
   ]
  },
  {
   "cell_type": "code",
   "execution_count": null,
   "metadata": {
    "ExecuteTime": {
     "end_time": "2020-12-20T08:14:21.772636Z",
     "start_time": "2020-12-20T08:14:04.860Z"
    }
   },
   "outputs": [],
   "source": [
    "df2 = pd.get_dummies(df, drop_first=True)"
   ]
  },
  {
   "cell_type": "code",
   "execution_count": null,
   "metadata": {
    "ExecuteTime": {
     "end_time": "2020-12-20T08:14:21.781581Z",
     "start_time": "2020-12-20T08:14:04.865Z"
    }
   },
   "outputs": [],
   "source": [
    "df2.sample(5).T"
   ]
  },
  {
   "cell_type": "code",
   "execution_count": null,
   "metadata": {
    "ExecuteTime": {
     "end_time": "2020-12-20T08:14:21.786048Z",
     "start_time": "2020-12-20T08:14:04.869Z"
    }
   },
   "outputs": [],
   "source": [
    "corr_matrix = df2.corr()\n",
    "corr_matrix['Count'].sort_values(ascending=False)"
   ]
  },
  {
   "cell_type": "markdown",
   "metadata": {},
   "source": [
    "# Linear regression"
   ]
  },
  {
   "cell_type": "code",
   "execution_count": null,
   "metadata": {
    "ExecuteTime": {
     "end_time": "2020-12-20T08:14:21.790426Z",
     "start_time": "2020-12-20T08:14:04.873Z"
    }
   },
   "outputs": [],
   "source": [
    "train_set, test_set = train_test_split(df2, test_size=0.1, random_state=7, shuffle=False)\n",
    "print(f\"{train_set.shape[0]} train and {test_set.shape[0]} test instances\")"
   ]
  },
  {
   "cell_type": "code",
   "execution_count": null,
   "metadata": {
    "ExecuteTime": {
     "end_time": "2020-12-20T08:14:21.798015Z",
     "start_time": "2020-12-20T08:14:04.877Z"
    }
   },
   "outputs": [],
   "source": [
    "Xtrain = train_set[['High_Winds', 'Hour', 'Quarter', 'Month',\n",
    "       'Dayofmonth', 'Weekofyear', 'Is_weekend', 'Urban', 'Day_of_Week_Monday',\n",
    "       'Day_of_Week_Saturday', 'Day_of_Week_Sunday', 'Day_of_Week_Thursday',\n",
    "       'Day_of_Week_Tuesday', 'Day_of_Week_Wednesday',\n",
    "       'Precipitation_Fog or mist', 'Precipitation_Raining',\n",
    "       'Precipitation_Snowing', 'Road_Surface_Conditions_Flood over 3cm. deep',\n",
    "       'Road_Surface_Conditions_Frost or ice', 'Road_Surface_Conditions_Snow',\n",
    "       'Road_Surface_Conditions_Wet or damp',\n",
    "       'Light_Conditions_Darkness - lights lit',\n",
    "       'Light_Conditions_Darkness - lights unlit',\n",
    "       'Light_Conditions_Darkness - no lighting', 'Light_Conditions_Daylight',\n",
    "       'Time_of_Day_Evening (19-23)', 'Time_of_Day_Morning rush (5-10)',\n",
    "       'Time_of_Day_Night (23-5)', 'Time_of_Day_Office hours (10-15)']]\n",
    "\n",
    "ytrain = train_set['Count']"
   ]
  },
  {
   "cell_type": "code",
   "execution_count": null,
   "metadata": {
    "ExecuteTime": {
     "end_time": "2020-12-20T08:14:21.802623Z",
     "start_time": "2020-12-20T08:14:04.881Z"
    }
   },
   "outputs": [],
   "source": [
    "from sklearn.linear_model import LinearRegression\n",
    "\n",
    "lin_reg = LinearRegression()\n",
    "\n",
    "lin_reg.fit(Xtrain, ytrain)"
   ]
  },
  {
   "cell_type": "code",
   "execution_count": null,
   "metadata": {
    "ExecuteTime": {
     "end_time": "2020-12-20T08:14:21.807204Z",
     "start_time": "2020-12-20T08:14:04.884Z"
    }
   },
   "outputs": [],
   "source": [
    "# make predictions\n",
    "yhat = lin_reg.predict(Xtrain)\n",
    "\n",
    "lin_mse = mean_squared_error(ytrain, yhat)\n",
    "\n",
    "# take square root\n",
    "lin_rmse = np.sqrt(lin_mse)\n",
    "\n",
    "lin_rmse"
   ]
  },
  {
   "cell_type": "code",
   "execution_count": null,
   "metadata": {
    "ExecuteTime": {
     "end_time": "2020-12-20T08:14:21.810730Z",
     "start_time": "2020-12-20T08:14:04.888Z"
    }
   },
   "outputs": [],
   "source": [
    "from sklearn.model_selection import cross_val_score\n",
    "\n",
    "lin_reg = LinearRegression()\n",
    "scores = cross_val_score(lin_reg, Xtrain, ytrain,\n",
    "                         scoring=\"neg_mean_squared_error\", cv=10)\n",
    "rmse_scores = np.sqrt(-scores)\n",
    "\n",
    "def display_scores(scores):\n",
    "    print(\"Scores:\", scores, scores < 7.2)\n",
    "    print(\"Mean:\", scores.mean())\n",
    "    print(\"Standard deviation:\", scores.std()) \n",
    "    \n",
    "display_scores(rmse_scores)"
   ]
  },
  {
   "cell_type": "markdown",
   "metadata": {},
   "source": [
    "It turns out that linear regression has a slightly lower average error rate than Decision Trees, and at the same time exhibits lower variance."
   ]
  },
  {
   "cell_type": "code",
   "execution_count": null,
   "metadata": {
    "ExecuteTime": {
     "end_time": "2020-12-20T08:14:21.817687Z",
     "start_time": "2020-12-20T08:14:04.893Z"
    }
   },
   "outputs": [],
   "source": [
    "from sklearn.tree import DecisionTreeRegressor\n",
    "\n",
    "tree_reg = DecisionTreeRegressor()\n",
    "tree_reg.fit(Xtrain, ytrain)\n",
    "yhat = tree_reg.predict(Xtrain)\n",
    "tree_mse = mean_squared_error(ytrain, yhat)\n",
    "tree_rmse = np.sqrt(tree_mse)\n",
    "tree_rmse"
   ]
  },
  {
   "cell_type": "markdown",
   "metadata": {},
   "source": [
    "# Decision Tree regression\n",
    "\n",
    "We'll fine-tune `min_samples_split` (the minimum number of instances required to be at a node before it gets split) and `max_depth` (the maximum depth of each tree)."
   ]
  },
  {
   "cell_type": "code",
   "execution_count": null,
   "metadata": {
    "ExecuteTime": {
     "end_time": "2020-12-20T08:14:21.824301Z",
     "start_time": "2020-12-20T08:14:04.897Z"
    }
   },
   "outputs": [],
   "source": [
    "dtree = DecisionTreeRegressor(random_state=7)\n",
    "param_grid = [\n",
    "    {'max_depth': [2, 5, 4, 6, 8],\n",
    "    'min_samples_split': [2, 4, 6, 8, 3, 10, 9, 11]}\n",
    "]\n",
    "\n",
    "tscv = TimeSeriesSplit(n_splits=5)\n",
    "dtree_grid_search = GridSearchCV(estimator=dtree, cv=tscv,\n",
    "                        param_grid=param_grid,\n",
    "                        scoring='neg_mean_squared_error', \n",
    "                        return_train_score=True)\n",
    "\n",
    "start = time.time()\n",
    "dtree_grid_search.fit(Xtrain, ytrain)"
   ]
  },
  {
   "cell_type": "code",
   "execution_count": null,
   "metadata": {
    "ExecuteTime": {
     "end_time": "2020-12-20T08:14:21.828655Z",
     "start_time": "2020-12-20T08:14:04.901Z"
    }
   },
   "outputs": [],
   "source": [
    "val_scores = dtree_grid_search.cv_results_[\"mean_test_score\"]\n",
    "train_scores = dtree_grid_search.cv_results_[\"mean_train_score\"]\n",
    "params = [str(x) for x in dtree_grid_search.cv_results_[\"params\"]]\n",
    "\n",
    "for val_score, train_score, param in sorted(zip(val_scores, train_scores, params), reverse=True):\n",
    "    print(f\"{np.sqrt(-val_score):.3f}, {np.sqrt(-train_score):.3f}, {np.sqrt(-val_score)/np.sqrt(-train_score):.3f}\", param)"
   ]
  },
  {
   "cell_type": "markdown",
   "metadata": {
    "ExecuteTime": {
     "end_time": "2020-12-19T12:42:40.041303Z",
     "start_time": "2020-12-19T12:42:40.036687Z"
    }
   },
   "source": [
    "# Random Forest regression"
   ]
  },
  {
   "cell_type": "code",
   "execution_count": null,
   "metadata": {
    "ExecuteTime": {
     "end_time": "2020-12-20T08:14:21.832596Z",
     "start_time": "2020-12-20T08:14:04.905Z"
    }
   },
   "outputs": [],
   "source": [
    "rf = RandomForestRegressor(random_state=7)\n",
    "param_grid = [\n",
    "    {'n_estimators': [2, 3, 5, 10, 15, 20, 30, 40, 50], \n",
    "     'max_depth': [2, 4, 6, 8],\n",
    "     'min_samples_split': [ 8, 10, 9, 11]\n",
    "    },\n",
    "]\n",
    "\n",
    "tscv = TimeSeriesSplit(n_splits=5)\n",
    "rf_grid_search = GridSearchCV(estimator=rf, cv=tscv,\n",
    "                        param_grid=param_grid,\n",
    "                        scoring='neg_mean_squared_error', \n",
    "                        return_train_score=True)\n",
    "\n",
    "start = time.time()\n",
    "rf_grid_search.fit(Xtrain, ytrain)"
   ]
  },
  {
   "cell_type": "markdown",
   "metadata": {},
   "source": [
    "Let's print the accuracy scores for every model evaluated during the grid search."
   ]
  },
  {
   "cell_type": "code",
   "execution_count": null,
   "metadata": {
    "ExecuteTime": {
     "end_time": "2020-12-20T08:14:21.838438Z",
     "start_time": "2020-12-20T08:14:04.909Z"
    }
   },
   "outputs": [],
   "source": [
    "val_scores = rf_grid_search.cv_results_[\"mean_test_score\"]\n",
    "train_scores = rf_grid_search.cv_results_[\"mean_train_score\"]\n",
    "params = [str(x) for x in rf_grid_search.cv_results_[\"params\"]]\n",
    "   \n",
    "for val_score, train_score, param in sorted(zip(val_scores, train_scores, params), reverse=True):\n",
    "    print(f\"{np.sqrt(-val_score):.3f}, {np.sqrt(-train_score):.3f}, {np.sqrt(-val_score)/np.sqrt(-train_score):.3f}\", param)"
   ]
  },
  {
   "cell_type": "markdown",
   "metadata": {},
   "source": [
    "# Random Forest\n",
    "\n",
    "Finally, let's evaluate a RandomForest regression algorithm. Random Forests work by training many Decision Trees on random subsets of the features, then averaging out their predictions.\n",
    "\n",
    "We specify that we want the algorithm to use 10 decision trees. We do that by passing `n_estimators=10` when we initialize the `RandomForestRegressor` class "
   ]
  },
  {
   "cell_type": "markdown",
   "metadata": {},
   "source": [
    "The algorithm produced a much lower RMSE score (47,820) than either Decision Trees or linear regression methods. It seems to be a particularly suitable algorithm to be explored further."
   ]
  },
  {
   "cell_type": "markdown",
   "metadata": {},
   "source": [
    "In the previous experiment, we used 10 decision trees in the Random Forest algorithm. This setting is called a hyperparameter of the algorithm, and needs to be set before a model is trained.\n",
    "\n",
    "We might experiment with several different settings of the hyperparameter to find its optimal settings. However, many algorithms have quite a few of such hyperparameters. Scikit-learn has a utility to automatically search for the best combination of hyperparameter values, implemented in the `GridSearchCV` class. \n",
    "\n",
    "### Exhaustive grid search\n",
    "\n",
    "`GridSearchCV` takes a set of hyperparameters and the search range for each hyperparameter, constructs a search grid with all possible hyperparameter combinations, and evaluates each combination using cross-validation. The output is the model with the best cross-validation accuracy.\n",
    "\n",
    "Let's take a look at an example. We will train a RandomForest regressor, searching for the best model in the grid created from two hyperparameters: `n_estimators` (the number of decision trees, trying values 3, 10 and 30) and `max_depth` (the maximum depth of each tree, trying values 4, 6, 8 and None - None being the maximum possible depth, the default value). So, the grid search will involve creating and evaluating 12 models using cross-validation."
   ]
  },
  {
   "cell_type": "code",
   "execution_count": null,
   "metadata": {
    "ExecuteTime": {
     "end_time": "2020-12-20T08:14:21.842660Z",
     "start_time": "2020-12-20T08:14:04.914Z"
    }
   },
   "outputs": [],
   "source": [
    "from sklearn.model_selection import GridSearchCV\n",
    "\n",
    "# specify the hyperparameters and their values\n",
    "param_grid = [\n",
    "    {'n_estimators': [3, 10, 30], 'max_depth': [4, 6, 8, None]},\n",
    "]\n",
    "\n",
    "forest_reg = RandomForestRegressor(random_state=7)\n",
    "\n",
    "# we'll use 10-fold cross-validation\n",
    "grid_search = GridSearchCV(forest_reg, param_grid, cv=10,\n",
    "                           scoring='neg_mean_squared_error', \n",
    "                           return_train_score=True)\n",
    "\n",
    "grid_search.fit(Xtrain, ytrain)"
   ]
  },
  {
   "cell_type": "markdown",
   "metadata": {},
   "source": [
    "Once grid search is complete we can obtain the best model and its accuracy score: they are attributes on the `GridSearchCV` class:"
   ]
  },
  {
   "cell_type": "code",
   "execution_count": null,
   "metadata": {
    "ExecuteTime": {
     "end_time": "2020-12-20T08:14:21.845986Z",
     "start_time": "2020-12-20T08:14:04.919Z"
    }
   },
   "outputs": [],
   "source": [
    "grid_search.best_estimator_"
   ]
  },
  {
   "cell_type": "markdown",
   "metadata": {},
   "source": [
    "The best model proved to be one with `n_estimator=30` and `max_depth=None`.\n",
    "\n",
    "Let's look up its RMSE."
   ]
  },
  {
   "cell_type": "code",
   "execution_count": null,
   "metadata": {
    "ExecuteTime": {
     "end_time": "2020-12-20T08:14:21.849200Z",
     "start_time": "2020-12-20T08:14:04.923Z"
    }
   },
   "outputs": [],
   "source": [
    "np.sqrt(-grid_search.best_score_)"
   ]
  },
  {
   "cell_type": "markdown",
   "metadata": {},
   "source": [
    "Thus by tuning hyperparameters, we were able to further reduce the error rate (from 47820 to 46209). \n",
    "\n",
    "You could have noticed that the largest value of `n_estimators` we tried (30) produced the best result. This suggests we should try even greater values - we could improve the error rate further.\n",
    "\n",
    "We can also access RMSE scores of each model trained during grid search. They are stored in the `cv_results_` attribute:"
   ]
  },
  {
   "cell_type": "markdown",
   "metadata": {},
   "source": [
    "The best-performing model showed a much lower RMSE on the training set (17985) than on the test set (46209). This indicates the model overfitted the training data. The overfitting could be reduced and the model further improved by introducing constraints on the learned trees (for example, enforcing a maximum depth of the learned trees)."
   ]
  },
  {
   "cell_type": "markdown",
   "metadata": {},
   "source": [
    "## 5.5 Analyze the most promising models\n",
    "\n",
    "We can examine what variables were the most important for the regression problem in the best-performing model. They are also stored as an attribute on the model object:"
   ]
  },
  {
   "cell_type": "code",
   "execution_count": null,
   "metadata": {
    "ExecuteTime": {
     "end_time": "2020-12-20T08:14:21.853210Z",
     "start_time": "2020-12-20T08:14:04.928Z"
    }
   },
   "outputs": [],
   "source": [
    "# put them into a separate variable for convenience\n",
    "feature_importances = grid_search.best_estimator_.feature_importances_\n",
    "\n",
    "# the order of the features in `feature_importances` is the same as in the Xtrain dataframe,\n",
    "# so we can \"zip\" the two and print in the descending order:\n",
    "\n",
    "for k, v in sorted(zip(feature_importances, Xtrain.columns), reverse=True):\n",
    "    print(f\"{v}: {k}\")"
   ]
  },
  {
   "cell_type": "markdown",
   "metadata": {},
   "source": [
    "We can notice that median income is by far the most useful variable for predicting the price of housing. Other useful features are the position of the district relative to the ocean, the average number of persons per household in a district.\n",
    "\n",
    "There are some features that are much less useful: \"NEAR OCEAN\", \"NEAR BAY\" and \"ISLAND\". We may consider removing them both from the training and test set.\n",
    "\n",
    "It often helps to also visualize the predictions made by the model. Let's refit the best model on the first 90% of the training set and generate predictions on the last 10%. There are 15736 training instances, so we will use 14162 for training and the rest for testing."
   ]
  },
  {
   "cell_type": "markdown",
   "metadata": {},
   "source": [
    "# Random Forest Regressor"
   ]
  },
  {
   "cell_type": "code",
   "execution_count": null,
   "metadata": {
    "ExecuteTime": {
     "end_time": "2020-12-20T08:14:21.860079Z",
     "start_time": "2020-12-20T08:14:04.933Z"
    }
   },
   "outputs": [],
   "source": [
    "from sklearn.model_selection import GridSearchCV\n",
    "\n",
    "from sklearn.ensemble import RandomForestRegressor\n",
    "\n",
    "# specify the hyperparameters and their values\n",
    "\n",
    "param_grid = [\n",
    "    {'n_estimators': [2, 3, 5, 10], \n",
    "     'max_depth': [2, 4, 6, 8, None],\n",
    "     'min_samples_split': [2, 4, 6, 8]\n",
    "    },\n",
    "]\n",
    "forest_reg = RandomForestRegressor(random_state=7)\n",
    "\n",
    "# we'll use 10-fold cross-validation\n",
    "rf_grid_search = GridSearchCV(forest_reg, param_grid, cv=10, \n",
    "                              scoring='neg_mean_squared_error',\n",
    "                              return_train_score=True)\n",
    "\n",
    "rf_grid_search.fit(Xtrain, ytrain)"
   ]
  },
  {
   "cell_type": "code",
   "execution_count": null,
   "metadata": {
    "ExecuteTime": {
     "end_time": "2020-12-20T08:14:21.864290Z",
     "start_time": "2020-12-20T08:14:04.937Z"
    }
   },
   "outputs": [],
   "source": [
    "# the best model\n",
    "\n",
    "rf_grid_search.best_estimator_"
   ]
  },
  {
   "cell_type": "code",
   "execution_count": null,
   "metadata": {
    "ExecuteTime": {
     "end_time": "2020-12-20T08:14:21.867690Z",
     "start_time": "2020-12-20T08:14:04.941Z"
    }
   },
   "outputs": [],
   "source": [
    "# the best model's RMSE\n",
    "\n",
    "np.sqrt(-rf_grid_search.best_score_)"
   ]
  },
  {
   "cell_type": "code",
   "execution_count": null,
   "metadata": {
    "ExecuteTime": {
     "end_time": "2020-12-20T08:14:21.871341Z",
     "start_time": "2020-12-20T08:14:04.945Z"
    }
   },
   "outputs": [],
   "source": [
    "# training and validation RMSE\n",
    "\n",
    "val_scores = rf_grid_search.cv_results_[\"mean_test_score\"]\n",
    "train_scores = rf_grid_search.cv_results_[\"mean_train_score\"]\n",
    "params = rf_grid_search.cv_results_[\"params\"]\n",
    "\n",
    "for val_score, train_score, param in zip(val_scores, train_scores, params):\n",
    "    print(np.sqrt(-val_score), np.sqrt(-train_score), param)"
   ]
  },
  {
   "cell_type": "markdown",
   "metadata": {},
   "source": [
    "**Comments**: The best model is achieved with n_estmators=200. Comparing the mean RMSE on the training set and the validation set, we notice that the latter is around three times lower than the former. This indicates the models overfit and we should constrain the learned trees in some way (e.g., introduce the maximum tree depth) to reduce it. This in turn may help to reduce the RMSE on the validation set."
   ]
  },
  {
   "cell_type": "markdown",
   "metadata": {},
   "source": [
    "Indeed, the predictions are spot on! But, these are predictions on training data. Decision trees are powerful models, capable of capturing complex patterns in the data, but at the same time they will **overfit**, unless they are contrained in some way (e.g. a maximum tree depth is set). To confirm this, we would need to see how the model fares on the test data, but this needs to be postponed till after we have selected the most promising models for the eventual evaluation on the test set.\n",
    "\n",
    "Another possibility is to evaluate the model using **cross-validation**.\n",
    "\n",
    "## 5.3 Cross-validation\n",
    "\n",
    "The idea behind cross-validation is the following: take the training set, split it into $k$ parts (e.g., $k$=10). Then train a model on the $k-1$ parts and evaluate the model on the $k$-th part. Repeat this $k$ times, each time recording the accuracy score. The final accuracy score is the mean of the accuracy scores of the $k$ models.\n",
    "\n",
    "In scikit-learn, this can be achieved as follows.\n",
    "\n",
    "### Decision trees"
   ]
  },
  {
   "cell_type": "code",
   "execution_count": null,
   "metadata": {
    "ExecuteTime": {
     "end_time": "2020-12-20T08:14:21.874587Z",
     "start_time": "2020-12-20T08:14:04.949Z"
    }
   },
   "outputs": [],
   "source": [
    "from sklearn.model_selection import cross_val_score\n",
    "\n",
    "tree_reg = DecisionTreeRegressor()\n",
    "\n",
    "# Scikit-Learn cross-validation features expect a utility function (greater is better) \n",
    "# rather than a cost function (lower is better), so the scoring function is actually \n",
    "# the opposite of the MSE\n",
    "scores = cross_val_score(tree_reg, Xtrain, ytrain, scoring=\"neg_mean_squared_error\", cv=10)\n",
    "\n",
    "rmse_scores = np.sqrt(-scores)\n",
    "\n",
    "def display_scores(scores):\n",
    "    print(\"Scores:\", scores)\n",
    "    print(\"Mean:\", scores.mean())\n",
    "    print(\"Standard deviation:\", scores.std())\n",
    "\n",
    "display_scores(rmse_scores)"
   ]
  },
  {
   "cell_type": "markdown",
   "metadata": {},
   "source": [
    "Thus, the Decision Tree algorithm produces models that have the RMSE of 64,811; the standard deviation being 2,166 (which gives an idea of the variance of the algorithm).\n",
    "\n",
    "So we can confirm that our original model, which was evaluated on the training set, overfitted the data."
   ]
  },
  {
   "cell_type": "markdown",
   "metadata": {
    "ExecuteTime": {
     "end_time": "2020-12-19T14:23:42.362408Z",
     "start_time": "2020-12-19T14:23:42.357148Z"
    }
   },
   "source": [
    "# Summary \n",
    "TL;DR"
   ]
  },
  {
   "cell_type": "markdown",
   "metadata": {},
   "source": [
    "- PLay with lags\n",
    "- Additional feature engineering\n",
    "- XGboost\n",
    "- Represent time as sin/cos\n"
   ]
  },
  {
   "cell_type": "code",
   "execution_count": null,
   "metadata": {},
   "outputs": [],
   "source": []
  }
 ],
 "metadata": {
  "kernelspec": {
   "display_name": "Python 3",
   "language": "python",
   "name": "python3"
  },
  "language_info": {
   "codemirror_mode": {
    "name": "ipython",
    "version": 3
   },
   "file_extension": ".py",
   "mimetype": "text/x-python",
   "name": "python",
   "nbconvert_exporter": "python",
   "pygments_lexer": "ipython3",
   "version": "3.7.4"
  },
  "toc": {
   "base_numbering": 1,
   "nav_menu": {},
   "number_sections": true,
   "sideBar": true,
   "skip_h1_title": false,
   "title_cell": "Table of Contents",
   "title_sidebar": "Contents",
   "toc_cell": false,
   "toc_position": {
    "height": "calc(100% - 180px)",
    "left": "10px",
    "top": "150px",
    "width": "304.796875px"
   },
   "toc_section_display": true,
   "toc_window_display": true
  }
 },
 "nbformat": 4,
 "nbformat_minor": 2
}
