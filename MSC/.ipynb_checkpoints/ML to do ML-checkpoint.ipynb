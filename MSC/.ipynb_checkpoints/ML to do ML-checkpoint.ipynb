{
 "cells": [
  {
   "cell_type": "markdown",
   "metadata": {
    "heading_collapsed": true
   },
   "source": [
    "# mechanicalsoup"
   ]
  },
  {
   "cell_type": "code",
   "execution_count": null,
   "metadata": {
    "ExecuteTime": {
     "end_time": "2021-04-20T09:06:34.332508Z",
     "start_time": "2021-04-20T09:06:23.396952Z"
    },
    "hidden": true
   },
   "outputs": [],
   "source": [
    "import requests\n",
    "from datetime import datetime\n",
    "from bs4 import BeautifulSoup\n",
    "import mechanicalsoup"
   ]
  },
  {
   "cell_type": "code",
   "execution_count": null,
   "metadata": {
    "ExecuteTime": {
     "end_time": "2021-04-20T09:06:34.344549Z",
     "start_time": "2021-04-20T09:06:34.337510Z"
    },
    "hidden": true
   },
   "outputs": [],
   "source": [
    "url = \"https://scholar.google.no/\""
   ]
  },
  {
   "cell_type": "code",
   "execution_count": null,
   "metadata": {
    "ExecuteTime": {
     "end_time": "2021-04-20T09:06:36.609003Z",
     "start_time": "2021-04-20T09:06:34.378447Z"
    },
    "hidden": true
   },
   "outputs": [],
   "source": [
    "browser = mechanicalsoup.StatefulBrowser()\n",
    "browser.open(url)"
   ]
  },
  {
   "cell_type": "code",
   "execution_count": null,
   "metadata": {
    "ExecuteTime": {
     "end_time": "2021-04-20T09:06:36.724507Z",
     "start_time": "2021-04-20T09:06:36.661702Z"
    },
    "hidden": true
   },
   "outputs": [],
   "source": [
    "browser.url"
   ]
  },
  {
   "cell_type": "code",
   "execution_count": null,
   "metadata": {
    "ExecuteTime": {
     "end_time": "2021-04-20T09:06:39.059598Z",
     "start_time": "2021-04-20T09:06:36.744394Z"
    },
    "hidden": true
   },
   "outputs": [],
   "source": [
    "browser.follow_link(\"form\")"
   ]
  },
  {
   "cell_type": "code",
   "execution_count": null,
   "metadata": {
    "ExecuteTime": {
     "end_time": "2021-04-20T09:06:39.679803Z",
     "start_time": "2021-04-20T09:06:39.063394Z"
    },
    "hidden": true
   },
   "outputs": [],
   "source": [
    "browser.page"
   ]
  },
  {
   "cell_type": "code",
   "execution_count": null,
   "metadata": {
    "ExecuteTime": {
     "end_time": "2021-04-20T09:06:39.700448Z",
     "start_time": "2021-04-20T09:06:39.684669Z"
    },
    "hidden": true
   },
   "outputs": [],
   "source": [
    "browser.select_form()"
   ]
  },
  {
   "cell_type": "code",
   "execution_count": null,
   "metadata": {
    "ExecuteTime": {
     "end_time": "2021-04-20T09:06:39.800607Z",
     "start_time": "2021-04-20T09:06:39.768731Z"
    },
    "hidden": true
   },
   "outputs": [],
   "source": [
    "browser.form.print_summary()"
   ]
  },
  {
   "cell_type": "code",
   "execution_count": null,
   "metadata": {
    "ExecuteTime": {
     "end_time": "2021-04-20T09:06:45.916895Z",
     "start_time": "2021-04-20T09:06:39.814102Z"
    },
    "hidden": true
   },
   "outputs": [],
   "source": [
    "browser.launch_browser()"
   ]
  },
  {
   "cell_type": "code",
   "execution_count": null,
   "metadata": {
    "ExecuteTime": {
     "end_time": "2021-04-20T09:06:46.627266Z",
     "start_time": "2021-04-20T09:06:45.925006Z"
    },
    "hidden": true
   },
   "outputs": [],
   "source": [
    "response = browser.submit_selected()"
   ]
  },
  {
   "cell_type": "code",
   "execution_count": null,
   "metadata": {
    "ExecuteTime": {
     "end_time": "2021-04-20T09:06:47.484874Z",
     "start_time": "2021-04-20T09:06:46.638239Z"
    },
    "hidden": true
   },
   "outputs": [],
   "source": [
    "browser.select_form('form[action=\"/scholar\"]')"
   ]
  },
  {
   "cell_type": "markdown",
   "metadata": {},
   "source": [
    "# Selenium"
   ]
  },
  {
   "cell_type": "code",
   "execution_count": 162,
   "metadata": {
    "ExecuteTime": {
     "end_time": "2021-04-22T14:27:36.464641Z",
     "start_time": "2021-04-22T14:27:36.458974Z"
    }
   },
   "outputs": [],
   "source": [
    "from bs4 import BeautifulSoup\n",
    "from selenium import webdriver\n",
    "import pandas as pd\n",
    "from selenium.webdriver.common.keys import Keys\n",
    "from selenium.webdriver.support import expected_conditions as EC\n",
    "from selenium.webdriver.common.by import By\n",
    "from selenium.webdriver.support.wait import WebDriverWait"
   ]
  },
  {
   "cell_type": "markdown",
   "metadata": {
    "ExecuteTime": {
     "end_time": "2021-04-20T14:19:21.355722Z",
     "start_time": "2021-04-20T14:19:21.342958Z"
    }
   },
   "source": [
    "https://stackoverflow.com/questions/66941486/web-scraping-google-scholar-via-selenium\n",
    "\n",
    "https://github.com/MariyaSha/WebscrapingInstagram/blob/main/ImageExtracting_bot.ipynb"
   ]
  },
  {
   "cell_type": "code",
   "execution_count": 163,
   "metadata": {
    "ExecuteTime": {
     "end_time": "2021-04-22T14:28:01.697285Z",
     "start_time": "2021-04-22T14:27:37.489296Z"
    }
   },
   "outputs": [],
   "source": [
    "chrome_path = r'/Users/Edite/Downloads/chromedriver'\n",
    "driver = webdriver.Chrome(executable_path=chrome_path)\n",
    "driver.get('https://scholar.google.com')\n",
    "#html = driver.page_source\n",
    "\n",
    "soup = BeautifulSoup(driver.page_source, 'lxml')\n",
    "\n",
    "#print(driver.page_source)"
   ]
  },
  {
   "cell_type": "code",
   "execution_count": 164,
   "metadata": {
    "ExecuteTime": {
     "end_time": "2021-04-22T14:28:01.705907Z",
     "start_time": "2021-04-22T14:28:01.700786Z"
    }
   },
   "outputs": [],
   "source": [
    "keyword = \"stock prediction review\""
   ]
  },
  {
   "cell_type": "code",
   "execution_count": 165,
   "metadata": {
    "ExecuteTime": {
     "end_time": "2021-04-22T14:28:05.490006Z",
     "start_time": "2021-04-22T14:28:01.724201Z"
    }
   },
   "outputs": [],
   "source": [
    "searchbox = WebDriverWait(driver, 10).until(EC.element_to_be_clickable((By.CSS_SELECTOR, \"input[name='q']\")))\n",
    "#enter username and password\n",
    "searchbox.clear()\n",
    "searchbox.send_keys(keyword)\n",
    "button = WebDriverWait(driver, 2).until(EC.element_to_be_clickable((By.CSS_SELECTOR, \"button[type='submit']\"))).click()"
   ]
  },
  {
   "cell_type": "code",
   "execution_count": 166,
   "metadata": {
    "ExecuteTime": {
     "end_time": "2021-04-22T14:28:05.592832Z",
     "start_time": "2021-04-22T14:28:05.493174Z"
    }
   },
   "outputs": [],
   "source": [
    "soup = BeautifulSoup(driver.page_source, 'lxml')"
   ]
  },
  {
   "cell_type": "code",
   "execution_count": null,
   "metadata": {
    "ExecuteTime": {
     "end_time": "2021-04-21T08:33:20.490008Z",
     "start_time": "2021-04-21T08:33:20.335806Z"
    }
   },
   "outputs": [],
   "source": [
    "driver.quit()"
   ]
  },
  {
   "cell_type": "code",
   "execution_count": 135,
   "metadata": {
    "ExecuteTime": {
     "end_time": "2021-04-22T12:36:20.697713Z",
     "start_time": "2021-04-22T12:36:20.633735Z"
    }
   },
   "outputs": [
    {
     "name": "stdout",
     "output_type": "stream",
     "text": [
      "1\n",
      "\n",
      "CS Vui, GK Soon, CK On, R Alfred… - 2013 IEEE international …, 2013 - ieeexplore.ieee.org\n",
      "Stock market is a promising financial investment that can generate great wealth. However, the volatile nature of the stock market makes it a very high risk investment. Thus, a lot of researchers have contributed their efforts to forecast the stock market pricing and average …\n",
      "https://ieeexplore.ieee.org/abstract/document/6720012/\n",
      "citations: 78\n",
      "\n",
      "2\n",
      "\n",
      "D Shah, H Isah, F Zulkernine - International Journal of Financial Studies, 2019 - mdpi.com\n",
      "Stock market prediction has always caught the attention of many analysts and researchers. Popular theories suggest that stock markets are essentially a random walk and it is a fool's game to try and predict them. Predicting stock prices is a challenging problem in itself …\n",
      "https://www.mdpi.com/469480\n",
      "https://scholar.googleusercontent.com/scholar?q=cache:nlb3GizK63IJ:scholar.google.com/+stock+prediction+review&hl=en&as_sdt=0,5\n",
      "citations: 70\n",
      "\n",
      "3\n",
      "[HTML]\n",
      "AK Nassirtoussi, S Aghabozorgi, TY Wah… - Expert Systems with …, 2014 - Elsevier\n",
      "… We review the related works that are about market prediction based on online-text-mining and\n",
      "produce a picture of the generic … Online sentiment analysis. Social media text mining. News\n",
      "sentiment analysis. FOREX market prediction. Stock prediction based on news … \n",
      "\n",
      "https://www.sciencedirect.com/science/article/pii/S0957417414003455?casa_token=KMsogJdjKWAAAAAA:1rrU5qGkgEpVFrC2jNFs_ZdEBXIifOCr6Uqp5pIxZWOXM4lHsUJYaHyVKEiC0utAuYwB3ktp\n",
      "citations: 509\n",
      "\n",
      "4\n",
      "\n",
      "M Adya, F Collopy - Journal of forecasting, 1998 - Wiley Online Library\n",
      "… J. forecast. 17, 481±495 (1998) 486 Monica Adya and Fred Collopy Page 7. the performance\n",
      "of regression models with NNs in the prediction of salinity in Chesapeake Bay … Kimoto et al. (1990)\n",
      "predicted the buying and selling time for stocks in the Tokyo Stock Exchange … \n",
      "\n",
      "https://onlinelibrary.wiley.com/doi/abs/10.1002/(SICI)1099-131X(1998090)17:5/6%3C481::AID-FOR709%3E3.0.CO;2-Q?casa_token=lgcdYlJwl3cAAAAA:3PJVzoAtl4sFPTjuaWU2EI66yoaxeMTYhi-YMUN0dGKRTP3VvV7bXpkgr37O3bpJgqr46zdNd0b2ww\n",
      "citations: 613\n",
      "\n",
      "5\n",
      "[PDF]\n",
      "N Pahwa, N Khalfay, V Soni, D Vora - International Journal of …, 2017 - researchgate.net\n",
      "Every day more than 5000 trade companies enlisted in Bombay stock Exchange (BSE) offer an average of 24, 00, 00,000+ stocks, making an approximate of 2000Cr+ Indian rupees in investments. Thus analyzing such a huge market will prove beneficial to all stakeholders of …\n",
      "https://www.researchgate.net/profile/Deepali_Vora/publication/316177357_Stock_Prediction_using_Machine_Learning_a_Review_Paper/links/5bf81301458515a69e363f16/Stock-Prediction-using-Machine-Learning-a-Review-Paper.pdf\n",
      "https://scholar.googleusercontent.com/scholar?q=cache:EPVP9B6ljMkJ:scholar.google.com/+stock+prediction+review&hl=en&as_sdt=0,5\n",
      "citations: 18\n",
      "\n",
      "6\n",
      "[PDF]\n",
      "H Lim, ZJ Zhai - Building Simulation, 2017 - Springer\n",
      "Increasing risks of energy security and greenhouse gas emission due to the growing urbanization trend have prompted the need for urban energy demand prediction and management, in which the building energy consumption is the main cause. This paper …\n",
      "https://link.springer.com/content/pdf/10.1007/s12273-017-0383-y.pdf\n",
      "citations: 53\n",
      "\n",
      "7\n",
      "[HTML]\n",
      "DP Gandhmal, K Kumar - Computer Science Review, 2019 - Elsevier\n",
      "Prediction of stock market trends is considered as an important task and is of great attention as predicting stock prices successfully may lead to attractive profits by making proper decisions. Stock market prediction is a major challenge owing to non-stationary, blaring, and …\n",
      "https://www.sciencedirect.com/science/article/pii/S157401371930084X?casa_token=tkOVt2UZ614AAAAA:1PhCRpl-4rP_g_zjI05X-tDF4lP2vNn-ShOyfm0uAniyvrMJcIf9nnx8Isf4l03HAN8nwfiY\n",
      "citations: 24\n",
      "\n",
      "8\n",
      "[PDF]\n",
      "O Ican, TB Celik - International Journal of Economics …, 2017 - pdfs.semanticscholar.org\n",
      "In this paper, previous studies featuring an artificial neural networks based prediction model have been reviewed. The main purpose of this review is to examine studies which use directional prediction accuracy (also known as hit ratio) or profitability of the model as a …\n",
      "https://pdfs.semanticscholar.org/a7b5/27bab4a0bf10dbe6c867c1ec77a3d5e74fc5.pdf\n",
      "https://scholar.googleusercontent.com/scholar?q=cache:LnFEx75oTzYJ:scholar.google.com/+stock+prediction+review&hl=en&as_sdt=0,5\n",
      "citations: 19\n",
      "\n",
      "9\n",
      "\n",
      "D Das, MS Uddin - International journal of artificial intelligence …, 2013 - search.proquest.com\n",
      "Prediction in any field is a complicated, challenging and daunting process. Employing traditional methods may not ensure the reliability of the prediction. In this paper, we are reviewing the possibility of applying two well-known techniques neural network and data …\n",
      "https://search.proquest.com/openview/d9d7c6deefa76f29f94a4a43d7e8e222/1.pdf?pq-origsite=gscholar&cbl=646378\n",
      "citations: 22\n",
      "\n",
      "10\n",
      "[PDF]\n",
      "JG Agrawal, V Chourasia, A Mittra - International Journal of Advanced …, 2013 - Citeseer\n",
      "… Before the computer age, people use to do trading in stocks and commodities based\n",
      "on their gut feelings … Additionally, a comprehensive review of significant developments\n",
      "in the field of Indian stock market prediction is presented … \n",
      "\n",
      "http://citeseerx.ist.psu.edu/viewdoc/download?doi=10.1.1.1049.2078&rep=rep1&type=pdf\n",
      "http://scholar.googleusercontent.com/scholar?q=cache:Nvbk8g8VHYwJ:scholar.google.com/+stock+prediction+review&hl=en&as_sdt=0,5\n",
      "citations: 70\n",
      "\n"
     ]
    }
   ],
   "source": [
    "counter = 1\n",
    "\n",
    "for article in soup.find_all(class_=\"gs_ri\"):\n",
    "    print(counter)\n",
    "   \n",
    "    #Can I get a PDF\n",
    "    try:\n",
    "        print(article.find(class_=\"gs_ct1\").text)\n",
    "    except Exception:\n",
    "        print(\"\")\n",
    "    \n",
    "    #Authors\n",
    "    print(article.find(class_=\"gs_a\").text)\n",
    "    \n",
    "    #Summary\n",
    "    print(article.find(class_=\"gs_rs\").text)\n",
    "    \n",
    "    #Href \n",
    "    for link in article.find_all('a', href=True):\n",
    "        if link['href'].startswith( 'http' ):\n",
    "            print(link['href'])\n",
    "            \n",
    "    for i in article.find_all(class_=\"gs_fl\"):\n",
    "        for j in (i.find_all(\"a\")):\n",
    "            if j['href'].startswith( '/scholar?cites' ):\n",
    "            \n",
    "                #print(j['href'])\n",
    "                print(\"citations:\", int(j.text[9:]))\n",
    "\n",
    "    counter += 1\n",
    "    print()"
   ]
  },
  {
   "cell_type": "code",
   "execution_count": 189,
   "metadata": {
    "ExecuteTime": {
     "end_time": "2021-04-22T15:08:14.776290Z",
     "start_time": "2021-04-22T15:08:14.711123Z"
    }
   },
   "outputs": [
    {
     "name": "stdout",
     "output_type": "stream",
     "text": [
      "[]\n"
     ]
    }
   ],
   "source": [
    "all_spans = driver.find_elements_by_xpath(\"a\")\n",
    "print(all_spans)\n",
    "for price in all_spans:\n",
    "    Header = driver.find_elements_by_xpath(\"gs_or_ggsm\")\n",
    "    for span in Header:\n",
    "        print(span.text)"
   ]
  },
  {
   "cell_type": "code",
   "execution_count": null,
   "metadata": {},
   "outputs": [],
   "source": [
    "//*[@id=\"gs_res_ccl_mid\"]/div[1]/div[1]/div/div/a/span"
   ]
  },
  {
   "cell_type": "code",
   "execution_count": 198,
   "metadata": {
    "ExecuteTime": {
     "end_time": "2021-04-22T15:10:45.772637Z",
     "start_time": "2021-04-22T15:10:45.733643Z"
    }
   },
   "outputs": [
    {
     "ename": "InvalidSelectorException",
     "evalue": "Message: invalid selector: An invalid or illegal selector was specified\n  (Session info: chrome=90.0.4430.85)\n",
     "output_type": "error",
     "traceback": [
      "\u001b[0;31m---------------------------------------------------------------------------\u001b[0m",
      "\u001b[0;31mInvalidSelectorException\u001b[0m                  Traceback (most recent call last)",
      "\u001b[0;32m<ipython-input-198-471ff1cae348>\u001b[0m in \u001b[0;36m<module>\u001b[0;34m\u001b[0m\n\u001b[0;32m----> 1\u001b[0;31m \u001b[0mdriver\u001b[0m\u001b[0;34m.\u001b[0m\u001b[0mfind_element\u001b[0m\u001b[0;34m(\u001b[0m\u001b[0mBy\u001b[0m\u001b[0;34m.\u001b[0m\u001b[0mID\u001b[0m\u001b[0;34m,\u001b[0m \u001b[0;34m'//*[@id=\"gs_res_ccl_mid\"]/div[1]/div[1]/div/div/a/span'\u001b[0m\u001b[0;34m)\u001b[0m\u001b[0;34m\u001b[0m\u001b[0;34m\u001b[0m\u001b[0m\n\u001b[0m",
      "\u001b[0;32m~/opt/anaconda3/lib/python3.7/site-packages/selenium/webdriver/remote/webdriver.py\u001b[0m in \u001b[0;36mfind_element\u001b[0;34m(self, by, value)\u001b[0m\n\u001b[1;32m    976\u001b[0m         return self.execute(Command.FIND_ELEMENT, {\n\u001b[1;32m    977\u001b[0m             \u001b[0;34m'using'\u001b[0m\u001b[0;34m:\u001b[0m \u001b[0mby\u001b[0m\u001b[0;34m,\u001b[0m\u001b[0;34m\u001b[0m\u001b[0;34m\u001b[0m\u001b[0m\n\u001b[0;32m--> 978\u001b[0;31m             'value': value})['value']\n\u001b[0m\u001b[1;32m    979\u001b[0m \u001b[0;34m\u001b[0m\u001b[0m\n\u001b[1;32m    980\u001b[0m     \u001b[0;32mdef\u001b[0m \u001b[0mfind_elements\u001b[0m\u001b[0;34m(\u001b[0m\u001b[0mself\u001b[0m\u001b[0;34m,\u001b[0m \u001b[0mby\u001b[0m\u001b[0;34m=\u001b[0m\u001b[0mBy\u001b[0m\u001b[0;34m.\u001b[0m\u001b[0mID\u001b[0m\u001b[0;34m,\u001b[0m \u001b[0mvalue\u001b[0m\u001b[0;34m=\u001b[0m\u001b[0;32mNone\u001b[0m\u001b[0;34m)\u001b[0m\u001b[0;34m:\u001b[0m\u001b[0;34m\u001b[0m\u001b[0;34m\u001b[0m\u001b[0m\n",
      "\u001b[0;32m~/opt/anaconda3/lib/python3.7/site-packages/selenium/webdriver/remote/webdriver.py\u001b[0m in \u001b[0;36mexecute\u001b[0;34m(self, driver_command, params)\u001b[0m\n\u001b[1;32m    319\u001b[0m         \u001b[0mresponse\u001b[0m \u001b[0;34m=\u001b[0m \u001b[0mself\u001b[0m\u001b[0;34m.\u001b[0m\u001b[0mcommand_executor\u001b[0m\u001b[0;34m.\u001b[0m\u001b[0mexecute\u001b[0m\u001b[0;34m(\u001b[0m\u001b[0mdriver_command\u001b[0m\u001b[0;34m,\u001b[0m \u001b[0mparams\u001b[0m\u001b[0;34m)\u001b[0m\u001b[0;34m\u001b[0m\u001b[0;34m\u001b[0m\u001b[0m\n\u001b[1;32m    320\u001b[0m         \u001b[0;32mif\u001b[0m \u001b[0mresponse\u001b[0m\u001b[0;34m:\u001b[0m\u001b[0;34m\u001b[0m\u001b[0;34m\u001b[0m\u001b[0m\n\u001b[0;32m--> 321\u001b[0;31m             \u001b[0mself\u001b[0m\u001b[0;34m.\u001b[0m\u001b[0merror_handler\u001b[0m\u001b[0;34m.\u001b[0m\u001b[0mcheck_response\u001b[0m\u001b[0;34m(\u001b[0m\u001b[0mresponse\u001b[0m\u001b[0;34m)\u001b[0m\u001b[0;34m\u001b[0m\u001b[0;34m\u001b[0m\u001b[0m\n\u001b[0m\u001b[1;32m    322\u001b[0m             response['value'] = self._unwrap_value(\n\u001b[1;32m    323\u001b[0m                 response.get('value', None))\n",
      "\u001b[0;32m~/opt/anaconda3/lib/python3.7/site-packages/selenium/webdriver/remote/errorhandler.py\u001b[0m in \u001b[0;36mcheck_response\u001b[0;34m(self, response)\u001b[0m\n\u001b[1;32m    240\u001b[0m                 \u001b[0malert_text\u001b[0m \u001b[0;34m=\u001b[0m \u001b[0mvalue\u001b[0m\u001b[0;34m[\u001b[0m\u001b[0;34m'alert'\u001b[0m\u001b[0;34m]\u001b[0m\u001b[0;34m.\u001b[0m\u001b[0mget\u001b[0m\u001b[0;34m(\u001b[0m\u001b[0;34m'text'\u001b[0m\u001b[0;34m)\u001b[0m\u001b[0;34m\u001b[0m\u001b[0;34m\u001b[0m\u001b[0m\n\u001b[1;32m    241\u001b[0m             \u001b[0;32mraise\u001b[0m \u001b[0mexception_class\u001b[0m\u001b[0;34m(\u001b[0m\u001b[0mmessage\u001b[0m\u001b[0;34m,\u001b[0m \u001b[0mscreen\u001b[0m\u001b[0;34m,\u001b[0m \u001b[0mstacktrace\u001b[0m\u001b[0;34m,\u001b[0m \u001b[0malert_text\u001b[0m\u001b[0;34m)\u001b[0m\u001b[0;34m\u001b[0m\u001b[0;34m\u001b[0m\u001b[0m\n\u001b[0;32m--> 242\u001b[0;31m         \u001b[0;32mraise\u001b[0m \u001b[0mexception_class\u001b[0m\u001b[0;34m(\u001b[0m\u001b[0mmessage\u001b[0m\u001b[0;34m,\u001b[0m \u001b[0mscreen\u001b[0m\u001b[0;34m,\u001b[0m \u001b[0mstacktrace\u001b[0m\u001b[0;34m)\u001b[0m\u001b[0;34m\u001b[0m\u001b[0;34m\u001b[0m\u001b[0m\n\u001b[0m\u001b[1;32m    243\u001b[0m \u001b[0;34m\u001b[0m\u001b[0m\n\u001b[1;32m    244\u001b[0m     \u001b[0;32mdef\u001b[0m \u001b[0m_value_or_default\u001b[0m\u001b[0;34m(\u001b[0m\u001b[0mself\u001b[0m\u001b[0;34m,\u001b[0m \u001b[0mobj\u001b[0m\u001b[0;34m,\u001b[0m \u001b[0mkey\u001b[0m\u001b[0;34m,\u001b[0m \u001b[0mdefault\u001b[0m\u001b[0;34m)\u001b[0m\u001b[0;34m:\u001b[0m\u001b[0;34m\u001b[0m\u001b[0;34m\u001b[0m\u001b[0m\n",
      "\u001b[0;31mInvalidSelectorException\u001b[0m: Message: invalid selector: An invalid or illegal selector was specified\n  (Session info: chrome=90.0.4430.85)\n"
     ]
    }
   ],
   "source": [
    "driver.find_element(By.ID, '//*[@id=\"gs_res_ccl_mid\"]/div[1]/div[1]/div/div/a/span')"
   ]
  },
  {
   "cell_type": "code",
   "execution_count": 200,
   "metadata": {
    "ExecuteTime": {
     "end_time": "2021-04-22T15:11:43.727032Z",
     "start_time": "2021-04-22T15:11:43.701558Z"
    }
   },
   "outputs": [
    {
     "data": {
      "text/plain": [
       "<selenium.webdriver.remote.webelement.WebElement (session=\"4428e47ae4a1bb9b3c7f4357233fff40\", element=\"e570505c-2c16-475b-8389-083185090b86\")>"
      ]
     },
     "execution_count": 200,
     "metadata": {},
     "output_type": "execute_result"
    }
   ],
   "source": [
    "driver.find_element_by_xpath('//*[@id=\"gs_res_ccl_mid\"]/div[1]/div[1]/div/div/a/span')"
   ]
  },
  {
   "cell_type": "markdown",
   "metadata": {
    "ExecuteTime": {
     "end_time": "2021-04-22T15:14:23.908660Z",
     "start_time": "2021-04-22T15:14:23.901126Z"
    }
   },
   "source": [
    "# fix annoying window size\n",
    "https://www.selenium.dev/documentation/en/webdriver/browser_manipulation/"
   ]
  },
  {
   "cell_type": "code",
   "execution_count": 204,
   "metadata": {
    "ExecuteTime": {
     "end_time": "2021-04-22T15:15:45.254538Z",
     "start_time": "2021-04-22T15:15:41.403635Z"
    }
   },
   "outputs": [],
   "source": [
    "driver.find_element_by_xpath('//*[@id=\"gs_res_ccl_mid\"]/div[1]/div[1]/div/div/a/span').click()"
   ]
  },
  {
   "cell_type": "code",
   "execution_count": 210,
   "metadata": {
    "ExecuteTime": {
     "end_time": "2021-04-22T18:27:11.204098Z",
     "start_time": "2021-04-22T18:27:11.158534Z"
    }
   },
   "outputs": [
    {
     "ename": "NoSuchElementException",
     "evalue": "Message: no such element: Unable to locate element: {\"method\":\"xpath\",\"selector\":\"//*[@id=\"gs_res_ccl_mid\"]/div[1]/div[2]/div/div/a/span\"}\n  (Session info: chrome=90.0.4430.85)\n",
     "output_type": "error",
     "traceback": [
      "\u001b[0;31m---------------------------------------------------------------------------\u001b[0m",
      "\u001b[0;31mNoSuchElementException\u001b[0m                    Traceback (most recent call last)",
      "\u001b[0;32m<ipython-input-210-54aa84238d1b>\u001b[0m in \u001b[0;36m<module>\u001b[0;34m\u001b[0m\n\u001b[0;32m----> 1\u001b[0;31m \u001b[0mdriver\u001b[0m\u001b[0;34m.\u001b[0m\u001b[0mfind_element_by_xpath\u001b[0m\u001b[0;34m(\u001b[0m\u001b[0;34m'//*[@id=\"gs_res_ccl_mid\"]/div[1]/div[2]/div/div/a/span'\u001b[0m\u001b[0;34m)\u001b[0m\u001b[0;34m.\u001b[0m\u001b[0mclick\u001b[0m\u001b[0;34m(\u001b[0m\u001b[0;34m)\u001b[0m\u001b[0;34m\u001b[0m\u001b[0;34m\u001b[0m\u001b[0m\n\u001b[0m",
      "\u001b[0;32m~/opt/anaconda3/lib/python3.7/site-packages/selenium/webdriver/remote/webdriver.py\u001b[0m in \u001b[0;36mfind_element_by_xpath\u001b[0;34m(self, xpath)\u001b[0m\n\u001b[1;32m    392\u001b[0m             \u001b[0melement\u001b[0m \u001b[0;34m=\u001b[0m \u001b[0mdriver\u001b[0m\u001b[0;34m.\u001b[0m\u001b[0mfind_element_by_xpath\u001b[0m\u001b[0;34m(\u001b[0m\u001b[0;34m'//div/td[1]'\u001b[0m\u001b[0;34m)\u001b[0m\u001b[0;34m\u001b[0m\u001b[0;34m\u001b[0m\u001b[0m\n\u001b[1;32m    393\u001b[0m         \"\"\"\n\u001b[0;32m--> 394\u001b[0;31m         \u001b[0;32mreturn\u001b[0m \u001b[0mself\u001b[0m\u001b[0;34m.\u001b[0m\u001b[0mfind_element\u001b[0m\u001b[0;34m(\u001b[0m\u001b[0mby\u001b[0m\u001b[0;34m=\u001b[0m\u001b[0mBy\u001b[0m\u001b[0;34m.\u001b[0m\u001b[0mXPATH\u001b[0m\u001b[0;34m,\u001b[0m \u001b[0mvalue\u001b[0m\u001b[0;34m=\u001b[0m\u001b[0mxpath\u001b[0m\u001b[0;34m)\u001b[0m\u001b[0;34m\u001b[0m\u001b[0;34m\u001b[0m\u001b[0m\n\u001b[0m\u001b[1;32m    395\u001b[0m \u001b[0;34m\u001b[0m\u001b[0m\n\u001b[1;32m    396\u001b[0m     \u001b[0;32mdef\u001b[0m \u001b[0mfind_elements_by_xpath\u001b[0m\u001b[0;34m(\u001b[0m\u001b[0mself\u001b[0m\u001b[0;34m,\u001b[0m \u001b[0mxpath\u001b[0m\u001b[0;34m)\u001b[0m\u001b[0;34m:\u001b[0m\u001b[0;34m\u001b[0m\u001b[0;34m\u001b[0m\u001b[0m\n",
      "\u001b[0;32m~/opt/anaconda3/lib/python3.7/site-packages/selenium/webdriver/remote/webdriver.py\u001b[0m in \u001b[0;36mfind_element\u001b[0;34m(self, by, value)\u001b[0m\n\u001b[1;32m    976\u001b[0m         return self.execute(Command.FIND_ELEMENT, {\n\u001b[1;32m    977\u001b[0m             \u001b[0;34m'using'\u001b[0m\u001b[0;34m:\u001b[0m \u001b[0mby\u001b[0m\u001b[0;34m,\u001b[0m\u001b[0;34m\u001b[0m\u001b[0;34m\u001b[0m\u001b[0m\n\u001b[0;32m--> 978\u001b[0;31m             'value': value})['value']\n\u001b[0m\u001b[1;32m    979\u001b[0m \u001b[0;34m\u001b[0m\u001b[0m\n\u001b[1;32m    980\u001b[0m     \u001b[0;32mdef\u001b[0m \u001b[0mfind_elements\u001b[0m\u001b[0;34m(\u001b[0m\u001b[0mself\u001b[0m\u001b[0;34m,\u001b[0m \u001b[0mby\u001b[0m\u001b[0;34m=\u001b[0m\u001b[0mBy\u001b[0m\u001b[0;34m.\u001b[0m\u001b[0mID\u001b[0m\u001b[0;34m,\u001b[0m \u001b[0mvalue\u001b[0m\u001b[0;34m=\u001b[0m\u001b[0;32mNone\u001b[0m\u001b[0;34m)\u001b[0m\u001b[0;34m:\u001b[0m\u001b[0;34m\u001b[0m\u001b[0;34m\u001b[0m\u001b[0m\n",
      "\u001b[0;32m~/opt/anaconda3/lib/python3.7/site-packages/selenium/webdriver/remote/webdriver.py\u001b[0m in \u001b[0;36mexecute\u001b[0;34m(self, driver_command, params)\u001b[0m\n\u001b[1;32m    319\u001b[0m         \u001b[0mresponse\u001b[0m \u001b[0;34m=\u001b[0m \u001b[0mself\u001b[0m\u001b[0;34m.\u001b[0m\u001b[0mcommand_executor\u001b[0m\u001b[0;34m.\u001b[0m\u001b[0mexecute\u001b[0m\u001b[0;34m(\u001b[0m\u001b[0mdriver_command\u001b[0m\u001b[0;34m,\u001b[0m \u001b[0mparams\u001b[0m\u001b[0;34m)\u001b[0m\u001b[0;34m\u001b[0m\u001b[0;34m\u001b[0m\u001b[0m\n\u001b[1;32m    320\u001b[0m         \u001b[0;32mif\u001b[0m \u001b[0mresponse\u001b[0m\u001b[0;34m:\u001b[0m\u001b[0;34m\u001b[0m\u001b[0;34m\u001b[0m\u001b[0m\n\u001b[0;32m--> 321\u001b[0;31m             \u001b[0mself\u001b[0m\u001b[0;34m.\u001b[0m\u001b[0merror_handler\u001b[0m\u001b[0;34m.\u001b[0m\u001b[0mcheck_response\u001b[0m\u001b[0;34m(\u001b[0m\u001b[0mresponse\u001b[0m\u001b[0;34m)\u001b[0m\u001b[0;34m\u001b[0m\u001b[0;34m\u001b[0m\u001b[0m\n\u001b[0m\u001b[1;32m    322\u001b[0m             response['value'] = self._unwrap_value(\n\u001b[1;32m    323\u001b[0m                 response.get('value', None))\n",
      "\u001b[0;32m~/opt/anaconda3/lib/python3.7/site-packages/selenium/webdriver/remote/errorhandler.py\u001b[0m in \u001b[0;36mcheck_response\u001b[0;34m(self, response)\u001b[0m\n\u001b[1;32m    240\u001b[0m                 \u001b[0malert_text\u001b[0m \u001b[0;34m=\u001b[0m \u001b[0mvalue\u001b[0m\u001b[0;34m[\u001b[0m\u001b[0;34m'alert'\u001b[0m\u001b[0;34m]\u001b[0m\u001b[0;34m.\u001b[0m\u001b[0mget\u001b[0m\u001b[0;34m(\u001b[0m\u001b[0;34m'text'\u001b[0m\u001b[0;34m)\u001b[0m\u001b[0;34m\u001b[0m\u001b[0;34m\u001b[0m\u001b[0m\n\u001b[1;32m    241\u001b[0m             \u001b[0;32mraise\u001b[0m \u001b[0mexception_class\u001b[0m\u001b[0;34m(\u001b[0m\u001b[0mmessage\u001b[0m\u001b[0;34m,\u001b[0m \u001b[0mscreen\u001b[0m\u001b[0;34m,\u001b[0m \u001b[0mstacktrace\u001b[0m\u001b[0;34m,\u001b[0m \u001b[0malert_text\u001b[0m\u001b[0;34m)\u001b[0m\u001b[0;34m\u001b[0m\u001b[0;34m\u001b[0m\u001b[0m\n\u001b[0;32m--> 242\u001b[0;31m         \u001b[0;32mraise\u001b[0m \u001b[0mexception_class\u001b[0m\u001b[0;34m(\u001b[0m\u001b[0mmessage\u001b[0m\u001b[0;34m,\u001b[0m \u001b[0mscreen\u001b[0m\u001b[0;34m,\u001b[0m \u001b[0mstacktrace\u001b[0m\u001b[0;34m)\u001b[0m\u001b[0;34m\u001b[0m\u001b[0;34m\u001b[0m\u001b[0m\n\u001b[0m\u001b[1;32m    243\u001b[0m \u001b[0;34m\u001b[0m\u001b[0m\n\u001b[1;32m    244\u001b[0m     \u001b[0;32mdef\u001b[0m \u001b[0m_value_or_default\u001b[0m\u001b[0;34m(\u001b[0m\u001b[0mself\u001b[0m\u001b[0;34m,\u001b[0m \u001b[0mobj\u001b[0m\u001b[0;34m,\u001b[0m \u001b[0mkey\u001b[0m\u001b[0;34m,\u001b[0m \u001b[0mdefault\u001b[0m\u001b[0;34m)\u001b[0m\u001b[0;34m:\u001b[0m\u001b[0;34m\u001b[0m\u001b[0;34m\u001b[0m\u001b[0m\n",
      "\u001b[0;31mNoSuchElementException\u001b[0m: Message: no such element: Unable to locate element: {\"method\":\"xpath\",\"selector\":\"//*[@id=\"gs_res_ccl_mid\"]/div[1]/div[2]/div/div/a/span\"}\n  (Session info: chrome=90.0.4430.85)\n"
     ]
    }
   ],
   "source": [
    "driver.find_element_by_xpath('//*[@id=\"gs_res_ccl_mid\"]/div[1]/div[2]/div/div/a/span').click()"
   ]
  },
  {
   "cell_type": "code",
   "execution_count": null,
   "metadata": {},
   "outputs": [],
   "source": []
  }
 ],
 "metadata": {
  "kernelspec": {
   "display_name": "Python 3",
   "language": "python",
   "name": "python3"
  },
  "language_info": {
   "codemirror_mode": {
    "name": "ipython",
    "version": 3
   },
   "file_extension": ".py",
   "mimetype": "text/x-python",
   "name": "python",
   "nbconvert_exporter": "python",
   "pygments_lexer": "ipython3",
   "version": "3.7.4"
  },
  "toc": {
   "base_numbering": 1,
   "nav_menu": {},
   "number_sections": true,
   "sideBar": true,
   "skip_h1_title": false,
   "title_cell": "Table of Contents",
   "title_sidebar": "Contents",
   "toc_cell": false,
   "toc_position": {},
   "toc_section_display": true,
   "toc_window_display": false
  }
 },
 "nbformat": 4,
 "nbformat_minor": 2
}
