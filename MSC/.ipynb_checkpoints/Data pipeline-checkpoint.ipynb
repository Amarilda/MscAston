{
 "cells": [
  {
   "cell_type": "code",
   "execution_count": 143,
   "metadata": {
    "ExecuteTime": {
     "end_time": "2021-05-19T07:23:55.123780Z",
     "start_time": "2021-05-19T07:23:55.114991Z"
    }
   },
   "outputs": [],
   "source": [
    "import pandas as pd\n",
    "import sqlite3"
   ]
  },
  {
   "cell_type": "markdown",
   "metadata": {
    "heading_collapsed": true
   },
   "source": [
    "# Reddit news"
   ]
  },
  {
   "cell_type": "code",
   "execution_count": null,
   "metadata": {
    "ExecuteTime": {
     "end_time": "2021-05-10T08:01:45.217910Z",
     "start_time": "2021-05-10T08:01:45.209306Z"
    },
    "hidden": true
   },
   "outputs": [],
   "source": [
    "import string\n",
    "string.punctuation"
   ]
  },
  {
   "cell_type": "code",
   "execution_count": null,
   "metadata": {
    "ExecuteTime": {
     "end_time": "2021-05-09T08:43:02.260096Z",
     "start_time": "2021-05-09T08:43:02.252874Z"
    },
    "hidden": true
   },
   "outputs": [],
   "source": [
    "kolonas = ['date']+['top'+str(i) for i in range(1,31)]\n",
    "print(kolonas)"
   ]
  },
  {
   "cell_type": "code",
   "execution_count": null,
   "metadata": {
    "ExecuteTime": {
     "end_time": "2021-05-07T11:00:18.813978Z",
     "start_time": "2021-05-07T11:00:18.805593Z"
    },
    "hidden": true
   },
   "outputs": [],
   "source": [
    "df = pd.DataFrame(columns = kolonas)"
   ]
  },
  {
   "cell_type": "code",
   "execution_count": null,
   "metadata": {
    "ExecuteTime": {
     "end_time": "2021-05-09T08:58:23.071091Z",
     "start_time": "2021-05-09T08:58:23.064557Z"
    },
    "hidden": true
   },
   "outputs": [],
   "source": [
    "connection = sqlite3.connect('MSC.db')\n",
    "cursor = connection.cursor()"
   ]
  },
  {
   "cell_type": "code",
   "execution_count": null,
   "metadata": {
    "ExecuteTime": {
     "end_time": "2021-05-07T08:02:17.784572Z",
     "start_time": "2021-05-07T08:02:15.742548Z"
    },
    "hidden": true
   },
   "outputs": [],
   "source": [
    "sql = (\"Select date(moment) as date, title from top30 where date = '2021-05-05'\")\n",
    "z = pd.read_sql_query(sql,connection)"
   ]
  },
  {
   "cell_type": "code",
   "execution_count": null,
   "metadata": {
    "ExecuteTime": {
     "end_time": "2021-05-07T08:02:29.929123Z",
     "start_time": "2021-05-07T08:02:29.336372Z"
    },
    "hidden": true
   },
   "outputs": [],
   "source": [
    "for d in z.date.unique():\n",
    "    atbilde =[]\n",
    "    atbilde.append(d)\n",
    "    #print(atbilde)\n",
    "    for title in z.title[z.date == d]:\n",
    "        atbilde.append(title)\n",
    "        \n",
    "    df.loc[len(df)] = atbilde"
   ]
  },
  {
   "cell_type": "code",
   "execution_count": null,
   "metadata": {
    "ExecuteTime": {
     "end_time": "2021-05-07T08:07:10.091859Z",
     "start_time": "2021-05-07T08:07:09.700192Z"
    },
    "hidden": true
   },
   "outputs": [],
   "source": [
    "df.to_sql('main', connection, if_exists='append',index=False)"
   ]
  },
  {
   "cell_type": "code",
   "execution_count": null,
   "metadata": {
    "ExecuteTime": {
     "end_time": "2021-05-07T11:00:24.792128Z",
     "start_time": "2021-05-07T11:00:24.773207Z"
    },
    "hidden": true
   },
   "outputs": [],
   "source": [
    "atbilde = []\n",
    "atbilde.append(z.date[0])\n",
    "#print(atbilde)\n",
    "\n",
    "for title in z.title:\n",
    "    atbilde.append(title)\n",
    "        \n",
    "print(atbilde)\n",
    "df.loc[len(df)] = atbilde"
   ]
  },
  {
   "cell_type": "markdown",
   "metadata": {
    "ExecuteTime": {
     "end_time": "2021-05-04T14:08:12.465116Z",
     "start_time": "2021-05-04T14:08:12.349472Z"
    },
    "heading_collapsed": true
   },
   "source": [
    "# delete"
   ]
  },
  {
   "cell_type": "markdown",
   "metadata": {
    "hidden": true
   },
   "source": [
    "connection = sqlite3.connect('MSC.db')\n",
    "cursor = connection.cursor()\n",
    "sql = (\"DELETE from top30 where moment  between '2021-03-30 11:17:11.915369' and '2021-03-30 11:18:48.647641'\")\n",
    "cursor.execute(sql)\n",
    "connection.commit()"
   ]
  },
  {
   "cell_type": "markdown",
   "metadata": {
    "ExecuteTime": {
     "end_time": "2021-05-04T14:27:17.429930Z",
     "start_time": "2021-05-04T14:27:17.426349Z"
    }
   },
   "source": [
    "# Yahoo finance"
   ]
  },
  {
   "cell_type": "code",
   "execution_count": 144,
   "metadata": {
    "ExecuteTime": {
     "end_time": "2021-05-19T07:23:59.352118Z",
     "start_time": "2021-05-19T07:23:59.347166Z"
    }
   },
   "outputs": [],
   "source": [
    "from bs4 import BeautifulSoup\n",
    "import requests\n",
    "import re"
   ]
  },
  {
   "cell_type": "code",
   "execution_count": null,
   "metadata": {
    "ExecuteTime": {
     "end_time": "2021-05-07T14:13:08.973697Z",
     "start_time": "2021-05-07T14:13:08.947541Z"
    }
   },
   "outputs": [],
   "source": [
    "df = pd.DataFrame(columns = ['date','SP500_Open', 'SP500_High', 'SP500_Low', 'SP500_Close', 'SP500_Adj_Close', 'SP500_Volume'])\n",
    "df"
   ]
  },
  {
   "cell_type": "code",
   "execution_count": null,
   "metadata": {
    "ExecuteTime": {
     "end_time": "2021-05-07T14:13:10.535669Z",
     "start_time": "2021-05-07T14:13:10.526983Z"
    }
   },
   "outputs": [],
   "source": [
    "str([str('SP500_')+i for i in df.columns])"
   ]
  },
  {
   "cell_type": "markdown",
   "metadata": {},
   "source": [
    "## S&P 500 (^GSPC)\n",
    "SNP - SNP Real Time Price. Currency in USD"
   ]
  },
  {
   "cell_type": "code",
   "execution_count": null,
   "metadata": {
    "ExecuteTime": {
     "end_time": "2021-05-10T07:57:06.014024Z",
     "start_time": "2021-05-10T07:57:05.990210Z"
    }
   },
   "outputs": [],
   "source": [
    "url = \"https://finance.yahoo.com/quote/%5EGSPC/history?p=%5EGSPC\""
   ]
  },
  {
   "cell_type": "code",
   "execution_count": null,
   "metadata": {
    "ExecuteTime": {
     "end_time": "2021-05-10T07:57:09.709482Z",
     "start_time": "2021-05-10T07:57:08.810741Z"
    }
   },
   "outputs": [],
   "source": [
    "r = requests.get(url)\n",
    "data = r.text\n",
    "soup = BeautifulSoup(data)"
   ]
  },
  {
   "cell_type": "code",
   "execution_count": null,
   "metadata": {
    "ExecuteTime": {
     "end_time": "2021-05-10T07:57:14.653762Z",
     "start_time": "2021-05-10T07:57:14.638684Z"
    }
   },
   "outputs": [],
   "source": [
    "answer = []\n",
    "for i in soup.find_all('td')[0:7]:\n",
    "    #print(i.span)\n",
    "    print(i.span.text)\n",
    "    answer.append(i.span.text)\n",
    "    #print(len(answer)    "
   ]
  },
  {
   "cell_type": "markdown",
   "metadata": {
    "ExecuteTime": {
     "end_time": "2021-05-07T14:13:17.725039Z",
     "start_time": "2021-05-07T14:13:17.182645Z"
    }
   },
   "source": [
    "for i in range(0, int(len(answer))//7):\n",
    "    atbilde = []\n",
    "    #print(i)\n",
    "    for j in range (0,7):\n",
    "        if j == 0:\n",
    "            atbilde.append(pd.to_datetime(answer[i*7+j], infer_datetime_format=True))\n",
    "        else:\n",
    "            atbilde.append(answer[i*7+j])\n",
    "    df.loc[len(df)] = atbilde"
   ]
  },
  {
   "cell_type": "code",
   "execution_count": null,
   "metadata": {},
   "outputs": [],
   "source": [
    "connection = sqlite3.connect('MSC/MSC.db')\n",
    "cursor = connection.cursor()\n",
    "sql = (\"Select date(moment) as date, title from top30 where moment>date('now')\")\n",
    "z = pd.read_sql_query(sql,connection)\n",
    "\n",
    "atbilde = []\n",
    "columnnames = \"'date', 'top1', 'top2', 'top3', 'top4', 'top5', 'top6', 'top7', 'top8', 'top9', 'top10', 'top11', 'top12', 'top13', 'top14', 'top15', 'top16', 'top17', 'top18', 'top19', 'top20', 'top21', 'top22', 'top23', 'top24', 'top25', 'top26', 'top27', 'top28', 'top29', top30\"\n",
    "insertintotable = '?,?,?,?,?,?,?,?,?,?,?,?,?,?,?,?,?,?,?,?,?,?,?,?,?,?,?,?,?,?,?'\n",
    "atbilde = [z.date[0]] +[i for i in  z.title]\n",
    "\n",
    "connection = sqlite3.connect('MSC/MSC.db')\n",
    "cursor = connection.cursor()\n",
    "sql2 = f'cursor.execute(\"insert INTO  main ({columnnames}) VALUES ({insertintotable})\", {atbilde})'\n",
    "eval(sql2)\n",
    "connection.commit()\n",
    "connection.close()\n",
    "print(\"Appended to MAIN\")"
   ]
  },
  {
   "cell_type": "code",
   "execution_count": null,
   "metadata": {
    "ExecuteTime": {
     "end_time": "2021-05-10T08:39:50.188221Z",
     "start_time": "2021-05-10T08:39:50.170622Z"
    }
   },
   "outputs": [],
   "source": [
    "connection = sqlite3.connect('MSC.db')\n",
    "cursor = connection.cursor()\n",
    "sql = (\"Select * from DJI\")\n",
    "z = pd.read_sql_query(sql,connection).columns\n",
    "z"
   ]
  },
  {
   "cell_type": "code",
   "execution_count": null,
   "metadata": {
    "ExecuteTime": {
     "end_time": "2021-05-10T08:36:15.466945Z",
     "start_time": "2021-05-10T08:36:14.639935Z"
    }
   },
   "outputs": [],
   "source": [
    "connection = sqlite3.connect('MSC.db')\n",
    "cursor = connection.cursor()\n",
    "sql = (\"Select max(date) as date from SP500\")\n",
    "z = pd.read_sql_query(sql,connection)\n",
    "latest_date = z.date[0]\n",
    "\n",
    "##SP500\n",
    "url = \"https://finance.yahoo.com/quote/%5EGSPC/history?p=%5EGSPC\"\n",
    "r = requests.get(url)\n",
    "data = r.text\n",
    "soup = BeautifulSoup(data)\n",
    "\n",
    "answer = []\n",
    "if str(pd.to_datetime(soup.find_all('td')[0].text, infer_datetime_format=True)) == latest_date:\n",
    "    print('Stop. This data point is already in the data base')\n",
    "else:\n",
    "    print('Lets get scraping')\n",
    "    answer.append(str(pd.to_datetime(soup.find_all('td')[0].text, infer_datetime_format=True)))\n",
    "    answer = answer + [i.span.text for i in soup.find_all('td')[1:7]]\n",
    "    \n",
    "    columnnames = \"'Date', 'SP500_Open', 'SP500_High', 'SP500_Low', 'SP500_Close','SP500_Adj_Close', 'SP500_Volume'\"\n",
    "    insertintotable = '?,?,?,?,?,?,?'\n",
    "    \n",
    "    connection = sqlite3.connect('MSC/MSC.db')\n",
    "    cursor = connection.cursor()\n",
    "    sql2 = f'cursor.execute(\"insert INTO  SP500 ({columnnames}) VALUES ({insertintotable})\", {answer})'\n",
    "    eval(sql2)\n",
    "    connection.commit()\n",
    "    connection.close()\n",
    "    print(f\"{answer[0]} appended to SP500\")\n",
    "    \n",
    "    \n",
    "    ## DJI\n",
    "    url = \"https://finance.yahoo.com/quote/%5EDJI/history?p=%5EDJI\"\n",
    "    r = requests.get(url)\n",
    "    data = r.text\n",
    "    soup = BeautifulSoup(data)\n",
    "    \n",
    "    answer = []\n",
    "    answer.append(str(pd.to_datetime(soup.find_all('td')[0].text, infer_datetime_format=True)))\n",
    "    answer = answer + [i.span.text for i in soup.find_all('td')[1:7]]\n",
    "    \n",
    "    columnnames = \"'date', 'SP500_Open', 'SP500_High', 'SP500_Low', 'SP500_Close','SP500_Adj_Close', 'SP500_Volume'\"\n",
    "    insertintotable = '?,?,?,?,?,?,?'\n",
    "    \n",
    "    connection = sqlite3.connect('MSC/MSC.db')\n",
    "    cursor = connection.cursor()\n",
    "    sql2 = f'cursor.execute(\"insert INTO  SP500 ({columnnames}) VALUES ({insertintotable})\", {answer})'\n",
    "    eval(sql2)\n",
    "    connection.commit()\n",
    "    connection.close()\n",
    "    print(f\"{answer[0]} appended to DJI\")\n",
    "    \n",
    "    \n",
    "answer"
   ]
  },
  {
   "cell_type": "code",
   "execution_count": null,
   "metadata": {
    "ExecuteTime": {
     "end_time": "2021-05-07T14:13:22.084338Z",
     "start_time": "2021-05-07T14:13:22.071026Z"
    }
   },
   "outputs": [],
   "source": [
    "df.to_sql('SP500', connection, if_exists='append',index=False)"
   ]
  },
  {
   "cell_type": "markdown",
   "metadata": {},
   "source": [
    "## Dow Jones Industrial Average (^DJI)\n",
    "DJI - DJI Real Time Price. Currency in USD"
   ]
  },
  {
   "cell_type": "code",
   "execution_count": null,
   "metadata": {
    "ExecuteTime": {
     "end_time": "2021-05-07T14:11:30.683698Z",
     "start_time": "2021-05-07T14:11:30.680697Z"
    }
   },
   "outputs": [],
   "source": [
    "url = \"https://finance.yahoo.com/quote/%5EDJI/history?p=%5EDJI\""
   ]
  },
  {
   "cell_type": "code",
   "execution_count": null,
   "metadata": {
    "ExecuteTime": {
     "end_time": "2021-05-07T14:11:30.743504Z",
     "start_time": "2021-05-07T14:11:30.687962Z"
    }
   },
   "outputs": [],
   "source": [
    "df = pd.DataFrame(columns = ['date', 'DJI_Open', 'DJI_High', 'DJI_Low', 'DJI_Close', 'DJI_Adj_Close', 'DJI_Volume'])\n",
    "df"
   ]
  },
  {
   "cell_type": "code",
   "execution_count": null,
   "metadata": {
    "ExecuteTime": {
     "end_time": "2021-05-07T14:07:09.567434Z",
     "start_time": "2021-05-07T14:07:09.561932Z"
    }
   },
   "outputs": [],
   "source": [
    "columns_new = [str('DJI_')+i for i in df.columns]"
   ]
  },
  {
   "cell_type": "code",
   "execution_count": null,
   "metadata": {
    "ExecuteTime": {
     "end_time": "2021-05-07T14:11:38.068833Z",
     "start_time": "2021-05-07T14:11:37.171734Z"
    }
   },
   "outputs": [],
   "source": [
    "r = requests.get(url)\n",
    "data = r.text\n",
    "soup = BeautifulSoup(data)"
   ]
  },
  {
   "cell_type": "code",
   "execution_count": null,
   "metadata": {
    "ExecuteTime": {
     "end_time": "2021-05-07T14:11:38.407441Z",
     "start_time": "2021-05-07T14:11:38.383103Z"
    }
   },
   "outputs": [],
   "source": [
    "answer = []\n",
    "for i in soup.find_all('td'):\n",
    "    #print(i.span)\n",
    "    #print(i.span.text)\n",
    "    answer.append(i.span.text)\n",
    "    #print(len(answer)  "
   ]
  },
  {
   "cell_type": "code",
   "execution_count": null,
   "metadata": {
    "ExecuteTime": {
     "end_time": "2021-05-07T14:11:42.764407Z",
     "start_time": "2021-05-07T14:11:42.211538Z"
    }
   },
   "outputs": [],
   "source": [
    "for i in range(0, int(len(answer))//7):\n",
    "    atbilde = []\n",
    "    #print(i)\n",
    "    for j in range (0,7):\n",
    "        if j == 0:\n",
    "            atbilde.append(pd.to_datetime(answer[i*7+j], infer_datetime_format=True))\n",
    "        else:\n",
    "            atbilde.append(answer[i*7+j])\n",
    "    df.loc[len(df)] = atbilde"
   ]
  },
  {
   "cell_type": "code",
   "execution_count": null,
   "metadata": {
    "ExecuteTime": {
     "end_time": "2021-05-07T14:11:43.812893Z",
     "start_time": "2021-05-07T14:11:43.789250Z"
    }
   },
   "outputs": [],
   "source": [
    "df"
   ]
  },
  {
   "cell_type": "code",
   "execution_count": null,
   "metadata": {
    "ExecuteTime": {
     "end_time": "2021-05-07T14:11:47.376694Z",
     "start_time": "2021-05-07T14:11:47.363620Z"
    }
   },
   "outputs": [],
   "source": [
    "df.to_sql('DJI', connection, if_exists='append',index=False)"
   ]
  },
  {
   "cell_type": "markdown",
   "metadata": {
    "ExecuteTime": {
     "end_time": "2021-05-16T08:47:09.151333Z",
     "start_time": "2021-05-16T08:47:09.147584Z"
    }
   },
   "source": [
    "# SP500 companies"
   ]
  },
  {
   "cell_type": "code",
   "execution_count": 2,
   "metadata": {
    "ExecuteTime": {
     "end_time": "2021-05-18T08:42:25.250212Z",
     "start_time": "2021-05-18T08:42:23.541299Z"
    }
   },
   "outputs": [],
   "source": [
    "from bs4 import BeautifulSoup\n",
    "import requests\n",
    "import re"
   ]
  },
  {
   "cell_type": "markdown",
   "metadata": {
    "ExecuteTime": {
     "end_time": "2021-05-16T09:10:16.495156Z",
     "start_time": "2021-05-16T09:10:16.273429Z"
    }
   },
   "source": [
    "df = pd.read_excel('SP500.xlsx')"
   ]
  },
  {
   "cell_type": "code",
   "execution_count": null,
   "metadata": {
    "ExecuteTime": {
     "end_time": "2021-05-18T08:31:26.965933Z",
     "start_time": "2021-05-18T08:31:26.197109Z"
    }
   },
   "outputs": [],
   "source": [
    "connection = sqlite3.connect('MSC.db')\n",
    "cursor = connection.cursor()\n",
    "sql = (\"Select * from SP500_companies\")\n",
    "df = pd.read_sql_query(sql,connection)\n",
    "df.head()"
   ]
  },
  {
   "cell_type": "code",
   "execution_count": null,
   "metadata": {
    "ExecuteTime": {
     "end_time": "2021-05-16T11:21:27.664080Z",
     "start_time": "2021-05-16T11:21:27.651080Z"
    }
   },
   "outputs": [],
   "source": [
    "df[df.Symbol == 'FLIR']"
   ]
  },
  {
   "cell_type": "markdown",
   "metadata": {
    "ExecuteTime": {
     "end_time": "2021-05-16T10:39:05.621964Z",
     "start_time": "2021-05-16T10:39:05.604017Z"
    }
   },
   "source": [
    "### Insert DJI and SP500 in the same table\n",
    "### One less step in ETL\n",
    "\n",
    "connection = sqlite3.connect('MSC.db')\n",
    "cursor = connection.cursor()\n",
    "\n",
    "columnnames = \"'Company', 'Symbol', 'Weight'\"\n",
    "insertintotable = '?,?,?'\n",
    "\n",
    "answer = ['Dow Jones Industrial Average', '^DJI', '100']\n",
    "sql2 = f'cursor.execute(\"insert INTO  SP500_companies ({columnnames}) VALUES ({insertintotable})\", {answer})'\n",
    "eval(sql2)\n",
    "connection.commit()\n",
    "connection.close()"
   ]
  },
  {
   "cell_type": "code",
   "execution_count": null,
   "metadata": {
    "ExecuteTime": {
     "end_time": "2021-05-16T11:23:38.165983Z",
     "start_time": "2021-05-16T11:22:35.106619Z"
    }
   },
   "outputs": [],
   "source": [
    "columnnames = \"'date', 'open', 'high', 'low', 'close', 'adj_close','volume', 'symbol'\"\n",
    "insertintotable = '?,?,?,?,?,?,?,?'\n",
    "\n",
    "for i in df.Symbol[490:]:\n",
    "    r = requests.get(f'https://finance.yahoo.com/quote/{i}/history?p={i}')\n",
    "    print(f'https://finance.yahoo.com/quote/{i}/history?p={i}')\n",
    "    data = r.text\n",
    "    soup = BeautifulSoup(data, features=\"lxml\")\n",
    "    ofset = 0\n",
    "    for j in range(0, int(len(soup.find_all('td')))//7):  \n",
    "        #if type(soup.find_all('td')[j*7+1+ofset].span.text) != int and type(soup.find_all('td')[j*7+1+ofset].span.text) != float:\n",
    "        if soup.find_all('td')[j*7+1+ofset].span.text == \"Dividend\" or soup.find_all('td')[j*7+1+ofset].span.text == \"Stock Split\":\n",
    "            ofset += 2\n",
    "        try:\n",
    "            answer = []\n",
    "            answer.append(str(pd.to_datetime(soup.find_all('td')[j*7+ofset].text, infer_datetime_format=True)))\n",
    "            answer = answer + [i.span.text for i in soup.find_all('td')[j*7+1+ofset:j*7+7+ofset]] + [i]\n",
    "        except:\n",
    "            answer = []\n",
    "            ofset += 2\n",
    "        print(answer)\n",
    "        connection = sqlite3.connect('MSC.db')\n",
    "        cursor = connection.cursor()\n",
    "        sql2 = f'cursor.execute(\"insert INTO  prices ({columnnames}) VALUES ({insertintotable})\", {answer})'\n",
    "        eval(sql2)\n",
    "        connection.commit()\n",
    "        connection.close()    "
   ]
  },
  {
   "cell_type": "markdown",
   "metadata": {
    "ExecuteTime": {
     "end_time": "2021-05-18T08:31:49.322055Z",
     "start_time": "2021-05-18T08:31:40.890564Z"
    }
   },
   "source": [
    "columnnames = \"'date', 'open', 'high', 'low', 'close', 'adj_close','volume', 'symbol'\"\n",
    "insertintotable = '?,?,?,?,?,?,?,?'\n",
    "\n",
    "for i in df.Symbol[:3]:\n",
    "    r = requests.get(f'https://finance.yahoo.com/quote/{i}/history?p={i}')\n",
    "    print(f'https://finance.yahoo.com/quote/{i}/history?p={i}')\n",
    "    data = r.text\n",
    "    soup = BeautifulSoup(data, features=\"lxml\")\n",
    "    ofset = 0\n",
    "    for j in range(0, int(len(soup.find_all('td')))//7):  \n",
    "        #if type(soup.find_all('td')[j*7+1+ofset].span.text) != int and type(soup.find_all('td')[j*7+1+ofset].span.text) != float:\n",
    "        if soup.find_all('td')[j*7+1+ofset].span.text == \"Dividend\" or soup.find_all('td')[j*7+1+ofset].span.text == \"Stock Split\":\n",
    "            ofset += 2\n",
    "        try:\n",
    "            answer = []\n",
    "            answer.append(str(pd.to_datetime(soup.find_all('td')[j*7+ofset].text, infer_datetime_format=True)))\n",
    "            answer = answer + [i.span.text for i in soup.find_all('td')[j*7+1+ofset:j*7+7+ofset]] + [i]\n",
    "        except:\n",
    "            answer = []\n",
    "            ofset += 2\n",
    "        print(answer)\n",
    "        connection = sqlite3.connect('MSC.db')\n",
    "        cursor = connection.cursor()\n",
    "        sql2 = f'cursor.execute(\"insert INTO  prices ({columnnames}) VALUES ({insertintotable})\", {answer})'\n",
    "        eval(sql2)\n",
    "        connection.commit()\n",
    "        connection.close()"
   ]
  },
  {
   "cell_type": "markdown",
   "metadata": {
    "ExecuteTime": {
     "end_time": "2021-05-19T07:39:45.379605Z",
     "start_time": "2021-05-19T07:39:06.554641Z"
    }
   },
   "source": [
    "#for symbol in df\n",
    "no_financials = \"'BRK.B', 'BF.B', 'FLIR'\"\n",
    "\n",
    "connection = sqlite3.connect('MSC.db')\n",
    "cursor = connection.cursor()\n",
    "sql = (f\"Select * from SP500_companies where symbol not in ({no_financials})\")\n",
    "df = pd.read_sql_query(sql,connection)\n",
    "connection.commit()\n",
    "connection.close()\n",
    "\n",
    "connection = sqlite3.connect('MSC.db')\n",
    "cursor = connection.cursor()\n",
    "sql = (\"Select * from prices order by date desc\")\n",
    "z = pd.read_sql_query(sql,connection)\n",
    "connection.commit()\n",
    "connection.close()\n",
    "\n",
    "columnnames = \"'date', 'open', 'high', 'low', 'close', 'adj_close','volume', 'symbol'\"\n",
    "insertintotable = '?,?,?,?,?,?,?,?'\n",
    "\n",
    "for i in df.Symbol:\n",
    "    r = requests.get(f'https://finance.yahoo.com/quote/{i}/history?p={i}')\n",
    "    data = r.text\n",
    "    soup = BeautifulSoup(data, features=\"lxml\")\n",
    "    \n",
    "    for j in range (0, 4):\n",
    "        if soup.find_all('td')[1+j*7].span != None and pd.to_datetime(soup.find_all('td')[j*7].text, infer_datetime_format=True) > pd.to_datetime(z.date[z.symbol == i].iloc[0]):\n",
    "            try: \n",
    "                print(f'https://finance.yahoo.com/quote/{i}/history?p={i}')\n",
    "                answer = []\n",
    "                answer.append(str(pd.to_datetime(soup.find_all('td')[j*7].text, infer_datetime_format=True)))\n",
    "                answer = answer + [i.span.text for i in soup.find_all('td')[j*7+1: j*7+7]] + [i]\n",
    "                print(answer)\n",
    "                connection = sqlite3.connect('MSC.db')\n",
    "                cursor = connection.cursor()\n",
    "                sql2 = f'cursor.execute(\"insert INTO  prices ({columnnames}) VALUES ({insertintotable})\", {answer})'\n",
    "                eval(sql2)\n",
    "                connection.commit()\n",
    "                connection.close()\n",
    "            except:pass   \n",
    "        else:pass\n",
    "'''\n",
    "'''"
   ]
  },
  {
   "cell_type": "code",
   "execution_count": 162,
   "metadata": {
    "ExecuteTime": {
     "end_time": "2021-05-19T08:08:47.527576Z",
     "start_time": "2021-05-19T08:07:52.928677Z"
    }
   },
   "outputs": [
    {
     "name": "stdout",
     "output_type": "stream",
     "text": [
      "https://finance.yahoo.com/quote/HII/history?p=HII\n",
      "['2021-05-18 00:00:00', '216.34', '217.92', '213.22', '213.37', '213.37', '130,800', 'HII']\n",
      "https://finance.yahoo.com/quote/JNPR/history?p=JNPR\n",
      "['2021-05-18 00:00:00', '26.63', '26.63', '26.30', '26.30', '26.30', '2,113,900', 'JNPR']\n",
      "https://finance.yahoo.com/quote/ALK/history?p=ALK\n",
      "['2021-05-18 00:00:00', '72.00', '72.92', '70.29', '70.29', '70.29', '1,456,600', 'ALK']\n",
      "https://finance.yahoo.com/quote/NRG/history?p=NRG\n",
      "['2021-05-18 00:00:00', '34.10', '34.38', '34.00', '34.23', '34.23', '2,551,400', 'NRG']\n",
      "https://finance.yahoo.com/quote/PBCT/history?p=PBCT\n",
      "['2021-05-18 00:00:00', '19.31', '19.62', '19.10', '19.11', '19.11', '2,664,600', 'PBCT']\n",
      "https://finance.yahoo.com/quote/ROL/history?p=ROL\n",
      "['2021-05-18 00:00:00', '35.95', '36.12', '35.38', '35.40', '35.40', '1,303,500', 'ROL']\n",
      "https://finance.yahoo.com/quote/FRT/history?p=FRT\n",
      "['2021-05-18 00:00:00', '112.78', '113.90', '111.67', '112.69', '112.69', '366,000', 'FRT']\n",
      "https://finance.yahoo.com/quote/APA/history?p=APA\n",
      "['2021-05-18 00:00:00', '22.25', '22.41', '21.55', '21.67', '21.67', '6,682,400', 'APA']\n",
      "https://finance.yahoo.com/quote/PVH/history?p=PVH\n",
      "['2021-05-18 00:00:00', '116.72', '117.98', '115.46', '116.67', '116.67', '1,530,800', 'PVH']\n",
      "https://finance.yahoo.com/quote/LEG/history?p=LEG\n",
      "['2021-05-18 00:00:00', '55.82', '56.16', '54.94', '54.96', '54.96', '714,200', 'LEG']\n",
      "https://finance.yahoo.com/quote/VNO/history?p=VNO\n",
      "['2021-05-18 00:00:00', '46.00', '46.90', '45.56', '46.46', '46.46', '1,192,600', 'VNO']\n",
      "https://finance.yahoo.com/quote/GPS/history?p=GPS\n",
      "['2021-05-18 00:00:00', '37.01', '37.63', '34.62', '34.98', '34.98', '8,410,000', 'GPS']\n",
      "https://finance.yahoo.com/quote/COG/history?p=COG\n",
      "['2021-05-18 00:00:00', '18.21', '18.25', '17.69', '17.84', '17.84', '10,837,300', 'COG']\n",
      "https://finance.yahoo.com/quote/IPGP/history?p=IPGP\n",
      "['2021-05-18 00:00:00', '197.90', '197.95', '194.55', '194.77', '194.77', '266,500', 'IPGP']\n",
      "https://finance.yahoo.com/quote/HBI/history?p=HBI\n",
      "['2021-05-18 00:00:00', '19.84', '19.94', '19.58', '19.71', '19.71', '4,741,700', 'HBI']\n",
      "https://finance.yahoo.com/quote/NOV/history?p=NOV\n",
      "['2021-05-18 00:00:00', '17.91', '18.02', '17.35', '17.43', '17.43', '4,414,300', 'NOV']\n",
      "https://finance.yahoo.com/quote/RL/history?p=RL\n",
      "['2021-05-18 00:00:00', '139.20', '140.24', '136.41', '136.70', '136.70', '1,079,200', 'RL']\n",
      "https://finance.yahoo.com/quote/UNM/history?p=UNM\n",
      "['2021-05-18 00:00:00', '30.66', '31.13', '30.57', '30.59', '30.59', '1,595,000', 'UNM']\n",
      "https://finance.yahoo.com/quote/PRGO/history?p=PRGO\n",
      "['2021-05-18 00:00:00', '45.62', '45.89', '45.18', '45.18', '45.18', '1,059,300', 'PRGO']\n",
      "https://finance.yahoo.com/quote/FOX/history?p=FOX\n",
      "['2021-05-18 00:00:00', '35.98', '36.80', '35.98', '36.32', '36.32', '938,900', 'FOX']\n",
      "https://finance.yahoo.com/quote/DISCA/history?p=DISCA\n",
      "['2021-05-18 00:00:00', '33.76', '34.52', '32.44', '33.31', '33.31', '31,324,000', 'DISCA']\n",
      "https://finance.yahoo.com/quote/HFC/history?p=HFC\n",
      "['2021-05-18 00:00:00', '36.68', '37.03', '35.61', '35.64', '35.64', '1,716,000', 'HFC']\n",
      "https://finance.yahoo.com/quote/UAA/history?p=UAA\n",
      "['2021-05-18 00:00:00', '23.18', '23.33', '22.61', '22.65', '22.65', '3,652,900', 'UAA']\n",
      "https://finance.yahoo.com/quote/UA/history?p=UA\n",
      "['2021-05-18 00:00:00', '19.40', '19.53', '18.96', '18.98', '18.98', '2,542,800', 'UA']\n",
      "https://finance.yahoo.com/quote/NWS/history?p=NWS\n",
      "['2021-05-18 00:00:00', '25.12', '25.28', '24.91', '24.91', '24.91', '438,400', 'NWS']\n",
      "https://finance.yahoo.com/quote/^GSPC/history?p=^GSPC\n",
      "['2021-05-18 00:00:00', '4,165.94', '4,169.15', '4,125.99', '4,127.83', '4,127.83', '3,559,790,000', '^GSPC']\n",
      "https://finance.yahoo.com/quote/^DJI/history?p=^DJI\n",
      "['2021-05-18 00:00:00', '34,351.18', '34,408.99', '34,044.10', '34,060.66', '34,060.66', '289,590,000', '^DJI']\n"
     ]
    }
   ],
   "source": [
    "#for symbol in df\n",
    "no_financials = \"'BRK.B', 'BF.B', 'FLIR'\"\n",
    "\n",
    "connection = sqlite3.connect('MSC.db')\n",
    "cursor = connection.cursor()\n",
    "sql = ('''\n",
    "Select symbol from SP500_companies \n",
    "where symbol not in (select distinct symbol from prices where date == '2021-05-18 00:00:00')\n",
    "and  symbol not in ('BRK.B', 'BF.B', 'FLIR')'''\n",
    "    )\n",
    "df = pd.read_sql_query(sql,connection)\n",
    "\n",
    "connection = sqlite3.connect('MSC.db')\n",
    "cursor = connection.cursor()\n",
    "sql = (\"Select * from prices where date \")\n",
    "z = pd.read_sql_query(sql,connection)\n",
    "connection.commit()\n",
    "connection.close()\n",
    "\n",
    "columnnames = \"'date', 'open', 'high', 'low', 'close', 'adj_close','volume', 'symbol'\"\n",
    "insertintotable = '?,?,?,?,?,?,?,?'\n",
    "\n",
    "for i in df.Symbol[2:]:\n",
    "    r = requests.get(f'https://finance.yahoo.com/quote/{i}/history?p={i}')\n",
    "    print(f'https://finance.yahoo.com/quote/{i}/history?p={i}')\n",
    "    data = r.text\n",
    "    soup = BeautifulSoup(data, features=\"lxml\")\n",
    "    counter = 0\n",
    "    for j in range (0, 4):\n",
    "        if soup.find_all('td')[1+j*7].span != None and pd.to_datetime(soup.find_all('td')[j*7].text, infer_datetime_format=True) > pd.to_datetime(z.date[z.symbol == i].iloc[0]) and counter == 0:\n",
    "            try:\n",
    "                answer = []\n",
    "                answer.append(str(pd.to_datetime(soup.find_all('td')[j*7].text, infer_datetime_format=True)))\n",
    "                answer = answer + [i.span.text for i in soup.find_all('td')[j*7+1: j*7+7]] + [i]\n",
    "                print(answer)\n",
    "\n",
    "                connection = sqlite3.connect('MSC.db')\n",
    "                cursor = connection.cursor()\n",
    "                sql2 = f'cursor.execute(\"insert INTO  prices ({columnnames}) VALUES ({insertintotable})\", {answer})'\n",
    "                eval(sql2)\n",
    "                connection.commit()\n",
    "                connection.close()\n",
    "                counter +=1\n",
    "            except:pass        \n",
    "        else:pass                "
   ]
  },
  {
   "cell_type": "code",
   "execution_count": 70,
   "metadata": {
    "ExecuteTime": {
     "end_time": "2021-05-18T09:15:41.976720Z",
     "start_time": "2021-05-18T09:15:41.970019Z"
    }
   },
   "outputs": [
    {
     "data": {
      "text/plain": [
       "'!\"#$%&\\'()*+,-./:;<=>?@[\\\\]^_`{|}~'"
      ]
     },
     "execution_count": 70,
     "metadata": {},
     "output_type": "execute_result"
    }
   ],
   "source": [
    "import string\n",
    "string.punctuation"
   ]
  },
  {
   "cell_type": "code",
   "execution_count": null,
   "metadata": {
    "ExecuteTime": {
     "end_time": "2021-05-16T11:25:56.357014Z",
     "start_time": "2021-05-16T11:25:56.013066Z"
    }
   },
   "outputs": [],
   "source": [
    "connection = sqlite3.connect(\"MSC.db\")\n",
    "cursor = connection.cursor()\n",
    "\n",
    "sql = ('''Select distinct symbol, count(symbol) over(partition by symbol) as count from prices\n",
    "order by count\n",
    "\n",
    "       ''')\n",
    "z =pd.read_sql_query(sql,connection)\n",
    "z"
   ]
  },
  {
   "cell_type": "code",
   "execution_count": null,
   "metadata": {
    "ExecuteTime": {
     "end_time": "2021-05-16T11:28:35.722714Z",
     "start_time": "2021-05-16T11:28:35.696517Z"
    }
   },
   "outputs": [],
   "source": [
    "connection = sqlite3.connect(\"MSC.db\")\n",
    "cursor = connection.cursor()\n",
    "\n",
    "sql = ('''Select * from sp500_companies\n",
    "\n",
    "       ''')\n",
    "z =pd.read_sql_query(sql,connection)\n",
    "z"
   ]
  },
  {
   "cell_type": "code",
   "execution_count": null,
   "metadata": {
    "ExecuteTime": {
     "end_time": "2021-05-16T11:31:39.804181Z",
     "start_time": "2021-05-16T11:31:39.706682Z"
    }
   },
   "outputs": [],
   "source": [
    "connection = sqlite3.connect(\"MSC.db\")\n",
    "cursor = connection.cursor()\n",
    "\n",
    "sql = ('''Select sp500_companies.symbol, company from sp500_companies\n",
    "          WHERE sp500_companies.Symbol NOT IN\n",
    "        (Select symbol from  prices)\n",
    "\n",
    "       ''')\n",
    "z =pd.read_sql_query(sql,connection)\n",
    "z"
   ]
  },
  {
   "cell_type": "code",
   "execution_count": null,
   "metadata": {
    "ExecuteTime": {
     "end_time": "2021-05-16T11:33:22.381155Z",
     "start_time": "2021-05-16T11:33:22.377994Z"
    }
   },
   "outputs": [],
   "source": [
    "# Flir 0 love "
   ]
  },
  {
   "cell_type": "code",
   "execution_count": 163,
   "metadata": {
    "ExecuteTime": {
     "end_time": "2021-05-19T08:09:22.576819Z",
     "start_time": "2021-05-19T08:09:22.455802Z"
    }
   },
   "outputs": [
    {
     "data": {
      "text/html": [
       "<div>\n",
       "<style scoped>\n",
       "    .dataframe tbody tr th:only-of-type {\n",
       "        vertical-align: middle;\n",
       "    }\n",
       "\n",
       "    .dataframe tbody tr th {\n",
       "        vertical-align: top;\n",
       "    }\n",
       "\n",
       "    .dataframe thead th {\n",
       "        text-align: right;\n",
       "    }\n",
       "</style>\n",
       "<table border=\"1\" class=\"dataframe\">\n",
       "  <thead>\n",
       "    <tr style=\"text-align: right;\">\n",
       "      <th></th>\n",
       "      <th>Symbol</th>\n",
       "    </tr>\n",
       "  </thead>\n",
       "  <tbody>\n",
       "    <tr>\n",
       "      <th>0</th>\n",
       "      <td>DFS</td>\n",
       "    </tr>\n",
       "    <tr>\n",
       "      <th>1</th>\n",
       "      <td>CNP</td>\n",
       "    </tr>\n",
       "  </tbody>\n",
       "</table>\n",
       "</div>"
      ],
      "text/plain": [
       "  Symbol\n",
       "0    DFS\n",
       "1    CNP"
      ]
     },
     "execution_count": 163,
     "metadata": {},
     "output_type": "execute_result"
    }
   ],
   "source": [
    "connection = sqlite3.connect('MSC.db')\n",
    "cursor = connection.cursor()\n",
    "sql = ('''\n",
    "Select symbol from SP500_companies \n",
    "where symbol not in (select distinct symbol from prices where date == '2021-05-18 00:00:00')\n",
    "and  symbol not in ('BRK.B', 'BF.B', 'FLIR')'''\n",
    "    )\n",
    "df = pd.read_sql_query(sql,connection)\n",
    "df"
   ]
  },
  {
   "cell_type": "markdown",
   "metadata": {
    "heading_collapsed": true
   },
   "source": [
    "# Merge"
   ]
  },
  {
   "cell_type": "code",
   "execution_count": 142,
   "metadata": {
    "ExecuteTime": {
     "end_time": "2021-05-18T12:06:22.489424Z",
     "start_time": "2021-05-18T12:06:22.327557Z"
    },
    "hidden": true
   },
   "outputs": [
    {
     "data": {
      "text/html": [
       "<div>\n",
       "<style scoped>\n",
       "    .dataframe tbody tr th:only-of-type {\n",
       "        vertical-align: middle;\n",
       "    }\n",
       "\n",
       "    .dataframe tbody tr th {\n",
       "        vertical-align: top;\n",
       "    }\n",
       "\n",
       "    .dataframe thead th {\n",
       "        text-align: right;\n",
       "    }\n",
       "</style>\n",
       "<table border=\"1\" class=\"dataframe\">\n",
       "  <thead>\n",
       "    <tr style=\"text-align: right;\">\n",
       "      <th></th>\n",
       "      <th>date</th>\n",
       "      <th>top1</th>\n",
       "      <th>top2</th>\n",
       "      <th>top3</th>\n",
       "      <th>top4</th>\n",
       "      <th>top5</th>\n",
       "      <th>top6</th>\n",
       "      <th>top7</th>\n",
       "      <th>top8</th>\n",
       "      <th>top9</th>\n",
       "      <th>...</th>\n",
       "      <th>DJI_Open</th>\n",
       "      <th>DJI_High</th>\n",
       "      <th>DJI_Low</th>\n",
       "      <th>DJI_Close</th>\n",
       "      <th>DJI_Adj_Close</th>\n",
       "      <th>SP500_Open</th>\n",
       "      <th>SP500_High</th>\n",
       "      <th>SP500_Low</th>\n",
       "      <th>SP500_Close</th>\n",
       "      <th>SP500_Adj_Close</th>\n",
       "    </tr>\n",
       "  </thead>\n",
       "  <tbody>\n",
       "    <tr>\n",
       "      <th>87</th>\n",
       "      <td>2021-05-10</td>\n",
       "      <td>Indigenous leaders launch $2.1 billion class-a...</td>\n",
       "      <td>Russian Doc Who Lied About Navalny Poisoning ‘...</td>\n",
       "      <td>Angry protests have broken out in Kyrgyzstan a...</td>\n",
       "      <td>More than 50 people, many of them female stude...</td>\n",
       "      <td>Queen’s cousin Prince Michael of Kent accused ...</td>\n",
       "      <td>Arab world condemns Israel Police for violent ...</td>\n",
       "      <td>NASA criticizes China after rocket debris land...</td>\n",
       "      <td>Thousands to march in France demanding real ac...</td>\n",
       "      <td>Myanmar poet dies after detention, body return...</td>\n",
       "      <td>...</td>\n",
       "      <td>34,785.27</td>\n",
       "      <td>35,091.56</td>\n",
       "      <td>34,741.57</td>\n",
       "      <td>34,742.82</td>\n",
       "      <td>34,742.82</td>\n",
       "      <td>4,228.29</td>\n",
       "      <td>4,236.39</td>\n",
       "      <td>4,188.13</td>\n",
       "      <td>4,188.43</td>\n",
       "      <td>4,188.43</td>\n",
       "    </tr>\n",
       "    <tr>\n",
       "      <th>88</th>\n",
       "      <td>2021-05-11</td>\n",
       "      <td>Zero Covid deaths recorded yesterday for Engla...</td>\n",
       "      <td>Israeli airstrikes on Gaza kill 20 people, inc...</td>\n",
       "      <td>Stop evictions in East Jerusalem neighbourhood...</td>\n",
       "      <td>Instagram, Twitter deleting posts about Palest...</td>\n",
       "      <td>Boris Johnson investigated over Caribbean holi...</td>\n",
       "      <td>Rocket sirens sound in Jerusalem, Israel amid ...</td>\n",
       "      <td>WHO classifies triple-mutant Covid variant fro...</td>\n",
       "      <td>Dozens of bodies believed to be Covid-19 victi...</td>\n",
       "      <td>Missing Siberian doctor who treated Kremlin cr...</td>\n",
       "      <td>...</td>\n",
       "      <td>34,572.74</td>\n",
       "      <td>34,572.74</td>\n",
       "      <td>34,075.31</td>\n",
       "      <td>34,269.16</td>\n",
       "      <td>34,269.16</td>\n",
       "      <td>4,150.34</td>\n",
       "      <td>4,162.04</td>\n",
       "      <td>4,111.53</td>\n",
       "      <td>4,152.10</td>\n",
       "      <td>4,152.10</td>\n",
       "    </tr>\n",
       "    <tr>\n",
       "      <th>89</th>\n",
       "      <td>2021-05-12</td>\n",
       "      <td>Indian government says 5G doesn’t cause COVID-...</td>\n",
       "      <td>Largest 13 story residential building in Gaza ...</td>\n",
       "      <td>China demands cancellation of UN meeting on Uy...</td>\n",
       "      <td>Taiwan says China is 'maliciously' blocking it...</td>\n",
       "      <td>US officials believe Russia may be behind the ...</td>\n",
       "      <td>UK to ban LGBT conversion therapy and provide ...</td>\n",
       "      <td>Up to 9 Killed in Russia School Shooting</td>\n",
       "      <td>1 dead, 3 severely injured, as 'largest ever' ...</td>\n",
       "      <td>Hundreds of South Africans rallied on Tuesday ...</td>\n",
       "      <td>...</td>\n",
       "      <td>34,206.40</td>\n",
       "      <td>34,207.87</td>\n",
       "      <td>33,555.22</td>\n",
       "      <td>33,587.66</td>\n",
       "      <td>33,587.66</td>\n",
       "      <td>4,130.55</td>\n",
       "      <td>4,134.73</td>\n",
       "      <td>4,056.88</td>\n",
       "      <td>4,063.04</td>\n",
       "      <td>4,063.04</td>\n",
       "    </tr>\n",
       "    <tr>\n",
       "      <th>90</th>\n",
       "      <td>2021-05-13</td>\n",
       "      <td>'Champions League of tax avoidance:' Uber used...</td>\n",
       "      <td>Animals to be formally recognised as sentient ...</td>\n",
       "      <td>'We're watching a lynching': Jewish crowd in I...</td>\n",
       "      <td>Israeli flags burned outside 2 German synagogu...</td>\n",
       "      <td>Putin’s Wagner Group mercenaries ‘killed kids,...</td>\n",
       "      <td>Shark Advocates Cheer UK’s Banning Of Shark Fi...</td>\n",
       "      <td>Ethereum creator Vitalik Buterin donates $1 bi...</td>\n",
       "      <td>Dead whale found with 16kg of plastic bags, wr...</td>\n",
       "      <td>Israel rejects Hamas truce offer; ministers vo...</td>\n",
       "      <td>...</td>\n",
       "      <td>33,624.74</td>\n",
       "      <td>34,181.77</td>\n",
       "      <td>33,623.49</td>\n",
       "      <td>34,021.45</td>\n",
       "      <td>34,021.45</td>\n",
       "      <td>4,074.99</td>\n",
       "      <td>4,131.58</td>\n",
       "      <td>4,074.99</td>\n",
       "      <td>4,112.50</td>\n",
       "      <td>4,112.50</td>\n",
       "    </tr>\n",
       "    <tr>\n",
       "      <th>91</th>\n",
       "      <td>2021-05-14</td>\n",
       "      <td>\"2 for 100, 3 for 75.\" - Israeli soldier posts...</td>\n",
       "      <td>67 killed in Gaza, 7 killed in Israel as UN wa...</td>\n",
       "      <td>Israel's bombing of Gaza apartment buildings c...</td>\n",
       "      <td>Israel's Israeli Arab member of parliament Aid...</td>\n",
       "      <td>Jews and Arabs start to push back against viol...</td>\n",
       "      <td>France asks police to ban pro-Palestinian Pari...</td>\n",
       "      <td>US withdraws 120 military personnel from Israe...</td>\n",
       "      <td>Israel steps up Gaza offensive, kills senior H...</td>\n",
       "      <td>Biden says he's not seen a 'significant overre...</td>\n",
       "      <td>...</td>\n",
       "      <td>34,050.86</td>\n",
       "      <td>34,454.05</td>\n",
       "      <td>34,050.86</td>\n",
       "      <td>34,382.13</td>\n",
       "      <td>34,382.13</td>\n",
       "      <td>4,129.58</td>\n",
       "      <td>4,183.13</td>\n",
       "      <td>4,129.58</td>\n",
       "      <td>4,173.85</td>\n",
       "      <td>4,173.85</td>\n",
       "    </tr>\n",
       "  </tbody>\n",
       "</table>\n",
       "<p>5 rows × 41 columns</p>\n",
       "</div>"
      ],
      "text/plain": [
       "          date                                               top1  \\\n",
       "87  2021-05-10  Indigenous leaders launch $2.1 billion class-a...   \n",
       "88  2021-05-11  Zero Covid deaths recorded yesterday for Engla...   \n",
       "89  2021-05-12  Indian government says 5G doesn’t cause COVID-...   \n",
       "90  2021-05-13  'Champions League of tax avoidance:' Uber used...   \n",
       "91  2021-05-14  \"2 for 100, 3 for 75.\" - Israeli soldier posts...   \n",
       "\n",
       "                                                 top2  \\\n",
       "87  Russian Doc Who Lied About Navalny Poisoning ‘...   \n",
       "88  Israeli airstrikes on Gaza kill 20 people, inc...   \n",
       "89  Largest 13 story residential building in Gaza ...   \n",
       "90  Animals to be formally recognised as sentient ...   \n",
       "91  67 killed in Gaza, 7 killed in Israel as UN wa...   \n",
       "\n",
       "                                                 top3  \\\n",
       "87  Angry protests have broken out in Kyrgyzstan a...   \n",
       "88  Stop evictions in East Jerusalem neighbourhood...   \n",
       "89  China demands cancellation of UN meeting on Uy...   \n",
       "90  'We're watching a lynching': Jewish crowd in I...   \n",
       "91  Israel's bombing of Gaza apartment buildings c...   \n",
       "\n",
       "                                                 top4  \\\n",
       "87  More than 50 people, many of them female stude...   \n",
       "88  Instagram, Twitter deleting posts about Palest...   \n",
       "89  Taiwan says China is 'maliciously' blocking it...   \n",
       "90  Israeli flags burned outside 2 German synagogu...   \n",
       "91  Israel's Israeli Arab member of parliament Aid...   \n",
       "\n",
       "                                                 top5  \\\n",
       "87  Queen’s cousin Prince Michael of Kent accused ...   \n",
       "88  Boris Johnson investigated over Caribbean holi...   \n",
       "89  US officials believe Russia may be behind the ...   \n",
       "90  Putin’s Wagner Group mercenaries ‘killed kids,...   \n",
       "91  Jews and Arabs start to push back against viol...   \n",
       "\n",
       "                                                 top6  \\\n",
       "87  Arab world condemns Israel Police for violent ...   \n",
       "88  Rocket sirens sound in Jerusalem, Israel amid ...   \n",
       "89  UK to ban LGBT conversion therapy and provide ...   \n",
       "90  Shark Advocates Cheer UK’s Banning Of Shark Fi...   \n",
       "91  France asks police to ban pro-Palestinian Pari...   \n",
       "\n",
       "                                                 top7  \\\n",
       "87  NASA criticizes China after rocket debris land...   \n",
       "88  WHO classifies triple-mutant Covid variant fro...   \n",
       "89           Up to 9 Killed in Russia School Shooting   \n",
       "90  Ethereum creator Vitalik Buterin donates $1 bi...   \n",
       "91  US withdraws 120 military personnel from Israe...   \n",
       "\n",
       "                                                 top8  \\\n",
       "87  Thousands to march in France demanding real ac...   \n",
       "88  Dozens of bodies believed to be Covid-19 victi...   \n",
       "89  1 dead, 3 severely injured, as 'largest ever' ...   \n",
       "90  Dead whale found with 16kg of plastic bags, wr...   \n",
       "91  Israel steps up Gaza offensive, kills senior H...   \n",
       "\n",
       "                                                 top9  ...   DJI_Open  \\\n",
       "87  Myanmar poet dies after detention, body return...  ...  34,785.27   \n",
       "88  Missing Siberian doctor who treated Kremlin cr...  ...  34,572.74   \n",
       "89  Hundreds of South Africans rallied on Tuesday ...  ...  34,206.40   \n",
       "90  Israel rejects Hamas truce offer; ministers vo...  ...  33,624.74   \n",
       "91  Biden says he's not seen a 'significant overre...  ...  34,050.86   \n",
       "\n",
       "     DJI_High    DJI_Low  DJI_Close DJI_Adj_Close SP500_Open SP500_High  \\\n",
       "87  35,091.56  34,741.57  34,742.82     34,742.82   4,228.29   4,236.39   \n",
       "88  34,572.74  34,075.31  34,269.16     34,269.16   4,150.34   4,162.04   \n",
       "89  34,207.87  33,555.22  33,587.66     33,587.66   4,130.55   4,134.73   \n",
       "90  34,181.77  33,623.49  34,021.45     34,021.45   4,074.99   4,131.58   \n",
       "91  34,454.05  34,050.86  34,382.13     34,382.13   4,129.58   4,183.13   \n",
       "\n",
       "   SP500_Low SP500_Close SP500_Adj_Close  \n",
       "87  4,188.13    4,188.43        4,188.43  \n",
       "88  4,111.53    4,152.10        4,152.10  \n",
       "89  4,056.88    4,063.04        4,063.04  \n",
       "90  4,074.99    4,112.50        4,112.50  \n",
       "91  4,129.58    4,173.85        4,173.85  \n",
       "\n",
       "[5 rows x 41 columns]"
      ]
     },
     "execution_count": 142,
     "metadata": {},
     "output_type": "execute_result"
    }
   ],
   "source": [
    "connection = sqlite3.connect('MSC.db')\n",
    "cursor = connection.cursor()\n",
    "\n",
    "sql = ('''Select \n",
    "            main.date,\n",
    "            top1,top2,top3,top4,top5,\n",
    "            top6,top7,top8,top9,top10,\n",
    "            top11,top12,top13,top14,top15,\n",
    "            top16,top17,top18,top19,top20,\n",
    "            top21,top22,top23,top24,top25,\n",
    "            top26,top27,top28,top29,top30,\n",
    "            \n",
    "            DJI_Open,\n",
    "            DJI_High,\n",
    "            DJI_Low,\n",
    "            DJI_Close,\n",
    "            DJI_Adj_Close,\n",
    "            \n",
    "            SP500_Open,\n",
    "            SP500_High,\n",
    "            SP500_Low,\n",
    "            SP500_Close,\n",
    "            SP500_Adj_Close\n",
    "\n",
    "            from main\n",
    "            left join DJI on\n",
    "            main.date = date(DJI.Date)\n",
    "            left join SP500 on\n",
    "            main.date = date(SP500.Date)\n",
    "            \n",
    "            where DJI_Open not NULL\n",
    "            order by main.date\n",
    "\n",
    "       ''')\n",
    "df = pd.read_sql_query(sql,connection)\n",
    "df.tail()"
   ]
  },
  {
   "cell_type": "code",
   "execution_count": null,
   "metadata": {
    "hidden": true
   },
   "outputs": [],
   "source": []
  }
 ],
 "metadata": {
  "kernelspec": {
   "display_name": "Python 3",
   "language": "python",
   "name": "python3"
  },
  "language_info": {
   "codemirror_mode": {
    "name": "ipython",
    "version": 3
   },
   "file_extension": ".py",
   "mimetype": "text/x-python",
   "name": "python",
   "nbconvert_exporter": "python",
   "pygments_lexer": "ipython3",
   "version": "3.7.4"
  },
  "toc": {
   "base_numbering": 1,
   "nav_menu": {},
   "number_sections": true,
   "sideBar": true,
   "skip_h1_title": false,
   "title_cell": "Table of Contents",
   "title_sidebar": "Contents",
   "toc_cell": false,
   "toc_position": {},
   "toc_section_display": true,
   "toc_window_display": false
  }
 },
 "nbformat": 4,
 "nbformat_minor": 2
}
