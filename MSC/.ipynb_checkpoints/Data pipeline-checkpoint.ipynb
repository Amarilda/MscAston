{
 "cells": [
  {
   "cell_type": "code",
   "execution_count": 2,
   "metadata": {
    "ExecuteTime": {
     "end_time": "2021-05-24T16:07:15.962806Z",
     "start_time": "2021-05-24T16:07:09.468088Z"
    }
   },
   "outputs": [
    {
     "data": {
      "text/plain": [
       "'en_US.UTF-8'"
      ]
     },
     "execution_count": 2,
     "metadata": {},
     "output_type": "execute_result"
    }
   ],
   "source": [
    "import pandas as pd\n",
    "import sqlite3\n",
    "import locale\n",
    "locale.setlocale(locale.LC_ALL, 'en_US.UTF-8')"
   ]
  },
  {
   "cell_type": "markdown",
   "metadata": {
    "heading_collapsed": true
   },
   "source": [
    "# Reddit news"
   ]
  },
  {
   "cell_type": "code",
   "execution_count": null,
   "metadata": {
    "ExecuteTime": {
     "end_time": "2021-05-10T08:01:45.217910Z",
     "start_time": "2021-05-10T08:01:45.209306Z"
    },
    "hidden": true
   },
   "outputs": [],
   "source": [
    "import string\n",
    "string.punctuation"
   ]
  },
  {
   "cell_type": "code",
   "execution_count": null,
   "metadata": {
    "ExecuteTime": {
     "end_time": "2021-05-09T08:43:02.260096Z",
     "start_time": "2021-05-09T08:43:02.252874Z"
    },
    "hidden": true
   },
   "outputs": [],
   "source": [
    "kolonas = ['date']+['top'+str(i) for i in range(1,31)]\n",
    "print(kolonas)"
   ]
  },
  {
   "cell_type": "code",
   "execution_count": null,
   "metadata": {
    "ExecuteTime": {
     "end_time": "2021-05-07T11:00:18.813978Z",
     "start_time": "2021-05-07T11:00:18.805593Z"
    },
    "hidden": true
   },
   "outputs": [],
   "source": [
    "df = pd.DataFrame(columns = kolonas)"
   ]
  },
  {
   "cell_type": "code",
   "execution_count": null,
   "metadata": {
    "ExecuteTime": {
     "end_time": "2021-05-09T08:58:23.071091Z",
     "start_time": "2021-05-09T08:58:23.064557Z"
    },
    "hidden": true
   },
   "outputs": [],
   "source": [
    "connection = sqlite3.connect('MSC.db')\n",
    "cursor = connection.cursor()"
   ]
  },
  {
   "cell_type": "code",
   "execution_count": null,
   "metadata": {
    "ExecuteTime": {
     "end_time": "2021-05-07T08:02:17.784572Z",
     "start_time": "2021-05-07T08:02:15.742548Z"
    },
    "hidden": true
   },
   "outputs": [],
   "source": [
    "sql = (\"Select date(moment) as date, title from top30 where date = '2021-05-05'\")\n",
    "z = pd.read_sql_query(sql,connection)"
   ]
  },
  {
   "cell_type": "code",
   "execution_count": null,
   "metadata": {
    "ExecuteTime": {
     "end_time": "2021-05-07T08:02:29.929123Z",
     "start_time": "2021-05-07T08:02:29.336372Z"
    },
    "hidden": true
   },
   "outputs": [],
   "source": [
    "for d in z.date.unique():\n",
    "    atbilde =[]\n",
    "    atbilde.append(d)\n",
    "    #print(atbilde)\n",
    "    for title in z.title[z.date == d]:\n",
    "        atbilde.append(title)\n",
    "        \n",
    "    df.loc[len(df)] = atbilde"
   ]
  },
  {
   "cell_type": "code",
   "execution_count": null,
   "metadata": {
    "ExecuteTime": {
     "end_time": "2021-05-07T08:07:10.091859Z",
     "start_time": "2021-05-07T08:07:09.700192Z"
    },
    "hidden": true
   },
   "outputs": [],
   "source": [
    "df.to_sql('main', connection, if_exists='append',index=False)"
   ]
  },
  {
   "cell_type": "code",
   "execution_count": null,
   "metadata": {
    "ExecuteTime": {
     "end_time": "2021-05-07T11:00:24.792128Z",
     "start_time": "2021-05-07T11:00:24.773207Z"
    },
    "hidden": true
   },
   "outputs": [],
   "source": [
    "atbilde = []\n",
    "atbilde.append(z.date[0])\n",
    "#print(atbilde)\n",
    "\n",
    "for title in z.title:\n",
    "    atbilde.append(title)\n",
    "        \n",
    "print(atbilde)\n",
    "df.loc[len(df)] = atbilde"
   ]
  },
  {
   "cell_type": "markdown",
   "metadata": {
    "ExecuteTime": {
     "end_time": "2021-05-04T14:08:12.465116Z",
     "start_time": "2021-05-04T14:08:12.349472Z"
    },
    "heading_collapsed": true
   },
   "source": [
    "# delete"
   ]
  },
  {
   "cell_type": "markdown",
   "metadata": {
    "hidden": true
   },
   "source": [
    "connection = sqlite3.connect('MSC.db')\n",
    "cursor = connection.cursor()\n",
    "sql = (\"DELETE from top30 where moment  between '2021-03-30 11:17:11.915369' and '2021-03-30 11:18:48.647641'\")\n",
    "cursor.execute(sql)\n",
    "connection.commit()"
   ]
  },
  {
   "cell_type": "markdown",
   "metadata": {
    "ExecuteTime": {
     "end_time": "2021-05-04T14:27:17.429930Z",
     "start_time": "2021-05-04T14:27:17.426349Z"
    }
   },
   "source": [
    "# Yahoo finance"
   ]
  },
  {
   "cell_type": "code",
   "execution_count": 2,
   "metadata": {
    "ExecuteTime": {
     "end_time": "2021-05-20T07:52:22.469026Z",
     "start_time": "2021-05-20T07:52:20.492348Z"
    }
   },
   "outputs": [],
   "source": [
    "from bs4 import BeautifulSoup\n",
    "import requests\n",
    "import re"
   ]
  },
  {
   "cell_type": "code",
   "execution_count": null,
   "metadata": {
    "ExecuteTime": {
     "end_time": "2021-05-07T14:13:08.973697Z",
     "start_time": "2021-05-07T14:13:08.947541Z"
    }
   },
   "outputs": [],
   "source": [
    "df = pd.DataFrame(columns = ['date','SP500_Open', 'SP500_High', 'SP500_Low', 'SP500_Close', 'SP500_Adj_Close', 'SP500_Volume'])\n",
    "df"
   ]
  },
  {
   "cell_type": "code",
   "execution_count": null,
   "metadata": {
    "ExecuteTime": {
     "end_time": "2021-05-07T14:13:10.535669Z",
     "start_time": "2021-05-07T14:13:10.526983Z"
    }
   },
   "outputs": [],
   "source": [
    "str([str('SP500_')+i for i in df.columns])"
   ]
  },
  {
   "cell_type": "markdown",
   "metadata": {},
   "source": [
    "## S&P 500 (^GSPC)\n",
    "SNP - SNP Real Time Price. Currency in USD"
   ]
  },
  {
   "cell_type": "code",
   "execution_count": null,
   "metadata": {
    "ExecuteTime": {
     "end_time": "2021-05-10T07:57:06.014024Z",
     "start_time": "2021-05-10T07:57:05.990210Z"
    }
   },
   "outputs": [],
   "source": [
    "url = \"https://finance.yahoo.com/quote/%5EGSPC/history?p=%5EGSPC\""
   ]
  },
  {
   "cell_type": "code",
   "execution_count": null,
   "metadata": {
    "ExecuteTime": {
     "end_time": "2021-05-10T07:57:09.709482Z",
     "start_time": "2021-05-10T07:57:08.810741Z"
    }
   },
   "outputs": [],
   "source": [
    "r = requests.get(url)\n",
    "data = r.text\n",
    "soup = BeautifulSoup(data)"
   ]
  },
  {
   "cell_type": "code",
   "execution_count": null,
   "metadata": {
    "ExecuteTime": {
     "end_time": "2021-05-10T07:57:14.653762Z",
     "start_time": "2021-05-10T07:57:14.638684Z"
    }
   },
   "outputs": [],
   "source": [
    "answer = []\n",
    "for i in soup.find_all('td')[0:7]:\n",
    "    #print(i.span)\n",
    "    print(i.span.text)\n",
    "    answer.append(i.span.text)\n",
    "    #print(len(answer)    "
   ]
  },
  {
   "cell_type": "markdown",
   "metadata": {
    "ExecuteTime": {
     "end_time": "2021-05-07T14:13:17.725039Z",
     "start_time": "2021-05-07T14:13:17.182645Z"
    }
   },
   "source": [
    "for i in range(0, int(len(answer))//7):\n",
    "    atbilde = []\n",
    "    #print(i)\n",
    "    for j in range (0,7):\n",
    "        if j == 0:\n",
    "            atbilde.append(pd.to_datetime(answer[i*7+j], infer_datetime_format=True))\n",
    "        else:\n",
    "            atbilde.append(answer[i*7+j])\n",
    "    df.loc[len(df)] = atbilde"
   ]
  },
  {
   "cell_type": "code",
   "execution_count": 14,
   "metadata": {
    "ExecuteTime": {
     "end_time": "2021-05-24T16:13:22.540381Z",
     "start_time": "2021-05-24T16:13:22.508549Z"
    }
   },
   "outputs": [
    {
     "name": "stdout",
     "output_type": "stream",
     "text": [
      "          date                                              title\n",
      "0   2021-05-21  Palestinian Head of internal medicine of main ...\n",
      "1   2021-05-21   UK government backs Israel’s bombardment of Gaza\n",
      "2   2021-05-21  Israeli media: Cabinet approves cease-fire in ...\n",
      "3   2021-05-21  Lithuanian parliament passes resolution condem...\n",
      "4   2021-05-21  Samoa to scrap China-backed port project under...\n",
      "5   2021-05-21  Boko Haram leader either dead or seriously wou...\n",
      "6   2021-05-21  Almost 40% of young people are waiting too lon...\n",
      "7   2021-05-21  We will pursue you for life, Hong Kong warns w...\n",
      "8   2021-05-21  France's top court rejects move to restrict im...\n",
      "9   2021-05-21  Iran’s downing of Flight 752 was intentional a...\n",
      "10  2021-05-21  After black fungus, white fungus infection cas...\n",
      "11  2021-05-21  Not falling behind anymore: Canada to surpass ...\n",
      "12  2021-05-21  Zelenskiy: Russian passports in Donbass are a ...\n",
      "13  2021-05-21  Erdogan sues rival for comparing his attempt t...\n",
      "14  2021-05-21  Stench of death pervades rural India as Ganges...\n",
      "15  2021-05-21  Israel shot down armed Iranian drone - Netanyahu.\n",
      "16  2021-05-21  Italy: Police seize Nazi flags in raids on whi...\n",
      "17  2021-05-21  Russia: Navalny 'recovered' after hunger strik...\n",
      "18  2021-05-21  Two new species of “ancient plants” have just ...\n",
      "19  2021-05-21  Spain passes climate bill banning new oil, gas...\n",
      "20  2021-05-21  World's largest iceberg breaks off of Antarcti...\n",
      "21  2021-05-21  Settlers deforesting Colombian national parks ...\n",
      "22  2021-05-21  Nigeria's Boko Haram leader 'badly wounded' du...\n",
      "23  2021-05-21  Japan ready to freeze all Myanmar development ...\n",
      "24  2021-05-21  Based on imagery analysis, North Korea seems t...\n",
      "25  2021-05-21  A New, Infectious Coronavirus Is Detected In M...\n",
      "26  2021-05-21  Democratic Party leader Song Young-gil critici...\n",
      "27  2021-05-21  Apple employees call for company to support Pa...\n",
      "28  2021-05-21  German soldier who posed as refugee on trial f...\n",
      "29  2021-05-21  Hamas welcomes rockets from Lebanon, Syria tow...\n",
      "Appended to MAIN\n"
     ]
    }
   ],
   "source": [
    "connection = sqlite3.connect('MSC.db')\n",
    "cursor = connection.cursor()\n",
    "sql = (\"Select date(moment) as date, title from ER20210521\")\n",
    "z = pd.read_sql_query(sql,connection)\n",
    "print(z)\n",
    "\n",
    "\n",
    "atbilde = []\n",
    "columnnames = \"'date', 'top1', 'top2', 'top3', 'top4', 'top5', 'top6', 'top7', 'top8', 'top9', 'top10', 'top11', 'top12', 'top13', 'top14', 'top15', 'top16', 'top17', 'top18', 'top19', 'top20', 'top21', 'top22', 'top23', 'top24', 'top25', 'top26', 'top27', 'top28', 'top29', top30\"\n",
    "insertintotable = '?,?,?,?,?,?,?,?,?,?,?,?,?,?,?,?,?,?,?,?,?,?,?,?,?,?,?,?,?,?,?'\n",
    "atbilde = [z.date[0]] +[i for i in  z.title]\n",
    "\n",
    "connection = sqlite3.connect('MSC.db')\n",
    "cursor = connection.cursor()\n",
    "sql2 = f'cursor.execute(\"insert INTO  main ({columnnames}) VALUES ({insertintotable})\", {atbilde})'\n",
    "eval(sql2)\n",
    "connection.commit()\n",
    "connection.close()\n",
    "print(\"Appended to MAIN\")\n"
   ]
  },
  {
   "cell_type": "code",
   "execution_count": 11,
   "metadata": {
    "ExecuteTime": {
     "end_time": "2021-05-24T16:10:56.631867Z",
     "start_time": "2021-05-24T16:10:56.543867Z"
    }
   },
   "outputs": [
    {
     "data": {
      "text/html": [
       "<div>\n",
       "<style scoped>\n",
       "    .dataframe tbody tr th:only-of-type {\n",
       "        vertical-align: middle;\n",
       "    }\n",
       "\n",
       "    .dataframe tbody tr th {\n",
       "        vertical-align: top;\n",
       "    }\n",
       "\n",
       "    .dataframe thead th {\n",
       "        text-align: right;\n",
       "    }\n",
       "</style>\n",
       "<table border=\"1\" class=\"dataframe\">\n",
       "  <thead>\n",
       "    <tr style=\"text-align: right;\">\n",
       "      <th></th>\n",
       "      <th>date</th>\n",
       "      <th>top1</th>\n",
       "      <th>top2</th>\n",
       "      <th>top3</th>\n",
       "      <th>top4</th>\n",
       "      <th>top5</th>\n",
       "      <th>top6</th>\n",
       "      <th>top7</th>\n",
       "      <th>top8</th>\n",
       "      <th>top9</th>\n",
       "      <th>...</th>\n",
       "      <th>top21</th>\n",
       "      <th>top22</th>\n",
       "      <th>top23</th>\n",
       "      <th>top24</th>\n",
       "      <th>top25</th>\n",
       "      <th>top26</th>\n",
       "      <th>top27</th>\n",
       "      <th>top28</th>\n",
       "      <th>top29</th>\n",
       "      <th>top30</th>\n",
       "    </tr>\n",
       "  </thead>\n",
       "  <tbody>\n",
       "    <tr>\n",
       "      <th>0</th>\n",
       "      <td>2021-01-01</td>\n",
       "      <td>Women should decide whether to legalize aborti...</td>\n",
       "      <td>NATO is furious at Trump delaying the military...</td>\n",
       "      <td>Antibiotics banned in UK but fed to US animals...</td>\n",
       "      <td>Iran accuses Trump of 'plot to fabricate prete...</td>\n",
       "      <td>Extinct woolly rhinoceros found frozen in Sibe...</td>\n",
       "      <td>New COVID-19 strain spreading faster than all ...</td>\n",
       "      <td>Canadian politician faked Twitter posts to con...</td>\n",
       "      <td>Iran says Trump's life 'will end,' won't stop ...</td>\n",
       "      <td>China allegedly paid non-state actors to kill ...</td>\n",
       "      <td>...</td>\n",
       "      <td>Vatican denies knowledge of $1.8 billion trans...</td>\n",
       "      <td>U.S. demands release of Uighur doctor who fami...</td>\n",
       "      <td>Countries that have managed to reduce transmis...</td>\n",
       "      <td>SolarWinds hackers accessed Microsoft source code</td>\n",
       "      <td>Hospital worker deliberately destroys 570 dose...</td>\n",
       "      <td>China Is Making It Harder To Solve The Mystery...</td>\n",
       "      <td>Iran's Zarif says U.S. plotting to fabricate w...</td>\n",
       "      <td>Australia changes national anthem to reflect i...</td>\n",
       "      <td>Caribbean volcanoes rumble to life as scientis...</td>\n",
       "      <td>China marks the New Year with a victory speech...</td>\n",
       "    </tr>\n",
       "    <tr>\n",
       "      <th>1</th>\n",
       "      <td>2021-01-02</td>\n",
       "      <td>Crowds throng Wuhan, where coronavirus pandemi...</td>\n",
       "      <td>Apple knew a supplier was using child labor bu...</td>\n",
       "      <td>China is guarding ancient bat caves against jo...</td>\n",
       "      <td>Brexit a product of ‘lies and false promises’,...</td>\n",
       "      <td>Indian Govt proposes to buy bulk subscriptions...</td>\n",
       "      <td>We will be back soon, Scotland's first ministe...</td>\n",
       "      <td>Prime Minister Imran Khan announced his two ne...</td>\n",
       "      <td>Two dormant volcanoes on Martinique and St. Vi...</td>\n",
       "      <td>Some 2,500 partygoers attended an illegal New ...</td>\n",
       "      <td>...</td>\n",
       "      <td>Puerto Rico commits $8 million to clean-up deb...</td>\n",
       "      <td>As 2021 dawns, Israel becomes first country to...</td>\n",
       "      <td>Fresh fears for Tokyo Olympics as host city se...</td>\n",
       "      <td>Iran intends to start enriching uranium to 20%...</td>\n",
       "      <td>Pakistan regional gov’t to fund construction o...</td>\n",
       "      <td>'Exceptionally draining': US medics shattered ...</td>\n",
       "      <td>U.S. foreign military sales broke records in 2...</td>\n",
       "      <td>Cuban school teachers, journalists, lion tamer...</td>\n",
       "      <td>BBC News - Australia-China row: 'I'm Australia...</td>\n",
       "      <td>Australia-China row: \"I'm Australian - why do ...</td>\n",
       "    </tr>\n",
       "    <tr>\n",
       "      <th>2</th>\n",
       "      <td>2021-01-03</td>\n",
       "      <td>Amid Warnings of Surging Worldwide Poverty, Pl...</td>\n",
       "      <td>Covid wards 'full of children' for first time ...</td>\n",
       "      <td>Kazakhstan abolishes death penalty</td>\n",
       "      <td>Growing list of Canadian politicians caught tr...</td>\n",
       "      <td>Two trans women win election in historic momen...</td>\n",
       "      <td>Quantum Teleportation Was Just Achieved With 9...</td>\n",
       "      <td>Beijing rejects Taiwanese president’s offer to...</td>\n",
       "      <td>Turkish Scientists say they've made a 10-secon...</td>\n",
       "      <td>'Always afraid': Iran's largest religious mino...</td>\n",
       "      <td>...</td>\n",
       "      <td>Germany’s drive for EU-China deal draws critic...</td>\n",
       "      <td>Serbia opens pipeline for Russian gas, ignorin...</td>\n",
       "      <td>‘We don't need a world where China becomes ano...</td>\n",
       "      <td>Palestinian Young Man Paralyzed after Israeli ...</td>\n",
       "      <td>Bezos, Musk Smash Records as World’s Richest A...</td>\n",
       "      <td>Tesco and Pizza Hut 'shamed' for not paying th...</td>\n",
       "      <td>Bolsonaro Criticizes The Decision in Argentina...</td>\n",
       "      <td>Chinese agriculture experts help boost crop yi...</td>\n",
       "      <td>US imposes new sanctions to kill off Putin’s p...</td>\n",
       "      <td>At least 70 killed in suspected Islamist attac...</td>\n",
       "    </tr>\n",
       "    <tr>\n",
       "      <th>3</th>\n",
       "      <td>2021-01-04</td>\n",
       "      <td>Chinese tech billionaire Jack Ma was removed f...</td>\n",
       "      <td>Organic meats found to have approximately the ...</td>\n",
       "      <td>German police raid church service with over 10...</td>\n",
       "      <td>Palestinians excluded from Israeli Covid vacci...</td>\n",
       "      <td>Teachers in England ‘scared’ and ‘frustrated’ ...</td>\n",
       "      <td>Protestors gather outside Dublin police statio...</td>\n",
       "      <td>London hospitals to halt cancer surgeries due ...</td>\n",
       "      <td>Pope condemns travelling abroad to escape coro...</td>\n",
       "      <td>Richest 1% have almost a quarter of UK wealth,...</td>\n",
       "      <td>...</td>\n",
       "      <td>NZ crayfish in hot demand in China, selling fo...</td>\n",
       "      <td>Israeli soldier shoots and paralyzes Palestini...</td>\n",
       "      <td>Moscow metro hires first female train drivers ...</td>\n",
       "      <td>China reports 24 new COVID-19 cases vs. 22 a d...</td>\n",
       "      <td>Israel dismisses 'nonsense' Iran charge it see...</td>\n",
       "      <td>Rendering of Korea's first aircraft carrier re...</td>\n",
       "      <td>ASIO red-flags Chinese businessman and Liberal...</td>\n",
       "      <td>Covid police raid Canadian home, violently arr...</td>\n",
       "      <td>Lab leak is the 'most credible' source of the ...</td>\n",
       "      <td>[Japan] Male-only rule should be prioritized i...</td>\n",
       "    </tr>\n",
       "    <tr>\n",
       "      <th>4</th>\n",
       "      <td>2021-01-05</td>\n",
       "      <td>Julian Assange cannot be extradited to US, Bri...</td>\n",
       "      <td>Scotland announces full lockdown, closing scho...</td>\n",
       "      <td>South Korea recorded more deaths than births i...</td>\n",
       "      <td>Scottish National Party MP Margaret Ferrier ha...</td>\n",
       "      <td>England Enters National Lockdown in wake New C...</td>\n",
       "      <td>British expats 'barred from boarding flight to...</td>\n",
       "      <td>Canada's top-paid CEOs raked in average worker...</td>\n",
       "      <td>Iran resumes enriching uranium to 20%</td>\n",
       "      <td>North Korea requests Covid vaccine after month...</td>\n",
       "      <td>...</td>\n",
       "      <td>Colchester Hospital: Covid deniers removed fro...</td>\n",
       "      <td>Julian Assange cannot be extradited to US, Bri...</td>\n",
       "      <td>Iran says it has seized South Korean tanker as...</td>\n",
       "      <td>Where is Jack Ma? Questions arise about the bi...</td>\n",
       "      <td>An unusually strong warm wave heads for the Ar...</td>\n",
       "      <td>Bali's beaches buried in tide of plastic rubbi...</td>\n",
       "      <td>Covid: Boris Johnson puts England into six-wee...</td>\n",
       "      <td>As Jack Ma goes missing, video predicting he w...</td>\n",
       "      <td>The world’s largest solar plant has secured fi...</td>\n",
       "      <td>Pentagon: Carrier USS Nimitz Will Stay in Midd...</td>\n",
       "    </tr>\n",
       "    <tr>\n",
       "      <th>...</th>\n",
       "      <td>...</td>\n",
       "      <td>...</td>\n",
       "      <td>...</td>\n",
       "      <td>...</td>\n",
       "      <td>...</td>\n",
       "      <td>...</td>\n",
       "      <td>...</td>\n",
       "      <td>...</td>\n",
       "      <td>...</td>\n",
       "      <td>...</td>\n",
       "      <td>...</td>\n",
       "      <td>...</td>\n",
       "      <td>...</td>\n",
       "      <td>...</td>\n",
       "      <td>...</td>\n",
       "      <td>...</td>\n",
       "      <td>...</td>\n",
       "      <td>...</td>\n",
       "      <td>...</td>\n",
       "      <td>...</td>\n",
       "      <td>...</td>\n",
       "    </tr>\n",
       "    <tr>\n",
       "      <th>141</th>\n",
       "      <td>2021-05-22</td>\n",
       "      <td>Iran shot down plane full of Canadians intenti...</td>\n",
       "      <td>Saudi Arabia plans to plant 10 billion trees i...</td>\n",
       "      <td>Germany bans male chick culling from 2022: The...</td>\n",
       "      <td>France gives all 18-year-olds €300 to spend on...</td>\n",
       "      <td>LSD 'rewinds' the brains functions and makes i...</td>\n",
       "      <td>CNN : Israeli forces in violent confrontations...</td>\n",
       "      <td>Toronto activists paint Israeli consulate step...</td>\n",
       "      <td>Owner of AP tower destroyed in Israeli airstri...</td>\n",
       "      <td>China says it will crack down on bit-coin mini...</td>\n",
       "      <td>...</td>\n",
       "      <td>Brazilian ex-presidents and longtime rivals Lu...</td>\n",
       "      <td>Former Canadian ambassador to Israel worked fo...</td>\n",
       "      <td>Blast kills several at pro-Palestine rally in ...</td>\n",
       "      <td>Richest nations agree to end support for coal ...</td>\n",
       "      <td>Four Ethiopian soldiers convicted of crimes ag...</td>\n",
       "      <td>Arctic Has Warmed Three Times Faster Than Eart...</td>\n",
       "      <td>‘Black fungus’ disease linked to Covid spreads...</td>\n",
       "      <td>Pentagon chief unable to talk to Chinese milit...</td>\n",
       "      <td>Hamas' Haniyeh vows to destabilize Jerusalem, ...</td>\n",
       "      <td>Israel PM Benjamin Netanyahu threatens 'new le...</td>\n",
       "    </tr>\n",
       "    <tr>\n",
       "      <th>142</th>\n",
       "      <td>2021-05-23</td>\n",
       "      <td>Tens of thousands attend largest pro-Palestine...</td>\n",
       "      <td>Anti-Netanyahu protesters gathered outside the...</td>\n",
       "      <td>Hundreds of Jews, Arabs gather to protest in S...</td>\n",
       "      <td>India tells social media firms to remove \"Indi...</td>\n",
       "      <td>Croatia: Court ruling paves way for same-sex c...</td>\n",
       "      <td>Climbing guide reports large COVID-19 outbreak...</td>\n",
       "      <td>COVID-19 deaths in Latin America surpass 1 mil...</td>\n",
       "      <td>Another 7 activists arrested on Vancouver Isla...</td>\n",
       "      <td>South African dockworkers refuse to offload Is...</td>\n",
       "      <td>...</td>\n",
       "      <td>Polish government hits out at \"colonial\" EU co...</td>\n",
       "      <td>Climbing guide says Covid outbreak on Mount Ev...</td>\n",
       "      <td>Bolsonaro fined for breaking Covid-19 restrict...</td>\n",
       "      <td>More than 125,000 Myanmar teachers suspended f...</td>\n",
       "      <td>UN urges ‘full adherence to ceasefire’ as life...</td>\n",
       "      <td>Albert Einstein letter with E=mc2 equation wri...</td>\n",
       "      <td>Virgin Galactic rocket plane flies to edge of ...</td>\n",
       "      <td>‘Disgraceful’: AP slammed for sacking reporter...</td>\n",
       "      <td>Yesh Atid to expedite legislation to curtail N...</td>\n",
       "      <td>At least 274 people - including 71 children - ...</td>\n",
       "    </tr>\n",
       "    <tr>\n",
       "      <th>143</th>\n",
       "      <td>2021-05-24</td>\n",
       "      <td>Up to 40 bodies, mostly women, found buried on...</td>\n",
       "      <td>Irish parliament to vote on motion to expel Is...</td>\n",
       "      <td>Iraq estimates that $150 billion of its oil mo...</td>\n",
       "      <td>Black Lives Matter activist Sasha Johnson 'in ...</td>\n",
       "      <td>Wuhan Lab Staff Sought Hospital Care Before CO...</td>\n",
       "      <td>Belarus opposition says government forced Ryan...</td>\n",
       "      <td>The diversion of a flight between two EU count...</td>\n",
       "      <td>Eight dead after cable car falls in Italy</td>\n",
       "      <td>World's Largest Iceberg Breaks Off of Antarcti...</td>\n",
       "      <td>...</td>\n",
       "      <td>Iran says inspectors may no longer get nuclear...</td>\n",
       "      <td>France fears ‘apartheid’ in Israel if Palestin...</td>\n",
       "      <td>ISIS won’t get $7 million bounty placed on Bok...</td>\n",
       "      <td>‘A ticking time bomb’: Timor-Leste begins to r...</td>\n",
       "      <td>A gun battle erupted on Sunday between Myanmar...</td>\n",
       "      <td>Israeli officials 'regret' bombing Gaza AP bur...</td>\n",
       "      <td>Mount Everest Covid outbreak has infected 100 ...</td>\n",
       "      <td>India battles fatal fungal threat as virus dea...</td>\n",
       "      <td>Australian hoarder killed intruder and kept bo...</td>\n",
       "      <td>‘Tragic’ that just over 25M vaccine doses admi...</td>\n",
       "    </tr>\n",
       "    <tr>\n",
       "      <th>144</th>\n",
       "      <td>2021-05-21</td>\n",
       "      <td>Palestinian Head of internal medicine of main ...</td>\n",
       "      <td>UK government backs Israel’s bombardment of Gaza</td>\n",
       "      <td>Israeli media: Cabinet approves cease-fire in ...</td>\n",
       "      <td>Lithuanian parliament passes resolution condem...</td>\n",
       "      <td>Samoa to scrap China-backed port project under...</td>\n",
       "      <td>Boko Haram leader either dead or seriously wou...</td>\n",
       "      <td>Almost 40% of young people are waiting too lon...</td>\n",
       "      <td>We will pursue you for life, Hong Kong warns w...</td>\n",
       "      <td>France's top court rejects move to restrict im...</td>\n",
       "      <td>...</td>\n",
       "      <td>World's largest iceberg breaks off of Antarcti...</td>\n",
       "      <td>Settlers deforesting Colombian national parks ...</td>\n",
       "      <td>Nigeria's Boko Haram leader 'badly wounded' du...</td>\n",
       "      <td>Japan ready to freeze all Myanmar development ...</td>\n",
       "      <td>Based on imagery analysis, North Korea seems t...</td>\n",
       "      <td>A New, Infectious Coronavirus Is Detected In M...</td>\n",
       "      <td>Democratic Party leader Song Young-gil critici...</td>\n",
       "      <td>Apple employees call for company to support Pa...</td>\n",
       "      <td>German soldier who posed as refugee on trial f...</td>\n",
       "      <td>Hamas welcomes rockets from Lebanon, Syria tow...</td>\n",
       "    </tr>\n",
       "    <tr>\n",
       "      <th>145</th>\n",
       "      <td>2021-05-21</td>\n",
       "      <td>Palestinian Head of internal medicine of main ...</td>\n",
       "      <td>UK government backs Israel’s bombardment of Gaza</td>\n",
       "      <td>Israeli media: Cabinet approves cease-fire in ...</td>\n",
       "      <td>Lithuanian parliament passes resolution condem...</td>\n",
       "      <td>Samoa to scrap China-backed port project under...</td>\n",
       "      <td>Boko Haram leader either dead or seriously wou...</td>\n",
       "      <td>Almost 40% of young people are waiting too lon...</td>\n",
       "      <td>We will pursue you for life, Hong Kong warns w...</td>\n",
       "      <td>France's top court rejects move to restrict im...</td>\n",
       "      <td>...</td>\n",
       "      <td>World's largest iceberg breaks off of Antarcti...</td>\n",
       "      <td>Settlers deforesting Colombian national parks ...</td>\n",
       "      <td>Nigeria's Boko Haram leader 'badly wounded' du...</td>\n",
       "      <td>Japan ready to freeze all Myanmar development ...</td>\n",
       "      <td>Based on imagery analysis, North Korea seems t...</td>\n",
       "      <td>A New, Infectious Coronavirus Is Detected In M...</td>\n",
       "      <td>Democratic Party leader Song Young-gil critici...</td>\n",
       "      <td>Apple employees call for company to support Pa...</td>\n",
       "      <td>German soldier who posed as refugee on trial f...</td>\n",
       "      <td>Hamas welcomes rockets from Lebanon, Syria tow...</td>\n",
       "    </tr>\n",
       "  </tbody>\n",
       "</table>\n",
       "<p>146 rows × 31 columns</p>\n",
       "</div>"
      ],
      "text/plain": [
       "           date                                               top1  \\\n",
       "0    2021-01-01  Women should decide whether to legalize aborti...   \n",
       "1    2021-01-02  Crowds throng Wuhan, where coronavirus pandemi...   \n",
       "2    2021-01-03  Amid Warnings of Surging Worldwide Poverty, Pl...   \n",
       "3    2021-01-04  Chinese tech billionaire Jack Ma was removed f...   \n",
       "4    2021-01-05  Julian Assange cannot be extradited to US, Bri...   \n",
       "..          ...                                                ...   \n",
       "141  2021-05-22  Iran shot down plane full of Canadians intenti...   \n",
       "142  2021-05-23  Tens of thousands attend largest pro-Palestine...   \n",
       "143  2021-05-24  Up to 40 bodies, mostly women, found buried on...   \n",
       "144  2021-05-21  Palestinian Head of internal medicine of main ...   \n",
       "145  2021-05-21  Palestinian Head of internal medicine of main ...   \n",
       "\n",
       "                                                  top2  \\\n",
       "0    NATO is furious at Trump delaying the military...   \n",
       "1    Apple knew a supplier was using child labor bu...   \n",
       "2    Covid wards 'full of children' for first time ...   \n",
       "3    Organic meats found to have approximately the ...   \n",
       "4    Scotland announces full lockdown, closing scho...   \n",
       "..                                                 ...   \n",
       "141  Saudi Arabia plans to plant 10 billion trees i...   \n",
       "142  Anti-Netanyahu protesters gathered outside the...   \n",
       "143  Irish parliament to vote on motion to expel Is...   \n",
       "144   UK government backs Israel’s bombardment of Gaza   \n",
       "145   UK government backs Israel’s bombardment of Gaza   \n",
       "\n",
       "                                                  top3  \\\n",
       "0    Antibiotics banned in UK but fed to US animals...   \n",
       "1    China is guarding ancient bat caves against jo...   \n",
       "2                   Kazakhstan abolishes death penalty   \n",
       "3    German police raid church service with over 10...   \n",
       "4    South Korea recorded more deaths than births i...   \n",
       "..                                                 ...   \n",
       "141  Germany bans male chick culling from 2022: The...   \n",
       "142  Hundreds of Jews, Arabs gather to protest in S...   \n",
       "143  Iraq estimates that $150 billion of its oil mo...   \n",
       "144  Israeli media: Cabinet approves cease-fire in ...   \n",
       "145  Israeli media: Cabinet approves cease-fire in ...   \n",
       "\n",
       "                                                  top4  \\\n",
       "0    Iran accuses Trump of 'plot to fabricate prete...   \n",
       "1    Brexit a product of ‘lies and false promises’,...   \n",
       "2    Growing list of Canadian politicians caught tr...   \n",
       "3    Palestinians excluded from Israeli Covid vacci...   \n",
       "4    Scottish National Party MP Margaret Ferrier ha...   \n",
       "..                                                 ...   \n",
       "141  France gives all 18-year-olds €300 to spend on...   \n",
       "142  India tells social media firms to remove \"Indi...   \n",
       "143  Black Lives Matter activist Sasha Johnson 'in ...   \n",
       "144  Lithuanian parliament passes resolution condem...   \n",
       "145  Lithuanian parliament passes resolution condem...   \n",
       "\n",
       "                                                  top5  \\\n",
       "0    Extinct woolly rhinoceros found frozen in Sibe...   \n",
       "1    Indian Govt proposes to buy bulk subscriptions...   \n",
       "2    Two trans women win election in historic momen...   \n",
       "3    Teachers in England ‘scared’ and ‘frustrated’ ...   \n",
       "4    England Enters National Lockdown in wake New C...   \n",
       "..                                                 ...   \n",
       "141  LSD 'rewinds' the brains functions and makes i...   \n",
       "142  Croatia: Court ruling paves way for same-sex c...   \n",
       "143  Wuhan Lab Staff Sought Hospital Care Before CO...   \n",
       "144  Samoa to scrap China-backed port project under...   \n",
       "145  Samoa to scrap China-backed port project under...   \n",
       "\n",
       "                                                  top6  \\\n",
       "0    New COVID-19 strain spreading faster than all ...   \n",
       "1    We will be back soon, Scotland's first ministe...   \n",
       "2    Quantum Teleportation Was Just Achieved With 9...   \n",
       "3    Protestors gather outside Dublin police statio...   \n",
       "4    British expats 'barred from boarding flight to...   \n",
       "..                                                 ...   \n",
       "141  CNN : Israeli forces in violent confrontations...   \n",
       "142  Climbing guide reports large COVID-19 outbreak...   \n",
       "143  Belarus opposition says government forced Ryan...   \n",
       "144  Boko Haram leader either dead or seriously wou...   \n",
       "145  Boko Haram leader either dead or seriously wou...   \n",
       "\n",
       "                                                  top7  \\\n",
       "0    Canadian politician faked Twitter posts to con...   \n",
       "1    Prime Minister Imran Khan announced his two ne...   \n",
       "2    Beijing rejects Taiwanese president’s offer to...   \n",
       "3    London hospitals to halt cancer surgeries due ...   \n",
       "4    Canada's top-paid CEOs raked in average worker...   \n",
       "..                                                 ...   \n",
       "141  Toronto activists paint Israeli consulate step...   \n",
       "142  COVID-19 deaths in Latin America surpass 1 mil...   \n",
       "143  The diversion of a flight between two EU count...   \n",
       "144  Almost 40% of young people are waiting too lon...   \n",
       "145  Almost 40% of young people are waiting too lon...   \n",
       "\n",
       "                                                  top8  \\\n",
       "0    Iran says Trump's life 'will end,' won't stop ...   \n",
       "1    Two dormant volcanoes on Martinique and St. Vi...   \n",
       "2    Turkish Scientists say they've made a 10-secon...   \n",
       "3    Pope condemns travelling abroad to escape coro...   \n",
       "4                Iran resumes enriching uranium to 20%   \n",
       "..                                                 ...   \n",
       "141  Owner of AP tower destroyed in Israeli airstri...   \n",
       "142  Another 7 activists arrested on Vancouver Isla...   \n",
       "143          Eight dead after cable car falls in Italy   \n",
       "144  We will pursue you for life, Hong Kong warns w...   \n",
       "145  We will pursue you for life, Hong Kong warns w...   \n",
       "\n",
       "                                                  top9  ...  \\\n",
       "0    China allegedly paid non-state actors to kill ...  ...   \n",
       "1    Some 2,500 partygoers attended an illegal New ...  ...   \n",
       "2    'Always afraid': Iran's largest religious mino...  ...   \n",
       "3    Richest 1% have almost a quarter of UK wealth,...  ...   \n",
       "4    North Korea requests Covid vaccine after month...  ...   \n",
       "..                                                 ...  ...   \n",
       "141  China says it will crack down on bit-coin mini...  ...   \n",
       "142  South African dockworkers refuse to offload Is...  ...   \n",
       "143  World's Largest Iceberg Breaks Off of Antarcti...  ...   \n",
       "144  France's top court rejects move to restrict im...  ...   \n",
       "145  France's top court rejects move to restrict im...  ...   \n",
       "\n",
       "                                                 top21  \\\n",
       "0    Vatican denies knowledge of $1.8 billion trans...   \n",
       "1    Puerto Rico commits $8 million to clean-up deb...   \n",
       "2    Germany’s drive for EU-China deal draws critic...   \n",
       "3    NZ crayfish in hot demand in China, selling fo...   \n",
       "4    Colchester Hospital: Covid deniers removed fro...   \n",
       "..                                                 ...   \n",
       "141  Brazilian ex-presidents and longtime rivals Lu...   \n",
       "142  Polish government hits out at \"colonial\" EU co...   \n",
       "143  Iran says inspectors may no longer get nuclear...   \n",
       "144  World's largest iceberg breaks off of Antarcti...   \n",
       "145  World's largest iceberg breaks off of Antarcti...   \n",
       "\n",
       "                                                 top22  \\\n",
       "0    U.S. demands release of Uighur doctor who fami...   \n",
       "1    As 2021 dawns, Israel becomes first country to...   \n",
       "2    Serbia opens pipeline for Russian gas, ignorin...   \n",
       "3    Israeli soldier shoots and paralyzes Palestini...   \n",
       "4    Julian Assange cannot be extradited to US, Bri...   \n",
       "..                                                 ...   \n",
       "141  Former Canadian ambassador to Israel worked fo...   \n",
       "142  Climbing guide says Covid outbreak on Mount Ev...   \n",
       "143  France fears ‘apartheid’ in Israel if Palestin...   \n",
       "144  Settlers deforesting Colombian national parks ...   \n",
       "145  Settlers deforesting Colombian national parks ...   \n",
       "\n",
       "                                                 top23  \\\n",
       "0    Countries that have managed to reduce transmis...   \n",
       "1    Fresh fears for Tokyo Olympics as host city se...   \n",
       "2    ‘We don't need a world where China becomes ano...   \n",
       "3    Moscow metro hires first female train drivers ...   \n",
       "4    Iran says it has seized South Korean tanker as...   \n",
       "..                                                 ...   \n",
       "141  Blast kills several at pro-Palestine rally in ...   \n",
       "142  Bolsonaro fined for breaking Covid-19 restrict...   \n",
       "143  ISIS won’t get $7 million bounty placed on Bok...   \n",
       "144  Nigeria's Boko Haram leader 'badly wounded' du...   \n",
       "145  Nigeria's Boko Haram leader 'badly wounded' du...   \n",
       "\n",
       "                                                 top24  \\\n",
       "0    SolarWinds hackers accessed Microsoft source code   \n",
       "1    Iran intends to start enriching uranium to 20%...   \n",
       "2    Palestinian Young Man Paralyzed after Israeli ...   \n",
       "3    China reports 24 new COVID-19 cases vs. 22 a d...   \n",
       "4    Where is Jack Ma? Questions arise about the bi...   \n",
       "..                                                 ...   \n",
       "141  Richest nations agree to end support for coal ...   \n",
       "142  More than 125,000 Myanmar teachers suspended f...   \n",
       "143  ‘A ticking time bomb’: Timor-Leste begins to r...   \n",
       "144  Japan ready to freeze all Myanmar development ...   \n",
       "145  Japan ready to freeze all Myanmar development ...   \n",
       "\n",
       "                                                 top25  \\\n",
       "0    Hospital worker deliberately destroys 570 dose...   \n",
       "1    Pakistan regional gov’t to fund construction o...   \n",
       "2    Bezos, Musk Smash Records as World’s Richest A...   \n",
       "3    Israel dismisses 'nonsense' Iran charge it see...   \n",
       "4    An unusually strong warm wave heads for the Ar...   \n",
       "..                                                 ...   \n",
       "141  Four Ethiopian soldiers convicted of crimes ag...   \n",
       "142  UN urges ‘full adherence to ceasefire’ as life...   \n",
       "143  A gun battle erupted on Sunday between Myanmar...   \n",
       "144  Based on imagery analysis, North Korea seems t...   \n",
       "145  Based on imagery analysis, North Korea seems t...   \n",
       "\n",
       "                                                 top26  \\\n",
       "0    China Is Making It Harder To Solve The Mystery...   \n",
       "1    'Exceptionally draining': US medics shattered ...   \n",
       "2    Tesco and Pizza Hut 'shamed' for not paying th...   \n",
       "3    Rendering of Korea's first aircraft carrier re...   \n",
       "4    Bali's beaches buried in tide of plastic rubbi...   \n",
       "..                                                 ...   \n",
       "141  Arctic Has Warmed Three Times Faster Than Eart...   \n",
       "142  Albert Einstein letter with E=mc2 equation wri...   \n",
       "143  Israeli officials 'regret' bombing Gaza AP bur...   \n",
       "144  A New, Infectious Coronavirus Is Detected In M...   \n",
       "145  A New, Infectious Coronavirus Is Detected In M...   \n",
       "\n",
       "                                                 top27  \\\n",
       "0    Iran's Zarif says U.S. plotting to fabricate w...   \n",
       "1    U.S. foreign military sales broke records in 2...   \n",
       "2    Bolsonaro Criticizes The Decision in Argentina...   \n",
       "3    ASIO red-flags Chinese businessman and Liberal...   \n",
       "4    Covid: Boris Johnson puts England into six-wee...   \n",
       "..                                                 ...   \n",
       "141  ‘Black fungus’ disease linked to Covid spreads...   \n",
       "142  Virgin Galactic rocket plane flies to edge of ...   \n",
       "143  Mount Everest Covid outbreak has infected 100 ...   \n",
       "144  Democratic Party leader Song Young-gil critici...   \n",
       "145  Democratic Party leader Song Young-gil critici...   \n",
       "\n",
       "                                                 top28  \\\n",
       "0    Australia changes national anthem to reflect i...   \n",
       "1    Cuban school teachers, journalists, lion tamer...   \n",
       "2    Chinese agriculture experts help boost crop yi...   \n",
       "3    Covid police raid Canadian home, violently arr...   \n",
       "4    As Jack Ma goes missing, video predicting he w...   \n",
       "..                                                 ...   \n",
       "141  Pentagon chief unable to talk to Chinese milit...   \n",
       "142  ‘Disgraceful’: AP slammed for sacking reporter...   \n",
       "143  India battles fatal fungal threat as virus dea...   \n",
       "144  Apple employees call for company to support Pa...   \n",
       "145  Apple employees call for company to support Pa...   \n",
       "\n",
       "                                                 top29  \\\n",
       "0    Caribbean volcanoes rumble to life as scientis...   \n",
       "1    BBC News - Australia-China row: 'I'm Australia...   \n",
       "2    US imposes new sanctions to kill off Putin’s p...   \n",
       "3    Lab leak is the 'most credible' source of the ...   \n",
       "4    The world’s largest solar plant has secured fi...   \n",
       "..                                                 ...   \n",
       "141  Hamas' Haniyeh vows to destabilize Jerusalem, ...   \n",
       "142  Yesh Atid to expedite legislation to curtail N...   \n",
       "143  Australian hoarder killed intruder and kept bo...   \n",
       "144  German soldier who posed as refugee on trial f...   \n",
       "145  German soldier who posed as refugee on trial f...   \n",
       "\n",
       "                                                 top30  \n",
       "0    China marks the New Year with a victory speech...  \n",
       "1    Australia-China row: \"I'm Australian - why do ...  \n",
       "2    At least 70 killed in suspected Islamist attac...  \n",
       "3    [Japan] Male-only rule should be prioritized i...  \n",
       "4    Pentagon: Carrier USS Nimitz Will Stay in Midd...  \n",
       "..                                                 ...  \n",
       "141  Israel PM Benjamin Netanyahu threatens 'new le...  \n",
       "142  At least 274 people - including 71 children - ...  \n",
       "143  ‘Tragic’ that just over 25M vaccine doses admi...  \n",
       "144  Hamas welcomes rockets from Lebanon, Syria tow...  \n",
       "145  Hamas welcomes rockets from Lebanon, Syria tow...  \n",
       "\n",
       "[146 rows x 31 columns]"
      ]
     },
     "execution_count": 11,
     "metadata": {},
     "output_type": "execute_result"
    }
   ],
   "source": [
    "connection = sqlite3.connect('MSC.db')\n",
    "cursor = connection.cursor()\n",
    "sql = (\"Select * from main\")\n",
    "z = pd.read_sql_query(sql,connection)\n",
    "z"
   ]
  },
  {
   "cell_type": "code",
   "execution_count": null,
   "metadata": {
    "ExecuteTime": {
     "end_time": "2021-05-10T08:39:50.188221Z",
     "start_time": "2021-05-10T08:39:50.170622Z"
    }
   },
   "outputs": [],
   "source": [
    "connection = sqlite3.connect('MSC.db')\n",
    "cursor = connection.cursor()\n",
    "sql = (\"Select * from DJI\")\n",
    "z = pd.read_sql_query(sql,connection).columns\n",
    "z"
   ]
  },
  {
   "cell_type": "code",
   "execution_count": null,
   "metadata": {
    "ExecuteTime": {
     "end_time": "2021-05-10T08:36:15.466945Z",
     "start_time": "2021-05-10T08:36:14.639935Z"
    }
   },
   "outputs": [],
   "source": [
    "connection = sqlite3.connect('MSC.db')\n",
    "cursor = connection.cursor()\n",
    "sql = (\"Select max(date) as date from SP500\")\n",
    "z = pd.read_sql_query(sql,connection)\n",
    "latest_date = z.date[0]\n",
    "\n",
    "##SP500\n",
    "url = \"https://finance.yahoo.com/quote/%5EGSPC/history?p=%5EGSPC\"\n",
    "r = requests.get(url)\n",
    "data = r.text\n",
    "soup = BeautifulSoup(data)\n",
    "\n",
    "answer = []\n",
    "if str(pd.to_datetime(soup.find_all('td')[0].text, infer_datetime_format=True)) == latest_date:\n",
    "    print('Stop. This data point is already in the data base')\n",
    "else:\n",
    "    print('Lets get scraping')\n",
    "    answer.append(str(pd.to_datetime(soup.find_all('td')[0].text, infer_datetime_format=True)))\n",
    "    answer = answer + [i.span.text for i in soup.find_all('td')[1:7]]\n",
    "    \n",
    "    columnnames = \"'Date', 'SP500_Open', 'SP500_High', 'SP500_Low', 'SP500_Close','SP500_Adj_Close', 'SP500_Volume'\"\n",
    "    insertintotable = '?,?,?,?,?,?,?'\n",
    "    \n",
    "    connection = sqlite3.connect('MSC/MSC.db')\n",
    "    cursor = connection.cursor()\n",
    "    sql2 = f'cursor.execute(\"insert INTO  SP500 ({columnnames}) VALUES ({insertintotable})\", {answer})'\n",
    "    eval(sql2)\n",
    "    connection.commit()\n",
    "    connection.close()\n",
    "    print(f\"{answer[0]} appended to SP500\")\n",
    "    \n",
    "    \n",
    "    ## DJI\n",
    "    url = \"https://finance.yahoo.com/quote/%5EDJI/history?p=%5EDJI\"\n",
    "    r = requests.get(url)\n",
    "    data = r.text\n",
    "    soup = BeautifulSoup(data)\n",
    "    \n",
    "    answer = []\n",
    "    answer.append(str(pd.to_datetime(soup.find_all('td')[0].text, infer_datetime_format=True)))\n",
    "    answer = answer + [i.span.text for i in soup.find_all('td')[1:7]]\n",
    "    \n",
    "    columnnames = \"'date', 'SP500_Open', 'SP500_High', 'SP500_Low', 'SP500_Close','SP500_Adj_Close', 'SP500_Volume'\"\n",
    "    insertintotable = '?,?,?,?,?,?,?'\n",
    "    \n",
    "    connection = sqlite3.connect('MSC/MSC.db')\n",
    "    cursor = connection.cursor()\n",
    "    sql2 = f'cursor.execute(\"insert INTO  SP500 ({columnnames}) VALUES ({insertintotable})\", {answer})'\n",
    "    eval(sql2)\n",
    "    connection.commit()\n",
    "    connection.close()\n",
    "    print(f\"{answer[0]} appended to DJI\")\n",
    "    \n",
    "    \n",
    "answer"
   ]
  },
  {
   "cell_type": "code",
   "execution_count": null,
   "metadata": {
    "ExecuteTime": {
     "end_time": "2021-05-07T14:13:22.084338Z",
     "start_time": "2021-05-07T14:13:22.071026Z"
    }
   },
   "outputs": [],
   "source": [
    "df.to_sql('SP500', connection, if_exists='append',index=False)"
   ]
  },
  {
   "cell_type": "markdown",
   "metadata": {},
   "source": [
    "## Dow Jones Industrial Average (^DJI)\n",
    "DJI - DJI Real Time Price. Currency in USD"
   ]
  },
  {
   "cell_type": "code",
   "execution_count": null,
   "metadata": {
    "ExecuteTime": {
     "end_time": "2021-05-07T14:11:30.683698Z",
     "start_time": "2021-05-07T14:11:30.680697Z"
    }
   },
   "outputs": [],
   "source": [
    "url = \"https://finance.yahoo.com/quote/%5EDJI/history?p=%5EDJI\""
   ]
  },
  {
   "cell_type": "code",
   "execution_count": null,
   "metadata": {
    "ExecuteTime": {
     "end_time": "2021-05-07T14:11:30.743504Z",
     "start_time": "2021-05-07T14:11:30.687962Z"
    }
   },
   "outputs": [],
   "source": [
    "df = pd.DataFrame(columns = ['date', 'DJI_Open', 'DJI_High', 'DJI_Low', 'DJI_Close', 'DJI_Adj_Close', 'DJI_Volume'])\n",
    "df"
   ]
  },
  {
   "cell_type": "code",
   "execution_count": null,
   "metadata": {
    "ExecuteTime": {
     "end_time": "2021-05-07T14:07:09.567434Z",
     "start_time": "2021-05-07T14:07:09.561932Z"
    }
   },
   "outputs": [],
   "source": [
    "columns_new = [str('DJI_')+i for i in df.columns]"
   ]
  },
  {
   "cell_type": "code",
   "execution_count": null,
   "metadata": {
    "ExecuteTime": {
     "end_time": "2021-05-07T14:11:38.068833Z",
     "start_time": "2021-05-07T14:11:37.171734Z"
    }
   },
   "outputs": [],
   "source": [
    "r = requests.get(url)\n",
    "data = r.text\n",
    "soup = BeautifulSoup(data)"
   ]
  },
  {
   "cell_type": "code",
   "execution_count": null,
   "metadata": {
    "ExecuteTime": {
     "end_time": "2021-05-07T14:11:38.407441Z",
     "start_time": "2021-05-07T14:11:38.383103Z"
    }
   },
   "outputs": [],
   "source": [
    "answer = []\n",
    "for i in soup.find_all('td'):\n",
    "    #print(i.span)\n",
    "    #print(i.span.text)\n",
    "    answer.append(i.span.text)\n",
    "    #print(len(answer)  "
   ]
  },
  {
   "cell_type": "code",
   "execution_count": null,
   "metadata": {
    "ExecuteTime": {
     "end_time": "2021-05-07T14:11:42.764407Z",
     "start_time": "2021-05-07T14:11:42.211538Z"
    }
   },
   "outputs": [],
   "source": [
    "for i in range(0, int(len(answer))//7):\n",
    "    atbilde = []\n",
    "    #print(i)\n",
    "    for j in range (0,7):\n",
    "        if j == 0:\n",
    "            atbilde.append(pd.to_datetime(answer[i*7+j], infer_datetime_format=True))\n",
    "        else:\n",
    "            atbilde.append(answer[i*7+j])\n",
    "    df.loc[len(df)] = atbilde"
   ]
  },
  {
   "cell_type": "code",
   "execution_count": null,
   "metadata": {
    "ExecuteTime": {
     "end_time": "2021-05-07T14:11:43.812893Z",
     "start_time": "2021-05-07T14:11:43.789250Z"
    }
   },
   "outputs": [],
   "source": [
    "df"
   ]
  },
  {
   "cell_type": "code",
   "execution_count": null,
   "metadata": {
    "ExecuteTime": {
     "end_time": "2021-05-07T14:11:47.376694Z",
     "start_time": "2021-05-07T14:11:47.363620Z"
    }
   },
   "outputs": [],
   "source": [
    "df.to_sql('DJI', connection, if_exists='append',index=False)"
   ]
  },
  {
   "cell_type": "markdown",
   "metadata": {
    "ExecuteTime": {
     "end_time": "2021-05-16T08:47:09.151333Z",
     "start_time": "2021-05-16T08:47:09.147584Z"
    }
   },
   "source": [
    "# SP500 companies"
   ]
  },
  {
   "cell_type": "code",
   "execution_count": 2,
   "metadata": {
    "ExecuteTime": {
     "end_time": "2021-05-20T14:25:21.555214Z",
     "start_time": "2021-05-20T14:25:20.893330Z"
    }
   },
   "outputs": [],
   "source": [
    "from bs4 import BeautifulSoup\n",
    "import requests\n",
    "import re"
   ]
  },
  {
   "cell_type": "markdown",
   "metadata": {
    "ExecuteTime": {
     "end_time": "2021-05-16T09:10:16.495156Z",
     "start_time": "2021-05-16T09:10:16.273429Z"
    }
   },
   "source": [
    "df = pd.read_excel('SP500.xlsx')"
   ]
  },
  {
   "cell_type": "code",
   "execution_count": 4,
   "metadata": {
    "ExecuteTime": {
     "end_time": "2021-05-20T07:53:05.168857Z",
     "start_time": "2021-05-20T07:53:02.971046Z"
    }
   },
   "outputs": [
    {
     "data": {
      "text/html": [
       "<div>\n",
       "<style scoped>\n",
       "    .dataframe tbody tr th:only-of-type {\n",
       "        vertical-align: middle;\n",
       "    }\n",
       "\n",
       "    .dataframe tbody tr th {\n",
       "        vertical-align: top;\n",
       "    }\n",
       "\n",
       "    .dataframe thead th {\n",
       "        text-align: right;\n",
       "    }\n",
       "</style>\n",
       "<table border=\"1\" class=\"dataframe\">\n",
       "  <thead>\n",
       "    <tr style=\"text-align: right;\">\n",
       "      <th></th>\n",
       "      <th>Company</th>\n",
       "      <th>Symbol</th>\n",
       "      <th>Weight</th>\n",
       "    </tr>\n",
       "  </thead>\n",
       "  <tbody>\n",
       "    <tr>\n",
       "      <th>0</th>\n",
       "      <td>Apple Inc.</td>\n",
       "      <td>AAPL</td>\n",
       "      <td>5.664493</td>\n",
       "    </tr>\n",
       "    <tr>\n",
       "      <th>1</th>\n",
       "      <td>Microsoft Corporation</td>\n",
       "      <td>MSFT</td>\n",
       "      <td>5.264839</td>\n",
       "    </tr>\n",
       "    <tr>\n",
       "      <th>2</th>\n",
       "      <td>Amazon.com Inc.</td>\n",
       "      <td>AMZN</td>\n",
       "      <td>3.886738</td>\n",
       "    </tr>\n",
       "    <tr>\n",
       "      <th>3</th>\n",
       "      <td>Facebook Inc. Class A</td>\n",
       "      <td>FB</td>\n",
       "      <td>2.109076</td>\n",
       "    </tr>\n",
       "    <tr>\n",
       "      <th>4</th>\n",
       "      <td>Alphabet Inc. Class A</td>\n",
       "      <td>GOOGL</td>\n",
       "      <td>1.925453</td>\n",
       "    </tr>\n",
       "  </tbody>\n",
       "</table>\n",
       "</div>"
      ],
      "text/plain": [
       "                 Company Symbol    Weight\n",
       "0             Apple Inc.   AAPL  5.664493\n",
       "1  Microsoft Corporation   MSFT  5.264839\n",
       "2        Amazon.com Inc.   AMZN  3.886738\n",
       "3  Facebook Inc. Class A     FB  2.109076\n",
       "4  Alphabet Inc. Class A  GOOGL  1.925453"
      ]
     },
     "execution_count": 4,
     "metadata": {},
     "output_type": "execute_result"
    }
   ],
   "source": [
    "connection = sqlite3.connect('MSC.db')\n",
    "cursor = connection.cursor()\n",
    "sql = (\"Select * from SP500_companies\")\n",
    "df = pd.read_sql_query(sql,connection)\n",
    "df.head()"
   ]
  },
  {
   "cell_type": "markdown",
   "metadata": {
    "ExecuteTime": {
     "end_time": "2021-05-20T14:28:20.009621Z",
     "start_time": "2021-05-20T14:28:20.003143Z"
    }
   },
   "source": [
    "## Wikipedia"
   ]
  },
  {
   "cell_type": "code",
   "execution_count": 1,
   "metadata": {
    "ExecuteTime": {
     "end_time": "2021-05-20T14:25:16.478463Z",
     "start_time": "2021-05-20T14:25:16.463581Z"
    }
   },
   "outputs": [],
   "source": [
    "url = \"https://en.wikipedia.org/wiki/List_of_S%26P_500_companies\""
   ]
  },
  {
   "cell_type": "code",
   "execution_count": 4,
   "metadata": {
    "ExecuteTime": {
     "end_time": "2021-05-20T14:26:15.639346Z",
     "start_time": "2021-05-20T14:26:14.690345Z"
    }
   },
   "outputs": [],
   "source": [
    "r = requests.get(url)\n",
    "data = r.text\n",
    "soup = BeautifulSoup(data)"
   ]
  },
  {
   "cell_type": "code",
   "execution_count": 9,
   "metadata": {
    "ExecuteTime": {
     "end_time": "2021-05-20T14:28:51.753680Z",
     "start_time": "2021-05-20T14:28:51.728537Z"
    }
   },
   "outputs": [
    {
     "name": "stdout",
     "output_type": "stream",
     "text": [
      "<td><a class=\"external text\" href=\"https://www.nyse.com/quote/XNYS:MMM\" rel=\"nofollow\">MMM</a>\n",
      "</td>\n",
      "<td><a href=\"/wiki/3M\" title=\"3M\">3M Company</a></td>\n",
      "<td><a class=\"external text\" href=\"https://www.sec.gov/cgi-bin/browse-edgar?CIK=MMM&amp;action=getcompany\" rel=\"nofollow\">reports</a></td>\n",
      "<td>Industrials</td>\n",
      "<td>Industrial Conglomerates</td>\n",
      "<td><a class=\"mw-redirect\" href=\"/wiki/St._Paul,_Minnesota\" title=\"St. Paul, Minnesota\">St. Paul, Minnesota</a></td>\n",
      "<td>1976-08-09</td>\n"
     ]
    }
   ],
   "source": [
    "answer = []\n",
    "for i in soup.find_all('td')[0:7]:\n",
    "    print(i)\n"
   ]
  },
  {
   "cell_type": "code",
   "execution_count": 28,
   "metadata": {
    "ExecuteTime": {
     "end_time": "2021-05-20T15:18:13.841880Z",
     "start_time": "2021-05-20T15:18:13.789941Z"
    }
   },
   "outputs": [
    {
     "name": "stdout",
     "output_type": "stream",
     "text": [
      "<th><a href=\"/wiki/Ticker_symbol\" title=\"Ticker symbol\">Symbol</a>\n",
      "</th>\n",
      "<th>Security</th>\n",
      "<th><a href=\"/wiki/SEC_filing\" title=\"SEC filing\">SEC filings</a></th>\n",
      "<th><a href=\"/wiki/Global_Industry_Classification_Standard\" title=\"Global Industry Classification Standard\">GICS</a> Sector</th>\n",
      "<th>GICS Sub-Industry</th>\n",
      "<th>Headquarters Location</th>\n",
      "<th>Date first added</th>\n",
      "<th><a href=\"/wiki/Central_Index_Key\" title=\"Central Index Key\">CIK</a></th>\n",
      "<th>Founded\n",
      "</th>\n",
      "<th data-sort-type=\"date\" rowspan=\"2\">Date\n",
      "</th>\n",
      "<th colspan=\"2\">Added\n",
      "</th>\n",
      "<th colspan=\"2\">Removed\n",
      "</th>\n",
      "<th rowspan=\"2\">Reason\n",
      "</th>\n",
      "<th>Ticker</th>\n",
      "<th>Security</th>\n",
      "<th>Ticker</th>\n",
      "<th>Security\n",
      "</th>\n"
     ]
    }
   ],
   "source": [
    "for i in soup.find_all('tr'):\n",
    "    for j in i.find_all('th'):\n",
    "        print(j)"
   ]
  },
  {
   "cell_type": "code",
   "execution_count": 40,
   "metadata": {
    "ExecuteTime": {
     "end_time": "2021-05-20T15:52:53.775893Z",
     "start_time": "2021-05-20T15:52:53.768841Z"
    }
   },
   "outputs": [],
   "source": [
    "import wikipedia as wp\n",
    "def get_table(title, filename, match, use_cache=False):\n",
    "\n",
    "    if use_cache and os.path.isfile(filename):\n",
    "        pass\n",
    "    else:\n",
    "        html = wp.page(title).html()\n",
    "        df = pd.read_html(html, header=0, match=match)[0]\n",
    "        \n",
    "        df.to_csv(filename, header=True, index=False, encoding='utf-8')\n",
    "            \n",
    "    df = pd.read_csv(filename)\n",
    "    return df"
   ]
  },
  {
   "cell_type": "code",
   "execution_count": 42,
   "metadata": {
    "ExecuteTime": {
     "end_time": "2021-05-20T15:53:33.313362Z",
     "start_time": "2021-05-20T15:53:28.158546Z"
    }
   },
   "outputs": [
    {
     "name": "stdout",
     "output_type": "stream",
     "text": [
      "Selected changes to the list of S&P 500 components (retrieved 05/20/2021 17:53:33)\n"
     ]
    },
    {
     "data": {
      "text/html": [
       "<div>\n",
       "<style scoped>\n",
       "    .dataframe tbody tr th:only-of-type {\n",
       "        vertical-align: middle;\n",
       "    }\n",
       "\n",
       "    .dataframe tbody tr th {\n",
       "        vertical-align: top;\n",
       "    }\n",
       "\n",
       "    .dataframe thead th {\n",
       "        text-align: right;\n",
       "    }\n",
       "</style>\n",
       "<table border=\"1\" class=\"dataframe\">\n",
       "  <thead>\n",
       "    <tr style=\"text-align: right;\">\n",
       "      <th></th>\n",
       "      <th>Symbol</th>\n",
       "      <th>Security</th>\n",
       "      <th>SEC filings</th>\n",
       "      <th>GICS Sector</th>\n",
       "      <th>GICS Sub-Industry</th>\n",
       "      <th>Headquarters Location</th>\n",
       "      <th>Date first added</th>\n",
       "      <th>CIK</th>\n",
       "      <th>Founded</th>\n",
       "    </tr>\n",
       "  </thead>\n",
       "  <tbody>\n",
       "    <tr>\n",
       "      <th>0</th>\n",
       "      <td>MMM</td>\n",
       "      <td>3M Company</td>\n",
       "      <td>reports</td>\n",
       "      <td>Industrials</td>\n",
       "      <td>Industrial Conglomerates</td>\n",
       "      <td>St. Paul, Minnesota</td>\n",
       "      <td>1976-08-09</td>\n",
       "      <td>66740</td>\n",
       "      <td>1902</td>\n",
       "    </tr>\n",
       "    <tr>\n",
       "      <th>1</th>\n",
       "      <td>ABT</td>\n",
       "      <td>Abbott Laboratories</td>\n",
       "      <td>reports</td>\n",
       "      <td>Health Care</td>\n",
       "      <td>Health Care Equipment</td>\n",
       "      <td>North Chicago, Illinois</td>\n",
       "      <td>1964-03-31</td>\n",
       "      <td>1800</td>\n",
       "      <td>1888</td>\n",
       "    </tr>\n",
       "    <tr>\n",
       "      <th>2</th>\n",
       "      <td>ABBV</td>\n",
       "      <td>AbbVie Inc.</td>\n",
       "      <td>reports</td>\n",
       "      <td>Health Care</td>\n",
       "      <td>Pharmaceuticals</td>\n",
       "      <td>North Chicago, Illinois</td>\n",
       "      <td>2012-12-31</td>\n",
       "      <td>1551152</td>\n",
       "      <td>2013 (1888)</td>\n",
       "    </tr>\n",
       "    <tr>\n",
       "      <th>3</th>\n",
       "      <td>ABMD</td>\n",
       "      <td>Abiomed</td>\n",
       "      <td>reports</td>\n",
       "      <td>Health Care</td>\n",
       "      <td>Health Care Equipment</td>\n",
       "      <td>Danvers, Massachusetts</td>\n",
       "      <td>2018-05-31</td>\n",
       "      <td>815094</td>\n",
       "      <td>1981</td>\n",
       "    </tr>\n",
       "    <tr>\n",
       "      <th>4</th>\n",
       "      <td>ACN</td>\n",
       "      <td>Accenture</td>\n",
       "      <td>reports</td>\n",
       "      <td>Information Technology</td>\n",
       "      <td>IT Consulting &amp; Other Services</td>\n",
       "      <td>Dublin, Ireland</td>\n",
       "      <td>2011-07-06</td>\n",
       "      <td>1467373</td>\n",
       "      <td>1989</td>\n",
       "    </tr>\n",
       "    <tr>\n",
       "      <th>...</th>\n",
       "      <td>...</td>\n",
       "      <td>...</td>\n",
       "      <td>...</td>\n",
       "      <td>...</td>\n",
       "      <td>...</td>\n",
       "      <td>...</td>\n",
       "      <td>...</td>\n",
       "      <td>...</td>\n",
       "      <td>...</td>\n",
       "    </tr>\n",
       "    <tr>\n",
       "      <th>500</th>\n",
       "      <td>YUM</td>\n",
       "      <td>Yum! Brands Inc</td>\n",
       "      <td>reports</td>\n",
       "      <td>Consumer Discretionary</td>\n",
       "      <td>Restaurants</td>\n",
       "      <td>Louisville, Kentucky</td>\n",
       "      <td>1997-10-06</td>\n",
       "      <td>1041061</td>\n",
       "      <td>1997</td>\n",
       "    </tr>\n",
       "    <tr>\n",
       "      <th>501</th>\n",
       "      <td>ZBRA</td>\n",
       "      <td>Zebra Technologies</td>\n",
       "      <td>reports</td>\n",
       "      <td>Information Technology</td>\n",
       "      <td>Electronic Equipment &amp; Instruments</td>\n",
       "      <td>Lincolnshire, Illinois</td>\n",
       "      <td>2019-12-23</td>\n",
       "      <td>877212</td>\n",
       "      <td>1969</td>\n",
       "    </tr>\n",
       "    <tr>\n",
       "      <th>502</th>\n",
       "      <td>ZBH</td>\n",
       "      <td>Zimmer Biomet</td>\n",
       "      <td>reports</td>\n",
       "      <td>Health Care</td>\n",
       "      <td>Health Care Equipment</td>\n",
       "      <td>Warsaw, Indiana</td>\n",
       "      <td>2001-08-07</td>\n",
       "      <td>1136869</td>\n",
       "      <td>1927</td>\n",
       "    </tr>\n",
       "    <tr>\n",
       "      <th>503</th>\n",
       "      <td>ZION</td>\n",
       "      <td>Zions Bancorp</td>\n",
       "      <td>reports</td>\n",
       "      <td>Financials</td>\n",
       "      <td>Regional Banks</td>\n",
       "      <td>Salt Lake City, Utah</td>\n",
       "      <td>2001-06-22</td>\n",
       "      <td>109380</td>\n",
       "      <td>1873</td>\n",
       "    </tr>\n",
       "    <tr>\n",
       "      <th>504</th>\n",
       "      <td>ZTS</td>\n",
       "      <td>Zoetis</td>\n",
       "      <td>reports</td>\n",
       "      <td>Health Care</td>\n",
       "      <td>Pharmaceuticals</td>\n",
       "      <td>Parsippany, New Jersey</td>\n",
       "      <td>2013-06-21</td>\n",
       "      <td>1555280</td>\n",
       "      <td>1952</td>\n",
       "    </tr>\n",
       "  </tbody>\n",
       "</table>\n",
       "<p>505 rows × 9 columns</p>\n",
       "</div>"
      ],
      "text/plain": [
       "    Symbol             Security SEC filings             GICS Sector  \\\n",
       "0      MMM           3M Company     reports             Industrials   \n",
       "1      ABT  Abbott Laboratories     reports             Health Care   \n",
       "2     ABBV          AbbVie Inc.     reports             Health Care   \n",
       "3     ABMD              Abiomed     reports             Health Care   \n",
       "4      ACN            Accenture     reports  Information Technology   \n",
       "..     ...                  ...         ...                     ...   \n",
       "500    YUM      Yum! Brands Inc     reports  Consumer Discretionary   \n",
       "501   ZBRA   Zebra Technologies     reports  Information Technology   \n",
       "502    ZBH        Zimmer Biomet     reports             Health Care   \n",
       "503   ZION        Zions Bancorp     reports              Financials   \n",
       "504    ZTS               Zoetis     reports             Health Care   \n",
       "\n",
       "                      GICS Sub-Industry    Headquarters Location  \\\n",
       "0              Industrial Conglomerates      St. Paul, Minnesota   \n",
       "1                 Health Care Equipment  North Chicago, Illinois   \n",
       "2                       Pharmaceuticals  North Chicago, Illinois   \n",
       "3                 Health Care Equipment   Danvers, Massachusetts   \n",
       "4        IT Consulting & Other Services          Dublin, Ireland   \n",
       "..                                  ...                      ...   \n",
       "500                         Restaurants     Louisville, Kentucky   \n",
       "501  Electronic Equipment & Instruments   Lincolnshire, Illinois   \n",
       "502               Health Care Equipment          Warsaw, Indiana   \n",
       "503                      Regional Banks     Salt Lake City, Utah   \n",
       "504                     Pharmaceuticals   Parsippany, New Jersey   \n",
       "\n",
       "    Date first added      CIK      Founded  \n",
       "0         1976-08-09    66740         1902  \n",
       "1         1964-03-31     1800         1888  \n",
       "2         2012-12-31  1551152  2013 (1888)  \n",
       "3         2018-05-31   815094         1981  \n",
       "4         2011-07-06  1467373         1989  \n",
       "..               ...      ...          ...  \n",
       "500       1997-10-06  1041061         1997  \n",
       "501       2019-12-23   877212         1969  \n",
       "502       2001-08-07  1136869         1927  \n",
       "503       2001-06-22   109380         1873  \n",
       "504       2013-06-21  1555280         1952  \n",
       "\n",
       "[505 rows x 9 columns]"
      ]
     },
     "execution_count": 42,
     "metadata": {},
     "output_type": "execute_result"
    }
   ],
   "source": [
    "#title = 'List of S&P 500 companies'\n",
    "title = 'Selected changes to the list of S&P 500 components'\n",
    "filename = 'sp500.csv'\n",
    "sp500 = get_table(title, filename, match='Symbol')\n",
    "\n",
    "from datetime import datetime\n",
    "now = datetime.now()\n",
    "dt_string = now.strftime(\"%m/%d/%Y %H:%M:%S\")\n",
    "print('{} (retrieved {})'.format(title, dt_string))\n",
    "sp500"
   ]
  },
  {
   "cell_type": "code",
   "execution_count": 48,
   "metadata": {
    "ExecuteTime": {
     "end_time": "2021-05-20T15:57:53.086815Z",
     "start_time": "2021-05-20T15:57:52.187178Z"
    }
   },
   "outputs": [
    {
     "data": {
      "text/html": [
       "<div>\n",
       "<style scoped>\n",
       "    .dataframe tbody tr th:only-of-type {\n",
       "        vertical-align: middle;\n",
       "    }\n",
       "\n",
       "    .dataframe tbody tr th {\n",
       "        vertical-align: top;\n",
       "    }\n",
       "\n",
       "    .dataframe thead tr th {\n",
       "        text-align: left;\n",
       "    }\n",
       "</style>\n",
       "<table border=\"1\" class=\"dataframe\">\n",
       "  <thead>\n",
       "    <tr>\n",
       "      <th></th>\n",
       "      <th>Date</th>\n",
       "      <th colspan=\"2\" halign=\"left\">Added</th>\n",
       "      <th colspan=\"2\" halign=\"left\">Removed</th>\n",
       "      <th>Reason</th>\n",
       "    </tr>\n",
       "    <tr>\n",
       "      <th></th>\n",
       "      <th>Date</th>\n",
       "      <th>Ticker</th>\n",
       "      <th>Security</th>\n",
       "      <th>Ticker</th>\n",
       "      <th>Security</th>\n",
       "      <th>Reason</th>\n",
       "    </tr>\n",
       "  </thead>\n",
       "  <tbody>\n",
       "    <tr>\n",
       "      <th>0</th>\n",
       "      <td>May 14, 2021</td>\n",
       "      <td>CRL</td>\n",
       "      <td>Charles River Laboratories</td>\n",
       "      <td>FLIR</td>\n",
       "      <td>FLIR Systems</td>\n",
       "      <td>S&amp;P 500 constituent Teledyne Technologies Inc....</td>\n",
       "    </tr>\n",
       "    <tr>\n",
       "      <th>1</th>\n",
       "      <td>April 20, 2021</td>\n",
       "      <td>PTC</td>\n",
       "      <td>PTC Inc</td>\n",
       "      <td>VAR</td>\n",
       "      <td>Varian Medical Systems</td>\n",
       "      <td>Siemens Healthineers AG acquired Varian Medica...</td>\n",
       "    </tr>\n",
       "    <tr>\n",
       "      <th>2</th>\n",
       "      <td>March 22, 2021</td>\n",
       "      <td>NXPI</td>\n",
       "      <td>NXP Semiconductors</td>\n",
       "      <td>FLS</td>\n",
       "      <td>Flowserve</td>\n",
       "      <td>Market capitalization change.[8]</td>\n",
       "    </tr>\n",
       "    <tr>\n",
       "      <th>3</th>\n",
       "      <td>March 22, 2021</td>\n",
       "      <td>PENN</td>\n",
       "      <td>Penn National Gaming</td>\n",
       "      <td>SLG</td>\n",
       "      <td>SL Green Realty</td>\n",
       "      <td>Market capitalization change.[8]</td>\n",
       "    </tr>\n",
       "    <tr>\n",
       "      <th>4</th>\n",
       "      <td>March 22, 2021</td>\n",
       "      <td>GNRC</td>\n",
       "      <td>Generac Holdings</td>\n",
       "      <td>XRX</td>\n",
       "      <td>Xerox</td>\n",
       "      <td>Market capitalization change.[8]</td>\n",
       "    </tr>\n",
       "    <tr>\n",
       "      <th>...</th>\n",
       "      <td>...</td>\n",
       "      <td>...</td>\n",
       "      <td>...</td>\n",
       "      <td>...</td>\n",
       "      <td>...</td>\n",
       "      <td>...</td>\n",
       "    </tr>\n",
       "    <tr>\n",
       "      <th>266</th>\n",
       "      <td>December 5, 2000</td>\n",
       "      <td>SBL</td>\n",
       "      <td>Symbol Technologies</td>\n",
       "      <td>OI</td>\n",
       "      <td>Owens-Illinois</td>\n",
       "      <td>Market Cap changes.</td>\n",
       "    </tr>\n",
       "    <tr>\n",
       "      <th>267</th>\n",
       "      <td>December 5, 2000</td>\n",
       "      <td>AYE</td>\n",
       "      <td>Allegheny Energy</td>\n",
       "      <td>GRA</td>\n",
       "      <td>W.R. Grace</td>\n",
       "      <td>Market Cap changes.</td>\n",
       "    </tr>\n",
       "    <tr>\n",
       "      <th>268</th>\n",
       "      <td>December 5, 2000</td>\n",
       "      <td>ABK</td>\n",
       "      <td>Ambac Financial</td>\n",
       "      <td>CCK</td>\n",
       "      <td>Crown Holdings</td>\n",
       "      <td>Market Cap changes.</td>\n",
       "    </tr>\n",
       "    <tr>\n",
       "      <th>269</th>\n",
       "      <td>July 27, 2000</td>\n",
       "      <td>JDSU</td>\n",
       "      <td>JDS Uniphase</td>\n",
       "      <td>RAD</td>\n",
       "      <td>RiteAid</td>\n",
       "      <td>Market Cap change.[212]</td>\n",
       "    </tr>\n",
       "    <tr>\n",
       "      <th>270</th>\n",
       "      <td>December 7, 1999</td>\n",
       "      <td>YHOO</td>\n",
       "      <td>Yahoo!</td>\n",
       "      <td>LDW</td>\n",
       "      <td>Laidlaw</td>\n",
       "      <td>Market Cap change.[213]</td>\n",
       "    </tr>\n",
       "  </tbody>\n",
       "</table>\n",
       "<p>271 rows × 6 columns</p>\n",
       "</div>"
      ],
      "text/plain": [
       "                 Date  Added                             Removed  \\\n",
       "                 Date Ticker                    Security  Ticker   \n",
       "0        May 14, 2021    CRL  Charles River Laboratories    FLIR   \n",
       "1      April 20, 2021    PTC                     PTC Inc     VAR   \n",
       "2      March 22, 2021   NXPI          NXP Semiconductors     FLS   \n",
       "3      March 22, 2021   PENN        Penn National Gaming     SLG   \n",
       "4      March 22, 2021   GNRC            Generac Holdings     XRX   \n",
       "..                ...    ...                         ...     ...   \n",
       "266  December 5, 2000    SBL         Symbol Technologies      OI   \n",
       "267  December 5, 2000    AYE            Allegheny Energy     GRA   \n",
       "268  December 5, 2000    ABK             Ambac Financial     CCK   \n",
       "269     July 27, 2000   JDSU                JDS Uniphase     RAD   \n",
       "270  December 7, 1999   YHOO                      Yahoo!     LDW   \n",
       "\n",
       "                                                                        Reason  \n",
       "                   Security                                             Reason  \n",
       "0              FLIR Systems  S&P 500 constituent Teledyne Technologies Inc....  \n",
       "1    Varian Medical Systems  Siemens Healthineers AG acquired Varian Medica...  \n",
       "2                 Flowserve                   Market capitalization change.[8]  \n",
       "3           SL Green Realty                   Market capitalization change.[8]  \n",
       "4                     Xerox                   Market capitalization change.[8]  \n",
       "..                      ...                                                ...  \n",
       "266          Owens-Illinois                                Market Cap changes.  \n",
       "267              W.R. Grace                                Market Cap changes.  \n",
       "268          Crown Holdings                                Market Cap changes.  \n",
       "269                 RiteAid                            Market Cap change.[212]  \n",
       "270                 Laidlaw                            Market Cap change.[213]  \n",
       "\n",
       "[271 rows x 6 columns]"
      ]
     },
     "execution_count": 48,
     "metadata": {},
     "output_type": "execute_result"
    }
   ],
   "source": [
    "#html = \n",
    "#wp.page(title).html()\n",
    "#df = \n",
    "pd.read_html(html)[1]"
   ]
  },
  {
   "cell_type": "code",
   "execution_count": 37,
   "metadata": {
    "ExecuteTime": {
     "end_time": "2021-05-20T15:52:08.126089Z",
     "start_time": "2021-05-20T15:52:08.114202Z"
    }
   },
   "outputs": [],
   "source": [
    "sp500.to_csv(\"SP500.csv\")"
   ]
  },
  {
   "cell_type": "markdown",
   "metadata": {
    "ExecuteTime": {
     "end_time": "2021-05-16T10:39:05.621964Z",
     "start_time": "2021-05-16T10:39:05.604017Z"
    }
   },
   "source": [
    "### Insert DJI and SP500 in the same table\n",
    "### One less step in ETL\n",
    "\n",
    "connection = sqlite3.connect('MSC.db')\n",
    "cursor = connection.cursor()\n",
    "\n",
    "columnnames = \"'Company', 'Symbol', 'Weight'\"\n",
    "insertintotable = '?,?,?'\n",
    "\n",
    "answer = ['Dow Jones Industrial Average', '^DJI', '100']\n",
    "sql2 = f'cursor.execute(\"insert INTO  SP500_companies ({columnnames}) VALUES ({insertintotable})\", {answer})'\n",
    "eval(sql2)\n",
    "connection.commit()\n",
    "connection.close()"
   ]
  },
  {
   "cell_type": "code",
   "execution_count": null,
   "metadata": {
    "ExecuteTime": {
     "end_time": "2021-05-16T11:23:38.165983Z",
     "start_time": "2021-05-16T11:22:35.106619Z"
    }
   },
   "outputs": [],
   "source": [
    "columnnames = \"'date', 'open', 'high', 'low', 'close', 'adj_close','volume', 'symbol'\"\n",
    "insertintotable = '?,?,?,?,?,?,?,?'\n",
    "\n",
    "for i in df.Symbol[490:]:\n",
    "    r = requests.get(f'https://finance.yahoo.com/quote/{i}/history?p={i}')\n",
    "    print(f'https://finance.yahoo.com/quote/{i}/history?p={i}')\n",
    "    data = r.text\n",
    "    soup = BeautifulSoup(data, features=\"lxml\")\n",
    "    ofset = 0\n",
    "    for j in range(0, int(len(soup.find_all('td')))//7):  \n",
    "        #if type(soup.find_all('td')[j*7+1+ofset].span.text) != int and type(soup.find_all('td')[j*7+1+ofset].span.text) != float:\n",
    "        if soup.find_all('td')[j*7+1+ofset].span.text == \"Dividend\" or soup.find_all('td')[j*7+1+ofset].span.text == \"Stock Split\":\n",
    "            ofset += 2\n",
    "        try:\n",
    "            answer = []\n",
    "            answer.append(str(pd.to_datetime(soup.find_all('td')[j*7+ofset].text, infer_datetime_format=True)))\n",
    "            answer = answer + [i.span.text for i in soup.find_all('td')[j*7+1+ofset:j*7+7+ofset]] + [i]\n",
    "        except:\n",
    "            answer = []\n",
    "            ofset += 2\n",
    "        print(answer)\n",
    "        connection = sqlite3.connect('MSC.db')\n",
    "        cursor = connection.cursor()\n",
    "        sql2 = f'cursor.execute(\"insert INTO  prices ({columnnames}) VALUES ({insertintotable})\", {answer})'\n",
    "        eval(sql2)\n",
    "        connection.commit()\n",
    "        connection.close()    "
   ]
  },
  {
   "cell_type": "code",
   "execution_count": null,
   "metadata": {
    "ExecuteTime": {
     "end_time": "2021-05-19T08:08:47.527576Z",
     "start_time": "2021-05-19T08:07:52.928677Z"
    }
   },
   "outputs": [],
   "source": [
    "#for symbol in df\n",
    "no_financials = \"'BRK.B', 'BF.B', 'FLIR'\"\n",
    "\n",
    "connection = sqlite3.connect('MSC.db')\n",
    "cursor = connection.cursor()\n",
    "sql = ('''\n",
    "Select symbol from SP500_companies \n",
    "where symbol not in (select distinct symbol from prices where date == '2021-05-19 00:00:00')\n",
    "and  symbol not in ('BRK.B', 'BF.B', 'FLIR')'''\n",
    "    )\n",
    "df = pd.read_sql_query(sql,connection)\n",
    "\n",
    "connection = sqlite3.connect('MSC.db')\n",
    "cursor = connection.cursor()\n",
    "sql = (\"Select * from prices where date \")\n",
    "z = pd.read_sql_query(sql,connection)\n",
    "connection.commit()\n",
    "connection.close()\n",
    "\n",
    "columnnames = \"'date', 'open', 'high', 'low', 'close', 'adj_close','volume', 'symbol'\"\n",
    "insertintotable = '?,?,?,?,?,?,?,?'\n",
    "\n",
    "for i in df.Symbol[2:]:\n",
    "    r = requests.get(f'https://finance.yahoo.com/quote/{i}/history?p={i}')\n",
    "    print(f'https://finance.yahoo.com/quote/{i}/history?p={i}')\n",
    "    data = r.text\n",
    "    soup = BeautifulSoup(data, features=\"lxml\")\n",
    "    counter = 0\n",
    "    for j in range (0, 4):\n",
    "        if soup.find_all('td')[1+j*7].span != None and pd.to_datetime(soup.find_all('td')[j*7].text, infer_datetime_format=True) > pd.to_datetime(z.date[z.symbol == i].iloc[0]) and counter == 0:\n",
    "            try:\n",
    "                answer = []\n",
    "                answer.append(str(pd.to_datetime(soup.find_all('td')[j*7].text, infer_datetime_format=True)))\n",
    "                answer = answer + [i.span.text for i in soup.find_all('td')[j*7+1: j*7+7]] + [i]\n",
    "                print(answer)\n",
    "\n",
    "                connection = sqlite3.connect('MSC.db')\n",
    "                cursor = connection.cursor()\n",
    "                sql2 = f'cursor.execute(\"insert INTO  prices ({columnnames}) VALUES ({insertintotable})\", {answer})'\n",
    "                eval(sql2)\n",
    "                connection.commit()\n",
    "                connection.close()\n",
    "                counter +=1\n",
    "            except:pass        \n",
    "        else:pass                "
   ]
  },
  {
   "cell_type": "code",
   "execution_count": 5,
   "metadata": {
    "ExecuteTime": {
     "end_time": "2021-05-20T07:53:15.008645Z",
     "start_time": "2021-05-20T07:53:15.000334Z"
    }
   },
   "outputs": [
    {
     "data": {
      "text/plain": [
       "'!\"#$%&\\'()*+,-./:;<=>?@[\\\\]^_`{|}~'"
      ]
     },
     "execution_count": 5,
     "metadata": {},
     "output_type": "execute_result"
    }
   ],
   "source": [
    "import string\n",
    "string.punctuation"
   ]
  },
  {
   "cell_type": "code",
   "execution_count": null,
   "metadata": {
    "ExecuteTime": {
     "end_time": "2021-05-16T11:25:56.357014Z",
     "start_time": "2021-05-16T11:25:56.013066Z"
    }
   },
   "outputs": [],
   "source": [
    "connection = sqlite3.connect(\"MSC.db\")\n",
    "cursor = connection.cursor()\n",
    "\n",
    "sql = ('''Select distinct symbol, count(symbol) over(partition by symbol) as count from prices\n",
    "order by count\n",
    "\n",
    "       ''')\n",
    "z =pd.read_sql_query(sql,connection)\n",
    "z"
   ]
  },
  {
   "cell_type": "code",
   "execution_count": null,
   "metadata": {
    "ExecuteTime": {
     "end_time": "2021-05-16T11:28:35.722714Z",
     "start_time": "2021-05-16T11:28:35.696517Z"
    }
   },
   "outputs": [],
   "source": [
    "connection = sqlite3.connect(\"MSC.db\")\n",
    "cursor = connection.cursor()\n",
    "\n",
    "sql = ('''Select * from sp500_companies\n",
    "\n",
    "       ''')\n",
    "z =pd.read_sql_query(sql,connection)\n",
    "z"
   ]
  },
  {
   "cell_type": "code",
   "execution_count": 6,
   "metadata": {
    "ExecuteTime": {
     "end_time": "2021-05-20T07:53:31.486036Z",
     "start_time": "2021-05-20T07:53:30.770174Z"
    }
   },
   "outputs": [
    {
     "data": {
      "text/html": [
       "<div>\n",
       "<style scoped>\n",
       "    .dataframe tbody tr th:only-of-type {\n",
       "        vertical-align: middle;\n",
       "    }\n",
       "\n",
       "    .dataframe tbody tr th {\n",
       "        vertical-align: top;\n",
       "    }\n",
       "\n",
       "    .dataframe thead th {\n",
       "        text-align: right;\n",
       "    }\n",
       "</style>\n",
       "<table border=\"1\" class=\"dataframe\">\n",
       "  <thead>\n",
       "    <tr style=\"text-align: right;\">\n",
       "      <th></th>\n",
       "      <th>Symbol</th>\n",
       "      <th>Company</th>\n",
       "    </tr>\n",
       "  </thead>\n",
       "  <tbody>\n",
       "    <tr>\n",
       "      <th>0</th>\n",
       "      <td>BRK.B</td>\n",
       "      <td>Berkshire Hathaway Inc. Class B</td>\n",
       "    </tr>\n",
       "    <tr>\n",
       "      <th>1</th>\n",
       "      <td>BF.B</td>\n",
       "      <td>Brown-Forman Corporation Class B</td>\n",
       "    </tr>\n",
       "    <tr>\n",
       "      <th>2</th>\n",
       "      <td>FLIR</td>\n",
       "      <td>FLIR Systems Inc.</td>\n",
       "    </tr>\n",
       "  </tbody>\n",
       "</table>\n",
       "</div>"
      ],
      "text/plain": [
       "  Symbol                           Company\n",
       "0  BRK.B   Berkshire Hathaway Inc. Class B\n",
       "1   BF.B  Brown-Forman Corporation Class B\n",
       "2   FLIR                 FLIR Systems Inc."
      ]
     },
     "execution_count": 6,
     "metadata": {},
     "output_type": "execute_result"
    }
   ],
   "source": [
    "connection = sqlite3.connect(\"MSC.db\")\n",
    "cursor = connection.cursor()\n",
    "\n",
    "sql = ('''Select sp500_companies.symbol, company from sp500_companies\n",
    "          WHERE sp500_companies.Symbol NOT IN\n",
    "        (Select symbol from  prices)\n",
    "\n",
    "       ''')\n",
    "z =pd.read_sql_query(sql,connection)\n",
    "z"
   ]
  },
  {
   "cell_type": "code",
   "execution_count": null,
   "metadata": {
    "ExecuteTime": {
     "end_time": "2021-05-16T11:33:22.381155Z",
     "start_time": "2021-05-16T11:33:22.377994Z"
    }
   },
   "outputs": [],
   "source": [
    "# Flir 0 love "
   ]
  },
  {
   "cell_type": "code",
   "execution_count": 7,
   "metadata": {
    "ExecuteTime": {
     "end_time": "2021-05-20T07:53:44.720249Z",
     "start_time": "2021-05-20T07:53:44.659260Z"
    }
   },
   "outputs": [
    {
     "data": {
      "text/html": [
       "<div>\n",
       "<style scoped>\n",
       "    .dataframe tbody tr th:only-of-type {\n",
       "        vertical-align: middle;\n",
       "    }\n",
       "\n",
       "    .dataframe tbody tr th {\n",
       "        vertical-align: top;\n",
       "    }\n",
       "\n",
       "    .dataframe thead th {\n",
       "        text-align: right;\n",
       "    }\n",
       "</style>\n",
       "<table border=\"1\" class=\"dataframe\">\n",
       "  <thead>\n",
       "    <tr style=\"text-align: right;\">\n",
       "      <th></th>\n",
       "      <th>Symbol</th>\n",
       "    </tr>\n",
       "  </thead>\n",
       "  <tbody>\n",
       "    <tr>\n",
       "      <th>0</th>\n",
       "      <td>AAPL</td>\n",
       "    </tr>\n",
       "    <tr>\n",
       "      <th>1</th>\n",
       "      <td>MSFT</td>\n",
       "    </tr>\n",
       "    <tr>\n",
       "      <th>2</th>\n",
       "      <td>RTX</td>\n",
       "    </tr>\n",
       "    <tr>\n",
       "      <th>3</th>\n",
       "      <td>GS</td>\n",
       "    </tr>\n",
       "    <tr>\n",
       "      <th>4</th>\n",
       "      <td>BA</td>\n",
       "    </tr>\n",
       "    <tr>\n",
       "      <th>...</th>\n",
       "      <td>...</td>\n",
       "    </tr>\n",
       "    <tr>\n",
       "      <th>440</th>\n",
       "      <td>UAA</td>\n",
       "    </tr>\n",
       "    <tr>\n",
       "      <th>441</th>\n",
       "      <td>UA</td>\n",
       "    </tr>\n",
       "    <tr>\n",
       "      <th>442</th>\n",
       "      <td>NWS</td>\n",
       "    </tr>\n",
       "    <tr>\n",
       "      <th>443</th>\n",
       "      <td>^GSPC</td>\n",
       "    </tr>\n",
       "    <tr>\n",
       "      <th>444</th>\n",
       "      <td>^DJI</td>\n",
       "    </tr>\n",
       "  </tbody>\n",
       "</table>\n",
       "<p>445 rows × 1 columns</p>\n",
       "</div>"
      ],
      "text/plain": [
       "    Symbol\n",
       "0     AAPL\n",
       "1     MSFT\n",
       "2      RTX\n",
       "3       GS\n",
       "4       BA\n",
       "..     ...\n",
       "440    UAA\n",
       "441     UA\n",
       "442    NWS\n",
       "443  ^GSPC\n",
       "444   ^DJI\n",
       "\n",
       "[445 rows x 1 columns]"
      ]
     },
     "execution_count": 7,
     "metadata": {},
     "output_type": "execute_result"
    }
   ],
   "source": [
    "connection = sqlite3.connect('MSC.db')\n",
    "cursor = connection.cursor()\n",
    "sql = ('''\n",
    "Select symbol from SP500_companies \n",
    "where symbol not in (select distinct symbol from prices where date == '2021-05-19 00:00:00')\n",
    "and  symbol not in ('BRK.B', 'BF.B', 'FLIR')'''\n",
    "    )\n",
    "df = pd.read_sql_query(sql,connection)\n",
    "df"
   ]
  },
  {
   "cell_type": "markdown",
   "metadata": {},
   "source": [
    "# Merge"
   ]
  },
  {
   "cell_type": "code",
   "execution_count": null,
   "metadata": {
    "ExecuteTime": {
     "end_time": "2021-05-18T12:06:22.489424Z",
     "start_time": "2021-05-18T12:06:22.327557Z"
    }
   },
   "outputs": [],
   "source": [
    "connection = sqlite3.connect('MSC.db')\n",
    "cursor = connection.cursor()\n",
    "\n",
    "sql = ('''Select \n",
    "            main.date,\n",
    "            top1,top2,top3,top4,top5,\n",
    "            top6,top7,top8,top9,top10,\n",
    "            top11,top12,top13,top14,top15,\n",
    "            top16,top17,top18,top19,top20,\n",
    "            top21,top22,top23,top24,top25,\n",
    "            top26,top27,top28,top29,top30,\n",
    "            \n",
    "            DJI_Open,\n",
    "            DJI_High,\n",
    "            DJI_Low,\n",
    "            DJI_Close,\n",
    "            DJI_Adj_Close,\n",
    "            \n",
    "            SP500_Open,\n",
    "            SP500_High,\n",
    "            SP500_Low,\n",
    "            SP500_Close,\n",
    "            SP500_Adj_Close\n",
    "\n",
    "            from main\n",
    "            left join DJI on\n",
    "            main.date = date(DJI.Date)\n",
    "            left join SP500 on\n",
    "            main.date = date(SP500.Date)\n",
    "            \n",
    "            where DJI_Open not NULL\n",
    "            order by main.date\n",
    "\n",
    "       ''')\n",
    "df = pd.read_sql_query(sql,connection)\n",
    "df.tail()"
   ]
  },
  {
   "cell_type": "markdown",
   "metadata": {},
   "source": [
    "## Fix this "
   ]
  },
  {
   "cell_type": "code",
   "execution_count": 12,
   "metadata": {
    "ExecuteTime": {
     "end_time": "2021-05-20T08:13:26.676350Z",
     "start_time": "2021-05-20T08:13:26.668006Z"
    }
   },
   "outputs": [
    {
     "data": {
      "text/plain": [
       "'!\"#$%&\\'()*+,-./:;<=>?@[\\\\]^_`{|}~'"
      ]
     },
     "execution_count": 12,
     "metadata": {},
     "output_type": "execute_result"
    }
   ],
   "source": [
    "import datetime\n",
    "\n",
    "import string\n",
    "string.punctuation"
   ]
  },
  {
   "cell_type": "code",
   "execution_count": 99,
   "metadata": {
    "ExecuteTime": {
     "end_time": "2021-05-20T09:01:32.435475Z",
     "start_time": "2021-05-20T09:01:31.986546Z"
    }
   },
   "outputs": [],
   "source": [
    "#for symbol in df\n",
    "no_financials = \"'BRK.B', 'BF.B', 'FLIR'\"\n",
    "\n",
    "\n",
    "thisday = datetime.date.today().strftime('%Y%m%d')\n",
    "connection = sqlite3.connect('MSC.db')\n",
    "cursor = connection.cursor()\n",
    "sql = (f'''\n",
    "Select symbol from SP500_companies \n",
    "where symbol not in (select distinct symbol from prices where date(date) == {thisday})\n",
    "and  symbol not in ('BRK.B', 'BF.B', 'FLIR')'''\n",
    "    )\n",
    "df = pd.read_sql_query(sql,connection)\n",
    "\n",
    "connection = sqlite3.connect('MSC.db')\n",
    "cursor = connection.cursor()\n",
    "sql = (\"Select * from prices order by date desc\")\n",
    "z = pd.read_sql_query(sql,connection)\n",
    "connection.commit()\n",
    "connection.close()\n",
    "\n",
    "columnnames = \"'date', 'open', 'high', 'low', 'close', 'adj_close','volume', 'symbol'\"\n",
    "insertintotable = '?,?,?,?,?,?,?,?'"
   ]
  },
  {
   "cell_type": "code",
   "execution_count": 130,
   "metadata": {
    "ExecuteTime": {
     "end_time": "2021-05-20T09:21:47.022271Z",
     "start_time": "2021-05-20T09:21:38.994088Z"
    }
   },
   "outputs": [
    {
     "name": "stdout",
     "output_type": "stream",
     "text": [
      "2021-05-19\n",
      "https://finance.yahoo.com/quote/AMZN/history?p=AMZN\n",
      "2021-05-19 00:00:00\n",
      "['2021-05-19 00:00:00', '3,195.00', '3,234.75', '3,184.00', '3,231.80', '3,231.80', '2,675,900', 'AMZN']\n",
      "https://finance.yahoo.com/quote/GOOGL/history?p=GOOGL\n",
      "2021-05-19 00:00:00\n",
      "['2021-05-19 00:00:00', '2,228.43', '2,274.99', '2,225.44', '2,271.50', '2,271.50', '1,182,300', 'GOOGL']\n"
     ]
    }
   ],
   "source": [
    "#for symbol in df\n",
    "no_financials = \"'BRK.B', 'BF.B', 'FLIR'\"\n",
    "\n",
    "\n",
    "thisday = (datetime.datetime.now() - datetime.timedelta(days=1)).strftime('%Y-%m-%d')\n",
    "print(thisday)\n",
    "connection = sqlite3.connect('MSC.db')\n",
    "cursor = connection.cursor()\n",
    "sql = (f'''\n",
    "Select symbol from SP500_companies \n",
    "where symbol not in (select distinct symbol from prices where date == \"2021-05-19 00:00:00\")\n",
    "and  symbol not in ('BRK.B', 'BF.B', 'FLIR')'''\n",
    "    )\n",
    "df = pd.read_sql_query(sql,connection)\n",
    "\n",
    "connection = sqlite3.connect('MSC.db')\n",
    "cursor = connection.cursor()\n",
    "sql = (\"Select * from prices order by date desc\")\n",
    "z = pd.read_sql_query(sql,connection)\n",
    "connection.commit()\n",
    "connection.close()\n",
    "\n",
    "columnnames = \"'date', 'open', 'high', 'low', 'close', 'adj_close','volume', 'symbol'\"\n",
    "insertintotable = '?,?,?,?,?,?,?,?'\n",
    "\n",
    "for i in df.Symbol[:2]:\n",
    "    r = requests.get(f'https://finance.yahoo.com/quote/{i}/history?p={i}')\n",
    "    print(f'https://finance.yahoo.com/quote/{i}/history?p={i}')\n",
    "    data = r.text\n",
    "    soup = BeautifulSoup(data, features=\"lxml\")\n",
    "    \n",
    "    for j in range (0, len(soup.find_all('td'))):\n",
    "        try:\n",
    "            if (type(pd.to_datetime(soup.find_all('td')[j].text,infer_datetime_format=True)) == pd._libs.tslibs.timestamps.Timestamp) == True and isinstance(locale.atof(soup.find_all('td')[j+1].text), (int, float, complex)) == True and pd.to_datetime(soup.find_all('td')[j].text,infer_datetime_format=True) > pd.to_datetime(z.date[z.symbol == i].iloc[0]):\n",
    "                print(pd.to_datetime(soup.find_all('td')[j].text,infer_datetime_format=True))\n",
    "                answer = []\n",
    "                answer.append(str(pd.to_datetime(soup.find_all('td')[j].text,infer_datetime_format=True)))\n",
    "                answer = answer + [i.span.text for i in soup.find_all('td')[j+1: j+7]] + [i]\n",
    "                print(answer)\n",
    "\n",
    "                connection = sqlite3.connect('MSC.db')\n",
    "                cursor = connection.cursor()\n",
    "                sql2 = f'cursor.execute(\"insert INTO  prices ({columnnames}) VALUES ({insertintotable})\", {answer})'\n",
    "                eval(sql2)\n",
    "                connection.commit()\n",
    "                connection.close()\n",
    "\n",
    "            else: pass\n",
    "        except:pass"
   ]
  }
 ],
 "metadata": {
  "kernelspec": {
   "display_name": "Python 3",
   "language": "python",
   "name": "python3"
  },
  "language_info": {
   "codemirror_mode": {
    "name": "ipython",
    "version": 3
   },
   "file_extension": ".py",
   "mimetype": "text/x-python",
   "name": "python",
   "nbconvert_exporter": "python",
   "pygments_lexer": "ipython3",
   "version": "3.7.4"
  },
  "toc": {
   "base_numbering": 1,
   "nav_menu": {},
   "number_sections": true,
   "sideBar": true,
   "skip_h1_title": false,
   "title_cell": "Table of Contents",
   "title_sidebar": "Contents",
   "toc_cell": false,
   "toc_position": {},
   "toc_section_display": true,
   "toc_window_display": true
  }
 },
 "nbformat": 4,
 "nbformat_minor": 2
}
