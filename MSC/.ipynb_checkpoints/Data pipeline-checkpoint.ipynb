{
 "cells": [
  {
   "cell_type": "code",
   "execution_count": 5,
   "metadata": {
    "ExecuteTime": {
     "end_time": "2021-05-25T18:21:25.516361Z",
     "start_time": "2021-05-25T18:21:18.065060Z"
    }
   },
   "outputs": [
    {
     "data": {
      "text/plain": [
       "'en_US.UTF-8'"
      ]
     },
     "execution_count": 5,
     "metadata": {},
     "output_type": "execute_result"
    }
   ],
   "source": [
    "import pandas as pd\n",
    "import sqlite3\n",
    "import locale\n",
    "locale.setlocale(locale.LC_ALL, 'en_US.UTF-8')"
   ]
  },
  {
   "cell_type": "markdown",
   "metadata": {
    "heading_collapsed": true
   },
   "source": [
    "# Reddit news"
   ]
  },
  {
   "cell_type": "code",
   "execution_count": null,
   "metadata": {
    "ExecuteTime": {
     "end_time": "2021-05-10T08:01:45.217910Z",
     "start_time": "2021-05-10T08:01:45.209306Z"
    },
    "hidden": true
   },
   "outputs": [],
   "source": [
    "import string\n",
    "string.punctuation"
   ]
  },
  {
   "cell_type": "code",
   "execution_count": null,
   "metadata": {
    "ExecuteTime": {
     "end_time": "2021-05-09T08:43:02.260096Z",
     "start_time": "2021-05-09T08:43:02.252874Z"
    },
    "hidden": true
   },
   "outputs": [],
   "source": [
    "kolonas = ['date']+['top'+str(i) for i in range(1,31)]\n",
    "print(kolonas)"
   ]
  },
  {
   "cell_type": "code",
   "execution_count": null,
   "metadata": {
    "ExecuteTime": {
     "end_time": "2021-05-07T11:00:18.813978Z",
     "start_time": "2021-05-07T11:00:18.805593Z"
    },
    "hidden": true
   },
   "outputs": [],
   "source": [
    "df = pd.DataFrame(columns = kolonas)"
   ]
  },
  {
   "cell_type": "code",
   "execution_count": null,
   "metadata": {
    "ExecuteTime": {
     "end_time": "2021-05-09T08:58:23.071091Z",
     "start_time": "2021-05-09T08:58:23.064557Z"
    },
    "hidden": true
   },
   "outputs": [],
   "source": [
    "connection = sqlite3.connect('MSC.db')\n",
    "cursor = connection.cursor()"
   ]
  },
  {
   "cell_type": "code",
   "execution_count": null,
   "metadata": {
    "ExecuteTime": {
     "end_time": "2021-05-07T08:02:17.784572Z",
     "start_time": "2021-05-07T08:02:15.742548Z"
    },
    "hidden": true
   },
   "outputs": [],
   "source": [
    "sql = (\"Select date(moment) as date, title from top30 where date = '2021-05-05'\")\n",
    "z = pd.read_sql_query(sql,connection)"
   ]
  },
  {
   "cell_type": "code",
   "execution_count": null,
   "metadata": {
    "ExecuteTime": {
     "end_time": "2021-05-07T08:02:29.929123Z",
     "start_time": "2021-05-07T08:02:29.336372Z"
    },
    "hidden": true
   },
   "outputs": [],
   "source": [
    "for d in z.date.unique():\n",
    "    atbilde =[]\n",
    "    atbilde.append(d)\n",
    "    #print(atbilde)\n",
    "    for title in z.title[z.date == d]:\n",
    "        atbilde.append(title)\n",
    "        \n",
    "    df.loc[len(df)] = atbilde"
   ]
  },
  {
   "cell_type": "code",
   "execution_count": null,
   "metadata": {
    "ExecuteTime": {
     "end_time": "2021-05-07T08:07:10.091859Z",
     "start_time": "2021-05-07T08:07:09.700192Z"
    },
    "hidden": true
   },
   "outputs": [],
   "source": [
    "df.to_sql('main', connection, if_exists='append',index=False)"
   ]
  },
  {
   "cell_type": "code",
   "execution_count": null,
   "metadata": {
    "ExecuteTime": {
     "end_time": "2021-05-07T11:00:24.792128Z",
     "start_time": "2021-05-07T11:00:24.773207Z"
    },
    "hidden": true
   },
   "outputs": [],
   "source": [
    "atbilde = []\n",
    "atbilde.append(z.date[0])\n",
    "#print(atbilde)\n",
    "\n",
    "for title in z.title:\n",
    "    atbilde.append(title)\n",
    "        \n",
    "print(atbilde)\n",
    "df.loc[len(df)] = atbilde"
   ]
  },
  {
   "cell_type": "markdown",
   "metadata": {
    "ExecuteTime": {
     "end_time": "2021-05-04T14:08:12.465116Z",
     "start_time": "2021-05-04T14:08:12.349472Z"
    },
    "heading_collapsed": true
   },
   "source": [
    "# delete"
   ]
  },
  {
   "cell_type": "markdown",
   "metadata": {
    "hidden": true
   },
   "source": [
    "connection = sqlite3.connect('MSC.db')\n",
    "cursor = connection.cursor()\n",
    "sql = (\"DELETE from top30 where moment  between '2021-03-30 11:17:11.915369' and '2021-03-30 11:18:48.647641'\")\n",
    "cursor.execute(sql)\n",
    "connection.commit()"
   ]
  },
  {
   "cell_type": "markdown",
   "metadata": {
    "ExecuteTime": {
     "end_time": "2021-05-04T14:27:17.429930Z",
     "start_time": "2021-05-04T14:27:17.426349Z"
    }
   },
   "source": [
    "# Yahoo finance"
   ]
  },
  {
   "cell_type": "code",
   "execution_count": null,
   "metadata": {
    "ExecuteTime": {
     "end_time": "2021-05-20T07:52:22.469026Z",
     "start_time": "2021-05-20T07:52:20.492348Z"
    }
   },
   "outputs": [],
   "source": [
    "from bs4 import BeautifulSoup\n",
    "import requests\n",
    "import re"
   ]
  },
  {
   "cell_type": "code",
   "execution_count": null,
   "metadata": {
    "ExecuteTime": {
     "end_time": "2021-05-07T14:13:08.973697Z",
     "start_time": "2021-05-07T14:13:08.947541Z"
    }
   },
   "outputs": [],
   "source": [
    "df = pd.DataFrame(columns = ['date','SP500_Open', 'SP500_High', 'SP500_Low', 'SP500_Close', 'SP500_Adj_Close', 'SP500_Volume'])\n",
    "df"
   ]
  },
  {
   "cell_type": "code",
   "execution_count": null,
   "metadata": {
    "ExecuteTime": {
     "end_time": "2021-05-07T14:13:10.535669Z",
     "start_time": "2021-05-07T14:13:10.526983Z"
    }
   },
   "outputs": [],
   "source": [
    "str([str('SP500_')+i for i in df.columns])"
   ]
  },
  {
   "cell_type": "markdown",
   "metadata": {},
   "source": [
    "## S&P 500 (^GSPC)\n",
    "SNP - SNP Real Time Price. Currency in USD"
   ]
  },
  {
   "cell_type": "code",
   "execution_count": null,
   "metadata": {
    "ExecuteTime": {
     "end_time": "2021-05-10T07:57:06.014024Z",
     "start_time": "2021-05-10T07:57:05.990210Z"
    }
   },
   "outputs": [],
   "source": [
    "url = \"https://finance.yahoo.com/quote/%5EGSPC/history?p=%5EGSPC\""
   ]
  },
  {
   "cell_type": "code",
   "execution_count": null,
   "metadata": {
    "ExecuteTime": {
     "end_time": "2021-05-10T07:57:09.709482Z",
     "start_time": "2021-05-10T07:57:08.810741Z"
    }
   },
   "outputs": [],
   "source": [
    "r = requests.get(url)\n",
    "data = r.text\n",
    "soup = BeautifulSoup(data)"
   ]
  },
  {
   "cell_type": "code",
   "execution_count": null,
   "metadata": {
    "ExecuteTime": {
     "end_time": "2021-05-10T07:57:14.653762Z",
     "start_time": "2021-05-10T07:57:14.638684Z"
    }
   },
   "outputs": [],
   "source": [
    "answer = []\n",
    "for i in soup.find_all('td')[0:7]:\n",
    "    #print(i.span)\n",
    "    print(i.span.text)\n",
    "    answer.append(i.span.text)\n",
    "    #print(len(answer)    "
   ]
  },
  {
   "cell_type": "markdown",
   "metadata": {
    "ExecuteTime": {
     "end_time": "2021-05-07T14:13:17.725039Z",
     "start_time": "2021-05-07T14:13:17.182645Z"
    }
   },
   "source": [
    "for i in range(0, int(len(answer))//7):\n",
    "    atbilde = []\n",
    "    #print(i)\n",
    "    for j in range (0,7):\n",
    "        if j == 0:\n",
    "            atbilde.append(pd.to_datetime(answer[i*7+j], infer_datetime_format=True))\n",
    "        else:\n",
    "            atbilde.append(answer[i*7+j])\n",
    "    df.loc[len(df)] = atbilde"
   ]
  },
  {
   "cell_type": "code",
   "execution_count": null,
   "metadata": {
    "ExecuteTime": {
     "end_time": "2021-05-24T16:13:22.540381Z",
     "start_time": "2021-05-24T16:13:22.508549Z"
    }
   },
   "outputs": [],
   "source": [
    "connection = sqlite3.connect('MSC.db')\n",
    "cursor = connection.cursor()\n",
    "sql = (\"Select date(moment) as date, title from ER20210521\")\n",
    "z = pd.read_sql_query(sql,connection)\n",
    "print(z)\n",
    "\n",
    "\n",
    "atbilde = []\n",
    "columnnames = \"'date', 'top1', 'top2', 'top3', 'top4', 'top5', 'top6', 'top7', 'top8', 'top9', 'top10', 'top11', 'top12', 'top13', 'top14', 'top15', 'top16', 'top17', 'top18', 'top19', 'top20', 'top21', 'top22', 'top23', 'top24', 'top25', 'top26', 'top27', 'top28', 'top29', top30\"\n",
    "insertintotable = '?,?,?,?,?,?,?,?,?,?,?,?,?,?,?,?,?,?,?,?,?,?,?,?,?,?,?,?,?,?,?'\n",
    "atbilde = [z.date[0]] +[i for i in  z.title]\n",
    "\n",
    "connection = sqlite3.connect('MSC.db')\n",
    "cursor = connection.cursor()\n",
    "sql2 = f'cursor.execute(\"insert INTO  main ({columnnames}) VALUES ({insertintotable})\", {atbilde})'\n",
    "eval(sql2)\n",
    "connection.commit()\n",
    "connection.close()\n",
    "print(\"Appended to MAIN\")\n"
   ]
  },
  {
   "cell_type": "code",
   "execution_count": null,
   "metadata": {
    "ExecuteTime": {
     "end_time": "2021-05-24T16:10:56.631867Z",
     "start_time": "2021-05-24T16:10:56.543867Z"
    }
   },
   "outputs": [],
   "source": [
    "connection = sqlite3.connect('MSC.db')\n",
    "cursor = connection.cursor()\n",
    "sql = (\"Select * from main\")\n",
    "z = pd.read_sql_query(sql,connection)\n",
    "z"
   ]
  },
  {
   "cell_type": "code",
   "execution_count": null,
   "metadata": {
    "ExecuteTime": {
     "end_time": "2021-05-10T08:39:50.188221Z",
     "start_time": "2021-05-10T08:39:50.170622Z"
    }
   },
   "outputs": [],
   "source": [
    "connection = sqlite3.connect('MSC.db')\n",
    "cursor = connection.cursor()\n",
    "sql = (\"Select * from DJI\")\n",
    "z = pd.read_sql_query(sql,connection).columns\n",
    "z"
   ]
  },
  {
   "cell_type": "code",
   "execution_count": null,
   "metadata": {
    "ExecuteTime": {
     "end_time": "2021-05-10T08:36:15.466945Z",
     "start_time": "2021-05-10T08:36:14.639935Z"
    }
   },
   "outputs": [],
   "source": [
    "connection = sqlite3.connect('MSC.db')\n",
    "cursor = connection.cursor()\n",
    "sql = (\"Select max(date) as date from SP500\")\n",
    "z = pd.read_sql_query(sql,connection)\n",
    "latest_date = z.date[0]\n",
    "\n",
    "##SP500\n",
    "url = \"https://finance.yahoo.com/quote/%5EGSPC/history?p=%5EGSPC\"\n",
    "r = requests.get(url)\n",
    "data = r.text\n",
    "soup = BeautifulSoup(data)\n",
    "\n",
    "answer = []\n",
    "if str(pd.to_datetime(soup.find_all('td')[0].text, infer_datetime_format=True)) == latest_date:\n",
    "    print('Stop. This data point is already in the data base')\n",
    "else:\n",
    "    print('Lets get scraping')\n",
    "    answer.append(str(pd.to_datetime(soup.find_all('td')[0].text, infer_datetime_format=True)))\n",
    "    answer = answer + [i.span.text for i in soup.find_all('td')[1:7]]\n",
    "    \n",
    "    columnnames = \"'Date', 'SP500_Open', 'SP500_High', 'SP500_Low', 'SP500_Close','SP500_Adj_Close', 'SP500_Volume'\"\n",
    "    insertintotable = '?,?,?,?,?,?,?'\n",
    "    \n",
    "    connection = sqlite3.connect('MSC/MSC.db')\n",
    "    cursor = connection.cursor()\n",
    "    sql2 = f'cursor.execute(\"insert INTO  SP500 ({columnnames}) VALUES ({insertintotable})\", {answer})'\n",
    "    eval(sql2)\n",
    "    connection.commit()\n",
    "    connection.close()\n",
    "    print(f\"{answer[0]} appended to SP500\")\n",
    "    \n",
    "    \n",
    "    ## DJI\n",
    "    url = \"https://finance.yahoo.com/quote/%5EDJI/history?p=%5EDJI\"\n",
    "    r = requests.get(url)\n",
    "    data = r.text\n",
    "    soup = BeautifulSoup(data)\n",
    "    \n",
    "    answer = []\n",
    "    answer.append(str(pd.to_datetime(soup.find_all('td')[0].text, infer_datetime_format=True)))\n",
    "    answer = answer + [i.span.text for i in soup.find_all('td')[1:7]]\n",
    "    \n",
    "    columnnames = \"'date', 'SP500_Open', 'SP500_High', 'SP500_Low', 'SP500_Close','SP500_Adj_Close', 'SP500_Volume'\"\n",
    "    insertintotable = '?,?,?,?,?,?,?'\n",
    "    \n",
    "    connection = sqlite3.connect('MSC/MSC.db')\n",
    "    cursor = connection.cursor()\n",
    "    sql2 = f'cursor.execute(\"insert INTO  SP500 ({columnnames}) VALUES ({insertintotable})\", {answer})'\n",
    "    eval(sql2)\n",
    "    connection.commit()\n",
    "    connection.close()\n",
    "    print(f\"{answer[0]} appended to DJI\")\n",
    "    \n",
    "    \n",
    "answer"
   ]
  },
  {
   "cell_type": "code",
   "execution_count": null,
   "metadata": {
    "ExecuteTime": {
     "end_time": "2021-05-07T14:13:22.084338Z",
     "start_time": "2021-05-07T14:13:22.071026Z"
    }
   },
   "outputs": [],
   "source": [
    "df.to_sql('SP500', connection, if_exists='append',index=False)"
   ]
  },
  {
   "cell_type": "markdown",
   "metadata": {},
   "source": [
    "## Dow Jones Industrial Average (^DJI)\n",
    "DJI - DJI Real Time Price. Currency in USD"
   ]
  },
  {
   "cell_type": "code",
   "execution_count": null,
   "metadata": {
    "ExecuteTime": {
     "end_time": "2021-05-07T14:11:30.683698Z",
     "start_time": "2021-05-07T14:11:30.680697Z"
    }
   },
   "outputs": [],
   "source": [
    "url = \"https://finance.yahoo.com/quote/%5EDJI/history?p=%5EDJI\""
   ]
  },
  {
   "cell_type": "code",
   "execution_count": null,
   "metadata": {
    "ExecuteTime": {
     "end_time": "2021-05-07T14:11:30.743504Z",
     "start_time": "2021-05-07T14:11:30.687962Z"
    }
   },
   "outputs": [],
   "source": [
    "df = pd.DataFrame(columns = ['date', 'DJI_Open', 'DJI_High', 'DJI_Low', 'DJI_Close', 'DJI_Adj_Close', 'DJI_Volume'])\n",
    "df"
   ]
  },
  {
   "cell_type": "code",
   "execution_count": null,
   "metadata": {
    "ExecuteTime": {
     "end_time": "2021-05-07T14:07:09.567434Z",
     "start_time": "2021-05-07T14:07:09.561932Z"
    }
   },
   "outputs": [],
   "source": [
    "columns_new = [str('DJI_')+i for i in df.columns]"
   ]
  },
  {
   "cell_type": "code",
   "execution_count": null,
   "metadata": {
    "ExecuteTime": {
     "end_time": "2021-05-07T14:11:38.068833Z",
     "start_time": "2021-05-07T14:11:37.171734Z"
    }
   },
   "outputs": [],
   "source": [
    "r = requests.get(url)\n",
    "data = r.text\n",
    "soup = BeautifulSoup(data)"
   ]
  },
  {
   "cell_type": "code",
   "execution_count": null,
   "metadata": {
    "ExecuteTime": {
     "end_time": "2021-05-07T14:11:38.407441Z",
     "start_time": "2021-05-07T14:11:38.383103Z"
    }
   },
   "outputs": [],
   "source": [
    "answer = []\n",
    "for i in soup.find_all('td'):\n",
    "    #print(i.span)\n",
    "    #print(i.span.text)\n",
    "    answer.append(i.span.text)\n",
    "    #print(len(answer)  "
   ]
  },
  {
   "cell_type": "code",
   "execution_count": null,
   "metadata": {
    "ExecuteTime": {
     "end_time": "2021-05-07T14:11:42.764407Z",
     "start_time": "2021-05-07T14:11:42.211538Z"
    }
   },
   "outputs": [],
   "source": [
    "for i in range(0, int(len(answer))//7):\n",
    "    atbilde = []\n",
    "    #print(i)\n",
    "    for j in range (0,7):\n",
    "        if j == 0:\n",
    "            atbilde.append(pd.to_datetime(answer[i*7+j], infer_datetime_format=True))\n",
    "        else:\n",
    "            atbilde.append(answer[i*7+j])\n",
    "    df.loc[len(df)] = atbilde"
   ]
  },
  {
   "cell_type": "code",
   "execution_count": null,
   "metadata": {
    "ExecuteTime": {
     "end_time": "2021-05-07T14:11:43.812893Z",
     "start_time": "2021-05-07T14:11:43.789250Z"
    }
   },
   "outputs": [],
   "source": [
    "df"
   ]
  },
  {
   "cell_type": "code",
   "execution_count": null,
   "metadata": {
    "ExecuteTime": {
     "end_time": "2021-05-07T14:11:47.376694Z",
     "start_time": "2021-05-07T14:11:47.363620Z"
    }
   },
   "outputs": [],
   "source": [
    "df.to_sql('DJI', connection, if_exists='append',index=False)"
   ]
  },
  {
   "cell_type": "markdown",
   "metadata": {
    "ExecuteTime": {
     "end_time": "2021-05-16T08:47:09.151333Z",
     "start_time": "2021-05-16T08:47:09.147584Z"
    }
   },
   "source": [
    "# SP500 companies"
   ]
  },
  {
   "cell_type": "code",
   "execution_count": null,
   "metadata": {
    "ExecuteTime": {
     "end_time": "2021-05-20T14:25:21.555214Z",
     "start_time": "2021-05-20T14:25:20.893330Z"
    }
   },
   "outputs": [],
   "source": [
    "from bs4 import BeautifulSoup\n",
    "import requests\n",
    "import re"
   ]
  },
  {
   "cell_type": "markdown",
   "metadata": {
    "ExecuteTime": {
     "end_time": "2021-05-16T09:10:16.495156Z",
     "start_time": "2021-05-16T09:10:16.273429Z"
    }
   },
   "source": [
    "df = pd.read_excel('SP500.xlsx')"
   ]
  },
  {
   "cell_type": "code",
   "execution_count": null,
   "metadata": {
    "ExecuteTime": {
     "end_time": "2021-05-20T07:53:05.168857Z",
     "start_time": "2021-05-20T07:53:02.971046Z"
    }
   },
   "outputs": [],
   "source": [
    "connection = sqlite3.connect('MSC.db')\n",
    "cursor = connection.cursor()\n",
    "sql = (\"Select * from SP500_companies\")\n",
    "df = pd.read_sql_query(sql,connection)\n",
    "df.head()"
   ]
  },
  {
   "cell_type": "markdown",
   "metadata": {
    "ExecuteTime": {
     "end_time": "2021-05-20T14:28:20.009621Z",
     "start_time": "2021-05-20T14:28:20.003143Z"
    }
   },
   "source": [
    "## Wikipedia"
   ]
  },
  {
   "cell_type": "code",
   "execution_count": null,
   "metadata": {
    "ExecuteTime": {
     "end_time": "2021-05-20T14:25:16.478463Z",
     "start_time": "2021-05-20T14:25:16.463581Z"
    }
   },
   "outputs": [],
   "source": [
    "url = \"https://en.wikipedia.org/wiki/List_of_S%26P_500_companies\""
   ]
  },
  {
   "cell_type": "code",
   "execution_count": null,
   "metadata": {
    "ExecuteTime": {
     "end_time": "2021-05-20T14:26:15.639346Z",
     "start_time": "2021-05-20T14:26:14.690345Z"
    }
   },
   "outputs": [],
   "source": [
    "r = requests.get(url)\n",
    "data = r.text\n",
    "soup = BeautifulSoup(data)"
   ]
  },
  {
   "cell_type": "code",
   "execution_count": null,
   "metadata": {
    "ExecuteTime": {
     "end_time": "2021-05-20T14:28:51.753680Z",
     "start_time": "2021-05-20T14:28:51.728537Z"
    }
   },
   "outputs": [],
   "source": [
    "answer = []\n",
    "for i in soup.find_all('td')[0:7]:\n",
    "    print(i)\n"
   ]
  },
  {
   "cell_type": "code",
   "execution_count": null,
   "metadata": {
    "ExecuteTime": {
     "end_time": "2021-05-20T15:18:13.841880Z",
     "start_time": "2021-05-20T15:18:13.789941Z"
    }
   },
   "outputs": [],
   "source": [
    "for i in soup.find_all('tr'):\n",
    "    for j in i.find_all('th'):\n",
    "        print(j)"
   ]
  },
  {
   "cell_type": "code",
   "execution_count": null,
   "metadata": {
    "ExecuteTime": {
     "end_time": "2021-05-20T15:52:53.775893Z",
     "start_time": "2021-05-20T15:52:53.768841Z"
    }
   },
   "outputs": [],
   "source": [
    "import wikipedia as wp\n",
    "def get_table(title, filename, match, use_cache=False):\n",
    "\n",
    "    if use_cache and os.path.isfile(filename):\n",
    "        pass\n",
    "    else:\n",
    "        html = wp.page(title).html()\n",
    "        df = pd.read_html(html, header=0, match=match)[0]\n",
    "        \n",
    "        df.to_csv(filename, header=True, index=False, encoding='utf-8')\n",
    "            \n",
    "    df = pd.read_csv(filename)\n",
    "    return df"
   ]
  },
  {
   "cell_type": "code",
   "execution_count": null,
   "metadata": {
    "ExecuteTime": {
     "end_time": "2021-05-20T15:53:33.313362Z",
     "start_time": "2021-05-20T15:53:28.158546Z"
    }
   },
   "outputs": [],
   "source": [
    "#title = 'List of S&P 500 companies'\n",
    "title = 'Selected changes to the list of S&P 500 components'\n",
    "filename = 'sp500.csv'\n",
    "sp500 = get_table(title, filename, match='Symbol')\n",
    "\n",
    "from datetime import datetime\n",
    "now = datetime.now()\n",
    "dt_string = now.strftime(\"%m/%d/%Y %H:%M:%S\")\n",
    "print('{} (retrieved {})'.format(title, dt_string))\n",
    "sp500"
   ]
  },
  {
   "cell_type": "code",
   "execution_count": null,
   "metadata": {
    "ExecuteTime": {
     "end_time": "2021-05-20T15:57:53.086815Z",
     "start_time": "2021-05-20T15:57:52.187178Z"
    }
   },
   "outputs": [],
   "source": [
    "#html = \n",
    "#wp.page(title).html()\n",
    "#df = \n",
    "pd.read_html(html)[1]"
   ]
  },
  {
   "cell_type": "code",
   "execution_count": null,
   "metadata": {
    "ExecuteTime": {
     "end_time": "2021-05-20T15:52:08.126089Z",
     "start_time": "2021-05-20T15:52:08.114202Z"
    }
   },
   "outputs": [],
   "source": [
    "sp500.to_csv(\"SP500.csv\")"
   ]
  },
  {
   "cell_type": "markdown",
   "metadata": {
    "ExecuteTime": {
     "end_time": "2021-05-16T10:39:05.621964Z",
     "start_time": "2021-05-16T10:39:05.604017Z"
    }
   },
   "source": [
    "### Insert DJI and SP500 in the same table\n",
    "### One less step in ETL\n",
    "\n",
    "connection = sqlite3.connect('MSC.db')\n",
    "cursor = connection.cursor()\n",
    "\n",
    "columnnames = \"'Company', 'Symbol', 'Weight'\"\n",
    "insertintotable = '?,?,?'\n",
    "\n",
    "answer = ['Dow Jones Industrial Average', '^DJI', '100']\n",
    "sql2 = f'cursor.execute(\"insert INTO  SP500_companies ({columnnames}) VALUES ({insertintotable})\", {answer})'\n",
    "eval(sql2)\n",
    "connection.commit()\n",
    "connection.close()"
   ]
  },
  {
   "cell_type": "code",
   "execution_count": null,
   "metadata": {
    "ExecuteTime": {
     "end_time": "2021-05-16T11:23:38.165983Z",
     "start_time": "2021-05-16T11:22:35.106619Z"
    }
   },
   "outputs": [],
   "source": [
    "columnnames = \"'date', 'open', 'high', 'low', 'close', 'adj_close','volume', 'symbol'\"\n",
    "insertintotable = '?,?,?,?,?,?,?,?'\n",
    "\n",
    "for i in df.Symbol[490:]:\n",
    "    r = requests.get(f'https://finance.yahoo.com/quote/{i}/history?p={i}')\n",
    "    print(f'https://finance.yahoo.com/quote/{i}/history?p={i}')\n",
    "    data = r.text\n",
    "    soup = BeautifulSoup(data, features=\"lxml\")\n",
    "    ofset = 0\n",
    "    for j in range(0, int(len(soup.find_all('td')))//7):  \n",
    "        #if type(soup.find_all('td')[j*7+1+ofset].span.text) != int and type(soup.find_all('td')[j*7+1+ofset].span.text) != float:\n",
    "        if soup.find_all('td')[j*7+1+ofset].span.text == \"Dividend\" or soup.find_all('td')[j*7+1+ofset].span.text == \"Stock Split\":\n",
    "            ofset += 2\n",
    "        try:\n",
    "            answer = []\n",
    "            answer.append(str(pd.to_datetime(soup.find_all('td')[j*7+ofset].text, infer_datetime_format=True)))\n",
    "            answer = answer + [i.span.text for i in soup.find_all('td')[j*7+1+ofset:j*7+7+ofset]] + [i]\n",
    "        except:\n",
    "            answer = []\n",
    "            ofset += 2\n",
    "        print(answer)\n",
    "        connection = sqlite3.connect('MSC.db')\n",
    "        cursor = connection.cursor()\n",
    "        sql2 = f'cursor.execute(\"insert INTO  prices ({columnnames}) VALUES ({insertintotable})\", {answer})'\n",
    "        eval(sql2)\n",
    "        connection.commit()\n",
    "        connection.close()    "
   ]
  },
  {
   "cell_type": "code",
   "execution_count": null,
   "metadata": {
    "ExecuteTime": {
     "end_time": "2021-05-19T08:08:47.527576Z",
     "start_time": "2021-05-19T08:07:52.928677Z"
    }
   },
   "outputs": [],
   "source": [
    "#for symbol in df\n",
    "no_financials = \"'BRK.B', 'BF.B', 'FLIR'\"\n",
    "\n",
    "connection = sqlite3.connect('MSC.db')\n",
    "cursor = connection.cursor()\n",
    "sql = ('''\n",
    "Select symbol from SP500_companies \n",
    "where symbol not in (select distinct symbol from prices where date == '2021-05-19 00:00:00')\n",
    "and  symbol not in ('BRK.B', 'BF.B', 'FLIR')'''\n",
    "    )\n",
    "df = pd.read_sql_query(sql,connection)\n",
    "\n",
    "connection = sqlite3.connect('MSC.db')\n",
    "cursor = connection.cursor()\n",
    "sql = (\"Select * from prices where date \")\n",
    "z = pd.read_sql_query(sql,connection)\n",
    "connection.commit()\n",
    "connection.close()\n",
    "\n",
    "columnnames = \"'date', 'open', 'high', 'low', 'close', 'adj_close','volume', 'symbol'\"\n",
    "insertintotable = '?,?,?,?,?,?,?,?'\n",
    "\n",
    "for i in df.Symbol[2:]:\n",
    "    r = requests.get(f'https://finance.yahoo.com/quote/{i}/history?p={i}')\n",
    "    print(f'https://finance.yahoo.com/quote/{i}/history?p={i}')\n",
    "    data = r.text\n",
    "    soup = BeautifulSoup(data, features=\"lxml\")\n",
    "    counter = 0\n",
    "    for j in range (0, 4):\n",
    "        if soup.find_all('td')[1+j*7].span != None and pd.to_datetime(soup.find_all('td')[j*7].text, infer_datetime_format=True) > pd.to_datetime(z.date[z.symbol == i].iloc[0]) and counter == 0:\n",
    "            try:\n",
    "                answer = []\n",
    "                answer.append(str(pd.to_datetime(soup.find_all('td')[j*7].text, infer_datetime_format=True)))\n",
    "                answer = answer + [i.span.text for i in soup.find_all('td')[j*7+1: j*7+7]] + [i]\n",
    "                print(answer)\n",
    "\n",
    "                connection = sqlite3.connect('MSC.db')\n",
    "                cursor = connection.cursor()\n",
    "                sql2 = f'cursor.execute(\"insert INTO  prices ({columnnames}) VALUES ({insertintotable})\", {answer})'\n",
    "                eval(sql2)\n",
    "                connection.commit()\n",
    "                connection.close()\n",
    "                counter +=1\n",
    "            except:pass        \n",
    "        else:pass                "
   ]
  },
  {
   "cell_type": "code",
   "execution_count": null,
   "metadata": {
    "ExecuteTime": {
     "end_time": "2021-05-20T07:53:15.008645Z",
     "start_time": "2021-05-20T07:53:15.000334Z"
    }
   },
   "outputs": [],
   "source": [
    "import string\n",
    "string.punctuation"
   ]
  },
  {
   "cell_type": "code",
   "execution_count": null,
   "metadata": {
    "ExecuteTime": {
     "end_time": "2021-05-16T11:25:56.357014Z",
     "start_time": "2021-05-16T11:25:56.013066Z"
    }
   },
   "outputs": [],
   "source": [
    "connection = sqlite3.connect(\"MSC.db\")\n",
    "cursor = connection.cursor()\n",
    "\n",
    "sql = ('''Select distinct symbol, count(symbol) over(partition by symbol) as count from prices\n",
    "order by count\n",
    "\n",
    "       ''')\n",
    "z =pd.read_sql_query(sql,connection)\n",
    "z"
   ]
  },
  {
   "cell_type": "code",
   "execution_count": null,
   "metadata": {
    "ExecuteTime": {
     "end_time": "2021-05-16T11:28:35.722714Z",
     "start_time": "2021-05-16T11:28:35.696517Z"
    }
   },
   "outputs": [],
   "source": [
    "connection = sqlite3.connect(\"MSC.db\")\n",
    "cursor = connection.cursor()\n",
    "\n",
    "sql = ('''Select * from sp500_companies\n",
    "\n",
    "       ''')\n",
    "z =pd.read_sql_query(sql,connection)\n",
    "z"
   ]
  },
  {
   "cell_type": "code",
   "execution_count": null,
   "metadata": {
    "ExecuteTime": {
     "end_time": "2021-05-20T07:53:31.486036Z",
     "start_time": "2021-05-20T07:53:30.770174Z"
    }
   },
   "outputs": [],
   "source": [
    "connection = sqlite3.connect(\"MSC.db\")\n",
    "cursor = connection.cursor()\n",
    "\n",
    "sql = ('''Select sp500_companies.symbol, company from sp500_companies\n",
    "          WHERE sp500_companies.Symbol NOT IN\n",
    "        (Select symbol from  prices)\n",
    "\n",
    "       ''')\n",
    "z =pd.read_sql_query(sql,connection)\n",
    "z"
   ]
  },
  {
   "cell_type": "code",
   "execution_count": null,
   "metadata": {
    "ExecuteTime": {
     "end_time": "2021-05-16T11:33:22.381155Z",
     "start_time": "2021-05-16T11:33:22.377994Z"
    }
   },
   "outputs": [],
   "source": [
    "# Flir 0 love "
   ]
  },
  {
   "cell_type": "code",
   "execution_count": null,
   "metadata": {
    "ExecuteTime": {
     "end_time": "2021-05-20T07:53:44.720249Z",
     "start_time": "2021-05-20T07:53:44.659260Z"
    }
   },
   "outputs": [],
   "source": [
    "connection = sqlite3.connect('MSC.db')\n",
    "cursor = connection.cursor()\n",
    "sql = ('''\n",
    "Select symbol from SP500_companies \n",
    "where symbol not in (select distinct symbol from prices where date == '2021-05-19 00:00:00')\n",
    "and  symbol not in ('BRK.B', 'BF.B', 'FLIR')'''\n",
    "    )\n",
    "df = pd.read_sql_query(sql,connection)\n",
    "df"
   ]
  },
  {
   "cell_type": "markdown",
   "metadata": {},
   "source": [
    "# Merge"
   ]
  },
  {
   "cell_type": "code",
   "execution_count": null,
   "metadata": {
    "ExecuteTime": {
     "end_time": "2021-05-18T12:06:22.489424Z",
     "start_time": "2021-05-18T12:06:22.327557Z"
    }
   },
   "outputs": [],
   "source": [
    "connection = sqlite3.connect('MSC.db')\n",
    "cursor = connection.cursor()\n",
    "\n",
    "sql = ('''Select \n",
    "            main.date,\n",
    "            top1,top2,top3,top4,top5,\n",
    "            top6,top7,top8,top9,top10,\n",
    "            top11,top12,top13,top14,top15,\n",
    "            top16,top17,top18,top19,top20,\n",
    "            top21,top22,top23,top24,top25,\n",
    "            top26,top27,top28,top29,top30,\n",
    "            \n",
    "            DJI_Open,\n",
    "            DJI_High,\n",
    "            DJI_Low,\n",
    "            DJI_Close,\n",
    "            DJI_Adj_Close,\n",
    "            \n",
    "            SP500_Open,\n",
    "            SP500_High,\n",
    "            SP500_Low,\n",
    "            SP500_Close,\n",
    "            SP500_Adj_Close\n",
    "\n",
    "            from main\n",
    "            left join DJI on\n",
    "            main.date = date(DJI.Date)\n",
    "            left join SP500 on\n",
    "            main.date = date(SP500.Date)\n",
    "            \n",
    "            where DJI_Open not NULL\n",
    "            order by main.date\n",
    "\n",
    "       ''')\n",
    "df = pd.read_sql_query(sql,connection)\n",
    "df.tail()"
   ]
  },
  {
   "cell_type": "code",
   "execution_count": null,
   "metadata": {
    "ExecuteTime": {
     "end_time": "2021-05-25T17:37:22.568352Z",
     "start_time": "2021-05-25T17:37:22.396041Z"
    }
   },
   "outputs": [],
   "source": [
    "connection = sqlite3.connect('MSC.db')\n",
    "cursor = connection.cursor()\n",
    "\n",
    "sql = ('''\n",
    "    select main.date,\n",
    "            top1,top2,top3,top4,top5,\n",
    "            top6,top7,top8,top9,top10,\n",
    "            top11,top12,top13,top14,top15,\n",
    "            top16,top17,top18,top19,top20,\n",
    "            top21,top22,top23,top24,top25,\n",
    "            top26,top27,top28,top29,top30,\n",
    "            open\n",
    "            ,close\n",
    "\n",
    "    from prices \n",
    "    left join main\n",
    "    on date(prices.date) = main.date\n",
    "    \n",
    "    where symbol = '^GSPC' \n",
    "    and date(prices.date)  > '2021-03-07' \n",
    "    and top1 is not null\n",
    "    \n",
    "    order by main.date\n",
    "\n",
    "       ''')\n",
    "df = pd.read_sql_query(sql,connection)\n",
    "print(df.shape)\n",
    "df.tail()"
   ]
  },
  {
   "cell_type": "code",
   "execution_count": null,
   "metadata": {
    "ExecuteTime": {
     "end_time": "2021-05-25T17:44:17.569870Z",
     "start_time": "2021-05-25T17:44:17.373402Z"
    }
   },
   "outputs": [],
   "source": [
    "connection = sqlite3.connect('MSC.db')\n",
    "cursor = connection.cursor()\n",
    "\n",
    "sql = ('''\n",
    "    select * from prices\n",
    "    \n",
    "    \n",
    "    where symbol = '^GSPC' \n",
    "    --and date(prices.date)  > '2021-03-07' \n",
    "       ''')\n",
    "df = pd.read_sql_query(sql,connection)\n",
    "print(df.shape)\n",
    "df.tail()"
   ]
  },
  {
   "cell_type": "code",
   "execution_count": null,
   "metadata": {
    "ExecuteTime": {
     "end_time": "2021-05-25T17:38:17.955137Z",
     "start_time": "2021-05-25T17:38:17.927385Z"
    }
   },
   "outputs": [],
   "source": [
    "connection = sqlite3.connect('MSC.db')\n",
    "cursor = connection.cursor()\n",
    "\n",
    "sql = ('''\n",
    "    select * from SP500_companies\n",
    "       ''')\n",
    "df = pd.read_sql_query(sql,connection)\n",
    "print(df.shape)\n",
    "df.tail()"
   ]
  },
  {
   "cell_type": "code",
   "execution_count": 33,
   "metadata": {
    "ExecuteTime": {
     "end_time": "2021-05-25T18:37:09.573691Z",
     "start_time": "2021-05-25T18:37:09.541319Z"
    }
   },
   "outputs": [
    {
     "data": {
      "text/html": [
       "<div>\n",
       "<style scoped>\n",
       "    .dataframe tbody tr th:only-of-type {\n",
       "        vertical-align: middle;\n",
       "    }\n",
       "\n",
       "    .dataframe tbody tr th {\n",
       "        vertical-align: top;\n",
       "    }\n",
       "\n",
       "    .dataframe thead th {\n",
       "        text-align: right;\n",
       "    }\n",
       "</style>\n",
       "<table border=\"1\" class=\"dataframe\">\n",
       "  <thead>\n",
       "    <tr style=\"text-align: right;\">\n",
       "      <th></th>\n",
       "      <th>Symbol</th>\n",
       "    </tr>\n",
       "  </thead>\n",
       "  <tbody>\n",
       "    <tr>\n",
       "      <th>0</th>\n",
       "      <td>AAPL</td>\n",
       "    </tr>\n",
       "    <tr>\n",
       "      <th>1</th>\n",
       "      <td>MSFT</td>\n",
       "    </tr>\n",
       "    <tr>\n",
       "      <th>2</th>\n",
       "      <td>AMZN</td>\n",
       "    </tr>\n",
       "    <tr>\n",
       "      <th>3</th>\n",
       "      <td>FB</td>\n",
       "    </tr>\n",
       "    <tr>\n",
       "      <th>4</th>\n",
       "      <td>GOOGL</td>\n",
       "    </tr>\n",
       "    <tr>\n",
       "      <th>...</th>\n",
       "      <td>...</td>\n",
       "    </tr>\n",
       "    <tr>\n",
       "      <th>503</th>\n",
       "      <td>^GSPC</td>\n",
       "    </tr>\n",
       "    <tr>\n",
       "      <th>504</th>\n",
       "      <td>^DJI</td>\n",
       "    </tr>\n",
       "    <tr>\n",
       "      <th>505</th>\n",
       "      <td>CLR</td>\n",
       "    </tr>\n",
       "    <tr>\n",
       "      <th>506</th>\n",
       "      <td>SPY</td>\n",
       "    </tr>\n",
       "    <tr>\n",
       "      <th>507</th>\n",
       "      <td>^VIX</td>\n",
       "    </tr>\n",
       "  </tbody>\n",
       "</table>\n",
       "<p>508 rows × 1 columns</p>\n",
       "</div>"
      ],
      "text/plain": [
       "    Symbol\n",
       "0     AAPL\n",
       "1     MSFT\n",
       "2     AMZN\n",
       "3       FB\n",
       "4    GOOGL\n",
       "..     ...\n",
       "503  ^GSPC\n",
       "504   ^DJI\n",
       "505    CLR\n",
       "506    SPY\n",
       "507   ^VIX\n",
       "\n",
       "[508 rows x 1 columns]"
      ]
     },
     "execution_count": 33,
     "metadata": {},
     "output_type": "execute_result"
    }
   ],
   "source": [
    "connection = sqlite3.connect('MSC.db')\n",
    "cursor = connection.cursor()\n",
    "\n",
    "sql = (f'''\n",
    "Select symbol from SP500_companies \n",
    "where symbol not in (select distinct symbol from prices where date == \"2021-05-26 00:00:00\")\n",
    "and  symbol not in ('BRK.B', 'BF.B', 'FLIR')\n",
    "'''\n",
    "    )\n",
    "df = pd.read_sql_query(sql,connection)\n",
    "df"
   ]
  },
  {
   "cell_type": "code",
   "execution_count": 19,
   "metadata": {
    "ExecuteTime": {
     "end_time": "2021-05-25T18:29:38.374061Z",
     "start_time": "2021-05-25T18:29:37.976197Z"
    }
   },
   "outputs": [
    {
     "data": {
      "text/html": [
       "<div>\n",
       "<style scoped>\n",
       "    .dataframe tbody tr th:only-of-type {\n",
       "        vertical-align: middle;\n",
       "    }\n",
       "\n",
       "    .dataframe tbody tr th {\n",
       "        vertical-align: top;\n",
       "    }\n",
       "\n",
       "    .dataframe thead th {\n",
       "        text-align: right;\n",
       "    }\n",
       "</style>\n",
       "<table border=\"1\" class=\"dataframe\">\n",
       "  <thead>\n",
       "    <tr style=\"text-align: right;\">\n",
       "      <th></th>\n",
       "      <th>date</th>\n",
       "      <th>open</th>\n",
       "      <th>high</th>\n",
       "      <th>low</th>\n",
       "      <th>close</th>\n",
       "      <th>adj_close</th>\n",
       "      <th>volume</th>\n",
       "      <th>symbol</th>\n",
       "    </tr>\n",
       "  </thead>\n",
       "  <tbody>\n",
       "    <tr>\n",
       "      <th>0</th>\n",
       "      <td>2021-05-25 00:00:00</td>\n",
       "      <td>127.82</td>\n",
       "      <td>128.32</td>\n",
       "      <td>126.73</td>\n",
       "      <td>126.84</td>\n",
       "      <td>126.84</td>\n",
       "      <td>36,640,338</td>\n",
       "      <td>AAPL</td>\n",
       "    </tr>\n",
       "    <tr>\n",
       "      <th>1</th>\n",
       "      <td>2021-05-25 00:00:00</td>\n",
       "      <td>251.77</td>\n",
       "      <td>252.75</td>\n",
       "      <td>250.82</td>\n",
       "      <td>251.59</td>\n",
       "      <td>251.59</td>\n",
       "      <td>5,855,022</td>\n",
       "      <td>MSFT</td>\n",
       "    </tr>\n",
       "    <tr>\n",
       "      <th>2</th>\n",
       "      <td>2021-05-25 00:00:00</td>\n",
       "      <td>327.08</td>\n",
       "      <td>329.18</td>\n",
       "      <td>324.81</td>\n",
       "      <td>327.49</td>\n",
       "      <td>327.49</td>\n",
       "      <td>6,873,433</td>\n",
       "      <td>FB</td>\n",
       "    </tr>\n",
       "    <tr>\n",
       "      <th>3</th>\n",
       "      <td>2021-05-25 00:00:00</td>\n",
       "      <td>163.85</td>\n",
       "      <td>165.69</td>\n",
       "      <td>163.37</td>\n",
       "      <td>163.57</td>\n",
       "      <td>163.57</td>\n",
       "      <td>3,837,833</td>\n",
       "      <td>JPM</td>\n",
       "    </tr>\n",
       "    <tr>\n",
       "      <th>4</th>\n",
       "      <td>2021-05-25 00:00:00</td>\n",
       "      <td>170.67</td>\n",
       "      <td>171.02</td>\n",
       "      <td>169.74</td>\n",
       "      <td>170.25</td>\n",
       "      <td>170.25</td>\n",
       "      <td>3,641,116</td>\n",
       "      <td>JNJ</td>\n",
       "    </tr>\n",
       "    <tr>\n",
       "      <th>...</th>\n",
       "      <td>...</td>\n",
       "      <td>...</td>\n",
       "      <td>...</td>\n",
       "      <td>...</td>\n",
       "      <td>...</td>\n",
       "      <td>...</td>\n",
       "      <td>...</td>\n",
       "      <td>...</td>\n",
       "    </tr>\n",
       "    <tr>\n",
       "      <th>54165</th>\n",
       "      <td>2020-12-21 00:00:00</td>\n",
       "      <td>110.71</td>\n",
       "      <td>113.78</td>\n",
       "      <td>108.73</td>\n",
       "      <td>112.54</td>\n",
       "      <td>112.54</td>\n",
       "      <td>3,809,700</td>\n",
       "      <td>WYNN</td>\n",
       "    </tr>\n",
       "    <tr>\n",
       "      <th>54166</th>\n",
       "      <td>2020-12-21 00:00:00</td>\n",
       "      <td>146.80</td>\n",
       "      <td>148.06</td>\n",
       "      <td>141.70</td>\n",
       "      <td>145.28</td>\n",
       "      <td>145.28</td>\n",
       "      <td>1,799,300</td>\n",
       "      <td>XLNX</td>\n",
       "    </tr>\n",
       "    <tr>\n",
       "      <th>54167</th>\n",
       "      <td>2020-12-21 00:00:00</td>\n",
       "      <td>366.00</td>\n",
       "      <td>376.73</td>\n",
       "      <td>363.00</td>\n",
       "      <td>375.91</td>\n",
       "      <td>375.91</td>\n",
       "      <td>505,600</td>\n",
       "      <td>ZBRA</td>\n",
       "    </tr>\n",
       "    <tr>\n",
       "      <th>54168</th>\n",
       "      <td>2020-12-21 00:00:00</td>\n",
       "      <td>30,159.00</td>\n",
       "      <td>30,304.14</td>\n",
       "      <td>29,755.53</td>\n",
       "      <td>30,216.45</td>\n",
       "      <td>30,216.45</td>\n",
       "      <td>437,480,000</td>\n",
       "      <td>^DJI</td>\n",
       "    </tr>\n",
       "    <tr>\n",
       "      <th>54169</th>\n",
       "      <td>2020-12-21 00:00:00</td>\n",
       "      <td>3,684.28</td>\n",
       "      <td>3,702.90</td>\n",
       "      <td>3,636.48</td>\n",
       "      <td>3,694.92</td>\n",
       "      <td>3,694.92</td>\n",
       "      <td>4,732,160,000</td>\n",
       "      <td>^GSPC</td>\n",
       "    </tr>\n",
       "  </tbody>\n",
       "</table>\n",
       "<p>54170 rows × 8 columns</p>\n",
       "</div>"
      ],
      "text/plain": [
       "                      date       open       high        low      close  \\\n",
       "0      2021-05-25 00:00:00     127.82     128.32     126.73     126.84   \n",
       "1      2021-05-25 00:00:00     251.77     252.75     250.82     251.59   \n",
       "2      2021-05-25 00:00:00     327.08     329.18     324.81     327.49   \n",
       "3      2021-05-25 00:00:00     163.85     165.69     163.37     163.57   \n",
       "4      2021-05-25 00:00:00     170.67     171.02     169.74     170.25   \n",
       "...                    ...        ...        ...        ...        ...   \n",
       "54165  2020-12-21 00:00:00     110.71     113.78     108.73     112.54   \n",
       "54166  2020-12-21 00:00:00     146.80     148.06     141.70     145.28   \n",
       "54167  2020-12-21 00:00:00     366.00     376.73     363.00     375.91   \n",
       "54168  2020-12-21 00:00:00  30,159.00  30,304.14  29,755.53  30,216.45   \n",
       "54169  2020-12-21 00:00:00   3,684.28   3,702.90   3,636.48   3,694.92   \n",
       "\n",
       "       adj_close         volume symbol  \n",
       "0         126.84     36,640,338   AAPL  \n",
       "1         251.59      5,855,022   MSFT  \n",
       "2         327.49      6,873,433     FB  \n",
       "3         163.57      3,837,833    JPM  \n",
       "4         170.25      3,641,116    JNJ  \n",
       "...          ...            ...    ...  \n",
       "54165     112.54      3,809,700   WYNN  \n",
       "54166     145.28      1,799,300   XLNX  \n",
       "54167     375.91        505,600   ZBRA  \n",
       "54168  30,216.45    437,480,000   ^DJI  \n",
       "54169   3,694.92  4,732,160,000  ^GSPC  \n",
       "\n",
       "[54170 rows x 8 columns]"
      ]
     },
     "execution_count": 19,
     "metadata": {},
     "output_type": "execute_result"
    }
   ],
   "source": [
    "connection = sqlite3.connect('MSC.db')\n",
    "cursor = connection.cursor()\n",
    "sql = (\"Select * from prices order by date desc\")\n",
    "z = pd.read_sql_query(sql,connection)\n",
    "z"
   ]
  },
  {
   "cell_type": "code",
   "execution_count": 3,
   "metadata": {
    "ExecuteTime": {
     "end_time": "2021-05-25T18:21:01.665841Z",
     "start_time": "2021-05-25T18:21:01.061799Z"
    }
   },
   "outputs": [],
   "source": [
    "import requests"
   ]
  },
  {
   "cell_type": "code",
   "execution_count": 21,
   "metadata": {
    "ExecuteTime": {
     "end_time": "2021-05-25T18:30:01.337696Z",
     "start_time": "2021-05-25T18:29:58.015932Z"
    }
   },
   "outputs": [
    {
     "name": "stdout",
     "output_type": "stream",
     "text": [
      "https://finance.yahoo.com/quote/^VIX/history?p=^VIX\n",
      "Price injection done\n"
     ]
    }
   ],
   "source": [
    "columnnames = \"'date', 'open', 'high', 'low', 'close', 'adj_close','volume', 'symbol'\"\n",
    "insertintotable = '?,?,?,?,?,?,?,?'\n",
    "\n",
    "for i in df.Symbol:\n",
    "    r = requests.get(f'https://finance.yahoo.com/quote/{i}/history?p={i}')\n",
    "    print(f'https://finance.yahoo.com/quote/{i}/history?p={i}')\n",
    "    data = r.text\n",
    "    soup = BeautifulSoup(data, features=\"lxml\")\n",
    "    \n",
    "    for j in range (0, len(soup.find_all('td'))):\n",
    "        try:\n",
    "            if (type(pd.to_datetime(soup.find_all('td')[j].text,infer_datetime_format=True)) == pd._libs.tslibs.timestamps.Timestamp) == True and isinstance(locale.atof(soup.find_all('td')[j+1].text), (int, float, complex)) == True and pd.to_datetime(soup.find_all('td')[j].text,infer_datetime_format=True) > pd.to_datetime(z.date[z.symbol == i].iloc[0]):\n",
    "                answer = []\n",
    "                answer.append(str(pd.to_datetime(soup.find_all('td')[j].text,infer_datetime_format=True)))\n",
    "                answer = answer + [i.span.text for i in soup.find_all('td')[j+1: j+7]] + [i]\n",
    "                print(answer)\n",
    "                \n",
    "\n",
    "                connection = sqlite3.connect('MSC.db')\n",
    "                cursor = connection.cursor()\n",
    "                sql2 = f'cursor.execute(\"insert INTO  prices ({columnnames}) VALUES ({insertintotable})\", {answer})'\n",
    "                eval(sql2)\n",
    "                connection.commit()\n",
    "                connection.close()\n",
    "\n",
    "            else: pass\n",
    "        except:pass            \n",
    "print('Price injection done')"
   ]
  },
  {
   "cell_type": "code",
   "execution_count": 1,
   "metadata": {
    "ExecuteTime": {
     "end_time": "2021-05-25T18:20:54.844832Z",
     "start_time": "2021-05-25T18:20:53.723935Z"
    }
   },
   "outputs": [],
   "source": [
    "from bs4 import BeautifulSoup"
   ]
  },
  {
   "cell_type": "code",
   "execution_count": 2,
   "metadata": {
    "ExecuteTime": {
     "end_time": "2021-05-25T18:20:54.948737Z",
     "start_time": "2021-05-25T18:20:54.923517Z"
    }
   },
   "outputs": [
    {
     "data": {
      "text/plain": [
       "'en_US.UTF-8'"
      ]
     },
     "execution_count": 2,
     "metadata": {},
     "output_type": "execute_result"
    }
   ],
   "source": [
    "import locale\n",
    "locale.setlocale(locale.LC_ALL, 'en_US.UTF-8')"
   ]
  }
 ],
 "metadata": {
  "kernelspec": {
   "display_name": "Python 3",
   "language": "python",
   "name": "python3"
  },
  "language_info": {
   "codemirror_mode": {
    "name": "ipython",
    "version": 3
   },
   "file_extension": ".py",
   "mimetype": "text/x-python",
   "name": "python",
   "nbconvert_exporter": "python",
   "pygments_lexer": "ipython3",
   "version": "3.7.4"
  },
  "toc": {
   "base_numbering": 1,
   "nav_menu": {},
   "number_sections": true,
   "sideBar": true,
   "skip_h1_title": false,
   "title_cell": "Table of Contents",
   "title_sidebar": "Contents",
   "toc_cell": false,
   "toc_position": {},
   "toc_section_display": true,
   "toc_window_display": true
  }
 },
 "nbformat": 4,
 "nbformat_minor": 2
}
