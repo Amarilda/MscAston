{
 "cells": [
  {
   "cell_type": "code",
   "execution_count": 141,
   "metadata": {
    "ExecuteTime": {
     "end_time": "2021-05-18T12:05:42.995745Z",
     "start_time": "2021-05-18T12:05:42.978395Z"
    }
   },
   "outputs": [],
   "source": [
    "import pandas as pd\n",
    "import sqlite3"
   ]
  },
  {
   "cell_type": "markdown",
   "metadata": {
    "heading_collapsed": true
   },
   "source": [
    "# Reddit news"
   ]
  },
  {
   "cell_type": "code",
   "execution_count": null,
   "metadata": {
    "ExecuteTime": {
     "end_time": "2021-05-10T08:01:45.217910Z",
     "start_time": "2021-05-10T08:01:45.209306Z"
    },
    "hidden": true
   },
   "outputs": [],
   "source": [
    "import string\n",
    "string.punctuation"
   ]
  },
  {
   "cell_type": "code",
   "execution_count": null,
   "metadata": {
    "ExecuteTime": {
     "end_time": "2021-05-09T08:43:02.260096Z",
     "start_time": "2021-05-09T08:43:02.252874Z"
    },
    "hidden": true
   },
   "outputs": [],
   "source": [
    "kolonas = ['date']+['top'+str(i) for i in range(1,31)]\n",
    "print(kolonas)"
   ]
  },
  {
   "cell_type": "code",
   "execution_count": null,
   "metadata": {
    "ExecuteTime": {
     "end_time": "2021-05-07T11:00:18.813978Z",
     "start_time": "2021-05-07T11:00:18.805593Z"
    },
    "hidden": true
   },
   "outputs": [],
   "source": [
    "df = pd.DataFrame(columns = kolonas)"
   ]
  },
  {
   "cell_type": "code",
   "execution_count": null,
   "metadata": {
    "ExecuteTime": {
     "end_time": "2021-05-09T08:58:23.071091Z",
     "start_time": "2021-05-09T08:58:23.064557Z"
    },
    "hidden": true
   },
   "outputs": [],
   "source": [
    "connection = sqlite3.connect('MSC.db')\n",
    "cursor = connection.cursor()"
   ]
  },
  {
   "cell_type": "code",
   "execution_count": null,
   "metadata": {
    "ExecuteTime": {
     "end_time": "2021-05-07T08:02:17.784572Z",
     "start_time": "2021-05-07T08:02:15.742548Z"
    },
    "hidden": true
   },
   "outputs": [],
   "source": [
    "sql = (\"Select date(moment) as date, title from top30 where date = '2021-05-05'\")\n",
    "z = pd.read_sql_query(sql,connection)"
   ]
  },
  {
   "cell_type": "code",
   "execution_count": null,
   "metadata": {
    "ExecuteTime": {
     "end_time": "2021-05-07T08:02:29.929123Z",
     "start_time": "2021-05-07T08:02:29.336372Z"
    },
    "hidden": true
   },
   "outputs": [],
   "source": [
    "for d in z.date.unique():\n",
    "    atbilde =[]\n",
    "    atbilde.append(d)\n",
    "    #print(atbilde)\n",
    "    for title in z.title[z.date == d]:\n",
    "        atbilde.append(title)\n",
    "        \n",
    "    df.loc[len(df)] = atbilde"
   ]
  },
  {
   "cell_type": "code",
   "execution_count": null,
   "metadata": {
    "ExecuteTime": {
     "end_time": "2021-05-07T08:07:10.091859Z",
     "start_time": "2021-05-07T08:07:09.700192Z"
    },
    "hidden": true
   },
   "outputs": [],
   "source": [
    "df.to_sql('main', connection, if_exists='append',index=False)"
   ]
  },
  {
   "cell_type": "code",
   "execution_count": null,
   "metadata": {
    "ExecuteTime": {
     "end_time": "2021-05-07T11:00:24.792128Z",
     "start_time": "2021-05-07T11:00:24.773207Z"
    },
    "hidden": true
   },
   "outputs": [],
   "source": [
    "atbilde = []\n",
    "atbilde.append(z.date[0])\n",
    "#print(atbilde)\n",
    "\n",
    "for title in z.title:\n",
    "    atbilde.append(title)\n",
    "        \n",
    "print(atbilde)\n",
    "df.loc[len(df)] = atbilde"
   ]
  },
  {
   "cell_type": "markdown",
   "metadata": {
    "ExecuteTime": {
     "end_time": "2021-05-04T14:08:12.465116Z",
     "start_time": "2021-05-04T14:08:12.349472Z"
    },
    "heading_collapsed": true
   },
   "source": [
    "# delete"
   ]
  },
  {
   "cell_type": "markdown",
   "metadata": {
    "hidden": true
   },
   "source": [
    "connection = sqlite3.connect('MSC.db')\n",
    "cursor = connection.cursor()\n",
    "sql = (\"DELETE from top30 where moment  between '2021-03-30 11:17:11.915369' and '2021-03-30 11:18:48.647641'\")\n",
    "cursor.execute(sql)\n",
    "connection.commit()"
   ]
  },
  {
   "cell_type": "markdown",
   "metadata": {
    "ExecuteTime": {
     "end_time": "2021-05-04T14:27:17.429930Z",
     "start_time": "2021-05-04T14:27:17.426349Z"
    },
    "heading_collapsed": true
   },
   "source": [
    "# Yahoo finance"
   ]
  },
  {
   "cell_type": "code",
   "execution_count": null,
   "metadata": {
    "ExecuteTime": {
     "end_time": "2021-05-10T07:56:56.826784Z",
     "start_time": "2021-05-10T07:56:55.281696Z"
    },
    "hidden": true
   },
   "outputs": [],
   "source": [
    "from bs4 import BeautifulSoup\n",
    "import requests\n",
    "import re"
   ]
  },
  {
   "cell_type": "code",
   "execution_count": null,
   "metadata": {
    "ExecuteTime": {
     "end_time": "2021-05-07T14:13:08.973697Z",
     "start_time": "2021-05-07T14:13:08.947541Z"
    },
    "hidden": true
   },
   "outputs": [],
   "source": [
    "df = pd.DataFrame(columns = ['date','SP500_Open', 'SP500_High', 'SP500_Low', 'SP500_Close', 'SP500_Adj_Close', 'SP500_Volume'])\n",
    "df"
   ]
  },
  {
   "cell_type": "code",
   "execution_count": null,
   "metadata": {
    "ExecuteTime": {
     "end_time": "2021-05-07T14:13:10.535669Z",
     "start_time": "2021-05-07T14:13:10.526983Z"
    },
    "hidden": true
   },
   "outputs": [],
   "source": [
    "str([str('SP500_')+i for i in df.columns])"
   ]
  },
  {
   "cell_type": "markdown",
   "metadata": {
    "hidden": true
   },
   "source": [
    "## S&P 500 (^GSPC)\n",
    "SNP - SNP Real Time Price. Currency in USD"
   ]
  },
  {
   "cell_type": "code",
   "execution_count": null,
   "metadata": {
    "ExecuteTime": {
     "end_time": "2021-05-10T07:57:06.014024Z",
     "start_time": "2021-05-10T07:57:05.990210Z"
    },
    "hidden": true
   },
   "outputs": [],
   "source": [
    "url = \"https://finance.yahoo.com/quote/%5EGSPC/history?p=%5EGSPC\""
   ]
  },
  {
   "cell_type": "code",
   "execution_count": null,
   "metadata": {
    "ExecuteTime": {
     "end_time": "2021-05-10T07:57:09.709482Z",
     "start_time": "2021-05-10T07:57:08.810741Z"
    },
    "hidden": true
   },
   "outputs": [],
   "source": [
    "r = requests.get(url)\n",
    "data = r.text\n",
    "soup = BeautifulSoup(data)"
   ]
  },
  {
   "cell_type": "code",
   "execution_count": null,
   "metadata": {
    "ExecuteTime": {
     "end_time": "2021-05-10T07:57:14.653762Z",
     "start_time": "2021-05-10T07:57:14.638684Z"
    },
    "hidden": true
   },
   "outputs": [],
   "source": [
    "answer = []\n",
    "for i in soup.find_all('td')[0:7]:\n",
    "    #print(i.span)\n",
    "    print(i.span.text)\n",
    "    answer.append(i.span.text)\n",
    "    #print(len(answer)    "
   ]
  },
  {
   "cell_type": "markdown",
   "metadata": {
    "ExecuteTime": {
     "end_time": "2021-05-07T14:13:17.725039Z",
     "start_time": "2021-05-07T14:13:17.182645Z"
    },
    "hidden": true
   },
   "source": [
    "for i in range(0, int(len(answer))//7):\n",
    "    atbilde = []\n",
    "    #print(i)\n",
    "    for j in range (0,7):\n",
    "        if j == 0:\n",
    "            atbilde.append(pd.to_datetime(answer[i*7+j], infer_datetime_format=True))\n",
    "        else:\n",
    "            atbilde.append(answer[i*7+j])\n",
    "    df.loc[len(df)] = atbilde"
   ]
  },
  {
   "cell_type": "code",
   "execution_count": null,
   "metadata": {
    "hidden": true
   },
   "outputs": [],
   "source": [
    "connection = sqlite3.connect('MSC/MSC.db')\n",
    "cursor = connection.cursor()\n",
    "sql = (\"Select date(moment) as date, title from top30 where moment>date('now')\")\n",
    "z = pd.read_sql_query(sql,connection)\n",
    "\n",
    "atbilde = []\n",
    "columnnames = \"'date', 'top1', 'top2', 'top3', 'top4', 'top5', 'top6', 'top7', 'top8', 'top9', 'top10', 'top11', 'top12', 'top13', 'top14', 'top15', 'top16', 'top17', 'top18', 'top19', 'top20', 'top21', 'top22', 'top23', 'top24', 'top25', 'top26', 'top27', 'top28', 'top29', top30\"\n",
    "insertintotable = '?,?,?,?,?,?,?,?,?,?,?,?,?,?,?,?,?,?,?,?,?,?,?,?,?,?,?,?,?,?,?'\n",
    "atbilde = [z.date[0]] +[i for i in  z.title]\n",
    "\n",
    "connection = sqlite3.connect('MSC/MSC.db')\n",
    "cursor = connection.cursor()\n",
    "sql2 = f'cursor.execute(\"insert INTO  main ({columnnames}) VALUES ({insertintotable})\", {atbilde})'\n",
    "eval(sql2)\n",
    "connection.commit()\n",
    "connection.close()\n",
    "print(\"Appended to MAIN\")"
   ]
  },
  {
   "cell_type": "code",
   "execution_count": null,
   "metadata": {
    "ExecuteTime": {
     "end_time": "2021-05-10T08:39:50.188221Z",
     "start_time": "2021-05-10T08:39:50.170622Z"
    },
    "hidden": true
   },
   "outputs": [],
   "source": [
    "connection = sqlite3.connect('MSC.db')\n",
    "cursor = connection.cursor()\n",
    "sql = (\"Select * from DJI\")\n",
    "z = pd.read_sql_query(sql,connection).columns\n",
    "z"
   ]
  },
  {
   "cell_type": "code",
   "execution_count": null,
   "metadata": {
    "ExecuteTime": {
     "end_time": "2021-05-10T08:36:15.466945Z",
     "start_time": "2021-05-10T08:36:14.639935Z"
    },
    "hidden": true
   },
   "outputs": [],
   "source": [
    "connection = sqlite3.connect('MSC.db')\n",
    "cursor = connection.cursor()\n",
    "sql = (\"Select max(date) as date from SP500\")\n",
    "z = pd.read_sql_query(sql,connection)\n",
    "latest_date = z.date[0]\n",
    "\n",
    "##SP500\n",
    "url = \"https://finance.yahoo.com/quote/%5EGSPC/history?p=%5EGSPC\"\n",
    "r = requests.get(url)\n",
    "data = r.text\n",
    "soup = BeautifulSoup(data)\n",
    "\n",
    "answer = []\n",
    "if str(pd.to_datetime(soup.find_all('td')[0].text, infer_datetime_format=True)) == latest_date:\n",
    "    print('Stop. This data point is already in the data base')\n",
    "else:\n",
    "    print('Lets get scraping')\n",
    "    answer.append(str(pd.to_datetime(soup.find_all('td')[0].text, infer_datetime_format=True)))\n",
    "    answer = answer + [i.span.text for i in soup.find_all('td')[1:7]]\n",
    "    \n",
    "    columnnames = \"'Date', 'SP500_Open', 'SP500_High', 'SP500_Low', 'SP500_Close','SP500_Adj_Close', 'SP500_Volume'\"\n",
    "    insertintotable = '?,?,?,?,?,?,?'\n",
    "    \n",
    "    connection = sqlite3.connect('MSC/MSC.db')\n",
    "    cursor = connection.cursor()\n",
    "    sql2 = f'cursor.execute(\"insert INTO  SP500 ({columnnames}) VALUES ({insertintotable})\", {answer})'\n",
    "    eval(sql2)\n",
    "    connection.commit()\n",
    "    connection.close()\n",
    "    print(f\"{answer[0]} appended to SP500\")\n",
    "    \n",
    "    \n",
    "    ## DJI\n",
    "    url = \"https://finance.yahoo.com/quote/%5EDJI/history?p=%5EDJI\"\n",
    "    r = requests.get(url)\n",
    "    data = r.text\n",
    "    soup = BeautifulSoup(data)\n",
    "    \n",
    "    answer = []\n",
    "    answer.append(str(pd.to_datetime(soup.find_all('td')[0].text, infer_datetime_format=True)))\n",
    "    answer = answer + [i.span.text for i in soup.find_all('td')[1:7]]\n",
    "    \n",
    "    columnnames = \"'date', 'SP500_Open', 'SP500_High', 'SP500_Low', 'SP500_Close','SP500_Adj_Close', 'SP500_Volume'\"\n",
    "    insertintotable = '?,?,?,?,?,?,?'\n",
    "    \n",
    "    connection = sqlite3.connect('MSC/MSC.db')\n",
    "    cursor = connection.cursor()\n",
    "    sql2 = f'cursor.execute(\"insert INTO  SP500 ({columnnames}) VALUES ({insertintotable})\", {answer})'\n",
    "    eval(sql2)\n",
    "    connection.commit()\n",
    "    connection.close()\n",
    "    print(f\"{answer[0]} appended to DJI\")\n",
    "    \n",
    "    \n",
    "answer"
   ]
  },
  {
   "cell_type": "code",
   "execution_count": null,
   "metadata": {
    "ExecuteTime": {
     "end_time": "2021-05-07T14:13:22.084338Z",
     "start_time": "2021-05-07T14:13:22.071026Z"
    },
    "hidden": true
   },
   "outputs": [],
   "source": [
    "df.to_sql('SP500', connection, if_exists='append',index=False)"
   ]
  },
  {
   "cell_type": "markdown",
   "metadata": {
    "hidden": true
   },
   "source": [
    "## Dow Jones Industrial Average (^DJI)\n",
    "DJI - DJI Real Time Price. Currency in USD"
   ]
  },
  {
   "cell_type": "code",
   "execution_count": null,
   "metadata": {
    "ExecuteTime": {
     "end_time": "2021-05-07T14:11:30.683698Z",
     "start_time": "2021-05-07T14:11:30.680697Z"
    },
    "hidden": true
   },
   "outputs": [],
   "source": [
    "url = \"https://finance.yahoo.com/quote/%5EDJI/history?p=%5EDJI\""
   ]
  },
  {
   "cell_type": "code",
   "execution_count": null,
   "metadata": {
    "ExecuteTime": {
     "end_time": "2021-05-07T14:11:30.743504Z",
     "start_time": "2021-05-07T14:11:30.687962Z"
    },
    "hidden": true
   },
   "outputs": [],
   "source": [
    "df = pd.DataFrame(columns = ['date', 'DJI_Open', 'DJI_High', 'DJI_Low', 'DJI_Close', 'DJI_Adj_Close', 'DJI_Volume'])\n",
    "df"
   ]
  },
  {
   "cell_type": "code",
   "execution_count": null,
   "metadata": {
    "ExecuteTime": {
     "end_time": "2021-05-07T14:07:09.567434Z",
     "start_time": "2021-05-07T14:07:09.561932Z"
    },
    "hidden": true
   },
   "outputs": [],
   "source": [
    "columns_new = [str('DJI_')+i for i in df.columns]"
   ]
  },
  {
   "cell_type": "code",
   "execution_count": null,
   "metadata": {
    "ExecuteTime": {
     "end_time": "2021-05-07T14:11:38.068833Z",
     "start_time": "2021-05-07T14:11:37.171734Z"
    },
    "hidden": true
   },
   "outputs": [],
   "source": [
    "r = requests.get(url)\n",
    "data = r.text\n",
    "soup = BeautifulSoup(data)"
   ]
  },
  {
   "cell_type": "code",
   "execution_count": null,
   "metadata": {
    "ExecuteTime": {
     "end_time": "2021-05-07T14:11:38.407441Z",
     "start_time": "2021-05-07T14:11:38.383103Z"
    },
    "hidden": true
   },
   "outputs": [],
   "source": [
    "answer = []\n",
    "for i in soup.find_all('td'):\n",
    "    #print(i.span)\n",
    "    #print(i.span.text)\n",
    "    answer.append(i.span.text)\n",
    "    #print(len(answer)  "
   ]
  },
  {
   "cell_type": "code",
   "execution_count": null,
   "metadata": {
    "ExecuteTime": {
     "end_time": "2021-05-07T14:11:42.764407Z",
     "start_time": "2021-05-07T14:11:42.211538Z"
    },
    "hidden": true
   },
   "outputs": [],
   "source": [
    "for i in range(0, int(len(answer))//7):\n",
    "    atbilde = []\n",
    "    #print(i)\n",
    "    for j in range (0,7):\n",
    "        if j == 0:\n",
    "            atbilde.append(pd.to_datetime(answer[i*7+j], infer_datetime_format=True))\n",
    "        else:\n",
    "            atbilde.append(answer[i*7+j])\n",
    "    df.loc[len(df)] = atbilde"
   ]
  },
  {
   "cell_type": "code",
   "execution_count": null,
   "metadata": {
    "ExecuteTime": {
     "end_time": "2021-05-07T14:11:43.812893Z",
     "start_time": "2021-05-07T14:11:43.789250Z"
    },
    "hidden": true
   },
   "outputs": [],
   "source": [
    "df"
   ]
  },
  {
   "cell_type": "code",
   "execution_count": null,
   "metadata": {
    "ExecuteTime": {
     "end_time": "2021-05-07T14:11:47.376694Z",
     "start_time": "2021-05-07T14:11:47.363620Z"
    },
    "hidden": true
   },
   "outputs": [],
   "source": [
    "df.to_sql('DJI', connection, if_exists='append',index=False)"
   ]
  },
  {
   "cell_type": "markdown",
   "metadata": {
    "ExecuteTime": {
     "end_time": "2021-05-16T08:47:09.151333Z",
     "start_time": "2021-05-16T08:47:09.147584Z"
    }
   },
   "source": [
    "# SP500 companies"
   ]
  },
  {
   "cell_type": "code",
   "execution_count": 2,
   "metadata": {
    "ExecuteTime": {
     "end_time": "2021-05-18T08:42:25.250212Z",
     "start_time": "2021-05-18T08:42:23.541299Z"
    }
   },
   "outputs": [],
   "source": [
    "from bs4 import BeautifulSoup\n",
    "import requests\n",
    "import re"
   ]
  },
  {
   "cell_type": "markdown",
   "metadata": {
    "ExecuteTime": {
     "end_time": "2021-05-16T09:10:16.495156Z",
     "start_time": "2021-05-16T09:10:16.273429Z"
    }
   },
   "source": [
    "df = pd.read_excel('SP500.xlsx')"
   ]
  },
  {
   "cell_type": "code",
   "execution_count": null,
   "metadata": {
    "ExecuteTime": {
     "end_time": "2021-05-18T08:31:26.965933Z",
     "start_time": "2021-05-18T08:31:26.197109Z"
    }
   },
   "outputs": [],
   "source": [
    "connection = sqlite3.connect('MSC.db')\n",
    "cursor = connection.cursor()\n",
    "sql = (\"Select * from SP500_companies\")\n",
    "df = pd.read_sql_query(sql,connection)\n",
    "df.head()"
   ]
  },
  {
   "cell_type": "code",
   "execution_count": null,
   "metadata": {
    "ExecuteTime": {
     "end_time": "2021-05-16T11:21:27.664080Z",
     "start_time": "2021-05-16T11:21:27.651080Z"
    }
   },
   "outputs": [],
   "source": [
    "df[df.Symbol == 'FLIR']"
   ]
  },
  {
   "cell_type": "markdown",
   "metadata": {
    "ExecuteTime": {
     "end_time": "2021-05-16T10:39:05.621964Z",
     "start_time": "2021-05-16T10:39:05.604017Z"
    }
   },
   "source": [
    "### Insert DJI and SP500 in the same table\n",
    "### One less step in ETL\n",
    "\n",
    "connection = sqlite3.connect('MSC.db')\n",
    "cursor = connection.cursor()\n",
    "\n",
    "columnnames = \"'Company', 'Symbol', 'Weight'\"\n",
    "insertintotable = '?,?,?'\n",
    "\n",
    "answer = ['Dow Jones Industrial Average', '^DJI', '100']\n",
    "sql2 = f'cursor.execute(\"insert INTO  SP500_companies ({columnnames}) VALUES ({insertintotable})\", {answer})'\n",
    "eval(sql2)\n",
    "connection.commit()\n",
    "connection.close()"
   ]
  },
  {
   "cell_type": "code",
   "execution_count": null,
   "metadata": {
    "ExecuteTime": {
     "end_time": "2021-05-16T11:23:38.165983Z",
     "start_time": "2021-05-16T11:22:35.106619Z"
    }
   },
   "outputs": [],
   "source": [
    "columnnames = \"'date', 'open', 'high', 'low', 'close', 'adj_close','volume', 'symbol'\"\n",
    "insertintotable = '?,?,?,?,?,?,?,?'\n",
    "\n",
    "for i in df.Symbol[490:]:\n",
    "    r = requests.get(f'https://finance.yahoo.com/quote/{i}/history?p={i}')\n",
    "    print(f'https://finance.yahoo.com/quote/{i}/history?p={i}')\n",
    "    data = r.text\n",
    "    soup = BeautifulSoup(data, features=\"lxml\")\n",
    "    ofset = 0\n",
    "    for j in range(0, int(len(soup.find_all('td')))//7):  \n",
    "        #if type(soup.find_all('td')[j*7+1+ofset].span.text) != int and type(soup.find_all('td')[j*7+1+ofset].span.text) != float:\n",
    "        if soup.find_all('td')[j*7+1+ofset].span.text == \"Dividend\" or soup.find_all('td')[j*7+1+ofset].span.text == \"Stock Split\":\n",
    "            ofset += 2\n",
    "        try:\n",
    "            answer = []\n",
    "            answer.append(str(pd.to_datetime(soup.find_all('td')[j*7+ofset].text, infer_datetime_format=True)))\n",
    "            answer = answer + [i.span.text for i in soup.find_all('td')[j*7+1+ofset:j*7+7+ofset]] + [i]\n",
    "        except:\n",
    "            answer = []\n",
    "            ofset += 2\n",
    "        print(answer)\n",
    "        connection = sqlite3.connect('MSC.db')\n",
    "        cursor = connection.cursor()\n",
    "        sql2 = f'cursor.execute(\"insert INTO  prices ({columnnames}) VALUES ({insertintotable})\", {answer})'\n",
    "        eval(sql2)\n",
    "        connection.commit()\n",
    "        connection.close()    "
   ]
  },
  {
   "cell_type": "markdown",
   "metadata": {
    "ExecuteTime": {
     "end_time": "2021-05-18T08:31:49.322055Z",
     "start_time": "2021-05-18T08:31:40.890564Z"
    }
   },
   "source": [
    "columnnames = \"'date', 'open', 'high', 'low', 'close', 'adj_close','volume', 'symbol'\"\n",
    "insertintotable = '?,?,?,?,?,?,?,?'\n",
    "\n",
    "for i in df.Symbol[:3]:\n",
    "    r = requests.get(f'https://finance.yahoo.com/quote/{i}/history?p={i}')\n",
    "    print(f'https://finance.yahoo.com/quote/{i}/history?p={i}')\n",
    "    data = r.text\n",
    "    soup = BeautifulSoup(data, features=\"lxml\")\n",
    "    ofset = 0\n",
    "    for j in range(0, int(len(soup.find_all('td')))//7):  \n",
    "        #if type(soup.find_all('td')[j*7+1+ofset].span.text) != int and type(soup.find_all('td')[j*7+1+ofset].span.text) != float:\n",
    "        if soup.find_all('td')[j*7+1+ofset].span.text == \"Dividend\" or soup.find_all('td')[j*7+1+ofset].span.text == \"Stock Split\":\n",
    "            ofset += 2\n",
    "        try:\n",
    "            answer = []\n",
    "            answer.append(str(pd.to_datetime(soup.find_all('td')[j*7+ofset].text, infer_datetime_format=True)))\n",
    "            answer = answer + [i.span.text for i in soup.find_all('td')[j*7+1+ofset:j*7+7+ofset]] + [i]\n",
    "        except:\n",
    "            answer = []\n",
    "            ofset += 2\n",
    "        print(answer)\n",
    "        connection = sqlite3.connect('MSC.db')\n",
    "        cursor = connection.cursor()\n",
    "        sql2 = f'cursor.execute(\"insert INTO  prices ({columnnames}) VALUES ({insertintotable})\", {answer})'\n",
    "        eval(sql2)\n",
    "        connection.commit()\n",
    "        connection.close()"
   ]
  },
  {
   "cell_type": "code",
   "execution_count": 139,
   "metadata": {
    "ExecuteTime": {
     "end_time": "2021-05-18T11:08:25.534413Z",
     "start_time": "2021-05-18T11:08:18.694736Z"
    }
   },
   "outputs": [
    {
     "name": "stdout",
     "output_type": "stream",
     "text": [
      "https://finance.yahoo.com/quote/AAPL/history?p=AAPL\n",
      "https://finance.yahoo.com/quote/MSFT/history?p=MSFT\n",
      "https://finance.yahoo.com/quote/AMZN/history?p=AMZN\n",
      "https://finance.yahoo.com/quote/FB/history?p=FB\n",
      "https://finance.yahoo.com/quote/GOOGL/history?p=GOOGL\n",
      "https://finance.yahoo.com/quote/GOOG/history?p=GOOG\n"
     ]
    },
    {
     "ename": "KeyboardInterrupt",
     "evalue": "",
     "output_type": "error",
     "traceback": [
      "\u001b[0;31m---------------------------------------------------------------------------\u001b[0m",
      "\u001b[0;31mKeyboardInterrupt\u001b[0m                         Traceback (most recent call last)",
      "\u001b[0;32m<ipython-input-139-e1e3de5ae36e>\u001b[0m in \u001b[0;36m<module>\u001b[0;34m\u001b[0m\n\u001b[1;32m     21\u001b[0m \u001b[0;32mfor\u001b[0m \u001b[0mi\u001b[0m \u001b[0;32min\u001b[0m \u001b[0mdf\u001b[0m\u001b[0;34m.\u001b[0m\u001b[0mSymbol\u001b[0m\u001b[0;34m:\u001b[0m\u001b[0;34m\u001b[0m\u001b[0;34m\u001b[0m\u001b[0m\n\u001b[1;32m     22\u001b[0m \u001b[0;34m\u001b[0m\u001b[0m\n\u001b[0;32m---> 23\u001b[0;31m     \u001b[0mr\u001b[0m \u001b[0;34m=\u001b[0m \u001b[0mrequests\u001b[0m\u001b[0;34m.\u001b[0m\u001b[0mget\u001b[0m\u001b[0;34m(\u001b[0m\u001b[0;34mf'https://finance.yahoo.com/quote/{i}/history?p={i}'\u001b[0m\u001b[0;34m)\u001b[0m\u001b[0;34m\u001b[0m\u001b[0;34m\u001b[0m\u001b[0m\n\u001b[0m\u001b[1;32m     24\u001b[0m     \u001b[0mprint\u001b[0m\u001b[0;34m(\u001b[0m\u001b[0;34mf'https://finance.yahoo.com/quote/{i}/history?p={i}'\u001b[0m\u001b[0;34m)\u001b[0m\u001b[0;34m\u001b[0m\u001b[0;34m\u001b[0m\u001b[0m\n\u001b[1;32m     25\u001b[0m     \u001b[0mdata\u001b[0m \u001b[0;34m=\u001b[0m \u001b[0mr\u001b[0m\u001b[0;34m.\u001b[0m\u001b[0mtext\u001b[0m\u001b[0;34m\u001b[0m\u001b[0;34m\u001b[0m\u001b[0m\n",
      "\u001b[0;32m~/opt/anaconda3/lib/python3.7/site-packages/requests/api.py\u001b[0m in \u001b[0;36mget\u001b[0;34m(url, params, **kwargs)\u001b[0m\n\u001b[1;32m     74\u001b[0m \u001b[0;34m\u001b[0m\u001b[0m\n\u001b[1;32m     75\u001b[0m     \u001b[0mkwargs\u001b[0m\u001b[0;34m.\u001b[0m\u001b[0msetdefault\u001b[0m\u001b[0;34m(\u001b[0m\u001b[0;34m'allow_redirects'\u001b[0m\u001b[0;34m,\u001b[0m \u001b[0;32mTrue\u001b[0m\u001b[0;34m)\u001b[0m\u001b[0;34m\u001b[0m\u001b[0;34m\u001b[0m\u001b[0m\n\u001b[0;32m---> 76\u001b[0;31m     \u001b[0;32mreturn\u001b[0m \u001b[0mrequest\u001b[0m\u001b[0;34m(\u001b[0m\u001b[0;34m'get'\u001b[0m\u001b[0;34m,\u001b[0m \u001b[0murl\u001b[0m\u001b[0;34m,\u001b[0m \u001b[0mparams\u001b[0m\u001b[0;34m=\u001b[0m\u001b[0mparams\u001b[0m\u001b[0;34m,\u001b[0m \u001b[0;34m**\u001b[0m\u001b[0mkwargs\u001b[0m\u001b[0;34m)\u001b[0m\u001b[0;34m\u001b[0m\u001b[0;34m\u001b[0m\u001b[0m\n\u001b[0m\u001b[1;32m     77\u001b[0m \u001b[0;34m\u001b[0m\u001b[0m\n\u001b[1;32m     78\u001b[0m \u001b[0;34m\u001b[0m\u001b[0m\n",
      "\u001b[0;32m~/opt/anaconda3/lib/python3.7/site-packages/requests/api.py\u001b[0m in \u001b[0;36mrequest\u001b[0;34m(method, url, **kwargs)\u001b[0m\n\u001b[1;32m     59\u001b[0m     \u001b[0;31m# cases, and look like a memory leak in others.\u001b[0m\u001b[0;34m\u001b[0m\u001b[0;34m\u001b[0m\u001b[0;34m\u001b[0m\u001b[0m\n\u001b[1;32m     60\u001b[0m     \u001b[0;32mwith\u001b[0m \u001b[0msessions\u001b[0m\u001b[0;34m.\u001b[0m\u001b[0mSession\u001b[0m\u001b[0;34m(\u001b[0m\u001b[0;34m)\u001b[0m \u001b[0;32mas\u001b[0m \u001b[0msession\u001b[0m\u001b[0;34m:\u001b[0m\u001b[0;34m\u001b[0m\u001b[0;34m\u001b[0m\u001b[0m\n\u001b[0;32m---> 61\u001b[0;31m         \u001b[0;32mreturn\u001b[0m \u001b[0msession\u001b[0m\u001b[0;34m.\u001b[0m\u001b[0mrequest\u001b[0m\u001b[0;34m(\u001b[0m\u001b[0mmethod\u001b[0m\u001b[0;34m=\u001b[0m\u001b[0mmethod\u001b[0m\u001b[0;34m,\u001b[0m \u001b[0murl\u001b[0m\u001b[0;34m=\u001b[0m\u001b[0murl\u001b[0m\u001b[0;34m,\u001b[0m \u001b[0;34m**\u001b[0m\u001b[0mkwargs\u001b[0m\u001b[0;34m)\u001b[0m\u001b[0;34m\u001b[0m\u001b[0;34m\u001b[0m\u001b[0m\n\u001b[0m\u001b[1;32m     62\u001b[0m \u001b[0;34m\u001b[0m\u001b[0m\n\u001b[1;32m     63\u001b[0m \u001b[0;34m\u001b[0m\u001b[0m\n",
      "\u001b[0;32m~/opt/anaconda3/lib/python3.7/site-packages/requests/sessions.py\u001b[0m in \u001b[0;36mrequest\u001b[0;34m(self, method, url, params, data, headers, cookies, files, auth, timeout, allow_redirects, proxies, hooks, stream, verify, cert, json)\u001b[0m\n\u001b[1;32m    528\u001b[0m         }\n\u001b[1;32m    529\u001b[0m         \u001b[0msend_kwargs\u001b[0m\u001b[0;34m.\u001b[0m\u001b[0mupdate\u001b[0m\u001b[0;34m(\u001b[0m\u001b[0msettings\u001b[0m\u001b[0;34m)\u001b[0m\u001b[0;34m\u001b[0m\u001b[0;34m\u001b[0m\u001b[0m\n\u001b[0;32m--> 530\u001b[0;31m         \u001b[0mresp\u001b[0m \u001b[0;34m=\u001b[0m \u001b[0mself\u001b[0m\u001b[0;34m.\u001b[0m\u001b[0msend\u001b[0m\u001b[0;34m(\u001b[0m\u001b[0mprep\u001b[0m\u001b[0;34m,\u001b[0m \u001b[0;34m**\u001b[0m\u001b[0msend_kwargs\u001b[0m\u001b[0;34m)\u001b[0m\u001b[0;34m\u001b[0m\u001b[0;34m\u001b[0m\u001b[0m\n\u001b[0m\u001b[1;32m    531\u001b[0m \u001b[0;34m\u001b[0m\u001b[0m\n\u001b[1;32m    532\u001b[0m         \u001b[0;32mreturn\u001b[0m \u001b[0mresp\u001b[0m\u001b[0;34m\u001b[0m\u001b[0;34m\u001b[0m\u001b[0m\n",
      "\u001b[0;32m~/opt/anaconda3/lib/python3.7/site-packages/requests/sessions.py\u001b[0m in \u001b[0;36msend\u001b[0;34m(self, request, **kwargs)\u001b[0m\n\u001b[1;32m    683\u001b[0m \u001b[0;34m\u001b[0m\u001b[0m\n\u001b[1;32m    684\u001b[0m         \u001b[0;32mif\u001b[0m \u001b[0;32mnot\u001b[0m \u001b[0mstream\u001b[0m\u001b[0;34m:\u001b[0m\u001b[0;34m\u001b[0m\u001b[0;34m\u001b[0m\u001b[0m\n\u001b[0;32m--> 685\u001b[0;31m             \u001b[0mr\u001b[0m\u001b[0;34m.\u001b[0m\u001b[0mcontent\u001b[0m\u001b[0;34m\u001b[0m\u001b[0;34m\u001b[0m\u001b[0m\n\u001b[0m\u001b[1;32m    686\u001b[0m \u001b[0;34m\u001b[0m\u001b[0m\n\u001b[1;32m    687\u001b[0m         \u001b[0;32mreturn\u001b[0m \u001b[0mr\u001b[0m\u001b[0;34m\u001b[0m\u001b[0;34m\u001b[0m\u001b[0m\n",
      "\u001b[0;32m~/opt/anaconda3/lib/python3.7/site-packages/requests/models.py\u001b[0m in \u001b[0;36mcontent\u001b[0;34m(self)\u001b[0m\n\u001b[1;32m    827\u001b[0m                 \u001b[0mself\u001b[0m\u001b[0;34m.\u001b[0m\u001b[0m_content\u001b[0m \u001b[0;34m=\u001b[0m \u001b[0;32mNone\u001b[0m\u001b[0;34m\u001b[0m\u001b[0;34m\u001b[0m\u001b[0m\n\u001b[1;32m    828\u001b[0m             \u001b[0;32melse\u001b[0m\u001b[0;34m:\u001b[0m\u001b[0;34m\u001b[0m\u001b[0;34m\u001b[0m\u001b[0m\n\u001b[0;32m--> 829\u001b[0;31m                 \u001b[0mself\u001b[0m\u001b[0;34m.\u001b[0m\u001b[0m_content\u001b[0m \u001b[0;34m=\u001b[0m \u001b[0;34mb''\u001b[0m\u001b[0;34m.\u001b[0m\u001b[0mjoin\u001b[0m\u001b[0;34m(\u001b[0m\u001b[0mself\u001b[0m\u001b[0;34m.\u001b[0m\u001b[0miter_content\u001b[0m\u001b[0;34m(\u001b[0m\u001b[0mCONTENT_CHUNK_SIZE\u001b[0m\u001b[0;34m)\u001b[0m\u001b[0;34m)\u001b[0m \u001b[0;32mor\u001b[0m \u001b[0;34mb''\u001b[0m\u001b[0;34m\u001b[0m\u001b[0;34m\u001b[0m\u001b[0m\n\u001b[0m\u001b[1;32m    830\u001b[0m \u001b[0;34m\u001b[0m\u001b[0m\n\u001b[1;32m    831\u001b[0m         \u001b[0mself\u001b[0m\u001b[0;34m.\u001b[0m\u001b[0m_content_consumed\u001b[0m \u001b[0;34m=\u001b[0m \u001b[0;32mTrue\u001b[0m\u001b[0;34m\u001b[0m\u001b[0;34m\u001b[0m\u001b[0m\n",
      "\u001b[0;32m~/opt/anaconda3/lib/python3.7/site-packages/requests/models.py\u001b[0m in \u001b[0;36mgenerate\u001b[0;34m()\u001b[0m\n\u001b[1;32m    749\u001b[0m             \u001b[0;32mif\u001b[0m \u001b[0mhasattr\u001b[0m\u001b[0;34m(\u001b[0m\u001b[0mself\u001b[0m\u001b[0;34m.\u001b[0m\u001b[0mraw\u001b[0m\u001b[0;34m,\u001b[0m \u001b[0;34m'stream'\u001b[0m\u001b[0;34m)\u001b[0m\u001b[0;34m:\u001b[0m\u001b[0;34m\u001b[0m\u001b[0;34m\u001b[0m\u001b[0m\n\u001b[1;32m    750\u001b[0m                 \u001b[0;32mtry\u001b[0m\u001b[0;34m:\u001b[0m\u001b[0;34m\u001b[0m\u001b[0;34m\u001b[0m\u001b[0m\n\u001b[0;32m--> 751\u001b[0;31m                     \u001b[0;32mfor\u001b[0m \u001b[0mchunk\u001b[0m \u001b[0;32min\u001b[0m \u001b[0mself\u001b[0m\u001b[0;34m.\u001b[0m\u001b[0mraw\u001b[0m\u001b[0;34m.\u001b[0m\u001b[0mstream\u001b[0m\u001b[0;34m(\u001b[0m\u001b[0mchunk_size\u001b[0m\u001b[0;34m,\u001b[0m \u001b[0mdecode_content\u001b[0m\u001b[0;34m=\u001b[0m\u001b[0;32mTrue\u001b[0m\u001b[0;34m)\u001b[0m\u001b[0;34m:\u001b[0m\u001b[0;34m\u001b[0m\u001b[0;34m\u001b[0m\u001b[0m\n\u001b[0m\u001b[1;32m    752\u001b[0m                         \u001b[0;32myield\u001b[0m \u001b[0mchunk\u001b[0m\u001b[0;34m\u001b[0m\u001b[0;34m\u001b[0m\u001b[0m\n\u001b[1;32m    753\u001b[0m                 \u001b[0;32mexcept\u001b[0m \u001b[0mProtocolError\u001b[0m \u001b[0;32mas\u001b[0m \u001b[0me\u001b[0m\u001b[0;34m:\u001b[0m\u001b[0;34m\u001b[0m\u001b[0;34m\u001b[0m\u001b[0m\n",
      "\u001b[0;32m~/opt/anaconda3/lib/python3.7/site-packages/urllib3/response.py\u001b[0m in \u001b[0;36mstream\u001b[0;34m(self, amt, decode_content)\u001b[0m\n\u001b[1;32m    490\u001b[0m         \"\"\"\n\u001b[1;32m    491\u001b[0m         \u001b[0;32mif\u001b[0m \u001b[0mself\u001b[0m\u001b[0;34m.\u001b[0m\u001b[0mchunked\u001b[0m \u001b[0;32mand\u001b[0m \u001b[0mself\u001b[0m\u001b[0;34m.\u001b[0m\u001b[0msupports_chunked_reads\u001b[0m\u001b[0;34m(\u001b[0m\u001b[0;34m)\u001b[0m\u001b[0;34m:\u001b[0m\u001b[0;34m\u001b[0m\u001b[0;34m\u001b[0m\u001b[0m\n\u001b[0;32m--> 492\u001b[0;31m             \u001b[0;32mfor\u001b[0m \u001b[0mline\u001b[0m \u001b[0;32min\u001b[0m \u001b[0mself\u001b[0m\u001b[0;34m.\u001b[0m\u001b[0mread_chunked\u001b[0m\u001b[0;34m(\u001b[0m\u001b[0mamt\u001b[0m\u001b[0;34m,\u001b[0m \u001b[0mdecode_content\u001b[0m\u001b[0;34m=\u001b[0m\u001b[0mdecode_content\u001b[0m\u001b[0;34m)\u001b[0m\u001b[0;34m:\u001b[0m\u001b[0;34m\u001b[0m\u001b[0;34m\u001b[0m\u001b[0m\n\u001b[0m\u001b[1;32m    493\u001b[0m                 \u001b[0;32myield\u001b[0m \u001b[0mline\u001b[0m\u001b[0;34m\u001b[0m\u001b[0;34m\u001b[0m\u001b[0m\n\u001b[1;32m    494\u001b[0m         \u001b[0;32melse\u001b[0m\u001b[0;34m:\u001b[0m\u001b[0;34m\u001b[0m\u001b[0;34m\u001b[0m\u001b[0m\n",
      "\u001b[0;32m~/opt/anaconda3/lib/python3.7/site-packages/urllib3/response.py\u001b[0m in \u001b[0;36mread_chunked\u001b[0;34m(self, amt, decode_content)\u001b[0m\n\u001b[1;32m    669\u001b[0m                 \u001b[0;32mif\u001b[0m \u001b[0mself\u001b[0m\u001b[0;34m.\u001b[0m\u001b[0mchunk_left\u001b[0m \u001b[0;34m==\u001b[0m \u001b[0;36m0\u001b[0m\u001b[0;34m:\u001b[0m\u001b[0;34m\u001b[0m\u001b[0;34m\u001b[0m\u001b[0m\n\u001b[1;32m    670\u001b[0m                     \u001b[0;32mbreak\u001b[0m\u001b[0;34m\u001b[0m\u001b[0;34m\u001b[0m\u001b[0m\n\u001b[0;32m--> 671\u001b[0;31m                 \u001b[0mchunk\u001b[0m \u001b[0;34m=\u001b[0m \u001b[0mself\u001b[0m\u001b[0;34m.\u001b[0m\u001b[0m_handle_chunk\u001b[0m\u001b[0;34m(\u001b[0m\u001b[0mamt\u001b[0m\u001b[0;34m)\u001b[0m\u001b[0;34m\u001b[0m\u001b[0;34m\u001b[0m\u001b[0m\n\u001b[0m\u001b[1;32m    672\u001b[0m                 decoded = self._decode(chunk, decode_content=decode_content,\n\u001b[1;32m    673\u001b[0m                                        flush_decoder=False)\n",
      "\u001b[0;32m~/opt/anaconda3/lib/python3.7/site-packages/urllib3/response.py\u001b[0m in \u001b[0;36m_handle_chunk\u001b[0;34m(self, amt)\u001b[0m\n\u001b[1;32m    624\u001b[0m             \u001b[0mreturned_chunk\u001b[0m \u001b[0;34m=\u001b[0m \u001b[0mvalue\u001b[0m\u001b[0;34m\u001b[0m\u001b[0;34m\u001b[0m\u001b[0m\n\u001b[1;32m    625\u001b[0m         \u001b[0;32melse\u001b[0m\u001b[0;34m:\u001b[0m  \u001b[0;31m# amt > self.chunk_left\u001b[0m\u001b[0;34m\u001b[0m\u001b[0;34m\u001b[0m\u001b[0m\n\u001b[0;32m--> 626\u001b[0;31m             \u001b[0mreturned_chunk\u001b[0m \u001b[0;34m=\u001b[0m \u001b[0mself\u001b[0m\u001b[0;34m.\u001b[0m\u001b[0m_fp\u001b[0m\u001b[0;34m.\u001b[0m\u001b[0m_safe_read\u001b[0m\u001b[0;34m(\u001b[0m\u001b[0mself\u001b[0m\u001b[0;34m.\u001b[0m\u001b[0mchunk_left\u001b[0m\u001b[0;34m)\u001b[0m\u001b[0;34m\u001b[0m\u001b[0;34m\u001b[0m\u001b[0m\n\u001b[0m\u001b[1;32m    627\u001b[0m             \u001b[0mself\u001b[0m\u001b[0;34m.\u001b[0m\u001b[0m_fp\u001b[0m\u001b[0;34m.\u001b[0m\u001b[0m_safe_read\u001b[0m\u001b[0;34m(\u001b[0m\u001b[0;36m2\u001b[0m\u001b[0;34m)\u001b[0m  \u001b[0;31m# Toss the CRLF at the end of the chunk.\u001b[0m\u001b[0;34m\u001b[0m\u001b[0;34m\u001b[0m\u001b[0m\n\u001b[1;32m    628\u001b[0m             \u001b[0mself\u001b[0m\u001b[0;34m.\u001b[0m\u001b[0mchunk_left\u001b[0m \u001b[0;34m=\u001b[0m \u001b[0;32mNone\u001b[0m\u001b[0;34m\u001b[0m\u001b[0;34m\u001b[0m\u001b[0m\n",
      "\u001b[0;32m~/opt/anaconda3/lib/python3.7/http/client.py\u001b[0m in \u001b[0;36m_safe_read\u001b[0;34m(self, amt)\u001b[0m\n\u001b[1;32m    618\u001b[0m         \u001b[0ms\u001b[0m \u001b[0;34m=\u001b[0m \u001b[0;34m[\u001b[0m\u001b[0;34m]\u001b[0m\u001b[0;34m\u001b[0m\u001b[0;34m\u001b[0m\u001b[0m\n\u001b[1;32m    619\u001b[0m         \u001b[0;32mwhile\u001b[0m \u001b[0mamt\u001b[0m \u001b[0;34m>\u001b[0m \u001b[0;36m0\u001b[0m\u001b[0;34m:\u001b[0m\u001b[0;34m\u001b[0m\u001b[0;34m\u001b[0m\u001b[0m\n\u001b[0;32m--> 620\u001b[0;31m             \u001b[0mchunk\u001b[0m \u001b[0;34m=\u001b[0m \u001b[0mself\u001b[0m\u001b[0;34m.\u001b[0m\u001b[0mfp\u001b[0m\u001b[0;34m.\u001b[0m\u001b[0mread\u001b[0m\u001b[0;34m(\u001b[0m\u001b[0mmin\u001b[0m\u001b[0;34m(\u001b[0m\u001b[0mamt\u001b[0m\u001b[0;34m,\u001b[0m \u001b[0mMAXAMOUNT\u001b[0m\u001b[0;34m)\u001b[0m\u001b[0;34m)\u001b[0m\u001b[0;34m\u001b[0m\u001b[0;34m\u001b[0m\u001b[0m\n\u001b[0m\u001b[1;32m    621\u001b[0m             \u001b[0;32mif\u001b[0m \u001b[0;32mnot\u001b[0m \u001b[0mchunk\u001b[0m\u001b[0;34m:\u001b[0m\u001b[0;34m\u001b[0m\u001b[0;34m\u001b[0m\u001b[0m\n\u001b[1;32m    622\u001b[0m                 \u001b[0;32mraise\u001b[0m \u001b[0mIncompleteRead\u001b[0m\u001b[0;34m(\u001b[0m\u001b[0;34mb''\u001b[0m\u001b[0;34m.\u001b[0m\u001b[0mjoin\u001b[0m\u001b[0;34m(\u001b[0m\u001b[0ms\u001b[0m\u001b[0;34m)\u001b[0m\u001b[0;34m,\u001b[0m \u001b[0mamt\u001b[0m\u001b[0;34m)\u001b[0m\u001b[0;34m\u001b[0m\u001b[0;34m\u001b[0m\u001b[0m\n",
      "\u001b[0;32m~/opt/anaconda3/lib/python3.7/socket.py\u001b[0m in \u001b[0;36mreadinto\u001b[0;34m(self, b)\u001b[0m\n\u001b[1;32m    587\u001b[0m         \u001b[0;32mwhile\u001b[0m \u001b[0;32mTrue\u001b[0m\u001b[0;34m:\u001b[0m\u001b[0;34m\u001b[0m\u001b[0;34m\u001b[0m\u001b[0m\n\u001b[1;32m    588\u001b[0m             \u001b[0;32mtry\u001b[0m\u001b[0;34m:\u001b[0m\u001b[0;34m\u001b[0m\u001b[0;34m\u001b[0m\u001b[0m\n\u001b[0;32m--> 589\u001b[0;31m                 \u001b[0;32mreturn\u001b[0m \u001b[0mself\u001b[0m\u001b[0;34m.\u001b[0m\u001b[0m_sock\u001b[0m\u001b[0;34m.\u001b[0m\u001b[0mrecv_into\u001b[0m\u001b[0;34m(\u001b[0m\u001b[0mb\u001b[0m\u001b[0;34m)\u001b[0m\u001b[0;34m\u001b[0m\u001b[0;34m\u001b[0m\u001b[0m\n\u001b[0m\u001b[1;32m    590\u001b[0m             \u001b[0;32mexcept\u001b[0m \u001b[0mtimeout\u001b[0m\u001b[0;34m:\u001b[0m\u001b[0;34m\u001b[0m\u001b[0;34m\u001b[0m\u001b[0m\n\u001b[1;32m    591\u001b[0m                 \u001b[0mself\u001b[0m\u001b[0;34m.\u001b[0m\u001b[0m_timeout_occurred\u001b[0m \u001b[0;34m=\u001b[0m \u001b[0;32mTrue\u001b[0m\u001b[0;34m\u001b[0m\u001b[0;34m\u001b[0m\u001b[0m\n",
      "\u001b[0;32m~/opt/anaconda3/lib/python3.7/ssl.py\u001b[0m in \u001b[0;36mrecv_into\u001b[0;34m(self, buffer, nbytes, flags)\u001b[0m\n\u001b[1;32m   1069\u001b[0m                   \u001b[0;34m\"non-zero flags not allowed in calls to recv_into() on %s\"\u001b[0m \u001b[0;34m%\u001b[0m\u001b[0;34m\u001b[0m\u001b[0;34m\u001b[0m\u001b[0m\n\u001b[1;32m   1070\u001b[0m                   self.__class__)\n\u001b[0;32m-> 1071\u001b[0;31m             \u001b[0;32mreturn\u001b[0m \u001b[0mself\u001b[0m\u001b[0;34m.\u001b[0m\u001b[0mread\u001b[0m\u001b[0;34m(\u001b[0m\u001b[0mnbytes\u001b[0m\u001b[0;34m,\u001b[0m \u001b[0mbuffer\u001b[0m\u001b[0;34m)\u001b[0m\u001b[0;34m\u001b[0m\u001b[0;34m\u001b[0m\u001b[0m\n\u001b[0m\u001b[1;32m   1072\u001b[0m         \u001b[0;32melse\u001b[0m\u001b[0;34m:\u001b[0m\u001b[0;34m\u001b[0m\u001b[0;34m\u001b[0m\u001b[0m\n\u001b[1;32m   1073\u001b[0m             \u001b[0;32mreturn\u001b[0m \u001b[0msuper\u001b[0m\u001b[0;34m(\u001b[0m\u001b[0;34m)\u001b[0m\u001b[0;34m.\u001b[0m\u001b[0mrecv_into\u001b[0m\u001b[0;34m(\u001b[0m\u001b[0mbuffer\u001b[0m\u001b[0;34m,\u001b[0m \u001b[0mnbytes\u001b[0m\u001b[0;34m,\u001b[0m \u001b[0mflags\u001b[0m\u001b[0;34m)\u001b[0m\u001b[0;34m\u001b[0m\u001b[0;34m\u001b[0m\u001b[0m\n",
      "\u001b[0;32m~/opt/anaconda3/lib/python3.7/ssl.py\u001b[0m in \u001b[0;36mread\u001b[0;34m(self, len, buffer)\u001b[0m\n\u001b[1;32m    927\u001b[0m         \u001b[0;32mtry\u001b[0m\u001b[0;34m:\u001b[0m\u001b[0;34m\u001b[0m\u001b[0;34m\u001b[0m\u001b[0m\n\u001b[1;32m    928\u001b[0m             \u001b[0;32mif\u001b[0m \u001b[0mbuffer\u001b[0m \u001b[0;32mis\u001b[0m \u001b[0;32mnot\u001b[0m \u001b[0;32mNone\u001b[0m\u001b[0;34m:\u001b[0m\u001b[0;34m\u001b[0m\u001b[0;34m\u001b[0m\u001b[0m\n\u001b[0;32m--> 929\u001b[0;31m                 \u001b[0;32mreturn\u001b[0m \u001b[0mself\u001b[0m\u001b[0;34m.\u001b[0m\u001b[0m_sslobj\u001b[0m\u001b[0;34m.\u001b[0m\u001b[0mread\u001b[0m\u001b[0;34m(\u001b[0m\u001b[0mlen\u001b[0m\u001b[0;34m,\u001b[0m \u001b[0mbuffer\u001b[0m\u001b[0;34m)\u001b[0m\u001b[0;34m\u001b[0m\u001b[0;34m\u001b[0m\u001b[0m\n\u001b[0m\u001b[1;32m    930\u001b[0m             \u001b[0;32melse\u001b[0m\u001b[0;34m:\u001b[0m\u001b[0;34m\u001b[0m\u001b[0;34m\u001b[0m\u001b[0m\n\u001b[1;32m    931\u001b[0m                 \u001b[0;32mreturn\u001b[0m \u001b[0mself\u001b[0m\u001b[0;34m.\u001b[0m\u001b[0m_sslobj\u001b[0m\u001b[0;34m.\u001b[0m\u001b[0mread\u001b[0m\u001b[0;34m(\u001b[0m\u001b[0mlen\u001b[0m\u001b[0;34m)\u001b[0m\u001b[0;34m\u001b[0m\u001b[0;34m\u001b[0m\u001b[0m\n",
      "\u001b[0;31mKeyboardInterrupt\u001b[0m: "
     ]
    }
   ],
   "source": [
    "#for symbol in df\n",
    "no_financials = \"'BRK.B', 'BF.B', 'FLIR'\"\n",
    "\n",
    "connection = sqlite3.connect('MSC.db')\n",
    "cursor = connection.cursor()\n",
    "sql = (f\"Select * from SP500_companies where symbol not in ({no_financials})\")\n",
    "df = pd.read_sql_query(sql,connection)\n",
    "connection.commit()\n",
    "connection.close()\n",
    "\n",
    "connection = sqlite3.connect('MSC.db')\n",
    "cursor = connection.cursor()\n",
    "sql = (\"Select * from prices order by date desc\")\n",
    "z = pd.read_sql_query(sql,connection)\n",
    "connection.commit()\n",
    "connection.close()\n",
    "\n",
    "columnnames = \"'date', 'open', 'high', 'low', 'close', 'adj_close','volume', 'symbol'\"\n",
    "insertintotable = '?,?,?,?,?,?,?,?'\n",
    "\n",
    "for i in df.Symbol:\n",
    "    \n",
    "    r = requests.get(f'https://finance.yahoo.com/quote/{i}/history?p={i}')\n",
    "    print(f'https://finance.yahoo.com/quote/{i}/history?p={i}')\n",
    "    data = r.text\n",
    "    soup = BeautifulSoup(data, features=\"lxml\")\n",
    "    \n",
    "    for j in range (0, 4):\n",
    "        if soup.find_all('td')[1+j*7].span == None:\n",
    "            pass\n",
    "        else:\n",
    "            answer = []\n",
    "            if pd.to_datetime(soup.find_all('td')[j*7].text, infer_datetime_format=True) > pd.to_datetime(z.date[z.symbol == i].iloc[0]):\n",
    "                answer.append(str(pd.to_datetime(soup.find_all('td')[j*7].text, infer_datetime_format=True)))\n",
    "                answer = answer + [i.span.text for i in soup.find_all('td')[j*7+1: j*7+7]] + [i]\n",
    "                print(answer)\n",
    "\n",
    "                connection = sqlite3.connect('MSC.db')\n",
    "                cursor = connection.cursor()\n",
    "                sql2 = f'cursor.execute(\"insert INTO  prices ({columnnames}) VALUES ({insertintotable})\", {answer})'\n",
    "                eval(sql2)\n",
    "                connection.commit()\n",
    "                connection.close()\n",
    "\n",
    "            else:\n",
    "                pass\n",
    "\n",
    "'''\n",
    "'''"
   ]
  },
  {
   "cell_type": "code",
   "execution_count": 140,
   "metadata": {
    "ExecuteTime": {
     "end_time": "2021-05-18T11:08:31.864726Z",
     "start_time": "2021-05-18T11:08:30.621999Z"
    }
   },
   "outputs": [
    {
     "name": "stdout",
     "output_type": "stream",
     "text": [
      "https://finance.yahoo.com/quote/T/history?p=T\n",
      "['2021-05-17 00:00:00', '33.51', '33.88', '31.24', '31.37', '31.37', '170,015,500', 'T']\n"
     ]
    }
   ],
   "source": [
    "#for symbol in df\n",
    "no_financials = \"'BRK.B', 'BF.B', 'FLIR'\"\n",
    "\n",
    "connection = sqlite3.connect('MSC.db')\n",
    "cursor = connection.cursor()\n",
    "sql = ('''\n",
    "Select symbol from SP500_companies \n",
    "where symbol not in (select distinct symbol from prices where date == '2021-05-17 00:00:00')\n",
    "and  symbol not in ('BRK.B', 'BF.B', 'FLIR')'''\n",
    "    )\n",
    "df = pd.read_sql_query(sql,connection)\n",
    "\n",
    "connection = sqlite3.connect('MSC.db')\n",
    "cursor = connection.cursor()\n",
    "sql = (\"Select * from prices where date \")\n",
    "z = pd.read_sql_query(sql,connection)\n",
    "connection.commit()\n",
    "connection.close()\n",
    "\n",
    "columnnames = \"'date', 'open', 'high', 'low', 'close', 'adj_close','volume', 'symbol'\"\n",
    "insertintotable = '?,?,?,?,?,?,?,?'\n",
    "\n",
    "for i in df.Symbol:\n",
    "    \n",
    "    r = requests.get(f'https://finance.yahoo.com/quote/{i}/history?p={i}')\n",
    "    print(f'https://finance.yahoo.com/quote/{i}/history?p={i}')\n",
    "    \n",
    "    data = r.text\n",
    "    soup = BeautifulSoup(data, features=\"lxml\")\n",
    "    \n",
    "    for j in range (0, 4):\n",
    "        if soup.find_all('td')[1+j*7].span == None:\n",
    "            pass\n",
    "        else:\n",
    "            answer = []\n",
    "            if pd.to_datetime(soup.find_all('td')[j*7].text, infer_datetime_format=True) > pd.to_datetime(z.date[z.symbol == i].iloc[0]):\n",
    "                answer.append(str(pd.to_datetime(soup.find_all('td')[j*7].text, infer_datetime_format=True)))\n",
    "                answer = answer + [i.span.text for i in soup.find_all('td')[j*7+1: j*7+7]] + [i]\n",
    "                print(answer)\n",
    "\n",
    "                connection = sqlite3.connect('MSC.db')\n",
    "                cursor = connection.cursor()\n",
    "                sql2 = f'cursor.execute(\"insert INTO  prices ({columnnames}) VALUES ({insertintotable})\", {answer})'\n",
    "                eval(sql2)\n",
    "                connection.commit()\n",
    "                connection.close()\n",
    "\n",
    "            else:\n",
    "                pass "
   ]
  },
  {
   "cell_type": "code",
   "execution_count": 70,
   "metadata": {
    "ExecuteTime": {
     "end_time": "2021-05-18T09:15:41.976720Z",
     "start_time": "2021-05-18T09:15:41.970019Z"
    }
   },
   "outputs": [
    {
     "data": {
      "text/plain": [
       "'!\"#$%&\\'()*+,-./:;<=>?@[\\\\]^_`{|}~'"
      ]
     },
     "execution_count": 70,
     "metadata": {},
     "output_type": "execute_result"
    }
   ],
   "source": [
    "import string\n",
    "string.punctuation"
   ]
  },
  {
   "cell_type": "code",
   "execution_count": null,
   "metadata": {
    "ExecuteTime": {
     "end_time": "2021-05-16T11:25:56.357014Z",
     "start_time": "2021-05-16T11:25:56.013066Z"
    }
   },
   "outputs": [],
   "source": [
    "connection = sqlite3.connect(\"MSC.db\")\n",
    "cursor = connection.cursor()\n",
    "\n",
    "sql = ('''Select distinct symbol, count(symbol) over(partition by symbol) as count from prices\n",
    "order by count\n",
    "\n",
    "       ''')\n",
    "z =pd.read_sql_query(sql,connection)\n",
    "z"
   ]
  },
  {
   "cell_type": "code",
   "execution_count": null,
   "metadata": {
    "ExecuteTime": {
     "end_time": "2021-05-16T11:28:35.722714Z",
     "start_time": "2021-05-16T11:28:35.696517Z"
    }
   },
   "outputs": [],
   "source": [
    "connection = sqlite3.connect(\"MSC.db\")\n",
    "cursor = connection.cursor()\n",
    "\n",
    "sql = ('''Select * from sp500_companies\n",
    "\n",
    "       ''')\n",
    "z =pd.read_sql_query(sql,connection)\n",
    "z"
   ]
  },
  {
   "cell_type": "code",
   "execution_count": null,
   "metadata": {
    "ExecuteTime": {
     "end_time": "2021-05-16T11:31:39.804181Z",
     "start_time": "2021-05-16T11:31:39.706682Z"
    }
   },
   "outputs": [],
   "source": [
    "connection = sqlite3.connect(\"MSC.db\")\n",
    "cursor = connection.cursor()\n",
    "\n",
    "sql = ('''Select sp500_companies.symbol, company from sp500_companies\n",
    "          WHERE sp500_companies.Symbol NOT IN\n",
    "        (Select symbol from  prices)\n",
    "\n",
    "       ''')\n",
    "z =pd.read_sql_query(sql,connection)\n",
    "z"
   ]
  },
  {
   "cell_type": "code",
   "execution_count": null,
   "metadata": {
    "ExecuteTime": {
     "end_time": "2021-05-16T11:33:22.381155Z",
     "start_time": "2021-05-16T11:33:22.377994Z"
    }
   },
   "outputs": [],
   "source": [
    "# Flir 0 love "
   ]
  },
  {
   "cell_type": "markdown",
   "metadata": {},
   "source": [
    "# Merge"
   ]
  },
  {
   "cell_type": "code",
   "execution_count": 142,
   "metadata": {
    "ExecuteTime": {
     "end_time": "2021-05-18T12:06:22.489424Z",
     "start_time": "2021-05-18T12:06:22.327557Z"
    }
   },
   "outputs": [
    {
     "data": {
      "text/html": [
       "<div>\n",
       "<style scoped>\n",
       "    .dataframe tbody tr th:only-of-type {\n",
       "        vertical-align: middle;\n",
       "    }\n",
       "\n",
       "    .dataframe tbody tr th {\n",
       "        vertical-align: top;\n",
       "    }\n",
       "\n",
       "    .dataframe thead th {\n",
       "        text-align: right;\n",
       "    }\n",
       "</style>\n",
       "<table border=\"1\" class=\"dataframe\">\n",
       "  <thead>\n",
       "    <tr style=\"text-align: right;\">\n",
       "      <th></th>\n",
       "      <th>date</th>\n",
       "      <th>top1</th>\n",
       "      <th>top2</th>\n",
       "      <th>top3</th>\n",
       "      <th>top4</th>\n",
       "      <th>top5</th>\n",
       "      <th>top6</th>\n",
       "      <th>top7</th>\n",
       "      <th>top8</th>\n",
       "      <th>top9</th>\n",
       "      <th>...</th>\n",
       "      <th>DJI_Open</th>\n",
       "      <th>DJI_High</th>\n",
       "      <th>DJI_Low</th>\n",
       "      <th>DJI_Close</th>\n",
       "      <th>DJI_Adj_Close</th>\n",
       "      <th>SP500_Open</th>\n",
       "      <th>SP500_High</th>\n",
       "      <th>SP500_Low</th>\n",
       "      <th>SP500_Close</th>\n",
       "      <th>SP500_Adj_Close</th>\n",
       "    </tr>\n",
       "  </thead>\n",
       "  <tbody>\n",
       "    <tr>\n",
       "      <th>87</th>\n",
       "      <td>2021-05-10</td>\n",
       "      <td>Indigenous leaders launch $2.1 billion class-a...</td>\n",
       "      <td>Russian Doc Who Lied About Navalny Poisoning ‘...</td>\n",
       "      <td>Angry protests have broken out in Kyrgyzstan a...</td>\n",
       "      <td>More than 50 people, many of them female stude...</td>\n",
       "      <td>Queen’s cousin Prince Michael of Kent accused ...</td>\n",
       "      <td>Arab world condemns Israel Police for violent ...</td>\n",
       "      <td>NASA criticizes China after rocket debris land...</td>\n",
       "      <td>Thousands to march in France demanding real ac...</td>\n",
       "      <td>Myanmar poet dies after detention, body return...</td>\n",
       "      <td>...</td>\n",
       "      <td>34,785.27</td>\n",
       "      <td>35,091.56</td>\n",
       "      <td>34,741.57</td>\n",
       "      <td>34,742.82</td>\n",
       "      <td>34,742.82</td>\n",
       "      <td>4,228.29</td>\n",
       "      <td>4,236.39</td>\n",
       "      <td>4,188.13</td>\n",
       "      <td>4,188.43</td>\n",
       "      <td>4,188.43</td>\n",
       "    </tr>\n",
       "    <tr>\n",
       "      <th>88</th>\n",
       "      <td>2021-05-11</td>\n",
       "      <td>Zero Covid deaths recorded yesterday for Engla...</td>\n",
       "      <td>Israeli airstrikes on Gaza kill 20 people, inc...</td>\n",
       "      <td>Stop evictions in East Jerusalem neighbourhood...</td>\n",
       "      <td>Instagram, Twitter deleting posts about Palest...</td>\n",
       "      <td>Boris Johnson investigated over Caribbean holi...</td>\n",
       "      <td>Rocket sirens sound in Jerusalem, Israel amid ...</td>\n",
       "      <td>WHO classifies triple-mutant Covid variant fro...</td>\n",
       "      <td>Dozens of bodies believed to be Covid-19 victi...</td>\n",
       "      <td>Missing Siberian doctor who treated Kremlin cr...</td>\n",
       "      <td>...</td>\n",
       "      <td>34,572.74</td>\n",
       "      <td>34,572.74</td>\n",
       "      <td>34,075.31</td>\n",
       "      <td>34,269.16</td>\n",
       "      <td>34,269.16</td>\n",
       "      <td>4,150.34</td>\n",
       "      <td>4,162.04</td>\n",
       "      <td>4,111.53</td>\n",
       "      <td>4,152.10</td>\n",
       "      <td>4,152.10</td>\n",
       "    </tr>\n",
       "    <tr>\n",
       "      <th>89</th>\n",
       "      <td>2021-05-12</td>\n",
       "      <td>Indian government says 5G doesn’t cause COVID-...</td>\n",
       "      <td>Largest 13 story residential building in Gaza ...</td>\n",
       "      <td>China demands cancellation of UN meeting on Uy...</td>\n",
       "      <td>Taiwan says China is 'maliciously' blocking it...</td>\n",
       "      <td>US officials believe Russia may be behind the ...</td>\n",
       "      <td>UK to ban LGBT conversion therapy and provide ...</td>\n",
       "      <td>Up to 9 Killed in Russia School Shooting</td>\n",
       "      <td>1 dead, 3 severely injured, as 'largest ever' ...</td>\n",
       "      <td>Hundreds of South Africans rallied on Tuesday ...</td>\n",
       "      <td>...</td>\n",
       "      <td>34,206.40</td>\n",
       "      <td>34,207.87</td>\n",
       "      <td>33,555.22</td>\n",
       "      <td>33,587.66</td>\n",
       "      <td>33,587.66</td>\n",
       "      <td>4,130.55</td>\n",
       "      <td>4,134.73</td>\n",
       "      <td>4,056.88</td>\n",
       "      <td>4,063.04</td>\n",
       "      <td>4,063.04</td>\n",
       "    </tr>\n",
       "    <tr>\n",
       "      <th>90</th>\n",
       "      <td>2021-05-13</td>\n",
       "      <td>'Champions League of tax avoidance:' Uber used...</td>\n",
       "      <td>Animals to be formally recognised as sentient ...</td>\n",
       "      <td>'We're watching a lynching': Jewish crowd in I...</td>\n",
       "      <td>Israeli flags burned outside 2 German synagogu...</td>\n",
       "      <td>Putin’s Wagner Group mercenaries ‘killed kids,...</td>\n",
       "      <td>Shark Advocates Cheer UK’s Banning Of Shark Fi...</td>\n",
       "      <td>Ethereum creator Vitalik Buterin donates $1 bi...</td>\n",
       "      <td>Dead whale found with 16kg of plastic bags, wr...</td>\n",
       "      <td>Israel rejects Hamas truce offer; ministers vo...</td>\n",
       "      <td>...</td>\n",
       "      <td>33,624.74</td>\n",
       "      <td>34,181.77</td>\n",
       "      <td>33,623.49</td>\n",
       "      <td>34,021.45</td>\n",
       "      <td>34,021.45</td>\n",
       "      <td>4,074.99</td>\n",
       "      <td>4,131.58</td>\n",
       "      <td>4,074.99</td>\n",
       "      <td>4,112.50</td>\n",
       "      <td>4,112.50</td>\n",
       "    </tr>\n",
       "    <tr>\n",
       "      <th>91</th>\n",
       "      <td>2021-05-14</td>\n",
       "      <td>\"2 for 100, 3 for 75.\" - Israeli soldier posts...</td>\n",
       "      <td>67 killed in Gaza, 7 killed in Israel as UN wa...</td>\n",
       "      <td>Israel's bombing of Gaza apartment buildings c...</td>\n",
       "      <td>Israel's Israeli Arab member of parliament Aid...</td>\n",
       "      <td>Jews and Arabs start to push back against viol...</td>\n",
       "      <td>France asks police to ban pro-Palestinian Pari...</td>\n",
       "      <td>US withdraws 120 military personnel from Israe...</td>\n",
       "      <td>Israel steps up Gaza offensive, kills senior H...</td>\n",
       "      <td>Biden says he's not seen a 'significant overre...</td>\n",
       "      <td>...</td>\n",
       "      <td>34,050.86</td>\n",
       "      <td>34,454.05</td>\n",
       "      <td>34,050.86</td>\n",
       "      <td>34,382.13</td>\n",
       "      <td>34,382.13</td>\n",
       "      <td>4,129.58</td>\n",
       "      <td>4,183.13</td>\n",
       "      <td>4,129.58</td>\n",
       "      <td>4,173.85</td>\n",
       "      <td>4,173.85</td>\n",
       "    </tr>\n",
       "  </tbody>\n",
       "</table>\n",
       "<p>5 rows × 41 columns</p>\n",
       "</div>"
      ],
      "text/plain": [
       "          date                                               top1  \\\n",
       "87  2021-05-10  Indigenous leaders launch $2.1 billion class-a...   \n",
       "88  2021-05-11  Zero Covid deaths recorded yesterday for Engla...   \n",
       "89  2021-05-12  Indian government says 5G doesn’t cause COVID-...   \n",
       "90  2021-05-13  'Champions League of tax avoidance:' Uber used...   \n",
       "91  2021-05-14  \"2 for 100, 3 for 75.\" - Israeli soldier posts...   \n",
       "\n",
       "                                                 top2  \\\n",
       "87  Russian Doc Who Lied About Navalny Poisoning ‘...   \n",
       "88  Israeli airstrikes on Gaza kill 20 people, inc...   \n",
       "89  Largest 13 story residential building in Gaza ...   \n",
       "90  Animals to be formally recognised as sentient ...   \n",
       "91  67 killed in Gaza, 7 killed in Israel as UN wa...   \n",
       "\n",
       "                                                 top3  \\\n",
       "87  Angry protests have broken out in Kyrgyzstan a...   \n",
       "88  Stop evictions in East Jerusalem neighbourhood...   \n",
       "89  China demands cancellation of UN meeting on Uy...   \n",
       "90  'We're watching a lynching': Jewish crowd in I...   \n",
       "91  Israel's bombing of Gaza apartment buildings c...   \n",
       "\n",
       "                                                 top4  \\\n",
       "87  More than 50 people, many of them female stude...   \n",
       "88  Instagram, Twitter deleting posts about Palest...   \n",
       "89  Taiwan says China is 'maliciously' blocking it...   \n",
       "90  Israeli flags burned outside 2 German synagogu...   \n",
       "91  Israel's Israeli Arab member of parliament Aid...   \n",
       "\n",
       "                                                 top5  \\\n",
       "87  Queen’s cousin Prince Michael of Kent accused ...   \n",
       "88  Boris Johnson investigated over Caribbean holi...   \n",
       "89  US officials believe Russia may be behind the ...   \n",
       "90  Putin’s Wagner Group mercenaries ‘killed kids,...   \n",
       "91  Jews and Arabs start to push back against viol...   \n",
       "\n",
       "                                                 top6  \\\n",
       "87  Arab world condemns Israel Police for violent ...   \n",
       "88  Rocket sirens sound in Jerusalem, Israel amid ...   \n",
       "89  UK to ban LGBT conversion therapy and provide ...   \n",
       "90  Shark Advocates Cheer UK’s Banning Of Shark Fi...   \n",
       "91  France asks police to ban pro-Palestinian Pari...   \n",
       "\n",
       "                                                 top7  \\\n",
       "87  NASA criticizes China after rocket debris land...   \n",
       "88  WHO classifies triple-mutant Covid variant fro...   \n",
       "89           Up to 9 Killed in Russia School Shooting   \n",
       "90  Ethereum creator Vitalik Buterin donates $1 bi...   \n",
       "91  US withdraws 120 military personnel from Israe...   \n",
       "\n",
       "                                                 top8  \\\n",
       "87  Thousands to march in France demanding real ac...   \n",
       "88  Dozens of bodies believed to be Covid-19 victi...   \n",
       "89  1 dead, 3 severely injured, as 'largest ever' ...   \n",
       "90  Dead whale found with 16kg of plastic bags, wr...   \n",
       "91  Israel steps up Gaza offensive, kills senior H...   \n",
       "\n",
       "                                                 top9  ...   DJI_Open  \\\n",
       "87  Myanmar poet dies after detention, body return...  ...  34,785.27   \n",
       "88  Missing Siberian doctor who treated Kremlin cr...  ...  34,572.74   \n",
       "89  Hundreds of South Africans rallied on Tuesday ...  ...  34,206.40   \n",
       "90  Israel rejects Hamas truce offer; ministers vo...  ...  33,624.74   \n",
       "91  Biden says he's not seen a 'significant overre...  ...  34,050.86   \n",
       "\n",
       "     DJI_High    DJI_Low  DJI_Close DJI_Adj_Close SP500_Open SP500_High  \\\n",
       "87  35,091.56  34,741.57  34,742.82     34,742.82   4,228.29   4,236.39   \n",
       "88  34,572.74  34,075.31  34,269.16     34,269.16   4,150.34   4,162.04   \n",
       "89  34,207.87  33,555.22  33,587.66     33,587.66   4,130.55   4,134.73   \n",
       "90  34,181.77  33,623.49  34,021.45     34,021.45   4,074.99   4,131.58   \n",
       "91  34,454.05  34,050.86  34,382.13     34,382.13   4,129.58   4,183.13   \n",
       "\n",
       "   SP500_Low SP500_Close SP500_Adj_Close  \n",
       "87  4,188.13    4,188.43        4,188.43  \n",
       "88  4,111.53    4,152.10        4,152.10  \n",
       "89  4,056.88    4,063.04        4,063.04  \n",
       "90  4,074.99    4,112.50        4,112.50  \n",
       "91  4,129.58    4,173.85        4,173.85  \n",
       "\n",
       "[5 rows x 41 columns]"
      ]
     },
     "execution_count": 142,
     "metadata": {},
     "output_type": "execute_result"
    }
   ],
   "source": [
    "connection = sqlite3.connect('MSC.db')\n",
    "cursor = connection.cursor()\n",
    "\n",
    "sql = ('''Select \n",
    "            main.date,\n",
    "            top1,top2,top3,top4,top5,\n",
    "            top6,top7,top8,top9,top10,\n",
    "            top11,top12,top13,top14,top15,\n",
    "            top16,top17,top18,top19,top20,\n",
    "            top21,top22,top23,top24,top25,\n",
    "            top26,top27,top28,top29,top30,\n",
    "            \n",
    "            DJI_Open,\n",
    "            DJI_High,\n",
    "            DJI_Low,\n",
    "            DJI_Close,\n",
    "            DJI_Adj_Close,\n",
    "            \n",
    "            SP500_Open,\n",
    "            SP500_High,\n",
    "            SP500_Low,\n",
    "            SP500_Close,\n",
    "            SP500_Adj_Close\n",
    "\n",
    "            from main\n",
    "            left join DJI on\n",
    "            main.date = date(DJI.Date)\n",
    "            left join SP500 on\n",
    "            main.date = date(SP500.Date)\n",
    "            \n",
    "            where DJI_Open not NULL\n",
    "            order by main.date\n",
    "\n",
    "       ''')\n",
    "df = pd.read_sql_query(sql,connection)\n",
    "df.tail()"
   ]
  },
  {
   "cell_type": "code",
   "execution_count": null,
   "metadata": {},
   "outputs": [],
   "source": []
  }
 ],
 "metadata": {
  "kernelspec": {
   "display_name": "Python 3",
   "language": "python",
   "name": "python3"
  },
  "language_info": {
   "codemirror_mode": {
    "name": "ipython",
    "version": 3
   },
   "file_extension": ".py",
   "mimetype": "text/x-python",
   "name": "python",
   "nbconvert_exporter": "python",
   "pygments_lexer": "ipython3",
   "version": "3.7.4"
  },
  "toc": {
   "base_numbering": 1,
   "nav_menu": {},
   "number_sections": true,
   "sideBar": true,
   "skip_h1_title": false,
   "title_cell": "Table of Contents",
   "title_sidebar": "Contents",
   "toc_cell": false,
   "toc_position": {},
   "toc_section_display": true,
   "toc_window_display": true
  }
 },
 "nbformat": 4,
 "nbformat_minor": 2
}
