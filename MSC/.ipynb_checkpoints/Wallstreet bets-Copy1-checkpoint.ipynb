{
 "cells": [
  {
   "cell_type": "code",
   "execution_count": 1,
   "metadata": {
    "ExecuteTime": {
     "end_time": "2021-05-24T06:42:48.268598Z",
     "start_time": "2021-05-24T06:42:39.192932Z"
    }
   },
   "outputs": [
    {
     "name": "stdout",
     "output_type": "stream",
     "text": [
      "JustAnotherCogg\n"
     ]
    }
   ],
   "source": [
    "import praw\n",
    "from data import *\n",
    "#import time\n",
    "import pandas as pd\n",
    "import matplotlib.pyplot as plt\n",
    "import squarify\n",
    "from nltk.sentiment.vader import SentimentIntensityAnalyzer\n",
    "\n",
    "from credentials import credentials\n",
    "\n",
    "client_id, client_secret,password, user_agent, username = credentials\n",
    "\n",
    "reddit = praw.Reddit(\n",
    "    client_id=client_id,\n",
    "    client_secret=client_secret,\n",
    "    password=password,\n",
    "    user_agent=user_agent,\n",
    "    username=username,\n",
    ")\n",
    "print(reddit.user.me())"
   ]
  },
  {
   "cell_type": "code",
   "execution_count": 2,
   "metadata": {
    "ExecuteTime": {
     "end_time": "2021-05-24T06:42:48.602351Z",
     "start_time": "2021-05-24T06:42:48.273337Z"
    }
   },
   "outputs": [],
   "source": [
    "import sqlite3\n",
    "connection = sqlite3.connect('MSC.db')\n",
    "cursor = connection.cursor()\n",
    "sql = (\"Select symbol from SP500_companies\")\n",
    "df = pd.read_sql_query(sql,connection)"
   ]
  },
  {
   "cell_type": "code",
   "execution_count": 3,
   "metadata": {
    "ExecuteTime": {
     "end_time": "2021-05-24T06:42:48.618885Z",
     "start_time": "2021-05-24T06:42:48.609660Z"
    }
   },
   "outputs": [],
   "source": [
    "us = df['Symbol'].to_list()"
   ]
  },
  {
   "cell_type": "code",
   "execution_count": 4,
   "metadata": {
    "ExecuteTime": {
     "end_time": "2021-05-24T06:42:48.655476Z",
     "start_time": "2021-05-24T06:42:48.627207Z"
    }
   },
   "outputs": [
    {
     "data": {
      "text/plain": [
       "'############################################################################'"
      ]
     },
     "execution_count": 4,
     "metadata": {},
     "output_type": "execute_result"
    }
   ],
   "source": [
    "'''############################################################################'''\n",
    "# set the program parameters\n",
    "subs = ['wallstreetbets' ]     # sub-reddit to search\n",
    "post_flairs = {'Daily Discussion', 'Weekend Discussion', 'Discussion'}    # posts flairs to search || None flair is automatically considered\n",
    "goodAuth = {'AutoModerator'}   # authors whom comments are allowed more than once\n",
    "uniqueCmt = True                # allow one comment per author per symbol\n",
    "ignoreAuthP = {'example'}       # authors to ignore for posts \n",
    "ignoreAuthC = {'example'}       # authors to ignore for comment \n",
    "upvoteRatio = 0.70         # upvote ratio for post to be considered, 0.70 = 70%\n",
    "ups = 20       # define # of upvotes, post is considered if upvotes exceed this #\n",
    "limit = 500     # define the limit, comments 'replace more' limit\n",
    "upvotes = 2     # define # of upvotes, comment is considered if upvotes exceed this #\n",
    "picks = 10     # define # of picks here, prints as \"Top ## picks are:\"\n",
    "picks_ayz = 5   # define # of picks for sentiment analysis\n",
    "'''############################################################################'''"
   ]
  },
  {
   "cell_type": "code",
   "execution_count": 113,
   "metadata": {
    "ExecuteTime": {
     "end_time": "2021-05-24T10:33:04.922424Z",
     "start_time": "2021-05-24T10:23:08.601093Z"
    }
   },
   "outputs": [],
   "source": [
    "posts, count, c_analyzed, tickers, titles, a_comments, cmt_auth = 0, 0, 0, {}, [], {}, {}\n",
    "\n",
    "subreddit = reddit.subreddit('wallstreetbets')\n",
    "hot_python = subreddit.hot()    # sorting posts by hot\n",
    "# Extracting comments, symbols from subreddit\n",
    "for submission in hot_python:\n",
    "    flair = submission.link_flair_text \n",
    "    author = submission.author.name         \n",
    "\n",
    "    # checking: post upvote ratio # of upvotes, post flair, and author \n",
    "    if submission.upvote_ratio >= upvoteRatio and submission.ups > ups and (flair in post_flairs or flair is None) and author not in ignoreAuthP:   \n",
    "        submission.comment_sort = 'new'     \n",
    "        comments = submission.comments\n",
    "        titles.append(submission.title)\n",
    "        posts += 1\n",
    "        try: \n",
    "            submission.comments.replace_more(limit=limit)   \n",
    "            for comment in comments:\n",
    "                # try except for deleted account?\n",
    "                try: auth = comment.author.name\n",
    "                except: pass\n",
    "                c_analyzed += 1\n",
    "                answer = []\n",
    "                columnnames = \"'date','thread', 'upvote_ratio', 'likes', 'comment'\"\n",
    "                insertintotable = '?,?,?,?,?'\n",
    "\n",
    "                # checking: comment upvotes and author\n",
    "                if comment.score > upvotes and auth not in ignoreAuthC: \n",
    "                    #df.loc[len(df)] = [submission.title, submission.upvote_ratio, comment.body, comment.score]\n",
    "                    answer = [datetime.date.today(), submission.title, submission.upvote_ratio, comment.score, comment.body]\n",
    "                    connection = sqlite3.connect('MSC.db')\n",
    "                    cursor = connection.cursor()\n",
    "                    sql2 = f'cursor.execute(\"insert INTO  wb_comments ({columnnames}) VALUES ({insertintotable})\", {answer})'\n",
    "                    eval(sql2)\n",
    "                    connection.commit()\n",
    "                    connection.close()\n",
    "                    split = comment.body.split(\" \")\n",
    "                    for word in split:\n",
    "                        word = word.replace(\"$\", \"\")        \n",
    "                        # upper = ticker, length of ticker <= 5, excluded words,                     \n",
    "                        if word.isupper() and len(word) <= 5 and word not in blacklist and word in us:\n",
    "                            # unique comments, try/except for key errors\n",
    "                            if uniqueCmt and auth not in goodAuth:\n",
    "                                try: \n",
    "                                    if auth in cmt_auth[word]:break\n",
    "                                except: pass\n",
    "                            # counting tickers\n",
    "                            if word in tickers:\n",
    "                                tickers[word] += 1\n",
    "                                a_comments[word].append(comment.body)\n",
    "                                cmt_auth[word].append(auth)\n",
    "                                count += 1\n",
    "                            else:                               \n",
    "                                tickers[word] = 1\n",
    "                                cmt_auth[word] = [auth]\n",
    "                                a_comments[word] = [comment.body]\n",
    "                                count += 1   \n",
    "        except Exception as e: print(e)\n",
    "\n",
    "# sorts the dictionary\n",
    "symbols = dict(sorted(tickers.items(), key=lambda item: item[1], reverse = True))"
   ]
  },
  {
   "cell_type": "code",
   "execution_count": 7,
   "metadata": {
    "ExecuteTime": {
     "end_time": "2021-05-24T06:52:55.408517Z",
     "start_time": "2021-05-24T06:52:55.401361Z"
    }
   },
   "outputs": [],
   "source": [
    "pd.DataFrame.from_dict(symbols, orient='index').to_csv(\"WB_20210524.csv\")"
   ]
  },
  {
   "cell_type": "code",
   "execution_count": null,
   "metadata": {
    "ExecuteTime": {
     "end_time": "2021-05-18T17:37:40.526779Z",
     "start_time": "2021-05-18T17:37:40.502519Z"
    }
   },
   "outputs": [],
   "source": [
    "pd.DataFrame(data=today).set_index(pd.Index([i for i in range(0, len(symbols))]))"
   ]
  },
  {
   "cell_type": "code",
   "execution_count": null,
   "metadata": {
    "ExecuteTime": {
     "end_time": "2021-05-18T17:35:40.552490Z",
     "start_time": "2021-05-18T17:35:40.538650Z"
    }
   },
   "outputs": [],
   "source": [
    "pd.DataFrame.from_dict(symbols, orient='index').reset_index(inplace=True)"
   ]
  },
  {
   "cell_type": "code",
   "execution_count": 115,
   "metadata": {
    "ExecuteTime": {
     "end_time": "2021-05-24T11:34:01.275964Z",
     "start_time": "2021-05-24T11:33:59.298371Z"
    }
   },
   "outputs": [
    {
     "name": "stdout",
     "output_type": "stream",
     "text": [
      "SPY: 57\n",
      "TSLA: 33\n",
      "F: 26\n",
      "NVDA: 26\n",
      "AAPL: 11\n",
      "AMD: 9\n",
      "AMZN: 5\n",
      "CVS: 4\n",
      "VIAC: 4\n",
      "T: 4\n",
      "L: 3\n",
      "MU: 3\n",
      "FB: 3\n",
      "DTE: 3\n",
      "HD: 2\n",
      "K: 2\n",
      "BA: 2\n",
      "J: 2\n",
      "DOW: 2\n",
      "MCD: 2\n",
      "ABC: 1\n",
      "AAL: 1\n",
      "CCL: 1\n",
      "NCLH: 1\n",
      "CNC: 1\n",
      "TMO: 1\n",
      "GM: 1\n",
      "UAA: 1\n",
      "LUV: 1\n",
      "DAL: 1\n",
      "UAL: 1\n",
      "XOM: 1\n",
      "MGM: 1\n",
      "MSCI: 1\n",
      "MLM: 1\n",
      "PEP: 1\n",
      "RTX: 1\n",
      "COST: 1\n",
      "CERN: 1\n",
      "ETSY: 1\n",
      "TWTR: 1\n",
      "RL: 1\n",
      "C: 1\n",
      "DIS: 1\n",
      "WMT: 1\n",
      "TGT: 1\n",
      "LOW: 1\n",
      "NFLX: 1\n",
      "VFC: 1\n",
      "PENN: 1\n"
     ]
    }
   ],
   "source": [
    "top_picks = list(symbols.keys())\n",
    "times = []\n",
    "top = []\n",
    "for i in top_picks:\n",
    "    times.append(symbols[i])\n",
    "    top.append(f\"{i}: {symbols[i]}\")\n",
    "      \n",
    "# Applying Sentiment Analysis\n",
    "scores, s = {}, {}\n",
    "vader = SentimentIntensityAnalyzer()\n",
    "# adding custom words from data.py \n",
    "vader.lexicon.update(new_words)\n",
    "picks_sentiment = list(symbols.keys())\n",
    "\n",
    "answer = []\n",
    "columnnames = \"'date', 'symbol', 'neg', 'neu', 'pos', 'compound', 'comment'\"\n",
    "insertintotable = '?,?,?,?,?,?,?'\n",
    "for symbol in picks_sentiment:\n",
    "    stock_comments = a_comments[symbol]\n",
    "    for cmnt in stock_comments:\n",
    "        score = vader.polarity_scores(cmnt)\n",
    "        answer = [datetime.date.today(), symbol]\n",
    "        for i in list(score.values()):\n",
    "            answer.append(i)\n",
    "        answer += [cmnt]\n",
    "        connection = sqlite3.connect('MSC.db')\n",
    "        cursor = connection.cursor()\n",
    "        sql2 = f'cursor.execute(\"insert INTO  wb_sentiment ({columnnames}) VALUES ({insertintotable})\", {answer})'\n",
    "        eval(sql2)\n",
    "        connection.commit()\n",
    "        connection.close()\n",
    "        \n",
    "        if symbol in s:\n",
    "            s[symbol][cmnt] = score\n",
    "        else:\n",
    "            s[symbol] = {cmnt:score}      \n",
    "        if symbol in scores:\n",
    "            for key, _ in score.items():\n",
    "                scores[symbol][key] += score[key]\n",
    "        else:\n",
    "            scores[symbol] = score\n",
    "            \n",
    "    # calculating avg.\n",
    "    for key in score:\n",
    "        scores[symbol][key] = scores[symbol][key] / symbols[symbol]\n",
    "        scores[symbol][key]  = \"{pol:.3f}\".format(pol=scores[symbol][key])"
   ]
  },
  {
   "cell_type": "code",
   "execution_count": 117,
   "metadata": {
    "ExecuteTime": {
     "end_time": "2021-05-24T11:41:25.059138Z",
     "start_time": "2021-05-24T11:41:21.149300Z"
    }
   },
   "outputs": [
    {
     "name": "stdout",
     "output_type": "stream",
     "text": [
      "\n",
      "Sentiment analysis of top 5 picks:\n",
      "     Bearish Neutral Bullish Total/Compound\n",
      "SPY    0.166   0.694   0.141          0.024\n",
      "TSLA   0.103   0.726   0.171          0.195\n",
      "F      0.117   0.708   0.137         -0.009\n",
      "NVDA   0.088   0.783   0.129          0.133\n",
      "AAPL   0.046   0.808   0.146          0.171\n",
      "AMD    0.090   0.671   0.239          0.348\n",
      "AMZN   0.041   0.812   0.147          0.323\n",
      "CVS    0.000   0.651   0.349          0.411\n",
      "VIAC   0.117   0.636   0.247          0.446\n",
      "T      0.182   0.648   0.170         -0.084\n",
      "L      0.117   0.485   0.065         -0.278\n",
      "MU     0.097   0.702   0.201          0.340\n",
      "FB     0.073   0.847   0.079          0.126\n",
      "DTE    0.096   0.756   0.148          0.075\n",
      "HD     0.079   0.738   0.184          0.328\n",
      "K      0.000   0.883   0.117          0.351\n",
      "BA     0.132   0.868   0.000         -0.419\n",
      "J      0.044   0.923   0.032         -0.094\n",
      "DOW    0.000   0.861   0.140          0.368\n",
      "MCD    0.000   1.000   0.000          0.000\n",
      "ABC    0.000   0.167   0.833          0.900\n",
      "AAL    0.030   0.776   0.193          0.868\n",
      "CCL    0.030   0.776   0.193          0.868\n",
      "NCLH   0.030   0.776   0.193          0.868\n",
      "CNC    0.072   0.683   0.246          0.978\n",
      "TMO    0.000   1.000   0.000          0.000\n",
      "GM     0.000   1.000   0.000          0.000\n",
      "UAA    0.107   0.702   0.191          0.670\n",
      "LUV    0.000   1.000   0.000          0.000\n",
      "DAL    0.000   1.000   0.000          0.000\n",
      "UAL    0.000   1.000   0.000          0.000\n",
      "XOM    0.180   0.820   0.000         -0.511\n",
      "MGM    0.000   1.000   0.000          0.000\n",
      "MSCI   0.037   0.921   0.042          0.072\n",
      "MLM    0.511   0.489   0.000         -0.482\n",
      "PEP    0.000   0.561   0.439          0.691\n",
      "RTX    0.000   1.000   0.000          0.000\n",
      "COST   0.163   0.506   0.331          0.969\n",
      "CERN   0.149   0.697   0.155          0.054\n",
      "ETSY   0.000   1.000   0.000          0.000\n",
      "TWTR   0.079   0.760   0.161          0.178\n",
      "RL     0.081   0.699   0.220          0.964\n",
      "C      0.000   0.883   0.117          0.738\n",
      "DIS    0.098   0.826   0.076         -0.178\n",
      "WMT    0.157   0.721   0.122         -0.161\n",
      "TGT    0.157   0.721   0.122         -0.161\n",
      "LOW    0.157   0.721   0.122         -0.161\n",
      "NFLX   0.239   0.621   0.140         -0.903\n",
      "VFC    0.000   0.222   0.778          0.888\n",
      "PENN   0.000   0.751   0.249          0.511\n"
     ]
    },
    {
     "data": {
      "image/png": "[encoded data removed]",
      "text/plain": [
       "<Figure size 432x288 with 1 Axes>"
      ]
     },
     "metadata": {
      "needs_background": "light"
     },
     "output_type": "display_data"
    },
    {
     "data": {
      "image/png": "[encoded data removed]",
      "text/plain": [
       "<Figure size 432x288 with 1 Axes>"
      ]
     },
     "metadata": {
      "needs_background": "light"
     },
     "output_type": "display_data"
    }
   ],
   "source": [
    "# printing sentiment analysis \n",
    "print(f\"\\nSentiment analysis of top {picks_ayz} picks:\")\n",
    "df = pd.DataFrame(scores)\n",
    "df.index = ['Bearish', 'Neutral', 'Bullish', 'Total/Compound']\n",
    "df = df.T\n",
    "print(df)\n",
    "\n",
    "# Date Visualization\n",
    "# most mentioned picks    \n",
    "squarify.plot(sizes=times, label=top, alpha=.7 )\n",
    "plt.axis('off')\n",
    "plt.title(f\"{picks} most mentioned picks\")\n",
    "plt.show()\n",
    "\n",
    "# Sentiment analysis\n",
    "df = df.astype(float)\n",
    "colors = ['red', 'springgreen', 'forestgreen', 'coral']\n",
    "df.plot(kind = 'bar', color=colors, title=f\"Sentiment analysis of top {picks_ayz} picks:\")\n",
    "plt.show()"
   ]
  },
  {
   "cell_type": "code",
   "execution_count": 116,
   "metadata": {
    "ExecuteTime": {
     "end_time": "2021-05-24T11:34:57.424324Z",
     "start_time": "2021-05-24T11:34:57.383469Z"
    }
   },
   "outputs": [
    {
     "name": "stdout",
     "output_type": "stream",
     "text": [
      "['SPY' 'TSLA' 'NVDA' 'F' 'AAPL' 'AMD' 'AMZN' 'VIAC' 'T' 'MCD' 'MU' 'FB'\n",
      " 'DTE' 'HD' 'K' 'BA' 'J' 'DOW' 'CVS' 'L' 'ABC' 'AAL' 'CCL' 'NCLH' 'CNC'\n",
      " 'TMO' 'GM' 'UAA' 'LUV' 'DAL' 'UAL' 'XOM' 'MGM' 'MSCI' 'MLM' 'PEP' 'RTX'\n",
      " 'COST' 'CERN' 'ETSY' 'TWTR' 'RL' 'C' 'DIS' 'WMT' 'TGT' 'LOW' 'NFLX' 'VFC'\n",
      " 'PENN' 'MSFT']\n",
      "51\n"
     ]
    },
    {
     "data": {
      "text/html": [
       "<div>\n",
       "<style scoped>\n",
       "    .dataframe tbody tr th:only-of-type {\n",
       "        vertical-align: middle;\n",
       "    }\n",
       "\n",
       "    .dataframe tbody tr th {\n",
       "        vertical-align: top;\n",
       "    }\n",
       "\n",
       "    .dataframe thead th {\n",
       "        text-align: right;\n",
       "    }\n",
       "</style>\n",
       "<table border=\"1\" class=\"dataframe\">\n",
       "  <thead>\n",
       "    <tr style=\"text-align: right;\">\n",
       "      <th></th>\n",
       "      <th>symbol</th>\n",
       "      <th>neg</th>\n",
       "      <th>neu</th>\n",
       "      <th>pos</th>\n",
       "      <th>compound</th>\n",
       "      <th>text</th>\n",
       "    </tr>\n",
       "  </thead>\n",
       "  <tbody>\n",
       "    <tr>\n",
       "      <th>0</th>\n",
       "      <td>SPY</td>\n",
       "      <td>0.000</td>\n",
       "      <td>1.000</td>\n",
       "      <td>0.000</td>\n",
       "      <td>0.0000</td>\n",
       "      <td>Did some shrooms last night and had a spiritua...</td>\n",
       "    </tr>\n",
       "    <tr>\n",
       "      <th>1</th>\n",
       "      <td>SPY</td>\n",
       "      <td>0.334</td>\n",
       "      <td>0.588</td>\n",
       "      <td>0.077</td>\n",
       "      <td>-0.8519</td>\n",
       "      <td>How far so you think SPY can drop? Bitch has a...</td>\n",
       "    </tr>\n",
       "    <tr>\n",
       "      <th>2</th>\n",
       "      <td>SPY</td>\n",
       "      <td>0.148</td>\n",
       "      <td>0.750</td>\n",
       "      <td>0.102</td>\n",
       "      <td>-0.4775</td>\n",
       "      <td>We’re gonna wake up to a sub $200 $COIN. All t...</td>\n",
       "    </tr>\n",
       "    <tr>\n",
       "      <th>3</th>\n",
       "      <td>SPY</td>\n",
       "      <td>0.101</td>\n",
       "      <td>0.840</td>\n",
       "      <td>0.059</td>\n",
       "      <td>-0.3612</td>\n",
       "      <td>Bought VTI and shit myself for the first time ...</td>\n",
       "    </tr>\n",
       "    <tr>\n",
       "      <th>4</th>\n",
       "      <td>SPY</td>\n",
       "      <td>0.000</td>\n",
       "      <td>0.828</td>\n",
       "      <td>0.172</td>\n",
       "      <td>0.3612</td>\n",
       "      <td># Get ready for the Kangaroo Market this week ...</td>\n",
       "    </tr>\n",
       "    <tr>\n",
       "      <th>...</th>\n",
       "      <td>...</td>\n",
       "      <td>...</td>\n",
       "      <td>...</td>\n",
       "      <td>...</td>\n",
       "      <td>...</td>\n",
       "      <td>...</td>\n",
       "    </tr>\n",
       "    <tr>\n",
       "      <th>219</th>\n",
       "      <td>LOW</td>\n",
       "      <td>0.157</td>\n",
       "      <td>0.721</td>\n",
       "      <td>0.122</td>\n",
       "      <td>-0.1613</td>\n",
       "      <td>WMT TGT LOW HD - will retail still do ok for t...</td>\n",
       "    </tr>\n",
       "    <tr>\n",
       "      <th>220</th>\n",
       "      <td>NFLX</td>\n",
       "      <td>0.239</td>\n",
       "      <td>0.621</td>\n",
       "      <td>0.140</td>\n",
       "      <td>-0.9034</td>\n",
       "      <td>u/JakTravis_u_SOB\\n\\nWhere does everyone think...</td>\n",
       "    </tr>\n",
       "    <tr>\n",
       "      <th>221</th>\n",
       "      <td>VFC</td>\n",
       "      <td>0.000</td>\n",
       "      <td>0.222</td>\n",
       "      <td>0.778</td>\n",
       "      <td>0.8885</td>\n",
       "      <td>Free money, VFC calls on Monday.</td>\n",
       "    </tr>\n",
       "    <tr>\n",
       "      <th>222</th>\n",
       "      <td>PENN</td>\n",
       "      <td>0.000</td>\n",
       "      <td>0.751</td>\n",
       "      <td>0.249</td>\n",
       "      <td>0.5106</td>\n",
       "      <td>Well, on Monday I will be the owner of 200 sha...</td>\n",
       "    </tr>\n",
       "    <tr>\n",
       "      <th>223</th>\n",
       "      <td>MSFT</td>\n",
       "      <td>0.090</td>\n",
       "      <td>0.910</td>\n",
       "      <td>0.000</td>\n",
       "      <td>-0.7430</td>\n",
       "      <td>The real question is how are they going to com...</td>\n",
       "    </tr>\n",
       "  </tbody>\n",
       "</table>\n",
       "<p>224 rows × 6 columns</p>\n",
       "</div>"
      ],
      "text/plain": [
       "    symbol    neg    neu    pos  compound  \\\n",
       "0      SPY  0.000  1.000  0.000    0.0000   \n",
       "1      SPY  0.334  0.588  0.077   -0.8519   \n",
       "2      SPY  0.148  0.750  0.102   -0.4775   \n",
       "3      SPY  0.101  0.840  0.059   -0.3612   \n",
       "4      SPY  0.000  0.828  0.172    0.3612   \n",
       "..     ...    ...    ...    ...       ...   \n",
       "219    LOW  0.157  0.721  0.122   -0.1613   \n",
       "220   NFLX  0.239  0.621  0.140   -0.9034   \n",
       "221    VFC  0.000  0.222  0.778    0.8885   \n",
       "222   PENN  0.000  0.751  0.249    0.5106   \n",
       "223   MSFT  0.090  0.910  0.000   -0.7430   \n",
       "\n",
       "                                                  text  \n",
       "0    Did some shrooms last night and had a spiritua...  \n",
       "1    How far so you think SPY can drop? Bitch has a...  \n",
       "2    We’re gonna wake up to a sub $200 $COIN. All t...  \n",
       "3    Bought VTI and shit myself for the first time ...  \n",
       "4    # Get ready for the Kangaroo Market this week ...  \n",
       "..                                                 ...  \n",
       "219  WMT TGT LOW HD - will retail still do ok for t...  \n",
       "220  u/JakTravis_u_SOB\\n\\nWhere does everyone think...  \n",
       "221                   Free money, VFC calls on Monday.  \n",
       "222  Well, on Monday I will be the owner of 200 sha...  \n",
       "223  The real question is how are they going to com...  \n",
       "\n",
       "[224 rows x 6 columns]"
      ]
     },
     "execution_count": 116,
     "metadata": {},
     "output_type": "execute_result"
    }
   ],
   "source": [
    "print(sent_df.symbol.unique())\n",
    "print(len(sent_df.symbol.unique()))\n",
    "sent_df"
   ]
  },
  {
   "cell_type": "code",
   "execution_count": 74,
   "metadata": {
    "ExecuteTime": {
     "end_time": "2021-05-24T08:34:17.588461Z",
     "start_time": "2021-05-24T08:34:17.580297Z"
    }
   },
   "outputs": [
    {
     "data": {
      "text/plain": [
       "array(['SPY', 'TSLA', 'NVDA', 'F', 'AAPL', 'AMD', 'AMZN', 'VIAC', 'T',\n",
       "       'MCD', 'MU', 'FB', 'DTE', 'HD', 'K', 'BA', 'J', 'DOW', 'CVS', 'L',\n",
       "       'ABC', 'AAL', 'CCL', 'NCLH', 'CNC', 'TMO', 'GM', 'UAA', 'LUV',\n",
       "       'DAL', 'UAL', 'XOM', 'MGM', 'MSCI', 'MLM', 'PEP', 'RTX', 'COST',\n",
       "       'CERN', 'ETSY', 'TWTR', 'RL', 'C', 'DIS', 'WMT', 'TGT', 'LOW',\n",
       "       'NFLX', 'VFC', 'PENN', 'MSFT'], dtype=object)"
      ]
     },
     "execution_count": 74,
     "metadata": {},
     "output_type": "execute_result"
    }
   ],
   "source": [
    "sent_df.symbol.unique()"
   ]
  },
  {
   "cell_type": "code",
   "execution_count": 97,
   "metadata": {
    "ExecuteTime": {
     "end_time": "2021-05-24T08:42:09.199371Z",
     "start_time": "2021-05-24T08:42:09.189613Z"
    }
   },
   "outputs": [
    {
     "data": {
      "text/plain": [
       "219    WMT TGT LOW HD - will retail still do ok for t...\n",
       "Name: text, dtype: object"
      ]
     },
     "execution_count": 97,
     "metadata": {},
     "output_type": "execute_result"
    }
   ],
   "source": [
    "sent_df.text[sent_df.symbol == \"LOW\"]"
   ]
  },
  {
   "cell_type": "markdown",
   "metadata": {
    "ExecuteTime": {
     "end_time": "2021-05-24T08:43:02.933302Z",
     "start_time": "2021-05-24T08:43:02.925729Z"
    }
   },
   "source": [
    "pd.set_option(\"display.max_columns\", None)\n",
    "pd.set_option(\"display.width\", 80)\n",
    "\n",
    "pd.get_option(\"display.width\")"
   ]
  },
  {
   "cell_type": "code",
   "execution_count": 118,
   "metadata": {
    "ExecuteTime": {
     "end_time": "2021-05-24T11:46:37.602664Z",
     "start_time": "2021-05-24T11:46:37.538832Z"
    }
   },
   "outputs": [],
   "source": [
    "vader.polarity_scores?"
   ]
  },
  {
   "cell_type": "code",
   "execution_count": null,
   "metadata": {},
   "outputs": [],
   "source": []
  }
 ],
 "metadata": {
  "kernelspec": {
   "display_name": "Python 3",
   "language": "python",
   "name": "python3"
  },
  "language_info": {
   "codemirror_mode": {
    "name": "ipython",
    "version": 3
   },
   "file_extension": ".py",
   "mimetype": "text/x-python",
   "name": "python",
   "nbconvert_exporter": "python",
   "pygments_lexer": "ipython3",
   "version": "3.7.4"
  },
  "toc": {
   "base_numbering": 1,
   "nav_menu": {},
   "number_sections": true,
   "sideBar": true,
   "skip_h1_title": false,
   "title_cell": "Table of Contents",
   "title_sidebar": "Contents",
   "toc_cell": false,
   "toc_position": {},
   "toc_section_display": true,
   "toc_window_display": false
  }
 },
 "nbformat": 4,
 "nbformat_minor": 2
}
