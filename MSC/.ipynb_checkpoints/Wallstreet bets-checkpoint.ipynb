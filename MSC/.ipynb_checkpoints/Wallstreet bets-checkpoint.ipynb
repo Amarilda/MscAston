{
 "cells": [
  {
   "cell_type": "code",
   "execution_count": 1,
   "metadata": {
    "ExecuteTime": {
     "end_time": "2021-05-23T09:15:19.121258Z",
     "start_time": "2021-05-23T09:14:53.418278Z"
    }
   },
   "outputs": [
    {
     "name": "stdout",
     "output_type": "stream",
     "text": [
      "JustAnotherCogg\n"
     ]
    }
   ],
   "source": [
    "#https://github.com/asad70/reddit-sentiment-analysis/blob/master/reddit-sentiment-analysis.py\n",
    "\n",
    "import praw\n",
    "from data import *\n",
    "import time\n",
    "import pandas as pd\n",
    "import matplotlib.pyplot as plt\n",
    "import squarify\n",
    "from nltk.sentiment.vader import SentimentIntensityAnalyzer\n",
    "\n",
    "from credentials import credentials\n",
    "\n",
    "client_id, client_secret,password, user_agent, username = credentials\n",
    "\n",
    "reddit = praw.Reddit(\n",
    "    client_id=client_id,\n",
    "    client_secret=client_secret,\n",
    "    password=password,\n",
    "    user_agent=user_agent,\n",
    "    username=username,\n",
    ")\n",
    "print(reddit.user.me())"
   ]
  },
  {
   "cell_type": "code",
   "execution_count": 2,
   "metadata": {
    "ExecuteTime": {
     "end_time": "2021-05-23T09:15:21.395746Z",
     "start_time": "2021-05-23T09:15:19.124346Z"
    }
   },
   "outputs": [],
   "source": [
    "import sqlite3\n",
    "connection = sqlite3.connect(\"MSC.db\")\n",
    "cursor = connection.cursor()\n",
    "\n",
    "connection = sqlite3.connect('MSC.db')\n",
    "cursor = connection.cursor()\n",
    "sql = (\"Select symbol from SP500_companies\")\n",
    "df = pd.read_sql_query(sql,connection)"
   ]
  },
  {
   "cell_type": "code",
   "execution_count": 4,
   "metadata": {
    "ExecuteTime": {
     "end_time": "2021-05-23T09:17:32.755568Z",
     "start_time": "2021-05-23T09:17:32.751473Z"
    }
   },
   "outputs": [],
   "source": [
    "us = df['Symbol'].to_list()"
   ]
  },
  {
   "cell_type": "code",
   "execution_count": 5,
   "metadata": {
    "ExecuteTime": {
     "end_time": "2021-05-23T09:17:35.361134Z",
     "start_time": "2021-05-23T09:17:35.351126Z"
    }
   },
   "outputs": [
    {
     "data": {
      "text/plain": [
       "'############################################################################'"
      ]
     },
     "execution_count": 5,
     "metadata": {},
     "output_type": "execute_result"
    }
   ],
   "source": [
    "'''############################################################################'''\n",
    "# set the program parameters\n",
    "subs = ['wallstreetbets' ]     # sub-reddit to search\n",
    "post_flairs = {'Daily Discussion', 'Weekend Discussion', 'Discussion'}    # posts flairs to search || None flair is automatically considered\n",
    "goodAuth = {'AutoModerator'}   # authors whom comments are allowed more than once\n",
    "uniqueCmt = True                # allow one comment per author per symbol\n",
    "ignoreAuthP = {'example'}       # authors to ignore for posts \n",
    "ignoreAuthC = {'example'}       # authors to ignore for comment \n",
    "upvoteRatio = 0.70         # upvote ratio for post to be considered, 0.70 = 70%\n",
    "ups = 20       # define # of upvotes, post is considered if upvotes exceed this #\n",
    "limit = 500     # define the limit, comments 'replace more' limit\n",
    "upvotes = 2     # define # of upvotes, comment is considered if upvotes exceed this #\n",
    "picks = 10     # define # of picks here, prints as \"Top ## picks are:\"\n",
    "picks_ayz = 5   # define # of picks for sentiment analysis\n",
    "'''############################################################################'''"
   ]
  },
  {
   "cell_type": "code",
   "execution_count": 6,
   "metadata": {
    "ExecuteTime": {
     "end_time": "2021-05-23T09:27:36.958037Z",
     "start_time": "2021-05-23T09:17:36.757321Z"
    }
   },
   "outputs": [],
   "source": [
    "posts, count, c_analyzed, tickers, titles, a_comments = 0, 0, 0, {}, [], {}\n",
    "cmt_auth = {}\n",
    "\n",
    "for sub in subs:\n",
    "    subreddit = reddit.subreddit(sub)\n",
    "    hot_python = subreddit.hot()    # sorting posts by hot\n",
    "    # Extracting comments, symbols from subreddit\n",
    "    for submission in hot_python:\n",
    "        flair = submission.link_flair_text \n",
    "        author = submission.author.name         \n",
    "        \n",
    "        # checking: post upvote ratio # of upvotes, post flair, and author \n",
    "        if submission.upvote_ratio >= upvoteRatio and submission.ups > ups and (flair in post_flairs or flair is None) and author not in ignoreAuthP:   \n",
    "            submission.comment_sort = 'new'     \n",
    "            comments = submission.comments\n",
    "            titles.append(submission.title)\n",
    "            posts += 1\n",
    "            try: \n",
    "                submission.comments.replace_more(limit=limit)   \n",
    "                for comment in comments:\n",
    "                    # try except for deleted account?\n",
    "                    try: auth = comment.author.name\n",
    "                    except: pass\n",
    "                    c_analyzed += 1\n",
    "                    \n",
    "                    # checking: comment upvotes and author\n",
    "                    if comment.score > upvotes and auth not in ignoreAuthC:      \n",
    "                        split = comment.body.split(\" \")\n",
    "                        for word in split:\n",
    "                            word = word.replace(\"$\", \"\")        \n",
    "                            # upper = ticker, length of ticker <= 5, excluded words,                     \n",
    "                            if word.isupper() and len(word) <= 5 and word not in blacklist and word in us:\n",
    "                                \n",
    "                                # unique comments, try/except for key errors\n",
    "                                if uniqueCmt and auth not in goodAuth:\n",
    "                                    try: \n",
    "                                        if auth in cmt_auth[word]: break\n",
    "                                    except: pass\n",
    "                                    \n",
    "                                # counting tickers\n",
    "                                if word in tickers:\n",
    "                                    tickers[word] += 1\n",
    "                                    a_comments[word].append(comment.body)\n",
    "                                    cmt_auth[word].append(auth)\n",
    "                                    count += 1\n",
    "                                else:                               \n",
    "                                    tickers[word] = 1\n",
    "                                    cmt_auth[word] = [auth]\n",
    "                                    a_comments[word] = [comment.body]\n",
    "                                    count += 1   \n",
    "            except Exception as e: print(e)\n",
    "                \n",
    "# sorts the dictionary\n",
    "symbols = dict(sorted(tickers.items(), key=lambda item: item[1], reverse = True))"
   ]
  },
  {
   "cell_type": "code",
   "execution_count": 7,
   "metadata": {
    "ExecuteTime": {
     "end_time": "2021-05-23T09:27:37.527468Z",
     "start_time": "2021-05-23T09:27:36.960937Z"
    }
   },
   "outputs": [],
   "source": [
    "pd.DataFrame.from_dict(symbols, orient='index').to_csv(\"WB_20210523.csv\")"
   ]
  },
  {
   "cell_type": "code",
   "execution_count": null,
   "metadata": {
    "ExecuteTime": {
     "end_time": "2021-05-18T17:37:40.526779Z",
     "start_time": "2021-05-18T17:37:40.502519Z"
    }
   },
   "outputs": [],
   "source": [
    "pd.DataFrame(data=today).set_index(pd.Index([i for i in range(0, len(symbols))]))"
   ]
  },
  {
   "cell_type": "code",
   "execution_count": null,
   "metadata": {
    "ExecuteTime": {
     "end_time": "2021-05-18T17:35:40.552490Z",
     "start_time": "2021-05-18T17:35:40.538650Z"
    }
   },
   "outputs": [],
   "source": [
    "pd.DataFrame.from_dict(symbols, orient='index').reset_index(inplace=True)"
   ]
  },
  {
   "cell_type": "code",
   "execution_count": 11,
   "metadata": {
    "ExecuteTime": {
     "end_time": "2021-05-23T09:51:41.168663Z",
     "start_time": "2021-05-23T09:51:41.047217Z"
    }
   },
   "outputs": [
    {
     "name": "stdout",
     "output_type": "stream",
     "text": [
      "analyze 9846 comments in 16 posts in 1 subreddits.\n",
      "\n",
      "Posts analyzed saved in titles\n",
      "Weekend Discussion Thread for the Weekend of May 21, 2021\n",
      "$SPCE Virgin Galactic Test Flight 5/22/2021 is currently successfully proceeding as planned! 🚀🚀🚀🚀🚀\n",
      "UWMC ex DIV 6/9??? A Match Made in Heaven\n",
      "tired of people posting non-log charts to show we're in a bubble\n",
      "US Commerce Department seeks to double tariffs on Canadian Lumber from 8.99% to 18.32%\n",
      "SPCE has lift off....now what?\n",
      "Anyone else shorting $COIN?\n",
      "Inflation: Bullish or Bearish?\n",
      "Market Timing vs Pricing\n",
      "Nokia succeeded in overtaking Huawei and Ericsson\n",
      "After almost 20 years of generally being very happy with Schwab, I am changing brokers. A short summary of my grievances.\n",
      "GOLD open interest June 18\n",
      "All in on Alteryx or no? I don't give a fuck about analysis, fundamentals, fucking...candles, drawing lines, whatever...I know Alteryx made sick gains before, and the price is low as shit right now. So, after reading my TA, what we saying? All in or no?\n",
      "Daily Discussion Thread for May 21, 2021\n",
      "TQQQ 🚀\n",
      "Playing SPCE as smart as you can\n",
      "\n",
      "10 most mentioned picks: \n",
      "TSLA: 88\n",
      "F: 49\n",
      "NVDA: 48\n",
      "AAPL: 26\n",
      "AMD: 23\n",
      "VIAC: 21\n",
      "AMZN: 8\n",
      "BA: 7\n",
      "T: 6\n",
      "FB: 4\n"
     ]
    }
   ],
   "source": [
    "# sorts the dictionary\n",
    "#symbols = dict(sorted(tickers.items(), key=lambda item: item[1], reverse = True))\n",
    "top_picks = list(symbols.keys())[0:picks]\n",
    "\n",
    "# print top picks\n",
    "print(\"analyze {c} comments in {p} posts in {s} subreddits.\\n\".format(c=c_analyzed, p=posts, s=len(subs)))\n",
    "print(\"Posts analyzed saved in titles\")\n",
    "#for i in titles: print(i)  # prints the title of the posts analyzed\n",
    "\n",
    "print(f\"\\n{picks} most mentioned picks: \")\n",
    "times = []\n",
    "top = []\n",
    "for i in top_picks:\n",
    "    print(f\"{i}: {symbols[i]}\")\n",
    "    times.append(symbols[i])\n",
    "    top.append(f\"{i}: {symbols[i]}\")\n",
    "   \n",
    "    \n",
    "# Applying Sentiment Analysis\n",
    "scores, s = {}, {}\n",
    " \n",
    "vader = SentimentIntensityAnalyzer()\n",
    "# adding custom words from data.py \n",
    "vader.lexicon.update(new_words)\n",
    "\n",
    "picks_sentiment = list(symbols.keys())[0:picks_ayz]\n",
    "\n",
    "\n",
    "for symbol in picks_sentiment:\n",
    "    stock_comments = a_comments[symbol]\n",
    "    for cmnt in stock_comments:\n",
    "        score = vader.polarity_scores(cmnt)\n",
    "        if symbol in s:\n",
    "            s[symbol][cmnt] = score\n",
    "        else:\n",
    "            s[symbol] = {cmnt:score}      \n",
    "        if symbol in scores:\n",
    "            for key, _ in score.items():\n",
    "                scores[symbol][key] += score[key]\n",
    "        else:\n",
    "            scores[symbol] = score\n",
    "            \n",
    "    # calculating avg.\n",
    "    for key in score:\n",
    "        scores[symbol][key] = scores[symbol][key] / symbols[symbol]\n",
    "        scores[symbol][key]  = \"{pol:.3f}\".format(pol=scores[symbol][key])"
   ]
  },
  {
   "cell_type": "code",
   "execution_count": 17,
   "metadata": {
    "ExecuteTime": {
     "end_time": "2021-05-23T11:43:06.865070Z",
     "start_time": "2021-05-23T11:43:06.859615Z"
    }
   },
   "outputs": [],
   "source": [
    "stock_comments = a_comments['TSLA']"
   ]
  },
  {
   "cell_type": "code",
   "execution_count": 20,
   "metadata": {
    "ExecuteTime": {
     "end_time": "2021-05-23T11:46:44.250821Z",
     "start_time": "2021-05-23T11:46:44.187944Z"
    }
   },
   "outputs": [
    {
     "name": "stdout",
     "output_type": "stream",
     "text": [
      "FB {'neg': 0.068, 'neu': 0.741, 'pos': 0.191, 'compound': 0.6312} Can I sue my paid YouTube Technical Analysis expert. He told me not to sell TSLA at $900. I am now bag holding a six figure loss on my shares!  \n",
      "🤕🤕🤕🤕🤕\n",
      "FB {'neg': 0.0, 'neu': 0.631, 'pos': 0.369, 'compound': 0.4442} So TSLA below 600 wasn't a steal! 🤡\n",
      "FB {'neg': 0.0, 'neu': 1.0, 'pos': 0.0, 'compound': 0.0} Where are the TSLA bulls saying its going back to 700 🤡🤡🤡\n",
      "FB {'neg': 0.045, 'neu': 0.747, 'pos': 0.208, 'compound': 0.8979} FB offers you a salary of 100k + 15k sign on bonus (stocks)\n",
      "\n",
      "You accept the offer.\n",
      "\n",
      "1 day later TSLA interviews you and offers you 120k salary + 20k sign on bonus (10k stock and 10k cash)\n",
      "\n",
      "You’ve already accepted a prestigious offer with FB, but now TSLA offers you a better salary and bonus. \n",
      "\n",
      "Do you burn bridges with a FAANG company or stay there and lose on the extra salary\n",
      "FB {'neg': 0.231, 'neu': 0.616, 'pos': 0.154, 'compound': -0.3597} People said the stock split would be bad for TSLA and those people are fucking retarded. I’m about to cop some NVDA calls.\n",
      "FB {'neg': 0.382, 'neu': 0.153, 'pos': 0.466, 'compound': 0.0258} TSLA puts looking pretty good\n",
      "FB {'neg': 0.125, 'neu': 0.542, 'pos': 0.333, 'compound': 0.7184} short TSLA to the moon and back to the black hole \n",
      "\n",
      "ELon u are going down :)\n",
      "FB {'neg': 0.0, 'neu': 0.674, 'pos': 0.326, 'compound': 0.4404} Nvidia is a much better stock than TSLA\n",
      "FB {'neg': 0.0, 'neu': 1.0, 'pos': 0.0, 'compound': 0.0} If TSLA hits $700 next week, I will upload a video to pornhub of me ejaculating onto a printer with Elon's face on it.\n",
      "FB {'neg': 0.112, 'neu': 0.62, 'pos': 0.268, 'compound': 0.9243} Bought TSLA and AMZN calls today because why not... Tax refunds for all the filers on 5/17 are going to come in over the next week or two and stuff will moon.\n",
      "\n",
      "Of course, I always time things wrong, so probably best bet for the rest of you is to buy puts.\n",
      "FB {'neg': 0.0, 'neu': 1.0, 'pos': 0.0, 'compound': 0.0} If TSLA drops 5% Monday, it will be red on the 6 month.\n",
      "FB {'neg': 0.301, 'neu': 0.43, 'pos': 0.269, 'compound': -0.0772} TSLA currently shitting itself like a pro.\n",
      "FB {'neg': 0.0, 'neu': 1.0, 'pos': 0.0, 'compound': 0.0} TSLA was 598 pre market\n",
      "FB {'neg': 0.368, 'neu': 0.538, 'pos': 0.094, 'compound': -0.796} Well TSLA really fucked me today, how will it let it fuck me next week?\n",
      "FB {'neg': 0.0, 'neu': 1.0, 'pos': 0.0, 'compound': 0.0} Go Go TSLA Rangers\n",
      "FB {'neg': 0.0, 'neu': 1.0, 'pos': 0.0, 'compound': 0.0} TSLA probably about to jump $30 any second now.\n",
      "FB {'neg': 0.0, 'neu': 0.892, 'pos': 0.108, 'compound': 0.6369} NVDA up 10% in 2 days. The 4-1 stock split and expected earnings beat next week gonna take us to $800 before the split. Look at TSLA and AAPL last year when they announced split.. TSLA gained 50% that month.. and AAPL gained 30%. Last August\n",
      "FB {'neg': 0.0, 'neu': 0.65, 'pos': 0.35, 'compound': 0.5915} Well my first venture in to TSLA speculating...didn't go so well\n",
      "FB {'neg': 0.071, 'neu': 0.675, 'pos': 0.254, 'compound': 0.7717} [RBLX 80C's up 2300%](https://tinyimg.io/i/iufkYUS.png)\n",
      "\n",
      "no news, just unusual options activity\n",
      "\n",
      "gotta love FD's. i'm flat for now. happy I didn't chase the dragon on TSLA\n",
      "FB {'neg': 0.565, 'neu': 0.435, 'pos': 0.0, 'compound': -0.5994} TSLA TUG OF WAR\n",
      "FB {'neg': 0.0, 'neu': 0.727, 'pos': 0.273, 'compound': 0.4588} TSLA needs to break out of this dogshit range\n",
      "FB {'neg': 0.0, 'neu': 0.706, 'pos': 0.294, 'compound': 0.7184} Holding these 595 call FDs until RH sells them off. TSLA GUH 🥴🥴🥴🥴🥴\n",
      "FB {'neg': 0.39, 'neu': 0.61, 'pos': 0.0, 'compound': -0.4939} TSLA 600c 0DTE... I’m a mad man\n",
      "FB {'neg': 0.2, 'neu': 0.703, 'pos': 0.097, 'compound': -0.9085} This is a public service announcement.\n",
      "\n",
      "Drop your bags, fellas. Put them down, turn around, put that money somewhere it will actually grow, and never look back. I know it hurts and you’ll have to face the fact that yes, you’re a dumb, ignorant, ugly sack of worthless shit for holding on this long and you should have sold earlier, but *it is not too late*. \n",
      "\n",
      "PLTR at 28? Just let it go. GME at 220? Free yourself from this burden. TSLA at 800? It will be okay. PSFE at 16, or CLOV at 12? You can do this guys. It’s never too late to make the right choice.\n",
      "FB {'neg': 0.0, 'neu': 0.486, 'pos': 0.514, 'compound': 0.7424} Salty TSLA bulls should’ve bought F calls!\n",
      "FB {'neg': 0.128, 'neu': 0.617, 'pos': 0.255, 'compound': 0.4767} TSLA bulls sounding salty af atm across discussion boards. Like just be happy for F, ya salty fucks.\n",
      "FB {'neg': 0.32, 'neu': 0.68, 'pos': 0.0, 'compound': -0.5093} TSLA Bulls abandoned by Musk; in \"Udder\" disbelief!\n",
      "FB {'neg': 0.432, 'neu': 0.568, 'pos': 0.0, 'compound': -0.8225} TSLA wtf man, why you going down today, wtf, what the motherfuck\n",
      "FB {'neg': 0.39, 'neu': 0.61, 'pos': 0.0, 'compound': -0.7506} When TSLA breaks 600, the Big Short will be the Big Loser\n",
      "FB {'neg': 0.0, 'neu': 1.0, 'pos': 0.0, 'compound': 0.0} TSLA needs a vibe check fr\n",
      "FB {'neg': 0.0, 'neu': 0.545, 'pos': 0.455, 'compound': 0.7184} TSLA 3HoursTE calls are the only way\n",
      "FB {'neg': 0.225, 'neu': 0.775, 'pos': 0.0, 'compound': -0.2584} It appears TSLA 0DTE was not the play\n",
      "FB {'neg': 0.0, 'neu': 0.45, 'pos': 0.55, 'compound': 0.9217} About to buy TSLA calls. If you wanna make money, just inverse me.\n",
      "FB {'neg': 0.178, 'neu': 0.822, 'pos': 0.0, 'compound': -0.3818} Tesla bulls in shambles. TSLA at it's lowest price since...\n",
      "\n",
      "\\[checks notes\\]\n",
      "\n",
      "Yesterday.\n",
      "FB {'neg': 0.0, 'neu': 1.0, 'pos': 0.0, 'compound': 0.0} TSLA bulls who were waving their cocks around this morning nowhere to be seen now for some reason....\n",
      "FB {'neg': 0.0, 'neu': 1.0, 'pos': 0.0, 'compound': 0.0} TSLA is going to 500\r\n",
      "\r\n",
      "After it splits again\n",
      "FB {'neg': 0.0, 'neu': 1.0, 'pos': 0.0, 'compound': 0.0} TSLA really going to be pinned to the coin price? Burry is just shorting crapto at cheaper price\n",
      "FB {'neg': 0.0, 'neu': 0.75, 'pos': 0.25, 'compound': 0.4588} A week of solid gains spoiled by chasing TSLA weeklies...where have I seen that one before?\n",
      "FB {'neg': 0.0, 'neu': 1.0, 'pos': 0.0, 'compound': 0.0} Day is not over boyz TSLA 600 is not a meme\n",
      "FB {'neg': 0.409, 'neu': 0.472, 'pos': 0.119, 'compound': -0.9092} TSLA you young whore you want to go up so bad your nuts hurt.  Give in and let the warmth wash over you.\n",
      "FB {'neg': 0.0, 'neu': 0.625, 'pos': 0.375, 'compound': 0.4588} cmon TSLA break 590 for me.\n",
      "FB {'neg': 0.458, 'neu': 0.542, 'pos': 0.0, 'compound': -0.8221} holy shit this is fucking retarded, just pick a fucking direction TSLA\n",
      "FB {'neg': 0.5, 'neu': 0.5, 'pos': 0.0, 'compound': -0.7184} I bought TSLA puts because Burry did 😌\n",
      "FB {'neg': 0.0, 'neu': 0.811, 'pos': 0.189, 'compound': 0.2732} Why does TSLA only do well when I don't own it?\n",
      "FB {'neg': 0.0, 'neu': 0.527, 'pos': 0.473, 'compound': 0.8738} What happened to the TSLA calls at open crew? Ya'll rich yet?\n",
      "FB {'neg': 0.556, 'neu': 0.444, 'pos': 0.0, 'compound': -0.7184} TSLA $550 puts locked in\n",
      "FB {'neg': 0.0, 'neu': 0.877, 'pos': 0.123, 'compound': 0.2732} The year is 2035, $F buys $TSLA for $20b to create a low-end line of Ford products.\n",
      "FB {'neg': 0.284, 'neu': 0.623, 'pos': 0.093, 'compound': -0.6705} Is there a mental illness that causes people to have an uncontrollable desire to short $TSLA and $MSTR? I think I might have contracted it\n",
      "FB {'neg': 0.352, 'neu': 0.648, 'pos': 0.0, 'compound': -0.5859} TSLA 630 next week wtf do yall think\n",
      "FB {'neg': 0.286, 'neu': 0.433, 'pos': 0.281, 'compound': -0.0155} Imagine not buying TSLA calls on Wednesday lmao\n",
      "FB {'neg': 0.0, 'neu': 1.0, 'pos': 0.0, 'compound': 0.0} imagine being a $TSLA 🌈ber at the bottom 🤡\n",
      "FB {'neg': 0.0, 'neu': 1.0, 'pos': 0.0, 'compound': 0.0} Imagine living in the 90’s and thinking that the Segway was going to change the world. \n",
      "\n",
      "That’s TSLA bulls rn\n",
      "FB {'neg': 0.0, 'neu': 0.588, 'pos': 0.412, 'compound': 0.7906} TSLA is doing the thing, boyz\n",
      "\n",
      "Last chance to buy under 600\n",
      "FB {'neg': 0.0, 'neu': 0.712, 'pos': 0.288, 'compound': 0.4278} ༼ つ ◕\\_◕ ༽つ TSLA TAKE MY ENERGY ༼ つ ◕\\_◕ ༽つ\n",
      "FB {'neg': 0.0, 'neu': 1.0, 'pos': 0.0, 'compound': 0.0} Holding TSLA can really take years off your life.\n",
      "FB {'neg': 0.0, 'neu': 0.668, 'pos': 0.332, 'compound': 0.6083} NICE TRY TSLA BEARS!!! I HAVE BUTTCHEEKS MADE OF ADAMANTIUM!\n",
      "FB {'neg': 0.183, 'neu': 0.61, 'pos': 0.207, 'compound': -0.128} TSLA either giving you a chance to hop in the run or letting you die in a hole\n",
      "FB {'neg': 0.0, 'neu': 1.0, 'pos': 0.0, 'compound': 0.0} Plug TSLA in to a charger STAT\n",
      "FB {'neg': 0.0, 'neu': 0.82, 'pos': 0.18, 'compound': 0.296} What happened to TSLA and AMZN after their share splits?\n",
      "\n",
      "#NVDA 🚀\n",
      "FB {'neg': 0.0, 'neu': 1.0, 'pos': 0.0, 'compound': 0.0} TSLA bulls in disbelief again\n",
      "FB {'neg': 0.0, 'neu': 1.0, 'pos': 0.0, 'compound': 0.0} Keep drilling TSLA 🤪\n",
      "FB {'neg': 0.0, 'neu': 0.722, 'pos': 0.278, 'compound': 0.7184} biggest red dildos ever on AMZN FB GOOG AAPL TSLA why is SPY mooning\n",
      "FB {'neg': 0.335, 'neu': 0.565, 'pos': 0.1, 'compound': -0.7506} Should I sell my TSLA 5/28 $500p today for heavy losses or pray it drops next week?\n",
      "FB {'neg': 0.0, 'neu': 1.0, 'pos': 0.0, 'compound': 0.0} Any time TSLA gets near 600 it drills back to 560 it seems\n",
      "FB {'neg': 0.0, 'neu': 1.0, 'pos': 0.0, 'compound': 0.0} TSLA wyd\n",
      "FB {'neg': 0.0, 'neu': 0.597, 'pos': 0.403, 'compound': 0.6597} Anyone care to join me on TSLA 760c 5/28 lottos\n",
      "FB {'neg': 0.149, 'neu': 0.851, 'pos': 0.0, 'compound': -0.2732} Bank of America has cut its $TSLA price target from $900 to $700\n",
      "FB {'neg': 0.179, 'neu': 0.58, 'pos': 0.242, 'compound': 0.3182} NVIDIA and TSLA calls today it is, boy am I gonna make retarded moves today\n",
      "FB {'neg': 0.0, 'neu': 0.419, 'pos': 0.581, 'compound': 0.6322} TSLA rocket or submarine???????\n",
      "FB {'neg': 0.231, 'neu': 0.543, 'pos': 0.226, 'compound': 0.2263} I feel bad for all the people that miss out on the 0DTE TSLA calls today\n",
      "FB {'neg': 0.224, 'neu': 0.606, 'pos': 0.17, 'compound': -0.2263} One of those retarded 5%+ days from TSLA would be nice today\n",
      "FB {'neg': 0.0, 'neu': 0.299, 'pos': 0.701, 'compound': 0.6908} TSLA is bullish\n",
      "FB {'neg': 0.0, 'neu': 1.0, 'pos': 0.0, 'compound': 0.0} We flying today BA ✈️ ,  TSLA 🚗 next week\n",
      "FB {'neg': 0.485, 'neu': 0.515, 'pos': 0.0, 'compound': -0.886} Get fucked TSLA bears. Stock falls $200 and people still buying puts 🤡\n",
      "FB {'neg': 0.313, 'neu': 0.687, 'pos': 0.0, 'compound': -0.8074} Looking forward to the loss porn from all those $TSLA puts we were seeing earlier in the week.\n",
      "FB {'neg': 0.0, 'neu': 1.0, 'pos': 0.0, 'compound': 0.0} Cathy and Elon buying $TSLA as a team today.\n",
      "FB {'neg': 0.0, 'neu': 1.0, 'pos': 0.0, 'compound': 0.0} Too late to chase TSLA at open?\n",
      "FB {'neg': 0.0, 'neu': 1.0, 'pos': 0.0, 'compound': 0.0} TSLA 630 EOD\n",
      "FB {'neg': 0.0, 'neu': 1.0, 'pos': 0.0, 'compound': 0.0} TLRY up more than TSLA\n",
      "FB {'neg': 0.198, 'neu': 0.45, 'pos': 0.351, 'compound': 0.4019} All the TSLA bears are masochists lmao\n",
      "FB {'neg': 0.0, 'neu': 0.8, 'pos': 0.2, 'compound': 0.3612} TSLA 600c fd yesterday was so juicy \n",
      "\n",
      "4-5 bagger ez today\n",
      "FB {'neg': 0.228, 'neu': 0.724, 'pos': 0.048, 'compound': -0.8796} TSLA bears in shambles. All the idiotic burry fanboys copying his trades are about to get a one way ticket to pound town. You are not michael burry. Please add your name to the list of clowns and hedge funds (a group of clowns) that have gone bankrupt by tesla short positions.\n",
      "FB {'neg': 0.15, 'neu': 0.5, 'pos': 0.35, 'compound': 0.5574} Damn do I want to throw everything into TSLA 0DTE calls at open\n",
      "FB {'neg': 0.0, 'neu': 0.73, 'pos': 0.27, 'compound': 0.5859} SPY and TSLA certainly getting me excited. Something about counting chicken before they hatch tho.\n",
      "FB {'neg': 0.211, 'neu': 0.789, 'pos': 0.0, 'compound': -0.802} Bought 10 TSLA 585 Cs expiring today yesterday on the dip. Will probably sell at 9:33 peek fomo time and roll them out before the morning selling pressure builds.\n",
      "FB {'neg': 0.0, 'neu': 1.0, 'pos': 0.0, 'compound': 0.0} I’m buying TSLA today if you’re buying TSLA today 🤡\n",
      "FB {'neg': 0.0, 'neu': 0.375, 'pos': 0.625, 'compound': 0.7184} FOMO into TSLA calls?\n",
      "FB {'neg': 0.0, 'neu': 0.345, 'pos': 0.655, 'compound': 0.9231} TSLA 600 calls print. But I hope rainbow bears make money too.\n"
     ]
    },
    {
     "data": {
      "text/plain": [
       "'\\n        if symbol in s:\\n            s[symbol][cmnt] = score\\n        else:\\n            s[symbol] = {cmnt:score}      \\n        if symbol in scores:\\n            for key, _ in score.items():\\n                scores[symbol][key] += score[key]\\n        else:\\n            scores[symbol] = score\\n'"
      ]
     },
     "execution_count": 20,
     "metadata": {},
     "output_type": "execute_result"
    }
   ],
   "source": [
    "for cmnt in stock_comments:\n",
    "        score = vader.polarity_scores(cmnt)\n",
    "        print(i, score, cmnt)\n",
    "'''\n",
    "        if symbol in s:\n",
    "            s[symbol][cmnt] = score\n",
    "        else:\n",
    "            s[symbol] = {cmnt:score}      \n",
    "        if symbol in scores:\n",
    "            for key, _ in score.items():\n",
    "                scores[symbol][key] += score[key]\n",
    "        else:\n",
    "            scores[symbol] = score\n",
    "'''        "
   ]
  },
  {
   "cell_type": "code",
   "execution_count": 9,
   "metadata": {
    "ExecuteTime": {
     "end_time": "2021-05-23T09:27:41.522034Z",
     "start_time": "2021-05-23T09:27:38.120257Z"
    }
   },
   "outputs": [
    {
     "name": "stdout",
     "output_type": "stream",
     "text": [
      "\n",
      "Sentiment analysis of top 5 picks:\n",
      "     Bearish Neutral Bullish Total/Compound\n",
      "TSLA   0.117   0.720   0.163          0.071\n",
      "F      0.174   0.606   0.179          0.074\n",
      "NVDA   0.104   0.726   0.170          0.136\n",
      "AAPL   0.133   0.670   0.197          0.227\n",
      "AMD    0.102   0.720   0.179          0.166\n"
     ]
    },
    {
     "data": {
      "image/png": "[encoded data removed]",
      "text/plain": [
       "<Figure size 432x288 with 1 Axes>"
      ]
     },
     "metadata": {
      "needs_background": "light"
     },
     "output_type": "display_data"
    },
    {
     "data": {
      "image/png": "[encoded data removed]",
      "text/plain": [
       "<Figure size 432x288 with 1 Axes>"
      ]
     },
     "metadata": {
      "needs_background": "light"
     },
     "output_type": "display_data"
    }
   ],
   "source": [
    "# printing sentiment analysis \n",
    "print(f\"\\nSentiment analysis of top {picks_ayz} picks:\")\n",
    "df = pd.DataFrame(scores)\n",
    "df.index = ['Bearish', 'Neutral', 'Bullish', 'Total/Compound']\n",
    "df = df.T\n",
    "print(df)\n",
    "\n",
    "# Date Visualization\n",
    "# most mentioned picks    \n",
    "squarify.plot(sizes=times, label=top, alpha=.7 )\n",
    "plt.axis('off')\n",
    "plt.title(f\"{picks} most mentioned picks\")\n",
    "plt.show()\n",
    "\n",
    "# Sentiment analysis\n",
    "df = df.astype(float)\n",
    "colors = ['red', 'springgreen', 'forestgreen', 'coral']\n",
    "df.plot(kind = 'bar', color=colors, title=f\"Sentiment analysis of top {picks_ayz} picks:\")\n",
    "plt.show()"
   ]
  }
 ],
 "metadata": {
  "kernelspec": {
   "display_name": "Python 3",
   "language": "python",
   "name": "python3"
  },
  "language_info": {
   "codemirror_mode": {
    "name": "ipython",
    "version": 3
   },
   "file_extension": ".py",
   "mimetype": "text/x-python",
   "name": "python",
   "nbconvert_exporter": "python",
   "pygments_lexer": "ipython3",
   "version": "3.7.4"
  },
  "toc": {
   "base_numbering": 1,
   "nav_menu": {},
   "number_sections": true,
   "sideBar": true,
   "skip_h1_title": false,
   "title_cell": "Table of Contents",
   "title_sidebar": "Contents",
   "toc_cell": false,
   "toc_position": {},
   "toc_section_display": true,
   "toc_window_display": false
  }
 },
 "nbformat": 4,
 "nbformat_minor": 2
}
