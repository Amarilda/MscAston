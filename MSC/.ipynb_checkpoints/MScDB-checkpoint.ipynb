{
 "cells": [
  {
   "cell_type": "code",
   "execution_count": 1,
   "metadata": {
    "ExecuteTime": {
     "end_time": "2021-05-20T09:48:03.033976Z",
     "start_time": "2021-05-20T09:48:02.365218Z"
    }
   },
   "outputs": [],
   "source": [
    "import sqlite3\n",
    "import pandas as pd"
   ]
  },
  {
   "cell_type": "code",
   "execution_count": 2,
   "metadata": {
    "ExecuteTime": {
     "end_time": "2021-05-20T09:48:03.045252Z",
     "start_time": "2021-05-20T09:48:03.037723Z"
    }
   },
   "outputs": [],
   "source": [
    "connection = sqlite3.connect(\"MSC.db\")\n",
    "cursor = connection.cursor()"
   ]
  },
  {
   "cell_type": "markdown",
   "metadata": {},
   "source": [
    "## List all the tables"
   ]
  },
  {
   "cell_type": "code",
   "execution_count": null,
   "metadata": {
    "ExecuteTime": {
     "end_time": "2021-05-18T11:51:19.763091Z",
     "start_time": "2021-05-18T11:51:19.731864Z"
    }
   },
   "outputs": [],
   "source": [
    "connection = sqlite3.connect(\"MSC.db\")\n",
    "cursor = connection.cursor()\n",
    "\n",
    "def tables_in_sqlite_db(conn):\n",
    "    cursor = conn.execute(\"SELECT name FROM sqlite_master WHERE type='table';\")\n",
    "    tables = [\n",
    "        v[0] for v in cursor.fetchall()\n",
    "        if v[0] != \"sqlite_sequence\"\n",
    "    ]\n",
    "    cursor.close()\n",
    "    return tables\n",
    "\n",
    "tables = tables_in_sqlite_db(connection)\n",
    "for i in tables:\n",
    "    print(i)"
   ]
  },
  {
   "cell_type": "code",
   "execution_count": 30,
   "metadata": {
    "ExecuteTime": {
     "end_time": "2021-05-19T07:29:05.651627Z",
     "start_time": "2021-05-19T07:29:05.636175Z"
    }
   },
   "outputs": [],
   "source": [
    "connection = sqlite3.connect('MSC.db')\n",
    "cursor = connection.cursor()\n",
    "sql = (\"Select * from SP500_companies \")\n",
    "df = pd.read_sql_query(sql,connection)"
   ]
  },
  {
   "cell_type": "code",
   "execution_count": 82,
   "metadata": {
    "ExecuteTime": {
     "end_time": "2021-05-19T08:06:35.993103Z",
     "start_time": "2021-05-19T08:06:35.970162Z"
    }
   },
   "outputs": [
    {
     "data": {
      "text/html": [
       "<div>\n",
       "<style scoped>\n",
       "    .dataframe tbody tr th:only-of-type {\n",
       "        vertical-align: middle;\n",
       "    }\n",
       "\n",
       "    .dataframe tbody tr th {\n",
       "        vertical-align: top;\n",
       "    }\n",
       "\n",
       "    .dataframe thead th {\n",
       "        text-align: right;\n",
       "    }\n",
       "</style>\n",
       "<table border=\"1\" class=\"dataframe\">\n",
       "  <thead>\n",
       "    <tr style=\"text-align: right;\">\n",
       "      <th></th>\n",
       "      <th>Company</th>\n",
       "      <th>Symbol</th>\n",
       "      <th>Weight</th>\n",
       "    </tr>\n",
       "  </thead>\n",
       "  <tbody>\n",
       "    <tr>\n",
       "      <th>449</th>\n",
       "      <td>Henry Schein Inc.</td>\n",
       "      <td>HSIC</td>\n",
       "      <td>0.032787</td>\n",
       "    </tr>\n",
       "  </tbody>\n",
       "</table>\n",
       "</div>"
      ],
      "text/plain": [
       "               Company Symbol    Weight\n",
       "449  Henry Schein Inc.   HSIC  0.032787"
      ]
     },
     "execution_count": 82,
     "metadata": {},
     "output_type": "execute_result"
    }
   ],
   "source": [
    "df[df.Symbol == \"HSIC\"]"
   ]
  },
  {
   "cell_type": "code",
   "execution_count": 62,
   "metadata": {
    "ExecuteTime": {
     "end_time": "2021-05-19T07:48:07.184207Z",
     "start_time": "2021-05-19T07:48:07.165088Z"
    }
   },
   "outputs": [
    {
     "data": {
      "text/html": [
       "<div>\n",
       "<style scoped>\n",
       "    .dataframe tbody tr th:only-of-type {\n",
       "        vertical-align: middle;\n",
       "    }\n",
       "\n",
       "    .dataframe tbody tr th {\n",
       "        vertical-align: top;\n",
       "    }\n",
       "\n",
       "    .dataframe thead th {\n",
       "        text-align: right;\n",
       "    }\n",
       "</style>\n",
       "<table border=\"1\" class=\"dataframe\">\n",
       "  <thead>\n",
       "    <tr style=\"text-align: right;\">\n",
       "      <th></th>\n",
       "      <th>Company</th>\n",
       "      <th>Symbol</th>\n",
       "      <th>Weight</th>\n",
       "    </tr>\n",
       "  </thead>\n",
       "  <tbody>\n",
       "    <tr>\n",
       "      <th>193</th>\n",
       "      <td>Marathon Petroleum Corporation</td>\n",
       "      <td>MPC</td>\n",
       "      <td>0.110018</td>\n",
       "    </tr>\n",
       "    <tr>\n",
       "      <th>194</th>\n",
       "      <td>Microchip Technology Incorporated</td>\n",
       "      <td>MCHP</td>\n",
       "      <td>0.109975</td>\n",
       "    </tr>\n",
       "    <tr>\n",
       "      <th>195</th>\n",
       "      <td>Alexion Pharmaceuticals Inc.</td>\n",
       "      <td>ALXN</td>\n",
       "      <td>0.109500</td>\n",
       "    </tr>\n",
       "    <tr>\n",
       "      <th>196</th>\n",
       "      <td>MSCI Inc. Class A</td>\n",
       "      <td>MSCI</td>\n",
       "      <td>0.109434</td>\n",
       "    </tr>\n",
       "    <tr>\n",
       "      <th>197</th>\n",
       "      <td>eBay Inc.</td>\n",
       "      <td>EBAY</td>\n",
       "      <td>0.109125</td>\n",
       "    </tr>\n",
       "    <tr>\n",
       "      <th>...</th>\n",
       "      <td>...</td>\n",
       "      <td>...</td>\n",
       "      <td>...</td>\n",
       "    </tr>\n",
       "    <tr>\n",
       "      <th>503</th>\n",
       "      <td>Under Armour Inc. Class A</td>\n",
       "      <td>UAA</td>\n",
       "      <td>0.011972</td>\n",
       "    </tr>\n",
       "    <tr>\n",
       "      <th>504</th>\n",
       "      <td>Under Armour Inc. Class C</td>\n",
       "      <td>UA</td>\n",
       "      <td>0.010361</td>\n",
       "    </tr>\n",
       "    <tr>\n",
       "      <th>505</th>\n",
       "      <td>News Corporation Class B</td>\n",
       "      <td>NWS</td>\n",
       "      <td>0.008590</td>\n",
       "    </tr>\n",
       "    <tr>\n",
       "      <th>506</th>\n",
       "      <td>S&amp;P 500</td>\n",
       "      <td>^GSPC</td>\n",
       "      <td>100.000000</td>\n",
       "    </tr>\n",
       "    <tr>\n",
       "      <th>507</th>\n",
       "      <td>Dow Jones Industrial Average</td>\n",
       "      <td>^DJI</td>\n",
       "      <td>100.000000</td>\n",
       "    </tr>\n",
       "  </tbody>\n",
       "</table>\n",
       "<p>315 rows × 3 columns</p>\n",
       "</div>"
      ],
      "text/plain": [
       "                               Company Symbol      Weight\n",
       "193     Marathon Petroleum Corporation    MPC    0.110018\n",
       "194  Microchip Technology Incorporated   MCHP    0.109975\n",
       "195       Alexion Pharmaceuticals Inc.   ALXN    0.109500\n",
       "196                  MSCI Inc. Class A   MSCI    0.109434\n",
       "197                          eBay Inc.   EBAY    0.109125\n",
       "..                                 ...    ...         ...\n",
       "503          Under Armour Inc. Class A    UAA    0.011972\n",
       "504          Under Armour Inc. Class C     UA    0.010361\n",
       "505           News Corporation Class B    NWS    0.008590\n",
       "506                            S&P 500  ^GSPC  100.000000\n",
       "507       Dow Jones Industrial Average   ^DJI  100.000000\n",
       "\n",
       "[315 rows x 3 columns]"
      ]
     },
     "execution_count": 62,
     "metadata": {},
     "output_type": "execute_result"
    }
   ],
   "source": [
    "df[193:]"
   ]
  },
  {
   "cell_type": "code",
   "execution_count": 28,
   "metadata": {
    "ExecuteTime": {
     "end_time": "2021-05-20T09:10:45.766644Z",
     "start_time": "2021-05-20T09:10:45.704182Z"
    }
   },
   "outputs": [
    {
     "name": "stdout",
     "output_type": "stream",
     "text": [
      "(2, 8)\n"
     ]
    },
    {
     "data": {
      "text/html": [
       "<div>\n",
       "<style scoped>\n",
       "    .dataframe tbody tr th:only-of-type {\n",
       "        vertical-align: middle;\n",
       "    }\n",
       "\n",
       "    .dataframe tbody tr th {\n",
       "        vertical-align: top;\n",
       "    }\n",
       "\n",
       "    .dataframe thead th {\n",
       "        text-align: right;\n",
       "    }\n",
       "</style>\n",
       "<table border=\"1\" class=\"dataframe\">\n",
       "  <thead>\n",
       "    <tr style=\"text-align: right;\">\n",
       "      <th></th>\n",
       "      <th>date</th>\n",
       "      <th>open</th>\n",
       "      <th>high</th>\n",
       "      <th>low</th>\n",
       "      <th>close</th>\n",
       "      <th>adj_close</th>\n",
       "      <th>volume</th>\n",
       "      <th>symbol</th>\n",
       "    </tr>\n",
       "  </thead>\n",
       "  <tbody>\n",
       "    <tr>\n",
       "      <th>0</th>\n",
       "      <td>2021-05-19 00:00:00</td>\n",
       "      <td>123.16</td>\n",
       "      <td>124.92</td>\n",
       "      <td>122.86</td>\n",
       "      <td>124.69</td>\n",
       "      <td>124.69</td>\n",
       "      <td>92,499,900</td>\n",
       "      <td>AAPL</td>\n",
       "    </tr>\n",
       "    <tr>\n",
       "      <th>1</th>\n",
       "      <td>2021-05-19 00:00:00</td>\n",
       "      <td>239.31</td>\n",
       "      <td>243.23</td>\n",
       "      <td>238.60</td>\n",
       "      <td>243.12</td>\n",
       "      <td>243.12</td>\n",
       "      <td>25,723,300</td>\n",
       "      <td>MSFT</td>\n",
       "    </tr>\n",
       "  </tbody>\n",
       "</table>\n",
       "</div>"
      ],
      "text/plain": [
       "                  date    open    high     low   close adj_close      volume  \\\n",
       "0  2021-05-19 00:00:00  123.16  124.92  122.86  124.69    124.69  92,499,900   \n",
       "1  2021-05-19 00:00:00  239.31  243.23  238.60  243.12    243.12  25,723,300   \n",
       "\n",
       "  symbol  \n",
       "0   AAPL  \n",
       "1   MSFT  "
      ]
     },
     "execution_count": 28,
     "metadata": {},
     "output_type": "execute_result"
    }
   ],
   "source": [
    "connection = sqlite3.connect('MSC.db')\n",
    "cursor = connection.cursor()\n",
    "sql = (''' select * from prices \n",
    "where date == \"2021-05-19 00:00:00\"\n",
    "\n",
    "''')\n",
    "price = pd.read_sql_query(sql,connection)\n",
    "print(price.shape)\n",
    "price.head()"
   ]
  },
  {
   "cell_type": "markdown",
   "metadata": {
    "ExecuteTime": {
     "end_time": "2021-05-19T07:49:01.660010Z",
     "start_time": "2021-05-19T07:49:01.636616Z"
    }
   },
   "source": [
    "price"
   ]
  },
  {
   "cell_type": "code",
   "execution_count": 15,
   "metadata": {
    "ExecuteTime": {
     "end_time": "2021-05-20T08:07:48.568310Z",
     "start_time": "2021-05-20T08:07:48.555033Z"
    }
   },
   "outputs": [
    {
     "data": {
      "text/html": [
       "<div>\n",
       "<style scoped>\n",
       "    .dataframe tbody tr th:only-of-type {\n",
       "        vertical-align: middle;\n",
       "    }\n",
       "\n",
       "    .dataframe tbody tr th {\n",
       "        vertical-align: top;\n",
       "    }\n",
       "\n",
       "    .dataframe thead th {\n",
       "        text-align: right;\n",
       "    }\n",
       "</style>\n",
       "<table border=\"1\" class=\"dataframe\">\n",
       "  <thead>\n",
       "    <tr style=\"text-align: right;\">\n",
       "      <th></th>\n",
       "      <th>date</th>\n",
       "      <th>open</th>\n",
       "      <th>high</th>\n",
       "      <th>low</th>\n",
       "      <th>close</th>\n",
       "      <th>adj_close</th>\n",
       "      <th>volume</th>\n",
       "      <th>symbol</th>\n",
       "    </tr>\n",
       "  </thead>\n",
       "  <tbody>\n",
       "  </tbody>\n",
       "</table>\n",
       "</div>"
      ],
      "text/plain": [
       "Empty DataFrame\n",
       "Columns: [date, open, high, low, close, adj_close, volume, symbol]\n",
       "Index: []"
      ]
     },
     "execution_count": 15,
     "metadata": {},
     "output_type": "execute_result"
    }
   ],
   "source": [
    "price[price.open == \"Stock Split\"]"
   ]
  },
  {
   "cell_type": "code",
   "execution_count": 14,
   "metadata": {
    "ExecuteTime": {
     "end_time": "2021-05-20T08:07:46.755423Z",
     "start_time": "2021-05-20T08:07:46.741707Z"
    }
   },
   "outputs": [
    {
     "data": {
      "text/html": [
       "<div>\n",
       "<style scoped>\n",
       "    .dataframe tbody tr th:only-of-type {\n",
       "        vertical-align: middle;\n",
       "    }\n",
       "\n",
       "    .dataframe tbody tr th {\n",
       "        vertical-align: top;\n",
       "    }\n",
       "\n",
       "    .dataframe thead th {\n",
       "        text-align: right;\n",
       "    }\n",
       "</style>\n",
       "<table border=\"1\" class=\"dataframe\">\n",
       "  <thead>\n",
       "    <tr style=\"text-align: right;\">\n",
       "      <th></th>\n",
       "      <th>date</th>\n",
       "      <th>open</th>\n",
       "      <th>high</th>\n",
       "      <th>low</th>\n",
       "      <th>close</th>\n",
       "      <th>adj_close</th>\n",
       "      <th>volume</th>\n",
       "      <th>symbol</th>\n",
       "    </tr>\n",
       "  </thead>\n",
       "  <tbody>\n",
       "  </tbody>\n",
       "</table>\n",
       "</div>"
      ],
      "text/plain": [
       "Empty DataFrame\n",
       "Columns: [date, open, high, low, close, adj_close, volume, symbol]\n",
       "Index: []"
      ]
     },
     "execution_count": 14,
     "metadata": {},
     "output_type": "execute_result"
    }
   ],
   "source": [
    "price[price.open == \"Dividend\"]"
   ]
  },
  {
   "cell_type": "code",
   "execution_count": 84,
   "metadata": {
    "ExecuteTime": {
     "end_time": "2021-05-19T08:08:03.148579Z",
     "start_time": "2021-05-19T08:08:03.126632Z"
    }
   },
   "outputs": [],
   "source": [
    "## Delete\n",
    "\n",
    "connection = sqlite3.connect('MSC.db') \n",
    "cursor = connection.cursor() \n",
    "sql = (\"delete from prices where open = 'Dividend'\") \n",
    "cursor.execute(sql) \n",
    "connection.commit()"
   ]
  },
  {
   "cell_type": "code",
   "execution_count": 4,
   "metadata": {
    "ExecuteTime": {
     "end_time": "2021-05-20T09:48:20.945462Z",
     "start_time": "2021-05-20T09:48:20.669241Z"
    }
   },
   "outputs": [
    {
     "name": "stdout",
     "output_type": "stream",
     "text": [
      "(10, 4)\n"
     ]
    },
    {
     "data": {
      "text/html": [
       "<div>\n",
       "<style scoped>\n",
       "    .dataframe tbody tr th:only-of-type {\n",
       "        vertical-align: middle;\n",
       "    }\n",
       "\n",
       "    .dataframe tbody tr th {\n",
       "        vertical-align: top;\n",
       "    }\n",
       "\n",
       "    .dataframe thead th {\n",
       "        text-align: right;\n",
       "    }\n",
       "</style>\n",
       "<table border=\"1\" class=\"dataframe\">\n",
       "  <thead>\n",
       "    <tr style=\"text-align: right;\">\n",
       "      <th></th>\n",
       "      <th>symbol</th>\n",
       "      <th>date</th>\n",
       "      <th>count</th>\n",
       "      <th>AM</th>\n",
       "    </tr>\n",
       "  </thead>\n",
       "  <tbody>\n",
       "    <tr>\n",
       "      <th>0</th>\n",
       "      <td>KHC</td>\n",
       "      <td>2021-05-19 00:00:00</td>\n",
       "      <td>2</td>\n",
       "      <td>1</td>\n",
       "    </tr>\n",
       "    <tr>\n",
       "      <th>1</th>\n",
       "      <td>KHC</td>\n",
       "      <td>2021-05-19 00:00:00</td>\n",
       "      <td>2</td>\n",
       "      <td>2</td>\n",
       "    </tr>\n",
       "    <tr>\n",
       "      <th>2</th>\n",
       "      <td>KSU</td>\n",
       "      <td>2021-05-19 00:00:00</td>\n",
       "      <td>2</td>\n",
       "      <td>1</td>\n",
       "    </tr>\n",
       "    <tr>\n",
       "      <th>3</th>\n",
       "      <td>KSU</td>\n",
       "      <td>2021-05-19 00:00:00</td>\n",
       "      <td>2</td>\n",
       "      <td>2</td>\n",
       "    </tr>\n",
       "    <tr>\n",
       "      <th>4</th>\n",
       "      <td>LYB</td>\n",
       "      <td>2021-05-19 00:00:00</td>\n",
       "      <td>2</td>\n",
       "      <td>1</td>\n",
       "    </tr>\n",
       "  </tbody>\n",
       "</table>\n",
       "</div>"
      ],
      "text/plain": [
       "  symbol                 date  count  AM\n",
       "0    KHC  2021-05-19 00:00:00      2   1\n",
       "1    KHC  2021-05-19 00:00:00      2   2\n",
       "2    KSU  2021-05-19 00:00:00      2   1\n",
       "3    KSU  2021-05-19 00:00:00      2   2\n",
       "4    LYB  2021-05-19 00:00:00      2   1"
      ]
     },
     "execution_count": 4,
     "metadata": {},
     "output_type": "execute_result"
    }
   ],
   "source": [
    "## Duplicates\n",
    "\n",
    "connection = sqlite3.connect('MSC.db')\n",
    "cursor = connection.cursor()\n",
    "sql = ('''select symbol, date, XX as count, AM \n",
    "from (Select symbol, date, COUNT(symbol) OVER(PARTITION BY symbol, date) as XX ,ROW_NUMBER() OVER(PARTITION BY symbol, date) as AM from prices) where XX > 1''')\n",
    "df = pd.read_sql_query(sql,connection)\n",
    "print(df.shape)\n",
    "df.head()"
   ]
  },
  {
   "cell_type": "code",
   "execution_count": 25,
   "metadata": {
    "ExecuteTime": {
     "end_time": "2021-05-20T09:06:44.054271Z",
     "start_time": "2021-05-20T09:06:44.007526Z"
    }
   },
   "outputs": [
    {
     "name": "stdout",
     "output_type": "stream",
     "text": [
      "(101, 9)\n"
     ]
    },
    {
     "data": {
      "text/html": [
       "<div>\n",
       "<style scoped>\n",
       "    .dataframe tbody tr th:only-of-type {\n",
       "        vertical-align: middle;\n",
       "    }\n",
       "\n",
       "    .dataframe tbody tr th {\n",
       "        vertical-align: top;\n",
       "    }\n",
       "\n",
       "    .dataframe thead th {\n",
       "        text-align: right;\n",
       "    }\n",
       "</style>\n",
       "<table border=\"1\" class=\"dataframe\">\n",
       "  <thead>\n",
       "    <tr style=\"text-align: right;\">\n",
       "      <th></th>\n",
       "      <th>date(date)</th>\n",
       "      <th>date</th>\n",
       "      <th>open</th>\n",
       "      <th>high</th>\n",
       "      <th>low</th>\n",
       "      <th>close</th>\n",
       "      <th>adj_close</th>\n",
       "      <th>volume</th>\n",
       "      <th>symbol</th>\n",
       "    </tr>\n",
       "  </thead>\n",
       "  <tbody>\n",
       "    <tr>\n",
       "      <th>0</th>\n",
       "      <td>2021-05-19</td>\n",
       "      <td>2021-05-19 00:00:00</td>\n",
       "      <td>123.16</td>\n",
       "      <td>124.92</td>\n",
       "      <td>122.86</td>\n",
       "      <td>124.69</td>\n",
       "      <td>124.69</td>\n",
       "      <td>92,499,900</td>\n",
       "      <td>AAPL</td>\n",
       "    </tr>\n",
       "    <tr>\n",
       "      <th>1</th>\n",
       "      <td>2021-05-18</td>\n",
       "      <td>2021-05-18 00:00:00</td>\n",
       "      <td>126.56</td>\n",
       "      <td>126.99</td>\n",
       "      <td>124.78</td>\n",
       "      <td>124.85</td>\n",
       "      <td>124.85</td>\n",
       "      <td>63,130,600</td>\n",
       "      <td>AAPL</td>\n",
       "    </tr>\n",
       "    <tr>\n",
       "      <th>2</th>\n",
       "      <td>2021-05-17</td>\n",
       "      <td>2021-05-17 00:00:00</td>\n",
       "      <td>126.82</td>\n",
       "      <td>126.93</td>\n",
       "      <td>125.17</td>\n",
       "      <td>126.27</td>\n",
       "      <td>126.27</td>\n",
       "      <td>74,163,100</td>\n",
       "      <td>AAPL</td>\n",
       "    </tr>\n",
       "    <tr>\n",
       "      <th>3</th>\n",
       "      <td>2021-05-14</td>\n",
       "      <td>2021-05-14 00:00:00</td>\n",
       "      <td>126.25</td>\n",
       "      <td>127.89</td>\n",
       "      <td>125.85</td>\n",
       "      <td>127.45</td>\n",
       "      <td>127.45</td>\n",
       "      <td>81,806,500</td>\n",
       "      <td>AAPL</td>\n",
       "    </tr>\n",
       "    <tr>\n",
       "      <th>4</th>\n",
       "      <td>2021-05-13</td>\n",
       "      <td>2021-05-13 00:00:00</td>\n",
       "      <td>124.58</td>\n",
       "      <td>126.15</td>\n",
       "      <td>124.26</td>\n",
       "      <td>124.97</td>\n",
       "      <td>124.97</td>\n",
       "      <td>105,861,300</td>\n",
       "      <td>AAPL</td>\n",
       "    </tr>\n",
       "  </tbody>\n",
       "</table>\n",
       "</div>"
      ],
      "text/plain": [
       "   date(date)                 date    open    high     low   close adj_close  \\\n",
       "0  2021-05-19  2021-05-19 00:00:00  123.16  124.92  122.86  124.69    124.69   \n",
       "1  2021-05-18  2021-05-18 00:00:00  126.56  126.99  124.78  124.85    124.85   \n",
       "2  2021-05-17  2021-05-17 00:00:00  126.82  126.93  125.17  126.27    126.27   \n",
       "3  2021-05-14  2021-05-14 00:00:00  126.25  127.89  125.85  127.45    127.45   \n",
       "4  2021-05-13  2021-05-13 00:00:00  124.58  126.15  124.26  124.97    124.97   \n",
       "\n",
       "        volume symbol  \n",
       "0   92,499,900   AAPL  \n",
       "1   63,130,600   AAPL  \n",
       "2   74,163,100   AAPL  \n",
       "3   81,806,500   AAPL  \n",
       "4  105,861,300   AAPL  "
      ]
     },
     "execution_count": 25,
     "metadata": {},
     "output_type": "execute_result"
    }
   ],
   "source": [
    "connection = sqlite3.connect('MSC.db')\n",
    "cursor = connection.cursor()\n",
    "sql = (''' select date(date), * from prices \n",
    "where symbol = \"AAPL\"\n",
    "order by date desc\n",
    "\n",
    "''')\n",
    "price = pd.read_sql_query(sql,connection)\n",
    "print(price.shape)\n",
    "price.head()"
   ]
  },
  {
   "cell_type": "markdown",
   "metadata": {
    "ExecuteTime": {
     "end_time": "2021-05-18T11:51:09.460609Z",
     "start_time": "2021-05-18T11:51:09.148463Z"
    }
   },
   "source": [
    "## DF to SQL \n",
    "\n",
    "connection = sqlite3.connect('MSC.db')\n",
    "cursor = connection.cursor()\n",
    "df_distinct.to_sql('prices', connection, index = False)\n",
    "connection.commit()\n",
    "connection.close()"
   ]
  },
  {
   "cell_type": "code",
   "execution_count": 64,
   "metadata": {
    "ExecuteTime": {
     "end_time": "2021-05-19T07:48:54.000378Z",
     "start_time": "2021-05-19T07:48:53.978431Z"
    }
   },
   "outputs": [],
   "source": []
  },
  {
   "cell_type": "code",
   "execution_count": null,
   "metadata": {
    "ExecuteTime": {
     "end_time": "2021-05-18T10:47:47.132927Z",
     "start_time": "2021-05-18T10:47:47.105941Z"
    }
   },
   "outputs": [],
   "source": [
    "connection = sqlite3.connect('MSC.db')\n",
    "cursor = connection.cursor()\n",
    "sql = (\"Select symbol from SP500_companies where symbol not in (select distinct symbol from prices where date == '2021-05-17 00:00:00')\")\n",
    "df = pd.read_sql_query(sql,connection)\n",
    "df"
   ]
  },
  {
   "cell_type": "markdown",
   "metadata": {
    "ExecuteTime": {
     "end_time": "2021-05-18T11:48:09.680826Z",
     "start_time": "2021-05-18T11:48:09.400257Z"
    },
    "heading_collapsed": true
   },
   "source": [
    "## Drop table\n",
    "\n",
    "#https://www.sqlite.org/datatype3.html\n",
    "cursor.executescript(\"DROP TABLE IF EXISTS prices\")"
   ]
  },
  {
   "cell_type": "code",
   "execution_count": null,
   "metadata": {
    "ExecuteTime": {
     "end_time": "2021-04-26T10:47:57.491705Z",
     "start_time": "2021-04-26T10:47:57.221413Z"
    },
    "hidden": true
   },
   "outputs": [],
   "source": [
    "connection = sqlite3.connect(\"MSC.db\")\n",
    "cursor = connection.cursor()\n",
    "\n",
    "sql = ('Select date(moment) as date, * from ER20202021')\n",
    "z =pd.read_sql_query(sql,connection)\n",
    "z.shape"
   ]
  },
  {
   "cell_type": "markdown",
   "metadata": {
    "ExecuteTime": {
     "end_time": "2021-03-09T11:28:45.077103Z",
     "start_time": "2021-03-09T11:28:44.775421Z"
    },
    "heading_collapsed": true
   },
   "source": [
    "## Alter\n",
    "\n",
    "connection = sqlite3.connect(\"MSC.db\")\n",
    "cursor = connection.cursor()\n",
    "\n",
    "sql = ('ALTER TABLE top30 RENAME COLUMN date TO Date')\n",
    "pd.read_sql_query(sql,connection)\n"
   ]
  },
  {
   "cell_type": "code",
   "execution_count": null,
   "metadata": {
    "ExecuteTime": {
     "end_time": "2021-03-10T15:20:15.721667Z",
     "start_time": "2021-03-10T15:20:15.612893Z"
    },
    "hidden": true
   },
   "outputs": [],
   "source": [
    "#Transfer to main folder\n",
    "import shutil\n",
    "newPath = shutil.copy('MSC.db', '/Users/Edite')"
   ]
  }
 ],
 "metadata": {
  "kernelspec": {
   "display_name": "Python 3",
   "language": "python",
   "name": "python3"
  },
  "language_info": {
   "codemirror_mode": {
    "name": "ipython",
    "version": 3
   },
   "file_extension": ".py",
   "mimetype": "text/x-python",
   "name": "python",
   "nbconvert_exporter": "python",
   "pygments_lexer": "ipython3",
   "version": "3.7.4"
  },
  "toc": {
   "base_numbering": 1,
   "nav_menu": {},
   "number_sections": true,
   "sideBar": true,
   "skip_h1_title": false,
   "title_cell": "Table of Contents",
   "title_sidebar": "Contents",
   "toc_cell": false,
   "toc_position": {},
   "toc_section_display": true,
   "toc_window_display": true
  }
 },
 "nbformat": 4,
 "nbformat_minor": 2
}
