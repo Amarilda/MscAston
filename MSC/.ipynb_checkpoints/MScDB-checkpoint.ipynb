{
 "cells": [
  {
   "cell_type": "code",
   "execution_count": 1,
   "metadata": {
    "ExecuteTime": {
     "end_time": "2021-03-08T15:12:11.374931Z",
     "start_time": "2021-03-08T15:12:02.508041Z"
    }
   },
   "outputs": [],
   "source": [
    "import sqlite3\n",
    "import pandas as pd"
   ]
  },
  {
   "cell_type": "code",
   "execution_count": 64,
   "metadata": {
    "ExecuteTime": {
     "end_time": "2021-03-08T17:55:52.270909Z",
     "start_time": "2021-03-08T17:55:52.265003Z"
    }
   },
   "outputs": [],
   "source": [
    "connection = sqlite3.connect(\"MSC.db\")\n",
    "cursor = connection.cursor()"
   ]
  },
  {
   "cell_type": "code",
   "execution_count": 9,
   "metadata": {
    "ExecuteTime": {
     "end_time": "2021-03-08T15:30:28.405334Z",
     "start_time": "2021-03-08T15:30:28.397705Z"
    }
   },
   "outputs": [
    {
     "data": {
      "text/plain": [
       "<sqlite3.Cursor at 0x7ffedb581ea0>"
      ]
     },
     "execution_count": 9,
     "metadata": {},
     "output_type": "execute_result"
    }
   ],
   "source": [
    "#https://www.sqlite.org/datatype3.html\n",
    "cursor.executescript(\"DROP TABLE IF EXISTS top30\")"
   ]
  },
  {
   "cell_type": "code",
   "execution_count": 65,
   "metadata": {
    "ExecuteTime": {
     "end_time": "2021-03-08T17:56:13.902828Z",
     "start_time": "2021-03-08T17:56:13.863127Z"
    }
   },
   "outputs": [
    {
     "data": {
      "text/plain": [
       "<sqlite3.Cursor at 0x7ffedc7f8b20>"
      ]
     },
     "execution_count": 65,
     "metadata": {},
     "output_type": "execute_result"
    }
   ],
   "source": [
    "cursor.execute('''CREATE TABLE top30 (\n",
    "date REAL\n",
    ",daily_rank INTEGER\n",
    ",comment_limit INTEGER\n",
    ",comment_sort TEXT\n",
    ",_reddit TEXT\n",
    ",approved_at_utc TEXT\n",
    ",subreddit TEXT\n",
    ",selftext TEXT\n",
    ",author_fullname TEXT\n",
    ",saved TEXT\n",
    ",mod_reason_title TEXT\n",
    ",gilded INTEGER\n",
    ",clicked TEXT\n",
    ",title TEXT\n",
    ",link_flair_richtext BLOB\n",
    ",subreddit_name_prefixed TEXT\n",
    ",hidden TEXT\n",
    ",pwls INTEGER\n",
    ",link_flair_css_class TEXT\n",
    ",downs INTEGER\n",
    ",top_awarded_type TEXT\n",
    ",hide_score TEXT\n",
    ",name TEXT\n",
    ",quarantine TEXT\n",
    ",link_flair_text_color TEXT\n",
    ",upvote_ratio REAL\n",
    ",author_flair_background_color TEXT\n",
    ",subreddit_type TEXT\n",
    ",ups INTEGER\n",
    ",total_awards_received INTEGER\n",
    ",media_embed BLOB\n",
    ",author_flair_template_id TEXT\n",
    ",is_original_content TEXT\n",
    ",user_reports BLOB\n",
    ",secure_media TEXT\n",
    ",is_reddit_media_domain TEXT\n",
    ",is_meta TEXT\n",
    ",category TEXT\n",
    ",secure_media_embed BLOB\n",
    ",link_flair_text TEXT\n",
    ",can_mod_post TEXT\n",
    ",score INTEGER\n",
    ",approved_by TEXT\n",
    ",author_premium TEXT\n",
    ",thumbnail TEXT\n",
    ",edited TEXT\n",
    ",author_flair_css_class TEXT\n",
    ",author_flair_richtext BLOB\n",
    ",gildings BLOB\n",
    ",content_categories TEXT\n",
    ",is_self TEXT\n",
    ",mod_note TEXT\n",
    ",created REAL\n",
    ",link_flair_type TEXT\n",
    ",wls INTEGER\n",
    ",removed_by_category TEXT\n",
    ",banned_by TEXT\n",
    ",author_flair_type TEXT\n",
    ",domain TEXT\n",
    ",allow_live_comments TEXT\n",
    ",selftext_html TEXT\n",
    ",likes TEXT\n",
    ",suggested_sort TEXT\n",
    ",banned_at_utc TEXT\n",
    ",url_overridden_by_dest TEXT\n",
    ",view_count TEXT\n",
    ",archived TEXT\n",
    ",no_follow TEXT\n",
    ",is_crosspostable TEXT\n",
    ",pinned TEXT\n",
    ",over_18 TEXT\n",
    ",all_awardings BLOB\n",
    ",awarders BLOB\n",
    ",media_only TEXT\n",
    ",can_gild TEXT\n",
    ",spoiler TEXT\n",
    ",locked TEXT\n",
    ",author_flair_text TEXT\n",
    ",treatment_tags BLOB\n",
    ",visited TEXT\n",
    ",removed_by TEXT\n",
    ",num_reports TEXT\n",
    ",distinguished TEXT\n",
    ",subreddit_id TEXT\n",
    ",mod_reason_by TEXT\n",
    ",removal_reason TEXT\n",
    ",link_flair_background_color TEXT\n",
    ",id TEXT\n",
    ",is_robot_indexable TEXT\n",
    ",report_reasons TEXT\n",
    ",author TEXT\n",
    ",discussion_type TEXT\n",
    ",num_comments INTEGER\n",
    ",send_replies TEXT\n",
    ",whitelist_status TEXT\n",
    ",contest_mode TEXT\n",
    ",mod_reports BLOB\n",
    ",author_patreon_flair TEXT\n",
    ",author_flair_text_color TEXT\n",
    ",permalink TEXT\n",
    ",parent_whitelist_status TEXT\n",
    ",stickied TEXT\n",
    ",url TEXT\n",
    ",subreddit_subscribers INTEGER\n",
    ",created_utc REAL\n",
    ",num_crossposts INTEGER\n",
    ",media TEXT\n",
    ",is_video TEXT\n",
    ",_fetched TEXT\n",
    ",_comments_by_id BLOB)''')\n"
   ]
  },
  {
   "cell_type": "code",
   "execution_count": 4,
   "metadata": {
    "ExecuteTime": {
     "end_time": "2021-03-08T15:13:13.620158Z",
     "start_time": "2021-03-08T15:13:13.608832Z"
    }
   },
   "outputs": [],
   "source": [
    "kolonas = ['date','daily_rank','comment_limit','comment_sort','_reddit','approved_at_utc','subreddit','selftext','author_fullname'\n",
    "      ,'saved','mod_reason_title','gilded','clicked','title','link_flair_richtext','subreddit_name_prefixed'\n",
    "      ,'hidden','pwls','link_flair_css_class','downs','top_awarded_type','hide_score','name','quarantine'\n",
    "      ,'link_flair_text_color','upvote_ratio','author_flair_background_color','subreddit_type','ups'\n",
    "      ,'total_awards_received','media_embed','author_flair_template_id','is_original_content','user_reports'\n",
    "      ,'secure_media','is_reddit_media_domain','is_meta','category','secure_media_embed','link_flair_text'\n",
    "      ,'can_mod_post','score','approved_by','author_premium','thumbnail','edited','author_flair_css_class'\n",
    "      ,'author_flair_richtext','gildings','content_categories','is_self','mod_note','created','link_flair_type'\n",
    "      ,'wls','removed_by_category','banned_by','author_flair_type','domain','allow_live_comments','selftext_html'\n",
    "      ,'likes','suggested_sort','banned_at_utc','url_overridden_by_dest','view_count','archived','no_follow'\n",
    "      ,'is_crosspostable','pinned','over_18','all_awardings','awarders','media_only','can_gild','spoiler','locked'\n",
    "      ,'author_flair_text','treatment_tags','visited','removed_by','num_reports','distinguished','subreddit_id'\n",
    "      ,'mod_reason_by','removal_reason','link_flair_background_color','id','is_robot_indexable','report_reasons'\n",
    "      ,'author','discussion_type','num_comments','send_replies','whitelist_status','contest_mode','mod_reports'\n",
    "      ,'author_patreon_flair','author_flair_text_color','permalink','parent_whitelist_status','stickied','url'\n",
    "      ,'subreddit_subscribers','created_utc','num_crossposts','media','is_video','_fetched','_comments_by_id']"
   ]
  },
  {
   "cell_type": "code",
   "execution_count": 5,
   "metadata": {
    "ExecuteTime": {
     "end_time": "2021-03-08T15:13:24.396024Z",
     "start_time": "2021-03-08T15:13:24.372200Z"
    }
   },
   "outputs": [],
   "source": [
    "df = pd.DataFrame(columns = kolonas)"
   ]
  },
  {
   "cell_type": "markdown",
   "metadata": {
    "ExecuteTime": {
     "end_time": "2021-03-08T17:42:04.301679Z",
     "start_time": "2021-03-08T17:42:04.273329Z"
    }
   },
   "source": [
    "df2 = pd.DataFrame(columns = ['name'])\n",
    "df3 = pd.read_excel('/Users/Edite/df3.xlsx', usecols =['datatype'])\n",
    "pd.merge(df2, df3, left_index=True, right_index=True)\n",
    "df4['Sql'] = \",\"+df4['name']+\" \"+df4['datatype']"
   ]
  },
  {
   "cell_type": "code",
   "execution_count": 70,
   "metadata": {
    "ExecuteTime": {
     "end_time": "2021-03-08T17:57:48.564283Z",
     "start_time": "2021-03-08T17:57:48.553950Z"
    }
   },
   "outputs": [
    {
     "data": {
      "text/plain": [
       "'/Users/Edite/Documents/GitHub/MscAston/MSC'"
      ]
     },
     "execution_count": 70,
     "metadata": {},
     "output_type": "execute_result"
    }
   ],
   "source": [
    "pwd"
   ]
  },
  {
   "cell_type": "code",
   "execution_count": null,
   "metadata": {},
   "outputs": [],
   "source": []
  }
 ],
 "metadata": {
  "kernelspec": {
   "display_name": "Python 3",
   "language": "python",
   "name": "python3"
  },
  "language_info": {
   "codemirror_mode": {
    "name": "ipython",
    "version": 3
   },
   "file_extension": ".py",
   "mimetype": "text/x-python",
   "name": "python",
   "nbconvert_exporter": "python",
   "pygments_lexer": "ipython3",
   "version": "3.7.4"
  },
  "toc": {
   "base_numbering": 1,
   "nav_menu": {},
   "number_sections": true,
   "sideBar": true,
   "skip_h1_title": false,
   "title_cell": "Table of Contents",
   "title_sidebar": "Contents",
   "toc_cell": false,
   "toc_position": {},
   "toc_section_display": true,
   "toc_window_display": false
  }
 },
 "nbformat": 4,
 "nbformat_minor": 2
}
