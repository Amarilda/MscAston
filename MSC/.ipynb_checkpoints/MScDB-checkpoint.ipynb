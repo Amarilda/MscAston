{
 "cells": [
  {
   "cell_type": "code",
   "execution_count": 1,
   "metadata": {
    "ExecuteTime": {
     "end_time": "2021-03-09T18:24:57.872951Z",
     "start_time": "2021-03-09T18:24:51.039947Z"
    }
   },
   "outputs": [],
   "source": [
    "import sqlite3\n",
    "import pandas as pd"
   ]
  },
  {
   "cell_type": "code",
   "execution_count": 2,
   "metadata": {
    "ExecuteTime": {
     "end_time": "2021-03-09T18:24:57.923176Z",
     "start_time": "2021-03-09T18:24:57.875894Z"
    }
   },
   "outputs": [],
   "source": [
    "connection = sqlite3.connect(\"MSC.db\")\n",
    "cursor = connection.cursor()"
   ]
  },
  {
   "cell_type": "code",
   "execution_count": 12,
   "metadata": {
    "ExecuteTime": {
     "end_time": "2021-03-09T18:29:56.891123Z",
     "start_time": "2021-03-09T18:29:56.883255Z"
    }
   },
   "outputs": [
    {
     "name": "stdout",
     "output_type": "stream",
     "text": [
      "['top30']\n"
     ]
    }
   ],
   "source": [
    "def tables_in_sqlite_db(conn):\n",
    "    cursor = conn.execute(\"SELECT name FROM sqlite_master WHERE type='table';\")\n",
    "    tables = [\n",
    "        v[0] for v in cursor.fetchall()\n",
    "        if v[0] != \"sqlite_sequence\"\n",
    "    ]\n",
    "    cursor.close()\n",
    "    return tables\n",
    "\n",
    "tables = tables_in_sqlite_db(connection)\n",
    "print(tables)"
   ]
  },
  {
   "cell_type": "markdown",
   "metadata": {
    "ExecuteTime": {
     "end_time": "2021-03-09T18:24:58.171839Z",
     "start_time": "2021-03-09T18:24:57.930268Z"
    }
   },
   "source": [
    "#https://www.sqlite.org/datatype3.html\n",
    "cursor.executescript(\"DROP TABLE IF EXISTS top30\")"
   ]
  },
  {
   "cell_type": "markdown",
   "metadata": {
    "ExecuteTime": {
     "end_time": "2021-03-08T17:56:13.902828Z",
     "start_time": "2021-03-08T17:56:13.863127Z"
    }
   },
   "source": [
    "cursor.execute('''CREATE TABLE top30 (\n",
    "date REAL\n",
    ",daily_rank INTEGER\n",
    ",comment_limit INTEGER\n",
    ",comment_sort TEXT\n",
    ",_reddit TEXT\n",
    ",approved_at_utc TEXT\n",
    ",subreddit TEXT\n",
    ",selftext TEXT\n",
    ",author_fullname TEXT\n",
    ",saved TEXT\n",
    ",mod_reason_title TEXT\n",
    ",gilded INTEGER\n",
    ",clicked TEXT\n",
    ",title TEXT\n",
    ",link_flair_richtext BLOB\n",
    ",subreddit_name_prefixed TEXT\n",
    ",hidden TEXT\n",
    ",pwls INTEGER\n",
    ",link_flair_css_class TEXT\n",
    ",downs INTEGER\n",
    ",top_awarded_type TEXT\n",
    ",hide_score TEXT\n",
    ",name TEXT\n",
    ",quarantine TEXT\n",
    ",link_flair_text_color TEXT\n",
    ",upvote_ratio REAL\n",
    ",author_flair_background_color TEXT\n",
    ",subreddit_type TEXT\n",
    ",ups INTEGER\n",
    ",total_awards_received INTEGER\n",
    ",media_embed BLOB\n",
    ",author_flair_template_id TEXT\n",
    ",is_original_content TEXT\n",
    ",user_reports BLOB\n",
    ",secure_media TEXT\n",
    ",is_reddit_media_domain TEXT\n",
    ",is_meta TEXT\n",
    ",category TEXT\n",
    ",secure_media_embed BLOB\n",
    ",link_flair_text TEXT\n",
    ",can_mod_post TEXT\n",
    ",score INTEGER\n",
    ",approved_by TEXT\n",
    ",author_premium TEXT\n",
    ",thumbnail TEXT\n",
    ",edited TEXT\n",
    ",author_flair_css_class TEXT\n",
    ",author_flair_richtext BLOB\n",
    ",gildings BLOB\n",
    ",content_categories TEXT\n",
    ",is_self TEXT\n",
    ",mod_note TEXT\n",
    ",created REAL\n",
    ",link_flair_type TEXT\n",
    ",wls INTEGER\n",
    ",removed_by_category TEXT\n",
    ",banned_by TEXT\n",
    ",author_flair_type TEXT\n",
    ",domain TEXT\n",
    ",allow_live_comments TEXT\n",
    ",selftext_html TEXT\n",
    ",likes TEXT\n",
    ",suggested_sort TEXT\n",
    ",banned_at_utc TEXT\n",
    ",url_overridden_by_dest TEXT\n",
    ",view_count TEXT\n",
    ",archived TEXT\n",
    ",no_follow TEXT\n",
    ",is_crosspostable TEXT\n",
    ",pinned TEXT\n",
    ",over_18 TEXT\n",
    ",all_awardings BLOB\n",
    ",awarders BLOB\n",
    ",media_only TEXT\n",
    ",can_gild TEXT\n",
    ",spoiler TEXT\n",
    ",locked TEXT\n",
    ",author_flair_text TEXT\n",
    ",treatment_tags BLOB\n",
    ",visited TEXT\n",
    ",removed_by TEXT\n",
    ",num_reports TEXT\n",
    ",distinguished TEXT\n",
    ",subreddit_id TEXT\n",
    ",mod_reason_by TEXT\n",
    ",removal_reason TEXT\n",
    ",link_flair_background_color TEXT\n",
    ",id TEXT\n",
    ",is_robot_indexable TEXT\n",
    ",report_reasons TEXT\n",
    ",author TEXT\n",
    ",discussion_type TEXT\n",
    ",num_comments INTEGER\n",
    ",send_replies TEXT\n",
    ",whitelist_status TEXT\n",
    ",contest_mode TEXT\n",
    ",mod_reports BLOB\n",
    ",author_patreon_flair TEXT\n",
    ",author_flair_text_color TEXT\n",
    ",permalink TEXT\n",
    ",parent_whitelist_status TEXT\n",
    ",stickied TEXT\n",
    ",url TEXT\n",
    ",subreddit_subscribers INTEGER\n",
    ",created_utc REAL\n",
    ",num_crossposts INTEGER\n",
    ",media TEXT\n",
    ",is_video TEXT\n",
    ",_fetched TEXT\n",
    ",_comments_by_id BLOB)''')\n"
   ]
  },
  {
   "cell_type": "code",
   "execution_count": 4,
   "metadata": {
    "ExecuteTime": {
     "end_time": "2021-03-09T18:27:04.056081Z",
     "start_time": "2021-03-09T18:27:04.016296Z"
    }
   },
   "outputs": [
    {
     "data": {
      "text/plain": [
       "<sqlite3.Cursor at 0x7f8910ef8e30>"
      ]
     },
     "execution_count": 4,
     "metadata": {},
     "output_type": "execute_result"
    }
   ],
   "source": [
    "cursor.execute('''CREATE TABLE top30 (\n",
    "moment TEXT\n",
    ",daily_rank INTEGER\n",
    ",comment_limit INTEGER\n",
    ",comment_sort TEXT\n",
    ",_reddit TEXT\n",
    ",approved_at_utc TEXT\n",
    ",subreddit TEXT\n",
    ",selftext TEXT\n",
    ",author_fullname TEXT\n",
    ",saved TEXT\n",
    ",mod_reason_title TEXT\n",
    ",gilded INTEGER\n",
    ",clicked TEXT\n",
    ",title TEXT\n",
    ",link_flair_richtext TEXT\n",
    ",subreddit_name_prefixed TEXT\n",
    ",hidden TEXT\n",
    ",pwls INTEGER\n",
    ",link_flair_css_class TEXT\n",
    ",downs INTEGER\n",
    ",top_awarded_type TEXT\n",
    ",hide_score TEXT\n",
    ",name TEXT\n",
    ",quarantine TEXT\n",
    ",link_flair_text_color TEXT\n",
    ",upvote_ratio REAL\n",
    ",author_flair_background_color TEXT\n",
    ",subreddit_type TEXT\n",
    ",ups INTEGER\n",
    ",total_awards_received INTEGER\n",
    ",media_embed TEXT\n",
    ",author_flair_template_id TEXT\n",
    ",is_original_content TEXT\n",
    ",user_reports TEXT\n",
    ",secure_media TEXT\n",
    ",is_reddit_media_domain TEXT\n",
    ",is_meta TEXT\n",
    ",category TEXT\n",
    ",secure_media_embed TEXT\n",
    ",link_flair_text TEXT\n",
    ",can_mod_post TEXT\n",
    ",score INTEGER\n",
    ",approved_by TEXT\n",
    ",author_premium TEXT\n",
    ",thumbnail TEXT\n",
    ",edited TEXT\n",
    ",author_flair_css_class TEXT\n",
    ",author_flair_richtext TEXT\n",
    ",gildings TEXT\n",
    ",content_categories TEXT\n",
    ",is_self TEXT\n",
    ",mod_note TEXT\n",
    ",created REAL\n",
    ",link_flair_type TEXT\n",
    ",wls INTEGER\n",
    ",removed_by_category TEXT\n",
    ",banned_by TEXT\n",
    ",author_flair_type TEXT\n",
    ",domain TEXT\n",
    ",allow_live_comments TEXT\n",
    ",selftext_html TEXT\n",
    ",likes TEXT\n",
    ",suggested_sort TEXT\n",
    ",banned_at_utc TEXT\n",
    ",url_overridden_by_dest TEXT\n",
    ",view_count TEXT\n",
    ",archived TEXT\n",
    ",no_follow TEXT\n",
    ",is_crosspostable TEXT\n",
    ",pinned TEXT\n",
    ",over_18 TEXT\n",
    ",all_awardings TEXT\n",
    ",awarders TEXT\n",
    ",media_only TEXT\n",
    ",can_gild TEXT\n",
    ",spoiler TEXT\n",
    ",locked TEXT\n",
    ",author_flair_text TEXT\n",
    ",treatment_tags TEXT\n",
    ",visited TEXT\n",
    ",removed_by TEXT\n",
    ",num_reports TEXT\n",
    ",distinguished TEXT\n",
    ",subreddit_id TEXT\n",
    ",mod_reason_by TEXT\n",
    ",removal_reason TEXT\n",
    ",link_flair_background_color TEXT\n",
    ",id TEXT\n",
    ",is_robot_indexable TEXT\n",
    ",report_reasons TEXT\n",
    ",author TEXT\n",
    ",discussion_type TEXT\n",
    ",num_comments INTEGER\n",
    ",send_replies TEXT\n",
    ",whitelist_status TEXT\n",
    ",contest_mode TEXT\n",
    ",mod_reports TEXT\n",
    ",author_patreon_flair TEXT\n",
    ",author_flair_text_color TEXT\n",
    ",permalink TEXT\n",
    ",parent_whitelist_status TEXT\n",
    ",stickied TEXT\n",
    ",url TEXT\n",
    ",subreddit_subscribers INTEGER\n",
    ",created_utc REAL\n",
    ",num_crossposts INTEGER\n",
    ",media TEXT\n",
    ",is_video TEXT\n",
    ",_fetched TEXT\n",
    ",_comments_by_id TEXT\n",
    ", _comments TEXT,\n",
    " 'author_cakeday' TEXT,\n",
    " 'flair' TEXT,\n",
    " 'link_flair_template_id' TEXT,\n",
    " 'num_duplicates' TEXT,\n",
    " 'post_hint' TEXT,\n",
    " 'preview' TEXT,\n",
    " 'thumbnail_height' TEXT,\n",
    " 'thumbnail_width' TEXT\n",
    ")''')"
   ]
  },
  {
   "cell_type": "code",
   "execution_count": 13,
   "metadata": {
    "ExecuteTime": {
     "end_time": "2021-03-09T18:30:33.973332Z",
     "start_time": "2021-03-09T18:30:33.935234Z"
    }
   },
   "outputs": [
    {
     "data": {
      "text/html": [
       "<div>\n",
       "<style scoped>\n",
       "    .dataframe tbody tr th:only-of-type {\n",
       "        vertical-align: middle;\n",
       "    }\n",
       "\n",
       "    .dataframe tbody tr th {\n",
       "        vertical-align: top;\n",
       "    }\n",
       "\n",
       "    .dataframe thead th {\n",
       "        text-align: right;\n",
       "    }\n",
       "</style>\n",
       "<table border=\"1\" class=\"dataframe\">\n",
       "  <thead>\n",
       "    <tr style=\"text-align: right;\">\n",
       "      <th></th>\n",
       "      <th>moment</th>\n",
       "      <th>daily_rank</th>\n",
       "      <th>comment_limit</th>\n",
       "      <th>comment_sort</th>\n",
       "      <th>_reddit</th>\n",
       "      <th>approved_at_utc</th>\n",
       "      <th>subreddit</th>\n",
       "      <th>selftext</th>\n",
       "      <th>author_fullname</th>\n",
       "      <th>saved</th>\n",
       "      <th>...</th>\n",
       "      <th>_comments_by_id</th>\n",
       "      <th>_comments</th>\n",
       "      <th>author_cakeday</th>\n",
       "      <th>flair</th>\n",
       "      <th>link_flair_template_id</th>\n",
       "      <th>num_duplicates</th>\n",
       "      <th>post_hint</th>\n",
       "      <th>preview</th>\n",
       "      <th>thumbnail_height</th>\n",
       "      <th>thumbnail_width</th>\n",
       "    </tr>\n",
       "  </thead>\n",
       "  <tbody>\n",
       "  </tbody>\n",
       "</table>\n",
       "<p>0 rows × 119 columns</p>\n",
       "</div>"
      ],
      "text/plain": [
       "Empty DataFrame\n",
       "Columns: [moment, daily_rank, comment_limit, comment_sort, _reddit, approved_at_utc, subreddit, selftext, author_fullname, saved, mod_reason_title, gilded, clicked, title, link_flair_richtext, subreddit_name_prefixed, hidden, pwls, link_flair_css_class, downs, top_awarded_type, hide_score, name, quarantine, link_flair_text_color, upvote_ratio, author_flair_background_color, subreddit_type, ups, total_awards_received, media_embed, author_flair_template_id, is_original_content, user_reports, secure_media, is_reddit_media_domain, is_meta, category, secure_media_embed, link_flair_text, can_mod_post, score, approved_by, author_premium, thumbnail, edited, author_flair_css_class, author_flair_richtext, gildings, content_categories, is_self, mod_note, created, link_flair_type, wls, removed_by_category, banned_by, author_flair_type, domain, allow_live_comments, selftext_html, likes, suggested_sort, banned_at_utc, url_overridden_by_dest, view_count, archived, no_follow, is_crosspostable, pinned, over_18, all_awardings, awarders, media_only, can_gild, spoiler, locked, author_flair_text, treatment_tags, visited, removed_by, num_reports, distinguished, subreddit_id, mod_reason_by, removal_reason, link_flair_background_color, id, is_robot_indexable, report_reasons, author, discussion_type, num_comments, send_replies, whitelist_status, contest_mode, mod_reports, author_patreon_flair, author_flair_text_color, permalink, ...]\n",
       "Index: []\n",
       "\n",
       "[0 rows x 119 columns]"
      ]
     },
     "execution_count": 13,
     "metadata": {},
     "output_type": "execute_result"
    }
   ],
   "source": [
    "connection = sqlite3.connect(\"MSC.db\")\n",
    "cursor = connection.cursor()\n",
    "\n",
    "sql = ('Select * from top30')\n",
    "pd.read_sql_query(sql,connection)"
   ]
  },
  {
   "cell_type": "markdown",
   "metadata": {
    "ExecuteTime": {
     "end_time": "2021-03-09T11:28:45.077103Z",
     "start_time": "2021-03-09T11:28:44.775421Z"
    }
   },
   "source": [
    "connection = sqlite3.connect(\"MSC.db\")\n",
    "cursor = connection.cursor()\n",
    "\n",
    "sql = ('ALTER TABLE top30 RENAME COLUMN date TO Date')\n",
    "pd.read_sql_query(sql,connection)\n"
   ]
  },
  {
   "cell_type": "code",
   "execution_count": 11,
   "metadata": {
    "ExecuteTime": {
     "end_time": "2021-03-09T18:29:40.168656Z",
     "start_time": "2021-03-09T18:29:40.050478Z"
    }
   },
   "outputs": [],
   "source": [
    "#Transfer to main folder\n",
    "import shutil\n",
    "newPath = shutil.copy('MSC.db', '/Users/Edite')"
   ]
  }
 ],
 "metadata": {
  "kernelspec": {
   "display_name": "Python 3",
   "language": "python",
   "name": "python3"
  },
  "language_info": {
   "codemirror_mode": {
    "name": "ipython",
    "version": 3
   },
   "file_extension": ".py",
   "mimetype": "text/x-python",
   "name": "python",
   "nbconvert_exporter": "python",
   "pygments_lexer": "ipython3",
   "version": "3.7.4"
  },
  "toc": {
   "base_numbering": 1,
   "nav_menu": {},
   "number_sections": true,
   "sideBar": true,
   "skip_h1_title": false,
   "title_cell": "Table of Contents",
   "title_sidebar": "Contents",
   "toc_cell": false,
   "toc_position": {},
   "toc_section_display": true,
   "toc_window_display": false
  }
 },
 "nbformat": 4,
 "nbformat_minor": 2
}
