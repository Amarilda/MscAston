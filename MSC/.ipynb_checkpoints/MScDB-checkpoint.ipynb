{
 "cells": [
  {
   "cell_type": "code",
   "execution_count": 1,
   "metadata": {
    "ExecuteTime": {
     "end_time": "2021-05-18T08:27:13.734661Z",
     "start_time": "2021-05-18T08:27:05.848930Z"
    }
   },
   "outputs": [],
   "source": [
    "import sqlite3\n",
    "import pandas as pd"
   ]
  },
  {
   "cell_type": "code",
   "execution_count": null,
   "metadata": {
    "ExecuteTime": {
     "end_time": "2021-05-18T08:26:44.128778Z",
     "start_time": "2021-05-18T08:26:44.122218Z"
    }
   },
   "outputs": [],
   "source": [
    "connection = sqlite3.connect(\"MSC.db\")\n",
    "cursor = connection.cursor()"
   ]
  },
  {
   "cell_type": "code",
   "execution_count": null,
   "metadata": {
    "ExecuteTime": {
     "end_time": "2021-05-18T07:29:50.874725Z",
     "start_time": "2021-05-18T07:29:50.059459Z"
    }
   },
   "outputs": [],
   "source": [
    "def tables_in_sqlite_db(conn):\n",
    "    cursor = conn.execute(\"SELECT name FROM sqlite_master WHERE type='table';\")\n",
    "    tables = [\n",
    "        v[0] for v in cursor.fetchall()\n",
    "        if v[0] != \"sqlite_sequence\"\n",
    "    ]\n",
    "    cursor.close()\n",
    "    return tables\n",
    "\n",
    "tables = tables_in_sqlite_db(connection)\n",
    "for i in tables:\n",
    "    print(i)"
   ]
  },
  {
   "cell_type": "code",
   "execution_count": null,
   "metadata": {
    "ExecuteTime": {
     "end_time": "2021-05-18T08:04:43.823429Z",
     "start_time": "2021-05-18T08:04:43.697112Z"
    }
   },
   "outputs": [],
   "source": [
    "connection = sqlite3.connect('MSC.db')\n",
    "cursor = connection.cursor()\n",
    "sql = (\"Select * from SP500_companies\")\n",
    "df = pd.read_sql_query(sql,connection)\n",
    "df[40:][:10]"
   ]
  },
  {
   "cell_type": "code",
   "execution_count": null,
   "metadata": {
    "ExecuteTime": {
     "end_time": "2021-05-18T08:16:59.192511Z",
     "start_time": "2021-05-18T08:16:59.186205Z"
    }
   },
   "outputs": [],
   "source": [
    "i = 'IT'\n",
    "date = '1621209600'\n",
    "print(f'https://finance.yahoo.com/quote/{i}/history?p={i}')\n",
    "print(f'https://finance.yahoo.com/quote/{i}/history?period1={date}&period2={date}&interval=1d&filter=history&frequency=1d&includeAdjustedClose=true')"
   ]
  },
  {
   "cell_type": "code",
   "execution_count": 3,
   "metadata": {
    "ExecuteTime": {
     "end_time": "2021-05-18T08:27:20.456451Z",
     "start_time": "2021-05-18T08:27:19.127665Z"
    }
   },
   "outputs": [
    {
     "data": {
      "text/html": [
       "<div>\n",
       "<style scoped>\n",
       "    .dataframe tbody tr th:only-of-type {\n",
       "        vertical-align: middle;\n",
       "    }\n",
       "\n",
       "    .dataframe tbody tr th {\n",
       "        vertical-align: top;\n",
       "    }\n",
       "\n",
       "    .dataframe thead th {\n",
       "        text-align: right;\n",
       "    }\n",
       "</style>\n",
       "<table border=\"1\" class=\"dataframe\">\n",
       "  <thead>\n",
       "    <tr style=\"text-align: right;\">\n",
       "      <th></th>\n",
       "      <th>date</th>\n",
       "      <th>open</th>\n",
       "      <th>high</th>\n",
       "      <th>low</th>\n",
       "      <th>close</th>\n",
       "      <th>adj_close</th>\n",
       "      <th>volume</th>\n",
       "      <th>symbol</th>\n",
       "    </tr>\n",
       "  </thead>\n",
       "  <tbody>\n",
       "    <tr>\n",
       "      <th>49997</th>\n",
       "      <td>2020-12-28 00:00:00</td>\n",
       "      <td>30,283.23</td>\n",
       "      <td>30,525.56</td>\n",
       "      <td>30,283.23</td>\n",
       "      <td>30,403.97</td>\n",
       "      <td>30,403.97</td>\n",
       "      <td>302,490,000</td>\n",
       "      <td>^DJI</td>\n",
       "    </tr>\n",
       "    <tr>\n",
       "      <th>49998</th>\n",
       "      <td>2020-12-24 00:00:00</td>\n",
       "      <td>30,155.92</td>\n",
       "      <td>30,209.67</td>\n",
       "      <td>30,099.30</td>\n",
       "      <td>30,199.87</td>\n",
       "      <td>30,199.87</td>\n",
       "      <td>145,570,000</td>\n",
       "      <td>^DJI</td>\n",
       "    </tr>\n",
       "    <tr>\n",
       "      <th>49999</th>\n",
       "      <td>2020-12-23 00:00:00</td>\n",
       "      <td>30,046.73</td>\n",
       "      <td>30,292.53</td>\n",
       "      <td>30,046.73</td>\n",
       "      <td>30,129.83</td>\n",
       "      <td>30,129.83</td>\n",
       "      <td>274,050,000</td>\n",
       "      <td>^DJI</td>\n",
       "    </tr>\n",
       "    <tr>\n",
       "      <th>50000</th>\n",
       "      <td>2020-12-22 00:00:00</td>\n",
       "      <td>30,200.20</td>\n",
       "      <td>30,200.20</td>\n",
       "      <td>29,992.89</td>\n",
       "      <td>30,015.51</td>\n",
       "      <td>30,015.51</td>\n",
       "      <td>388,810,000</td>\n",
       "      <td>^DJI</td>\n",
       "    </tr>\n",
       "    <tr>\n",
       "      <th>50001</th>\n",
       "      <td>2020-12-21 00:00:00</td>\n",
       "      <td>30,159.00</td>\n",
       "      <td>30,304.14</td>\n",
       "      <td>29,755.53</td>\n",
       "      <td>30,216.45</td>\n",
       "      <td>30,216.45</td>\n",
       "      <td>437,480,000</td>\n",
       "      <td>^DJI</td>\n",
       "    </tr>\n",
       "  </tbody>\n",
       "</table>\n",
       "</div>"
      ],
      "text/plain": [
       "                      date       open       high        low      close  \\\n",
       "49997  2020-12-28 00:00:00  30,283.23  30,525.56  30,283.23  30,403.97   \n",
       "49998  2020-12-24 00:00:00  30,155.92  30,209.67  30,099.30  30,199.87   \n",
       "49999  2020-12-23 00:00:00  30,046.73  30,292.53  30,046.73  30,129.83   \n",
       "50000  2020-12-22 00:00:00  30,200.20  30,200.20  29,992.89  30,015.51   \n",
       "50001  2020-12-21 00:00:00  30,159.00  30,304.14  29,755.53  30,216.45   \n",
       "\n",
       "       adj_close       volume symbol  \n",
       "49997  30,403.97  302,490,000   ^DJI  \n",
       "49998  30,199.87  145,570,000   ^DJI  \n",
       "49999  30,129.83  274,050,000   ^DJI  \n",
       "50000  30,015.51  388,810,000   ^DJI  \n",
       "50001  30,216.45  437,480,000   ^DJI  "
      ]
     },
     "execution_count": 3,
     "metadata": {},
     "output_type": "execute_result"
    }
   ],
   "source": [
    "connection = sqlite3.connect('MSC.db')\n",
    "cursor = connection.cursor()\n",
    "sql = (\"Select * from prices \")\n",
    "df = pd.read_sql_query(sql,connection)\n",
    "df.tail()"
   ]
  },
  {
   "cell_type": "code",
   "execution_count": 2,
   "metadata": {
    "ExecuteTime": {
     "end_time": "2021-05-18T08:27:14.503665Z",
     "start_time": "2021-05-18T08:27:13.737926Z"
    }
   },
   "outputs": [],
   "source": [
    "connection = sqlite3.connect('MSC.db') \n",
    "cursor = connection.cursor() \n",
    "sql = (\"delete from prices where date == '2021-05-17 00:00:00'\") \n",
    "cursor.execute(sql) \n",
    "connection.commit()"
   ]
  },
  {
   "cell_type": "markdown",
   "metadata": {
    "ExecuteTime": {
     "end_time": "2021-03-09T18:24:58.171839Z",
     "start_time": "2021-03-09T18:24:57.930268Z"
    }
   },
   "source": [
    "#https://www.sqlite.org/datatype3.html\n",
    "cursor.executescript(\"DROP TABLE IF EXISTS top30\")"
   ]
  },
  {
   "cell_type": "markdown",
   "metadata": {
    "ExecuteTime": {
     "end_time": "2021-03-08T17:56:13.902828Z",
     "start_time": "2021-03-08T17:56:13.863127Z"
    }
   },
   "source": [
    "cursor.execute('''CREATE TABLE top30 (\n",
    "date REAL\n",
    ",daily_rank INTEGER\n",
    ",comment_limit INTEGER\n",
    ",comment_sort TEXT\n",
    ",_reddit TEXT\n",
    ",approved_at_utc TEXT\n",
    ",subreddit TEXT\n",
    ",selftext TEXT\n",
    ",author_fullname TEXT\n",
    ",saved TEXT\n",
    ",mod_reason_title TEXT\n",
    ",gilded INTEGER\n",
    ",clicked TEXT\n",
    ",title TEXT\n",
    ",link_flair_richtext BLOB\n",
    ",subreddit_name_prefixed TEXT\n",
    ",hidden TEXT\n",
    ",pwls INTEGER\n",
    ",link_flair_css_class TEXT\n",
    ",downs INTEGER\n",
    ",top_awarded_type TEXT\n",
    ",hide_score TEXT\n",
    ",name TEXT\n",
    ",quarantine TEXT\n",
    ",link_flair_text_color TEXT\n",
    ",upvote_ratio REAL\n",
    ",author_flair_background_color TEXT\n",
    ",subreddit_type TEXT\n",
    ",ups INTEGER\n",
    ",total_awards_received INTEGER\n",
    ",media_embed BLOB\n",
    ",author_flair_template_id TEXT\n",
    ",is_original_content TEXT\n",
    ",user_reports BLOB\n",
    ",secure_media TEXT\n",
    ",is_reddit_media_domain TEXT\n",
    ",is_meta TEXT\n",
    ",category TEXT\n",
    ",secure_media_embed BLOB\n",
    ",link_flair_text TEXT\n",
    ",can_mod_post TEXT\n",
    ",score INTEGER\n",
    ",approved_by TEXT\n",
    ",author_premium TEXT\n",
    ",thumbnail TEXT\n",
    ",edited TEXT\n",
    ",author_flair_css_class TEXT\n",
    ",author_flair_richtext BLOB\n",
    ",gildings BLOB\n",
    ",content_categories TEXT\n",
    ",is_self TEXT\n",
    ",mod_note TEXT\n",
    ",created REAL\n",
    ",link_flair_type TEXT\n",
    ",wls INTEGER\n",
    ",removed_by_category TEXT\n",
    ",banned_by TEXT\n",
    ",author_flair_type TEXT\n",
    ",domain TEXT\n",
    ",allow_live_comments TEXT\n",
    ",selftext_html TEXT\n",
    ",likes TEXT\n",
    ",suggested_sort TEXT\n",
    ",banned_at_utc TEXT\n",
    ",url_overridden_by_dest TEXT\n",
    ",view_count TEXT\n",
    ",archived TEXT\n",
    ",no_follow TEXT\n",
    ",is_crosspostable TEXT\n",
    ",pinned TEXT\n",
    ",over_18 TEXT\n",
    ",all_awardings BLOB\n",
    ",awarders BLOB\n",
    ",media_only TEXT\n",
    ",can_gild TEXT\n",
    ",spoiler TEXT\n",
    ",locked TEXT\n",
    ",author_flair_text TEXT\n",
    ",treatment_tags BLOB\n",
    ",visited TEXT\n",
    ",removed_by TEXT\n",
    ",num_reports TEXT\n",
    ",distinguished TEXT\n",
    ",subreddit_id TEXT\n",
    ",mod_reason_by TEXT\n",
    ",removal_reason TEXT\n",
    ",link_flair_background_color TEXT\n",
    ",id TEXT\n",
    ",is_robot_indexable TEXT\n",
    ",report_reasons TEXT\n",
    ",author TEXT\n",
    ",discussion_type TEXT\n",
    ",num_comments INTEGER\n",
    ",send_replies TEXT\n",
    ",whitelist_status TEXT\n",
    ",contest_mode TEXT\n",
    ",mod_reports BLOB\n",
    ",author_patreon_flair TEXT\n",
    ",author_flair_text_color TEXT\n",
    ",permalink TEXT\n",
    ",parent_whitelist_status TEXT\n",
    ",stickied TEXT\n",
    ",url TEXT\n",
    ",subreddit_subscribers INTEGER\n",
    ",created_utc REAL\n",
    ",num_crossposts INTEGER\n",
    ",media TEXT\n",
    ",is_video TEXT\n",
    ",_fetched TEXT\n",
    ",_comments_by_id BLOB)''')\n"
   ]
  },
  {
   "cell_type": "code",
   "execution_count": null,
   "metadata": {
    "ExecuteTime": {
     "end_time": "2021-04-26T10:47:57.491705Z",
     "start_time": "2021-04-26T10:47:57.221413Z"
    }
   },
   "outputs": [],
   "source": [
    "connection = sqlite3.connect(\"MSC.db\")\n",
    "cursor = connection.cursor()\n",
    "\n",
    "sql = ('Select date(moment) as date, * from ER20202021')\n",
    "z =pd.read_sql_query(sql,connection)\n",
    "z.shape"
   ]
  },
  {
   "cell_type": "markdown",
   "metadata": {
    "ExecuteTime": {
     "end_time": "2021-03-09T11:28:45.077103Z",
     "start_time": "2021-03-09T11:28:44.775421Z"
    }
   },
   "source": [
    "connection = sqlite3.connect(\"MSC.db\")\n",
    "cursor = connection.cursor()\n",
    "\n",
    "sql = ('ALTER TABLE top30 RENAME COLUMN date TO Date')\n",
    "pd.read_sql_query(sql,connection)\n"
   ]
  },
  {
   "cell_type": "code",
   "execution_count": null,
   "metadata": {
    "ExecuteTime": {
     "end_time": "2021-03-10T15:20:15.721667Z",
     "start_time": "2021-03-10T15:20:15.612893Z"
    }
   },
   "outputs": [],
   "source": [
    "#Transfer to main folder\n",
    "import shutil\n",
    "newPath = shutil.copy('MSC.db', '/Users/Edite')"
   ]
  }
 ],
 "metadata": {
  "kernelspec": {
   "display_name": "Python 3",
   "language": "python",
   "name": "python3"
  },
  "language_info": {
   "codemirror_mode": {
    "name": "ipython",
    "version": 3
   },
   "file_extension": ".py",
   "mimetype": "text/x-python",
   "name": "python",
   "nbconvert_exporter": "python",
   "pygments_lexer": "ipython3",
   "version": "3.7.4"
  },
  "toc": {
   "base_numbering": 1,
   "nav_menu": {},
   "number_sections": true,
   "sideBar": true,
   "skip_h1_title": false,
   "title_cell": "Table of Contents",
   "title_sidebar": "Contents",
   "toc_cell": false,
   "toc_position": {},
   "toc_section_display": true,
   "toc_window_display": false
  }
 },
 "nbformat": 4,
 "nbformat_minor": 2
}
