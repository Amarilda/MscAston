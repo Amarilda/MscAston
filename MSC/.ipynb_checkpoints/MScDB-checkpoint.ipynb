{
 "cells": [
  {
   "cell_type": "code",
   "execution_count": 1,
   "metadata": {
    "ExecuteTime": {
     "end_time": "2021-05-18T13:30:59.345335Z",
     "start_time": "2021-05-18T13:30:52.231046Z"
    }
   },
   "outputs": [],
   "source": [
    "import sqlite3\n",
    "import pandas as pd"
   ]
  },
  {
   "cell_type": "code",
   "execution_count": null,
   "metadata": {
    "ExecuteTime": {
     "end_time": "2021-05-18T11:51:19.332477Z",
     "start_time": "2021-05-18T11:51:19.327985Z"
    }
   },
   "outputs": [],
   "source": [
    "connection = sqlite3.connect(\"MSC.db\")\n",
    "cursor = connection.cursor()"
   ]
  },
  {
   "cell_type": "markdown",
   "metadata": {},
   "source": [
    "## List all the tables"
   ]
  },
  {
   "cell_type": "code",
   "execution_count": null,
   "metadata": {
    "ExecuteTime": {
     "end_time": "2021-05-18T11:51:19.763091Z",
     "start_time": "2021-05-18T11:51:19.731864Z"
    }
   },
   "outputs": [],
   "source": [
    "connection = sqlite3.connect(\"MSC.db\")\n",
    "cursor = connection.cursor()\n",
    "\n",
    "def tables_in_sqlite_db(conn):\n",
    "    cursor = conn.execute(\"SELECT name FROM sqlite_master WHERE type='table';\")\n",
    "    tables = [\n",
    "        v[0] for v in cursor.fetchall()\n",
    "        if v[0] != \"sqlite_sequence\"\n",
    "    ]\n",
    "    cursor.close()\n",
    "    return tables\n",
    "\n",
    "tables = tables_in_sqlite_db(connection)\n",
    "for i in tables:\n",
    "    print(i)"
   ]
  },
  {
   "cell_type": "code",
   "execution_count": null,
   "metadata": {
    "ExecuteTime": {
     "end_time": "2021-05-18T10:07:23.905305Z",
     "start_time": "2021-05-18T10:07:23.878836Z"
    }
   },
   "outputs": [],
   "source": [
    "connection = sqlite3.connect('MSC.db')\n",
    "cursor = connection.cursor()\n",
    "sql = (\"Select * from SP500_companies \")\n",
    "df = pd.read_sql_query(sql,connection)\n",
    "df"
   ]
  },
  {
   "cell_type": "code",
   "execution_count": null,
   "metadata": {
    "ExecuteTime": {
     "end_time": "2021-05-18T12:00:56.801339Z",
     "start_time": "2021-05-18T12:00:56.469783Z"
    }
   },
   "outputs": [],
   "source": [
    "## Duplicates\n",
    "\n",
    "connection = sqlite3.connect('MSC.db')\n",
    "cursor = connection.cursor()\n",
    "sql = ('''select symbol, date, XX as count, AM \n",
    "from (Select symbol, date, COUNT(symbol) OVER(PARTITION BY symbol, date) as XX ,ROW_NUMBER() OVER(PARTITION BY symbol, date) as AM from prices) where XX > 1''')\n",
    "df = pd.read_sql_query(sql,connection)\n",
    "df.tail()"
   ]
  },
  {
   "cell_type": "code",
   "execution_count": 8,
   "metadata": {
    "ExecuteTime": {
     "end_time": "2021-05-18T13:32:46.789279Z",
     "start_time": "2021-05-18T13:32:46.735796Z"
    }
   },
   "outputs": [
    {
     "name": "stdout",
     "output_type": "stream",
     "text": [
      "(99, 8)\n"
     ]
    },
    {
     "data": {
      "text/html": [
       "<div>\n",
       "<style scoped>\n",
       "    .dataframe tbody tr th:only-of-type {\n",
       "        vertical-align: middle;\n",
       "    }\n",
       "\n",
       "    .dataframe tbody tr th {\n",
       "        vertical-align: top;\n",
       "    }\n",
       "\n",
       "    .dataframe thead th {\n",
       "        text-align: right;\n",
       "    }\n",
       "</style>\n",
       "<table border=\"1\" class=\"dataframe\">\n",
       "  <thead>\n",
       "    <tr style=\"text-align: right;\">\n",
       "      <th></th>\n",
       "      <th>date</th>\n",
       "      <th>open</th>\n",
       "      <th>high</th>\n",
       "      <th>low</th>\n",
       "      <th>close</th>\n",
       "      <th>adj_close</th>\n",
       "      <th>volume</th>\n",
       "      <th>symbol</th>\n",
       "    </tr>\n",
       "  </thead>\n",
       "  <tbody>\n",
       "    <tr>\n",
       "      <th>0</th>\n",
       "      <td>2020-12-23 00:00:00</td>\n",
       "      <td>245.84</td>\n",
       "      <td>246.87</td>\n",
       "      <td>241.48</td>\n",
       "      <td>241.48</td>\n",
       "      <td>240.89</td>\n",
       "      <td>800,700</td>\n",
       "      <td>SHW</td>\n",
       "    </tr>\n",
       "    <tr>\n",
       "      <th>1</th>\n",
       "      <td>2020-12-24 00:00:00</td>\n",
       "      <td>242.43</td>\n",
       "      <td>245.07</td>\n",
       "      <td>242.04</td>\n",
       "      <td>244.63</td>\n",
       "      <td>244.03</td>\n",
       "      <td>326,100</td>\n",
       "      <td>SHW</td>\n",
       "    </tr>\n",
       "    <tr>\n",
       "      <th>2</th>\n",
       "      <td>2020-12-28 00:00:00</td>\n",
       "      <td>246.03</td>\n",
       "      <td>246.03</td>\n",
       "      <td>242.95</td>\n",
       "      <td>243.11</td>\n",
       "      <td>242.52</td>\n",
       "      <td>513,300</td>\n",
       "      <td>SHW</td>\n",
       "    </tr>\n",
       "    <tr>\n",
       "      <th>3</th>\n",
       "      <td>2020-12-29 00:00:00</td>\n",
       "      <td>244.66</td>\n",
       "      <td>244.86</td>\n",
       "      <td>242.00</td>\n",
       "      <td>243.53</td>\n",
       "      <td>242.93</td>\n",
       "      <td>586,800</td>\n",
       "      <td>SHW</td>\n",
       "    </tr>\n",
       "    <tr>\n",
       "      <th>4</th>\n",
       "      <td>2020-12-30 00:00:00</td>\n",
       "      <td>244.01</td>\n",
       "      <td>245.30</td>\n",
       "      <td>242.30</td>\n",
       "      <td>242.38</td>\n",
       "      <td>241.78</td>\n",
       "      <td>642,000</td>\n",
       "      <td>SHW</td>\n",
       "    </tr>\n",
       "    <tr>\n",
       "      <th>...</th>\n",
       "      <td>...</td>\n",
       "      <td>...</td>\n",
       "      <td>...</td>\n",
       "      <td>...</td>\n",
       "      <td>...</td>\n",
       "      <td>...</td>\n",
       "      <td>...</td>\n",
       "      <td>...</td>\n",
       "    </tr>\n",
       "    <tr>\n",
       "      <th>94</th>\n",
       "      <td>2021-05-11 00:00:00</td>\n",
       "      <td>287.36</td>\n",
       "      <td>287.99</td>\n",
       "      <td>283.19</td>\n",
       "      <td>285.84</td>\n",
       "      <td>285.84</td>\n",
       "      <td>1,244,300</td>\n",
       "      <td>SHW</td>\n",
       "    </tr>\n",
       "    <tr>\n",
       "      <th>95</th>\n",
       "      <td>2021-05-12 00:00:00</td>\n",
       "      <td>284.50</td>\n",
       "      <td>286.84</td>\n",
       "      <td>279.75</td>\n",
       "      <td>279.84</td>\n",
       "      <td>279.84</td>\n",
       "      <td>1,869,900</td>\n",
       "      <td>SHW</td>\n",
       "    </tr>\n",
       "    <tr>\n",
       "      <th>96</th>\n",
       "      <td>2021-05-13 00:00:00</td>\n",
       "      <td>281.04</td>\n",
       "      <td>287.02</td>\n",
       "      <td>280.18</td>\n",
       "      <td>285.81</td>\n",
       "      <td>285.81</td>\n",
       "      <td>1,059,300</td>\n",
       "      <td>SHW</td>\n",
       "    </tr>\n",
       "    <tr>\n",
       "      <th>97</th>\n",
       "      <td>2021-05-14 00:00:00</td>\n",
       "      <td>287.35</td>\n",
       "      <td>289.29</td>\n",
       "      <td>285.59</td>\n",
       "      <td>286.09</td>\n",
       "      <td>286.09</td>\n",
       "      <td>980,400</td>\n",
       "      <td>SHW</td>\n",
       "    </tr>\n",
       "    <tr>\n",
       "      <th>98</th>\n",
       "      <td>2021-05-17 00:00:00</td>\n",
       "      <td>286.43</td>\n",
       "      <td>287.58</td>\n",
       "      <td>282.87</td>\n",
       "      <td>284.23</td>\n",
       "      <td>284.23</td>\n",
       "      <td>1,268,700</td>\n",
       "      <td>SHW</td>\n",
       "    </tr>\n",
       "  </tbody>\n",
       "</table>\n",
       "<p>99 rows × 8 columns</p>\n",
       "</div>"
      ],
      "text/plain": [
       "                   date    open    high     low   close adj_close     volume  \\\n",
       "0   2020-12-23 00:00:00  245.84  246.87  241.48  241.48    240.89    800,700   \n",
       "1   2020-12-24 00:00:00  242.43  245.07  242.04  244.63    244.03    326,100   \n",
       "2   2020-12-28 00:00:00  246.03  246.03  242.95  243.11    242.52    513,300   \n",
       "3   2020-12-29 00:00:00  244.66  244.86  242.00  243.53    242.93    586,800   \n",
       "4   2020-12-30 00:00:00  244.01  245.30  242.30  242.38    241.78    642,000   \n",
       "..                  ...     ...     ...     ...     ...       ...        ...   \n",
       "94  2021-05-11 00:00:00  287.36  287.99  283.19  285.84    285.84  1,244,300   \n",
       "95  2021-05-12 00:00:00  284.50  286.84  279.75  279.84    279.84  1,869,900   \n",
       "96  2021-05-13 00:00:00  281.04  287.02  280.18  285.81    285.81  1,059,300   \n",
       "97  2021-05-14 00:00:00  287.35  289.29  285.59  286.09    286.09    980,400   \n",
       "98  2021-05-17 00:00:00  286.43  287.58  282.87  284.23    284.23  1,268,700   \n",
       "\n",
       "   symbol  \n",
       "0     SHW  \n",
       "1     SHW  \n",
       "2     SHW  \n",
       "3     SHW  \n",
       "4     SHW  \n",
       "..    ...  \n",
       "94    SHW  \n",
       "95    SHW  \n",
       "96    SHW  \n",
       "97    SHW  \n",
       "98    SHW  \n",
       "\n",
       "[99 rows x 8 columns]"
      ]
     },
     "execution_count": 8,
     "metadata": {},
     "output_type": "execute_result"
    }
   ],
   "source": [
    "## Duplicates\n",
    "\n",
    "connection = sqlite3.connect('MSC.db')\n",
    "cursor = connection.cursor()\n",
    "sql = (''' select * from prices where symbol in ('SHW') order by date \n",
    "\n",
    "''')\n",
    "df = pd.read_sql_query(sql,connection)\n",
    "print(df.shape)\n",
    "df"
   ]
  },
  {
   "cell_type": "code",
   "execution_count": null,
   "metadata": {
    "ExecuteTime": {
     "end_time": "2021-05-18T11:59:50.376240Z",
     "start_time": "2021-05-18T11:59:50.357508Z"
    }
   },
   "outputs": [],
   "source": [
    "df[df.open == \"Stock Split\"]"
   ]
  },
  {
   "cell_type": "code",
   "execution_count": null,
   "metadata": {
    "ExecuteTime": {
     "end_time": "2021-05-18T12:05:25.245572Z",
     "start_time": "2021-05-18T12:05:25.232958Z"
    }
   },
   "outputs": [],
   "source": [
    "df[df.open == \"Dividends\"]"
   ]
  },
  {
   "cell_type": "markdown",
   "metadata": {
    "ExecuteTime": {
     "end_time": "2021-05-18T11:51:09.460609Z",
     "start_time": "2021-05-18T11:51:09.148463Z"
    }
   },
   "source": [
    "## DF to SQL \n",
    "\n",
    "connection = sqlite3.connect('MSC.db')\n",
    "cursor = connection.cursor()\n",
    "df_distinct.to_sql('prices', connection, index = False)\n",
    "connection.commit()\n",
    "connection.close()"
   ]
  },
  {
   "cell_type": "markdown",
   "metadata": {
    "ExecuteTime": {
     "end_time": "2021-05-18T11:54:26.790282Z",
     "start_time": "2021-05-18T11:54:26.753761Z"
    }
   },
   "source": [
    "## Delete\n",
    "\n",
    "connection = sqlite3.connect('MSC.db') \n",
    "cursor = connection.cursor() \n",
    "sql = (\"delete from prices where date = '2021-04-01 00:00:00' and open == 'Stock Split'\") \n",
    "cursor.execute(sql) \n",
    "connection.commit()"
   ]
  },
  {
   "cell_type": "code",
   "execution_count": null,
   "metadata": {
    "ExecuteTime": {
     "end_time": "2021-05-18T10:47:47.132927Z",
     "start_time": "2021-05-18T10:47:47.105941Z"
    }
   },
   "outputs": [],
   "source": [
    "connection = sqlite3.connect('MSC.db')\n",
    "cursor = connection.cursor()\n",
    "sql = (\"Select symbol from SP500_companies where symbol not in (select distinct symbol from prices where date == '2021-05-17 00:00:00')\")\n",
    "df = pd.read_sql_query(sql,connection)\n",
    "df"
   ]
  },
  {
   "cell_type": "markdown",
   "metadata": {
    "ExecuteTime": {
     "end_time": "2021-05-18T11:48:09.680826Z",
     "start_time": "2021-05-18T11:48:09.400257Z"
    }
   },
   "source": [
    "## Drop table\n",
    "\n",
    "#https://www.sqlite.org/datatype3.html\n",
    "cursor.executescript(\"DROP TABLE IF EXISTS prices\")"
   ]
  },
  {
   "cell_type": "code",
   "execution_count": null,
   "metadata": {
    "ExecuteTime": {
     "end_time": "2021-04-26T10:47:57.491705Z",
     "start_time": "2021-04-26T10:47:57.221413Z"
    }
   },
   "outputs": [],
   "source": [
    "connection = sqlite3.connect(\"MSC.db\")\n",
    "cursor = connection.cursor()\n",
    "\n",
    "sql = ('Select date(moment) as date, * from ER20202021')\n",
    "z =pd.read_sql_query(sql,connection)\n",
    "z.shape"
   ]
  },
  {
   "cell_type": "markdown",
   "metadata": {
    "ExecuteTime": {
     "end_time": "2021-03-09T11:28:45.077103Z",
     "start_time": "2021-03-09T11:28:44.775421Z"
    }
   },
   "source": [
    "## Alter\n",
    "\n",
    "connection = sqlite3.connect(\"MSC.db\")\n",
    "cursor = connection.cursor()\n",
    "\n",
    "sql = ('ALTER TABLE top30 RENAME COLUMN date TO Date')\n",
    "pd.read_sql_query(sql,connection)\n"
   ]
  },
  {
   "cell_type": "code",
   "execution_count": null,
   "metadata": {
    "ExecuteTime": {
     "end_time": "2021-03-10T15:20:15.721667Z",
     "start_time": "2021-03-10T15:20:15.612893Z"
    }
   },
   "outputs": [],
   "source": [
    "#Transfer to main folder\n",
    "import shutil\n",
    "newPath = shutil.copy('MSC.db', '/Users/Edite')"
   ]
  }
 ],
 "metadata": {
  "kernelspec": {
   "display_name": "Python 3",
   "language": "python",
   "name": "python3"
  },
  "language_info": {
   "codemirror_mode": {
    "name": "ipython",
    "version": 3
   },
   "file_extension": ".py",
   "mimetype": "text/x-python",
   "name": "python",
   "nbconvert_exporter": "python",
   "pygments_lexer": "ipython3",
   "version": "3.7.4"
  },
  "toc": {
   "base_numbering": 1,
   "nav_menu": {},
   "number_sections": true,
   "sideBar": true,
   "skip_h1_title": false,
   "title_cell": "Table of Contents",
   "title_sidebar": "Contents",
   "toc_cell": false,
   "toc_position": {},
   "toc_section_display": true,
   "toc_window_display": true
  }
 },
 "nbformat": 4,
 "nbformat_minor": 2
}
