{
 "cells": [
  {
   "cell_type": "markdown",
   "metadata": {},
   "source": [
    "# Reddit news"
   ]
  },
  {
   "cell_type": "code",
   "execution_count": 2,
   "metadata": {
    "ExecuteTime": {
     "end_time": "2021-05-10T07:57:05.985896Z",
     "start_time": "2021-05-10T07:56:59.465585Z"
    }
   },
   "outputs": [],
   "source": [
    "import pandas as pd\n",
    "import sqlite3"
   ]
  },
  {
   "cell_type": "code",
   "execution_count": 22,
   "metadata": {
    "ExecuteTime": {
     "end_time": "2021-05-10T08:01:45.217910Z",
     "start_time": "2021-05-10T08:01:45.209306Z"
    }
   },
   "outputs": [
    {
     "data": {
      "text/plain": [
       "'!\"#$%&\\'()*+,-./:;<=>?@[\\\\]^_`{|}~'"
      ]
     },
     "execution_count": 22,
     "metadata": {},
     "output_type": "execute_result"
    }
   ],
   "source": [
    "import string\n",
    "string.punctuation"
   ]
  },
  {
   "cell_type": "code",
   "execution_count": null,
   "metadata": {
    "ExecuteTime": {
     "end_time": "2021-05-09T08:43:02.260096Z",
     "start_time": "2021-05-09T08:43:02.252874Z"
    }
   },
   "outputs": [],
   "source": [
    "kolonas = ['date']+['top'+str(i) for i in range(1,31)]\n",
    "print(kolonas)"
   ]
  },
  {
   "cell_type": "code",
   "execution_count": null,
   "metadata": {
    "ExecuteTime": {
     "end_time": "2021-05-07T11:00:18.813978Z",
     "start_time": "2021-05-07T11:00:18.805593Z"
    }
   },
   "outputs": [],
   "source": [
    "df = pd.DataFrame(columns = kolonas)"
   ]
  },
  {
   "cell_type": "code",
   "execution_count": null,
   "metadata": {
    "ExecuteTime": {
     "end_time": "2021-05-09T08:58:23.071091Z",
     "start_time": "2021-05-09T08:58:23.064557Z"
    }
   },
   "outputs": [],
   "source": [
    "connection = sqlite3.connect('MSC.db')\n",
    "cursor = connection.cursor()"
   ]
  },
  {
   "cell_type": "code",
   "execution_count": null,
   "metadata": {
    "ExecuteTime": {
     "end_time": "2021-05-07T08:02:17.784572Z",
     "start_time": "2021-05-07T08:02:15.742548Z"
    }
   },
   "outputs": [],
   "source": [
    "sql = (\"Select date(moment) as date, title from top30 where date = '2021-05-05'\")\n",
    "z = pd.read_sql_query(sql,connection)"
   ]
  },
  {
   "cell_type": "code",
   "execution_count": null,
   "metadata": {
    "ExecuteTime": {
     "end_time": "2021-05-07T08:02:29.929123Z",
     "start_time": "2021-05-07T08:02:29.336372Z"
    }
   },
   "outputs": [],
   "source": [
    "for d in z.date.unique():\n",
    "    atbilde =[]\n",
    "    atbilde.append(d)\n",
    "    #print(atbilde)\n",
    "    for title in z.title[z.date == d]:\n",
    "        atbilde.append(title)\n",
    "        \n",
    "    df.loc[len(df)] = atbilde"
   ]
  },
  {
   "cell_type": "code",
   "execution_count": null,
   "metadata": {
    "ExecuteTime": {
     "end_time": "2021-05-07T08:07:10.091859Z",
     "start_time": "2021-05-07T08:07:09.700192Z"
    }
   },
   "outputs": [],
   "source": [
    "df.to_sql('main', connection, if_exists='append',index=False)"
   ]
  },
  {
   "cell_type": "code",
   "execution_count": null,
   "metadata": {
    "ExecuteTime": {
     "end_time": "2021-05-07T11:00:24.792128Z",
     "start_time": "2021-05-07T11:00:24.773207Z"
    }
   },
   "outputs": [],
   "source": [
    "atbilde = []\n",
    "atbilde.append(z.date[0])\n",
    "#print(atbilde)\n",
    "\n",
    "for title in z.title:\n",
    "    atbilde.append(title)\n",
    "        \n",
    "print(atbilde)\n",
    "df.loc[len(df)] = atbilde"
   ]
  },
  {
   "cell_type": "markdown",
   "metadata": {
    "ExecuteTime": {
     "end_time": "2021-05-04T14:08:12.465116Z",
     "start_time": "2021-05-04T14:08:12.349472Z"
    },
    "heading_collapsed": true
   },
   "source": [
    "# delete"
   ]
  },
  {
   "cell_type": "markdown",
   "metadata": {
    "hidden": true
   },
   "source": [
    "connection = sqlite3.connect('MSC.db')\n",
    "cursor = connection.cursor()\n",
    "sql = (\"DELETE from top30 where moment  between '2021-03-30 11:17:11.915369' and '2021-03-30 11:18:48.647641'\")\n",
    "cursor.execute(sql)\n",
    "connection.commit()"
   ]
  },
  {
   "cell_type": "markdown",
   "metadata": {
    "ExecuteTime": {
     "end_time": "2021-05-04T14:27:17.429930Z",
     "start_time": "2021-05-04T14:27:17.426349Z"
    }
   },
   "source": [
    "# Yahoo finance"
   ]
  },
  {
   "cell_type": "code",
   "execution_count": 1,
   "metadata": {
    "ExecuteTime": {
     "end_time": "2021-05-10T07:56:56.826784Z",
     "start_time": "2021-05-10T07:56:55.281696Z"
    }
   },
   "outputs": [],
   "source": [
    "from bs4 import BeautifulSoup\n",
    "import requests\n",
    "import re"
   ]
  },
  {
   "cell_type": "code",
   "execution_count": null,
   "metadata": {
    "ExecuteTime": {
     "end_time": "2021-05-07T14:13:08.973697Z",
     "start_time": "2021-05-07T14:13:08.947541Z"
    }
   },
   "outputs": [],
   "source": [
    "df = pd.DataFrame(columns = ['date','SP500_Open', 'SP500_High', 'SP500_Low', 'SP500_Close', 'SP500_Adj_Close', 'SP500_Volume'])\n",
    "df"
   ]
  },
  {
   "cell_type": "code",
   "execution_count": null,
   "metadata": {
    "ExecuteTime": {
     "end_time": "2021-05-07T14:13:10.535669Z",
     "start_time": "2021-05-07T14:13:10.526983Z"
    }
   },
   "outputs": [],
   "source": [
    "str([str('SP500_')+i for i in df.columns])"
   ]
  },
  {
   "cell_type": "markdown",
   "metadata": {},
   "source": [
    "## S&P 500 (^GSPC)\n",
    "SNP - SNP Real Time Price. Currency in USD"
   ]
  },
  {
   "cell_type": "code",
   "execution_count": 3,
   "metadata": {
    "ExecuteTime": {
     "end_time": "2021-05-10T07:57:06.014024Z",
     "start_time": "2021-05-10T07:57:05.990210Z"
    }
   },
   "outputs": [],
   "source": [
    "url = \"https://finance.yahoo.com/quote/%5EGSPC/history?p=%5EGSPC\""
   ]
  },
  {
   "cell_type": "code",
   "execution_count": 4,
   "metadata": {
    "ExecuteTime": {
     "end_time": "2021-05-10T07:57:09.709482Z",
     "start_time": "2021-05-10T07:57:08.810741Z"
    }
   },
   "outputs": [],
   "source": [
    "r = requests.get(url)\n",
    "data = r.text\n",
    "soup = BeautifulSoup(data)"
   ]
  },
  {
   "cell_type": "code",
   "execution_count": 5,
   "metadata": {
    "ExecuteTime": {
     "end_time": "2021-05-10T07:57:14.653762Z",
     "start_time": "2021-05-10T07:57:14.638684Z"
    }
   },
   "outputs": [
    {
     "name": "stdout",
     "output_type": "stream",
     "text": [
      "May 07, 2021\n",
      "4,210.34\n",
      "4,238.04\n",
      "4,201.64\n",
      "4,232.60\n",
      "4,232.60\n",
      "4,013,060,000\n"
     ]
    }
   ],
   "source": [
    "answer = []\n",
    "for i in soup.find_all('td')[0:7]:\n",
    "    #print(i.span)\n",
    "    print(i.span.text)\n",
    "    answer.append(i.span.text)\n",
    "    #print(len(answer)    "
   ]
  },
  {
   "cell_type": "markdown",
   "metadata": {
    "ExecuteTime": {
     "end_time": "2021-05-07T14:13:17.725039Z",
     "start_time": "2021-05-07T14:13:17.182645Z"
    }
   },
   "source": [
    "for i in range(0, int(len(answer))//7):\n",
    "    atbilde = []\n",
    "    #print(i)\n",
    "    for j in range (0,7):\n",
    "        if j == 0:\n",
    "            atbilde.append(pd.to_datetime(answer[i*7+j], infer_datetime_format=True))\n",
    "        else:\n",
    "            atbilde.append(answer[i*7+j])\n",
    "    df.loc[len(df)] = atbilde"
   ]
  },
  {
   "cell_type": "code",
   "execution_count": null,
   "metadata": {},
   "outputs": [],
   "source": [
    "connection = sqlite3.connect('MSC/MSC.db')\n",
    "cursor = connection.cursor()\n",
    "sql = (\"Select date(moment) as date, title from top30 where moment>date('now')\")\n",
    "z = pd.read_sql_query(sql,connection)\n",
    "\n",
    "atbilde = []\n",
    "columnnames = \"'date', 'top1', 'top2', 'top3', 'top4', 'top5', 'top6', 'top7', 'top8', 'top9', 'top10', 'top11', 'top12', 'top13', 'top14', 'top15', 'top16', 'top17', 'top18', 'top19', 'top20', 'top21', 'top22', 'top23', 'top24', 'top25', 'top26', 'top27', 'top28', 'top29', top30\"\n",
    "insertintotable = '?,?,?,?,?,?,?,?,?,?,?,?,?,?,?,?,?,?,?,?,?,?,?,?,?,?,?,?,?,?,?'\n",
    "atbilde = [z.date[0]] +[i for i in  z.title]\n",
    "\n",
    "connection = sqlite3.connect('MSC/MSC.db')\n",
    "cursor = connection.cursor()\n",
    "sql2 = f'cursor.execute(\"insert INTO  main ({columnnames}) VALUES ({insertintotable})\", {atbilde})'\n",
    "eval(sql2)\n",
    "connection.commit()\n",
    "connection.close()\n",
    "print(\"Appended to MAIN\")"
   ]
  },
  {
   "cell_type": "code",
   "execution_count": 95,
   "metadata": {
    "ExecuteTime": {
     "end_time": "2021-05-10T08:39:50.188221Z",
     "start_time": "2021-05-10T08:39:50.170622Z"
    }
   },
   "outputs": [
    {
     "data": {
      "text/plain": [
       "Index(['date', 'DJI_Open', 'DJI_High', 'DJI_Low', 'DJI_Close', 'DJI_Adj_Close',\n",
       "       'DJI_Volume'],\n",
       "      dtype='object')"
      ]
     },
     "execution_count": 95,
     "metadata": {},
     "output_type": "execute_result"
    }
   ],
   "source": [
    "connection = sqlite3.connect('MSC.db')\n",
    "cursor = connection.cursor()\n",
    "sql = (\"Select * from DJI\")\n",
    "z = pd.read_sql_query(sql,connection).columns\n",
    "z"
   ]
  },
  {
   "cell_type": "code",
   "execution_count": 93,
   "metadata": {
    "ExecuteTime": {
     "end_time": "2021-05-10T08:36:15.466945Z",
     "start_time": "2021-05-10T08:36:14.639935Z"
    }
   },
   "outputs": [
    {
     "name": "stdout",
     "output_type": "stream",
     "text": [
      "Stop. This data point is already in the data base\n"
     ]
    },
    {
     "data": {
      "text/plain": [
       "[]"
      ]
     },
     "execution_count": 93,
     "metadata": {},
     "output_type": "execute_result"
    }
   ],
   "source": [
    "connection = sqlite3.connect('MSC.db')\n",
    "cursor = connection.cursor()\n",
    "sql = (\"Select max(date) as date from SP500\")\n",
    "z = pd.read_sql_query(sql,connection)\n",
    "latest_date = z.date[0]\n",
    "\n",
    "##SP500\n",
    "url = \"https://finance.yahoo.com/quote/%5EGSPC/history?p=%5EGSPC\"\n",
    "r = requests.get(url)\n",
    "data = r.text\n",
    "soup = BeautifulSoup(data)\n",
    "\n",
    "answer = []\n",
    "if str(pd.to_datetime(soup.find_all('td')[0].text, infer_datetime_format=True)) == latest_date:\n",
    "    print('Stop. This data point is already in the data base')\n",
    "else:\n",
    "    print('Lets get scraping')\n",
    "    answer.append(str(pd.to_datetime(soup.find_all('td')[0].text, infer_datetime_format=True)))\n",
    "    answer = answer + [i.span.text for i in soup.find_all('td')[1:7]]\n",
    "    \n",
    "    columnnames = \"'Date', 'SP500_Open', 'SP500_High', 'SP500_Low', 'SP500_Close','SP500_Adj_Close', 'SP500_Volume'\"\n",
    "    insertintotable = '?,?,?,?,?,?,?'\n",
    "    \n",
    "    connection = sqlite3.connect('MSC/MSC.db')\n",
    "    cursor = connection.cursor()\n",
    "    sql2 = f'cursor.execute(\"insert INTO  SP500 ({columnnames}) VALUES ({insertintotable})\", {answer})'\n",
    "    eval(sql2)\n",
    "    connection.commit()\n",
    "    connection.close()\n",
    "    print(f\"{answer[0]} appended to SP500\")\n",
    "    \n",
    "    \n",
    "    ## DJI\n",
    "    url = \"https://finance.yahoo.com/quote/%5EDJI/history?p=%5EDJI\"\n",
    "    r = requests.get(url)\n",
    "    data = r.text\n",
    "    soup = BeautifulSoup(data)\n",
    "    \n",
    "    answer = []\n",
    "    answer.append(str(pd.to_datetime(soup.find_all('td')[0].text, infer_datetime_format=True)))\n",
    "    answer = answer + [i.span.text for i in soup.find_all('td')[1:7]]\n",
    "    \n",
    "    columnnames = \"'date', 'SP500_Open', 'SP500_High', 'SP500_Low', 'SP500_Close','SP500_Adj_Close', 'SP500_Volume'\"\n",
    "    insertintotable = '?,?,?,?,?,?,?'\n",
    "    \n",
    "    connection = sqlite3.connect('MSC/MSC.db')\n",
    "    cursor = connection.cursor()\n",
    "    sql2 = f'cursor.execute(\"insert INTO  SP500 ({columnnames}) VALUES ({insertintotable})\", {answer})'\n",
    "    eval(sql2)\n",
    "    connection.commit()\n",
    "    connection.close()\n",
    "    print(f\"{answer[0]} appended to DJI\")\n",
    "    \n",
    "    \n",
    "answer"
   ]
  },
  {
   "cell_type": "code",
   "execution_count": null,
   "metadata": {
    "ExecuteTime": {
     "end_time": "2021-05-07T14:13:22.084338Z",
     "start_time": "2021-05-07T14:13:22.071026Z"
    }
   },
   "outputs": [],
   "source": [
    "df.to_sql('SP500', connection, if_exists='append',index=False)"
   ]
  },
  {
   "cell_type": "markdown",
   "metadata": {},
   "source": [
    "## Dow Jones Industrial Average (^DJI)\n",
    "DJI - DJI Real Time Price. Currency in USD"
   ]
  },
  {
   "cell_type": "code",
   "execution_count": null,
   "metadata": {
    "ExecuteTime": {
     "end_time": "2021-05-07T14:11:30.683698Z",
     "start_time": "2021-05-07T14:11:30.680697Z"
    }
   },
   "outputs": [],
   "source": [
    "url = \"https://finance.yahoo.com/quote/%5EDJI/history?p=%5EDJI\""
   ]
  },
  {
   "cell_type": "code",
   "execution_count": null,
   "metadata": {
    "ExecuteTime": {
     "end_time": "2021-05-07T14:11:30.743504Z",
     "start_time": "2021-05-07T14:11:30.687962Z"
    }
   },
   "outputs": [],
   "source": [
    "df = pd.DataFrame(columns = ['date', 'DJI_Open', 'DJI_High', 'DJI_Low', 'DJI_Close', 'DJI_Adj_Close', 'DJI_Volume'])\n",
    "df"
   ]
  },
  {
   "cell_type": "code",
   "execution_count": null,
   "metadata": {
    "ExecuteTime": {
     "end_time": "2021-05-07T14:07:09.567434Z",
     "start_time": "2021-05-07T14:07:09.561932Z"
    }
   },
   "outputs": [],
   "source": [
    "columns_new = [str('DJI_')+i for i in df.columns]"
   ]
  },
  {
   "cell_type": "code",
   "execution_count": null,
   "metadata": {
    "ExecuteTime": {
     "end_time": "2021-05-07T14:11:38.068833Z",
     "start_time": "2021-05-07T14:11:37.171734Z"
    }
   },
   "outputs": [],
   "source": [
    "r = requests.get(url)\n",
    "data = r.text\n",
    "soup = BeautifulSoup(data)"
   ]
  },
  {
   "cell_type": "code",
   "execution_count": null,
   "metadata": {
    "ExecuteTime": {
     "end_time": "2021-05-07T14:11:38.407441Z",
     "start_time": "2021-05-07T14:11:38.383103Z"
    }
   },
   "outputs": [],
   "source": [
    "answer = []\n",
    "for i in soup.find_all('td'):\n",
    "    #print(i.span)\n",
    "    #print(i.span.text)\n",
    "    answer.append(i.span.text)\n",
    "    #print(len(answer)  "
   ]
  },
  {
   "cell_type": "code",
   "execution_count": null,
   "metadata": {
    "ExecuteTime": {
     "end_time": "2021-05-07T14:11:42.764407Z",
     "start_time": "2021-05-07T14:11:42.211538Z"
    }
   },
   "outputs": [],
   "source": [
    "for i in range(0, int(len(answer))//7):\n",
    "    atbilde = []\n",
    "    #print(i)\n",
    "    for j in range (0,7):\n",
    "        if j == 0:\n",
    "            atbilde.append(pd.to_datetime(answer[i*7+j], infer_datetime_format=True))\n",
    "        else:\n",
    "            atbilde.append(answer[i*7+j])\n",
    "    df.loc[len(df)] = atbilde"
   ]
  },
  {
   "cell_type": "code",
   "execution_count": null,
   "metadata": {
    "ExecuteTime": {
     "end_time": "2021-05-07T14:11:43.812893Z",
     "start_time": "2021-05-07T14:11:43.789250Z"
    }
   },
   "outputs": [],
   "source": [
    "df"
   ]
  },
  {
   "cell_type": "code",
   "execution_count": null,
   "metadata": {
    "ExecuteTime": {
     "end_time": "2021-05-07T14:11:47.376694Z",
     "start_time": "2021-05-07T14:11:47.363620Z"
    }
   },
   "outputs": [],
   "source": [
    "df.to_sql('DJI', connection, if_exists='append',index=False)"
   ]
  },
  {
   "cell_type": "markdown",
   "metadata": {},
   "source": [
    "# Merge"
   ]
  },
  {
   "cell_type": "code",
   "execution_count": 105,
   "metadata": {
    "ExecuteTime": {
     "end_time": "2021-05-10T19:40:29.084099Z",
     "start_time": "2021-05-10T19:40:28.505121Z"
    }
   },
   "outputs": [
    {
     "data": {
      "text/html": [
       "<div>\n",
       "<style scoped>\n",
       "    .dataframe tbody tr th:only-of-type {\n",
       "        vertical-align: middle;\n",
       "    }\n",
       "\n",
       "    .dataframe tbody tr th {\n",
       "        vertical-align: top;\n",
       "    }\n",
       "\n",
       "    .dataframe thead th {\n",
       "        text-align: right;\n",
       "    }\n",
       "</style>\n",
       "<table border=\"1\" class=\"dataframe\">\n",
       "  <thead>\n",
       "    <tr style=\"text-align: right;\">\n",
       "      <th></th>\n",
       "      <th>date</th>\n",
       "      <th>top1</th>\n",
       "      <th>top2</th>\n",
       "      <th>top3</th>\n",
       "      <th>top4</th>\n",
       "      <th>top5</th>\n",
       "      <th>top6</th>\n",
       "      <th>top7</th>\n",
       "      <th>top8</th>\n",
       "      <th>top9</th>\n",
       "      <th>...</th>\n",
       "      <th>DJI_Open</th>\n",
       "      <th>DJI_High</th>\n",
       "      <th>DJI_Low</th>\n",
       "      <th>DJI_Close</th>\n",
       "      <th>DJI_Adj_Close</th>\n",
       "      <th>SP500_Open</th>\n",
       "      <th>SP500_High</th>\n",
       "      <th>SP500_Low</th>\n",
       "      <th>SP500_Close</th>\n",
       "      <th>SP500_Adj_Close</th>\n",
       "    </tr>\n",
       "  </thead>\n",
       "  <tbody>\n",
       "    <tr>\n",
       "      <th>0</th>\n",
       "      <td>2021-03-09</td>\n",
       "      <td>China breaching every act in genocide conventi...</td>\n",
       "      <td>Around 1,000 women gather in Istanbul to prote...</td>\n",
       "      <td>Greta Thunberg says Biden isn’t doing ‘nearly ...</td>\n",
       "      <td>Humans have 'destroyed or degraded' two-thirds...</td>\n",
       "      <td>Biden and Europe allies worry Israel is prepar...</td>\n",
       "      <td>Syrian President Assad tests positive for COVI...</td>\n",
       "      <td>Covid-19: 'Certain inevitability' that visitor...</td>\n",
       "      <td>First Nation asks UN expert to probe systemic ...</td>\n",
       "      <td>Brazil Supreme Court judge annuls ex-president...</td>\n",
       "      <td>...</td>\n",
       "      <td>31,892.35</td>\n",
       "      <td>32,150.32</td>\n",
       "      <td>31,822.64</td>\n",
       "      <td>31,832.74</td>\n",
       "      <td>31,832.74</td>\n",
       "      <td>3,851.93</td>\n",
       "      <td>3,903.76</td>\n",
       "      <td>3,851.93</td>\n",
       "      <td>3,875.44</td>\n",
       "      <td>3,875.44</td>\n",
       "    </tr>\n",
       "    <tr>\n",
       "      <th>1</th>\n",
       "      <td>2021-03-10</td>\n",
       "      <td>Scientists Discover Chunk of Protoplanet Older...</td>\n",
       "      <td>'Shoot till they are dead': Some Myanmar polic...</td>\n",
       "      <td>Biden to meet virtually with leaders of Japan,...</td>\n",
       "      <td>Up to 1,000 Christian, Hindu and Sikh girls ar...</td>\n",
       "      <td>Papuan island inhabitants, whose island was of...</td>\n",
       "      <td>China’s appetite for meat fades as vegan revol...</td>\n",
       "      <td>French nuclear tests infected 'almost entire P...</td>\n",
       "      <td>Sex between coaches and teenagers in their car...</td>\n",
       "      <td>'Right to repair' law to come into effect this...</td>\n",
       "      <td>...</td>\n",
       "      <td>31,906.96</td>\n",
       "      <td>32,389.50</td>\n",
       "      <td>31,906.96</td>\n",
       "      <td>32,297.02</td>\n",
       "      <td>32,297.02</td>\n",
       "      <td>3,891.99</td>\n",
       "      <td>3,917.35</td>\n",
       "      <td>3,885.73</td>\n",
       "      <td>3,898.81</td>\n",
       "      <td>3,898.81</td>\n",
       "    </tr>\n",
       "    <tr>\n",
       "      <th>2</th>\n",
       "      <td>2021-03-11</td>\n",
       "      <td>Conspiracy Theorist Who Stormed Trudeau’s Prop...</td>\n",
       "      <td>Biden says he’ll share surplus US vaccines wit...</td>\n",
       "      <td>Mexico Passes Bill to Legalize Cannabis</td>\n",
       "      <td>India now as autocratic as Pakistan, worse tha...</td>\n",
       "      <td>Thousands in India demand top judge resign ove...</td>\n",
       "      <td>Hong Kong: China approves \"patriotic\" plan to ...</td>\n",
       "      <td>Myanmar’s military on ‘killing spree’ against ...</td>\n",
       "      <td>The Pfizer-BioNTech coronavirus vaccine 97% ef...</td>\n",
       "      <td>Myanmar's searing smartphone images flood a wa...</td>\n",
       "      <td>...</td>\n",
       "      <td>32,354.50</td>\n",
       "      <td>32,661.59</td>\n",
       "      <td>32,345.70</td>\n",
       "      <td>32,485.59</td>\n",
       "      <td>32,485.59</td>\n",
       "      <td>3,915.54</td>\n",
       "      <td>3,960.27</td>\n",
       "      <td>3,915.54</td>\n",
       "      <td>3,939.34</td>\n",
       "      <td>3,939.34</td>\n",
       "    </tr>\n",
       "    <tr>\n",
       "      <th>3</th>\n",
       "      <td>2021-03-12</td>\n",
       "      <td>Us secretary of state calls Taiwan \"country\"</td>\n",
       "      <td>Myanmar's military is likely committing \"crime...</td>\n",
       "      <td>Vaccination of Toronto's homeless well underwa...</td>\n",
       "      <td>Novavax vaccine 96% effective against original...</td>\n",
       "      <td>Kremlin critic Navalny moved from jail, wherea...</td>\n",
       "      <td>Global warming leads to fish die off in South ...</td>\n",
       "      <td>12 protesters killed in Myanmar as military de...</td>\n",
       "      <td>Drug clan leader testifies he bribed Honduran ...</td>\n",
       "      <td>Canadian health officials watching probes of A...</td>\n",
       "      <td>...</td>\n",
       "      <td>32,462.40</td>\n",
       "      <td>32,793.32</td>\n",
       "      <td>32,462.40</td>\n",
       "      <td>32,778.64</td>\n",
       "      <td>32,778.64</td>\n",
       "      <td>3,924.52</td>\n",
       "      <td>3,944.99</td>\n",
       "      <td>3,915.21</td>\n",
       "      <td>3,943.34</td>\n",
       "      <td>3,943.34</td>\n",
       "    </tr>\n",
       "    <tr>\n",
       "      <th>4</th>\n",
       "      <td>2021-03-13</td>\n",
       "      <td>Unions call strike at Amazon's logistic operat...</td>\n",
       "      <td>Sri Lanka will ban the wearing of the burqa an...</td>\n",
       "      <td>U.S. Offers Protected Status For People From M...</td>\n",
       "      <td>Japan detects new coronavirus variant from tra...</td>\n",
       "      <td>Odisha Man Creates 25 Acres of Mangrove Forest...</td>\n",
       "      <td>Sarah Everard: Met Police officer charged with...</td>\n",
       "      <td>Myanmar Protest Leader Wants The Military Out ...</td>\n",
       "      <td>Russia detains around 150 people, including le...</td>\n",
       "      <td>'Covid is taking over': Brazil plunges into de...</td>\n",
       "      <td>...</td>\n",
       "      <td>None</td>\n",
       "      <td>None</td>\n",
       "      <td>None</td>\n",
       "      <td>None</td>\n",
       "      <td>None</td>\n",
       "      <td>None</td>\n",
       "      <td>None</td>\n",
       "      <td>None</td>\n",
       "      <td>None</td>\n",
       "      <td>None</td>\n",
       "    </tr>\n",
       "    <tr>\n",
       "      <th>...</th>\n",
       "      <td>...</td>\n",
       "      <td>...</td>\n",
       "      <td>...</td>\n",
       "      <td>...</td>\n",
       "      <td>...</td>\n",
       "      <td>...</td>\n",
       "      <td>...</td>\n",
       "      <td>...</td>\n",
       "      <td>...</td>\n",
       "      <td>...</td>\n",
       "      <td>...</td>\n",
       "      <td>...</td>\n",
       "      <td>...</td>\n",
       "      <td>...</td>\n",
       "      <td>...</td>\n",
       "      <td>...</td>\n",
       "      <td>...</td>\n",
       "      <td>...</td>\n",
       "      <td>...</td>\n",
       "      <td>...</td>\n",
       "      <td>...</td>\n",
       "    </tr>\n",
       "    <tr>\n",
       "      <th>58</th>\n",
       "      <td>2021-05-06</td>\n",
       "      <td>Black Lives Matter Apparel Banned from Tokyo O...</td>\n",
       "      <td>Honeywell fined US$13 million for sharing mili...</td>\n",
       "      <td>Influencers jailed in Bali for fake mask video...</td>\n",
       "      <td>US seen as bigger threat to democracy than Rus...</td>\n",
       "      <td>Dutch Liberation Day: Merkel says Germany has ...</td>\n",
       "      <td>Giant wood moth so heavy it struggles to fly f...</td>\n",
       "      <td>UK supermarkets threaten to stop sourcing prod...</td>\n",
       "      <td>Ukraine starts closing gap with Russia; real i...</td>\n",
       "      <td>Vaccine tourism: Canadians fly south for shot ...</td>\n",
       "      <td>...</td>\n",
       "      <td>34,245.11</td>\n",
       "      <td>34,561.29</td>\n",
       "      <td>34,185.06</td>\n",
       "      <td>34,548.53</td>\n",
       "      <td>34,548.53</td>\n",
       "      <td>4,169.14</td>\n",
       "      <td>4,202.70</td>\n",
       "      <td>4,147.33</td>\n",
       "      <td>4,201.62</td>\n",
       "      <td>4,201.62</td>\n",
       "    </tr>\n",
       "    <tr>\n",
       "      <th>59</th>\n",
       "      <td>2021-05-07</td>\n",
       "      <td>Putin Looks to Make Equating Stalin, USSR to H...</td>\n",
       "      <td>Latvia officially recognizes Armenian Genocide</td>\n",
       "      <td>China’s greenhouse gas emissions exceed those ...</td>\n",
       "      <td>Bolsonaro faces criminal investigation, possib...</td>\n",
       "      <td>Ukraine’s Former Prosecutor General Said He Wa...</td>\n",
       "      <td>EU top court upholds ban on Bayer pesticides l...</td>\n",
       "      <td>Evidence found of forced sterilisation in Russ...</td>\n",
       "      <td>9,000 Fliers May Have Had Reused Swabs Jammed ...</td>\n",
       "      <td>In major move, South Africa to end captive lio...</td>\n",
       "      <td>...</td>\n",
       "      <td>34,578.27</td>\n",
       "      <td>34,699.98</td>\n",
       "      <td>34,464.31</td>\n",
       "      <td>34,696.24</td>\n",
       "      <td>34,696.24</td>\n",
       "      <td>4,210.34</td>\n",
       "      <td>4,233.04</td>\n",
       "      <td>4,201.64</td>\n",
       "      <td>4,233.04</td>\n",
       "      <td>4,233.04</td>\n",
       "    </tr>\n",
       "    <tr>\n",
       "      <th>60</th>\n",
       "      <td>2021-05-08</td>\n",
       "      <td>Scientists in the Netherlands have taught bees...</td>\n",
       "      <td>A Yemeni model arrested two months ago for \"ch...</td>\n",
       "      <td>80 percent of Pakistan’s pangolins lost to ill...</td>\n",
       "      <td>Afghanistan is being overrun by crystal meth a...</td>\n",
       "      <td>China has urged United Nations member states n...</td>\n",
       "      <td>Bill Gates backed company releases first batch...</td>\n",
       "      <td>Anti-Olympics campaign gains traction online i...</td>\n",
       "      <td>COVID is killing 120 people an hour in India, ...</td>\n",
       "      <td>Sheikh Jarrah Evictions Posts Being Censored b...</td>\n",
       "      <td>...</td>\n",
       "      <td>None</td>\n",
       "      <td>None</td>\n",
       "      <td>None</td>\n",
       "      <td>None</td>\n",
       "      <td>None</td>\n",
       "      <td>None</td>\n",
       "      <td>None</td>\n",
       "      <td>None</td>\n",
       "      <td>None</td>\n",
       "      <td>None</td>\n",
       "    </tr>\n",
       "    <tr>\n",
       "      <th>61</th>\n",
       "      <td>2021-05-09</td>\n",
       "      <td>Dozens of German priests will defy the Vatican...</td>\n",
       "      <td>Evidence of nine Neanderthals found in Italian...</td>\n",
       "      <td>Gay Croatian couple’s five-year legal battle e...</td>\n",
       "      <td>Senior Swiss diplomat in Iran found dead after...</td>\n",
       "      <td>Scottish nationalists vow new independence vot...</td>\n",
       "      <td>Pope Francis backs vaccine patents waiver to e...</td>\n",
       "      <td>Kabul attack: Blast near school leaves at leas...</td>\n",
       "      <td>Covid-sparked fungal infection assuming epidem...</td>\n",
       "      <td>Melting Glaciers Have Exposed Frozen Relics of...</td>\n",
       "      <td>...</td>\n",
       "      <td>None</td>\n",
       "      <td>None</td>\n",
       "      <td>None</td>\n",
       "      <td>None</td>\n",
       "      <td>None</td>\n",
       "      <td>None</td>\n",
       "      <td>None</td>\n",
       "      <td>None</td>\n",
       "      <td>None</td>\n",
       "      <td>None</td>\n",
       "    </tr>\n",
       "    <tr>\n",
       "      <th>62</th>\n",
       "      <td>2021-05-10</td>\n",
       "      <td>Indigenous leaders launch $2.1 billion class-a...</td>\n",
       "      <td>Russian Doc Who Lied About Navalny Poisoning ‘...</td>\n",
       "      <td>Angry protests have broken out in Kyrgyzstan a...</td>\n",
       "      <td>More than 50 people, many of them female stude...</td>\n",
       "      <td>Queen’s cousin Prince Michael of Kent accused ...</td>\n",
       "      <td>Arab world condemns Israel Police for violent ...</td>\n",
       "      <td>NASA criticizes China after rocket debris land...</td>\n",
       "      <td>Thousands to march in France demanding real ac...</td>\n",
       "      <td>Myanmar poet dies after detention, body return...</td>\n",
       "      <td>...</td>\n",
       "      <td>None</td>\n",
       "      <td>None</td>\n",
       "      <td>None</td>\n",
       "      <td>None</td>\n",
       "      <td>None</td>\n",
       "      <td>None</td>\n",
       "      <td>None</td>\n",
       "      <td>None</td>\n",
       "      <td>None</td>\n",
       "      <td>None</td>\n",
       "    </tr>\n",
       "  </tbody>\n",
       "</table>\n",
       "<p>63 rows × 41 columns</p>\n",
       "</div>"
      ],
      "text/plain": [
       "          date                                               top1  \\\n",
       "0   2021-03-09  China breaching every act in genocide conventi...   \n",
       "1   2021-03-10  Scientists Discover Chunk of Protoplanet Older...   \n",
       "2   2021-03-11  Conspiracy Theorist Who Stormed Trudeau’s Prop...   \n",
       "3   2021-03-12       Us secretary of state calls Taiwan \"country\"   \n",
       "4   2021-03-13  Unions call strike at Amazon's logistic operat...   \n",
       "..         ...                                                ...   \n",
       "58  2021-05-06  Black Lives Matter Apparel Banned from Tokyo O...   \n",
       "59  2021-05-07  Putin Looks to Make Equating Stalin, USSR to H...   \n",
       "60  2021-05-08  Scientists in the Netherlands have taught bees...   \n",
       "61  2021-05-09  Dozens of German priests will defy the Vatican...   \n",
       "62  2021-05-10  Indigenous leaders launch $2.1 billion class-a...   \n",
       "\n",
       "                                                 top2  \\\n",
       "0   Around 1,000 women gather in Istanbul to prote...   \n",
       "1   'Shoot till they are dead': Some Myanmar polic...   \n",
       "2   Biden says he’ll share surplus US vaccines wit...   \n",
       "3   Myanmar's military is likely committing \"crime...   \n",
       "4   Sri Lanka will ban the wearing of the burqa an...   \n",
       "..                                                ...   \n",
       "58  Honeywell fined US$13 million for sharing mili...   \n",
       "59     Latvia officially recognizes Armenian Genocide   \n",
       "60  A Yemeni model arrested two months ago for \"ch...   \n",
       "61  Evidence of nine Neanderthals found in Italian...   \n",
       "62  Russian Doc Who Lied About Navalny Poisoning ‘...   \n",
       "\n",
       "                                                 top3  \\\n",
       "0   Greta Thunberg says Biden isn’t doing ‘nearly ...   \n",
       "1   Biden to meet virtually with leaders of Japan,...   \n",
       "2             Mexico Passes Bill to Legalize Cannabis   \n",
       "3   Vaccination of Toronto's homeless well underwa...   \n",
       "4   U.S. Offers Protected Status For People From M...   \n",
       "..                                                ...   \n",
       "58  Influencers jailed in Bali for fake mask video...   \n",
       "59  China’s greenhouse gas emissions exceed those ...   \n",
       "60  80 percent of Pakistan’s pangolins lost to ill...   \n",
       "61  Gay Croatian couple’s five-year legal battle e...   \n",
       "62  Angry protests have broken out in Kyrgyzstan a...   \n",
       "\n",
       "                                                 top4  \\\n",
       "0   Humans have 'destroyed or degraded' two-thirds...   \n",
       "1   Up to 1,000 Christian, Hindu and Sikh girls ar...   \n",
       "2   India now as autocratic as Pakistan, worse tha...   \n",
       "3   Novavax vaccine 96% effective against original...   \n",
       "4   Japan detects new coronavirus variant from tra...   \n",
       "..                                                ...   \n",
       "58  US seen as bigger threat to democracy than Rus...   \n",
       "59  Bolsonaro faces criminal investigation, possib...   \n",
       "60  Afghanistan is being overrun by crystal meth a...   \n",
       "61  Senior Swiss diplomat in Iran found dead after...   \n",
       "62  More than 50 people, many of them female stude...   \n",
       "\n",
       "                                                 top5  \\\n",
       "0   Biden and Europe allies worry Israel is prepar...   \n",
       "1   Papuan island inhabitants, whose island was of...   \n",
       "2   Thousands in India demand top judge resign ove...   \n",
       "3   Kremlin critic Navalny moved from jail, wherea...   \n",
       "4   Odisha Man Creates 25 Acres of Mangrove Forest...   \n",
       "..                                                ...   \n",
       "58  Dutch Liberation Day: Merkel says Germany has ...   \n",
       "59  Ukraine’s Former Prosecutor General Said He Wa...   \n",
       "60  China has urged United Nations member states n...   \n",
       "61  Scottish nationalists vow new independence vot...   \n",
       "62  Queen’s cousin Prince Michael of Kent accused ...   \n",
       "\n",
       "                                                 top6  \\\n",
       "0   Syrian President Assad tests positive for COVI...   \n",
       "1   China’s appetite for meat fades as vegan revol...   \n",
       "2   Hong Kong: China approves \"patriotic\" plan to ...   \n",
       "3   Global warming leads to fish die off in South ...   \n",
       "4   Sarah Everard: Met Police officer charged with...   \n",
       "..                                                ...   \n",
       "58  Giant wood moth so heavy it struggles to fly f...   \n",
       "59  EU top court upholds ban on Bayer pesticides l...   \n",
       "60  Bill Gates backed company releases first batch...   \n",
       "61  Pope Francis backs vaccine patents waiver to e...   \n",
       "62  Arab world condemns Israel Police for violent ...   \n",
       "\n",
       "                                                 top7  \\\n",
       "0   Covid-19: 'Certain inevitability' that visitor...   \n",
       "1   French nuclear tests infected 'almost entire P...   \n",
       "2   Myanmar’s military on ‘killing spree’ against ...   \n",
       "3   12 protesters killed in Myanmar as military de...   \n",
       "4   Myanmar Protest Leader Wants The Military Out ...   \n",
       "..                                                ...   \n",
       "58  UK supermarkets threaten to stop sourcing prod...   \n",
       "59  Evidence found of forced sterilisation in Russ...   \n",
       "60  Anti-Olympics campaign gains traction online i...   \n",
       "61  Kabul attack: Blast near school leaves at leas...   \n",
       "62  NASA criticizes China after rocket debris land...   \n",
       "\n",
       "                                                 top8  \\\n",
       "0   First Nation asks UN expert to probe systemic ...   \n",
       "1   Sex between coaches and teenagers in their car...   \n",
       "2   The Pfizer-BioNTech coronavirus vaccine 97% ef...   \n",
       "3   Drug clan leader testifies he bribed Honduran ...   \n",
       "4   Russia detains around 150 people, including le...   \n",
       "..                                                ...   \n",
       "58  Ukraine starts closing gap with Russia; real i...   \n",
       "59  9,000 Fliers May Have Had Reused Swabs Jammed ...   \n",
       "60  COVID is killing 120 people an hour in India, ...   \n",
       "61  Covid-sparked fungal infection assuming epidem...   \n",
       "62  Thousands to march in France demanding real ac...   \n",
       "\n",
       "                                                 top9  ...   DJI_Open  \\\n",
       "0   Brazil Supreme Court judge annuls ex-president...  ...  31,892.35   \n",
       "1   'Right to repair' law to come into effect this...  ...  31,906.96   \n",
       "2   Myanmar's searing smartphone images flood a wa...  ...  32,354.50   \n",
       "3   Canadian health officials watching probes of A...  ...  32,462.40   \n",
       "4   'Covid is taking over': Brazil plunges into de...  ...       None   \n",
       "..                                                ...  ...        ...   \n",
       "58  Vaccine tourism: Canadians fly south for shot ...  ...  34,245.11   \n",
       "59  In major move, South Africa to end captive lio...  ...  34,578.27   \n",
       "60  Sheikh Jarrah Evictions Posts Being Censored b...  ...       None   \n",
       "61  Melting Glaciers Have Exposed Frozen Relics of...  ...       None   \n",
       "62  Myanmar poet dies after detention, body return...  ...       None   \n",
       "\n",
       "     DJI_High    DJI_Low  DJI_Close DJI_Adj_Close SP500_Open SP500_High  \\\n",
       "0   32,150.32  31,822.64  31,832.74     31,832.74   3,851.93   3,903.76   \n",
       "1   32,389.50  31,906.96  32,297.02     32,297.02   3,891.99   3,917.35   \n",
       "2   32,661.59  32,345.70  32,485.59     32,485.59   3,915.54   3,960.27   \n",
       "3   32,793.32  32,462.40  32,778.64     32,778.64   3,924.52   3,944.99   \n",
       "4        None       None       None          None       None       None   \n",
       "..        ...        ...        ...           ...        ...        ...   \n",
       "58  34,561.29  34,185.06  34,548.53     34,548.53   4,169.14   4,202.70   \n",
       "59  34,699.98  34,464.31  34,696.24     34,696.24   4,210.34   4,233.04   \n",
       "60       None       None       None          None       None       None   \n",
       "61       None       None       None          None       None       None   \n",
       "62       None       None       None          None       None       None   \n",
       "\n",
       "   SP500_Low SP500_Close SP500_Adj_Close  \n",
       "0   3,851.93    3,875.44        3,875.44  \n",
       "1   3,885.73    3,898.81        3,898.81  \n",
       "2   3,915.54    3,939.34        3,939.34  \n",
       "3   3,915.21    3,943.34        3,943.34  \n",
       "4       None        None            None  \n",
       "..       ...         ...             ...  \n",
       "58  4,147.33    4,201.62        4,201.62  \n",
       "59  4,201.64    4,233.04        4,233.04  \n",
       "60      None        None            None  \n",
       "61      None        None            None  \n",
       "62      None        None            None  \n",
       "\n",
       "[63 rows x 41 columns]"
      ]
     },
     "execution_count": 105,
     "metadata": {},
     "output_type": "execute_result"
    }
   ],
   "source": [
    "connection = sqlite3.connect('MSC.db')\n",
    "cursor = connection.cursor()\n",
    "\n",
    "sql = ('''Select \n",
    "            main.date,\n",
    "            top1,top2,top3,top4,top5,\n",
    "            top6,top7,top8,top9,top10,\n",
    "            top11,top12,top13,top14,top15,\n",
    "            top16,top17,top18,top19,top20,\n",
    "            top21,top22,top23,top24,top25,\n",
    "            top26,top27,top28,top29,top30,\n",
    "            \n",
    "            DJI_Open,\n",
    "            DJI_High,\n",
    "            DJI_Low,\n",
    "            DJI_Close,\n",
    "            DJI_Adj_Close,\n",
    "            \n",
    "            SP500_Open,\n",
    "            SP500_High,\n",
    "            SP500_Low,\n",
    "            SP500_Close,\n",
    "            SP500_Adj_Close\n",
    "\n",
    "            from main\n",
    "            left join DJI on\n",
    "            main.date = date(DJI.Date)\n",
    "            left join SP500 on\n",
    "            main.date = date(SP500.Date)\n",
    "\n",
    "       ''')\n",
    "df = pd.read_sql_query(sql,connection)\n",
    "df"
   ]
  },
  {
   "cell_type": "code",
   "execution_count": 106,
   "metadata": {
    "ExecuteTime": {
     "end_time": "2021-05-10T19:40:43.112692Z",
     "start_time": "2021-05-10T19:40:42.981466Z"
    }
   },
   "outputs": [
    {
     "data": {
      "text/plain": [
       "date                0\n",
       "top1                0\n",
       "top2                0\n",
       "top3                0\n",
       "top4                0\n",
       "top5                0\n",
       "top6                0\n",
       "top7                0\n",
       "top8                0\n",
       "top9                0\n",
       "top10               0\n",
       "top11               0\n",
       "top12               0\n",
       "top13               0\n",
       "top14               0\n",
       "top15               0\n",
       "top16               0\n",
       "top17               0\n",
       "top18               0\n",
       "top19               0\n",
       "top20               0\n",
       "top21               0\n",
       "top22               0\n",
       "top23               0\n",
       "top24               0\n",
       "top25               0\n",
       "top26               0\n",
       "top27               0\n",
       "top28               0\n",
       "top29               0\n",
       "top30               0\n",
       "DJI_Open           20\n",
       "DJI_High           20\n",
       "DJI_Low            20\n",
       "DJI_Close          20\n",
       "DJI_Adj_Close      20\n",
       "SP500_Open         20\n",
       "SP500_High         20\n",
       "SP500_Low          20\n",
       "SP500_Close        20\n",
       "SP500_Adj_Close    20\n",
       "dtype: int64"
      ]
     },
     "execution_count": 106,
     "metadata": {},
     "output_type": "execute_result"
    }
   ],
   "source": [
    "z.isnull().sum()"
   ]
  },
  {
   "cell_type": "code",
   "execution_count": 97,
   "metadata": {
    "ExecuteTime": {
     "end_time": "2021-05-10T19:37:09.086841Z",
     "start_time": "2021-05-10T19:36:45.588503Z"
    }
   },
   "outputs": [],
   "source": [
    "from sklearn.model_selection import cross_val_score\n",
    "from sklearn.feature_selection import VarianceThreshold\n",
    "from sklearn.preprocessing import StandardScaler\n",
    "from nltk.sentiment.vader import SentimentIntensityAnalyzer\n",
    "from textblob import TextBlob"
   ]
  },
  {
   "cell_type": "code",
   "execution_count": 101,
   "metadata": {
    "ExecuteTime": {
     "end_time": "2021-05-10T19:38:09.236389Z",
     "start_time": "2021-05-10T19:38:08.776214Z"
    }
   },
   "outputs": [
    {
     "data": {
      "text/plain": [
       "{'neg': 0.0, 'neu': 0.0, 'pos': 0.0, 'compound': 0.0}"
      ]
     },
     "execution_count": 101,
     "metadata": {},
     "output_type": "execute_result"
    }
   ],
   "source": [
    "Anakin = SentimentIntensityAnalyzer()\n",
    "Anakin.polarity_scores(\" \")"
   ]
  },
  {
   "cell_type": "code",
   "execution_count": 149,
   "metadata": {
    "ExecuteTime": {
     "end_time": "2021-05-10T19:56:35.659843Z",
     "start_time": "2021-05-10T19:56:35.651718Z"
    }
   },
   "outputs": [
    {
     "data": {
      "text/plain": [
       "0.0"
      ]
     },
     "execution_count": 149,
     "metadata": {},
     "output_type": "execute_result"
    }
   ],
   "source": [
    "def detect_subjectivity(text):\n",
    "    '''\n",
    "    subjectivity is a float within the range [0.0, 1.0] where 0.0 is very objective and 1.0 is very subjective.\n",
    "    '''\n",
    "    return TextBlob(text).sentiment.subjectivity\n",
    "\n",
    "detect_subjectivity(\" \") #should return 0\n",
    "\n"
   ]
  },
  {
   "cell_type": "code",
   "execution_count": 126,
   "metadata": {
    "ExecuteTime": {
     "end_time": "2021-05-10T19:48:01.014884Z",
     "start_time": "2021-05-10T19:47:59.823338Z"
    }
   },
   "outputs": [
    {
     "name": "stdout",
     "output_type": "stream",
     "text": [
      "top1 Done\n",
      "top2 Done\n",
      "top3 Done\n",
      "top4 Done\n",
      "top5 Done\n",
      "top6 Done\n",
      "top7 Done\n",
      "top8 Done\n",
      "top9 Done\n",
      "top10 Done\n",
      "top11 Done\n",
      "top12 Done\n",
      "top13 Done\n",
      "top14 Done\n",
      "top15 Done\n",
      "top16 Done\n",
      "top17 Done\n",
      "top18 Done\n",
      "top19 Done\n",
      "top20 Done\n",
      "top21 Done\n",
      "top22 Done\n",
      "top23 Done\n",
      "top24 Done\n",
      "top25 Done\n",
      "top26 Done\n",
      "top27 Done\n",
      "top28 Done\n",
      "top29 Done\n",
      "top30 Done\n",
      "VADER: Vaderization completed after 0.02 Minutes\n"
     ]
    }
   ],
   "source": [
    "start_vect=time.time()\n",
    "#get the name of the headline columns\n",
    "cols = []\n",
    "for i in range(1,31):\n",
    "    col = (\"top{}\".format(i))\n",
    "    cols.append(col)\n",
    "    \n",
    "for col in cols:\n",
    "    df[col] = df[col].astype(str) # Make sure data is treated as a string\n",
    "    df[col+'_comp']= df[col].apply(lambda x:Anakin.polarity_scores(x)['compound'])\n",
    "    df[col+'_sub'] = df[col].apply(detect_subjectivity)\n",
    "    print(\"{} Done\".format(col))\n",
    "    \n",
    "print(\"VADER: Vaderization completed after %0.2f Minutes\"%((time.time() - start_vect)/60))\n"
   ]
  },
  {
   "cell_type": "code",
   "execution_count": 173,
   "metadata": {
    "ExecuteTime": {
     "end_time": "2021-05-10T20:04:40.502842Z",
     "start_time": "2021-05-10T20:04:40.498809Z"
    }
   },
   "outputs": [],
   "source": [
    "import numpy as np"
   ]
  },
  {
   "cell_type": "code",
   "execution_count": 176,
   "metadata": {
    "ExecuteTime": {
     "end_time": "2021-05-10T20:05:32.889937Z",
     "start_time": "2021-05-10T20:05:32.459357Z"
    }
   },
   "outputs": [
    {
     "name": "stdout",
     "output_type": "stream",
     "text": [
      "['top1_comp', 'top2_comp', 'top3_comp', 'top4_comp', 'top5_comp', 'top6_comp', 'top7_comp', 'top8_comp', 'top9_comp', 'top10_comp', 'top11_comp', 'top12_comp', 'top13_comp', 'top14_comp', 'top15_comp', 'top16_comp', 'top17_comp', 'top18_comp', 'top19_comp', 'top20_comp', 'top21_comp', 'top22_comp', 'top23_comp', 'top24_comp', 'top25_comp', 'top26_comp', 'top27_comp', 'top28_comp', 'top29_comp', 'top30_comp']\n"
     ]
    },
    {
     "ename": "KeyError",
     "evalue": "\"None of [Index(['top1_comp', 'top2_comp', 'top3_comp', 'top4_comp', 'top5_comp',\\n       'top6_comp', 'top7_comp', 'top8_comp', 'top9_comp', 'top10_comp',\\n       'top11_comp', 'top12_comp', 'top13_comp', 'top14_comp', 'top15_comp',\\n       'top16_comp', 'top17_comp', 'top18_comp', 'top19_comp', 'top20_comp',\\n       'top21_comp', 'top22_comp', 'top23_comp', 'top24_comp', 'top25_comp',\\n       'top26_comp', 'top27_comp', 'top28_comp', 'top29_comp', 'top30_comp'],\\n      dtype='object')] are in the [index]\"",
     "output_type": "error",
     "traceback": [
      "\u001b[0;31m---------------------------------------------------------------------------\u001b[0m",
      "\u001b[0;31mKeyError\u001b[0m                                  Traceback (most recent call last)",
      "\u001b[0;32m<ipython-input-176-9eee73aba913>\u001b[0m in \u001b[0;36m<module>\u001b[0;34m\u001b[0m\n\u001b[1;32m      9\u001b[0m \u001b[0mmin_comp\u001b[0m \u001b[0;34m=\u001b[0m \u001b[0;34m[\u001b[0m\u001b[0;34m]\u001b[0m\u001b[0;34m\u001b[0m\u001b[0;34m\u001b[0m\u001b[0m\n\u001b[1;32m     10\u001b[0m \u001b[0;32mfor\u001b[0m \u001b[0mi\u001b[0m \u001b[0;32min\u001b[0m \u001b[0mrange\u001b[0m\u001b[0;34m(\u001b[0m\u001b[0;36m0\u001b[0m\u001b[0;34m,\u001b[0m\u001b[0;36m31\u001b[0m\u001b[0;34m)\u001b[0m\u001b[0;34m:\u001b[0m\u001b[0;34m\u001b[0m\u001b[0;34m\u001b[0m\u001b[0m\n\u001b[0;32m---> 11\u001b[0;31m     \u001b[0ma\u001b[0m \u001b[0;34m=\u001b[0m \u001b[0mdf\u001b[0m\u001b[0;34m.\u001b[0m\u001b[0mloc\u001b[0m\u001b[0;34m[\u001b[0m\u001b[0mi\u001b[0m\u001b[0;34m,\u001b[0m\u001b[0mcomp_cols\u001b[0m\u001b[0;34m]\u001b[0m\u001b[0;34m.\u001b[0m\u001b[0mtolist\u001b[0m\u001b[0;34m(\u001b[0m\u001b[0;34m)\u001b[0m\u001b[0;34m\u001b[0m\u001b[0;34m\u001b[0m\u001b[0m\n\u001b[0m\u001b[1;32m     12\u001b[0m     \u001b[0mweighted_comp\u001b[0m\u001b[0;34m.\u001b[0m\u001b[0mappend\u001b[0m\u001b[0;34m(\u001b[0m\u001b[0mnp\u001b[0m\u001b[0;34m.\u001b[0m\u001b[0maverage\u001b[0m\u001b[0;34m(\u001b[0m\u001b[0ma\u001b[0m\u001b[0;34m,\u001b[0m \u001b[0mweights\u001b[0m\u001b[0;34m=\u001b[0m\u001b[0mw\u001b[0m\u001b[0;34m)\u001b[0m\u001b[0;34m)\u001b[0m\u001b[0;34m\u001b[0m\u001b[0;34m\u001b[0m\u001b[0m\n\u001b[1;32m     13\u001b[0m     \u001b[0mmax_comp\u001b[0m\u001b[0;34m.\u001b[0m\u001b[0mappend\u001b[0m\u001b[0;34m(\u001b[0m\u001b[0mmax\u001b[0m\u001b[0;34m(\u001b[0m\u001b[0ma\u001b[0m\u001b[0;34m)\u001b[0m\u001b[0;34m)\u001b[0m\u001b[0;34m\u001b[0m\u001b[0;34m\u001b[0m\u001b[0m\n",
      "\u001b[0;32m~/opt/anaconda3/lib/python3.7/site-packages/pandas/core/indexing.py\u001b[0m in \u001b[0;36m__getitem__\u001b[0;34m(self, key)\u001b[0m\n\u001b[1;32m    887\u001b[0m                     \u001b[0;31m# AttributeError for IntervalTree get_value\u001b[0m\u001b[0;34m\u001b[0m\u001b[0;34m\u001b[0m\u001b[0;34m\u001b[0m\u001b[0m\n\u001b[1;32m    888\u001b[0m                     \u001b[0;32mreturn\u001b[0m \u001b[0mself\u001b[0m\u001b[0;34m.\u001b[0m\u001b[0mobj\u001b[0m\u001b[0;34m.\u001b[0m\u001b[0m_get_value\u001b[0m\u001b[0;34m(\u001b[0m\u001b[0;34m*\u001b[0m\u001b[0mkey\u001b[0m\u001b[0;34m,\u001b[0m \u001b[0mtakeable\u001b[0m\u001b[0;34m=\u001b[0m\u001b[0mself\u001b[0m\u001b[0;34m.\u001b[0m\u001b[0m_takeable\u001b[0m\u001b[0;34m)\u001b[0m\u001b[0;34m\u001b[0m\u001b[0;34m\u001b[0m\u001b[0m\n\u001b[0;32m--> 889\u001b[0;31m             \u001b[0;32mreturn\u001b[0m \u001b[0mself\u001b[0m\u001b[0;34m.\u001b[0m\u001b[0m_getitem_tuple\u001b[0m\u001b[0;34m(\u001b[0m\u001b[0mkey\u001b[0m\u001b[0;34m)\u001b[0m\u001b[0;34m\u001b[0m\u001b[0;34m\u001b[0m\u001b[0m\n\u001b[0m\u001b[1;32m    890\u001b[0m         \u001b[0;32melse\u001b[0m\u001b[0;34m:\u001b[0m\u001b[0;34m\u001b[0m\u001b[0;34m\u001b[0m\u001b[0m\n\u001b[1;32m    891\u001b[0m             \u001b[0;31m# we by definition only have the 0th axis\u001b[0m\u001b[0;34m\u001b[0m\u001b[0;34m\u001b[0m\u001b[0;34m\u001b[0m\u001b[0m\n",
      "\u001b[0;32m~/opt/anaconda3/lib/python3.7/site-packages/pandas/core/indexing.py\u001b[0m in \u001b[0;36m_getitem_tuple\u001b[0;34m(self, tup)\u001b[0m\n\u001b[1;32m   1058\u001b[0m     \u001b[0;32mdef\u001b[0m \u001b[0m_getitem_tuple\u001b[0m\u001b[0;34m(\u001b[0m\u001b[0mself\u001b[0m\u001b[0;34m,\u001b[0m \u001b[0mtup\u001b[0m\u001b[0;34m:\u001b[0m \u001b[0mTuple\u001b[0m\u001b[0;34m)\u001b[0m\u001b[0;34m:\u001b[0m\u001b[0;34m\u001b[0m\u001b[0;34m\u001b[0m\u001b[0m\n\u001b[1;32m   1059\u001b[0m         \u001b[0;32mwith\u001b[0m \u001b[0msuppress\u001b[0m\u001b[0;34m(\u001b[0m\u001b[0mIndexingError\u001b[0m\u001b[0;34m)\u001b[0m\u001b[0;34m:\u001b[0m\u001b[0;34m\u001b[0m\u001b[0;34m\u001b[0m\u001b[0m\n\u001b[0;32m-> 1060\u001b[0;31m             \u001b[0;32mreturn\u001b[0m \u001b[0mself\u001b[0m\u001b[0;34m.\u001b[0m\u001b[0m_getitem_lowerdim\u001b[0m\u001b[0;34m(\u001b[0m\u001b[0mtup\u001b[0m\u001b[0;34m)\u001b[0m\u001b[0;34m\u001b[0m\u001b[0;34m\u001b[0m\u001b[0m\n\u001b[0m\u001b[1;32m   1061\u001b[0m \u001b[0;34m\u001b[0m\u001b[0m\n\u001b[1;32m   1062\u001b[0m         \u001b[0;31m# no multi-index, so validate all of the indexers\u001b[0m\u001b[0;34m\u001b[0m\u001b[0;34m\u001b[0m\u001b[0;34m\u001b[0m\u001b[0m\n",
      "\u001b[0;32m~/opt/anaconda3/lib/python3.7/site-packages/pandas/core/indexing.py\u001b[0m in \u001b[0;36m_getitem_lowerdim\u001b[0;34m(self, tup)\u001b[0m\n\u001b[1;32m    829\u001b[0m                     \u001b[0;32mreturn\u001b[0m \u001b[0msection\u001b[0m\u001b[0;34m\u001b[0m\u001b[0;34m\u001b[0m\u001b[0m\n\u001b[1;32m    830\u001b[0m                 \u001b[0;31m# This is an elided recursive call to iloc/loc\u001b[0m\u001b[0;34m\u001b[0m\u001b[0;34m\u001b[0m\u001b[0;34m\u001b[0m\u001b[0m\n\u001b[0;32m--> 831\u001b[0;31m                 \u001b[0;32mreturn\u001b[0m \u001b[0mgetattr\u001b[0m\u001b[0;34m(\u001b[0m\u001b[0msection\u001b[0m\u001b[0;34m,\u001b[0m \u001b[0mself\u001b[0m\u001b[0;34m.\u001b[0m\u001b[0mname\u001b[0m\u001b[0;34m)\u001b[0m\u001b[0;34m[\u001b[0m\u001b[0mnew_key\u001b[0m\u001b[0;34m]\u001b[0m\u001b[0;34m\u001b[0m\u001b[0;34m\u001b[0m\u001b[0m\n\u001b[0m\u001b[1;32m    832\u001b[0m \u001b[0;34m\u001b[0m\u001b[0m\n\u001b[1;32m    833\u001b[0m         \u001b[0;32mraise\u001b[0m \u001b[0mIndexingError\u001b[0m\u001b[0;34m(\u001b[0m\u001b[0;34m\"not applicable\"\u001b[0m\u001b[0;34m)\u001b[0m\u001b[0;34m\u001b[0m\u001b[0;34m\u001b[0m\u001b[0m\n",
      "\u001b[0;32m~/opt/anaconda3/lib/python3.7/site-packages/pandas/core/indexing.py\u001b[0m in \u001b[0;36m__getitem__\u001b[0;34m(self, key)\u001b[0m\n\u001b[1;32m    893\u001b[0m \u001b[0;34m\u001b[0m\u001b[0m\n\u001b[1;32m    894\u001b[0m             \u001b[0mmaybe_callable\u001b[0m \u001b[0;34m=\u001b[0m \u001b[0mcom\u001b[0m\u001b[0;34m.\u001b[0m\u001b[0mapply_if_callable\u001b[0m\u001b[0;34m(\u001b[0m\u001b[0mkey\u001b[0m\u001b[0;34m,\u001b[0m \u001b[0mself\u001b[0m\u001b[0;34m.\u001b[0m\u001b[0mobj\u001b[0m\u001b[0;34m)\u001b[0m\u001b[0;34m\u001b[0m\u001b[0;34m\u001b[0m\u001b[0m\n\u001b[0;32m--> 895\u001b[0;31m             \u001b[0;32mreturn\u001b[0m \u001b[0mself\u001b[0m\u001b[0;34m.\u001b[0m\u001b[0m_getitem_axis\u001b[0m\u001b[0;34m(\u001b[0m\u001b[0mmaybe_callable\u001b[0m\u001b[0;34m,\u001b[0m \u001b[0maxis\u001b[0m\u001b[0;34m=\u001b[0m\u001b[0maxis\u001b[0m\u001b[0;34m)\u001b[0m\u001b[0;34m\u001b[0m\u001b[0;34m\u001b[0m\u001b[0m\n\u001b[0m\u001b[1;32m    896\u001b[0m \u001b[0;34m\u001b[0m\u001b[0m\n\u001b[1;32m    897\u001b[0m     \u001b[0;32mdef\u001b[0m \u001b[0m_is_scalar_access\u001b[0m\u001b[0;34m(\u001b[0m\u001b[0mself\u001b[0m\u001b[0;34m,\u001b[0m \u001b[0mkey\u001b[0m\u001b[0;34m:\u001b[0m \u001b[0mTuple\u001b[0m\u001b[0;34m)\u001b[0m\u001b[0;34m:\u001b[0m\u001b[0;34m\u001b[0m\u001b[0;34m\u001b[0m\u001b[0m\n",
      "\u001b[0;32m~/opt/anaconda3/lib/python3.7/site-packages/pandas/core/indexing.py\u001b[0m in \u001b[0;36m_getitem_axis\u001b[0;34m(self, key, axis)\u001b[0m\n\u001b[1;32m   1111\u001b[0m                     \u001b[0;32mraise\u001b[0m \u001b[0mValueError\u001b[0m\u001b[0;34m(\u001b[0m\u001b[0;34m\"Cannot index with multidimensional key\"\u001b[0m\u001b[0;34m)\u001b[0m\u001b[0;34m\u001b[0m\u001b[0;34m\u001b[0m\u001b[0m\n\u001b[1;32m   1112\u001b[0m \u001b[0;34m\u001b[0m\u001b[0m\n\u001b[0;32m-> 1113\u001b[0;31m                 \u001b[0;32mreturn\u001b[0m \u001b[0mself\u001b[0m\u001b[0;34m.\u001b[0m\u001b[0m_getitem_iterable\u001b[0m\u001b[0;34m(\u001b[0m\u001b[0mkey\u001b[0m\u001b[0;34m,\u001b[0m \u001b[0maxis\u001b[0m\u001b[0;34m=\u001b[0m\u001b[0maxis\u001b[0m\u001b[0;34m)\u001b[0m\u001b[0;34m\u001b[0m\u001b[0;34m\u001b[0m\u001b[0m\n\u001b[0m\u001b[1;32m   1114\u001b[0m \u001b[0;34m\u001b[0m\u001b[0m\n\u001b[1;32m   1115\u001b[0m             \u001b[0;31m# nested tuple slicing\u001b[0m\u001b[0;34m\u001b[0m\u001b[0;34m\u001b[0m\u001b[0;34m\u001b[0m\u001b[0m\n",
      "\u001b[0;32m~/opt/anaconda3/lib/python3.7/site-packages/pandas/core/indexing.py\u001b[0m in \u001b[0;36m_getitem_iterable\u001b[0;34m(self, key, axis)\u001b[0m\n\u001b[1;32m   1051\u001b[0m \u001b[0;34m\u001b[0m\u001b[0m\n\u001b[1;32m   1052\u001b[0m         \u001b[0;31m# A collection of keys\u001b[0m\u001b[0;34m\u001b[0m\u001b[0;34m\u001b[0m\u001b[0;34m\u001b[0m\u001b[0m\n\u001b[0;32m-> 1053\u001b[0;31m         \u001b[0mkeyarr\u001b[0m\u001b[0;34m,\u001b[0m \u001b[0mindexer\u001b[0m \u001b[0;34m=\u001b[0m \u001b[0mself\u001b[0m\u001b[0;34m.\u001b[0m\u001b[0m_get_listlike_indexer\u001b[0m\u001b[0;34m(\u001b[0m\u001b[0mkey\u001b[0m\u001b[0;34m,\u001b[0m \u001b[0maxis\u001b[0m\u001b[0;34m,\u001b[0m \u001b[0mraise_missing\u001b[0m\u001b[0;34m=\u001b[0m\u001b[0;32mFalse\u001b[0m\u001b[0;34m)\u001b[0m\u001b[0;34m\u001b[0m\u001b[0;34m\u001b[0m\u001b[0m\n\u001b[0m\u001b[1;32m   1054\u001b[0m         return self.obj._reindex_with_indexers(\n\u001b[1;32m   1055\u001b[0m             \u001b[0;34m{\u001b[0m\u001b[0maxis\u001b[0m\u001b[0;34m:\u001b[0m \u001b[0;34m[\u001b[0m\u001b[0mkeyarr\u001b[0m\u001b[0;34m,\u001b[0m \u001b[0mindexer\u001b[0m\u001b[0;34m]\u001b[0m\u001b[0;34m}\u001b[0m\u001b[0;34m,\u001b[0m \u001b[0mcopy\u001b[0m\u001b[0;34m=\u001b[0m\u001b[0;32mTrue\u001b[0m\u001b[0;34m,\u001b[0m \u001b[0mallow_dups\u001b[0m\u001b[0;34m=\u001b[0m\u001b[0;32mTrue\u001b[0m\u001b[0;34m\u001b[0m\u001b[0;34m\u001b[0m\u001b[0m\n",
      "\u001b[0;32m~/opt/anaconda3/lib/python3.7/site-packages/pandas/core/indexing.py\u001b[0m in \u001b[0;36m_get_listlike_indexer\u001b[0;34m(self, key, axis, raise_missing)\u001b[0m\n\u001b[1;32m   1264\u001b[0m             \u001b[0mkeyarr\u001b[0m\u001b[0;34m,\u001b[0m \u001b[0mindexer\u001b[0m\u001b[0;34m,\u001b[0m \u001b[0mnew_indexer\u001b[0m \u001b[0;34m=\u001b[0m \u001b[0max\u001b[0m\u001b[0;34m.\u001b[0m\u001b[0m_reindex_non_unique\u001b[0m\u001b[0;34m(\u001b[0m\u001b[0mkeyarr\u001b[0m\u001b[0;34m)\u001b[0m\u001b[0;34m\u001b[0m\u001b[0;34m\u001b[0m\u001b[0m\n\u001b[1;32m   1265\u001b[0m \u001b[0;34m\u001b[0m\u001b[0m\n\u001b[0;32m-> 1266\u001b[0;31m         \u001b[0mself\u001b[0m\u001b[0;34m.\u001b[0m\u001b[0m_validate_read_indexer\u001b[0m\u001b[0;34m(\u001b[0m\u001b[0mkeyarr\u001b[0m\u001b[0;34m,\u001b[0m \u001b[0mindexer\u001b[0m\u001b[0;34m,\u001b[0m \u001b[0maxis\u001b[0m\u001b[0;34m,\u001b[0m \u001b[0mraise_missing\u001b[0m\u001b[0;34m=\u001b[0m\u001b[0mraise_missing\u001b[0m\u001b[0;34m)\u001b[0m\u001b[0;34m\u001b[0m\u001b[0;34m\u001b[0m\u001b[0m\n\u001b[0m\u001b[1;32m   1267\u001b[0m         \u001b[0;32mreturn\u001b[0m \u001b[0mkeyarr\u001b[0m\u001b[0;34m,\u001b[0m \u001b[0mindexer\u001b[0m\u001b[0;34m\u001b[0m\u001b[0;34m\u001b[0m\u001b[0m\n\u001b[1;32m   1268\u001b[0m \u001b[0;34m\u001b[0m\u001b[0m\n",
      "\u001b[0;32m~/opt/anaconda3/lib/python3.7/site-packages/pandas/core/indexing.py\u001b[0m in \u001b[0;36m_validate_read_indexer\u001b[0;34m(self, key, indexer, axis, raise_missing)\u001b[0m\n\u001b[1;32m   1306\u001b[0m             \u001b[0;32mif\u001b[0m \u001b[0mmissing\u001b[0m \u001b[0;34m==\u001b[0m \u001b[0mlen\u001b[0m\u001b[0;34m(\u001b[0m\u001b[0mindexer\u001b[0m\u001b[0;34m)\u001b[0m\u001b[0;34m:\u001b[0m\u001b[0;34m\u001b[0m\u001b[0;34m\u001b[0m\u001b[0m\n\u001b[1;32m   1307\u001b[0m                 \u001b[0maxis_name\u001b[0m \u001b[0;34m=\u001b[0m \u001b[0mself\u001b[0m\u001b[0;34m.\u001b[0m\u001b[0mobj\u001b[0m\u001b[0;34m.\u001b[0m\u001b[0m_get_axis_name\u001b[0m\u001b[0;34m(\u001b[0m\u001b[0maxis\u001b[0m\u001b[0;34m)\u001b[0m\u001b[0;34m\u001b[0m\u001b[0;34m\u001b[0m\u001b[0m\n\u001b[0;32m-> 1308\u001b[0;31m                 \u001b[0;32mraise\u001b[0m \u001b[0mKeyError\u001b[0m\u001b[0;34m(\u001b[0m\u001b[0;34mf\"None of [{key}] are in the [{axis_name}]\"\u001b[0m\u001b[0;34m)\u001b[0m\u001b[0;34m\u001b[0m\u001b[0;34m\u001b[0m\u001b[0m\n\u001b[0m\u001b[1;32m   1309\u001b[0m \u001b[0;34m\u001b[0m\u001b[0m\n\u001b[1;32m   1310\u001b[0m             \u001b[0max\u001b[0m \u001b[0;34m=\u001b[0m \u001b[0mself\u001b[0m\u001b[0;34m.\u001b[0m\u001b[0mobj\u001b[0m\u001b[0;34m.\u001b[0m\u001b[0m_get_axis\u001b[0m\u001b[0;34m(\u001b[0m\u001b[0maxis\u001b[0m\u001b[0;34m)\u001b[0m\u001b[0;34m\u001b[0m\u001b[0;34m\u001b[0m\u001b[0m\n",
      "\u001b[0;31mKeyError\u001b[0m: \"None of [Index(['top1_comp', 'top2_comp', 'top3_comp', 'top4_comp', 'top5_comp',\\n       'top6_comp', 'top7_comp', 'top8_comp', 'top9_comp', 'top10_comp',\\n       'top11_comp', 'top12_comp', 'top13_comp', 'top14_comp', 'top15_comp',\\n       'top16_comp', 'top17_comp', 'top18_comp', 'top19_comp', 'top20_comp',\\n       'top21_comp', 'top22_comp', 'top23_comp', 'top24_comp', 'top25_comp',\\n       'top26_comp', 'top27_comp', 'top28_comp', 'top29_comp', 'top30_comp'],\\n      dtype='object')] are in the [index]\""
     ]
    }
   ],
   "source": [
    "comp_cols = [col + \"_comp\" for col in cols]\n",
    "\n",
    "w = np.arange(1,31,1).tolist()\n",
    "w.reverse()\n",
    "\n",
    "weighted_comp = []\n",
    "max_comp = []\n",
    "min_comp = []\n",
    "for i in range(0,31):\n",
    "    a = df.loc[i,comp_cols].tolist()\n",
    "    weighted_comp.append(np.average(a, weights=w))\n",
    "    max_comp.append(max(a))\n",
    "    min_comp.append(min(a))\n",
    "\n",
    "df['compound_mean'] = weighted_comp\n",
    "df['compound_max'] = max_comp\n",
    "df['compound_min'] = min_comp\n",
    "\n",
    "\n",
    "sub_cols = []\n",
    "for col in cols:\n",
    "    sub_col = col + \"_sub\"\n",
    "    sub_cols.append(sub_col)\n",
    "\n",
    "\n",
    "weighted_sub = []\n",
    "max_sub = []\n",
    "min_sub = []\n",
    "for i in range(0,len(df)):\n",
    "    a = df.loc[i,sub_cols].tolist()\n",
    "    weighted_sub.append(np.average(a, weights=w))\n",
    "    max_sub.append(max(a))\n",
    "    min_sub.append(min(a))\n",
    "\n",
    "df['subjectivity_mean'] = weighted_sub\n",
    "df['subjectivity_max'] = max_sub\n",
    "df['subjectivity_min'] = min_sub\n",
    "\n",
    "to_drop = sub_cols+comp_cols\n",
    "df = df.drop(to_drop, axis=1)"
   ]
  },
  {
   "cell_type": "code",
   "execution_count": null,
   "metadata": {},
   "outputs": [],
   "source": []
  }
 ],
 "metadata": {
  "kernelspec": {
   "display_name": "Python 3",
   "language": "python",
   "name": "python3"
  },
  "language_info": {
   "codemirror_mode": {
    "name": "ipython",
    "version": 3
   },
   "file_extension": ".py",
   "mimetype": "text/x-python",
   "name": "python",
   "nbconvert_exporter": "python",
   "pygments_lexer": "ipython3",
   "version": "3.7.4"
  },
  "toc": {
   "base_numbering": 1,
   "nav_menu": {},
   "number_sections": true,
   "sideBar": true,
   "skip_h1_title": false,
   "title_cell": "Table of Contents",
   "title_sidebar": "Contents",
   "toc_cell": false,
   "toc_position": {},
   "toc_section_display": true,
   "toc_window_display": true
  }
 },
 "nbformat": 4,
 "nbformat_minor": 2
}
