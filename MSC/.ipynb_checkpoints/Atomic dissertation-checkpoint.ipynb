{
 "cells": [
  {
   "cell_type": "code",
   "execution_count": 79,
   "metadata": {
    "ExecuteTime": {
     "end_time": "2021-06-10T09:04:43.183263Z",
     "start_time": "2021-06-10T09:04:35.182404Z"
    }
   },
   "outputs": [
    {
     "name": "stdout",
     "output_type": "stream",
     "text": [
      "Notesn/a\n"
     ]
    }
   ],
   "source": [
    "import datetime\n",
    "import pandas as pd\n",
    "df = pd.read_csv('atomic_dissertation.csv')\n",
    "atbilde = []\n",
    "atbilde.append(datetime.datetime.now())\n",
    "\n",
    "from docxlatex import Document\n",
    "doc = Document(\"/Volumes/Seagate Backup Plus Drive/Learning/Aston/Disesertation/ER.docx\")\n",
    "\n",
    "text = doc.get_text()\n",
    "len(text.split())\n",
    "atbilde.append(len(text.split()))\n",
    "\n",
    "atbilde.append(input('Notes'))\n",
    "df.loc[len(df)] = atbilde\n",
    "df.to_csv('atomic_dissertation.csv', index = False)"
   ]
  },
  {
   "cell_type": "markdown",
   "metadata": {},
   "source": [
    "from docx2pdf import convert\n",
    "convert(\"/Volumes/Seagate Backup Plus Drive/Learning/Aston/Disesertation/ER.docx\", \"output.pdf\")"
   ]
  },
  {
   "cell_type": "markdown",
   "metadata": {
    "ExecuteTime": {
     "end_time": "2021-06-10T08:36:00.942983Z",
     "start_time": "2021-06-10T08:36:00.724932Z"
    }
   },
   "source": [
    "with open('output.pdf', encoding=\"utf8\", errors='ignore') as f:\n",
    "\n",
    "#file = open('output.pdf', \"rt\")\n",
    "    data = f.read()\n",
    "    words = data.split()\n",
    "\n",
    "print('Number of words in text file :', len(words))\n",
    "#atbilde.append(len(words))"
   ]
  },
  {
   "cell_type": "code",
   "execution_count": 20,
   "metadata": {
    "ExecuteTime": {
     "end_time": "2021-06-09T15:20:38.632889Z",
     "start_time": "2021-06-09T15:20:31.037570Z"
    }
   },
   "outputs": [
    {
     "name": "stdout",
     "output_type": "stream",
     "text": [
      "NotesHome, allergic\n"
     ]
    }
   ],
   "source": [
    "atbilde.append(input('Notes'))\n",
    "df.loc[len(df)] = atbilde\n",
    "df.to_csv('atomic_dissertation.csv', index = False)"
   ]
  },
  {
   "cell_type": "markdown",
   "metadata": {
    "ExecuteTime": {
     "end_time": "2021-06-09T13:57:24.782309Z",
     "start_time": "2021-06-09T13:56:27.479837Z"
    }
   },
   "source": [
    "pip install --ignore-installed docx2pdf"
   ]
  },
  {
   "cell_type": "code",
   "execution_count": 81,
   "metadata": {
    "ExecuteTime": {
     "end_time": "2021-06-10T09:04:54.994768Z",
     "start_time": "2021-06-10T09:04:54.977777Z"
    }
   },
   "outputs": [
    {
     "data": {
      "text/html": [
       "<div>\n",
       "<style scoped>\n",
       "    .dataframe tbody tr th:only-of-type {\n",
       "        vertical-align: middle;\n",
       "    }\n",
       "\n",
       "    .dataframe tbody tr th {\n",
       "        vertical-align: top;\n",
       "    }\n",
       "\n",
       "    .dataframe thead th {\n",
       "        text-align: right;\n",
       "    }\n",
       "</style>\n",
       "<table border=\"1\" class=\"dataframe\">\n",
       "  <thead>\n",
       "    <tr style=\"text-align: right;\">\n",
       "      <th></th>\n",
       "      <th>datetime</th>\n",
       "      <th>len</th>\n",
       "      <th>notes</th>\n",
       "    </tr>\n",
       "  </thead>\n",
       "  <tbody>\n",
       "    <tr>\n",
       "      <th>0</th>\n",
       "      <td>2021-06-09 17:14:10.974003</td>\n",
       "      <td>19579</td>\n",
       "      <td>Home, allergic</td>\n",
       "    </tr>\n",
       "    <tr>\n",
       "      <th>1</th>\n",
       "      <td>2021-06-10 11:04:35.230058</td>\n",
       "      <td>4206</td>\n",
       "      <td>NaN</td>\n",
       "    </tr>\n",
       "  </tbody>\n",
       "</table>\n",
       "</div>"
      ],
      "text/plain": [
       "                     datetime    len           notes\n",
       "0  2021-06-09 17:14:10.974003  19579  Home, allergic\n",
       "1  2021-06-10 11:04:35.230058   4206             NaN"
      ]
     },
     "execution_count": 81,
     "metadata": {},
     "output_type": "execute_result"
    }
   ],
   "source": [
    "pd.read_csv('atomic_dissertation.csv')"
   ]
  },
  {
   "cell_type": "code",
   "execution_count": 84,
   "metadata": {
    "ExecuteTime": {
     "end_time": "2021-06-10T09:05:50.400918Z",
     "start_time": "2021-06-10T09:05:50.342684Z"
    }
   },
   "outputs": [
    {
     "data": {
      "text/plain": [
       "0.2804"
      ]
     },
     "execution_count": 84,
     "metadata": {},
     "output_type": "execute_result"
    }
   ],
   "source": [
    "df.len[1]/15000"
   ]
  },
  {
   "cell_type": "code",
   "execution_count": null,
   "metadata": {},
   "outputs": [],
   "source": []
  }
 ],
 "metadata": {
  "kernelspec": {
   "display_name": "Python 3",
   "language": "python",
   "name": "python3"
  },
  "language_info": {
   "codemirror_mode": {
    "name": "ipython",
    "version": 3
   },
   "file_extension": ".py",
   "mimetype": "text/x-python",
   "name": "python",
   "nbconvert_exporter": "python",
   "pygments_lexer": "ipython3",
   "version": "3.7.4"
  },
  "toc": {
   "base_numbering": 1,
   "nav_menu": {},
   "number_sections": true,
   "sideBar": true,
   "skip_h1_title": false,
   "title_cell": "Table of Contents",
   "title_sidebar": "Contents",
   "toc_cell": false,
   "toc_position": {},
   "toc_section_display": true,
   "toc_window_display": false
  }
 },
 "nbformat": 4,
 "nbformat_minor": 2
}
