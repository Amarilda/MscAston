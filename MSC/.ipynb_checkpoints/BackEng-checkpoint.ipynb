{
 "cells": [
  {
   "cell_type": "code",
   "execution_count": 33,
   "metadata": {
    "ExecuteTime": {
     "end_time": "2021-04-26T08:12:08.369547Z",
     "start_time": "2021-04-26T08:12:08.361914Z"
    }
   },
   "outputs": [],
   "source": [
    "import pandas as pd\n",
    "from datetime import datetime, timedelta \n",
    "\n",
    "datelist = pd.date_range('2021-01-01 08:00:00', periods=1).tolist()"
   ]
  },
  {
   "cell_type": "code",
   "execution_count": 34,
   "metadata": {
    "ExecuteTime": {
     "end_time": "2021-04-26T08:12:09.060481Z",
     "start_time": "2021-04-26T08:12:09.053460Z"
    }
   },
   "outputs": [
    {
     "name": "stdout",
     "output_type": "stream",
     "text": [
      "2021-01-01 08:00:00 2020-12-31 08:00:00\n"
     ]
    }
   ],
   "source": [
    "for d in datelist:\n",
    "    print(d, d + timedelta(days=-1))"
   ]
  },
  {
   "cell_type": "code",
   "execution_count": null,
   "metadata": {},
   "outputs": [],
   "source": [
    "for d in datelist:\n",
    "    print(d, d + timedelta(days=-1))\n",
    "\n",
    "    top_posts = reddit.subreddit('worldnews').top(time_filter='year',limit=30000)\n",
    "    i = 1\n",
    "\n",
    "    atbilde =[]\n",
    "    for post in top_posts:\n",
    "\n",
    "        if str(eval(\"post.created_utc\")) > datetime.datetime.strptime(a, '%Y-%m-%d %H:%M:%S').strftime(\"%s\") and str(eval(\"post.created_utc\")) < datetime.datetime.strptime(b, '%Y-%m-%d %H:%M:%S').strftime(\"%s\") and i <31:\n",
    "            atbilde =[]\n",
    "            atbilde.append(d)\n",
    "            atbilde.append(str(i))\n",
    "            for j in z.columns[2:]:\n",
    "                try:\n",
    "                    atbilde.append(str(eval(\"post.\"+j)))\n",
    "                except:\n",
    "                    atbilde.append(\"\")\n",
    "\n",
    "            for m in vars(post):\n",
    "                if m not in z.columns[2:]:\n",
    "                    print(m)\n",
    "\n",
    "            connection = sqlite3.connect('MSC.db')\n",
    "            cursor = connection.cursor()\n",
    "            sql2 = (\"insert INTO top30('moment', 'daily_rank', 'comment_limit', 'comment_sort', '_reddit', 'approved_at_utc', 'subreddit', 'selftext', 'author_fullname', 'saved', 'mod_reason_title', 'gilded', 'clicked', 'title', 'link_flair_richtext', 'subreddit_name_prefixed', 'hidden', 'pwls', 'link_flair_css_class', 'downs', 'top_awarded_type', 'hide_score', 'name', 'quarantine', 'link_flair_text_color', 'upvote_ratio', 'author_flair_background_color', 'subreddit_type', 'ups', 'total_awards_received', 'media_embed', 'author_flair_template_id', 'is_original_content', 'user_reports', 'secure_media', 'is_reddit_media_domain', 'is_meta', 'category', 'secure_media_embed', 'link_flair_text', 'can_mod_post', 'score', 'approved_by', 'author_premium', 'thumbnail', 'edited', 'author_flair_css_class', 'author_flair_richtext', 'gildings', 'content_categories', 'is_self', 'mod_note', 'created', 'link_flair_type', 'wls', 'removed_by_category', 'banned_by', 'author_flair_type', 'domain', 'allow_live_comments', 'selftext_html', 'likes', 'suggested_sort', 'banned_at_utc', 'url_overridden_by_dest', 'view_count', 'archived', 'no_follow', 'is_crosspostable', 'pinned', 'over_18', 'all_awardings', 'awarders', 'media_only', 'can_gild', 'spoiler', 'locked', 'author_flair_text', 'treatment_tags', 'visited', 'removed_by', 'num_reports', 'distinguished', 'subreddit_id', 'mod_reason_by', 'removal_reason', 'link_flair_background_color', 'id', 'is_robot_indexable', 'report_reasons', 'author', 'discussion_type', 'num_comments', 'send_replies', 'whitelist_status', 'contest_mode', 'mod_reports', 'author_patreon_flair', 'author_flair_text_color', 'permalink', 'parent_whitelist_status', 'stickied', 'url', 'subreddit_subscribers', 'created_utc', 'num_crossposts', 'media', 'is_video', '_fetched', '_comments_by_id', 'author_cakeday', 'flair', 'link_flair_template_id', 'num_duplicates', 'post_hint', 'preview', 'thumbnail_height', 'thumbnail_width','_comments') VALUES (?,?,?,?,?,?,?,?,?,?,?,?,?,?,?,?,?,?,?,?,?,?,?,?,?,?,?,?,?,?,?,?,?,?,?,?,?,?,?,?,?,?,?,?,?,?,?,?,?,?,?,?,?,?,?,?,?,?,?,?,?,?,?,?,?,?,?,?,?,?,?,?,?,?,?,?,?,?,?,?,?,?,?,?,?,?,?,?,?,?,?,?,?,?,?,?,?,?,?,?,?,?,?,?,?,?,?,?,?,?,?,?,?,?,?,?,?,?,?)\")\n",
    "            cursor.execute(sql2, atbilde)          \n",
    "            connection.commit()\n",
    "            connection.close()\n",
    "\n",
    "            i +=1"
   ]
  },
  {
   "cell_type": "code",
   "execution_count": null,
   "metadata": {},
   "outputs": [],
   "source": []
  },
  {
   "cell_type": "code",
   "execution_count": 37,
   "metadata": {
    "ExecuteTime": {
     "end_time": "2021-04-26T08:42:46.896875Z",
     "start_time": "2021-04-26T08:42:46.871795Z"
    }
   },
   "outputs": [
    {
     "name": "stdout",
     "output_type": "stream",
     "text": [
      "2021-01-01 08:00:00 2020-12-31 08:00:00\n"
     ]
    },
    {
     "data": {
      "text/plain": [
       "'\\n    eval(a)\\n    eval(b)\\n\\n    #An actual webscraping\\n    top_posts = reddit.subreddit(\\'worldnews\\').top(time_filter=\\'year\\',limit=30000)\\n    i = 1\\n    for post in top_posts:    \\n        atbilde =[]\\n        atbilde.append(str(d))\\n        atbilde.append(str(i))\\n        for j in kolonas[2:]:\\n            try:\\n                atbilde.append(str(eval(\"post.\"+j)))\\n            except:\\n                atbilde.append(\"\")\\n\\n        connection = sqlite3.connect(\\'MSC.db\\')\\n        cursor = connection.cursor()\\n        sql2 = f\\'cursor.execute(\"insert INTO  {sodiena} ({columnnames}) VALUES ({insertintotable})\", {atbilde})\\'\\n        eval(sql2)\\n        connection.commit()\\n        connection.close()\\n\\n        i +=1\\n\\n    print(\"done\")\\n'"
      ]
     },
     "execution_count": 37,
     "metadata": {},
     "output_type": "execute_result"
    }
   ],
   "source": [
    "for d in datelist:\n",
    "    print(d, d + timedelta(days=-1))\n",
    "'''\n",
    "    top_posts = reddit.subreddit('worldnews').top(time_filter='year',limit=30000)\n",
    "\n",
    "    #Get all unique columns\n",
    "    kolonas = ['moment', 'daily_rank']   \n",
    "    for post in top_posts:\n",
    "         for m in vars(post):\n",
    "                if m not in kolonas:\n",
    "                    kolonas.append(m)\n",
    "\n",
    "    sodiena = str(\"ER\"+d.strftime('%Y%m%d'))\n",
    "\n",
    "    createtable = \"\"\n",
    "    columnnames = \"\"\n",
    "    insertintotable = \"\"\n",
    "\n",
    "    #Create strings for SQL injection\n",
    "    z = len(kolonas)\n",
    "    for k in kolonas:\n",
    "        if z > 1:\n",
    "            createtable+= str(k + \" TEXT,\")\n",
    "            columnnames += str(f\"'{k}', \")\n",
    "            insertintotable += str(\"?,\")\n",
    "\n",
    "        else:\n",
    "            createtable+= str(k + \" TEXT\")\n",
    "            columnnames += str(k)\n",
    "            insertintotable += str(\"?\")\n",
    "        z+= -1\n",
    "\n",
    "    #Drop and create the todays table\n",
    "    connection = sqlite3.connect('MSC.db')\n",
    "    cursor = connection.cursor()\n",
    "    a = f\"cursor.executescript('DROP TABLE IF EXISTS {sodiena}')\"\n",
    "    \n",
    "'''\n",
    "    #b = f\"cursor.execute('''CREATE TABLE {sodiena} ({createtable} )''')\"\n",
    "'''\n",
    "    eval(a)\n",
    "    eval(b)\n",
    "\n",
    "    #An actual webscraping\n",
    "    top_posts = reddit.subreddit('worldnews').top(time_filter='year',limit=30000)\n",
    "    i = 1\n",
    "    for post in top_posts:    \n",
    "        atbilde =[]\n",
    "        atbilde.append(str(d))\n",
    "        atbilde.append(str(i))\n",
    "        for j in kolonas[2:]:\n",
    "            try:\n",
    "                atbilde.append(str(eval(\"post.\"+j)))\n",
    "            except:\n",
    "                atbilde.append(\"\")\n",
    "\n",
    "        connection = sqlite3.connect('MSC.db')\n",
    "        cursor = connection.cursor()\n",
    "        sql2 = f'cursor.execute(\"insert INTO  {sodiena} ({columnnames}) VALUES ({insertintotable})\", {atbilde})'\n",
    "        eval(sql2)\n",
    "        connection.commit()\n",
    "        connection.close()\n",
    "\n",
    "        i +=1\n",
    "\n",
    "    print(\"done\")\n",
    "'''"
   ]
  },
  {
   "cell_type": "code",
   "execution_count": null,
   "metadata": {},
   "outputs": [],
   "source": []
  }
 ],
 "metadata": {
  "kernelspec": {
   "display_name": "Python 3",
   "language": "python",
   "name": "python3"
  },
  "language_info": {
   "codemirror_mode": {
    "name": "ipython",
    "version": 3
   },
   "file_extension": ".py",
   "mimetype": "text/x-python",
   "name": "python",
   "nbconvert_exporter": "python",
   "pygments_lexer": "ipython3",
   "version": "3.7.4"
  },
  "toc": {
   "base_numbering": 1,
   "nav_menu": {},
   "number_sections": true,
   "sideBar": true,
   "skip_h1_title": false,
   "title_cell": "Table of Contents",
   "title_sidebar": "Contents",
   "toc_cell": false,
   "toc_position": {},
   "toc_section_display": true,
   "toc_window_display": false
  }
 },
 "nbformat": 4,
 "nbformat_minor": 2
}
