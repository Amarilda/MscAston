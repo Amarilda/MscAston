{
 "cells": [
  {
   "cell_type": "code",
   "execution_count": 36,
   "metadata": {
    "ExecuteTime": {
     "end_time": "2021-09-19T17:55:39.152023Z",
     "start_time": "2021-09-19T17:55:25.384112Z"
    }
   },
   "outputs": [],
   "source": [
    "import numpy as np\n",
    "import pandas as pd\n",
    "import sqlite3"
   ]
  },
  {
   "cell_type": "code",
   "execution_count": 2,
   "metadata": {
    "ExecuteTime": {
     "end_time": "2021-09-15T08:02:25.015452Z",
     "start_time": "2021-09-15T08:02:21.777874Z"
    }
   },
   "outputs": [],
   "source": [
    "import datetime as dt\n",
    "from nytimes_scraper import run_scraper, scrape_month\n",
    "your_api_key = 'JAFAGbwOJBrMxfYD3fZ09xejyXW1fRl1'"
   ]
  },
  {
   "cell_type": "code",
   "execution_count": 37,
   "metadata": {
    "ExecuteTime": {
     "end_time": "2021-09-19T17:55:39.165366Z",
     "start_time": "2021-09-19T17:55:39.155025Z"
    }
   },
   "outputs": [],
   "source": [
    "from apii import your_api_key"
   ]
  },
  {
   "cell_type": "code",
   "execution_count": 38,
   "metadata": {
    "ExecuteTime": {
     "end_time": "2021-09-19T17:55:39.175057Z",
     "start_time": "2021-09-19T17:55:39.168621Z"
    }
   },
   "outputs": [
    {
     "data": {
      "text/plain": [
       "['JAFAGbwOJBrMxfYD3fZ09xejyXW1fRl1']"
      ]
     },
     "execution_count": 38,
     "metadata": {},
     "output_type": "execute_result"
    }
   ],
   "source": [
    "your_api_key"
   ]
  },
  {
   "cell_type": "code",
   "execution_count": null,
   "metadata": {},
   "outputs": [],
   "source": [
    "connection = sqlite3.connect('ny.db')\n",
    "cursor = connection.cursor()\n",
    "sql = (\"Select _id, web_url  from articles where _id   in (select distinct articleID from comments) --and print_page is not NULL\")\n",
    "df_c = pd.read_sql_query(sql,connection)\n",
    "print(df_c.shape)"
   ]
  },
  {
   "cell_type": "code",
   "execution_count": null,
   "metadata": {
    "ExecuteTime": {
     "end_time": "2021-07-22T19:05:06.347270Z",
     "start_time": "2021-07-22T19:05:06.159669Z"
    }
   },
   "outputs": [],
   "source": [
    "article_ids_and_urls = list(zip([i for i in  df_c['_id']], [j for j in  df_c['web_url']]))"
   ]
  },
  {
   "cell_type": "code",
   "execution_count": 39,
   "metadata": {
    "ExecuteTime": {
     "end_time": "2021-09-19T17:59:04.041187Z",
     "start_time": "2021-09-19T17:58:47.994458Z"
    }
   },
   "outputs": [
    {
     "ename": "NameError",
     "evalue": "name 'article_ids_and_urls' is not defined",
     "output_type": "error",
     "traceback": [
      "\u001b[0;31m---------------------------------------------------------------------------\u001b[0m",
      "\u001b[0;31mNameError\u001b[0m                                 Traceback (most recent call last)",
      "\u001b[0;32m<ipython-input-39-dffac4d4a4a9>\u001b[0m in \u001b[0;36m<module>\u001b[0;34m\u001b[0m\n\u001b[1;32m      6\u001b[0m \u001b[0mapi\u001b[0m \u001b[0;34m=\u001b[0m \u001b[0mNytApi\u001b[0m\u001b[0;34m(\u001b[0m\u001b[0myour_api_key\u001b[0m\u001b[0;34m)\u001b[0m\u001b[0;34m\u001b[0m\u001b[0;34m\u001b[0m\u001b[0m\n\u001b[1;32m      7\u001b[0m \u001b[0;34m\u001b[0m\u001b[0m\n\u001b[0;32m----> 8\u001b[0;31m \u001b[0mcomments_a\u001b[0m \u001b[0;34m=\u001b[0m \u001b[0mfetch_comments\u001b[0m\u001b[0;34m(\u001b[0m\u001b[0mapi\u001b[0m\u001b[0;34m,\u001b[0m\u001b[0marticle_ids_and_urls\u001b[0m\u001b[0;34m)\u001b[0m\u001b[0;34m\u001b[0m\u001b[0;34m\u001b[0m\u001b[0m\n\u001b[0m\u001b[1;32m      9\u001b[0m \u001b[0;34m\u001b[0m\u001b[0m\n\u001b[1;32m     10\u001b[0m \u001b[0mdone\u001b[0m \u001b[0;34m=\u001b[0m \u001b[0mcomments_to_df\u001b[0m\u001b[0;34m(\u001b[0m\u001b[0mcomments_a\u001b[0m\u001b[0;34m)\u001b[0m\u001b[0;34m\u001b[0m\u001b[0;34m\u001b[0m\u001b[0m\n",
      "\u001b[0;31mNameError\u001b[0m: name 'article_ids_and_urls' is not defined"
     ]
    }
   ],
   "source": [
    "import datetime as dt\n",
    "from nytimes_scraper.nyt_api import NytApi\n",
    "from nytimes_scraper.articles import fetch_articles_by_month, articles_to_df\n",
    "from nytimes_scraper.comments import fetch_comments, fetch_comments_by_article, comments_to_df\n",
    "\n",
    "api = NytApi(your_api_key)\n",
    "\n",
    "comments_a = fetch_comments(api,article_ids_and_urls)\n",
    "\n",
    "done = comments_to_df(comments_a)"
   ]
  },
  {
   "cell_type": "code",
   "execution_count": null,
   "metadata": {
    "ExecuteTime": {
     "end_time": "2021-07-22T16:04:04.903909Z",
     "start_time": "2021-07-22T16:04:01.124510Z"
    }
   },
   "outputs": [],
   "source": [
    "connection = sqlite3.connect('ny.db')\n",
    "cursor = connection.cursor()\n",
    "sql = (\"Select * from articles \")\n",
    "df_c = pd.read_sql_query(sql,connection)\n",
    "print(df_c.shape)"
   ]
  },
  {
   "cell_type": "code",
   "execution_count": null,
   "metadata": {
    "ExecuteTime": {
     "end_time": "2021-07-22T16:18:36.653717Z",
     "start_time": "2021-07-22T16:11:42.754712Z"
    }
   },
   "outputs": [],
   "source": [
    "df = pd.DataFrame(columns = ['name', 'keyword'])\n",
    "\n",
    "for i in df_c.keywords:\n",
    "    for j in eval(i):        \n",
    "        #if j['name'] not in df.name: \n",
    "        if j['name'] not in list(df.name) or j['value'] not in list(df.keyword):\n",
    "            df.loc[len(df)] =(j['name'], j['value'])"
   ]
  },
  {
   "cell_type": "code",
   "execution_count": null,
   "metadata": {
    "ExecuteTime": {
     "end_time": "2021-07-23T16:00:02.329315Z",
     "start_time": "2021-07-23T15:57:10.266628Z"
    }
   },
   "outputs": [],
   "source": [
    "# read 2021 keywords\n",
    "df = pd.read_csv('categories.csv', usecols = ['keyword', 'name'])\n",
    "\n",
    "# Read new articles\n",
    "with open('2020-12-articles.pickle', 'rb') as handle:\n",
    "    df_c = pickle.load(handle)\n",
    "    \n",
    "for i in df_c.keywords:\n",
    "    for j in eval(str(i)[1:-1]):        \n",
    "        #if j['name'] not in df.name: \n",
    "        if j['name'] not in list(df.name) or j['value'] not in list(df.keyword):\n",
    "            df.loc[len(df)] =(j['name'], j['value'])"
   ]
  },
  {
   "cell_type": "code",
   "execution_count": 40,
   "metadata": {
    "ExecuteTime": {
     "end_time": "2021-09-19T19:08:11.830551Z",
     "start_time": "2021-09-19T17:59:36.729884Z"
    }
   },
   "outputs": [
    {
     "name": "stdout",
     "output_type": "stream",
     "text": [
      "Fetching articles for 2021-09\n"
     ]
    },
    {
     "name": "stderr",
     "output_type": "stream",
     "text": [
      "100%|██████████| 2719/2719 [51:00<00:00,  1.13s/Article]  \n",
      "  2%|▏         | 59/2719 [16:02<12:03:13, 16.31s/Article] \n"
     ]
    },
    {
     "ename": "KeyboardInterrupt",
     "evalue": "",
     "output_type": "error",
     "traceback": [
      "\u001b[0;31m---------------------------------------------------------------------------\u001b[0m",
      "\u001b[0;31mKeyboardInterrupt\u001b[0m                         Traceback (most recent call last)",
      "\u001b[0;32m<ipython-input-40-8e28d6420ea7>\u001b[0m in \u001b[0;36m<module>\u001b[0;34m\u001b[0m\n\u001b[1;32m      2\u001b[0m \u001b[0;32mfrom\u001b[0m \u001b[0mnytimes_scraper\u001b[0m \u001b[0;32mimport\u001b[0m \u001b[0mrun_scraper\u001b[0m\u001b[0;34m,\u001b[0m \u001b[0mscrape_month\u001b[0m\u001b[0;34m\u001b[0m\u001b[0;34m\u001b[0m\u001b[0m\n\u001b[1;32m      3\u001b[0m \u001b[0;34m\u001b[0m\u001b[0m\n\u001b[0;32m----> 4\u001b[0;31m \u001b[0marticle_df\u001b[0m \u001b[0;34m=\u001b[0m \u001b[0mscrape_month\u001b[0m\u001b[0;34m(\u001b[0m\u001b[0myour_api_key\u001b[0m\u001b[0;34m,\u001b[0m \u001b[0mdate\u001b[0m\u001b[0;34m=\u001b[0m\u001b[0mdt\u001b[0m\u001b[0;34m.\u001b[0m\u001b[0mdate\u001b[0m\u001b[0;34m(\u001b[0m\u001b[0;36m2021\u001b[0m\u001b[0;34m,\u001b[0m \u001b[0;36m9\u001b[0m\u001b[0;34m,\u001b[0m \u001b[0;36m1\u001b[0m\u001b[0;34m)\u001b[0m\u001b[0;34m)\u001b[0m\u001b[0;34m\u001b[0m\u001b[0;34m\u001b[0m\u001b[0m\n\u001b[0m",
      "\u001b[0;32m/opt/anaconda3/lib/python3.8/site-packages/nytimes_scraper/scraper.py\u001b[0m in \u001b[0;36mscrape_month\u001b[0;34m(api_key, date, force_fetch, store)\u001b[0m\n\u001b[1;32m     38\u001b[0m \u001b[0;34m\u001b[0m\u001b[0m\n\u001b[1;32m     39\u001b[0m     \u001b[0marticle_ids_and_urls\u001b[0m \u001b[0;34m=\u001b[0m \u001b[0mlist\u001b[0m\u001b[0;34m(\u001b[0m\u001b[0marticle_df\u001b[0m\u001b[0;34m[\u001b[0m\u001b[0;34m'web_url'\u001b[0m\u001b[0;34m]\u001b[0m\u001b[0;34m.\u001b[0m\u001b[0miteritems\u001b[0m\u001b[0;34m(\u001b[0m\u001b[0;34m)\u001b[0m\u001b[0;34m)\u001b[0m\u001b[0;34m\u001b[0m\u001b[0;34m\u001b[0m\u001b[0m\n\u001b[0;32m---> 40\u001b[0;31m     comment_df = cached(\n\u001b[0m\u001b[1;32m     41\u001b[0m         \u001b[0mfetch\u001b[0m\u001b[0;34m=\u001b[0m\u001b[0;32mlambda\u001b[0m\u001b[0;34m:\u001b[0m \u001b[0mcomments_to_df\u001b[0m\u001b[0;34m(\u001b[0m\u001b[0mfetch_comments\u001b[0m\u001b[0;34m(\u001b[0m\u001b[0mapi\u001b[0m\u001b[0;34m,\u001b[0m \u001b[0marticle_ids_and_urls\u001b[0m\u001b[0;34m)\u001b[0m\u001b[0;34m)\u001b[0m\u001b[0;34m,\u001b[0m\u001b[0;34m\u001b[0m\u001b[0;34m\u001b[0m\u001b[0m\n\u001b[1;32m     42\u001b[0m         \u001b[0mfile\u001b[0m\u001b[0;34m=\u001b[0m\u001b[0mout_file\u001b[0m\u001b[0;34m(\u001b[0m\u001b[0mdate\u001b[0m\u001b[0;34m,\u001b[0m \u001b[0;34m'comments'\u001b[0m\u001b[0;34m)\u001b[0m\u001b[0;34m,\u001b[0m\u001b[0;34m\u001b[0m\u001b[0;34m\u001b[0m\u001b[0m\n",
      "\u001b[0;32m/opt/anaconda3/lib/python3.8/site-packages/nytimes_scraper/scraper.py\u001b[0m in \u001b[0;36mcached\u001b[0;34m(file, fetch, force_fetch, store)\u001b[0m\n\u001b[1;32m     50\u001b[0m \u001b[0;32mdef\u001b[0m \u001b[0mcached\u001b[0m\u001b[0;34m(\u001b[0m\u001b[0mfile\u001b[0m\u001b[0;34m:\u001b[0m \u001b[0mPath\u001b[0m\u001b[0;34m,\u001b[0m \u001b[0mfetch\u001b[0m\u001b[0;34m:\u001b[0m \u001b[0mCallable\u001b[0m\u001b[0;34m[\u001b[0m\u001b[0;34m[\u001b[0m\u001b[0;34m]\u001b[0m\u001b[0;34m,\u001b[0m \u001b[0mpd\u001b[0m\u001b[0;34m.\u001b[0m\u001b[0mDataFrame\u001b[0m\u001b[0;34m]\u001b[0m\u001b[0;34m,\u001b[0m \u001b[0mforce_fetch\u001b[0m\u001b[0;34m:\u001b[0m \u001b[0mbool\u001b[0m\u001b[0;34m,\u001b[0m \u001b[0mstore\u001b[0m\u001b[0;34m:\u001b[0m \u001b[0mbool\u001b[0m\u001b[0;34m)\u001b[0m \u001b[0;34m->\u001b[0m \u001b[0mpd\u001b[0m\u001b[0;34m.\u001b[0m\u001b[0mDataFrame\u001b[0m\u001b[0;34m:\u001b[0m\u001b[0;34m\u001b[0m\u001b[0;34m\u001b[0m\u001b[0m\n\u001b[1;32m     51\u001b[0m     \u001b[0;32mif\u001b[0m \u001b[0;32mnot\u001b[0m \u001b[0mfile\u001b[0m\u001b[0;34m.\u001b[0m\u001b[0mexists\u001b[0m\u001b[0;34m(\u001b[0m\u001b[0;34m)\u001b[0m \u001b[0;32mor\u001b[0m \u001b[0mforce_fetch\u001b[0m\u001b[0;34m:\u001b[0m\u001b[0;34m\u001b[0m\u001b[0;34m\u001b[0m\u001b[0m\n\u001b[0;32m---> 52\u001b[0;31m         \u001b[0mdf\u001b[0m \u001b[0;34m=\u001b[0m \u001b[0mfetch\u001b[0m\u001b[0;34m(\u001b[0m\u001b[0;34m)\u001b[0m\u001b[0;34m\u001b[0m\u001b[0;34m\u001b[0m\u001b[0m\n\u001b[0m\u001b[1;32m     53\u001b[0m \u001b[0;34m\u001b[0m\u001b[0m\n\u001b[1;32m     54\u001b[0m         \u001b[0;32mif\u001b[0m \u001b[0mstore\u001b[0m\u001b[0;34m:\u001b[0m\u001b[0;34m\u001b[0m\u001b[0;34m\u001b[0m\u001b[0m\n",
      "\u001b[0;32m/opt/anaconda3/lib/python3.8/site-packages/nytimes_scraper/scraper.py\u001b[0m in \u001b[0;36m<lambda>\u001b[0;34m()\u001b[0m\n\u001b[1;32m     39\u001b[0m     \u001b[0marticle_ids_and_urls\u001b[0m \u001b[0;34m=\u001b[0m \u001b[0mlist\u001b[0m\u001b[0;34m(\u001b[0m\u001b[0marticle_df\u001b[0m\u001b[0;34m[\u001b[0m\u001b[0;34m'web_url'\u001b[0m\u001b[0;34m]\u001b[0m\u001b[0;34m.\u001b[0m\u001b[0miteritems\u001b[0m\u001b[0;34m(\u001b[0m\u001b[0;34m)\u001b[0m\u001b[0;34m)\u001b[0m\u001b[0;34m\u001b[0m\u001b[0;34m\u001b[0m\u001b[0m\n\u001b[1;32m     40\u001b[0m     comment_df = cached(\n\u001b[0;32m---> 41\u001b[0;31m         \u001b[0mfetch\u001b[0m\u001b[0;34m=\u001b[0m\u001b[0;32mlambda\u001b[0m\u001b[0;34m:\u001b[0m \u001b[0mcomments_to_df\u001b[0m\u001b[0;34m(\u001b[0m\u001b[0mfetch_comments\u001b[0m\u001b[0;34m(\u001b[0m\u001b[0mapi\u001b[0m\u001b[0;34m,\u001b[0m \u001b[0marticle_ids_and_urls\u001b[0m\u001b[0;34m)\u001b[0m\u001b[0;34m)\u001b[0m\u001b[0;34m,\u001b[0m\u001b[0;34m\u001b[0m\u001b[0;34m\u001b[0m\u001b[0m\n\u001b[0m\u001b[1;32m     42\u001b[0m         \u001b[0mfile\u001b[0m\u001b[0;34m=\u001b[0m\u001b[0mout_file\u001b[0m\u001b[0;34m(\u001b[0m\u001b[0mdate\u001b[0m\u001b[0;34m,\u001b[0m \u001b[0;34m'comments'\u001b[0m\u001b[0;34m)\u001b[0m\u001b[0;34m,\u001b[0m\u001b[0;34m\u001b[0m\u001b[0;34m\u001b[0m\u001b[0m\n\u001b[1;32m     43\u001b[0m         \u001b[0mforce_fetch\u001b[0m\u001b[0;34m=\u001b[0m\u001b[0mforce_fetch\u001b[0m\u001b[0;34m,\u001b[0m\u001b[0;34m\u001b[0m\u001b[0;34m\u001b[0m\u001b[0m\n",
      "\u001b[0;32m/opt/anaconda3/lib/python3.8/site-packages/nytimes_scraper/comments/scraper.py\u001b[0m in \u001b[0;36mfetch_comments\u001b[0;34m(api, article_ids_and_urls, show_progess, pagination_size)\u001b[0m\n\u001b[1;32m     16\u001b[0m     \u001b[0mcomments\u001b[0m \u001b[0;34m=\u001b[0m \u001b[0;34m[\u001b[0m\u001b[0;34m]\u001b[0m\u001b[0;34m\u001b[0m\u001b[0;34m\u001b[0m\u001b[0m\n\u001b[1;32m     17\u001b[0m     \u001b[0;32mfor\u001b[0m \u001b[0marticle_id\u001b[0m\u001b[0;34m,\u001b[0m \u001b[0marticle_url\u001b[0m \u001b[0;32min\u001b[0m \u001b[0mtqdm\u001b[0m\u001b[0;34m(\u001b[0m\u001b[0marticle_ids_and_urls\u001b[0m\u001b[0;34m,\u001b[0m \u001b[0munit\u001b[0m\u001b[0;34m=\u001b[0m\u001b[0;34m'Article'\u001b[0m\u001b[0;34m,\u001b[0m \u001b[0mdisable\u001b[0m\u001b[0;34m=\u001b[0m\u001b[0;32mnot\u001b[0m \u001b[0mshow_progess\u001b[0m\u001b[0;34m)\u001b[0m\u001b[0;34m:\u001b[0m\u001b[0;34m\u001b[0m\u001b[0;34m\u001b[0m\u001b[0m\n\u001b[0;32m---> 18\u001b[0;31m         \u001b[0mcomments\u001b[0m\u001b[0;34m.\u001b[0m\u001b[0mextend\u001b[0m\u001b[0;34m(\u001b[0m\u001b[0mfetch_comments_by_article\u001b[0m\u001b[0;34m(\u001b[0m\u001b[0mapi\u001b[0m\u001b[0;34m,\u001b[0m \u001b[0marticle_url\u001b[0m\u001b[0;34m,\u001b[0m \u001b[0marticle_id\u001b[0m\u001b[0;34m=\u001b[0m\u001b[0marticle_id\u001b[0m\u001b[0;34m,\u001b[0m \u001b[0mpagination_size\u001b[0m\u001b[0;34m=\u001b[0m\u001b[0mpagination_size\u001b[0m\u001b[0;34m)\u001b[0m\u001b[0;34m)\u001b[0m\u001b[0;34m\u001b[0m\u001b[0;34m\u001b[0m\u001b[0m\n\u001b[0m\u001b[1;32m     19\u001b[0m \u001b[0;34m\u001b[0m\u001b[0m\n\u001b[1;32m     20\u001b[0m     \u001b[0;32mreturn\u001b[0m \u001b[0mcomments\u001b[0m\u001b[0;34m\u001b[0m\u001b[0;34m\u001b[0m\u001b[0m\n",
      "\u001b[0;32m/opt/anaconda3/lib/python3.8/site-packages/nytimes_scraper/comments/scraper.py\u001b[0m in \u001b[0;36mfetch_comments_by_article\u001b[0;34m(api, article_url, article_id, pagination_size)\u001b[0m\n\u001b[1;32m     25\u001b[0m \u001b[0;34m\u001b[0m\u001b[0m\n\u001b[1;32m     26\u001b[0m     \u001b[0mcomments\u001b[0m \u001b[0;34m=\u001b[0m \u001b[0mfetch_top_level_comments\u001b[0m\u001b[0;34m(\u001b[0m\u001b[0mapi\u001b[0m\u001b[0;34m,\u001b[0m \u001b[0marticle_url\u001b[0m\u001b[0;34m,\u001b[0m \u001b[0mpagination_size\u001b[0m\u001b[0;34m=\u001b[0m\u001b[0mpagination_size\u001b[0m\u001b[0;34m)\u001b[0m\u001b[0;34m\u001b[0m\u001b[0;34m\u001b[0m\u001b[0m\n\u001b[0;32m---> 27\u001b[0;31m     \u001b[0mfetch_replies\u001b[0m\u001b[0;34m(\u001b[0m\u001b[0mapi\u001b[0m\u001b[0;34m,\u001b[0m \u001b[0marticle_url\u001b[0m\u001b[0;34m,\u001b[0m \u001b[0mcomments\u001b[0m\u001b[0;34m,\u001b[0m \u001b[0mpagination_size\u001b[0m\u001b[0;34m=\u001b[0m\u001b[0mpagination_size\u001b[0m\u001b[0;34m)\u001b[0m\u001b[0;34m\u001b[0m\u001b[0;34m\u001b[0m\u001b[0m\n\u001b[0m\u001b[1;32m     28\u001b[0m \u001b[0;34m\u001b[0m\u001b[0m\n\u001b[1;32m     29\u001b[0m     \u001b[0;32mif\u001b[0m \u001b[0marticle_id\u001b[0m \u001b[0;32mis\u001b[0m \u001b[0;32mnot\u001b[0m \u001b[0;32mNone\u001b[0m\u001b[0;34m:\u001b[0m\u001b[0;34m\u001b[0m\u001b[0;34m\u001b[0m\u001b[0m\n",
      "\u001b[0;32m/opt/anaconda3/lib/python3.8/site-packages/nytimes_scraper/comments/scraper.py\u001b[0m in \u001b[0;36mfetch_replies\u001b[0;34m(api, article_url, comments, pagination_size)\u001b[0m\n\u001b[1;32m     62\u001b[0m \u001b[0;34m\u001b[0m\u001b[0m\n\u001b[1;32m     63\u001b[0m         \u001b[0;32mwhile\u001b[0m \u001b[0mlen\u001b[0m\u001b[0;34m(\u001b[0m\u001b[0mcomment\u001b[0m\u001b[0;34m[\u001b[0m\u001b[0;34m'replies'\u001b[0m\u001b[0;34m]\u001b[0m\u001b[0;34m)\u001b[0m \u001b[0;34m<\u001b[0m \u001b[0mcomment\u001b[0m\u001b[0;34m[\u001b[0m\u001b[0;34m'replyCount'\u001b[0m\u001b[0;34m]\u001b[0m\u001b[0;34m:\u001b[0m\u001b[0;34m\u001b[0m\u001b[0;34m\u001b[0m\u001b[0m\n\u001b[0;32m---> 64\u001b[0;31m             response = api.community.get_replies(\n\u001b[0m\u001b[1;32m     65\u001b[0m                 \u001b[0marticle_url\u001b[0m\u001b[0;34m=\u001b[0m\u001b[0marticle_url\u001b[0m\u001b[0;34m,\u001b[0m\u001b[0;34m\u001b[0m\u001b[0;34m\u001b[0m\u001b[0m\n\u001b[1;32m     66\u001b[0m                 \u001b[0mcomment_sequence\u001b[0m\u001b[0;34m=\u001b[0m\u001b[0mcomment\u001b[0m\u001b[0;34m[\u001b[0m\u001b[0;34m'commentSequence'\u001b[0m\u001b[0;34m]\u001b[0m\u001b[0;34m,\u001b[0m\u001b[0;34m\u001b[0m\u001b[0;34m\u001b[0m\u001b[0m\n",
      "\u001b[0;32m/opt/anaconda3/lib/python3.8/site-packages/nytimes_scraper/nyt_api/community.py\u001b[0m in \u001b[0;36mget_replies\u001b[0;34m(self, article_url, comment_sequence, limit, offset)\u001b[0m\n\u001b[1;32m     35\u001b[0m         )\n\u001b[1;32m     36\u001b[0m \u001b[0;34m\u001b[0m\u001b[0m\n\u001b[0;32m---> 37\u001b[0;31m         \u001b[0msleep\u001b[0m\u001b[0;34m(\u001b[0m\u001b[0;36m1\u001b[0m\u001b[0;34m)\u001b[0m\u001b[0;34m\u001b[0m\u001b[0;34m\u001b[0m\u001b[0m\n\u001b[0m\u001b[1;32m     38\u001b[0m         \u001b[0;32mreturn\u001b[0m \u001b[0mresponse\u001b[0m\u001b[0;34m.\u001b[0m\u001b[0mjson\u001b[0m\u001b[0;34m(\u001b[0m\u001b[0;34m)\u001b[0m\u001b[0;34m\u001b[0m\u001b[0;34m\u001b[0m\u001b[0m\n",
      "\u001b[0;31mKeyboardInterrupt\u001b[0m: "
     ]
    }
   ],
   "source": [
    "import datetime as dt\n",
    "from nytimes_scraper import run_scraper, scrape_month\n",
    "\n",
    "article_df = scrape_month(your_api_key, date=dt.date(2021, 9, 1))"
   ]
  },
  {
   "cell_type": "code",
   "execution_count": null,
   "metadata": {
    "ExecuteTime": {
     "end_time": "2021-07-26T07:22:22.522878Z",
     "start_time": "2021-07-26T00:26:09.465Z"
    }
   },
   "outputs": [],
   "source": [
    "import pickle\n",
    "\n",
    "# Load data (deserialize)\n",
    "with open('2020-06-articles.pickle', 'rb') as handle:\n",
    "    unserialized_data = pickle.load(handle)\n",
    "    \n",
    "print(unserialized_data.shape)\n",
    "del unserialized_data"
   ]
  },
  {
   "cell_type": "code",
   "execution_count": null,
   "metadata": {
    "ExecuteTime": {
     "end_time": "2021-07-23T16:39:52.586823Z",
     "start_time": "2021-07-23T16:33:55.366665Z"
    }
   },
   "outputs": [],
   "source": [
    "# read 2021 keywords\n",
    "df = pd.read_csv('categories.csv', usecols = ['keyword', 'name'])\n",
    "\n",
    "# Read new articles\n",
    "with open('2020-11-articles.pickle', 'rb') as handle:\n",
    "    df_c = pickle.load(handle)\n",
    "\n",
    "for i in df_c.keywords:\n",
    "    if len(i) == 0:\n",
    "        pass\n",
    "    elif len(i) == 1:\n",
    "        if eval(str(i)[1:-1])['name'] not in list(df.name) or eval(str(i)[1:-1])['value'] not in list(df.keyword):\n",
    "            df.loc[len(df)] =(eval(str(i)[1:-1])['value'], eval(str(i)[1:-1])['name'])        \n",
    "    else:                \n",
    "        for j in eval(str(i)[1:-1]):\n",
    "            if j['name'] not in list(df.name) or j['value'] not in list(df.keyword):\n",
    "                df.loc[len(df)] =(j['value'], j['name'])\n"
   ]
  },
  {
   "cell_type": "code",
   "execution_count": null,
   "metadata": {
    "ExecuteTime": {
     "end_time": "2021-07-23T18:16:58.675470Z",
     "start_time": "2021-07-23T18:16:57.290873Z"
    }
   },
   "outputs": [],
   "source": [
    "df[25807:]"
   ]
  },
  {
   "cell_type": "code",
   "execution_count": null,
   "metadata": {
    "ExecuteTime": {
     "end_time": "2021-07-23T18:17:18.314170Z",
     "start_time": "2021-07-23T18:17:18.190763Z"
    }
   },
   "outputs": [],
   "source": [
    "df.to_csv('categories.csv', index = False)"
   ]
  },
  {
   "cell_type": "code",
   "execution_count": 20,
   "metadata": {
    "ExecuteTime": {
     "end_time": "2021-09-19T15:42:15.399360Z",
     "start_time": "2021-09-19T15:42:15.395370Z"
    }
   },
   "outputs": [
    {
     "name": "stdout",
     "output_type": "stream",
     "text": [
      "/opt/anaconda3/bin/python\n"
     ]
    }
   ],
   "source": [
    "import sys\n",
    "print(sys.executable)"
   ]
  },
  {
   "cell_type": "code",
   "execution_count": 51,
   "metadata": {
    "ExecuteTime": {
     "end_time": "2021-09-19T19:27:27.991855Z",
     "start_time": "2021-09-19T19:27:27.986793Z"
    }
   },
   "outputs": [
    {
     "name": "stdout",
     "output_type": "stream",
     "text": [
      "['ASX', 'BMF', 'CFE', 'NYSE', 'stock', 'NASDAQ', 'BATS', 'DJIA', 'DOW', 'CME_Equity', 'CBOT_Equity', 'CME_Agriculture', 'CBOT_Agriculture', 'COMEX_Agriculture', 'NYMEX_Agriculture', 'CME_Rate', 'CBOT_Rate', 'CME_InterestRate', 'CBOT_InterestRate', 'CME_Bond', 'CBOT_Bond', 'EUREX', 'HKEX', 'ICE', 'ICEUS', 'NYFE', 'JPX', 'LSE', 'OSE', 'SIX', 'SSE', 'TSX', 'TSXV', 'BSE', 'TASE', 'AIXK', 'ASEX', 'BVMF', 'CMES', 'IEPA', 'XAMS', 'XASX', 'XBKK', 'XBOG', 'XBOM', 'XBRU', 'XBSE', 'XBUD', 'XBUE', 'XCBF', 'XCSE', 'XDUB', 'XFRA', 'XETR', 'XHEL', 'XHKG', 'XICE', 'XIDX', 'XIST', 'XJSE', 'XKAR', 'XKLS', 'XKRX', 'XLIM', 'XLIS', 'XLON', 'XMAD', 'XMEX', 'XMIL', 'XMOS', 'XNYS', 'XNZE', 'XOSL', 'XPAR', 'XPHS', 'XPRA', 'XSES', 'XSGO', 'XSHG', 'XSTO', 'XSWX', 'XTAE', 'XTAI', 'XTKS', 'XTSE', 'XWAR', 'XWBO', 'us_futures', '24/7', '24/5']\n"
     ]
    }
   ],
   "source": [
    "import pandas_market_calendars as mcal\n",
    "\n",
    "# Show available calendars\n",
    "print(mcal.get_calendar_names())\n",
    "\n",
    "# Create a calendar\n",
    "nyse = mcal.get_calendar('NYSE')"
   ]
  },
  {
   "cell_type": "code",
   "execution_count": 63,
   "metadata": {
    "ExecuteTime": {
     "end_time": "2021-09-20T00:29:38.161909Z",
     "start_time": "2021-09-20T00:29:37.965695Z"
    }
   },
   "outputs": [
    {
     "data": {
      "text/html": [
       "<div>\n",
       "<style scoped>\n",
       "    .dataframe tbody tr th:only-of-type {\n",
       "        vertical-align: middle;\n",
       "    }\n",
       "\n",
       "    .dataframe tbody tr th {\n",
       "        vertical-align: top;\n",
       "    }\n",
       "\n",
       "    .dataframe thead th {\n",
       "        text-align: right;\n",
       "    }\n",
       "</style>\n",
       "<table border=\"1\" class=\"dataframe\">\n",
       "  <thead>\n",
       "    <tr style=\"text-align: right;\">\n",
       "      <th></th>\n",
       "      <th>market_open</th>\n",
       "      <th>market_close</th>\n",
       "    </tr>\n",
       "  </thead>\n",
       "  <tbody>\n",
       "    <tr>\n",
       "      <th>2020-01-02</th>\n",
       "      <td>2020-01-02 14:30:00+00:00</td>\n",
       "      <td>2020-01-02 21:00:00+00:00</td>\n",
       "    </tr>\n",
       "    <tr>\n",
       "      <th>2020-01-03</th>\n",
       "      <td>2020-01-03 14:30:00+00:00</td>\n",
       "      <td>2020-01-03 21:00:00+00:00</td>\n",
       "    </tr>\n",
       "    <tr>\n",
       "      <th>2020-01-06</th>\n",
       "      <td>2020-01-06 14:30:00+00:00</td>\n",
       "      <td>2020-01-06 21:00:00+00:00</td>\n",
       "    </tr>\n",
       "    <tr>\n",
       "      <th>2020-01-07</th>\n",
       "      <td>2020-01-07 14:30:00+00:00</td>\n",
       "      <td>2020-01-07 21:00:00+00:00</td>\n",
       "    </tr>\n",
       "    <tr>\n",
       "      <th>2020-01-08</th>\n",
       "      <td>2020-01-08 14:30:00+00:00</td>\n",
       "      <td>2020-01-08 21:00:00+00:00</td>\n",
       "    </tr>\n",
       "    <tr>\n",
       "      <th>...</th>\n",
       "      <td>...</td>\n",
       "      <td>...</td>\n",
       "    </tr>\n",
       "    <tr>\n",
       "      <th>2021-12-27</th>\n",
       "      <td>2021-12-27 14:30:00+00:00</td>\n",
       "      <td>2021-12-27 21:00:00+00:00</td>\n",
       "    </tr>\n",
       "    <tr>\n",
       "      <th>2021-12-28</th>\n",
       "      <td>2021-12-28 14:30:00+00:00</td>\n",
       "      <td>2021-12-28 21:00:00+00:00</td>\n",
       "    </tr>\n",
       "    <tr>\n",
       "      <th>2021-12-29</th>\n",
       "      <td>2021-12-29 14:30:00+00:00</td>\n",
       "      <td>2021-12-29 21:00:00+00:00</td>\n",
       "    </tr>\n",
       "    <tr>\n",
       "      <th>2021-12-30</th>\n",
       "      <td>2021-12-30 14:30:00+00:00</td>\n",
       "      <td>2021-12-30 21:00:00+00:00</td>\n",
       "    </tr>\n",
       "    <tr>\n",
       "      <th>2021-12-31</th>\n",
       "      <td>2021-12-31 14:30:00+00:00</td>\n",
       "      <td>2021-12-31 21:00:00+00:00</td>\n",
       "    </tr>\n",
       "  </tbody>\n",
       "</table>\n",
       "<p>505 rows × 2 columns</p>\n",
       "</div>"
      ],
      "text/plain": [
       "                         market_open              market_close\n",
       "2020-01-02 2020-01-02 14:30:00+00:00 2020-01-02 21:00:00+00:00\n",
       "2020-01-03 2020-01-03 14:30:00+00:00 2020-01-03 21:00:00+00:00\n",
       "2020-01-06 2020-01-06 14:30:00+00:00 2020-01-06 21:00:00+00:00\n",
       "2020-01-07 2020-01-07 14:30:00+00:00 2020-01-07 21:00:00+00:00\n",
       "2020-01-08 2020-01-08 14:30:00+00:00 2020-01-08 21:00:00+00:00\n",
       "...                              ...                       ...\n",
       "2021-12-27 2021-12-27 14:30:00+00:00 2021-12-27 21:00:00+00:00\n",
       "2021-12-28 2021-12-28 14:30:00+00:00 2021-12-28 21:00:00+00:00\n",
       "2021-12-29 2021-12-29 14:30:00+00:00 2021-12-29 21:00:00+00:00\n",
       "2021-12-30 2021-12-30 14:30:00+00:00 2021-12-30 21:00:00+00:00\n",
       "2021-12-31 2021-12-31 14:30:00+00:00 2021-12-31 21:00:00+00:00\n",
       "\n",
       "[505 rows x 2 columns]"
      ]
     },
     "execution_count": 63,
     "metadata": {},
     "output_type": "execute_result"
    }
   ],
   "source": [
    "early = nyse.schedule(start_date='2020-01-01', end_date='2022-01-01')\n",
    "early"
   ]
  },
  {
   "cell_type": "code",
   "execution_count": 102,
   "metadata": {
    "ExecuteTime": {
     "end_time": "2021-09-20T14:42:22.498743Z",
     "start_time": "2021-09-20T14:42:22.475245Z"
    }
   },
   "outputs": [
    {
     "data": {
      "text/plain": [
       "DatetimeIndex(['2020-01-02 21:00:00+00:00', '2020-01-03 21:00:00+00:00',\n",
       "               '2020-01-06 21:00:00+00:00', '2020-01-07 21:00:00+00:00',\n",
       "               '2020-01-08 21:00:00+00:00', '2020-01-09 21:00:00+00:00',\n",
       "               '2020-01-10 21:00:00+00:00', '2020-01-13 21:00:00+00:00',\n",
       "               '2020-01-14 21:00:00+00:00', '2020-01-15 21:00:00+00:00',\n",
       "               ...\n",
       "               '2021-12-17 21:00:00+00:00', '2021-12-20 21:00:00+00:00',\n",
       "               '2021-12-21 21:00:00+00:00', '2021-12-22 21:00:00+00:00',\n",
       "               '2021-12-23 21:00:00+00:00', '2021-12-27 21:00:00+00:00',\n",
       "               '2021-12-28 21:00:00+00:00', '2021-12-29 21:00:00+00:00',\n",
       "               '2021-12-30 21:00:00+00:00', '2021-12-31 21:00:00+00:00'],\n",
       "              dtype='datetime64[ns, UTC]', length=505, freq=None)"
      ]
     },
     "execution_count": 102,
     "metadata": {},
     "output_type": "execute_result"
    }
   ],
   "source": [
    "mcal.date_range(early, frequency='1D')"
   ]
  },
  {
   "cell_type": "code",
   "execution_count": 109,
   "metadata": {
    "ExecuteTime": {
     "end_time": "2021-09-20T14:43:18.109523Z",
     "start_time": "2021-09-20T14:43:18.103337Z"
    }
   },
   "outputs": [
    {
     "data": {
      "text/plain": [
       "<DstTzInfo 'America/New_York' LMT-1 day, 19:04:00 STD>"
      ]
     },
     "execution_count": 109,
     "metadata": {},
     "output_type": "execute_result"
    }
   ],
   "source": [
    "nyse.tz.zone"
   ]
  },
  {
   "cell_type": "code",
   "execution_count": 107,
   "metadata": {
    "ExecuteTime": {
     "end_time": "2021-09-20T14:43:10.997023Z",
     "start_time": "2021-09-20T14:43:10.992697Z"
    }
   },
   "outputs": [],
   "source": [
    "nyse = mcal.get_calendar('NYSE')"
   ]
  },
  {
   "cell_type": "code",
   "execution_count": 121,
   "metadata": {
    "ExecuteTime": {
     "end_time": "2021-09-20T15:14:25.236846Z",
     "start_time": "2021-09-20T15:14:25.085013Z"
    }
   },
   "outputs": [
    {
     "data": {
      "text/html": [
       "<div>\n",
       "<style scoped>\n",
       "    .dataframe tbody tr th:only-of-type {\n",
       "        vertical-align: middle;\n",
       "    }\n",
       "\n",
       "    .dataframe tbody tr th {\n",
       "        vertical-align: top;\n",
       "    }\n",
       "\n",
       "    .dataframe thead th {\n",
       "        text-align: right;\n",
       "    }\n",
       "</style>\n",
       "<table border=\"1\" class=\"dataframe\">\n",
       "  <thead>\n",
       "    <tr style=\"text-align: right;\">\n",
       "      <th></th>\n",
       "      <th>market_open</th>\n",
       "      <th>market_close</th>\n",
       "    </tr>\n",
       "  </thead>\n",
       "  <tbody>\n",
       "    <tr>\n",
       "      <th>2020-01-02</th>\n",
       "      <td>2020-01-02 09:30:00-05:00</td>\n",
       "      <td>2020-01-02 16:00:00-05:00</td>\n",
       "    </tr>\n",
       "    <tr>\n",
       "      <th>2020-01-03</th>\n",
       "      <td>2020-01-03 09:30:00-05:00</td>\n",
       "      <td>2020-01-03 16:00:00-05:00</td>\n",
       "    </tr>\n",
       "    <tr>\n",
       "      <th>2020-01-06</th>\n",
       "      <td>2020-01-06 09:30:00-05:00</td>\n",
       "      <td>2020-01-06 16:00:00-05:00</td>\n",
       "    </tr>\n",
       "    <tr>\n",
       "      <th>2020-01-07</th>\n",
       "      <td>2020-01-07 09:30:00-05:00</td>\n",
       "      <td>2020-01-07 16:00:00-05:00</td>\n",
       "    </tr>\n",
       "    <tr>\n",
       "      <th>2020-01-08</th>\n",
       "      <td>2020-01-08 09:30:00-05:00</td>\n",
       "      <td>2020-01-08 16:00:00-05:00</td>\n",
       "    </tr>\n",
       "    <tr>\n",
       "      <th>...</th>\n",
       "      <td>...</td>\n",
       "      <td>...</td>\n",
       "    </tr>\n",
       "    <tr>\n",
       "      <th>2021-12-27</th>\n",
       "      <td>2021-12-27 09:30:00-05:00</td>\n",
       "      <td>2021-12-27 16:00:00-05:00</td>\n",
       "    </tr>\n",
       "    <tr>\n",
       "      <th>2021-12-28</th>\n",
       "      <td>2021-12-28 09:30:00-05:00</td>\n",
       "      <td>2021-12-28 16:00:00-05:00</td>\n",
       "    </tr>\n",
       "    <tr>\n",
       "      <th>2021-12-29</th>\n",
       "      <td>2021-12-29 09:30:00-05:00</td>\n",
       "      <td>2021-12-29 16:00:00-05:00</td>\n",
       "    </tr>\n",
       "    <tr>\n",
       "      <th>2021-12-30</th>\n",
       "      <td>2021-12-30 09:30:00-05:00</td>\n",
       "      <td>2021-12-30 16:00:00-05:00</td>\n",
       "    </tr>\n",
       "    <tr>\n",
       "      <th>2021-12-31</th>\n",
       "      <td>2021-12-31 09:30:00-05:00</td>\n",
       "      <td>2021-12-31 16:00:00-05:00</td>\n",
       "    </tr>\n",
       "  </tbody>\n",
       "</table>\n",
       "<p>505 rows × 2 columns</p>\n",
       "</div>"
      ],
      "text/plain": [
       "                         market_open              market_close\n",
       "2020-01-02 2020-01-02 09:30:00-05:00 2020-01-02 16:00:00-05:00\n",
       "2020-01-03 2020-01-03 09:30:00-05:00 2020-01-03 16:00:00-05:00\n",
       "2020-01-06 2020-01-06 09:30:00-05:00 2020-01-06 16:00:00-05:00\n",
       "2020-01-07 2020-01-07 09:30:00-05:00 2020-01-07 16:00:00-05:00\n",
       "2020-01-08 2020-01-08 09:30:00-05:00 2020-01-08 16:00:00-05:00\n",
       "...                              ...                       ...\n",
       "2021-12-27 2021-12-27 09:30:00-05:00 2021-12-27 16:00:00-05:00\n",
       "2021-12-28 2021-12-28 09:30:00-05:00 2021-12-28 16:00:00-05:00\n",
       "2021-12-29 2021-12-29 09:30:00-05:00 2021-12-29 16:00:00-05:00\n",
       "2021-12-30 2021-12-30 09:30:00-05:00 2021-12-30 16:00:00-05:00\n",
       "2021-12-31 2021-12-31 09:30:00-05:00 2021-12-31 16:00:00-05:00\n",
       "\n",
       "[505 rows x 2 columns]"
      ]
     },
     "execution_count": 121,
     "metadata": {},
     "output_type": "execute_result"
    }
   ],
   "source": [
    "early = nyse.schedule(start_date='2020-01-01', end_date='2022-01-01', tz='America/New_York')\n",
    "early"
   ]
  }
 ],
 "metadata": {
  "kernelspec": {
   "display_name": "Python 3",
   "language": "python",
   "name": "python3"
  },
  "language_info": {
   "codemirror_mode": {
    "name": "ipython",
    "version": 3
   },
   "file_extension": ".py",
   "mimetype": "text/x-python",
   "name": "python",
   "nbconvert_exporter": "python",
   "pygments_lexer": "ipython3",
   "version": "3.8.8"
  },
  "toc": {
   "base_numbering": 1,
   "nav_menu": {},
   "number_sections": true,
   "sideBar": true,
   "skip_h1_title": false,
   "title_cell": "Table of Contents",
   "title_sidebar": "Contents",
   "toc_cell": false,
   "toc_position": {},
   "toc_section_display": true,
   "toc_window_display": true
  }
 },
 "nbformat": 4,
 "nbformat_minor": 2
}
