{
 "cells": [
  {
   "cell_type": "markdown",
   "metadata": {},
   "source": [
    "# "
   ]
  },
  {
   "cell_type": "code",
   "execution_count": 1,
   "metadata": {
    "ExecuteTime": {
     "end_time": "2021-05-12T14:57:50.232159Z",
     "start_time": "2021-05-12T14:57:34.710354Z"
    }
   },
   "outputs": [],
   "source": [
    "from bs4 import BeautifulSoup\n",
    "from selenium import webdriver\n",
    "import pandas as pd\n",
    "from selenium.webdriver.common.keys import Keys\n",
    "from selenium.webdriver.support import expected_conditions as EC\n",
    "from selenium.webdriver.common.by import By\n",
    "from selenium.webdriver.support.wait import WebDriverWait"
   ]
  },
  {
   "cell_type": "code",
   "execution_count": 153,
   "metadata": {
    "ExecuteTime": {
     "end_time": "2021-05-12T19:20:39.937865Z",
     "start_time": "2021-05-12T19:20:39.933752Z"
    }
   },
   "outputs": [],
   "source": [
    "import time"
   ]
  },
  {
   "cell_type": "code",
   "execution_count": 144,
   "metadata": {
    "ExecuteTime": {
     "end_time": "2021-05-12T19:17:44.044278Z",
     "start_time": "2021-05-12T19:17:31.874719Z"
    }
   },
   "outputs": [],
   "source": [
    "chrome_path = r'/Users/Edite/Downloads/chromedriver'\n",
    "driver = webdriver.Chrome(executable_path=chrome_path)\n",
    "driver.get('https://www.redditsearch.io')\n",
    "#html = driver.page_source\n",
    "\n",
    "soup = BeautifulSoup(driver.page_source, 'lxml')"
   ]
  },
  {
   "cell_type": "code",
   "execution_count": 145,
   "metadata": {
    "ExecuteTime": {
     "end_time": "2021-05-12T19:17:44.059263Z",
     "start_time": "2021-05-12T19:17:44.050384Z"
    }
   },
   "outputs": [],
   "source": [
    "subreddit = \"worldnews\"\n",
    "start= '01/01/2021'\n",
    "end= '01/02/2021'"
   ]
  },
  {
   "cell_type": "code",
   "execution_count": 146,
   "metadata": {
    "ExecuteTime": {
     "end_time": "2021-05-12T19:17:44.603181Z",
     "start_time": "2021-05-12T19:17:44.127104Z"
    }
   },
   "outputs": [],
   "source": [
    "# fill in world news\n",
    "\n",
    "searchbox = WebDriverWait(driver, 10).until(EC.element_to_be_clickable((By.CSS_SELECTOR, \"input[id='ssubreddits']\")))\n",
    "searchbox.clear()\n",
    "searchbox.send_keys(subreddit)"
   ]
  },
  {
   "cell_type": "code",
   "execution_count": 37,
   "metadata": {
    "ExecuteTime": {
     "end_time": "2021-05-12T15:49:13.010253Z",
     "start_time": "2021-05-12T15:49:12.901381Z"
    }
   },
   "outputs": [],
   "source": [
    "#Click on custom tab\n",
    "\n",
    "l =driver.find_element_by_xpath('//*[@id=\"time-selection\"]/div/label[6]/span')\n",
    "l.click()"
   ]
  },
  {
   "cell_type": "code",
   "execution_count": 38,
   "metadata": {
    "ExecuteTime": {
     "end_time": "2021-05-12T15:49:15.774893Z",
     "start_time": "2021-05-12T15:49:15.625090Z"
    }
   },
   "outputs": [],
   "source": [
    "st = WebDriverWait(driver, 10).until(EC.element_to_be_clickable((By.CSS_SELECTOR, 'input[id=\"sstart\"]')))\n",
    "st.send_keys(start)"
   ]
  },
  {
   "cell_type": "code",
   "execution_count": 39,
   "metadata": {
    "ExecuteTime": {
     "end_time": "2021-05-12T15:49:19.064694Z",
     "start_time": "2021-05-12T15:49:18.955219Z"
    }
   },
   "outputs": [],
   "source": [
    "en = WebDriverWait(driver, 10).until(EC.element_to_be_clickable((By.CSS_SELECTOR, 'input[id=\"send\"]')))\n",
    "en.send_keys(end)"
   ]
  },
  {
   "cell_type": "code",
   "execution_count": 41,
   "metadata": {
    "ExecuteTime": {
     "end_time": "2021-05-12T15:50:02.854599Z",
     "start_time": "2021-05-12T15:50:02.802281Z"
    }
   },
   "outputs": [],
   "source": [
    "l =driver.find_element_by_xpath('//*[@id=\"execute-search\"]')\n",
    "l.click()"
   ]
  },
  {
   "cell_type": "code",
   "execution_count": 57,
   "metadata": {
    "ExecuteTime": {
     "end_time": "2021-05-12T18:27:16.091056Z",
     "start_time": "2021-05-12T18:27:15.984380Z"
    }
   },
   "outputs": [],
   "source": [
    "soup = BeautifulSoup(driver.page_source, 'lxml')"
   ]
  },
  {
   "cell_type": "markdown",
   "metadata": {
    "ExecuteTime": {
     "end_time": "2021-05-12T18:45:00.944798Z",
     "start_time": "2021-05-12T18:45:00.840309Z"
    }
   },
   "source": [
    "for div in soup.find_all('div', class_='submission'):\n",
    "    #print(div)\n",
    "    print(div.find(class_=\"num-comments\").text)\n",
    "    print(div.find(class_=\"title\").text)\n",
    "    print(div.find(class_=\"date\"))\n",
    "\n",
    "    print()\n"
   ]
  },
  {
   "cell_type": "code",
   "execution_count": 167,
   "metadata": {
    "ExecuteTime": {
     "end_time": "2021-05-13T06:15:37.142484Z",
     "start_time": "2021-05-13T06:15:37.134825Z"
    }
   },
   "outputs": [],
   "source": [
    "a = [i.strftime('%m/%d/%Y') for i in pd.date_range('31/12/2020','03/07/2021')]\n",
    "b = [i.strftime('%m/%d/%Y') for i in pd.date_range('01/01/2021','03/08/2021')]"
   ]
  },
  {
   "cell_type": "code",
   "execution_count": 168,
   "metadata": {
    "ExecuteTime": {
     "end_time": "2021-05-13T06:15:46.852421Z",
     "start_time": "2021-05-13T06:15:46.844186Z"
    }
   },
   "outputs": [],
   "source": [
    "df = pd.DataFrame(columns = ['date', 'comments', 'headline', 'time'])"
   ]
  },
  {
   "cell_type": "code",
   "execution_count": 169,
   "metadata": {
    "ExecuteTime": {
     "end_time": "2021-05-13T06:28:22.195694Z",
     "start_time": "2021-05-13T06:16:13.659007Z"
    }
   },
   "outputs": [
    {
     "name": "stdout",
     "output_type": "stream",
     "text": [
      "12/31/2020 01/01/2021\n",
      "01/01/2021 01/02/2021\n",
      "01/02/2021 01/03/2021\n",
      "01/03/2021 01/04/2021\n",
      "01/04/2021 01/05/2021\n",
      "01/05/2021 01/06/2021\n",
      "01/06/2021 01/07/2021\n",
      "01/07/2021 01/08/2021\n",
      "01/08/2021 01/09/2021\n",
      "01/09/2021 01/10/2021\n",
      "01/10/2021 01/11/2021\n",
      "01/11/2021 01/12/2021\n",
      "01/12/2021 01/13/2021\n",
      "01/13/2021 01/14/2021\n",
      "01/14/2021 01/15/2021\n",
      "01/15/2021 01/16/2021\n",
      "01/16/2021 01/17/2021\n",
      "01/17/2021 01/18/2021\n",
      "01/18/2021 01/19/2021\n",
      "01/19/2021 01/20/2021\n",
      "01/20/2021 01/21/2021\n",
      "01/21/2021 01/22/2021\n",
      "01/22/2021 01/23/2021\n",
      "01/23/2021 01/24/2021\n",
      "01/24/2021 01/25/2021\n",
      "01/25/2021 01/26/2021\n",
      "01/26/2021 01/27/2021\n",
      "01/27/2021 01/28/2021\n",
      "01/28/2021 01/29/2021\n",
      "01/29/2021 01/30/2021\n",
      "01/30/2021 01/31/2021\n",
      "01/31/2021 02/01/2021\n",
      "02/01/2021 02/02/2021\n",
      "02/02/2021 02/03/2021\n",
      "02/03/2021 02/04/2021\n",
      "02/04/2021 02/05/2021\n",
      "02/05/2021 02/06/2021\n",
      "02/06/2021 02/07/2021\n",
      "02/07/2021 02/08/2021\n",
      "02/08/2021 02/09/2021\n",
      "02/09/2021 02/10/2021\n",
      "02/10/2021 02/11/2021\n",
      "02/11/2021 02/12/2021\n",
      "02/12/2021 02/13/2021\n",
      "02/13/2021 02/14/2021\n",
      "02/14/2021 02/15/2021\n",
      "02/15/2021 02/16/2021\n",
      "02/16/2021 02/17/2021\n",
      "02/17/2021 02/18/2021\n",
      "02/18/2021 02/19/2021\n",
      "02/19/2021 02/20/2021\n",
      "02/20/2021 02/21/2021\n",
      "02/21/2021 02/22/2021\n",
      "02/22/2021 02/23/2021\n",
      "02/23/2021 02/24/2021\n",
      "02/24/2021 02/25/2021\n",
      "02/25/2021 02/26/2021\n",
      "02/26/2021 02/27/2021\n",
      "02/27/2021 02/28/2021\n",
      "02/28/2021 03/01/2021\n",
      "03/01/2021 03/02/2021\n",
      "03/02/2021 03/03/2021\n",
      "03/03/2021 03/04/2021\n",
      "03/04/2021 03/05/2021\n",
      "03/05/2021 03/06/2021\n",
      "03/06/2021 03/07/2021\n",
      "03/07/2021 03/08/2021\n"
     ]
    }
   ],
   "source": [
    "for i in list(zip(a,b)):\n",
    "    start = i[0]\n",
    "    end = i[1]\n",
    "    print(i[0], i[1])\n",
    "    \n",
    "    #custom range\n",
    "    l =driver.find_element_by_xpath('//*[@id=\"time-selection\"]/div/label[6]/span')\n",
    "    l.click()\n",
    "    # start date\n",
    "    st = WebDriverWait(driver, 10).until(EC.element_to_be_clickable((By.CSS_SELECTOR, 'input[id=\"sstart\"]')))\n",
    "    st.clear()\n",
    "    st.send_keys(start)\n",
    "    #end date\n",
    "    en = WebDriverWait(driver, 10).until(EC.element_to_be_clickable((By.CSS_SELECTOR, 'input[id=\"send\"]')))\n",
    "    en.clear()\n",
    "    en.send_keys(end)\n",
    "    #enter\n",
    "    l =driver.find_element_by_xpath('//*[@id=\"execute-search\"]')\n",
    "    l.click()\n",
    "    \n",
    "    WebDriverWait(driver, 30   )\n",
    "    time.sleep(10)\n",
    "    \n",
    "    soup = BeautifulSoup(driver.page_source, 'lxml')\n",
    "    counter = 1\n",
    "    atbilde = []\n",
    "    for div in soup.find_all('div', class_='submission'):\n",
    "        atbilde = []\n",
    "        atbilde.append(i[1])\n",
    "        #print(div.find(class_=\"num-comments\").text)\n",
    "        atbilde.append(div.find(class_=\"num-comments\").text)\n",
    "        #print(div.find(class_=\"title\").text)\n",
    "        atbilde.append(div.find(class_=\"title\").text)\n",
    "        atbilde.append(div.find(class_=\"date\"))\n",
    "        #print(div.find(class_=\"date\"))\n",
    "        df.loc[len(df)]= atbilde\n",
    "        \n",
    "#print(df)"
   ]
  },
  {
   "cell_type": "code",
   "execution_count": 170,
   "metadata": {
    "ExecuteTime": {
     "end_time": "2021-05-13T06:34:12.677240Z",
     "start_time": "2021-05-13T06:34:12.669783Z"
    }
   },
   "outputs": [
    {
     "data": {
      "text/plain": [
       "(6590, 4)"
      ]
     },
     "execution_count": 170,
     "metadata": {},
     "output_type": "execute_result"
    }
   ],
   "source": [
    "df.shape"
   ]
  },
  {
   "cell_type": "code",
   "execution_count": 171,
   "metadata": {
    "ExecuteTime": {
     "end_time": "2021-05-13T06:34:34.495436Z",
     "start_time": "2021-05-13T06:34:26.036618Z"
    }
   },
   "outputs": [],
   "source": [
    "df.to_excel('old_reddit.xlsx')"
   ]
  },
  {
   "cell_type": "code",
   "execution_count": 324,
   "metadata": {
    "ExecuteTime": {
     "end_time": "2021-05-13T11:03:41.377641Z",
     "start_time": "2021-05-13T11:03:40.490494Z"
    }
   },
   "outputs": [],
   "source": [
    "df = pd.read_excel('old_reddit.xlsx')"
   ]
  },
  {
   "cell_type": "code",
   "execution_count": 329,
   "metadata": {
    "ExecuteTime": {
     "end_time": "2021-05-13T11:04:33.689782Z",
     "start_time": "2021-05-13T11:04:33.595701Z"
    }
   },
   "outputs": [],
   "source": [
    "import sqlite3\n",
    "\n",
    "connection = sqlite3.connect('MSC.db')\n",
    "cursor = connection.cursor()\n",
    "df.to_sql('reddit_old', connection, index = False)\n",
    "connection.commit()\n",
    "connection.close()"
   ]
  },
  {
   "cell_type": "code",
   "execution_count": 328,
   "metadata": {
    "ExecuteTime": {
     "end_time": "2021-05-13T11:04:31.429171Z",
     "start_time": "2021-05-13T11:04:31.315312Z"
    }
   },
   "outputs": [],
   "source": [
    "connection = sqlite3.connect('MSC.db')\n",
    "cursor = connection.cursor()\n",
    "cursor.executescript(\"drop table reddit_old\")\n",
    "connection.commit()\n",
    "connection.close()\n",
    "#z = pd.read_sql_query(sql,connection)"
   ]
  },
  {
   "cell_type": "code",
   "execution_count": 330,
   "metadata": {
    "ExecuteTime": {
     "end_time": "2021-05-13T11:04:37.758978Z",
     "start_time": "2021-05-13T11:04:37.710995Z"
    }
   },
   "outputs": [
    {
     "data": {
      "text/html": [
       "<div>\n",
       "<style scoped>\n",
       "    .dataframe tbody tr th:only-of-type {\n",
       "        vertical-align: middle;\n",
       "    }\n",
       "\n",
       "    .dataframe tbody tr th {\n",
       "        vertical-align: top;\n",
       "    }\n",
       "\n",
       "    .dataframe thead th {\n",
       "        text-align: right;\n",
       "    }\n",
       "</style>\n",
       "<table border=\"1\" class=\"dataframe\">\n",
       "  <thead>\n",
       "    <tr style=\"text-align: right;\">\n",
       "      <th></th>\n",
       "      <th>date</th>\n",
       "      <th>comments</th>\n",
       "      <th>headline</th>\n",
       "      <th>time</th>\n",
       "    </tr>\n",
       "  </thead>\n",
       "  <tbody>\n",
       "    <tr>\n",
       "      <th>0</th>\n",
       "      <td>2021-01-01</td>\n",
       "      <td>6,498</td>\n",
       "      <td>Women should decide whether to legalize aborti...</td>\n",
       "      <td>&lt;time class=\"date\" title=\"2020-12-31T18:52:03+...</td>\n",
       "    </tr>\n",
       "    <tr>\n",
       "      <th>1</th>\n",
       "      <td>2021-01-01</td>\n",
       "      <td>6,161</td>\n",
       "      <td>NATO is furious at Trump delaying the military...</td>\n",
       "      <td>&lt;time class=\"date\" title=\"2020-12-31T12:35:25+...</td>\n",
       "    </tr>\n",
       "    <tr>\n",
       "      <th>2</th>\n",
       "      <td>2021-01-01</td>\n",
       "      <td>2,113</td>\n",
       "      <td>Antibiotics banned in UK but fed to US animals...</td>\n",
       "      <td>&lt;time class=\"date\" title=\"2020-12-31T00:47:23+...</td>\n",
       "    </tr>\n",
       "    <tr>\n",
       "      <th>3</th>\n",
       "      <td>2021-01-01</td>\n",
       "      <td>974</td>\n",
       "      <td>Iran accuses Trump of 'plot to fabricate prete...</td>\n",
       "      <td>&lt;time class=\"date\" title=\"2020-12-31T14:51:42+...</td>\n",
       "    </tr>\n",
       "    <tr>\n",
       "      <th>4</th>\n",
       "      <td>2021-01-01</td>\n",
       "      <td>799</td>\n",
       "      <td>Extinct woolly rhinoceros found frozen in Sibe...</td>\n",
       "      <td>&lt;time class=\"date\" title=\"2020-12-31T03:48:43+...</td>\n",
       "    </tr>\n",
       "    <tr>\n",
       "      <th>...</th>\n",
       "      <td>...</td>\n",
       "      <td>...</td>\n",
       "      <td>...</td>\n",
       "      <td>...</td>\n",
       "    </tr>\n",
       "    <tr>\n",
       "      <th>6585</th>\n",
       "      <td>2021-03-08</td>\n",
       "      <td>0</td>\n",
       "      <td>Rohingyas in India's Jammu fear deportation af...</td>\n",
       "      <td>&lt;time class=\"date\" title=\"2021-03-07T16:35:21+...</td>\n",
       "    </tr>\n",
       "    <tr>\n",
       "      <th>6586</th>\n",
       "      <td>2021-03-08</td>\n",
       "      <td>0</td>\n",
       "      <td>Blizzard Employees Staged a Walkout After the ...</td>\n",
       "      <td>&lt;time class=\"date\" title=\"2021-03-07T17:25:58+...</td>\n",
       "    </tr>\n",
       "    <tr>\n",
       "      <th>6587</th>\n",
       "      <td>2021-03-08</td>\n",
       "      <td>0</td>\n",
       "      <td>Atlético Madrid v Real Madrid: La Liga – live!</td>\n",
       "      <td>&lt;time class=\"date\" title=\"2021-03-07T17:26:45+...</td>\n",
       "    </tr>\n",
       "    <tr>\n",
       "      <th>6588</th>\n",
       "      <td>2021-03-08</td>\n",
       "      <td>0</td>\n",
       "      <td>'We're not the gatekeepers': the Golden Globes...</td>\n",
       "      <td>&lt;time class=\"date\" title=\"2021-03-07T17:26:50+...</td>\n",
       "    </tr>\n",
       "    <tr>\n",
       "      <th>6589</th>\n",
       "      <td>2021-03-08</td>\n",
       "      <td>0</td>\n",
       "      <td>Uptick in crimes against Mexican politicians p...</td>\n",
       "      <td>&lt;time class=\"date\" title=\"2021-03-07T16:59:36+...</td>\n",
       "    </tr>\n",
       "  </tbody>\n",
       "</table>\n",
       "<p>6590 rows × 4 columns</p>\n",
       "</div>"
      ],
      "text/plain": [
       "            date comments                                           headline  \\\n",
       "0     2021-01-01    6,498  Women should decide whether to legalize aborti...   \n",
       "1     2021-01-01    6,161  NATO is furious at Trump delaying the military...   \n",
       "2     2021-01-01    2,113  Antibiotics banned in UK but fed to US animals...   \n",
       "3     2021-01-01      974  Iran accuses Trump of 'plot to fabricate prete...   \n",
       "4     2021-01-01      799  Extinct woolly rhinoceros found frozen in Sibe...   \n",
       "...          ...      ...                                                ...   \n",
       "6585  2021-03-08        0  Rohingyas in India's Jammu fear deportation af...   \n",
       "6586  2021-03-08        0  Blizzard Employees Staged a Walkout After the ...   \n",
       "6587  2021-03-08        0     Atlético Madrid v Real Madrid: La Liga – live!   \n",
       "6588  2021-03-08        0  'We're not the gatekeepers': the Golden Globes...   \n",
       "6589  2021-03-08        0  Uptick in crimes against Mexican politicians p...   \n",
       "\n",
       "                                                   time  \n",
       "0     <time class=\"date\" title=\"2020-12-31T18:52:03+...  \n",
       "1     <time class=\"date\" title=\"2020-12-31T12:35:25+...  \n",
       "2     <time class=\"date\" title=\"2020-12-31T00:47:23+...  \n",
       "3     <time class=\"date\" title=\"2020-12-31T14:51:42+...  \n",
       "4     <time class=\"date\" title=\"2020-12-31T03:48:43+...  \n",
       "...                                                 ...  \n",
       "6585  <time class=\"date\" title=\"2021-03-07T16:35:21+...  \n",
       "6586  <time class=\"date\" title=\"2021-03-07T17:25:58+...  \n",
       "6587  <time class=\"date\" title=\"2021-03-07T17:26:45+...  \n",
       "6588  <time class=\"date\" title=\"2021-03-07T17:26:50+...  \n",
       "6589  <time class=\"date\" title=\"2021-03-07T16:59:36+...  \n",
       "\n",
       "[6590 rows x 4 columns]"
      ]
     },
     "execution_count": 330,
     "metadata": {},
     "output_type": "execute_result"
    }
   ],
   "source": [
    "connection = sqlite3.connect(\"MSC.db\")\n",
    "cursor = connection.cursor()\n",
    "\n",
    "sql = ('Select  * from reddit_old')\n",
    "z =pd.read_sql_query(sql,connection)\n",
    "z"
   ]
  },
  {
   "cell_type": "code",
   "execution_count": 239,
   "metadata": {
    "ExecuteTime": {
     "end_time": "2021-05-13T07:07:23.849079Z",
     "start_time": "2021-05-13T07:07:23.844036Z"
    }
   },
   "outputs": [],
   "source": [
    "import datetime"
   ]
  },
  {
   "cell_type": "code",
   "execution_count": 281,
   "metadata": {
    "ExecuteTime": {
     "end_time": "2021-05-13T07:27:21.536465Z",
     "start_time": "2021-05-13T07:27:21.523354Z"
    }
   },
   "outputs": [
    {
     "data": {
      "text/plain": [
       "0      2021-01-01\n",
       "1      2021-01-01\n",
       "2      2021-01-01\n",
       "3      2021-01-01\n",
       "4      2021-01-01\n",
       "          ...    \n",
       "6585   2021-03-08\n",
       "6586   2021-03-08\n",
       "6587   2021-03-08\n",
       "6588   2021-03-08\n",
       "6589   2021-03-08\n",
       "Name: date, Length: 6590, dtype: datetime64[ns]"
      ]
     },
     "execution_count": 281,
     "metadata": {},
     "output_type": "execute_result"
    }
   ],
   "source": [
    "pd.to_datetime(df['date'])"
   ]
  },
  {
   "cell_type": "code",
   "execution_count": 325,
   "metadata": {
    "ExecuteTime": {
     "end_time": "2021-05-13T11:04:08.142487Z",
     "start_time": "2021-05-13T11:04:08.059295Z"
    }
   },
   "outputs": [],
   "source": [
    "df['date'] = pd.to_datetime(df['date']).dt.strftime('%Y-%m-%d')"
   ]
  },
  {
   "cell_type": "code",
   "execution_count": 326,
   "metadata": {
    "ExecuteTime": {
     "end_time": "2021-05-13T11:04:10.449337Z",
     "start_time": "2021-05-13T11:04:10.443479Z"
    }
   },
   "outputs": [],
   "source": [
    "df = df[['date', 'comments', 'headline', 'time']]"
   ]
  },
  {
   "cell_type": "code",
   "execution_count": 327,
   "metadata": {
    "ExecuteTime": {
     "end_time": "2021-05-13T11:04:14.808170Z",
     "start_time": "2021-05-13T11:04:14.787805Z"
    }
   },
   "outputs": [
    {
     "data": {
      "text/html": [
       "<div>\n",
       "<style scoped>\n",
       "    .dataframe tbody tr th:only-of-type {\n",
       "        vertical-align: middle;\n",
       "    }\n",
       "\n",
       "    .dataframe tbody tr th {\n",
       "        vertical-align: top;\n",
       "    }\n",
       "\n",
       "    .dataframe thead th {\n",
       "        text-align: right;\n",
       "    }\n",
       "</style>\n",
       "<table border=\"1\" class=\"dataframe\">\n",
       "  <thead>\n",
       "    <tr style=\"text-align: right;\">\n",
       "      <th></th>\n",
       "      <th>date</th>\n",
       "      <th>comments</th>\n",
       "      <th>headline</th>\n",
       "      <th>time</th>\n",
       "    </tr>\n",
       "  </thead>\n",
       "  <tbody>\n",
       "    <tr>\n",
       "      <th>0</th>\n",
       "      <td>2021-01-01</td>\n",
       "      <td>6,498</td>\n",
       "      <td>Women should decide whether to legalize aborti...</td>\n",
       "      <td>&lt;time class=\"date\" title=\"2020-12-31T18:52:03+...</td>\n",
       "    </tr>\n",
       "    <tr>\n",
       "      <th>1</th>\n",
       "      <td>2021-01-01</td>\n",
       "      <td>6,161</td>\n",
       "      <td>NATO is furious at Trump delaying the military...</td>\n",
       "      <td>&lt;time class=\"date\" title=\"2020-12-31T12:35:25+...</td>\n",
       "    </tr>\n",
       "    <tr>\n",
       "      <th>2</th>\n",
       "      <td>2021-01-01</td>\n",
       "      <td>2,113</td>\n",
       "      <td>Antibiotics banned in UK but fed to US animals...</td>\n",
       "      <td>&lt;time class=\"date\" title=\"2020-12-31T00:47:23+...</td>\n",
       "    </tr>\n",
       "    <tr>\n",
       "      <th>3</th>\n",
       "      <td>2021-01-01</td>\n",
       "      <td>974</td>\n",
       "      <td>Iran accuses Trump of 'plot to fabricate prete...</td>\n",
       "      <td>&lt;time class=\"date\" title=\"2020-12-31T14:51:42+...</td>\n",
       "    </tr>\n",
       "    <tr>\n",
       "      <th>4</th>\n",
       "      <td>2021-01-01</td>\n",
       "      <td>799</td>\n",
       "      <td>Extinct woolly rhinoceros found frozen in Sibe...</td>\n",
       "      <td>&lt;time class=\"date\" title=\"2020-12-31T03:48:43+...</td>\n",
       "    </tr>\n",
       "    <tr>\n",
       "      <th>...</th>\n",
       "      <td>...</td>\n",
       "      <td>...</td>\n",
       "      <td>...</td>\n",
       "      <td>...</td>\n",
       "    </tr>\n",
       "    <tr>\n",
       "      <th>6585</th>\n",
       "      <td>2021-03-08</td>\n",
       "      <td>0</td>\n",
       "      <td>Rohingyas in India's Jammu fear deportation af...</td>\n",
       "      <td>&lt;time class=\"date\" title=\"2021-03-07T16:35:21+...</td>\n",
       "    </tr>\n",
       "    <tr>\n",
       "      <th>6586</th>\n",
       "      <td>2021-03-08</td>\n",
       "      <td>0</td>\n",
       "      <td>Blizzard Employees Staged a Walkout After the ...</td>\n",
       "      <td>&lt;time class=\"date\" title=\"2021-03-07T17:25:58+...</td>\n",
       "    </tr>\n",
       "    <tr>\n",
       "      <th>6587</th>\n",
       "      <td>2021-03-08</td>\n",
       "      <td>0</td>\n",
       "      <td>Atlético Madrid v Real Madrid: La Liga – live!</td>\n",
       "      <td>&lt;time class=\"date\" title=\"2021-03-07T17:26:45+...</td>\n",
       "    </tr>\n",
       "    <tr>\n",
       "      <th>6588</th>\n",
       "      <td>2021-03-08</td>\n",
       "      <td>0</td>\n",
       "      <td>'We're not the gatekeepers': the Golden Globes...</td>\n",
       "      <td>&lt;time class=\"date\" title=\"2021-03-07T17:26:50+...</td>\n",
       "    </tr>\n",
       "    <tr>\n",
       "      <th>6589</th>\n",
       "      <td>2021-03-08</td>\n",
       "      <td>0</td>\n",
       "      <td>Uptick in crimes against Mexican politicians p...</td>\n",
       "      <td>&lt;time class=\"date\" title=\"2021-03-07T16:59:36+...</td>\n",
       "    </tr>\n",
       "  </tbody>\n",
       "</table>\n",
       "<p>6590 rows × 4 columns</p>\n",
       "</div>"
      ],
      "text/plain": [
       "            date comments                                           headline  \\\n",
       "0     2021-01-01    6,498  Women should decide whether to legalize aborti...   \n",
       "1     2021-01-01    6,161  NATO is furious at Trump delaying the military...   \n",
       "2     2021-01-01    2,113  Antibiotics banned in UK but fed to US animals...   \n",
       "3     2021-01-01      974  Iran accuses Trump of 'plot to fabricate prete...   \n",
       "4     2021-01-01      799  Extinct woolly rhinoceros found frozen in Sibe...   \n",
       "...          ...      ...                                                ...   \n",
       "6585  2021-03-08        0  Rohingyas in India's Jammu fear deportation af...   \n",
       "6586  2021-03-08        0  Blizzard Employees Staged a Walkout After the ...   \n",
       "6587  2021-03-08        0     Atlético Madrid v Real Madrid: La Liga – live!   \n",
       "6588  2021-03-08        0  'We're not the gatekeepers': the Golden Globes...   \n",
       "6589  2021-03-08        0  Uptick in crimes against Mexican politicians p...   \n",
       "\n",
       "                                                   time  \n",
       "0     <time class=\"date\" title=\"2020-12-31T18:52:03+...  \n",
       "1     <time class=\"date\" title=\"2020-12-31T12:35:25+...  \n",
       "2     <time class=\"date\" title=\"2020-12-31T00:47:23+...  \n",
       "3     <time class=\"date\" title=\"2020-12-31T14:51:42+...  \n",
       "4     <time class=\"date\" title=\"2020-12-31T03:48:43+...  \n",
       "...                                                 ...  \n",
       "6585  <time class=\"date\" title=\"2021-03-07T16:35:21+...  \n",
       "6586  <time class=\"date\" title=\"2021-03-07T17:25:58+...  \n",
       "6587  <time class=\"date\" title=\"2021-03-07T17:26:45+...  \n",
       "6588  <time class=\"date\" title=\"2021-03-07T17:26:50+...  \n",
       "6589  <time class=\"date\" title=\"2021-03-07T16:59:36+...  \n",
       "\n",
       "[6590 rows x 4 columns]"
      ]
     },
     "execution_count": 327,
     "metadata": {},
     "output_type": "execute_result"
    }
   ],
   "source": [
    "df"
   ]
  },
  {
   "cell_type": "markdown",
   "metadata": {},
   "source": [
    "# old to main"
   ]
  },
  {
   "cell_type": "code",
   "execution_count": 339,
   "metadata": {
    "ExecuteTime": {
     "end_time": "2021-05-13T11:08:17.642202Z",
     "start_time": "2021-05-13T11:08:17.637985Z"
    }
   },
   "outputs": [],
   "source": [
    "connection = sqlite3.connect('MSC.db')\n",
    "cursor = connection.cursor()"
   ]
  },
  {
   "cell_type": "code",
   "execution_count": 341,
   "metadata": {
    "ExecuteTime": {
     "end_time": "2021-05-13T11:21:02.838448Z",
     "start_time": "2021-05-13T11:21:02.705957Z"
    }
   },
   "outputs": [
    {
     "data": {
      "text/html": [
       "<div>\n",
       "<style scoped>\n",
       "    .dataframe tbody tr th:only-of-type {\n",
       "        vertical-align: middle;\n",
       "    }\n",
       "\n",
       "    .dataframe tbody tr th {\n",
       "        vertical-align: top;\n",
       "    }\n",
       "\n",
       "    .dataframe thead th {\n",
       "        text-align: right;\n",
       "    }\n",
       "</style>\n",
       "<table border=\"1\" class=\"dataframe\">\n",
       "  <thead>\n",
       "    <tr style=\"text-align: right;\">\n",
       "      <th></th>\n",
       "      <th>date</th>\n",
       "      <th>top1</th>\n",
       "      <th>top2</th>\n",
       "      <th>top3</th>\n",
       "      <th>top4</th>\n",
       "      <th>top5</th>\n",
       "      <th>top6</th>\n",
       "      <th>top7</th>\n",
       "      <th>top8</th>\n",
       "      <th>top9</th>\n",
       "      <th>...</th>\n",
       "      <th>top21</th>\n",
       "      <th>top22</th>\n",
       "      <th>top23</th>\n",
       "      <th>top24</th>\n",
       "      <th>top25</th>\n",
       "      <th>top26</th>\n",
       "      <th>top27</th>\n",
       "      <th>top28</th>\n",
       "      <th>top29</th>\n",
       "      <th>top30</th>\n",
       "    </tr>\n",
       "  </thead>\n",
       "  <tbody>\n",
       "    <tr>\n",
       "      <th>0</th>\n",
       "      <td>2021-01-01</td>\n",
       "      <td>Women should decide whether to legalize aborti...</td>\n",
       "      <td>NATO is furious at Trump delaying the military...</td>\n",
       "      <td>Antibiotics banned in UK but fed to US animals...</td>\n",
       "      <td>Iran accuses Trump of 'plot to fabricate prete...</td>\n",
       "      <td>Extinct woolly rhinoceros found frozen in Sibe...</td>\n",
       "      <td>New COVID-19 strain spreading faster than all ...</td>\n",
       "      <td>Canadian politician faked Twitter posts to con...</td>\n",
       "      <td>Iran says Trump's life 'will end,' won't stop ...</td>\n",
       "      <td>China allegedly paid non-state actors to kill ...</td>\n",
       "      <td>...</td>\n",
       "      <td>Vatican denies knowledge of $1.8 billion trans...</td>\n",
       "      <td>U.S. demands release of Uighur doctor who fami...</td>\n",
       "      <td>Countries that have managed to reduce transmis...</td>\n",
       "      <td>SolarWinds hackers accessed Microsoft source code</td>\n",
       "      <td>Hospital worker deliberately destroys 570 dose...</td>\n",
       "      <td>China Is Making It Harder To Solve The Mystery...</td>\n",
       "      <td>Iran's Zarif says U.S. plotting to fabricate w...</td>\n",
       "      <td>Australia changes national anthem to reflect i...</td>\n",
       "      <td>Caribbean volcanoes rumble to life as scientis...</td>\n",
       "      <td>China marks the New Year with a victory speech...</td>\n",
       "    </tr>\n",
       "    <tr>\n",
       "      <th>1</th>\n",
       "      <td>2021-01-02</td>\n",
       "      <td>Crowds throng Wuhan, where coronavirus pandemi...</td>\n",
       "      <td>Apple knew a supplier was using child labor bu...</td>\n",
       "      <td>China is guarding ancient bat caves against jo...</td>\n",
       "      <td>Brexit a product of ‘lies and false promises’,...</td>\n",
       "      <td>Indian Govt proposes to buy bulk subscriptions...</td>\n",
       "      <td>We will be back soon, Scotland's first ministe...</td>\n",
       "      <td>Prime Minister Imran Khan announced his two ne...</td>\n",
       "      <td>Two dormant volcanoes on Martinique and St. Vi...</td>\n",
       "      <td>Some 2,500 partygoers attended an illegal New ...</td>\n",
       "      <td>...</td>\n",
       "      <td>Puerto Rico commits $8 million to clean-up deb...</td>\n",
       "      <td>As 2021 dawns, Israel becomes first country to...</td>\n",
       "      <td>Fresh fears for Tokyo Olympics as host city se...</td>\n",
       "      <td>Iran intends to start enriching uranium to 20%...</td>\n",
       "      <td>Pakistan regional gov’t to fund construction o...</td>\n",
       "      <td>'Exceptionally draining': US medics shattered ...</td>\n",
       "      <td>U.S. foreign military sales broke records in 2...</td>\n",
       "      <td>Cuban school teachers, journalists, lion tamer...</td>\n",
       "      <td>BBC News - Australia-China row: 'I'm Australia...</td>\n",
       "      <td>Australia-China row: \"I'm Australian - why do ...</td>\n",
       "    </tr>\n",
       "    <tr>\n",
       "      <th>2</th>\n",
       "      <td>2021-01-03</td>\n",
       "      <td>Amid Warnings of Surging Worldwide Poverty, Pl...</td>\n",
       "      <td>Covid wards 'full of children' for first time ...</td>\n",
       "      <td>Kazakhstan abolishes death penalty</td>\n",
       "      <td>Growing list of Canadian politicians caught tr...</td>\n",
       "      <td>Two trans women win election in historic momen...</td>\n",
       "      <td>Quantum Teleportation Was Just Achieved With 9...</td>\n",
       "      <td>Beijing rejects Taiwanese president’s offer to...</td>\n",
       "      <td>Turkish Scientists say they've made a 10-secon...</td>\n",
       "      <td>'Always afraid': Iran's largest religious mino...</td>\n",
       "      <td>...</td>\n",
       "      <td>Germany’s drive for EU-China deal draws critic...</td>\n",
       "      <td>Serbia opens pipeline for Russian gas, ignorin...</td>\n",
       "      <td>‘We don't need a world where China becomes ano...</td>\n",
       "      <td>Palestinian Young Man Paralyzed after Israeli ...</td>\n",
       "      <td>Bezos, Musk Smash Records as World’s Richest A...</td>\n",
       "      <td>Tesco and Pizza Hut 'shamed' for not paying th...</td>\n",
       "      <td>Bolsonaro Criticizes The Decision in Argentina...</td>\n",
       "      <td>Chinese agriculture experts help boost crop yi...</td>\n",
       "      <td>US imposes new sanctions to kill off Putin’s p...</td>\n",
       "      <td>At least 70 killed in suspected Islamist attac...</td>\n",
       "    </tr>\n",
       "    <tr>\n",
       "      <th>3</th>\n",
       "      <td>2021-01-04</td>\n",
       "      <td>Chinese tech billionaire Jack Ma was removed f...</td>\n",
       "      <td>Organic meats found to have approximately the ...</td>\n",
       "      <td>German police raid church service with over 10...</td>\n",
       "      <td>Palestinians excluded from Israeli Covid vacci...</td>\n",
       "      <td>Teachers in England ‘scared’ and ‘frustrated’ ...</td>\n",
       "      <td>Protestors gather outside Dublin police statio...</td>\n",
       "      <td>London hospitals to halt cancer surgeries due ...</td>\n",
       "      <td>Pope condemns travelling abroad to escape coro...</td>\n",
       "      <td>Richest 1% have almost a quarter of UK wealth,...</td>\n",
       "      <td>...</td>\n",
       "      <td>NZ crayfish in hot demand in China, selling fo...</td>\n",
       "      <td>Israeli soldier shoots and paralyzes Palestini...</td>\n",
       "      <td>Moscow metro hires first female train drivers ...</td>\n",
       "      <td>China reports 24 new COVID-19 cases vs. 22 a d...</td>\n",
       "      <td>Israel dismisses 'nonsense' Iran charge it see...</td>\n",
       "      <td>Rendering of Korea's first aircraft carrier re...</td>\n",
       "      <td>ASIO red-flags Chinese businessman and Liberal...</td>\n",
       "      <td>Covid police raid Canadian home, violently arr...</td>\n",
       "      <td>Lab leak is the 'most credible' source of the ...</td>\n",
       "      <td>[Japan] Male-only rule should be prioritized i...</td>\n",
       "    </tr>\n",
       "    <tr>\n",
       "      <th>4</th>\n",
       "      <td>2021-01-05</td>\n",
       "      <td>Julian Assange cannot be extradited to US, Bri...</td>\n",
       "      <td>Scotland announces full lockdown, closing scho...</td>\n",
       "      <td>South Korea recorded more deaths than births i...</td>\n",
       "      <td>Scottish National Party MP Margaret Ferrier ha...</td>\n",
       "      <td>England Enters National Lockdown in wake New C...</td>\n",
       "      <td>British expats 'barred from boarding flight to...</td>\n",
       "      <td>Canada's top-paid CEOs raked in average worker...</td>\n",
       "      <td>Iran resumes enriching uranium to 20%</td>\n",
       "      <td>North Korea requests Covid vaccine after month...</td>\n",
       "      <td>...</td>\n",
       "      <td>Colchester Hospital: Covid deniers removed fro...</td>\n",
       "      <td>Julian Assange cannot be extradited to US, Bri...</td>\n",
       "      <td>Iran says it has seized South Korean tanker as...</td>\n",
       "      <td>Where is Jack Ma? Questions arise about the bi...</td>\n",
       "      <td>An unusually strong warm wave heads for the Ar...</td>\n",
       "      <td>Bali's beaches buried in tide of plastic rubbi...</td>\n",
       "      <td>Covid: Boris Johnson puts England into six-wee...</td>\n",
       "      <td>As Jack Ma goes missing, video predicting he w...</td>\n",
       "      <td>The world’s largest solar plant has secured fi...</td>\n",
       "      <td>Pentagon: Carrier USS Nimitz Will Stay in Midd...</td>\n",
       "    </tr>\n",
       "    <tr>\n",
       "      <th>...</th>\n",
       "      <td>...</td>\n",
       "      <td>...</td>\n",
       "      <td>...</td>\n",
       "      <td>...</td>\n",
       "      <td>...</td>\n",
       "      <td>...</td>\n",
       "      <td>...</td>\n",
       "      <td>...</td>\n",
       "      <td>...</td>\n",
       "      <td>...</td>\n",
       "      <td>...</td>\n",
       "      <td>...</td>\n",
       "      <td>...</td>\n",
       "      <td>...</td>\n",
       "      <td>...</td>\n",
       "      <td>...</td>\n",
       "      <td>...</td>\n",
       "      <td>...</td>\n",
       "      <td>...</td>\n",
       "      <td>...</td>\n",
       "      <td>...</td>\n",
       "    </tr>\n",
       "    <tr>\n",
       "      <th>127</th>\n",
       "      <td>2021-05-09</td>\n",
       "      <td>Dozens of German priests will defy the Vatican...</td>\n",
       "      <td>Evidence of nine Neanderthals found in Italian...</td>\n",
       "      <td>Gay Croatian couple’s five-year legal battle e...</td>\n",
       "      <td>Senior Swiss diplomat in Iran found dead after...</td>\n",
       "      <td>Scottish nationalists vow new independence vot...</td>\n",
       "      <td>Pope Francis backs vaccine patents waiver to e...</td>\n",
       "      <td>Kabul attack: Blast near school leaves at leas...</td>\n",
       "      <td>Covid-sparked fungal infection assuming epidem...</td>\n",
       "      <td>Melting Glaciers Have Exposed Frozen Relics of...</td>\n",
       "      <td>...</td>\n",
       "      <td>French court to decide landmark case against t...</td>\n",
       "      <td>EU condemns Israeli settlement plans amid East...</td>\n",
       "      <td>Intel: UN finds undeclared chemical weapons st...</td>\n",
       "      <td>World's longest pedestrian suspension bridge o...</td>\n",
       "      <td>Spaghettified star observed near black hole.</td>\n",
       "      <td>US confiscates massive arms shipment off coast...</td>\n",
       "      <td>Mayor of London election latest: Labour's Sadi...</td>\n",
       "      <td>Pictures from outer space reveal the extent of...</td>\n",
       "      <td>Election results: Sadiq Khan re-elected for se...</td>\n",
       "      <td>Pro-independence parties pick up majority in S...</td>\n",
       "    </tr>\n",
       "    <tr>\n",
       "      <th>128</th>\n",
       "      <td>2021-05-10</td>\n",
       "      <td>Indigenous leaders launch $2.1 billion class-a...</td>\n",
       "      <td>Russian Doc Who Lied About Navalny Poisoning ‘...</td>\n",
       "      <td>Angry protests have broken out in Kyrgyzstan a...</td>\n",
       "      <td>More than 50 people, many of them female stude...</td>\n",
       "      <td>Queen’s cousin Prince Michael of Kent accused ...</td>\n",
       "      <td>Arab world condemns Israel Police for violent ...</td>\n",
       "      <td>NASA criticizes China after rocket debris land...</td>\n",
       "      <td>Thousands to march in France demanding real ac...</td>\n",
       "      <td>Myanmar poet dies after detention, body return...</td>\n",
       "      <td>...</td>\n",
       "      <td>‘Go back to your teepees’: First Nations peopl...</td>\n",
       "      <td>Alleged Isis recruiter Mohamed Zuhbi arrested ...</td>\n",
       "      <td>Maldives Floating City Planned to Combat Sea L...</td>\n",
       "      <td>Israeli Prime Minister Benjamin Netanyahu dism...</td>\n",
       "      <td>Europe appeals to the US to 'open the market' ...</td>\n",
       "      <td>Death toll rises to 68 in Afghan school blast,...</td>\n",
       "      <td>Gaza incendiary balloons spark dozens of fires...</td>\n",
       "      <td>Brazil President Jair Bolsonaro rode at the he...</td>\n",
       "      <td>Prince Michael of Kent accused of selling acce...</td>\n",
       "      <td>Scottish election 2021: Nicola Sturgeon celebr...</td>\n",
       "    </tr>\n",
       "    <tr>\n",
       "      <th>129</th>\n",
       "      <td>2021-05-11</td>\n",
       "      <td>Zero Covid deaths recorded yesterday for Engla...</td>\n",
       "      <td>Israeli airstrikes on Gaza kill 20 people, inc...</td>\n",
       "      <td>Stop evictions in East Jerusalem neighbourhood...</td>\n",
       "      <td>Instagram, Twitter deleting posts about Palest...</td>\n",
       "      <td>Boris Johnson investigated over Caribbean holi...</td>\n",
       "      <td>Rocket sirens sound in Jerusalem, Israel amid ...</td>\n",
       "      <td>WHO classifies triple-mutant Covid variant fro...</td>\n",
       "      <td>Dozens of bodies believed to be Covid-19 victi...</td>\n",
       "      <td>Missing Siberian doctor who treated Kremlin cr...</td>\n",
       "      <td>...</td>\n",
       "      <td>Ivory Coast police rescue 68 children working ...</td>\n",
       "      <td>Israel strikes Gaza, Hamas fires rockets after...</td>\n",
       "      <td>The government of French President Emmanuel Ma...</td>\n",
       "      <td>Denmark draws China ire for inviting Taiwan le...</td>\n",
       "      <td>Covid: Dracula's castle in Romania offers tour...</td>\n",
       "      <td>Bring back your empty oxygen tanks to help con...</td>\n",
       "      <td>Central American leaders resisting Biden’s ant...</td>\n",
       "      <td>Nepal Wants Everest Climbers To Bring Their Ox...</td>\n",
       "      <td>Taiwan fights to attend WHO meeting, but China...</td>\n",
       "      <td>‘At least’ 78 priests ‘massacred’ in one zone ...</td>\n",
       "    </tr>\n",
       "    <tr>\n",
       "      <th>130</th>\n",
       "      <td>2021-05-12</td>\n",
       "      <td>Indian government says 5G doesn’t cause COVID-...</td>\n",
       "      <td>Largest 13 story residential building in Gaza ...</td>\n",
       "      <td>China demands cancellation of UN meeting on Uy...</td>\n",
       "      <td>Taiwan says China is 'maliciously' blocking it...</td>\n",
       "      <td>US officials believe Russia may be behind the ...</td>\n",
       "      <td>UK to ban LGBT conversion therapy and provide ...</td>\n",
       "      <td>Up to 9 Killed in Russia School Shooting</td>\n",
       "      <td>1 dead, 3 severely injured, as 'largest ever' ...</td>\n",
       "      <td>Hundreds of South Africans rallied on Tuesday ...</td>\n",
       "      <td>...</td>\n",
       "      <td>Brazil Amazon: Illegal miners fire on indigeno...</td>\n",
       "      <td>'Living Fossil' Thought Extinct For 273 Millio...</td>\n",
       "      <td>US Coast Guard ship fired around 30 warning sh...</td>\n",
       "      <td>French court rejects claim for 'Agent Orange' ...</td>\n",
       "      <td>Japan, US, France hold first joint drills on J...</td>\n",
       "      <td>42 killed in Colombia protests, human rights a...</td>\n",
       "      <td>100 Days Since Myanmar’s Coup: Looming Economi...</td>\n",
       "      <td>After two decades of talks at the World Trade ...</td>\n",
       "      <td>An area of forest the size of France has regro...</td>\n",
       "      <td>Iran has enriched uranium to up to 63% purity,...</td>\n",
       "    </tr>\n",
       "    <tr>\n",
       "      <th>131</th>\n",
       "      <td>2021-05-13</td>\n",
       "      <td>'Champions League of tax avoidance:' Uber used...</td>\n",
       "      <td>Animals to be formally recognised as sentient ...</td>\n",
       "      <td>'We're watching a lynching': Jewish crowd in I...</td>\n",
       "      <td>Israeli flags burned outside 2 German synagogu...</td>\n",
       "      <td>Putin’s Wagner Group mercenaries ‘killed kids,...</td>\n",
       "      <td>Shark Advocates Cheer UK’s Banning Of Shark Fi...</td>\n",
       "      <td>Ethereum creator Vitalik Buterin donates $1 bi...</td>\n",
       "      <td>Dead whale found with 16kg of plastic bags, wr...</td>\n",
       "      <td>Israel rejects Hamas truce offer; ministers vo...</td>\n",
       "      <td>...</td>\n",
       "      <td>World Health Organisation should have declared...</td>\n",
       "      <td>Boris Johnson urges Israel and Palestinians to...</td>\n",
       "      <td>Thirty more Palestinian civilians are killed a...</td>\n",
       "      <td>Gaza rocket kills 6-year-old boy in Israel's S...</td>\n",
       "      <td>Covid pandemic was preventable, says WHO-commi...</td>\n",
       "      <td>Cameroon jails transgender women for 'attempte...</td>\n",
       "      <td>Israel names four Hamas commanders killed in G...</td>\n",
       "      <td>Chief rabbi pans Jewish violence: 'We must be ...</td>\n",
       "      <td>B.C. to refuse driver’s licence renewals to pe...</td>\n",
       "      <td>Former Myanmar Beauty Queen Takes up Arms Agai...</td>\n",
       "    </tr>\n",
       "  </tbody>\n",
       "</table>\n",
       "<p>132 rows × 31 columns</p>\n",
       "</div>"
      ],
      "text/plain": [
       "           date                                               top1  \\\n",
       "0    2021-01-01  Women should decide whether to legalize aborti...   \n",
       "1    2021-01-02  Crowds throng Wuhan, where coronavirus pandemi...   \n",
       "2    2021-01-03  Amid Warnings of Surging Worldwide Poverty, Pl...   \n",
       "3    2021-01-04  Chinese tech billionaire Jack Ma was removed f...   \n",
       "4    2021-01-05  Julian Assange cannot be extradited to US, Bri...   \n",
       "..          ...                                                ...   \n",
       "127  2021-05-09  Dozens of German priests will defy the Vatican...   \n",
       "128  2021-05-10  Indigenous leaders launch $2.1 billion class-a...   \n",
       "129  2021-05-11  Zero Covid deaths recorded yesterday for Engla...   \n",
       "130  2021-05-12  Indian government says 5G doesn’t cause COVID-...   \n",
       "131  2021-05-13  'Champions League of tax avoidance:' Uber used...   \n",
       "\n",
       "                                                  top2  \\\n",
       "0    NATO is furious at Trump delaying the military...   \n",
       "1    Apple knew a supplier was using child labor bu...   \n",
       "2    Covid wards 'full of children' for first time ...   \n",
       "3    Organic meats found to have approximately the ...   \n",
       "4    Scotland announces full lockdown, closing scho...   \n",
       "..                                                 ...   \n",
       "127  Evidence of nine Neanderthals found in Italian...   \n",
       "128  Russian Doc Who Lied About Navalny Poisoning ‘...   \n",
       "129  Israeli airstrikes on Gaza kill 20 people, inc...   \n",
       "130  Largest 13 story residential building in Gaza ...   \n",
       "131  Animals to be formally recognised as sentient ...   \n",
       "\n",
       "                                                  top3  \\\n",
       "0    Antibiotics banned in UK but fed to US animals...   \n",
       "1    China is guarding ancient bat caves against jo...   \n",
       "2                   Kazakhstan abolishes death penalty   \n",
       "3    German police raid church service with over 10...   \n",
       "4    South Korea recorded more deaths than births i...   \n",
       "..                                                 ...   \n",
       "127  Gay Croatian couple’s five-year legal battle e...   \n",
       "128  Angry protests have broken out in Kyrgyzstan a...   \n",
       "129  Stop evictions in East Jerusalem neighbourhood...   \n",
       "130  China demands cancellation of UN meeting on Uy...   \n",
       "131  'We're watching a lynching': Jewish crowd in I...   \n",
       "\n",
       "                                                  top4  \\\n",
       "0    Iran accuses Trump of 'plot to fabricate prete...   \n",
       "1    Brexit a product of ‘lies and false promises’,...   \n",
       "2    Growing list of Canadian politicians caught tr...   \n",
       "3    Palestinians excluded from Israeli Covid vacci...   \n",
       "4    Scottish National Party MP Margaret Ferrier ha...   \n",
       "..                                                 ...   \n",
       "127  Senior Swiss diplomat in Iran found dead after...   \n",
       "128  More than 50 people, many of them female stude...   \n",
       "129  Instagram, Twitter deleting posts about Palest...   \n",
       "130  Taiwan says China is 'maliciously' blocking it...   \n",
       "131  Israeli flags burned outside 2 German synagogu...   \n",
       "\n",
       "                                                  top5  \\\n",
       "0    Extinct woolly rhinoceros found frozen in Sibe...   \n",
       "1    Indian Govt proposes to buy bulk subscriptions...   \n",
       "2    Two trans women win election in historic momen...   \n",
       "3    Teachers in England ‘scared’ and ‘frustrated’ ...   \n",
       "4    England Enters National Lockdown in wake New C...   \n",
       "..                                                 ...   \n",
       "127  Scottish nationalists vow new independence vot...   \n",
       "128  Queen’s cousin Prince Michael of Kent accused ...   \n",
       "129  Boris Johnson investigated over Caribbean holi...   \n",
       "130  US officials believe Russia may be behind the ...   \n",
       "131  Putin’s Wagner Group mercenaries ‘killed kids,...   \n",
       "\n",
       "                                                  top6  \\\n",
       "0    New COVID-19 strain spreading faster than all ...   \n",
       "1    We will be back soon, Scotland's first ministe...   \n",
       "2    Quantum Teleportation Was Just Achieved With 9...   \n",
       "3    Protestors gather outside Dublin police statio...   \n",
       "4    British expats 'barred from boarding flight to...   \n",
       "..                                                 ...   \n",
       "127  Pope Francis backs vaccine patents waiver to e...   \n",
       "128  Arab world condemns Israel Police for violent ...   \n",
       "129  Rocket sirens sound in Jerusalem, Israel amid ...   \n",
       "130  UK to ban LGBT conversion therapy and provide ...   \n",
       "131  Shark Advocates Cheer UK’s Banning Of Shark Fi...   \n",
       "\n",
       "                                                  top7  \\\n",
       "0    Canadian politician faked Twitter posts to con...   \n",
       "1    Prime Minister Imran Khan announced his two ne...   \n",
       "2    Beijing rejects Taiwanese president’s offer to...   \n",
       "3    London hospitals to halt cancer surgeries due ...   \n",
       "4    Canada's top-paid CEOs raked in average worker...   \n",
       "..                                                 ...   \n",
       "127  Kabul attack: Blast near school leaves at leas...   \n",
       "128  NASA criticizes China after rocket debris land...   \n",
       "129  WHO classifies triple-mutant Covid variant fro...   \n",
       "130           Up to 9 Killed in Russia School Shooting   \n",
       "131  Ethereum creator Vitalik Buterin donates $1 bi...   \n",
       "\n",
       "                                                  top8  \\\n",
       "0    Iran says Trump's life 'will end,' won't stop ...   \n",
       "1    Two dormant volcanoes on Martinique and St. Vi...   \n",
       "2    Turkish Scientists say they've made a 10-secon...   \n",
       "3    Pope condemns travelling abroad to escape coro...   \n",
       "4                Iran resumes enriching uranium to 20%   \n",
       "..                                                 ...   \n",
       "127  Covid-sparked fungal infection assuming epidem...   \n",
       "128  Thousands to march in France demanding real ac...   \n",
       "129  Dozens of bodies believed to be Covid-19 victi...   \n",
       "130  1 dead, 3 severely injured, as 'largest ever' ...   \n",
       "131  Dead whale found with 16kg of plastic bags, wr...   \n",
       "\n",
       "                                                  top9  ...  \\\n",
       "0    China allegedly paid non-state actors to kill ...  ...   \n",
       "1    Some 2,500 partygoers attended an illegal New ...  ...   \n",
       "2    'Always afraid': Iran's largest religious mino...  ...   \n",
       "3    Richest 1% have almost a quarter of UK wealth,...  ...   \n",
       "4    North Korea requests Covid vaccine after month...  ...   \n",
       "..                                                 ...  ...   \n",
       "127  Melting Glaciers Have Exposed Frozen Relics of...  ...   \n",
       "128  Myanmar poet dies after detention, body return...  ...   \n",
       "129  Missing Siberian doctor who treated Kremlin cr...  ...   \n",
       "130  Hundreds of South Africans rallied on Tuesday ...  ...   \n",
       "131  Israel rejects Hamas truce offer; ministers vo...  ...   \n",
       "\n",
       "                                                 top21  \\\n",
       "0    Vatican denies knowledge of $1.8 billion trans...   \n",
       "1    Puerto Rico commits $8 million to clean-up deb...   \n",
       "2    Germany’s drive for EU-China deal draws critic...   \n",
       "3    NZ crayfish in hot demand in China, selling fo...   \n",
       "4    Colchester Hospital: Covid deniers removed fro...   \n",
       "..                                                 ...   \n",
       "127  French court to decide landmark case against t...   \n",
       "128  ‘Go back to your teepees’: First Nations peopl...   \n",
       "129  Ivory Coast police rescue 68 children working ...   \n",
       "130  Brazil Amazon: Illegal miners fire on indigeno...   \n",
       "131  World Health Organisation should have declared...   \n",
       "\n",
       "                                                 top22  \\\n",
       "0    U.S. demands release of Uighur doctor who fami...   \n",
       "1    As 2021 dawns, Israel becomes first country to...   \n",
       "2    Serbia opens pipeline for Russian gas, ignorin...   \n",
       "3    Israeli soldier shoots and paralyzes Palestini...   \n",
       "4    Julian Assange cannot be extradited to US, Bri...   \n",
       "..                                                 ...   \n",
       "127  EU condemns Israeli settlement plans amid East...   \n",
       "128  Alleged Isis recruiter Mohamed Zuhbi arrested ...   \n",
       "129  Israel strikes Gaza, Hamas fires rockets after...   \n",
       "130  'Living Fossil' Thought Extinct For 273 Millio...   \n",
       "131  Boris Johnson urges Israel and Palestinians to...   \n",
       "\n",
       "                                                 top23  \\\n",
       "0    Countries that have managed to reduce transmis...   \n",
       "1    Fresh fears for Tokyo Olympics as host city se...   \n",
       "2    ‘We don't need a world where China becomes ano...   \n",
       "3    Moscow metro hires first female train drivers ...   \n",
       "4    Iran says it has seized South Korean tanker as...   \n",
       "..                                                 ...   \n",
       "127  Intel: UN finds undeclared chemical weapons st...   \n",
       "128  Maldives Floating City Planned to Combat Sea L...   \n",
       "129  The government of French President Emmanuel Ma...   \n",
       "130  US Coast Guard ship fired around 30 warning sh...   \n",
       "131  Thirty more Palestinian civilians are killed a...   \n",
       "\n",
       "                                                 top24  \\\n",
       "0    SolarWinds hackers accessed Microsoft source code   \n",
       "1    Iran intends to start enriching uranium to 20%...   \n",
       "2    Palestinian Young Man Paralyzed after Israeli ...   \n",
       "3    China reports 24 new COVID-19 cases vs. 22 a d...   \n",
       "4    Where is Jack Ma? Questions arise about the bi...   \n",
       "..                                                 ...   \n",
       "127  World's longest pedestrian suspension bridge o...   \n",
       "128  Israeli Prime Minister Benjamin Netanyahu dism...   \n",
       "129  Denmark draws China ire for inviting Taiwan le...   \n",
       "130  French court rejects claim for 'Agent Orange' ...   \n",
       "131  Gaza rocket kills 6-year-old boy in Israel's S...   \n",
       "\n",
       "                                                 top25  \\\n",
       "0    Hospital worker deliberately destroys 570 dose...   \n",
       "1    Pakistan regional gov’t to fund construction o...   \n",
       "2    Bezos, Musk Smash Records as World’s Richest A...   \n",
       "3    Israel dismisses 'nonsense' Iran charge it see...   \n",
       "4    An unusually strong warm wave heads for the Ar...   \n",
       "..                                                 ...   \n",
       "127       Spaghettified star observed near black hole.   \n",
       "128  Europe appeals to the US to 'open the market' ...   \n",
       "129  Covid: Dracula's castle in Romania offers tour...   \n",
       "130  Japan, US, France hold first joint drills on J...   \n",
       "131  Covid pandemic was preventable, says WHO-commi...   \n",
       "\n",
       "                                                 top26  \\\n",
       "0    China Is Making It Harder To Solve The Mystery...   \n",
       "1    'Exceptionally draining': US medics shattered ...   \n",
       "2    Tesco and Pizza Hut 'shamed' for not paying th...   \n",
       "3    Rendering of Korea's first aircraft carrier re...   \n",
       "4    Bali's beaches buried in tide of plastic rubbi...   \n",
       "..                                                 ...   \n",
       "127  US confiscates massive arms shipment off coast...   \n",
       "128  Death toll rises to 68 in Afghan school blast,...   \n",
       "129  Bring back your empty oxygen tanks to help con...   \n",
       "130  42 killed in Colombia protests, human rights a...   \n",
       "131  Cameroon jails transgender women for 'attempte...   \n",
       "\n",
       "                                                 top27  \\\n",
       "0    Iran's Zarif says U.S. plotting to fabricate w...   \n",
       "1    U.S. foreign military sales broke records in 2...   \n",
       "2    Bolsonaro Criticizes The Decision in Argentina...   \n",
       "3    ASIO red-flags Chinese businessman and Liberal...   \n",
       "4    Covid: Boris Johnson puts England into six-wee...   \n",
       "..                                                 ...   \n",
       "127  Mayor of London election latest: Labour's Sadi...   \n",
       "128  Gaza incendiary balloons spark dozens of fires...   \n",
       "129  Central American leaders resisting Biden’s ant...   \n",
       "130  100 Days Since Myanmar’s Coup: Looming Economi...   \n",
       "131  Israel names four Hamas commanders killed in G...   \n",
       "\n",
       "                                                 top28  \\\n",
       "0    Australia changes national anthem to reflect i...   \n",
       "1    Cuban school teachers, journalists, lion tamer...   \n",
       "2    Chinese agriculture experts help boost crop yi...   \n",
       "3    Covid police raid Canadian home, violently arr...   \n",
       "4    As Jack Ma goes missing, video predicting he w...   \n",
       "..                                                 ...   \n",
       "127  Pictures from outer space reveal the extent of...   \n",
       "128  Brazil President Jair Bolsonaro rode at the he...   \n",
       "129  Nepal Wants Everest Climbers To Bring Their Ox...   \n",
       "130  After two decades of talks at the World Trade ...   \n",
       "131  Chief rabbi pans Jewish violence: 'We must be ...   \n",
       "\n",
       "                                                 top29  \\\n",
       "0    Caribbean volcanoes rumble to life as scientis...   \n",
       "1    BBC News - Australia-China row: 'I'm Australia...   \n",
       "2    US imposes new sanctions to kill off Putin’s p...   \n",
       "3    Lab leak is the 'most credible' source of the ...   \n",
       "4    The world’s largest solar plant has secured fi...   \n",
       "..                                                 ...   \n",
       "127  Election results: Sadiq Khan re-elected for se...   \n",
       "128  Prince Michael of Kent accused of selling acce...   \n",
       "129  Taiwan fights to attend WHO meeting, but China...   \n",
       "130  An area of forest the size of France has regro...   \n",
       "131  B.C. to refuse driver’s licence renewals to pe...   \n",
       "\n",
       "                                                 top30  \n",
       "0    China marks the New Year with a victory speech...  \n",
       "1    Australia-China row: \"I'm Australian - why do ...  \n",
       "2    At least 70 killed in suspected Islamist attac...  \n",
       "3    [Japan] Male-only rule should be prioritized i...  \n",
       "4    Pentagon: Carrier USS Nimitz Will Stay in Midd...  \n",
       "..                                                 ...  \n",
       "127  Pro-independence parties pick up majority in S...  \n",
       "128  Scottish election 2021: Nicola Sturgeon celebr...  \n",
       "129  ‘At least’ 78 priests ‘massacred’ in one zone ...  \n",
       "130  Iran has enriched uranium to up to 63% purity,...  \n",
       "131  Former Myanmar Beauty Queen Takes up Arms Agai...  \n",
       "\n",
       "[132 rows x 31 columns]"
      ]
     },
     "execution_count": 341,
     "metadata": {},
     "output_type": "execute_result"
    }
   ],
   "source": [
    "sql = (\"Select * from main ORDER BY DATE\")\n",
    "main = pd.read_sql_query(sql,connection)"
   ]
  },
  {
   "cell_type": "markdown",
   "metadata": {
    "ExecuteTime": {
     "end_time": "2021-05-13T11:08:01.750213Z",
     "start_time": "2021-05-13T11:08:01.259468Z"
    }
   },
   "source": [
    "sql = (\"Select * from reddit_old\")\n",
    "z = pd.read_sql_query(sql,connection)\n",
    "\n",
    "for d in z.date.unique():\n",
    "    atbilde =[]\n",
    "    atbilde.append(d)\n",
    "    counter = 0\n",
    "\n",
    "    for title in z.headline[z.date == d]:\n",
    "        \n",
    "        \n",
    "        if counter <30:\n",
    "            \n",
    "            atbilde.append(title)\n",
    "            \n",
    "            counter += 1\n",
    "    columnnames = \"'date', 'top1', 'top2', 'top3', 'top4', 'top5', 'top6', 'top7', 'top8', 'top9', 'top10', 'top11', 'top12', 'top13', 'top14', 'top15', 'top16', 'top17', 'top18', 'top19', 'top20', 'top21', 'top22', 'top23', 'top24', 'top25', 'top26', 'top27', 'top28', 'top29', top30\"\n",
    "    insertintotable = '?,?,?,?,?,?,?,?,?,?,?,?,?,?,?,?,?,?,?,?,?,?,?,?,?,?,?,?,?,?,?'\n",
    "    connection = sqlite3.connect('MSC.db')\n",
    "    cursor = connection.cursor()\n",
    "    sql2 = f'cursor.execute(\"insert INTO  main ({columnnames}) VALUES ({insertintotable})\", {atbilde})'\n",
    "    eval(sql2)\n",
    "    connection.commit()\n",
    "    connection.close()\n",
    "\n",
    "    #df.loc[len(df)] = atbilde"
   ]
  },
  {
   "cell_type": "markdown",
   "metadata": {
    "ExecuteTime": {
     "end_time": "2021-05-13T11:22:50.178900Z",
     "start_time": "2021-05-13T11:22:50.171394Z"
    }
   },
   "source": [
    "## RESORT MAIN"
   ]
  },
  {
   "cell_type": "code",
   "execution_count": 346,
   "metadata": {
    "ExecuteTime": {
     "end_time": "2021-05-13T11:24:02.969504Z",
     "start_time": "2021-05-13T11:24:02.928958Z"
    }
   },
   "outputs": [],
   "source": [
    "import sqlite3\n",
    "\n",
    "connection = sqlite3.connect('MSC.db')\n",
    "cursor = connection.cursor()\n",
    "main.to_sql('main', connection, index = False)\n",
    "connection.commit()\n",
    "connection.close()"
   ]
  },
  {
   "cell_type": "code",
   "execution_count": 343,
   "metadata": {
    "ExecuteTime": {
     "end_time": "2021-05-13T11:23:42.200162Z",
     "start_time": "2021-05-13T11:23:42.141469Z"
    }
   },
   "outputs": [],
   "source": [
    "connection = sqlite3.connect('MSC.db')\n",
    "cursor = connection.cursor()\n",
    "cursor.executescript(\"drop table main\")\n",
    "connection.commit()\n",
    "connection.close()"
   ]
  },
  {
   "cell_type": "code",
   "execution_count": 347,
   "metadata": {
    "ExecuteTime": {
     "end_time": "2021-05-13T11:24:28.425277Z",
     "start_time": "2021-05-13T11:24:28.417522Z"
    }
   },
   "outputs": [
    {
     "data": {
      "text/plain": [
       "(132, 31)"
      ]
     },
     "execution_count": 347,
     "metadata": {},
     "output_type": "execute_result"
    }
   ],
   "source": [
    "main.shape"
   ]
  },
  {
   "cell_type": "code",
   "execution_count": 349,
   "metadata": {
    "ExecuteTime": {
     "end_time": "2021-05-13T11:25:04.225924Z",
     "start_time": "2021-05-13T11:25:04.199583Z"
    }
   },
   "outputs": [],
   "source": [
    "connection = sqlite3.connect('MSC.db')\n",
    "cursor = connection.cursor()\n",
    "sql = (\"Select * from main\")\n",
    "z = pd.read_sql_query(sql,connection)"
   ]
  }
 ],
 "metadata": {
  "kernelspec": {
   "display_name": "Python 3",
   "language": "python",
   "name": "python3"
  },
  "language_info": {
   "codemirror_mode": {
    "name": "ipython",
    "version": 3
   },
   "file_extension": ".py",
   "mimetype": "text/x-python",
   "name": "python",
   "nbconvert_exporter": "python",
   "pygments_lexer": "ipython3",
   "version": "3.7.4"
  },
  "toc": {
   "base_numbering": 1,
   "nav_menu": {},
   "number_sections": true,
   "sideBar": true,
   "skip_h1_title": false,
   "title_cell": "Table of Contents",
   "title_sidebar": "Contents",
   "toc_cell": false,
   "toc_position": {},
   "toc_section_display": true,
   "toc_window_display": false
  }
 },
 "nbformat": 4,
 "nbformat_minor": 2
}
