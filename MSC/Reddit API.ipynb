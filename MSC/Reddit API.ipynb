{
 "cells": [
  {
   "cell_type": "code",
   "execution_count": 1,
   "metadata": {
    "ExecuteTime": {
     "end_time": "2021-03-28T12:56:35.831501Z",
     "start_time": "2021-03-28T12:56:16.848679Z"
    }
   },
   "outputs": [],
   "source": [
    "import requests\n",
    "from datetime import datetime\n",
    "import datetime\n",
    "import pandas as pd\n",
    "import sqlite3\n",
    "import praw"
   ]
  },
  {
   "cell_type": "code",
   "execution_count": 2,
   "metadata": {
    "ExecuteTime": {
     "end_time": "2021-03-28T12:56:35.918684Z",
     "start_time": "2021-03-28T12:56:35.835851Z"
    }
   },
   "outputs": [],
   "source": [
    "from credentials import credentials"
   ]
  },
  {
   "cell_type": "code",
   "execution_count": 3,
   "metadata": {
    "ExecuteTime": {
     "end_time": "2021-03-28T12:56:35.945640Z",
     "start_time": "2021-03-28T12:56:35.931425Z"
    }
   },
   "outputs": [],
   "source": [
    "client_id, client_secret,password, user_agent, username = credentials"
   ]
  },
  {
   "cell_type": "code",
   "execution_count": 4,
   "metadata": {
    "ExecuteTime": {
     "end_time": "2021-03-28T12:56:47.049208Z",
     "start_time": "2021-03-28T12:56:35.951179Z"
    }
   },
   "outputs": [],
   "source": [
    "reddit = praw.Reddit(\n",
    "    client_id=client_id,\n",
    "    client_secret=client_secret,\n",
    "    password=password,\n",
    "    user_agent=user_agent,\n",
    "    username=username,\n",
    ")"
   ]
  },
  {
   "cell_type": "code",
   "execution_count": 5,
   "metadata": {
    "ExecuteTime": {
     "end_time": "2021-03-28T12:57:13.918316Z",
     "start_time": "2021-03-28T12:56:47.052607Z"
    }
   },
   "outputs": [
    {
     "name": "stdout",
     "output_type": "stream",
     "text": [
      "JustAnotherCogg\n"
     ]
    }
   ],
   "source": [
    "print(reddit.user.me())"
   ]
  },
  {
   "cell_type": "code",
   "execution_count": 6,
   "metadata": {
    "ExecuteTime": {
     "end_time": "2021-03-28T12:57:13.926671Z",
     "start_time": "2021-03-28T12:57:13.920957Z"
    }
   },
   "outputs": [
    {
     "name": "stdout",
     "output_type": "stream",
     "text": [
      "False\n"
     ]
    }
   ],
   "source": [
    "print(reddit.read_only)"
   ]
  },
  {
   "cell_type": "code",
   "execution_count": 10,
   "metadata": {
    "ExecuteTime": {
     "end_time": "2021-03-30T07:12:08.337484Z",
     "start_time": "2021-03-30T07:10:26.642294Z"
    }
   },
   "outputs": [],
   "source": [
    "top_posts = reddit.subreddit('worldnews').top(time_filter='day',limit=30)\n",
    "i = 1\n",
    "\n",
    "connection = sqlite3.connect('MSC.db')\n",
    "cursor = connection.cursor()\n",
    "sql = ('Select * from top30')\n",
    "z = pd.read_sql_query(sql,connection)\n",
    "\n",
    "for post in top_posts:\n",
    "    atbilde =[]\n",
    "    atbilde.append(str(datetime.datetime.now()))\n",
    "    atbilde.append(str(i))\n",
    "    for j in z.columns[2:]:\n",
    "        try:\n",
    "            atbilde.append(str(eval(\"post.\"+j)))\n",
    "        except:\n",
    "            atbilde.append(\"\")\n",
    "\n",
    "    for m in vars(post):\n",
    "        if m not in z.columns[2:]:\n",
    "            print(m)\n",
    "    \n",
    "    connection = sqlite3.connect('MSC.db')\n",
    "    cursor = connection.cursor()\n",
    "    sql2 = (\"insert INTO top30('moment', 'daily_rank', 'comment_limit', 'comment_sort', '_reddit', 'approved_at_utc', 'subreddit', 'selftext', 'author_fullname', 'saved', 'mod_reason_title', 'gilded', 'clicked', 'title', 'link_flair_richtext', 'subreddit_name_prefixed', 'hidden', 'pwls', 'link_flair_css_class', 'downs', 'top_awarded_type', 'hide_score', 'name', 'quarantine', 'link_flair_text_color', 'upvote_ratio', 'author_flair_background_color', 'subreddit_type', 'ups', 'total_awards_received', 'media_embed', 'author_flair_template_id', 'is_original_content', 'user_reports', 'secure_media', 'is_reddit_media_domain', 'is_meta', 'category', 'secure_media_embed', 'link_flair_text', 'can_mod_post', 'score', 'approved_by', 'author_premium', 'thumbnail', 'edited', 'author_flair_css_class', 'author_flair_richtext', 'gildings', 'content_categories', 'is_self', 'mod_note', 'created', 'link_flair_type', 'wls', 'removed_by_category', 'banned_by', 'author_flair_type', 'domain', 'allow_live_comments', 'selftext_html', 'likes', 'suggested_sort', 'banned_at_utc', 'url_overridden_by_dest', 'view_count', 'archived', 'no_follow', 'is_crosspostable', 'pinned', 'over_18', 'all_awardings', 'awarders', 'media_only', 'can_gild', 'spoiler', 'locked', 'author_flair_text', 'treatment_tags', 'visited', 'removed_by', 'num_reports', 'distinguished', 'subreddit_id', 'mod_reason_by', 'removal_reason', 'link_flair_background_color', 'id', 'is_robot_indexable', 'report_reasons', 'author', 'discussion_type', 'num_comments', 'send_replies', 'whitelist_status', 'contest_mode', 'mod_reports', 'author_patreon_flair', 'author_flair_text_color', 'permalink', 'parent_whitelist_status', 'stickied', 'url', 'subreddit_subscribers', 'created_utc', 'num_crossposts', 'media', 'is_video', '_fetched', '_comments_by_id', 'author_cakeday', 'flair', 'link_flair_template_id', 'num_duplicates', 'post_hint', 'preview', 'thumbnail_height', 'thumbnail_width','_comments') VALUES (?,?,?,?,?,?,?,?,?,?,?,?,?,?,?,?,?,?,?,?,?,?,?,?,?,?,?,?,?,?,?,?,?,?,?,?,?,?,?,?,?,?,?,?,?,?,?,?,?,?,?,?,?,?,?,?,?,?,?,?,?,?,?,?,?,?,?,?,?,?,?,?,?,?,?,?,?,?,?,?,?,?,?,?,?,?,?,?,?,?,?,?,?,?,?,?,?,?,?,?,?,?,?,?,?,?,?,?,?,?,?,?,?,?,?,?,?,?,?)\")\n",
    "    cursor.execute(sql2, atbilde)          \n",
    "    connection.commit()\n",
    "    connection.close()\n",
    "    \n",
    "    i +=1"
   ]
  },
  {
   "cell_type": "code",
   "execution_count": 11,
   "metadata": {
    "ExecuteTime": {
     "end_time": "2021-03-30T07:12:08.393250Z",
     "start_time": "2021-03-30T07:12:08.341346Z"
    }
   },
   "outputs": [],
   "source": [
    "connection = sqlite3.connect('MSC.db')\n",
    "cursor = connection.cursor()\n",
    "\n",
    "sql = (\"Select * from top30 where moment>date('now')\")\n",
    "z = pd.read_sql_query(sql,connection)"
   ]
  },
  {
   "cell_type": "code",
   "execution_count": 12,
   "metadata": {
    "ExecuteTime": {
     "end_time": "2021-03-30T07:12:08.418924Z",
     "start_time": "2021-03-30T07:12:08.398247Z"
    }
   },
   "outputs": [
    {
     "name": "stdout",
     "output_type": "stream",
     "text": [
      "1 US suspends all trade with Myanmar after weekend o\n",
      "2 London records no Covid-19 deaths for first time i\n",
      "3 Another Doctor At Omsk Hospital Where Navalny Was \n",
      "4 Japan’s Kyoto cherry blossoms peak on earliest dat\n",
      "5 Galapagos Islands airport staff discover 185 baby \n",
      "6 China warns foreign firms not to engage in politic\n",
      "7 'I can't go on': women in Japan suffer isolation a\n",
      "8 Trendy flat-faced dogs are going blind because man\n",
      "9 Duterte draws flak for trying to touch a female ho\n",
      "10 China slaps duties of up to 218% on Australian win\n",
      "11 Leaders of 23 countries back pandemic treaty idea \n",
      "12 Biden's trade chief says US won't be lifting tarif\n",
      "13 North Korea is installing concrete barriers and hi\n",
      "14 Biden does not intend to meet with North Korea's K\n",
      "15 Thousands take to the streets again in Myanmar aft\n",
      "16 Oil prices dip after ship stuck in Suez Canal is p\n",
      "17 Myanmar Soldiers Burn Man Alive in Weekend Orgy of\n",
      "18 Myanmar death toll tops 500 as protesters defy jun\n",
      "19 French pharma firm found guilty over medical scand\n",
      "20 Anti-China Protests Staged Across Kazakhstan; At L\n",
      "21 Myanmar's military junta chief Min Aung Hlaing thr\n",
      "22 China-Russia joint nuclear power plant sees second\n",
      "23 Tulum Police officers who arrested and killed woma\n",
      "24 Nike, Adidas taken off from appstores in China\n",
      "25 German union calls four-day strike at Amazon sites\n",
      "26 Siberian Scientists Block ‘Bombshell’ Pollution Re\n",
      "27 India Gifts 1.2 Million Free Doses Of Covid Vaccin\n",
      "28 African elephant species now Endangered and Critic\n",
      "29 China, With $400 Billion Iran Deal, Could Deepen I\n",
      "30 'Don't shoot,' Ethiopian father begged Eritrean so\n",
      "1 US suspends all trade with Myanmar after weekend o\n",
      "2 Japan’s Kyoto cherry blossoms peak on earliest dat\n",
      "3 London records no Covid-19 deaths for first time i\n",
      "4 Another Doctor At Omsk Hospital Where Navalny Was \n",
      "5 Galapagos Islands airport staff discover 185 baby \n",
      "6 Duterte draws flak for trying to touch a female ho\n",
      "7 China slaps duties of up to 218% on Australian win\n",
      "8 Leaders of 23 countries back pandemic treaty idea \n",
      "9 North Korea is installing concrete barriers and hi\n",
      "10 Biden does not intend to meet with North Korea's K\n",
      "11 Biden's trade chief says US won't be lifting tarif\n",
      "12 Thousands take to the streets again in Myanmar aft\n",
      "13 Myanmar death toll tops 500 as protesters defy jun\n",
      "14 Oil prices dip after ship stuck in Suez Canal is p\n",
      "15 Myanmar Soldiers Burn Man Alive in Weekend Orgy of\n",
      "16 Tulum Police officers who arrested and killed woma\n",
      "17 French pharma firm found guilty over medical scand\n",
      "18 Anti-China Protests Staged Across Kazakhstan; At L\n",
      "19 China-Russia joint nuclear power plant sees second\n",
      "20 Myanmar's military junta chief Min Aung Hlaing thr\n",
      "21 Siberian Scientists Block ‘Bombshell’ Pollution Re\n",
      "22 Nike, Adidas taken off from appstores in China\n",
      "23 African elephant species now Endangered and Critic\n",
      "24 India Gifts 1.2 Million Free Doses Of Covid Vaccin\n",
      "25 Myanmar crackdown death toll passes 500\n",
      "26 China, With $400 Billion Iran Deal, Could Deepen I\n",
      "27 Leaders of 23 countries call for treaty to help wo\n",
      "28 'Don't shoot,' Ethiopian father begged Eritrean so\n",
      "29 Decades in making, Afghan mega dam opens on Iran b\n",
      "30 Beijing unanimously approves Hong Kong election ov\n"
     ]
    }
   ],
   "source": [
    "for l, m in(zip(z.daily_rank ,z.title)):\n",
    "    print(l, m[:50])"
   ]
  },
  {
   "cell_type": "code",
   "execution_count": null,
   "metadata": {
    "ExecuteTime": {
     "end_time": "2021-03-21T16:15:03.096452Z",
     "start_time": "2021-03-21T16:15:03.086174Z"
    }
   },
   "outputs": [],
   "source": [
    "import shutil\n",
    "newPath = shutil.copy('MSC.db', '/Users/Edite/Documents/GitHub/MscAston/MSC')"
   ]
  },
  {
   "cell_type": "code",
   "execution_count": null,
   "metadata": {
    "ExecuteTime": {
     "end_time": "2021-03-21T16:08:50.087209Z",
     "start_time": "2021-03-21T16:08:50.058610Z"
    }
   },
   "outputs": [],
   "source": [
    "# For fuckups\n",
    "\n",
    "connection = sqlite3.connect('MSC.db')\n",
    "cursor = connection.cursor()\n",
    "cursor.executescript(\"delete from top30 where moment == '20/03/2021  20:00:00'\")\n",
    "#z = pd.read_sql_query(sql,connection)"
   ]
  },
  {
   "cell_type": "code",
   "execution_count": null,
   "metadata": {
    "ExecuteTime": {
     "end_time": "2021-03-09T13:29:06.100081Z",
     "start_time": "2021-03-09T13:29:05.982220Z"
    }
   },
   "outputs": [],
   "source": [
    "df.to_sql('top30', connection, if_exists='append',index=False)"
   ]
  },
  {
   "cell_type": "code",
   "execution_count": null,
   "metadata": {
    "ExecuteTime": {
     "end_time": "2021-03-27T11:21:41.333171Z",
     "start_time": "2021-03-27T11:21:41.326269Z"
    }
   },
   "outputs": [],
   "source": [
    "from datetime import datetime\n",
    "print(datetime.utcfromtimestamp(post.created_utc).strftime('%Y-%m-%d %H:%M:%S'))"
   ]
  },
  {
   "cell_type": "code",
   "execution_count": null,
   "metadata": {
    "ExecuteTime": {
     "end_time": "2021-03-27T11:21:43.827454Z",
     "start_time": "2021-03-27T11:21:42.055744Z"
    }
   },
   "outputs": [],
   "source": [
    "print(datetime.datetime.utcnow().strftime(\"%s\"))"
   ]
  },
  {
   "cell_type": "code",
   "execution_count": null,
   "metadata": {
    "ExecuteTime": {
     "end_time": "2021-03-21T14:32:31.214445Z",
     "start_time": "2021-03-21T14:32:31.203324Z"
    }
   },
   "outputs": [],
   "source": [
    "a = '2021-03-19 18:03:35'"
   ]
  },
  {
   "cell_type": "code",
   "execution_count": null,
   "metadata": {
    "ExecuteTime": {
     "end_time": "2021-03-21T14:34:04.478806Z",
     "start_time": "2021-03-21T14:34:04.472906Z"
    }
   },
   "outputs": [],
   "source": [
    "b = '2021-03-20 20:00:00'"
   ]
  },
  {
   "cell_type": "markdown",
   "metadata": {
    "ExecuteTime": {
     "end_time": "2021-03-21T16:10:38.187176Z",
     "start_time": "2021-03-21T16:09:56.613492Z"
    }
   },
   "source": [
    "# For back engineering\n",
    "## Add for loop for 1-9 March\n",
    "\n",
    "top_posts = reddit.subreddit('worldnews').top(time_filter='week',limit=300)\n",
    "i = 1\n",
    "\n",
    "connection = sqlite3.connect('MSC.db')\n",
    "cursor = connection.cursor()\n",
    "sql = ('Select * from top30')\n",
    "z = pd.read_sql_query(sql,connection)\n",
    "atbilde =[]\n",
    "for post in top_posts:\n",
    "    \n",
    "    if str(eval(\"post.created_utc\")) > datetime.datetime.strptime(a, '%Y-%m-%d %H:%M:%S').strftime(\"%s\") and str(eval(\"post.created_utc\")) < datetime.datetime.strptime(b, '%Y-%m-%d %H:%M:%S').strftime(\"%s\") and i <31:\n",
    "        atbilde =[]\n",
    "        atbilde.append('20/03/2021  20:00:00')\n",
    "        atbilde.append(str(i))\n",
    "        for j in z.columns[2:]:\n",
    "            try:\n",
    "                atbilde.append(str(eval(\"post.\"+j)))\n",
    "            except:\n",
    "                atbilde.append(\"\")\n",
    "\n",
    "        for m in vars(post):\n",
    "            if m not in z.columns[2:]:\n",
    "                print(m)\n",
    "\n",
    "        connection = sqlite3.connect('MSC.db')\n",
    "        cursor = connection.cursor()\n",
    "        sql2 = (\"insert INTO top30('moment', 'daily_rank', 'comment_limit', 'comment_sort', '_reddit', 'approved_at_utc', 'subreddit', 'selftext', 'author_fullname', 'saved', 'mod_reason_title', 'gilded', 'clicked', 'title', 'link_flair_richtext', 'subreddit_name_prefixed', 'hidden', 'pwls', 'link_flair_css_class', 'downs', 'top_awarded_type', 'hide_score', 'name', 'quarantine', 'link_flair_text_color', 'upvote_ratio', 'author_flair_background_color', 'subreddit_type', 'ups', 'total_awards_received', 'media_embed', 'author_flair_template_id', 'is_original_content', 'user_reports', 'secure_media', 'is_reddit_media_domain', 'is_meta', 'category', 'secure_media_embed', 'link_flair_text', 'can_mod_post', 'score', 'approved_by', 'author_premium', 'thumbnail', 'edited', 'author_flair_css_class', 'author_flair_richtext', 'gildings', 'content_categories', 'is_self', 'mod_note', 'created', 'link_flair_type', 'wls', 'removed_by_category', 'banned_by', 'author_flair_type', 'domain', 'allow_live_comments', 'selftext_html', 'likes', 'suggested_sort', 'banned_at_utc', 'url_overridden_by_dest', 'view_count', 'archived', 'no_follow', 'is_crosspostable', 'pinned', 'over_18', 'all_awardings', 'awarders', 'media_only', 'can_gild', 'spoiler', 'locked', 'author_flair_text', 'treatment_tags', 'visited', 'removed_by', 'num_reports', 'distinguished', 'subreddit_id', 'mod_reason_by', 'removal_reason', 'link_flair_background_color', 'id', 'is_robot_indexable', 'report_reasons', 'author', 'discussion_type', 'num_comments', 'send_replies', 'whitelist_status', 'contest_mode', 'mod_reports', 'author_patreon_flair', 'author_flair_text_color', 'permalink', 'parent_whitelist_status', 'stickied', 'url', 'subreddit_subscribers', 'created_utc', 'num_crossposts', 'media', 'is_video', '_fetched', '_comments_by_id', 'author_cakeday', 'flair', 'link_flair_template_id', 'num_duplicates', 'post_hint', 'preview', 'thumbnail_height', 'thumbnail_width','_comments') VALUES (?,?,?,?,?,?,?,?,?,?,?,?,?,?,?,?,?,?,?,?,?,?,?,?,?,?,?,?,?,?,?,?,?,?,?,?,?,?,?,?,?,?,?,?,?,?,?,?,?,?,?,?,?,?,?,?,?,?,?,?,?,?,?,?,?,?,?,?,?,?,?,?,?,?,?,?,?,?,?,?,?,?,?,?,?,?,?,?,?,?,?,?,?,?,?,?,?,?,?,?,?,?,?,?,?,?,?,?,?,?,?,?,?,?,?,?,?,?,?)\")\n",
    "        cursor.execute(sql2, atbilde)          \n",
    "        connection.commit()\n",
    "        connection.close()\n",
    "\n",
    "        i +=1"
   ]
  },
  {
   "cell_type": "code",
   "execution_count": null,
   "metadata": {
    "ExecuteTime": {
     "end_time": "2021-03-27T19:01:56.760493Z",
     "start_time": "2021-03-27T19:01:56.675464Z"
    }
   },
   "outputs": [],
   "source": [
    "connection = sqlite3.connect('MSC.db')\n",
    "cursor = connection.cursor()\n",
    "\n",
    "sql = (\"Select* from top30 where moment < '2021-03-19 18:03:35' \")\n",
    "z = pd.read_sql_query(sql,connection)"
   ]
  },
  {
   "cell_type": "code",
   "execution_count": null,
   "metadata": {
    "ExecuteTime": {
     "end_time": "2021-03-27T19:02:23.785940Z",
     "start_time": "2021-03-27T19:02:23.771514Z"
    }
   },
   "outputs": [],
   "source": [
    "z.title.value_counts()"
   ]
  },
  {
   "cell_type": "markdown",
   "metadata": {
    "ExecuteTime": {
     "end_time": "2021-03-27T18:45:54.315842Z",
     "start_time": "2021-03-27T18:45:54.123015Z"
    }
   },
   "source": [
    "https://pynative.com/python-sqlite-update-table/"
   ]
  },
  {
   "cell_type": "code",
   "execution_count": null,
   "metadata": {
    "ExecuteTime": {
     "end_time": "2021-03-27T19:03:09.611175Z",
     "start_time": "2021-03-27T19:03:09.394540Z"
    }
   },
   "outputs": [],
   "source": [
    "z[z.title == \"Thousands rally at Australia's parliament to demand justice for sexual assault victims\"].to_excel('findingtnemo.xlsx')"
   ]
  },
  {
   "cell_type": "code",
   "execution_count": null,
   "metadata": {
    "ExecuteTime": {
     "end_time": "2021-03-27T18:54:53.730682Z",
     "start_time": "2021-03-27T18:54:53.721735Z"
    },
    "hide_input": false
   },
   "outputs": [],
   "source": [
    "import string\n",
    "string.punctuation"
   ]
  },
  {
   "cell_type": "code",
   "execution_count": null,
   "metadata": {
    "ExecuteTime": {
     "end_time": "2021-03-28T16:35:44.458165Z",
     "start_time": "2021-03-28T16:35:44.320686Z"
    }
   },
   "outputs": [],
   "source": [
    "connection = sqlite3.connect('MSC.db')\n",
    "cursor = connection.cursor()\n",
    "\n",
    "sql = (\"Select count(*) over (partition by title) as 'cunt',* from top30 where moment < '2021-03-19 18:03:35'  \")\n",
    "z = pd.read_sql_query(sql,connection)\n",
    "z"
   ]
  },
  {
   "cell_type": "code",
   "execution_count": null,
   "metadata": {
    "ExecuteTime": {
     "end_time": "2021-03-28T16:36:27.647596Z",
     "start_time": "2021-03-28T16:36:27.370193Z"
    }
   },
   "outputs": [],
   "source": [
    "z.cunt.hist(bins = max(z.cunt))"
   ]
  },
  {
   "cell_type": "code",
   "execution_count": null,
   "metadata": {
    "ExecuteTime": {
     "end_time": "2021-03-28T16:36:11.823441Z",
     "start_time": "2021-03-28T16:36:11.755263Z"
    }
   },
   "outputs": [],
   "source": [
    "%matplotlib inline"
   ]
  },
  {
   "cell_type": "code",
   "execution_count": null,
   "metadata": {
    "ExecuteTime": {
     "end_time": "2021-03-28T16:37:01.098015Z",
     "start_time": "2021-03-28T16:37:01.091206Z"
    }
   },
   "outputs": [],
   "source": [
    "s = z[z.cunt == 2]"
   ]
  },
  {
   "cell_type": "code",
   "execution_count": null,
   "metadata": {
    "ExecuteTime": {
     "end_time": "2021-03-28T16:37:29.210371Z",
     "start_time": "2021-03-28T16:37:27.967921Z"
    }
   },
   "outputs": [],
   "source": [
    "s.to_excel('findingnemo.xlsx')"
   ]
  },
  {
   "cell_type": "code",
   "execution_count": null,
   "metadata": {},
   "outputs": [],
   "source": []
  }
 ],
 "metadata": {
  "kernelspec": {
   "display_name": "Python 3",
   "language": "python",
   "name": "python3"
  },
  "language_info": {
   "codemirror_mode": {
    "name": "ipython",
    "version": 3
   },
   "file_extension": ".py",
   "mimetype": "text/x-python",
   "name": "python",
   "nbconvert_exporter": "python",
   "pygments_lexer": "ipython3",
   "version": "3.8.5"
  },
  "toc": {
   "base_numbering": 1,
   "nav_menu": {},
   "number_sections": true,
   "sideBar": true,
   "skip_h1_title": false,
   "title_cell": "Table of Contents",
   "title_sidebar": "Contents",
   "toc_cell": false,
   "toc_position": {},
   "toc_section_display": true,
   "toc_window_display": false
  }
 },
 "nbformat": 4,
 "nbformat_minor": 4
}
