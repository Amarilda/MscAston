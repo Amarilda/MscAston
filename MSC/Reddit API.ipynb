{
 "cells": [
  {
   "cell_type": "code",
   "execution_count": 1,
   "metadata": {
    "ExecuteTime": {
     "end_time": "2021-03-23T09:04:52.799499Z",
     "start_time": "2021-03-23T09:04:30.996852Z"
    }
   },
   "outputs": [],
   "source": [
    "import requests\n",
    "from datetime import datetime\n",
    "import datetime\n",
    "import pandas as pd\n",
    "from textblob import TextBlob\n",
    "import sqlite3\n",
    "import praw"
   ]
  },
  {
   "cell_type": "code",
   "execution_count": 2,
   "metadata": {
    "ExecuteTime": {
     "end_time": "2021-03-23T09:04:52.942245Z",
     "start_time": "2021-03-23T09:04:52.802616Z"
    }
   },
   "outputs": [],
   "source": [
    "from credentials import credentials"
   ]
  },
  {
   "cell_type": "code",
   "execution_count": 3,
   "metadata": {
    "ExecuteTime": {
     "end_time": "2021-03-23T09:04:52.998240Z",
     "start_time": "2021-03-23T09:04:52.946192Z"
    }
   },
   "outputs": [],
   "source": [
    "client_id, client_secret,password, user_agent, username = credentials"
   ]
  },
  {
   "cell_type": "code",
   "execution_count": 4,
   "metadata": {
    "ExecuteTime": {
     "end_time": "2021-03-23T09:04:53.907886Z",
     "start_time": "2021-03-23T09:04:53.003649Z"
    }
   },
   "outputs": [],
   "source": [
    "reddit = praw.Reddit(\n",
    "    client_id=client_id,\n",
    "    client_secret=client_secret,\n",
    "    password=password,\n",
    "    user_agent=user_agent,\n",
    "    username=username,\n",
    ")"
   ]
  },
  {
   "cell_type": "code",
   "execution_count": 5,
   "metadata": {
    "ExecuteTime": {
     "end_time": "2021-03-23T09:04:55.128863Z",
     "start_time": "2021-03-23T09:04:53.910504Z"
    }
   },
   "outputs": [
    {
     "name": "stdout",
     "output_type": "stream",
     "text": [
      "JustAnotherCogg\n"
     ]
    }
   ],
   "source": [
    "print(reddit.user.me())"
   ]
  },
  {
   "cell_type": "code",
   "execution_count": 6,
   "metadata": {
    "ExecuteTime": {
     "end_time": "2021-03-23T09:04:55.144889Z",
     "start_time": "2021-03-23T09:04:55.136535Z"
    }
   },
   "outputs": [
    {
     "name": "stdout",
     "output_type": "stream",
     "text": [
      "False\n"
     ]
    }
   ],
   "source": [
    "print(reddit.read_only)"
   ]
  },
  {
   "cell_type": "code",
   "execution_count": 7,
   "metadata": {
    "ExecuteTime": {
     "end_time": "2021-03-23T09:05:50.171995Z",
     "start_time": "2021-03-23T09:04:58.951531Z"
    }
   },
   "outputs": [],
   "source": [
    "top_posts = reddit.subreddit('worldnews').top(time_filter='day',limit=30)\n",
    "i = 1\n",
    "\n",
    "connection = sqlite3.connect('MSC.db')\n",
    "cursor = connection.cursor()\n",
    "sql = ('Select * from top30')\n",
    "z = pd.read_sql_query(sql,connection)\n",
    "\n",
    "for post in top_posts:\n",
    "    atbilde =[]\n",
    "    atbilde.append(str(datetime.datetime.now()))\n",
    "    atbilde.append(str(i))\n",
    "    for j in z.columns[2:]:\n",
    "        try:\n",
    "            atbilde.append(str(eval(\"post.\"+j)))\n",
    "        except:\n",
    "            atbilde.append(\"\")\n",
    "\n",
    "    for m in vars(post):\n",
    "        if m not in z.columns[2:]:\n",
    "            print(m)\n",
    "    \n",
    "    connection = sqlite3.connect('MSC.db')\n",
    "    cursor = connection.cursor()\n",
    "    sql2 = (\"insert INTO top30('moment', 'daily_rank', 'comment_limit', 'comment_sort', '_reddit', 'approved_at_utc', 'subreddit', 'selftext', 'author_fullname', 'saved', 'mod_reason_title', 'gilded', 'clicked', 'title', 'link_flair_richtext', 'subreddit_name_prefixed', 'hidden', 'pwls', 'link_flair_css_class', 'downs', 'top_awarded_type', 'hide_score', 'name', 'quarantine', 'link_flair_text_color', 'upvote_ratio', 'author_flair_background_color', 'subreddit_type', 'ups', 'total_awards_received', 'media_embed', 'author_flair_template_id', 'is_original_content', 'user_reports', 'secure_media', 'is_reddit_media_domain', 'is_meta', 'category', 'secure_media_embed', 'link_flair_text', 'can_mod_post', 'score', 'approved_by', 'author_premium', 'thumbnail', 'edited', 'author_flair_css_class', 'author_flair_richtext', 'gildings', 'content_categories', 'is_self', 'mod_note', 'created', 'link_flair_type', 'wls', 'removed_by_category', 'banned_by', 'author_flair_type', 'domain', 'allow_live_comments', 'selftext_html', 'likes', 'suggested_sort', 'banned_at_utc', 'url_overridden_by_dest', 'view_count', 'archived', 'no_follow', 'is_crosspostable', 'pinned', 'over_18', 'all_awardings', 'awarders', 'media_only', 'can_gild', 'spoiler', 'locked', 'author_flair_text', 'treatment_tags', 'visited', 'removed_by', 'num_reports', 'distinguished', 'subreddit_id', 'mod_reason_by', 'removal_reason', 'link_flair_background_color', 'id', 'is_robot_indexable', 'report_reasons', 'author', 'discussion_type', 'num_comments', 'send_replies', 'whitelist_status', 'contest_mode', 'mod_reports', 'author_patreon_flair', 'author_flair_text_color', 'permalink', 'parent_whitelist_status', 'stickied', 'url', 'subreddit_subscribers', 'created_utc', 'num_crossposts', 'media', 'is_video', '_fetched', '_comments_by_id', 'author_cakeday', 'flair', 'link_flair_template_id', 'num_duplicates', 'post_hint', 'preview', 'thumbnail_height', 'thumbnail_width','_comments') VALUES (?,?,?,?,?,?,?,?,?,?,?,?,?,?,?,?,?,?,?,?,?,?,?,?,?,?,?,?,?,?,?,?,?,?,?,?,?,?,?,?,?,?,?,?,?,?,?,?,?,?,?,?,?,?,?,?,?,?,?,?,?,?,?,?,?,?,?,?,?,?,?,?,?,?,?,?,?,?,?,?,?,?,?,?,?,?,?,?,?,?,?,?,?,?,?,?,?,?,?,?,?,?,?,?,?,?,?,?,?,?,?,?,?,?,?,?,?,?,?)\")\n",
    "    cursor.execute(sql2, atbilde)          \n",
    "    connection.commit()\n",
    "    connection.close()\n",
    "    \n",
    "    i +=1"
   ]
  },
  {
   "cell_type": "code",
   "execution_count": 10,
   "metadata": {
    "ExecuteTime": {
     "end_time": "2021-03-23T09:06:15.999016Z",
     "start_time": "2021-03-23T09:06:15.967940Z"
    }
   },
   "outputs": [],
   "source": [
    "connection = sqlite3.connect('MSC.db')\n",
    "cursor = connection.cursor()\n",
    "\n",
    "sql = (\"Select * from top30 where moment > '2021-03-22'\")\n",
    "z = pd.read_sql_query(sql,connection)"
   ]
  },
  {
   "cell_type": "code",
   "execution_count": 24,
   "metadata": {
    "ExecuteTime": {
     "end_time": "2021-03-23T09:10:59.024526Z",
     "start_time": "2021-03-23T09:10:59.015737Z"
    }
   },
   "outputs": [
    {
     "data": {
      "text/plain": [
       "Index(['moment', 'daily_rank', 'comment_limit', 'comment_sort', '_reddit',\n",
       "       'approved_at_utc', 'subreddit', 'selftext', 'author_fullname', 'saved',\n",
       "       ...\n",
       "       '_comments_by_id', '_comments', 'author_cakeday', 'flair',\n",
       "       'link_flair_template_id', 'num_duplicates', 'post_hint', 'preview',\n",
       "       'thumbnail_height', 'thumbnail_width'],\n",
       "      dtype='object', length=119)"
      ]
     },
     "execution_count": 24,
     "metadata": {},
     "output_type": "execute_result"
    }
   ],
   "source": [
    "z.columns"
   ]
  },
  {
   "cell_type": "code",
   "execution_count": 26,
   "metadata": {
    "ExecuteTime": {
     "end_time": "2021-03-23T09:11:16.780228Z",
     "start_time": "2021-03-23T09:11:16.767460Z"
    }
   },
   "outputs": [
    {
     "name": "stdout",
     "output_type": "stream",
     "text": [
      "1 Police officers who fled Myanm\n",
      "\n",
      "2 Australia to evacuate thousand\n",
      "\n",
      "3 Saudi oil giant Aramco’s profi\n",
      "\n",
      "4 Thousands march in Montreal to\n",
      "\n",
      "5 First strike of Amazon workers\n",
      "\n",
      "6 Japan mulling order to deploy \n",
      "\n",
      "7 Turkey’s Lira Plunges 17% foll\n",
      "\n",
      "8 U.S. and allies set to announc\n",
      "\n",
      "9 Images show senior government \n",
      "\n",
      "10 Neo-Nazi groups use Instagram \n",
      "\n",
      "11 Computer giant Acer hit by $50\n",
      "\n",
      "12 Covid: AstraZeneca vaccine 79%\n",
      "\n",
      "13 ‘Horrific’: swarms of spiders \n",
      "\n",
      "14 Russian jets hit civilian area\n",
      "\n",
      "15 Bulgaria exposes massive Russi\n",
      "\n",
      "16 Brazil's Jair Bolsonaro under \n",
      "\n",
      "17 China denies incursion as 200 \n",
      "\n",
      "18 China Makes It A Crime To Ques\n",
      "\n",
      "19 Global shortage in computer ch\n",
      "\n",
      "20 Scotland approves first medica\n",
      "\n",
      "21 Myanmar Regime Troops Shoot Ei\n",
      "\n",
      "22 Myanmar forces kill five prote\n",
      "\n",
      "23 UK Police came under attack fr\n",
      "\n",
      "24 Pollution is Shrinking Human P\n",
      "\n",
      "25 Japan considers testing all in\n",
      "\n",
      "26 Europe must act as Lebanon col\n",
      "\n",
      "27 As the Chinese embassy in Lond\n",
      "\n",
      "28 Alexey Navalny: Russian Court \n",
      "\n",
      "29 Made of fungi, mycelium hits m\n",
      "\n",
      "30 Philippine Defense Chief Asks \n",
      "\n",
      "1 Police officers who fled Myanm\n",
      "\n",
      "2 China Makes It A Crime To Ques\n",
      "\n",
      "3 U.S. and allies set to announc\n",
      "\n",
      "4 As the Chinese embassy in Lond\n",
      "\n",
      "5 Intel agency says U.S. should \n",
      "\n",
      "6 First strike of Amazon workers\n",
      "\n",
      "7 Japan mulling order to deploy \n",
      "\n",
      "8 Neo-Nazi groups use Instagram \n",
      "\n",
      "9 Bulgaria exposes massive Russi\n",
      "\n",
      "10 Covid: AstraZeneca vaccine 79%\n",
      "\n",
      "11 North Korea tells China they s\n",
      "\n",
      "12 China denies incursion as 200 \n",
      "\n",
      "13 Made of fungi, mycelium hits m\n",
      "\n",
      "14 Global shortage in computer ch\n",
      "\n",
      "15 Scotland approves first medica\n",
      "\n",
      "16 More than 230 German-speaking \n",
      "\n",
      "17 UFO report details ‘difficult \n",
      "\n",
      "18 Myanmar Regime Troops Shoot Ei\n",
      "\n",
      "19 Palestinians protest Israeli p\n",
      "\n",
      "20 Data shows collapse of UK food\n",
      "\n",
      "21 French branch of Swedish retai\n",
      "\n",
      "22 Europe must act as Lebanon col\n",
      "\n",
      "23 Uighurs: Western countries san\n",
      "\n",
      "24 Unknown neurological disease i\n",
      "\n",
      "25 Man detonates explosives near \n",
      "\n",
      "26 World's first ship tunnel to b\n",
      "\n",
      "27 Australia lists neo-Nazi Sonne\n",
      "\n",
      "28 After U.S. talks turn tense, C\n",
      "\n",
      "29 Alexey Navalny: Russian Court \n",
      "\n",
      "30 Niger: Suspected jihadist atta\n",
      "\n"
     ]
    }
   ],
   "source": [
    "for l, m in(zip(z.daily_rank ,z.title)):\n",
    "    print(l, m[:30])\n",
    "    print()"
   ]
  },
  {
   "cell_type": "code",
   "execution_count": null,
   "metadata": {
    "ExecuteTime": {
     "end_time": "2021-03-21T16:15:03.096452Z",
     "start_time": "2021-03-21T16:15:03.086174Z"
    }
   },
   "outputs": [],
   "source": [
    "import shutil\n",
    "newPath = shutil.copy('MSC.db', '/Users/Edite/Documents/GitHub/MscAston/MSC')"
   ]
  },
  {
   "cell_type": "code",
   "execution_count": null,
   "metadata": {
    "ExecuteTime": {
     "end_time": "2021-03-21T16:08:50.087209Z",
     "start_time": "2021-03-21T16:08:50.058610Z"
    }
   },
   "outputs": [],
   "source": [
    "# For fuckups\n",
    "\n",
    "connection = sqlite3.connect('MSC.db')\n",
    "cursor = connection.cursor()\n",
    "cursor.executescript(\"delete from top30 where moment == '20/03/2021  20:00:00'\")\n",
    "#z = pd.read_sql_query(sql,connection)"
   ]
  },
  {
   "cell_type": "code",
   "execution_count": null,
   "metadata": {
    "ExecuteTime": {
     "end_time": "2021-03-09T13:29:06.100081Z",
     "start_time": "2021-03-09T13:29:05.982220Z"
    }
   },
   "outputs": [],
   "source": [
    "df.to_sql('top30', connection, if_exists='append',index=False)"
   ]
  },
  {
   "cell_type": "code",
   "execution_count": null,
   "metadata": {
    "ExecuteTime": {
     "end_time": "2021-03-21T09:18:19.174503Z",
     "start_time": "2021-03-21T09:18:19.163963Z"
    }
   },
   "outputs": [],
   "source": [
    "from datetime import datetime\n",
    "print(datetime.utcfromtimestamp(post.created_utc).strftime('%Y-%m-%d %H:%M:%S'))"
   ]
  },
  {
   "cell_type": "code",
   "execution_count": null,
   "metadata": {
    "ExecuteTime": {
     "end_time": "2021-03-21T13:52:20.794484Z",
     "start_time": "2021-03-21T13:52:20.787489Z"
    }
   },
   "outputs": [],
   "source": [
    "print(datetime.datetime.utcnow().strftime(\"%s\"))"
   ]
  },
  {
   "cell_type": "code",
   "execution_count": null,
   "metadata": {
    "ExecuteTime": {
     "end_time": "2021-03-21T14:32:31.214445Z",
     "start_time": "2021-03-21T14:32:31.203324Z"
    }
   },
   "outputs": [],
   "source": [
    "a = '2021-03-19 18:03:35'"
   ]
  },
  {
   "cell_type": "code",
   "execution_count": null,
   "metadata": {
    "ExecuteTime": {
     "end_time": "2021-03-21T14:34:04.478806Z",
     "start_time": "2021-03-21T14:34:04.472906Z"
    }
   },
   "outputs": [],
   "source": [
    "b = '2021-03-20 20:00:00'"
   ]
  },
  {
   "cell_type": "markdown",
   "metadata": {
    "ExecuteTime": {
     "end_time": "2021-03-21T16:10:38.187176Z",
     "start_time": "2021-03-21T16:09:56.613492Z"
    }
   },
   "source": [
    "# For back engineering\n",
    "## Add for loop for 1-9 March\n",
    "\n",
    "top_posts = reddit.subreddit('worldnews').top(time_filter='week',limit=300)\n",
    "i = 1\n",
    "\n",
    "connection = sqlite3.connect('MSC.db')\n",
    "cursor = connection.cursor()\n",
    "sql = ('Select * from top30')\n",
    "z = pd.read_sql_query(sql,connection)\n",
    "atbilde =[]\n",
    "for post in top_posts:\n",
    "    \n",
    "    if str(eval(\"post.created_utc\")) > datetime.datetime.strptime(a, '%Y-%m-%d %H:%M:%S').strftime(\"%s\") and str(eval(\"post.created_utc\")) < datetime.datetime.strptime(b, '%Y-%m-%d %H:%M:%S').strftime(\"%s\") and i <31:\n",
    "        atbilde =[]\n",
    "        atbilde.append('20/03/2021  20:00:00')\n",
    "        atbilde.append(str(i))\n",
    "        for j in z.columns[2:]:\n",
    "            try:\n",
    "                atbilde.append(str(eval(\"post.\"+j)))\n",
    "            except:\n",
    "                atbilde.append(\"\")\n",
    "\n",
    "        for m in vars(post):\n",
    "            if m not in z.columns[2:]:\n",
    "                print(m)\n",
    "\n",
    "        connection = sqlite3.connect('MSC.db')\n",
    "        cursor = connection.cursor()\n",
    "        sql2 = (\"insert INTO top30('moment', 'daily_rank', 'comment_limit', 'comment_sort', '_reddit', 'approved_at_utc', 'subreddit', 'selftext', 'author_fullname', 'saved', 'mod_reason_title', 'gilded', 'clicked', 'title', 'link_flair_richtext', 'subreddit_name_prefixed', 'hidden', 'pwls', 'link_flair_css_class', 'downs', 'top_awarded_type', 'hide_score', 'name', 'quarantine', 'link_flair_text_color', 'upvote_ratio', 'author_flair_background_color', 'subreddit_type', 'ups', 'total_awards_received', 'media_embed', 'author_flair_template_id', 'is_original_content', 'user_reports', 'secure_media', 'is_reddit_media_domain', 'is_meta', 'category', 'secure_media_embed', 'link_flair_text', 'can_mod_post', 'score', 'approved_by', 'author_premium', 'thumbnail', 'edited', 'author_flair_css_class', 'author_flair_richtext', 'gildings', 'content_categories', 'is_self', 'mod_note', 'created', 'link_flair_type', 'wls', 'removed_by_category', 'banned_by', 'author_flair_type', 'domain', 'allow_live_comments', 'selftext_html', 'likes', 'suggested_sort', 'banned_at_utc', 'url_overridden_by_dest', 'view_count', 'archived', 'no_follow', 'is_crosspostable', 'pinned', 'over_18', 'all_awardings', 'awarders', 'media_only', 'can_gild', 'spoiler', 'locked', 'author_flair_text', 'treatment_tags', 'visited', 'removed_by', 'num_reports', 'distinguished', 'subreddit_id', 'mod_reason_by', 'removal_reason', 'link_flair_background_color', 'id', 'is_robot_indexable', 'report_reasons', 'author', 'discussion_type', 'num_comments', 'send_replies', 'whitelist_status', 'contest_mode', 'mod_reports', 'author_patreon_flair', 'author_flair_text_color', 'permalink', 'parent_whitelist_status', 'stickied', 'url', 'subreddit_subscribers', 'created_utc', 'num_crossposts', 'media', 'is_video', '_fetched', '_comments_by_id', 'author_cakeday', 'flair', 'link_flair_template_id', 'num_duplicates', 'post_hint', 'preview', 'thumbnail_height', 'thumbnail_width','_comments') VALUES (?,?,?,?,?,?,?,?,?,?,?,?,?,?,?,?,?,?,?,?,?,?,?,?,?,?,?,?,?,?,?,?,?,?,?,?,?,?,?,?,?,?,?,?,?,?,?,?,?,?,?,?,?,?,?,?,?,?,?,?,?,?,?,?,?,?,?,?,?,?,?,?,?,?,?,?,?,?,?,?,?,?,?,?,?,?,?,?,?,?,?,?,?,?,?,?,?,?,?,?,?,?,?,?,?,?,?,?,?,?,?,?,?,?,?,?,?,?,?)\")\n",
    "        cursor.execute(sql2, atbilde)          \n",
    "        connection.commit()\n",
    "        connection.close()\n",
    "\n",
    "        i +=1"
   ]
  },
  {
   "cell_type": "code",
   "execution_count": null,
   "metadata": {},
   "outputs": [],
   "source": []
  }
 ],
 "metadata": {
  "kernelspec": {
   "display_name": "Python 3",
   "language": "python",
   "name": "python3"
  },
  "language_info": {
   "codemirror_mode": {
    "name": "ipython",
    "version": 3
   },
   "file_extension": ".py",
   "mimetype": "text/x-python",
   "name": "python",
   "nbconvert_exporter": "python",
   "pygments_lexer": "ipython3",
   "version": "3.7.4"
  },
  "toc": {
   "base_numbering": 1,
   "nav_menu": {},
   "number_sections": true,
   "sideBar": true,
   "skip_h1_title": false,
   "title_cell": "Table of Contents",
   "title_sidebar": "Contents",
   "toc_cell": false,
   "toc_position": {},
   "toc_section_display": true,
   "toc_window_display": false
  }
 },
 "nbformat": 4,
 "nbformat_minor": 4
}
