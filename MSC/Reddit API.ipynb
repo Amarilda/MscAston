{
 "cells": [
  {
   "cell_type": "code",
   "execution_count": 1,
   "metadata": {
    "ExecuteTime": {
     "end_time": "2021-03-28T12:56:35.831501Z",
     "start_time": "2021-03-28T12:56:16.848679Z"
    }
   },
   "outputs": [],
   "source": [
    "import requests\n",
    "from datetime import datetime\n",
    "import datetime\n",
    "import pandas as pd\n",
    "import sqlite3\n",
    "import praw"
   ]
  },
  {
   "cell_type": "code",
   "execution_count": 2,
   "metadata": {
    "ExecuteTime": {
     "end_time": "2021-03-28T12:56:35.918684Z",
     "start_time": "2021-03-28T12:56:35.835851Z"
    }
   },
   "outputs": [],
   "source": [
    "from credentials import credentials"
   ]
  },
  {
   "cell_type": "code",
   "execution_count": 3,
   "metadata": {
    "ExecuteTime": {
     "end_time": "2021-03-28T12:56:35.945640Z",
     "start_time": "2021-03-28T12:56:35.931425Z"
    }
   },
   "outputs": [],
   "source": [
    "client_id, client_secret,password, user_agent, username = credentials"
   ]
  },
  {
   "cell_type": "code",
   "execution_count": 4,
   "metadata": {
    "ExecuteTime": {
     "end_time": "2021-03-28T12:56:47.049208Z",
     "start_time": "2021-03-28T12:56:35.951179Z"
    }
   },
   "outputs": [],
   "source": [
    "reddit = praw.Reddit(\n",
    "    client_id=client_id,\n",
    "    client_secret=client_secret,\n",
    "    password=password,\n",
    "    user_agent=user_agent,\n",
    "    username=username,\n",
    ")"
   ]
  },
  {
   "cell_type": "code",
   "execution_count": 5,
   "metadata": {
    "ExecuteTime": {
     "end_time": "2021-03-28T12:57:13.918316Z",
     "start_time": "2021-03-28T12:56:47.052607Z"
    }
   },
   "outputs": [
    {
     "name": "stdout",
     "output_type": "stream",
     "text": [
      "JustAnotherCogg\n"
     ]
    }
   ],
   "source": [
    "print(reddit.user.me())"
   ]
  },
  {
   "cell_type": "code",
   "execution_count": 6,
   "metadata": {
    "ExecuteTime": {
     "end_time": "2021-03-28T12:57:13.926671Z",
     "start_time": "2021-03-28T12:57:13.920957Z"
    }
   },
   "outputs": [
    {
     "name": "stdout",
     "output_type": "stream",
     "text": [
      "False\n"
     ]
    }
   ],
   "source": [
    "print(reddit.read_only)"
   ]
  },
  {
   "cell_type": "code",
   "execution_count": 41,
   "metadata": {
    "ExecuteTime": {
     "end_time": "2021-03-31T07:28:02.928277Z",
     "start_time": "2021-03-31T07:27:19.187424Z"
    }
   },
   "outputs": [
    {
     "name": "stdout",
     "output_type": "stream",
     "text": [
      "crosspost_parent_list\n",
      "crosspost_parent\n"
     ]
    }
   ],
   "source": [
    "top_posts = reddit.subreddit('worldnews').top(time_filter='day',limit=30)\n",
    "i = 1\n",
    "\n",
    "connection = sqlite3.connect('MSC.db')\n",
    "cursor = connection.cursor()\n",
    "sql = ('Select * from top30')\n",
    "z = pd.read_sql_query(sql,connection)\n",
    "\n",
    "for post in top_posts:\n",
    "    atbilde =[]\n",
    "    atbilde.append(str(datetime.datetime.now()))\n",
    "    atbilde.append(str(i))\n",
    "    for j in z.columns[2:]:\n",
    "        try:\n",
    "            atbilde.append(str(eval(\"post.\"+j)))\n",
    "        except:\n",
    "            atbilde.append(\"\")\n",
    "\n",
    "    for m in vars(post):\n",
    "        if m not in z.columns[2:]:\n",
    "            print(m)\n",
    "    \n",
    "    connection = sqlite3.connect('MSC.db')\n",
    "    cursor = connection.cursor()\n",
    "    sql2 = (\"insert INTO top30('moment', 'daily_rank', 'comment_limit', 'comment_sort', '_reddit', 'approved_at_utc', 'subreddit', 'selftext', 'author_fullname', 'saved', 'mod_reason_title', 'gilded', 'clicked', 'title', 'link_flair_richtext', 'subreddit_name_prefixed', 'hidden', 'pwls', 'link_flair_css_class', 'downs', 'top_awarded_type', 'hide_score', 'name', 'quarantine', 'link_flair_text_color', 'upvote_ratio', 'author_flair_background_color', 'subreddit_type', 'ups', 'total_awards_received', 'media_embed', 'author_flair_template_id', 'is_original_content', 'user_reports', 'secure_media', 'is_reddit_media_domain', 'is_meta', 'category', 'secure_media_embed', 'link_flair_text', 'can_mod_post', 'score', 'approved_by', 'author_premium', 'thumbnail', 'edited', 'author_flair_css_class', 'author_flair_richtext', 'gildings', 'content_categories', 'is_self', 'mod_note', 'created', 'link_flair_type', 'wls', 'removed_by_category', 'banned_by', 'author_flair_type', 'domain', 'allow_live_comments', 'selftext_html', 'likes', 'suggested_sort', 'banned_at_utc', 'url_overridden_by_dest', 'view_count', 'archived', 'no_follow', 'is_crosspostable', 'pinned', 'over_18', 'all_awardings', 'awarders', 'media_only', 'can_gild', 'spoiler', 'locked', 'author_flair_text', 'treatment_tags', 'visited', 'removed_by', 'num_reports', 'distinguished', 'subreddit_id', 'mod_reason_by', 'removal_reason', 'link_flair_background_color', 'id', 'is_robot_indexable', 'report_reasons', 'author', 'discussion_type', 'num_comments', 'send_replies', 'whitelist_status', 'contest_mode', 'mod_reports', 'author_patreon_flair', 'author_flair_text_color', 'permalink', 'parent_whitelist_status', 'stickied', 'url', 'subreddit_subscribers', 'created_utc', 'num_crossposts', 'media', 'is_video', '_fetched', '_comments_by_id', 'author_cakeday', 'flair', 'link_flair_template_id', 'num_duplicates', 'post_hint', 'preview', 'thumbnail_height', 'thumbnail_width','_comments') VALUES (?,?,?,?,?,?,?,?,?,?,?,?,?,?,?,?,?,?,?,?,?,?,?,?,?,?,?,?,?,?,?,?,?,?,?,?,?,?,?,?,?,?,?,?,?,?,?,?,?,?,?,?,?,?,?,?,?,?,?,?,?,?,?,?,?,?,?,?,?,?,?,?,?,?,?,?,?,?,?,?,?,?,?,?,?,?,?,?,?,?,?,?,?,?,?,?,?,?,?,?,?,?,?,?,?,?,?,?,?,?,?,?,?,?,?,?,?,?,?)\")\n",
    "    cursor.execute(sql2, atbilde)          \n",
    "    connection.commit()\n",
    "    connection.close()\n",
    "    \n",
    "    i +=1"
   ]
  },
  {
   "cell_type": "code",
   "execution_count": 42,
   "metadata": {
    "ExecuteTime": {
     "end_time": "2021-03-31T07:28:02.991146Z",
     "start_time": "2021-03-31T07:28:02.931278Z"
    }
   },
   "outputs": [],
   "source": [
    "connection = sqlite3.connect('MSC.db')\n",
    "cursor = connection.cursor()\n",
    "\n",
    "sql = (\"Select * from top30 where moment>date('now')\")\n",
    "z = pd.read_sql_query(sql,connection)"
   ]
  },
  {
   "cell_type": "code",
   "execution_count": 44,
   "metadata": {
    "ExecuteTime": {
     "end_time": "2021-03-31T07:33:21.779452Z",
     "start_time": "2021-03-31T07:33:21.770998Z"
    }
   },
   "outputs": [
    {
     "name": "stdout",
     "output_type": "stream",
     "text": [
      "1 Alexei Navalny: Jailed Putin critic moved to prison hospital with ‘respiratory illness’\n",
      "2 Putin Signs Law Paving Way to Rule Until 2036\n",
      "3 Benjamin Netanyahu trial: Israel PM made 'illegitimate use' of power\n",
      "4 Satellite images show huge Russian military buildup in the Arctic\n",
      "5 Turkey arrests 10 retired admirals over government criticism, which says the move is ‘reminiscent of coup times’.\n",
      "6 Pfizer halts corona vaccine shipments to Israel after failure to pay\n",
      "7 Myanmar: 6 cops dead as protesters attack police post\n",
      "8 China Orders All Cinemas to Show Propaganda Films Twice a Week\n",
      "9 More than 100 mbar pressure difference between Greenland and northern Europe on Sunday has released a strong Arctic cold outbreak towards continental Europe. Heavy snow will impact central Europe, with damaging frost also expected across the wide region\n",
      "10 Endangered North Atlantic right whales produce most calves since 2015\n",
      "11 Aboriginal group 'traumatised' by alleged partial destruction of ancient Lake Bolac eel-shaped stone arrangement: 176-metre structure at Lake Bolac curves across the landscape and is believed to have been created more than 1,500 years ago.\n",
      "12 China, US send warships into disputed waters as tensions rise over Whitsun Reef\n",
      "13 Humans Are Causing Climate Change: It’s Just Been Proven Directly for the First Time\n",
      "14 Wave of new hobbies during the pandemic mirrors trend during Great Depression\n",
      "15 Hydroxychloroquine and other 'miracle cures' have fueled Brazil's Covid outbreak\n",
      "16 Leaked: EU experts to say nuclear power qualifies for green investment label\n",
      "17 Taiwan reports new incursion by Chinese jets into its air defence zone\n",
      "18 New Zealand starts quarantine-free travel with Australia from 19th April\n",
      "19 Novel HIV vaccine approach shows promise in “landmark” trial\n",
      "20 India's daily virus cases breach 100,000; politicians still hold huge rallies\n",
      "21 Turkey arrests 10 retired admirals over government criticism\n",
      "22 Satirist Jailed For Tweets Cursing Life Under The Ruling Chinese Communist Party\n",
      "23 Mysterious rumblings from inside of Mars detected by NASA lander\n",
      "24 National parks should be created in waters around UK coast to help conserve fragile marine habitats and give people access to more of Britain’s natural heritage, marine conservation group said. Identified 10 areas around coast it said could be designated national parks within next 10 years.\n",
      "25 Putin signs law allowing him to run for two more terms in Kremlin\n",
      "26 North Korea says it won't join Tokyo Olympics due to COVID-19 concerns: Yonhap\n",
      "27 Haiti has no Covid vaccine doses as violence looms larger than pandemic\n",
      "28 Real-world data shows vaccines kicking butt—including against scary variant\n",
      "29 Encrypted messages lead to €1.2 billion cocaine discovery in Belgium\n",
      "30 Vietnam's COVID-19 pandemic response leader sworn in as president\n"
     ]
    }
   ],
   "source": [
    "for l, m in(zip(z.daily_rank ,z.title)):\n",
    "    print(l, m)"
   ]
  },
  {
   "cell_type": "markdown",
   "metadata": {},
   "source": [
    "crosspost_parent_list\n",
    "crosspost_parent"
   ]
  },
  {
   "cell_type": "code",
   "execution_count": null,
   "metadata": {
    "ExecuteTime": {
     "end_time": "2021-03-21T16:15:03.096452Z",
     "start_time": "2021-03-21T16:15:03.086174Z"
    }
   },
   "outputs": [],
   "source": [
    "import shutil\n",
    "newPath = shutil.copy('MSC.db', '/Users/Edite/Documents/GitHub/MscAston/MSC')"
   ]
  },
  {
   "cell_type": "code",
   "execution_count": null,
   "metadata": {
    "ExecuteTime": {
     "end_time": "2021-03-21T16:08:50.087209Z",
     "start_time": "2021-03-21T16:08:50.058610Z"
    }
   },
   "outputs": [],
   "source": [
    "# For fuckups\n",
    "\n",
    "connection = sqlite3.connect('MSC.db')\n",
    "cursor = connection.cursor()\n",
    "cursor.executescript(\"delete from top30 where moment == '20/03/2021  20:00:00'\")\n",
    "#z = pd.read_sql_query(sql,connection)"
   ]
  },
  {
   "cell_type": "code",
   "execution_count": null,
   "metadata": {
    "ExecuteTime": {
     "end_time": "2021-03-09T13:29:06.100081Z",
     "start_time": "2021-03-09T13:29:05.982220Z"
    }
   },
   "outputs": [],
   "source": [
    "df.to_sql('top30', connection, if_exists='append',index=False)"
   ]
  },
  {
   "cell_type": "code",
   "execution_count": null,
   "metadata": {
    "ExecuteTime": {
     "end_time": "2021-03-27T11:21:41.333171Z",
     "start_time": "2021-03-27T11:21:41.326269Z"
    }
   },
   "outputs": [],
   "source": [
    "from datetime import datetime\n",
    "print(datetime.utcfromtimestamp(post.created_utc).strftime('%Y-%m-%d %H:%M:%S'))"
   ]
  },
  {
   "cell_type": "code",
   "execution_count": null,
   "metadata": {
    "ExecuteTime": {
     "end_time": "2021-03-27T11:21:43.827454Z",
     "start_time": "2021-03-27T11:21:42.055744Z"
    }
   },
   "outputs": [],
   "source": [
    "print(datetime.datetime.utcnow().strftime(\"%s\"))"
   ]
  },
  {
   "cell_type": "code",
   "execution_count": null,
   "metadata": {
    "ExecuteTime": {
     "end_time": "2021-03-21T14:32:31.214445Z",
     "start_time": "2021-03-21T14:32:31.203324Z"
    }
   },
   "outputs": [],
   "source": [
    "a = '2021-03-19 18:03:35'"
   ]
  },
  {
   "cell_type": "code",
   "execution_count": null,
   "metadata": {
    "ExecuteTime": {
     "end_time": "2021-03-21T14:34:04.478806Z",
     "start_time": "2021-03-21T14:34:04.472906Z"
    }
   },
   "outputs": [],
   "source": [
    "b = '2021-03-20 20:00:00'"
   ]
  },
  {
   "cell_type": "markdown",
   "metadata": {
    "ExecuteTime": {
     "end_time": "2021-03-21T16:10:38.187176Z",
     "start_time": "2021-03-21T16:09:56.613492Z"
    }
   },
   "source": [
    "# For back engineering\n",
    "## Add for loop for 1-9 March\n",
    "\n",
    "top_posts = reddit.subreddit('worldnews').top(time_filter='week',limit=300)\n",
    "i = 1\n",
    "\n",
    "connection = sqlite3.connect('MSC.db')\n",
    "cursor = connection.cursor()\n",
    "sql = ('Select * from top30')\n",
    "z = pd.read_sql_query(sql,connection)\n",
    "atbilde =[]\n",
    "for post in top_posts:\n",
    "    \n",
    "    if str(eval(\"post.created_utc\")) > datetime.datetime.strptime(a, '%Y-%m-%d %H:%M:%S').strftime(\"%s\") and str(eval(\"post.created_utc\")) < datetime.datetime.strptime(b, '%Y-%m-%d %H:%M:%S').strftime(\"%s\") and i <31:\n",
    "        atbilde =[]\n",
    "        atbilde.append('20/03/2021  20:00:00')\n",
    "        atbilde.append(str(i))\n",
    "        for j in z.columns[2:]:\n",
    "            try:\n",
    "                atbilde.append(str(eval(\"post.\"+j)))\n",
    "            except:\n",
    "                atbilde.append(\"\")\n",
    "\n",
    "        for m in vars(post):\n",
    "            if m not in z.columns[2:]:\n",
    "                print(m)\n",
    "\n",
    "        connection = sqlite3.connect('MSC.db')\n",
    "        cursor = connection.cursor()\n",
    "        sql2 = (\"insert INTO top30('moment', 'daily_rank', 'comment_limit', 'comment_sort', '_reddit', 'approved_at_utc', 'subreddit', 'selftext', 'author_fullname', 'saved', 'mod_reason_title', 'gilded', 'clicked', 'title', 'link_flair_richtext', 'subreddit_name_prefixed', 'hidden', 'pwls', 'link_flair_css_class', 'downs', 'top_awarded_type', 'hide_score', 'name', 'quarantine', 'link_flair_text_color', 'upvote_ratio', 'author_flair_background_color', 'subreddit_type', 'ups', 'total_awards_received', 'media_embed', 'author_flair_template_id', 'is_original_content', 'user_reports', 'secure_media', 'is_reddit_media_domain', 'is_meta', 'category', 'secure_media_embed', 'link_flair_text', 'can_mod_post', 'score', 'approved_by', 'author_premium', 'thumbnail', 'edited', 'author_flair_css_class', 'author_flair_richtext', 'gildings', 'content_categories', 'is_self', 'mod_note', 'created', 'link_flair_type', 'wls', 'removed_by_category', 'banned_by', 'author_flair_type', 'domain', 'allow_live_comments', 'selftext_html', 'likes', 'suggested_sort', 'banned_at_utc', 'url_overridden_by_dest', 'view_count', 'archived', 'no_follow', 'is_crosspostable', 'pinned', 'over_18', 'all_awardings', 'awarders', 'media_only', 'can_gild', 'spoiler', 'locked', 'author_flair_text', 'treatment_tags', 'visited', 'removed_by', 'num_reports', 'distinguished', 'subreddit_id', 'mod_reason_by', 'removal_reason', 'link_flair_background_color', 'id', 'is_robot_indexable', 'report_reasons', 'author', 'discussion_type', 'num_comments', 'send_replies', 'whitelist_status', 'contest_mode', 'mod_reports', 'author_patreon_flair', 'author_flair_text_color', 'permalink', 'parent_whitelist_status', 'stickied', 'url', 'subreddit_subscribers', 'created_utc', 'num_crossposts', 'media', 'is_video', '_fetched', '_comments_by_id', 'author_cakeday', 'flair', 'link_flair_template_id', 'num_duplicates', 'post_hint', 'preview', 'thumbnail_height', 'thumbnail_width','_comments') VALUES (?,?,?,?,?,?,?,?,?,?,?,?,?,?,?,?,?,?,?,?,?,?,?,?,?,?,?,?,?,?,?,?,?,?,?,?,?,?,?,?,?,?,?,?,?,?,?,?,?,?,?,?,?,?,?,?,?,?,?,?,?,?,?,?,?,?,?,?,?,?,?,?,?,?,?,?,?,?,?,?,?,?,?,?,?,?,?,?,?,?,?,?,?,?,?,?,?,?,?,?,?,?,?,?,?,?,?,?,?,?,?,?,?,?,?,?,?,?,?)\")\n",
    "        cursor.execute(sql2, atbilde)          \n",
    "        connection.commit()\n",
    "        connection.close()\n",
    "\n",
    "        i +=1"
   ]
  },
  {
   "cell_type": "code",
   "execution_count": null,
   "metadata": {
    "ExecuteTime": {
     "end_time": "2021-03-27T19:01:56.760493Z",
     "start_time": "2021-03-27T19:01:56.675464Z"
    }
   },
   "outputs": [],
   "source": [
    "connection = sqlite3.connect('MSC.db')\n",
    "cursor = connection.cursor()\n",
    "\n",
    "sql = (\"Select* from top30 where moment < '2021-03-19 18:03:35' \")\n",
    "z = pd.read_sql_query(sql,connection)"
   ]
  },
  {
   "cell_type": "code",
   "execution_count": null,
   "metadata": {
    "ExecuteTime": {
     "end_time": "2021-03-27T19:02:23.785940Z",
     "start_time": "2021-03-27T19:02:23.771514Z"
    }
   },
   "outputs": [],
   "source": [
    "z.title.value_counts()"
   ]
  },
  {
   "cell_type": "markdown",
   "metadata": {
    "ExecuteTime": {
     "end_time": "2021-03-27T18:45:54.315842Z",
     "start_time": "2021-03-27T18:45:54.123015Z"
    }
   },
   "source": [
    "https://pynative.com/python-sqlite-update-table/"
   ]
  },
  {
   "cell_type": "code",
   "execution_count": null,
   "metadata": {
    "ExecuteTime": {
     "end_time": "2021-03-27T19:03:09.611175Z",
     "start_time": "2021-03-27T19:03:09.394540Z"
    }
   },
   "outputs": [],
   "source": [
    "z[z.title == \"Thousands rally at Australia's parliament to demand justice for sexual assault victims\"].to_excel('findingtnemo.xlsx')"
   ]
  },
  {
   "cell_type": "code",
   "execution_count": null,
   "metadata": {
    "ExecuteTime": {
     "end_time": "2021-03-27T18:54:53.730682Z",
     "start_time": "2021-03-27T18:54:53.721735Z"
    },
    "hide_input": false
   },
   "outputs": [],
   "source": [
    "import string\n",
    "string.punctuation"
   ]
  },
  {
   "cell_type": "code",
   "execution_count": null,
   "metadata": {
    "ExecuteTime": {
     "end_time": "2021-03-28T16:35:44.458165Z",
     "start_time": "2021-03-28T16:35:44.320686Z"
    }
   },
   "outputs": [],
   "source": [
    "connection = sqlite3.connect('MSC.db')\n",
    "cursor = connection.cursor()\n",
    "\n",
    "sql = (\"Select count(*) over (partition by title) as 'cunt',* from top30 where moment < '2021-03-19 18:03:35'  \")\n",
    "z = pd.read_sql_query(sql,connection)\n",
    "z"
   ]
  },
  {
   "cell_type": "code",
   "execution_count": null,
   "metadata": {
    "ExecuteTime": {
     "end_time": "2021-03-28T16:36:27.647596Z",
     "start_time": "2021-03-28T16:36:27.370193Z"
    }
   },
   "outputs": [],
   "source": [
    "z.cunt.hist(bins = max(z.cunt))"
   ]
  },
  {
   "cell_type": "code",
   "execution_count": null,
   "metadata": {
    "ExecuteTime": {
     "end_time": "2021-03-28T16:36:11.823441Z",
     "start_time": "2021-03-28T16:36:11.755263Z"
    }
   },
   "outputs": [],
   "source": [
    "%matplotlib inline"
   ]
  },
  {
   "cell_type": "code",
   "execution_count": null,
   "metadata": {
    "ExecuteTime": {
     "end_time": "2021-03-28T16:37:01.098015Z",
     "start_time": "2021-03-28T16:37:01.091206Z"
    }
   },
   "outputs": [],
   "source": [
    "s = z[z.cunt == 2]"
   ]
  },
  {
   "cell_type": "code",
   "execution_count": null,
   "metadata": {
    "ExecuteTime": {
     "end_time": "2021-03-28T16:37:29.210371Z",
     "start_time": "2021-03-28T16:37:27.967921Z"
    }
   },
   "outputs": [],
   "source": [
    "s.to_excel('findingnemo.xlsx')"
   ]
  }
 ],
 "metadata": {
  "kernelspec": {
   "display_name": "Python 3",
   "language": "python",
   "name": "python3"
  },
  "language_info": {
   "codemirror_mode": {
    "name": "ipython",
    "version": 3
   },
   "file_extension": ".py",
   "mimetype": "text/x-python",
   "name": "python",
   "nbconvert_exporter": "python",
   "pygments_lexer": "ipython3",
   "version": "3.8.5"
  },
  "toc": {
   "base_numbering": 1,
   "nav_menu": {},
   "number_sections": true,
   "sideBar": true,
   "skip_h1_title": false,
   "title_cell": "Table of Contents",
   "title_sidebar": "Contents",
   "toc_cell": false,
   "toc_position": {},
   "toc_section_display": true,
   "toc_window_display": false
  }
 },
 "nbformat": 4,
 "nbformat_minor": 4
}
