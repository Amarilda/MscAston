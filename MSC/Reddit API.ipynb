{
 "cells": [
  {
   "cell_type": "code",
   "execution_count": 1,
   "metadata": {
    "ExecuteTime": {
     "end_time": "2021-03-28T12:56:35.831501Z",
     "start_time": "2021-03-28T12:56:16.848679Z"
    }
   },
   "outputs": [],
   "source": [
    "import requests\n",
    "from datetime import datetime\n",
    "import datetime\n",
    "import pandas as pd\n",
    "import sqlite3\n",
    "import praw"
   ]
  },
  {
   "cell_type": "code",
   "execution_count": 2,
   "metadata": {
    "ExecuteTime": {
     "end_time": "2021-03-28T12:56:35.918684Z",
     "start_time": "2021-03-28T12:56:35.835851Z"
    }
   },
   "outputs": [],
   "source": [
    "from credentials import credentials"
   ]
  },
  {
   "cell_type": "code",
   "execution_count": 3,
   "metadata": {
    "ExecuteTime": {
     "end_time": "2021-03-28T12:56:35.945640Z",
     "start_time": "2021-03-28T12:56:35.931425Z"
    }
   },
   "outputs": [],
   "source": [
    "client_id, client_secret,password, user_agent, username = credentials"
   ]
  },
  {
   "cell_type": "code",
   "execution_count": 4,
   "metadata": {
    "ExecuteTime": {
     "end_time": "2021-03-28T12:56:47.049208Z",
     "start_time": "2021-03-28T12:56:35.951179Z"
    }
   },
   "outputs": [],
   "source": [
    "reddit = praw.Reddit(\n",
    "    client_id=client_id,\n",
    "    client_secret=client_secret,\n",
    "    password=password,\n",
    "    user_agent=user_agent,\n",
    "    username=username,\n",
    ")"
   ]
  },
  {
   "cell_type": "code",
   "execution_count": 5,
   "metadata": {
    "ExecuteTime": {
     "end_time": "2021-03-28T12:57:13.918316Z",
     "start_time": "2021-03-28T12:56:47.052607Z"
    }
   },
   "outputs": [
    {
     "name": "stdout",
     "output_type": "stream",
     "text": [
      "JustAnotherCogg\n"
     ]
    }
   ],
   "source": [
    "print(reddit.user.me())"
   ]
  },
  {
   "cell_type": "code",
   "execution_count": 6,
   "metadata": {
    "ExecuteTime": {
     "end_time": "2021-03-28T12:57:13.926671Z",
     "start_time": "2021-03-28T12:57:13.920957Z"
    }
   },
   "outputs": [
    {
     "name": "stdout",
     "output_type": "stream",
     "text": [
      "False\n"
     ]
    }
   ],
   "source": [
    "print(reddit.read_only)"
   ]
  },
  {
   "cell_type": "code",
   "execution_count": 7,
   "metadata": {
    "ExecuteTime": {
     "end_time": "2021-03-31T07:28:02.928277Z",
     "start_time": "2021-03-31T07:27:19.187424Z"
    }
   },
   "outputs": [
    {
     "name": "stdout",
     "output_type": "stream",
     "text": [
      "crosspost_parent_list\n",
      "crosspost_parent\n"
     ]
    }
   ],
   "source": [
    "top_posts = reddit.subreddit('worldnews').top(time_filter='day',limit=30)\n",
    "i = 1\n",
    "\n",
    "connection = sqlite3.connect('MSC.db')\n",
    "cursor = connection.cursor()\n",
    "sql = ('Select * from top30')\n",
    "z = pd.read_sql_query(sql,connection)\n",
    "\n",
    "for post in top_posts:\n",
    "    atbilde =[]\n",
    "    atbilde.append(str(datetime.datetime.now()))\n",
    "    atbilde.append(str(i))\n",
    "    for j in z.columns[2:]:\n",
    "        try:\n",
    "            atbilde.append(str(eval(\"post.\"+j)))\n",
    "        except:\n",
    "            atbilde.append(\"\")\n",
    "\n",
    "    for m in vars(post):\n",
    "        if m not in z.columns[2:]:\n",
    "            print(m)\n",
    "    \n",
    "    connection = sqlite3.connect('MSC.db')\n",
    "    cursor = connection.cursor()\n",
    "    sql2 = (\"insert INTO top30('moment', 'daily_rank', 'comment_limit', 'comment_sort', '_reddit', 'approved_at_utc', 'subreddit', 'selftext', 'author_fullname', 'saved', 'mod_reason_title', 'gilded', 'clicked', 'title', 'link_flair_richtext', 'subreddit_name_prefixed', 'hidden', 'pwls', 'link_flair_css_class', 'downs', 'top_awarded_type', 'hide_score', 'name', 'quarantine', 'link_flair_text_color', 'upvote_ratio', 'author_flair_background_color', 'subreddit_type', 'ups', 'total_awards_received', 'media_embed', 'author_flair_template_id', 'is_original_content', 'user_reports', 'secure_media', 'is_reddit_media_domain', 'is_meta', 'category', 'secure_media_embed', 'link_flair_text', 'can_mod_post', 'score', 'approved_by', 'author_premium', 'thumbnail', 'edited', 'author_flair_css_class', 'author_flair_richtext', 'gildings', 'content_categories', 'is_self', 'mod_note', 'created', 'link_flair_type', 'wls', 'removed_by_category', 'banned_by', 'author_flair_type', 'domain', 'allow_live_comments', 'selftext_html', 'likes', 'suggested_sort', 'banned_at_utc', 'url_overridden_by_dest', 'view_count', 'archived', 'no_follow', 'is_crosspostable', 'pinned', 'over_18', 'all_awardings', 'awarders', 'media_only', 'can_gild', 'spoiler', 'locked', 'author_flair_text', 'treatment_tags', 'visited', 'removed_by', 'num_reports', 'distinguished', 'subreddit_id', 'mod_reason_by', 'removal_reason', 'link_flair_background_color', 'id', 'is_robot_indexable', 'report_reasons', 'author', 'discussion_type', 'num_comments', 'send_replies', 'whitelist_status', 'contest_mode', 'mod_reports', 'author_patreon_flair', 'author_flair_text_color', 'permalink', 'parent_whitelist_status', 'stickied', 'url', 'subreddit_subscribers', 'created_utc', 'num_crossposts', 'media', 'is_video', '_fetched', '_comments_by_id', 'author_cakeday', 'flair', 'link_flair_template_id', 'num_duplicates', 'post_hint', 'preview', 'thumbnail_height', 'thumbnail_width','_comments') VALUES (?,?,?,?,?,?,?,?,?,?,?,?,?,?,?,?,?,?,?,?,?,?,?,?,?,?,?,?,?,?,?,?,?,?,?,?,?,?,?,?,?,?,?,?,?,?,?,?,?,?,?,?,?,?,?,?,?,?,?,?,?,?,?,?,?,?,?,?,?,?,?,?,?,?,?,?,?,?,?,?,?,?,?,?,?,?,?,?,?,?,?,?,?,?,?,?,?,?,?,?,?,?,?,?,?,?,?,?,?,?,?,?,?,?,?,?,?,?,?)\")\n",
    "    cursor.execute(sql2, atbilde)          \n",
    "    connection.commit()\n",
    "    connection.close()\n",
    "    \n",
    "    i +=1"
   ]
  },
  {
   "cell_type": "code",
   "execution_count": 8,
   "metadata": {
    "ExecuteTime": {
     "end_time": "2021-03-31T07:28:02.991146Z",
     "start_time": "2021-03-31T07:28:02.931278Z"
    }
   },
   "outputs": [],
   "source": [
    "connection = sqlite3.connect('MSC.db')\n",
    "cursor = connection.cursor()\n",
    "\n",
    "sql = (\"Select * from top30 where moment>date('now')\")\n",
    "z = pd.read_sql_query(sql,connection)"
   ]
  },
  {
   "cell_type": "code",
   "execution_count": 9,
   "metadata": {
    "ExecuteTime": {
     "end_time": "2021-03-31T07:33:21.779452Z",
     "start_time": "2021-03-31T07:33:21.770998Z"
    }
   },
   "outputs": [
    {
     "name": "stdout",
     "output_type": "stream",
     "text": [
      "1 ‘We will not be intimidated.’ Despite China threats, Lithuania moves to recognise Uighur genocide\n",
      "2 Ghislaine Maxwell prosecution reveals nearly 3 million pages of evidence\n",
      "3 Russian Police Detain CNN Journalist Reporting on Alexei Navalny’s Move to Prison Hospital\n",
      "4 Amnesty International says Russia may be slowly killing Navalny\n",
      "5 ‘We’ve lost our entire European trade’: Brexit’s impact on UK chocolate makers\n",
      "6 French TV documentary says Champagne, lobster and no masks on menu at one of multiple high-end “clandestine restaurants” catering to Paris elite, in violation of nationwide pandemic restrictions. One organizer claimed government ministers are among those who attend.\n",
      "7 Ukraine pressures Nato for membership as Russia amasses troops at border\n",
      "8 Sri Lanka bans palm oil imports, tells producers to uproot plantations\n",
      "9 Russian police detain Navalny’s doctor over prison protest\n",
      "10 Myanmar forces arrest the comedian Zarganar. In the past week, the junta has issued arrest warrants for about 100 people active in the fields of literature, film, theater arts, music and journalism on charges of spreading information that undermines the stability of the country and the rule of law.\n",
      "11 North Korean workers in Russia defect to South Korea\n",
      "12 Ukraine looks to Canada for help with NATO membership as Russian military buildup grows\n",
      "13 White House says Ukraine has long aspired to join NATO and that the Biden administration has been discussing that aspiration with the country\n",
      "14 Two Uighur ex-government officials in China's Xinjiang have been handed death sentences for carrying out \"separatist activities\", a court said, as Beijing comes under increasing fire for its actions towards minority groups in the region\n",
      "15 US asks Russia to explain Ukrainian border 'provocations'\n",
      "16 Russia using 'Red Cross' ambulances as a ruse to practise killing enemy forces\n",
      "17 Brazilian beef giant JBS vows to go deforestation-free, 14 years from now: activists say this largest animal protein producer on Earth's announcement reflects lack of understanding of current deforestation crisis in the Amazon\n",
      "18 AstraZeneca COVID-19 Vaccine Has Link With Blood Clots, Cause Unclear, Says Top European Medicines Agency Official\n",
      "19 US and Chinese aircraft carriers sail into disputed South China Sea, as 'fishing' standoff rumbles on\n",
      "20 Evidence of Antarctic Glacier’s Tipping Point Confirmed for First Time: Researchers have confirmed for the first time that Pine Island Glacier in West Antarctica could cross tipping points, leading to a rapid and irreversible retreat which would have significant consequences for global sea level.\n",
      "21 Activist And Wartime Rape Survivor Elected To Kosovo Parliament\n",
      "22 Ukraine says NATO path is only way to end war in eastern region\n",
      "23 China tells Japan to stay out of Hong Kong and Xinjiang issues\n",
      "24 Alexei Navalny's Supporters Detained and Denied Prison Visit\n",
      "25 AstraZeneca trial in children paused after more blood clot reports in adults\n",
      "26 More than 1,800 prisoners escape in Nigeria\n",
      "27 Beijing mouthpiece warns PH military of ‘strong response’ if Chinese vessels made to leave PH EEZ\n",
      "28 US is ‘concerned’ over 20-year sentence of Saudi aid worker by counterterrorism court. His arrest is believed to be connected to an anonymous Twitter account he ran that satirized the Saudi government.\n",
      "29 Chinese foreign minister warns against foreign interference in Myanmar\n",
      "30 Canada's hospitals deploy artificial lungs, scramble for staff as COVID-19 hits younger patients\n"
     ]
    }
   ],
   "source": [
    "for l, m in(zip(z.daily_rank ,z.title)):\n",
    "    print(l, m)"
   ]
  },
  {
   "cell_type": "markdown",
   "metadata": {},
   "source": [
    "crosspost_parent_list\n",
    "crosspost_parent"
   ]
  },
  {
   "cell_type": "code",
   "execution_count": null,
   "metadata": {
    "ExecuteTime": {
     "end_time": "2021-03-21T16:15:03.096452Z",
     "start_time": "2021-03-21T16:15:03.086174Z"
    }
   },
   "outputs": [],
   "source": [
    "import shutil\n",
    "newPath = shutil.copy('MSC.db', '/Users/Edite/Documents/GitHub/MscAston/MSC')"
   ]
  },
  {
   "cell_type": "code",
   "execution_count": null,
   "metadata": {
    "ExecuteTime": {
     "end_time": "2021-03-21T16:08:50.087209Z",
     "start_time": "2021-03-21T16:08:50.058610Z"
    }
   },
   "outputs": [],
   "source": [
    "# For fuckups\n",
    "\n",
    "connection = sqlite3.connect('MSC.db')\n",
    "cursor = connection.cursor()\n",
    "cursor.executescript(\"delete from top30 where moment == '20/03/2021  20:00:00'\")\n",
    "#z = pd.read_sql_query(sql,connection)"
   ]
  },
  {
   "cell_type": "code",
   "execution_count": null,
   "metadata": {
    "ExecuteTime": {
     "end_time": "2021-03-09T13:29:06.100081Z",
     "start_time": "2021-03-09T13:29:05.982220Z"
    }
   },
   "outputs": [],
   "source": [
    "df.to_sql('top30', connection, if_exists='append',index=False)"
   ]
  },
  {
   "cell_type": "code",
   "execution_count": null,
   "metadata": {
    "ExecuteTime": {
     "end_time": "2021-03-27T11:21:41.333171Z",
     "start_time": "2021-03-27T11:21:41.326269Z"
    }
   },
   "outputs": [],
   "source": [
    "from datetime import datetime\n",
    "print(datetime.utcfromtimestamp(post.created_utc).strftime('%Y-%m-%d %H:%M:%S'))"
   ]
  },
  {
   "cell_type": "code",
   "execution_count": null,
   "metadata": {
    "ExecuteTime": {
     "end_time": "2021-03-27T11:21:43.827454Z",
     "start_time": "2021-03-27T11:21:42.055744Z"
    }
   },
   "outputs": [],
   "source": [
    "print(datetime.datetime.utcnow().strftime(\"%s\"))"
   ]
  },
  {
   "cell_type": "code",
   "execution_count": null,
   "metadata": {
    "ExecuteTime": {
     "end_time": "2021-03-21T14:32:31.214445Z",
     "start_time": "2021-03-21T14:32:31.203324Z"
    }
   },
   "outputs": [],
   "source": [
    "a = '2021-03-19 18:03:35'"
   ]
  },
  {
   "cell_type": "code",
   "execution_count": null,
   "metadata": {
    "ExecuteTime": {
     "end_time": "2021-03-21T14:34:04.478806Z",
     "start_time": "2021-03-21T14:34:04.472906Z"
    }
   },
   "outputs": [],
   "source": [
    "b = '2021-03-20 20:00:00'"
   ]
  },
  {
   "cell_type": "markdown",
   "metadata": {
    "ExecuteTime": {
     "end_time": "2021-03-21T16:10:38.187176Z",
     "start_time": "2021-03-21T16:09:56.613492Z"
    }
   },
   "source": [
    "# For back engineering\n",
    "## Add for loop for 1-9 March\n",
    "\n",
    "top_posts = reddit.subreddit('worldnews').top(time_filter='week',limit=300)\n",
    "i = 1\n",
    "\n",
    "connection = sqlite3.connect('MSC.db')\n",
    "cursor = connection.cursor()\n",
    "sql = ('Select * from top30')\n",
    "z = pd.read_sql_query(sql,connection)\n",
    "atbilde =[]\n",
    "for post in top_posts:\n",
    "    \n",
    "    if str(eval(\"post.created_utc\")) > datetime.datetime.strptime(a, '%Y-%m-%d %H:%M:%S').strftime(\"%s\") and str(eval(\"post.created_utc\")) < datetime.datetime.strptime(b, '%Y-%m-%d %H:%M:%S').strftime(\"%s\") and i <31:\n",
    "        atbilde =[]\n",
    "        atbilde.append('20/03/2021  20:00:00')\n",
    "        atbilde.append(str(i))\n",
    "        for j in z.columns[2:]:\n",
    "            try:\n",
    "                atbilde.append(str(eval(\"post.\"+j)))\n",
    "            except:\n",
    "                atbilde.append(\"\")\n",
    "\n",
    "        for m in vars(post):\n",
    "            if m not in z.columns[2:]:\n",
    "                print(m)\n",
    "\n",
    "        connection = sqlite3.connect('MSC.db')\n",
    "        cursor = connection.cursor()\n",
    "        sql2 = (\"insert INTO top30('moment', 'daily_rank', 'comment_limit', 'comment_sort', '_reddit', 'approved_at_utc', 'subreddit', 'selftext', 'author_fullname', 'saved', 'mod_reason_title', 'gilded', 'clicked', 'title', 'link_flair_richtext', 'subreddit_name_prefixed', 'hidden', 'pwls', 'link_flair_css_class', 'downs', 'top_awarded_type', 'hide_score', 'name', 'quarantine', 'link_flair_text_color', 'upvote_ratio', 'author_flair_background_color', 'subreddit_type', 'ups', 'total_awards_received', 'media_embed', 'author_flair_template_id', 'is_original_content', 'user_reports', 'secure_media', 'is_reddit_media_domain', 'is_meta', 'category', 'secure_media_embed', 'link_flair_text', 'can_mod_post', 'score', 'approved_by', 'author_premium', 'thumbnail', 'edited', 'author_flair_css_class', 'author_flair_richtext', 'gildings', 'content_categories', 'is_self', 'mod_note', 'created', 'link_flair_type', 'wls', 'removed_by_category', 'banned_by', 'author_flair_type', 'domain', 'allow_live_comments', 'selftext_html', 'likes', 'suggested_sort', 'banned_at_utc', 'url_overridden_by_dest', 'view_count', 'archived', 'no_follow', 'is_crosspostable', 'pinned', 'over_18', 'all_awardings', 'awarders', 'media_only', 'can_gild', 'spoiler', 'locked', 'author_flair_text', 'treatment_tags', 'visited', 'removed_by', 'num_reports', 'distinguished', 'subreddit_id', 'mod_reason_by', 'removal_reason', 'link_flair_background_color', 'id', 'is_robot_indexable', 'report_reasons', 'author', 'discussion_type', 'num_comments', 'send_replies', 'whitelist_status', 'contest_mode', 'mod_reports', 'author_patreon_flair', 'author_flair_text_color', 'permalink', 'parent_whitelist_status', 'stickied', 'url', 'subreddit_subscribers', 'created_utc', 'num_crossposts', 'media', 'is_video', '_fetched', '_comments_by_id', 'author_cakeday', 'flair', 'link_flair_template_id', 'num_duplicates', 'post_hint', 'preview', 'thumbnail_height', 'thumbnail_width','_comments') VALUES (?,?,?,?,?,?,?,?,?,?,?,?,?,?,?,?,?,?,?,?,?,?,?,?,?,?,?,?,?,?,?,?,?,?,?,?,?,?,?,?,?,?,?,?,?,?,?,?,?,?,?,?,?,?,?,?,?,?,?,?,?,?,?,?,?,?,?,?,?,?,?,?,?,?,?,?,?,?,?,?,?,?,?,?,?,?,?,?,?,?,?,?,?,?,?,?,?,?,?,?,?,?,?,?,?,?,?,?,?,?,?,?,?,?,?,?,?,?,?)\")\n",
    "        cursor.execute(sql2, atbilde)          \n",
    "        connection.commit()\n",
    "        connection.close()\n",
    "\n",
    "        i +=1"
   ]
  },
  {
   "cell_type": "code",
   "execution_count": null,
   "metadata": {
    "ExecuteTime": {
     "end_time": "2021-03-27T19:01:56.760493Z",
     "start_time": "2021-03-27T19:01:56.675464Z"
    }
   },
   "outputs": [],
   "source": [
    "connection = sqlite3.connect('MSC.db')\n",
    "cursor = connection.cursor()\n",
    "\n",
    "sql = (\"Select* from top30 where moment < '2021-03-19 18:03:35' \")\n",
    "z = pd.read_sql_query(sql,connection)"
   ]
  },
  {
   "cell_type": "code",
   "execution_count": null,
   "metadata": {
    "ExecuteTime": {
     "end_time": "2021-03-27T19:02:23.785940Z",
     "start_time": "2021-03-27T19:02:23.771514Z"
    }
   },
   "outputs": [],
   "source": [
    "z.title.value_counts()"
   ]
  },
  {
   "cell_type": "markdown",
   "metadata": {
    "ExecuteTime": {
     "end_time": "2021-03-27T18:45:54.315842Z",
     "start_time": "2021-03-27T18:45:54.123015Z"
    }
   },
   "source": [
    "https://pynative.com/python-sqlite-update-table/"
   ]
  },
  {
   "cell_type": "code",
   "execution_count": null,
   "metadata": {
    "ExecuteTime": {
     "end_time": "2021-03-27T19:03:09.611175Z",
     "start_time": "2021-03-27T19:03:09.394540Z"
    }
   },
   "outputs": [],
   "source": [
    "z[z.title == \"Thousands rally at Australia's parliament to demand justice for sexual assault victims\"].to_excel('findingtnemo.xlsx')"
   ]
  },
  {
   "cell_type": "code",
   "execution_count": null,
   "metadata": {
    "ExecuteTime": {
     "end_time": "2021-03-27T18:54:53.730682Z",
     "start_time": "2021-03-27T18:54:53.721735Z"
    },
    "hide_input": false
   },
   "outputs": [],
   "source": [
    "import string\n",
    "string.punctuation"
   ]
  },
  {
   "cell_type": "code",
   "execution_count": null,
   "metadata": {
    "ExecuteTime": {
     "end_time": "2021-03-28T16:35:44.458165Z",
     "start_time": "2021-03-28T16:35:44.320686Z"
    }
   },
   "outputs": [],
   "source": [
    "connection = sqlite3.connect('MSC.db')\n",
    "cursor = connection.cursor()\n",
    "\n",
    "sql = (\"Select count(*) over (partition by title) as 'cunt',* from top30 where moment < '2021-03-19 18:03:35'  \")\n",
    "z = pd.read_sql_query(sql,connection)\n",
    "z"
   ]
  },
  {
   "cell_type": "code",
   "execution_count": null,
   "metadata": {
    "ExecuteTime": {
     "end_time": "2021-03-28T16:36:27.647596Z",
     "start_time": "2021-03-28T16:36:27.370193Z"
    }
   },
   "outputs": [],
   "source": [
    "z.cunt.hist(bins = max(z.cunt))"
   ]
  },
  {
   "cell_type": "code",
   "execution_count": null,
   "metadata": {
    "ExecuteTime": {
     "end_time": "2021-03-28T16:36:11.823441Z",
     "start_time": "2021-03-28T16:36:11.755263Z"
    }
   },
   "outputs": [],
   "source": [
    "%matplotlib inline"
   ]
  },
  {
   "cell_type": "code",
   "execution_count": null,
   "metadata": {
    "ExecuteTime": {
     "end_time": "2021-03-28T16:37:01.098015Z",
     "start_time": "2021-03-28T16:37:01.091206Z"
    }
   },
   "outputs": [],
   "source": [
    "s = z[z.cunt == 2]"
   ]
  },
  {
   "cell_type": "code",
   "execution_count": null,
   "metadata": {
    "ExecuteTime": {
     "end_time": "2021-03-28T16:37:29.210371Z",
     "start_time": "2021-03-28T16:37:27.967921Z"
    }
   },
   "outputs": [],
   "source": [
    "s.to_excel('findingnemo.xlsx')"
   ]
  }
 ],
 "metadata": {
  "kernelspec": {
   "display_name": "Python 3",
   "language": "python",
   "name": "python3"
  },
  "language_info": {
   "codemirror_mode": {
    "name": "ipython",
    "version": 3
   },
   "file_extension": ".py",
   "mimetype": "text/x-python",
   "name": "python",
   "nbconvert_exporter": "python",
   "pygments_lexer": "ipython3",
   "version": "3.8.5"
  },
  "toc": {
   "base_numbering": 1,
   "nav_menu": {},
   "number_sections": true,
   "sideBar": true,
   "skip_h1_title": false,
   "title_cell": "Table of Contents",
   "title_sidebar": "Contents",
   "toc_cell": false,
   "toc_position": {},
   "toc_section_display": true,
   "toc_window_display": false
  }
 },
 "nbformat": 4,
 "nbformat_minor": 4
}
