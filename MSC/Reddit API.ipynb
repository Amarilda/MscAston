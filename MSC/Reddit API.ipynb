{
 "cells": [
  {
   "cell_type": "code",
   "execution_count": 1,
   "metadata": {
    "ExecuteTime": {
     "end_time": "2021-03-28T12:56:35.831501Z",
     "start_time": "2021-03-28T12:56:16.848679Z"
    }
   },
   "outputs": [],
   "source": [
    "import requests\n",
    "from datetime import datetime\n",
    "import datetime\n",
    "import pandas as pd\n",
    "from textblob import TextBlob\n",
    "import sqlite3\n",
    "import praw"
   ]
  },
  {
   "cell_type": "code",
   "execution_count": 2,
   "metadata": {
    "ExecuteTime": {
     "end_time": "2021-03-28T12:56:35.918684Z",
     "start_time": "2021-03-28T12:56:35.835851Z"
    }
   },
   "outputs": [],
   "source": [
    "from credentials import credentials"
   ]
  },
  {
   "cell_type": "code",
   "execution_count": 3,
   "metadata": {
    "ExecuteTime": {
     "end_time": "2021-03-28T12:56:35.945640Z",
     "start_time": "2021-03-28T12:56:35.931425Z"
    }
   },
   "outputs": [],
   "source": [
    "client_id, client_secret,password, user_agent, username = credentials"
   ]
  },
  {
   "cell_type": "code",
   "execution_count": 4,
   "metadata": {
    "ExecuteTime": {
     "end_time": "2021-03-28T12:56:47.049208Z",
     "start_time": "2021-03-28T12:56:35.951179Z"
    }
   },
   "outputs": [],
   "source": [
    "reddit = praw.Reddit(\n",
    "    client_id=client_id,\n",
    "    client_secret=client_secret,\n",
    "    password=password,\n",
    "    user_agent=user_agent,\n",
    "    username=username,\n",
    ")"
   ]
  },
  {
   "cell_type": "code",
   "execution_count": 5,
   "metadata": {
    "ExecuteTime": {
     "end_time": "2021-03-28T12:57:13.918316Z",
     "start_time": "2021-03-28T12:56:47.052607Z"
    }
   },
   "outputs": [
    {
     "name": "stdout",
     "output_type": "stream",
     "text": [
      "JustAnotherCogg\n"
     ]
    }
   ],
   "source": [
    "print(reddit.user.me())"
   ]
  },
  {
   "cell_type": "code",
   "execution_count": 6,
   "metadata": {
    "ExecuteTime": {
     "end_time": "2021-03-28T12:57:13.926671Z",
     "start_time": "2021-03-28T12:57:13.920957Z"
    }
   },
   "outputs": [
    {
     "name": "stdout",
     "output_type": "stream",
     "text": [
      "False\n"
     ]
    }
   ],
   "source": [
    "print(reddit.read_only)"
   ]
  },
  {
   "cell_type": "code",
   "execution_count": null,
   "metadata": {
    "ExecuteTime": {
     "start_time": "2021-03-29T10:44:12.971Z"
    }
   },
   "outputs": [],
   "source": [
    "top_posts = reddit.subreddit('worldnews').top(time_filter='day',limit=30)\n",
    "i = 1\n",
    "\n",
    "connection = sqlite3.connect('MSC.db')\n",
    "cursor = connection.cursor()\n",
    "sql = ('Select * from top30')\n",
    "z = pd.read_sql_query(sql,connection)\n",
    "\n",
    "for post in top_posts:\n",
    "    atbilde =[]\n",
    "    atbilde.append(str(datetime.datetime.now()))\n",
    "    atbilde.append(str(i))\n",
    "    for j in z.columns[2:]:\n",
    "        try:\n",
    "            atbilde.append(str(eval(\"post.\"+j)))\n",
    "        except:\n",
    "            atbilde.append(\"\")\n",
    "\n",
    "    for m in vars(post):\n",
    "        if m not in z.columns[2:]:\n",
    "            print(m)\n",
    "    \n",
    "    connection = sqlite3.connect('MSC.db')\n",
    "    cursor = connection.cursor()\n",
    "    sql2 = (\"insert INTO top30('moment', 'daily_rank', 'comment_limit', 'comment_sort', '_reddit', 'approved_at_utc', 'subreddit', 'selftext', 'author_fullname', 'saved', 'mod_reason_title', 'gilded', 'clicked', 'title', 'link_flair_richtext', 'subreddit_name_prefixed', 'hidden', 'pwls', 'link_flair_css_class', 'downs', 'top_awarded_type', 'hide_score', 'name', 'quarantine', 'link_flair_text_color', 'upvote_ratio', 'author_flair_background_color', 'subreddit_type', 'ups', 'total_awards_received', 'media_embed', 'author_flair_template_id', 'is_original_content', 'user_reports', 'secure_media', 'is_reddit_media_domain', 'is_meta', 'category', 'secure_media_embed', 'link_flair_text', 'can_mod_post', 'score', 'approved_by', 'author_premium', 'thumbnail', 'edited', 'author_flair_css_class', 'author_flair_richtext', 'gildings', 'content_categories', 'is_self', 'mod_note', 'created', 'link_flair_type', 'wls', 'removed_by_category', 'banned_by', 'author_flair_type', 'domain', 'allow_live_comments', 'selftext_html', 'likes', 'suggested_sort', 'banned_at_utc', 'url_overridden_by_dest', 'view_count', 'archived', 'no_follow', 'is_crosspostable', 'pinned', 'over_18', 'all_awardings', 'awarders', 'media_only', 'can_gild', 'spoiler', 'locked', 'author_flair_text', 'treatment_tags', 'visited', 'removed_by', 'num_reports', 'distinguished', 'subreddit_id', 'mod_reason_by', 'removal_reason', 'link_flair_background_color', 'id', 'is_robot_indexable', 'report_reasons', 'author', 'discussion_type', 'num_comments', 'send_replies', 'whitelist_status', 'contest_mode', 'mod_reports', 'author_patreon_flair', 'author_flair_text_color', 'permalink', 'parent_whitelist_status', 'stickied', 'url', 'subreddit_subscribers', 'created_utc', 'num_crossposts', 'media', 'is_video', '_fetched', '_comments_by_id', 'author_cakeday', 'flair', 'link_flair_template_id', 'num_duplicates', 'post_hint', 'preview', 'thumbnail_height', 'thumbnail_width','_comments') VALUES (?,?,?,?,?,?,?,?,?,?,?,?,?,?,?,?,?,?,?,?,?,?,?,?,?,?,?,?,?,?,?,?,?,?,?,?,?,?,?,?,?,?,?,?,?,?,?,?,?,?,?,?,?,?,?,?,?,?,?,?,?,?,?,?,?,?,?,?,?,?,?,?,?,?,?,?,?,?,?,?,?,?,?,?,?,?,?,?,?,?,?,?,?,?,?,?,?,?,?,?,?,?,?,?,?,?,?,?,?,?,?,?,?,?,?,?,?,?,?)\")\n",
    "    cursor.execute(sql2, atbilde)          \n",
    "    connection.commit()\n",
    "    connection.close()\n",
    "    \n",
    "    i +=1"
   ]
  },
  {
   "cell_type": "code",
   "execution_count": null,
   "metadata": {
    "ExecuteTime": {
     "start_time": "2021-03-29T10:44:13.839Z"
    }
   },
   "outputs": [],
   "source": [
    "connection = sqlite3.connect('MSC.db')\n",
    "cursor = connection.cursor()\n",
    "\n",
    "sql = (\"Select * from top30 where moment>date('now')\")\n",
    "z = pd.read_sql_query(sql,connection)"
   ]
  },
  {
   "cell_type": "code",
   "execution_count": null,
   "metadata": {
    "ExecuteTime": {
     "start_time": "2021-03-29T10:44:15.251Z"
    }
   },
   "outputs": [],
   "source": [
    "for l, m in(zip(z.daily_rank ,z.title)):\n",
    "    print(l, m[:50])"
   ]
  },
  {
   "cell_type": "code",
   "execution_count": null,
   "metadata": {
    "ExecuteTime": {
     "end_time": "2021-03-21T16:15:03.096452Z",
     "start_time": "2021-03-21T16:15:03.086174Z"
    }
   },
   "outputs": [],
   "source": [
    "import shutil\n",
    "newPath = shutil.copy('MSC.db', '/Users/Edite/Documents/GitHub/MscAston/MSC')"
   ]
  },
  {
   "cell_type": "code",
   "execution_count": null,
   "metadata": {
    "ExecuteTime": {
     "end_time": "2021-03-21T16:08:50.087209Z",
     "start_time": "2021-03-21T16:08:50.058610Z"
    }
   },
   "outputs": [],
   "source": [
    "# For fuckups\n",
    "\n",
    "connection = sqlite3.connect('MSC.db')\n",
    "cursor = connection.cursor()\n",
    "cursor.executescript(\"delete from top30 where moment == '20/03/2021  20:00:00'\")\n",
    "#z = pd.read_sql_query(sql,connection)"
   ]
  },
  {
   "cell_type": "code",
   "execution_count": null,
   "metadata": {
    "ExecuteTime": {
     "end_time": "2021-03-09T13:29:06.100081Z",
     "start_time": "2021-03-09T13:29:05.982220Z"
    }
   },
   "outputs": [],
   "source": [
    "df.to_sql('top30', connection, if_exists='append',index=False)"
   ]
  },
  {
   "cell_type": "code",
   "execution_count": 12,
   "metadata": {
    "ExecuteTime": {
     "end_time": "2021-03-27T11:21:41.333171Z",
     "start_time": "2021-03-27T11:21:41.326269Z"
    }
   },
   "outputs": [
    {
     "name": "stdout",
     "output_type": "stream",
     "text": [
      "2021-03-26 17:13:33\n"
     ]
    }
   ],
   "source": [
    "from datetime import datetime\n",
    "print(datetime.utcfromtimestamp(post.created_utc).strftime('%Y-%m-%d %H:%M:%S'))"
   ]
  },
  {
   "cell_type": "code",
   "execution_count": 13,
   "metadata": {
    "ExecuteTime": {
     "end_time": "2021-03-27T11:21:43.827454Z",
     "start_time": "2021-03-27T11:21:42.055744Z"
    }
   },
   "outputs": [
    {
     "ename": "AttributeError",
     "evalue": "type object 'datetime.datetime' has no attribute 'datetime'",
     "output_type": "error",
     "traceback": [
      "\u001b[0;31m---------------------------------------------------------------------------\u001b[0m",
      "\u001b[0;31mAttributeError\u001b[0m                            Traceback (most recent call last)",
      "\u001b[0;32m<ipython-input-13-dab47ff52e15>\u001b[0m in \u001b[0;36m<module>\u001b[0;34m\u001b[0m\n\u001b[0;32m----> 1\u001b[0;31m \u001b[0mprint\u001b[0m\u001b[0;34m(\u001b[0m\u001b[0mdatetime\u001b[0m\u001b[0;34m.\u001b[0m\u001b[0mdatetime\u001b[0m\u001b[0;34m.\u001b[0m\u001b[0mutcnow\u001b[0m\u001b[0;34m(\u001b[0m\u001b[0;34m)\u001b[0m\u001b[0;34m.\u001b[0m\u001b[0mstrftime\u001b[0m\u001b[0;34m(\u001b[0m\u001b[0;34m\"%s\"\u001b[0m\u001b[0;34m)\u001b[0m\u001b[0;34m)\u001b[0m\u001b[0;34m\u001b[0m\u001b[0;34m\u001b[0m\u001b[0m\n\u001b[0m",
      "\u001b[0;31mAttributeError\u001b[0m: type object 'datetime.datetime' has no attribute 'datetime'"
     ]
    }
   ],
   "source": [
    "print(datetime.datetime.utcnow().strftime(\"%s\"))"
   ]
  },
  {
   "cell_type": "code",
   "execution_count": null,
   "metadata": {
    "ExecuteTime": {
     "end_time": "2021-03-21T14:32:31.214445Z",
     "start_time": "2021-03-21T14:32:31.203324Z"
    }
   },
   "outputs": [],
   "source": [
    "a = '2021-03-19 18:03:35'"
   ]
  },
  {
   "cell_type": "code",
   "execution_count": null,
   "metadata": {
    "ExecuteTime": {
     "end_time": "2021-03-21T14:34:04.478806Z",
     "start_time": "2021-03-21T14:34:04.472906Z"
    }
   },
   "outputs": [],
   "source": [
    "b = '2021-03-20 20:00:00'"
   ]
  },
  {
   "cell_type": "markdown",
   "metadata": {
    "ExecuteTime": {
     "end_time": "2021-03-21T16:10:38.187176Z",
     "start_time": "2021-03-21T16:09:56.613492Z"
    }
   },
   "source": [
    "# For back engineering\n",
    "## Add for loop for 1-9 March\n",
    "\n",
    "top_posts = reddit.subreddit('worldnews').top(time_filter='week',limit=300)\n",
    "i = 1\n",
    "\n",
    "connection = sqlite3.connect('MSC.db')\n",
    "cursor = connection.cursor()\n",
    "sql = ('Select * from top30')\n",
    "z = pd.read_sql_query(sql,connection)\n",
    "atbilde =[]\n",
    "for post in top_posts:\n",
    "    \n",
    "    if str(eval(\"post.created_utc\")) > datetime.datetime.strptime(a, '%Y-%m-%d %H:%M:%S').strftime(\"%s\") and str(eval(\"post.created_utc\")) < datetime.datetime.strptime(b, '%Y-%m-%d %H:%M:%S').strftime(\"%s\") and i <31:\n",
    "        atbilde =[]\n",
    "        atbilde.append('20/03/2021  20:00:00')\n",
    "        atbilde.append(str(i))\n",
    "        for j in z.columns[2:]:\n",
    "            try:\n",
    "                atbilde.append(str(eval(\"post.\"+j)))\n",
    "            except:\n",
    "                atbilde.append(\"\")\n",
    "\n",
    "        for m in vars(post):\n",
    "            if m not in z.columns[2:]:\n",
    "                print(m)\n",
    "\n",
    "        connection = sqlite3.connect('MSC.db')\n",
    "        cursor = connection.cursor()\n",
    "        sql2 = (\"insert INTO top30('moment', 'daily_rank', 'comment_limit', 'comment_sort', '_reddit', 'approved_at_utc', 'subreddit', 'selftext', 'author_fullname', 'saved', 'mod_reason_title', 'gilded', 'clicked', 'title', 'link_flair_richtext', 'subreddit_name_prefixed', 'hidden', 'pwls', 'link_flair_css_class', 'downs', 'top_awarded_type', 'hide_score', 'name', 'quarantine', 'link_flair_text_color', 'upvote_ratio', 'author_flair_background_color', 'subreddit_type', 'ups', 'total_awards_received', 'media_embed', 'author_flair_template_id', 'is_original_content', 'user_reports', 'secure_media', 'is_reddit_media_domain', 'is_meta', 'category', 'secure_media_embed', 'link_flair_text', 'can_mod_post', 'score', 'approved_by', 'author_premium', 'thumbnail', 'edited', 'author_flair_css_class', 'author_flair_richtext', 'gildings', 'content_categories', 'is_self', 'mod_note', 'created', 'link_flair_type', 'wls', 'removed_by_category', 'banned_by', 'author_flair_type', 'domain', 'allow_live_comments', 'selftext_html', 'likes', 'suggested_sort', 'banned_at_utc', 'url_overridden_by_dest', 'view_count', 'archived', 'no_follow', 'is_crosspostable', 'pinned', 'over_18', 'all_awardings', 'awarders', 'media_only', 'can_gild', 'spoiler', 'locked', 'author_flair_text', 'treatment_tags', 'visited', 'removed_by', 'num_reports', 'distinguished', 'subreddit_id', 'mod_reason_by', 'removal_reason', 'link_flair_background_color', 'id', 'is_robot_indexable', 'report_reasons', 'author', 'discussion_type', 'num_comments', 'send_replies', 'whitelist_status', 'contest_mode', 'mod_reports', 'author_patreon_flair', 'author_flair_text_color', 'permalink', 'parent_whitelist_status', 'stickied', 'url', 'subreddit_subscribers', 'created_utc', 'num_crossposts', 'media', 'is_video', '_fetched', '_comments_by_id', 'author_cakeday', 'flair', 'link_flair_template_id', 'num_duplicates', 'post_hint', 'preview', 'thumbnail_height', 'thumbnail_width','_comments') VALUES (?,?,?,?,?,?,?,?,?,?,?,?,?,?,?,?,?,?,?,?,?,?,?,?,?,?,?,?,?,?,?,?,?,?,?,?,?,?,?,?,?,?,?,?,?,?,?,?,?,?,?,?,?,?,?,?,?,?,?,?,?,?,?,?,?,?,?,?,?,?,?,?,?,?,?,?,?,?,?,?,?,?,?,?,?,?,?,?,?,?,?,?,?,?,?,?,?,?,?,?,?,?,?,?,?,?,?,?,?,?,?,?,?,?,?,?,?,?,?)\")\n",
    "        cursor.execute(sql2, atbilde)          \n",
    "        connection.commit()\n",
    "        connection.close()\n",
    "\n",
    "        i +=1"
   ]
  },
  {
   "cell_type": "code",
   "execution_count": 80,
   "metadata": {
    "ExecuteTime": {
     "end_time": "2021-03-27T19:01:56.760493Z",
     "start_time": "2021-03-27T19:01:56.675464Z"
    }
   },
   "outputs": [],
   "source": [
    "connection = sqlite3.connect('MSC.db')\n",
    "cursor = connection.cursor()\n",
    "\n",
    "sql = (\"Select* from top30 where moment < '2021-03-19 18:03:35' \")\n",
    "z = pd.read_sql_query(sql,connection)"
   ]
  },
  {
   "cell_type": "code",
   "execution_count": 83,
   "metadata": {
    "ExecuteTime": {
     "end_time": "2021-03-27T19:02:23.785940Z",
     "start_time": "2021-03-27T19:02:23.771514Z"
    }
   },
   "outputs": [
    {
     "data": {
      "text/plain": [
       "Thousands rally at Australia's parliament to demand justice for sexual assault victims                                           2\n",
       "Russia and Iran tried to interfere with 2020 election, U.S. intelligence agencies say                                            2\n",
       "Poland to ban gays from adopting, even as single parents                                                                         2\n",
       "Pfizer/BioNTech COVID-19 vaccine neutralizes Brazil variant in lab study                                                         2\n",
       "Man who rammed the gates of Rideau Hall, and entered the grounds in an attempt to \"arrest\" Mr Trudeau gets six years in jail.    1\n",
       "                                                                                                                                ..\n",
       "Netanyahu turns to extremist party that calls for expelling Arabs from Israel                                                    1\n",
       "Mexico Passes Bill to Legalize Cannabis                                                                                          1\n",
       "Half of UK adults have gotten one dose of COVID-19 vaccine                                                                       1\n",
       "US deploys Green Berets to defeat ISIS-linked insurgents accused of beheading children on a new front in south Africa            1\n",
       "Australian Government Adds a Dozen Animals to Extinct List                                                                       1\n",
       "Name: title, Length: 326, dtype: int64"
      ]
     },
     "execution_count": 83,
     "metadata": {},
     "output_type": "execute_result"
    }
   ],
   "source": [
    "z.title.value_counts()"
   ]
  },
  {
   "cell_type": "markdown",
   "metadata": {
    "ExecuteTime": {
     "end_time": "2021-03-27T18:45:54.315842Z",
     "start_time": "2021-03-27T18:45:54.123015Z"
    }
   },
   "source": [
    "https://pynative.com/python-sqlite-update-table/"
   ]
  },
  {
   "cell_type": "code",
   "execution_count": 85,
   "metadata": {
    "ExecuteTime": {
     "end_time": "2021-03-27T19:03:09.611175Z",
     "start_time": "2021-03-27T19:03:09.394540Z"
    }
   },
   "outputs": [],
   "source": [
    "z[z.title == \"Thousands rally at Australia's parliament to demand justice for sexual assault victims\"].to_excel('findingtnemo.xlsx')"
   ]
  },
  {
   "cell_type": "code",
   "execution_count": 58,
   "metadata": {
    "ExecuteTime": {
     "end_time": "2021-03-27T18:54:53.730682Z",
     "start_time": "2021-03-27T18:54:53.721735Z"
    },
    "hide_input": false
   },
   "outputs": [
    {
     "data": {
      "text/plain": [
       "'!\"#$%&\\'()*+,-./:;<=>?@[\\\\]^_`{|}~'"
      ]
     },
     "execution_count": 58,
     "metadata": {},
     "output_type": "execute_result"
    }
   ],
   "source": [
    "import string\n",
    "string.punctuation"
   ]
  },
  {
   "cell_type": "code",
   "execution_count": 15,
   "metadata": {
    "ExecuteTime": {
     "end_time": "2021-03-28T16:35:44.458165Z",
     "start_time": "2021-03-28T16:35:44.320686Z"
    }
   },
   "outputs": [
    {
     "data": {
      "text/html": [
       "<div>\n",
       "<style scoped>\n",
       "    .dataframe tbody tr th:only-of-type {\n",
       "        vertical-align: middle;\n",
       "    }\n",
       "\n",
       "    .dataframe tbody tr th {\n",
       "        vertical-align: top;\n",
       "    }\n",
       "\n",
       "    .dataframe thead th {\n",
       "        text-align: right;\n",
       "    }\n",
       "</style>\n",
       "<table border=\"1\" class=\"dataframe\">\n",
       "  <thead>\n",
       "    <tr style=\"text-align: right;\">\n",
       "      <th></th>\n",
       "      <th>cunt</th>\n",
       "      <th>moment</th>\n",
       "      <th>daily_rank</th>\n",
       "      <th>comment_limit</th>\n",
       "      <th>comment_sort</th>\n",
       "      <th>_reddit</th>\n",
       "      <th>approved_at_utc</th>\n",
       "      <th>subreddit</th>\n",
       "      <th>selftext</th>\n",
       "      <th>author_fullname</th>\n",
       "      <th>...</th>\n",
       "      <th>_comments_by_id</th>\n",
       "      <th>_comments</th>\n",
       "      <th>author_cakeday</th>\n",
       "      <th>flair</th>\n",
       "      <th>link_flair_template_id</th>\n",
       "      <th>num_duplicates</th>\n",
       "      <th>post_hint</th>\n",
       "      <th>preview</th>\n",
       "      <th>thumbnail_height</th>\n",
       "      <th>thumbnail_width</th>\n",
       "    </tr>\n",
       "  </thead>\n",
       "  <tbody>\n",
       "    <tr>\n",
       "      <th>0</th>\n",
       "      <td>1</td>\n",
       "      <td>2021-03-10 20:29:51.616452</td>\n",
       "      <td>21</td>\n",
       "      <td>2048</td>\n",
       "      <td>confidence</td>\n",
       "      <td>&lt;praw.reddit.Reddit object at 0x7fee19037b90&gt;</td>\n",
       "      <td>None</td>\n",
       "      <td>worldnews</td>\n",
       "      <td></td>\n",
       "      <td>t2_8iffcmpj</td>\n",
       "      <td>...</td>\n",
       "      <td>{}</td>\n",
       "      <td>140</td>\n",
       "      <td></td>\n",
       "      <td></td>\n",
       "      <td>&lt;praw.models.reddit.submission.SubmissionFlair...</td>\n",
       "      <td></td>\n",
       "      <td>8</td>\n",
       "      <td>link</td>\n",
       "      <td>{'images': [{'source': {'url': 'https://extern...</td>\n",
       "      <td>73</td>\n",
       "    </tr>\n",
       "    <tr>\n",
       "      <th>1</th>\n",
       "      <td>1</td>\n",
       "      <td>2021-03-13 20:50:38.421046</td>\n",
       "      <td>9</td>\n",
       "      <td>2048</td>\n",
       "      <td>confidence</td>\n",
       "      <td>&lt;praw.reddit.Reddit object at 0x7fcbd2d6fad0&gt;</td>\n",
       "      <td>None</td>\n",
       "      <td>worldnews</td>\n",
       "      <td></td>\n",
       "      <td>t2_7fynvpg0</td>\n",
       "      <td>...</td>\n",
       "      <td>{}</td>\n",
       "      <td>140</td>\n",
       "      <td></td>\n",
       "      <td></td>\n",
       "      <td>&lt;praw.models.reddit.submission.SubmissionFlair...</td>\n",
       "      <td></td>\n",
       "      <td>9</td>\n",
       "      <td>link</td>\n",
       "      <td>{'images': [{'source': {'url': 'https://extern...</td>\n",
       "      <td>73</td>\n",
       "    </tr>\n",
       "    <tr>\n",
       "      <th>2</th>\n",
       "      <td>1</td>\n",
       "      <td>20/03/2021 20:00:00.554220</td>\n",
       "      <td>10</td>\n",
       "      <td>2048</td>\n",
       "      <td>confidence</td>\n",
       "      <td>&lt;praw.reddit.Reddit object at 0x7f9df13eb350&gt;</td>\n",
       "      <td>None</td>\n",
       "      <td>worldnews</td>\n",
       "      <td></td>\n",
       "      <td>t2_hpo2f</td>\n",
       "      <td>...</td>\n",
       "      <td>{}</td>\n",
       "      <td>140</td>\n",
       "      <td></td>\n",
       "      <td></td>\n",
       "      <td>&lt;praw.models.reddit.submission.SubmissionFlair...</td>\n",
       "      <td></td>\n",
       "      <td>7</td>\n",
       "      <td>link</td>\n",
       "      <td>{'images': [{'source': {'url': 'https://extern...</td>\n",
       "      <td>78</td>\n",
       "    </tr>\n",
       "    <tr>\n",
       "      <th>3</th>\n",
       "      <td>1</td>\n",
       "      <td>2021-03-10 20:29:43.336869</td>\n",
       "      <td>9</td>\n",
       "      <td>2048</td>\n",
       "      <td>confidence</td>\n",
       "      <td>&lt;praw.reddit.Reddit object at 0x7fee19037b90&gt;</td>\n",
       "      <td>None</td>\n",
       "      <td>worldnews</td>\n",
       "      <td></td>\n",
       "      <td>t2_as9fz18e</td>\n",
       "      <td>...</td>\n",
       "      <td>{}</td>\n",
       "      <td>140</td>\n",
       "      <td></td>\n",
       "      <td></td>\n",
       "      <td>&lt;praw.models.reddit.submission.SubmissionFlair...</td>\n",
       "      <td></td>\n",
       "      <td>5</td>\n",
       "      <td>link</td>\n",
       "      <td>{'images': [{'source': {'url': 'https://extern...</td>\n",
       "      <td>78</td>\n",
       "    </tr>\n",
       "    <tr>\n",
       "      <th>4</th>\n",
       "      <td>1</td>\n",
       "      <td>2021-03-09 20:07:06.347798</td>\n",
       "      <td>24</td>\n",
       "      <td>2048</td>\n",
       "      <td>confidence</td>\n",
       "      <td>&lt;praw.reddit.Reddit object at 0x7fce86cedb10&gt;</td>\n",
       "      <td>None</td>\n",
       "      <td>worldnews</td>\n",
       "      <td></td>\n",
       "      <td>t2_ijvzn</td>\n",
       "      <td>...</td>\n",
       "      <td>{}</td>\n",
       "      <td>140</td>\n",
       "      <td></td>\n",
       "      <td></td>\n",
       "      <td>&lt;praw.models.reddit.submission.SubmissionFlair...</td>\n",
       "      <td></td>\n",
       "      <td>0</td>\n",
       "      <td>link</td>\n",
       "      <td>{'images': [{'source': {'url': 'https://extern...</td>\n",
       "      <td>78</td>\n",
       "    </tr>\n",
       "    <tr>\n",
       "      <th>...</th>\n",
       "      <td>...</td>\n",
       "      <td>...</td>\n",
       "      <td>...</td>\n",
       "      <td>...</td>\n",
       "      <td>...</td>\n",
       "      <td>...</td>\n",
       "      <td>...</td>\n",
       "      <td>...</td>\n",
       "      <td>...</td>\n",
       "      <td>...</td>\n",
       "      <td>...</td>\n",
       "      <td>...</td>\n",
       "      <td>...</td>\n",
       "      <td>...</td>\n",
       "      <td>...</td>\n",
       "      <td>...</td>\n",
       "      <td>...</td>\n",
       "      <td>...</td>\n",
       "      <td>...</td>\n",
       "      <td>...</td>\n",
       "      <td>...</td>\n",
       "    </tr>\n",
       "    <tr>\n",
       "      <th>325</th>\n",
       "      <td>1</td>\n",
       "      <td>2021-03-16 21:19:09.886681</td>\n",
       "      <td>27</td>\n",
       "      <td>2048</td>\n",
       "      <td>confidence</td>\n",
       "      <td>&lt;praw.reddit.Reddit object at 0x7f91554efb10&gt;</td>\n",
       "      <td>None</td>\n",
       "      <td>worldnews</td>\n",
       "      <td></td>\n",
       "      <td>t2_9gahrr9x</td>\n",
       "      <td>...</td>\n",
       "      <td>{}</td>\n",
       "      <td>140</td>\n",
       "      <td></td>\n",
       "      <td></td>\n",
       "      <td>&lt;praw.models.reddit.submission.SubmissionFlair...</td>\n",
       "      <td></td>\n",
       "      <td>0</td>\n",
       "      <td>link</td>\n",
       "      <td>{'images': [{'source': {'url': 'https://extern...</td>\n",
       "      <td>78</td>\n",
       "    </tr>\n",
       "    <tr>\n",
       "      <th>326</th>\n",
       "      <td>1</td>\n",
       "      <td>2021-03-11 22:00:17.123898</td>\n",
       "      <td>17</td>\n",
       "      <td>2048</td>\n",
       "      <td>confidence</td>\n",
       "      <td>&lt;praw.reddit.Reddit object at 0x7fdab056eb10&gt;</td>\n",
       "      <td>None</td>\n",
       "      <td>worldnews</td>\n",
       "      <td></td>\n",
       "      <td>t2_10a20y</td>\n",
       "      <td>...</td>\n",
       "      <td>{}</td>\n",
       "      <td>140</td>\n",
       "      <td></td>\n",
       "      <td></td>\n",
       "      <td>&lt;praw.models.reddit.submission.SubmissionFlair...</td>\n",
       "      <td></td>\n",
       "      <td>2</td>\n",
       "      <td>link</td>\n",
       "      <td>{'images': [{'source': {'url': 'https://extern...</td>\n",
       "      <td>93</td>\n",
       "    </tr>\n",
       "    <tr>\n",
       "      <th>327</th>\n",
       "      <td>1</td>\n",
       "      <td>2021-03-10 20:29:44.080657</td>\n",
       "      <td>10</td>\n",
       "      <td>2048</td>\n",
       "      <td>confidence</td>\n",
       "      <td>&lt;praw.reddit.Reddit object at 0x7fee19037b90&gt;</td>\n",
       "      <td>None</td>\n",
       "      <td>worldnews</td>\n",
       "      <td></td>\n",
       "      <td>t2_ko28z</td>\n",
       "      <td>...</td>\n",
       "      <td>{}</td>\n",
       "      <td>140</td>\n",
       "      <td></td>\n",
       "      <td></td>\n",
       "      <td>&lt;praw.models.reddit.submission.SubmissionFlair...</td>\n",
       "      <td></td>\n",
       "      <td>4</td>\n",
       "      <td>link</td>\n",
       "      <td>{'images': [{'source': {'url': 'https://extern...</td>\n",
       "      <td>73</td>\n",
       "    </tr>\n",
       "    <tr>\n",
       "      <th>328</th>\n",
       "      <td>1</td>\n",
       "      <td>20/03/2021 20:00:00.554220</td>\n",
       "      <td>12</td>\n",
       "      <td>2048</td>\n",
       "      <td>confidence</td>\n",
       "      <td>&lt;praw.reddit.Reddit object at 0x7f9df13eb350&gt;</td>\n",
       "      <td>None</td>\n",
       "      <td>worldnews</td>\n",
       "      <td></td>\n",
       "      <td>t2_1rrfa628</td>\n",
       "      <td>...</td>\n",
       "      <td>{}</td>\n",
       "      <td>140</td>\n",
       "      <td></td>\n",
       "      <td></td>\n",
       "      <td>&lt;praw.models.reddit.submission.SubmissionFlair...</td>\n",
       "      <td></td>\n",
       "      <td>2</td>\n",
       "      <td>link</td>\n",
       "      <td>{'images': [{'source': {'url': 'https://extern...</td>\n",
       "      <td>104</td>\n",
       "    </tr>\n",
       "    <tr>\n",
       "      <th>329</th>\n",
       "      <td>1</td>\n",
       "      <td>2021-03-10 20:29:48.383179</td>\n",
       "      <td>15</td>\n",
       "      <td>2048</td>\n",
       "      <td>confidence</td>\n",
       "      <td>&lt;praw.reddit.Reddit object at 0x7fee19037b90&gt;</td>\n",
       "      <td>None</td>\n",
       "      <td>worldnews</td>\n",
       "      <td></td>\n",
       "      <td>t2_15vcffe6</td>\n",
       "      <td>...</td>\n",
       "      <td>{}</td>\n",
       "      <td>140</td>\n",
       "      <td></td>\n",
       "      <td></td>\n",
       "      <td>&lt;praw.models.reddit.submission.SubmissionFlair...</td>\n",
       "      <td></td>\n",
       "      <td>1</td>\n",
       "      <td>link</td>\n",
       "      <td>{'images': [{'source': {'url': 'https://extern...</td>\n",
       "      <td>88</td>\n",
       "    </tr>\n",
       "  </tbody>\n",
       "</table>\n",
       "<p>330 rows × 120 columns</p>\n",
       "</div>"
      ],
      "text/plain": [
       "     cunt                      moment  daily_rank  comment_limit comment_sort  \\\n",
       "0       1  2021-03-10 20:29:51.616452          21           2048   confidence   \n",
       "1       1  2021-03-13 20:50:38.421046           9           2048   confidence   \n",
       "2       1  20/03/2021 20:00:00.554220          10           2048   confidence   \n",
       "3       1  2021-03-10 20:29:43.336869           9           2048   confidence   \n",
       "4       1  2021-03-09 20:07:06.347798          24           2048   confidence   \n",
       "..    ...                         ...         ...            ...          ...   \n",
       "325     1  2021-03-16 21:19:09.886681          27           2048   confidence   \n",
       "326     1  2021-03-11 22:00:17.123898          17           2048   confidence   \n",
       "327     1  2021-03-10 20:29:44.080657          10           2048   confidence   \n",
       "328     1  20/03/2021 20:00:00.554220          12           2048   confidence   \n",
       "329     1  2021-03-10 20:29:48.383179          15           2048   confidence   \n",
       "\n",
       "                                           _reddit approved_at_utc  subreddit  \\\n",
       "0    <praw.reddit.Reddit object at 0x7fee19037b90>            None  worldnews   \n",
       "1    <praw.reddit.Reddit object at 0x7fcbd2d6fad0>            None  worldnews   \n",
       "2    <praw.reddit.Reddit object at 0x7f9df13eb350>            None  worldnews   \n",
       "3    <praw.reddit.Reddit object at 0x7fee19037b90>            None  worldnews   \n",
       "4    <praw.reddit.Reddit object at 0x7fce86cedb10>            None  worldnews   \n",
       "..                                             ...             ...        ...   \n",
       "325  <praw.reddit.Reddit object at 0x7f91554efb10>            None  worldnews   \n",
       "326  <praw.reddit.Reddit object at 0x7fdab056eb10>            None  worldnews   \n",
       "327  <praw.reddit.Reddit object at 0x7fee19037b90>            None  worldnews   \n",
       "328  <praw.reddit.Reddit object at 0x7f9df13eb350>            None  worldnews   \n",
       "329  <praw.reddit.Reddit object at 0x7fee19037b90>            None  worldnews   \n",
       "\n",
       "    selftext author_fullname  ... _comments_by_id _comments  author_cakeday  \\\n",
       "0                t2_8iffcmpj  ...              {}       140                   \n",
       "1                t2_7fynvpg0  ...              {}       140                   \n",
       "2                   t2_hpo2f  ...              {}       140                   \n",
       "3                t2_as9fz18e  ...              {}       140                   \n",
       "4                   t2_ijvzn  ...              {}       140                   \n",
       "..       ...             ...  ...             ...       ...             ...   \n",
       "325              t2_9gahrr9x  ...              {}       140                   \n",
       "326                t2_10a20y  ...              {}       140                   \n",
       "327                 t2_ko28z  ...              {}       140                   \n",
       "328              t2_1rrfa628  ...              {}       140                   \n",
       "329              t2_15vcffe6  ...              {}       140                   \n",
       "\n",
       "    flair                             link_flair_template_id num_duplicates  \\\n",
       "0          <praw.models.reddit.submission.SubmissionFlair...                  \n",
       "1          <praw.models.reddit.submission.SubmissionFlair...                  \n",
       "2          <praw.models.reddit.submission.SubmissionFlair...                  \n",
       "3          <praw.models.reddit.submission.SubmissionFlair...                  \n",
       "4          <praw.models.reddit.submission.SubmissionFlair...                  \n",
       "..    ...                                                ...            ...   \n",
       "325        <praw.models.reddit.submission.SubmissionFlair...                  \n",
       "326        <praw.models.reddit.submission.SubmissionFlair...                  \n",
       "327        <praw.models.reddit.submission.SubmissionFlair...                  \n",
       "328        <praw.models.reddit.submission.SubmissionFlair...                  \n",
       "329        <praw.models.reddit.submission.SubmissionFlair...                  \n",
       "\n",
       "    post_hint preview                                   thumbnail_height  \\\n",
       "0           8    link  {'images': [{'source': {'url': 'https://extern...   \n",
       "1           9    link  {'images': [{'source': {'url': 'https://extern...   \n",
       "2           7    link  {'images': [{'source': {'url': 'https://extern...   \n",
       "3           5    link  {'images': [{'source': {'url': 'https://extern...   \n",
       "4           0    link  {'images': [{'source': {'url': 'https://extern...   \n",
       "..        ...     ...                                                ...   \n",
       "325         0    link  {'images': [{'source': {'url': 'https://extern...   \n",
       "326         2    link  {'images': [{'source': {'url': 'https://extern...   \n",
       "327         4    link  {'images': [{'source': {'url': 'https://extern...   \n",
       "328         2    link  {'images': [{'source': {'url': 'https://extern...   \n",
       "329         1    link  {'images': [{'source': {'url': 'https://extern...   \n",
       "\n",
       "    thumbnail_width  \n",
       "0                73  \n",
       "1                73  \n",
       "2                78  \n",
       "3                78  \n",
       "4                78  \n",
       "..              ...  \n",
       "325              78  \n",
       "326              93  \n",
       "327              73  \n",
       "328             104  \n",
       "329              88  \n",
       "\n",
       "[330 rows x 120 columns]"
      ]
     },
     "execution_count": 15,
     "metadata": {},
     "output_type": "execute_result"
    }
   ],
   "source": [
    "connection = sqlite3.connect('MSC.db')\n",
    "cursor = connection.cursor()\n",
    "\n",
    "sql = (\"Select count(*) over (partition by title) as 'cunt',* from top30 where moment < '2021-03-19 18:03:35'  \")\n",
    "z = pd.read_sql_query(sql,connection)\n",
    "z"
   ]
  },
  {
   "cell_type": "code",
   "execution_count": 19,
   "metadata": {
    "ExecuteTime": {
     "end_time": "2021-03-28T16:36:27.647596Z",
     "start_time": "2021-03-28T16:36:27.370193Z"
    }
   },
   "outputs": [
    {
     "data": {
      "text/plain": [
       "<AxesSubplot:>"
      ]
     },
     "execution_count": 19,
     "metadata": {},
     "output_type": "execute_result"
    },
    {
     "data": {
      "image/png": "[encoded data removed]",
      "text/plain": [
       "<Figure size 432x288 with 1 Axes>"
      ]
     },
     "metadata": {
      "needs_background": "light"
     },
     "output_type": "display_data"
    }
   ],
   "source": [
    "z.cunt.hist(bins = max(z.cunt))"
   ]
  },
  {
   "cell_type": "code",
   "execution_count": 17,
   "metadata": {
    "ExecuteTime": {
     "end_time": "2021-03-28T16:36:11.823441Z",
     "start_time": "2021-03-28T16:36:11.755263Z"
    }
   },
   "outputs": [],
   "source": [
    "%matplotlib inline"
   ]
  },
  {
   "cell_type": "code",
   "execution_count": 21,
   "metadata": {
    "ExecuteTime": {
     "end_time": "2021-03-28T16:37:01.098015Z",
     "start_time": "2021-03-28T16:37:01.091206Z"
    }
   },
   "outputs": [],
   "source": [
    "s = z[z.cunt == 2]"
   ]
  },
  {
   "cell_type": "code",
   "execution_count": 23,
   "metadata": {
    "ExecuteTime": {
     "end_time": "2021-03-28T16:37:29.210371Z",
     "start_time": "2021-03-28T16:37:27.967921Z"
    }
   },
   "outputs": [],
   "source": [
    "s.to_excel('findingnemo.xlsx')"
   ]
  },
  {
   "cell_type": "code",
   "execution_count": null,
   "metadata": {},
   "outputs": [],
   "source": []
  }
 ],
 "metadata": {
  "kernelspec": {
   "display_name": "Python 3",
   "language": "python",
   "name": "python3"
  },
  "language_info": {
   "codemirror_mode": {
    "name": "ipython",
    "version": 3
   },
   "file_extension": ".py",
   "mimetype": "text/x-python",
   "name": "python",
   "nbconvert_exporter": "python",
   "pygments_lexer": "ipython3",
   "version": "3.7.4"
  },
  "toc": {
   "base_numbering": 1,
   "nav_menu": {},
   "number_sections": true,
   "sideBar": true,
   "skip_h1_title": false,
   "title_cell": "Table of Contents",
   "title_sidebar": "Contents",
   "toc_cell": false,
   "toc_position": {},
   "toc_section_display": true,
   "toc_window_display": false
  }
 },
 "nbformat": 4,
 "nbformat_minor": 4
}
