{
 "cells": [
  {
   "cell_type": "code",
   "execution_count": 2,
   "metadata": {
    "ExecuteTime": {
     "end_time": "2021-06-05T09:55:48.418237Z",
     "start_time": "2021-06-05T09:55:29.279654Z"
    }
   },
   "outputs": [
    {
     "data": {
      "text/plain": [
       "'en_US.UTF-8'"
      ]
     },
     "execution_count": 2,
     "metadata": {},
     "output_type": "execute_result"
    }
   ],
   "source": [
    "import pandas as pd\n",
    "import sqlite3\n",
    "import locale\n",
    "locale.setlocale(locale.LC_ALL, 'en_US.UTF-8')"
   ]
  },
  {
   "cell_type": "markdown",
   "metadata": {
    "heading_collapsed": true
   },
   "source": [
    "# Reddit news"
   ]
  },
  {
   "cell_type": "code",
   "execution_count": null,
   "metadata": {
    "ExecuteTime": {
     "end_time": "2021-05-10T08:01:45.217910Z",
     "start_time": "2021-05-10T08:01:45.209306Z"
    },
    "hidden": true
   },
   "outputs": [],
   "source": [
    "import string\n",
    "string.punctuation"
   ]
  },
  {
   "cell_type": "code",
   "execution_count": null,
   "metadata": {
    "ExecuteTime": {
     "end_time": "2021-05-09T08:43:02.260096Z",
     "start_time": "2021-05-09T08:43:02.252874Z"
    },
    "hidden": true
   },
   "outputs": [],
   "source": [
    "kolonas = ['date']+['top'+str(i) for i in range(1,31)]\n",
    "print(kolonas)"
   ]
  },
  {
   "cell_type": "code",
   "execution_count": null,
   "metadata": {
    "ExecuteTime": {
     "end_time": "2021-05-07T11:00:18.813978Z",
     "start_time": "2021-05-07T11:00:18.805593Z"
    },
    "hidden": true
   },
   "outputs": [],
   "source": [
    "df = pd.DataFrame(columns = kolonas)"
   ]
  },
  {
   "cell_type": "code",
   "execution_count": null,
   "metadata": {
    "ExecuteTime": {
     "end_time": "2021-05-09T08:58:23.071091Z",
     "start_time": "2021-05-09T08:58:23.064557Z"
    },
    "hidden": true
   },
   "outputs": [],
   "source": [
    "connection = sqlite3.connect('MSC.db')\n",
    "cursor = connection.cursor()"
   ]
  },
  {
   "cell_type": "code",
   "execution_count": null,
   "metadata": {
    "ExecuteTime": {
     "end_time": "2021-05-07T08:02:17.784572Z",
     "start_time": "2021-05-07T08:02:15.742548Z"
    },
    "hidden": true
   },
   "outputs": [],
   "source": [
    "sql = (\"Select date(moment) as date, title from top30 where date = '2021-05-05'\")\n",
    "z = pd.read_sql_query(sql,connection)"
   ]
  },
  {
   "cell_type": "code",
   "execution_count": null,
   "metadata": {
    "ExecuteTime": {
     "end_time": "2021-05-07T08:02:29.929123Z",
     "start_time": "2021-05-07T08:02:29.336372Z"
    },
    "hidden": true
   },
   "outputs": [],
   "source": [
    "for d in z.date.unique():\n",
    "    atbilde =[]\n",
    "    atbilde.append(d)\n",
    "    #print(atbilde)\n",
    "    for title in z.title[z.date == d]:\n",
    "        atbilde.append(title)\n",
    "        \n",
    "    df.loc[len(df)] = atbilde"
   ]
  },
  {
   "cell_type": "code",
   "execution_count": null,
   "metadata": {
    "ExecuteTime": {
     "end_time": "2021-05-07T08:07:10.091859Z",
     "start_time": "2021-05-07T08:07:09.700192Z"
    },
    "hidden": true
   },
   "outputs": [],
   "source": [
    "df.to_sql('main', connection, if_exists='append',index=False)"
   ]
  },
  {
   "cell_type": "code",
   "execution_count": null,
   "metadata": {
    "ExecuteTime": {
     "end_time": "2021-05-07T11:00:24.792128Z",
     "start_time": "2021-05-07T11:00:24.773207Z"
    },
    "hidden": true
   },
   "outputs": [],
   "source": [
    "atbilde = []\n",
    "atbilde.append(z.date[0])\n",
    "#print(atbilde)\n",
    "\n",
    "for title in z.title:\n",
    "    atbilde.append(title)\n",
    "        \n",
    "print(atbilde)\n",
    "df.loc[len(df)] = atbilde"
   ]
  },
  {
   "cell_type": "markdown",
   "metadata": {
    "ExecuteTime": {
     "end_time": "2021-05-04T14:08:12.465116Z",
     "start_time": "2021-05-04T14:08:12.349472Z"
    },
    "heading_collapsed": true
   },
   "source": [
    "# delete"
   ]
  },
  {
   "cell_type": "markdown",
   "metadata": {
    "ExecuteTime": {
     "end_time": "2021-05-30T09:36:18.119924Z",
     "start_time": "2021-05-30T09:36:18.103160Z"
    },
    "hidden": true
   },
   "source": [
    "connection = sqlite3.connect('MSC.db')\n",
    "cursor = connection.cursor()\n",
    "sql = (\"DELETE from main where date = '2021-05-27'\")\n",
    "cursor.execute(sql)\n",
    "connection.commit()"
   ]
  },
  {
   "cell_type": "markdown",
   "metadata": {
    "ExecuteTime": {
     "end_time": "2021-05-04T14:27:17.429930Z",
     "start_time": "2021-05-04T14:27:17.426349Z"
    }
   },
   "source": [
    "# Yahoo finance"
   ]
  },
  {
   "cell_type": "code",
   "execution_count": null,
   "metadata": {
    "ExecuteTime": {
     "end_time": "2021-05-20T07:52:22.469026Z",
     "start_time": "2021-05-20T07:52:20.492348Z"
    }
   },
   "outputs": [],
   "source": [
    "from bs4 import BeautifulSoup\n",
    "import requests\n",
    "import re"
   ]
  },
  {
   "cell_type": "code",
   "execution_count": null,
   "metadata": {
    "ExecuteTime": {
     "end_time": "2021-05-07T14:13:08.973697Z",
     "start_time": "2021-05-07T14:13:08.947541Z"
    }
   },
   "outputs": [],
   "source": [
    "df = pd.DataFrame(columns = ['date','SP500_Open', 'SP500_High', 'SP500_Low', 'SP500_Close', 'SP500_Adj_Close', 'SP500_Volume'])\n",
    "df"
   ]
  },
  {
   "cell_type": "code",
   "execution_count": null,
   "metadata": {
    "ExecuteTime": {
     "end_time": "2021-05-07T14:13:10.535669Z",
     "start_time": "2021-05-07T14:13:10.526983Z"
    }
   },
   "outputs": [],
   "source": [
    "str([str('SP500_')+i for i in df.columns])"
   ]
  },
  {
   "cell_type": "markdown",
   "metadata": {
    "heading_collapsed": true
   },
   "source": [
    "## S&P 500 (^GSPC)\n",
    "SNP - SNP Real Time Price. Currency in USD"
   ]
  },
  {
   "cell_type": "code",
   "execution_count": null,
   "metadata": {
    "ExecuteTime": {
     "end_time": "2021-05-10T07:57:06.014024Z",
     "start_time": "2021-05-10T07:57:05.990210Z"
    },
    "hidden": true
   },
   "outputs": [],
   "source": [
    "url = \"https://finance.yahoo.com/quote/%5EGSPC/history?p=%5EGSPC\""
   ]
  },
  {
   "cell_type": "code",
   "execution_count": null,
   "metadata": {
    "ExecuteTime": {
     "end_time": "2021-05-10T07:57:09.709482Z",
     "start_time": "2021-05-10T07:57:08.810741Z"
    },
    "hidden": true
   },
   "outputs": [],
   "source": [
    "r = requests.get(url)\n",
    "data = r.text\n",
    "soup = BeautifulSoup(data)"
   ]
  },
  {
   "cell_type": "code",
   "execution_count": null,
   "metadata": {
    "ExecuteTime": {
     "end_time": "2021-05-10T07:57:14.653762Z",
     "start_time": "2021-05-10T07:57:14.638684Z"
    },
    "hidden": true
   },
   "outputs": [],
   "source": [
    "answer = []\n",
    "for i in soup.find_all('td')[0:7]:\n",
    "    #print(i.span)\n",
    "    print(i.span.text)\n",
    "    answer.append(i.span.text)\n",
    "    #print(len(answer)    "
   ]
  },
  {
   "cell_type": "markdown",
   "metadata": {
    "ExecuteTime": {
     "end_time": "2021-05-07T14:13:17.725039Z",
     "start_time": "2021-05-07T14:13:17.182645Z"
    },
    "hidden": true
   },
   "source": [
    "for i in range(0, int(len(answer))//7):\n",
    "    atbilde = []\n",
    "    #print(i)\n",
    "    for j in range (0,7):\n",
    "        if j == 0:\n",
    "            atbilde.append(pd.to_datetime(answer[i*7+j], infer_datetime_format=True))\n",
    "        else:\n",
    "            atbilde.append(answer[i*7+j])\n",
    "    df.loc[len(df)] = atbilde"
   ]
  },
  {
   "cell_type": "markdown",
   "metadata": {},
   "source": [
    "# Insert into main"
   ]
  },
  {
   "cell_type": "code",
   "execution_count": 4,
   "metadata": {
    "ExecuteTime": {
     "end_time": "2021-05-30T09:37:47.853651Z",
     "start_time": "2021-05-30T09:37:47.751757Z"
    }
   },
   "outputs": [
    {
     "name": "stdout",
     "output_type": "stream",
     "text": [
      "          date                                              title\n",
      "0   2021-05-29  Another candidate assassinated in Mexico ahead...\n",
      "1   2021-05-29  Germany says it committed genocide in Namibia ...\n",
      "2   2021-05-29  Photo of massive tree being hauled down Vancou...\n",
      "3   2021-05-29  Israel now holding 13 Palestinian journalists,...\n",
      "4   2021-05-29  Morocco joins growing list of African countrie...\n",
      "5   2021-05-29  Hard to believe Russia was not involved in Bel...\n",
      "6   2021-05-29  Photo of massive tree being hauled down Vancou...\n",
      "7   2021-05-29  Credit Suisse scandals prompt Switzerland to t...\n",
      "8   2021-05-29  FBI joins Poland, Lithuania in investigating f...\n",
      "9   2021-05-29  Number of smokers has reached all-time high of...\n",
      "10  2021-05-29  Belarusian businessman and opposition activist...\n",
      "11  2021-05-29  Swiss bank admits to laundering $36 million in...\n",
      "12  2021-05-29  Louvre museum will be headed by woman for firs...\n",
      "13  2021-05-29  US Secretary of State Antony Blinken warned Is...\n",
      "14  2021-05-29      US returns ancient stone carvings to Thailand\n",
      "15  2021-05-29  Following the rise in antisemitism that came a...\n",
      "16  2021-05-29  DRC bans export of cobalt, copper concentrate ...\n",
      "17  2021-05-29  Russia warns Disney against distributing short...\n",
      "18  2021-05-29  Police seize hundreds of monkeys being shipped...\n",
      "19  2021-05-29  Brazil aerial photos show miners’ devastation ...\n",
      "20  2021-05-29  Ryanair says Belarus refused pilot's request t...\n",
      "21  2021-05-29  Report: Bennett, Lapid reach agreement on form...\n",
      "22  2021-05-29  Microsoft says SolarWinds hackers have struck ...\n",
      "23  2021-05-29  Back from the brink: Iberian lynx population r...\n",
      "24  2021-05-29  Germany to invest around $10 billion in hydrog...\n",
      "25  2021-05-29  Joe Biden Believes China Hiding COVID-19 Origi...\n",
      "26  2021-05-29  Indian Variant 75% Of All New UK Covid Cases, ...\n",
      "27  2021-05-29  US 'rapidly' planning to evacuate Afghan inter...\n",
      "28  2021-05-29  Canadian RCMP continue to repress journalists ...\n",
      "29  2021-05-29  Blamed for virus spread, over 20 5G towers dam...\n",
      "Appended to MAIN\n"
     ]
    }
   ],
   "source": [
    "connection = sqlite3.connect('MSC.db')\n",
    "cursor = connection.cursor()\n",
    "sql = (\"Select date(moment) as date, title from ER20210529\")\n",
    "z = pd.read_sql_query(sql,connection)\n",
    "print(z)\n",
    "\n",
    "\n",
    "atbilde = []\n",
    "columnnames = \"'date', 'top1', 'top2', 'top3', 'top4', 'top5', 'top6', 'top7', 'top8', 'top9', 'top10', 'top11', 'top12', 'top13', 'top14', 'top15', 'top16', 'top17', 'top18', 'top19', 'top20', 'top21', 'top22', 'top23', 'top24', 'top25', 'top26', 'top27', 'top28', 'top29', top30\"\n",
    "insertintotable = '?,?,?,?,?,?,?,?,?,?,?,?,?,?,?,?,?,?,?,?,?,?,?,?,?,?,?,?,?,?,?'\n",
    "atbilde = [z.date[0]] +[i for i in  z.title]\n",
    "\n",
    "connection = sqlite3.connect('MSC.db')\n",
    "cursor = connection.cursor()\n",
    "sql2 = f'cursor.execute(\"insert INTO  main ({columnnames}) VALUES ({insertintotable})\", {atbilde})'\n",
    "eval(sql2)\n",
    "connection.commit()\n",
    "connection.close()\n",
    "print(\"Appended to MAIN\")\n"
   ]
  },
  {
   "cell_type": "code",
   "execution_count": null,
   "metadata": {},
   "outputs": [],
   "source": []
  },
  {
   "cell_type": "code",
   "execution_count": null,
   "metadata": {
    "ExecuteTime": {
     "end_time": "2021-05-24T16:10:56.631867Z",
     "start_time": "2021-05-24T16:10:56.543867Z"
    }
   },
   "outputs": [],
   "source": [
    "connection = sqlite3.connect('MSC.db')\n",
    "cursor = connection.cursor()\n",
    "sql = (\"Select * from main\")\n",
    "z = pd.read_sql_query(sql,connection)\n",
    "z"
   ]
  },
  {
   "cell_type": "code",
   "execution_count": null,
   "metadata": {
    "ExecuteTime": {
     "end_time": "2021-05-10T08:39:50.188221Z",
     "start_time": "2021-05-10T08:39:50.170622Z"
    }
   },
   "outputs": [],
   "source": [
    "connection = sqlite3.connect('MSC.db')\n",
    "cursor = connection.cursor()\n",
    "sql = (\"Select * from DJI\")\n",
    "z = pd.read_sql_query(sql,connection).columns\n",
    "z"
   ]
  },
  {
   "cell_type": "code",
   "execution_count": null,
   "metadata": {
    "ExecuteTime": {
     "end_time": "2021-05-10T08:36:15.466945Z",
     "start_time": "2021-05-10T08:36:14.639935Z"
    }
   },
   "outputs": [],
   "source": [
    "connection = sqlite3.connect('MSC.db')\n",
    "cursor = connection.cursor()\n",
    "sql = (\"Select max(date) as date from SP500\")\n",
    "z = pd.read_sql_query(sql,connection)\n",
    "latest_date = z.date[0]\n",
    "\n",
    "##SP500\n",
    "url = \"https://finance.yahoo.com/quote/%5EGSPC/history?p=%5EGSPC\"\n",
    "r = requests.get(url)\n",
    "data = r.text\n",
    "soup = BeautifulSoup(data)\n",
    "\n",
    "answer = []\n",
    "if str(pd.to_datetime(soup.find_all('td')[0].text, infer_datetime_format=True)) == latest_date:\n",
    "    print('Stop. This data point is already in the data base')\n",
    "else:\n",
    "    print('Lets get scraping')\n",
    "    answer.append(str(pd.to_datetime(soup.find_all('td')[0].text, infer_datetime_format=True)))\n",
    "    answer = answer + [i.span.text for i in soup.find_all('td')[1:7]]\n",
    "    \n",
    "    columnnames = \"'Date', 'SP500_Open', 'SP500_High', 'SP500_Low', 'SP500_Close','SP500_Adj_Close', 'SP500_Volume'\"\n",
    "    insertintotable = '?,?,?,?,?,?,?'\n",
    "    \n",
    "    connection = sqlite3.connect('MSC/MSC.db')\n",
    "    cursor = connection.cursor()\n",
    "    sql2 = f'cursor.execute(\"insert INTO  SP500 ({columnnames}) VALUES ({insertintotable})\", {answer})'\n",
    "    eval(sql2)\n",
    "    connection.commit()\n",
    "    connection.close()\n",
    "    print(f\"{answer[0]} appended to SP500\")\n",
    "    \n",
    "    \n",
    "    ## DJI\n",
    "    url = \"https://finance.yahoo.com/quote/%5EDJI/history?p=%5EDJI\"\n",
    "    r = requests.get(url)\n",
    "    data = r.text\n",
    "    soup = BeautifulSoup(data)\n",
    "    \n",
    "    answer = []\n",
    "    answer.append(str(pd.to_datetime(soup.find_all('td')[0].text, infer_datetime_format=True)))\n",
    "    answer = answer + [i.span.text for i in soup.find_all('td')[1:7]]\n",
    "    \n",
    "    columnnames = \"'date', 'SP500_Open', 'SP500_High', 'SP500_Low', 'SP500_Close','SP500_Adj_Close', 'SP500_Volume'\"\n",
    "    insertintotable = '?,?,?,?,?,?,?'\n",
    "    \n",
    "    connection = sqlite3.connect('MSC/MSC.db')\n",
    "    cursor = connection.cursor()\n",
    "    sql2 = f'cursor.execute(\"insert INTO  SP500 ({columnnames}) VALUES ({insertintotable})\", {answer})'\n",
    "    eval(sql2)\n",
    "    connection.commit()\n",
    "    connection.close()\n",
    "    print(f\"{answer[0]} appended to DJI\")\n",
    "    \n",
    "    \n",
    "answer"
   ]
  },
  {
   "cell_type": "code",
   "execution_count": null,
   "metadata": {
    "ExecuteTime": {
     "end_time": "2021-05-07T14:13:22.084338Z",
     "start_time": "2021-05-07T14:13:22.071026Z"
    }
   },
   "outputs": [],
   "source": [
    "df.to_sql('SP500', connection, if_exists='append',index=False)"
   ]
  },
  {
   "cell_type": "markdown",
   "metadata": {},
   "source": [
    "## Dow Jones Industrial Average (^DJI)\n",
    "DJI - DJI Real Time Price. Currency in USD"
   ]
  },
  {
   "cell_type": "code",
   "execution_count": null,
   "metadata": {
    "ExecuteTime": {
     "end_time": "2021-05-07T14:11:30.683698Z",
     "start_time": "2021-05-07T14:11:30.680697Z"
    }
   },
   "outputs": [],
   "source": [
    "url = \"https://finance.yahoo.com/quote/%5EDJI/history?p=%5EDJI\""
   ]
  },
  {
   "cell_type": "code",
   "execution_count": null,
   "metadata": {
    "ExecuteTime": {
     "end_time": "2021-05-07T14:11:30.743504Z",
     "start_time": "2021-05-07T14:11:30.687962Z"
    }
   },
   "outputs": [],
   "source": [
    "df = pd.DataFrame(columns = ['date', 'DJI_Open', 'DJI_High', 'DJI_Low', 'DJI_Close', 'DJI_Adj_Close', 'DJI_Volume'])\n",
    "df"
   ]
  },
  {
   "cell_type": "code",
   "execution_count": null,
   "metadata": {
    "ExecuteTime": {
     "end_time": "2021-05-07T14:07:09.567434Z",
     "start_time": "2021-05-07T14:07:09.561932Z"
    }
   },
   "outputs": [],
   "source": [
    "columns_new = [str('DJI_')+i for i in df.columns]"
   ]
  },
  {
   "cell_type": "code",
   "execution_count": null,
   "metadata": {
    "ExecuteTime": {
     "end_time": "2021-05-07T14:11:38.068833Z",
     "start_time": "2021-05-07T14:11:37.171734Z"
    }
   },
   "outputs": [],
   "source": [
    "r = requests.get(url)\n",
    "data = r.text\n",
    "soup = BeautifulSoup(data)"
   ]
  },
  {
   "cell_type": "code",
   "execution_count": null,
   "metadata": {
    "ExecuteTime": {
     "end_time": "2021-05-07T14:11:38.407441Z",
     "start_time": "2021-05-07T14:11:38.383103Z"
    }
   },
   "outputs": [],
   "source": [
    "answer = []\n",
    "for i in soup.find_all('td'):\n",
    "    #print(i.span)\n",
    "    #print(i.span.text)\n",
    "    answer.append(i.span.text)\n",
    "    #print(len(answer)  "
   ]
  },
  {
   "cell_type": "code",
   "execution_count": null,
   "metadata": {
    "ExecuteTime": {
     "end_time": "2021-05-07T14:11:42.764407Z",
     "start_time": "2021-05-07T14:11:42.211538Z"
    }
   },
   "outputs": [],
   "source": [
    "for i in range(0, int(len(answer))//7):\n",
    "    atbilde = []\n",
    "    #print(i)\n",
    "    for j in range (0,7):\n",
    "        if j == 0:\n",
    "            atbilde.append(pd.to_datetime(answer[i*7+j], infer_datetime_format=True))\n",
    "        else:\n",
    "            atbilde.append(answer[i*7+j])\n",
    "    df.loc[len(df)] = atbilde"
   ]
  },
  {
   "cell_type": "code",
   "execution_count": null,
   "metadata": {
    "ExecuteTime": {
     "end_time": "2021-05-07T14:11:43.812893Z",
     "start_time": "2021-05-07T14:11:43.789250Z"
    }
   },
   "outputs": [],
   "source": [
    "df"
   ]
  },
  {
   "cell_type": "code",
   "execution_count": null,
   "metadata": {
    "ExecuteTime": {
     "end_time": "2021-05-07T14:11:47.376694Z",
     "start_time": "2021-05-07T14:11:47.363620Z"
    }
   },
   "outputs": [],
   "source": [
    "df.to_sql('DJI', connection, if_exists='append',index=False)"
   ]
  },
  {
   "cell_type": "markdown",
   "metadata": {
    "ExecuteTime": {
     "end_time": "2021-05-16T08:47:09.151333Z",
     "start_time": "2021-05-16T08:47:09.147584Z"
    }
   },
   "source": [
    "# SP500 companies"
   ]
  },
  {
   "cell_type": "code",
   "execution_count": null,
   "metadata": {
    "ExecuteTime": {
     "end_time": "2021-05-20T14:25:21.555214Z",
     "start_time": "2021-05-20T14:25:20.893330Z"
    }
   },
   "outputs": [],
   "source": [
    "from bs4 import BeautifulSoup\n",
    "import requests\n",
    "import re"
   ]
  },
  {
   "cell_type": "markdown",
   "metadata": {
    "ExecuteTime": {
     "end_time": "2021-05-16T09:10:16.495156Z",
     "start_time": "2021-05-16T09:10:16.273429Z"
    }
   },
   "source": [
    "df = pd.read_excel('SP500.xlsx')"
   ]
  },
  {
   "cell_type": "code",
   "execution_count": null,
   "metadata": {
    "ExecuteTime": {
     "end_time": "2021-05-20T07:53:05.168857Z",
     "start_time": "2021-05-20T07:53:02.971046Z"
    }
   },
   "outputs": [],
   "source": [
    "connection = sqlite3.connect('MSC.db')\n",
    "cursor = connection.cursor()\n",
    "sql = (\"Select * from SP500_companies\")\n",
    "df = pd.read_sql_query(sql,connection)\n",
    "df.head()"
   ]
  },
  {
   "cell_type": "markdown",
   "metadata": {
    "ExecuteTime": {
     "end_time": "2021-05-20T14:28:20.009621Z",
     "start_time": "2021-05-20T14:28:20.003143Z"
    }
   },
   "source": [
    "## Wikipedia"
   ]
  },
  {
   "cell_type": "code",
   "execution_count": null,
   "metadata": {
    "ExecuteTime": {
     "end_time": "2021-05-20T14:25:16.478463Z",
     "start_time": "2021-05-20T14:25:16.463581Z"
    }
   },
   "outputs": [],
   "source": [
    "url = \"https://en.wikipedia.org/wiki/List_of_S%26P_500_companies\""
   ]
  },
  {
   "cell_type": "code",
   "execution_count": null,
   "metadata": {
    "ExecuteTime": {
     "end_time": "2021-05-20T14:26:15.639346Z",
     "start_time": "2021-05-20T14:26:14.690345Z"
    }
   },
   "outputs": [],
   "source": [
    "r = requests.get(url)\n",
    "data = r.text\n",
    "soup = BeautifulSoup(data)"
   ]
  },
  {
   "cell_type": "code",
   "execution_count": null,
   "metadata": {
    "ExecuteTime": {
     "end_time": "2021-05-20T14:28:51.753680Z",
     "start_time": "2021-05-20T14:28:51.728537Z"
    }
   },
   "outputs": [],
   "source": [
    "answer = []\n",
    "for i in soup.find_all('td')[0:7]:\n",
    "    print(i)\n"
   ]
  },
  {
   "cell_type": "code",
   "execution_count": null,
   "metadata": {
    "ExecuteTime": {
     "end_time": "2021-05-20T15:18:13.841880Z",
     "start_time": "2021-05-20T15:18:13.789941Z"
    }
   },
   "outputs": [],
   "source": [
    "for i in soup.find_all('tr'):\n",
    "    for j in i.find_all('th'):\n",
    "        print(j)"
   ]
  },
  {
   "cell_type": "code",
   "execution_count": null,
   "metadata": {
    "ExecuteTime": {
     "end_time": "2021-05-20T15:52:53.775893Z",
     "start_time": "2021-05-20T15:52:53.768841Z"
    }
   },
   "outputs": [],
   "source": [
    "import wikipedia as wp\n",
    "def get_table(title, filename, match, use_cache=False):\n",
    "\n",
    "    if use_cache and os.path.isfile(filename):\n",
    "        pass\n",
    "    else:\n",
    "        html = wp.page(title).html()\n",
    "        df = pd.read_html(html, header=0, match=match)[0]\n",
    "        \n",
    "        df.to_csv(filename, header=True, index=False, encoding='utf-8')\n",
    "            \n",
    "    df = pd.read_csv(filename)\n",
    "    return df"
   ]
  },
  {
   "cell_type": "code",
   "execution_count": null,
   "metadata": {
    "ExecuteTime": {
     "end_time": "2021-05-20T15:53:33.313362Z",
     "start_time": "2021-05-20T15:53:28.158546Z"
    }
   },
   "outputs": [],
   "source": [
    "#title = 'List of S&P 500 companies'\n",
    "title = 'Selected changes to the list of S&P 500 components'\n",
    "filename = 'sp500.csv'\n",
    "sp500 = get_table(title, filename, match='Symbol')\n",
    "\n",
    "from datetime import datetime\n",
    "now = datetime.now()\n",
    "dt_string = now.strftime(\"%m/%d/%Y %H:%M:%S\")\n",
    "print('{} (retrieved {})'.format(title, dt_string))\n",
    "sp500"
   ]
  },
  {
   "cell_type": "code",
   "execution_count": null,
   "metadata": {
    "ExecuteTime": {
     "end_time": "2021-05-20T15:57:53.086815Z",
     "start_time": "2021-05-20T15:57:52.187178Z"
    }
   },
   "outputs": [],
   "source": [
    "#html = \n",
    "#wp.page(title).html()\n",
    "#df = \n",
    "pd.read_html(html)[1]"
   ]
  },
  {
   "cell_type": "code",
   "execution_count": null,
   "metadata": {
    "ExecuteTime": {
     "end_time": "2021-05-20T15:52:08.126089Z",
     "start_time": "2021-05-20T15:52:08.114202Z"
    }
   },
   "outputs": [],
   "source": [
    "sp500.to_csv(\"SP500.csv\")"
   ]
  },
  {
   "cell_type": "markdown",
   "metadata": {
    "ExecuteTime": {
     "end_time": "2021-05-16T10:39:05.621964Z",
     "start_time": "2021-05-16T10:39:05.604017Z"
    }
   },
   "source": [
    "### Insert DJI and SP500 in the same table\n",
    "### One less step in ETL\n",
    "\n",
    "connection = sqlite3.connect('MSC.db')\n",
    "cursor = connection.cursor()\n",
    "\n",
    "columnnames = \"'Company', 'Symbol', 'Weight'\"\n",
    "insertintotable = '?,?,?'\n",
    "\n",
    "answer = ['Dow Jones Industrial Average', '^DJI', '100']\n",
    "sql2 = f'cursor.execute(\"insert INTO  SP500_companies ({columnnames}) VALUES ({insertintotable})\", {answer})'\n",
    "eval(sql2)\n",
    "connection.commit()\n",
    "connection.close()"
   ]
  },
  {
   "cell_type": "code",
   "execution_count": null,
   "metadata": {
    "ExecuteTime": {
     "end_time": "2021-05-16T11:23:38.165983Z",
     "start_time": "2021-05-16T11:22:35.106619Z"
    }
   },
   "outputs": [],
   "source": [
    "columnnames = \"'date', 'open', 'high', 'low', 'close', 'adj_close','volume', 'symbol'\"\n",
    "insertintotable = '?,?,?,?,?,?,?,?'\n",
    "\n",
    "for i in df.Symbol[490:]:\n",
    "    r = requests.get(f'https://finance.yahoo.com/quote/{i}/history?p={i}')\n",
    "    print(f'https://finance.yahoo.com/quote/{i}/history?p={i}')\n",
    "    data = r.text\n",
    "    soup = BeautifulSoup(data, features=\"lxml\")\n",
    "    ofset = 0\n",
    "    for j in range(0, int(len(soup.find_all('td')))//7):  \n",
    "        #if type(soup.find_all('td')[j*7+1+ofset].span.text) != int and type(soup.find_all('td')[j*7+1+ofset].span.text) != float:\n",
    "        if soup.find_all('td')[j*7+1+ofset].span.text == \"Dividend\" or soup.find_all('td')[j*7+1+ofset].span.text == \"Stock Split\":\n",
    "            ofset += 2\n",
    "        try:\n",
    "            answer = []\n",
    "            answer.append(str(pd.to_datetime(soup.find_all('td')[j*7+ofset].text, infer_datetime_format=True)))\n",
    "            answer = answer + [i.span.text for i in soup.find_all('td')[j*7+1+ofset:j*7+7+ofset]] + [i]\n",
    "        except:\n",
    "            answer = []\n",
    "            ofset += 2\n",
    "        print(answer)\n",
    "        connection = sqlite3.connect('MSC.db')\n",
    "        cursor = connection.cursor()\n",
    "        sql2 = f'cursor.execute(\"insert INTO  prices ({columnnames}) VALUES ({insertintotable})\", {answer})'\n",
    "        eval(sql2)\n",
    "        connection.commit()\n",
    "        connection.close()    "
   ]
  },
  {
   "cell_type": "code",
   "execution_count": null,
   "metadata": {
    "ExecuteTime": {
     "end_time": "2021-05-19T08:08:47.527576Z",
     "start_time": "2021-05-19T08:07:52.928677Z"
    }
   },
   "outputs": [],
   "source": [
    "#for symbol in df\n",
    "no_financials = \"'BRK.B', 'BF.B', 'FLIR'\"\n",
    "\n",
    "connection = sqlite3.connect('MSC.db')\n",
    "cursor = connection.cursor()\n",
    "sql = ('''\n",
    "Select symbol from SP500_companies \n",
    "where symbol not in (select distinct symbol from prices where date == '2021-05-19 00:00:00')\n",
    "and  symbol not in ('BRK.B', 'BF.B', 'FLIR')'''\n",
    "    )\n",
    "df = pd.read_sql_query(sql,connection)\n",
    "\n",
    "connection = sqlite3.connect('MSC.db')\n",
    "cursor = connection.cursor()\n",
    "sql = (\"Select * from prices where date \")\n",
    "z = pd.read_sql_query(sql,connection)\n",
    "connection.commit()\n",
    "connection.close()\n",
    "\n",
    "columnnames = \"'date', 'open', 'high', 'low', 'close', 'adj_close','volume', 'symbol'\"\n",
    "insertintotable = '?,?,?,?,?,?,?,?'\n",
    "\n",
    "for i in df.Symbol[2:]:\n",
    "    r = requests.get(f'https://finance.yahoo.com/quote/{i}/history?p={i}')\n",
    "    print(f'https://finance.yahoo.com/quote/{i}/history?p={i}')\n",
    "    data = r.text\n",
    "    soup = BeautifulSoup(data, features=\"lxml\")\n",
    "    counter = 0\n",
    "    for j in range (0, 4):\n",
    "        if soup.find_all('td')[1+j*7].span != None and pd.to_datetime(soup.find_all('td')[j*7].text, infer_datetime_format=True) > pd.to_datetime(z.date[z.symbol == i].iloc[0]) and counter == 0:\n",
    "            try:\n",
    "                answer = []\n",
    "                answer.append(str(pd.to_datetime(soup.find_all('td')[j*7].text, infer_datetime_format=True)))\n",
    "                answer = answer + [i.span.text for i in soup.find_all('td')[j*7+1: j*7+7]] + [i]\n",
    "                print(answer)\n",
    "\n",
    "                connection = sqlite3.connect('MSC.db')\n",
    "                cursor = connection.cursor()\n",
    "                sql2 = f'cursor.execute(\"insert INTO  prices ({columnnames}) VALUES ({insertintotable})\", {answer})'\n",
    "                eval(sql2)\n",
    "                connection.commit()\n",
    "                connection.close()\n",
    "                counter +=1\n",
    "            except:pass        \n",
    "        else:pass                "
   ]
  },
  {
   "cell_type": "code",
   "execution_count": null,
   "metadata": {
    "ExecuteTime": {
     "end_time": "2021-05-20T07:53:15.008645Z",
     "start_time": "2021-05-20T07:53:15.000334Z"
    }
   },
   "outputs": [],
   "source": [
    "import string\n",
    "string.punctuation"
   ]
  },
  {
   "cell_type": "code",
   "execution_count": null,
   "metadata": {
    "ExecuteTime": {
     "end_time": "2021-05-16T11:25:56.357014Z",
     "start_time": "2021-05-16T11:25:56.013066Z"
    }
   },
   "outputs": [],
   "source": [
    "connection = sqlite3.connect(\"MSC.db\")\n",
    "cursor = connection.cursor()\n",
    "\n",
    "sql = ('''Select distinct symbol, count(symbol) over(partition by symbol) as count from prices\n",
    "order by count\n",
    "\n",
    "       ''')\n",
    "z =pd.read_sql_query(sql,connection)\n",
    "z"
   ]
  },
  {
   "cell_type": "code",
   "execution_count": null,
   "metadata": {
    "ExecuteTime": {
     "end_time": "2021-05-16T11:28:35.722714Z",
     "start_time": "2021-05-16T11:28:35.696517Z"
    }
   },
   "outputs": [],
   "source": [
    "connection = sqlite3.connect(\"MSC.db\")\n",
    "cursor = connection.cursor()\n",
    "\n",
    "sql = ('''Select * from sp500_companies\n",
    "\n",
    "       ''')\n",
    "z =pd.read_sql_query(sql,connection)\n",
    "z"
   ]
  },
  {
   "cell_type": "code",
   "execution_count": null,
   "metadata": {
    "ExecuteTime": {
     "end_time": "2021-05-20T07:53:31.486036Z",
     "start_time": "2021-05-20T07:53:30.770174Z"
    }
   },
   "outputs": [],
   "source": [
    "connection = sqlite3.connect(\"MSC.db\")\n",
    "cursor = connection.cursor()\n",
    "\n",
    "sql = ('''Select sp500_companies.symbol, company from sp500_companies\n",
    "          WHERE sp500_companies.Symbol NOT IN\n",
    "        (Select symbol from  prices)\n",
    "\n",
    "       ''')\n",
    "z =pd.read_sql_query(sql,connection)\n",
    "z"
   ]
  },
  {
   "cell_type": "code",
   "execution_count": null,
   "metadata": {
    "ExecuteTime": {
     "end_time": "2021-05-16T11:33:22.381155Z",
     "start_time": "2021-05-16T11:33:22.377994Z"
    }
   },
   "outputs": [],
   "source": [
    "# Flir 0 love "
   ]
  },
  {
   "cell_type": "code",
   "execution_count": null,
   "metadata": {
    "ExecuteTime": {
     "end_time": "2021-05-20T07:53:44.720249Z",
     "start_time": "2021-05-20T07:53:44.659260Z"
    }
   },
   "outputs": [],
   "source": [
    "connection = sqlite3.connect('MSC.db')\n",
    "cursor = connection.cursor()\n",
    "sql = ('''\n",
    "Select symbol from SP500_companies \n",
    "where symbol not in (select distinct symbol from prices where date == '2021-05-19 00:00:00')\n",
    "and  symbol not in ('BRK.B', 'BF.B', 'FLIR')'''\n",
    "    )\n",
    "df = pd.read_sql_query(sql,connection)\n",
    "df"
   ]
  },
  {
   "cell_type": "markdown",
   "metadata": {},
   "source": [
    "# Merge"
   ]
  },
  {
   "cell_type": "code",
   "execution_count": 3,
   "metadata": {
    "ExecuteTime": {
     "end_time": "2021-06-05T09:55:49.696923Z",
     "start_time": "2021-06-05T09:55:48.422522Z"
    }
   },
   "outputs": [
    {
     "data": {
      "text/html": [
       "<div>\n",
       "<style scoped>\n",
       "    .dataframe tbody tr th:only-of-type {\n",
       "        vertical-align: middle;\n",
       "    }\n",
       "\n",
       "    .dataframe tbody tr th {\n",
       "        vertical-align: top;\n",
       "    }\n",
       "\n",
       "    .dataframe thead th {\n",
       "        text-align: right;\n",
       "    }\n",
       "</style>\n",
       "<table border=\"1\" class=\"dataframe\">\n",
       "  <thead>\n",
       "    <tr style=\"text-align: right;\">\n",
       "      <th></th>\n",
       "      <th>date</th>\n",
       "      <th>top1</th>\n",
       "      <th>top2</th>\n",
       "      <th>top3</th>\n",
       "      <th>top4</th>\n",
       "      <th>top5</th>\n",
       "      <th>top6</th>\n",
       "      <th>top7</th>\n",
       "      <th>top8</th>\n",
       "      <th>top9</th>\n",
       "      <th>...</th>\n",
       "      <th>DJI_Open</th>\n",
       "      <th>DJI_High</th>\n",
       "      <th>DJI_Low</th>\n",
       "      <th>DJI_Close</th>\n",
       "      <th>DJI_Adj_Close</th>\n",
       "      <th>SP500_Open</th>\n",
       "      <th>SP500_High</th>\n",
       "      <th>SP500_Low</th>\n",
       "      <th>SP500_Close</th>\n",
       "      <th>SP500_Adj_Close</th>\n",
       "    </tr>\n",
       "  </thead>\n",
       "  <tbody>\n",
       "    <tr>\n",
       "      <th>87</th>\n",
       "      <td>2021-05-10</td>\n",
       "      <td>Indigenous leaders launch $2.1 billion class-a...</td>\n",
       "      <td>Russian Doc Who Lied About Navalny Poisoning ‘...</td>\n",
       "      <td>Angry protests have broken out in Kyrgyzstan a...</td>\n",
       "      <td>More than 50 people, many of them female stude...</td>\n",
       "      <td>Queen’s cousin Prince Michael of Kent accused ...</td>\n",
       "      <td>Arab world condemns Israel Police for violent ...</td>\n",
       "      <td>NASA criticizes China after rocket debris land...</td>\n",
       "      <td>Thousands to march in France demanding real ac...</td>\n",
       "      <td>Myanmar poet dies after detention, body return...</td>\n",
       "      <td>...</td>\n",
       "      <td>34,785.27</td>\n",
       "      <td>35,091.56</td>\n",
       "      <td>34,741.57</td>\n",
       "      <td>34,742.82</td>\n",
       "      <td>34,742.82</td>\n",
       "      <td>4,228.29</td>\n",
       "      <td>4,236.39</td>\n",
       "      <td>4,188.13</td>\n",
       "      <td>4,188.43</td>\n",
       "      <td>4,188.43</td>\n",
       "    </tr>\n",
       "    <tr>\n",
       "      <th>88</th>\n",
       "      <td>2021-05-11</td>\n",
       "      <td>Zero Covid deaths recorded yesterday for Engla...</td>\n",
       "      <td>Israeli airstrikes on Gaza kill 20 people, inc...</td>\n",
       "      <td>Stop evictions in East Jerusalem neighbourhood...</td>\n",
       "      <td>Instagram, Twitter deleting posts about Palest...</td>\n",
       "      <td>Boris Johnson investigated over Caribbean holi...</td>\n",
       "      <td>Rocket sirens sound in Jerusalem, Israel amid ...</td>\n",
       "      <td>WHO classifies triple-mutant Covid variant fro...</td>\n",
       "      <td>Dozens of bodies believed to be Covid-19 victi...</td>\n",
       "      <td>Missing Siberian doctor who treated Kremlin cr...</td>\n",
       "      <td>...</td>\n",
       "      <td>34,572.74</td>\n",
       "      <td>34,572.74</td>\n",
       "      <td>34,075.31</td>\n",
       "      <td>34,269.16</td>\n",
       "      <td>34,269.16</td>\n",
       "      <td>4,150.34</td>\n",
       "      <td>4,162.04</td>\n",
       "      <td>4,111.53</td>\n",
       "      <td>4,152.10</td>\n",
       "      <td>4,152.10</td>\n",
       "    </tr>\n",
       "    <tr>\n",
       "      <th>89</th>\n",
       "      <td>2021-05-12</td>\n",
       "      <td>Indian government says 5G doesn’t cause COVID-...</td>\n",
       "      <td>Largest 13 story residential building in Gaza ...</td>\n",
       "      <td>China demands cancellation of UN meeting on Uy...</td>\n",
       "      <td>Taiwan says China is 'maliciously' blocking it...</td>\n",
       "      <td>US officials believe Russia may be behind the ...</td>\n",
       "      <td>UK to ban LGBT conversion therapy and provide ...</td>\n",
       "      <td>Up to 9 Killed in Russia School Shooting</td>\n",
       "      <td>1 dead, 3 severely injured, as 'largest ever' ...</td>\n",
       "      <td>Hundreds of South Africans rallied on Tuesday ...</td>\n",
       "      <td>...</td>\n",
       "      <td>34,206.40</td>\n",
       "      <td>34,207.87</td>\n",
       "      <td>33,555.22</td>\n",
       "      <td>33,587.66</td>\n",
       "      <td>33,587.66</td>\n",
       "      <td>4,130.55</td>\n",
       "      <td>4,134.73</td>\n",
       "      <td>4,056.88</td>\n",
       "      <td>4,063.04</td>\n",
       "      <td>4,063.04</td>\n",
       "    </tr>\n",
       "    <tr>\n",
       "      <th>90</th>\n",
       "      <td>2021-05-13</td>\n",
       "      <td>'Champions League of tax avoidance:' Uber used...</td>\n",
       "      <td>Animals to be formally recognised as sentient ...</td>\n",
       "      <td>'We're watching a lynching': Jewish crowd in I...</td>\n",
       "      <td>Israeli flags burned outside 2 German synagogu...</td>\n",
       "      <td>Putin’s Wagner Group mercenaries ‘killed kids,...</td>\n",
       "      <td>Shark Advocates Cheer UK’s Banning Of Shark Fi...</td>\n",
       "      <td>Ethereum creator Vitalik Buterin donates $1 bi...</td>\n",
       "      <td>Dead whale found with 16kg of plastic bags, wr...</td>\n",
       "      <td>Israel rejects Hamas truce offer; ministers vo...</td>\n",
       "      <td>...</td>\n",
       "      <td>33,624.74</td>\n",
       "      <td>34,181.77</td>\n",
       "      <td>33,623.49</td>\n",
       "      <td>34,021.45</td>\n",
       "      <td>34,021.45</td>\n",
       "      <td>4,074.99</td>\n",
       "      <td>4,131.58</td>\n",
       "      <td>4,074.99</td>\n",
       "      <td>4,112.50</td>\n",
       "      <td>4,112.50</td>\n",
       "    </tr>\n",
       "    <tr>\n",
       "      <th>91</th>\n",
       "      <td>2021-05-14</td>\n",
       "      <td>\"2 for 100, 3 for 75.\" - Israeli soldier posts...</td>\n",
       "      <td>67 killed in Gaza, 7 killed in Israel as UN wa...</td>\n",
       "      <td>Israel's bombing of Gaza apartment buildings c...</td>\n",
       "      <td>Israel's Israeli Arab member of parliament Aid...</td>\n",
       "      <td>Jews and Arabs start to push back against viol...</td>\n",
       "      <td>France asks police to ban pro-Palestinian Pari...</td>\n",
       "      <td>US withdraws 120 military personnel from Israe...</td>\n",
       "      <td>Israel steps up Gaza offensive, kills senior H...</td>\n",
       "      <td>Biden says he's not seen a 'significant overre...</td>\n",
       "      <td>...</td>\n",
       "      <td>34,050.86</td>\n",
       "      <td>34,454.05</td>\n",
       "      <td>34,050.86</td>\n",
       "      <td>34,382.13</td>\n",
       "      <td>34,382.13</td>\n",
       "      <td>4,129.58</td>\n",
       "      <td>4,183.13</td>\n",
       "      <td>4,129.58</td>\n",
       "      <td>4,173.85</td>\n",
       "      <td>4,173.85</td>\n",
       "    </tr>\n",
       "  </tbody>\n",
       "</table>\n",
       "<p>5 rows × 41 columns</p>\n",
       "</div>"
      ],
      "text/plain": [
       "          date                                               top1  \\\n",
       "87  2021-05-10  Indigenous leaders launch $2.1 billion class-a...   \n",
       "88  2021-05-11  Zero Covid deaths recorded yesterday for Engla...   \n",
       "89  2021-05-12  Indian government says 5G doesn’t cause COVID-...   \n",
       "90  2021-05-13  'Champions League of tax avoidance:' Uber used...   \n",
       "91  2021-05-14  \"2 for 100, 3 for 75.\" - Israeli soldier posts...   \n",
       "\n",
       "                                                 top2  \\\n",
       "87  Russian Doc Who Lied About Navalny Poisoning ‘...   \n",
       "88  Israeli airstrikes on Gaza kill 20 people, inc...   \n",
       "89  Largest 13 story residential building in Gaza ...   \n",
       "90  Animals to be formally recognised as sentient ...   \n",
       "91  67 killed in Gaza, 7 killed in Israel as UN wa...   \n",
       "\n",
       "                                                 top3  \\\n",
       "87  Angry protests have broken out in Kyrgyzstan a...   \n",
       "88  Stop evictions in East Jerusalem neighbourhood...   \n",
       "89  China demands cancellation of UN meeting on Uy...   \n",
       "90  'We're watching a lynching': Jewish crowd in I...   \n",
       "91  Israel's bombing of Gaza apartment buildings c...   \n",
       "\n",
       "                                                 top4  \\\n",
       "87  More than 50 people, many of them female stude...   \n",
       "88  Instagram, Twitter deleting posts about Palest...   \n",
       "89  Taiwan says China is 'maliciously' blocking it...   \n",
       "90  Israeli flags burned outside 2 German synagogu...   \n",
       "91  Israel's Israeli Arab member of parliament Aid...   \n",
       "\n",
       "                                                 top5  \\\n",
       "87  Queen’s cousin Prince Michael of Kent accused ...   \n",
       "88  Boris Johnson investigated over Caribbean holi...   \n",
       "89  US officials believe Russia may be behind the ...   \n",
       "90  Putin’s Wagner Group mercenaries ‘killed kids,...   \n",
       "91  Jews and Arabs start to push back against viol...   \n",
       "\n",
       "                                                 top6  \\\n",
       "87  Arab world condemns Israel Police for violent ...   \n",
       "88  Rocket sirens sound in Jerusalem, Israel amid ...   \n",
       "89  UK to ban LGBT conversion therapy and provide ...   \n",
       "90  Shark Advocates Cheer UK’s Banning Of Shark Fi...   \n",
       "91  France asks police to ban pro-Palestinian Pari...   \n",
       "\n",
       "                                                 top7  \\\n",
       "87  NASA criticizes China after rocket debris land...   \n",
       "88  WHO classifies triple-mutant Covid variant fro...   \n",
       "89           Up to 9 Killed in Russia School Shooting   \n",
       "90  Ethereum creator Vitalik Buterin donates $1 bi...   \n",
       "91  US withdraws 120 military personnel from Israe...   \n",
       "\n",
       "                                                 top8  \\\n",
       "87  Thousands to march in France demanding real ac...   \n",
       "88  Dozens of bodies believed to be Covid-19 victi...   \n",
       "89  1 dead, 3 severely injured, as 'largest ever' ...   \n",
       "90  Dead whale found with 16kg of plastic bags, wr...   \n",
       "91  Israel steps up Gaza offensive, kills senior H...   \n",
       "\n",
       "                                                 top9  ...   DJI_Open  \\\n",
       "87  Myanmar poet dies after detention, body return...  ...  34,785.27   \n",
       "88  Missing Siberian doctor who treated Kremlin cr...  ...  34,572.74   \n",
       "89  Hundreds of South Africans rallied on Tuesday ...  ...  34,206.40   \n",
       "90  Israel rejects Hamas truce offer; ministers vo...  ...  33,624.74   \n",
       "91  Biden says he's not seen a 'significant overre...  ...  34,050.86   \n",
       "\n",
       "     DJI_High    DJI_Low  DJI_Close DJI_Adj_Close SP500_Open SP500_High  \\\n",
       "87  35,091.56  34,741.57  34,742.82     34,742.82   4,228.29   4,236.39   \n",
       "88  34,572.74  34,075.31  34,269.16     34,269.16   4,150.34   4,162.04   \n",
       "89  34,207.87  33,555.22  33,587.66     33,587.66   4,130.55   4,134.73   \n",
       "90  34,181.77  33,623.49  34,021.45     34,021.45   4,074.99   4,131.58   \n",
       "91  34,454.05  34,050.86  34,382.13     34,382.13   4,129.58   4,183.13   \n",
       "\n",
       "   SP500_Low SP500_Close SP500_Adj_Close  \n",
       "87  4,188.13    4,188.43        4,188.43  \n",
       "88  4,111.53    4,152.10        4,152.10  \n",
       "89  4,056.88    4,063.04        4,063.04  \n",
       "90  4,074.99    4,112.50        4,112.50  \n",
       "91  4,129.58    4,173.85        4,173.85  \n",
       "\n",
       "[5 rows x 41 columns]"
      ]
     },
     "execution_count": 3,
     "metadata": {},
     "output_type": "execute_result"
    }
   ],
   "source": [
    "connection = sqlite3.connect('MSC.db')\n",
    "cursor = connection.cursor()\n",
    "\n",
    "sql = ('''Select \n",
    "            main.date,\n",
    "            top1,top2,top3,top4,top5,\n",
    "            top6,top7,top8,top9,top10,\n",
    "            top11,top12,top13,top14,top15,\n",
    "            top16,top17,top18,top19,top20,\n",
    "            top21,top22,top23,top24,top25,\n",
    "            top26,top27,top28,top29,top30,\n",
    "            \n",
    "            DJI_Open,\n",
    "            DJI_High,\n",
    "            DJI_Low,\n",
    "            DJI_Close,\n",
    "            DJI_Adj_Close,\n",
    "            \n",
    "            SP500_Open,\n",
    "            SP500_High,\n",
    "            SP500_Low,\n",
    "            SP500_Close,\n",
    "            SP500_Adj_Close\n",
    "\n",
    "            from main\n",
    "            left join DJI on\n",
    "            main.date = date(DJI.Date)\n",
    "            left join SP500 on\n",
    "            main.date = date(SP500.Date)\n",
    "            \n",
    "            where DJI_Open not NULL\n",
    "            order by main.date\n",
    "\n",
    "       ''')\n",
    "df = pd.read_sql_query(sql,connection)\n",
    "df.tail()"
   ]
  },
  {
   "cell_type": "code",
   "execution_count": 4,
   "metadata": {
    "ExecuteTime": {
     "end_time": "2021-06-05T09:56:00.527136Z",
     "start_time": "2021-06-05T09:56:00.419291Z"
    }
   },
   "outputs": [
    {
     "name": "stdout",
     "output_type": "stream",
     "text": [
      "(56, 33)\n"
     ]
    },
    {
     "data": {
      "text/html": [
       "<div>\n",
       "<style scoped>\n",
       "    .dataframe tbody tr th:only-of-type {\n",
       "        vertical-align: middle;\n",
       "    }\n",
       "\n",
       "    .dataframe tbody tr th {\n",
       "        vertical-align: top;\n",
       "    }\n",
       "\n",
       "    .dataframe thead th {\n",
       "        text-align: right;\n",
       "    }\n",
       "</style>\n",
       "<table border=\"1\" class=\"dataframe\">\n",
       "  <thead>\n",
       "    <tr style=\"text-align: right;\">\n",
       "      <th></th>\n",
       "      <th>date</th>\n",
       "      <th>top1</th>\n",
       "      <th>top2</th>\n",
       "      <th>top3</th>\n",
       "      <th>top4</th>\n",
       "      <th>top5</th>\n",
       "      <th>top6</th>\n",
       "      <th>top7</th>\n",
       "      <th>top8</th>\n",
       "      <th>top9</th>\n",
       "      <th>...</th>\n",
       "      <th>top23</th>\n",
       "      <th>top24</th>\n",
       "      <th>top25</th>\n",
       "      <th>top26</th>\n",
       "      <th>top27</th>\n",
       "      <th>top28</th>\n",
       "      <th>top29</th>\n",
       "      <th>top30</th>\n",
       "      <th>open</th>\n",
       "      <th>close</th>\n",
       "    </tr>\n",
       "  </thead>\n",
       "  <tbody>\n",
       "    <tr>\n",
       "      <th>51</th>\n",
       "      <td>2021-05-19</td>\n",
       "      <td>Leonardo DiCaprio pledges $43m to restore the ...</td>\n",
       "      <td>US approves release of oldest Guantanamo priso...</td>\n",
       "      <td>Iran's Minister of Foreign Affairs criticizes ...</td>\n",
       "      <td>Nurse who cared for Boris Johnson resigns over...</td>\n",
       "      <td>Oil Companies Told to Stop Drilling Now to Sav...</td>\n",
       "      <td>Thousands of Peruvian indigenous people living...</td>\n",
       "      <td>Against backdrop of Gaza violence, Israel’s Je...</td>\n",
       "      <td>Arrest Warrant Issued Against UP Villagers Who...</td>\n",
       "      <td>Egypt allocates 11 hospitals to treat Palestin...</td>\n",
       "      <td>...</td>\n",
       "      <td>EU, minus Hungary, calls for Israel-Palestine ...</td>\n",
       "      <td>‘No food for days’: Starvation stalks Tigray a...</td>\n",
       "      <td>Israel temporarily opens borders to allow fuel...</td>\n",
       "      <td>2 Thai workers killed, several people injured ...</td>\n",
       "      <td>Half of single-use plastic waste produced by j...</td>\n",
       "      <td>‘Massive destruction’: Israeli strikes drain G...</td>\n",
       "      <td>The coronavirus variant that first emerged in ...</td>\n",
       "      <td>Tokyo doctors call for cancellation of Olympic...</td>\n",
       "      <td>4,098.45</td>\n",
       "      <td>4,115.68</td>\n",
       "    </tr>\n",
       "    <tr>\n",
       "      <th>52</th>\n",
       "      <td>2021-05-20</td>\n",
       "      <td>Facebook shuts down pro-Israel page with 77 mi...</td>\n",
       "      <td>Many Gazans cut off from the world as Israel t...</td>\n",
       "      <td>Russia warns Israel it won't tolerate more civ...</td>\n",
       "      <td>Israeli Prime Minister Benjamin Netanyahu reje...</td>\n",
       "      <td>Female journalist beaten, finger broken for re...</td>\n",
       "      <td>Sirens sound in cities in Haifa area; rockets ...</td>\n",
       "      <td>Bangladeshi Journalist Could Face Death Penalt...</td>\n",
       "      <td>Palestinian President Mahmoud Abbas Wants Isra...</td>\n",
       "      <td>Palestine activists shut down Israeli drone ma...</td>\n",
       "      <td>...</td>\n",
       "      <td>An Ecuadorian policeman was sentenced to three...</td>\n",
       "      <td>Israel accuses Chinese state TV of 'blatant an...</td>\n",
       "      <td>Bangladesh arrests journalist for COVID report...</td>\n",
       "      <td>The Israeli military has tried to kill the mil...</td>\n",
       "      <td>Chinese Mars rover returns first pictures</td>\n",
       "      <td>\"Spanish borders are European borders\" - EU de...</td>\n",
       "      <td>Manhunt launched for heavily-armed soldier who...</td>\n",
       "      <td>Israel shells targets in Lebanon after rocket ...</td>\n",
       "      <td>4,121.97</td>\n",
       "      <td>4,159.12</td>\n",
       "    </tr>\n",
       "    <tr>\n",
       "      <th>53</th>\n",
       "      <td>2021-05-21</td>\n",
       "      <td>Palestinian Head of internal medicine of main ...</td>\n",
       "      <td>UK government backs Israel’s bombardment of Gaza</td>\n",
       "      <td>Israeli media: Cabinet approves cease-fire in ...</td>\n",
       "      <td>Lithuanian parliament passes resolution condem...</td>\n",
       "      <td>Samoa to scrap China-backed port project under...</td>\n",
       "      <td>Boko Haram leader either dead or seriously wou...</td>\n",
       "      <td>Almost 40% of young people are waiting too lon...</td>\n",
       "      <td>We will pursue you for life, Hong Kong warns w...</td>\n",
       "      <td>France's top court rejects move to restrict im...</td>\n",
       "      <td>...</td>\n",
       "      <td>Nigeria's Boko Haram leader 'badly wounded' du...</td>\n",
       "      <td>Japan ready to freeze all Myanmar development ...</td>\n",
       "      <td>Based on imagery analysis, North Korea seems t...</td>\n",
       "      <td>A New, Infectious Coronavirus Is Detected In M...</td>\n",
       "      <td>Democratic Party leader Song Young-gil critici...</td>\n",
       "      <td>Apple employees call for company to support Pa...</td>\n",
       "      <td>German soldier who posed as refugee on trial f...</td>\n",
       "      <td>Hamas welcomes rockets from Lebanon, Syria tow...</td>\n",
       "      <td>4,168.61</td>\n",
       "      <td>4,155.86</td>\n",
       "    </tr>\n",
       "    <tr>\n",
       "      <th>54</th>\n",
       "      <td>2021-05-24</td>\n",
       "      <td>Up to 40 bodies, mostly women, found buried on...</td>\n",
       "      <td>Irish parliament to vote on motion to expel Is...</td>\n",
       "      <td>Iraq estimates that $150 billion of its oil mo...</td>\n",
       "      <td>Black Lives Matter activist Sasha Johnson 'in ...</td>\n",
       "      <td>Wuhan Lab Staff Sought Hospital Care Before CO...</td>\n",
       "      <td>Belarus opposition says government forced Ryan...</td>\n",
       "      <td>The diversion of a flight between two EU count...</td>\n",
       "      <td>Eight dead after cable car falls in Italy</td>\n",
       "      <td>World's Largest Iceberg Breaks Off of Antarcti...</td>\n",
       "      <td>...</td>\n",
       "      <td>ISIS won’t get $7 million bounty placed on Bok...</td>\n",
       "      <td>‘A ticking time bomb’: Timor-Leste begins to r...</td>\n",
       "      <td>A gun battle erupted on Sunday between Myanmar...</td>\n",
       "      <td>Israeli officials 'regret' bombing Gaza AP bur...</td>\n",
       "      <td>Mount Everest Covid outbreak has infected 100 ...</td>\n",
       "      <td>India battles fatal fungal threat as virus dea...</td>\n",
       "      <td>Australian hoarder killed intruder and kept bo...</td>\n",
       "      <td>‘Tragic’ that just over 25M vaccine doses admi...</td>\n",
       "      <td>4,170.16</td>\n",
       "      <td>4,197.05</td>\n",
       "    </tr>\n",
       "    <tr>\n",
       "      <th>55</th>\n",
       "      <td>2021-05-25</td>\n",
       "      <td>Belarus had KGB agents on the passenger plane ...</td>\n",
       "      <td>Tesla Fined $16K Per Owner for Throttling Batt...</td>\n",
       "      <td>Lativian airline airBaltic says is no longer u...</td>\n",
       "      <td>Lithuania to demand Belarus airspace closed to...</td>\n",
       "      <td>UK aircraft ordered to avoid Belarus airspace ...</td>\n",
       "      <td>Samoa Elected Its First Female Leader. Parliam...</td>\n",
       "      <td>Knesset advances bill to limit prime minister ...</td>\n",
       "      <td>Paris proposes to ban Belarusian airspace</td>\n",
       "      <td>Indigenous woman named New Zealand's next gove...</td>\n",
       "      <td>...</td>\n",
       "      <td>Samoa swears in first female leader in a tent ...</td>\n",
       "      <td>Belarusian journalist reportedly pleaded with ...</td>\n",
       "      <td>European Union leaders on Monday agreed on a s...</td>\n",
       "      <td>China accuses US of hyping theory Coronavirus ...</td>\n",
       "      <td>Belarus points to Hamas bomb threat in plane d...</td>\n",
       "      <td>Customers call out banks for increasing fees d...</td>\n",
       "      <td>North Korea bans mullet haircuts, nose piercin...</td>\n",
       "      <td>The American editor of a news site in military...</td>\n",
       "      <td>4,205.94</td>\n",
       "      <td>4,190.37</td>\n",
       "    </tr>\n",
       "  </tbody>\n",
       "</table>\n",
       "<p>5 rows × 33 columns</p>\n",
       "</div>"
      ],
      "text/plain": [
       "          date                                               top1  \\\n",
       "51  2021-05-19  Leonardo DiCaprio pledges $43m to restore the ...   \n",
       "52  2021-05-20  Facebook shuts down pro-Israel page with 77 mi...   \n",
       "53  2021-05-21  Palestinian Head of internal medicine of main ...   \n",
       "54  2021-05-24  Up to 40 bodies, mostly women, found buried on...   \n",
       "55  2021-05-25  Belarus had KGB agents on the passenger plane ...   \n",
       "\n",
       "                                                 top2  \\\n",
       "51  US approves release of oldest Guantanamo priso...   \n",
       "52  Many Gazans cut off from the world as Israel t...   \n",
       "53   UK government backs Israel’s bombardment of Gaza   \n",
       "54  Irish parliament to vote on motion to expel Is...   \n",
       "55  Tesla Fined $16K Per Owner for Throttling Batt...   \n",
       "\n",
       "                                                 top3  \\\n",
       "51  Iran's Minister of Foreign Affairs criticizes ...   \n",
       "52  Russia warns Israel it won't tolerate more civ...   \n",
       "53  Israeli media: Cabinet approves cease-fire in ...   \n",
       "54  Iraq estimates that $150 billion of its oil mo...   \n",
       "55  Lativian airline airBaltic says is no longer u...   \n",
       "\n",
       "                                                 top4  \\\n",
       "51  Nurse who cared for Boris Johnson resigns over...   \n",
       "52  Israeli Prime Minister Benjamin Netanyahu reje...   \n",
       "53  Lithuanian parliament passes resolution condem...   \n",
       "54  Black Lives Matter activist Sasha Johnson 'in ...   \n",
       "55  Lithuania to demand Belarus airspace closed to...   \n",
       "\n",
       "                                                 top5  \\\n",
       "51  Oil Companies Told to Stop Drilling Now to Sav...   \n",
       "52  Female journalist beaten, finger broken for re...   \n",
       "53  Samoa to scrap China-backed port project under...   \n",
       "54  Wuhan Lab Staff Sought Hospital Care Before CO...   \n",
       "55  UK aircraft ordered to avoid Belarus airspace ...   \n",
       "\n",
       "                                                 top6  \\\n",
       "51  Thousands of Peruvian indigenous people living...   \n",
       "52  Sirens sound in cities in Haifa area; rockets ...   \n",
       "53  Boko Haram leader either dead or seriously wou...   \n",
       "54  Belarus opposition says government forced Ryan...   \n",
       "55  Samoa Elected Its First Female Leader. Parliam...   \n",
       "\n",
       "                                                 top7  \\\n",
       "51  Against backdrop of Gaza violence, Israel’s Je...   \n",
       "52  Bangladeshi Journalist Could Face Death Penalt...   \n",
       "53  Almost 40% of young people are waiting too lon...   \n",
       "54  The diversion of a flight between two EU count...   \n",
       "55  Knesset advances bill to limit prime minister ...   \n",
       "\n",
       "                                                 top8  \\\n",
       "51  Arrest Warrant Issued Against UP Villagers Who...   \n",
       "52  Palestinian President Mahmoud Abbas Wants Isra...   \n",
       "53  We will pursue you for life, Hong Kong warns w...   \n",
       "54          Eight dead after cable car falls in Italy   \n",
       "55          Paris proposes to ban Belarusian airspace   \n",
       "\n",
       "                                                 top9  ...  \\\n",
       "51  Egypt allocates 11 hospitals to treat Palestin...  ...   \n",
       "52  Palestine activists shut down Israeli drone ma...  ...   \n",
       "53  France's top court rejects move to restrict im...  ...   \n",
       "54  World's Largest Iceberg Breaks Off of Antarcti...  ...   \n",
       "55  Indigenous woman named New Zealand's next gove...  ...   \n",
       "\n",
       "                                                top23  \\\n",
       "51  EU, minus Hungary, calls for Israel-Palestine ...   \n",
       "52  An Ecuadorian policeman was sentenced to three...   \n",
       "53  Nigeria's Boko Haram leader 'badly wounded' du...   \n",
       "54  ISIS won’t get $7 million bounty placed on Bok...   \n",
       "55  Samoa swears in first female leader in a tent ...   \n",
       "\n",
       "                                                top24  \\\n",
       "51  ‘No food for days’: Starvation stalks Tigray a...   \n",
       "52  Israel accuses Chinese state TV of 'blatant an...   \n",
       "53  Japan ready to freeze all Myanmar development ...   \n",
       "54  ‘A ticking time bomb’: Timor-Leste begins to r...   \n",
       "55  Belarusian journalist reportedly pleaded with ...   \n",
       "\n",
       "                                                top25  \\\n",
       "51  Israel temporarily opens borders to allow fuel...   \n",
       "52  Bangladesh arrests journalist for COVID report...   \n",
       "53  Based on imagery analysis, North Korea seems t...   \n",
       "54  A gun battle erupted on Sunday between Myanmar...   \n",
       "55  European Union leaders on Monday agreed on a s...   \n",
       "\n",
       "                                                top26  \\\n",
       "51  2 Thai workers killed, several people injured ...   \n",
       "52  The Israeli military has tried to kill the mil...   \n",
       "53  A New, Infectious Coronavirus Is Detected In M...   \n",
       "54  Israeli officials 'regret' bombing Gaza AP bur...   \n",
       "55  China accuses US of hyping theory Coronavirus ...   \n",
       "\n",
       "                                                top27  \\\n",
       "51  Half of single-use plastic waste produced by j...   \n",
       "52          Chinese Mars rover returns first pictures   \n",
       "53  Democratic Party leader Song Young-gil critici...   \n",
       "54  Mount Everest Covid outbreak has infected 100 ...   \n",
       "55  Belarus points to Hamas bomb threat in plane d...   \n",
       "\n",
       "                                                top28  \\\n",
       "51  ‘Massive destruction’: Israeli strikes drain G...   \n",
       "52  \"Spanish borders are European borders\" - EU de...   \n",
       "53  Apple employees call for company to support Pa...   \n",
       "54  India battles fatal fungal threat as virus dea...   \n",
       "55  Customers call out banks for increasing fees d...   \n",
       "\n",
       "                                                top29  \\\n",
       "51  The coronavirus variant that first emerged in ...   \n",
       "52  Manhunt launched for heavily-armed soldier who...   \n",
       "53  German soldier who posed as refugee on trial f...   \n",
       "54  Australian hoarder killed intruder and kept bo...   \n",
       "55  North Korea bans mullet haircuts, nose piercin...   \n",
       "\n",
       "                                                top30      open     close  \n",
       "51  Tokyo doctors call for cancellation of Olympic...  4,098.45  4,115.68  \n",
       "52  Israel shells targets in Lebanon after rocket ...  4,121.97  4,159.12  \n",
       "53  Hamas welcomes rockets from Lebanon, Syria tow...  4,168.61  4,155.86  \n",
       "54  ‘Tragic’ that just over 25M vaccine doses admi...  4,170.16  4,197.05  \n",
       "55  The American editor of a news site in military...  4,205.94  4,190.37  \n",
       "\n",
       "[5 rows x 33 columns]"
      ]
     },
     "execution_count": 4,
     "metadata": {},
     "output_type": "execute_result"
    }
   ],
   "source": [
    "connection = sqlite3.connect('MSC.db')\n",
    "cursor = connection.cursor()\n",
    "\n",
    "sql = ('''\n",
    "    select distinct main.date,\n",
    "            top1,top2,top3,top4,top5,\n",
    "            top6,top7,top8,top9,top10,\n",
    "            top11,top12,top13,top14,top15,\n",
    "            top16,top17,top18,top19,top20,\n",
    "            top21,top22,top23,top24,top25,\n",
    "            top26,top27,top28,top29,top30,\n",
    "            open\n",
    "            ,close\n",
    "\n",
    "    from prices \n",
    "    left join main\n",
    "    on date(prices.date) = main.date\n",
    "    \n",
    "    where symbol = '^GSPC' \n",
    "    and date(prices.date)  > '2021-03-07' \n",
    "    and top1 is not null\n",
    "    \n",
    "    order by main.date\n",
    "\n",
    "       ''')\n",
    "df = pd.read_sql_query(sql,connection)\n",
    "print(df.shape)\n",
    "df.tail()"
   ]
  },
  {
   "cell_type": "code",
   "execution_count": 7,
   "metadata": {
    "ExecuteTime": {
     "end_time": "2021-06-05T09:56:45.610131Z",
     "start_time": "2021-06-05T09:56:45.561800Z"
    }
   },
   "outputs": [
    {
     "name": "stdout",
     "output_type": "stream",
     "text": [
      "(110, 8)\n"
     ]
    },
    {
     "data": {
      "text/html": [
       "<div>\n",
       "<style scoped>\n",
       "    .dataframe tbody tr th:only-of-type {\n",
       "        vertical-align: middle;\n",
       "    }\n",
       "\n",
       "    .dataframe tbody tr th {\n",
       "        vertical-align: top;\n",
       "    }\n",
       "\n",
       "    .dataframe thead th {\n",
       "        text-align: right;\n",
       "    }\n",
       "</style>\n",
       "<table border=\"1\" class=\"dataframe\">\n",
       "  <thead>\n",
       "    <tr style=\"text-align: right;\">\n",
       "      <th></th>\n",
       "      <th>date</th>\n",
       "      <th>open</th>\n",
       "      <th>high</th>\n",
       "      <th>low</th>\n",
       "      <th>close</th>\n",
       "      <th>adj_close</th>\n",
       "      <th>volume</th>\n",
       "      <th>symbol</th>\n",
       "    </tr>\n",
       "  </thead>\n",
       "  <tbody>\n",
       "    <tr>\n",
       "      <th>105</th>\n",
       "      <td>2021-05-20 00:00:00</td>\n",
       "      <td>4,121.97</td>\n",
       "      <td>4,172.80</td>\n",
       "      <td>4,121.97</td>\n",
       "      <td>4,159.12</td>\n",
       "      <td>4,159.12</td>\n",
       "      <td>3,019,060,000</td>\n",
       "      <td>^GSPC</td>\n",
       "    </tr>\n",
       "    <tr>\n",
       "      <th>106</th>\n",
       "      <td>2021-05-21 00:00:00</td>\n",
       "      <td>4,168.61</td>\n",
       "      <td>4,188.72</td>\n",
       "      <td>4,151.72</td>\n",
       "      <td>4,155.86</td>\n",
       "      <td>4,155.86</td>\n",
       "      <td>3,344,620,000</td>\n",
       "      <td>^GSPC</td>\n",
       "    </tr>\n",
       "    <tr>\n",
       "      <th>107</th>\n",
       "      <td>2021-05-21 00:00:00</td>\n",
       "      <td>4,168.61</td>\n",
       "      <td>4,188.72</td>\n",
       "      <td>4,151.72</td>\n",
       "      <td>4,155.86</td>\n",
       "      <td>4,155.86</td>\n",
       "      <td>3,344,620,000</td>\n",
       "      <td>^GSPC</td>\n",
       "    </tr>\n",
       "    <tr>\n",
       "      <th>108</th>\n",
       "      <td>2021-05-24 00:00:00</td>\n",
       "      <td>4,170.16</td>\n",
       "      <td>4,209.52</td>\n",
       "      <td>4,170.16</td>\n",
       "      <td>4,197.05</td>\n",
       "      <td>4,197.05</td>\n",
       "      <td>2,947,400,000</td>\n",
       "      <td>^GSPC</td>\n",
       "    </tr>\n",
       "    <tr>\n",
       "      <th>109</th>\n",
       "      <td>2021-05-25 00:00:00</td>\n",
       "      <td>4,205.94</td>\n",
       "      <td>4,213.42</td>\n",
       "      <td>4,186.52</td>\n",
       "      <td>4,190.37</td>\n",
       "      <td>4,190.37</td>\n",
       "      <td>1,324,822,000</td>\n",
       "      <td>^GSPC</td>\n",
       "    </tr>\n",
       "  </tbody>\n",
       "</table>\n",
       "</div>"
      ],
      "text/plain": [
       "                    date      open      high       low     close adj_close  \\\n",
       "105  2021-05-20 00:00:00  4,121.97  4,172.80  4,121.97  4,159.12  4,159.12   \n",
       "106  2021-05-21 00:00:00  4,168.61  4,188.72  4,151.72  4,155.86  4,155.86   \n",
       "107  2021-05-21 00:00:00  4,168.61  4,188.72  4,151.72  4,155.86  4,155.86   \n",
       "108  2021-05-24 00:00:00  4,170.16  4,209.52  4,170.16  4,197.05  4,197.05   \n",
       "109  2021-05-25 00:00:00  4,205.94  4,213.42  4,186.52  4,190.37  4,190.37   \n",
       "\n",
       "            volume symbol  \n",
       "105  3,019,060,000  ^GSPC  \n",
       "106  3,344,620,000  ^GSPC  \n",
       "107  3,344,620,000  ^GSPC  \n",
       "108  2,947,400,000  ^GSPC  \n",
       "109  1,324,822,000  ^GSPC  "
      ]
     },
     "execution_count": 7,
     "metadata": {},
     "output_type": "execute_result"
    }
   ],
   "source": [
    "connection = sqlite3.connect('MSC.db')\n",
    "cursor = connection.cursor()\n",
    "\n",
    "sql = ('''\n",
    "    select * from prices\n",
    "    \n",
    "    \n",
    "    where symbol = '^GSPC' \n",
    "    and date(prices.date)  > '2021-03-07' \n",
    "    order by date\n",
    "       ''')\n",
    "df = pd.read_sql_query(sql,connection)\n",
    "print(df.shape)\n",
    "df.tail()"
   ]
  },
  {
   "cell_type": "code",
   "execution_count": null,
   "metadata": {
    "ExecuteTime": {
     "end_time": "2021-05-25T17:38:17.955137Z",
     "start_time": "2021-05-25T17:38:17.927385Z"
    }
   },
   "outputs": [],
   "source": [
    "connection = sqlite3.connect('MSC.db')\n",
    "cursor = connection.cursor()\n",
    "\n",
    "sql = ('''\n",
    "    select * from SP500_companies\n",
    "       ''')\n",
    "df = pd.read_sql_query(sql,connection)\n",
    "print(df.shape)\n",
    "df.tail()"
   ]
  },
  {
   "cell_type": "code",
   "execution_count": 20,
   "metadata": {
    "ExecuteTime": {
     "end_time": "2021-06-05T10:13:51.482904Z",
     "start_time": "2021-06-05T10:13:51.452909Z"
    }
   },
   "outputs": [
    {
     "data": {
      "text/html": [
       "<div>\n",
       "<style scoped>\n",
       "    .dataframe tbody tr th:only-of-type {\n",
       "        vertical-align: middle;\n",
       "    }\n",
       "\n",
       "    .dataframe tbody tr th {\n",
       "        vertical-align: top;\n",
       "    }\n",
       "\n",
       "    .dataframe thead th {\n",
       "        text-align: right;\n",
       "    }\n",
       "</style>\n",
       "<table border=\"1\" class=\"dataframe\">\n",
       "  <thead>\n",
       "    <tr style=\"text-align: right;\">\n",
       "      <th></th>\n",
       "      <th>Symbol</th>\n",
       "    </tr>\n",
       "  </thead>\n",
       "  <tbody>\n",
       "    <tr>\n",
       "      <th>0</th>\n",
       "      <td>^VIX</td>\n",
       "    </tr>\n",
       "  </tbody>\n",
       "</table>\n",
       "</div>"
      ],
      "text/plain": [
       "  Symbol\n",
       "0   ^VIX"
      ]
     },
     "execution_count": 20,
     "metadata": {},
     "output_type": "execute_result"
    }
   ],
   "source": [
    "connection = sqlite3.connect('MSC.db')\n",
    "cursor = connection.cursor()\n",
    "\n",
    "sql = (f'''\n",
    "Select symbol from SP500_companies \n",
    "where symbol not in (select distinct symbol from prices where date == \"2021-06-04 00:00:00\")\n",
    "and  symbol not in ('BRK.B', 'BF.B', 'FLIR')\n",
    "'''\n",
    "    )\n",
    "df = pd.read_sql_query(sql,connection)\n",
    "df"
   ]
  },
  {
   "cell_type": "code",
   "execution_count": 19,
   "metadata": {
    "ExecuteTime": {
     "end_time": "2021-06-05T10:13:45.577965Z",
     "start_time": "2021-06-05T10:13:45.120126Z"
    }
   },
   "outputs": [
    {
     "data": {
      "text/html": [
       "<div>\n",
       "<style scoped>\n",
       "    .dataframe tbody tr th:only-of-type {\n",
       "        vertical-align: middle;\n",
       "    }\n",
       "\n",
       "    .dataframe tbody tr th {\n",
       "        vertical-align: top;\n",
       "    }\n",
       "\n",
       "    .dataframe thead th {\n",
       "        text-align: right;\n",
       "    }\n",
       "</style>\n",
       "<table border=\"1\" class=\"dataframe\">\n",
       "  <thead>\n",
       "    <tr style=\"text-align: right;\">\n",
       "      <th></th>\n",
       "      <th>date</th>\n",
       "      <th>open</th>\n",
       "      <th>high</th>\n",
       "      <th>low</th>\n",
       "      <th>close</th>\n",
       "      <th>adj_close</th>\n",
       "      <th>volume</th>\n",
       "      <th>symbol</th>\n",
       "    </tr>\n",
       "  </thead>\n",
       "  <tbody>\n",
       "    <tr>\n",
       "      <th>0</th>\n",
       "      <td>2021-06-04 00:00:00</td>\n",
       "      <td>124.07</td>\n",
       "      <td>126.16</td>\n",
       "      <td>123.85</td>\n",
       "      <td>125.89</td>\n",
       "      <td>125.89</td>\n",
       "      <td>75,087,300</td>\n",
       "      <td>AAPL</td>\n",
       "    </tr>\n",
       "    <tr>\n",
       "      <th>1</th>\n",
       "      <td>2021-06-04 00:00:00</td>\n",
       "      <td>247.76</td>\n",
       "      <td>251.65</td>\n",
       "      <td>247.51</td>\n",
       "      <td>250.79</td>\n",
       "      <td>250.79</td>\n",
       "      <td>25,275,000</td>\n",
       "      <td>MSFT</td>\n",
       "    </tr>\n",
       "    <tr>\n",
       "      <th>2</th>\n",
       "      <td>2021-06-04 00:00:00</td>\n",
       "      <td>325.90</td>\n",
       "      <td>332.46</td>\n",
       "      <td>325.18</td>\n",
       "      <td>330.35</td>\n",
       "      <td>330.35</td>\n",
       "      <td>13,282,200</td>\n",
       "      <td>FB</td>\n",
       "    </tr>\n",
       "    <tr>\n",
       "      <th>3</th>\n",
       "      <td>2021-06-04 00:00:00</td>\n",
       "      <td>166.21</td>\n",
       "      <td>166.67</td>\n",
       "      <td>165.03</td>\n",
       "      <td>166.44</td>\n",
       "      <td>166.44</td>\n",
       "      <td>8,510,400</td>\n",
       "      <td>JPM</td>\n",
       "    </tr>\n",
       "    <tr>\n",
       "      <th>4</th>\n",
       "      <td>2021-06-04 00:00:00</td>\n",
       "      <td>167.01</td>\n",
       "      <td>167.57</td>\n",
       "      <td>165.87</td>\n",
       "      <td>165.97</td>\n",
       "      <td>165.97</td>\n",
       "      <td>6,510,300</td>\n",
       "      <td>JNJ</td>\n",
       "    </tr>\n",
       "    <tr>\n",
       "      <th>...</th>\n",
       "      <td>...</td>\n",
       "      <td>...</td>\n",
       "      <td>...</td>\n",
       "      <td>...</td>\n",
       "      <td>...</td>\n",
       "      <td>...</td>\n",
       "      <td>...</td>\n",
       "      <td>...</td>\n",
       "    </tr>\n",
       "    <tr>\n",
       "      <th>57719</th>\n",
       "      <td>2020-12-21 00:00:00</td>\n",
       "      <td>110.71</td>\n",
       "      <td>113.78</td>\n",
       "      <td>108.73</td>\n",
       "      <td>112.54</td>\n",
       "      <td>112.54</td>\n",
       "      <td>3,809,700</td>\n",
       "      <td>WYNN</td>\n",
       "    </tr>\n",
       "    <tr>\n",
       "      <th>57720</th>\n",
       "      <td>2020-12-21 00:00:00</td>\n",
       "      <td>146.80</td>\n",
       "      <td>148.06</td>\n",
       "      <td>141.70</td>\n",
       "      <td>145.28</td>\n",
       "      <td>145.28</td>\n",
       "      <td>1,799,300</td>\n",
       "      <td>XLNX</td>\n",
       "    </tr>\n",
       "    <tr>\n",
       "      <th>57721</th>\n",
       "      <td>2020-12-21 00:00:00</td>\n",
       "      <td>366.00</td>\n",
       "      <td>376.73</td>\n",
       "      <td>363.00</td>\n",
       "      <td>375.91</td>\n",
       "      <td>375.91</td>\n",
       "      <td>505,600</td>\n",
       "      <td>ZBRA</td>\n",
       "    </tr>\n",
       "    <tr>\n",
       "      <th>57722</th>\n",
       "      <td>2020-12-21 00:00:00</td>\n",
       "      <td>30,159.00</td>\n",
       "      <td>30,304.14</td>\n",
       "      <td>29,755.53</td>\n",
       "      <td>30,216.45</td>\n",
       "      <td>30,216.45</td>\n",
       "      <td>437,480,000</td>\n",
       "      <td>^DJI</td>\n",
       "    </tr>\n",
       "    <tr>\n",
       "      <th>57723</th>\n",
       "      <td>2020-12-21 00:00:00</td>\n",
       "      <td>3,684.28</td>\n",
       "      <td>3,702.90</td>\n",
       "      <td>3,636.48</td>\n",
       "      <td>3,694.92</td>\n",
       "      <td>3,694.92</td>\n",
       "      <td>4,732,160,000</td>\n",
       "      <td>^GSPC</td>\n",
       "    </tr>\n",
       "  </tbody>\n",
       "</table>\n",
       "<p>57724 rows × 8 columns</p>\n",
       "</div>"
      ],
      "text/plain": [
       "                      date       open       high        low      close  \\\n",
       "0      2021-06-04 00:00:00     124.07     126.16     123.85     125.89   \n",
       "1      2021-06-04 00:00:00     247.76     251.65     247.51     250.79   \n",
       "2      2021-06-04 00:00:00     325.90     332.46     325.18     330.35   \n",
       "3      2021-06-04 00:00:00     166.21     166.67     165.03     166.44   \n",
       "4      2021-06-04 00:00:00     167.01     167.57     165.87     165.97   \n",
       "...                    ...        ...        ...        ...        ...   \n",
       "57719  2020-12-21 00:00:00     110.71     113.78     108.73     112.54   \n",
       "57720  2020-12-21 00:00:00     146.80     148.06     141.70     145.28   \n",
       "57721  2020-12-21 00:00:00     366.00     376.73     363.00     375.91   \n",
       "57722  2020-12-21 00:00:00  30,159.00  30,304.14  29,755.53  30,216.45   \n",
       "57723  2020-12-21 00:00:00   3,684.28   3,702.90   3,636.48   3,694.92   \n",
       "\n",
       "       adj_close         volume symbol  \n",
       "0         125.89     75,087,300   AAPL  \n",
       "1         250.79     25,275,000   MSFT  \n",
       "2         330.35     13,282,200     FB  \n",
       "3         166.44      8,510,400    JPM  \n",
       "4         165.97      6,510,300    JNJ  \n",
       "...          ...            ...    ...  \n",
       "57719     112.54      3,809,700   WYNN  \n",
       "57720     145.28      1,799,300   XLNX  \n",
       "57721     375.91        505,600   ZBRA  \n",
       "57722  30,216.45    437,480,000   ^DJI  \n",
       "57723   3,694.92  4,732,160,000  ^GSPC  \n",
       "\n",
       "[57724 rows x 8 columns]"
      ]
     },
     "execution_count": 19,
     "metadata": {},
     "output_type": "execute_result"
    }
   ],
   "source": [
    "connection = sqlite3.connect('MSC.db')\n",
    "cursor = connection.cursor()\n",
    "sql = (\"Select * from prices order by date desc\")\n",
    "z = pd.read_sql_query(sql,connection)\n",
    "z"
   ]
  },
  {
   "cell_type": "code",
   "execution_count": 10,
   "metadata": {
    "ExecuteTime": {
     "end_time": "2021-06-05T10:09:11.213747Z",
     "start_time": "2021-06-05T10:09:10.233574Z"
    }
   },
   "outputs": [],
   "source": [
    "import requests"
   ]
  },
  {
   "cell_type": "code",
   "execution_count": 18,
   "metadata": {
    "ExecuteTime": {
     "end_time": "2021-06-05T10:13:31.779667Z",
     "start_time": "2021-06-05T10:12:49.746941Z"
    }
   },
   "outputs": [
    {
     "name": "stdout",
     "output_type": "stream",
     "text": [
      "https://finance.yahoo.com/quote/AMZN/history?p=AMZN\n",
      "['2021-06-04 00:00:00', '3,212.00', '3,221.00', '3,198.81', '3,206.22', '3,206.22', '2,245,700', 'AMZN']\n",
      "['2021-06-03 00:00:00', '3,204.23', '3,214.44', '3,184.03', '3,187.01', '3,187.01', '2,398,300', 'AMZN']\n",
      "['2021-06-02 00:00:00', '3,223.10', '3,235.00', '3,208.00', '3,233.99', '3,233.99', '2,014,500', 'AMZN']\n",
      "['2021-06-01 00:00:00', '3,243.50', '3,250.98', '3,209.06', '3,218.65', '3,218.65', '2,430,000', 'AMZN']\n",
      "['2021-05-28 00:00:00', '3,242.00', '3,247.99', '3,219.70', '3,223.07', '3,223.07', '2,329,800', 'AMZN']\n",
      "https://finance.yahoo.com/quote/GOOGL/history?p=GOOGL\n",
      "['2021-06-04 00:00:00', '2,369.27', '2,399.03', '2,362.41', '2,393.57', '2,393.57', '1,222,500', 'GOOGL']\n",
      "['2021-06-03 00:00:00', '2,345.73', '2,357.02', '2,329.52', '2,347.58', '2,347.58', '934,800', 'GOOGL']\n",
      "['2021-06-02 00:00:00', '2,389.15', '2,393.64', '2,352.36', '2,370.59', '2,370.59', '1,057,900', 'GOOGL']\n",
      "['2021-06-01 00:00:00', '2,374.44', '2,385.71', '2,354.28', '2,381.18', '2,381.18', '1,167,700', 'GOOGL']\n",
      "['2021-05-28 00:00:00', '2,374.42', '2,376.07', '2,352.85', '2,356.85', '2,356.85', '1,074,100', 'GOOGL']\n",
      "https://finance.yahoo.com/quote/GOOG/history?p=GOOG\n",
      "['2021-06-04 00:00:00', '2,422.52', '2,453.86', '2,417.77', '2,451.76', '2,451.76', '1,295,800', 'GOOG']\n",
      "['2021-06-03 00:00:00', '2,395.02', '2,409.75', '2,382.83', '2,404.61', '2,404.61', '917,300', 'GOOG']\n",
      "['2021-06-02 00:00:00', '2,435.31', '2,442.00', '2,404.20', '2,421.28', '2,421.28', '857,900', 'GOOG']\n",
      "['2021-06-01 00:00:00', '2,422.00', '2,437.97', '2,404.88', '2,429.81', '2,429.81', '958,300', 'GOOG']\n",
      "['2021-05-28 00:00:00', '2,421.96', '2,428.14', '2,407.69', '2,411.56', '2,411.56', '1,205,400', 'GOOG']\n",
      "https://finance.yahoo.com/quote/BKNG/history?p=BKNG\n",
      "['2021-06-04 00:00:00', '2,304.78', '2,328.46', '2,304.24', '2,315.69', '2,315.69', '173,700', 'BKNG']\n",
      "['2021-06-03 00:00:00', '2,293.42', '2,327.05', '2,262.00', '2,295.81', '2,295.81', '283,300', 'BKNG']\n",
      "['2021-06-02 00:00:00', '2,339.70', '2,356.50', '2,310.71', '2,317.92', '2,317.92', '292,700', 'BKNG']\n",
      "['2021-06-01 00:00:00', '2,380.00', '2,380.29', '2,316.05', '2,328.28', '2,328.28', '316,000', 'BKNG']\n",
      "['2021-05-28 00:00:00', '2,339.84', '2,367.81', '2,315.48', '2,361.55', '2,361.55', '232,300', 'BKNG']\n",
      "https://finance.yahoo.com/quote/CMG/history?p=CMG\n",
      "['2021-06-04 00:00:00', '1,338.67', '1,351.37', '1,323.97', '1,326.34', '1,326.34', '283,800', 'CMG']\n",
      "['2021-06-03 00:00:00', '1,356.23', '1,362.65', '1,330.66', '1,333.04', '1,333.04', '297,200', 'CMG']\n",
      "['2021-06-02 00:00:00', '1,354.10', '1,364.62', '1,352.48', '1,362.39', '1,362.39', '371,600', 'CMG']\n",
      "['2021-06-01 00:00:00', '1,372.00', '1,378.69', '1,342.18', '1,361.13', '1,361.13', '349,800', 'CMG']\n",
      "['2021-05-28 00:00:00', '1,366.00', '1,381.93', '1,357.33', '1,371.98', '1,371.98', '254,100', 'CMG']\n",
      "https://finance.yahoo.com/quote/AZO/history?p=AZO\n",
      "['2021-06-04 00:00:00', '1,397.04', '1,397.04', '1,367.96', '1,387.21', '1,387.21', '192,700', 'AZO']\n",
      "['2021-06-03 00:00:00', '1,391.91', '1,401.21', '1,388.90', '1,392.20', '1,392.20', '174,600', 'AZO']\n",
      "['2021-06-02 00:00:00', '1,419.61', '1,419.61', '1,400.00', '1,404.67', '1,404.67', '160,800', 'AZO']\n",
      "['2021-06-01 00:00:00', '1,414.81', '1,415.72', '1,398.02', '1,410.85', '1,410.85', '198,000', 'AZO']\n",
      "['2021-05-28 00:00:00', '1,408.00', '1,422.48', '1,405.53', '1,406.60', '1,406.60', '175,300', 'AZO']\n",
      "https://finance.yahoo.com/quote/MTD/history?p=MTD\n",
      "['2021-06-04 00:00:00', '1,261.43', '1,263.70', '1,248.69', '1,256.82', '1,256.82', '96,700', 'MTD']\n",
      "['2021-06-03 00:00:00', '1,268.80', '1,268.80', '1,244.41', '1,255.28', '1,255.28', '129,900', 'MTD']\n",
      "['2021-06-02 00:00:00', '1,294.11', '1,298.61', '1,273.73', '1,274.87', '1,274.87', '78,900', 'MTD']\n",
      "['2021-06-01 00:00:00', '1,315.57', '1,317.23', '1,285.71', '1,296.30', '1,296.30', '83,300', 'MTD']\n",
      "['2021-05-28 00:00:00', '1,307.83', '1,310.98', '1,295.12', '1,300.95', '1,300.95', '64,700', 'MTD']\n",
      "https://finance.yahoo.com/quote/NVR/history?p=NVR\n",
      "['2021-06-04 00:00:00', '4,785.00', '4,827.43', '4,702.00', '4,810.00', '4,810.00', '13,400', 'NVR']\n",
      "['2021-06-03 00:00:00', '4,755.61', '4,793.99', '4,696.12', '4,747.07', '4,747.07', '16,600', 'NVR']\n",
      "['2021-06-02 00:00:00', '4,841.00', '4,841.00', '4,785.90', '4,795.49', '4,795.49', '13,800', 'NVR']\n",
      "['2021-06-01 00:00:00', '4,925.33', '4,925.33', '4,817.88', '4,841.02', '4,841.02', '11,700', 'NVR']\n",
      "['2021-05-28 00:00:00', '4,858.95', '4,918.14', '4,826.65', '4,887.23', '4,887.23', '13,200', 'NVR']\n",
      "https://finance.yahoo.com/quote/IRM/history?p=IRM\n",
      "['2021-06-04 00:00:00', '45.75', '45.81', '45.26', '45.67', '45.67', '1,689,200', 'IRM']\n",
      "https://finance.yahoo.com/quote/^GSPC/history?p=^GSPC\n",
      "['2021-06-04 00:00:00', '4,206.05', '4,233.45', '4,206.05', '4,229.89', '4,229.89', '3,487,070,000', '^GSPC']\n",
      "['2021-06-03 00:00:00', '4,191.43', '4,204.39', '4,167.93', '4,192.85', '4,192.85', '4,579,450,000', '^GSPC']\n",
      "['2021-06-02 00:00:00', '4,206.82', '4,217.37', '4,198.27', '4,208.12', '4,208.12', '4,860,930,000', '^GSPC']\n",
      "['2021-06-01 00:00:00', '4,216.52', '4,234.12', '4,197.59', '4,202.04', '4,202.04', '4,122,960,000', '^GSPC']\n",
      "['2021-05-28 00:00:00', '4,210.77', '4,218.36', '4,203.57', '4,204.11', '4,204.11', '4,199,270,000', '^GSPC']\n",
      "['2021-05-27 00:00:00', '4,201.94', '4,213.38', '4,197.78', '4,200.88', '4,200.88', '5,201,110,000', '^GSPC']\n",
      "['2021-05-26 00:00:00', '4,191.59', '4,202.61', '4,184.11', '4,195.99', '4,195.99', '3,674,490,000', '^GSPC']\n",
      "https://finance.yahoo.com/quote/^DJI/history?p=^DJI\n",
      "['2021-06-04 00:00:00', '34,618.69', '34,772.12', '34,618.69', '34,756.39', '34,756.39', '270,050,000', '^DJI']\n",
      "['2021-06-03 00:00:00', '34,550.31', '34,667.41', '34,334.41', '34,577.04', '34,577.04', '297,380,000', '^DJI']\n",
      "['2021-06-02 00:00:00', '34,614.62', '34,706.65', '34,545.96', '34,600.38', '34,600.38', '263,810,000', '^DJI']\n",
      "['2021-06-01 00:00:00', '34,584.19', '34,849.32', '34,542.87', '34,575.31', '34,575.31', '287,700,000', '^DJI']\n",
      "['2021-05-28 00:00:00', '34,558.50', '34,631.11', '34,520.09', '34,529.45', '34,529.45', '290,850,000', '^DJI']\n",
      "['2021-05-27 00:00:00', '34,432.47', '34,608.82', '34,389.24', '34,464.64', '34,464.64', '520,630,000', '^DJI']\n",
      "['2021-05-26 00:00:00', '34,336.34', '34,409.59', '34,271.44', '34,323.05', '34,323.05', '258,780,000', '^DJI']\n",
      "https://finance.yahoo.com/quote/^VIX/history?p=^VIX\n",
      "Price injection done\n"
     ]
    }
   ],
   "source": [
    "columnnames = \"'date', 'open', 'high', 'low', 'close', 'adj_close','volume', 'symbol'\"\n",
    "insertintotable = '?,?,?,?,?,?,?,?'\n",
    "\n",
    "for i in df.Symbol:\n",
    "    r = requests.get(f'https://finance.yahoo.com/quote/{i}/history?p={i}')\n",
    "    print(f'https://finance.yahoo.com/quote/{i}/history?p={i}')\n",
    "    data = r.text\n",
    "    soup = BeautifulSoup(data, features=\"lxml\")\n",
    "    \n",
    "    for j in range (0, len(soup.find_all('td'))):\n",
    "        try:\n",
    "            if (type(pd.to_datetime(soup.find_all('td')[j].text,infer_datetime_format=True)) == pd._libs.tslibs.timestamps.Timestamp) == True and isinstance(locale.atof(soup.find_all('td')[j+1].text), (int, float, complex)) == True and pd.to_datetime(soup.find_all('td')[j].text,infer_datetime_format=True) > pd.to_datetime(z.date[z.symbol == i].iloc[0]):\n",
    "                answer = []\n",
    "                answer.append(str(pd.to_datetime(soup.find_all('td')[j].text,infer_datetime_format=True)))\n",
    "                answer = answer + [i.span.text for i in soup.find_all('td')[j+1: j+7]] + [i]\n",
    "                print(answer)\n",
    "                \n",
    "                connection = sqlite3.connect('MSC.db')\n",
    "                cursor = connection.cursor()\n",
    "                sql2 = f'cursor.execute(\"insert INTO  prices ({columnnames}) VALUES ({insertintotable})\", {answer})'\n",
    "                eval(sql2)\n",
    "                connection.commit()\n",
    "                connection.close()\n",
    "\n",
    "            else: pass\n",
    "        except:pass  \n",
    "        \n",
    "print('Price injection done')"
   ]
  },
  {
   "cell_type": "code",
   "execution_count": 14,
   "metadata": {
    "ExecuteTime": {
     "end_time": "2021-06-05T10:10:12.095790Z",
     "start_time": "2021-06-05T10:10:10.928803Z"
    }
   },
   "outputs": [],
   "source": [
    "from bs4 import BeautifulSoup"
   ]
  },
  {
   "cell_type": "code",
   "execution_count": 2,
   "metadata": {
    "ExecuteTime": {
     "end_time": "2021-05-25T18:20:54.948737Z",
     "start_time": "2021-05-25T18:20:54.923517Z"
    }
   },
   "outputs": [
    {
     "data": {
      "text/plain": [
       "'en_US.UTF-8'"
      ]
     },
     "execution_count": 2,
     "metadata": {},
     "output_type": "execute_result"
    }
   ],
   "source": [
    "import locale\n",
    "locale.setlocale(locale.LC_ALL, 'en_US.UTF-8')"
   ]
  },
  {
   "cell_type": "markdown",
   "metadata": {},
   "source": [
    "# VIX"
   ]
  },
  {
   "cell_type": "code",
   "execution_count": 24,
   "metadata": {
    "ExecuteTime": {
     "end_time": "2021-06-05T10:16:58.354435Z",
     "start_time": "2021-06-05T10:16:55.103578Z"
    }
   },
   "outputs": [
    {
     "name": "stdout",
     "output_type": "stream",
     "text": [
      "https://finance.yahoo.com/quote/^VIX/history?p=^VIX\n",
      "['2021-06-04 00:00:00', '18.09', '18.42', '16.18', '16.42', '16.42', '0', '^VIX']\n",
      "['2021-06-03 00:00:00', '17.73', '19.27', '17.45', '18.04', '18.04', '0', '^VIX']\n",
      "['2021-06-02 00:00:00', '17.86', '18.31', '16.74', '17.48', '17.48', '0', '^VIX']\n",
      "['2021-06-01 00:00:00', '17.24', '18.53', '15.68', '17.90', '17.90', '0', '^VIX']\n",
      "Price injection done\n"
     ]
    }
   ],
   "source": [
    "columnnames = \"'date', 'open', 'high', 'low', 'close', 'adj_close','volume', 'symbol'\"\n",
    "insertintotable = '?,?,?,?,?,?,?,?'\n",
    "\n",
    "i = '^VIX'\n",
    "\n",
    "r = requests.get(f'https://finance.yahoo.com/quote/{i}/history?p={i}')\n",
    "print(f'https://finance.yahoo.com/quote/{i}/history?p={i}')\n",
    "data = r.text\n",
    "soup = BeautifulSoup(data, features=\"lxml\")\n",
    "\n",
    "for j in range (0, len(soup.find_all('td'))):\n",
    "    try:\n",
    "        if (type(pd.to_datetime(soup.find_all('td')[j].text,infer_datetime_format=True)) == pd._libs.tslibs.timestamps.Timestamp) == True and isinstance(locale.atof(soup.find_all('td')[j+1].text), (int, float, complex)) == True and pd.to_datetime(soup.find_all('td')[j].text,infer_datetime_format=True) > pd.to_datetime(z.date[z.symbol == i].iloc[0]):\n",
    "            answer = []\n",
    "            answer.append(str(pd.to_datetime(soup.find_all('td')[j].text,infer_datetime_format=True)))\n",
    "            answer = answer + [i.span.text for i in soup.find_all('td')[j+1: j+6]] +[\"0\"] + [i]\n",
    "            print(answer)\n",
    "\n",
    "            connection = sqlite3.connect('MSC.db')\n",
    "            cursor = connection.cursor()\n",
    "            sql2 = f'cursor.execute(\"insert INTO  prices ({columnnames}) VALUES ({insertintotable})\", {answer})'\n",
    "            eval(sql2)\n",
    "            connection.commit()\n",
    "            connection.close()\n",
    "\n",
    "        else: pass\n",
    "    except:pass  \n",
    "        \n",
    "print('Price injection done')"
   ]
  },
  {
   "cell_type": "code",
   "execution_count": 26,
   "metadata": {
    "ExecuteTime": {
     "end_time": "2021-06-05T12:40:09.725859Z",
     "start_time": "2021-06-05T12:40:09.718758Z"
    }
   },
   "outputs": [],
   "source": [
    "import datetime\n",
    "\n",
    "def last_work_day():\n",
    "    for i in range(1,7):\n",
    "        if (datetime.date.today()-datetime.timedelta(days=i)).weekday()< 6:\n",
    "            m = (datetime.date.today()-datetime.timedelta(days=i))\n",
    "            break\n",
    "    \n",
    "    return m.strftime('%Y-%m-%d %H:%M:%S')\n",
    "datums = last_work_day()"
   ]
  },
  {
   "cell_type": "code",
   "execution_count": 27,
   "metadata": {
    "ExecuteTime": {
     "end_time": "2021-06-05T12:40:13.213990Z",
     "start_time": "2021-06-05T12:40:13.206175Z"
    }
   },
   "outputs": [
    {
     "data": {
      "text/plain": [
       "'2021-06-04 00:00:00'"
      ]
     },
     "execution_count": 27,
     "metadata": {},
     "output_type": "execute_result"
    }
   ],
   "source": [
    "datums"
   ]
  },
  {
   "cell_type": "code",
   "execution_count": 47,
   "metadata": {
    "ExecuteTime": {
     "end_time": "2021-06-05T13:04:34.244046Z",
     "start_time": "2021-06-05T13:04:27.136749Z"
    }
   },
   "outputs": [
    {
     "name": "stdout",
     "output_type": "stream",
     "text": [
      "['2021-06-04 00:00:00', '124.07', '126.16', '123.85', '125.89', '125.89', '75,087,300', 'AAPL']\n",
      "Price injection done\n"
     ]
    }
   ],
   "source": [
    "'''\n",
    "i = 'AAPL'\n",
    "r = requests.get(f'https://finance.yahoo.com/quote/{i}/history?p={i}')\n",
    "print(f'https://finance.yahoo.com/quote/{i}/history?p={i}')\n",
    "data = r.text\n",
    "soup = BeautifulSoup(data, features=\"lxml\")\n",
    "'''\n",
    "for j in range (0, len(soup.find_all('td'))):\n",
    "    #if the last working day in the db, do nothing\n",
    "    if pd.to_datetime(datums) != pd.to_datetime(z.date[z.symbol == i].iloc[0]):\n",
    "        break\n",
    "    else:\n",
    "        try:\n",
    "            #if 1st field is a date, 2nd is a number and yahoodate > last date in db\n",
    "            if (type(pd.to_datetime(soup.find_all('td')[j].text,infer_datetime_format=True)) == pd._libs.tslibs.timestamps.Timestamp) == True \\\n",
    "            and isinstance(locale.atof(soup.find_all('td')[j+1].text), (int, float, complex)) == True \\\n",
    "            and pd.to_datetime(soup.find_all('td')[j].text,infer_datetime_format=True) >= pd.to_datetime(z.date[z.symbol == i].iloc[0]):\n",
    "                answer = []\n",
    "                answer.append(str(pd.to_datetime(soup.find_all('td')[j].text,infer_datetime_format=True)))\n",
    "                answer = answer + [i.span.text for i in soup.find_all('td')[j+1: j+7]] + [i]\n",
    "                print(answer)\n",
    "                connection = sqlite3.connect('MSC/MSC.db')\n",
    "                cursor = connection.cursor()\n",
    "                sql2 = f'cursor.execute(\"insert INTO  prices ({columnnames}) VALUES ({insertintotable})\", {answer})'\n",
    "                eval(sql2)\n",
    "                connection.commit()\n",
    "                connection.close()\n",
    "\n",
    "            else: pass\n",
    "        except:pass            \n",
    "print('Price injection done')"
   ]
  },
  {
   "cell_type": "code",
   "execution_count": 40,
   "metadata": {
    "ExecuteTime": {
     "end_time": "2021-06-05T12:51:19.469570Z",
     "start_time": "2021-06-05T12:51:19.461182Z"
    }
   },
   "outputs": [
    {
     "data": {
      "text/plain": [
       "'!\"#$%&\\'()*+,-./:;<=>?@[\\\\]^_`{|}~'"
      ]
     },
     "execution_count": 40,
     "metadata": {},
     "output_type": "execute_result"
    }
   ],
   "source": [
    "import string\n",
    "string.punctuation"
   ]
  },
  {
   "cell_type": "code",
   "execution_count": null,
   "metadata": {},
   "outputs": [],
   "source": []
  }
 ],
 "metadata": {
  "kernelspec": {
   "display_name": "Python 3",
   "language": "python",
   "name": "python3"
  },
  "language_info": {
   "codemirror_mode": {
    "name": "ipython",
    "version": 3
   },
   "file_extension": ".py",
   "mimetype": "text/x-python",
   "name": "python",
   "nbconvert_exporter": "python",
   "pygments_lexer": "ipython3",
   "version": "3.7.4"
  },
  "toc": {
   "base_numbering": 1,
   "nav_menu": {},
   "number_sections": true,
   "sideBar": true,
   "skip_h1_title": false,
   "title_cell": "Table of Contents",
   "title_sidebar": "Contents",
   "toc_cell": false,
   "toc_position": {},
   "toc_section_display": true,
   "toc_window_display": false
  }
 },
 "nbformat": 4,
 "nbformat_minor": 2
}
