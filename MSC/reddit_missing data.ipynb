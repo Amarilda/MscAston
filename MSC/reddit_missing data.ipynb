{
 "cells": [
  {
   "cell_type": "markdown",
   "metadata": {
    "heading_collapsed": true
   },
   "source": [
    "# "
   ]
  },
  {
   "cell_type": "code",
   "execution_count": 1,
   "metadata": {
    "ExecuteTime": {
     "end_time": "2021-05-12T09:37:03.315322Z",
     "start_time": "2021-05-12T09:36:56.041307Z"
    },
    "hidden": true
   },
   "outputs": [],
   "source": [
    "import pandas as pd\n",
    "import sqlite3"
   ]
  },
  {
   "cell_type": "code",
   "execution_count": 7,
   "metadata": {
    "ExecuteTime": {
     "end_time": "2021-05-12T09:40:12.700591Z",
     "start_time": "2021-05-12T09:40:09.432080Z"
    },
    "hidden": true
   },
   "outputs": [],
   "source": [
    "from bs4 import BeautifulSoup\n",
    "import requests"
   ]
  },
  {
   "cell_type": "code",
   "execution_count": 6,
   "metadata": {
    "ExecuteTime": {
     "end_time": "2021-05-12T09:40:00.032164Z",
     "start_time": "2021-05-12T09:40:00.028247Z"
    },
    "hidden": true
   },
   "outputs": [],
   "source": [
    "url = \"https://www.redditsearch.io/?term=&dataviz=false&aggs=false&subreddits=worldnews&searchtype=posts&search=true&start=1609369200&end=1609455600&size=30\""
   ]
  },
  {
   "cell_type": "code",
   "execution_count": 8,
   "metadata": {
    "ExecuteTime": {
     "end_time": "2021-05-12T09:40:16.012840Z",
     "start_time": "2021-05-12T09:40:14.616921Z"
    },
    "hidden": true
   },
   "outputs": [],
   "source": [
    "r = requests.get(url)\n",
    "data = r.text\n",
    "soup = BeautifulSoup(data)"
   ]
  },
  {
   "cell_type": "code",
   "execution_count": 44,
   "metadata": {
    "ExecuteTime": {
     "end_time": "2021-05-12T09:57:45.960763Z",
     "start_time": "2021-05-12T09:57:45.953239Z"
    },
    "hidden": true
   },
   "outputs": [
    {
     "ename": "SyntaxError",
     "evalue": "invalid syntax (<ipython-input-44-a7f071a2ac10>, line 2)",
     "output_type": "error",
     "traceback": [
      "\u001b[0;36m  File \u001b[0;32m\"<ipython-input-44-a7f071a2ac10>\"\u001b[0;36m, line \u001b[0;32m2\u001b[0m\n\u001b[0;31m    for i in soup.find_all(\"div\",class =\"submission\"):\u001b[0m\n\u001b[0m                                     ^\u001b[0m\n\u001b[0;31mSyntaxError\u001b[0m\u001b[0;31m:\u001b[0m invalid syntax\n"
     ]
    }
   ],
   "source": [
    "answer = []\n",
    "for i in soup.find_all(\"div\",class_ =\"submission\"):\n",
    "    print(i)"
   ]
  },
  {
   "cell_type": "code",
   "execution_count": 51,
   "metadata": {
    "ExecuteTime": {
     "end_time": "2021-05-12T10:02:23.589038Z",
     "start_time": "2021-05-12T10:02:23.560981Z"
    },
    "hidden": true
   },
   "outputs": [
    {
     "name": "stdout",
     "output_type": "stream",
     "text": [
      "<!DOCTYPE html>\n",
      "<html lang=\"en-US\">\n",
      "<head>\n",
      "<meta content=\"width=device-width, initial-scale=1.0, maximum-scale=1.0, user-scalable=no\" name=\"viewport\"/>\n",
      "<meta charset=\"utf-8\"/>\n",
      "<meta content=\"A comprehensive search engine and real-time analytics tracker for the website Reddit\" name=\"description\"/>\n",
      "<meta content=\"Reddit,search,real-time,analytics,historical analysis,charts\" name=\"keywords\"/>\n",
      "<meta content=\"Jason Baumgartner\" name=\"author\"/>\n",
      "<meta content=\"INDEX, NOFOLLOW\" name=\"ROBOTS\"/>\n",
      "<title>Pushshift Reddit Search</title>\n",
      "<script>\r\n",
      "    (function (i, s, o, g, r, a, m) {\r\n",
      "      i['GoogleAnalyticsObject'] = r;\r\n",
      "      i[r] = i[r] || function () {\r\n",
      "        (i[r].q = i[r].q || []).push(arguments)\r\n",
      "      }, i[r].l = 1 * new Date();\r\n",
      "      a = s.createElement(o),\r\n",
      "        m = s.getElementsByTagName(o)[0];\r\n",
      "      a.async = 1;\r\n",
      "      a.src = g;\r\n",
      "      m.parentNode.insertBefore(a, m)\r\n",
      "    })(window, document, 'script', 'https://www.google-analytics.com/analytics.js', 'ga');\r\n",
      "\r\n",
      "    ga('create', 'UA-89339443-1', 'auto');\r\n",
      "    ga('send', 'pageview');\r\n",
      "  </script>\n",
      "<link href=\"https://fonts.googleapis.com/css?family=Raleway:400,300\" rel=\"stylesheet\" type=\"text/css\"/>\n",
      "<link href=\"https://fonts.googleapis.com/css?family=Unica+One\" rel=\"stylesheet\" type=\"text/css\"/>\n",
      "<link href=\"https://fonts.googleapis.com/css?family=Roboto\" rel=\"stylesheet\"/>\n",
      "<link href=\"//code.jquery.com/ui/1.12.0/themes/base/jquery-ui.css\" rel=\"stylesheet\"/>\n",
      "<link href=\"//fonts.googleapis.com/css?family=Ubuntu+Mono\" rel=\"stylesheet\" type=\"text/css\"/>\n",
      "<link href=\"https://fonts.googleapis.com/css?family=Ropa+Sans\" rel=\"stylesheet\"/>\n",
      "<script src=\"https://code.highcharts.com/stock/highstock.js\"></script>\n",
      "<script src=\"https://code.highcharts.com/highcharts-more.js\"></script>\n",
      "<script src=\"https://code.highcharts.com/modules/solid-gauge.js\"></script>\n",
      "<script src=\"https://code.highcharts.com/highcharts-3d.js\"></script>\n",
      "<script src=\"https://rawgithub.com/paulo-raca/highcharts-draggable-3d/master/draggable-3d.js\"></script>\n",
      "<script src=\"https://cdnjs.cloudflare.com/ajax/libs/sprintf/1.0.3/sprintf.min.js\"></script>\n",
      "<script src=\"https://cdn.jsdelivr.net/lodash/4.17.4/lodash.min.js\"></script>\n",
      "<script src=\"https://cdnjs.cloudflare.com/ajax/libs/moment.js/2.18.1/moment.min.js\"></script>\n",
      "<link href=\"pushshift-theme.css\" rel=\"stylesheet\" type=\"text/css\"/>\n",
      "</head>\n",
      "<body>\n",
      "<div class=\"radiowrapper\">\n",
      "<div class=\"toggle_radio2\">\n",
      "<input checked=\"\" class=\"searchtype_option\" id=\"first_toggle2\" name=\"toggle_searchtype\" type=\"radio\" value=\"filters\"/>\n",
      "<label for=\"first_toggle2\">\n",
      "<span class=\"description\">Search</span>\n",
      "</label>\n",
      "<input class=\"searchtype_option\" id=\"second_toggle2\" name=\"toggle_searchtype\" type=\"radio\" value=\"advanced\"/>\n",
      "<label for=\"second_toggle2\">\n",
      "<span class=\"description\">Filters</span>\n",
      "</label>\n",
      "<input class=\"searchtype_option\" id=\"third_toggle2\" name=\"toggle_searchtype\" type=\"radio\" value=\"utilities\"/>\n",
      "<label for=\"third_toggle2\">\n",
      "<span class=\"description\">Utilities</span>\n",
      "</label>\n",
      "<input class=\"searchtype_option\" id=\"forth_toggle2\" name=\"toggle_searchtype\" type=\"radio\" value=\"help\"/>\n",
      "<label for=\"forth_toggle2\">\n",
      "<span class=\"description\">Help</span>\n",
      "</label>\n",
      "<input class=\"searchtype_option\" id=\"fifth_toggle2\" name=\"toggle_searchtype\" type=\"radio\" value=\"donate\"/>\n",
      "<label for=\"fifth_toggle2\">\n",
      "<span class=\"description\">Donate</span>\n",
      "</label>\n",
      "<div class=\"toggle_option_slider2\"></div>\n",
      "</div>\n",
      "</div>\n",
      "<div class=\"radiowrapper\" id=\"searchtype-selection\">\n",
      "<div class=\"toggle_check\">\n",
      "<input checked=\"\" class=\"check_option\" id=\"first_check\" name=\"checkbox_1\" type=\"checkbox\" value=\"posts\"/>\n",
      "<label for=\"first_check\">Posts</label>\n",
      "<input class=\"check_option\" id=\"second_check\" name=\"checkbox_1\" type=\"checkbox\" value=\"comments\"/>\n",
      "<label for=\"second_check\">Comments</label>\n",
      "<input class=\"check_option\" id=\"third_check\" name=\"checkbox_1\" type=\"checkbox\" value=\"aggs\"/>\n",
      "<label for=\"third_check\">Aggregations</label>\n",
      "<input class=\"check_option\" id=\"fourth_check\" name=\"checkbox_1\" type=\"checkbox\" value=\"stats\"/>\n",
      "<label for=\"fourth_check\">Statistics</label>\n",
      "<input class=\"check_option\" id=\"fifth_check\" name=\"checkbox_1\" type=\"checkbox\" value=\"dataviz\"/>\n",
      "<label for=\"fifth_check\">Data Viz</label>\n",
      "</div>\n",
      "</div>\n",
      "<div class=\"radiowrapper\" id=\"time-selection\">\n",
      "<div class=\"toggle_radio\">\n",
      "<input checked=\"\" class=\"searchtime_option\" id=\"first_toggle\" name=\"toggle_option\" type=\"radio\" value=\"86400\"/>\n",
      "<label for=\"first_toggle\">\n",
      "<span class=\"description\">Day</span>\n",
      "</label>\n",
      "<input class=\"searchtime_option\" id=\"second_toggle\" name=\"toggle_option\" type=\"radio\" value=\"604800\"/>\n",
      "<label for=\"second_toggle\">\n",
      "<span class=\"description\">Week</span>\n",
      "</label>\n",
      "<input class=\"searchtime_option\" id=\"third_toggle\" name=\"toggle_option\" type=\"radio\" value=\"2678400\"/>\n",
      "<label for=\"third_toggle\">\n",
      "<span class=\"description\">Month</span>\n",
      "</label>\n",
      "<input class=\"searchtime_option\" id=\"forth_toggle\" name=\"toggle_option\" type=\"radio\" value=\"31536000\"/>\n",
      "<label for=\"forth_toggle\">\n",
      "<span class=\"description\">Year</span>\n",
      "</label>\n",
      "<input class=\"searchtime_option\" id=\"fifth_toggle\" name=\"toggle_option\" type=\"radio\" value=\"all\"/>\n",
      "<label for=\"fifth_toggle\">\n",
      "<span class=\"description\">All</span>\n",
      "</label>\n",
      "<input class=\"searchtime_option\" id=\"sixth_toggle\" name=\"toggle_option\" type=\"radio\" value=\"custom\"/>\n",
      "<label for=\"sixth_toggle\">\n",
      "<span class=\"description\">Custom</span>\n",
      "</label>\n",
      "<div class=\"toggle_option_slider\"></div>\n",
      "</div>\n",
      "</div>\n",
      "<div id=\"custom-dates\">\n",
      "<div class=\"parameters\">\n",
      "<input id=\"sstart\" name=\"sstart\" placeholder=\"mm/dd/yyyy hh:mm:ss\" type=\"text\"/>\n",
      "<label for=\"sterm\">Start Date</label>\n",
      "</div>\n",
      "<div class=\"parameters\">\n",
      "<input id=\"send\" name=\"send\" placeholder=\"mm/dd/yyyy hh:mm:ss\" type=\"text\"/>\n",
      "<label for=\"send\">End Date</label>\n",
      "</div>\n",
      "</div>\n",
      "<div id=\"search\">\n",
      "<div class=\"parameters\" id=\"stermcontainer\">\n",
      "<input id=\"sterm\" name=\"sterm\" type=\"text\"/>\n",
      "<label for=\"sterm\">Search Term</label>\n",
      "</div>\n",
      "<div id=\"utilities\">\n",
      "<div class=\"parameters\">\n",
      "<input id=\"sanalyzeuser\" name=\"sanalyzeuser\" type=\"text\"/>\n",
      "<label for=\"sanalyzeuser\">User Analyzer</label>\n",
      "<div class=\"icon\" id=\"snoo\"></div>\n",
      "<button>Go!</button>\n",
      "</div>\n",
      "<div class=\"parameters\">\n",
      "<input id=\"sanalyzesubreddi\" name=\"sanalyzesubreddit\" type=\"text\"/>\n",
      "<label for=\"sanalyzesubreddi\">Subreddit Suggestions</label>\n",
      "<div class=\"icon\" id=\"analyze-subreddit\">/r</div>\n",
      "</div>\n",
      "</div>\n",
      "<div id=\"advanced\">\n",
      "<div class=\"parameters\">\n",
      "<input id=\"smincommentscore\" name=\"smincommentscore\" type=\"text\"/>\n",
      "<label for=\"smincommentscore\">Min Score (Comments)</label>\n",
      "</div>\n",
      "<div class=\"parameters\">\n",
      "<input id=\"sminpostscore\" name=\"sminpostscore\" type=\"text\"/>\n",
      "<label for=\"sminpostscore\">Min Score (Posts)</label>\n",
      "</div>\n",
      "<div class=\"parameters\">\n",
      "<input id=\"sminnumcomments\" name=\"sminnumcomments\" type=\"text\"/>\n",
      "<label for=\"sminnumcomments\">Min # Comments (Posts)</label>\n",
      "</div>\n",
      "<div class=\"parameters\">\n",
      "<input id=\"ssize\" name=\"ssize\" type=\"text\" value=\"100\"/>\n",
      "<label for=\"ssize\">Result Size</label>\n",
      "</div>\n",
      "</div>\n",
      "<div id=\"filters\">\n",
      "<div class=\"parameters\">\n",
      "<input id=\"ssubreddits\" name=\"ssubreddits\" placeholder=\"All\" type=\"text\"/>\n",
      "<label for=\"ssubreddits\">Subreddits</label>\n",
      "</div>\n",
      "<div class=\"parameters\">\n",
      "<input id=\"sdomains\" name=\"sdomains\" placeholder=\"All\" type=\"text\"/>\n",
      "<label for=\"sdomains\">Domains</label>\n",
      "</div>\n",
      "</div>\n",
      "<button id=\"execute-search\">Search</button>\n",
      "<div class=\"data-display\" id=\"previous-searches\"></div>\n",
      "</div>\n",
      "<div class=\"div-container data-display\" id=\"status-container\">\n",
      "<div id=\"status\">\n",
      "<h2>Response Status</h2>\n",
      "<div id=\"status-content\"></div>\n",
      "</div>\n",
      "</div>\n",
      "<div class=\"div-container data-display\" id=\"stats-container\">\n",
      "<div id=\"stats\">\n",
      "<h2>Statistics</h2>\n",
      "<div id=\"stats-control\"></div>\n",
      "<div id=\"stats-content\"></div>\n",
      "</div>\n",
      "</div>\n",
      "<div class=\"graph-container data-display\">\n",
      "<div id=\"search-graph\"></div>\n",
      "</div>\n",
      "<div class=\"graph-container data-display\">\n",
      "<div id=\"post-graph\"></div>\n",
      "</div>\n",
      "<div class=\"graph-container data-display\">\n",
      "<div id=\"subreddit-graph\"></div>\n",
      "</div>\n",
      "<div class=\"graph-container data-display\">\n",
      "<div id=\"domain-graph\"></div>\n",
      "</div>\n",
      "<div id=\"donate\">\n",
      "<h2>Donations</h2>\n",
      "<p>\r\n",
      "      Maintaining and running this project requires a lot of time and money. If you find this site useful and would like to donate,\r\n",
      "      please feel free to visit\r\n",
      "      <a href=\"https://pushshift.io/donations\">https://pushshift.io/donations</a> to make a donation. All money received from donations will be reinvested back into\r\n",
      "      this project and helps offset hardware and bandwidth costs.\r\n",
      "    </p>\n",
      "<p>Thank you!</p>\n",
      "</div>\n",
      "<div id=\"help\">\n",
      "<h2>Quick Contact Information</h2>\n",
      "<p>Site Designer:\r\n",
      "      <a href=\"/cdn-cgi/l/email-protection#fe949f8d9190be8e8b8d968d9697988ad09791\">Jason Baumgartner</a>\n",
      "</p>\n",
      "<h2>Welcome!</h2>\n",
      "<p>Thank you for using Pushshift's Reddit Search Application! This application was designed from the ground up to be feature\r\n",
      "      rich while offering a very minimalist UI. This application was built for academic study of Reddit by providing the\r\n",
      "      ability to quickly find information using a full-featured API. This application and the back-end that powers it was\r\n",
      "      designed and implemented using Elasticsearch, PostgreSQL, Redis, Python3 /w Falcon and lots of code.</p>\n",
      "<p>If you have any questions about how to use this application, please send an e-mail to <a class=\"__cf_email__\" data-cfemail=\"0862697b676648787d7b607b60616e7c266167\" href=\"/cdn-cgi/l/email-protection\">[email protected]</a> or PM stuck_in_the_matrix\r\n",
      "      on Reddit.</p>\n",
      "<h2>First Column Controls (Search, Filters, Utilities, Help and Donate)</h2>\n",
      "<p>This application allows you to search both Reddit comments and posts. You can aggregate data to see trends and also which\r\n",
      "      subreddits are most popular given a specific search term. You can also research specific subreddits or users using\r\n",
      "      this tool.</p>\n",
      "<p>\r\n",
      "      The first column controls are the main controls that allow you to search, apply specific filters and to use utilities such\r\n",
      "      as the user and subreddit analyzer. </p>\n",
      "<h3>Search</h3>\n",
      "<p>When performing a search, the basic filters will appear which allow you to select a search term, subreddits and authors.\r\n",
      "      You can restrict your search to multiple subreddits by putting a comma between each subreddit. For example, if you\r\n",
      "      want to search for the term \"Einstein\" and restrict your search to the subreddits \"askscience\" and \"askhistorians,\"\r\n",
      "      you would put \"askscience,askhistorians\" in the Subreddits textbox (without the quotes).</p>\n",
      "<p>You can also exclude subreddits from your search. For instance, if you want to search for the term \"NFL\" but want to\r\n",
      "      exclude the subreddit /r/football, you would put a \"!\" first in the Subreddits textbox followed by the subreddit\r\n",
      "      (\"!football\"). If you want to exclude multiple subreddits, use a comma to separate them. You only need to put one \"!\"\r\n",
      "      at the beginning. For example, putting \"!football,baseball\" in the Subreddits textbox would return results for\r\n",
      "      all subreddits except /r/football and /r/baseball.</p>\n",
      "<p>The authors basic filter works the same way as the subreddits filter. You can exclude specific authors by putting \"!\"\r\n",
      "      first and then entering multiple authors separated by commas.\r\n",
      "    </p>\n",
      "<h3>Filters</h3>\n",
      "<p>Clicking \"Filters\" will bring up more advanced filtering and sorting options. [To be continued ...]</p>\n",
      "<h3>Utilities</h3>\n",
      "<p>Clicking \"Utilities\" will bring up new options including a user and subreddit analyzer. [To be continued ...]</p>\n",
      "<h3>Help</h3>\n",
      "<p>What you are reading now. Great work! :)</p>\n",
      "<h3>Donations</h3>\n",
      "<p>Information about how to donate to this project. Donations are greatly appreciated.</p>\n",
      "<h2>Second Column Options (Posts, Comments, Aggregations, Statistics, Data Viz)</h2>\n",
      "<p>These controls allow you to select the type of search you wish to execute. Multiple types can be selected simultaneously.</p>\n",
      "<p>[To be continued ...]</p>\n",
      "<h2>Third Column Time Controls (Day, Week, Month, Year, All, Custom)</h2>\n",
      "<p>\r\n",
      "      The third column controls what time-frame you'd like to search in. If you want to see recent comments and posts, keep the\r\n",
      "      time-frame recent by selecting \"day\" or \"week.\" If you want to find older posts or comments, you can increase the time-frame\r\n",
      "      at the cost of having the search take longer to complete.</p>\n",
      "<p>You can also specify your own custom time-frame by selecting \"Custom.\" You can enter just the date portion in the format\r\n",
      "      \"MM/DD/YYYY\" or, if you need to be more specific, you can also include the time portion using the format \"MM/DD/YYYY\r\n",
      "      HH:MM:SS\"\r\n",
      "    </p>\n",
      "</div>\n",
      "<div class=\"data-display\" id=\"results-container\">\n",
      "<div class=\"results\" id=\"posts\"></div>\n",
      "<div class=\"results\" id=\"comments\"></div>\n",
      "</div>\n",
      "<script data-cfasync=\"false\" src=\"/cdn-cgi/scripts/5c5dd728/cloudflare-static/email-decode.min.js\"></script><script crossorigin=\"anonymous\" integrity=\"sha256-hwg4gsxgFZhOsEEamdOYGBf13FyQuiTwlAQgxVSNgt4=\" src=\"https://code.jquery.com/jquery-3.2.1.min.js\"></script>\n",
      "<script src=\"https://code.jquery.com/ui/1.12.0/jquery-ui.min.js\"></script>\n",
      "<script src=\"markup.js\"></script>\n",
      "<script src=\"pushshift.js\"></script>\n",
      "</body>\n",
      "</html>\n",
      "\n"
     ]
    }
   ],
   "source": [
    "print(soup)"
   ]
  },
  {
   "cell_type": "code",
   "execution_count": 50,
   "metadata": {
    "ExecuteTime": {
     "end_time": "2021-05-12T10:01:27.531242Z",
     "start_time": "2021-05-12T10:01:27.524416Z"
    },
    "hidden": true
   },
   "outputs": [
    {
     "name": "stdout",
     "output_type": "stream",
     "text": [
      "<a href=\"https://pushshift.io/donations\">https://pushshift.io/donations</a>\n",
      "<a href=\"/cdn-cgi/l/email-protection#fe949f8d9190be8e8b8d968d9697988ad09791\">Jason Baumgartner</a>\n",
      "<a class=\"__cf_email__\" data-cfemail=\"0862697b676648787d7b607b60616e7c266167\" href=\"/cdn-cgi/l/email-protection\">[email protected]</a>\n"
     ]
    }
   ],
   "source": [
    "for link in soup.find_all('a', href=True):\n",
    "    print(link)"
   ]
  },
  {
   "cell_type": "code",
   "execution_count": 40,
   "metadata": {
    "ExecuteTime": {
     "end_time": "2021-05-12T09:54:08.874812Z",
     "start_time": "2021-05-12T09:54:08.862588Z"
    },
    "hidden": true
   },
   "outputs": [
    {
     "name": "stdout",
     "output_type": "stream",
     "text": [
      "<div class=\"toggle_option_slider2\"></div>\n",
      "<div class=\"toggle_option_slider\"></div>\n",
      "<div class=\"parameters\">\n",
      "<input id=\"sanalyzeuser\" name=\"sanalyzeuser\" type=\"text\"/>\n",
      "<label for=\"sanalyzeuser\">User Analyzer</label>\n",
      "<div class=\"icon\" id=\"snoo\"></div>\n",
      "<button>Go!</button>\n",
      "</div>\n",
      "<div class=\"icon\" id=\"snoo\"></div>\n",
      "<div class=\"parameters\">\n",
      "<input id=\"sanalyzesubreddi\" name=\"sanalyzesubreddit\" type=\"text\"/>\n",
      "<label for=\"sanalyzesubreddi\">Subreddit Suggestions</label>\n",
      "<div class=\"icon\" id=\"analyze-subreddit\">/r</div>\n",
      "</div>\n",
      "<div class=\"icon\" id=\"analyze-subreddit\">/r</div>\n",
      "<div class=\"icon\" id=\"snoo\"></div>\n",
      "<div class=\"icon\" id=\"analyze-subreddit\">/r</div>\n",
      "<div class=\"parameters\">\n",
      "<input id=\"smincommentscore\" name=\"smincommentscore\" type=\"text\"/>\n",
      "<label for=\"smincommentscore\">Min Score (Comments)</label>\n",
      "</div>\n",
      "<div class=\"parameters\">\n",
      "<input id=\"sminpostscore\" name=\"sminpostscore\" type=\"text\"/>\n",
      "<label for=\"sminpostscore\">Min Score (Posts)</label>\n",
      "</div>\n",
      "<div class=\"parameters\">\n",
      "<input id=\"sminnumcomments\" name=\"sminnumcomments\" type=\"text\"/>\n",
      "<label for=\"sminnumcomments\">Min # Comments (Posts)</label>\n",
      "</div>\n",
      "<div class=\"parameters\">\n",
      "<input id=\"ssize\" name=\"ssize\" type=\"text\" value=\"100\"/>\n",
      "<label for=\"ssize\">Result Size</label>\n",
      "</div>\n",
      "<div class=\"parameters\">\n",
      "<input id=\"ssubreddits\" name=\"ssubreddits\" placeholder=\"All\" type=\"text\"/>\n",
      "<label for=\"ssubreddits\">Subreddits</label>\n",
      "</div>\n",
      "<div class=\"parameters\">\n",
      "<input id=\"sdomains\" name=\"sdomains\" placeholder=\"All\" type=\"text\"/>\n",
      "<label for=\"sdomains\">Domains</label>\n",
      "</div>\n",
      "<div class=\"icon\" id=\"snoo\"></div>\n",
      "<div class=\"icon\" id=\"analyze-subreddit\">/r</div>\n",
      "<div id=\"status-content\"></div>\n",
      "<div id=\"stats-control\"></div>\n",
      "<div id=\"stats-content\"></div>\n"
     ]
    }
   ],
   "source": [
    "answer = []\n",
    "for i in soup.find_all(\"div\"):\n",
    "    #print(i)\n",
    "    for j in i.find_all(\"div\"):\n",
    "\n",
    "        for m in j.find_all(\"div\"):\n",
    "            print(m)"
   ]
  },
  {
   "cell_type": "code",
   "execution_count": null,
   "metadata": {
    "hidden": true
   },
   "outputs": [],
   "source": [
    "//*[@id=\"posts\"]/div[1]/div[2]/div[1]"
   ]
  },
  {
   "cell_type": "markdown",
   "metadata": {},
   "source": [
    "# "
   ]
  },
  {
   "cell_type": "code",
   "execution_count": 1,
   "metadata": {
    "ExecuteTime": {
     "end_time": "2021-05-12T14:57:50.232159Z",
     "start_time": "2021-05-12T14:57:34.710354Z"
    }
   },
   "outputs": [],
   "source": [
    "from bs4 import BeautifulSoup\n",
    "from selenium import webdriver\n",
    "import pandas as pd\n",
    "from selenium.webdriver.common.keys import Keys\n",
    "from selenium.webdriver.support import expected_conditions as EC\n",
    "from selenium.webdriver.common.by import By\n",
    "from selenium.webdriver.support.wait import WebDriverWait"
   ]
  },
  {
   "cell_type": "code",
   "execution_count": 153,
   "metadata": {
    "ExecuteTime": {
     "end_time": "2021-05-12T19:20:39.937865Z",
     "start_time": "2021-05-12T19:20:39.933752Z"
    }
   },
   "outputs": [],
   "source": [
    "import time"
   ]
  },
  {
   "cell_type": "code",
   "execution_count": 144,
   "metadata": {
    "ExecuteTime": {
     "end_time": "2021-05-12T19:17:44.044278Z",
     "start_time": "2021-05-12T19:17:31.874719Z"
    }
   },
   "outputs": [],
   "source": [
    "chrome_path = r'/Users/Edite/Downloads/chromedriver'\n",
    "driver = webdriver.Chrome(executable_path=chrome_path)\n",
    "driver.get('https://www.redditsearch.io')\n",
    "#html = driver.page_source\n",
    "\n",
    "soup = BeautifulSoup(driver.page_source, 'lxml')"
   ]
  },
  {
   "cell_type": "code",
   "execution_count": 145,
   "metadata": {
    "ExecuteTime": {
     "end_time": "2021-05-12T19:17:44.059263Z",
     "start_time": "2021-05-12T19:17:44.050384Z"
    }
   },
   "outputs": [],
   "source": [
    "subreddit = \"worldnews\"\n",
    "start= '01/01/2021'\n",
    "end= '01/02/2021'"
   ]
  },
  {
   "cell_type": "code",
   "execution_count": 146,
   "metadata": {
    "ExecuteTime": {
     "end_time": "2021-05-12T19:17:44.603181Z",
     "start_time": "2021-05-12T19:17:44.127104Z"
    }
   },
   "outputs": [],
   "source": [
    "# fill in world news\n",
    "\n",
    "searchbox = WebDriverWait(driver, 10).until(EC.element_to_be_clickable((By.CSS_SELECTOR, \"input[id='ssubreddits']\")))\n",
    "searchbox.clear()\n",
    "searchbox.send_keys(subreddit)"
   ]
  },
  {
   "cell_type": "code",
   "execution_count": 37,
   "metadata": {
    "ExecuteTime": {
     "end_time": "2021-05-12T15:49:13.010253Z",
     "start_time": "2021-05-12T15:49:12.901381Z"
    }
   },
   "outputs": [],
   "source": [
    "#Click on custom tab\n",
    "\n",
    "l =driver.find_element_by_xpath('//*[@id=\"time-selection\"]/div/label[6]/span')\n",
    "l.click()"
   ]
  },
  {
   "cell_type": "code",
   "execution_count": 38,
   "metadata": {
    "ExecuteTime": {
     "end_time": "2021-05-12T15:49:15.774893Z",
     "start_time": "2021-05-12T15:49:15.625090Z"
    }
   },
   "outputs": [],
   "source": [
    "st = WebDriverWait(driver, 10).until(EC.element_to_be_clickable((By.CSS_SELECTOR, 'input[id=\"sstart\"]')))\n",
    "st.send_keys(start)"
   ]
  },
  {
   "cell_type": "code",
   "execution_count": 39,
   "metadata": {
    "ExecuteTime": {
     "end_time": "2021-05-12T15:49:19.064694Z",
     "start_time": "2021-05-12T15:49:18.955219Z"
    }
   },
   "outputs": [],
   "source": [
    "en = WebDriverWait(driver, 10).until(EC.element_to_be_clickable((By.CSS_SELECTOR, 'input[id=\"send\"]')))\n",
    "en.send_keys(end)"
   ]
  },
  {
   "cell_type": "code",
   "execution_count": 41,
   "metadata": {
    "ExecuteTime": {
     "end_time": "2021-05-12T15:50:02.854599Z",
     "start_time": "2021-05-12T15:50:02.802281Z"
    }
   },
   "outputs": [],
   "source": [
    "l =driver.find_element_by_xpath('//*[@id=\"execute-search\"]')\n",
    "l.click()"
   ]
  },
  {
   "cell_type": "code",
   "execution_count": 57,
   "metadata": {
    "ExecuteTime": {
     "end_time": "2021-05-12T18:27:16.091056Z",
     "start_time": "2021-05-12T18:27:15.984380Z"
    }
   },
   "outputs": [],
   "source": [
    "soup = BeautifulSoup(driver.page_source, 'lxml')"
   ]
  },
  {
   "cell_type": "markdown",
   "metadata": {
    "ExecuteTime": {
     "end_time": "2021-05-12T18:45:00.944798Z",
     "start_time": "2021-05-12T18:45:00.840309Z"
    }
   },
   "source": [
    "for div in soup.find_all('div', class_='submission'):\n",
    "    #print(div)\n",
    "    print(div.find(class_=\"num-comments\").text)\n",
    "    print(div.find(class_=\"title\").text)\n",
    "    print(div.find(class_=\"date\"))\n",
    "\n",
    "    print()\n"
   ]
  },
  {
   "cell_type": "code",
   "execution_count": 167,
   "metadata": {
    "ExecuteTime": {
     "end_time": "2021-05-13T06:15:37.142484Z",
     "start_time": "2021-05-13T06:15:37.134825Z"
    }
   },
   "outputs": [],
   "source": [
    "a = [i.strftime('%m/%d/%Y') for i in pd.date_range('31/12/2020','03/07/2021')]\n",
    "b = [i.strftime('%m/%d/%Y') for i in pd.date_range('01/01/2021','03/08/2021')]"
   ]
  },
  {
   "cell_type": "code",
   "execution_count": 168,
   "metadata": {
    "ExecuteTime": {
     "end_time": "2021-05-13T06:15:46.852421Z",
     "start_time": "2021-05-13T06:15:46.844186Z"
    }
   },
   "outputs": [],
   "source": [
    "df = pd.DataFrame(columns = ['date', 'comments', 'headline', 'time'])"
   ]
  },
  {
   "cell_type": "code",
   "execution_count": 169,
   "metadata": {
    "ExecuteTime": {
     "end_time": "2021-05-13T06:28:22.195694Z",
     "start_time": "2021-05-13T06:16:13.659007Z"
    }
   },
   "outputs": [
    {
     "name": "stdout",
     "output_type": "stream",
     "text": [
      "12/31/2020 01/01/2021\n",
      "01/01/2021 01/02/2021\n",
      "01/02/2021 01/03/2021\n",
      "01/03/2021 01/04/2021\n",
      "01/04/2021 01/05/2021\n",
      "01/05/2021 01/06/2021\n",
      "01/06/2021 01/07/2021\n",
      "01/07/2021 01/08/2021\n",
      "01/08/2021 01/09/2021\n",
      "01/09/2021 01/10/2021\n",
      "01/10/2021 01/11/2021\n",
      "01/11/2021 01/12/2021\n",
      "01/12/2021 01/13/2021\n",
      "01/13/2021 01/14/2021\n",
      "01/14/2021 01/15/2021\n",
      "01/15/2021 01/16/2021\n",
      "01/16/2021 01/17/2021\n",
      "01/17/2021 01/18/2021\n",
      "01/18/2021 01/19/2021\n",
      "01/19/2021 01/20/2021\n",
      "01/20/2021 01/21/2021\n",
      "01/21/2021 01/22/2021\n",
      "01/22/2021 01/23/2021\n",
      "01/23/2021 01/24/2021\n",
      "01/24/2021 01/25/2021\n",
      "01/25/2021 01/26/2021\n",
      "01/26/2021 01/27/2021\n",
      "01/27/2021 01/28/2021\n",
      "01/28/2021 01/29/2021\n",
      "01/29/2021 01/30/2021\n",
      "01/30/2021 01/31/2021\n",
      "01/31/2021 02/01/2021\n",
      "02/01/2021 02/02/2021\n",
      "02/02/2021 02/03/2021\n",
      "02/03/2021 02/04/2021\n",
      "02/04/2021 02/05/2021\n",
      "02/05/2021 02/06/2021\n",
      "02/06/2021 02/07/2021\n",
      "02/07/2021 02/08/2021\n",
      "02/08/2021 02/09/2021\n",
      "02/09/2021 02/10/2021\n",
      "02/10/2021 02/11/2021\n",
      "02/11/2021 02/12/2021\n",
      "02/12/2021 02/13/2021\n",
      "02/13/2021 02/14/2021\n",
      "02/14/2021 02/15/2021\n",
      "02/15/2021 02/16/2021\n",
      "02/16/2021 02/17/2021\n",
      "02/17/2021 02/18/2021\n",
      "02/18/2021 02/19/2021\n",
      "02/19/2021 02/20/2021\n",
      "02/20/2021 02/21/2021\n",
      "02/21/2021 02/22/2021\n",
      "02/22/2021 02/23/2021\n",
      "02/23/2021 02/24/2021\n",
      "02/24/2021 02/25/2021\n",
      "02/25/2021 02/26/2021\n",
      "02/26/2021 02/27/2021\n",
      "02/27/2021 02/28/2021\n",
      "02/28/2021 03/01/2021\n",
      "03/01/2021 03/02/2021\n",
      "03/02/2021 03/03/2021\n",
      "03/03/2021 03/04/2021\n",
      "03/04/2021 03/05/2021\n",
      "03/05/2021 03/06/2021\n",
      "03/06/2021 03/07/2021\n",
      "03/07/2021 03/08/2021\n"
     ]
    }
   ],
   "source": [
    "for i in list(zip(a,b)):\n",
    "    start = i[0]\n",
    "    end = i[1]\n",
    "    print(i[0], i[1])\n",
    "    \n",
    "    #custom range\n",
    "    l =driver.find_element_by_xpath('//*[@id=\"time-selection\"]/div/label[6]/span')\n",
    "    l.click()\n",
    "    # start date\n",
    "    st = WebDriverWait(driver, 10).until(EC.element_to_be_clickable((By.CSS_SELECTOR, 'input[id=\"sstart\"]')))\n",
    "    st.clear()\n",
    "    st.send_keys(start)\n",
    "    #end date\n",
    "    en = WebDriverWait(driver, 10).until(EC.element_to_be_clickable((By.CSS_SELECTOR, 'input[id=\"send\"]')))\n",
    "    en.clear()\n",
    "    en.send_keys(end)\n",
    "    #enter\n",
    "    l =driver.find_element_by_xpath('//*[@id=\"execute-search\"]')\n",
    "    l.click()\n",
    "    \n",
    "    WebDriverWait(driver, 30   )\n",
    "    time.sleep(10)\n",
    "    \n",
    "    soup = BeautifulSoup(driver.page_source, 'lxml')\n",
    "    counter = 1\n",
    "    atbilde = []\n",
    "    for div in soup.find_all('div', class_='submission'):\n",
    "        atbilde = []\n",
    "        atbilde.append(i[1])\n",
    "        #print(div.find(class_=\"num-comments\").text)\n",
    "        atbilde.append(div.find(class_=\"num-comments\").text)\n",
    "        #print(div.find(class_=\"title\").text)\n",
    "        atbilde.append(div.find(class_=\"title\").text)\n",
    "        atbilde.append(div.find(class_=\"date\"))\n",
    "        #print(div.find(class_=\"date\"))\n",
    "        df.loc[len(df)]= atbilde\n",
    "        \n",
    "#print(df)"
   ]
  },
  {
   "cell_type": "code",
   "execution_count": 170,
   "metadata": {
    "ExecuteTime": {
     "end_time": "2021-05-13T06:34:12.677240Z",
     "start_time": "2021-05-13T06:34:12.669783Z"
    }
   },
   "outputs": [
    {
     "data": {
      "text/plain": [
       "(6590, 4)"
      ]
     },
     "execution_count": 170,
     "metadata": {},
     "output_type": "execute_result"
    }
   ],
   "source": [
    "df.shape"
   ]
  },
  {
   "cell_type": "code",
   "execution_count": 171,
   "metadata": {
    "ExecuteTime": {
     "end_time": "2021-05-13T06:34:34.495436Z",
     "start_time": "2021-05-13T06:34:26.036618Z"
    }
   },
   "outputs": [],
   "source": [
    "df.to_excel('old_reddit.xlsx')"
   ]
  },
  {
   "cell_type": "code",
   "execution_count": null,
   "metadata": {},
   "outputs": [],
   "source": []
  }
 ],
 "metadata": {
  "kernelspec": {
   "display_name": "Python 3",
   "language": "python",
   "name": "python3"
  },
  "language_info": {
   "codemirror_mode": {
    "name": "ipython",
    "version": 3
   },
   "file_extension": ".py",
   "mimetype": "text/x-python",
   "name": "python",
   "nbconvert_exporter": "python",
   "pygments_lexer": "ipython3",
   "version": "3.7.4"
  },
  "toc": {
   "base_numbering": 1,
   "nav_menu": {},
   "number_sections": true,
   "sideBar": true,
   "skip_h1_title": false,
   "title_cell": "Table of Contents",
   "title_sidebar": "Contents",
   "toc_cell": false,
   "toc_position": {},
   "toc_section_display": true,
   "toc_window_display": false
  }
 },
 "nbformat": 4,
 "nbformat_minor": 2
}
