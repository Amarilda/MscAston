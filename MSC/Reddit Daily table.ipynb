{
 "cells": [
  {
   "cell_type": "code",
   "execution_count": 2,
   "metadata": {
    "ExecuteTime": {
     "end_time": "2021-03-28T12:56:35.831501Z",
     "start_time": "2021-03-28T12:56:16.848679Z"
    }
   },
   "outputs": [],
   "source": [
    "import requests\n",
    "from datetime import datetime\n",
    "import datetime\n",
    "import pandas as pd\n",
    "import sqlite3\n",
    "import praw"
   ]
  },
  {
   "cell_type": "code",
   "execution_count": 3,
   "metadata": {
    "ExecuteTime": {
     "end_time": "2021-03-28T12:56:35.918684Z",
     "start_time": "2021-03-28T12:56:35.835851Z"
    }
   },
   "outputs": [],
   "source": [
    "from credentials import credentials"
   ]
  },
  {
   "cell_type": "code",
   "execution_count": 4,
   "metadata": {
    "ExecuteTime": {
     "end_time": "2021-03-28T12:56:35.945640Z",
     "start_time": "2021-03-28T12:56:35.931425Z"
    }
   },
   "outputs": [],
   "source": [
    "client_id, client_secret,password, user_agent, username = credentials"
   ]
  },
  {
   "cell_type": "code",
   "execution_count": 5,
   "metadata": {
    "ExecuteTime": {
     "end_time": "2021-03-28T12:56:47.049208Z",
     "start_time": "2021-03-28T12:56:35.951179Z"
    }
   },
   "outputs": [],
   "source": [
    "reddit = praw.Reddit(\n",
    "    client_id=client_id,\n",
    "    client_secret=client_secret,\n",
    "    password=password,\n",
    "    user_agent=user_agent,\n",
    "    username=username,\n",
    ")"
   ]
  },
  {
   "cell_type": "code",
   "execution_count": 6,
   "metadata": {
    "ExecuteTime": {
     "end_time": "2021-03-28T12:57:13.918316Z",
     "start_time": "2021-03-28T12:56:47.052607Z"
    }
   },
   "outputs": [
    {
     "name": "stdout",
     "output_type": "stream",
     "text": [
      "JustAnotherCogg\n"
     ]
    }
   ],
   "source": [
    "print(reddit.user.me())"
   ]
  },
  {
   "cell_type": "code",
   "execution_count": 7,
   "metadata": {
    "ExecuteTime": {
     "end_time": "2021-03-28T12:57:13.926671Z",
     "start_time": "2021-03-28T12:57:13.920957Z"
    }
   },
   "outputs": [
    {
     "name": "stdout",
     "output_type": "stream",
     "text": [
      "False\n"
     ]
    }
   ],
   "source": [
    "print(reddit.read_only)"
   ]
  },
  {
   "cell_type": "code",
   "execution_count": 11,
   "metadata": {},
   "outputs": [
    {
     "name": "stdout",
     "output_type": "stream",
     "text": [
      "110\n"
     ]
    }
   ],
   "source": [
    "top_posts = reddit.subreddit('worldnews').top(time_filter='day',limit=5)\n",
    "i = 1\n",
    "kolonas = ['moment', 'daily_rank']\n",
    "\n",
    "for post in top_posts:\n",
    "     for m in vars(post):\n",
    "            if m not in kolonas:\n",
    "                kolonas.append(m)"
   ]
  },
  {
   "cell_type": "code",
   "execution_count": 47,
   "metadata": {},
   "outputs": [
    {
     "data": {
      "text/plain": [
       "\"cursor.execute('''CREATE TABLE 2021-04-07 (\""
      ]
     },
     "execution_count": 47,
     "metadata": {},
     "output_type": "execute_result"
    }
   ],
   "source": [
    "sodiena = datetime.date.today()\n",
    "string = f\"cursor.execute('''CREATE TABLE {sodiena} (\"\n",
    "string "
   ]
  },
  {
   "cell_type": "code",
   "execution_count": 57,
   "metadata": {},
   "outputs": [],
   "source": [
    "sqlscript = []\n",
    "sqlscript.append(f\"cursor.execute('''CREATE TABLE {sodiena} (\")\n",
    "for k in kolonas:\n",
    "    sqlscript.append(f\"{k} TEXT\")\n",
    "    "
   ]
  },
  {
   "cell_type": "code",
   "execution_count": 58,
   "metadata": {},
   "outputs": [
    {
     "data": {
      "text/plain": [
       "[\"cursor.execute('''CREATE TABLE 2021-04-07 (\",\n",
       " 'moment TEXT',\n",
       " 'daily_rank TEXT',\n",
       " 'comment_limit TEXT',\n",
       " 'comment_sort TEXT',\n",
       " '_reddit TEXT',\n",
       " 'approved_at_utc TEXT',\n",
       " 'subreddit TEXT',\n",
       " 'selftext TEXT',\n",
       " 'author_fullname TEXT',\n",
       " 'saved TEXT',\n",
       " 'mod_reason_title TEXT',\n",
       " 'gilded TEXT',\n",
       " 'clicked TEXT',\n",
       " 'title TEXT',\n",
       " 'link_flair_richtext TEXT',\n",
       " 'subreddit_name_prefixed TEXT',\n",
       " 'hidden TEXT',\n",
       " 'pwls TEXT',\n",
       " 'link_flair_css_class TEXT',\n",
       " 'downs TEXT',\n",
       " 'top_awarded_type TEXT',\n",
       " 'hide_score TEXT',\n",
       " 'name TEXT',\n",
       " 'quarantine TEXT',\n",
       " 'link_flair_text_color TEXT',\n",
       " 'upvote_ratio TEXT',\n",
       " 'author_flair_background_color TEXT',\n",
       " 'subreddit_type TEXT',\n",
       " 'ups TEXT',\n",
       " 'total_awards_received TEXT',\n",
       " 'media_embed TEXT',\n",
       " 'author_flair_template_id TEXT',\n",
       " 'is_original_content TEXT',\n",
       " 'user_reports TEXT',\n",
       " 'secure_media TEXT',\n",
       " 'is_reddit_media_domain TEXT',\n",
       " 'is_meta TEXT',\n",
       " 'category TEXT',\n",
       " 'secure_media_embed TEXT',\n",
       " 'link_flair_text TEXT',\n",
       " 'can_mod_post TEXT',\n",
       " 'score TEXT',\n",
       " 'approved_by TEXT',\n",
       " 'author_premium TEXT',\n",
       " 'thumbnail TEXT',\n",
       " 'edited TEXT',\n",
       " 'author_flair_css_class TEXT',\n",
       " 'author_flair_richtext TEXT',\n",
       " 'gildings TEXT',\n",
       " 'content_categories TEXT',\n",
       " 'is_self TEXT',\n",
       " 'mod_note TEXT',\n",
       " 'created TEXT',\n",
       " 'link_flair_type TEXT',\n",
       " 'wls TEXT',\n",
       " 'removed_by_category TEXT',\n",
       " 'banned_by TEXT',\n",
       " 'author_flair_type TEXT',\n",
       " 'domain TEXT',\n",
       " 'allow_live_comments TEXT',\n",
       " 'selftext_html TEXT',\n",
       " 'likes TEXT',\n",
       " 'suggested_sort TEXT',\n",
       " 'banned_at_utc TEXT',\n",
       " 'url_overridden_by_dest TEXT',\n",
       " 'view_count TEXT',\n",
       " 'archived TEXT',\n",
       " 'no_follow TEXT',\n",
       " 'is_crosspostable TEXT',\n",
       " 'pinned TEXT',\n",
       " 'over_18 TEXT',\n",
       " 'all_awardings TEXT',\n",
       " 'awarders TEXT',\n",
       " 'media_only TEXT',\n",
       " 'can_gild TEXT',\n",
       " 'spoiler TEXT',\n",
       " 'locked TEXT',\n",
       " 'author_flair_text TEXT',\n",
       " 'treatment_tags TEXT',\n",
       " 'visited TEXT',\n",
       " 'removed_by TEXT',\n",
       " 'num_reports TEXT',\n",
       " 'distinguished TEXT',\n",
       " 'subreddit_id TEXT',\n",
       " 'mod_reason_by TEXT',\n",
       " 'removal_reason TEXT',\n",
       " 'link_flair_background_color TEXT',\n",
       " 'id TEXT',\n",
       " 'is_robot_indexable TEXT',\n",
       " 'report_reasons TEXT',\n",
       " 'author TEXT',\n",
       " 'discussion_type TEXT',\n",
       " 'num_comments TEXT',\n",
       " 'send_replies TEXT',\n",
       " 'whitelist_status TEXT',\n",
       " 'contest_mode TEXT',\n",
       " 'mod_reports TEXT',\n",
       " 'author_patreon_flair TEXT',\n",
       " 'author_flair_text_color TEXT',\n",
       " 'permalink TEXT',\n",
       " 'parent_whitelist_status TEXT',\n",
       " 'stickied TEXT',\n",
       " 'url TEXT',\n",
       " 'subreddit_subscribers TEXT',\n",
       " 'created_utc TEXT',\n",
       " 'num_crossposts TEXT',\n",
       " 'media TEXT',\n",
       " 'is_video TEXT',\n",
       " '_fetched TEXT',\n",
       " '_comments_by_id TEXT']"
      ]
     },
     "execution_count": 58,
     "metadata": {},
     "output_type": "execute_result"
    }
   ],
   "source": [
    "sqlscript"
   ]
  },
  {
   "cell_type": "code",
   "execution_count": 7,
   "metadata": {
    "ExecuteTime": {
     "end_time": "2021-03-31T07:28:02.928277Z",
     "start_time": "2021-03-31T07:27:19.187424Z"
    }
   },
   "outputs": [
    {
     "name": "stdout",
     "output_type": "stream",
     "text": [
      "crosspost_parent_list\n",
      "crosspost_parent\n"
     ]
    }
   ],
   "source": [
    "top_posts = reddit.subreddit('worldnews').top(time_filter='day',limit=30)\n",
    "i = 1\n",
    "\n",
    "connection = sqlite3.connect('MSC.db')\n",
    "cursor = connection.cursor()\n",
    "sql = ('Select * from top30')\n",
    "z = pd.read_sql_query(sql,connection)\n",
    "\n",
    "for post in top_posts:\n",
    "    atbilde =[]\n",
    "    atbilde.append(str(datetime.datetime.now()))\n",
    "    atbilde.append(str(i))\n",
    "    for j in z.columns[2:]:\n",
    "        try:\n",
    "            atbilde.append(str(eval(\"post.\"+j)))\n",
    "        except:\n",
    "            atbilde.append(\"\")\n",
    "\n",
    "    for m in vars(post):\n",
    "        if m not in z.columns[2:]:\n",
    "            print(m)\n",
    "    \n",
    "    connection = sqlite3.connect('MSC.db')\n",
    "    cursor = connection.cursor()\n",
    "    sql2 = (\"insert INTO top30('moment', 'daily_rank', 'comment_limit', 'comment_sort', '_reddit', 'approved_at_utc', 'subreddit', 'selftext', 'author_fullname', 'saved', 'mod_reason_title', 'gilded', 'clicked', 'title', 'link_flair_richtext', 'subreddit_name_prefixed', 'hidden', 'pwls', 'link_flair_css_class', 'downs', 'top_awarded_type', 'hide_score', 'name', 'quarantine', 'link_flair_text_color', 'upvote_ratio', 'author_flair_background_color', 'subreddit_type', 'ups', 'total_awards_received', 'media_embed', 'author_flair_template_id', 'is_original_content', 'user_reports', 'secure_media', 'is_reddit_media_domain', 'is_meta', 'category', 'secure_media_embed', 'link_flair_text', 'can_mod_post', 'score', 'approved_by', 'author_premium', 'thumbnail', 'edited', 'author_flair_css_class', 'author_flair_richtext', 'gildings', 'content_categories', 'is_self', 'mod_note', 'created', 'link_flair_type', 'wls', 'removed_by_category', 'banned_by', 'author_flair_type', 'domain', 'allow_live_comments', 'selftext_html', 'likes', 'suggested_sort', 'banned_at_utc', 'url_overridden_by_dest', 'view_count', 'archived', 'no_follow', 'is_crosspostable', 'pinned', 'over_18', 'all_awardings', 'awarders', 'media_only', 'can_gild', 'spoiler', 'locked', 'author_flair_text', 'treatment_tags', 'visited', 'removed_by', 'num_reports', 'distinguished', 'subreddit_id', 'mod_reason_by', 'removal_reason', 'link_flair_background_color', 'id', 'is_robot_indexable', 'report_reasons', 'author', 'discussion_type', 'num_comments', 'send_replies', 'whitelist_status', 'contest_mode', 'mod_reports', 'author_patreon_flair', 'author_flair_text_color', 'permalink', 'parent_whitelist_status', 'stickied', 'url', 'subreddit_subscribers', 'created_utc', 'num_crossposts', 'media', 'is_video', '_fetched', '_comments_by_id', 'author_cakeday', 'flair', 'link_flair_template_id', 'num_duplicates', 'post_hint', 'preview', 'thumbnail_height', 'thumbnail_width','_comments') VALUES (?,?,?,?,?,?,?,?,?,?,?,?,?,?,?,?,?,?,?,?,?,?,?,?,?,?,?,?,?,?,?,?,?,?,?,?,?,?,?,?,?,?,?,?,?,?,?,?,?,?,?,?,?,?,?,?,?,?,?,?,?,?,?,?,?,?,?,?,?,?,?,?,?,?,?,?,?,?,?,?,?,?,?,?,?,?,?,?,?,?,?,?,?,?,?,?,?,?,?,?,?,?,?,?,?,?,?,?,?,?,?,?,?,?,?,?,?,?,?)\")\n",
    "    cursor.execute(sql2, atbilde)          \n",
    "    connection.commit()\n",
    "    connection.close()\n",
    "    \n",
    "    i +=1"
   ]
  },
  {
   "cell_type": "code",
   "execution_count": 8,
   "metadata": {
    "ExecuteTime": {
     "end_time": "2021-03-31T07:28:02.991146Z",
     "start_time": "2021-03-31T07:28:02.931278Z"
    }
   },
   "outputs": [],
   "source": [
    "connection = sqlite3.connect('MSC.db')\n",
    "cursor = connection.cursor()\n",
    "\n",
    "sql = (\"Select * from top30 where moment>date('now')\")\n",
    "z = pd.read_sql_query(sql,connection)"
   ]
  },
  {
   "cell_type": "code",
   "execution_count": 9,
   "metadata": {
    "ExecuteTime": {
     "end_time": "2021-03-31T07:33:21.779452Z",
     "start_time": "2021-03-31T07:33:21.770998Z"
    }
   },
   "outputs": [
    {
     "name": "stdout",
     "output_type": "stream",
     "text": [
      "1 ‘We will not be intimidated.’ Despite China threats, Lithuania moves to recognise Uighur genocide\n",
      "2 Ghislaine Maxwell prosecution reveals nearly 3 million pages of evidence\n",
      "3 Russian Police Detain CNN Journalist Reporting on Alexei Navalny’s Move to Prison Hospital\n",
      "4 Amnesty International says Russia may be slowly killing Navalny\n",
      "5 ‘We’ve lost our entire European trade’: Brexit’s impact on UK chocolate makers\n",
      "6 French TV documentary says Champagne, lobster and no masks on menu at one of multiple high-end “clandestine restaurants” catering to Paris elite, in violation of nationwide pandemic restrictions. One organizer claimed government ministers are among those who attend.\n",
      "7 Ukraine pressures Nato for membership as Russia amasses troops at border\n",
      "8 Sri Lanka bans palm oil imports, tells producers to uproot plantations\n",
      "9 Russian police detain Navalny’s doctor over prison protest\n",
      "10 Myanmar forces arrest the comedian Zarganar. In the past week, the junta has issued arrest warrants for about 100 people active in the fields of literature, film, theater arts, music and journalism on charges of spreading information that undermines the stability of the country and the rule of law.\n",
      "11 North Korean workers in Russia defect to South Korea\n",
      "12 Ukraine looks to Canada for help with NATO membership as Russian military buildup grows\n",
      "13 White House says Ukraine has long aspired to join NATO and that the Biden administration has been discussing that aspiration with the country\n",
      "14 Two Uighur ex-government officials in China's Xinjiang have been handed death sentences for carrying out \"separatist activities\", a court said, as Beijing comes under increasing fire for its actions towards minority groups in the region\n",
      "15 US asks Russia to explain Ukrainian border 'provocations'\n",
      "16 Russia using 'Red Cross' ambulances as a ruse to practise killing enemy forces\n",
      "17 Brazilian beef giant JBS vows to go deforestation-free, 14 years from now: activists say this largest animal protein producer on Earth's announcement reflects lack of understanding of current deforestation crisis in the Amazon\n",
      "18 AstraZeneca COVID-19 Vaccine Has Link With Blood Clots, Cause Unclear, Says Top European Medicines Agency Official\n",
      "19 US and Chinese aircraft carriers sail into disputed South China Sea, as 'fishing' standoff rumbles on\n",
      "20 Evidence of Antarctic Glacier’s Tipping Point Confirmed for First Time: Researchers have confirmed for the first time that Pine Island Glacier in West Antarctica could cross tipping points, leading to a rapid and irreversible retreat which would have significant consequences for global sea level.\n",
      "21 Activist And Wartime Rape Survivor Elected To Kosovo Parliament\n",
      "22 Ukraine says NATO path is only way to end war in eastern region\n",
      "23 China tells Japan to stay out of Hong Kong and Xinjiang issues\n",
      "24 Alexei Navalny's Supporters Detained and Denied Prison Visit\n",
      "25 AstraZeneca trial in children paused after more blood clot reports in adults\n",
      "26 More than 1,800 prisoners escape in Nigeria\n",
      "27 Beijing mouthpiece warns PH military of ‘strong response’ if Chinese vessels made to leave PH EEZ\n",
      "28 US is ‘concerned’ over 20-year sentence of Saudi aid worker by counterterrorism court. His arrest is believed to be connected to an anonymous Twitter account he ran that satirized the Saudi government.\n",
      "29 Chinese foreign minister warns against foreign interference in Myanmar\n",
      "30 Canada's hospitals deploy artificial lungs, scramble for staff as COVID-19 hits younger patients\n"
     ]
    }
   ],
   "source": [
    "for l, m in(zip(z.daily_rank ,z.title)):\n",
    "    print(l, m)"
   ]
  }
 ],
 "metadata": {
  "kernelspec": {
   "display_name": "Python 3",
   "language": "python",
   "name": "python3"
  },
  "language_info": {
   "codemirror_mode": {
    "name": "ipython",
    "version": 3
   },
   "file_extension": ".py",
   "mimetype": "text/x-python",
   "name": "python",
   "nbconvert_exporter": "python",
   "pygments_lexer": "ipython3",
   "version": "3.8.5"
  },
  "toc": {
   "base_numbering": 1,
   "nav_menu": {},
   "number_sections": true,
   "sideBar": true,
   "skip_h1_title": false,
   "title_cell": "Table of Contents",
   "title_sidebar": "Contents",
   "toc_cell": false,
   "toc_position": {},
   "toc_section_display": true,
   "toc_window_display": false
  }
 },
 "nbformat": 4,
 "nbformat_minor": 4
}
