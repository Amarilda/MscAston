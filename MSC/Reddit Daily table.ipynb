{
 "cells": [
  {
   "cell_type": "code",
   "execution_count": 5,
   "metadata": {
    "ExecuteTime": {
     "end_time": "2021-04-12T07:54:34.166464Z",
     "start_time": "2021-04-12T07:54:32.711797Z"
    }
   },
   "outputs": [
    {
     "name": "stdout",
     "output_type": "stream",
     "text": [
      "JustAnotherCogg\n"
     ]
    }
   ],
   "source": [
    "import requests\n",
    "from datetime import datetime\n",
    "import datetime\n",
    "import pandas as pd\n",
    "import sqlite3\n",
    "import praw\n",
    "\n",
    "from credentials import credentials\n",
    "\n",
    "client_id, client_secret,password, user_agent, username = credentials\n",
    "\n",
    "reddit = praw.Reddit(\n",
    "    client_id=client_id,\n",
    "    client_secret=client_secret,\n",
    "    password=password,\n",
    "    user_agent=user_agent,\n",
    "    username=username,\n",
    ")\n",
    "\n",
    "print(reddit.user.me())"
   ]
  },
  {
   "cell_type": "code",
   "execution_count": 12,
   "metadata": {
    "ExecuteTime": {
     "end_time": "2021-04-14T05:28:02.633093Z",
     "start_time": "2021-04-14T05:27:55.355380Z"
    }
   },
   "outputs": [
    {
     "name": "stdout",
     "output_type": "stream",
     "text": [
      "done\n"
     ]
    }
   ],
   "source": [
    "top_posts = reddit.subreddit('worldnews').top(time_filter='day',limit=30)\n",
    "\n",
    "#Get all unique columns\n",
    "kolonas = ['moment', 'daily_rank']   \n",
    "for post in top_posts:\n",
    "     for m in vars(post):\n",
    "            if m not in kolonas:\n",
    "                kolonas.append(m)\n",
    "                \n",
    "sodiena = str(\"ER\"+datetime.date.today().strftime('%Y%m%d')+\"a\")\n",
    "\n",
    "createtable = \"\"\n",
    "columnnames = \"\"\n",
    "insertintotable = \"\"\n",
    "\n",
    "#Create strings for SQL injection\n",
    "z = len(kolonas)\n",
    "for k in kolonas:\n",
    "    if z > 1:\n",
    "        createtable+= str(k + \" TEXT,\")\n",
    "        columnnames += str(f\"'{k}', \")\n",
    "        insertintotable += str(\"?,\")\n",
    "        \n",
    "    else:\n",
    "        createtable+= str(k + \" TEXT\")\n",
    "        columnnames += str(k)\n",
    "        insertintotable += str(\"?\")\n",
    "    z+= -1\n",
    "    \n",
    "#Drop and create the todays table\n",
    "connection = sqlite3.connect('MSC.db')\n",
    "cursor = connection.cursor()\n",
    "a = f\"cursor.executescript('DROP TABLE IF EXISTS {sodiena}')\"\n",
    "b = f\"cursor.execute('''CREATE TABLE {sodiena} ({createtable} )''')\"\n",
    "\n",
    "eval(a)\n",
    "eval(b)\n",
    "    \n",
    "#An actual webscraping\n",
    "top_posts = reddit.subreddit('worldnews').top(time_filter='day',limit=30)\n",
    "i = 1\n",
    "for post in top_posts:    \n",
    "    atbilde =[]\n",
    "    atbilde.append(str(datetime.datetime.now()))\n",
    "    atbilde.append(str(i))\n",
    "    for j in kolonas[2:]:\n",
    "        try:\n",
    "            atbilde.append(str(eval(\"post.\"+j)))\n",
    "        except:\n",
    "            atbilde.append(\"\")\n",
    "    \n",
    "    connection = sqlite3.connect('MSC.db')\n",
    "    cursor = connection.cursor()\n",
    "    sql2 = f'cursor.execute(\"insert INTO  {sodiena} ({columnnames}) VALUES ({insertintotable})\", {atbilde})'\n",
    "    eval(sql2)\n",
    "    connection.commit()\n",
    "    connection.close()\n",
    "    \n",
    "    i +=1\n",
    "    \n",
    "print(\"done\")"
   ]
  },
  {
   "cell_type": "code",
   "execution_count": 13,
   "metadata": {
    "ExecuteTime": {
     "end_time": "2021-04-14T05:28:02.741599Z",
     "start_time": "2021-04-14T05:28:02.637698Z"
    }
   },
   "outputs": [],
   "source": [
    "connection = sqlite3.connect('MSC.db')\n",
    "cursor = connection.cursor()\n",
    "\n",
    "sql = (f\"Select * from {sodiena}\")\n",
    "z = pd.read_sql_query(sql,connection)"
   ]
  },
  {
   "cell_type": "code",
   "execution_count": 14,
   "metadata": {
    "ExecuteTime": {
     "end_time": "2021-04-14T05:28:02.779635Z",
     "start_time": "2021-04-14T05:28:02.762102Z"
    }
   },
   "outputs": [
    {
     "data": {
      "text/plain": [
       "0     Egypt seizes the Ever Given, saying its owners...\n",
       "1     Brazil Supreme Court sides with Indigenous peo...\n",
       "2     Biden will withdraw all U.S. forces from Afgha...\n",
       "3     The world’s wealthy must radically change thei...\n",
       "4     Russia warns U.S. warships to steer clear of C...\n",
       "5     NATO, not Russia, will decide if Ukraine joins...\n",
       "6     Nato tells Russia to stop military buildup aro...\n",
       "7     Russia calls U.S. an adversary, warns its wars...\n",
       "8     The number of one-horned rhinos in Nepal's wil...\n",
       "9     New Zealand government set to announce the end...\n",
       "10    Philippine patrols reveal 11 China warships, 2...\n",
       "11    New Zealand bill would require banks to disclo...\n",
       "12    Taiwan launches shipbuilding program amid Chin...\n",
       "13    Biden Sends Unofficial Delegation to Taiwan in...\n",
       "14    Pfizer has hiked the cost of future orders of ...\n",
       "15    Airborne plastic pollution ‘spiralling around ...\n",
       "16    Kremlin critic Navalny vows to sue Russian pri...\n",
       "17    Fury in Armenia as Azerbaijan displays war tro...\n",
       "18    B.C. man jailed again for refusing to remove r...\n",
       "19    ‘World’s biggest rabbit’ stolen from home in W...\n",
       "20    Top Kremlin Mouthpiece Warns of ‘Inevitable’ W...\n",
       "21    India's farming community averaging 28 suicide...\n",
       "22    Israel May Have Destroyed Iranian Centrifuges ...\n",
       "23    Jailed Kremlin critic Alexei Navalny's wife, Y...\n",
       "24    Korea condemns Japan’s decision to release wat...\n",
       "25    Russia says U.S. warships should steer clear o...\n",
       "26    Alexei Navalny's Wife Extremely Worried as Hun...\n",
       "27    EU rebuffs Montenegro plea to help repay $1B C...\n",
       "28    Greek journalist shot and killed in profession...\n",
       "29    U.S. to base additional troops in Germany in r...\n",
       "Name: title, dtype: object"
      ]
     },
     "execution_count": 14,
     "metadata": {},
     "output_type": "execute_result"
    }
   ],
   "source": [
    "z.title"
   ]
  },
  {
   "cell_type": "code",
   "execution_count": null,
   "metadata": {},
   "outputs": [],
   "source": []
  }
 ],
 "metadata": {
  "kernelspec": {
   "display_name": "Python 3",
   "language": "python",
   "name": "python3"
  },
  "language_info": {
   "codemirror_mode": {
    "name": "ipython",
    "version": 3
   },
   "file_extension": ".py",
   "mimetype": "text/x-python",
   "name": "python",
   "nbconvert_exporter": "python",
   "pygments_lexer": "ipython3",
   "version": "3.7.4"
  },
  "toc": {
   "base_numbering": 1,
   "nav_menu": {},
   "number_sections": true,
   "sideBar": true,
   "skip_h1_title": false,
   "title_cell": "Table of Contents",
   "title_sidebar": "Contents",
   "toc_cell": false,
   "toc_position": {},
   "toc_section_display": true,
   "toc_window_display": false
  }
 },
 "nbformat": 4,
 "nbformat_minor": 4
}
