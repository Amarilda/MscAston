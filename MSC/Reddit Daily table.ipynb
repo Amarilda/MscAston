{
 "cells": [
  {
   "cell_type": "code",
   "execution_count": 2,
   "metadata": {
    "ExecuteTime": {
     "end_time": "2021-03-28T12:56:35.831501Z",
     "start_time": "2021-03-28T12:56:16.848679Z"
    }
   },
   "outputs": [],
   "source": [
    "import requests\n",
    "from datetime import datetime\n",
    "import datetime\n",
    "import pandas as pd\n",
    "import sqlite3\n",
    "import praw"
   ]
  },
  {
   "cell_type": "code",
   "execution_count": 3,
   "metadata": {
    "ExecuteTime": {
     "end_time": "2021-03-28T12:56:35.918684Z",
     "start_time": "2021-03-28T12:56:35.835851Z"
    }
   },
   "outputs": [],
   "source": [
    "from credentials import credentials"
   ]
  },
  {
   "cell_type": "code",
   "execution_count": 4,
   "metadata": {
    "ExecuteTime": {
     "end_time": "2021-03-28T12:56:35.945640Z",
     "start_time": "2021-03-28T12:56:35.931425Z"
    }
   },
   "outputs": [],
   "source": [
    "client_id, client_secret,password, user_agent, username = credentials"
   ]
  },
  {
   "cell_type": "code",
   "execution_count": 5,
   "metadata": {
    "ExecuteTime": {
     "end_time": "2021-03-28T12:56:47.049208Z",
     "start_time": "2021-03-28T12:56:35.951179Z"
    }
   },
   "outputs": [],
   "source": [
    "reddit = praw.Reddit(\n",
    "    client_id=client_id,\n",
    "    client_secret=client_secret,\n",
    "    password=password,\n",
    "    user_agent=user_agent,\n",
    "    username=username,\n",
    ")"
   ]
  },
  {
   "cell_type": "code",
   "execution_count": 6,
   "metadata": {
    "ExecuteTime": {
     "end_time": "2021-03-28T12:57:13.918316Z",
     "start_time": "2021-03-28T12:56:47.052607Z"
    }
   },
   "outputs": [
    {
     "name": "stdout",
     "output_type": "stream",
     "text": [
      "JustAnotherCogg\n"
     ]
    }
   ],
   "source": [
    "print(reddit.user.me())"
   ]
  },
  {
   "cell_type": "code",
   "execution_count": 7,
   "metadata": {
    "ExecuteTime": {
     "end_time": "2021-03-28T12:57:13.926671Z",
     "start_time": "2021-03-28T12:57:13.920957Z"
    }
   },
   "outputs": [
    {
     "name": "stdout",
     "output_type": "stream",
     "text": [
      "False\n"
     ]
    }
   ],
   "source": [
    "print(reddit.read_only)"
   ]
  },
  {
   "cell_type": "code",
   "execution_count": 61,
   "metadata": {},
   "outputs": [],
   "source": [
    "top_posts = reddit.subreddit('worldnews').top(time_filter='day',limit=30)\n",
    "i = 1\n",
    "kolonas = ['moment', 'daily_rank']\n",
    "\n",
    "for post in top_posts:\n",
    "     for m in vars(post):\n",
    "            if m not in kolonas:\n",
    "                kolonas.append(m)"
   ]
  },
  {
   "cell_type": "code",
   "execution_count": 162,
   "metadata": {},
   "outputs": [],
   "source": [
    "connection = sqlite3.connect(\"MSC.db\")\n",
    "cursor = connection.cursor()"
   ]
  },
  {
   "cell_type": "code",
   "execution_count": 169,
   "metadata": {},
   "outputs": [
    {
     "ename": "AttributeError",
     "evalue": "'str' object has no attribute 'dtype'",
     "output_type": "error",
     "traceback": [
      "\u001b[1;31m---------------------------------------------------------------------------\u001b[0m",
      "\u001b[1;31mAttributeError\u001b[0m                            Traceback (most recent call last)",
      "\u001b[1;32m<ipython-input-169-9b5cfd4ac5c5>\u001b[0m in \u001b[0;36m<module>\u001b[1;34m\u001b[0m\n\u001b[0;32m      1\u001b[0m \u001b[0msodiena\u001b[0m \u001b[1;33m=\u001b[0m \u001b[0mstr\u001b[0m\u001b[1;33m(\u001b[0m\u001b[0mdatetime\u001b[0m\u001b[1;33m.\u001b[0m\u001b[0mdate\u001b[0m\u001b[1;33m.\u001b[0m\u001b[0mtoday\u001b[0m\u001b[1;33m(\u001b[0m\u001b[1;33m)\u001b[0m\u001b[1;33m.\u001b[0m\u001b[0mstrftime\u001b[0m\u001b[1;33m(\u001b[0m\u001b[1;34m'%Y%m%d'\u001b[0m\u001b[1;33m)\u001b[0m\u001b[1;33m)\u001b[0m\u001b[1;33m\u001b[0m\u001b[1;33m\u001b[0m\u001b[0m\n\u001b[0;32m      2\u001b[0m \u001b[0msodiena\u001b[0m\u001b[1;33m\u001b[0m\u001b[1;33m\u001b[0m\u001b[0m\n\u001b[1;32m----> 3\u001b[1;33m \u001b[0msodiena\u001b[0m\u001b[1;33m.\u001b[0m\u001b[0mdtype\u001b[0m\u001b[1;33m(\u001b[0m\u001b[1;33m)\u001b[0m\u001b[1;33m\u001b[0m\u001b[1;33m\u001b[0m\u001b[0m\n\u001b[0m\u001b[0;32m      4\u001b[0m \u001b[1;33m\u001b[0m\u001b[0m\n\u001b[0;32m      5\u001b[0m \u001b[0msqlscript\u001b[0m \u001b[1;33m=\u001b[0m \u001b[1;34m\"\"\u001b[0m\u001b[1;33m\u001b[0m\u001b[1;33m\u001b[0m\u001b[0m\n",
      "\u001b[1;31mAttributeError\u001b[0m: 'str' object has no attribute 'dtype'"
     ]
    }
   ],
   "source": [
    "sodiena = str(datetime.date.today().strftime('%Y%m%d'))\n",
    "sodiena\n",
    "sodiena.dtype()\n",
    "\n",
    "sqlscript = \"\"\n",
    "z = len(kolonas)\n",
    "print(z)\n",
    "for k in kolonas:\n",
    "    if z > 1:\n",
    "        sqlscript+= str(k + \" TEXT,\")\n",
    "    else:\n",
    "        sqlscript+= str(k + \" TEXT\")\n",
    "    z+= -1\n",
    "print(z)\n",
    "\n",
    "sqlscript"
   ]
  },
  {
   "cell_type": "code",
   "execution_count": 166,
   "metadata": {},
   "outputs": [],
   "source": [
    "a = f\"cursor.execute('''CREATE TABLE {sodiena} ({sqlscript} )''')\""
   ]
  },
  {
   "cell_type": "code",
   "execution_count": 167,
   "metadata": {},
   "outputs": [
    {
     "ename": "OperationalError",
     "evalue": "near \"20210407\": syntax error",
     "output_type": "error",
     "traceback": [
      "\u001b[1;31m---------------------------------------------------------------------------\u001b[0m",
      "\u001b[1;31mOperationalError\u001b[0m                          Traceback (most recent call last)",
      "\u001b[1;32m<ipython-input-167-e1ea98856c44>\u001b[0m in \u001b[0;36m<module>\u001b[1;34m\u001b[0m\n\u001b[1;32m----> 1\u001b[1;33m \u001b[0meval\u001b[0m\u001b[1;33m(\u001b[0m\u001b[0ma\u001b[0m\u001b[1;33m)\u001b[0m\u001b[1;33m\u001b[0m\u001b[1;33m\u001b[0m\u001b[0m\n\u001b[0m",
      "\u001b[1;32m<string>\u001b[0m in \u001b[0;36m<module>\u001b[1;34m\u001b[0m\n",
      "\u001b[1;31mOperationalError\u001b[0m: near \"20210407\": syntax error"
     ]
    }
   ],
   "source": [
    "eval(a)"
   ]
  },
  {
   "cell_type": "code",
   "execution_count": 64,
   "metadata": {
    "ExecuteTime": {
     "end_time": "2021-03-31T07:28:02.928277Z",
     "start_time": "2021-03-31T07:27:19.187424Z"
    }
   },
   "outputs": [],
   "source": [
    "top_posts = reddit.subreddit('worldnews').top(time_filter='day',limit=30)\n",
    "i = 1\n",
    "\n",
    "connection = sqlite3.connect('MSC.db')\n",
    "cursor = connection.cursor()\n",
    "sql = ('Select * from top30')\n",
    "z = pd.read_sql_query(sql,connection)\n",
    "\n",
    "for post in top_posts:\n",
    "    atbilde =[]\n",
    "    atbilde.append(str(datetime.datetime.now()))\n",
    "    atbilde.append(str(i))\n",
    "    for j in z.columns[2:]:\n",
    "        try:\n",
    "            atbilde.append(str(eval(\"post.\"+j)))\n",
    "        except:\n",
    "            atbilde.append(\"\")\n",
    "\n",
    "    for m in vars(post):\n",
    "        if m not in z.columns[2:]:\n",
    "            print(m)\n",
    "\n",
    "    \n",
    "    i +=1"
   ]
  },
  {
   "cell_type": "code",
   "execution_count": 77,
   "metadata": {},
   "outputs": [
    {
     "ename": "SyntaxError",
     "evalue": "invalid syntax (<string>, line 1)",
     "output_type": "error",
     "traceback": [
      "Traceback \u001b[1;36m(most recent call last)\u001b[0m:\n",
      "  File \u001b[0;32m\"C:\\ProgramData\\Anaconda3\\lib\\site-packages\\IPython\\core\\interactiveshell.py\"\u001b[0m, line \u001b[0;32m3418\u001b[0m, in \u001b[0;35mrun_code\u001b[0m\n    exec(code_obj, self.user_global_ns, self.user_ns)\n",
      "\u001b[1;36m  File \u001b[1;32m\"<ipython-input-77-e1c62a933a28>\"\u001b[1;36m, line \u001b[1;32m1\u001b[1;36m, in \u001b[1;35m<module>\u001b[1;36m\u001b[0m\n\u001b[1;33m    eval(f\"cursor.execute('''CREATE TABLE {sodiena} ( {sqlscript})''')\")\u001b[0m\n",
      "\u001b[1;36m  File \u001b[1;32m\"<string>\"\u001b[1;36m, line \u001b[1;32m1\u001b[0m\n\u001b[1;33m    cursor.execute('''CREATE TABLE 2021-04-07 ( [\"cursor.execute('''CREATE TABLE 2021-04-07 (\", 'moment TEXT', 'daily_rank TEXT', 'comment_limit TEXT', 'comment_sort TEXT', '_reddit TEXT', 'approved_at_utc TEXT', 'subreddit TEXT', 'selftext TEXT', 'author_fullname TEXT', 'saved TEXT', 'mod_reason_title TEXT', 'gilded TEXT', 'clicked TEXT', 'title TEXT', 'link_flair_richtext TEXT', 'subreddit_name_prefixed TEXT', 'hidden TEXT', 'pwls TEXT', 'link_flair_css_class TEXT', 'downs TEXT', 'top_awarded_type TEXT', 'hide_score TEXT', 'name TEXT', 'quarantine TEXT', 'link_flair_text_color TEXT', 'upvote_ratio TEXT', 'author_flair_background_color TEXT', 'subreddit_type TEXT', 'ups TEXT', 'total_awards_received TEXT', 'media_embed TEXT', 'author_flair_template_id TEXT', 'is_original_content TEXT', 'user_reports TEXT', 'secure_media TEXT', 'is_reddit_media_domain TEXT', 'is_meta TEXT', 'category TEXT', 'secure_media_embed TEXT', 'link_flair_text TEXT', 'can_mod_post TEXT', 'score TEXT', 'approved_by TEXT', 'author_premium TEXT', 'thumbnail TEXT', 'edited TEXT', 'author_flair_css_class TEXT', 'author_flair_richtext TEXT', 'gildings TEXT', 'content_categories TEXT', 'is_self TEXT', 'mod_note TEXT', 'created TEXT', 'link_flair_type TEXT', 'wls TEXT', 'removed_by_category TEXT', 'banned_by TEXT', 'author_flair_type TEXT', 'domain TEXT', 'allow_live_comments TEXT', 'selftext_html TEXT', 'likes TEXT', 'suggested_sort TEXT', 'banned_at_utc TEXT', 'url_overridden_by_dest TEXT', 'view_count TEXT', 'archived TEXT', 'no_follow TEXT', 'is_crosspostable TEXT', 'pinned TEXT', 'over_18 TEXT', 'all_awardings TEXT', 'awarders TEXT', 'media_only TEXT', 'can_gild TEXT', 'spoiler TEXT', 'locked TEXT', 'author_flair_text TEXT', 'treatment_tags TEXT', 'visited TEXT', 'removed_by TEXT', 'num_reports TEXT', 'distinguished TEXT', 'subreddit_id TEXT', 'mod_reason_by TEXT', 'removal_reason TEXT', 'link_flair_background_color TEXT', 'id TEXT', 'is_robot_indexable TEXT', 'report_reasons TEXT', 'author TEXT', 'discussion_type TEXT', 'num_comments TEXT', 'send_replies TEXT', 'whitelist_status TEXT', 'contest_mode TEXT', 'mod_reports TEXT', 'author_patreon_flair TEXT', 'author_flair_text_color TEXT', 'permalink TEXT', 'parent_whitelist_status TEXT', 'stickied TEXT', 'url TEXT', 'subreddit_subscribers TEXT', 'created_utc TEXT', 'num_crossposts TEXT', 'media TEXT', 'is_video TEXT', '_fetched TEXT', '_comments_by_id TEXT', \")''')\"])''')\u001b[0m\n\u001b[1;37m                                                                    ^\u001b[0m\n\u001b[1;31mSyntaxError\u001b[0m\u001b[1;31m:\u001b[0m invalid syntax\n"
     ]
    }
   ],
   "source": [
    "eval(f\"cursor.execute('''CREATE TABLE {sodiena} ( {sqlscript})''')\")"
   ]
  }
 ],
 "metadata": {
  "kernelspec": {
   "display_name": "Python 3",
   "language": "python",
   "name": "python3"
  },
  "language_info": {
   "codemirror_mode": {
    "name": "ipython",
    "version": 3
   },
   "file_extension": ".py",
   "mimetype": "text/x-python",
   "name": "python",
   "nbconvert_exporter": "python",
   "pygments_lexer": "ipython3",
   "version": "3.8.5"
  },
  "toc": {
   "base_numbering": 1,
   "nav_menu": {},
   "number_sections": true,
   "sideBar": true,
   "skip_h1_title": false,
   "title_cell": "Table of Contents",
   "title_sidebar": "Contents",
   "toc_cell": false,
   "toc_position": {},
   "toc_section_display": true,
   "toc_window_display": false
  }
 },
 "nbformat": 4,
 "nbformat_minor": 4
}
