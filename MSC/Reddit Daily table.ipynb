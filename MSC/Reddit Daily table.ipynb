{
 "cells": [
  {
   "cell_type": "code",
   "execution_count": 5,
   "metadata": {
    "ExecuteTime": {
     "end_time": "2021-04-12T07:54:34.166464Z",
     "start_time": "2021-04-12T07:54:32.711797Z"
    }
   },
   "outputs": [
    {
     "name": "stdout",
     "output_type": "stream",
     "text": [
      "JustAnotherCogg\n"
     ]
    }
   ],
   "source": [
    "import requests\n",
    "from datetime import datetime\n",
    "import datetime\n",
    "import pandas as pd\n",
    "import sqlite3\n",
    "import praw\n",
    "\n",
    "from credentials import credentials\n",
    "\n",
    "client_id, client_secret,password, user_agent, username = credentials\n",
    "\n",
    "reddit = praw.Reddit(\n",
    "    client_id=client_id,\n",
    "    client_secret=client_secret,\n",
    "    password=password,\n",
    "    user_agent=user_agent,\n",
    "    username=username,\n",
    ")\n",
    "\n",
    "print(reddit.user.me())"
   ]
  },
  {
   "cell_type": "code",
   "execution_count": 9,
   "metadata": {
    "ExecuteTime": {
     "end_time": "2021-04-13T10:47:10.969844Z",
     "start_time": "2021-04-13T10:47:08.018110Z"
    }
   },
   "outputs": [
    {
     "name": "stdout",
     "output_type": "stream",
     "text": [
      "done\n"
     ]
    }
   ],
   "source": [
    "top_posts = reddit.subreddit('worldnews').top(time_filter='day',limit=30)\n",
    "\n",
    "#Get all unique columns\n",
    "kolonas = ['moment', 'daily_rank']   \n",
    "for post in top_posts:\n",
    "     for m in vars(post):\n",
    "            if m not in kolonas:\n",
    "                kolonas.append(m)\n",
    "                \n",
    "sodiena = str(\"ER\"+datetime.date.today().strftime('%Y%m%d')+\"a\")\n",
    "\n",
    "createtable = \"\"\n",
    "columnnames = \"\"\n",
    "insertintotable = \"\"\n",
    "\n",
    "#Create strings for SQL injection\n",
    "z = len(kolonas)\n",
    "for k in kolonas:\n",
    "    if z > 1:\n",
    "        createtable+= str(k + \" TEXT,\")\n",
    "        columnnames += str(f\"'{k}', \")\n",
    "        insertintotable += str(\"?,\")\n",
    "        \n",
    "    else:\n",
    "        createtable+= str(k + \" TEXT\")\n",
    "        columnnames += str(k)\n",
    "        insertintotable += str(\"?\")\n",
    "    z+= -1\n",
    "    \n",
    "#Drop and create the todays table\n",
    "connection = sqlite3.connect('MSC.db')\n",
    "cursor = connection.cursor()\n",
    "a = f\"cursor.executescript('DROP TABLE IF EXISTS {sodiena}')\"\n",
    "b = f\"cursor.execute('''CREATE TABLE {sodiena} ({createtable} )''')\"\n",
    "\n",
    "eval(a)\n",
    "eval(b)\n",
    "    \n",
    "#An actual webscraping\n",
    "top_posts = reddit.subreddit('worldnews').top(time_filter='day',limit=30)\n",
    "i = 1\n",
    "for post in top_posts:    \n",
    "    atbilde =[]\n",
    "    atbilde.append(str(datetime.datetime.now()))\n",
    "    atbilde.append(str(i))\n",
    "    for j in kolonas[2:]:\n",
    "        try:\n",
    "            atbilde.append(str(eval(\"post.\"+j)))\n",
    "        except:\n",
    "            atbilde.append(\"\")\n",
    "    \n",
    "    connection = sqlite3.connect('MSC.db')\n",
    "    cursor = connection.cursor()\n",
    "    sql2 = f'cursor.execute(\"insert INTO  {sodiena} ({columnnames}) VALUES ({insertintotable})\", {atbilde})'\n",
    "    eval(sql2)\n",
    "    connection.commit()\n",
    "    connection.close()\n",
    "    \n",
    "    i +=1\n",
    "    \n",
    "print(\"done\")"
   ]
  },
  {
   "cell_type": "code",
   "execution_count": 10,
   "metadata": {
    "ExecuteTime": {
     "end_time": "2021-04-13T10:47:16.525538Z",
     "start_time": "2021-04-13T10:47:16.478454Z"
    }
   },
   "outputs": [],
   "source": [
    "connection = sqlite3.connect('MSC.db')\n",
    "cursor = connection.cursor()\n",
    "\n",
    "sql = (f\"Select * from {sodiena}\")\n",
    "z = pd.read_sql_query(sql,connection)"
   ]
  },
  {
   "cell_type": "code",
   "execution_count": 11,
   "metadata": {
    "ExecuteTime": {
     "end_time": "2021-04-13T10:47:17.502259Z",
     "start_time": "2021-04-13T10:47:17.488667Z"
    }
   },
   "outputs": [
    {
     "data": {
      "text/plain": [
       "0     ‘The rich think they can buy what they want, e...\n",
       "1     Scientists: 4°C would unleash ‘unimaginable am...\n",
       "2     Citing grave threat, Scientific American repla...\n",
       "3     France to ban some domestic flights where trai...\n",
       "4     Paris on lockdown after deadly hospital shooti...\n",
       "5     Ukraine Tells Russia to Pull Back Troops as U....\n",
       "6     Ukraine's President heads to the trenches as R...\n",
       "7     Ottawa cancels 29 military export permits for ...\n",
       "8     Taiwan reports largest incursion yet by Chines...\n",
       "9     ‘Extremely dangerous’ radioactive material sto...\n",
       "10    UN chief urges wealth tax of those who profite...\n",
       "11    WHO says Covid pandemic is growing 'exponentia...\n",
       "12    Blinken, NATO chief discuss 'immediate need' f...\n",
       "13    Prison guards threaten to force-feed Alexei Na...\n",
       "14    Biden admin secures agreements with Mexico, Ho...\n",
       "15    Russia restricts flights to Turkey for 1.5 mon...\n",
       "16    Illegal driftnet use widespread in Indian Ocea...\n",
       "17    Ukraine says Putin won't talk to Zelenskiy abo...\n",
       "18    Europe passed the grim milestone of one millio...\n",
       "19    The world’s wealthy must radically change thei...\n",
       "20    G7 calls on Russia to ‘cease provocations’ on ...\n",
       "21    The global chemical weapons watchdog has \"reas...\n",
       "22    A Facebook loophole is allowing politicians ar...\n",
       "23    China sends 25 warplanes near Taiwan on Monday...\n",
       "24    Decorated Australian military veteran Ben Robe...\n",
       "25    Scientists find clues to why AstraZeneca's vac...\n",
       "26    Johnson & Johnson begins shipments of single-s...\n",
       "27    Girl, 7, Shot as Myanmar Regime Forces Attack ...\n",
       "28    India: Thousands join Hindu festival ritual ba...\n",
       "29    G-7 urges Russia to stop 'provocations' on Ukr...\n",
       "Name: title, dtype: object"
      ]
     },
     "execution_count": 11,
     "metadata": {},
     "output_type": "execute_result"
    }
   ],
   "source": [
    "z.title"
   ]
  }
 ],
 "metadata": {
  "kernelspec": {
   "display_name": "Python 3",
   "language": "python",
   "name": "python3"
  },
  "language_info": {
   "codemirror_mode": {
    "name": "ipython",
    "version": 3
   },
   "file_extension": ".py",
   "mimetype": "text/x-python",
   "name": "python",
   "nbconvert_exporter": "python",
   "pygments_lexer": "ipython3",
   "version": "3.7.4"
  },
  "toc": {
   "base_numbering": 1,
   "nav_menu": {},
   "number_sections": true,
   "sideBar": true,
   "skip_h1_title": false,
   "title_cell": "Table of Contents",
   "title_sidebar": "Contents",
   "toc_cell": false,
   "toc_position": {},
   "toc_section_display": true,
   "toc_window_display": false
  }
 },
 "nbformat": 4,
 "nbformat_minor": 4
}
