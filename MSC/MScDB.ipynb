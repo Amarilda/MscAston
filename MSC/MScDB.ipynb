{
 "cells": [
  {
   "cell_type": "code",
   "execution_count": 1,
   "metadata": {
    "ExecuteTime": {
     "end_time": "2021-05-22T08:25:45.979268Z",
     "start_time": "2021-05-22T08:25:39.191228Z"
    }
   },
   "outputs": [],
   "source": [
    "import sqlite3\n",
    "import pandas as pd"
   ]
  },
  {
   "cell_type": "code",
   "execution_count": 2,
   "metadata": {
    "ExecuteTime": {
     "end_time": "2021-05-22T08:25:45.989151Z",
     "start_time": "2021-05-22T08:25:45.984139Z"
    }
   },
   "outputs": [],
   "source": [
    "connection = sqlite3.connect(\"MSC.db\")\n",
    "cursor = connection.cursor()"
   ]
  },
  {
   "cell_type": "markdown",
   "metadata": {},
   "source": [
    "## List all the tables"
   ]
  },
  {
   "cell_type": "code",
   "execution_count": 3,
   "metadata": {
    "ExecuteTime": {
     "end_time": "2021-05-22T08:25:46.061999Z",
     "start_time": "2021-05-22T08:25:45.993924Z"
    }
   },
   "outputs": [
    {
     "name": "stdout",
     "output_type": "stream",
     "text": [
      "top30\n",
      "a20210407a\n",
      "a20210408a\n",
      "a20210409a\n",
      "ER20210410a\n",
      "ER20210411a\n",
      "ER20210412a\n",
      "ER20210413a\n",
      "ER20210414a\n",
      "ER20210415\n",
      "ER20210416\n",
      "ER20210417\n",
      "ER20210418\n",
      "ER20210419\n",
      "ER20210420\n",
      "ER20210421\n",
      "ER20210422\n",
      "ER20210423\n",
      "ER20210424\n",
      "ER20210425\n",
      "ER20210426\n",
      "ER20202021\n",
      "ER20210427\n",
      "ER20210428\n",
      "ER20210429\n",
      "ER20210430\n",
      "ER20210501\n",
      "ER20210502\n",
      "ER20210503\n",
      "ER20210504\n",
      "ER20210505\n",
      "ER20210506\n",
      "ER20210507\n",
      "DJI\n",
      "SP500\n",
      "ER20210508\n",
      "ER20210509\n",
      "ER20210510\n",
      "ER20210511\n",
      "ER20210512\n",
      "ER20210513\n",
      "reddit_old\n",
      "main\n",
      "ER20210514\n",
      "ER20210515\n",
      "ER20210516\n",
      "SP500_companies\n",
      "ER20210517\n",
      "ER20210518\n",
      "prices\n",
      "ER20210519\n",
      "ER20210520\n",
      "ER20210521\n",
      "ER20210522\n"
     ]
    }
   ],
   "source": [
    "connection = sqlite3.connect(\"MSC.db\")\n",
    "cursor = connection.cursor()\n",
    "\n",
    "def tables_in_sqlite_db(conn):\n",
    "    cursor = conn.execute(\"SELECT name FROM sqlite_master WHERE type='table';\")\n",
    "    tables = [\n",
    "        v[0] for v in cursor.fetchall()\n",
    "        if v[0] != \"sqlite_sequence\"\n",
    "    ]\n",
    "    cursor.close()\n",
    "    return tables\n",
    "\n",
    "tables = tables_in_sqlite_db(connection)\n",
    "for i in tables:\n",
    "    print(i)"
   ]
  },
  {
   "cell_type": "code",
   "execution_count": 13,
   "metadata": {
    "ExecuteTime": {
     "end_time": "2021-05-22T08:45:51.595312Z",
     "start_time": "2021-05-22T08:45:51.090587Z"
    }
   },
   "outputs": [
    {
     "data": {
      "text/html": [
       "<div>\n",
       "<style scoped>\n",
       "    .dataframe tbody tr th:only-of-type {\n",
       "        vertical-align: middle;\n",
       "    }\n",
       "\n",
       "    .dataframe tbody tr th {\n",
       "        vertical-align: top;\n",
       "    }\n",
       "\n",
       "    .dataframe thead th {\n",
       "        text-align: right;\n",
       "    }\n",
       "</style>\n",
       "<table border=\"1\" class=\"dataframe\">\n",
       "  <thead>\n",
       "    <tr style=\"text-align: right;\">\n",
       "      <th></th>\n",
       "      <th>date</th>\n",
       "      <th>open</th>\n",
       "      <th>high</th>\n",
       "      <th>low</th>\n",
       "      <th>close</th>\n",
       "      <th>adj_close</th>\n",
       "      <th>volume</th>\n",
       "      <th>symbol</th>\n",
       "    </tr>\n",
       "  </thead>\n",
       "  <tbody>\n",
       "    <tr>\n",
       "      <th>0</th>\n",
       "      <td>2021-05-21 00:00:00</td>\n",
       "      <td>127.82</td>\n",
       "      <td>128.00</td>\n",
       "      <td>125.21</td>\n",
       "      <td>125.43</td>\n",
       "      <td>125.43</td>\n",
       "      <td>79,209,300</td>\n",
       "      <td>AAPL</td>\n",
       "    </tr>\n",
       "    <tr>\n",
       "      <th>1</th>\n",
       "      <td>2021-05-21 00:00:00</td>\n",
       "      <td>247.57</td>\n",
       "      <td>248.33</td>\n",
       "      <td>244.74</td>\n",
       "      <td>245.17</td>\n",
       "      <td>245.17</td>\n",
       "      <td>21,855,500</td>\n",
       "      <td>MSFT</td>\n",
       "    </tr>\n",
       "    <tr>\n",
       "      <th>2</th>\n",
       "      <td>2021-05-21 00:00:00</td>\n",
       "      <td>3,250.00</td>\n",
       "      <td>3,256.69</td>\n",
       "      <td>3,197.01</td>\n",
       "      <td>3,203.08</td>\n",
       "      <td>3,203.08</td>\n",
       "      <td>4,097,800</td>\n",
       "      <td>AMZN</td>\n",
       "    </tr>\n",
       "    <tr>\n",
       "      <th>3</th>\n",
       "      <td>2021-05-21 00:00:00</td>\n",
       "      <td>319.29</td>\n",
       "      <td>319.93</td>\n",
       "      <td>315.81</td>\n",
       "      <td>316.23</td>\n",
       "      <td>316.23</td>\n",
       "      <td>13,562,700</td>\n",
       "      <td>FB</td>\n",
       "    </tr>\n",
       "    <tr>\n",
       "      <th>4</th>\n",
       "      <td>2021-05-21 00:00:00</td>\n",
       "      <td>2,317.41</td>\n",
       "      <td>2,318.89</td>\n",
       "      <td>2,289.30</td>\n",
       "      <td>2,294.13</td>\n",
       "      <td>2,294.13</td>\n",
       "      <td>2,030,700</td>\n",
       "      <td>GOOGL</td>\n",
       "    </tr>\n",
       "    <tr>\n",
       "      <th>...</th>\n",
       "      <td>...</td>\n",
       "      <td>...</td>\n",
       "      <td>...</td>\n",
       "      <td>...</td>\n",
       "      <td>...</td>\n",
       "      <td>...</td>\n",
       "      <td>...</td>\n",
       "      <td>...</td>\n",
       "    </tr>\n",
       "    <tr>\n",
       "      <th>52463</th>\n",
       "      <td>2020-12-21 00:00:00</td>\n",
       "      <td>110.71</td>\n",
       "      <td>113.78</td>\n",
       "      <td>108.73</td>\n",
       "      <td>112.54</td>\n",
       "      <td>112.54</td>\n",
       "      <td>3,809,700</td>\n",
       "      <td>WYNN</td>\n",
       "    </tr>\n",
       "    <tr>\n",
       "      <th>52464</th>\n",
       "      <td>2020-12-21 00:00:00</td>\n",
       "      <td>146.80</td>\n",
       "      <td>148.06</td>\n",
       "      <td>141.70</td>\n",
       "      <td>145.28</td>\n",
       "      <td>145.28</td>\n",
       "      <td>1,799,300</td>\n",
       "      <td>XLNX</td>\n",
       "    </tr>\n",
       "    <tr>\n",
       "      <th>52465</th>\n",
       "      <td>2020-12-21 00:00:00</td>\n",
       "      <td>366.00</td>\n",
       "      <td>376.73</td>\n",
       "      <td>363.00</td>\n",
       "      <td>375.91</td>\n",
       "      <td>375.91</td>\n",
       "      <td>505,600</td>\n",
       "      <td>ZBRA</td>\n",
       "    </tr>\n",
       "    <tr>\n",
       "      <th>52466</th>\n",
       "      <td>2020-12-21 00:00:00</td>\n",
       "      <td>30,159.00</td>\n",
       "      <td>30,304.14</td>\n",
       "      <td>29,755.53</td>\n",
       "      <td>30,216.45</td>\n",
       "      <td>30,216.45</td>\n",
       "      <td>437,480,000</td>\n",
       "      <td>^DJI</td>\n",
       "    </tr>\n",
       "    <tr>\n",
       "      <th>52467</th>\n",
       "      <td>2020-12-21 00:00:00</td>\n",
       "      <td>3,684.28</td>\n",
       "      <td>3,702.90</td>\n",
       "      <td>3,636.48</td>\n",
       "      <td>3,694.92</td>\n",
       "      <td>3,694.92</td>\n",
       "      <td>4,732,160,000</td>\n",
       "      <td>^GSPC</td>\n",
       "    </tr>\n",
       "  </tbody>\n",
       "</table>\n",
       "<p>52468 rows × 8 columns</p>\n",
       "</div>"
      ],
      "text/plain": [
       "                      date       open       high        low      close  \\\n",
       "0      2021-05-21 00:00:00     127.82     128.00     125.21     125.43   \n",
       "1      2021-05-21 00:00:00     247.57     248.33     244.74     245.17   \n",
       "2      2021-05-21 00:00:00   3,250.00   3,256.69   3,197.01   3,203.08   \n",
       "3      2021-05-21 00:00:00     319.29     319.93     315.81     316.23   \n",
       "4      2021-05-21 00:00:00   2,317.41   2,318.89   2,289.30   2,294.13   \n",
       "...                    ...        ...        ...        ...        ...   \n",
       "52463  2020-12-21 00:00:00     110.71     113.78     108.73     112.54   \n",
       "52464  2020-12-21 00:00:00     146.80     148.06     141.70     145.28   \n",
       "52465  2020-12-21 00:00:00     366.00     376.73     363.00     375.91   \n",
       "52466  2020-12-21 00:00:00  30,159.00  30,304.14  29,755.53  30,216.45   \n",
       "52467  2020-12-21 00:00:00   3,684.28   3,702.90   3,636.48   3,694.92   \n",
       "\n",
       "       adj_close         volume symbol  \n",
       "0         125.43     79,209,300   AAPL  \n",
       "1         245.17     21,855,500   MSFT  \n",
       "2       3,203.08      4,097,800   AMZN  \n",
       "3         316.23     13,562,700     FB  \n",
       "4       2,294.13      2,030,700  GOOGL  \n",
       "...          ...            ...    ...  \n",
       "52463     112.54      3,809,700   WYNN  \n",
       "52464     145.28      1,799,300   XLNX  \n",
       "52465     375.91        505,600   ZBRA  \n",
       "52466  30,216.45    437,480,000   ^DJI  \n",
       "52467   3,694.92  4,732,160,000  ^GSPC  \n",
       "\n",
       "[52468 rows x 8 columns]"
      ]
     },
     "execution_count": 13,
     "metadata": {},
     "output_type": "execute_result"
    }
   ],
   "source": [
    "connection = sqlite3.connect('MSC.db')\n",
    "cursor = connection.cursor()\n",
    "sql = (\"Select * from prices order by date desc\")\n",
    "df = pd.read_sql_query(sql,connection)\n",
    "df"
   ]
  },
  {
   "cell_type": "code",
   "execution_count": 94,
   "metadata": {
    "ExecuteTime": {
     "end_time": "2021-05-22T09:37:30.583310Z",
     "start_time": "2021-05-22T09:37:30.557377Z"
    }
   },
   "outputs": [
    {
     "data": {
      "text/html": [
       "<div>\n",
       "<style scoped>\n",
       "    .dataframe tbody tr th:only-of-type {\n",
       "        vertical-align: middle;\n",
       "    }\n",
       "\n",
       "    .dataframe tbody tr th {\n",
       "        vertical-align: top;\n",
       "    }\n",
       "\n",
       "    .dataframe thead th {\n",
       "        text-align: right;\n",
       "    }\n",
       "</style>\n",
       "<table border=\"1\" class=\"dataframe\">\n",
       "  <thead>\n",
       "    <tr style=\"text-align: right;\">\n",
       "      <th></th>\n",
       "      <th>Company</th>\n",
       "      <th>Symbol</th>\n",
       "      <th>Weight</th>\n",
       "    </tr>\n",
       "  </thead>\n",
       "  <tbody>\n",
       "    <tr>\n",
       "      <th>0</th>\n",
       "      <td>Apple Inc.</td>\n",
       "      <td>AAPL</td>\n",
       "      <td>5.664493</td>\n",
       "    </tr>\n",
       "    <tr>\n",
       "      <th>1</th>\n",
       "      <td>Microsoft Corporation</td>\n",
       "      <td>MSFT</td>\n",
       "      <td>5.264839</td>\n",
       "    </tr>\n",
       "    <tr>\n",
       "      <th>2</th>\n",
       "      <td>Amazon.com Inc.</td>\n",
       "      <td>AMZN</td>\n",
       "      <td>3.886738</td>\n",
       "    </tr>\n",
       "    <tr>\n",
       "      <th>3</th>\n",
       "      <td>Facebook Inc. Class A</td>\n",
       "      <td>FB</td>\n",
       "      <td>2.109076</td>\n",
       "    </tr>\n",
       "    <tr>\n",
       "      <th>4</th>\n",
       "      <td>Alphabet Inc. Class A</td>\n",
       "      <td>GOOGL</td>\n",
       "      <td>1.925453</td>\n",
       "    </tr>\n",
       "    <tr>\n",
       "      <th>...</th>\n",
       "      <td>...</td>\n",
       "      <td>...</td>\n",
       "      <td>...</td>\n",
       "    </tr>\n",
       "    <tr>\n",
       "      <th>504</th>\n",
       "      <td>Under Armour Inc. Class C</td>\n",
       "      <td>UA</td>\n",
       "      <td>0.010361</td>\n",
       "    </tr>\n",
       "    <tr>\n",
       "      <th>505</th>\n",
       "      <td>News Corporation Class B</td>\n",
       "      <td>NWS</td>\n",
       "      <td>0.008590</td>\n",
       "    </tr>\n",
       "    <tr>\n",
       "      <th>506</th>\n",
       "      <td>S&amp;P 500</td>\n",
       "      <td>^GSPC</td>\n",
       "      <td>100.000000</td>\n",
       "    </tr>\n",
       "    <tr>\n",
       "      <th>507</th>\n",
       "      <td>Dow Jones Industrial Average</td>\n",
       "      <td>^DJI</td>\n",
       "      <td>100.000000</td>\n",
       "    </tr>\n",
       "    <tr>\n",
       "      <th>508</th>\n",
       "      <td>Continental Resources</td>\n",
       "      <td>CLR</td>\n",
       "      <td>0.000000</td>\n",
       "    </tr>\n",
       "  </tbody>\n",
       "</table>\n",
       "<p>509 rows × 3 columns</p>\n",
       "</div>"
      ],
      "text/plain": [
       "                          Company Symbol      Weight\n",
       "0                      Apple Inc.   AAPL    5.664493\n",
       "1           Microsoft Corporation   MSFT    5.264839\n",
       "2                 Amazon.com Inc.   AMZN    3.886738\n",
       "3           Facebook Inc. Class A     FB    2.109076\n",
       "4           Alphabet Inc. Class A  GOOGL    1.925453\n",
       "..                            ...    ...         ...\n",
       "504     Under Armour Inc. Class C     UA    0.010361\n",
       "505      News Corporation Class B    NWS    0.008590\n",
       "506                       S&P 500  ^GSPC  100.000000\n",
       "507  Dow Jones Industrial Average   ^DJI  100.000000\n",
       "508         Continental Resources    CLR    0.000000\n",
       "\n",
       "[509 rows x 3 columns]"
      ]
     },
     "execution_count": 94,
     "metadata": {},
     "output_type": "execute_result"
    }
   ],
   "source": [
    "connection = sqlite3.connect('MSC.db')\n",
    "cursor = connection.cursor()\n",
    "sql = (\"Select * from SP500_companies \")\n",
    "df = pd.read_sql_query(sql,connection)\n",
    "df"
   ]
  },
  {
   "cell_type": "code",
   "execution_count": 93,
   "metadata": {
    "ExecuteTime": {
     "end_time": "2021-05-22T09:37:16.541339Z",
     "start_time": "2021-05-22T09:37:16.519320Z"
    }
   },
   "outputs": [
    {
     "data": {
      "text/html": [
       "<div>\n",
       "<style scoped>\n",
       "    .dataframe tbody tr th:only-of-type {\n",
       "        vertical-align: middle;\n",
       "    }\n",
       "\n",
       "    .dataframe tbody tr th {\n",
       "        vertical-align: top;\n",
       "    }\n",
       "\n",
       "    .dataframe thead th {\n",
       "        text-align: right;\n",
       "    }\n",
       "</style>\n",
       "<table border=\"1\" class=\"dataframe\">\n",
       "  <thead>\n",
       "    <tr style=\"text-align: right;\">\n",
       "      <th></th>\n",
       "      <th>Company</th>\n",
       "      <th>Symbol</th>\n",
       "      <th>Weight</th>\n",
       "    </tr>\n",
       "  </thead>\n",
       "  <tbody>\n",
       "    <tr>\n",
       "      <th>508</th>\n",
       "      <td>Continental Resources</td>\n",
       "      <td>CLR</td>\n",
       "      <td>0.0</td>\n",
       "    </tr>\n",
       "    <tr>\n",
       "      <th>509</th>\n",
       "      <td>Continental Resources</td>\n",
       "      <td>CLR</td>\n",
       "      <td>0.0</td>\n",
       "    </tr>\n",
       "  </tbody>\n",
       "</table>\n",
       "</div>"
      ],
      "text/plain": [
       "                   Company Symbol  Weight\n",
       "508  Continental Resources    CLR     0.0\n",
       "509  Continental Resources    CLR     0.0"
      ]
     },
     "execution_count": 93,
     "metadata": {},
     "output_type": "execute_result"
    }
   ],
   "source": [
    "df[df.Symbol == \"CLR\"]"
   ]
  },
  {
   "cell_type": "code",
   "execution_count": 62,
   "metadata": {
    "ExecuteTime": {
     "end_time": "2021-05-19T07:48:07.184207Z",
     "start_time": "2021-05-19T07:48:07.165088Z"
    }
   },
   "outputs": [
    {
     "data": {
      "text/html": [
       "<div>\n",
       "<style scoped>\n",
       "    .dataframe tbody tr th:only-of-type {\n",
       "        vertical-align: middle;\n",
       "    }\n",
       "\n",
       "    .dataframe tbody tr th {\n",
       "        vertical-align: top;\n",
       "    }\n",
       "\n",
       "    .dataframe thead th {\n",
       "        text-align: right;\n",
       "    }\n",
       "</style>\n",
       "<table border=\"1\" class=\"dataframe\">\n",
       "  <thead>\n",
       "    <tr style=\"text-align: right;\">\n",
       "      <th></th>\n",
       "      <th>Company</th>\n",
       "      <th>Symbol</th>\n",
       "      <th>Weight</th>\n",
       "    </tr>\n",
       "  </thead>\n",
       "  <tbody>\n",
       "    <tr>\n",
       "      <th>193</th>\n",
       "      <td>Marathon Petroleum Corporation</td>\n",
       "      <td>MPC</td>\n",
       "      <td>0.110018</td>\n",
       "    </tr>\n",
       "    <tr>\n",
       "      <th>194</th>\n",
       "      <td>Microchip Technology Incorporated</td>\n",
       "      <td>MCHP</td>\n",
       "      <td>0.109975</td>\n",
       "    </tr>\n",
       "    <tr>\n",
       "      <th>195</th>\n",
       "      <td>Alexion Pharmaceuticals Inc.</td>\n",
       "      <td>ALXN</td>\n",
       "      <td>0.109500</td>\n",
       "    </tr>\n",
       "    <tr>\n",
       "      <th>196</th>\n",
       "      <td>MSCI Inc. Class A</td>\n",
       "      <td>MSCI</td>\n",
       "      <td>0.109434</td>\n",
       "    </tr>\n",
       "    <tr>\n",
       "      <th>197</th>\n",
       "      <td>eBay Inc.</td>\n",
       "      <td>EBAY</td>\n",
       "      <td>0.109125</td>\n",
       "    </tr>\n",
       "    <tr>\n",
       "      <th>...</th>\n",
       "      <td>...</td>\n",
       "      <td>...</td>\n",
       "      <td>...</td>\n",
       "    </tr>\n",
       "    <tr>\n",
       "      <th>503</th>\n",
       "      <td>Under Armour Inc. Class A</td>\n",
       "      <td>UAA</td>\n",
       "      <td>0.011972</td>\n",
       "    </tr>\n",
       "    <tr>\n",
       "      <th>504</th>\n",
       "      <td>Under Armour Inc. Class C</td>\n",
       "      <td>UA</td>\n",
       "      <td>0.010361</td>\n",
       "    </tr>\n",
       "    <tr>\n",
       "      <th>505</th>\n",
       "      <td>News Corporation Class B</td>\n",
       "      <td>NWS</td>\n",
       "      <td>0.008590</td>\n",
       "    </tr>\n",
       "    <tr>\n",
       "      <th>506</th>\n",
       "      <td>S&amp;P 500</td>\n",
       "      <td>^GSPC</td>\n",
       "      <td>100.000000</td>\n",
       "    </tr>\n",
       "    <tr>\n",
       "      <th>507</th>\n",
       "      <td>Dow Jones Industrial Average</td>\n",
       "      <td>^DJI</td>\n",
       "      <td>100.000000</td>\n",
       "    </tr>\n",
       "  </tbody>\n",
       "</table>\n",
       "<p>315 rows × 3 columns</p>\n",
       "</div>"
      ],
      "text/plain": [
       "                               Company Symbol      Weight\n",
       "193     Marathon Petroleum Corporation    MPC    0.110018\n",
       "194  Microchip Technology Incorporated   MCHP    0.109975\n",
       "195       Alexion Pharmaceuticals Inc.   ALXN    0.109500\n",
       "196                  MSCI Inc. Class A   MSCI    0.109434\n",
       "197                          eBay Inc.   EBAY    0.109125\n",
       "..                                 ...    ...         ...\n",
       "503          Under Armour Inc. Class A    UAA    0.011972\n",
       "504          Under Armour Inc. Class C     UA    0.010361\n",
       "505           News Corporation Class B    NWS    0.008590\n",
       "506                            S&P 500  ^GSPC  100.000000\n",
       "507       Dow Jones Industrial Average   ^DJI  100.000000\n",
       "\n",
       "[315 rows x 3 columns]"
      ]
     },
     "execution_count": 62,
     "metadata": {},
     "output_type": "execute_result"
    }
   ],
   "source": [
    "df[193:]"
   ]
  },
  {
   "cell_type": "code",
   "execution_count": 52,
   "metadata": {
    "ExecuteTime": {
     "end_time": "2021-05-22T09:09:09.169975Z",
     "start_time": "2021-05-22T09:09:08.853930Z"
    }
   },
   "outputs": [
    {
     "name": "stdout",
     "output_type": "stream",
     "text": [
      "(52468, 8)\n"
     ]
    },
    {
     "data": {
      "text/html": [
       "<div>\n",
       "<style scoped>\n",
       "    .dataframe tbody tr th:only-of-type {\n",
       "        vertical-align: middle;\n",
       "    }\n",
       "\n",
       "    .dataframe tbody tr th {\n",
       "        vertical-align: top;\n",
       "    }\n",
       "\n",
       "    .dataframe thead th {\n",
       "        text-align: right;\n",
       "    }\n",
       "</style>\n",
       "<table border=\"1\" class=\"dataframe\">\n",
       "  <thead>\n",
       "    <tr style=\"text-align: right;\">\n",
       "      <th></th>\n",
       "      <th>date</th>\n",
       "      <th>open</th>\n",
       "      <th>high</th>\n",
       "      <th>low</th>\n",
       "      <th>close</th>\n",
       "      <th>adj_close</th>\n",
       "      <th>volume</th>\n",
       "      <th>symbol</th>\n",
       "    </tr>\n",
       "  </thead>\n",
       "  <tbody>\n",
       "    <tr>\n",
       "      <th>0</th>\n",
       "      <td>2021-05-17 00:00:00</td>\n",
       "      <td>130.84</td>\n",
       "      <td>131.05</td>\n",
       "      <td>129.91</td>\n",
       "      <td>130.11</td>\n",
       "      <td>130.11</td>\n",
       "      <td>886,700</td>\n",
       "      <td>A</td>\n",
       "    </tr>\n",
       "    <tr>\n",
       "      <th>1</th>\n",
       "      <td>2021-05-17 00:00:00</td>\n",
       "      <td>22.32</td>\n",
       "      <td>23.40</td>\n",
       "      <td>22.10</td>\n",
       "      <td>23.35</td>\n",
       "      <td>23.35</td>\n",
       "      <td>40,584,200</td>\n",
       "      <td>AAL</td>\n",
       "    </tr>\n",
       "    <tr>\n",
       "      <th>2</th>\n",
       "      <td>2021-05-17 00:00:00</td>\n",
       "      <td>203.91</td>\n",
       "      <td>204.76</td>\n",
       "      <td>202.01</td>\n",
       "      <td>204.58</td>\n",
       "      <td>204.58</td>\n",
       "      <td>825,300</td>\n",
       "      <td>AAP</td>\n",
       "    </tr>\n",
       "    <tr>\n",
       "      <th>3</th>\n",
       "      <td>2021-05-17 00:00:00</td>\n",
       "      <td>126.82</td>\n",
       "      <td>126.93</td>\n",
       "      <td>125.17</td>\n",
       "      <td>126.27</td>\n",
       "      <td>126.27</td>\n",
       "      <td>74,163,100</td>\n",
       "      <td>AAPL</td>\n",
       "    </tr>\n",
       "    <tr>\n",
       "      <th>4</th>\n",
       "      <td>2021-05-17 00:00:00</td>\n",
       "      <td>116.77</td>\n",
       "      <td>117.71</td>\n",
       "      <td>116.56</td>\n",
       "      <td>116.89</td>\n",
       "      <td>116.89</td>\n",
       "      <td>6,182,300</td>\n",
       "      <td>ABBV</td>\n",
       "    </tr>\n",
       "  </tbody>\n",
       "</table>\n",
       "</div>"
      ],
      "text/plain": [
       "                  date    open    high     low   close adj_close      volume  \\\n",
       "0  2021-05-17 00:00:00  130.84  131.05  129.91  130.11    130.11     886,700   \n",
       "1  2021-05-17 00:00:00   22.32   23.40   22.10   23.35     23.35  40,584,200   \n",
       "2  2021-05-17 00:00:00  203.91  204.76  202.01  204.58    204.58     825,300   \n",
       "3  2021-05-17 00:00:00  126.82  126.93  125.17  126.27    126.27  74,163,100   \n",
       "4  2021-05-17 00:00:00  116.77  117.71  116.56  116.89    116.89   6,182,300   \n",
       "\n",
       "  symbol  \n",
       "0      A  \n",
       "1    AAL  \n",
       "2    AAP  \n",
       "3   AAPL  \n",
       "4   ABBV  "
      ]
     },
     "execution_count": 52,
     "metadata": {},
     "output_type": "execute_result"
    }
   ],
   "source": [
    "connection = sqlite3.connect('MSC.db')\n",
    "cursor = connection.cursor()\n",
    "sql = (''' select * from prices \n",
    "--where date == \"2021-05-19 00:00:00\"\n",
    "\n",
    "''')\n",
    "price = pd.read_sql_query(sql,connection)\n",
    "print(price.shape)\n",
    "price.head()"
   ]
  },
  {
   "cell_type": "markdown",
   "metadata": {
    "ExecuteTime": {
     "end_time": "2021-05-19T07:49:01.660010Z",
     "start_time": "2021-05-19T07:49:01.636616Z"
    }
   },
   "source": [
    "price"
   ]
  },
  {
   "cell_type": "code",
   "execution_count": 53,
   "metadata": {
    "ExecuteTime": {
     "end_time": "2021-05-22T09:09:12.655726Z",
     "start_time": "2021-05-22T09:09:12.637865Z"
    }
   },
   "outputs": [
    {
     "data": {
      "text/html": [
       "<div>\n",
       "<style scoped>\n",
       "    .dataframe tbody tr th:only-of-type {\n",
       "        vertical-align: middle;\n",
       "    }\n",
       "\n",
       "    .dataframe tbody tr th {\n",
       "        vertical-align: top;\n",
       "    }\n",
       "\n",
       "    .dataframe thead th {\n",
       "        text-align: right;\n",
       "    }\n",
       "</style>\n",
       "<table border=\"1\" class=\"dataframe\">\n",
       "  <thead>\n",
       "    <tr style=\"text-align: right;\">\n",
       "      <th></th>\n",
       "      <th>date</th>\n",
       "      <th>open</th>\n",
       "      <th>high</th>\n",
       "      <th>low</th>\n",
       "      <th>close</th>\n",
       "      <th>adj_close</th>\n",
       "      <th>volume</th>\n",
       "      <th>symbol</th>\n",
       "    </tr>\n",
       "  </thead>\n",
       "  <tbody>\n",
       "  </tbody>\n",
       "</table>\n",
       "</div>"
      ],
      "text/plain": [
       "Empty DataFrame\n",
       "Columns: [date, open, high, low, close, adj_close, volume, symbol]\n",
       "Index: []"
      ]
     },
     "execution_count": 53,
     "metadata": {},
     "output_type": "execute_result"
    }
   ],
   "source": [
    "price[price.open == \"Stock Split\"]"
   ]
  },
  {
   "cell_type": "code",
   "execution_count": 54,
   "metadata": {
    "ExecuteTime": {
     "end_time": "2021-05-22T09:09:15.118492Z",
     "start_time": "2021-05-22T09:09:15.099559Z"
    }
   },
   "outputs": [
    {
     "data": {
      "text/html": [
       "<div>\n",
       "<style scoped>\n",
       "    .dataframe tbody tr th:only-of-type {\n",
       "        vertical-align: middle;\n",
       "    }\n",
       "\n",
       "    .dataframe tbody tr th {\n",
       "        vertical-align: top;\n",
       "    }\n",
       "\n",
       "    .dataframe thead th {\n",
       "        text-align: right;\n",
       "    }\n",
       "</style>\n",
       "<table border=\"1\" class=\"dataframe\">\n",
       "  <thead>\n",
       "    <tr style=\"text-align: right;\">\n",
       "      <th></th>\n",
       "      <th>date</th>\n",
       "      <th>open</th>\n",
       "      <th>high</th>\n",
       "      <th>low</th>\n",
       "      <th>close</th>\n",
       "      <th>adj_close</th>\n",
       "      <th>volume</th>\n",
       "      <th>symbol</th>\n",
       "    </tr>\n",
       "  </thead>\n",
       "  <tbody>\n",
       "  </tbody>\n",
       "</table>\n",
       "</div>"
      ],
      "text/plain": [
       "Empty DataFrame\n",
       "Columns: [date, open, high, low, close, adj_close, volume, symbol]\n",
       "Index: []"
      ]
     },
     "execution_count": 54,
     "metadata": {},
     "output_type": "execute_result"
    }
   ],
   "source": [
    "price[price.open == \"Dividend\"]"
   ]
  },
  {
   "cell_type": "code",
   "execution_count": 96,
   "metadata": {
    "ExecuteTime": {
     "end_time": "2021-05-22T09:39:27.561903Z",
     "start_time": "2021-05-22T09:39:27.312751Z"
    }
   },
   "outputs": [
    {
     "name": "stdout",
     "output_type": "stream",
     "text": [
      "(10, 4)\n"
     ]
    },
    {
     "data": {
      "text/html": [
       "<div>\n",
       "<style scoped>\n",
       "    .dataframe tbody tr th:only-of-type {\n",
       "        vertical-align: middle;\n",
       "    }\n",
       "\n",
       "    .dataframe tbody tr th {\n",
       "        vertical-align: top;\n",
       "    }\n",
       "\n",
       "    .dataframe thead th {\n",
       "        text-align: right;\n",
       "    }\n",
       "</style>\n",
       "<table border=\"1\" class=\"dataframe\">\n",
       "  <thead>\n",
       "    <tr style=\"text-align: right;\">\n",
       "      <th></th>\n",
       "      <th>symbol</th>\n",
       "      <th>date</th>\n",
       "      <th>count</th>\n",
       "      <th>AM</th>\n",
       "    </tr>\n",
       "  </thead>\n",
       "  <tbody>\n",
       "    <tr>\n",
       "      <th>0</th>\n",
       "      <td>KHC</td>\n",
       "      <td>2021-05-19 00:00:00</td>\n",
       "      <td>2</td>\n",
       "      <td>1</td>\n",
       "    </tr>\n",
       "    <tr>\n",
       "      <th>1</th>\n",
       "      <td>KHC</td>\n",
       "      <td>2021-05-19 00:00:00</td>\n",
       "      <td>2</td>\n",
       "      <td>2</td>\n",
       "    </tr>\n",
       "    <tr>\n",
       "      <th>2</th>\n",
       "      <td>KSU</td>\n",
       "      <td>2021-05-19 00:00:00</td>\n",
       "      <td>2</td>\n",
       "      <td>1</td>\n",
       "    </tr>\n",
       "    <tr>\n",
       "      <th>3</th>\n",
       "      <td>KSU</td>\n",
       "      <td>2021-05-19 00:00:00</td>\n",
       "      <td>2</td>\n",
       "      <td>2</td>\n",
       "    </tr>\n",
       "    <tr>\n",
       "      <th>4</th>\n",
       "      <td>LYB</td>\n",
       "      <td>2021-05-19 00:00:00</td>\n",
       "      <td>2</td>\n",
       "      <td>1</td>\n",
       "    </tr>\n",
       "  </tbody>\n",
       "</table>\n",
       "</div>"
      ],
      "text/plain": [
       "  symbol                 date  count  AM\n",
       "0    KHC  2021-05-19 00:00:00      2   1\n",
       "1    KHC  2021-05-19 00:00:00      2   2\n",
       "2    KSU  2021-05-19 00:00:00      2   1\n",
       "3    KSU  2021-05-19 00:00:00      2   2\n",
       "4    LYB  2021-05-19 00:00:00      2   1"
      ]
     },
     "execution_count": 96,
     "metadata": {},
     "output_type": "execute_result"
    }
   ],
   "source": [
    "## Duplicates\n",
    "\n",
    "connection = sqlite3.connect('MSC.db')\n",
    "cursor = connection.cursor()\n",
    "sql = ('''select symbol, date, XX as count, AM \n",
    "from (Select symbol, date, COUNT(symbol) OVER(PARTITION BY symbol, date) as XX ,ROW_NUMBER() OVER(PARTITION BY symbol, date) as AM from prices) where XX > 1''')\n",
    "df = pd.read_sql_query(sql,connection)\n",
    "print(df.shape)\n",
    "df.head()"
   ]
  },
  {
   "cell_type": "code",
   "execution_count": 25,
   "metadata": {
    "ExecuteTime": {
     "end_time": "2021-05-20T09:06:44.054271Z",
     "start_time": "2021-05-20T09:06:44.007526Z"
    }
   },
   "outputs": [
    {
     "name": "stdout",
     "output_type": "stream",
     "text": [
      "(101, 9)\n"
     ]
    },
    {
     "data": {
      "text/html": [
       "<div>\n",
       "<style scoped>\n",
       "    .dataframe tbody tr th:only-of-type {\n",
       "        vertical-align: middle;\n",
       "    }\n",
       "\n",
       "    .dataframe tbody tr th {\n",
       "        vertical-align: top;\n",
       "    }\n",
       "\n",
       "    .dataframe thead th {\n",
       "        text-align: right;\n",
       "    }\n",
       "</style>\n",
       "<table border=\"1\" class=\"dataframe\">\n",
       "  <thead>\n",
       "    <tr style=\"text-align: right;\">\n",
       "      <th></th>\n",
       "      <th>date(date)</th>\n",
       "      <th>date</th>\n",
       "      <th>open</th>\n",
       "      <th>high</th>\n",
       "      <th>low</th>\n",
       "      <th>close</th>\n",
       "      <th>adj_close</th>\n",
       "      <th>volume</th>\n",
       "      <th>symbol</th>\n",
       "    </tr>\n",
       "  </thead>\n",
       "  <tbody>\n",
       "    <tr>\n",
       "      <th>0</th>\n",
       "      <td>2021-05-19</td>\n",
       "      <td>2021-05-19 00:00:00</td>\n",
       "      <td>123.16</td>\n",
       "      <td>124.92</td>\n",
       "      <td>122.86</td>\n",
       "      <td>124.69</td>\n",
       "      <td>124.69</td>\n",
       "      <td>92,499,900</td>\n",
       "      <td>AAPL</td>\n",
       "    </tr>\n",
       "    <tr>\n",
       "      <th>1</th>\n",
       "      <td>2021-05-18</td>\n",
       "      <td>2021-05-18 00:00:00</td>\n",
       "      <td>126.56</td>\n",
       "      <td>126.99</td>\n",
       "      <td>124.78</td>\n",
       "      <td>124.85</td>\n",
       "      <td>124.85</td>\n",
       "      <td>63,130,600</td>\n",
       "      <td>AAPL</td>\n",
       "    </tr>\n",
       "    <tr>\n",
       "      <th>2</th>\n",
       "      <td>2021-05-17</td>\n",
       "      <td>2021-05-17 00:00:00</td>\n",
       "      <td>126.82</td>\n",
       "      <td>126.93</td>\n",
       "      <td>125.17</td>\n",
       "      <td>126.27</td>\n",
       "      <td>126.27</td>\n",
       "      <td>74,163,100</td>\n",
       "      <td>AAPL</td>\n",
       "    </tr>\n",
       "    <tr>\n",
       "      <th>3</th>\n",
       "      <td>2021-05-14</td>\n",
       "      <td>2021-05-14 00:00:00</td>\n",
       "      <td>126.25</td>\n",
       "      <td>127.89</td>\n",
       "      <td>125.85</td>\n",
       "      <td>127.45</td>\n",
       "      <td>127.45</td>\n",
       "      <td>81,806,500</td>\n",
       "      <td>AAPL</td>\n",
       "    </tr>\n",
       "    <tr>\n",
       "      <th>4</th>\n",
       "      <td>2021-05-13</td>\n",
       "      <td>2021-05-13 00:00:00</td>\n",
       "      <td>124.58</td>\n",
       "      <td>126.15</td>\n",
       "      <td>124.26</td>\n",
       "      <td>124.97</td>\n",
       "      <td>124.97</td>\n",
       "      <td>105,861,300</td>\n",
       "      <td>AAPL</td>\n",
       "    </tr>\n",
       "  </tbody>\n",
       "</table>\n",
       "</div>"
      ],
      "text/plain": [
       "   date(date)                 date    open    high     low   close adj_close  \\\n",
       "0  2021-05-19  2021-05-19 00:00:00  123.16  124.92  122.86  124.69    124.69   \n",
       "1  2021-05-18  2021-05-18 00:00:00  126.56  126.99  124.78  124.85    124.85   \n",
       "2  2021-05-17  2021-05-17 00:00:00  126.82  126.93  125.17  126.27    126.27   \n",
       "3  2021-05-14  2021-05-14 00:00:00  126.25  127.89  125.85  127.45    127.45   \n",
       "4  2021-05-13  2021-05-13 00:00:00  124.58  126.15  124.26  124.97    124.97   \n",
       "\n",
       "        volume symbol  \n",
       "0   92,499,900   AAPL  \n",
       "1   63,130,600   AAPL  \n",
       "2   74,163,100   AAPL  \n",
       "3   81,806,500   AAPL  \n",
       "4  105,861,300   AAPL  "
      ]
     },
     "execution_count": 25,
     "metadata": {},
     "output_type": "execute_result"
    }
   ],
   "source": [
    "connection = sqlite3.connect('MSC.db')\n",
    "cursor = connection.cursor()\n",
    "sql = (''' select date(date), * from prices \n",
    "where symbol = \"AAPL\"\n",
    "order by date desc\n",
    "\n",
    "''')\n",
    "price = pd.read_sql_query(sql,connection)\n",
    "print(price.shape)\n",
    "price.head()"
   ]
  },
  {
   "cell_type": "code",
   "execution_count": 88,
   "metadata": {
    "ExecuteTime": {
     "end_time": "2021-05-22T09:35:28.587804Z",
     "start_time": "2021-05-22T09:35:28.431060Z"
    }
   },
   "outputs": [
    {
     "data": {
      "text/html": [
       "<div>\n",
       "<style scoped>\n",
       "    .dataframe tbody tr th:only-of-type {\n",
       "        vertical-align: middle;\n",
       "    }\n",
       "\n",
       "    .dataframe tbody tr th {\n",
       "        vertical-align: top;\n",
       "    }\n",
       "\n",
       "    .dataframe thead th {\n",
       "        text-align: right;\n",
       "    }\n",
       "</style>\n",
       "<table border=\"1\" class=\"dataframe\">\n",
       "  <thead>\n",
       "    <tr style=\"text-align: right;\">\n",
       "      <th></th>\n",
       "      <th>symbol</th>\n",
       "      <th>date</th>\n",
       "    </tr>\n",
       "  </thead>\n",
       "  <tbody>\n",
       "    <tr>\n",
       "      <th>0</th>\n",
       "      <td>AAPL</td>\n",
       "      <td>2021-05-21 00:00:00</td>\n",
       "    </tr>\n",
       "    <tr>\n",
       "      <th>1</th>\n",
       "      <td>MSFT</td>\n",
       "      <td>2021-05-21 00:00:00</td>\n",
       "    </tr>\n",
       "    <tr>\n",
       "      <th>2</th>\n",
       "      <td>AMZN</td>\n",
       "      <td>2021-05-21 00:00:00</td>\n",
       "    </tr>\n",
       "    <tr>\n",
       "      <th>3</th>\n",
       "      <td>FB</td>\n",
       "      <td>2021-05-21 00:00:00</td>\n",
       "    </tr>\n",
       "    <tr>\n",
       "      <th>4</th>\n",
       "      <td>GOOGL</td>\n",
       "      <td>2021-05-21 00:00:00</td>\n",
       "    </tr>\n",
       "    <tr>\n",
       "      <th>...</th>\n",
       "      <td>...</td>\n",
       "      <td>...</td>\n",
       "    </tr>\n",
       "    <tr>\n",
       "      <th>52562</th>\n",
       "      <td>WYNN</td>\n",
       "      <td>2020-12-21 00:00:00</td>\n",
       "    </tr>\n",
       "    <tr>\n",
       "      <th>52563</th>\n",
       "      <td>XLNX</td>\n",
       "      <td>2020-12-21 00:00:00</td>\n",
       "    </tr>\n",
       "    <tr>\n",
       "      <th>52564</th>\n",
       "      <td>ZBRA</td>\n",
       "      <td>2020-12-21 00:00:00</td>\n",
       "    </tr>\n",
       "    <tr>\n",
       "      <th>52565</th>\n",
       "      <td>^DJI</td>\n",
       "      <td>2020-12-21 00:00:00</td>\n",
       "    </tr>\n",
       "    <tr>\n",
       "      <th>52566</th>\n",
       "      <td>^GSPC</td>\n",
       "      <td>2020-12-21 00:00:00</td>\n",
       "    </tr>\n",
       "  </tbody>\n",
       "</table>\n",
       "<p>52567 rows × 2 columns</p>\n",
       "</div>"
      ],
      "text/plain": [
       "      symbol                 date\n",
       "0       AAPL  2021-05-21 00:00:00\n",
       "1       MSFT  2021-05-21 00:00:00\n",
       "2       AMZN  2021-05-21 00:00:00\n",
       "3         FB  2021-05-21 00:00:00\n",
       "4      GOOGL  2021-05-21 00:00:00\n",
       "...      ...                  ...\n",
       "52562   WYNN  2020-12-21 00:00:00\n",
       "52563   XLNX  2020-12-21 00:00:00\n",
       "52564   ZBRA  2020-12-21 00:00:00\n",
       "52565   ^DJI  2020-12-21 00:00:00\n",
       "52566  ^GSPC  2020-12-21 00:00:00\n",
       "\n",
       "[52567 rows x 2 columns]"
      ]
     },
     "execution_count": 88,
     "metadata": {},
     "output_type": "execute_result"
    }
   ],
   "source": [
    "connection = sqlite3.connect('MSC.db')\n",
    "cursor = connection.cursor()\n",
    "sql = (\"Select symbol, date from prices order by date desc\")\n",
    "df = pd.read_sql_query(sql,connection)\n",
    "df"
   ]
  },
  {
   "cell_type": "code",
   "execution_count": 97,
   "metadata": {
    "ExecuteTime": {
     "end_time": "2021-05-22T09:39:52.583744Z",
     "start_time": "2021-05-22T09:39:52.560861Z"
    }
   },
   "outputs": [],
   "source": [
    "for date in df.date.unique():\n",
    "\n",
    "    connection = sqlite3.connect('MSC.db')\n",
    "    cursor = connection.cursor()\n",
    "    sql = (f\"Select symbol from SP500_companies where symbol not in (select symbol from prices where date = '{date}') and symbol not in ('BRK.B', 'BF.B', 'FLIR')\")\n",
    "    miss = pd.read_sql_query(sql,connection)\n",
    "    if len(list(miss.Symbol))>0:\n",
    "        print(date)\n",
    "        print(list(miss.Symbol))"
   ]
  },
  {
   "cell_type": "code",
   "execution_count": 82,
   "metadata": {
    "ExecuteTime": {
     "end_time": "2021-05-22T09:33:24.739927Z",
     "start_time": "2021-05-22T09:33:24.631029Z"
    }
   },
   "outputs": [
    {
     "data": {
      "text/html": [
       "<div>\n",
       "<style scoped>\n",
       "    .dataframe tbody tr th:only-of-type {\n",
       "        vertical-align: middle;\n",
       "    }\n",
       "\n",
       "    .dataframe tbody tr th {\n",
       "        vertical-align: top;\n",
       "    }\n",
       "\n",
       "    .dataframe thead th {\n",
       "        text-align: right;\n",
       "    }\n",
       "</style>\n",
       "<table border=\"1\" class=\"dataframe\">\n",
       "  <thead>\n",
       "    <tr style=\"text-align: right;\">\n",
       "      <th></th>\n",
       "      <th>Symbol</th>\n",
       "    </tr>\n",
       "  </thead>\n",
       "  <tbody>\n",
       "  </tbody>\n",
       "</table>\n",
       "</div>"
      ],
      "text/plain": [
       "Empty DataFrame\n",
       "Columns: [Symbol]\n",
       "Index: []"
      ]
     },
     "execution_count": 82,
     "metadata": {},
     "output_type": "execute_result"
    }
   ],
   "source": [
    "connection = sqlite3.connect('MSC.db')\n",
    "cursor = connection.cursor()\n",
    "\n",
    "sql = (f'''\n",
    "Select symbol from SP500_companies \n",
    "where symbol not in (select distinct symbol from prices where date == \"2021-05-21 00:00:00\")\n",
    "and  symbol not in ('BRK.B', 'BF.B', 'FLIR')'''\n",
    "    )\n",
    "df = pd.read_sql_query(sql,connection)\n",
    "df"
   ]
  },
  {
   "cell_type": "markdown",
   "metadata": {},
   "source": [
    "## Delete\n",
    "\n",
    "connection = sqlite3.connect('MSC.db') \n",
    "cursor = connection.cursor() \n",
    "sql = (\"delete from SP500_companies where symbol = 'CLR'\") \n",
    "cursor.execute(sql) \n",
    "connection.commit()"
   ]
  },
  {
   "cell_type": "markdown",
   "metadata": {
    "ExecuteTime": {
     "end_time": "2021-05-22T09:38:10.731529Z",
     "start_time": "2021-05-22T09:38:10.710386Z"
    }
   },
   "source": [
    "## DF to SQL \n",
    "\n",
    "connection = sqlite3.connect('MSC.db')\n",
    "cursor = connection.cursor()\n",
    "df_distinct.to_sql('prices', connection, index = False)\n",
    "connection.commit()\n",
    "connection.close()"
   ]
  },
  {
   "cell_type": "markdown",
   "metadata": {
    "ExecuteTime": {
     "end_time": "2021-05-22T09:33:19.509518Z",
     "start_time": "2021-05-22T09:33:15.359489Z"
    }
   },
   "source": [
    "## ADD NEW COMERS\n",
    "\n",
    "import pandas as pd\n",
    "import requests\n",
    "from datetime import datetime\n",
    "import datetime\n",
    "import sqlite3\n",
    "import praw\n",
    "from bs4 import BeautifulSoup\n",
    "import re\n",
    "import locale\n",
    "locale.setlocale(locale.LC_ALL, 'en_US.UTF-8')\n",
    "\n",
    "\n",
    "columnnames = \"'date', 'open', 'high', 'low', 'close', 'adj_close','volume', 'symbol'\"\n",
    "insertintotable = '?,?,?,?,?,?,?,?'\n",
    "i = 'CLR'\n",
    "\n",
    "r = requests.get(f'https://finance.yahoo.com/quote/{i}/history?p={i}')\n",
    "data = r.text\n",
    "soup = BeautifulSoup(data, features=\"lxml\")\n",
    "\n",
    "for j in range (0, len(soup.find_all('td'))):\n",
    "    try:\n",
    "        if (type(pd.to_datetime(soup.find_all('td')[j].text,infer_datetime_format=True)) == pd._libs.tslibs.timestamps.Timestamp) == True and isinstance(locale.atof(soup.find_all('td')[j+1].text), (int, float, complex)) == True:\n",
    "            answer = []\n",
    "            answer.append(str(pd.to_datetime(soup.find_all('td')[j].text,infer_datetime_format=True)))\n",
    "            answer = answer + [i.span.text for i in soup.find_all('td')[j+1: j+7]] + [i]\n",
    "            print(answer)\n",
    "            connection = sqlite3.connect('MSC.db')\n",
    "            cursor = connection.cursor()\n",
    "            sql2 = f'cursor.execute(\"insert INTO  prices ({columnnames}) VALUES ({insertintotable})\", {answer})'\n",
    "            eval(sql2)\n",
    "            connection.commit()\n",
    "            connection.close()\n",
    "        else: pass\n",
    "    except:pass            \n"
   ]
  },
  {
   "cell_type": "markdown",
   "metadata": {
    "ExecuteTime": {
     "end_time": "2021-05-18T11:48:09.680826Z",
     "start_time": "2021-05-18T11:48:09.400257Z"
    },
    "heading_collapsed": true
   },
   "source": [
    "## Drop table\n",
    "\n",
    "#https://www.sqlite.org/datatype3.html\n",
    "cursor.executescript(\"DROP TABLE IF EXISTS prices\")"
   ]
  },
  {
   "cell_type": "code",
   "execution_count": null,
   "metadata": {
    "ExecuteTime": {
     "end_time": "2021-04-26T10:47:57.491705Z",
     "start_time": "2021-04-26T10:47:57.221413Z"
    },
    "hidden": true
   },
   "outputs": [],
   "source": [
    "connection = sqlite3.connect(\"MSC.db\")\n",
    "cursor = connection.cursor()\n",
    "\n",
    "sql = ('Select date(moment) as date, * from ER20202021')\n",
    "z =pd.read_sql_query(sql,connection)\n",
    "z.shape"
   ]
  },
  {
   "cell_type": "markdown",
   "metadata": {
    "ExecuteTime": {
     "end_time": "2021-03-09T11:28:45.077103Z",
     "start_time": "2021-03-09T11:28:44.775421Z"
    }
   },
   "source": [
    "## Alter\n",
    "\n",
    "connection = sqlite3.connect(\"MSC.db\")\n",
    "cursor = connection.cursor()\n",
    "\n",
    "sql = ('ALTER TABLE top30 RENAME COLUMN date TO Date')\n",
    "pd.read_sql_query(sql,connection)\n"
   ]
  },
  {
   "cell_type": "markdown",
   "metadata": {},
   "source": [
    "## Add new rows\n",
    "\n",
    "columnnames = \"'Company', 'Symbol', 'Weight'\"\n",
    "insertintotable = '?,?,?'\n",
    "answer = ['Continental Resources','CLR', '0']\n",
    "\n",
    "connection = sqlite3.connect('MSC.db')\n",
    "cursor = connection.cursor()\n",
    "sql2 = f'cursor.execute(\"insert INTO  SP500_companies ({columnnames}) VALUES ({insertintotable})\", {answer})'\n",
    "eval(sql2)\n",
    "connection.commit()\n",
    "connection.close()"
   ]
  },
  {
   "cell_type": "code",
   "execution_count": null,
   "metadata": {
    "ExecuteTime": {
     "end_time": "2021-03-10T15:20:15.721667Z",
     "start_time": "2021-03-10T15:20:15.612893Z"
    }
   },
   "outputs": [],
   "source": [
    "#Transfer to main folder\n",
    "import shutil\n",
    "newPath = shutil.copy('MSC.db', '/Users/Edite')"
   ]
  }
 ],
 "metadata": {
  "kernelspec": {
   "display_name": "Python 3",
   "language": "python",
   "name": "python3"
  },
  "language_info": {
   "codemirror_mode": {
    "name": "ipython",
    "version": 3
   },
   "file_extension": ".py",
   "mimetype": "text/x-python",
   "name": "python",
   "nbconvert_exporter": "python",
   "pygments_lexer": "ipython3",
   "version": "3.7.4"
  },
  "toc": {
   "base_numbering": 1,
   "nav_menu": {},
   "number_sections": true,
   "sideBar": true,
   "skip_h1_title": false,
   "title_cell": "Table of Contents",
   "title_sidebar": "Contents",
   "toc_cell": false,
   "toc_position": {
    "height": "calc(100% - 180px)",
    "left": "10px",
    "top": "150px",
    "width": "384px"
   },
   "toc_section_display": true,
   "toc_window_display": true
  }
 },
 "nbformat": 4,
 "nbformat_minor": 2
}
