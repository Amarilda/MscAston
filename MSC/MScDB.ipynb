{
 "cells": [
  {
   "cell_type": "code",
   "execution_count": 1,
   "metadata": {
    "ExecuteTime": {
     "end_time": "2021-06-09T08:30:09.185846Z",
     "start_time": "2021-06-09T08:30:07.452895Z"
    }
   },
   "outputs": [],
   "source": [
    "import sqlite3\n",
    "import pandas as pd"
   ]
  },
  {
   "cell_type": "code",
   "execution_count": 2,
   "metadata": {
    "ExecuteTime": {
     "end_time": "2021-06-09T08:30:09.207920Z",
     "start_time": "2021-06-09T08:30:09.189513Z"
    }
   },
   "outputs": [],
   "source": [
    "connection = sqlite3.connect(\"MSC.db\")\n",
    "cursor = connection.cursor()"
   ]
  },
  {
   "cell_type": "markdown",
   "metadata": {},
   "source": [
    "## List all the tables"
   ]
  },
  {
   "cell_type": "code",
   "execution_count": 3,
   "metadata": {
    "ExecuteTime": {
     "end_time": "2021-06-09T08:30:09.245877Z",
     "start_time": "2021-06-09T08:30:09.214301Z"
    }
   },
   "outputs": [
    {
     "name": "stdout",
     "output_type": "stream",
     "text": [
      "top30\n",
      "a20210407a\n",
      "a20210408a\n",
      "a20210409a\n",
      "ER20210410a\n",
      "ER20210411a\n",
      "ER20210412a\n",
      "ER20210413a\n",
      "ER20210414a\n",
      "ER20210415\n",
      "ER20210416\n",
      "ER20210417\n",
      "ER20210418\n",
      "ER20210419\n",
      "ER20210420\n",
      "ER20210421\n",
      "ER20210422\n",
      "ER20210423\n",
      "ER20210424\n",
      "ER20210425\n",
      "ER20210426\n",
      "ER20202021\n",
      "ER20210427\n",
      "ER20210428\n",
      "ER20210429\n",
      "ER20210430\n",
      "ER20210501\n",
      "ER20210502\n",
      "ER20210503\n",
      "ER20210504\n",
      "ER20210505\n",
      "ER20210506\n",
      "ER20210507\n",
      "DJI\n",
      "SP500\n",
      "ER20210508\n",
      "ER20210509\n",
      "ER20210510\n",
      "ER20210511\n",
      "ER20210512\n",
      "ER20210513\n",
      "reddit_old\n",
      "main\n",
      "ER20210514\n",
      "ER20210515\n",
      "ER20210516\n",
      "SP500_companies\n",
      "ER20210517\n",
      "ER20210518\n",
      "prices\n",
      "ER20210519\n",
      "ER20210520\n",
      "ER20210521\n",
      "ER20210522\n",
      "ER20210523\n",
      "ER20210524\n",
      "wb_comments\n",
      "wb_sentiment\n",
      "ER20210525\n",
      "ER20210526\n",
      "ER20210527\n",
      "ER20210528\n",
      "ER20210530\n",
      "ER20210529\n",
      "ER20210531\n",
      "ER20210601\n",
      "ER20210602\n",
      "ER20210603\n",
      "ER20210604\n",
      "ER20210605\n",
      "ER20210606\n",
      "ER20210607\n",
      "ER20210608\n"
     ]
    }
   ],
   "source": [
    "connection = sqlite3.connect(\"MSC.db\")\n",
    "cursor = connection.cursor()\n",
    "\n",
    "def tables_in_sqlite_db(conn):\n",
    "    cursor = conn.execute(\"SELECT name FROM sqlite_master WHERE type='table';\")\n",
    "    tables = [\n",
    "        v[0] for v in cursor.fetchall()\n",
    "        if v[0] != \"sqlite_sequence\"\n",
    "    ]\n",
    "    cursor.close()\n",
    "    return tables\n",
    "\n",
    "tables = tables_in_sqlite_db(connection)\n",
    "for i in tables:\n",
    "    print(i)"
   ]
  },
  {
   "cell_type": "code",
   "execution_count": 2,
   "metadata": {
    "ExecuteTime": {
     "end_time": "2021-06-06T08:29:44.001301Z",
     "start_time": "2021-06-06T08:29:41.884713Z"
    }
   },
   "outputs": [
    {
     "data": {
      "text/html": [
       "<div>\n",
       "<style scoped>\n",
       "    .dataframe tbody tr th:only-of-type {\n",
       "        vertical-align: middle;\n",
       "    }\n",
       "\n",
       "    .dataframe tbody tr th {\n",
       "        vertical-align: top;\n",
       "    }\n",
       "\n",
       "    .dataframe thead th {\n",
       "        text-align: right;\n",
       "    }\n",
       "</style>\n",
       "<table border=\"1\" class=\"dataframe\">\n",
       "  <thead>\n",
       "    <tr style=\"text-align: right;\">\n",
       "      <th></th>\n",
       "      <th>date</th>\n",
       "      <th>open</th>\n",
       "      <th>high</th>\n",
       "      <th>low</th>\n",
       "      <th>close</th>\n",
       "      <th>adj_close</th>\n",
       "      <th>volume</th>\n",
       "      <th>symbol</th>\n",
       "    </tr>\n",
       "  </thead>\n",
       "  <tbody>\n",
       "    <tr>\n",
       "      <th>0</th>\n",
       "      <td>2021-06-04 00:00:00</td>\n",
       "      <td>124.07</td>\n",
       "      <td>126.16</td>\n",
       "      <td>123.85</td>\n",
       "      <td>125.89</td>\n",
       "      <td>125.89</td>\n",
       "      <td>75,087,300</td>\n",
       "      <td>AAPL</td>\n",
       "    </tr>\n",
       "    <tr>\n",
       "      <th>1</th>\n",
       "      <td>2021-06-04 00:00:00</td>\n",
       "      <td>247.76</td>\n",
       "      <td>251.65</td>\n",
       "      <td>247.51</td>\n",
       "      <td>250.79</td>\n",
       "      <td>250.79</td>\n",
       "      <td>25,275,000</td>\n",
       "      <td>MSFT</td>\n",
       "    </tr>\n",
       "    <tr>\n",
       "      <th>2</th>\n",
       "      <td>2021-06-04 00:00:00</td>\n",
       "      <td>325.90</td>\n",
       "      <td>332.46</td>\n",
       "      <td>325.18</td>\n",
       "      <td>330.35</td>\n",
       "      <td>330.35</td>\n",
       "      <td>13,282,200</td>\n",
       "      <td>FB</td>\n",
       "    </tr>\n",
       "    <tr>\n",
       "      <th>3</th>\n",
       "      <td>2021-06-04 00:00:00</td>\n",
       "      <td>166.21</td>\n",
       "      <td>166.67</td>\n",
       "      <td>165.03</td>\n",
       "      <td>166.44</td>\n",
       "      <td>166.44</td>\n",
       "      <td>8,510,400</td>\n",
       "      <td>JPM</td>\n",
       "    </tr>\n",
       "    <tr>\n",
       "      <th>4</th>\n",
       "      <td>2021-06-04 00:00:00</td>\n",
       "      <td>167.01</td>\n",
       "      <td>167.57</td>\n",
       "      <td>165.87</td>\n",
       "      <td>165.97</td>\n",
       "      <td>165.97</td>\n",
       "      <td>6,510,300</td>\n",
       "      <td>JNJ</td>\n",
       "    </tr>\n",
       "    <tr>\n",
       "      <th>...</th>\n",
       "      <td>...</td>\n",
       "      <td>...</td>\n",
       "      <td>...</td>\n",
       "      <td>...</td>\n",
       "      <td>...</td>\n",
       "      <td>...</td>\n",
       "      <td>...</td>\n",
       "      <td>...</td>\n",
       "    </tr>\n",
       "    <tr>\n",
       "      <th>58230</th>\n",
       "      <td>2020-12-21 00:00:00</td>\n",
       "      <td>110.71</td>\n",
       "      <td>113.78</td>\n",
       "      <td>108.73</td>\n",
       "      <td>112.54</td>\n",
       "      <td>112.54</td>\n",
       "      <td>3,809,700</td>\n",
       "      <td>WYNN</td>\n",
       "    </tr>\n",
       "    <tr>\n",
       "      <th>58231</th>\n",
       "      <td>2020-12-21 00:00:00</td>\n",
       "      <td>146.80</td>\n",
       "      <td>148.06</td>\n",
       "      <td>141.70</td>\n",
       "      <td>145.28</td>\n",
       "      <td>145.28</td>\n",
       "      <td>1,799,300</td>\n",
       "      <td>XLNX</td>\n",
       "    </tr>\n",
       "    <tr>\n",
       "      <th>58232</th>\n",
       "      <td>2020-12-21 00:00:00</td>\n",
       "      <td>366.00</td>\n",
       "      <td>376.73</td>\n",
       "      <td>363.00</td>\n",
       "      <td>375.91</td>\n",
       "      <td>375.91</td>\n",
       "      <td>505,600</td>\n",
       "      <td>ZBRA</td>\n",
       "    </tr>\n",
       "    <tr>\n",
       "      <th>58233</th>\n",
       "      <td>2020-12-21 00:00:00</td>\n",
       "      <td>30,159.00</td>\n",
       "      <td>30,304.14</td>\n",
       "      <td>29,755.53</td>\n",
       "      <td>30,216.45</td>\n",
       "      <td>30,216.45</td>\n",
       "      <td>437,480,000</td>\n",
       "      <td>^DJI</td>\n",
       "    </tr>\n",
       "    <tr>\n",
       "      <th>58234</th>\n",
       "      <td>2020-12-21 00:00:00</td>\n",
       "      <td>3,684.28</td>\n",
       "      <td>3,702.90</td>\n",
       "      <td>3,636.48</td>\n",
       "      <td>3,694.92</td>\n",
       "      <td>3,694.92</td>\n",
       "      <td>4,732,160,000</td>\n",
       "      <td>^GSPC</td>\n",
       "    </tr>\n",
       "  </tbody>\n",
       "</table>\n",
       "<p>58235 rows × 8 columns</p>\n",
       "</div>"
      ],
      "text/plain": [
       "                      date       open       high        low      close  \\\n",
       "0      2021-06-04 00:00:00     124.07     126.16     123.85     125.89   \n",
       "1      2021-06-04 00:00:00     247.76     251.65     247.51     250.79   \n",
       "2      2021-06-04 00:00:00     325.90     332.46     325.18     330.35   \n",
       "3      2021-06-04 00:00:00     166.21     166.67     165.03     166.44   \n",
       "4      2021-06-04 00:00:00     167.01     167.57     165.87     165.97   \n",
       "...                    ...        ...        ...        ...        ...   \n",
       "58230  2020-12-21 00:00:00     110.71     113.78     108.73     112.54   \n",
       "58231  2020-12-21 00:00:00     146.80     148.06     141.70     145.28   \n",
       "58232  2020-12-21 00:00:00     366.00     376.73     363.00     375.91   \n",
       "58233  2020-12-21 00:00:00  30,159.00  30,304.14  29,755.53  30,216.45   \n",
       "58234  2020-12-21 00:00:00   3,684.28   3,702.90   3,636.48   3,694.92   \n",
       "\n",
       "       adj_close         volume symbol  \n",
       "0         125.89     75,087,300   AAPL  \n",
       "1         250.79     25,275,000   MSFT  \n",
       "2         330.35     13,282,200     FB  \n",
       "3         166.44      8,510,400    JPM  \n",
       "4         165.97      6,510,300    JNJ  \n",
       "...          ...            ...    ...  \n",
       "58230     112.54      3,809,700   WYNN  \n",
       "58231     145.28      1,799,300   XLNX  \n",
       "58232     375.91        505,600   ZBRA  \n",
       "58233  30,216.45    437,480,000   ^DJI  \n",
       "58234   3,694.92  4,732,160,000  ^GSPC  \n",
       "\n",
       "[58235 rows x 8 columns]"
      ]
     },
     "execution_count": 2,
     "metadata": {},
     "output_type": "execute_result"
    }
   ],
   "source": [
    "connection = sqlite3.connect('MSC.db')\n",
    "cursor = connection.cursor()\n",
    "sql = (\"Select * from prices order by date desc\")\n",
    "df = pd.read_sql_query(sql,connection)\n",
    "df"
   ]
  },
  {
   "cell_type": "code",
   "execution_count": null,
   "metadata": {
    "ExecuteTime": {
     "end_time": "2021-05-23T11:30:46.373270Z",
     "start_time": "2021-05-23T11:30:46.342844Z"
    }
   },
   "outputs": [],
   "source": [
    "connection = sqlite3.connect('MSC.db')\n",
    "cursor = connection.cursor()\n",
    "sql = (\"Select * from SP500_companies \")\n",
    "df = pd.read_sql_query(sql,connection)\n",
    "df"
   ]
  },
  {
   "cell_type": "code",
   "execution_count": null,
   "metadata": {
    "ExecuteTime": {
     "end_time": "2021-05-23T11:30:58.877651Z",
     "start_time": "2021-05-23T11:30:58.803834Z"
    }
   },
   "outputs": [],
   "source": [
    "df[df.Symbol == \"CLR\"]"
   ]
  },
  {
   "cell_type": "code",
   "execution_count": null,
   "metadata": {
    "ExecuteTime": {
     "end_time": "2021-05-19T07:48:07.184207Z",
     "start_time": "2021-05-19T07:48:07.165088Z"
    }
   },
   "outputs": [],
   "source": [
    "df[193:]"
   ]
  },
  {
   "cell_type": "code",
   "execution_count": null,
   "metadata": {
    "ExecuteTime": {
     "end_time": "2021-05-23T11:35:35.507731Z",
     "start_time": "2021-05-23T11:35:35.108617Z"
    }
   },
   "outputs": [],
   "source": [
    "connection = sqlite3.connect('MSC.db')\n",
    "cursor = connection.cursor()\n",
    "sql = (''' select * from prices \n",
    "--where date == \"2021-05-19 00:00:00\"\n",
    "''')\n",
    "price = pd.read_sql_query(sql,connection)\n",
    "print(price.shape)\n",
    "price.tail()"
   ]
  },
  {
   "cell_type": "markdown",
   "metadata": {
    "ExecuteTime": {
     "end_time": "2021-05-19T07:49:01.660010Z",
     "start_time": "2021-05-19T07:49:01.636616Z"
    }
   },
   "source": [
    "price"
   ]
  },
  {
   "cell_type": "code",
   "execution_count": null,
   "metadata": {
    "ExecuteTime": {
     "end_time": "2021-05-23T11:31:15.722254Z",
     "start_time": "2021-05-23T11:31:15.703570Z"
    }
   },
   "outputs": [],
   "source": [
    "price[price.open == \"Stock Split\"]"
   ]
  },
  {
   "cell_type": "code",
   "execution_count": null,
   "metadata": {
    "ExecuteTime": {
     "end_time": "2021-05-23T11:31:18.010035Z",
     "start_time": "2021-05-23T11:31:17.992763Z"
    }
   },
   "outputs": [],
   "source": [
    "price[price.open == \"Dividend\"]"
   ]
  },
  {
   "cell_type": "code",
   "execution_count": 7,
   "metadata": {
    "ExecuteTime": {
     "end_time": "2021-06-06T08:32:04.713443Z",
     "start_time": "2021-06-06T08:32:04.387871Z"
    }
   },
   "outputs": [
    {
     "name": "stdout",
     "output_type": "stream",
     "text": [
      "(1220, 4)\n"
     ]
    },
    {
     "data": {
      "text/html": [
       "<div>\n",
       "<style scoped>\n",
       "    .dataframe tbody tr th:only-of-type {\n",
       "        vertical-align: middle;\n",
       "    }\n",
       "\n",
       "    .dataframe tbody tr th {\n",
       "        vertical-align: top;\n",
       "    }\n",
       "\n",
       "    .dataframe thead th {\n",
       "        text-align: right;\n",
       "    }\n",
       "</style>\n",
       "<table border=\"1\" class=\"dataframe\">\n",
       "  <thead>\n",
       "    <tr style=\"text-align: right;\">\n",
       "      <th></th>\n",
       "      <th>symbol</th>\n",
       "      <th>date</th>\n",
       "      <th>count</th>\n",
       "      <th>AM</th>\n",
       "    </tr>\n",
       "  </thead>\n",
       "  <tbody>\n",
       "    <tr>\n",
       "      <th>0</th>\n",
       "      <td>A</td>\n",
       "      <td>2021-06-04 00:00:00</td>\n",
       "      <td>2</td>\n",
       "      <td>1</td>\n",
       "    </tr>\n",
       "    <tr>\n",
       "      <th>1</th>\n",
       "      <td>A</td>\n",
       "      <td>2021-06-04 00:00:00</td>\n",
       "      <td>2</td>\n",
       "      <td>2</td>\n",
       "    </tr>\n",
       "    <tr>\n",
       "      <th>2</th>\n",
       "      <td>AAL</td>\n",
       "      <td>2021-06-04 00:00:00</td>\n",
       "      <td>2</td>\n",
       "      <td>1</td>\n",
       "    </tr>\n",
       "    <tr>\n",
       "      <th>3</th>\n",
       "      <td>AAL</td>\n",
       "      <td>2021-06-04 00:00:00</td>\n",
       "      <td>2</td>\n",
       "      <td>2</td>\n",
       "    </tr>\n",
       "    <tr>\n",
       "      <th>4</th>\n",
       "      <td>AAP</td>\n",
       "      <td>2021-06-04 00:00:00</td>\n",
       "      <td>2</td>\n",
       "      <td>1</td>\n",
       "    </tr>\n",
       "  </tbody>\n",
       "</table>\n",
       "</div>"
      ],
      "text/plain": [
       "  symbol                 date  count  AM\n",
       "0      A  2021-06-04 00:00:00      2   1\n",
       "1      A  2021-06-04 00:00:00      2   2\n",
       "2    AAL  2021-06-04 00:00:00      2   1\n",
       "3    AAL  2021-06-04 00:00:00      2   2\n",
       "4    AAP  2021-06-04 00:00:00      2   1"
      ]
     },
     "execution_count": 7,
     "metadata": {},
     "output_type": "execute_result"
    }
   ],
   "source": [
    "## Duplicates\n",
    "\n",
    "connection = sqlite3.connect('MSC.db')\n",
    "cursor = connection.cursor()\n",
    "sql = ('''select symbol, date, XX as count, AM \n",
    "from (Select symbol, date, COUNT(symbol) OVER(PARTITION BY symbol, date) as XX ,ROW_NUMBER() OVER(PARTITION BY symbol, date) as AM from prices) where XX > 1''')\n",
    "df = pd.read_sql_query(sql,connection)\n",
    "print(df.shape)\n",
    "df.head()"
   ]
  },
  {
   "cell_type": "code",
   "execution_count": 5,
   "metadata": {
    "ExecuteTime": {
     "end_time": "2021-06-06T08:31:55.493245Z",
     "start_time": "2021-06-06T08:31:55.312414Z"
    }
   },
   "outputs": [
    {
     "data": {
      "text/html": [
       "<div>\n",
       "<style scoped>\n",
       "    .dataframe tbody tr th:only-of-type {\n",
       "        vertical-align: middle;\n",
       "    }\n",
       "\n",
       "    .dataframe tbody tr th {\n",
       "        vertical-align: top;\n",
       "    }\n",
       "\n",
       "    .dataframe thead th {\n",
       "        text-align: right;\n",
       "    }\n",
       "</style>\n",
       "<table border=\"1\" class=\"dataframe\">\n",
       "  <thead>\n",
       "    <tr style=\"text-align: right;\">\n",
       "      <th></th>\n",
       "      <th>symbol</th>\n",
       "      <th>date</th>\n",
       "    </tr>\n",
       "  </thead>\n",
       "  <tbody>\n",
       "    <tr>\n",
       "      <th>0</th>\n",
       "      <td>AAPL</td>\n",
       "      <td>2021-06-04 00:00:00</td>\n",
       "    </tr>\n",
       "    <tr>\n",
       "      <th>1</th>\n",
       "      <td>MSFT</td>\n",
       "      <td>2021-06-04 00:00:00</td>\n",
       "    </tr>\n",
       "    <tr>\n",
       "      <th>2</th>\n",
       "      <td>FB</td>\n",
       "      <td>2021-06-04 00:00:00</td>\n",
       "    </tr>\n",
       "    <tr>\n",
       "      <th>3</th>\n",
       "      <td>JPM</td>\n",
       "      <td>2021-06-04 00:00:00</td>\n",
       "    </tr>\n",
       "    <tr>\n",
       "      <th>4</th>\n",
       "      <td>JNJ</td>\n",
       "      <td>2021-06-04 00:00:00</td>\n",
       "    </tr>\n",
       "    <tr>\n",
       "      <th>...</th>\n",
       "      <td>...</td>\n",
       "      <td>...</td>\n",
       "    </tr>\n",
       "    <tr>\n",
       "      <th>58230</th>\n",
       "      <td>WYNN</td>\n",
       "      <td>2020-12-21 00:00:00</td>\n",
       "    </tr>\n",
       "    <tr>\n",
       "      <th>58231</th>\n",
       "      <td>XLNX</td>\n",
       "      <td>2020-12-21 00:00:00</td>\n",
       "    </tr>\n",
       "    <tr>\n",
       "      <th>58232</th>\n",
       "      <td>ZBRA</td>\n",
       "      <td>2020-12-21 00:00:00</td>\n",
       "    </tr>\n",
       "    <tr>\n",
       "      <th>58233</th>\n",
       "      <td>^DJI</td>\n",
       "      <td>2020-12-21 00:00:00</td>\n",
       "    </tr>\n",
       "    <tr>\n",
       "      <th>58234</th>\n",
       "      <td>^GSPC</td>\n",
       "      <td>2020-12-21 00:00:00</td>\n",
       "    </tr>\n",
       "  </tbody>\n",
       "</table>\n",
       "<p>58235 rows × 2 columns</p>\n",
       "</div>"
      ],
      "text/plain": [
       "      symbol                 date\n",
       "0       AAPL  2021-06-04 00:00:00\n",
       "1       MSFT  2021-06-04 00:00:00\n",
       "2         FB  2021-06-04 00:00:00\n",
       "3        JPM  2021-06-04 00:00:00\n",
       "4        JNJ  2021-06-04 00:00:00\n",
       "...      ...                  ...\n",
       "58230   WYNN  2020-12-21 00:00:00\n",
       "58231   XLNX  2020-12-21 00:00:00\n",
       "58232   ZBRA  2020-12-21 00:00:00\n",
       "58233   ^DJI  2020-12-21 00:00:00\n",
       "58234  ^GSPC  2020-12-21 00:00:00\n",
       "\n",
       "[58235 rows x 2 columns]"
      ]
     },
     "execution_count": 5,
     "metadata": {},
     "output_type": "execute_result"
    }
   ],
   "source": [
    "connection = sqlite3.connect('MSC.db')\n",
    "cursor = connection.cursor()\n",
    "sql = (\"Select symbol, date from prices order by date desc\")\n",
    "df = pd.read_sql_query(sql,connection)\n",
    "df"
   ]
  },
  {
   "cell_type": "code",
   "execution_count": 6,
   "metadata": {
    "ExecuteTime": {
     "end_time": "2021-06-06T08:31:59.323857Z",
     "start_time": "2021-06-06T08:31:57.617650Z"
    }
   },
   "outputs": [],
   "source": [
    "for date in df.date.unique():\n",
    "\n",
    "    connection = sqlite3.connect('MSC.db')\n",
    "    cursor = connection.cursor()\n",
    "    sql = (f\"Select symbol from SP500_companies where symbol not in (select symbol from prices where date = '{date}') and symbol not in ('FLIR', 'BF.B', 'BRK.B')\")\n",
    "    miss = pd.read_sql_query(sql,connection)\n",
    "    listys = []\n",
    "    if len(list(miss.Symbol))>0 and date >'2021-01-01 00:00:00' :\n",
    "        print(date)\n",
    "        print(list(miss.Symbol))\n",
    "        "
   ]
  },
  {
   "cell_type": "code",
   "execution_count": 3,
   "metadata": {
    "ExecuteTime": {
     "end_time": "2021-06-06T08:31:40.891855Z",
     "start_time": "2021-06-06T08:31:39.753104Z"
    }
   },
   "outputs": [
    {
     "data": {
      "text/html": [
       "<div>\n",
       "<style scoped>\n",
       "    .dataframe tbody tr th:only-of-type {\n",
       "        vertical-align: middle;\n",
       "    }\n",
       "\n",
       "    .dataframe tbody tr th {\n",
       "        vertical-align: top;\n",
       "    }\n",
       "\n",
       "    .dataframe thead th {\n",
       "        text-align: right;\n",
       "    }\n",
       "</style>\n",
       "<table border=\"1\" class=\"dataframe\">\n",
       "  <thead>\n",
       "    <tr style=\"text-align: right;\">\n",
       "      <th></th>\n",
       "      <th>Symbol</th>\n",
       "    </tr>\n",
       "  </thead>\n",
       "  <tbody>\n",
       "  </tbody>\n",
       "</table>\n",
       "</div>"
      ],
      "text/plain": [
       "Empty DataFrame\n",
       "Columns: [Symbol]\n",
       "Index: []"
      ]
     },
     "execution_count": 3,
     "metadata": {},
     "output_type": "execute_result"
    }
   ],
   "source": [
    "connection = sqlite3.connect('MSC.db')\n",
    "cursor = connection.cursor()\n",
    "\n",
    "sql = (f'''\n",
    "Select symbol from SP500_companies \n",
    "where symbol not in (select distinct symbol from prices where date == \"2021-05-25 00:00:00\")\n",
    "and  symbol not in ('BRK.B', 'BF.B', 'FLIR')'''\n",
    "    )\n",
    "df = pd.read_sql_query(sql,connection)\n",
    "df"
   ]
  },
  {
   "cell_type": "code",
   "execution_count": 128,
   "metadata": {
    "ExecuteTime": {
     "end_time": "2021-05-25T06:47:28.422393Z",
     "start_time": "2021-05-25T06:47:28.347463Z"
    }
   },
   "outputs": [],
   "source": [
    "## Delete\n",
    "\n",
    "connection = sqlite3.connect('MSC.db') \n",
    "cursor = connection.cursor() \n",
    "sql = (\"delete from wb_comments where date = '2021-05-25'\") \n",
    "cursor.execute(sql) \n",
    "connection.commit()"
   ]
  },
  {
   "cell_type": "code",
   "execution_count": 8,
   "metadata": {
    "ExecuteTime": {
     "end_time": "2021-06-09T08:32:08.932028Z",
     "start_time": "2021-06-09T08:32:08.869677Z"
    }
   },
   "outputs": [
    {
     "data": {
      "text/html": [
       "<div>\n",
       "<style scoped>\n",
       "    .dataframe tbody tr th:only-of-type {\n",
       "        vertical-align: middle;\n",
       "    }\n",
       "\n",
       "    .dataframe tbody tr th {\n",
       "        vertical-align: top;\n",
       "    }\n",
       "\n",
       "    .dataframe thead th {\n",
       "        text-align: right;\n",
       "    }\n",
       "</style>\n",
       "<table border=\"1\" class=\"dataframe\">\n",
       "  <thead>\n",
       "    <tr style=\"text-align: right;\">\n",
       "      <th></th>\n",
       "      <th>date</th>\n",
       "      <th>symbol</th>\n",
       "      <th>neg</th>\n",
       "      <th>neu</th>\n",
       "      <th>pos</th>\n",
       "      <th>compound</th>\n",
       "      <th>comment</th>\n",
       "    </tr>\n",
       "  </thead>\n",
       "  <tbody>\n",
       "    <tr>\n",
       "      <th>0</th>\n",
       "      <td>2021-06-08</td>\n",
       "      <td>BIIB</td>\n",
       "      <td>0.101</td>\n",
       "      <td>0.899</td>\n",
       "      <td>0.0</td>\n",
       "      <td>-0.4215</td>\n",
       "      <td>100% into CLOV. After CLOV, PRVB. Look them up...</td>\n",
       "    </tr>\n",
       "    <tr>\n",
       "      <th>1</th>\n",
       "      <td>2021-06-08</td>\n",
       "      <td>BIIB</td>\n",
       "      <td>0.0</td>\n",
       "      <td>0.876</td>\n",
       "      <td>0.124</td>\n",
       "      <td>0.5673</td>\n",
       "      <td>big ticker to keep an eye on for fat movement!...</td>\n",
       "    </tr>\n",
       "    <tr>\n",
       "      <th>2</th>\n",
       "      <td>2021-06-08</td>\n",
       "      <td>BIIB</td>\n",
       "      <td>0.0</td>\n",
       "      <td>1.0</td>\n",
       "      <td>0.0</td>\n",
       "      <td>0.0</td>\n",
       "      <td>Any thoughts about BIIB ?</td>\n",
       "    </tr>\n",
       "    <tr>\n",
       "      <th>3</th>\n",
       "      <td>2021-06-08</td>\n",
       "      <td>BIIB</td>\n",
       "      <td>0.15</td>\n",
       "      <td>0.743</td>\n",
       "      <td>0.106</td>\n",
       "      <td>-0.0644</td>\n",
       "      <td>Got fucked out of a 6 bagger on a BIIB call to...</td>\n",
       "    </tr>\n",
       "    <tr>\n",
       "      <th>4</th>\n",
       "      <td>2021-06-08</td>\n",
       "      <td>BIIB</td>\n",
       "      <td>0.282</td>\n",
       "      <td>0.602</td>\n",
       "      <td>0.117</td>\n",
       "      <td>-0.6597</td>\n",
       "      <td>BIIB puts.   Approval was priced in and drug h...</td>\n",
       "    </tr>\n",
       "    <tr>\n",
       "      <th>...</th>\n",
       "      <td>...</td>\n",
       "      <td>...</td>\n",
       "      <td>...</td>\n",
       "      <td>...</td>\n",
       "      <td>...</td>\n",
       "      <td>...</td>\n",
       "      <td>...</td>\n",
       "    </tr>\n",
       "    <tr>\n",
       "      <th>4184</th>\n",
       "      <td>2021-05-24</td>\n",
       "      <td>TGT</td>\n",
       "      <td>0.157</td>\n",
       "      <td>0.721</td>\n",
       "      <td>0.122</td>\n",
       "      <td>-0.1613</td>\n",
       "      <td>WMT TGT LOW HD - will retail still do ok for t...</td>\n",
       "    </tr>\n",
       "    <tr>\n",
       "      <th>4185</th>\n",
       "      <td>2021-05-24</td>\n",
       "      <td>LOW</td>\n",
       "      <td>0.157</td>\n",
       "      <td>0.721</td>\n",
       "      <td>0.122</td>\n",
       "      <td>-0.1613</td>\n",
       "      <td>WMT TGT LOW HD - will retail still do ok for t...</td>\n",
       "    </tr>\n",
       "    <tr>\n",
       "      <th>4186</th>\n",
       "      <td>2021-05-24</td>\n",
       "      <td>NFLX</td>\n",
       "      <td>0.239</td>\n",
       "      <td>0.621</td>\n",
       "      <td>0.14</td>\n",
       "      <td>-0.9034</td>\n",
       "      <td>u/JakTravis_u_SOB\\n\\nWhere does everyone think...</td>\n",
       "    </tr>\n",
       "    <tr>\n",
       "      <th>4187</th>\n",
       "      <td>2021-05-24</td>\n",
       "      <td>VFC</td>\n",
       "      <td>0.0</td>\n",
       "      <td>0.222</td>\n",
       "      <td>0.778</td>\n",
       "      <td>0.8885</td>\n",
       "      <td>Free money, VFC calls on Monday.</td>\n",
       "    </tr>\n",
       "    <tr>\n",
       "      <th>4188</th>\n",
       "      <td>2021-05-24</td>\n",
       "      <td>PENN</td>\n",
       "      <td>0.0</td>\n",
       "      <td>0.751</td>\n",
       "      <td>0.249</td>\n",
       "      <td>0.5106</td>\n",
       "      <td>Well, on Monday I will be the owner of 200 sha...</td>\n",
       "    </tr>\n",
       "  </tbody>\n",
       "</table>\n",
       "<p>4189 rows × 7 columns</p>\n",
       "</div>"
      ],
      "text/plain": [
       "            date symbol    neg    neu    pos compound  \\\n",
       "0     2021-06-08   BIIB  0.101  0.899    0.0  -0.4215   \n",
       "1     2021-06-08   BIIB    0.0  0.876  0.124   0.5673   \n",
       "2     2021-06-08   BIIB    0.0    1.0    0.0      0.0   \n",
       "3     2021-06-08   BIIB   0.15  0.743  0.106  -0.0644   \n",
       "4     2021-06-08   BIIB  0.282  0.602  0.117  -0.6597   \n",
       "...          ...    ...    ...    ...    ...      ...   \n",
       "4184  2021-05-24    TGT  0.157  0.721  0.122  -0.1613   \n",
       "4185  2021-05-24    LOW  0.157  0.721  0.122  -0.1613   \n",
       "4186  2021-05-24   NFLX  0.239  0.621   0.14  -0.9034   \n",
       "4187  2021-05-24    VFC    0.0  0.222  0.778   0.8885   \n",
       "4188  2021-05-24   PENN    0.0  0.751  0.249   0.5106   \n",
       "\n",
       "                                                comment  \n",
       "0     100% into CLOV. After CLOV, PRVB. Look them up...  \n",
       "1     big ticker to keep an eye on for fat movement!...  \n",
       "2                             Any thoughts about BIIB ?  \n",
       "3     Got fucked out of a 6 bagger on a BIIB call to...  \n",
       "4     BIIB puts.   Approval was priced in and drug h...  \n",
       "...                                                 ...  \n",
       "4184  WMT TGT LOW HD - will retail still do ok for t...  \n",
       "4185  WMT TGT LOW HD - will retail still do ok for t...  \n",
       "4186  u/JakTravis_u_SOB\\n\\nWhere does everyone think...  \n",
       "4187                   Free money, VFC calls on Monday.  \n",
       "4188  Well, on Monday I will be the owner of 200 sha...  \n",
       "\n",
       "[4189 rows x 7 columns]"
      ]
     },
     "execution_count": 8,
     "metadata": {},
     "output_type": "execute_result"
    }
   ],
   "source": [
    "connection = sqlite3.connect('MSC.db')\n",
    "cursor = connection.cursor()\n",
    "sql = (\"Select * from wb_sentiment order by date desc\")\n",
    "df = pd.read_sql_query(sql,connection)\n",
    "df"
   ]
  },
  {
   "cell_type": "code",
   "execution_count": 7,
   "metadata": {
    "ExecuteTime": {
     "end_time": "2021-06-09T08:31:13.124124Z",
     "start_time": "2021-06-09T08:31:13.080801Z"
    }
   },
   "outputs": [
    {
     "data": {
      "text/plain": [
       "2021-05-30    27276\n",
       "2021-06-03    24008\n",
       "2021-06-04    21784\n",
       "2021-05-26    18546\n",
       "2021-05-27    17800\n",
       "2021-05-29    16661\n",
       "2021-05-31    14977\n",
       "2021-06-08    14798\n",
       "2021-05-25    13670\n",
       "2021-06-05    13473\n",
       "2021-06-02    12162\n",
       "2021-05-24     9330\n",
       "2021-06-07     3309\n",
       "2021-06-01     2442\n",
       "2021-06-06      634\n",
       "Name: date, dtype: int64"
      ]
     },
     "execution_count": 7,
     "metadata": {},
     "output_type": "execute_result"
    }
   ],
   "source": [
    "df.date.value_counts()"
   ]
  },
  {
   "cell_type": "code",
   "execution_count": 193,
   "metadata": {
    "ExecuteTime": {
     "end_time": "2021-05-26T08:29:59.781268Z",
     "start_time": "2021-05-26T08:29:59.758639Z"
    }
   },
   "outputs": [],
   "source": [
    "cols = ['neg', 'neu', 'pos', 'compound']\n",
    "df[cols] = df[cols].apply(pd.to_numeric, downcast='float', errors='coerce')"
   ]
  },
  {
   "cell_type": "code",
   "execution_count": 194,
   "metadata": {
    "ExecuteTime": {
     "end_time": "2021-05-26T08:30:00.413051Z",
     "start_time": "2021-05-26T08:30:00.388565Z"
    }
   },
   "outputs": [
    {
     "name": "stdout",
     "output_type": "stream",
     "text": [
      "<class 'pandas.core.frame.DataFrame'>\n",
      "RangeIndex: 1253 entries, 0 to 1252\n",
      "Data columns (total 7 columns):\n",
      " #   Column    Non-Null Count  Dtype  \n",
      "---  ------    --------------  -----  \n",
      " 0   date      1253 non-null   object \n",
      " 1   symbol    1253 non-null   object \n",
      " 2   neg       1253 non-null   float32\n",
      " 3   neu       1253 non-null   float32\n",
      " 4   pos       1253 non-null   float32\n",
      " 5   compound  1253 non-null   float32\n",
      " 6   comment   1253 non-null   object \n",
      "dtypes: float32(4), object(3)\n",
      "memory usage: 49.1+ KB\n"
     ]
    }
   ],
   "source": [
    "df.info()"
   ]
  },
  {
   "cell_type": "code",
   "execution_count": 201,
   "metadata": {
    "ExecuteTime": {
     "end_time": "2021-05-26T08:31:27.952525Z",
     "start_time": "2021-05-26T08:31:27.803965Z"
    }
   },
   "outputs": [
    {
     "name": "stderr",
     "output_type": "stream",
     "text": [
      "/Users/Edite/opt/anaconda3/lib/python3.7/site-packages/ipykernel_launcher.py:4: FutureWarning: Indexing with multiple keys (implicitly converted to a tuple of keys) will be deprecated, use a list instead.\n",
      "  after removing the cwd from sys.path.\n"
     ]
    },
    {
     "data": {
      "text/html": [
       "<div>\n",
       "<style scoped>\n",
       "    .dataframe tbody tr th:only-of-type {\n",
       "        vertical-align: middle;\n",
       "    }\n",
       "\n",
       "    .dataframe tbody tr th {\n",
       "        vertical-align: top;\n",
       "    }\n",
       "\n",
       "    .dataframe thead tr th {\n",
       "        text-align: left;\n",
       "    }\n",
       "\n",
       "    .dataframe thead tr:last-of-type th {\n",
       "        text-align: right;\n",
       "    }\n",
       "</style>\n",
       "<table border=\"1\" class=\"dataframe\">\n",
       "  <thead>\n",
       "    <tr>\n",
       "      <th></th>\n",
       "      <th></th>\n",
       "      <th colspan=\"6\" halign=\"left\">neg</th>\n",
       "      <th colspan=\"6\" halign=\"left\">compound</th>\n",
       "    </tr>\n",
       "    <tr>\n",
       "      <th></th>\n",
       "      <th></th>\n",
       "      <th>count</th>\n",
       "      <th>mean</th>\n",
       "      <th>median</th>\n",
       "      <th>min</th>\n",
       "      <th>max</th>\n",
       "      <th>std</th>\n",
       "      <th>count</th>\n",
       "      <th>mean</th>\n",
       "      <th>median</th>\n",
       "      <th>min</th>\n",
       "      <th>max</th>\n",
       "      <th>std</th>\n",
       "    </tr>\n",
       "    <tr>\n",
       "      <th>symbol</th>\n",
       "      <th>date</th>\n",
       "      <th></th>\n",
       "      <th></th>\n",
       "      <th></th>\n",
       "      <th></th>\n",
       "      <th></th>\n",
       "      <th></th>\n",
       "      <th></th>\n",
       "      <th></th>\n",
       "      <th></th>\n",
       "      <th></th>\n",
       "      <th></th>\n",
       "      <th></th>\n",
       "    </tr>\n",
       "  </thead>\n",
       "  <tbody>\n",
       "    <tr>\n",
       "      <th rowspan=\"3\" valign=\"top\">AAL</th>\n",
       "      <th>2021-05-24</th>\n",
       "      <td>1</td>\n",
       "      <td>0.030000</td>\n",
       "      <td>0.0300</td>\n",
       "      <td>0.030</td>\n",
       "      <td>0.030</td>\n",
       "      <td>NaN</td>\n",
       "      <td>1</td>\n",
       "      <td>0.86760</td>\n",
       "      <td>0.86760</td>\n",
       "      <td>0.8676</td>\n",
       "      <td>0.8676</td>\n",
       "      <td>NaN</td>\n",
       "    </tr>\n",
       "    <tr>\n",
       "      <th>2021-05-25</th>\n",
       "      <td>2</td>\n",
       "      <td>0.053000</td>\n",
       "      <td>0.0530</td>\n",
       "      <td>0.030</td>\n",
       "      <td>0.076</td>\n",
       "      <td>0.032527</td>\n",
       "      <td>2</td>\n",
       "      <td>0.71975</td>\n",
       "      <td>0.71975</td>\n",
       "      <td>0.5719</td>\n",
       "      <td>0.8676</td>\n",
       "      <td>0.209091</td>\n",
       "    </tr>\n",
       "    <tr>\n",
       "      <th>2021-05-26</th>\n",
       "      <td>5</td>\n",
       "      <td>0.030600</td>\n",
       "      <td>0.0000</td>\n",
       "      <td>0.000</td>\n",
       "      <td>0.077</td>\n",
       "      <td>0.041902</td>\n",
       "      <td>5</td>\n",
       "      <td>0.44520</td>\n",
       "      <td>0.57190</td>\n",
       "      <td>0.0000</td>\n",
       "      <td>0.8316</td>\n",
       "      <td>0.419559</td>\n",
       "    </tr>\n",
       "    <tr>\n",
       "      <th rowspan=\"2\" valign=\"top\">AAPL</th>\n",
       "      <th>2021-05-24</th>\n",
       "      <td>11</td>\n",
       "      <td>0.046091</td>\n",
       "      <td>0.0000</td>\n",
       "      <td>0.000</td>\n",
       "      <td>0.284</td>\n",
       "      <td>0.103449</td>\n",
       "      <td>11</td>\n",
       "      <td>0.17100</td>\n",
       "      <td>0.00000</td>\n",
       "      <td>-0.5445</td>\n",
       "      <td>0.8555</td>\n",
       "      <td>0.388782</td>\n",
       "    </tr>\n",
       "    <tr>\n",
       "      <th>2021-05-25</th>\n",
       "      <td>26</td>\n",
       "      <td>0.091269</td>\n",
       "      <td>0.0000</td>\n",
       "      <td>0.000</td>\n",
       "      <td>0.403</td>\n",
       "      <td>0.125886</td>\n",
       "      <td>26</td>\n",
       "      <td>0.15320</td>\n",
       "      <td>0.24465</td>\n",
       "      <td>-0.8038</td>\n",
       "      <td>0.8271</td>\n",
       "      <td>0.415601</td>\n",
       "    </tr>\n",
       "    <tr>\n",
       "      <th>...</th>\n",
       "      <th>...</th>\n",
       "      <td>...</td>\n",
       "      <td>...</td>\n",
       "      <td>...</td>\n",
       "      <td>...</td>\n",
       "      <td>...</td>\n",
       "      <td>...</td>\n",
       "      <td>...</td>\n",
       "      <td>...</td>\n",
       "      <td>...</td>\n",
       "      <td>...</td>\n",
       "      <td>...</td>\n",
       "      <td>...</td>\n",
       "    </tr>\n",
       "    <tr>\n",
       "      <th rowspan=\"2\" valign=\"top\">WELL</th>\n",
       "      <th>2021-05-25</th>\n",
       "      <td>1</td>\n",
       "      <td>0.000000</td>\n",
       "      <td>0.0000</td>\n",
       "      <td>0.000</td>\n",
       "      <td>0.000</td>\n",
       "      <td>NaN</td>\n",
       "      <td>1</td>\n",
       "      <td>0.75790</td>\n",
       "      <td>0.75790</td>\n",
       "      <td>0.7579</td>\n",
       "      <td>0.7579</td>\n",
       "      <td>NaN</td>\n",
       "    </tr>\n",
       "    <tr>\n",
       "      <th>2021-05-26</th>\n",
       "      <td>2</td>\n",
       "      <td>0.027500</td>\n",
       "      <td>0.0275</td>\n",
       "      <td>0.000</td>\n",
       "      <td>0.055</td>\n",
       "      <td>0.038891</td>\n",
       "      <td>2</td>\n",
       "      <td>0.62655</td>\n",
       "      <td>0.62655</td>\n",
       "      <td>0.2732</td>\n",
       "      <td>0.9799</td>\n",
       "      <td>0.499712</td>\n",
       "    </tr>\n",
       "    <tr>\n",
       "      <th>WMT</th>\n",
       "      <th>2021-05-24</th>\n",
       "      <td>1</td>\n",
       "      <td>0.157000</td>\n",
       "      <td>0.1570</td>\n",
       "      <td>0.157</td>\n",
       "      <td>0.157</td>\n",
       "      <td>NaN</td>\n",
       "      <td>1</td>\n",
       "      <td>-0.16130</td>\n",
       "      <td>-0.16130</td>\n",
       "      <td>-0.1613</td>\n",
       "      <td>-0.1613</td>\n",
       "      <td>NaN</td>\n",
       "    </tr>\n",
       "    <tr>\n",
       "      <th rowspan=\"2\" valign=\"top\">XOM</th>\n",
       "      <th>2021-05-24</th>\n",
       "      <td>1</td>\n",
       "      <td>0.180000</td>\n",
       "      <td>0.1800</td>\n",
       "      <td>0.180</td>\n",
       "      <td>0.180</td>\n",
       "      <td>NaN</td>\n",
       "      <td>1</td>\n",
       "      <td>-0.51060</td>\n",
       "      <td>-0.51060</td>\n",
       "      <td>-0.5106</td>\n",
       "      <td>-0.5106</td>\n",
       "      <td>NaN</td>\n",
       "    </tr>\n",
       "    <tr>\n",
       "      <th>2021-05-26</th>\n",
       "      <td>4</td>\n",
       "      <td>0.248750</td>\n",
       "      <td>0.2605</td>\n",
       "      <td>0.000</td>\n",
       "      <td>0.474</td>\n",
       "      <td>0.233646</td>\n",
       "      <td>4</td>\n",
       "      <td>0.13090</td>\n",
       "      <td>0.11920</td>\n",
       "      <td>-0.5574</td>\n",
       "      <td>0.8426</td>\n",
       "      <td>0.731859</td>\n",
       "    </tr>\n",
       "  </tbody>\n",
       "</table>\n",
       "<p>165 rows × 12 columns</p>\n",
       "</div>"
      ],
      "text/plain": [
       "                    neg                                           compound  \\\n",
       "                  count      mean  median    min    max       std    count   \n",
       "symbol date                                                                  \n",
       "AAL    2021-05-24     1  0.030000  0.0300  0.030  0.030       NaN        1   \n",
       "       2021-05-25     2  0.053000  0.0530  0.030  0.076  0.032527        2   \n",
       "       2021-05-26     5  0.030600  0.0000  0.000  0.077  0.041902        5   \n",
       "AAPL   2021-05-24    11  0.046091  0.0000  0.000  0.284  0.103449       11   \n",
       "       2021-05-25    26  0.091269  0.0000  0.000  0.403  0.125886       26   \n",
       "...                 ...       ...     ...    ...    ...       ...      ...   \n",
       "WELL   2021-05-25     1  0.000000  0.0000  0.000  0.000       NaN        1   \n",
       "       2021-05-26     2  0.027500  0.0275  0.000  0.055  0.038891        2   \n",
       "WMT    2021-05-24     1  0.157000  0.1570  0.157  0.157       NaN        1   \n",
       "XOM    2021-05-24     1  0.180000  0.1800  0.180  0.180       NaN        1   \n",
       "       2021-05-26     4  0.248750  0.2605  0.000  0.474  0.233646        4   \n",
       "\n",
       "                                                               \n",
       "                      mean   median     min     max       std  \n",
       "symbol date                                                    \n",
       "AAL    2021-05-24  0.86760  0.86760  0.8676  0.8676       NaN  \n",
       "       2021-05-25  0.71975  0.71975  0.5719  0.8676  0.209091  \n",
       "       2021-05-26  0.44520  0.57190  0.0000  0.8316  0.419559  \n",
       "AAPL   2021-05-24  0.17100  0.00000 -0.5445  0.8555  0.388782  \n",
       "       2021-05-25  0.15320  0.24465 -0.8038  0.8271  0.415601  \n",
       "...                    ...      ...     ...     ...       ...  \n",
       "WELL   2021-05-25  0.75790  0.75790  0.7579  0.7579       NaN  \n",
       "       2021-05-26  0.62655  0.62655  0.2732  0.9799  0.499712  \n",
       "WMT    2021-05-24 -0.16130 -0.16130 -0.1613 -0.1613       NaN  \n",
       "XOM    2021-05-24 -0.51060 -0.51060 -0.5106 -0.5106       NaN  \n",
       "       2021-05-26  0.13090  0.11920 -0.5574  0.8426  0.731859  \n",
       "\n",
       "[165 rows x 12 columns]"
      ]
     },
     "execution_count": 201,
     "metadata": {},
     "output_type": "execute_result"
    }
   ],
   "source": [
    "import numpy as np\n",
    "#df.groupby(['symbol', 'date'])['compound'].agg(['count',np.mean, np.median, min, max, np.std]).unstack(1)\n",
    "\n",
    "df.groupby(['symbol', 'date'])['neg','compound'].agg(['count',np.mean, np.median, min, max, np.std])"
   ]
  },
  {
   "cell_type": "markdown",
   "metadata": {
    "ExecuteTime": {
     "end_time": "2021-05-22T09:38:10.731529Z",
     "start_time": "2021-05-22T09:38:10.710386Z"
    }
   },
   "source": [
    "## DF to SQL \n",
    "\n",
    "connection = sqlite3.connect('MSC.db')\n",
    "cursor = connection.cursor()\n",
    "df_distinct.to_sql('prices', connection, index = False)\n",
    "connection.commit()\n",
    "connection.close()"
   ]
  },
  {
   "cell_type": "code",
   "execution_count": null,
   "metadata": {
    "ExecuteTime": {
     "end_time": "2021-05-23T11:34:05.074898Z",
     "start_time": "2021-05-23T11:34:01.282296Z"
    }
   },
   "outputs": [],
   "source": [
    "## ADD NEW COMERS\n",
    "\n",
    "import pandas as pd\n",
    "import requests\n",
    "from datetime import datetime\n",
    "import datetime\n",
    "import sqlite3\n",
    "import praw\n",
    "from bs4 import BeautifulSoup\n",
    "import re\n",
    "import locale\n",
    "locale.setlocale(locale.LC_ALL, 'en_US.UTF-8')\n",
    "\n",
    "\n",
    "columnnames = \"'date', 'open', 'high', 'low', 'close', 'adj_close','volume', 'symbol'\"\n",
    "insertintotable = '?,?,?,?,?,?,?,?'\n",
    "i = 'BRK-B'\n",
    "\n",
    "r = requests.get(f'https://finance.yahoo.com/quote/{i}/history?p={i}')\n",
    "data = r.text\n",
    "soup = BeautifulSoup(data, features=\"lxml\")\n",
    "\n",
    "for j in range (0, len(soup.find_all('td'))):\n",
    "    try:\n",
    "        if (type(pd.to_datetime(soup.find_all('td')[j].text,infer_datetime_format=True)) == pd._libs.tslibs.timestamps.Timestamp) == True and isinstance(locale.atof(soup.find_all('td')[j+1].text), (int, float, complex)) == True:\n",
    "            answer = []\n",
    "            answer.append(str(pd.to_datetime(soup.find_all('td')[j].text,infer_datetime_format=True)))\n",
    "            answer = answer + [i.span.text for i in soup.find_all('td')[j+1: j+7]] + [i]\n",
    "            print(answer)\n",
    "            connection = sqlite3.connect('MSC.db')\n",
    "            cursor = connection.cursor()\n",
    "            sql2 = f'cursor.execute(\"insert INTO  prices ({columnnames}) VALUES ({insertintotable})\", {answer})'\n",
    "            eval(sql2)\n",
    "            connection.commit()\n",
    "            connection.close()\n",
    "        else: pass\n",
    "    except:pass            \n"
   ]
  },
  {
   "cell_type": "code",
   "execution_count": 46,
   "metadata": {
    "ExecuteTime": {
     "end_time": "2021-05-30T09:43:37.392012Z",
     "start_time": "2021-05-30T09:43:37.353083Z"
    }
   },
   "outputs": [
    {
     "data": {
      "text/html": [
       "<div>\n",
       "<style scoped>\n",
       "    .dataframe tbody tr th:only-of-type {\n",
       "        vertical-align: middle;\n",
       "    }\n",
       "\n",
       "    .dataframe tbody tr th {\n",
       "        vertical-align: top;\n",
       "    }\n",
       "\n",
       "    .dataframe thead th {\n",
       "        text-align: right;\n",
       "    }\n",
       "</style>\n",
       "<table border=\"1\" class=\"dataframe\">\n",
       "  <thead>\n",
       "    <tr style=\"text-align: right;\">\n",
       "      <th></th>\n",
       "      <th>date</th>\n",
       "      <th>open</th>\n",
       "      <th>high</th>\n",
       "      <th>low</th>\n",
       "      <th>close</th>\n",
       "      <th>adj_close</th>\n",
       "      <th>volume</th>\n",
       "      <th>symbol</th>\n",
       "    </tr>\n",
       "  </thead>\n",
       "  <tbody>\n",
       "    <tr>\n",
       "      <th>0</th>\n",
       "      <td>2021-05-25 00:00:00</td>\n",
       "      <td>18.35</td>\n",
       "      <td>18.97</td>\n",
       "      <td>16.87</td>\n",
       "      <td>18.87</td>\n",
       "      <td>18.87</td>\n",
       "      <td>0</td>\n",
       "      <td>^VIX</td>\n",
       "    </tr>\n",
       "    <tr>\n",
       "      <th>1</th>\n",
       "      <td>2021-05-24 00:00:00</td>\n",
       "      <td>20.50</td>\n",
       "      <td>20.51</td>\n",
       "      <td>18.38</td>\n",
       "      <td>18.40</td>\n",
       "      <td>18.40</td>\n",
       "      <td>0</td>\n",
       "      <td>^VIX</td>\n",
       "    </tr>\n",
       "    <tr>\n",
       "      <th>2</th>\n",
       "      <td>2021-05-21 00:00:00</td>\n",
       "      <td>20.42</td>\n",
       "      <td>20.89</td>\n",
       "      <td>19.53</td>\n",
       "      <td>20.15</td>\n",
       "      <td>20.15</td>\n",
       "      <td>0</td>\n",
       "      <td>^VIX</td>\n",
       "    </tr>\n",
       "    <tr>\n",
       "      <th>3</th>\n",
       "      <td>2021-05-20 00:00:00</td>\n",
       "      <td>22.33</td>\n",
       "      <td>23.50</td>\n",
       "      <td>20.19</td>\n",
       "      <td>20.67</td>\n",
       "      <td>20.67</td>\n",
       "      <td>0</td>\n",
       "      <td>^VIX</td>\n",
       "    </tr>\n",
       "    <tr>\n",
       "      <th>4</th>\n",
       "      <td>2021-05-19 00:00:00</td>\n",
       "      <td>22.46</td>\n",
       "      <td>25.96</td>\n",
       "      <td>21.88</td>\n",
       "      <td>22.18</td>\n",
       "      <td>22.18</td>\n",
       "      <td>0</td>\n",
       "      <td>^VIX</td>\n",
       "    </tr>\n",
       "    <tr>\n",
       "      <th>...</th>\n",
       "      <td>...</td>\n",
       "      <td>...</td>\n",
       "      <td>...</td>\n",
       "      <td>...</td>\n",
       "      <td>...</td>\n",
       "      <td>...</td>\n",
       "      <td>...</td>\n",
       "      <td>...</td>\n",
       "    </tr>\n",
       "    <tr>\n",
       "      <th>97</th>\n",
       "      <td>2021-01-05 00:00:00</td>\n",
       "      <td>26.94</td>\n",
       "      <td>28.60</td>\n",
       "      <td>24.80</td>\n",
       "      <td>25.34</td>\n",
       "      <td>25.34</td>\n",
       "      <td>0</td>\n",
       "      <td>^VIX</td>\n",
       "    </tr>\n",
       "    <tr>\n",
       "      <th>98</th>\n",
       "      <td>2021-01-04 00:00:00</td>\n",
       "      <td>23.04</td>\n",
       "      <td>29.19</td>\n",
       "      <td>22.56</td>\n",
       "      <td>26.97</td>\n",
       "      <td>26.97</td>\n",
       "      <td>0</td>\n",
       "      <td>^VIX</td>\n",
       "    </tr>\n",
       "    <tr>\n",
       "      <th>99</th>\n",
       "      <td>2020-12-31 00:00:00</td>\n",
       "      <td>22.99</td>\n",
       "      <td>23.25</td>\n",
       "      <td>21.24</td>\n",
       "      <td>22.75</td>\n",
       "      <td>22.75</td>\n",
       "      <td>0</td>\n",
       "      <td>^VIX</td>\n",
       "    </tr>\n",
       "    <tr>\n",
       "      <th>100</th>\n",
       "      <td>2020-12-30 00:00:00</td>\n",
       "      <td>22.58</td>\n",
       "      <td>23.15</td>\n",
       "      <td>22.41</td>\n",
       "      <td>22.77</td>\n",
       "      <td>22.77</td>\n",
       "      <td>0</td>\n",
       "      <td>^VIX</td>\n",
       "    </tr>\n",
       "    <tr>\n",
       "      <th>101</th>\n",
       "      <td>2020-12-29 00:00:00</td>\n",
       "      <td>21.61</td>\n",
       "      <td>23.72</td>\n",
       "      <td>20.99</td>\n",
       "      <td>23.08</td>\n",
       "      <td>23.08</td>\n",
       "      <td>0</td>\n",
       "      <td>^VIX</td>\n",
       "    </tr>\n",
       "  </tbody>\n",
       "</table>\n",
       "<p>102 rows × 8 columns</p>\n",
       "</div>"
      ],
      "text/plain": [
       "                    date   open   high    low  close adj_close volume symbol\n",
       "0    2021-05-25 00:00:00  18.35  18.97  16.87  18.87     18.87      0   ^VIX\n",
       "1    2021-05-24 00:00:00  20.50  20.51  18.38  18.40     18.40      0   ^VIX\n",
       "2    2021-05-21 00:00:00  20.42  20.89  19.53  20.15     20.15      0   ^VIX\n",
       "3    2021-05-20 00:00:00  22.33  23.50  20.19  20.67     20.67      0   ^VIX\n",
       "4    2021-05-19 00:00:00  22.46  25.96  21.88  22.18     22.18      0   ^VIX\n",
       "..                   ...    ...    ...    ...    ...       ...    ...    ...\n",
       "97   2021-01-05 00:00:00  26.94  28.60  24.80  25.34     25.34      0   ^VIX\n",
       "98   2021-01-04 00:00:00  23.04  29.19  22.56  26.97     26.97      0   ^VIX\n",
       "99   2020-12-31 00:00:00  22.99  23.25  21.24  22.75     22.75      0   ^VIX\n",
       "100  2020-12-30 00:00:00  22.58  23.15  22.41  22.77     22.77      0   ^VIX\n",
       "101  2020-12-29 00:00:00  21.61  23.72  20.99  23.08     23.08      0   ^VIX\n",
       "\n",
       "[102 rows x 8 columns]"
      ]
     },
     "execution_count": 46,
     "metadata": {},
     "output_type": "execute_result"
    }
   ],
   "source": [
    "connection = sqlite3.connect('MSC.db')\n",
    "cursor = connection.cursor()\n",
    "sql = (\"Select * from prices where symbol = '^VIX' order by date desc\")\n",
    "z = pd.read_sql_query(sql,connection)\n",
    "z"
   ]
  },
  {
   "cell_type": "code",
   "execution_count": 47,
   "metadata": {
    "ExecuteTime": {
     "end_time": "2021-05-30T09:43:51.632118Z",
     "start_time": "2021-05-30T09:43:49.017135Z"
    }
   },
   "outputs": [
    {
     "name": "stdout",
     "output_type": "stream",
     "text": [
      "['2021-05-28 00:00:00', '16.80', '16.86', '15.90', '16.76', '16.76', '0', '^VIX']\n",
      "['2021-05-27 00:00:00', '18.03', '18.17', '16.52', '16.74', '16.74', '0', '^VIX']\n",
      "['2021-05-26 00:00:00', '18.37', '18.92', '17.35', '17.36', '17.36', '0', '^VIX']\n"
     ]
    }
   ],
   "source": [
    "## ^VIX\n",
    "\n",
    "import pandas as pd\n",
    "import requests\n",
    "from datetime import datetime\n",
    "import datetime\n",
    "import sqlite3\n",
    "import praw\n",
    "from bs4 import BeautifulSoup\n",
    "import re\n",
    "import locale\n",
    "locale.setlocale(locale.LC_ALL, 'en_US.UTF-8')\n",
    "\n",
    "\n",
    "columnnames = \"'date', 'open', 'high', 'low', 'close', 'adj_close','volume', 'symbol'\"\n",
    "insertintotable = '?,?,?,?,?,?,?,?'\n",
    "i = '^VIX'\n",
    "\n",
    "r = requests.get(f'https://finance.yahoo.com/quote/{i}/history?p={i}')\n",
    "data = r.text\n",
    "soup = BeautifulSoup(data, features=\"lxml\")\n",
    "\n",
    "for j in range (0, len(soup.find_all('td'))):\n",
    "    try:\n",
    "        if (type(pd.to_datetime(soup.find_all('td')[j].text,infer_datetime_format=True)) == pd._libs.tslibs.timestamps.Timestamp) == True and isinstance(locale.atof(soup.find_all('td')[j+1].text), (int, float, complex)) == True and pd.to_datetime(soup.find_all('td')[j].text,infer_datetime_format=True) > pd.to_datetime(z.date[z.symbol == i].iloc[0]):\n",
    "            answer = []\n",
    "            answer.append(str(pd.to_datetime(soup.find_all('td')[j].text,infer_datetime_format=True)))\n",
    "            answer = answer + [i.span.text for i in soup.find_all('td')[j+1: j+6]]+['0'] + [i]\n",
    "            print(answer)\n",
    "            connection = sqlite3.connect('MSC.db')\n",
    "            cursor = connection.cursor()\n",
    "            sql2 = f'cursor.execute(\"insert INTO  prices ({columnnames}) VALUES ({insertintotable})\", {answer})'\n",
    "            eval(sql2)\n",
    "            connection.commit()\n",
    "            connection.close()\n",
    "        else: pass\n",
    "    except:pass            \n"
   ]
  },
  {
   "cell_type": "markdown",
   "metadata": {
    "ExecuteTime": {
     "end_time": "2021-05-18T11:48:09.680826Z",
     "start_time": "2021-05-18T11:48:09.400257Z"
    },
    "heading_collapsed": true
   },
   "source": [
    "## Drop table\n",
    "\n",
    "#https://www.sqlite.org/datatype3.html\n",
    "cursor.executescript(\"DROP TABLE IF EXISTS prices\")"
   ]
  },
  {
   "cell_type": "code",
   "execution_count": null,
   "metadata": {
    "ExecuteTime": {
     "end_time": "2021-04-26T10:47:57.491705Z",
     "start_time": "2021-04-26T10:47:57.221413Z"
    },
    "hidden": true
   },
   "outputs": [],
   "source": [
    "connection = sqlite3.connect(\"MSC.db\")\n",
    "cursor = connection.cursor()\n",
    "\n",
    "sql = ('Select date(moment) as date, * from ER20202021')\n",
    "z =pd.read_sql_query(sql,connection)\n",
    "z.shape"
   ]
  },
  {
   "cell_type": "markdown",
   "metadata": {
    "ExecuteTime": {
     "end_time": "2021-03-09T11:28:45.077103Z",
     "start_time": "2021-03-09T11:28:44.775421Z"
    }
   },
   "source": [
    "## Alter\n",
    "\n",
    "connection = sqlite3.connect(\"MSC.db\")\n",
    "cursor = connection.cursor()\n",
    "\n",
    "sql = ('ALTER TABLE top30 RENAME COLUMN date TO Date')\n",
    "pd.read_sql_query(sql,connection)\n"
   ]
  },
  {
   "cell_type": "code",
   "execution_count": null,
   "metadata": {
    "ExecuteTime": {
     "end_time": "2021-05-23T11:25:53.836886Z",
     "start_time": "2021-05-23T11:25:53.791772Z"
    }
   },
   "outputs": [],
   "source": [
    "## Add new rows\n",
    "\n",
    "columnnames = \"'Company', 'Symbol', 'Weight'\"\n",
    "insertintotable = '?,?,?'\n",
    "answer = ['CBOE Volatility Index','^VIX', '0']\n",
    "\n",
    "connection = sqlite3.connect('MSC.db')\n",
    "cursor = connection.cursor()\n",
    "sql2 = f'cursor.execute(\"insert INTO  SP500_companies ({columnnames}) VALUES ({insertintotable})\", {answer})'\n",
    "eval(sql2)\n",
    "connection.commit()\n",
    "connection.close()"
   ]
  },
  {
   "cell_type": "code",
   "execution_count": null,
   "metadata": {
    "ExecuteTime": {
     "end_time": "2021-03-10T15:20:15.721667Z",
     "start_time": "2021-03-10T15:20:15.612893Z"
    }
   },
   "outputs": [],
   "source": [
    "#Transfer to main folder\n",
    "import shutil\n",
    "newPath = shutil.copy('MSC.db', '/Users/Edite')"
   ]
  },
  {
   "cell_type": "code",
   "execution_count": 35,
   "metadata": {
    "ExecuteTime": {
     "end_time": "2021-05-24T11:28:18.631715Z",
     "start_time": "2021-05-24T11:28:18.539130Z"
    }
   },
   "outputs": [
    {
     "data": {
      "text/plain": [
       "<sqlite3.Cursor at 0x7ff7bc7523b0>"
      ]
     },
     "execution_count": 35,
     "metadata": {},
     "output_type": "execute_result"
    }
   ],
   "source": [
    "#Create strings for SQL injection\n",
    "createtable, columnnames, insertintotable = \"\", \"\", \"\"\n",
    "\n",
    "kolonas = ['date',\"symbol\",'neg', 'neu', 'pos', 'compound', \"comment\"]\n",
    "z = len(kolonas)\n",
    "for k in kolonas:\n",
    "    if z > 1:\n",
    "        createtable+= str(k + \" TEXT,\")\n",
    "        columnnames += str(f\"'{k}', \")\n",
    "        insertintotable += str(\"?,\")        \n",
    "    else:\n",
    "        createtable+= str(k + \" TEXT\")\n",
    "        columnnames += str(k)\n",
    "        insertintotable += str(\"?\")\n",
    "    z+= -1\n",
    "    \n",
    "#Drop and create the todays table\n",
    "connection = sqlite3.connect('MSC.db')\n",
    "cursor = connection.cursor()\n",
    "a = f\"cursor.executescript('DROP TABLE IF EXISTS wb_sentiment')\"\n",
    "b = f\"cursor.execute('CREATE TABLE wb_sentiment ({createtable} )')\"\n",
    "eval(a)\n",
    "eval(b)"
   ]
  },
  {
   "cell_type": "code",
   "execution_count": 16,
   "metadata": {
    "ExecuteTime": {
     "end_time": "2021-06-05T13:14:01.303101Z",
     "start_time": "2021-06-05T13:13:59.726765Z"
    }
   },
   "outputs": [
    {
     "data": {
      "text/html": [
       "<div>\n",
       "<style scoped>\n",
       "    .dataframe tbody tr th:only-of-type {\n",
       "        vertical-align: middle;\n",
       "    }\n",
       "\n",
       "    .dataframe tbody tr th {\n",
       "        vertical-align: top;\n",
       "    }\n",
       "\n",
       "    .dataframe thead th {\n",
       "        text-align: right;\n",
       "    }\n",
       "</style>\n",
       "<table border=\"1\" class=\"dataframe\">\n",
       "  <thead>\n",
       "    <tr style=\"text-align: right;\">\n",
       "      <th></th>\n",
       "      <th>date</th>\n",
       "      <th>thread</th>\n",
       "      <th>upvote_ratio</th>\n",
       "      <th>likes</th>\n",
       "      <th>comment</th>\n",
       "    </tr>\n",
       "  </thead>\n",
       "  <tbody>\n",
       "    <tr>\n",
       "      <th>0</th>\n",
       "      <td>2021-06-05</td>\n",
       "      <td>Weekend Discussion Thread for the Weekend of J...</td>\n",
       "      <td>0.92</td>\n",
       "      <td>5</td>\n",
       "      <td>my bro lost $75k on BB calls today and i’m so ...</td>\n",
       "    </tr>\n",
       "    <tr>\n",
       "      <th>1</th>\n",
       "      <td>2021-06-05</td>\n",
       "      <td>Weekend Discussion Thread for the Weekend of J...</td>\n",
       "      <td>0.92</td>\n",
       "      <td>3</td>\n",
       "      <td>Puts on my hangover. Stupid alcohol processing...</td>\n",
       "    </tr>\n",
       "    <tr>\n",
       "      <th>2</th>\n",
       "      <td>2021-06-05</td>\n",
       "      <td>Weekend Discussion Thread for the Weekend of J...</td>\n",
       "      <td>0.92</td>\n",
       "      <td>3</td>\n",
       "      <td>Tesla bears r so fuk. So many chances to take ...</td>\n",
       "    </tr>\n",
       "    <tr>\n",
       "      <th>3</th>\n",
       "      <td>2021-06-05</td>\n",
       "      <td>Weekend Discussion Thread for the Weekend of J...</td>\n",
       "      <td>0.92</td>\n",
       "      <td>5</td>\n",
       "      <td>Fuck you HFs! I know you're reading this. Sukm...</td>\n",
       "    </tr>\n",
       "    <tr>\n",
       "      <th>4</th>\n",
       "      <td>2021-06-05</td>\n",
       "      <td>Weekend Discussion Thread for the Weekend of J...</td>\n",
       "      <td>0.92</td>\n",
       "      <td>4</td>\n",
       "      <td>AMC naked shorts trending #6 on twitter after ...</td>\n",
       "    </tr>\n",
       "    <tr>\n",
       "      <th>...</th>\n",
       "      <td>...</td>\n",
       "      <td>...</td>\n",
       "      <td>...</td>\n",
       "      <td>...</td>\n",
       "      <td>...</td>\n",
       "    </tr>\n",
       "    <tr>\n",
       "      <th>147209</th>\n",
       "      <td>2021-05-24</td>\n",
       "      <td>Weekend Discussion Thread for the Weekend of M...</td>\n",
       "      <td>0.84</td>\n",
       "      <td>5</td>\n",
       "      <td>Damn watch tmmrw test flight get cancelled</td>\n",
       "    </tr>\n",
       "    <tr>\n",
       "      <th>147210</th>\n",
       "      <td>2021-05-24</td>\n",
       "      <td>Weekend Discussion Thread for the Weekend of M...</td>\n",
       "      <td>0.84</td>\n",
       "      <td>4</td>\n",
       "      <td>BEARS R FUK</td>\n",
       "    </tr>\n",
       "    <tr>\n",
       "      <th>147211</th>\n",
       "      <td>2021-05-24</td>\n",
       "      <td>Weekend Discussion Thread for the Weekend of M...</td>\n",
       "      <td>0.84</td>\n",
       "      <td>7</td>\n",
       "      <td>Sometimes I sell my red positions and buy back...</td>\n",
       "    </tr>\n",
       "    <tr>\n",
       "      <th>147212</th>\n",
       "      <td>2021-05-24</td>\n",
       "      <td>Weekend Discussion Thread for the Weekend of M...</td>\n",
       "      <td>0.84</td>\n",
       "      <td>6</td>\n",
       "      <td>eat a dick</td>\n",
       "    </tr>\n",
       "    <tr>\n",
       "      <th>147213</th>\n",
       "      <td>2021-05-24</td>\n",
       "      <td>Weekend Discussion Thread for the Weekend of M...</td>\n",
       "      <td>0.84</td>\n",
       "      <td>23</td>\n",
       "      <td>I have no idea what I'm doing</td>\n",
       "    </tr>\n",
       "  </tbody>\n",
       "</table>\n",
       "<p>147214 rows × 5 columns</p>\n",
       "</div>"
      ],
      "text/plain": [
       "              date                                             thread  \\\n",
       "0       2021-06-05  Weekend Discussion Thread for the Weekend of J...   \n",
       "1       2021-06-05  Weekend Discussion Thread for the Weekend of J...   \n",
       "2       2021-06-05  Weekend Discussion Thread for the Weekend of J...   \n",
       "3       2021-06-05  Weekend Discussion Thread for the Weekend of J...   \n",
       "4       2021-06-05  Weekend Discussion Thread for the Weekend of J...   \n",
       "...            ...                                                ...   \n",
       "147209  2021-05-24  Weekend Discussion Thread for the Weekend of M...   \n",
       "147210  2021-05-24  Weekend Discussion Thread for the Weekend of M...   \n",
       "147211  2021-05-24  Weekend Discussion Thread for the Weekend of M...   \n",
       "147212  2021-05-24  Weekend Discussion Thread for the Weekend of M...   \n",
       "147213  2021-05-24  Weekend Discussion Thread for the Weekend of M...   \n",
       "\n",
       "       upvote_ratio likes                                            comment  \n",
       "0              0.92     5  my bro lost $75k on BB calls today and i’m so ...  \n",
       "1              0.92     3  Puts on my hangover. Stupid alcohol processing...  \n",
       "2              0.92     3  Tesla bears r so fuk. So many chances to take ...  \n",
       "3              0.92     5  Fuck you HFs! I know you're reading this. Sukm...  \n",
       "4              0.92     4  AMC naked shorts trending #6 on twitter after ...  \n",
       "...             ...   ...                                                ...  \n",
       "147209         0.84     5         Damn watch tmmrw test flight get cancelled  \n",
       "147210         0.84     4                                        BEARS R FUK  \n",
       "147211         0.84     7  Sometimes I sell my red positions and buy back...  \n",
       "147212         0.84     6                                         eat a dick  \n",
       "147213         0.84    23                      I have no idea what I'm doing  \n",
       "\n",
       "[147214 rows x 5 columns]"
      ]
     },
     "execution_count": 16,
     "metadata": {},
     "output_type": "execute_result"
    }
   ],
   "source": [
    "connection = sqlite3.connect('MSC.db')\n",
    "cursor = connection.cursor()\n",
    "sql = (\"Select distinct * from wb_comments order by date desc\")\n",
    "df = pd.read_sql_query(sql,connection)\n",
    "df"
   ]
  },
  {
   "cell_type": "code",
   "execution_count": 82,
   "metadata": {
    "ExecuteTime": {
     "end_time": "2021-05-30T10:07:09.377846Z",
     "start_time": "2021-05-30T10:07:09.352247Z"
    }
   },
   "outputs": [
    {
     "data": {
      "text/plain": [
       "2021-05-30    27276\n",
       "2021-05-26    18546\n",
       "2021-05-27    17800\n",
       "2021-05-25    13670\n",
       "2021-05-24     9330\n",
       "Name: date, dtype: int64"
      ]
     },
     "execution_count": 82,
     "metadata": {},
     "output_type": "execute_result"
    }
   ],
   "source": [
    "df.date.value_counts()"
   ]
  },
  {
   "cell_type": "markdown",
   "metadata": {
    "ExecuteTime": {
     "end_time": "2021-05-24T16:12:53.992757Z",
     "start_time": "2021-05-24T16:12:53.973008Z"
    }
   },
   "source": [
    "connection = sqlite3.connect('MSC.db') \n",
    "cursor = connection.cursor() \n",
    "sql = (\"delete from main where date == '2021-05-19'\") \n",
    "cursor.execute(sql) \n",
    "connection.commit()"
   ]
  },
  {
   "cell_type": "code",
   "execution_count": 125,
   "metadata": {
    "ExecuteTime": {
     "end_time": "2021-05-24T16:34:52.399399Z",
     "start_time": "2021-05-24T16:34:51.516102Z"
    }
   },
   "outputs": [
    {
     "data": {
      "text/html": [
       "<div>\n",
       "<style scoped>\n",
       "    .dataframe tbody tr th:only-of-type {\n",
       "        vertical-align: middle;\n",
       "    }\n",
       "\n",
       "    .dataframe tbody tr th {\n",
       "        vertical-align: top;\n",
       "    }\n",
       "\n",
       "    .dataframe thead th {\n",
       "        text-align: right;\n",
       "    }\n",
       "</style>\n",
       "<table border=\"1\" class=\"dataframe\">\n",
       "  <thead>\n",
       "    <tr style=\"text-align: right;\">\n",
       "      <th></th>\n",
       "      <th>date</th>\n",
       "      <th>top1</th>\n",
       "      <th>top2</th>\n",
       "      <th>top3</th>\n",
       "      <th>top4</th>\n",
       "      <th>top5</th>\n",
       "      <th>top6</th>\n",
       "      <th>top7</th>\n",
       "      <th>top8</th>\n",
       "      <th>top9</th>\n",
       "      <th>...</th>\n",
       "      <th>top21</th>\n",
       "      <th>top22</th>\n",
       "      <th>top23</th>\n",
       "      <th>top24</th>\n",
       "      <th>top25</th>\n",
       "      <th>top26</th>\n",
       "      <th>top27</th>\n",
       "      <th>top28</th>\n",
       "      <th>top29</th>\n",
       "      <th>top30</th>\n",
       "    </tr>\n",
       "  </thead>\n",
       "  <tbody>\n",
       "    <tr>\n",
       "      <th>count</th>\n",
       "      <td>143</td>\n",
       "      <td>143</td>\n",
       "      <td>143</td>\n",
       "      <td>143</td>\n",
       "      <td>143</td>\n",
       "      <td>143</td>\n",
       "      <td>143</td>\n",
       "      <td>143</td>\n",
       "      <td>143</td>\n",
       "      <td>143</td>\n",
       "      <td>...</td>\n",
       "      <td>143</td>\n",
       "      <td>143</td>\n",
       "      <td>143</td>\n",
       "      <td>143</td>\n",
       "      <td>143</td>\n",
       "      <td>143</td>\n",
       "      <td>143</td>\n",
       "      <td>143</td>\n",
       "      <td>143</td>\n",
       "      <td>143</td>\n",
       "    </tr>\n",
       "    <tr>\n",
       "      <th>unique</th>\n",
       "      <td>143</td>\n",
       "      <td>117</td>\n",
       "      <td>118</td>\n",
       "      <td>118</td>\n",
       "      <td>118</td>\n",
       "      <td>118</td>\n",
       "      <td>118</td>\n",
       "      <td>118</td>\n",
       "      <td>118</td>\n",
       "      <td>118</td>\n",
       "      <td>...</td>\n",
       "      <td>118</td>\n",
       "      <td>118</td>\n",
       "      <td>118</td>\n",
       "      <td>118</td>\n",
       "      <td>118</td>\n",
       "      <td>118</td>\n",
       "      <td>118</td>\n",
       "      <td>118</td>\n",
       "      <td>118</td>\n",
       "      <td>118</td>\n",
       "    </tr>\n",
       "    <tr>\n",
       "      <th>top</th>\n",
       "      <td>2021-01-13</td>\n",
       "      <td>'Price gouging from Covid': student ebooks cos...</td>\n",
       "      <td>‘The perfect target’: Russia cultivated Trump ...</td>\n",
       "      <td>Two gay men plead for mercy as they are caned ...</td>\n",
       "      <td>Revealed: Massive Chinese Police Database - Mi...</td>\n",
       "      <td>NYC protesters slam Robinhood, scream at Wall ...</td>\n",
       "      <td>The GameStop phenomenon has gone global - The ...</td>\n",
       "      <td>Two lesbians attacked while counter-protesting...</td>\n",
       "      <td>Royal Documentary Banned By The Queen 50 Years...</td>\n",
       "      <td>Shock and anger at EU's move to invoke Brexit ...</td>\n",
       "      <td>...</td>\n",
       "      <td>French far-right leader Marine Le Pen Friday p...</td>\n",
       "      <td>Top German court rules war crimes committed ab...</td>\n",
       "      <td>Canada considering drug decriminalization to f...</td>\n",
       "      <td>Northern Ireland First Minister, Arlene Foster...</td>\n",
       "      <td>Brexit: EU introduces controls on vaccines to NI</td>\n",
       "      <td>Catholic school sex education resource says me...</td>\n",
       "      <td>Taliban Says US ‘Bombarding Civilians, Houses’...</td>\n",
       "      <td>Backlash against Robinhood after GameStop trad...</td>\n",
       "      <td>6.3M travellers entered Canada and didn’t have...</td>\n",
       "      <td>Russia has been cultivating Trump as an asset ...</td>\n",
       "    </tr>\n",
       "    <tr>\n",
       "      <th>freq</th>\n",
       "      <td>1</td>\n",
       "      <td>19</td>\n",
       "      <td>19</td>\n",
       "      <td>19</td>\n",
       "      <td>19</td>\n",
       "      <td>19</td>\n",
       "      <td>19</td>\n",
       "      <td>19</td>\n",
       "      <td>19</td>\n",
       "      <td>19</td>\n",
       "      <td>...</td>\n",
       "      <td>19</td>\n",
       "      <td>19</td>\n",
       "      <td>19</td>\n",
       "      <td>19</td>\n",
       "      <td>19</td>\n",
       "      <td>19</td>\n",
       "      <td>19</td>\n",
       "      <td>19</td>\n",
       "      <td>19</td>\n",
       "      <td>19</td>\n",
       "    </tr>\n",
       "  </tbody>\n",
       "</table>\n",
       "<p>4 rows × 31 columns</p>\n",
       "</div>"
      ],
      "text/plain": [
       "              date                                               top1  \\\n",
       "count          143                                                143   \n",
       "unique         143                                                117   \n",
       "top     2021-01-13  'Price gouging from Covid': student ebooks cos...   \n",
       "freq             1                                                 19   \n",
       "\n",
       "                                                     top2  \\\n",
       "count                                                 143   \n",
       "unique                                                118   \n",
       "top     ‘The perfect target’: Russia cultivated Trump ...   \n",
       "freq                                                   19   \n",
       "\n",
       "                                                     top3  \\\n",
       "count                                                 143   \n",
       "unique                                                118   \n",
       "top     Two gay men plead for mercy as they are caned ...   \n",
       "freq                                                   19   \n",
       "\n",
       "                                                     top4  \\\n",
       "count                                                 143   \n",
       "unique                                                118   \n",
       "top     Revealed: Massive Chinese Police Database - Mi...   \n",
       "freq                                                   19   \n",
       "\n",
       "                                                     top5  \\\n",
       "count                                                 143   \n",
       "unique                                                118   \n",
       "top     NYC protesters slam Robinhood, scream at Wall ...   \n",
       "freq                                                   19   \n",
       "\n",
       "                                                     top6  \\\n",
       "count                                                 143   \n",
       "unique                                                118   \n",
       "top     The GameStop phenomenon has gone global - The ...   \n",
       "freq                                                   19   \n",
       "\n",
       "                                                     top7  \\\n",
       "count                                                 143   \n",
       "unique                                                118   \n",
       "top     Two lesbians attacked while counter-protesting...   \n",
       "freq                                                   19   \n",
       "\n",
       "                                                     top8  \\\n",
       "count                                                 143   \n",
       "unique                                                118   \n",
       "top     Royal Documentary Banned By The Queen 50 Years...   \n",
       "freq                                                   19   \n",
       "\n",
       "                                                     top9  ...  \\\n",
       "count                                                 143  ...   \n",
       "unique                                                118  ...   \n",
       "top     Shock and anger at EU's move to invoke Brexit ...  ...   \n",
       "freq                                                   19  ...   \n",
       "\n",
       "                                                    top21  \\\n",
       "count                                                 143   \n",
       "unique                                                118   \n",
       "top     French far-right leader Marine Le Pen Friday p...   \n",
       "freq                                                   19   \n",
       "\n",
       "                                                    top22  \\\n",
       "count                                                 143   \n",
       "unique                                                118   \n",
       "top     Top German court rules war crimes committed ab...   \n",
       "freq                                                   19   \n",
       "\n",
       "                                                    top23  \\\n",
       "count                                                 143   \n",
       "unique                                                118   \n",
       "top     Canada considering drug decriminalization to f...   \n",
       "freq                                                   19   \n",
       "\n",
       "                                                    top24  \\\n",
       "count                                                 143   \n",
       "unique                                                118   \n",
       "top     Northern Ireland First Minister, Arlene Foster...   \n",
       "freq                                                   19   \n",
       "\n",
       "                                                   top25  \\\n",
       "count                                                143   \n",
       "unique                                               118   \n",
       "top     Brexit: EU introduces controls on vaccines to NI   \n",
       "freq                                                  19   \n",
       "\n",
       "                                                    top26  \\\n",
       "count                                                 143   \n",
       "unique                                                118   \n",
       "top     Catholic school sex education resource says me...   \n",
       "freq                                                   19   \n",
       "\n",
       "                                                    top27  \\\n",
       "count                                                 143   \n",
       "unique                                                118   \n",
       "top     Taliban Says US ‘Bombarding Civilians, Houses’...   \n",
       "freq                                                   19   \n",
       "\n",
       "                                                    top28  \\\n",
       "count                                                 143   \n",
       "unique                                                118   \n",
       "top     Backlash against Robinhood after GameStop trad...   \n",
       "freq                                                   19   \n",
       "\n",
       "                                                    top29  \\\n",
       "count                                                 143   \n",
       "unique                                                118   \n",
       "top     6.3M travellers entered Canada and didn’t have...   \n",
       "freq                                                   19   \n",
       "\n",
       "                                                    top30  \n",
       "count                                                 143  \n",
       "unique                                                118  \n",
       "top     Russia has been cultivating Trump as an asset ...  \n",
       "freq                                                   19  \n",
       "\n",
       "[4 rows x 31 columns]"
      ]
     },
     "execution_count": 125,
     "metadata": {},
     "output_type": "execute_result"
    }
   ],
   "source": [
    "df.describe()"
   ]
  },
  {
   "cell_type": "code",
   "execution_count": 126,
   "metadata": {
    "ExecuteTime": {
     "end_time": "2021-05-24T16:36:55.125111Z",
     "start_time": "2021-05-24T16:36:55.112226Z"
    }
   },
   "outputs": [
    {
     "data": {
      "text/plain": [
       "NYC protesters slam Robinhood, scream at Wall Street traders amid GameStop stock chaos                                                                                                                                                                                                                          19\n",
       "Indian government opposes same-sex marriage in High Court, says same-sex marriage not comparable with ‘Indian family unit concept’                                                                                                                                                                               4\n",
       "SolarWinds hack was 'largest and most sophisticated attack' ever: Microsoft president                                                                                                                                                                                                                            4\n",
       "12 Japanese firms will end business deals involving Uighur forced labor                                                                                                                                                                                                                                          2\n",
       "Saskatchewan First Nation erects blockade after company enters territory without consent | Birch Narrows Dene Nation blockaded a road & issued a cease-and-desist order against a Toronto company after workers with Baselode Energy Corp started surveying the band's traditional territory without consent     1\n",
       "                                                                                                                                                                                                                                                                                                                ..\n",
       "Uyghur Australian woman breaks her silence as her husband is sentenced to 25 years in a Chinese jail in Xinjiang                                                                                                                                                                                                 1\n",
       "First strike of Amazon workers in Italy -Consumers asked not to buy from online retailer all day                                                                                                                                                                                                                 1\n",
       "Nepal becomes first country in Asia Pacific to vaccinate refugees against COVID-19                                                                                                                                                                                                                               1\n",
       "Trump campaign chief Manafort’s associate Kilimnik gave Russia 2016 election strategy, polling, U.S. says                                                                                                                                                                                                        1\n",
       "Twin suicide bombings rock central Baghdad, at least 28 dead                                                                                                                                                                                                                                                     1\n",
       "Name: top5, Length: 118, dtype: int64"
      ]
     },
     "execution_count": 126,
     "metadata": {},
     "output_type": "execute_result"
    }
   ],
   "source": [
    "df.top5.value_counts()"
   ]
  },
  {
   "cell_type": "code",
   "execution_count": 17,
   "metadata": {
    "ExecuteTime": {
     "end_time": "2021-06-05T13:14:50.757047Z",
     "start_time": "2021-06-05T13:14:49.523386Z"
    }
   },
   "outputs": [
    {
     "name": "stdout",
     "output_type": "stream",
     "text": [
      "(192129, 5)\n"
     ]
    },
    {
     "data": {
      "text/plain": [
       "2021-05-30    27276\n",
       "2021-06-03    24008\n",
       "2021-06-04    21784\n",
       "2021-05-26    18546\n",
       "2021-05-27    17800\n",
       "2021-05-29    16661\n",
       "2021-05-31    14977\n",
       "2021-05-25    13670\n",
       "2021-06-05    13473\n",
       "2021-06-02    12162\n",
       "2021-05-24     9330\n",
       "2021-06-01     2442\n",
       "Name: date, dtype: int64"
      ]
     },
     "execution_count": 17,
     "metadata": {},
     "output_type": "execute_result"
    }
   ],
   "source": [
    "connection = sqlite3.connect('MSC.db')\n",
    "cursor = connection.cursor()\n",
    "sql = (\"Select  * from wb_comments order by date\")\n",
    "z = pd.read_sql_query(sql,connection)\n",
    "print(z.shape)\n",
    "z.date.value_counts()"
   ]
  },
  {
   "cell_type": "code",
   "execution_count": 18,
   "metadata": {
    "ExecuteTime": {
     "end_time": "2021-06-05T13:15:08.419772Z",
     "start_time": "2021-06-05T13:15:06.625685Z"
    }
   },
   "outputs": [
    {
     "name": "stdout",
     "output_type": "stream",
     "text": [
      "(147214, 5)\n"
     ]
    },
    {
     "data": {
      "text/plain": [
       "2021-06-03    23783\n",
       "2021-06-04    21628\n",
       "2021-05-29    16428\n",
       "2021-05-31    14729\n",
       "2021-05-30    13415\n",
       "2021-06-05    13350\n",
       "2021-06-02    12095\n",
       "2021-05-26     9193\n",
       "2021-05-27     8789\n",
       "2021-05-25     6763\n",
       "2021-05-24     4607\n",
       "2021-06-01     2434\n",
       "Name: date, dtype: int64"
      ]
     },
     "execution_count": 18,
     "metadata": {},
     "output_type": "execute_result"
    }
   ],
   "source": [
    "connection = sqlite3.connect('MSC.db')\n",
    "cursor = connection.cursor()\n",
    "sql = (\"Select  distinct * from wb_comments order by date\")\n",
    "z = pd.read_sql_query(sql,connection)\n",
    "print(z.shape)\n",
    "z.date.value_counts()"
   ]
  },
  {
   "cell_type": "code",
   "execution_count": 19,
   "metadata": {
    "ExecuteTime": {
     "end_time": "2021-06-05T13:15:59.633517Z",
     "start_time": "2021-06-05T13:15:59.540348Z"
    }
   },
   "outputs": [
    {
     "name": "stdout",
     "output_type": "stream",
     "text": [
      "(3779, 7)\n"
     ]
    },
    {
     "data": {
      "text/plain": [
       "2021-05-25    535\n",
       "2021-05-26    485\n",
       "2021-06-02    425\n",
       "2021-06-04    396\n",
       "2021-05-27    365\n",
       "2021-05-31    317\n",
       "2021-06-03    302\n",
       "2021-06-05    287\n",
       "2021-05-30    282\n",
       "2021-05-24    233\n",
       "2021-06-01    152\n",
       "Name: date, dtype: int64"
      ]
     },
     "execution_count": 19,
     "metadata": {},
     "output_type": "execute_result"
    }
   ],
   "source": [
    "connection = sqlite3.connect('MSC.db')\n",
    "cursor = connection.cursor()\n",
    "sql = (\"Select  * from wb_sentiment order by date\")\n",
    "z = pd.read_sql_query(sql,connection)\n",
    "print(z.shape)\n",
    "z.date.value_counts()"
   ]
  },
  {
   "cell_type": "code",
   "execution_count": 10,
   "metadata": {
    "ExecuteTime": {
     "end_time": "2021-06-08T06:12:19.616937Z",
     "start_time": "2021-06-08T06:12:18.189212Z"
    }
   },
   "outputs": [],
   "source": [
    "import datetime\n",
    "\n",
    "#for symbol in df\n",
    "connection = sqlite3.connect('MSC.db')\n",
    "cursor = connection.cursor()\n",
    "\n",
    "def last_work_day():\n",
    "    for i in range(1,7):\n",
    "        if (datetime.date.today()-datetime.timedelta(days=i)).weekday()< 5:\n",
    "            m = (datetime.date.today()-datetime.timedelta(days=i))\n",
    "            break\n",
    "    \n",
    "    return m.strftime('%Y-%m-%d %H:%M:%S')\n",
    "datums = last_work_day()\n",
    "\n",
    "sql = (f'''\n",
    "Select symbol from SP500_companies \n",
    "where symbol not in (select distinct symbol from prices where date == \"{datums}\")\n",
    "and  symbol not in ('BRK.B', 'BF.B', 'FLIR')''')\n",
    "df = pd.read_sql_query(sql,connection)\n",
    "\n",
    "connection = sqlite3.connect('MSC.db')\n",
    "cursor = connection.cursor()\n",
    "sql = (\"Select * from prices order by date desc\")\n",
    "z = pd.read_sql_query(sql,connection)\n",
    "connection.commit()\n",
    "connection.close()\n",
    "\n",
    "import locale\n",
    "locale.setlocale(locale.LC_ALL, 'en_US.UTF-8')\n",
    "\n",
    "columnnames = \"'date', 'open', 'high', 'low', 'close', 'adj_close','volume', 'symbol'\"\n",
    "insertintotable = '?,?,?,?,?,?,?,?'"
   ]
  },
  {
   "cell_type": "code",
   "execution_count": 11,
   "metadata": {
    "ExecuteTime": {
     "end_time": "2021-06-08T06:12:25.757460Z",
     "start_time": "2021-06-08T06:12:22.523045Z"
    }
   },
   "outputs": [
    {
     "name": "stdout",
     "output_type": "stream",
     "text": [
      "https://finance.yahoo.com/quote/AAPL/history?p=AAPL\n",
      "2021-06-07 00:00:00\n",
      "['2021-06-04 00:00:00', '124.07', '126.16', '123.85', '125.89', '125.89', '75,169,300', 'AAPL']\n",
      "Price injection done\n"
     ]
    }
   ],
   "source": [
    "import requests\n",
    "from bs4 import BeautifulSoup\n",
    "for i in df.Symbol[:1]:\n",
    "    r = requests.get(f'https://finance.yahoo.com/quote/{i}/history?p={i}')\n",
    "    print(f'https://finance.yahoo.com/quote/{i}/history?p={i}')\n",
    "    data = r.text\n",
    "    soup = BeautifulSoup(data, features=\"lxml\")\n",
    "    \n",
    "    print(datums)\n",
    "     \n",
    "    for j in range (0, len(soup.find_all('td'))):\n",
    "    #if the last working day in the db, do nothing\n",
    "        if pd.to_datetime(datums) == pd.to_datetime(z.date[z.symbol == i].iloc[0]):\n",
    "            break\n",
    "        else:\n",
    "            try:\n",
    "                #if 1st field is a date, 2nd is a number and yahoodate > last date in db\n",
    "                if (type(pd.to_datetime(soup.find_all('td')[j].text,infer_datetime_format=True)) == pd._libs.tslibs.timestamps.Timestamp) == True \\\n",
    "                and isinstance(locale.atof(soup.find_all('td')[j+1].text), (int, float, complex)) == True \\\n",
    "                and pd.to_datetime(soup.find_all('td')[j].text,infer_datetime_format=True) == pd.to_datetime(z.date[z.symbol == i].iloc[0]):\n",
    "                    answer = []\n",
    "                    answer.append(str(pd.to_datetime(soup.find_all('td')[j].text,infer_datetime_format=True)))\n",
    "                    answer = answer + [i.span.text for i in soup.find_all('td')[j+1: j+7]] + [i]\n",
    "                    print(answer)\n",
    "                    \n",
    "                    break\n",
    "                else: pass\n",
    "            except:pass                      \n",
    "print('Price injection done')"
   ]
  },
  {
   "cell_type": "code",
   "execution_count": 2,
   "metadata": {
    "ExecuteTime": {
     "end_time": "2021-06-08T06:11:22.505837Z",
     "start_time": "2021-06-08T06:11:22.497924Z"
    }
   },
   "outputs": [],
   "source": [
    "def last_work_day():\n",
    "    for i in range(1,7):\n",
    "        if (datetime.date.today()-datetime.timedelta(days=i)).weekday()< 5:\n",
    "            m = (datetime.date.today()-datetime.timedelta(days=i))\n",
    "            break\n",
    "    \n",
    "    return m.strftime('%Y-%m-%d %H:%M:%S')\n",
    "datums = last_work_day()"
   ]
  },
  {
   "cell_type": "code",
   "execution_count": 3,
   "metadata": {
    "ExecuteTime": {
     "end_time": "2021-06-08T06:11:26.299716Z",
     "start_time": "2021-06-08T06:11:26.283893Z"
    }
   },
   "outputs": [
    {
     "data": {
      "text/plain": [
       "'2021-06-07 00:00:00'"
      ]
     },
     "execution_count": 3,
     "metadata": {},
     "output_type": "execute_result"
    }
   ],
   "source": [
    "datums"
   ]
  },
  {
   "cell_type": "code",
   "execution_count": 8,
   "metadata": {
    "ExecuteTime": {
     "end_time": "2021-06-08T06:12:08.394286Z",
     "start_time": "2021-06-08T06:12:08.388157Z"
    }
   },
   "outputs": [],
   "source": [
    "import sqlite3\n",
    "import pandas as pd"
   ]
  },
  {
   "cell_type": "code",
   "execution_count": null,
   "metadata": {},
   "outputs": [],
   "source": []
  }
 ],
 "metadata": {
  "kernelspec": {
   "display_name": "Python 3",
   "language": "python",
   "name": "python3"
  },
  "language_info": {
   "codemirror_mode": {
    "name": "ipython",
    "version": 3
   },
   "file_extension": ".py",
   "mimetype": "text/x-python",
   "name": "python",
   "nbconvert_exporter": "python",
   "pygments_lexer": "ipython3",
   "version": "3.7.4"
  },
  "toc": {
   "base_numbering": 1,
   "nav_menu": {},
   "number_sections": true,
   "sideBar": true,
   "skip_h1_title": false,
   "title_cell": "Table of Contents",
   "title_sidebar": "Contents",
   "toc_cell": false,
   "toc_position": {
    "height": "calc(100% - 180px)",
    "left": "10px",
    "top": "150px",
    "width": "384px"
   },
   "toc_section_display": true,
   "toc_window_display": true
  }
 },
 "nbformat": 4,
 "nbformat_minor": 2
}
