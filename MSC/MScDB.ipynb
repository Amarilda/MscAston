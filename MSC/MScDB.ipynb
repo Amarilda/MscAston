{
 "cells": [
  {
   "cell_type": "code",
   "execution_count": 4,
   "metadata": {
    "ExecuteTime": {
     "end_time": "2021-05-18T09:45:15.932378Z",
     "start_time": "2021-05-18T09:45:15.927122Z"
    }
   },
   "outputs": [],
   "source": [
    "import sqlite3\n",
    "import pandas as pd"
   ]
  },
  {
   "cell_type": "code",
   "execution_count": 5,
   "metadata": {
    "ExecuteTime": {
     "end_time": "2021-05-18T09:45:16.833710Z",
     "start_time": "2021-05-18T09:45:16.826285Z"
    }
   },
   "outputs": [],
   "source": [
    "connection = sqlite3.connect(\"MSC.db\")\n",
    "cursor = connection.cursor()"
   ]
  },
  {
   "cell_type": "code",
   "execution_count": null,
   "metadata": {
    "ExecuteTime": {
     "end_time": "2021-05-18T07:29:50.874725Z",
     "start_time": "2021-05-18T07:29:50.059459Z"
    }
   },
   "outputs": [],
   "source": [
    "def tables_in_sqlite_db(conn):\n",
    "    cursor = conn.execute(\"SELECT name FROM sqlite_master WHERE type='table';\")\n",
    "    tables = [\n",
    "        v[0] for v in cursor.fetchall()\n",
    "        if v[0] != \"sqlite_sequence\"\n",
    "    ]\n",
    "    cursor.close()\n",
    "    return tables\n",
    "\n",
    "tables = tables_in_sqlite_db(connection)\n",
    "for i in tables:\n",
    "    print(i)"
   ]
  },
  {
   "cell_type": "code",
   "execution_count": 29,
   "metadata": {
    "ExecuteTime": {
     "end_time": "2021-05-18T10:07:23.905305Z",
     "start_time": "2021-05-18T10:07:23.878836Z"
    }
   },
   "outputs": [
    {
     "data": {
      "text/html": [
       "<div>\n",
       "<style scoped>\n",
       "    .dataframe tbody tr th:only-of-type {\n",
       "        vertical-align: middle;\n",
       "    }\n",
       "\n",
       "    .dataframe tbody tr th {\n",
       "        vertical-align: top;\n",
       "    }\n",
       "\n",
       "    .dataframe thead th {\n",
       "        text-align: right;\n",
       "    }\n",
       "</style>\n",
       "<table border=\"1\" class=\"dataframe\">\n",
       "  <thead>\n",
       "    <tr style=\"text-align: right;\">\n",
       "      <th></th>\n",
       "      <th>Company</th>\n",
       "      <th>Symbol</th>\n",
       "      <th>Weight</th>\n",
       "    </tr>\n",
       "  </thead>\n",
       "  <tbody>\n",
       "    <tr>\n",
       "      <th>0</th>\n",
       "      <td>Apple Inc.</td>\n",
       "      <td>AAPL</td>\n",
       "      <td>5.664493</td>\n",
       "    </tr>\n",
       "    <tr>\n",
       "      <th>1</th>\n",
       "      <td>Microsoft Corporation</td>\n",
       "      <td>MSFT</td>\n",
       "      <td>5.264839</td>\n",
       "    </tr>\n",
       "    <tr>\n",
       "      <th>2</th>\n",
       "      <td>Amazon.com Inc.</td>\n",
       "      <td>AMZN</td>\n",
       "      <td>3.886738</td>\n",
       "    </tr>\n",
       "    <tr>\n",
       "      <th>3</th>\n",
       "      <td>Facebook Inc. Class A</td>\n",
       "      <td>FB</td>\n",
       "      <td>2.109076</td>\n",
       "    </tr>\n",
       "    <tr>\n",
       "      <th>4</th>\n",
       "      <td>Alphabet Inc. Class A</td>\n",
       "      <td>GOOGL</td>\n",
       "      <td>1.925453</td>\n",
       "    </tr>\n",
       "    <tr>\n",
       "      <th>...</th>\n",
       "      <td>...</td>\n",
       "      <td>...</td>\n",
       "      <td>...</td>\n",
       "    </tr>\n",
       "    <tr>\n",
       "      <th>503</th>\n",
       "      <td>Under Armour Inc. Class A</td>\n",
       "      <td>UAA</td>\n",
       "      <td>0.011972</td>\n",
       "    </tr>\n",
       "    <tr>\n",
       "      <th>504</th>\n",
       "      <td>Under Armour Inc. Class C</td>\n",
       "      <td>UA</td>\n",
       "      <td>0.010361</td>\n",
       "    </tr>\n",
       "    <tr>\n",
       "      <th>505</th>\n",
       "      <td>News Corporation Class B</td>\n",
       "      <td>NWS</td>\n",
       "      <td>0.008590</td>\n",
       "    </tr>\n",
       "    <tr>\n",
       "      <th>506</th>\n",
       "      <td>S&amp;P 500</td>\n",
       "      <td>^GSPC</td>\n",
       "      <td>100.000000</td>\n",
       "    </tr>\n",
       "    <tr>\n",
       "      <th>507</th>\n",
       "      <td>Dow Jones Industrial Average</td>\n",
       "      <td>^DJI</td>\n",
       "      <td>100.000000</td>\n",
       "    </tr>\n",
       "  </tbody>\n",
       "</table>\n",
       "<p>508 rows × 3 columns</p>\n",
       "</div>"
      ],
      "text/plain": [
       "                          Company Symbol      Weight\n",
       "0                      Apple Inc.   AAPL    5.664493\n",
       "1           Microsoft Corporation   MSFT    5.264839\n",
       "2                 Amazon.com Inc.   AMZN    3.886738\n",
       "3           Facebook Inc. Class A     FB    2.109076\n",
       "4           Alphabet Inc. Class A  GOOGL    1.925453\n",
       "..                            ...    ...         ...\n",
       "503     Under Armour Inc. Class A    UAA    0.011972\n",
       "504     Under Armour Inc. Class C     UA    0.010361\n",
       "505      News Corporation Class B    NWS    0.008590\n",
       "506                       S&P 500  ^GSPC  100.000000\n",
       "507  Dow Jones Industrial Average   ^DJI  100.000000\n",
       "\n",
       "[508 rows x 3 columns]"
      ]
     },
     "execution_count": 29,
     "metadata": {},
     "output_type": "execute_result"
    }
   ],
   "source": [
    "connection = sqlite3.connect('MSC.db')\n",
    "cursor = connection.cursor()\n",
    "sql = (\"Select * from SP500_companies \")\n",
    "df = pd.read_sql_query(sql,connection)\n",
    "df"
   ]
  },
  {
   "cell_type": "code",
   "execution_count": 39,
   "metadata": {
    "ExecuteTime": {
     "end_time": "2021-05-18T10:22:53.623062Z",
     "start_time": "2021-05-18T10:22:53.608367Z"
    }
   },
   "outputs": [
    {
     "data": {
      "text/html": [
       "<div>\n",
       "<style scoped>\n",
       "    .dataframe tbody tr th:only-of-type {\n",
       "        vertical-align: middle;\n",
       "    }\n",
       "\n",
       "    .dataframe tbody tr th {\n",
       "        vertical-align: top;\n",
       "    }\n",
       "\n",
       "    .dataframe thead th {\n",
       "        text-align: right;\n",
       "    }\n",
       "</style>\n",
       "<table border=\"1\" class=\"dataframe\">\n",
       "  <thead>\n",
       "    <tr style=\"text-align: right;\">\n",
       "      <th></th>\n",
       "      <th>Company</th>\n",
       "      <th>Symbol</th>\n",
       "      <th>Weight</th>\n",
       "    </tr>\n",
       "  </thead>\n",
       "  <tbody>\n",
       "    <tr>\n",
       "      <th>489</th>\n",
       "      <td>FLIR Systems Inc.</td>\n",
       "      <td>FLIR</td>\n",
       "      <td>0.021622</td>\n",
       "    </tr>\n",
       "  </tbody>\n",
       "</table>\n",
       "</div>"
      ],
      "text/plain": [
       "               Company Symbol    Weight\n",
       "489  FLIR Systems Inc.   FLIR  0.021622"
      ]
     },
     "execution_count": 39,
     "metadata": {},
     "output_type": "execute_result"
    }
   ],
   "source": [
    "df[df.Symbol == 'FLIR']"
   ]
  },
  {
   "cell_type": "code",
   "execution_count": 54,
   "metadata": {
    "ExecuteTime": {
     "end_time": "2021-05-18T10:47:40.853875Z",
     "start_time": "2021-05-18T10:47:40.691622Z"
    }
   },
   "outputs": [
    {
     "data": {
      "text/html": [
       "<div>\n",
       "<style scoped>\n",
       "    .dataframe tbody tr th:only-of-type {\n",
       "        vertical-align: middle;\n",
       "    }\n",
       "\n",
       "    .dataframe tbody tr th {\n",
       "        vertical-align: top;\n",
       "    }\n",
       "\n",
       "    .dataframe thead th {\n",
       "        text-align: right;\n",
       "    }\n",
       "</style>\n",
       "<table border=\"1\" class=\"dataframe\">\n",
       "  <thead>\n",
       "    <tr style=\"text-align: right;\">\n",
       "      <th></th>\n",
       "      <th>date</th>\n",
       "      <th>open</th>\n",
       "      <th>high</th>\n",
       "      <th>low</th>\n",
       "      <th>close</th>\n",
       "      <th>adj_close</th>\n",
       "      <th>volume</th>\n",
       "      <th>symbol</th>\n",
       "    </tr>\n",
       "  </thead>\n",
       "  <tbody>\n",
       "  </tbody>\n",
       "</table>\n",
       "</div>"
      ],
      "text/plain": [
       "Empty DataFrame\n",
       "Columns: [date, open, high, low, close, adj_close, volume, symbol]\n",
       "Index: []"
      ]
     },
     "execution_count": 54,
     "metadata": {},
     "output_type": "execute_result"
    }
   ],
   "source": [
    "connection = sqlite3.connect('MSC.db')\n",
    "cursor = connection.cursor()\n",
    "sql = (\"Select * from prices where open == 'Dividend'\")\n",
    "df = pd.read_sql_query(sql,connection)\n",
    "df.tail()"
   ]
  },
  {
   "cell_type": "code",
   "execution_count": 55,
   "metadata": {
    "ExecuteTime": {
     "end_time": "2021-05-18T10:47:47.132927Z",
     "start_time": "2021-05-18T10:47:47.105941Z"
    }
   },
   "outputs": [
    {
     "data": {
      "text/html": [
       "<div>\n",
       "<style scoped>\n",
       "    .dataframe tbody tr th:only-of-type {\n",
       "        vertical-align: middle;\n",
       "    }\n",
       "\n",
       "    .dataframe tbody tr th {\n",
       "        vertical-align: top;\n",
       "    }\n",
       "\n",
       "    .dataframe thead th {\n",
       "        text-align: right;\n",
       "    }\n",
       "</style>\n",
       "<table border=\"1\" class=\"dataframe\">\n",
       "  <thead>\n",
       "    <tr style=\"text-align: right;\">\n",
       "      <th></th>\n",
       "      <th>Symbol</th>\n",
       "    </tr>\n",
       "  </thead>\n",
       "  <tbody>\n",
       "    <tr>\n",
       "      <th>0</th>\n",
       "      <td>BRK.B</td>\n",
       "    </tr>\n",
       "    <tr>\n",
       "      <th>1</th>\n",
       "      <td>BF.B</td>\n",
       "    </tr>\n",
       "    <tr>\n",
       "      <th>2</th>\n",
       "      <td>FLIR</td>\n",
       "    </tr>\n",
       "  </tbody>\n",
       "</table>\n",
       "</div>"
      ],
      "text/plain": [
       "  Symbol\n",
       "0  BRK.B\n",
       "1   BF.B\n",
       "2   FLIR"
      ]
     },
     "execution_count": 55,
     "metadata": {},
     "output_type": "execute_result"
    }
   ],
   "source": [
    "connection = sqlite3.connect('MSC.db')\n",
    "cursor = connection.cursor()\n",
    "sql = (\"Select symbol from SP500_companies where symbol not in (select distinct symbol from prices where date == '2021-05-17 00:00:00')\")\n",
    "df = pd.read_sql_query(sql,connection)\n",
    "df"
   ]
  },
  {
   "cell_type": "code",
   "execution_count": 44,
   "metadata": {
    "ExecuteTime": {
     "end_time": "2021-05-18T10:25:02.500655Z",
     "start_time": "2021-05-18T10:25:02.473902Z"
    }
   },
   "outputs": [],
   "source": [
    "connection = sqlite3.connect('MSC.db') \n",
    "cursor = connection.cursor() \n",
    "sql = (\"delete from prices where open = 'Dividend' \") \n",
    "cursor.execute(sql) \n",
    "connection.commit()"
   ]
  },
  {
   "cell_type": "markdown",
   "metadata": {
    "ExecuteTime": {
     "end_time": "2021-03-09T18:24:58.171839Z",
     "start_time": "2021-03-09T18:24:57.930268Z"
    }
   },
   "source": [
    "#https://www.sqlite.org/datatype3.html\n",
    "cursor.executescript(\"DROP TABLE IF EXISTS top30\")"
   ]
  },
  {
   "cell_type": "markdown",
   "metadata": {
    "ExecuteTime": {
     "end_time": "2021-03-08T17:56:13.902828Z",
     "start_time": "2021-03-08T17:56:13.863127Z"
    }
   },
   "source": [
    "cursor.execute('''CREATE TABLE top30 (\n",
    "date REAL\n",
    ",daily_rank INTEGER\n",
    ",comment_limit INTEGER\n",
    ",comment_sort TEXT\n",
    ",_reddit TEXT\n",
    ",approved_at_utc TEXT\n",
    ",subreddit TEXT\n",
    ",selftext TEXT\n",
    ",author_fullname TEXT\n",
    ",saved TEXT\n",
    ",mod_reason_title TEXT\n",
    ",gilded INTEGER\n",
    ",clicked TEXT\n",
    ",title TEXT\n",
    ",link_flair_richtext BLOB\n",
    ",subreddit_name_prefixed TEXT\n",
    ",hidden TEXT\n",
    ",pwls INTEGER\n",
    ",link_flair_css_class TEXT\n",
    ",downs INTEGER\n",
    ",top_awarded_type TEXT\n",
    ",hide_score TEXT\n",
    ",name TEXT\n",
    ",quarantine TEXT\n",
    ",link_flair_text_color TEXT\n",
    ",upvote_ratio REAL\n",
    ",author_flair_background_color TEXT\n",
    ",subreddit_type TEXT\n",
    ",ups INTEGER\n",
    ",total_awards_received INTEGER\n",
    ",media_embed BLOB\n",
    ",author_flair_template_id TEXT\n",
    ",is_original_content TEXT\n",
    ",user_reports BLOB\n",
    ",secure_media TEXT\n",
    ",is_reddit_media_domain TEXT\n",
    ",is_meta TEXT\n",
    ",category TEXT\n",
    ",secure_media_embed BLOB\n",
    ",link_flair_text TEXT\n",
    ",can_mod_post TEXT\n",
    ",score INTEGER\n",
    ",approved_by TEXT\n",
    ",author_premium TEXT\n",
    ",thumbnail TEXT\n",
    ",edited TEXT\n",
    ",author_flair_css_class TEXT\n",
    ",author_flair_richtext BLOB\n",
    ",gildings BLOB\n",
    ",content_categories TEXT\n",
    ",is_self TEXT\n",
    ",mod_note TEXT\n",
    ",created REAL\n",
    ",link_flair_type TEXT\n",
    ",wls INTEGER\n",
    ",removed_by_category TEXT\n",
    ",banned_by TEXT\n",
    ",author_flair_type TEXT\n",
    ",domain TEXT\n",
    ",allow_live_comments TEXT\n",
    ",selftext_html TEXT\n",
    ",likes TEXT\n",
    ",suggested_sort TEXT\n",
    ",banned_at_utc TEXT\n",
    ",url_overridden_by_dest TEXT\n",
    ",view_count TEXT\n",
    ",archived TEXT\n",
    ",no_follow TEXT\n",
    ",is_crosspostable TEXT\n",
    ",pinned TEXT\n",
    ",over_18 TEXT\n",
    ",all_awardings BLOB\n",
    ",awarders BLOB\n",
    ",media_only TEXT\n",
    ",can_gild TEXT\n",
    ",spoiler TEXT\n",
    ",locked TEXT\n",
    ",author_flair_text TEXT\n",
    ",treatment_tags BLOB\n",
    ",visited TEXT\n",
    ",removed_by TEXT\n",
    ",num_reports TEXT\n",
    ",distinguished TEXT\n",
    ",subreddit_id TEXT\n",
    ",mod_reason_by TEXT\n",
    ",removal_reason TEXT\n",
    ",link_flair_background_color TEXT\n",
    ",id TEXT\n",
    ",is_robot_indexable TEXT\n",
    ",report_reasons TEXT\n",
    ",author TEXT\n",
    ",discussion_type TEXT\n",
    ",num_comments INTEGER\n",
    ",send_replies TEXT\n",
    ",whitelist_status TEXT\n",
    ",contest_mode TEXT\n",
    ",mod_reports BLOB\n",
    ",author_patreon_flair TEXT\n",
    ",author_flair_text_color TEXT\n",
    ",permalink TEXT\n",
    ",parent_whitelist_status TEXT\n",
    ",stickied TEXT\n",
    ",url TEXT\n",
    ",subreddit_subscribers INTEGER\n",
    ",created_utc REAL\n",
    ",num_crossposts INTEGER\n",
    ",media TEXT\n",
    ",is_video TEXT\n",
    ",_fetched TEXT\n",
    ",_comments_by_id BLOB)''')\n"
   ]
  },
  {
   "cell_type": "code",
   "execution_count": null,
   "metadata": {
    "ExecuteTime": {
     "end_time": "2021-04-26T10:47:57.491705Z",
     "start_time": "2021-04-26T10:47:57.221413Z"
    }
   },
   "outputs": [],
   "source": [
    "connection = sqlite3.connect(\"MSC.db\")\n",
    "cursor = connection.cursor()\n",
    "\n",
    "sql = ('Select date(moment) as date, * from ER20202021')\n",
    "z =pd.read_sql_query(sql,connection)\n",
    "z.shape"
   ]
  },
  {
   "cell_type": "markdown",
   "metadata": {
    "ExecuteTime": {
     "end_time": "2021-03-09T11:28:45.077103Z",
     "start_time": "2021-03-09T11:28:44.775421Z"
    }
   },
   "source": [
    "connection = sqlite3.connect(\"MSC.db\")\n",
    "cursor = connection.cursor()\n",
    "\n",
    "sql = ('ALTER TABLE top30 RENAME COLUMN date TO Date')\n",
    "pd.read_sql_query(sql,connection)\n"
   ]
  },
  {
   "cell_type": "code",
   "execution_count": null,
   "metadata": {
    "ExecuteTime": {
     "end_time": "2021-03-10T15:20:15.721667Z",
     "start_time": "2021-03-10T15:20:15.612893Z"
    }
   },
   "outputs": [],
   "source": [
    "#Transfer to main folder\n",
    "import shutil\n",
    "newPath = shutil.copy('MSC.db', '/Users/Edite')"
   ]
  }
 ],
 "metadata": {
  "kernelspec": {
   "display_name": "Python 3",
   "language": "python",
   "name": "python3"
  },
  "language_info": {
   "codemirror_mode": {
    "name": "ipython",
    "version": 3
   },
   "file_extension": ".py",
   "mimetype": "text/x-python",
   "name": "python",
   "nbconvert_exporter": "python",
   "pygments_lexer": "ipython3",
   "version": "3.7.4"
  },
  "toc": {
   "base_numbering": 1,
   "nav_menu": {},
   "number_sections": true,
   "sideBar": true,
   "skip_h1_title": false,
   "title_cell": "Table of Contents",
   "title_sidebar": "Contents",
   "toc_cell": false,
   "toc_position": {},
   "toc_section_display": true,
   "toc_window_display": false
  }
 },
 "nbformat": 4,
 "nbformat_minor": 2
}
