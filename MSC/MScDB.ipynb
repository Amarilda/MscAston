{
 "cells": [
  {
   "cell_type": "code",
   "execution_count": 1,
   "metadata": {
    "ExecuteTime": {
     "end_time": "2021-03-09T09:56:35.402229Z",
     "start_time": "2021-03-09T09:56:26.977921Z"
    }
   },
   "outputs": [],
   "source": [
    "import sqlite3\n",
    "import pandas as pd"
   ]
  },
  {
   "cell_type": "code",
   "execution_count": 2,
   "metadata": {
    "ExecuteTime": {
     "end_time": "2021-03-09T09:56:35.500617Z",
     "start_time": "2021-03-09T09:56:35.405594Z"
    }
   },
   "outputs": [],
   "source": [
    "connection = sqlite3.connect(\"MSC.db\")\n",
    "cursor = connection.cursor()"
   ]
  },
  {
   "cell_type": "code",
   "execution_count": 35,
   "metadata": {
    "ExecuteTime": {
     "end_time": "2021-03-09T11:42:57.208858Z",
     "start_time": "2021-03-09T11:42:57.199338Z"
    }
   },
   "outputs": [
    {
     "data": {
      "text/plain": [
       "<sqlite3.Cursor at 0x7fbaed6a6340>"
      ]
     },
     "execution_count": 35,
     "metadata": {},
     "output_type": "execute_result"
    }
   ],
   "source": [
    "#https://www.sqlite.org/datatype3.html\n",
    "cursor.executescript(\"DROP TABLE IF EXISTS top30\")"
   ]
  },
  {
   "cell_type": "markdown",
   "metadata": {
    "ExecuteTime": {
     "end_time": "2021-03-08T17:56:13.902828Z",
     "start_time": "2021-03-08T17:56:13.863127Z"
    }
   },
   "source": [
    "cursor.execute('''CREATE TABLE top30 (\n",
    "date REAL\n",
    ",daily_rank INTEGER\n",
    ",comment_limit INTEGER\n",
    ",comment_sort TEXT\n",
    ",_reddit TEXT\n",
    ",approved_at_utc TEXT\n",
    ",subreddit TEXT\n",
    ",selftext TEXT\n",
    ",author_fullname TEXT\n",
    ",saved TEXT\n",
    ",mod_reason_title TEXT\n",
    ",gilded INTEGER\n",
    ",clicked TEXT\n",
    ",title TEXT\n",
    ",link_flair_richtext BLOB\n",
    ",subreddit_name_prefixed TEXT\n",
    ",hidden TEXT\n",
    ",pwls INTEGER\n",
    ",link_flair_css_class TEXT\n",
    ",downs INTEGER\n",
    ",top_awarded_type TEXT\n",
    ",hide_score TEXT\n",
    ",name TEXT\n",
    ",quarantine TEXT\n",
    ",link_flair_text_color TEXT\n",
    ",upvote_ratio REAL\n",
    ",author_flair_background_color TEXT\n",
    ",subreddit_type TEXT\n",
    ",ups INTEGER\n",
    ",total_awards_received INTEGER\n",
    ",media_embed BLOB\n",
    ",author_flair_template_id TEXT\n",
    ",is_original_content TEXT\n",
    ",user_reports BLOB\n",
    ",secure_media TEXT\n",
    ",is_reddit_media_domain TEXT\n",
    ",is_meta TEXT\n",
    ",category TEXT\n",
    ",secure_media_embed BLOB\n",
    ",link_flair_text TEXT\n",
    ",can_mod_post TEXT\n",
    ",score INTEGER\n",
    ",approved_by TEXT\n",
    ",author_premium TEXT\n",
    ",thumbnail TEXT\n",
    ",edited TEXT\n",
    ",author_flair_css_class TEXT\n",
    ",author_flair_richtext BLOB\n",
    ",gildings BLOB\n",
    ",content_categories TEXT\n",
    ",is_self TEXT\n",
    ",mod_note TEXT\n",
    ",created REAL\n",
    ",link_flair_type TEXT\n",
    ",wls INTEGER\n",
    ",removed_by_category TEXT\n",
    ",banned_by TEXT\n",
    ",author_flair_type TEXT\n",
    ",domain TEXT\n",
    ",allow_live_comments TEXT\n",
    ",selftext_html TEXT\n",
    ",likes TEXT\n",
    ",suggested_sort TEXT\n",
    ",banned_at_utc TEXT\n",
    ",url_overridden_by_dest TEXT\n",
    ",view_count TEXT\n",
    ",archived TEXT\n",
    ",no_follow TEXT\n",
    ",is_crosspostable TEXT\n",
    ",pinned TEXT\n",
    ",over_18 TEXT\n",
    ",all_awardings BLOB\n",
    ",awarders BLOB\n",
    ",media_only TEXT\n",
    ",can_gild TEXT\n",
    ",spoiler TEXT\n",
    ",locked TEXT\n",
    ",author_flair_text TEXT\n",
    ",treatment_tags BLOB\n",
    ",visited TEXT\n",
    ",removed_by TEXT\n",
    ",num_reports TEXT\n",
    ",distinguished TEXT\n",
    ",subreddit_id TEXT\n",
    ",mod_reason_by TEXT\n",
    ",removal_reason TEXT\n",
    ",link_flair_background_color TEXT\n",
    ",id TEXT\n",
    ",is_robot_indexable TEXT\n",
    ",report_reasons TEXT\n",
    ",author TEXT\n",
    ",discussion_type TEXT\n",
    ",num_comments INTEGER\n",
    ",send_replies TEXT\n",
    ",whitelist_status TEXT\n",
    ",contest_mode TEXT\n",
    ",mod_reports BLOB\n",
    ",author_patreon_flair TEXT\n",
    ",author_flair_text_color TEXT\n",
    ",permalink TEXT\n",
    ",parent_whitelist_status TEXT\n",
    ",stickied TEXT\n",
    ",url TEXT\n",
    ",subreddit_subscribers INTEGER\n",
    ",created_utc REAL\n",
    ",num_crossposts INTEGER\n",
    ",media TEXT\n",
    ",is_video TEXT\n",
    ",_fetched TEXT\n",
    ",_comments_by_id BLOB)''')\n"
   ]
  },
  {
   "cell_type": "code",
   "execution_count": 4,
   "metadata": {
    "ExecuteTime": {
     "end_time": "2021-03-08T15:13:13.620158Z",
     "start_time": "2021-03-08T15:13:13.608832Z"
    }
   },
   "outputs": [],
   "source": [
    "kolonas = ['date','daily_rank','comment_limit','comment_sort','_reddit','approved_at_utc','subreddit','selftext','author_fullname'\n",
    "      ,'saved','mod_reason_title','gilded','clicked','title','link_flair_richtext','subreddit_name_prefixed'\n",
    "      ,'hidden','pwls','link_flair_css_class','downs','top_awarded_type','hide_score','name','quarantine'\n",
    "      ,'link_flair_text_color','upvote_ratio','author_flair_background_color','subreddit_type','ups'\n",
    "      ,'total_awards_received','media_embed','author_flair_template_id','is_original_content','user_reports'\n",
    "      ,'secure_media','is_reddit_media_domain','is_meta','category','secure_media_embed','link_flair_text'\n",
    "      ,'can_mod_post','score','approved_by','author_premium','thumbnail','edited','author_flair_css_class'\n",
    "      ,'author_flair_richtext','gildings','content_categories','is_self','mod_note','created','link_flair_type'\n",
    "      ,'wls','removed_by_category','banned_by','author_flair_type','domain','allow_live_comments','selftext_html'\n",
    "      ,'likes','suggested_sort','banned_at_utc','url_overridden_by_dest','view_count','archived','no_follow'\n",
    "      ,'is_crosspostable','pinned','over_18','all_awardings','awarders','media_only','can_gild','spoiler','locked'\n",
    "      ,'author_flair_text','treatment_tags','visited','removed_by','num_reports','distinguished','subreddit_id'\n",
    "      ,'mod_reason_by','removal_reason','link_flair_background_color','id','is_robot_indexable','report_reasons'\n",
    "      ,'author','discussion_type','num_comments','send_replies','whitelist_status','contest_mode','mod_reports'\n",
    "      ,'author_patreon_flair','author_flair_text_color','permalink','parent_whitelist_status','stickied','url'\n",
    "      ,'subreddit_subscribers','created_utc','num_crossposts','media','is_video','_fetched','_comments_by_id']"
   ]
  },
  {
   "cell_type": "code",
   "execution_count": 5,
   "metadata": {
    "ExecuteTime": {
     "end_time": "2021-03-08T15:13:24.396024Z",
     "start_time": "2021-03-08T15:13:24.372200Z"
    }
   },
   "outputs": [],
   "source": [
    "df = pd.DataFrame(columns = kolonas)"
   ]
  },
  {
   "cell_type": "code",
   "execution_count": 5,
   "metadata": {
    "ExecuteTime": {
     "end_time": "2021-03-09T09:57:18.584465Z",
     "start_time": "2021-03-09T09:57:18.273407Z"
    }
   },
   "outputs": [],
   "source": [
    "df2 = pd.DataFrame(columns = ['name'])\n",
    "df3 = pd.read_excel('/Users/Edite/df3.xlsx', usecols =['datatype'])\n",
    "df4 = pd.merge(df2, df3, left_index=True, right_index=True)\n",
    "df4['Sql'] = \",\"+df4['name']+\" \"+df4['datatype']"
   ]
  },
  {
   "cell_type": "code",
   "execution_count": 36,
   "metadata": {
    "ExecuteTime": {
     "end_time": "2021-03-09T11:43:02.174996Z",
     "start_time": "2021-03-09T11:43:02.163377Z"
    }
   },
   "outputs": [
    {
     "data": {
      "text/plain": [
       "<sqlite3.Cursor at 0x7fbaed6a6340>"
      ]
     },
     "execution_count": 36,
     "metadata": {},
     "output_type": "execute_result"
    }
   ],
   "source": [
    "cursor.execute('''CREATE TABLE top30 (\n",
    "moment TEXT\n",
    ",daily_rank INTEGER\n",
    ",comment_limit INTEGER\n",
    ",comment_sort TEXT\n",
    ",_reddit TEXT\n",
    ",approved_at_utc TEXT\n",
    ",subreddit TEXT\n",
    ",selftext TEXT\n",
    ",author_fullname TEXT\n",
    ",saved TEXT\n",
    ",mod_reason_title TEXT\n",
    ",gilded INTEGER\n",
    ",clicked TEXT\n",
    ",title TEXT\n",
    ",link_flair_richtext TEXT\n",
    ",subreddit_name_prefixed TEXT\n",
    ",hidden TEXT\n",
    ",pwls INTEGER\n",
    ",link_flair_css_class TEXT\n",
    ",downs INTEGER\n",
    ",top_awarded_type TEXT\n",
    ",hide_score TEXT\n",
    ",name TEXT\n",
    ",quarantine TEXT\n",
    ",link_flair_text_color TEXT\n",
    ",upvote_ratio REAL\n",
    ",author_flair_background_color TEXT\n",
    ",subreddit_type TEXT\n",
    ",ups INTEGER\n",
    ",total_awards_received INTEGER\n",
    ",media_embed TEXT\n",
    ",author_flair_template_id TEXT\n",
    ",is_original_content TEXT\n",
    ",user_reports TEXT\n",
    ",secure_media TEXT\n",
    ",is_reddit_media_domain TEXT\n",
    ",is_meta TEXT\n",
    ",category TEXT\n",
    ",secure_media_embed TEXT\n",
    ",link_flair_text TEXT\n",
    ",can_mod_post TEXT\n",
    ",score INTEGER\n",
    ",approved_by TEXT\n",
    ",author_premium TEXT\n",
    ",thumbnail TEXT\n",
    ",edited TEXT\n",
    ",author_flair_css_class TEXT\n",
    ",author_flair_richtext TEXT\n",
    ",gildings TEXT\n",
    ",content_categories TEXT\n",
    ",is_self TEXT\n",
    ",mod_note TEXT\n",
    ",created REAL\n",
    ",link_flair_type TEXT\n",
    ",wls INTEGER\n",
    ",removed_by_category TEXT\n",
    ",banned_by TEXT\n",
    ",author_flair_type TEXT\n",
    ",domain TEXT\n",
    ",allow_live_comments TEXT\n",
    ",selftext_html TEXT\n",
    ",likes TEXT\n",
    ",suggested_sort TEXT\n",
    ",banned_at_utc TEXT\n",
    ",url_overridden_by_dest TEXT\n",
    ",view_count TEXT\n",
    ",archived TEXT\n",
    ",no_follow TEXT\n",
    ",is_crosspostable TEXT\n",
    ",pinned TEXT\n",
    ",over_18 TEXT\n",
    ",all_awardings TEXT\n",
    ",awarders TEXT\n",
    ",media_only TEXT\n",
    ",can_gild TEXT\n",
    ",spoiler TEXT\n",
    ",locked TEXT\n",
    ",author_flair_text TEXT\n",
    ",treatment_tags TEXT\n",
    ",visited TEXT\n",
    ",removed_by TEXT\n",
    ",num_reports TEXT\n",
    ",distinguished TEXT\n",
    ",subreddit_id TEXT\n",
    ",mod_reason_by TEXT\n",
    ",removal_reason TEXT\n",
    ",link_flair_background_color TEXT\n",
    ",id TEXT\n",
    ",is_robot_indexable TEXT\n",
    ",report_reasons TEXT\n",
    ",author TEXT\n",
    ",discussion_type TEXT\n",
    ",num_comments INTEGER\n",
    ",send_replies TEXT\n",
    ",whitelist_status TEXT\n",
    ",contest_mode TEXT\n",
    ",mod_reports TEXT\n",
    ",author_patreon_flair TEXT\n",
    ",author_flair_text_color TEXT\n",
    ",permalink TEXT\n",
    ",parent_whitelist_status TEXT\n",
    ",stickied TEXT\n",
    ",url TEXT\n",
    ",subreddit_subscribers INTEGER\n",
    ",created_utc REAL\n",
    ",num_crossposts INTEGER\n",
    ",media TEXT\n",
    ",is_video TEXT\n",
    ",_fetched TEXT\n",
    ",_comments_by_id TEXT)''')"
   ]
  },
  {
   "cell_type": "code",
   "execution_count": 37,
   "metadata": {
    "ExecuteTime": {
     "end_time": "2021-03-09T11:43:06.031710Z",
     "start_time": "2021-03-09T11:43:05.988620Z"
    }
   },
   "outputs": [
    {
     "data": {
      "text/html": [
       "<div>\n",
       "<style scoped>\n",
       "    .dataframe tbody tr th:only-of-type {\n",
       "        vertical-align: middle;\n",
       "    }\n",
       "\n",
       "    .dataframe tbody tr th {\n",
       "        vertical-align: top;\n",
       "    }\n",
       "\n",
       "    .dataframe thead th {\n",
       "        text-align: right;\n",
       "    }\n",
       "</style>\n",
       "<table border=\"1\" class=\"dataframe\">\n",
       "  <thead>\n",
       "    <tr style=\"text-align: right;\">\n",
       "      <th></th>\n",
       "      <th>moment</th>\n",
       "      <th>daily_rank</th>\n",
       "      <th>comment_limit</th>\n",
       "      <th>comment_sort</th>\n",
       "      <th>_reddit</th>\n",
       "      <th>approved_at_utc</th>\n",
       "      <th>subreddit</th>\n",
       "      <th>selftext</th>\n",
       "      <th>author_fullname</th>\n",
       "      <th>saved</th>\n",
       "      <th>...</th>\n",
       "      <th>parent_whitelist_status</th>\n",
       "      <th>stickied</th>\n",
       "      <th>url</th>\n",
       "      <th>subreddit_subscribers</th>\n",
       "      <th>created_utc</th>\n",
       "      <th>num_crossposts</th>\n",
       "      <th>media</th>\n",
       "      <th>is_video</th>\n",
       "      <th>_fetched</th>\n",
       "      <th>_comments_by_id</th>\n",
       "    </tr>\n",
       "  </thead>\n",
       "  <tbody>\n",
       "  </tbody>\n",
       "</table>\n",
       "<p>0 rows × 110 columns</p>\n",
       "</div>"
      ],
      "text/plain": [
       "Empty DataFrame\n",
       "Columns: [moment, daily_rank, comment_limit, comment_sort, _reddit, approved_at_utc, subreddit, selftext, author_fullname, saved, mod_reason_title, gilded, clicked, title, link_flair_richtext, subreddit_name_prefixed, hidden, pwls, link_flair_css_class, downs, top_awarded_type, hide_score, name, quarantine, link_flair_text_color, upvote_ratio, author_flair_background_color, subreddit_type, ups, total_awards_received, media_embed, author_flair_template_id, is_original_content, user_reports, secure_media, is_reddit_media_domain, is_meta, category, secure_media_embed, link_flair_text, can_mod_post, score, approved_by, author_premium, thumbnail, edited, author_flair_css_class, author_flair_richtext, gildings, content_categories, is_self, mod_note, created, link_flair_type, wls, removed_by_category, banned_by, author_flair_type, domain, allow_live_comments, selftext_html, likes, suggested_sort, banned_at_utc, url_overridden_by_dest, view_count, archived, no_follow, is_crosspostable, pinned, over_18, all_awardings, awarders, media_only, can_gild, spoiler, locked, author_flair_text, treatment_tags, visited, removed_by, num_reports, distinguished, subreddit_id, mod_reason_by, removal_reason, link_flair_background_color, id, is_robot_indexable, report_reasons, author, discussion_type, num_comments, send_replies, whitelist_status, contest_mode, mod_reports, author_patreon_flair, author_flair_text_color, permalink, ...]\n",
       "Index: []\n",
       "\n",
       "[0 rows x 110 columns]"
      ]
     },
     "execution_count": 37,
     "metadata": {},
     "output_type": "execute_result"
    }
   ],
   "source": [
    "connection = sqlite3.connect(\"MSC.db\")\n",
    "cursor = connection.cursor()\n",
    "\n",
    "sql = ('Select * from top30')\n",
    "pd.read_sql_query(sql,connection)"
   ]
  },
  {
   "cell_type": "markdown",
   "metadata": {
    "ExecuteTime": {
     "end_time": "2021-03-09T11:28:45.077103Z",
     "start_time": "2021-03-09T11:28:44.775421Z"
    }
   },
   "source": [
    "connection = sqlite3.connect(\"MSC.db\")\n",
    "cursor = connection.cursor()\n",
    "\n",
    "sql = ('ALTER TABLE top30 RENAME COLUMN date TO Date')\n",
    "pd.read_sql_query(sql,connection)\n"
   ]
  },
  {
   "cell_type": "code",
   "execution_count": 60,
   "metadata": {
    "ExecuteTime": {
     "end_time": "2021-03-09T11:58:17.367061Z",
     "start_time": "2021-03-09T11:58:17.275256Z"
    }
   },
   "outputs": [
    {
     "ename": "TypeError",
     "evalue": "'NoneType' object is not iterable",
     "output_type": "error",
     "traceback": [
      "\u001b[0;31m---------------------------------------------------------------------------\u001b[0m",
      "\u001b[0;31mTypeError\u001b[0m                                 Traceback (most recent call last)",
      "\u001b[0;32m<ipython-input-60-58df2b98bf72>\u001b[0m in \u001b[0;36m<module>\u001b[0;34m\u001b[0m\n\u001b[1;32m      1\u001b[0m \u001b[0msql\u001b[0m \u001b[0;34m=\u001b[0m \u001b[0;34m(\u001b[0m\u001b[0;34m'INSERT INTO top30 SELECT * FROM tmp_table;'\u001b[0m\u001b[0;34m)\u001b[0m\u001b[0;34m\u001b[0m\u001b[0;34m\u001b[0m\u001b[0m\n\u001b[1;32m      2\u001b[0m \u001b[0;34m\u001b[0m\u001b[0m\n\u001b[0;32m----> 3\u001b[0;31m \u001b[0mpd\u001b[0m\u001b[0;34m.\u001b[0m\u001b[0mread_sql_query\u001b[0m\u001b[0;34m(\u001b[0m\u001b[0msql\u001b[0m\u001b[0;34m,\u001b[0m\u001b[0mconnection\u001b[0m\u001b[0;34m)\u001b[0m\u001b[0;34m\u001b[0m\u001b[0;34m\u001b[0m\u001b[0m\n\u001b[0m",
      "\u001b[0;32m~/opt/anaconda3/lib/python3.7/site-packages/pandas/io/sql.py\u001b[0m in \u001b[0;36mread_sql_query\u001b[0;34m(sql, con, index_col, coerce_float, params, parse_dates, chunksize)\u001b[0m\n\u001b[1;32m    381\u001b[0m         \u001b[0mcoerce_float\u001b[0m\u001b[0;34m=\u001b[0m\u001b[0mcoerce_float\u001b[0m\u001b[0;34m,\u001b[0m\u001b[0;34m\u001b[0m\u001b[0;34m\u001b[0m\u001b[0m\n\u001b[1;32m    382\u001b[0m         \u001b[0mparse_dates\u001b[0m\u001b[0;34m=\u001b[0m\u001b[0mparse_dates\u001b[0m\u001b[0;34m,\u001b[0m\u001b[0;34m\u001b[0m\u001b[0;34m\u001b[0m\u001b[0m\n\u001b[0;32m--> 383\u001b[0;31m         \u001b[0mchunksize\u001b[0m\u001b[0;34m=\u001b[0m\u001b[0mchunksize\u001b[0m\u001b[0;34m,\u001b[0m\u001b[0;34m\u001b[0m\u001b[0;34m\u001b[0m\u001b[0m\n\u001b[0m\u001b[1;32m    384\u001b[0m     )\n\u001b[1;32m    385\u001b[0m \u001b[0;34m\u001b[0m\u001b[0m\n",
      "\u001b[0;32m~/opt/anaconda3/lib/python3.7/site-packages/pandas/io/sql.py\u001b[0m in \u001b[0;36mread_query\u001b[0;34m(self, sql, index_col, coerce_float, params, parse_dates, chunksize)\u001b[0m\n\u001b[1;32m   1742\u001b[0m         \u001b[0margs\u001b[0m \u001b[0;34m=\u001b[0m \u001b[0m_convert_params\u001b[0m\u001b[0;34m(\u001b[0m\u001b[0msql\u001b[0m\u001b[0;34m,\u001b[0m \u001b[0mparams\u001b[0m\u001b[0;34m)\u001b[0m\u001b[0;34m\u001b[0m\u001b[0;34m\u001b[0m\u001b[0m\n\u001b[1;32m   1743\u001b[0m         \u001b[0mcursor\u001b[0m \u001b[0;34m=\u001b[0m \u001b[0mself\u001b[0m\u001b[0;34m.\u001b[0m\u001b[0mexecute\u001b[0m\u001b[0;34m(\u001b[0m\u001b[0;34m*\u001b[0m\u001b[0margs\u001b[0m\u001b[0;34m)\u001b[0m\u001b[0;34m\u001b[0m\u001b[0;34m\u001b[0m\u001b[0m\n\u001b[0;32m-> 1744\u001b[0;31m         \u001b[0mcolumns\u001b[0m \u001b[0;34m=\u001b[0m \u001b[0;34m[\u001b[0m\u001b[0mcol_desc\u001b[0m\u001b[0;34m[\u001b[0m\u001b[0;36m0\u001b[0m\u001b[0;34m]\u001b[0m \u001b[0;32mfor\u001b[0m \u001b[0mcol_desc\u001b[0m \u001b[0;32min\u001b[0m \u001b[0mcursor\u001b[0m\u001b[0;34m.\u001b[0m\u001b[0mdescription\u001b[0m\u001b[0;34m]\u001b[0m\u001b[0;34m\u001b[0m\u001b[0;34m\u001b[0m\u001b[0m\n\u001b[0m\u001b[1;32m   1745\u001b[0m \u001b[0;34m\u001b[0m\u001b[0m\n\u001b[1;32m   1746\u001b[0m         \u001b[0;32mif\u001b[0m \u001b[0mchunksize\u001b[0m \u001b[0;32mis\u001b[0m \u001b[0;32mnot\u001b[0m \u001b[0;32mNone\u001b[0m\u001b[0;34m:\u001b[0m\u001b[0;34m\u001b[0m\u001b[0;34m\u001b[0m\u001b[0m\n",
      "\u001b[0;31mTypeError\u001b[0m: 'NoneType' object is not iterable"
     ]
    }
   ],
   "source": [
    "sql = ('INSERT INTO top30 SELECT * FROM tmp_table;')\n",
    "\n",
    "pd.read_sql_query(sql,connection)"
   ]
  },
  {
   "cell_type": "code",
   "execution_count": null,
   "metadata": {},
   "outputs": [],
   "source": []
  }
 ],
 "metadata": {
  "kernelspec": {
   "display_name": "Python 3",
   "language": "python",
   "name": "python3"
  },
  "language_info": {
   "codemirror_mode": {
    "name": "ipython",
    "version": 3
   },
   "file_extension": ".py",
   "mimetype": "text/x-python",
   "name": "python",
   "nbconvert_exporter": "python",
   "pygments_lexer": "ipython3",
   "version": "3.7.4"
  },
  "toc": {
   "base_numbering": 1,
   "nav_menu": {},
   "number_sections": true,
   "sideBar": true,
   "skip_h1_title": false,
   "title_cell": "Table of Contents",
   "title_sidebar": "Contents",
   "toc_cell": false,
   "toc_position": {},
   "toc_section_display": true,
   "toc_window_display": false
  }
 },
 "nbformat": 4,
 "nbformat_minor": 2
}
