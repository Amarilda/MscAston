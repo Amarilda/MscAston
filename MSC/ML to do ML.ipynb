{
 "cells": [
  {
   "cell_type": "markdown",
   "metadata": {
    "heading_collapsed": true
   },
   "source": [
    "# mechanicalsoup"
   ]
  },
  {
   "cell_type": "code",
   "execution_count": null,
   "metadata": {
    "ExecuteTime": {
     "end_time": "2021-04-20T09:06:34.332508Z",
     "start_time": "2021-04-20T09:06:23.396952Z"
    },
    "hidden": true
   },
   "outputs": [],
   "source": [
    "import requests\n",
    "from datetime import datetime\n",
    "from bs4 import BeautifulSoup\n",
    "import mechanicalsoup"
   ]
  },
  {
   "cell_type": "code",
   "execution_count": null,
   "metadata": {
    "ExecuteTime": {
     "end_time": "2021-04-20T09:06:34.344549Z",
     "start_time": "2021-04-20T09:06:34.337510Z"
    },
    "hidden": true
   },
   "outputs": [],
   "source": [
    "url = \"https://scholar.google.no/\""
   ]
  },
  {
   "cell_type": "code",
   "execution_count": null,
   "metadata": {
    "ExecuteTime": {
     "end_time": "2021-04-20T09:06:36.609003Z",
     "start_time": "2021-04-20T09:06:34.378447Z"
    },
    "hidden": true
   },
   "outputs": [],
   "source": [
    "browser = mechanicalsoup.StatefulBrowser()\n",
    "browser.open(url)"
   ]
  },
  {
   "cell_type": "code",
   "execution_count": null,
   "metadata": {
    "ExecuteTime": {
     "end_time": "2021-04-20T09:06:36.724507Z",
     "start_time": "2021-04-20T09:06:36.661702Z"
    },
    "hidden": true
   },
   "outputs": [],
   "source": [
    "browser.url"
   ]
  },
  {
   "cell_type": "code",
   "execution_count": null,
   "metadata": {
    "ExecuteTime": {
     "end_time": "2021-04-20T09:06:39.059598Z",
     "start_time": "2021-04-20T09:06:36.744394Z"
    },
    "hidden": true
   },
   "outputs": [],
   "source": [
    "browser.follow_link(\"form\")"
   ]
  },
  {
   "cell_type": "code",
   "execution_count": null,
   "metadata": {
    "ExecuteTime": {
     "end_time": "2021-04-20T09:06:39.679803Z",
     "start_time": "2021-04-20T09:06:39.063394Z"
    },
    "hidden": true
   },
   "outputs": [],
   "source": [
    "browser.page"
   ]
  },
  {
   "cell_type": "code",
   "execution_count": null,
   "metadata": {
    "ExecuteTime": {
     "end_time": "2021-04-20T09:06:39.700448Z",
     "start_time": "2021-04-20T09:06:39.684669Z"
    },
    "hidden": true
   },
   "outputs": [],
   "source": [
    "browser.select_form()"
   ]
  },
  {
   "cell_type": "code",
   "execution_count": null,
   "metadata": {
    "ExecuteTime": {
     "end_time": "2021-04-20T09:06:39.800607Z",
     "start_time": "2021-04-20T09:06:39.768731Z"
    },
    "hidden": true
   },
   "outputs": [],
   "source": [
    "browser.form.print_summary()"
   ]
  },
  {
   "cell_type": "code",
   "execution_count": null,
   "metadata": {
    "ExecuteTime": {
     "end_time": "2021-04-20T09:06:45.916895Z",
     "start_time": "2021-04-20T09:06:39.814102Z"
    },
    "hidden": true
   },
   "outputs": [],
   "source": [
    "browser.launch_browser()"
   ]
  },
  {
   "cell_type": "code",
   "execution_count": null,
   "metadata": {
    "ExecuteTime": {
     "end_time": "2021-04-20T09:06:46.627266Z",
     "start_time": "2021-04-20T09:06:45.925006Z"
    },
    "hidden": true
   },
   "outputs": [],
   "source": [
    "response = browser.submit_selected()"
   ]
  },
  {
   "cell_type": "code",
   "execution_count": null,
   "metadata": {
    "ExecuteTime": {
     "end_time": "2021-04-20T09:06:47.484874Z",
     "start_time": "2021-04-20T09:06:46.638239Z"
    },
    "hidden": true
   },
   "outputs": [],
   "source": [
    "browser.select_form('form[action=\"/scholar\"]')"
   ]
  },
  {
   "cell_type": "markdown",
   "metadata": {},
   "source": [
    "# Selenium"
   ]
  },
  {
   "cell_type": "code",
   "execution_count": 1,
   "metadata": {
    "ExecuteTime": {
     "end_time": "2021-04-22T09:30:05.283360Z",
     "start_time": "2021-04-22T09:29:58.018976Z"
    }
   },
   "outputs": [],
   "source": [
    "from bs4 import BeautifulSoup\n",
    "from selenium import webdriver\n",
    "import pandas as pd\n",
    "from selenium.webdriver.common.keys import Keys\n",
    "from selenium.webdriver.support import expected_conditions as EC\n",
    "from selenium.webdriver.common.by import By\n",
    "from selenium.webdriver.support.wait import WebDriverWait"
   ]
  },
  {
   "cell_type": "markdown",
   "metadata": {
    "ExecuteTime": {
     "end_time": "2021-04-20T14:19:21.355722Z",
     "start_time": "2021-04-20T14:19:21.342958Z"
    }
   },
   "source": [
    "https://stackoverflow.com/questions/66941486/web-scraping-google-scholar-via-selenium\n",
    "\n",
    "https://github.com/MariyaSha/WebscrapingInstagram/blob/main/ImageExtracting_bot.ipynb"
   ]
  },
  {
   "cell_type": "code",
   "execution_count": 2,
   "metadata": {
    "ExecuteTime": {
     "end_time": "2021-04-22T09:30:27.450784Z",
     "start_time": "2021-04-22T09:30:05.286228Z"
    }
   },
   "outputs": [],
   "source": [
    "chrome_path = r'/Users/Edite/Downloads/chromedriver'\n",
    "driver = webdriver.Chrome(executable_path=chrome_path)\n",
    "driver.get('https://scholar.google.com')\n",
    "#html = driver.page_source\n",
    "\n",
    "soup = BeautifulSoup(driver.page_source, 'lxml')\n",
    "\n",
    "#print(driver.page_source)"
   ]
  },
  {
   "cell_type": "code",
   "execution_count": 29,
   "metadata": {
    "ExecuteTime": {
     "end_time": "2021-04-22T10:00:36.303187Z",
     "start_time": "2021-04-22T10:00:36.293941Z"
    }
   },
   "outputs": [],
   "source": [
    "keyword = \"stock prediction machine\""
   ]
  },
  {
   "cell_type": "code",
   "execution_count": 30,
   "metadata": {
    "ExecuteTime": {
     "end_time": "2021-04-22T10:00:49.778364Z",
     "start_time": "2021-04-22T10:00:37.245121Z"
    }
   },
   "outputs": [],
   "source": [
    "searchbox = WebDriverWait(driver, 10).until(EC.element_to_be_clickable((By.CSS_SELECTOR, \"input[name='q']\")))\n",
    "#enter username and password\n",
    "searchbox.clear()\n",
    "searchbox.send_keys(keyword)\n",
    "button = WebDriverWait(driver, 2).until(EC.element_to_be_clickable((By.CSS_SELECTOR, \"button[type='submit']\"))).click()"
   ]
  },
  {
   "cell_type": "code",
   "execution_count": 31,
   "metadata": {
    "ExecuteTime": {
     "end_time": "2021-04-22T10:03:39.506978Z",
     "start_time": "2021-04-22T10:03:39.437309Z"
    }
   },
   "outputs": [],
   "source": [
    "soup = BeautifulSoup(driver.page_source, 'lxml')"
   ]
  },
  {
   "cell_type": "code",
   "execution_count": null,
   "metadata": {
    "ExecuteTime": {
     "end_time": "2021-04-21T08:33:20.490008Z",
     "start_time": "2021-04-21T08:33:20.335806Z"
    }
   },
   "outputs": [],
   "source": [
    "driver.quit()"
   ]
  },
  {
   "cell_type": "code",
   "execution_count": 47,
   "metadata": {
    "ExecuteTime": {
     "end_time": "2021-04-22T10:23:37.763216Z",
     "start_time": "2021-04-22T10:23:37.750892Z"
    }
   },
   "outputs": [
    {
     "name": "stdout",
     "output_type": "stream",
     "text": [
      "[PDF]\n"
     ]
    }
   ],
   "source": [
    "if \"PDF\" in soup.find(class_=\"gs_ct1\").text:\n",
    "    print(soup.find(class_=\"gs_ct1\").text)\n"
   ]
  },
  {
   "cell_type": "code",
   "execution_count": 49,
   "metadata": {
    "ExecuteTime": {
     "end_time": "2021-04-22T10:24:13.497738Z",
     "start_time": "2021-04-22T10:24:13.480074Z"
    }
   },
   "outputs": [
    {
     "name": "stdout",
     "output_type": "stream",
     "text": [
      "<div class=\"gs_a\">VH Shah - Foundations of <b>Machine </b>Learning| Spring, 2007 - ganj-ie.iust.ac.ir</div>\n",
      "\n",
      "<div class=\"gs_a\"><a href=\"/citations?user=Cy7qiy8AAAAJ&amp;hl=en&amp;oi=sra\">A Sharma</a>, D Bhuriya, <a href=\"/citations?user=RCxNLyIAAAAJ&amp;hl=en&amp;oi=sra\">U Singh</a> - 2017 International conference …, 2017 - ieeexplore.ieee.org</div>\n",
      "\n",
      "<div class=\"gs_a\">MC Lee - Expert Systems with Applications, 2009 - Elsevier</div>\n",
      "\n",
      "<div class=\"gs_a\"><a href=\"/citations?user=O6qNZzYAAAAJ&amp;hl=en&amp;oi=sra\">A Porshnev</a>, I Redkin… - 2013 IEEE 13th …, 2013 - ieeexplore.ieee.org</div>\n",
      "\n",
      "<div class=\"gs_a\">O Hegazy, OS Soliman, <a href=\"/citations?user=C5YNbPAAAAAJ&amp;hl=en&amp;oi=sra\">MA Salam</a> - arXiv preprint arXiv:1402.7351, 2014 - arxiv.org</div>\n",
      "\n",
      "<div class=\"gs_a\">PD Yoo, <a href=\"/citations?user=UOdQl_oAAAAJ&amp;hl=en&amp;oi=sra\">MH Kim</a>, <a href=\"/citations?user=hlqE8goAAAAJ&amp;hl=en&amp;oi=sra\">T Jan</a> - International Conference on …, 2005 - ieeexplore.ieee.org</div>\n",
      "\n",
      "<div class=\"gs_a\"><a href=\"/citations?user=NJaW9s0AAAAJ&amp;hl=en&amp;oi=sra\">CKS Leung</a>, RK MacKinnon, <a href=\"/citations?user=2PBM-osAAAAJ&amp;hl=en&amp;oi=sra\">Y Wang</a> - Proceedings of the 18th …, 2014 - dl.acm.org</div>\n",
      "\n",
      "<div class=\"gs_a\">M Usmani, <a href=\"/citations?user=JtBf0zYAAAAJ&amp;hl=en&amp;oi=sra\">SH Adil</a>, <a href=\"/citations?user=KCVfzfwAAAAJ&amp;hl=en&amp;oi=sra\">K Raza</a>… - 2016 3rd international …, 2016 - ieeexplore.ieee.org</div>\n",
      "\n",
      "<div class=\"gs_a\"><a href=\"/citations?user=nfijDy4AAAAJ&amp;hl=en&amp;oi=sra\">H Yang</a>, L Chan, <a href=\"/citations?user=MXvC7tkAAAAJ&amp;hl=en&amp;oi=sra\">I King</a> - … Conference on Intelligent Data Engineering and …, 2002 - Springer</div>\n",
      "\n",
      "<div class=\"gs_a\">Y Chen, Y Hao - Expert Systems with Applications, 2017 - Elsevier</div>\n",
      "\n"
     ]
    }
   ],
   "source": [
    "for i in soup.find_all(class_=\"gs_a\"):\n",
    "    print(i)\n",
    "    print()"
   ]
  },
  {
   "cell_type": "code",
   "execution_count": 23,
   "metadata": {
    "ExecuteTime": {
     "end_time": "2021-04-22T09:44:05.743053Z",
     "start_time": "2021-04-22T09:44:05.728356Z"
    }
   },
   "outputs": [
    {
     "data": {
      "text/plain": [
       "[<div class=\"gs_rs\">Recently, a lot of interesting work has been done in the area of applying <b>Machine </b>Learning <br/>Algorithms for analyzing price patterns and predicting <b>stock </b>prices and index changes. Most <br/><b>stock </b>traders nowadays depend on Intelligent Trading Systems which help them in …</div>,\n",
       " <div class=\"gs_rs\"><b>Stock </b>market is basically nonlinear in nature and the research on <b>stock </b>market is one of the <br/>most important issues in recent years. People invest in <b>stock </b>market based on some <br/><b>prediction</b>. For predict, the <b>stock </b>market prices people search such methods and tools which …</div>,\n",
       " <div class=\"gs_rs\">In this paper, we developed a <b>prediction </b>model based on support vector <b>machine </b>(SVM) with <br/>a hybrid feature selection method to predict the trend of <b>stock </b>markets. This proposed hybrid <br/>feature selection method, named F-score and Supported Sequential Forward Search …</div>,\n",
       " <div class=\"gs_rs\">Development of linguistic technologies and penetration of social media provide powerful <br/>possibilities to investigate users' moods and psychological states of people. In this paper we <br/>discussed possibility to improve accuracy of <b>stock </b>market indicators predictions by using …</div>,\n",
       " <div class=\"gs_rs\">Abstract– <b>Stock</b> market <b>prediction</b> is the act of trying to determine the future value of a company <br/>\n",
       " <b>stock</b> or other financial instrument traded on a financial exchange. The successful <b>prediction</b> <br/>\n",
       " of a <b>stock's</b> future price will maximize investor's gains. This paper proposes a <b>machine</b> learning …</div>,\n",
       " <div class=\"gs_rs\">This paper surveys <b>machine </b>learning techniques for <b>stock </b>market <b>prediction</b>. The <b>prediction </b><br/>of <b>stock </b>markets is regarded as a challenging task of financial time series <b>prediction</b>. In this <br/>paper, we present recent developments in <b>stock </b>market <b>prediction </b>models, and discuss their …</div>,\n",
       " <div class=\"gs_rs\">Data mining and <b>machine </b>learning approaches can be incorporated into business <br/>intelligence (BI) systems to help users for decision support in many real-life applications. <br/>Here, in this paper, we propose a <b>machine </b>learning approach for BI applications …</div>,\n",
       " <div class=\"gs_rs\">The main objective of this research is to predict the market performance of Karachi <b>Stock </b><br/>Exchange (KSE) on day closing using different <b>machine </b>learning techniques. The <b>prediction </b><br/>model uses different attributes as an input and predicts market as Positive &amp; Negative. The …</div>,\n",
       " <div class=\"gs_rs\">Abstract Recently, Support Vector Regression (SVR) has been introduced to solve <br/>regression and <b>prediction </b>problems. In this paper, we apply SVR to financial <b>prediction </b><br/>tasks. In particular, the financial data are usually noisy and the associated risk is time …</div>,\n",
       " <div class=\"gs_rs\">This study investigates <b>stock </b>market indices <b>prediction </b>that is an interesting and important <br/>research in the areas of investment and applications, as it can get more profits and returns at <br/>lower risk rate with effective exchange strategies. To realize accurate <b>prediction</b>, various …</div>]"
      ]
     },
     "execution_count": 23,
     "metadata": {},
     "output_type": "execute_result"
    }
   ],
   "source": [
    "# Summary\n",
    "soup.find_all(class_=\"gs_rs\")"
   ]
  },
  {
   "cell_type": "code",
   "execution_count": 24,
   "metadata": {
    "ExecuteTime": {
     "end_time": "2021-04-22T09:44:42.371817Z",
     "start_time": "2021-04-22T09:44:42.343534Z"
    }
   },
   "outputs": [
    {
     "data": {
      "text/plain": [
       "[<div class=\"gs_ggs gs_fl\"><div class=\"gs_ggsd\"><div class=\"gs_or_ggsm\" ontouchstart=\"gs_evt_dsp(event)\" tabindex=\"-1\"><a data-clk=\"hl=en&amp;sa=T&amp;oi=gga&amp;ct=gga&amp;cd=0&amp;d=14365806792370709244&amp;ei=RkKBYKDdGInSyQSP4bngDw\" data-clk-atid=\"_GImEyqZXccJ\" href=\"http://ganj-ie.iust.ac.ir:8081/images/5/54/Machine_Learning_Techniques_for_Stock_Prediction.pdf\"><span class=\"gs_ctg2\">[PDF]</span> iust.ac.ir</a></div></div></div>,\n",
       " <div class=\"gs_fl\"><a class=\"gs_or_sav\" href=\"javascript:void(0)\" role=\"button\" title=\"Save\"><svg class=\"gs_or_svg\" viewbox=\"-1 0 17 16\"><path d=\"M8 11.57l3.824 2.308-1.015-4.35 3.379-2.926-4.45-.378L8 2.122 6.261 6.224l-4.449.378 3.379 2.926-1.015 4.35z\"></path></svg></a> <a aria-controls=\"gs_cit\" aria-haspopup=\"true\" class=\"gs_or_cit gs_nph\" href=\"javascript:void(0)\" role=\"button\" title=\"Cite\"><svg class=\"gs_or_svg\" viewbox=\"-1 0 17 16\"><path d=\"M1.5 3.5v5h2v.375L1.75 12.5h3L6.5 8.875V3.5zM9.5 3.5v5h2v.375L9.75 12.5h3L14.5 8.875V3.5z\"></path></svg></a> <a href=\"/scholar?cites=14365806792370709244&amp;as_sdt=2005&amp;sciodt=0,5&amp;hl=en\">Cited by 62</a> <a href=\"/scholar?q=related:_GImEyqZXccJ:scholar.google.com/&amp;scioq=stock+prediction+machine&amp;hl=en&amp;as_sdt=0,5\">Related articles</a> <a class=\"gs_nph\" href=\"/scholar?cluster=14365806792370709244&amp;hl=en&amp;as_sdt=0,5\">All 4 versions</a> <a class=\"gs_or_mor\" href=\"javascript:void(0)\" role=\"button\" title=\"More\"><svg class=\"gs_or_svg\" viewbox=\"-1 0 17 16\"><path d=\"M1.5 5.5l2-2L8 8l-4.5 4.5-2-2L4 8zM8.5 5.5l2-2L15 8l-4.5 4.5-2-2L11 8z\"></path></svg></a> <a class=\"gs_or_nvi\" href=\"http://scholar.googleusercontent.com/scholar?q=cache:_GImEyqZXccJ:scholar.google.com/+stock+prediction+machine&amp;hl=en&amp;as_sdt=0,5\">View as HTML</a> <a class=\"gs_or_nvi gs_or_mor\" href=\"javascript:void(0)\" role=\"button\" title=\"Fewer\"><svg class=\"gs_or_svg\" viewbox=\"0 0 17 16\"><path d=\"M8.5 5.5l-2-2L2 8l4.5 4.5 2-2L6 8zM15.5 5.5l-2-2L9 8l4.5 4.5 2-2L13 8z\"></path></svg></a></div>,\n",
       " <div class=\"gs_fl\"><a class=\"gs_or_sav\" href=\"javascript:void(0)\" role=\"button\" title=\"Save\"><svg class=\"gs_or_svg\" viewbox=\"-1 0 17 16\"><path d=\"M8 11.57l3.824 2.308-1.015-4.35 3.379-2.926-4.45-.378L8 2.122 6.261 6.224l-4.449.378 3.379 2.926-1.015 4.35z\"></path></svg></a> <a aria-controls=\"gs_cit\" aria-haspopup=\"true\" class=\"gs_or_cit gs_nph\" href=\"javascript:void(0)\" role=\"button\" title=\"Cite\"><svg class=\"gs_or_svg\" viewbox=\"-1 0 17 16\"><path d=\"M1.5 3.5v5h2v.375L1.75 12.5h3L6.5 8.875V3.5zM9.5 3.5v5h2v.375L9.75 12.5h3L14.5 8.875V3.5z\"></path></svg></a> <a href=\"/scholar?cites=5322722774169655957&amp;as_sdt=2005&amp;sciodt=0,5&amp;hl=en\">Cited by 70</a> <a href=\"/scholar?q=related:lZpDgCkc3kkJ:scholar.google.com/&amp;scioq=stock+prediction+machine&amp;hl=en&amp;as_sdt=0,5\">Related articles</a> <a class=\"gs_or_mor gs_oph\" href=\"javascript:void(0)\" role=\"button\" title=\"More\"><svg class=\"gs_or_svg\" viewbox=\"-1 0 17 16\"><path d=\"M1.5 5.5l2-2L8 8l-4.5 4.5-2-2L4 8zM8.5 5.5l2-2L15 8l-4.5 4.5-2-2L11 8z\"></path></svg></a> <a class=\"gs_or_nvi gs_or_mor\" href=\"javascript:void(0)\" role=\"button\" title=\"Fewer\"><svg class=\"gs_or_svg\" viewbox=\"0 0 17 16\"><path d=\"M8.5 5.5l-2-2L2 8l4.5 4.5 2-2L6 8zM15.5 5.5l-2-2L9 8l4.5 4.5 2-2L13 8z\"></path></svg></a></div>,\n",
       " <div class=\"gs_ggs gs_fl\"><div class=\"gs_ggsd\"><div class=\"gs_or_ggsm\" ontouchstart=\"gs_evt_dsp(event)\" tabindex=\"-1\"><a data-clk=\"hl=en&amp;sa=T&amp;oi=gga&amp;ct=gga&amp;cd=2&amp;d=13258780820875993911&amp;ei=RkKBYKDdGInSyQSP4bngDw\" data-clk-atid=\"N2MTl-imALgJ\" href=\"https://www.sciencedirect.com/science/article/pii/S0957417409001560?casa_token=NLQ_C0z4x30AAAAA:iyC0bWtfdOnx5w-cZ9aW_cm4fZbEDKsjAvsjwilphrodoZeHzC8c4_BtxAsNMimjWYSu4aC6\"><span class=\"gs_ctg2\">[HTML]</span> sciencedirect.com</a></div></div></div>,\n",
       " <div class=\"gs_fl\"><a class=\"gs_or_sav\" href=\"javascript:void(0)\" role=\"button\" title=\"Save\"><svg class=\"gs_or_svg\" viewbox=\"-1 0 17 16\"><path d=\"M8 11.57l3.824 2.308-1.015-4.35 3.379-2.926-4.45-.378L8 2.122 6.261 6.224l-4.449.378 3.379 2.926-1.015 4.35z\"></path></svg></a> <a aria-controls=\"gs_cit\" aria-haspopup=\"true\" class=\"gs_or_cit gs_nph\" href=\"javascript:void(0)\" role=\"button\" title=\"Cite\"><svg class=\"gs_or_svg\" viewbox=\"-1 0 17 16\"><path d=\"M1.5 3.5v5h2v.375L1.75 12.5h3L6.5 8.875V3.5zM9.5 3.5v5h2v.375L9.75 12.5h3L14.5 8.875V3.5z\"></path></svg></a> <a href=\"/scholar?cites=13258780820875993911&amp;as_sdt=2005&amp;sciodt=0,5&amp;hl=en\">Cited by 266</a> <a href=\"/scholar?q=related:N2MTl-imALgJ:scholar.google.com/&amp;scioq=stock+prediction+machine&amp;hl=en&amp;as_sdt=0,5\">Related articles</a> <a class=\"gs_nph\" href=\"/scholar?cluster=13258780820875993911&amp;hl=en&amp;as_sdt=0,5\">All 4 versions</a> <a class=\"gs_or_mor gs_oph\" href=\"javascript:void(0)\" role=\"button\" title=\"More\"><svg class=\"gs_or_svg\" viewbox=\"-1 0 17 16\"><path d=\"M1.5 5.5l2-2L8 8l-4.5 4.5-2-2L4 8zM8.5 5.5l2-2L15 8l-4.5 4.5-2-2L11 8z\"></path></svg></a> <a class=\"gs_or_nvi gs_or_mor\" href=\"javascript:void(0)\" role=\"button\" title=\"Fewer\"><svg class=\"gs_or_svg\" viewbox=\"0 0 17 16\"><path d=\"M8.5 5.5l-2-2L2 8l4.5 4.5 2-2L6 8zM15.5 5.5l-2-2L9 8l4.5 4.5 2-2L13 8z\"></path></svg></a></div>,\n",
       " <div class=\"gs_fl\"><a class=\"gs_or_sav\" href=\"javascript:void(0)\" role=\"button\" title=\"Save\"><svg class=\"gs_or_svg\" viewbox=\"-1 0 17 16\"><path d=\"M8 11.57l3.824 2.308-1.015-4.35 3.379-2.926-4.45-.378L8 2.122 6.261 6.224l-4.449.378 3.379 2.926-1.015 4.35z\"></path></svg></a> <a aria-controls=\"gs_cit\" aria-haspopup=\"true\" class=\"gs_or_cit gs_nph\" href=\"javascript:void(0)\" role=\"button\" title=\"Cite\"><svg class=\"gs_or_svg\" viewbox=\"-1 0 17 16\"><path d=\"M1.5 3.5v5h2v.375L1.75 12.5h3L6.5 8.875V3.5zM9.5 3.5v5h2v.375L9.75 12.5h3L14.5 8.875V3.5z\"></path></svg></a> <a href=\"/scholar?cites=2679894911972127963&amp;as_sdt=2005&amp;sciodt=0,5&amp;hl=en\">Cited by 70</a> <a href=\"/scholar?q=related:27R5RznmMCUJ:scholar.google.com/&amp;scioq=stock+prediction+machine&amp;hl=en&amp;as_sdt=0,5\">Related articles</a> <a class=\"gs_nph\" href=\"/scholar?cluster=2679894911972127963&amp;hl=en&amp;as_sdt=0,5\">All 4 versions</a> <a class=\"gs_or_mor gs_oph\" href=\"javascript:void(0)\" role=\"button\" title=\"More\"><svg class=\"gs_or_svg\" viewbox=\"-1 0 17 16\"><path d=\"M1.5 5.5l2-2L8 8l-4.5 4.5-2-2L4 8zM8.5 5.5l2-2L15 8l-4.5 4.5-2-2L11 8z\"></path></svg></a> <a class=\"gs_or_nvi gs_or_mor\" href=\"javascript:void(0)\" role=\"button\" title=\"Fewer\"><svg class=\"gs_or_svg\" viewbox=\"0 0 17 16\"><path d=\"M8.5 5.5l-2-2L2 8l4.5 4.5 2-2L6 8zM15.5 5.5l-2-2L9 8l4.5 4.5 2-2L13 8z\"></path></svg></a></div>,\n",
       " <div class=\"gs_ggs gs_fl\"><div class=\"gs_ggsd\"><div class=\"gs_or_ggsm\" ontouchstart=\"gs_evt_dsp(event)\" tabindex=\"-1\"><a data-clk=\"hl=en&amp;sa=T&amp;oi=gga&amp;ct=gga&amp;cd=4&amp;d=1984550970473481448&amp;ei=RkKBYKDdGInSyQSP4bngDw\" data-clk-atid=\"6IS60ZeKihsJ\" href=\"https://arxiv.org/pdf/1402.7351\"><span class=\"gs_ctg2\">[PDF]</span> arxiv.org</a></div></div></div>,\n",
       " <div class=\"gs_fl\"><a class=\"gs_or_sav\" href=\"javascript:void(0)\" role=\"button\" title=\"Save\"><svg class=\"gs_or_svg\" viewbox=\"-1 0 17 16\"><path d=\"M8 11.57l3.824 2.308-1.015-4.35 3.379-2.926-4.45-.378L8 2.122 6.261 6.224l-4.449.378 3.379 2.926-1.015 4.35z\"></path></svg></a> <a aria-controls=\"gs_cit\" aria-haspopup=\"true\" class=\"gs_or_cit gs_nph\" href=\"javascript:void(0)\" role=\"button\" title=\"Cite\"><svg class=\"gs_or_svg\" viewbox=\"-1 0 17 16\"><path d=\"M1.5 3.5v5h2v.375L1.75 12.5h3L6.5 8.875V3.5zM9.5 3.5v5h2v.375L9.75 12.5h3L14.5 8.875V3.5z\"></path></svg></a> <a href=\"/scholar?cites=1984550970473481448&amp;as_sdt=2005&amp;sciodt=0,5&amp;hl=en\">Cited by 78</a> <a href=\"/scholar?q=related:6IS60ZeKihsJ:scholar.google.com/&amp;scioq=stock+prediction+machine&amp;hl=en&amp;as_sdt=0,5\">Related articles</a> <a class=\"gs_nph\" href=\"/scholar?cluster=1984550970473481448&amp;hl=en&amp;as_sdt=0,5\">All 9 versions</a> <a class=\"gs_or_mor\" href=\"javascript:void(0)\" role=\"button\" title=\"More\"><svg class=\"gs_or_svg\" viewbox=\"-1 0 17 16\"><path d=\"M1.5 5.5l2-2L8 8l-4.5 4.5-2-2L4 8zM8.5 5.5l2-2L15 8l-4.5 4.5-2-2L11 8z\"></path></svg></a> <a class=\"gs_or_nvi\" href=\"https://scholar.googleusercontent.com/scholar?q=cache:6IS60ZeKihsJ:scholar.google.com/+stock+prediction+machine&amp;hl=en&amp;as_sdt=0,5\">View as HTML</a> <a class=\"gs_or_nvi gs_or_mor\" href=\"javascript:void(0)\" role=\"button\" title=\"Fewer\"><svg class=\"gs_or_svg\" viewbox=\"0 0 17 16\"><path d=\"M8.5 5.5l-2-2L2 8l4.5 4.5 2-2L6 8zM15.5 5.5l-2-2L9 8l4.5 4.5 2-2L13 8z\"></path></svg></a></div>,\n",
       " <div class=\"gs_ggs gs_fl\"><div class=\"gs_ggsd\"><div class=\"gs_or_ggsm\" ontouchstart=\"gs_evt_dsp(event)\" tabindex=\"-1\"><a data-clk=\"hl=en&amp;sa=T&amp;oi=gga&amp;ct=gga&amp;cd=5&amp;d=5001675904779194073&amp;ei=RkKBYKDdGInSyQSP4bngDw\" data-clk-atid=\"2Y7-QbyFaUUJ\" href=\"https://ro.uow.edu.au/cgi/viewcontent.cgi?article=3866&amp;context=commpapers\"><span class=\"gs_ctg2\">[PDF]</span> uow.edu.au</a></div></div></div>,\n",
       " <div class=\"gs_fl\"><a class=\"gs_or_sav\" href=\"javascript:void(0)\" role=\"button\" title=\"Save\"><svg class=\"gs_or_svg\" viewbox=\"-1 0 17 16\"><path d=\"M8 11.57l3.824 2.308-1.015-4.35 3.379-2.926-4.45-.378L8 2.122 6.261 6.224l-4.449.378 3.379 2.926-1.015 4.35z\"></path></svg></a> <a aria-controls=\"gs_cit\" aria-haspopup=\"true\" class=\"gs_or_cit gs_nph\" href=\"javascript:void(0)\" role=\"button\" title=\"Cite\"><svg class=\"gs_or_svg\" viewbox=\"-1 0 17 16\"><path d=\"M1.5 3.5v5h2v.375L1.75 12.5h3L6.5 8.875V3.5zM9.5 3.5v5h2v.375L9.75 12.5h3L14.5 8.875V3.5z\"></path></svg></a> <a href=\"/scholar?cites=5001675904779194073&amp;as_sdt=2005&amp;sciodt=0,5&amp;hl=en\">Cited by 105</a> <a href=\"/scholar?q=related:2Y7-QbyFaUUJ:scholar.google.com/&amp;scioq=stock+prediction+machine&amp;hl=en&amp;as_sdt=0,5\">Related articles</a> <a class=\"gs_nph\" href=\"/scholar?cluster=5001675904779194073&amp;hl=en&amp;as_sdt=0,5\">All 8 versions</a> <a class=\"gs_or_mor gs_oph\" href=\"javascript:void(0)\" role=\"button\" title=\"More\"><svg class=\"gs_or_svg\" viewbox=\"-1 0 17 16\"><path d=\"M1.5 5.5l2-2L8 8l-4.5 4.5-2-2L4 8zM8.5 5.5l2-2L15 8l-4.5 4.5-2-2L11 8z\"></path></svg></a> <a class=\"gs_or_nvi gs_or_mor\" href=\"javascript:void(0)\" role=\"button\" title=\"Fewer\"><svg class=\"gs_or_svg\" viewbox=\"0 0 17 16\"><path d=\"M8.5 5.5l-2-2L2 8l4.5 4.5 2-2L6 8zM15.5 5.5l-2-2L9 8l4.5 4.5 2-2L13 8z\"></path></svg></a></div>,\n",
       " <div class=\"gs_ggs gs_fl\"><div class=\"gs_ggsd\"><div class=\"gs_or_ggsm\" ontouchstart=\"gs_evt_dsp(event)\" tabindex=\"-1\"><a data-clk=\"hl=en&amp;sa=T&amp;oi=gga&amp;ct=gga&amp;cd=6&amp;d=17844967026485449342&amp;ei=RkKBYKDdGInSyQSP4bngDw\" data-clk-atid=\"flI5wvYOpvcJ\" href=\"http://www.cs.umanitoba.ca/~ywang/papers/ideas14.pdf\"><span class=\"gs_ctg2\">[PDF]</span> umanitoba.ca</a></div></div></div>,\n",
       " <div class=\"gs_fl\"><a class=\"gs_or_sav\" href=\"javascript:void(0)\" role=\"button\" title=\"Save\"><svg class=\"gs_or_svg\" viewbox=\"-1 0 17 16\"><path d=\"M8 11.57l3.824 2.308-1.015-4.35 3.379-2.926-4.45-.378L8 2.122 6.261 6.224l-4.449.378 3.379 2.926-1.015 4.35z\"></path></svg></a> <a aria-controls=\"gs_cit\" aria-haspopup=\"true\" class=\"gs_or_cit gs_nph\" href=\"javascript:void(0)\" role=\"button\" title=\"Cite\"><svg class=\"gs_or_svg\" viewbox=\"-1 0 17 16\"><path d=\"M1.5 3.5v5h2v.375L1.75 12.5h3L6.5 8.875V3.5zM9.5 3.5v5h2v.375L9.75 12.5h3L14.5 8.875V3.5z\"></path></svg></a> <a href=\"/scholar?cites=17844967026485449342&amp;as_sdt=2005&amp;sciodt=0,5&amp;hl=en\">Cited by 50</a> <a href=\"/scholar?q=related:flI5wvYOpvcJ:scholar.google.com/&amp;scioq=stock+prediction+machine&amp;hl=en&amp;as_sdt=0,5\">Related articles</a> <a class=\"gs_nph\" href=\"/scholar?cluster=17844967026485449342&amp;hl=en&amp;as_sdt=0,5\">All 5 versions</a> <a class=\"gs_or_mor gs_oph\" href=\"javascript:void(0)\" role=\"button\" title=\"More\"><svg class=\"gs_or_svg\" viewbox=\"-1 0 17 16\"><path d=\"M1.5 5.5l2-2L8 8l-4.5 4.5-2-2L4 8zM8.5 5.5l2-2L15 8l-4.5 4.5-2-2L11 8z\"></path></svg></a> <a class=\"gs_or_nvi gs_or_mor\" href=\"javascript:void(0)\" role=\"button\" title=\"Fewer\"><svg class=\"gs_or_svg\" viewbox=\"0 0 17 16\"><path d=\"M8.5 5.5l-2-2L2 8l4.5 4.5 2-2L6 8zM15.5 5.5l-2-2L9 8l4.5 4.5 2-2L13 8z\"></path></svg></a></div>,\n",
       " <div class=\"gs_ggs gs_fl\"><div class=\"gs_ggsd\"><div class=\"gs_or_ggsm\" ontouchstart=\"gs_evt_dsp(event)\" tabindex=\"-1\"><a data-clk=\"hl=en&amp;sa=T&amp;oi=gga&amp;ct=gga&amp;cd=7&amp;d=6448709657058236343&amp;ei=RkKBYKDdGInSyQSP4bngDw\" data-clk-atid=\"t1eWMERrflkJ\" href=\"https://www.researchgate.net/profile/Syed_Adil8/publication/311755721_Stock_market_prediction_using_machine_learning_techniques/links/5b05a157aca2725783d89583/Stock-market-prediction-using-machine-learning-techniques.pdf\"><span class=\"gs_ctg2\">[PDF]</span> researchgate.net</a></div></div></div>,\n",
       " <div class=\"gs_fl\"><a class=\"gs_or_sav\" href=\"javascript:void(0)\" role=\"button\" title=\"Save\"><svg class=\"gs_or_svg\" viewbox=\"-1 0 17 16\"><path d=\"M8 11.57l3.824 2.308-1.015-4.35 3.379-2.926-4.45-.378L8 2.122 6.261 6.224l-4.449.378 3.379 2.926-1.015 4.35z\"></path></svg></a> <a aria-controls=\"gs_cit\" aria-haspopup=\"true\" class=\"gs_or_cit gs_nph\" href=\"javascript:void(0)\" role=\"button\" title=\"Cite\"><svg class=\"gs_or_svg\" viewbox=\"-1 0 17 16\"><path d=\"M1.5 3.5v5h2v.375L1.75 12.5h3L6.5 8.875V3.5zM9.5 3.5v5h2v.375L9.75 12.5h3L14.5 8.875V3.5z\"></path></svg></a> <a href=\"/scholar?cites=6448709657058236343&amp;as_sdt=2005&amp;sciodt=0,5&amp;hl=en\">Cited by 46</a> <a href=\"/scholar?q=related:t1eWMERrflkJ:scholar.google.com/&amp;scioq=stock+prediction+machine&amp;hl=en&amp;as_sdt=0,5\">Related articles</a> <a class=\"gs_nph\" href=\"/scholar?cluster=6448709657058236343&amp;hl=en&amp;as_sdt=0,5\">All 2 versions</a> <a class=\"gs_or_mor gs_oph\" href=\"javascript:void(0)\" role=\"button\" title=\"More\"><svg class=\"gs_or_svg\" viewbox=\"-1 0 17 16\"><path d=\"M1.5 5.5l2-2L8 8l-4.5 4.5-2-2L4 8zM8.5 5.5l2-2L15 8l-4.5 4.5-2-2L11 8z\"></path></svg></a> <a class=\"gs_or_nvi gs_or_mor\" href=\"javascript:void(0)\" role=\"button\" title=\"Fewer\"><svg class=\"gs_or_svg\" viewbox=\"0 0 17 16\"><path d=\"M8.5 5.5l-2-2L2 8l4.5 4.5 2-2L6 8zM15.5 5.5l-2-2L9 8l4.5 4.5 2-2L13 8z\"></path></svg></a></div>,\n",
       " <div class=\"gs_ggs gs_fl\"><div class=\"gs_ggsd\"><div class=\"gs_or_ggsm\" ontouchstart=\"gs_evt_dsp(event)\" tabindex=\"-1\"><a data-clk=\"hl=en&amp;sa=T&amp;oi=gga&amp;ct=gga&amp;cd=8&amp;d=14888258103949019682&amp;ei=RkKBYKDdGInSyQSP4bngDw\" data-clk-atid=\"Iko2Ot23nc4J\" href=\"https://citeseerx.ist.psu.edu/viewdoc/download?doi=10.1.1.392.8893&amp;rep=rep1&amp;type=pdf\"><span class=\"gs_ctg2\">[PDF]</span> psu.edu</a></div></div></div>,\n",
       " <div class=\"gs_fl\"><a class=\"gs_or_sav\" href=\"javascript:void(0)\" role=\"button\" title=\"Save\"><svg class=\"gs_or_svg\" viewbox=\"-1 0 17 16\"><path d=\"M8 11.57l3.824 2.308-1.015-4.35 3.379-2.926-4.45-.378L8 2.122 6.261 6.224l-4.449.378 3.379 2.926-1.015 4.35z\"></path></svg></a> <a aria-controls=\"gs_cit\" aria-haspopup=\"true\" class=\"gs_or_cit gs_nph\" href=\"javascript:void(0)\" role=\"button\" title=\"Cite\"><svg class=\"gs_or_svg\" viewbox=\"-1 0 17 16\"><path d=\"M1.5 3.5v5h2v.375L1.75 12.5h3L6.5 8.875V3.5zM9.5 3.5v5h2v.375L9.75 12.5h3L14.5 8.875V3.5z\"></path></svg></a> <a href=\"/scholar?cites=14888258103949019682&amp;as_sdt=2005&amp;sciodt=0,5&amp;hl=en\">Cited by 227</a> <a href=\"/scholar?q=related:Iko2Ot23nc4J:scholar.google.com/&amp;scioq=stock+prediction+machine&amp;hl=en&amp;as_sdt=0,5\">Related articles</a> <a class=\"gs_nph\" href=\"/scholar?cluster=14888258103949019682&amp;hl=en&amp;as_sdt=0,5\">All 20 versions</a> <a class=\"gs_or_mor gs_oph\" href=\"javascript:void(0)\" role=\"button\" title=\"More\"><svg class=\"gs_or_svg\" viewbox=\"-1 0 17 16\"><path d=\"M1.5 5.5l2-2L8 8l-4.5 4.5-2-2L4 8zM8.5 5.5l2-2L15 8l-4.5 4.5-2-2L11 8z\"></path></svg></a> <a class=\"gs_or_nvi gs_or_mor\" href=\"javascript:void(0)\" role=\"button\" title=\"Fewer\"><svg class=\"gs_or_svg\" viewbox=\"0 0 17 16\"><path d=\"M8.5 5.5l-2-2L2 8l4.5 4.5 2-2L6 8zM15.5 5.5l-2-2L9 8l4.5 4.5 2-2L13 8z\"></path></svg></a></div>,\n",
       " <div class=\"gs_ggs gs_fl\"><div class=\"gs_ggsd\"><div class=\"gs_or_ggsm\" ontouchstart=\"gs_evt_dsp(event)\" tabindex=\"-1\"><a data-clk=\"hl=en&amp;sa=T&amp;oi=gga&amp;ct=gga&amp;cd=9&amp;d=711139999020076963&amp;ei=RkKBYKDdGInSyQSP4bngDw\" data-clk-atid=\"o88psw963gkJ\" href=\"https://www.sciencedirect.com/science/article/pii/S0957417417301367?casa_token=MkjaYMAJPPQAAAAA:JOM5YHply6IjbzPQIFgIZasf1ogIC_FtfccclWjKL0dHtR-Lhb2mU4nvVxoKcJ99u7AWVSgn\"><span class=\"gs_ctg2\">[HTML]</span> sciencedirect.com</a></div></div></div>,\n",
       " <div class=\"gs_fl\"><a class=\"gs_or_sav\" href=\"javascript:void(0)\" role=\"button\" title=\"Save\"><svg class=\"gs_or_svg\" viewbox=\"-1 0 17 16\"><path d=\"M8 11.57l3.824 2.308-1.015-4.35 3.379-2.926-4.45-.378L8 2.122 6.261 6.224l-4.449.378 3.379 2.926-1.015 4.35z\"></path></svg></a> <a aria-controls=\"gs_cit\" aria-haspopup=\"true\" class=\"gs_or_cit gs_nph\" href=\"javascript:void(0)\" role=\"button\" title=\"Cite\"><svg class=\"gs_or_svg\" viewbox=\"-1 0 17 16\"><path d=\"M1.5 3.5v5h2v.375L1.75 12.5h3L6.5 8.875V3.5zM9.5 3.5v5h2v.375L9.75 12.5h3L14.5 8.875V3.5z\"></path></svg></a> <a href=\"/scholar?cites=711139999020076963&amp;as_sdt=2005&amp;sciodt=0,5&amp;hl=en\">Cited by 174</a> <a href=\"/scholar?q=related:o88psw963gkJ:scholar.google.com/&amp;scioq=stock+prediction+machine&amp;hl=en&amp;as_sdt=0,5\">Related articles</a> <a class=\"gs_nph\" href=\"/scholar?cluster=711139999020076963&amp;hl=en&amp;as_sdt=0,5\">All 4 versions</a> <a class=\"gs_or_mor gs_oph\" href=\"javascript:void(0)\" role=\"button\" title=\"More\"><svg class=\"gs_or_svg\" viewbox=\"-1 0 17 16\"><path d=\"M1.5 5.5l2-2L8 8l-4.5 4.5-2-2L4 8zM8.5 5.5l2-2L15 8l-4.5 4.5-2-2L11 8z\"></path></svg></a> <a class=\"gs_or_nvi gs_or_mor\" href=\"javascript:void(0)\" role=\"button\" title=\"Fewer\"><svg class=\"gs_or_svg\" viewbox=\"0 0 17 16\"><path d=\"M8.5 5.5l-2-2L2 8l4.5 4.5 2-2L6 8zM15.5 5.5l-2-2L9 8l4.5 4.5 2-2L13 8z\"></path></svg></a></div>]"
      ]
     },
     "execution_count": 24,
     "metadata": {},
     "output_type": "execute_result"
    }
   ],
   "source": [
    "# Citations and versions\n",
    "soup.find_all(class_=\"gs_fl\")"
   ]
  },
  {
   "cell_type": "code",
   "execution_count": 20,
   "metadata": {
    "ExecuteTime": {
     "end_time": "2021-04-22T09:39:51.681037Z",
     "start_time": "2021-04-22T09:39:51.668703Z"
    }
   },
   "outputs": [
    {
     "name": "stdout",
     "output_type": "stream",
     "text": [
      "https://accounts.google.com/Login?hl=en&continue=https://scholar.google.com/scholar%3Fhl%3Den%26as_sdt%3D0%252C5%26q%3Dstock%2Bprediction%2Bmachine%26btnG%3D\n",
      "https://accounts.google.com/Login?hl=en&continue=https://scholar.google.com/scholar%3Fhl%3Den%26as_sdt%3D0%252C5%26q%3Dstock%2Bprediction%2Bmachine%26btnG%3D\n",
      "http://ganj-ie.iust.ac.ir:8081/images/5/54/Machine_Learning_Techniques_for_Stock_Prediction.pdf\n",
      "http://ganj-ie.iust.ac.ir:8081/images/5/54/Machine_Learning_Techniques_for_Stock_Prediction.pdf\n",
      "http://scholar.googleusercontent.com/scholar?q=cache:_GImEyqZXccJ:scholar.google.com/+stock+prediction+machine&hl=en&as_sdt=0,5\n",
      "https://ieeexplore.ieee.org/abstract/document/8212715/\n",
      "https://www.sciencedirect.com/science/article/pii/S0957417409001560?casa_token=NLQ_C0z4x30AAAAA:iyC0bWtfdOnx5w-cZ9aW_cm4fZbEDKsjAvsjwilphrodoZeHzC8c4_BtxAsNMimjWYSu4aC6\n",
      "https://www.sciencedirect.com/science/article/pii/S0957417409001560?casa_token=NLQ_C0z4x30AAAAA:iyC0bWtfdOnx5w-cZ9aW_cm4fZbEDKsjAvsjwilphrodoZeHzC8c4_BtxAsNMimjWYSu4aC6\n",
      "https://ieeexplore.ieee.org/abstract/document/6753954/\n",
      "https://arxiv.org/pdf/1402.7351\n",
      "https://arxiv.org/pdf/1402.7351\n",
      "https://scholar.googleusercontent.com/scholar?q=cache:6IS60ZeKihsJ:scholar.google.com/+stock+prediction+machine&hl=en&as_sdt=0,5\n",
      "https://ro.uow.edu.au/cgi/viewcontent.cgi?article=3866&context=commpapers\n",
      "https://ieeexplore.ieee.org/abstract/document/1631572/\n",
      "http://www.cs.umanitoba.ca/~ywang/papers/ideas14.pdf\n",
      "https://dl.acm.org/doi/abs/10.1145/2628194.2628211\n",
      "https://www.researchgate.net/profile/Syed_Adil8/publication/311755721_Stock_market_prediction_using_machine_learning_techniques/links/5b05a157aca2725783d89583/Stock-market-prediction-using-machine-learning-techniques.pdf\n",
      "https://ieeexplore.ieee.org/abstract/document/7783235/\n",
      "https://citeseerx.ist.psu.edu/viewdoc/download?doi=10.1.1.392.8893&rep=rep1&type=pdf\n",
      "https://link.springer.com/chapter/10.1007/3-540-45675-9_58\n",
      "https://www.sciencedirect.com/science/article/pii/S0957417417301367?casa_token=MkjaYMAJPPQAAAAA:JOM5YHply6IjbzPQIFgIZasf1ogIC_FtfccclWjKL0dHtR-Lhb2mU4nvVxoKcJ99u7AWVSgn\n",
      "https://www.sciencedirect.com/science/article/pii/S0957417417301367?casa_token=MkjaYMAJPPQAAAAA:JOM5YHply6IjbzPQIFgIZasf1ogIC_FtfccclWjKL0dHtR-Lhb2mU4nvVxoKcJ99u7AWVSgn\n"
     ]
    }
   ],
   "source": [
    "# This is link to PDF\n",
    "\n",
    "for link in soup.find_all('a', href=True):\n",
    "    if link['href'].startswith( 'http' ):\n",
    "        print(link['href'])"
   ]
  },
  {
   "cell_type": "code",
   "execution_count": 62,
   "metadata": {
    "ExecuteTime": {
     "end_time": "2021-04-22T10:48:01.642590Z",
     "start_time": "2021-04-22T10:48:01.560831Z"
    }
   },
   "outputs": [
    {
     "name": "stdout",
     "output_type": "stream",
     "text": [
      "1\n",
      "PDF\n",
      "Recently, a lot of interesting work has been done in the area of applying Machine Learning Algorithms for analyzing price patterns and predicting stock prices and index changes. Most stock traders nowadays depend on Intelligent Trading Systems which help them in …\n",
      "<a class=\"gs_or_sav\" href=\"javascript:void(0)\" role=\"button\" title=\"Save\"><svg class=\"gs_or_svg\" viewbox=\"-1 0 17 16\"><path d=\"M8 11.57l3.824 2.308-1.015-4.35 3.379-2.926-4.45-.378L8 2.122 6.261 6.224l-4.449.378 3.379 2.926-1.015 4.35z\"></path></svg></a>\n",
      " \n",
      "<a aria-controls=\"gs_cit\" aria-haspopup=\"true\" class=\"gs_or_cit gs_nph\" href=\"javascript:void(0)\" role=\"button\" title=\"Cite\"><svg class=\"gs_or_svg\" viewbox=\"-1 0 17 16\"><path d=\"M1.5 3.5v5h2v.375L1.75 12.5h3L6.5 8.875V3.5zM9.5 3.5v5h2v.375L9.75 12.5h3L14.5 8.875V3.5z\"></path></svg></a>\n",
      " \n",
      "<a href=\"/scholar?cites=14365806792370709244&amp;as_sdt=2005&amp;sciodt=0,5&amp;hl=en\">Cited by 62</a>\n",
      " \n",
      "<a href=\"/scholar?q=related:_GImEyqZXccJ:scholar.google.com/&amp;scioq=stock+prediction+machine&amp;hl=en&amp;as_sdt=0,5\">Related articles</a>\n",
      " \n",
      "<a class=\"gs_nph\" href=\"/scholar?cluster=14365806792370709244&amp;hl=en&amp;as_sdt=0,5\">All 4 versions</a>\n",
      " \n",
      "<a class=\"gs_or_mor\" href=\"javascript:void(0)\" role=\"button\" title=\"More\"><svg class=\"gs_or_svg\" viewbox=\"-1 0 17 16\"><path d=\"M1.5 5.5l2-2L8 8l-4.5 4.5-2-2L4 8zM8.5 5.5l2-2L15 8l-4.5 4.5-2-2L11 8z\"></path></svg></a>\n",
      " \n",
      "<a class=\"gs_or_nvi\" href=\"http://scholar.googleusercontent.com/scholar?q=cache:_GImEyqZXccJ:scholar.google.com/+stock+prediction+machine&amp;hl=en&amp;as_sdt=0,5\">View as HTML</a>\n",
      " \n",
      "<a class=\"gs_or_nvi gs_or_mor\" href=\"javascript:void(0)\" role=\"button\" title=\"Fewer\"><svg class=\"gs_or_svg\" viewbox=\"0 0 17 16\"><path d=\"M8.5 5.5l-2-2L2 8l4.5 4.5 2-2L6 8zM15.5 5.5l-2-2L9 8l4.5 4.5 2-2L13 8z\"></path></svg></a>\n",
      "\n",
      "2\n",
      "PDF\n",
      "Stock market is basically nonlinear in nature and the research on stock market is one of the most important issues in recent years. People invest in stock market based on some prediction. For predict, the stock market prices people search such methods and tools which …\n",
      "<a class=\"gs_or_sav\" href=\"javascript:void(0)\" role=\"button\" title=\"Save\"><svg class=\"gs_or_svg\" viewbox=\"-1 0 17 16\"><path d=\"M8 11.57l3.824 2.308-1.015-4.35 3.379-2.926-4.45-.378L8 2.122 6.261 6.224l-4.449.378 3.379 2.926-1.015 4.35z\"></path></svg></a>\n",
      " \n",
      "<a aria-controls=\"gs_cit\" aria-haspopup=\"true\" class=\"gs_or_cit gs_nph\" href=\"javascript:void(0)\" role=\"button\" title=\"Cite\"><svg class=\"gs_or_svg\" viewbox=\"-1 0 17 16\"><path d=\"M1.5 3.5v5h2v.375L1.75 12.5h3L6.5 8.875V3.5zM9.5 3.5v5h2v.375L9.75 12.5h3L14.5 8.875V3.5z\"></path></svg></a>\n",
      " \n",
      "<a href=\"/scholar?cites=5322722774169655957&amp;as_sdt=2005&amp;sciodt=0,5&amp;hl=en\">Cited by 70</a>\n",
      " \n",
      "<a href=\"/scholar?q=related:lZpDgCkc3kkJ:scholar.google.com/&amp;scioq=stock+prediction+machine&amp;hl=en&amp;as_sdt=0,5\">Related articles</a>\n",
      " \n",
      "<a class=\"gs_or_mor gs_oph\" href=\"javascript:void(0)\" role=\"button\" title=\"More\"><svg class=\"gs_or_svg\" viewbox=\"-1 0 17 16\"><path d=\"M1.5 5.5l2-2L8 8l-4.5 4.5-2-2L4 8zM8.5 5.5l2-2L15 8l-4.5 4.5-2-2L11 8z\"></path></svg></a>\n",
      " \n",
      "<a class=\"gs_or_nvi gs_or_mor\" href=\"javascript:void(0)\" role=\"button\" title=\"Fewer\"><svg class=\"gs_or_svg\" viewbox=\"0 0 17 16\"><path d=\"M8.5 5.5l-2-2L2 8l4.5 4.5 2-2L6 8zM15.5 5.5l-2-2L9 8l4.5 4.5 2-2L13 8z\"></path></svg></a>\n",
      "\n",
      "3\n",
      "PDF\n",
      "In this paper, we developed a prediction model based on support vector machine (SVM) with a hybrid feature selection method to predict the trend of stock markets. This proposed hybrid feature selection method, named F-score and Supported Sequential Forward Search …\n",
      "<a class=\"gs_or_sav\" href=\"javascript:void(0)\" role=\"button\" title=\"Save\"><svg class=\"gs_or_svg\" viewbox=\"-1 0 17 16\"><path d=\"M8 11.57l3.824 2.308-1.015-4.35 3.379-2.926-4.45-.378L8 2.122 6.261 6.224l-4.449.378 3.379 2.926-1.015 4.35z\"></path></svg></a>\n",
      " \n",
      "<a aria-controls=\"gs_cit\" aria-haspopup=\"true\" class=\"gs_or_cit gs_nph\" href=\"javascript:void(0)\" role=\"button\" title=\"Cite\"><svg class=\"gs_or_svg\" viewbox=\"-1 0 17 16\"><path d=\"M1.5 3.5v5h2v.375L1.75 12.5h3L6.5 8.875V3.5zM9.5 3.5v5h2v.375L9.75 12.5h3L14.5 8.875V3.5z\"></path></svg></a>\n",
      " \n",
      "<a href=\"/scholar?cites=13258780820875993911&amp;as_sdt=2005&amp;sciodt=0,5&amp;hl=en\">Cited by 266</a>\n",
      " \n",
      "<a href=\"/scholar?q=related:N2MTl-imALgJ:scholar.google.com/&amp;scioq=stock+prediction+machine&amp;hl=en&amp;as_sdt=0,5\">Related articles</a>\n",
      " \n",
      "<a class=\"gs_nph\" href=\"/scholar?cluster=13258780820875993911&amp;hl=en&amp;as_sdt=0,5\">All 4 versions</a>\n",
      " \n",
      "<a class=\"gs_or_mor gs_oph\" href=\"javascript:void(0)\" role=\"button\" title=\"More\"><svg class=\"gs_or_svg\" viewbox=\"-1 0 17 16\"><path d=\"M1.5 5.5l2-2L8 8l-4.5 4.5-2-2L4 8zM8.5 5.5l2-2L15 8l-4.5 4.5-2-2L11 8z\"></path></svg></a>\n",
      " \n",
      "<a class=\"gs_or_nvi gs_or_mor\" href=\"javascript:void(0)\" role=\"button\" title=\"Fewer\"><svg class=\"gs_or_svg\" viewbox=\"0 0 17 16\"><path d=\"M8.5 5.5l-2-2L2 8l4.5 4.5 2-2L6 8zM15.5 5.5l-2-2L9 8l4.5 4.5 2-2L13 8z\"></path></svg></a>\n",
      "\n",
      "4\n",
      "PDF\n",
      "Development of linguistic technologies and penetration of social media provide powerful possibilities to investigate users' moods and psychological states of people. In this paper we discussed possibility to improve accuracy of stock market indicators predictions by using …\n",
      "<a class=\"gs_or_sav\" href=\"javascript:void(0)\" role=\"button\" title=\"Save\"><svg class=\"gs_or_svg\" viewbox=\"-1 0 17 16\"><path d=\"M8 11.57l3.824 2.308-1.015-4.35 3.379-2.926-4.45-.378L8 2.122 6.261 6.224l-4.449.378 3.379 2.926-1.015 4.35z\"></path></svg></a>\n",
      " \n",
      "<a aria-controls=\"gs_cit\" aria-haspopup=\"true\" class=\"gs_or_cit gs_nph\" href=\"javascript:void(0)\" role=\"button\" title=\"Cite\"><svg class=\"gs_or_svg\" viewbox=\"-1 0 17 16\"><path d=\"M1.5 3.5v5h2v.375L1.75 12.5h3L6.5 8.875V3.5zM9.5 3.5v5h2v.375L9.75 12.5h3L14.5 8.875V3.5z\"></path></svg></a>\n",
      " \n",
      "<a href=\"/scholar?cites=2679894911972127963&amp;as_sdt=2005&amp;sciodt=0,5&amp;hl=en\">Cited by 70</a>\n",
      " \n",
      "<a href=\"/scholar?q=related:27R5RznmMCUJ:scholar.google.com/&amp;scioq=stock+prediction+machine&amp;hl=en&amp;as_sdt=0,5\">Related articles</a>\n",
      " \n",
      "<a class=\"gs_nph\" href=\"/scholar?cluster=2679894911972127963&amp;hl=en&amp;as_sdt=0,5\">All 4 versions</a>\n",
      " \n",
      "<a class=\"gs_or_mor gs_oph\" href=\"javascript:void(0)\" role=\"button\" title=\"More\"><svg class=\"gs_or_svg\" viewbox=\"-1 0 17 16\"><path d=\"M1.5 5.5l2-2L8 8l-4.5 4.5-2-2L4 8zM8.5 5.5l2-2L15 8l-4.5 4.5-2-2L11 8z\"></path></svg></a>\n",
      " \n",
      "<a class=\"gs_or_nvi gs_or_mor\" href=\"javascript:void(0)\" role=\"button\" title=\"Fewer\"><svg class=\"gs_or_svg\" viewbox=\"0 0 17 16\"><path d=\"M8.5 5.5l-2-2L2 8l4.5 4.5 2-2L6 8zM15.5 5.5l-2-2L9 8l4.5 4.5 2-2L13 8z\"></path></svg></a>\n",
      "\n",
      "5\n",
      "PDF\n",
      "Abstract– Stock market prediction is the act of trying to determine the future value of a company \n",
      "stock or other financial instrument traded on a financial exchange. The successful prediction \n",
      "of a stock's future price will maximize investor's gains. This paper proposes a machine learning …\n",
      "<a class=\"gs_or_sav\" href=\"javascript:void(0)\" role=\"button\" title=\"Save\"><svg class=\"gs_or_svg\" viewbox=\"-1 0 17 16\"><path d=\"M8 11.57l3.824 2.308-1.015-4.35 3.379-2.926-4.45-.378L8 2.122 6.261 6.224l-4.449.378 3.379 2.926-1.015 4.35z\"></path></svg></a>\n",
      " \n",
      "<a aria-controls=\"gs_cit\" aria-haspopup=\"true\" class=\"gs_or_cit gs_nph\" href=\"javascript:void(0)\" role=\"button\" title=\"Cite\"><svg class=\"gs_or_svg\" viewbox=\"-1 0 17 16\"><path d=\"M1.5 3.5v5h2v.375L1.75 12.5h3L6.5 8.875V3.5zM9.5 3.5v5h2v.375L9.75 12.5h3L14.5 8.875V3.5z\"></path></svg></a>\n",
      " \n",
      "<a href=\"/scholar?cites=1984550970473481448&amp;as_sdt=2005&amp;sciodt=0,5&amp;hl=en\">Cited by 78</a>\n",
      " \n",
      "<a href=\"/scholar?q=related:6IS60ZeKihsJ:scholar.google.com/&amp;scioq=stock+prediction+machine&amp;hl=en&amp;as_sdt=0,5\">Related articles</a>\n",
      " \n",
      "<a class=\"gs_nph\" href=\"/scholar?cluster=1984550970473481448&amp;hl=en&amp;as_sdt=0,5\">All 9 versions</a>\n",
      " \n",
      "<a class=\"gs_or_mor\" href=\"javascript:void(0)\" role=\"button\" title=\"More\"><svg class=\"gs_or_svg\" viewbox=\"-1 0 17 16\"><path d=\"M1.5 5.5l2-2L8 8l-4.5 4.5-2-2L4 8zM8.5 5.5l2-2L15 8l-4.5 4.5-2-2L11 8z\"></path></svg></a>\n",
      " \n",
      "<a class=\"gs_or_nvi\" href=\"https://scholar.googleusercontent.com/scholar?q=cache:6IS60ZeKihsJ:scholar.google.com/+stock+prediction+machine&amp;hl=en&amp;as_sdt=0,5\">View as HTML</a>\n",
      " \n",
      "<a class=\"gs_or_nvi gs_or_mor\" href=\"javascript:void(0)\" role=\"button\" title=\"Fewer\"><svg class=\"gs_or_svg\" viewbox=\"0 0 17 16\"><path d=\"M8.5 5.5l-2-2L2 8l4.5 4.5 2-2L6 8zM15.5 5.5l-2-2L9 8l4.5 4.5 2-2L13 8z\"></path></svg></a>\n",
      "\n",
      "6\n",
      "PDF\n",
      "This paper surveys machine learning techniques for stock market prediction. The prediction of stock markets is regarded as a challenging task of financial time series prediction. In this paper, we present recent developments in stock market prediction models, and discuss their …\n",
      "<a class=\"gs_or_sav\" href=\"javascript:void(0)\" role=\"button\" title=\"Save\"><svg class=\"gs_or_svg\" viewbox=\"-1 0 17 16\"><path d=\"M8 11.57l3.824 2.308-1.015-4.35 3.379-2.926-4.45-.378L8 2.122 6.261 6.224l-4.449.378 3.379 2.926-1.015 4.35z\"></path></svg></a>\n",
      " \n",
      "<a aria-controls=\"gs_cit\" aria-haspopup=\"true\" class=\"gs_or_cit gs_nph\" href=\"javascript:void(0)\" role=\"button\" title=\"Cite\"><svg class=\"gs_or_svg\" viewbox=\"-1 0 17 16\"><path d=\"M1.5 3.5v5h2v.375L1.75 12.5h3L6.5 8.875V3.5zM9.5 3.5v5h2v.375L9.75 12.5h3L14.5 8.875V3.5z\"></path></svg></a>\n",
      " \n",
      "<a href=\"/scholar?cites=5001675904779194073&amp;as_sdt=2005&amp;sciodt=0,5&amp;hl=en\">Cited by 105</a>\n",
      " \n",
      "<a href=\"/scholar?q=related:2Y7-QbyFaUUJ:scholar.google.com/&amp;scioq=stock+prediction+machine&amp;hl=en&amp;as_sdt=0,5\">Related articles</a>\n",
      " \n",
      "<a class=\"gs_nph\" href=\"/scholar?cluster=5001675904779194073&amp;hl=en&amp;as_sdt=0,5\">All 8 versions</a>\n",
      " \n",
      "<a class=\"gs_or_mor gs_oph\" href=\"javascript:void(0)\" role=\"button\" title=\"More\"><svg class=\"gs_or_svg\" viewbox=\"-1 0 17 16\"><path d=\"M1.5 5.5l2-2L8 8l-4.5 4.5-2-2L4 8zM8.5 5.5l2-2L15 8l-4.5 4.5-2-2L11 8z\"></path></svg></a>\n",
      " \n",
      "<a class=\"gs_or_nvi gs_or_mor\" href=\"javascript:void(0)\" role=\"button\" title=\"Fewer\"><svg class=\"gs_or_svg\" viewbox=\"0 0 17 16\"><path d=\"M8.5 5.5l-2-2L2 8l4.5 4.5 2-2L6 8zM15.5 5.5l-2-2L9 8l4.5 4.5 2-2L13 8z\"></path></svg></a>\n",
      "\n",
      "7\n",
      "PDF\n",
      "Data mining and machine learning approaches can be incorporated into business intelligence (BI) systems to help users for decision support in many real-life applications. Here, in this paper, we propose a machine learning approach for BI applications …\n",
      "<a class=\"gs_or_sav\" href=\"javascript:void(0)\" role=\"button\" title=\"Save\"><svg class=\"gs_or_svg\" viewbox=\"-1 0 17 16\"><path d=\"M8 11.57l3.824 2.308-1.015-4.35 3.379-2.926-4.45-.378L8 2.122 6.261 6.224l-4.449.378 3.379 2.926-1.015 4.35z\"></path></svg></a>\n",
      " \n",
      "<a aria-controls=\"gs_cit\" aria-haspopup=\"true\" class=\"gs_or_cit gs_nph\" href=\"javascript:void(0)\" role=\"button\" title=\"Cite\"><svg class=\"gs_or_svg\" viewbox=\"-1 0 17 16\"><path d=\"M1.5 3.5v5h2v.375L1.75 12.5h3L6.5 8.875V3.5zM9.5 3.5v5h2v.375L9.75 12.5h3L14.5 8.875V3.5z\"></path></svg></a>\n",
      " \n",
      "<a href=\"/scholar?cites=17844967026485449342&amp;as_sdt=2005&amp;sciodt=0,5&amp;hl=en\">Cited by 50</a>\n",
      " \n",
      "<a href=\"/scholar?q=related:flI5wvYOpvcJ:scholar.google.com/&amp;scioq=stock+prediction+machine&amp;hl=en&amp;as_sdt=0,5\">Related articles</a>\n",
      " \n",
      "<a class=\"gs_nph\" href=\"/scholar?cluster=17844967026485449342&amp;hl=en&amp;as_sdt=0,5\">All 5 versions</a>\n",
      " \n",
      "<a class=\"gs_or_mor gs_oph\" href=\"javascript:void(0)\" role=\"button\" title=\"More\"><svg class=\"gs_or_svg\" viewbox=\"-1 0 17 16\"><path d=\"M1.5 5.5l2-2L8 8l-4.5 4.5-2-2L4 8zM8.5 5.5l2-2L15 8l-4.5 4.5-2-2L11 8z\"></path></svg></a>\n",
      " \n",
      "<a class=\"gs_or_nvi gs_or_mor\" href=\"javascript:void(0)\" role=\"button\" title=\"Fewer\"><svg class=\"gs_or_svg\" viewbox=\"0 0 17 16\"><path d=\"M8.5 5.5l-2-2L2 8l4.5 4.5 2-2L6 8zM15.5 5.5l-2-2L9 8l4.5 4.5 2-2L13 8z\"></path></svg></a>\n",
      "\n",
      "8\n",
      "PDF\n",
      "The main objective of this research is to predict the market performance of Karachi Stock Exchange (KSE) on day closing using different machine learning techniques. The prediction model uses different attributes as an input and predicts market as Positive & Negative. The …\n",
      "<a class=\"gs_or_sav\" href=\"javascript:void(0)\" role=\"button\" title=\"Save\"><svg class=\"gs_or_svg\" viewbox=\"-1 0 17 16\"><path d=\"M8 11.57l3.824 2.308-1.015-4.35 3.379-2.926-4.45-.378L8 2.122 6.261 6.224l-4.449.378 3.379 2.926-1.015 4.35z\"></path></svg></a>\n",
      " \n",
      "<a aria-controls=\"gs_cit\" aria-haspopup=\"true\" class=\"gs_or_cit gs_nph\" href=\"javascript:void(0)\" role=\"button\" title=\"Cite\"><svg class=\"gs_or_svg\" viewbox=\"-1 0 17 16\"><path d=\"M1.5 3.5v5h2v.375L1.75 12.5h3L6.5 8.875V3.5zM9.5 3.5v5h2v.375L9.75 12.5h3L14.5 8.875V3.5z\"></path></svg></a>\n",
      " \n",
      "<a href=\"/scholar?cites=6448709657058236343&amp;as_sdt=2005&amp;sciodt=0,5&amp;hl=en\">Cited by 46</a>\n",
      " \n",
      "<a href=\"/scholar?q=related:t1eWMERrflkJ:scholar.google.com/&amp;scioq=stock+prediction+machine&amp;hl=en&amp;as_sdt=0,5\">Related articles</a>\n",
      " \n",
      "<a class=\"gs_nph\" href=\"/scholar?cluster=6448709657058236343&amp;hl=en&amp;as_sdt=0,5\">All 2 versions</a>\n",
      " \n",
      "<a class=\"gs_or_mor gs_oph\" href=\"javascript:void(0)\" role=\"button\" title=\"More\"><svg class=\"gs_or_svg\" viewbox=\"-1 0 17 16\"><path d=\"M1.5 5.5l2-2L8 8l-4.5 4.5-2-2L4 8zM8.5 5.5l2-2L15 8l-4.5 4.5-2-2L11 8z\"></path></svg></a>\n",
      " \n",
      "<a class=\"gs_or_nvi gs_or_mor\" href=\"javascript:void(0)\" role=\"button\" title=\"Fewer\"><svg class=\"gs_or_svg\" viewbox=\"0 0 17 16\"><path d=\"M8.5 5.5l-2-2L2 8l4.5 4.5 2-2L6 8zM15.5 5.5l-2-2L9 8l4.5 4.5 2-2L13 8z\"></path></svg></a>\n",
      "\n",
      "9\n",
      "PDF\n",
      "Abstract Recently, Support Vector Regression (SVR) has been introduced to solve regression and prediction problems. In this paper, we apply SVR to financial prediction tasks. In particular, the financial data are usually noisy and the associated risk is time …\n",
      "<a class=\"gs_or_sav\" href=\"javascript:void(0)\" role=\"button\" title=\"Save\"><svg class=\"gs_or_svg\" viewbox=\"-1 0 17 16\"><path d=\"M8 11.57l3.824 2.308-1.015-4.35 3.379-2.926-4.45-.378L8 2.122 6.261 6.224l-4.449.378 3.379 2.926-1.015 4.35z\"></path></svg></a>\n",
      " \n",
      "<a aria-controls=\"gs_cit\" aria-haspopup=\"true\" class=\"gs_or_cit gs_nph\" href=\"javascript:void(0)\" role=\"button\" title=\"Cite\"><svg class=\"gs_or_svg\" viewbox=\"-1 0 17 16\"><path d=\"M1.5 3.5v5h2v.375L1.75 12.5h3L6.5 8.875V3.5zM9.5 3.5v5h2v.375L9.75 12.5h3L14.5 8.875V3.5z\"></path></svg></a>\n",
      " \n",
      "<a href=\"/scholar?cites=14888258103949019682&amp;as_sdt=2005&amp;sciodt=0,5&amp;hl=en\">Cited by 227</a>\n",
      " \n",
      "<a href=\"/scholar?q=related:Iko2Ot23nc4J:scholar.google.com/&amp;scioq=stock+prediction+machine&amp;hl=en&amp;as_sdt=0,5\">Related articles</a>\n",
      " \n",
      "<a class=\"gs_nph\" href=\"/scholar?cluster=14888258103949019682&amp;hl=en&amp;as_sdt=0,5\">All 20 versions</a>\n",
      " \n",
      "<a class=\"gs_or_mor gs_oph\" href=\"javascript:void(0)\" role=\"button\" title=\"More\"><svg class=\"gs_or_svg\" viewbox=\"-1 0 17 16\"><path d=\"M1.5 5.5l2-2L8 8l-4.5 4.5-2-2L4 8zM8.5 5.5l2-2L15 8l-4.5 4.5-2-2L11 8z\"></path></svg></a>\n",
      " \n",
      "<a class=\"gs_or_nvi gs_or_mor\" href=\"javascript:void(0)\" role=\"button\" title=\"Fewer\"><svg class=\"gs_or_svg\" viewbox=\"0 0 17 16\"><path d=\"M8.5 5.5l-2-2L2 8l4.5 4.5 2-2L6 8zM15.5 5.5l-2-2L9 8l4.5 4.5 2-2L13 8z\"></path></svg></a>\n",
      "\n",
      "10\n",
      "PDF\n",
      "This study investigates stock market indices prediction that is an interesting and important research in the areas of investment and applications, as it can get more profits and returns at lower risk rate with effective exchange strategies. To realize accurate prediction, various …\n",
      "<a class=\"gs_or_sav\" href=\"javascript:void(0)\" role=\"button\" title=\"Save\"><svg class=\"gs_or_svg\" viewbox=\"-1 0 17 16\"><path d=\"M8 11.57l3.824 2.308-1.015-4.35 3.379-2.926-4.45-.378L8 2.122 6.261 6.224l-4.449.378 3.379 2.926-1.015 4.35z\"></path></svg></a>\n",
      " \n",
      "<a aria-controls=\"gs_cit\" aria-haspopup=\"true\" class=\"gs_or_cit gs_nph\" href=\"javascript:void(0)\" role=\"button\" title=\"Cite\"><svg class=\"gs_or_svg\" viewbox=\"-1 0 17 16\"><path d=\"M1.5 3.5v5h2v.375L1.75 12.5h3L6.5 8.875V3.5zM9.5 3.5v5h2v.375L9.75 12.5h3L14.5 8.875V3.5z\"></path></svg></a>\n",
      " \n",
      "<a href=\"/scholar?cites=711139999020076963&amp;as_sdt=2005&amp;sciodt=0,5&amp;hl=en\">Cited by 174</a>\n",
      " \n",
      "<a href=\"/scholar?q=related:o88psw963gkJ:scholar.google.com/&amp;scioq=stock+prediction+machine&amp;hl=en&amp;as_sdt=0,5\">Related articles</a>\n",
      " \n",
      "<a class=\"gs_nph\" href=\"/scholar?cluster=711139999020076963&amp;hl=en&amp;as_sdt=0,5\">All 4 versions</a>\n",
      " \n",
      "<a class=\"gs_or_mor gs_oph\" href=\"javascript:void(0)\" role=\"button\" title=\"More\"><svg class=\"gs_or_svg\" viewbox=\"-1 0 17 16\"><path d=\"M1.5 5.5l2-2L8 8l-4.5 4.5-2-2L4 8zM8.5 5.5l2-2L15 8l-4.5 4.5-2-2L11 8z\"></path></svg></a>\n",
      " \n",
      "<a class=\"gs_or_nvi gs_or_mor\" href=\"javascript:void(0)\" role=\"button\" title=\"Fewer\"><svg class=\"gs_or_svg\" viewbox=\"0 0 17 16\"><path d=\"M8.5 5.5l-2-2L2 8l4.5 4.5 2-2L6 8zM15.5 5.5l-2-2L9 8l4.5 4.5 2-2L13 8z\"></path></svg></a>\n",
      "\n"
     ]
    }
   ],
   "source": [
    "counter = 1\n",
    "\n",
    "for article in soup.find_all(class_=\"gs_ri\"):\n",
    "    print(counter)\n",
    "    \n",
    "    #Can I get a PDF\n",
    "    if \"PDF\" in soup.find(class_=\"gs_ct1\").text:\n",
    "        print(\"PDF\")\n",
    "        \n",
    "    #Summary\n",
    "    print(article.find(class_=\"gs_rs\").text)\n",
    "    \n",
    "    #Citattions\n",
    "    #for i in article.find(class_=\"gs_fl\"):\n",
    "        #print(i)\n",
    "\n",
    "    \n",
    "    \n",
    "    counter += 1\n",
    "    print()"
   ]
  },
  {
   "cell_type": "code",
   "execution_count": null,
   "metadata": {},
   "outputs": [],
   "source": []
  }
 ],
 "metadata": {
  "kernelspec": {
   "display_name": "Python 3",
   "language": "python",
   "name": "python3"
  },
  "language_info": {
   "codemirror_mode": {
    "name": "ipython",
    "version": 3
   },
   "file_extension": ".py",
   "mimetype": "text/x-python",
   "name": "python",
   "nbconvert_exporter": "python",
   "pygments_lexer": "ipython3",
   "version": "3.7.4"
  },
  "toc": {
   "base_numbering": 1,
   "nav_menu": {},
   "number_sections": true,
   "sideBar": true,
   "skip_h1_title": false,
   "title_cell": "Table of Contents",
   "title_sidebar": "Contents",
   "toc_cell": false,
   "toc_position": {},
   "toc_section_display": true,
   "toc_window_display": false
  }
 },
 "nbformat": 4,
 "nbformat_minor": 2
}
