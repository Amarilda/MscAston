{
 "cells": [
  {
   "cell_type": "code",
   "execution_count": 1,
   "metadata": {
    "ExecuteTime": {
     "end_time": "2021-05-30T07:06:50.322984Z",
     "start_time": "2021-05-30T07:06:46.837074Z"
    }
   },
   "outputs": [],
   "source": [
    "import numpy as np\n",
    "import pandas as pd\n",
    "import sqlite3"
   ]
  },
  {
   "cell_type": "markdown",
   "metadata": {},
   "source": [
    "# Merge"
   ]
  },
  {
   "cell_type": "code",
   "execution_count": 2,
   "metadata": {
    "ExecuteTime": {
     "end_time": "2021-05-30T07:07:07.464702Z",
     "start_time": "2021-05-30T07:07:06.546627Z"
    }
   },
   "outputs": [
    {
     "name": "stdout",
     "output_type": "stream",
     "text": [
      "(148, 31)\n"
     ]
    },
    {
     "data": {
      "text/html": [
       "<div>\n",
       "<style scoped>\n",
       "    .dataframe tbody tr th:only-of-type {\n",
       "        vertical-align: middle;\n",
       "    }\n",
       "\n",
       "    .dataframe tbody tr th {\n",
       "        vertical-align: top;\n",
       "    }\n",
       "\n",
       "    .dataframe thead th {\n",
       "        text-align: right;\n",
       "    }\n",
       "</style>\n",
       "<table border=\"1\" class=\"dataframe\">\n",
       "  <thead>\n",
       "    <tr style=\"text-align: right;\">\n",
       "      <th></th>\n",
       "      <th>date</th>\n",
       "      <th>top1</th>\n",
       "      <th>top2</th>\n",
       "      <th>top3</th>\n",
       "      <th>top4</th>\n",
       "      <th>top5</th>\n",
       "      <th>top6</th>\n",
       "      <th>top7</th>\n",
       "      <th>top8</th>\n",
       "      <th>top9</th>\n",
       "      <th>...</th>\n",
       "      <th>top21</th>\n",
       "      <th>top22</th>\n",
       "      <th>top23</th>\n",
       "      <th>top24</th>\n",
       "      <th>top25</th>\n",
       "      <th>top26</th>\n",
       "      <th>top27</th>\n",
       "      <th>top28</th>\n",
       "      <th>top29</th>\n",
       "      <th>top30</th>\n",
       "    </tr>\n",
       "  </thead>\n",
       "  <tbody>\n",
       "    <tr>\n",
       "      <th>143</th>\n",
       "      <td>2021-05-25</td>\n",
       "      <td>Belarus had KGB agents on the passenger plane ...</td>\n",
       "      <td>Tesla Fined $16K Per Owner for Throttling Batt...</td>\n",
       "      <td>Lativian airline airBaltic says is no longer u...</td>\n",
       "      <td>Lithuania to demand Belarus airspace closed to...</td>\n",
       "      <td>UK aircraft ordered to avoid Belarus airspace ...</td>\n",
       "      <td>Samoa Elected Its First Female Leader. Parliam...</td>\n",
       "      <td>Knesset advances bill to limit prime minister ...</td>\n",
       "      <td>Paris proposes to ban Belarusian airspace</td>\n",
       "      <td>Indigenous woman named New Zealand's next gove...</td>\n",
       "      <td>...</td>\n",
       "      <td>Fury over “state piracy” as West weighs action...</td>\n",
       "      <td>Israeli police launches wave of mass arrests a...</td>\n",
       "      <td>Samoa swears in first female leader in a tent ...</td>\n",
       "      <td>Belarusian journalist reportedly pleaded with ...</td>\n",
       "      <td>European Union leaders on Monday agreed on a s...</td>\n",
       "      <td>China accuses US of hyping theory Coronavirus ...</td>\n",
       "      <td>Belarus points to Hamas bomb threat in plane d...</td>\n",
       "      <td>Customers call out banks for increasing fees d...</td>\n",
       "      <td>North Korea bans mullet haircuts, nose piercin...</td>\n",
       "      <td>The American editor of a news site in military...</td>\n",
       "    </tr>\n",
       "    <tr>\n",
       "      <th>144</th>\n",
       "      <td>2021-05-26</td>\n",
       "      <td>EU locks out Belarus from international aviation</td>\n",
       "      <td>Ireland to become the first EU state to label ...</td>\n",
       "      <td>Soldier who called on troops to refuse vaccine...</td>\n",
       "      <td>'High Probability' Belarus Agents Torturing Jo...</td>\n",
       "      <td>Agency linked to Russia offered thousands to F...</td>\n",
       "      <td>‘We don’t have time’: scientists urge B.C. to ...</td>\n",
       "      <td>Jailed Navalny says Russia has launched three ...</td>\n",
       "      <td>Belarus closing Canadian embassy as PM Trudeau...</td>\n",
       "      <td>Belarus bans journalists from live reporting a...</td>\n",
       "      <td>...</td>\n",
       "      <td>Singapore Airlines reroutes flights to avoid B...</td>\n",
       "      <td>Lithuania asks UN agency to declare Belarusian...</td>\n",
       "      <td>Huge cemetery with at least 250 rock-cut tombs...</td>\n",
       "      <td>American journalist detained in Myanmar while ...</td>\n",
       "      <td>‘A huge surprise’ as giant river otter feared ...</td>\n",
       "      <td>UN poised to approve war crimes probe into Isr...</td>\n",
       "      <td>Tasmanian devils have been born in the wild on...</td>\n",
       "      <td>Social media platforms Facebook, Twitter and I...</td>\n",
       "      <td>Gazans outraged after UNRWA director says IDF ...</td>\n",
       "      <td>Italy orders four Egyptian security officials ...</td>\n",
       "    </tr>\n",
       "    <tr>\n",
       "      <th>145</th>\n",
       "      <td>2021-05-27</td>\n",
       "      <td>Boris Johnson wanted to be infected with Covid...</td>\n",
       "      <td>Shell ordered to reduce emissions by 45% by 20...</td>\n",
       "      <td>Irish government passes motion condemning Isra...</td>\n",
       "      <td>Tasmanian devils born on Australian mainland f...</td>\n",
       "      <td>Niece of Prominent Uyghur Scholar Confirmed to...</td>\n",
       "      <td>Belarus threatens to flood Europe with migrant...</td>\n",
       "      <td>Lukashenko is 'turning Belarus into the North ...</td>\n",
       "      <td>Iran is enriching uranium at levels 'only coun...</td>\n",
       "      <td>Ukraine bans electricity imports from Russia, ...</td>\n",
       "      <td>...</td>\n",
       "      <td>Belarus president claims Ryanair plane bomb wa...</td>\n",
       "      <td>Mexico: Builders bulldozing outskirts of Teoti...</td>\n",
       "      <td>Immunity to the Coronavirus May Persist for Ye...</td>\n",
       "      <td>Russia is still the biggest player in disinfor...</td>\n",
       "      <td>Qatar pledges $500 million for postwar constru...</td>\n",
       "      <td>Tim Hortons threatened by living-wage and unio...</td>\n",
       "      <td>New bill could end Hong Kong’s days as an ille...</td>\n",
       "      <td>China overtakes Germany as UK's top import market</td>\n",
       "      <td>Scientists partially restore blind man's visio...</td>\n",
       "      <td>Taiwan's Taipei City Hospital workers plead fo...</td>\n",
       "    </tr>\n",
       "    <tr>\n",
       "      <th>146</th>\n",
       "      <td>2021-05-28</td>\n",
       "      <td>'This Is the Price of War': Israeli Newspaper ...</td>\n",
       "      <td>‘Bomb Threat' That Justified Belarus Hijacking...</td>\n",
       "      <td>Japan doctors union warns Olympics could lead ...</td>\n",
       "      <td>Hong Kong police officially ban Tiananmen Mass...</td>\n",
       "      <td>Russia prohibits Austrian Airlines flight to a...</td>\n",
       "      <td>Remains of 215 children found at former reside...</td>\n",
       "      <td>Russia refuses to allow European planes to lan...</td>\n",
       "      <td>Egypt invites Israel and Hamas for direct talk...</td>\n",
       "      <td>Germany, Norway flip switch on $2.4B undersea ...</td>\n",
       "      <td>...</td>\n",
       "      <td>Japan doctors union warns games could lead to ...</td>\n",
       "      <td>Iranian rights activist and journalist Narges ...</td>\n",
       "      <td>Sweden’s gun violence rate has soared due to g...</td>\n",
       "      <td>UN rights council orders unprecedented open-en...</td>\n",
       "      <td>Germany for the first time recognized it had c...</td>\n",
       "      <td>UN rights body debates ‘systematic discriminat...</td>\n",
       "      <td>Tech giants told to stop making money from dis...</td>\n",
       "      <td>Israel rejects US plan to reopen consulate for...</td>\n",
       "      <td>Japan ruling party seeks big defense budget ri...</td>\n",
       "      <td>Macron recognises French ‘responsibility’ in R...</td>\n",
       "    </tr>\n",
       "    <tr>\n",
       "      <th>147</th>\n",
       "      <td>2021-05-30</td>\n",
       "      <td>Up to 5 years prison for attending Tiananmen M...</td>\n",
       "      <td>Tens of thousands of Brazilians march to deman...</td>\n",
       "      <td>Filipino scientist takes first ever journey to...</td>\n",
       "      <td>Chinese city locks down neighborhood after vir...</td>\n",
       "      <td>India also suffering from a “white fungus” inf...</td>\n",
       "      <td>Orphans have 'volunteered' to work in coal min...</td>\n",
       "      <td>Bennett to announce he's joining opposition to...</td>\n",
       "      <td>U.S. troops charged with guarding nuclear weap...</td>\n",
       "      <td>Europe sees dramatic fall in virus cases</td>\n",
       "      <td>...</td>\n",
       "      <td>Iranian Agents linked to Terrorist plot in Swe...</td>\n",
       "      <td>Colombia politician tells protesters hurt by p...</td>\n",
       "      <td>Risk of brain-eating amoeba, flesh-eating bact...</td>\n",
       "      <td>Number of smokers worldwide has reached all-ti...</td>\n",
       "      <td>US to work with EU on targeted sanctions for B...</td>\n",
       "      <td>Illegal miners fire shots, burn homes in Mundu...</td>\n",
       "      <td>Democratic Republic of Congo hit with 61 earth...</td>\n",
       "      <td>Backlash as skin-coloured stamps priced differ...</td>\n",
       "      <td>Humans Could Live up to 150 Years, New Researc...</td>\n",
       "      <td>Indigenous people in Canada grapple with ‘unth...</td>\n",
       "    </tr>\n",
       "  </tbody>\n",
       "</table>\n",
       "<p>5 rows × 31 columns</p>\n",
       "</div>"
      ],
      "text/plain": [
       "           date                                               top1  \\\n",
       "143  2021-05-25  Belarus had KGB agents on the passenger plane ...   \n",
       "144  2021-05-26   EU locks out Belarus from international aviation   \n",
       "145  2021-05-27  Boris Johnson wanted to be infected with Covid...   \n",
       "146  2021-05-28  'This Is the Price of War': Israeli Newspaper ...   \n",
       "147  2021-05-30  Up to 5 years prison for attending Tiananmen M...   \n",
       "\n",
       "                                                  top2  \\\n",
       "143  Tesla Fined $16K Per Owner for Throttling Batt...   \n",
       "144  Ireland to become the first EU state to label ...   \n",
       "145  Shell ordered to reduce emissions by 45% by 20...   \n",
       "146  ‘Bomb Threat' That Justified Belarus Hijacking...   \n",
       "147  Tens of thousands of Brazilians march to deman...   \n",
       "\n",
       "                                                  top3  \\\n",
       "143  Lativian airline airBaltic says is no longer u...   \n",
       "144  Soldier who called on troops to refuse vaccine...   \n",
       "145  Irish government passes motion condemning Isra...   \n",
       "146  Japan doctors union warns Olympics could lead ...   \n",
       "147  Filipino scientist takes first ever journey to...   \n",
       "\n",
       "                                                  top4  \\\n",
       "143  Lithuania to demand Belarus airspace closed to...   \n",
       "144  'High Probability' Belarus Agents Torturing Jo...   \n",
       "145  Tasmanian devils born on Australian mainland f...   \n",
       "146  Hong Kong police officially ban Tiananmen Mass...   \n",
       "147  Chinese city locks down neighborhood after vir...   \n",
       "\n",
       "                                                  top5  \\\n",
       "143  UK aircraft ordered to avoid Belarus airspace ...   \n",
       "144  Agency linked to Russia offered thousands to F...   \n",
       "145  Niece of Prominent Uyghur Scholar Confirmed to...   \n",
       "146  Russia prohibits Austrian Airlines flight to a...   \n",
       "147  India also suffering from a “white fungus” inf...   \n",
       "\n",
       "                                                  top6  \\\n",
       "143  Samoa Elected Its First Female Leader. Parliam...   \n",
       "144  ‘We don’t have time’: scientists urge B.C. to ...   \n",
       "145  Belarus threatens to flood Europe with migrant...   \n",
       "146  Remains of 215 children found at former reside...   \n",
       "147  Orphans have 'volunteered' to work in coal min...   \n",
       "\n",
       "                                                  top7  \\\n",
       "143  Knesset advances bill to limit prime minister ...   \n",
       "144  Jailed Navalny says Russia has launched three ...   \n",
       "145  Lukashenko is 'turning Belarus into the North ...   \n",
       "146  Russia refuses to allow European planes to lan...   \n",
       "147  Bennett to announce he's joining opposition to...   \n",
       "\n",
       "                                                  top8  \\\n",
       "143          Paris proposes to ban Belarusian airspace   \n",
       "144  Belarus closing Canadian embassy as PM Trudeau...   \n",
       "145  Iran is enriching uranium at levels 'only coun...   \n",
       "146  Egypt invites Israel and Hamas for direct talk...   \n",
       "147  U.S. troops charged with guarding nuclear weap...   \n",
       "\n",
       "                                                  top9  ...  \\\n",
       "143  Indigenous woman named New Zealand's next gove...  ...   \n",
       "144  Belarus bans journalists from live reporting a...  ...   \n",
       "145  Ukraine bans electricity imports from Russia, ...  ...   \n",
       "146  Germany, Norway flip switch on $2.4B undersea ...  ...   \n",
       "147           Europe sees dramatic fall in virus cases  ...   \n",
       "\n",
       "                                                 top21  \\\n",
       "143  Fury over “state piracy” as West weighs action...   \n",
       "144  Singapore Airlines reroutes flights to avoid B...   \n",
       "145  Belarus president claims Ryanair plane bomb wa...   \n",
       "146  Japan doctors union warns games could lead to ...   \n",
       "147  Iranian Agents linked to Terrorist plot in Swe...   \n",
       "\n",
       "                                                 top22  \\\n",
       "143  Israeli police launches wave of mass arrests a...   \n",
       "144  Lithuania asks UN agency to declare Belarusian...   \n",
       "145  Mexico: Builders bulldozing outskirts of Teoti...   \n",
       "146  Iranian rights activist and journalist Narges ...   \n",
       "147  Colombia politician tells protesters hurt by p...   \n",
       "\n",
       "                                                 top23  \\\n",
       "143  Samoa swears in first female leader in a tent ...   \n",
       "144  Huge cemetery with at least 250 rock-cut tombs...   \n",
       "145  Immunity to the Coronavirus May Persist for Ye...   \n",
       "146  Sweden’s gun violence rate has soared due to g...   \n",
       "147  Risk of brain-eating amoeba, flesh-eating bact...   \n",
       "\n",
       "                                                 top24  \\\n",
       "143  Belarusian journalist reportedly pleaded with ...   \n",
       "144  American journalist detained in Myanmar while ...   \n",
       "145  Russia is still the biggest player in disinfor...   \n",
       "146  UN rights council orders unprecedented open-en...   \n",
       "147  Number of smokers worldwide has reached all-ti...   \n",
       "\n",
       "                                                 top25  \\\n",
       "143  European Union leaders on Monday agreed on a s...   \n",
       "144  ‘A huge surprise’ as giant river otter feared ...   \n",
       "145  Qatar pledges $500 million for postwar constru...   \n",
       "146  Germany for the first time recognized it had c...   \n",
       "147  US to work with EU on targeted sanctions for B...   \n",
       "\n",
       "                                                 top26  \\\n",
       "143  China accuses US of hyping theory Coronavirus ...   \n",
       "144  UN poised to approve war crimes probe into Isr...   \n",
       "145  Tim Hortons threatened by living-wage and unio...   \n",
       "146  UN rights body debates ‘systematic discriminat...   \n",
       "147  Illegal miners fire shots, burn homes in Mundu...   \n",
       "\n",
       "                                                 top27  \\\n",
       "143  Belarus points to Hamas bomb threat in plane d...   \n",
       "144  Tasmanian devils have been born in the wild on...   \n",
       "145  New bill could end Hong Kong’s days as an ille...   \n",
       "146  Tech giants told to stop making money from dis...   \n",
       "147  Democratic Republic of Congo hit with 61 earth...   \n",
       "\n",
       "                                                 top28  \\\n",
       "143  Customers call out banks for increasing fees d...   \n",
       "144  Social media platforms Facebook, Twitter and I...   \n",
       "145  China overtakes Germany as UK's top import market   \n",
       "146  Israel rejects US plan to reopen consulate for...   \n",
       "147  Backlash as skin-coloured stamps priced differ...   \n",
       "\n",
       "                                                 top29  \\\n",
       "143  North Korea bans mullet haircuts, nose piercin...   \n",
       "144  Gazans outraged after UNRWA director says IDF ...   \n",
       "145  Scientists partially restore blind man's visio...   \n",
       "146  Japan ruling party seeks big defense budget ri...   \n",
       "147  Humans Could Live up to 150 Years, New Researc...   \n",
       "\n",
       "                                                 top30  \n",
       "143  The American editor of a news site in military...  \n",
       "144  Italy orders four Egyptian security officials ...  \n",
       "145  Taiwan's Taipei City Hospital workers plead fo...  \n",
       "146  Macron recognises French ‘responsibility’ in R...  \n",
       "147  Indigenous people in Canada grapple with ‘unth...  \n",
       "\n",
       "[5 rows x 31 columns]"
      ]
     },
     "execution_count": 2,
     "metadata": {},
     "output_type": "execute_result"
    }
   ],
   "source": [
    "connection = sqlite3.connect('MSC.db')\n",
    "cursor = connection.cursor()\n",
    "\n",
    "sql = ('''Select distinct\n",
    "            main.date,\n",
    "            top1,top2,top3,top4,top5,\n",
    "            top6,top7,top8,top9,top10,\n",
    "            top11,top12,top13,top14,top15,\n",
    "            top16,top17,top18,top19,top20,\n",
    "            top21,top22,top23,top24,top25,\n",
    "            top26,top27,top28,top29,top30\n",
    "            \n",
    "\n",
    "\n",
    "            from main\n",
    "            \n",
    "\n",
    "       ''')\n",
    "df = pd.read_sql_query(sql,connection)\n",
    "print(df.shape)\n",
    "df.tail()"
   ]
  },
  {
   "cell_type": "markdown",
   "metadata": {
    "ExecuteTime": {
     "end_time": "2021-05-22T08:40:32.415698Z",
     "start_time": "2021-05-22T08:40:32.407786Z"
    }
   },
   "source": [
    "for i  in df.iloc[138]:\n",
    "    print(i)\n",
    "    print()"
   ]
  },
  {
   "cell_type": "code",
   "execution_count": 12,
   "metadata": {
    "ExecuteTime": {
     "end_time": "2021-05-30T07:09:42.563583Z",
     "start_time": "2021-05-30T07:09:42.500512Z"
    }
   },
   "outputs": [
    {
     "name": "stdout",
     "output_type": "stream",
     "text": [
      "(148, 31)\n"
     ]
    },
    {
     "data": {
      "text/html": [
       "<div>\n",
       "<style scoped>\n",
       "    .dataframe tbody tr th:only-of-type {\n",
       "        vertical-align: middle;\n",
       "    }\n",
       "\n",
       "    .dataframe tbody tr th {\n",
       "        vertical-align: top;\n",
       "    }\n",
       "\n",
       "    .dataframe thead th {\n",
       "        text-align: right;\n",
       "    }\n",
       "</style>\n",
       "<table border=\"1\" class=\"dataframe\">\n",
       "  <thead>\n",
       "    <tr style=\"text-align: right;\">\n",
       "      <th></th>\n",
       "      <th>date</th>\n",
       "      <th>top1</th>\n",
       "      <th>top2</th>\n",
       "      <th>top3</th>\n",
       "      <th>top4</th>\n",
       "      <th>top5</th>\n",
       "      <th>top6</th>\n",
       "      <th>top7</th>\n",
       "      <th>top8</th>\n",
       "      <th>top9</th>\n",
       "      <th>...</th>\n",
       "      <th>top21</th>\n",
       "      <th>top22</th>\n",
       "      <th>top23</th>\n",
       "      <th>top24</th>\n",
       "      <th>top25</th>\n",
       "      <th>top26</th>\n",
       "      <th>top27</th>\n",
       "      <th>top28</th>\n",
       "      <th>top29</th>\n",
       "      <th>top30</th>\n",
       "    </tr>\n",
       "  </thead>\n",
       "  <tbody>\n",
       "    <tr>\n",
       "      <th>143</th>\n",
       "      <td>2021-05-25</td>\n",
       "      <td>Belarus had KGB agents on the passenger plane ...</td>\n",
       "      <td>Tesla Fined $16K Per Owner for Throttling Batt...</td>\n",
       "      <td>Lativian airline airBaltic says is no longer u...</td>\n",
       "      <td>Lithuania to demand Belarus airspace closed to...</td>\n",
       "      <td>UK aircraft ordered to avoid Belarus airspace ...</td>\n",
       "      <td>Samoa Elected Its First Female Leader. Parliam...</td>\n",
       "      <td>Knesset advances bill to limit prime minister ...</td>\n",
       "      <td>Paris proposes to ban Belarusian airspace</td>\n",
       "      <td>Indigenous woman named New Zealand's next gove...</td>\n",
       "      <td>...</td>\n",
       "      <td>Fury over “state piracy” as West weighs action...</td>\n",
       "      <td>Israeli police launches wave of mass arrests a...</td>\n",
       "      <td>Samoa swears in first female leader in a tent ...</td>\n",
       "      <td>Belarusian journalist reportedly pleaded with ...</td>\n",
       "      <td>European Union leaders on Monday agreed on a s...</td>\n",
       "      <td>China accuses US of hyping theory Coronavirus ...</td>\n",
       "      <td>Belarus points to Hamas bomb threat in plane d...</td>\n",
       "      <td>Customers call out banks for increasing fees d...</td>\n",
       "      <td>North Korea bans mullet haircuts, nose piercin...</td>\n",
       "      <td>The American editor of a news site in military...</td>\n",
       "    </tr>\n",
       "    <tr>\n",
       "      <th>144</th>\n",
       "      <td>2021-05-26</td>\n",
       "      <td>EU locks out Belarus from international aviation</td>\n",
       "      <td>Ireland to become the first EU state to label ...</td>\n",
       "      <td>Soldier who called on troops to refuse vaccine...</td>\n",
       "      <td>'High Probability' Belarus Agents Torturing Jo...</td>\n",
       "      <td>Agency linked to Russia offered thousands to F...</td>\n",
       "      <td>‘We don’t have time’: scientists urge B.C. to ...</td>\n",
       "      <td>Jailed Navalny says Russia has launched three ...</td>\n",
       "      <td>Belarus closing Canadian embassy as PM Trudeau...</td>\n",
       "      <td>Belarus bans journalists from live reporting a...</td>\n",
       "      <td>...</td>\n",
       "      <td>Singapore Airlines reroutes flights to avoid B...</td>\n",
       "      <td>Lithuania asks UN agency to declare Belarusian...</td>\n",
       "      <td>Huge cemetery with at least 250 rock-cut tombs...</td>\n",
       "      <td>American journalist detained in Myanmar while ...</td>\n",
       "      <td>‘A huge surprise’ as giant river otter feared ...</td>\n",
       "      <td>UN poised to approve war crimes probe into Isr...</td>\n",
       "      <td>Tasmanian devils have been born in the wild on...</td>\n",
       "      <td>Social media platforms Facebook, Twitter and I...</td>\n",
       "      <td>Gazans outraged after UNRWA director says IDF ...</td>\n",
       "      <td>Italy orders four Egyptian security officials ...</td>\n",
       "    </tr>\n",
       "    <tr>\n",
       "      <th>145</th>\n",
       "      <td>2021-05-27</td>\n",
       "      <td>Boris Johnson wanted to be infected with Covid...</td>\n",
       "      <td>Shell ordered to reduce emissions by 45% by 20...</td>\n",
       "      <td>Irish government passes motion condemning Isra...</td>\n",
       "      <td>Tasmanian devils born on Australian mainland f...</td>\n",
       "      <td>Niece of Prominent Uyghur Scholar Confirmed to...</td>\n",
       "      <td>Belarus threatens to flood Europe with migrant...</td>\n",
       "      <td>Lukashenko is 'turning Belarus into the North ...</td>\n",
       "      <td>Iran is enriching uranium at levels 'only coun...</td>\n",
       "      <td>Ukraine bans electricity imports from Russia, ...</td>\n",
       "      <td>...</td>\n",
       "      <td>Belarus president claims Ryanair plane bomb wa...</td>\n",
       "      <td>Mexico: Builders bulldozing outskirts of Teoti...</td>\n",
       "      <td>Immunity to the Coronavirus May Persist for Ye...</td>\n",
       "      <td>Russia is still the biggest player in disinfor...</td>\n",
       "      <td>Qatar pledges $500 million for postwar constru...</td>\n",
       "      <td>Tim Hortons threatened by living-wage and unio...</td>\n",
       "      <td>New bill could end Hong Kong’s days as an ille...</td>\n",
       "      <td>China overtakes Germany as UK's top import market</td>\n",
       "      <td>Scientists partially restore blind man's visio...</td>\n",
       "      <td>Taiwan's Taipei City Hospital workers plead fo...</td>\n",
       "    </tr>\n",
       "    <tr>\n",
       "      <th>146</th>\n",
       "      <td>2021-05-28</td>\n",
       "      <td>'This Is the Price of War': Israeli Newspaper ...</td>\n",
       "      <td>‘Bomb Threat' That Justified Belarus Hijacking...</td>\n",
       "      <td>Japan doctors union warns Olympics could lead ...</td>\n",
       "      <td>Hong Kong police officially ban Tiananmen Mass...</td>\n",
       "      <td>Russia prohibits Austrian Airlines flight to a...</td>\n",
       "      <td>Remains of 215 children found at former reside...</td>\n",
       "      <td>Russia refuses to allow European planes to lan...</td>\n",
       "      <td>Egypt invites Israel and Hamas for direct talk...</td>\n",
       "      <td>Germany, Norway flip switch on $2.4B undersea ...</td>\n",
       "      <td>...</td>\n",
       "      <td>Japan doctors union warns games could lead to ...</td>\n",
       "      <td>Iranian rights activist and journalist Narges ...</td>\n",
       "      <td>Sweden’s gun violence rate has soared due to g...</td>\n",
       "      <td>UN rights council orders unprecedented open-en...</td>\n",
       "      <td>Germany for the first time recognized it had c...</td>\n",
       "      <td>UN rights body debates ‘systematic discriminat...</td>\n",
       "      <td>Tech giants told to stop making money from dis...</td>\n",
       "      <td>Israel rejects US plan to reopen consulate for...</td>\n",
       "      <td>Japan ruling party seeks big defense budget ri...</td>\n",
       "      <td>Macron recognises French ‘responsibility’ in R...</td>\n",
       "    </tr>\n",
       "    <tr>\n",
       "      <th>147</th>\n",
       "      <td>2021-05-30</td>\n",
       "      <td>Up to 5 years prison for attending Tiananmen M...</td>\n",
       "      <td>Tens of thousands of Brazilians march to deman...</td>\n",
       "      <td>Filipino scientist takes first ever journey to...</td>\n",
       "      <td>Chinese city locks down neighborhood after vir...</td>\n",
       "      <td>India also suffering from a “white fungus” inf...</td>\n",
       "      <td>Orphans have 'volunteered' to work in coal min...</td>\n",
       "      <td>Bennett to announce he's joining opposition to...</td>\n",
       "      <td>U.S. troops charged with guarding nuclear weap...</td>\n",
       "      <td>Europe sees dramatic fall in virus cases</td>\n",
       "      <td>...</td>\n",
       "      <td>Iranian Agents linked to Terrorist plot in Swe...</td>\n",
       "      <td>Colombia politician tells protesters hurt by p...</td>\n",
       "      <td>Risk of brain-eating amoeba, flesh-eating bact...</td>\n",
       "      <td>Number of smokers worldwide has reached all-ti...</td>\n",
       "      <td>US to work with EU on targeted sanctions for B...</td>\n",
       "      <td>Illegal miners fire shots, burn homes in Mundu...</td>\n",
       "      <td>Democratic Republic of Congo hit with 61 earth...</td>\n",
       "      <td>Backlash as skin-coloured stamps priced differ...</td>\n",
       "      <td>Humans Could Live up to 150 Years, New Researc...</td>\n",
       "      <td>Indigenous people in Canada grapple with ‘unth...</td>\n",
       "    </tr>\n",
       "  </tbody>\n",
       "</table>\n",
       "<p>5 rows × 31 columns</p>\n",
       "</div>"
      ],
      "text/plain": [
       "           date                                               top1  \\\n",
       "143  2021-05-25  Belarus had KGB agents on the passenger plane ...   \n",
       "144  2021-05-26   EU locks out Belarus from international aviation   \n",
       "145  2021-05-27  Boris Johnson wanted to be infected with Covid...   \n",
       "146  2021-05-28  'This Is the Price of War': Israeli Newspaper ...   \n",
       "147  2021-05-30  Up to 5 years prison for attending Tiananmen M...   \n",
       "\n",
       "                                                  top2  \\\n",
       "143  Tesla Fined $16K Per Owner for Throttling Batt...   \n",
       "144  Ireland to become the first EU state to label ...   \n",
       "145  Shell ordered to reduce emissions by 45% by 20...   \n",
       "146  ‘Bomb Threat' That Justified Belarus Hijacking...   \n",
       "147  Tens of thousands of Brazilians march to deman...   \n",
       "\n",
       "                                                  top3  \\\n",
       "143  Lativian airline airBaltic says is no longer u...   \n",
       "144  Soldier who called on troops to refuse vaccine...   \n",
       "145  Irish government passes motion condemning Isra...   \n",
       "146  Japan doctors union warns Olympics could lead ...   \n",
       "147  Filipino scientist takes first ever journey to...   \n",
       "\n",
       "                                                  top4  \\\n",
       "143  Lithuania to demand Belarus airspace closed to...   \n",
       "144  'High Probability' Belarus Agents Torturing Jo...   \n",
       "145  Tasmanian devils born on Australian mainland f...   \n",
       "146  Hong Kong police officially ban Tiananmen Mass...   \n",
       "147  Chinese city locks down neighborhood after vir...   \n",
       "\n",
       "                                                  top5  \\\n",
       "143  UK aircraft ordered to avoid Belarus airspace ...   \n",
       "144  Agency linked to Russia offered thousands to F...   \n",
       "145  Niece of Prominent Uyghur Scholar Confirmed to...   \n",
       "146  Russia prohibits Austrian Airlines flight to a...   \n",
       "147  India also suffering from a “white fungus” inf...   \n",
       "\n",
       "                                                  top6  \\\n",
       "143  Samoa Elected Its First Female Leader. Parliam...   \n",
       "144  ‘We don’t have time’: scientists urge B.C. to ...   \n",
       "145  Belarus threatens to flood Europe with migrant...   \n",
       "146  Remains of 215 children found at former reside...   \n",
       "147  Orphans have 'volunteered' to work in coal min...   \n",
       "\n",
       "                                                  top7  \\\n",
       "143  Knesset advances bill to limit prime minister ...   \n",
       "144  Jailed Navalny says Russia has launched three ...   \n",
       "145  Lukashenko is 'turning Belarus into the North ...   \n",
       "146  Russia refuses to allow European planes to lan...   \n",
       "147  Bennett to announce he's joining opposition to...   \n",
       "\n",
       "                                                  top8  \\\n",
       "143          Paris proposes to ban Belarusian airspace   \n",
       "144  Belarus closing Canadian embassy as PM Trudeau...   \n",
       "145  Iran is enriching uranium at levels 'only coun...   \n",
       "146  Egypt invites Israel and Hamas for direct talk...   \n",
       "147  U.S. troops charged with guarding nuclear weap...   \n",
       "\n",
       "                                                  top9  ...  \\\n",
       "143  Indigenous woman named New Zealand's next gove...  ...   \n",
       "144  Belarus bans journalists from live reporting a...  ...   \n",
       "145  Ukraine bans electricity imports from Russia, ...  ...   \n",
       "146  Germany, Norway flip switch on $2.4B undersea ...  ...   \n",
       "147           Europe sees dramatic fall in virus cases  ...   \n",
       "\n",
       "                                                 top21  \\\n",
       "143  Fury over “state piracy” as West weighs action...   \n",
       "144  Singapore Airlines reroutes flights to avoid B...   \n",
       "145  Belarus president claims Ryanair plane bomb wa...   \n",
       "146  Japan doctors union warns games could lead to ...   \n",
       "147  Iranian Agents linked to Terrorist plot in Swe...   \n",
       "\n",
       "                                                 top22  \\\n",
       "143  Israeli police launches wave of mass arrests a...   \n",
       "144  Lithuania asks UN agency to declare Belarusian...   \n",
       "145  Mexico: Builders bulldozing outskirts of Teoti...   \n",
       "146  Iranian rights activist and journalist Narges ...   \n",
       "147  Colombia politician tells protesters hurt by p...   \n",
       "\n",
       "                                                 top23  \\\n",
       "143  Samoa swears in first female leader in a tent ...   \n",
       "144  Huge cemetery with at least 250 rock-cut tombs...   \n",
       "145  Immunity to the Coronavirus May Persist for Ye...   \n",
       "146  Sweden’s gun violence rate has soared due to g...   \n",
       "147  Risk of brain-eating amoeba, flesh-eating bact...   \n",
       "\n",
       "                                                 top24  \\\n",
       "143  Belarusian journalist reportedly pleaded with ...   \n",
       "144  American journalist detained in Myanmar while ...   \n",
       "145  Russia is still the biggest player in disinfor...   \n",
       "146  UN rights council orders unprecedented open-en...   \n",
       "147  Number of smokers worldwide has reached all-ti...   \n",
       "\n",
       "                                                 top25  \\\n",
       "143  European Union leaders on Monday agreed on a s...   \n",
       "144  ‘A huge surprise’ as giant river otter feared ...   \n",
       "145  Qatar pledges $500 million for postwar constru...   \n",
       "146  Germany for the first time recognized it had c...   \n",
       "147  US to work with EU on targeted sanctions for B...   \n",
       "\n",
       "                                                 top26  \\\n",
       "143  China accuses US of hyping theory Coronavirus ...   \n",
       "144  UN poised to approve war crimes probe into Isr...   \n",
       "145  Tim Hortons threatened by living-wage and unio...   \n",
       "146  UN rights body debates ‘systematic discriminat...   \n",
       "147  Illegal miners fire shots, burn homes in Mundu...   \n",
       "\n",
       "                                                 top27  \\\n",
       "143  Belarus points to Hamas bomb threat in plane d...   \n",
       "144  Tasmanian devils have been born in the wild on...   \n",
       "145  New bill could end Hong Kong’s days as an ille...   \n",
       "146  Tech giants told to stop making money from dis...   \n",
       "147  Democratic Republic of Congo hit with 61 earth...   \n",
       "\n",
       "                                                 top28  \\\n",
       "143  Customers call out banks for increasing fees d...   \n",
       "144  Social media platforms Facebook, Twitter and I...   \n",
       "145  China overtakes Germany as UK's top import market   \n",
       "146  Israel rejects US plan to reopen consulate for...   \n",
       "147  Backlash as skin-coloured stamps priced differ...   \n",
       "\n",
       "                                                 top29  \\\n",
       "143  North Korea bans mullet haircuts, nose piercin...   \n",
       "144  Gazans outraged after UNRWA director says IDF ...   \n",
       "145  Scientists partially restore blind man's visio...   \n",
       "146  Japan ruling party seeks big defense budget ri...   \n",
       "147  Humans Could Live up to 150 Years, New Researc...   \n",
       "\n",
       "                                                 top30  \n",
       "143  The American editor of a news site in military...  \n",
       "144  Italy orders four Egyptian security officials ...  \n",
       "145  Taiwan's Taipei City Hospital workers plead fo...  \n",
       "146  Macron recognises French ‘responsibility’ in R...  \n",
       "147  Indigenous people in Canada grapple with ‘unth...  \n",
       "\n",
       "[5 rows x 31 columns]"
      ]
     },
     "execution_count": 12,
     "metadata": {},
     "output_type": "execute_result"
    }
   ],
   "source": [
    "connection = sqlite3.connect('MSC.db')\n",
    "cursor = connection.cursor()\n",
    "\n",
    "sql = ('''Select distinct * from main\n",
    "    order by date\n",
    "       ''')\n",
    "df = pd.read_sql_query(sql,connection)\n",
    "print(df.shape)\n",
    "df.tail()"
   ]
  },
  {
   "cell_type": "code",
   "execution_count": 21,
   "metadata": {
    "ExecuteTime": {
     "end_time": "2021-05-22T08:43:41.314664Z",
     "start_time": "2021-05-22T08:43:40.773624Z"
    }
   },
   "outputs": [
    {
     "name": "stdout",
     "output_type": "stream",
     "text": [
      "(52468, 8)\n"
     ]
    },
    {
     "data": {
      "text/html": [
       "<div>\n",
       "<style scoped>\n",
       "    .dataframe tbody tr th:only-of-type {\n",
       "        vertical-align: middle;\n",
       "    }\n",
       "\n",
       "    .dataframe tbody tr th {\n",
       "        vertical-align: top;\n",
       "    }\n",
       "\n",
       "    .dataframe thead th {\n",
       "        text-align: right;\n",
       "    }\n",
       "</style>\n",
       "<table border=\"1\" class=\"dataframe\">\n",
       "  <thead>\n",
       "    <tr style=\"text-align: right;\">\n",
       "      <th></th>\n",
       "      <th>date</th>\n",
       "      <th>open</th>\n",
       "      <th>high</th>\n",
       "      <th>low</th>\n",
       "      <th>close</th>\n",
       "      <th>adj_close</th>\n",
       "      <th>volume</th>\n",
       "      <th>symbol</th>\n",
       "    </tr>\n",
       "  </thead>\n",
       "  <tbody>\n",
       "    <tr>\n",
       "      <th>51961</th>\n",
       "      <td>2021-05-20 00:00:00</td>\n",
       "      <td>33,906.30</td>\n",
       "      <td>34,233.40</td>\n",
       "      <td>33,872.41</td>\n",
       "      <td>34,084.15</td>\n",
       "      <td>34,084.15</td>\n",
       "      <td>320,150,000</td>\n",
       "      <td>^DJI</td>\n",
       "    </tr>\n",
       "    <tr>\n",
       "      <th>51962</th>\n",
       "      <td>2021-05-20 00:00:00</td>\n",
       "      <td>4,121.97</td>\n",
       "      <td>4,172.80</td>\n",
       "      <td>4,121.97</td>\n",
       "      <td>4,159.12</td>\n",
       "      <td>4,159.12</td>\n",
       "      <td>3,019,060,000</td>\n",
       "      <td>^GSPC</td>\n",
       "    </tr>\n",
       "    <tr>\n",
       "      <th>51963</th>\n",
       "      <td>2021-05-21 00:00:00</td>\n",
       "      <td>132.67</td>\n",
       "      <td>134.13</td>\n",
       "      <td>132.22</td>\n",
       "      <td>132.30</td>\n",
       "      <td>132.30</td>\n",
       "      <td>1,445,900</td>\n",
       "      <td>A</td>\n",
       "    </tr>\n",
       "    <tr>\n",
       "      <th>51964</th>\n",
       "      <td>2021-05-21 00:00:00</td>\n",
       "      <td>22.71</td>\n",
       "      <td>23.04</td>\n",
       "      <td>22.51</td>\n",
       "      <td>22.57</td>\n",
       "      <td>22.57</td>\n",
       "      <td>26,215,900</td>\n",
       "      <td>AAL</td>\n",
       "    </tr>\n",
       "    <tr>\n",
       "      <th>51965</th>\n",
       "      <td>2021-05-21 00:00:00</td>\n",
       "      <td>197.52</td>\n",
       "      <td>198.50</td>\n",
       "      <td>194.19</td>\n",
       "      <td>194.94</td>\n",
       "      <td>194.94</td>\n",
       "      <td>705,600</td>\n",
       "      <td>AAP</td>\n",
       "    </tr>\n",
       "    <tr>\n",
       "      <th>...</th>\n",
       "      <td>...</td>\n",
       "      <td>...</td>\n",
       "      <td>...</td>\n",
       "      <td>...</td>\n",
       "      <td>...</td>\n",
       "      <td>...</td>\n",
       "      <td>...</td>\n",
       "      <td>...</td>\n",
       "    </tr>\n",
       "    <tr>\n",
       "      <th>52463</th>\n",
       "      <td>2021-05-21 00:00:00</td>\n",
       "      <td>496.64</td>\n",
       "      <td>501.75</td>\n",
       "      <td>493.84</td>\n",
       "      <td>494.33</td>\n",
       "      <td>494.33</td>\n",
       "      <td>238,200</td>\n",
       "      <td>ZBRA</td>\n",
       "    </tr>\n",
       "    <tr>\n",
       "      <th>52464</th>\n",
       "      <td>2021-05-21 00:00:00</td>\n",
       "      <td>57.10</td>\n",
       "      <td>58.67</td>\n",
       "      <td>57.10</td>\n",
       "      <td>58.10</td>\n",
       "      <td>58.10</td>\n",
       "      <td>1,776,400</td>\n",
       "      <td>ZION</td>\n",
       "    </tr>\n",
       "    <tr>\n",
       "      <th>52465</th>\n",
       "      <td>2021-05-21 00:00:00</td>\n",
       "      <td>176.55</td>\n",
       "      <td>177.71</td>\n",
       "      <td>175.11</td>\n",
       "      <td>176.02</td>\n",
       "      <td>176.02</td>\n",
       "      <td>3,329,900</td>\n",
       "      <td>ZTS</td>\n",
       "    </tr>\n",
       "    <tr>\n",
       "      <th>52466</th>\n",
       "      <td>2021-05-21 00:00:00</td>\n",
       "      <td>34,121.91</td>\n",
       "      <td>34,415.48</td>\n",
       "      <td>34,121.91</td>\n",
       "      <td>34,207.84</td>\n",
       "      <td>34,207.84</td>\n",
       "      <td>306,360,000</td>\n",
       "      <td>^DJI</td>\n",
       "    </tr>\n",
       "    <tr>\n",
       "      <th>52467</th>\n",
       "      <td>2021-05-21 00:00:00</td>\n",
       "      <td>4,168.61</td>\n",
       "      <td>4,188.72</td>\n",
       "      <td>4,151.72</td>\n",
       "      <td>4,155.86</td>\n",
       "      <td>4,155.86</td>\n",
       "      <td>3,344,620,000</td>\n",
       "      <td>^GSPC</td>\n",
       "    </tr>\n",
       "  </tbody>\n",
       "</table>\n",
       "<p>507 rows × 8 columns</p>\n",
       "</div>"
      ],
      "text/plain": [
       "                      date       open       high        low      close  \\\n",
       "51961  2021-05-20 00:00:00  33,906.30  34,233.40  33,872.41  34,084.15   \n",
       "51962  2021-05-20 00:00:00   4,121.97   4,172.80   4,121.97   4,159.12   \n",
       "51963  2021-05-21 00:00:00     132.67     134.13     132.22     132.30   \n",
       "51964  2021-05-21 00:00:00      22.71      23.04      22.51      22.57   \n",
       "51965  2021-05-21 00:00:00     197.52     198.50     194.19     194.94   \n",
       "...                    ...        ...        ...        ...        ...   \n",
       "52463  2021-05-21 00:00:00     496.64     501.75     493.84     494.33   \n",
       "52464  2021-05-21 00:00:00      57.10      58.67      57.10      58.10   \n",
       "52465  2021-05-21 00:00:00     176.55     177.71     175.11     176.02   \n",
       "52466  2021-05-21 00:00:00  34,121.91  34,415.48  34,121.91  34,207.84   \n",
       "52467  2021-05-21 00:00:00   4,168.61   4,188.72   4,151.72   4,155.86   \n",
       "\n",
       "       adj_close         volume symbol  \n",
       "51961  34,084.15    320,150,000   ^DJI  \n",
       "51962   4,159.12  3,019,060,000  ^GSPC  \n",
       "51963     132.30      1,445,900      A  \n",
       "51964      22.57     26,215,900    AAL  \n",
       "51965     194.94        705,600    AAP  \n",
       "...          ...            ...    ...  \n",
       "52463     494.33        238,200   ZBRA  \n",
       "52464      58.10      1,776,400   ZION  \n",
       "52465     176.02      3,329,900    ZTS  \n",
       "52466  34,207.84    306,360,000   ^DJI  \n",
       "52467   4,155.86  3,344,620,000  ^GSPC  \n",
       "\n",
       "[507 rows x 8 columns]"
      ]
     },
     "execution_count": 21,
     "metadata": {},
     "output_type": "execute_result"
    }
   ],
   "source": [
    "connection = sqlite3.connect('MSC.db')\n",
    "cursor = connection.cursor()\n",
    "\n",
    "sql = ('''Select * from prices\n",
    "          order by date, symbol\n",
    "       ''')\n",
    "df = pd.read_sql_query(sql,connection)\n",
    "print(df.shape)\n",
    "df.tail(507)"
   ]
  },
  {
   "cell_type": "code",
   "execution_count": 13,
   "metadata": {
    "ExecuteTime": {
     "end_time": "2021-05-30T07:09:49.287903Z",
     "start_time": "2021-05-30T07:09:49.282194Z"
    }
   },
   "outputs": [],
   "source": [
    "from sklearn.model_selection import cross_val_score\n",
    "from sklearn.feature_selection import VarianceThreshold\n",
    "from sklearn.preprocessing import StandardScaler\n",
    "from nltk.sentiment.vader import SentimentIntensityAnalyzer\n",
    "from textblob import TextBlob"
   ]
  },
  {
   "cell_type": "code",
   "execution_count": 14,
   "metadata": {
    "ExecuteTime": {
     "end_time": "2021-05-30T07:09:49.685387Z",
     "start_time": "2021-05-30T07:09:49.662938Z"
    }
   },
   "outputs": [
    {
     "data": {
      "text/plain": [
       "{'neg': 0.0, 'neu': 0.0, 'pos': 0.0, 'compound': 0.0}"
      ]
     },
     "execution_count": 14,
     "metadata": {},
     "output_type": "execute_result"
    }
   ],
   "source": [
    "Anakin = SentimentIntensityAnalyzer()\n",
    "Anakin.polarity_scores(\" \")"
   ]
  },
  {
   "cell_type": "code",
   "execution_count": 15,
   "metadata": {
    "ExecuteTime": {
     "end_time": "2021-05-30T07:09:50.163114Z",
     "start_time": "2021-05-30T07:09:50.151581Z"
    }
   },
   "outputs": [
    {
     "data": {
      "text/plain": [
       "0.0"
      ]
     },
     "execution_count": 15,
     "metadata": {},
     "output_type": "execute_result"
    }
   ],
   "source": [
    "def detect_subjectivity(text):\n",
    "    '''\n",
    "    subjectivity is a float within the range [0.0, 1.0] where 0.0 is very objective and 1.0 is very subjective.\n",
    "    '''\n",
    "    return TextBlob(text).sentiment.subjectivity\n",
    "\n",
    "detect_subjectivity(\" \") #should return 0"
   ]
  },
  {
   "cell_type": "code",
   "execution_count": 16,
   "metadata": {
    "ExecuteTime": {
     "end_time": "2021-05-30T07:09:53.281750Z",
     "start_time": "2021-05-30T07:09:50.770200Z"
    }
   },
   "outputs": [],
   "source": [
    "#get the name of the headline columns\n",
    "cols = []\n",
    "for i in range(1,31):\n",
    "    col = (\"top{}\".format(i))\n",
    "    cols.append(col)\n",
    "    \n",
    "for col in cols:\n",
    "    df[col] = df[col].astype(str) # Make sure data is treated as a string\n",
    "    df[col+'_comp']= df[col].apply(lambda x:Anakin.polarity_scores(x)['compound'])\n",
    "    df[col+'_sub'] = df[col].apply(detect_subjectivity)\n",
    "    #print(\"{} Done\".format(col))"
   ]
  },
  {
   "cell_type": "code",
   "execution_count": 17,
   "metadata": {
    "ExecuteTime": {
     "end_time": "2021-05-30T07:09:53.336683Z",
     "start_time": "2021-05-30T07:09:53.284741Z"
    }
   },
   "outputs": [
    {
     "data": {
      "text/html": [
       "<div>\n",
       "<style scoped>\n",
       "    .dataframe tbody tr th:only-of-type {\n",
       "        vertical-align: middle;\n",
       "    }\n",
       "\n",
       "    .dataframe tbody tr th {\n",
       "        vertical-align: top;\n",
       "    }\n",
       "\n",
       "    .dataframe thead th {\n",
       "        text-align: right;\n",
       "    }\n",
       "</style>\n",
       "<table border=\"1\" class=\"dataframe\">\n",
       "  <thead>\n",
       "    <tr style=\"text-align: right;\">\n",
       "      <th></th>\n",
       "      <th>date</th>\n",
       "      <th>top1_comp</th>\n",
       "      <th>top1_sub</th>\n",
       "      <th>top2_comp</th>\n",
       "      <th>top2_sub</th>\n",
       "      <th>top3_comp</th>\n",
       "      <th>top3_sub</th>\n",
       "      <th>top4_comp</th>\n",
       "      <th>top4_sub</th>\n",
       "      <th>top5_comp</th>\n",
       "      <th>...</th>\n",
       "      <th>top26_comp</th>\n",
       "      <th>top26_sub</th>\n",
       "      <th>top27_comp</th>\n",
       "      <th>top27_sub</th>\n",
       "      <th>top28_comp</th>\n",
       "      <th>top28_sub</th>\n",
       "      <th>top29_comp</th>\n",
       "      <th>top29_sub</th>\n",
       "      <th>top30_comp</th>\n",
       "      <th>top30_sub</th>\n",
       "    </tr>\n",
       "  </thead>\n",
       "  <tbody>\n",
       "    <tr>\n",
       "      <th>143</th>\n",
       "      <td>2021-05-25</td>\n",
       "      <td>-0.3400</td>\n",
       "      <td>0.0</td>\n",
       "      <td>0.0000</td>\n",
       "      <td>0.000000</td>\n",
       "      <td>-0.2960</td>\n",
       "      <td>0.000000</td>\n",
       "      <td>-0.1280</td>\n",
       "      <td>0.050000</td>\n",
       "      <td>-0.2960</td>\n",
       "      <td>...</td>\n",
       "      <td>-0.3400</td>\n",
       "      <td>0.0</td>\n",
       "      <td>-0.8689</td>\n",
       "      <td>0.000000</td>\n",
       "      <td>0.4404</td>\n",
       "      <td>0.000000</td>\n",
       "      <td>0.0000</td>\n",
       "      <td>0.900000</td>\n",
       "      <td>-0.4019</td>\n",
       "      <td>0.041667</td>\n",
       "    </tr>\n",
       "    <tr>\n",
       "      <th>144</th>\n",
       "      <td>2021-05-26</td>\n",
       "      <td>0.0000</td>\n",
       "      <td>0.0</td>\n",
       "      <td>0.0000</td>\n",
       "      <td>0.333333</td>\n",
       "      <td>-0.2960</td>\n",
       "      <td>0.400000</td>\n",
       "      <td>-0.6124</td>\n",
       "      <td>0.540000</td>\n",
       "      <td>0.0000</td>\n",
       "      <td>...</td>\n",
       "      <td>-0.4404</td>\n",
       "      <td>0.0</td>\n",
       "      <td>0.1027</td>\n",
       "      <td>0.450000</td>\n",
       "      <td>-0.5574</td>\n",
       "      <td>0.260606</td>\n",
       "      <td>-0.7184</td>\n",
       "      <td>0.900000</td>\n",
       "      <td>-0.8020</td>\n",
       "      <td>0.100000</td>\n",
       "    </tr>\n",
       "    <tr>\n",
       "      <th>145</th>\n",
       "      <td>2021-05-27</td>\n",
       "      <td>-0.2008</td>\n",
       "      <td>0.5</td>\n",
       "      <td>0.0772</td>\n",
       "      <td>0.000000</td>\n",
       "      <td>0.0000</td>\n",
       "      <td>0.000000</td>\n",
       "      <td>-0.5719</td>\n",
       "      <td>0.166667</td>\n",
       "      <td>-0.3182</td>\n",
       "      <td>...</td>\n",
       "      <td>-0.4588</td>\n",
       "      <td>0.0</td>\n",
       "      <td>-0.6605</td>\n",
       "      <td>0.624242</td>\n",
       "      <td>0.2023</td>\n",
       "      <td>0.500000</td>\n",
       "      <td>0.1280</td>\n",
       "      <td>0.483333</td>\n",
       "      <td>0.4019</td>\n",
       "      <td>0.000000</td>\n",
       "    </tr>\n",
       "    <tr>\n",
       "      <th>146</th>\n",
       "      <td>2021-05-28</td>\n",
       "      <td>-0.6705</td>\n",
       "      <td>0.0</td>\n",
       "      <td>-0.1779</td>\n",
       "      <td>0.900000</td>\n",
       "      <td>-0.1531</td>\n",
       "      <td>0.000000</td>\n",
       "      <td>-0.3612</td>\n",
       "      <td>0.000000</td>\n",
       "      <td>0.0000</td>\n",
       "      <td>...</td>\n",
       "      <td>0.0000</td>\n",
       "      <td>0.0</td>\n",
       "      <td>-0.7845</td>\n",
       "      <td>1.000000</td>\n",
       "      <td>-0.4939</td>\n",
       "      <td>0.000000</td>\n",
       "      <td>-0.0516</td>\n",
       "      <td>0.100000</td>\n",
       "      <td>0.0000</td>\n",
       "      <td>0.000000</td>\n",
       "    </tr>\n",
       "    <tr>\n",
       "      <th>147</th>\n",
       "      <td>2021-05-30</td>\n",
       "      <td>-0.5719</td>\n",
       "      <td>0.0</td>\n",
       "      <td>-0.1280</td>\n",
       "      <td>0.000000</td>\n",
       "      <td>0.0000</td>\n",
       "      <td>0.166667</td>\n",
       "      <td>0.0000</td>\n",
       "      <td>0.144444</td>\n",
       "      <td>-0.7574</td>\n",
       "      <td>...</td>\n",
       "      <td>-0.7184</td>\n",
       "      <td>0.5</td>\n",
       "      <td>0.0000</td>\n",
       "      <td>0.100000</td>\n",
       "      <td>0.2263</td>\n",
       "      <td>0.400000</td>\n",
       "      <td>0.0000</td>\n",
       "      <td>0.477273</td>\n",
       "      <td>0.0000</td>\n",
       "      <td>0.800000</td>\n",
       "    </tr>\n",
       "  </tbody>\n",
       "</table>\n",
       "<p>5 rows × 61 columns</p>\n",
       "</div>"
      ],
      "text/plain": [
       "           date  top1_comp  top1_sub  top2_comp  top2_sub  top3_comp  \\\n",
       "143  2021-05-25    -0.3400       0.0     0.0000  0.000000    -0.2960   \n",
       "144  2021-05-26     0.0000       0.0     0.0000  0.333333    -0.2960   \n",
       "145  2021-05-27    -0.2008       0.5     0.0772  0.000000     0.0000   \n",
       "146  2021-05-28    -0.6705       0.0    -0.1779  0.900000    -0.1531   \n",
       "147  2021-05-30    -0.5719       0.0    -0.1280  0.000000     0.0000   \n",
       "\n",
       "     top3_sub  top4_comp  top4_sub  top5_comp  ...  top26_comp  top26_sub  \\\n",
       "143  0.000000    -0.1280  0.050000    -0.2960  ...     -0.3400        0.0   \n",
       "144  0.400000    -0.6124  0.540000     0.0000  ...     -0.4404        0.0   \n",
       "145  0.000000    -0.5719  0.166667    -0.3182  ...     -0.4588        0.0   \n",
       "146  0.000000    -0.3612  0.000000     0.0000  ...      0.0000        0.0   \n",
       "147  0.166667     0.0000  0.144444    -0.7574  ...     -0.7184        0.5   \n",
       "\n",
       "     top27_comp  top27_sub  top28_comp  top28_sub  top29_comp  top29_sub  \\\n",
       "143     -0.8689   0.000000      0.4404   0.000000      0.0000   0.900000   \n",
       "144      0.1027   0.450000     -0.5574   0.260606     -0.7184   0.900000   \n",
       "145     -0.6605   0.624242      0.2023   0.500000      0.1280   0.483333   \n",
       "146     -0.7845   1.000000     -0.4939   0.000000     -0.0516   0.100000   \n",
       "147      0.0000   0.100000      0.2263   0.400000      0.0000   0.477273   \n",
       "\n",
       "     top30_comp  top30_sub  \n",
       "143     -0.4019   0.041667  \n",
       "144     -0.8020   0.100000  \n",
       "145      0.4019   0.000000  \n",
       "146      0.0000   0.000000  \n",
       "147      0.0000   0.800000  \n",
       "\n",
       "[5 rows x 61 columns]"
      ]
     },
     "execution_count": 17,
     "metadata": {},
     "output_type": "execute_result"
    }
   ],
   "source": [
    "#the text isn't required anymore\n",
    "df = df.drop(cols,axis=1)\n",
    "df.tail()"
   ]
  },
  {
   "cell_type": "code",
   "execution_count": 18,
   "metadata": {
    "ExecuteTime": {
     "end_time": "2021-05-30T07:09:54.592943Z",
     "start_time": "2021-05-30T07:09:54.274121Z"
    }
   },
   "outputs": [],
   "source": [
    "comp_cols = [col + \"_comp\" for col in cols]\n",
    "\n",
    "w = np.arange(1,31,1).tolist()\n",
    "w.reverse()\n",
    "\n",
    "weighted_comp = []\n",
    "max_comp = []\n",
    "min_comp = []\n",
    "for i in range(0,len(df)):\n",
    "    a = df.loc[i,comp_cols].tolist()\n",
    "    weighted_comp.append(np.average(a, weights=w))\n",
    "    max_comp.append(max(a))\n",
    "    min_comp.append(min(a))\n",
    "    \n",
    "df['compound_mean'] = weighted_comp\n",
    "df['compound_max'] = max_comp\n",
    "df['compound_min'] = min_comp\n",
    "\n",
    "sub_cols = [col + \"_sub\" for col in cols]\n",
    "\n",
    "weighted_sub = []\n",
    "max_sub = []\n",
    "min_sub = []\n",
    "for i in range(0,len(df)):\n",
    "    a = df.loc[i,sub_cols].tolist()\n",
    "    weighted_sub.append(np.average(a, weights=w))\n",
    "    max_sub.append(max(a))\n",
    "    min_sub.append(min(a))\n",
    "\n",
    "df['subjectivity_mean'] = weighted_sub\n",
    "df['subjectivity_max'] = max_sub\n",
    "df['subjectivity_min'] = min_sub\n",
    "\n",
    "to_drop = sub_cols+comp_cols\n",
    "df = df.drop(to_drop, axis=1)"
   ]
  },
  {
   "cell_type": "code",
   "execution_count": 19,
   "metadata": {
    "ExecuteTime": {
     "end_time": "2021-05-30T07:09:55.999624Z",
     "start_time": "2021-05-30T07:09:55.980587Z"
    }
   },
   "outputs": [
    {
     "data": {
      "text/html": [
       "<div>\n",
       "<style scoped>\n",
       "    .dataframe tbody tr th:only-of-type {\n",
       "        vertical-align: middle;\n",
       "    }\n",
       "\n",
       "    .dataframe tbody tr th {\n",
       "        vertical-align: top;\n",
       "    }\n",
       "\n",
       "    .dataframe thead th {\n",
       "        text-align: right;\n",
       "    }\n",
       "</style>\n",
       "<table border=\"1\" class=\"dataframe\">\n",
       "  <thead>\n",
       "    <tr style=\"text-align: right;\">\n",
       "      <th></th>\n",
       "      <th>date</th>\n",
       "      <th>compound_mean</th>\n",
       "      <th>compound_max</th>\n",
       "      <th>compound_min</th>\n",
       "      <th>subjectivity_mean</th>\n",
       "      <th>subjectivity_max</th>\n",
       "      <th>subjectivity_min</th>\n",
       "    </tr>\n",
       "  </thead>\n",
       "  <tbody>\n",
       "    <tr>\n",
       "      <th>143</th>\n",
       "      <td>2021-05-25</td>\n",
       "      <td>-0.271909</td>\n",
       "      <td>0.4404</td>\n",
       "      <td>-0.8910</td>\n",
       "      <td>0.115951</td>\n",
       "      <td>0.9</td>\n",
       "      <td>0.0</td>\n",
       "    </tr>\n",
       "    <tr>\n",
       "      <th>144</th>\n",
       "      <td>2021-05-26</td>\n",
       "      <td>-0.158550</td>\n",
       "      <td>0.7906</td>\n",
       "      <td>-0.8020</td>\n",
       "      <td>0.272994</td>\n",
       "      <td>1.0</td>\n",
       "      <td>0.0</td>\n",
       "    </tr>\n",
       "    <tr>\n",
       "      <th>145</th>\n",
       "      <td>2021-05-27</td>\n",
       "      <td>-0.184296</td>\n",
       "      <td>0.4019</td>\n",
       "      <td>-0.6808</td>\n",
       "      <td>0.201903</td>\n",
       "      <td>1.0</td>\n",
       "      <td>0.0</td>\n",
       "    </tr>\n",
       "    <tr>\n",
       "      <th>146</th>\n",
       "      <td>2021-05-28</td>\n",
       "      <td>-0.111581</td>\n",
       "      <td>0.6249</td>\n",
       "      <td>-0.7845</td>\n",
       "      <td>0.157359</td>\n",
       "      <td>1.0</td>\n",
       "      <td>0.0</td>\n",
       "    </tr>\n",
       "    <tr>\n",
       "      <th>147</th>\n",
       "      <td>2021-05-30</td>\n",
       "      <td>-0.154033</td>\n",
       "      <td>0.3612</td>\n",
       "      <td>-0.8316</td>\n",
       "      <td>0.207733</td>\n",
       "      <td>0.8</td>\n",
       "      <td>0.0</td>\n",
       "    </tr>\n",
       "  </tbody>\n",
       "</table>\n",
       "</div>"
      ],
      "text/plain": [
       "           date  compound_mean  compound_max  compound_min  subjectivity_mean  \\\n",
       "143  2021-05-25      -0.271909        0.4404       -0.8910           0.115951   \n",
       "144  2021-05-26      -0.158550        0.7906       -0.8020           0.272994   \n",
       "145  2021-05-27      -0.184296        0.4019       -0.6808           0.201903   \n",
       "146  2021-05-28      -0.111581        0.6249       -0.7845           0.157359   \n",
       "147  2021-05-30      -0.154033        0.3612       -0.8316           0.207733   \n",
       "\n",
       "     subjectivity_max  subjectivity_min  \n",
       "143               0.9               0.0  \n",
       "144               1.0               0.0  \n",
       "145               1.0               0.0  \n",
       "146               1.0               0.0  \n",
       "147               0.8               0.0  "
      ]
     },
     "execution_count": 19,
     "metadata": {},
     "output_type": "execute_result"
    }
   ],
   "source": [
    "df.tail()"
   ]
  },
  {
   "cell_type": "code",
   "execution_count": 20,
   "metadata": {
    "ExecuteTime": {
     "end_time": "2021-05-30T07:09:56.886970Z",
     "start_time": "2021-05-30T07:09:56.855901Z"
    }
   },
   "outputs": [
    {
     "data": {
      "application/vnd.plotly.v1+json": {
       "config": {
        "plotlyServerURL": "https://plot.ly"
       },
       "data": [
        {
         "mode": "lines",
         "name": "Mean",
         "type": "scatter",
         "x": [
          "2021-01-01",
          "2021-01-02",
          "2021-01-03",
          "2021-01-04",
          "2021-01-05",
          "2021-01-06",
          "2021-01-07",
          "2021-01-08",
          "2021-01-09",
          "2021-01-10",
          "2021-01-11",
          "2021-01-12",
          "2021-01-13",
          "2021-01-14",
          "2021-01-15",
          "2021-01-16",
          "2021-01-17",
          "2021-01-18",
          "2021-01-19",
          "2021-01-20",
          "2021-01-21",
          "2021-01-22",
          "2021-01-23",
          "2021-01-24",
          "2021-01-25",
          "2021-01-26",
          "2021-01-27",
          "2021-01-28",
          "2021-01-29",
          "2021-01-30",
          "2021-01-31",
          "2021-02-01",
          "2021-02-02",
          "2021-02-03",
          "2021-02-04",
          "2021-02-05",
          "2021-02-06",
          "2021-02-07",
          "2021-02-08",
          "2021-02-09",
          "2021-02-10",
          "2021-02-11",
          "2021-02-12",
          "2021-02-13",
          "2021-02-14",
          "2021-02-15",
          "2021-02-16",
          "2021-02-17",
          "2021-02-18",
          "2021-02-19",
          "2021-02-20",
          "2021-02-21",
          "2021-02-22",
          "2021-02-23",
          "2021-02-24",
          "2021-02-25",
          "2021-02-26",
          "2021-02-27",
          "2021-02-28",
          "2021-03-01",
          "2021-03-02",
          "2021-03-03",
          "2021-03-04",
          "2021-03-05",
          "2021-03-06",
          "2021-03-08",
          "2021-03-09",
          "2021-03-10",
          "2021-03-11",
          "2021-03-12",
          "2021-03-13",
          "2021-03-14",
          "2021-03-15",
          "2021-03-16",
          "2021-03-17",
          "2021-03-18",
          "2021-03-19",
          "2021-03-20",
          "2021-03-21",
          "2021-03-22",
          "2021-03-23",
          "2021-03-24",
          "2021-03-25",
          "2021-03-26",
          "2021-03-27",
          "2021-03-28",
          "2021-03-29",
          "2021-03-30",
          "2021-03-31",
          "2021-04-01",
          "2021-04-02",
          "2021-04-03",
          "2021-04-04",
          "2021-04-05",
          "2021-04-06",
          "2021-04-07",
          "2021-04-08",
          "2021-04-09",
          "2021-04-10",
          "2021-04-11",
          "2021-04-12",
          "2021-04-13",
          "2021-04-14",
          "2021-04-15",
          "2021-04-16",
          "2021-04-17",
          "2021-04-18",
          "2021-04-19",
          "2021-04-20",
          "2021-04-21",
          "2021-04-22",
          "2021-04-23",
          "2021-04-24",
          "2021-04-25",
          "2021-04-26",
          "2021-04-27",
          "2021-04-28",
          "2021-04-29",
          "2021-04-30",
          "2021-05-01",
          "2021-05-02",
          "2021-05-03",
          "2021-05-04",
          "2021-05-05",
          "2021-05-06",
          "2021-05-07",
          "2021-05-08",
          "2021-05-09",
          "2021-05-10",
          "2021-05-11",
          "2021-05-12",
          "2021-05-13",
          "2021-05-14",
          "2021-05-15",
          "2021-05-16",
          "2021-05-17",
          "2021-05-18",
          "2021-05-19",
          "2021-05-20",
          "2021-05-21",
          "2021-05-22",
          "2021-05-23",
          "2021-05-24",
          "2021-05-25",
          "2021-05-26",
          "2021-05-27",
          "2021-05-28",
          "2021-05-30"
         ],
         "y": [
          0.2561602041924622,
          0.25144696969696967,
          0.3387047898338221,
          0.20411242282210026,
          0.2322007323620227,
          0.2970185728250245,
          0.24569437332878194,
          0.25773386708870577,
          0.32175095812192583,
          0.2387099489518844,
          0.26436654489477074,
          0.1939801238188335,
          0.3111412512218964,
          0.2300059581995066,
          0.31949888283759253,
          0.3411800803736288,
          0.13868667861409795,
          0.24013440860215055,
          0.26766039814426906,
          0.32655470992567764,
          0.20382445809865166,
          0.3521854024112088,
          0.23121961550993808,
          0.12560745705906998,
          0.3773185386895064,
          0.21616184890378437,
          0.32459275551211036,
          0.10190833061800803,
          0.16849794411084731,
          0.3206983273596176,
          0.3206983273596176,
          0.3206983273596176,
          0.3206983273596176,
          0.3206983273596176,
          0.3206983273596176,
          0.3206983273596176,
          0.3206983273596176,
          0.3206983273596176,
          0.3206983273596176,
          0.3206983273596176,
          0.3206983273596176,
          0.3206983273596176,
          0.3206983273596176,
          0.3206983273596176,
          0.3206983273596176,
          0.3206983273596176,
          0.3206983273596176,
          0.3206983273596176,
          0.3202356385152084,
          0.3202356385152084,
          0.3202356385152084,
          0.3202356385152084,
          0.3169239346873755,
          0.11964537851634624,
          0.1170772238514174,
          0.2852222222222222,
          0.2852222222222222,
          0.29098533724340175,
          0.29098533724340175,
          0.29098533724340175,
          0.29098533724340175,
          0.14919184161119645,
          0.23377260055754676,
          0.19106060606060604,
          0.2680549349097736,
          0.19532659932659935,
          0.2366629040016137,
          0.30657430681624237,
          0.2880953156759609,
          0.138214945150429,
          0.23490717466523917,
          0.11659275551211033,
          0.29161802355350747,
          0.18517774519387423,
          0.16608178559791464,
          0.19922264115812502,
          0.19555121103508197,
          0.25087071431157454,
          0.26131378299120234,
          0.3787292277614858,
          0.23246427407717732,
          0.3147197784294558,
          0.21500411177830533,
          0.23397415010318234,
          0.18087014061207607,
          0.23748219522413072,
          0.20759025741283807,
          0.17187873357228198,
          0.35501547735418704,
          0.21863620847491816,
          0.2844356467904855,
          0.17323237753882914,
          0.24977279931196986,
          0.20330272773821162,
          0.283591444397896,
          0.14845323434033114,
          0.15542543716737267,
          0.29235065710872166,
          0.17481182795698924,
          0.23204064195462046,
          0.16881720430107527,
          0.2649136526555882,
          0.25860649505810795,
          0.24621597697404152,
          0.24819686884203013,
          0.21330514049868887,
          0.32203405017921155,
          0.15304659498207887,
          0.2829510155316607,
          0.20866742178570136,
          0.29272379711089386,
          0.20876344086021503,
          0.1575337476143928,
          0.20677931387608806,
          0.1886805339224694,
          0.2283435972629521,
          0.21991502117953732,
          0.28198845210941986,
          0.22896296296296298,
          0.21213532560629333,
          0.29717008797653954,
          0.29107459903696464,
          0.14792417260159196,
          0.2638661887694146,
          0.3318124796350602,
          0.2535371378919766,
          0.28499149198073925,
          0.2154138155751059,
          0.1947612220515446,
          0.13556695992179862,
          0.19407962109575014,
          0.10626045400238948,
          0.17164149172213689,
          0.15205325140809012,
          0.2856788313239927,
          0.14349462365591398,
          0.17431614532420983,
          0.18666556502040368,
          0.26534267405235146,
          0.22938090583251872,
          0.21149536843085232,
          0.21992319508448538,
          0.24480286738351253,
          0.11595144998370804,
          0.27299380905832515,
          0.20190321029030708,
          0.15735907461713916,
          0.20773313782991204
         ]
        },
        {
         "mode": "lines",
         "name": "Min",
         "type": "scatter",
         "x": [
          "2021-01-01",
          "2021-01-02",
          "2021-01-03",
          "2021-01-04",
          "2021-01-05",
          "2021-01-06",
          "2021-01-07",
          "2021-01-08",
          "2021-01-09",
          "2021-01-10",
          "2021-01-11",
          "2021-01-12",
          "2021-01-13",
          "2021-01-14",
          "2021-01-15",
          "2021-01-16",
          "2021-01-17",
          "2021-01-18",
          "2021-01-19",
          "2021-01-20",
          "2021-01-21",
          "2021-01-22",
          "2021-01-23",
          "2021-01-24",
          "2021-01-25",
          "2021-01-26",
          "2021-01-27",
          "2021-01-28",
          "2021-01-29",
          "2021-01-30",
          "2021-01-31",
          "2021-02-01",
          "2021-02-02",
          "2021-02-03",
          "2021-02-04",
          "2021-02-05",
          "2021-02-06",
          "2021-02-07",
          "2021-02-08",
          "2021-02-09",
          "2021-02-10",
          "2021-02-11",
          "2021-02-12",
          "2021-02-13",
          "2021-02-14",
          "2021-02-15",
          "2021-02-16",
          "2021-02-17",
          "2021-02-18",
          "2021-02-19",
          "2021-02-20",
          "2021-02-21",
          "2021-02-22",
          "2021-02-23",
          "2021-02-24",
          "2021-02-25",
          "2021-02-26",
          "2021-02-27",
          "2021-02-28",
          "2021-03-01",
          "2021-03-02",
          "2021-03-03",
          "2021-03-04",
          "2021-03-05",
          "2021-03-06",
          "2021-03-08",
          "2021-03-09",
          "2021-03-10",
          "2021-03-11",
          "2021-03-12",
          "2021-03-13",
          "2021-03-14",
          "2021-03-15",
          "2021-03-16",
          "2021-03-17",
          "2021-03-18",
          "2021-03-19",
          "2021-03-20",
          "2021-03-21",
          "2021-03-22",
          "2021-03-23",
          "2021-03-24",
          "2021-03-25",
          "2021-03-26",
          "2021-03-27",
          "2021-03-28",
          "2021-03-29",
          "2021-03-30",
          "2021-03-31",
          "2021-04-01",
          "2021-04-02",
          "2021-04-03",
          "2021-04-04",
          "2021-04-05",
          "2021-04-06",
          "2021-04-07",
          "2021-04-08",
          "2021-04-09",
          "2021-04-10",
          "2021-04-11",
          "2021-04-12",
          "2021-04-13",
          "2021-04-14",
          "2021-04-15",
          "2021-04-16",
          "2021-04-17",
          "2021-04-18",
          "2021-04-19",
          "2021-04-20",
          "2021-04-21",
          "2021-04-22",
          "2021-04-23",
          "2021-04-24",
          "2021-04-25",
          "2021-04-26",
          "2021-04-27",
          "2021-04-28",
          "2021-04-29",
          "2021-04-30",
          "2021-05-01",
          "2021-05-02",
          "2021-05-03",
          "2021-05-04",
          "2021-05-05",
          "2021-05-06",
          "2021-05-07",
          "2021-05-08",
          "2021-05-09",
          "2021-05-10",
          "2021-05-11",
          "2021-05-12",
          "2021-05-13",
          "2021-05-14",
          "2021-05-15",
          "2021-05-16",
          "2021-05-17",
          "2021-05-18",
          "2021-05-19",
          "2021-05-20",
          "2021-05-21",
          "2021-05-22",
          "2021-05-23",
          "2021-05-24",
          "2021-05-25",
          "2021-05-26",
          "2021-05-27",
          "2021-05-28",
          "2021-05-30"
         ],
         "y": [
          0,
          0,
          0,
          0,
          0,
          0,
          0,
          0,
          0,
          0,
          0,
          0,
          0,
          0,
          0,
          0,
          0,
          0,
          0,
          0,
          0,
          0,
          0,
          0,
          0,
          0,
          0,
          0,
          0,
          0,
          0,
          0,
          0,
          0,
          0,
          0,
          0,
          0,
          0,
          0,
          0,
          0,
          0,
          0,
          0,
          0,
          0,
          0,
          0,
          0,
          0,
          0,
          0,
          0,
          0,
          0,
          0,
          0,
          0,
          0,
          0,
          0,
          0,
          0,
          0,
          0,
          0,
          0,
          0,
          0,
          0,
          0,
          0,
          0,
          0,
          0,
          0,
          0,
          0,
          0,
          0,
          0,
          0,
          0,
          0,
          0,
          0,
          0,
          0,
          0,
          0,
          0,
          0,
          0,
          0,
          0,
          0,
          0,
          0,
          0,
          0,
          0,
          0,
          0,
          0,
          0,
          0,
          0,
          0,
          0,
          0,
          0,
          0,
          0,
          0,
          0,
          0,
          0,
          0,
          0,
          0,
          0,
          0,
          0,
          0,
          0,
          0,
          0,
          0,
          0,
          0,
          0,
          0,
          0,
          0,
          0,
          0,
          0,
          0,
          0,
          0,
          0,
          0,
          0,
          0,
          0,
          0,
          0
         ]
        },
        {
         "mode": "lines",
         "name": "Max",
         "type": "scatter",
         "x": [
          "2021-01-01",
          "2021-01-02",
          "2021-01-03",
          "2021-01-04",
          "2021-01-05",
          "2021-01-06",
          "2021-01-07",
          "2021-01-08",
          "2021-01-09",
          "2021-01-10",
          "2021-01-11",
          "2021-01-12",
          "2021-01-13",
          "2021-01-14",
          "2021-01-15",
          "2021-01-16",
          "2021-01-17",
          "2021-01-18",
          "2021-01-19",
          "2021-01-20",
          "2021-01-21",
          "2021-01-22",
          "2021-01-23",
          "2021-01-24",
          "2021-01-25",
          "2021-01-26",
          "2021-01-27",
          "2021-01-28",
          "2021-01-29",
          "2021-01-30",
          "2021-01-31",
          "2021-02-01",
          "2021-02-02",
          "2021-02-03",
          "2021-02-04",
          "2021-02-05",
          "2021-02-06",
          "2021-02-07",
          "2021-02-08",
          "2021-02-09",
          "2021-02-10",
          "2021-02-11",
          "2021-02-12",
          "2021-02-13",
          "2021-02-14",
          "2021-02-15",
          "2021-02-16",
          "2021-02-17",
          "2021-02-18",
          "2021-02-19",
          "2021-02-20",
          "2021-02-21",
          "2021-02-22",
          "2021-02-23",
          "2021-02-24",
          "2021-02-25",
          "2021-02-26",
          "2021-02-27",
          "2021-02-28",
          "2021-03-01",
          "2021-03-02",
          "2021-03-03",
          "2021-03-04",
          "2021-03-05",
          "2021-03-06",
          "2021-03-08",
          "2021-03-09",
          "2021-03-10",
          "2021-03-11",
          "2021-03-12",
          "2021-03-13",
          "2021-03-14",
          "2021-03-15",
          "2021-03-16",
          "2021-03-17",
          "2021-03-18",
          "2021-03-19",
          "2021-03-20",
          "2021-03-21",
          "2021-03-22",
          "2021-03-23",
          "2021-03-24",
          "2021-03-25",
          "2021-03-26",
          "2021-03-27",
          "2021-03-28",
          "2021-03-29",
          "2021-03-30",
          "2021-03-31",
          "2021-04-01",
          "2021-04-02",
          "2021-04-03",
          "2021-04-04",
          "2021-04-05",
          "2021-04-06",
          "2021-04-07",
          "2021-04-08",
          "2021-04-09",
          "2021-04-10",
          "2021-04-11",
          "2021-04-12",
          "2021-04-13",
          "2021-04-14",
          "2021-04-15",
          "2021-04-16",
          "2021-04-17",
          "2021-04-18",
          "2021-04-19",
          "2021-04-20",
          "2021-04-21",
          "2021-04-22",
          "2021-04-23",
          "2021-04-24",
          "2021-04-25",
          "2021-04-26",
          "2021-04-27",
          "2021-04-28",
          "2021-04-29",
          "2021-04-30",
          "2021-05-01",
          "2021-05-02",
          "2021-05-03",
          "2021-05-04",
          "2021-05-05",
          "2021-05-06",
          "2021-05-07",
          "2021-05-08",
          "2021-05-09",
          "2021-05-10",
          "2021-05-11",
          "2021-05-12",
          "2021-05-13",
          "2021-05-14",
          "2021-05-15",
          "2021-05-16",
          "2021-05-17",
          "2021-05-18",
          "2021-05-19",
          "2021-05-20",
          "2021-05-21",
          "2021-05-22",
          "2021-05-23",
          "2021-05-24",
          "2021-05-25",
          "2021-05-26",
          "2021-05-27",
          "2021-05-28",
          "2021-05-30"
         ],
         "y": [
          1,
          0.8,
          1,
          0.8,
          1,
          0.9750000000000001,
          1,
          0.9,
          1,
          1,
          1,
          1,
          1,
          0.9285714285714286,
          1,
          1,
          1,
          0.8333333333333334,
          1,
          1,
          1,
          1,
          1,
          0.7,
          1,
          0.7,
          1,
          0.525,
          1,
          1,
          1,
          1,
          1,
          1,
          1,
          1,
          1,
          1,
          1,
          1,
          1,
          1,
          1,
          1,
          1,
          1,
          1,
          1,
          1,
          1,
          1,
          1,
          1,
          0.5416666666666666,
          0.5,
          1,
          1,
          1,
          1,
          1,
          1,
          0.5,
          1,
          1,
          1,
          1,
          0.75,
          1,
          0.9,
          0.775,
          1,
          0.5666666666666667,
          1,
          0.75,
          0.638888888888889,
          0.6000000000000001,
          1,
          1,
          1,
          1,
          0.8,
          1,
          1,
          1,
          1,
          0.8888888888888888,
          0.8333333333333334,
          0.8,
          0.9,
          1,
          1,
          1,
          0.6625,
          0.5444444444444444,
          1,
          1,
          1,
          1,
          1,
          1,
          0.5,
          1,
          1,
          0.8,
          1,
          1,
          1,
          0.8,
          1,
          1,
          1,
          1,
          0.7,
          0.9,
          0.8,
          0.95,
          1,
          1,
          1,
          1,
          1,
          1,
          0.5454545454545454,
          0.8333333333333333,
          1,
          0.775,
          1,
          1,
          1,
          0.6666666666666667,
          0.7785714285714285,
          0.7,
          1,
          1,
          1,
          0.625,
          0.6,
          0.9,
          0.875,
          0.8875,
          0.6666666666666667,
          1,
          1,
          0.9,
          1,
          1,
          1,
          0.8
         ]
        }
       ],
       "layout": {
        "annotations": [
         {
          "font": {
           "color": "rgb(37,37,37)",
           "family": "Arial",
           "size": 30
          },
          "showarrow": false,
          "text": "Development of subjectivity score",
          "x": 0,
          "xanchor": "left",
          "xref": "paper",
          "y": 1.05,
          "yanchor": "bottom",
          "yref": "paper"
         }
        ],
        "template": {
         "data": {
          "bar": [
           {
            "error_x": {
             "color": "#2a3f5f"
            },
            "error_y": {
             "color": "#2a3f5f"
            },
            "marker": {
             "line": {
              "color": "#E5ECF6",
              "width": 0.5
             }
            },
            "type": "bar"
           }
          ],
          "barpolar": [
           {
            "marker": {
             "line": {
              "color": "#E5ECF6",
              "width": 0.5
             }
            },
            "type": "barpolar"
           }
          ],
          "carpet": [
           {
            "aaxis": {
             "endlinecolor": "#2a3f5f",
             "gridcolor": "white",
             "linecolor": "white",
             "minorgridcolor": "white",
             "startlinecolor": "#2a3f5f"
            },
            "baxis": {
             "endlinecolor": "#2a3f5f",
             "gridcolor": "white",
             "linecolor": "white",
             "minorgridcolor": "white",
             "startlinecolor": "#2a3f5f"
            },
            "type": "carpet"
           }
          ],
          "choropleth": [
           {
            "colorbar": {
             "outlinewidth": 0,
             "ticks": ""
            },
            "type": "choropleth"
           }
          ],
          "contour": [
           {
            "colorbar": {
             "outlinewidth": 0,
             "ticks": ""
            },
            "colorscale": [
             [
              0,
              "#0d0887"
             ],
             [
              0.1111111111111111,
              "#46039f"
             ],
             [
              0.2222222222222222,
              "#7201a8"
             ],
             [
              0.3333333333333333,
              "#9c179e"
             ],
             [
              0.4444444444444444,
              "#bd3786"
             ],
             [
              0.5555555555555556,
              "#d8576b"
             ],
             [
              0.6666666666666666,
              "#ed7953"
             ],
             [
              0.7777777777777778,
              "#fb9f3a"
             ],
             [
              0.8888888888888888,
              "#fdca26"
             ],
             [
              1,
              "#f0f921"
             ]
            ],
            "type": "contour"
           }
          ],
          "contourcarpet": [
           {
            "colorbar": {
             "outlinewidth": 0,
             "ticks": ""
            },
            "type": "contourcarpet"
           }
          ],
          "heatmap": [
           {
            "colorbar": {
             "outlinewidth": 0,
             "ticks": ""
            },
            "colorscale": [
             [
              0,
              "#0d0887"
             ],
             [
              0.1111111111111111,
              "#46039f"
             ],
             [
              0.2222222222222222,
              "#7201a8"
             ],
             [
              0.3333333333333333,
              "#9c179e"
             ],
             [
              0.4444444444444444,
              "#bd3786"
             ],
             [
              0.5555555555555556,
              "#d8576b"
             ],
             [
              0.6666666666666666,
              "#ed7953"
             ],
             [
              0.7777777777777778,
              "#fb9f3a"
             ],
             [
              0.8888888888888888,
              "#fdca26"
             ],
             [
              1,
              "#f0f921"
             ]
            ],
            "type": "heatmap"
           }
          ],
          "heatmapgl": [
           {
            "colorbar": {
             "outlinewidth": 0,
             "ticks": ""
            },
            "colorscale": [
             [
              0,
              "#0d0887"
             ],
             [
              0.1111111111111111,
              "#46039f"
             ],
             [
              0.2222222222222222,
              "#7201a8"
             ],
             [
              0.3333333333333333,
              "#9c179e"
             ],
             [
              0.4444444444444444,
              "#bd3786"
             ],
             [
              0.5555555555555556,
              "#d8576b"
             ],
             [
              0.6666666666666666,
              "#ed7953"
             ],
             [
              0.7777777777777778,
              "#fb9f3a"
             ],
             [
              0.8888888888888888,
              "#fdca26"
             ],
             [
              1,
              "#f0f921"
             ]
            ],
            "type": "heatmapgl"
           }
          ],
          "histogram": [
           {
            "marker": {
             "colorbar": {
              "outlinewidth": 0,
              "ticks": ""
             }
            },
            "type": "histogram"
           }
          ],
          "histogram2d": [
           {
            "colorbar": {
             "outlinewidth": 0,
             "ticks": ""
            },
            "colorscale": [
             [
              0,
              "#0d0887"
             ],
             [
              0.1111111111111111,
              "#46039f"
             ],
             [
              0.2222222222222222,
              "#7201a8"
             ],
             [
              0.3333333333333333,
              "#9c179e"
             ],
             [
              0.4444444444444444,
              "#bd3786"
             ],
             [
              0.5555555555555556,
              "#d8576b"
             ],
             [
              0.6666666666666666,
              "#ed7953"
             ],
             [
              0.7777777777777778,
              "#fb9f3a"
             ],
             [
              0.8888888888888888,
              "#fdca26"
             ],
             [
              1,
              "#f0f921"
             ]
            ],
            "type": "histogram2d"
           }
          ],
          "histogram2dcontour": [
           {
            "colorbar": {
             "outlinewidth": 0,
             "ticks": ""
            },
            "colorscale": [
             [
              0,
              "#0d0887"
             ],
             [
              0.1111111111111111,
              "#46039f"
             ],
             [
              0.2222222222222222,
              "#7201a8"
             ],
             [
              0.3333333333333333,
              "#9c179e"
             ],
             [
              0.4444444444444444,
              "#bd3786"
             ],
             [
              0.5555555555555556,
              "#d8576b"
             ],
             [
              0.6666666666666666,
              "#ed7953"
             ],
             [
              0.7777777777777778,
              "#fb9f3a"
             ],
             [
              0.8888888888888888,
              "#fdca26"
             ],
             [
              1,
              "#f0f921"
             ]
            ],
            "type": "histogram2dcontour"
           }
          ],
          "mesh3d": [
           {
            "colorbar": {
             "outlinewidth": 0,
             "ticks": ""
            },
            "type": "mesh3d"
           }
          ],
          "parcoords": [
           {
            "line": {
             "colorbar": {
              "outlinewidth": 0,
              "ticks": ""
             }
            },
            "type": "parcoords"
           }
          ],
          "pie": [
           {
            "automargin": true,
            "type": "pie"
           }
          ],
          "scatter": [
           {
            "marker": {
             "colorbar": {
              "outlinewidth": 0,
              "ticks": ""
             }
            },
            "type": "scatter"
           }
          ],
          "scatter3d": [
           {
            "line": {
             "colorbar": {
              "outlinewidth": 0,
              "ticks": ""
             }
            },
            "marker": {
             "colorbar": {
              "outlinewidth": 0,
              "ticks": ""
             }
            },
            "type": "scatter3d"
           }
          ],
          "scattercarpet": [
           {
            "marker": {
             "colorbar": {
              "outlinewidth": 0,
              "ticks": ""
             }
            },
            "type": "scattercarpet"
           }
          ],
          "scattergeo": [
           {
            "marker": {
             "colorbar": {
              "outlinewidth": 0,
              "ticks": ""
             }
            },
            "type": "scattergeo"
           }
          ],
          "scattergl": [
           {
            "marker": {
             "colorbar": {
              "outlinewidth": 0,
              "ticks": ""
             }
            },
            "type": "scattergl"
           }
          ],
          "scattermapbox": [
           {
            "marker": {
             "colorbar": {
              "outlinewidth": 0,
              "ticks": ""
             }
            },
            "type": "scattermapbox"
           }
          ],
          "scatterpolar": [
           {
            "marker": {
             "colorbar": {
              "outlinewidth": 0,
              "ticks": ""
             }
            },
            "type": "scatterpolar"
           }
          ],
          "scatterpolargl": [
           {
            "marker": {
             "colorbar": {
              "outlinewidth": 0,
              "ticks": ""
             }
            },
            "type": "scatterpolargl"
           }
          ],
          "scatterternary": [
           {
            "marker": {
             "colorbar": {
              "outlinewidth": 0,
              "ticks": ""
             }
            },
            "type": "scatterternary"
           }
          ],
          "surface": [
           {
            "colorbar": {
             "outlinewidth": 0,
             "ticks": ""
            },
            "colorscale": [
             [
              0,
              "#0d0887"
             ],
             [
              0.1111111111111111,
              "#46039f"
             ],
             [
              0.2222222222222222,
              "#7201a8"
             ],
             [
              0.3333333333333333,
              "#9c179e"
             ],
             [
              0.4444444444444444,
              "#bd3786"
             ],
             [
              0.5555555555555556,
              "#d8576b"
             ],
             [
              0.6666666666666666,
              "#ed7953"
             ],
             [
              0.7777777777777778,
              "#fb9f3a"
             ],
             [
              0.8888888888888888,
              "#fdca26"
             ],
             [
              1,
              "#f0f921"
             ]
            ],
            "type": "surface"
           }
          ],
          "table": [
           {
            "cells": {
             "fill": {
              "color": "#EBF0F8"
             },
             "line": {
              "color": "white"
             }
            },
            "header": {
             "fill": {
              "color": "#C8D4E3"
             },
             "line": {
              "color": "white"
             }
            },
            "type": "table"
           }
          ]
         },
         "layout": {
          "annotationdefaults": {
           "arrowcolor": "#2a3f5f",
           "arrowhead": 0,
           "arrowwidth": 1
          },
          "autotypenumbers": "strict",
          "coloraxis": {
           "colorbar": {
            "outlinewidth": 0,
            "ticks": ""
           }
          },
          "colorscale": {
           "diverging": [
            [
             0,
             "#8e0152"
            ],
            [
             0.1,
             "#c51b7d"
            ],
            [
             0.2,
             "#de77ae"
            ],
            [
             0.3,
             "#f1b6da"
            ],
            [
             0.4,
             "#fde0ef"
            ],
            [
             0.5,
             "#f7f7f7"
            ],
            [
             0.6,
             "#e6f5d0"
            ],
            [
             0.7,
             "#b8e186"
            ],
            [
             0.8,
             "#7fbc41"
            ],
            [
             0.9,
             "#4d9221"
            ],
            [
             1,
             "#276419"
            ]
           ],
           "sequential": [
            [
             0,
             "#0d0887"
            ],
            [
             0.1111111111111111,
             "#46039f"
            ],
            [
             0.2222222222222222,
             "#7201a8"
            ],
            [
             0.3333333333333333,
             "#9c179e"
            ],
            [
             0.4444444444444444,
             "#bd3786"
            ],
            [
             0.5555555555555556,
             "#d8576b"
            ],
            [
             0.6666666666666666,
             "#ed7953"
            ],
            [
             0.7777777777777778,
             "#fb9f3a"
            ],
            [
             0.8888888888888888,
             "#fdca26"
            ],
            [
             1,
             "#f0f921"
            ]
           ],
           "sequentialminus": [
            [
             0,
             "#0d0887"
            ],
            [
             0.1111111111111111,
             "#46039f"
            ],
            [
             0.2222222222222222,
             "#7201a8"
            ],
            [
             0.3333333333333333,
             "#9c179e"
            ],
            [
             0.4444444444444444,
             "#bd3786"
            ],
            [
             0.5555555555555556,
             "#d8576b"
            ],
            [
             0.6666666666666666,
             "#ed7953"
            ],
            [
             0.7777777777777778,
             "#fb9f3a"
            ],
            [
             0.8888888888888888,
             "#fdca26"
            ],
            [
             1,
             "#f0f921"
            ]
           ]
          },
          "colorway": [
           "#636efa",
           "#EF553B",
           "#00cc96",
           "#ab63fa",
           "#FFA15A",
           "#19d3f3",
           "#FF6692",
           "#B6E880",
           "#FF97FF",
           "#FECB52"
          ],
          "font": {
           "color": "#2a3f5f"
          },
          "geo": {
           "bgcolor": "white",
           "lakecolor": "white",
           "landcolor": "#E5ECF6",
           "showlakes": true,
           "showland": true,
           "subunitcolor": "white"
          },
          "hoverlabel": {
           "align": "left"
          },
          "hovermode": "closest",
          "mapbox": {
           "style": "light"
          },
          "paper_bgcolor": "white",
          "plot_bgcolor": "#E5ECF6",
          "polar": {
           "angularaxis": {
            "gridcolor": "white",
            "linecolor": "white",
            "ticks": ""
           },
           "bgcolor": "#E5ECF6",
           "radialaxis": {
            "gridcolor": "white",
            "linecolor": "white",
            "ticks": ""
           }
          },
          "scene": {
           "xaxis": {
            "backgroundcolor": "#E5ECF6",
            "gridcolor": "white",
            "gridwidth": 2,
            "linecolor": "white",
            "showbackground": true,
            "ticks": "",
            "zerolinecolor": "white"
           },
           "yaxis": {
            "backgroundcolor": "#E5ECF6",
            "gridcolor": "white",
            "gridwidth": 2,
            "linecolor": "white",
            "showbackground": true,
            "ticks": "",
            "zerolinecolor": "white"
           },
           "zaxis": {
            "backgroundcolor": "#E5ECF6",
            "gridcolor": "white",
            "gridwidth": 2,
            "linecolor": "white",
            "showbackground": true,
            "ticks": "",
            "zerolinecolor": "white"
           }
          },
          "shapedefaults": {
           "line": {
            "color": "#2a3f5f"
           }
          },
          "ternary": {
           "aaxis": {
            "gridcolor": "white",
            "linecolor": "white",
            "ticks": ""
           },
           "baxis": {
            "gridcolor": "white",
            "linecolor": "white",
            "ticks": ""
           },
           "bgcolor": "#E5ECF6",
           "caxis": {
            "gridcolor": "white",
            "linecolor": "white",
            "ticks": ""
           }
          },
          "title": {
           "x": 0.05
          },
          "xaxis": {
           "automargin": true,
           "gridcolor": "white",
           "linecolor": "white",
           "ticks": "",
           "title": {
            "standoff": 15
           },
           "zerolinecolor": "white",
           "zerolinewidth": 2
          },
          "yaxis": {
           "automargin": true,
           "gridcolor": "white",
           "linecolor": "white",
           "ticks": "",
           "title": {
            "standoff": 15
           },
           "zerolinecolor": "white",
           "zerolinewidth": 2
          }
         }
        },
        "xaxis": {
         "title": {
          "text": "Date"
         }
        },
        "yaxis": {
         "title": {
          "text": "Subjectivity score"
         }
        }
       }
      },
      "text/html": [
       "<div>                            <div id=\"871efbc2-b9f5-43b9-97ae-ce5bd94d901a\" class=\"plotly-graph-div\" style=\"height:525px; width:100%;\"></div>            <script type=\"text/javascript\">                require([\"plotly\"], function(Plotly) {                    window.PLOTLYENV=window.PLOTLYENV || {};                                    if (document.getElementById(\"871efbc2-b9f5-43b9-97ae-ce5bd94d901a\")) {                    Plotly.newPlot(                        \"871efbc2-b9f5-43b9-97ae-ce5bd94d901a\",                        [{\"mode\": \"lines\", \"name\": \"Mean\", \"type\": \"scatter\", \"x\": [\"2021-01-01\", \"2021-01-02\", \"2021-01-03\", \"2021-01-04\", \"2021-01-05\", \"2021-01-06\", \"2021-01-07\", \"2021-01-08\", \"2021-01-09\", \"2021-01-10\", \"2021-01-11\", \"2021-01-12\", \"2021-01-13\", \"2021-01-14\", \"2021-01-15\", \"2021-01-16\", \"2021-01-17\", \"2021-01-18\", \"2021-01-19\", \"2021-01-20\", \"2021-01-21\", \"2021-01-22\", \"2021-01-23\", \"2021-01-24\", \"2021-01-25\", \"2021-01-26\", \"2021-01-27\", \"2021-01-28\", \"2021-01-29\", \"2021-01-30\", \"2021-01-31\", \"2021-02-01\", \"2021-02-02\", \"2021-02-03\", \"2021-02-04\", \"2021-02-05\", \"2021-02-06\", \"2021-02-07\", \"2021-02-08\", \"2021-02-09\", \"2021-02-10\", \"2021-02-11\", \"2021-02-12\", \"2021-02-13\", \"2021-02-14\", \"2021-02-15\", \"2021-02-16\", \"2021-02-17\", \"2021-02-18\", \"2021-02-19\", \"2021-02-20\", \"2021-02-21\", \"2021-02-22\", \"2021-02-23\", \"2021-02-24\", \"2021-02-25\", \"2021-02-26\", \"2021-02-27\", \"2021-02-28\", \"2021-03-01\", \"2021-03-02\", \"2021-03-03\", \"2021-03-04\", \"2021-03-05\", \"2021-03-06\", \"2021-03-08\", \"2021-03-09\", \"2021-03-10\", \"2021-03-11\", \"2021-03-12\", \"2021-03-13\", \"2021-03-14\", \"2021-03-15\", \"2021-03-16\", \"2021-03-17\", \"2021-03-18\", \"2021-03-19\", \"2021-03-20\", \"2021-03-21\", \"2021-03-22\", \"2021-03-23\", \"2021-03-24\", \"2021-03-25\", \"2021-03-26\", \"2021-03-27\", \"2021-03-28\", \"2021-03-29\", \"2021-03-30\", \"2021-03-31\", \"2021-04-01\", \"2021-04-02\", \"2021-04-03\", \"2021-04-04\", \"2021-04-05\", \"2021-04-06\", \"2021-04-07\", \"2021-04-08\", \"2021-04-09\", \"2021-04-10\", \"2021-04-11\", \"2021-04-12\", \"2021-04-13\", \"2021-04-14\", \"2021-04-15\", \"2021-04-16\", \"2021-04-17\", \"2021-04-18\", \"2021-04-19\", \"2021-04-20\", \"2021-04-21\", \"2021-04-22\", \"2021-04-23\", \"2021-04-24\", \"2021-04-25\", \"2021-04-26\", \"2021-04-27\", \"2021-04-28\", \"2021-04-29\", \"2021-04-30\", \"2021-05-01\", \"2021-05-02\", \"2021-05-03\", \"2021-05-04\", \"2021-05-05\", \"2021-05-06\", \"2021-05-07\", \"2021-05-08\", \"2021-05-09\", \"2021-05-10\", \"2021-05-11\", \"2021-05-12\", \"2021-05-13\", \"2021-05-14\", \"2021-05-15\", \"2021-05-16\", \"2021-05-17\", \"2021-05-18\", \"2021-05-19\", \"2021-05-20\", \"2021-05-21\", \"2021-05-22\", \"2021-05-23\", \"2021-05-24\", \"2021-05-25\", \"2021-05-26\", \"2021-05-27\", \"2021-05-28\", \"2021-05-30\"], \"y\": [0.2561602041924622, 0.25144696969696967, 0.3387047898338221, 0.20411242282210026, 0.2322007323620227, 0.2970185728250245, 0.24569437332878194, 0.25773386708870577, 0.32175095812192583, 0.2387099489518844, 0.26436654489477074, 0.1939801238188335, 0.3111412512218964, 0.2300059581995066, 0.31949888283759253, 0.3411800803736288, 0.13868667861409795, 0.24013440860215055, 0.26766039814426906, 0.32655470992567764, 0.20382445809865166, 0.3521854024112088, 0.23121961550993808, 0.12560745705906998, 0.3773185386895064, 0.21616184890378437, 0.32459275551211036, 0.10190833061800803, 0.16849794411084731, 0.3206983273596176, 0.3206983273596176, 0.3206983273596176, 0.3206983273596176, 0.3206983273596176, 0.3206983273596176, 0.3206983273596176, 0.3206983273596176, 0.3206983273596176, 0.3206983273596176, 0.3206983273596176, 0.3206983273596176, 0.3206983273596176, 0.3206983273596176, 0.3206983273596176, 0.3206983273596176, 0.3206983273596176, 0.3206983273596176, 0.3206983273596176, 0.3202356385152084, 0.3202356385152084, 0.3202356385152084, 0.3202356385152084, 0.3169239346873755, 0.11964537851634624, 0.1170772238514174, 0.2852222222222222, 0.2852222222222222, 0.29098533724340175, 0.29098533724340175, 0.29098533724340175, 0.29098533724340175, 0.14919184161119645, 0.23377260055754676, 0.19106060606060604, 0.2680549349097736, 0.19532659932659935, 0.2366629040016137, 0.30657430681624237, 0.2880953156759609, 0.138214945150429, 0.23490717466523917, 0.11659275551211033, 0.29161802355350747, 0.18517774519387423, 0.16608178559791464, 0.19922264115812502, 0.19555121103508197, 0.25087071431157454, 0.26131378299120234, 0.3787292277614858, 0.23246427407717732, 0.3147197784294558, 0.21500411177830533, 0.23397415010318234, 0.18087014061207607, 0.23748219522413072, 0.20759025741283807, 0.17187873357228198, 0.35501547735418704, 0.21863620847491816, 0.2844356467904855, 0.17323237753882914, 0.24977279931196986, 0.20330272773821162, 0.283591444397896, 0.14845323434033114, 0.15542543716737267, 0.29235065710872166, 0.17481182795698924, 0.23204064195462046, 0.16881720430107527, 0.2649136526555882, 0.25860649505810795, 0.24621597697404152, 0.24819686884203013, 0.21330514049868887, 0.32203405017921155, 0.15304659498207887, 0.2829510155316607, 0.20866742178570136, 0.29272379711089386, 0.20876344086021503, 0.1575337476143928, 0.20677931387608806, 0.1886805339224694, 0.2283435972629521, 0.21991502117953732, 0.28198845210941986, 0.22896296296296298, 0.21213532560629333, 0.29717008797653954, 0.29107459903696464, 0.14792417260159196, 0.2638661887694146, 0.3318124796350602, 0.2535371378919766, 0.28499149198073925, 0.2154138155751059, 0.1947612220515446, 0.13556695992179862, 0.19407962109575014, 0.10626045400238948, 0.17164149172213689, 0.15205325140809012, 0.2856788313239927, 0.14349462365591398, 0.17431614532420983, 0.18666556502040368, 0.26534267405235146, 0.22938090583251872, 0.21149536843085232, 0.21992319508448538, 0.24480286738351253, 0.11595144998370804, 0.27299380905832515, 0.20190321029030708, 0.15735907461713916, 0.20773313782991204]}, {\"mode\": \"lines\", \"name\": \"Min\", \"type\": \"scatter\", \"x\": [\"2021-01-01\", \"2021-01-02\", \"2021-01-03\", \"2021-01-04\", \"2021-01-05\", \"2021-01-06\", \"2021-01-07\", \"2021-01-08\", \"2021-01-09\", \"2021-01-10\", \"2021-01-11\", \"2021-01-12\", \"2021-01-13\", \"2021-01-14\", \"2021-01-15\", \"2021-01-16\", \"2021-01-17\", \"2021-01-18\", \"2021-01-19\", \"2021-01-20\", \"2021-01-21\", \"2021-01-22\", \"2021-01-23\", \"2021-01-24\", \"2021-01-25\", \"2021-01-26\", \"2021-01-27\", \"2021-01-28\", \"2021-01-29\", \"2021-01-30\", \"2021-01-31\", \"2021-02-01\", \"2021-02-02\", \"2021-02-03\", \"2021-02-04\", \"2021-02-05\", \"2021-02-06\", \"2021-02-07\", \"2021-02-08\", \"2021-02-09\", \"2021-02-10\", \"2021-02-11\", \"2021-02-12\", \"2021-02-13\", \"2021-02-14\", \"2021-02-15\", \"2021-02-16\", \"2021-02-17\", \"2021-02-18\", \"2021-02-19\", \"2021-02-20\", \"2021-02-21\", \"2021-02-22\", \"2021-02-23\", \"2021-02-24\", \"2021-02-25\", \"2021-02-26\", \"2021-02-27\", \"2021-02-28\", \"2021-03-01\", \"2021-03-02\", \"2021-03-03\", \"2021-03-04\", \"2021-03-05\", \"2021-03-06\", \"2021-03-08\", \"2021-03-09\", \"2021-03-10\", \"2021-03-11\", \"2021-03-12\", \"2021-03-13\", \"2021-03-14\", \"2021-03-15\", \"2021-03-16\", \"2021-03-17\", \"2021-03-18\", \"2021-03-19\", \"2021-03-20\", \"2021-03-21\", \"2021-03-22\", \"2021-03-23\", \"2021-03-24\", \"2021-03-25\", \"2021-03-26\", \"2021-03-27\", \"2021-03-28\", \"2021-03-29\", \"2021-03-30\", \"2021-03-31\", \"2021-04-01\", \"2021-04-02\", \"2021-04-03\", \"2021-04-04\", \"2021-04-05\", \"2021-04-06\", \"2021-04-07\", \"2021-04-08\", \"2021-04-09\", \"2021-04-10\", \"2021-04-11\", \"2021-04-12\", \"2021-04-13\", \"2021-04-14\", \"2021-04-15\", \"2021-04-16\", \"2021-04-17\", \"2021-04-18\", \"2021-04-19\", \"2021-04-20\", \"2021-04-21\", \"2021-04-22\", \"2021-04-23\", \"2021-04-24\", \"2021-04-25\", \"2021-04-26\", \"2021-04-27\", \"2021-04-28\", \"2021-04-29\", \"2021-04-30\", \"2021-05-01\", \"2021-05-02\", \"2021-05-03\", \"2021-05-04\", \"2021-05-05\", \"2021-05-06\", \"2021-05-07\", \"2021-05-08\", \"2021-05-09\", \"2021-05-10\", \"2021-05-11\", \"2021-05-12\", \"2021-05-13\", \"2021-05-14\", \"2021-05-15\", \"2021-05-16\", \"2021-05-17\", \"2021-05-18\", \"2021-05-19\", \"2021-05-20\", \"2021-05-21\", \"2021-05-22\", \"2021-05-23\", \"2021-05-24\", \"2021-05-25\", \"2021-05-26\", \"2021-05-27\", \"2021-05-28\", \"2021-05-30\"], \"y\": [0.0, 0.0, 0.0, 0.0, 0.0, 0.0, 0.0, 0.0, 0.0, 0.0, 0.0, 0.0, 0.0, 0.0, 0.0, 0.0, 0.0, 0.0, 0.0, 0.0, 0.0, 0.0, 0.0, 0.0, 0.0, 0.0, 0.0, 0.0, 0.0, 0.0, 0.0, 0.0, 0.0, 0.0, 0.0, 0.0, 0.0, 0.0, 0.0, 0.0, 0.0, 0.0, 0.0, 0.0, 0.0, 0.0, 0.0, 0.0, 0.0, 0.0, 0.0, 0.0, 0.0, 0.0, 0.0, 0.0, 0.0, 0.0, 0.0, 0.0, 0.0, 0.0, 0.0, 0.0, 0.0, 0.0, 0.0, 0.0, 0.0, 0.0, 0.0, 0.0, 0.0, 0.0, 0.0, 0.0, 0.0, 0.0, 0.0, 0.0, 0.0, 0.0, 0.0, 0.0, 0.0, 0.0, 0.0, 0.0, 0.0, 0.0, 0.0, 0.0, 0.0, 0.0, 0.0, 0.0, 0.0, 0.0, 0.0, 0.0, 0.0, 0.0, 0.0, 0.0, 0.0, 0.0, 0.0, 0.0, 0.0, 0.0, 0.0, 0.0, 0.0, 0.0, 0.0, 0.0, 0.0, 0.0, 0.0, 0.0, 0.0, 0.0, 0.0, 0.0, 0.0, 0.0, 0.0, 0.0, 0.0, 0.0, 0.0, 0.0, 0.0, 0.0, 0.0, 0.0, 0.0, 0.0, 0.0, 0.0, 0.0, 0.0, 0.0, 0.0, 0.0, 0.0, 0.0, 0.0]}, {\"mode\": \"lines\", \"name\": \"Max\", \"type\": \"scatter\", \"x\": [\"2021-01-01\", \"2021-01-02\", \"2021-01-03\", \"2021-01-04\", \"2021-01-05\", \"2021-01-06\", \"2021-01-07\", \"2021-01-08\", \"2021-01-09\", \"2021-01-10\", \"2021-01-11\", \"2021-01-12\", \"2021-01-13\", \"2021-01-14\", \"2021-01-15\", \"2021-01-16\", \"2021-01-17\", \"2021-01-18\", \"2021-01-19\", \"2021-01-20\", \"2021-01-21\", \"2021-01-22\", \"2021-01-23\", \"2021-01-24\", \"2021-01-25\", \"2021-01-26\", \"2021-01-27\", \"2021-01-28\", \"2021-01-29\", \"2021-01-30\", \"2021-01-31\", \"2021-02-01\", \"2021-02-02\", \"2021-02-03\", \"2021-02-04\", \"2021-02-05\", \"2021-02-06\", \"2021-02-07\", \"2021-02-08\", \"2021-02-09\", \"2021-02-10\", \"2021-02-11\", \"2021-02-12\", \"2021-02-13\", \"2021-02-14\", \"2021-02-15\", \"2021-02-16\", \"2021-02-17\", \"2021-02-18\", \"2021-02-19\", \"2021-02-20\", \"2021-02-21\", \"2021-02-22\", \"2021-02-23\", \"2021-02-24\", \"2021-02-25\", \"2021-02-26\", \"2021-02-27\", \"2021-02-28\", \"2021-03-01\", \"2021-03-02\", \"2021-03-03\", \"2021-03-04\", \"2021-03-05\", \"2021-03-06\", \"2021-03-08\", \"2021-03-09\", \"2021-03-10\", \"2021-03-11\", \"2021-03-12\", \"2021-03-13\", \"2021-03-14\", \"2021-03-15\", \"2021-03-16\", \"2021-03-17\", \"2021-03-18\", \"2021-03-19\", \"2021-03-20\", \"2021-03-21\", \"2021-03-22\", \"2021-03-23\", \"2021-03-24\", \"2021-03-25\", \"2021-03-26\", \"2021-03-27\", \"2021-03-28\", \"2021-03-29\", \"2021-03-30\", \"2021-03-31\", \"2021-04-01\", \"2021-04-02\", \"2021-04-03\", \"2021-04-04\", \"2021-04-05\", \"2021-04-06\", \"2021-04-07\", \"2021-04-08\", \"2021-04-09\", \"2021-04-10\", \"2021-04-11\", \"2021-04-12\", \"2021-04-13\", \"2021-04-14\", \"2021-04-15\", \"2021-04-16\", \"2021-04-17\", \"2021-04-18\", \"2021-04-19\", \"2021-04-20\", \"2021-04-21\", \"2021-04-22\", \"2021-04-23\", \"2021-04-24\", \"2021-04-25\", \"2021-04-26\", \"2021-04-27\", \"2021-04-28\", \"2021-04-29\", \"2021-04-30\", \"2021-05-01\", \"2021-05-02\", \"2021-05-03\", \"2021-05-04\", \"2021-05-05\", \"2021-05-06\", \"2021-05-07\", \"2021-05-08\", \"2021-05-09\", \"2021-05-10\", \"2021-05-11\", \"2021-05-12\", \"2021-05-13\", \"2021-05-14\", \"2021-05-15\", \"2021-05-16\", \"2021-05-17\", \"2021-05-18\", \"2021-05-19\", \"2021-05-20\", \"2021-05-21\", \"2021-05-22\", \"2021-05-23\", \"2021-05-24\", \"2021-05-25\", \"2021-05-26\", \"2021-05-27\", \"2021-05-28\", \"2021-05-30\"], \"y\": [1.0, 0.8, 1.0, 0.8, 1.0, 0.9750000000000001, 1.0, 0.9, 1.0, 1.0, 1.0, 1.0, 1.0, 0.9285714285714286, 1.0, 1.0, 1.0, 0.8333333333333334, 1.0, 1.0, 1.0, 1.0, 1.0, 0.7, 1.0, 0.7, 1.0, 0.525, 1.0, 1.0, 1.0, 1.0, 1.0, 1.0, 1.0, 1.0, 1.0, 1.0, 1.0, 1.0, 1.0, 1.0, 1.0, 1.0, 1.0, 1.0, 1.0, 1.0, 1.0, 1.0, 1.0, 1.0, 1.0, 0.5416666666666666, 0.5, 1.0, 1.0, 1.0, 1.0, 1.0, 1.0, 0.5, 1.0, 1.0, 1.0, 1.0, 0.75, 1.0, 0.9, 0.775, 1.0, 0.5666666666666667, 1.0, 0.75, 0.638888888888889, 0.6000000000000001, 1.0, 1.0, 1.0, 1.0, 0.8, 1.0, 1.0, 1.0, 1.0, 0.8888888888888888, 0.8333333333333334, 0.8, 0.9, 1.0, 1.0, 1.0, 0.6625, 0.5444444444444444, 1.0, 1.0, 1.0, 1.0, 1.0, 1.0, 0.5, 1.0, 1.0, 0.8, 1.0, 1.0, 1.0, 0.8, 1.0, 1.0, 1.0, 1.0, 0.7, 0.9, 0.8, 0.95, 1.0, 1.0, 1.0, 1.0, 1.0, 1.0, 0.5454545454545454, 0.8333333333333333, 1.0, 0.775, 1.0, 1.0, 1.0, 0.6666666666666667, 0.7785714285714285, 0.7, 1.0, 1.0, 1.0, 0.625, 0.6, 0.9, 0.875, 0.8875, 0.6666666666666667, 1.0, 1.0, 0.9, 1.0, 1.0, 1.0, 0.8]}],                        {\"annotations\": [{\"font\": {\"color\": \"rgb(37,37,37)\", \"family\": \"Arial\", \"size\": 30}, \"showarrow\": false, \"text\": \"Development of subjectivity score\", \"x\": 0.0, \"xanchor\": \"left\", \"xref\": \"paper\", \"y\": 1.05, \"yanchor\": \"bottom\", \"yref\": \"paper\"}], \"template\": {\"data\": {\"bar\": [{\"error_x\": {\"color\": \"#2a3f5f\"}, \"error_y\": {\"color\": \"#2a3f5f\"}, \"marker\": {\"line\": {\"color\": \"#E5ECF6\", \"width\": 0.5}}, \"type\": \"bar\"}], \"barpolar\": [{\"marker\": {\"line\": {\"color\": \"#E5ECF6\", \"width\": 0.5}}, \"type\": \"barpolar\"}], \"carpet\": [{\"aaxis\": {\"endlinecolor\": \"#2a3f5f\", \"gridcolor\": \"white\", \"linecolor\": \"white\", \"minorgridcolor\": \"white\", \"startlinecolor\": \"#2a3f5f\"}, \"baxis\": {\"endlinecolor\": \"#2a3f5f\", \"gridcolor\": \"white\", \"linecolor\": \"white\", \"minorgridcolor\": \"white\", \"startlinecolor\": \"#2a3f5f\"}, \"type\": \"carpet\"}], \"choropleth\": [{\"colorbar\": {\"outlinewidth\": 0, \"ticks\": \"\"}, \"type\": \"choropleth\"}], \"contour\": [{\"colorbar\": {\"outlinewidth\": 0, \"ticks\": \"\"}, \"colorscale\": [[0.0, \"#0d0887\"], [0.1111111111111111, \"#46039f\"], [0.2222222222222222, \"#7201a8\"], [0.3333333333333333, \"#9c179e\"], [0.4444444444444444, \"#bd3786\"], [0.5555555555555556, \"#d8576b\"], [0.6666666666666666, \"#ed7953\"], [0.7777777777777778, \"#fb9f3a\"], [0.8888888888888888, \"#fdca26\"], [1.0, \"#f0f921\"]], \"type\": \"contour\"}], \"contourcarpet\": [{\"colorbar\": {\"outlinewidth\": 0, \"ticks\": \"\"}, \"type\": \"contourcarpet\"}], \"heatmap\": [{\"colorbar\": {\"outlinewidth\": 0, \"ticks\": \"\"}, \"colorscale\": [[0.0, \"#0d0887\"], [0.1111111111111111, \"#46039f\"], [0.2222222222222222, \"#7201a8\"], [0.3333333333333333, \"#9c179e\"], [0.4444444444444444, \"#bd3786\"], [0.5555555555555556, \"#d8576b\"], [0.6666666666666666, \"#ed7953\"], [0.7777777777777778, \"#fb9f3a\"], [0.8888888888888888, \"#fdca26\"], [1.0, \"#f0f921\"]], \"type\": \"heatmap\"}], \"heatmapgl\": [{\"colorbar\": {\"outlinewidth\": 0, \"ticks\": \"\"}, \"colorscale\": [[0.0, \"#0d0887\"], [0.1111111111111111, \"#46039f\"], [0.2222222222222222, \"#7201a8\"], [0.3333333333333333, \"#9c179e\"], [0.4444444444444444, \"#bd3786\"], [0.5555555555555556, \"#d8576b\"], [0.6666666666666666, \"#ed7953\"], [0.7777777777777778, \"#fb9f3a\"], [0.8888888888888888, \"#fdca26\"], [1.0, \"#f0f921\"]], \"type\": \"heatmapgl\"}], \"histogram\": [{\"marker\": {\"colorbar\": {\"outlinewidth\": 0, \"ticks\": \"\"}}, \"type\": \"histogram\"}], \"histogram2d\": [{\"colorbar\": {\"outlinewidth\": 0, \"ticks\": \"\"}, \"colorscale\": [[0.0, \"#0d0887\"], [0.1111111111111111, \"#46039f\"], [0.2222222222222222, \"#7201a8\"], [0.3333333333333333, \"#9c179e\"], [0.4444444444444444, \"#bd3786\"], [0.5555555555555556, \"#d8576b\"], [0.6666666666666666, \"#ed7953\"], [0.7777777777777778, \"#fb9f3a\"], [0.8888888888888888, \"#fdca26\"], [1.0, \"#f0f921\"]], \"type\": \"histogram2d\"}], \"histogram2dcontour\": [{\"colorbar\": {\"outlinewidth\": 0, \"ticks\": \"\"}, \"colorscale\": [[0.0, \"#0d0887\"], [0.1111111111111111, \"#46039f\"], [0.2222222222222222, \"#7201a8\"], [0.3333333333333333, \"#9c179e\"], [0.4444444444444444, \"#bd3786\"], [0.5555555555555556, \"#d8576b\"], [0.6666666666666666, \"#ed7953\"], [0.7777777777777778, \"#fb9f3a\"], [0.8888888888888888, \"#fdca26\"], [1.0, \"#f0f921\"]], \"type\": \"histogram2dcontour\"}], \"mesh3d\": [{\"colorbar\": {\"outlinewidth\": 0, \"ticks\": \"\"}, \"type\": \"mesh3d\"}], \"parcoords\": [{\"line\": {\"colorbar\": {\"outlinewidth\": 0, \"ticks\": \"\"}}, \"type\": \"parcoords\"}], \"pie\": [{\"automargin\": true, \"type\": \"pie\"}], \"scatter\": [{\"marker\": {\"colorbar\": {\"outlinewidth\": 0, \"ticks\": \"\"}}, \"type\": \"scatter\"}], \"scatter3d\": [{\"line\": {\"colorbar\": {\"outlinewidth\": 0, \"ticks\": \"\"}}, \"marker\": {\"colorbar\": {\"outlinewidth\": 0, \"ticks\": \"\"}}, \"type\": \"scatter3d\"}], \"scattercarpet\": [{\"marker\": {\"colorbar\": {\"outlinewidth\": 0, \"ticks\": \"\"}}, \"type\": \"scattercarpet\"}], \"scattergeo\": [{\"marker\": {\"colorbar\": {\"outlinewidth\": 0, \"ticks\": \"\"}}, \"type\": \"scattergeo\"}], \"scattergl\": [{\"marker\": {\"colorbar\": {\"outlinewidth\": 0, \"ticks\": \"\"}}, \"type\": \"scattergl\"}], \"scattermapbox\": [{\"marker\": {\"colorbar\": {\"outlinewidth\": 0, \"ticks\": \"\"}}, \"type\": \"scattermapbox\"}], \"scatterpolar\": [{\"marker\": {\"colorbar\": {\"outlinewidth\": 0, \"ticks\": \"\"}}, \"type\": \"scatterpolar\"}], \"scatterpolargl\": [{\"marker\": {\"colorbar\": {\"outlinewidth\": 0, \"ticks\": \"\"}}, \"type\": \"scatterpolargl\"}], \"scatterternary\": [{\"marker\": {\"colorbar\": {\"outlinewidth\": 0, \"ticks\": \"\"}}, \"type\": \"scatterternary\"}], \"surface\": [{\"colorbar\": {\"outlinewidth\": 0, \"ticks\": \"\"}, \"colorscale\": [[0.0, \"#0d0887\"], [0.1111111111111111, \"#46039f\"], [0.2222222222222222, \"#7201a8\"], [0.3333333333333333, \"#9c179e\"], [0.4444444444444444, \"#bd3786\"], [0.5555555555555556, \"#d8576b\"], [0.6666666666666666, \"#ed7953\"], [0.7777777777777778, \"#fb9f3a\"], [0.8888888888888888, \"#fdca26\"], [1.0, \"#f0f921\"]], \"type\": \"surface\"}], \"table\": [{\"cells\": {\"fill\": {\"color\": \"#EBF0F8\"}, \"line\": {\"color\": \"white\"}}, \"header\": {\"fill\": {\"color\": \"#C8D4E3\"}, \"line\": {\"color\": \"white\"}}, \"type\": \"table\"}]}, \"layout\": {\"annotationdefaults\": {\"arrowcolor\": \"#2a3f5f\", \"arrowhead\": 0, \"arrowwidth\": 1}, \"autotypenumbers\": \"strict\", \"coloraxis\": {\"colorbar\": {\"outlinewidth\": 0, \"ticks\": \"\"}}, \"colorscale\": {\"diverging\": [[0, \"#8e0152\"], [0.1, \"#c51b7d\"], [0.2, \"#de77ae\"], [0.3, \"#f1b6da\"], [0.4, \"#fde0ef\"], [0.5, \"#f7f7f7\"], [0.6, \"#e6f5d0\"], [0.7, \"#b8e186\"], [0.8, \"#7fbc41\"], [0.9, \"#4d9221\"], [1, \"#276419\"]], \"sequential\": [[0.0, \"#0d0887\"], [0.1111111111111111, \"#46039f\"], [0.2222222222222222, \"#7201a8\"], [0.3333333333333333, \"#9c179e\"], [0.4444444444444444, \"#bd3786\"], [0.5555555555555556, \"#d8576b\"], [0.6666666666666666, \"#ed7953\"], [0.7777777777777778, \"#fb9f3a\"], [0.8888888888888888, \"#fdca26\"], [1.0, \"#f0f921\"]], \"sequentialminus\": [[0.0, \"#0d0887\"], [0.1111111111111111, \"#46039f\"], [0.2222222222222222, \"#7201a8\"], [0.3333333333333333, \"#9c179e\"], [0.4444444444444444, \"#bd3786\"], [0.5555555555555556, \"#d8576b\"], [0.6666666666666666, \"#ed7953\"], [0.7777777777777778, \"#fb9f3a\"], [0.8888888888888888, \"#fdca26\"], [1.0, \"#f0f921\"]]}, \"colorway\": [\"#636efa\", \"#EF553B\", \"#00cc96\", \"#ab63fa\", \"#FFA15A\", \"#19d3f3\", \"#FF6692\", \"#B6E880\", \"#FF97FF\", \"#FECB52\"], \"font\": {\"color\": \"#2a3f5f\"}, \"geo\": {\"bgcolor\": \"white\", \"lakecolor\": \"white\", \"landcolor\": \"#E5ECF6\", \"showlakes\": true, \"showland\": true, \"subunitcolor\": \"white\"}, \"hoverlabel\": {\"align\": \"left\"}, \"hovermode\": \"closest\", \"mapbox\": {\"style\": \"light\"}, \"paper_bgcolor\": \"white\", \"plot_bgcolor\": \"#E5ECF6\", \"polar\": {\"angularaxis\": {\"gridcolor\": \"white\", \"linecolor\": \"white\", \"ticks\": \"\"}, \"bgcolor\": \"#E5ECF6\", \"radialaxis\": {\"gridcolor\": \"white\", \"linecolor\": \"white\", \"ticks\": \"\"}}, \"scene\": {\"xaxis\": {\"backgroundcolor\": \"#E5ECF6\", \"gridcolor\": \"white\", \"gridwidth\": 2, \"linecolor\": \"white\", \"showbackground\": true, \"ticks\": \"\", \"zerolinecolor\": \"white\"}, \"yaxis\": {\"backgroundcolor\": \"#E5ECF6\", \"gridcolor\": \"white\", \"gridwidth\": 2, \"linecolor\": \"white\", \"showbackground\": true, \"ticks\": \"\", \"zerolinecolor\": \"white\"}, \"zaxis\": {\"backgroundcolor\": \"#E5ECF6\", \"gridcolor\": \"white\", \"gridwidth\": 2, \"linecolor\": \"white\", \"showbackground\": true, \"ticks\": \"\", \"zerolinecolor\": \"white\"}}, \"shapedefaults\": {\"line\": {\"color\": \"#2a3f5f\"}}, \"ternary\": {\"aaxis\": {\"gridcolor\": \"white\", \"linecolor\": \"white\", \"ticks\": \"\"}, \"baxis\": {\"gridcolor\": \"white\", \"linecolor\": \"white\", \"ticks\": \"\"}, \"bgcolor\": \"#E5ECF6\", \"caxis\": {\"gridcolor\": \"white\", \"linecolor\": \"white\", \"ticks\": \"\"}}, \"title\": {\"x\": 0.05}, \"xaxis\": {\"automargin\": true, \"gridcolor\": \"white\", \"linecolor\": \"white\", \"ticks\": \"\", \"title\": {\"standoff\": 15}, \"zerolinecolor\": \"white\", \"zerolinewidth\": 2}, \"yaxis\": {\"automargin\": true, \"gridcolor\": \"white\", \"linecolor\": \"white\", \"ticks\": \"\", \"title\": {\"standoff\": 15}, \"zerolinecolor\": \"white\", \"zerolinewidth\": 2}}}, \"xaxis\": {\"title\": {\"text\": \"Date\"}}, \"yaxis\": {\"title\": {\"text\": \"Subjectivity score\"}}},                        {\"responsive\": true}                    ).then(function(){\n",
       "                            \n",
       "var gd = document.getElementById('871efbc2-b9f5-43b9-97ae-ce5bd94d901a');\n",
       "var x = new MutationObserver(function (mutations, observer) {{\n",
       "        var display = window.getComputedStyle(gd).display;\n",
       "        if (!display || display === 'none') {{\n",
       "            console.log([gd, 'removed!']);\n",
       "            Plotly.purge(gd);\n",
       "            observer.disconnect();\n",
       "        }}\n",
       "}});\n",
       "\n",
       "// Listen for the removal of the full notebook cells\n",
       "var notebookContainer = gd.closest('#notebook-container');\n",
       "if (notebookContainer) {{\n",
       "    x.observe(notebookContainer, {childList: true});\n",
       "}}\n",
       "\n",
       "// Listen for the clearing of the current output cell\n",
       "var outputEl = gd.closest('.output');\n",
       "if (outputEl) {{\n",
       "    x.observe(outputEl, {childList: true});\n",
       "}}\n",
       "\n",
       "                        })                };                });            </script>        </div>"
      ]
     },
     "metadata": {},
     "output_type": "display_data"
    }
   ],
   "source": [
    "import plotly.graph_objects as go\n",
    "\n",
    "fig3 = go.Figure()\n",
    "fig3.add_trace(go.Scatter(x=df.date, y=df.subjectivity_mean,\n",
    "                    mode='lines',\n",
    "                    name='Mean'))\n",
    "fig3.add_trace(go.Scatter(x=df.date, y=df.subjectivity_min,\n",
    "                    mode='lines',\n",
    "                    name='Min'))\n",
    "fig3.add_trace(go.Scatter(x=df.date, y=df.subjectivity_max,\n",
    "                    mode='lines',\n",
    "                    name='Max'))\n",
    "title = []\n",
    "title.append(dict(xref='paper', yref='paper', x=0.0, y=1.05,\n",
    "                              xanchor='left', yanchor='bottom',\n",
    "                              text='Development of subjectivity score',\n",
    "                              font=dict(family='Arial',\n",
    "                                        size=30,\n",
    "                                        color='rgb(37,37,37)'),\n",
    "                              showarrow=False))\n",
    "fig3.update_layout(xaxis_title='Date',\n",
    "                   yaxis_title='Subjectivity score',\n",
    "                  annotations=title)\n",
    "fig3.show()"
   ]
  },
  {
   "cell_type": "code",
   "execution_count": null,
   "metadata": {},
   "outputs": [],
   "source": []
  }
 ],
 "metadata": {
  "kernelspec": {
   "display_name": "Python 3",
   "language": "python",
   "name": "python3"
  },
  "language_info": {
   "codemirror_mode": {
    "name": "ipython",
    "version": 3
   },
   "file_extension": ".py",
   "mimetype": "text/x-python",
   "name": "python",
   "nbconvert_exporter": "python",
   "pygments_lexer": "ipython3",
   "version": "3.7.4"
  },
  "toc": {
   "base_numbering": 1,
   "nav_menu": {},
   "number_sections": true,
   "sideBar": true,
   "skip_h1_title": false,
   "title_cell": "Table of Contents",
   "title_sidebar": "Contents",
   "toc_cell": false,
   "toc_position": {},
   "toc_section_display": true,
   "toc_window_display": true
  }
 },
 "nbformat": 4,
 "nbformat_minor": 2
}
