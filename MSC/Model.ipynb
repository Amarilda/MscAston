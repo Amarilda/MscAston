{
 "cells": [
  {
   "cell_type": "code",
   "execution_count": 1,
   "metadata": {
    "ExecuteTime": {
     "end_time": "2021-06-11T08:55:21.684211Z",
     "start_time": "2021-06-11T08:55:16.214574Z"
    }
   },
   "outputs": [],
   "source": [
    "import numpy as np\n",
    "import pandas as pd\n",
    "import sqlite3"
   ]
  },
  {
   "cell_type": "markdown",
   "metadata": {},
   "source": [
    "# Merge"
   ]
  },
  {
   "cell_type": "code",
   "execution_count": 10,
   "metadata": {
    "ExecuteTime": {
     "end_time": "2021-06-11T08:57:21.866134Z",
     "start_time": "2021-06-11T08:57:21.426649Z"
    }
   },
   "outputs": [
    {
     "name": "stdout",
     "output_type": "stream",
     "text": [
      "(161, 31)\n"
     ]
    },
    {
     "data": {
      "text/html": [
       "<div>\n",
       "<style scoped>\n",
       "    .dataframe tbody tr th:only-of-type {\n",
       "        vertical-align: middle;\n",
       "    }\n",
       "\n",
       "    .dataframe tbody tr th {\n",
       "        vertical-align: top;\n",
       "    }\n",
       "\n",
       "    .dataframe thead th {\n",
       "        text-align: right;\n",
       "    }\n",
       "</style>\n",
       "<table border=\"1\" class=\"dataframe\">\n",
       "  <thead>\n",
       "    <tr style=\"text-align: right;\">\n",
       "      <th></th>\n",
       "      <th>date</th>\n",
       "      <th>top1</th>\n",
       "      <th>top2</th>\n",
       "      <th>top3</th>\n",
       "      <th>top4</th>\n",
       "      <th>top5</th>\n",
       "      <th>top6</th>\n",
       "      <th>top7</th>\n",
       "      <th>top8</th>\n",
       "      <th>top9</th>\n",
       "      <th>...</th>\n",
       "      <th>top21</th>\n",
       "      <th>top22</th>\n",
       "      <th>top23</th>\n",
       "      <th>top24</th>\n",
       "      <th>top25</th>\n",
       "      <th>top26</th>\n",
       "      <th>top27</th>\n",
       "      <th>top28</th>\n",
       "      <th>top29</th>\n",
       "      <th>top30</th>\n",
       "    </tr>\n",
       "  </thead>\n",
       "  <tbody>\n",
       "    <tr>\n",
       "      <th>156</th>\n",
       "      <td>2021-06-07</td>\n",
       "      <td>David Dushman, last surviving Auschwitz libera...</td>\n",
       "      <td>Thousands of Hungarians protest in Budapest ov...</td>\n",
       "      <td>Israeli Army Forces Arrest Palestinian Activis...</td>\n",
       "      <td>Cartoonist who makes cartoons about ruling par...</td>\n",
       "      <td>Trudeau's acknowledgment of Indigenous genocid...</td>\n",
       "      <td>NATO warns Moscow, Minsk against threatening i...</td>\n",
       "      <td>Four-day working week would slash UK carbon fo...</td>\n",
       "      <td>Armed cattle thieves kill 88 people in attacks...</td>\n",
       "      <td>'Soon Enough I'll Be Killed': Threats Against ...</td>\n",
       "      <td>...</td>\n",
       "      <td>Angela Merkel’s CDU beats far right in crucial...</td>\n",
       "      <td>Amal Nakhleh, a 17-year-old Palestinian boy wh...</td>\n",
       "      <td>Detained Al Jazeera Journalist Freed by The Is...</td>\n",
       "      <td>A parking spot in Hong Kong sold for $1.3 million</td>\n",
       "      <td>UNRWA finds attack tunnel under one of its Gaz...</td>\n",
       "      <td>Pope voices sorrow over Canadian deaths, doesn...</td>\n",
       "      <td>Normandy commemorates D-Day with small crowds,...</td>\n",
       "      <td>US military admits to killing 23 civilians aro...</td>\n",
       "      <td>US to send Taiwan 750,000 ‘urgently needed’ Co...</td>\n",
       "      <td>Japan's communications ministry punishes 32 of...</td>\n",
       "    </tr>\n",
       "    <tr>\n",
       "      <th>157</th>\n",
       "      <td>2021-06-08</td>\n",
       "      <td>India's High Court bans LGBT conversion therapy</td>\n",
       "      <td>New audio of 2019 phone call reveals how Giuli...</td>\n",
       "      <td>Carbon Dioxide Levels Hit 50% Higher Than Prei...</td>\n",
       "      <td>Great apes predicted to lose 90% of homelands ...</td>\n",
       "      <td>Japan Olympic official dies after jumping in f...</td>\n",
       "      <td>Magawa the mine-sniffing rat ends career in Ca...</td>\n",
       "      <td>Russia Is Using 'Black PR' to Spread Disinform...</td>\n",
       "      <td>Hundreds gather in Toronto to honour 215 Indig...</td>\n",
       "      <td>Hungary appears to back-pedal on Chinese unive...</td>\n",
       "      <td>...</td>\n",
       "      <td>Toddler's body that washed up in Norway is boy...</td>\n",
       "      <td>Train barrels into another in Pakistan, killin...</td>\n",
       "      <td>Veto Of Individual EU Member States 'Must Go':...</td>\n",
       "      <td>Madras High Court bans medical attempts to cha...</td>\n",
       "      <td>New Zealand reaches 100 days without community...</td>\n",
       "      <td>Lithuania Says Belarus is Behind Recent Migran...</td>\n",
       "      <td>Salvadoran woman freed from jail after 30-year...</td>\n",
       "      <td>China's imports grow at fastest pace in decade...</td>\n",
       "      <td>New species of dinosaur – up to 30m long – con...</td>\n",
       "      <td>Catholic Church Calls Justin Trudeau ‘Uninform...</td>\n",
       "    </tr>\n",
       "    <tr>\n",
       "      <th>158</th>\n",
       "      <td>2021-06-09</td>\n",
       "      <td>Canada will act to dismantle far-right groups ...</td>\n",
       "      <td>One in three Brits preferring isolation to see...</td>\n",
       "      <td>China military flybys near Taiwan plunge after...</td>\n",
       "      <td>France President Emmanuel Macron slapped in th...</td>\n",
       "      <td>Taiwan seizes imported U.S. beef shipment for ...</td>\n",
       "      <td>Twitter has blocked four accounts in India - i...</td>\n",
       "      <td>Alberta men begin walk to Ottawa to honour mis...</td>\n",
       "      <td>Alexei Navalny, Via His Daughter, Dedicates Aw...</td>\n",
       "      <td>Uncovered atrocity Australian special forces c...</td>\n",
       "      <td>...</td>\n",
       "      <td>We are Reuters journalists covering the Middle...</td>\n",
       "      <td>Apple uses more suppliers from China than Taiw...</td>\n",
       "      <td>Canada plans to ease COVID-19 border restricti...</td>\n",
       "      <td>Belarusian President Lukashenko Suggests Every...</td>\n",
       "      <td>One password allowed hackers to disrupt Coloni...</td>\n",
       "      <td>Syrian defenses intercept Israeli missile stri...</td>\n",
       "      <td>Ratko Mladić: ‘butcher of Bosnia’ loses appeal...</td>\n",
       "      <td>Man suspected of killing Canadian Muslim famil...</td>\n",
       "      <td>Kim Jong Un looks thinner, and intelligence ag...</td>\n",
       "      <td>Israeli parliament to vote on anti-Netanyahu c...</td>\n",
       "    </tr>\n",
       "    <tr>\n",
       "      <th>159</th>\n",
       "      <td>2021-06-10</td>\n",
       "      <td>Biden administration to buy 500 million Pfizer...</td>\n",
       "      <td>Mount Rushmore-style sculpture of the G7 leade...</td>\n",
       "      <td>China is vaccinating a staggering 20 million p...</td>\n",
       "      <td>Keystone XL Pipeline Project Cancelled by TC E...</td>\n",
       "      <td>Oxford University students vote to take down p...</td>\n",
       "      <td>Pakistan makes Covid-19 vaccine mandatory for ...</td>\n",
       "      <td>China students hold principal hostage in rare ...</td>\n",
       "      <td>Olympic Officials Fight Japan Over Potential C...</td>\n",
       "      <td>Afghanistan mine clearance workers shot dead i...</td>\n",
       "      <td>...</td>\n",
       "      <td>Russia expected to outlaw opposition leader Na...</td>\n",
       "      <td>Children among those allegedly terrorised in N...</td>\n",
       "      <td>India moving towards Chinese model on internet...</td>\n",
       "      <td>Russia court bans Navalny's groups, labels the...</td>\n",
       "      <td>An unpublished report commissioned by the Euro...</td>\n",
       "      <td>Head of toppled Ryerson statue turns up at 149...</td>\n",
       "      <td>Former VW boss facing charges in Berlin over f...</td>\n",
       "      <td>1500 Palestinian home face demolition in Jerus...</td>\n",
       "      <td>Israeli election crisis deepens: ‘Traitors’: F...</td>\n",
       "      <td>Copy of Mein Kampf and weapons found in the ho...</td>\n",
       "    </tr>\n",
       "    <tr>\n",
       "      <th>160</th>\n",
       "      <td>2021-06-11</td>\n",
       "      <td>Allies believe the U.S. is \"No longer a good m...</td>\n",
       "      <td>Germany: Frankfurt police unit to be disbanded...</td>\n",
       "      <td>Pakistan's largest province, Punjab, will now ...</td>\n",
       "      <td>Russia officially declares Alexey Navalny's mo...</td>\n",
       "      <td>Australian swimmer Madeline Groves withdraws f...</td>\n",
       "      <td>New details of torture, cover-ups in China's i...</td>\n",
       "      <td>Tokyo Olympics \"have lost meaning,\" says Japan...</td>\n",
       "      <td>Atmospheric CO2 Just Hit a Peak Not Seen on Ea...</td>\n",
       "      <td>Saudi Arabia introduces a landmark legal amend...</td>\n",
       "      <td>...</td>\n",
       "      <td>Pope rejects German cardinal's resignation ove...</td>\n",
       "      <td>Takeaway food and drink litter dominates ocean...</td>\n",
       "      <td>Brexit trouble overshadows Biden and Johnson's...</td>\n",
       "      <td>China obtains engineering and technical drawin...</td>\n",
       "      <td>India reports more than 6,000 daily Covid deat...</td>\n",
       "      <td>Child labour worldwide increases for first tim...</td>\n",
       "      <td>Russia opens investigation into music awards o...</td>\n",
       "      <td>Argentina president accused of racism by claim...</td>\n",
       "      <td>Portugal handed data on anti-Putin protesters ...</td>\n",
       "      <td>Amazon faces potential $425 million EU privacy...</td>\n",
       "    </tr>\n",
       "  </tbody>\n",
       "</table>\n",
       "<p>5 rows × 31 columns</p>\n",
       "</div>"
      ],
      "text/plain": [
       "           date                                               top1  \\\n",
       "156  2021-06-07  David Dushman, last surviving Auschwitz libera...   \n",
       "157  2021-06-08    India's High Court bans LGBT conversion therapy   \n",
       "158  2021-06-09  Canada will act to dismantle far-right groups ...   \n",
       "159  2021-06-10  Biden administration to buy 500 million Pfizer...   \n",
       "160  2021-06-11  Allies believe the U.S. is \"No longer a good m...   \n",
       "\n",
       "                                                  top2  \\\n",
       "156  Thousands of Hungarians protest in Budapest ov...   \n",
       "157  New audio of 2019 phone call reveals how Giuli...   \n",
       "158  One in three Brits preferring isolation to see...   \n",
       "159  Mount Rushmore-style sculpture of the G7 leade...   \n",
       "160  Germany: Frankfurt police unit to be disbanded...   \n",
       "\n",
       "                                                  top3  \\\n",
       "156  Israeli Army Forces Arrest Palestinian Activis...   \n",
       "157  Carbon Dioxide Levels Hit 50% Higher Than Prei...   \n",
       "158  China military flybys near Taiwan plunge after...   \n",
       "159  China is vaccinating a staggering 20 million p...   \n",
       "160  Pakistan's largest province, Punjab, will now ...   \n",
       "\n",
       "                                                  top4  \\\n",
       "156  Cartoonist who makes cartoons about ruling par...   \n",
       "157  Great apes predicted to lose 90% of homelands ...   \n",
       "158  France President Emmanuel Macron slapped in th...   \n",
       "159  Keystone XL Pipeline Project Cancelled by TC E...   \n",
       "160  Russia officially declares Alexey Navalny's mo...   \n",
       "\n",
       "                                                  top5  \\\n",
       "156  Trudeau's acknowledgment of Indigenous genocid...   \n",
       "157  Japan Olympic official dies after jumping in f...   \n",
       "158  Taiwan seizes imported U.S. beef shipment for ...   \n",
       "159  Oxford University students vote to take down p...   \n",
       "160  Australian swimmer Madeline Groves withdraws f...   \n",
       "\n",
       "                                                  top6  \\\n",
       "156  NATO warns Moscow, Minsk against threatening i...   \n",
       "157  Magawa the mine-sniffing rat ends career in Ca...   \n",
       "158  Twitter has blocked four accounts in India - i...   \n",
       "159  Pakistan makes Covid-19 vaccine mandatory for ...   \n",
       "160  New details of torture, cover-ups in China's i...   \n",
       "\n",
       "                                                  top7  \\\n",
       "156  Four-day working week would slash UK carbon fo...   \n",
       "157  Russia Is Using 'Black PR' to Spread Disinform...   \n",
       "158  Alberta men begin walk to Ottawa to honour mis...   \n",
       "159  China students hold principal hostage in rare ...   \n",
       "160  Tokyo Olympics \"have lost meaning,\" says Japan...   \n",
       "\n",
       "                                                  top8  \\\n",
       "156  Armed cattle thieves kill 88 people in attacks...   \n",
       "157  Hundreds gather in Toronto to honour 215 Indig...   \n",
       "158  Alexei Navalny, Via His Daughter, Dedicates Aw...   \n",
       "159  Olympic Officials Fight Japan Over Potential C...   \n",
       "160  Atmospheric CO2 Just Hit a Peak Not Seen on Ea...   \n",
       "\n",
       "                                                  top9  ...  \\\n",
       "156  'Soon Enough I'll Be Killed': Threats Against ...  ...   \n",
       "157  Hungary appears to back-pedal on Chinese unive...  ...   \n",
       "158  Uncovered atrocity Australian special forces c...  ...   \n",
       "159  Afghanistan mine clearance workers shot dead i...  ...   \n",
       "160  Saudi Arabia introduces a landmark legal amend...  ...   \n",
       "\n",
       "                                                 top21  \\\n",
       "156  Angela Merkel’s CDU beats far right in crucial...   \n",
       "157  Toddler's body that washed up in Norway is boy...   \n",
       "158  We are Reuters journalists covering the Middle...   \n",
       "159  Russia expected to outlaw opposition leader Na...   \n",
       "160  Pope rejects German cardinal's resignation ove...   \n",
       "\n",
       "                                                 top22  \\\n",
       "156  Amal Nakhleh, a 17-year-old Palestinian boy wh...   \n",
       "157  Train barrels into another in Pakistan, killin...   \n",
       "158  Apple uses more suppliers from China than Taiw...   \n",
       "159  Children among those allegedly terrorised in N...   \n",
       "160  Takeaway food and drink litter dominates ocean...   \n",
       "\n",
       "                                                 top23  \\\n",
       "156  Detained Al Jazeera Journalist Freed by The Is...   \n",
       "157  Veto Of Individual EU Member States 'Must Go':...   \n",
       "158  Canada plans to ease COVID-19 border restricti...   \n",
       "159  India moving towards Chinese model on internet...   \n",
       "160  Brexit trouble overshadows Biden and Johnson's...   \n",
       "\n",
       "                                                 top24  \\\n",
       "156  A parking spot in Hong Kong sold for $1.3 million   \n",
       "157  Madras High Court bans medical attempts to cha...   \n",
       "158  Belarusian President Lukashenko Suggests Every...   \n",
       "159  Russia court bans Navalny's groups, labels the...   \n",
       "160  China obtains engineering and technical drawin...   \n",
       "\n",
       "                                                 top25  \\\n",
       "156  UNRWA finds attack tunnel under one of its Gaz...   \n",
       "157  New Zealand reaches 100 days without community...   \n",
       "158  One password allowed hackers to disrupt Coloni...   \n",
       "159  An unpublished report commissioned by the Euro...   \n",
       "160  India reports more than 6,000 daily Covid deat...   \n",
       "\n",
       "                                                 top26  \\\n",
       "156  Pope voices sorrow over Canadian deaths, doesn...   \n",
       "157  Lithuania Says Belarus is Behind Recent Migran...   \n",
       "158  Syrian defenses intercept Israeli missile stri...   \n",
       "159  Head of toppled Ryerson statue turns up at 149...   \n",
       "160  Child labour worldwide increases for first tim...   \n",
       "\n",
       "                                                 top27  \\\n",
       "156  Normandy commemorates D-Day with small crowds,...   \n",
       "157  Salvadoran woman freed from jail after 30-year...   \n",
       "158  Ratko Mladić: ‘butcher of Bosnia’ loses appeal...   \n",
       "159  Former VW boss facing charges in Berlin over f...   \n",
       "160  Russia opens investigation into music awards o...   \n",
       "\n",
       "                                                 top28  \\\n",
       "156  US military admits to killing 23 civilians aro...   \n",
       "157  China's imports grow at fastest pace in decade...   \n",
       "158  Man suspected of killing Canadian Muslim famil...   \n",
       "159  1500 Palestinian home face demolition in Jerus...   \n",
       "160  Argentina president accused of racism by claim...   \n",
       "\n",
       "                                                 top29  \\\n",
       "156  US to send Taiwan 750,000 ‘urgently needed’ Co...   \n",
       "157  New species of dinosaur – up to 30m long – con...   \n",
       "158  Kim Jong Un looks thinner, and intelligence ag...   \n",
       "159  Israeli election crisis deepens: ‘Traitors’: F...   \n",
       "160  Portugal handed data on anti-Putin protesters ...   \n",
       "\n",
       "                                                 top30  \n",
       "156  Japan's communications ministry punishes 32 of...  \n",
       "157  Catholic Church Calls Justin Trudeau ‘Uninform...  \n",
       "158  Israeli parliament to vote on anti-Netanyahu c...  \n",
       "159  Copy of Mein Kampf and weapons found in the ho...  \n",
       "160  Amazon faces potential $425 million EU privacy...  \n",
       "\n",
       "[5 rows x 31 columns]"
      ]
     },
     "execution_count": 10,
     "metadata": {},
     "output_type": "execute_result"
    }
   ],
   "source": [
    "connection = sqlite3.connect('MSC.db')\n",
    "cursor = connection.cursor()\n",
    "\n",
    "sql = ('''Select distinct\n",
    "            main.date,\n",
    "            top1,top2,top3,top4,top5,\n",
    "            top6,top7,top8,top9,top10,\n",
    "            top11,top12,top13,top14,top15,\n",
    "            top16,top17,top18,top19,top20,\n",
    "            top21,top22,top23,top24,top25,\n",
    "            top26,top27,top28,top29,top30\n",
    "            \n",
    "\n",
    "\n",
    "            from main\n",
    "            order by date\n",
    "            \n",
    "\n",
    "       ''')\n",
    "df = pd.read_sql_query(sql,connection)\n",
    "print(df.shape)\n",
    "df.tail()"
   ]
  },
  {
   "cell_type": "markdown",
   "metadata": {
    "ExecuteTime": {
     "end_time": "2021-05-22T08:40:32.415698Z",
     "start_time": "2021-05-22T08:40:32.407786Z"
    }
   },
   "source": [
    "for i  in df.iloc[138]:\n",
    "    print(i)\n",
    "    print()"
   ]
  },
  {
   "cell_type": "markdown",
   "metadata": {
    "ExecuteTime": {
     "end_time": "2021-06-04T13:55:54.830201Z",
     "start_time": "2021-06-04T13:55:54.717256Z"
    }
   },
   "source": [
    "connection = sqlite3.connect('MSC.db')\n",
    "cursor = connection.cursor()\n",
    "\n",
    "sql = ('''Select distinct * from main\n",
    "    order by date\n",
    "       ''')\n",
    "df = pd.read_sql_query(sql,connection)\n",
    "print(df.shape)\n",
    "df.tail()"
   ]
  },
  {
   "cell_type": "code",
   "execution_count": 40,
   "metadata": {
    "ExecuteTime": {
     "end_time": "2021-06-05T12:30:30.605305Z",
     "start_time": "2021-06-05T12:30:30.150041Z"
    }
   },
   "outputs": [
    {
     "name": "stdout",
     "output_type": "stream",
     "text": [
      "(57728, 8)\n"
     ]
    },
    {
     "data": {
      "text/html": [
       "<div>\n",
       "<style scoped>\n",
       "    .dataframe tbody tr th:only-of-type {\n",
       "        vertical-align: middle;\n",
       "    }\n",
       "\n",
       "    .dataframe tbody tr th {\n",
       "        vertical-align: top;\n",
       "    }\n",
       "\n",
       "    .dataframe thead th {\n",
       "        text-align: right;\n",
       "    }\n",
       "</style>\n",
       "<table border=\"1\" class=\"dataframe\">\n",
       "  <thead>\n",
       "    <tr style=\"text-align: right;\">\n",
       "      <th></th>\n",
       "      <th>date</th>\n",
       "      <th>open</th>\n",
       "      <th>high</th>\n",
       "      <th>low</th>\n",
       "      <th>close</th>\n",
       "      <th>adj_close</th>\n",
       "      <th>volume</th>\n",
       "      <th>symbol</th>\n",
       "    </tr>\n",
       "  </thead>\n",
       "  <tbody>\n",
       "    <tr>\n",
       "      <th>57221</th>\n",
       "      <td>2021-06-04 00:00:00</td>\n",
       "      <td>25.13</td>\n",
       "      <td>25.18</td>\n",
       "      <td>24.26</td>\n",
       "      <td>24.30</td>\n",
       "      <td>24.30</td>\n",
       "      <td>28,899,300</td>\n",
       "      <td>AAL</td>\n",
       "    </tr>\n",
       "    <tr>\n",
       "      <th>57222</th>\n",
       "      <td>2021-06-04 00:00:00</td>\n",
       "      <td>191.56</td>\n",
       "      <td>193.06</td>\n",
       "      <td>188.79</td>\n",
       "      <td>192.76</td>\n",
       "      <td>192.76</td>\n",
       "      <td>680,200</td>\n",
       "      <td>AAP</td>\n",
       "    </tr>\n",
       "    <tr>\n",
       "      <th>57223</th>\n",
       "      <td>2021-06-04 00:00:00</td>\n",
       "      <td>124.07</td>\n",
       "      <td>126.16</td>\n",
       "      <td>123.85</td>\n",
       "      <td>125.89</td>\n",
       "      <td>125.89</td>\n",
       "      <td>75,087,300</td>\n",
       "      <td>AAPL</td>\n",
       "    </tr>\n",
       "    <tr>\n",
       "      <th>57224</th>\n",
       "      <td>2021-06-04 00:00:00</td>\n",
       "      <td>112.40</td>\n",
       "      <td>113.11</td>\n",
       "      <td>112.16</td>\n",
       "      <td>112.36</td>\n",
       "      <td>112.36</td>\n",
       "      <td>4,253,700</td>\n",
       "      <td>ABBV</td>\n",
       "    </tr>\n",
       "    <tr>\n",
       "      <th>57225</th>\n",
       "      <td>2021-06-04 00:00:00</td>\n",
       "      <td>116.90</td>\n",
       "      <td>117.21</td>\n",
       "      <td>115.95</td>\n",
       "      <td>116.92</td>\n",
       "      <td>116.92</td>\n",
       "      <td>694,600</td>\n",
       "      <td>ABC</td>\n",
       "    </tr>\n",
       "    <tr>\n",
       "      <th>...</th>\n",
       "      <td>...</td>\n",
       "      <td>...</td>\n",
       "      <td>...</td>\n",
       "      <td>...</td>\n",
       "      <td>...</td>\n",
       "      <td>...</td>\n",
       "      <td>...</td>\n",
       "      <td>...</td>\n",
       "    </tr>\n",
       "    <tr>\n",
       "      <th>57723</th>\n",
       "      <td>2021-06-04 00:00:00</td>\n",
       "      <td>58.30</td>\n",
       "      <td>58.30</td>\n",
       "      <td>57.02</td>\n",
       "      <td>58.13</td>\n",
       "      <td>58.13</td>\n",
       "      <td>641,500</td>\n",
       "      <td>ZION</td>\n",
       "    </tr>\n",
       "    <tr>\n",
       "      <th>57724</th>\n",
       "      <td>2021-06-04 00:00:00</td>\n",
       "      <td>174.83</td>\n",
       "      <td>176.08</td>\n",
       "      <td>174.07</td>\n",
       "      <td>175.20</td>\n",
       "      <td>175.20</td>\n",
       "      <td>1,225,200</td>\n",
       "      <td>ZTS</td>\n",
       "    </tr>\n",
       "    <tr>\n",
       "      <th>57725</th>\n",
       "      <td>2021-06-04 00:00:00</td>\n",
       "      <td>34,618.69</td>\n",
       "      <td>34,772.12</td>\n",
       "      <td>34,618.69</td>\n",
       "      <td>34,756.39</td>\n",
       "      <td>34,756.39</td>\n",
       "      <td>270,050,000</td>\n",
       "      <td>^DJI</td>\n",
       "    </tr>\n",
       "    <tr>\n",
       "      <th>57726</th>\n",
       "      <td>2021-06-04 00:00:00</td>\n",
       "      <td>4,206.05</td>\n",
       "      <td>4,233.45</td>\n",
       "      <td>4,206.05</td>\n",
       "      <td>4,229.89</td>\n",
       "      <td>4,229.89</td>\n",
       "      <td>3,487,070,000</td>\n",
       "      <td>^GSPC</td>\n",
       "    </tr>\n",
       "    <tr>\n",
       "      <th>57727</th>\n",
       "      <td>2021-06-04 00:00:00</td>\n",
       "      <td>18.09</td>\n",
       "      <td>18.42</td>\n",
       "      <td>16.18</td>\n",
       "      <td>16.42</td>\n",
       "      <td>16.42</td>\n",
       "      <td>0</td>\n",
       "      <td>^VIX</td>\n",
       "    </tr>\n",
       "  </tbody>\n",
       "</table>\n",
       "<p>507 rows × 8 columns</p>\n",
       "</div>"
      ],
      "text/plain": [
       "                      date       open       high        low      close  \\\n",
       "57221  2021-06-04 00:00:00      25.13      25.18      24.26      24.30   \n",
       "57222  2021-06-04 00:00:00     191.56     193.06     188.79     192.76   \n",
       "57223  2021-06-04 00:00:00     124.07     126.16     123.85     125.89   \n",
       "57224  2021-06-04 00:00:00     112.40     113.11     112.16     112.36   \n",
       "57225  2021-06-04 00:00:00     116.90     117.21     115.95     116.92   \n",
       "...                    ...        ...        ...        ...        ...   \n",
       "57723  2021-06-04 00:00:00      58.30      58.30      57.02      58.13   \n",
       "57724  2021-06-04 00:00:00     174.83     176.08     174.07     175.20   \n",
       "57725  2021-06-04 00:00:00  34,618.69  34,772.12  34,618.69  34,756.39   \n",
       "57726  2021-06-04 00:00:00   4,206.05   4,233.45   4,206.05   4,229.89   \n",
       "57727  2021-06-04 00:00:00      18.09      18.42      16.18      16.42   \n",
       "\n",
       "       adj_close         volume symbol  \n",
       "57221      24.30     28,899,300    AAL  \n",
       "57222     192.76        680,200    AAP  \n",
       "57223     125.89     75,087,300   AAPL  \n",
       "57224     112.36      4,253,700   ABBV  \n",
       "57225     116.92        694,600    ABC  \n",
       "...          ...            ...    ...  \n",
       "57723      58.13        641,500   ZION  \n",
       "57724     175.20      1,225,200    ZTS  \n",
       "57725  34,756.39    270,050,000   ^DJI  \n",
       "57726   4,229.89  3,487,070,000  ^GSPC  \n",
       "57727      16.42              0   ^VIX  \n",
       "\n",
       "[507 rows x 8 columns]"
      ]
     },
     "execution_count": 40,
     "metadata": {},
     "output_type": "execute_result"
    }
   ],
   "source": [
    "connection = sqlite3.connect('MSC.db')\n",
    "cursor = connection.cursor()\n",
    "\n",
    "sql = ('''Select * from prices\n",
    "          order by date, symbol\n",
    "       ''')\n",
    "df = pd.read_sql_query(sql,connection)\n",
    "print(df.shape)\n",
    "df.tail(507)"
   ]
  },
  {
   "cell_type": "code",
   "execution_count": 3,
   "metadata": {
    "ExecuteTime": {
     "end_time": "2021-06-11T08:56:20.532066Z",
     "start_time": "2021-06-11T08:56:05.775457Z"
    }
   },
   "outputs": [],
   "source": [
    "from sklearn.model_selection import cross_val_score\n",
    "from sklearn.feature_selection import VarianceThreshold\n",
    "from sklearn.preprocessing import StandardScaler\n",
    "from nltk.sentiment.vader import SentimentIntensityAnalyzer\n",
    "from textblob import TextBlob"
   ]
  },
  {
   "cell_type": "code",
   "execution_count": 11,
   "metadata": {
    "ExecuteTime": {
     "end_time": "2021-06-11T08:57:25.858279Z",
     "start_time": "2021-06-11T08:57:25.839154Z"
    }
   },
   "outputs": [
    {
     "data": {
      "text/plain": [
       "{'neg': 0.0, 'neu': 0.0, 'pos': 0.0, 'compound': 0.0}"
      ]
     },
     "execution_count": 11,
     "metadata": {},
     "output_type": "execute_result"
    }
   ],
   "source": [
    "Anakin = SentimentIntensityAnalyzer()\n",
    "Anakin.polarity_scores(\" \")"
   ]
  },
  {
   "cell_type": "code",
   "execution_count": 12,
   "metadata": {
    "ExecuteTime": {
     "end_time": "2021-06-11T08:57:26.323002Z",
     "start_time": "2021-06-11T08:57:26.306844Z"
    }
   },
   "outputs": [
    {
     "data": {
      "text/plain": [
       "0.0"
      ]
     },
     "execution_count": 12,
     "metadata": {},
     "output_type": "execute_result"
    }
   ],
   "source": [
    "def detect_subjectivity(text):\n",
    "    '''\n",
    "    subjectivity is a float within the range [0.0, 1.0] where 0.0 is very objective and 1.0 is very subjective.\n",
    "    '''\n",
    "    return TextBlob(text).sentiment.subjectivity\n",
    "\n",
    "detect_subjectivity(\" \") #should return 0"
   ]
  },
  {
   "cell_type": "code",
   "execution_count": 13,
   "metadata": {
    "ExecuteTime": {
     "end_time": "2021-06-11T08:57:31.262089Z",
     "start_time": "2021-06-11T08:57:28.504784Z"
    }
   },
   "outputs": [],
   "source": [
    "#get the name of the headline columns\n",
    "cols = []\n",
    "for i in range(1,31):\n",
    "    col = (\"top{}\".format(i))\n",
    "    cols.append(col)\n",
    "    \n",
    "for col in cols:\n",
    "    df[col] = df[col].astype(str) # Make sure data is treated as a string\n",
    "    df[col+'_comp']= df[col].apply(lambda x:Anakin.polarity_scores(x)['compound'])\n",
    "    df[col+'_sub'] = df[col].apply(detect_subjectivity)\n",
    "    #print(\"{} Done\".format(col))"
   ]
  },
  {
   "cell_type": "code",
   "execution_count": 14,
   "metadata": {
    "ExecuteTime": {
     "end_time": "2021-06-11T08:57:31.346092Z",
     "start_time": "2021-06-11T08:57:31.265279Z"
    }
   },
   "outputs": [
    {
     "data": {
      "text/html": [
       "<div>\n",
       "<style scoped>\n",
       "    .dataframe tbody tr th:only-of-type {\n",
       "        vertical-align: middle;\n",
       "    }\n",
       "\n",
       "    .dataframe tbody tr th {\n",
       "        vertical-align: top;\n",
       "    }\n",
       "\n",
       "    .dataframe thead th {\n",
       "        text-align: right;\n",
       "    }\n",
       "</style>\n",
       "<table border=\"1\" class=\"dataframe\">\n",
       "  <thead>\n",
       "    <tr style=\"text-align: right;\">\n",
       "      <th></th>\n",
       "      <th>date</th>\n",
       "      <th>top1_comp</th>\n",
       "      <th>top1_sub</th>\n",
       "      <th>top2_comp</th>\n",
       "      <th>top2_sub</th>\n",
       "      <th>top3_comp</th>\n",
       "      <th>top3_sub</th>\n",
       "      <th>top4_comp</th>\n",
       "      <th>top4_sub</th>\n",
       "      <th>top5_comp</th>\n",
       "      <th>...</th>\n",
       "      <th>top26_comp</th>\n",
       "      <th>top26_sub</th>\n",
       "      <th>top27_comp</th>\n",
       "      <th>top27_sub</th>\n",
       "      <th>top28_comp</th>\n",
       "      <th>top28_sub</th>\n",
       "      <th>top29_comp</th>\n",
       "      <th>top29_sub</th>\n",
       "      <th>top30_comp</th>\n",
       "      <th>top30_sub</th>\n",
       "    </tr>\n",
       "  </thead>\n",
       "  <tbody>\n",
       "    <tr>\n",
       "      <th>156</th>\n",
       "      <td>2021-06-07</td>\n",
       "      <td>0.2960</td>\n",
       "      <td>0.066667</td>\n",
       "      <td>-0.2500</td>\n",
       "      <td>0.227273</td>\n",
       "      <td>-0.3400</td>\n",
       "      <td>0.00</td>\n",
       "      <td>-0.1531</td>\n",
       "      <td>0.25</td>\n",
       "      <td>0.1280</td>\n",
       "      <td>...</td>\n",
       "      <td>-0.4588</td>\n",
       "      <td>0.000000</td>\n",
       "      <td>0.0000</td>\n",
       "      <td>0.250000</td>\n",
       "      <td>-0.4939</td>\n",
       "      <td>0.1</td>\n",
       "      <td>-0.1280</td>\n",
       "      <td>0.000000</td>\n",
       "      <td>-0.4767</td>\n",
       "      <td>0.0000</td>\n",
       "    </tr>\n",
       "    <tr>\n",
       "      <th>157</th>\n",
       "      <td>2021-06-08</td>\n",
       "      <td>0.0000</td>\n",
       "      <td>0.540000</td>\n",
       "      <td>-0.2263</td>\n",
       "      <td>0.454545</td>\n",
       "      <td>0.0000</td>\n",
       "      <td>0.50</td>\n",
       "      <td>0.3400</td>\n",
       "      <td>0.75</td>\n",
       "      <td>0.0000</td>\n",
       "      <td>...</td>\n",
       "      <td>-0.8176</td>\n",
       "      <td>0.487500</td>\n",
       "      <td>0.4588</td>\n",
       "      <td>0.000000</td>\n",
       "      <td>0.0000</td>\n",
       "      <td>0.0</td>\n",
       "      <td>0.0000</td>\n",
       "      <td>0.618182</td>\n",
       "      <td>0.0000</td>\n",
       "      <td>0.1000</td>\n",
       "    </tr>\n",
       "    <tr>\n",
       "      <th>158</th>\n",
       "      <td>2021-06-09</td>\n",
       "      <td>-0.4767</td>\n",
       "      <td>0.000000</td>\n",
       "      <td>0.1027</td>\n",
       "      <td>0.000000</td>\n",
       "      <td>0.0000</td>\n",
       "      <td>0.25</td>\n",
       "      <td>0.0000</td>\n",
       "      <td>0.00</td>\n",
       "      <td>0.0000</td>\n",
       "      <td>...</td>\n",
       "      <td>0.0516</td>\n",
       "      <td>0.000000</td>\n",
       "      <td>-0.3182</td>\n",
       "      <td>0.100000</td>\n",
       "      <td>-0.7906</td>\n",
       "      <td>0.9</td>\n",
       "      <td>0.4767</td>\n",
       "      <td>1.000000</td>\n",
       "      <td>0.5719</td>\n",
       "      <td>0.0625</td>\n",
       "    </tr>\n",
       "    <tr>\n",
       "      <th>159</th>\n",
       "      <td>2021-06-10</td>\n",
       "      <td>0.0000</td>\n",
       "      <td>0.000000</td>\n",
       "      <td>-0.4215</td>\n",
       "      <td>0.000000</td>\n",
       "      <td>0.0000</td>\n",
       "      <td>0.00</td>\n",
       "      <td>0.0258</td>\n",
       "      <td>0.00</td>\n",
       "      <td>0.0000</td>\n",
       "      <td>...</td>\n",
       "      <td>-0.5574</td>\n",
       "      <td>0.151515</td>\n",
       "      <td>-0.2732</td>\n",
       "      <td>0.300000</td>\n",
       "      <td>0.0000</td>\n",
       "      <td>0.0</td>\n",
       "      <td>-0.9001</td>\n",
       "      <td>0.000000</td>\n",
       "      <td>-0.6249</td>\n",
       "      <td>0.0000</td>\n",
       "    </tr>\n",
       "    <tr>\n",
       "      <th>160</th>\n",
       "      <td>2021-06-11</td>\n",
       "      <td>0.1779</td>\n",
       "      <td>0.600000</td>\n",
       "      <td>0.0000</td>\n",
       "      <td>0.000000</td>\n",
       "      <td>-0.7269</td>\n",
       "      <td>0.00</td>\n",
       "      <td>0.0000</td>\n",
       "      <td>0.00</td>\n",
       "      <td>-0.5859</td>\n",
       "      <td>...</td>\n",
       "      <td>0.0000</td>\n",
       "      <td>0.333333</td>\n",
       "      <td>0.4588</td>\n",
       "      <td>0.341667</td>\n",
       "      <td>-0.7430</td>\n",
       "      <td>0.0</td>\n",
       "      <td>-0.2263</td>\n",
       "      <td>0.000000</td>\n",
       "      <td>0.3612</td>\n",
       "      <td>0.7500</td>\n",
       "    </tr>\n",
       "  </tbody>\n",
       "</table>\n",
       "<p>5 rows × 61 columns</p>\n",
       "</div>"
      ],
      "text/plain": [
       "           date  top1_comp  top1_sub  top2_comp  top2_sub  top3_comp  \\\n",
       "156  2021-06-07     0.2960  0.066667    -0.2500  0.227273    -0.3400   \n",
       "157  2021-06-08     0.0000  0.540000    -0.2263  0.454545     0.0000   \n",
       "158  2021-06-09    -0.4767  0.000000     0.1027  0.000000     0.0000   \n",
       "159  2021-06-10     0.0000  0.000000    -0.4215  0.000000     0.0000   \n",
       "160  2021-06-11     0.1779  0.600000     0.0000  0.000000    -0.7269   \n",
       "\n",
       "     top3_sub  top4_comp  top4_sub  top5_comp  ...  top26_comp  top26_sub  \\\n",
       "156      0.00    -0.1531      0.25     0.1280  ...     -0.4588   0.000000   \n",
       "157      0.50     0.3400      0.75     0.0000  ...     -0.8176   0.487500   \n",
       "158      0.25     0.0000      0.00     0.0000  ...      0.0516   0.000000   \n",
       "159      0.00     0.0258      0.00     0.0000  ...     -0.5574   0.151515   \n",
       "160      0.00     0.0000      0.00    -0.5859  ...      0.0000   0.333333   \n",
       "\n",
       "     top27_comp  top27_sub  top28_comp  top28_sub  top29_comp  top29_sub  \\\n",
       "156      0.0000   0.250000     -0.4939        0.1     -0.1280   0.000000   \n",
       "157      0.4588   0.000000      0.0000        0.0      0.0000   0.618182   \n",
       "158     -0.3182   0.100000     -0.7906        0.9      0.4767   1.000000   \n",
       "159     -0.2732   0.300000      0.0000        0.0     -0.9001   0.000000   \n",
       "160      0.4588   0.341667     -0.7430        0.0     -0.2263   0.000000   \n",
       "\n",
       "     top30_comp  top30_sub  \n",
       "156     -0.4767     0.0000  \n",
       "157      0.0000     0.1000  \n",
       "158      0.5719     0.0625  \n",
       "159     -0.6249     0.0000  \n",
       "160      0.3612     0.7500  \n",
       "\n",
       "[5 rows x 61 columns]"
      ]
     },
     "execution_count": 14,
     "metadata": {},
     "output_type": "execute_result"
    }
   ],
   "source": [
    "#the text isn't required anymore\n",
    "df = df.drop(cols,axis=1)\n",
    "df.tail()"
   ]
  },
  {
   "cell_type": "code",
   "execution_count": 15,
   "metadata": {
    "ExecuteTime": {
     "end_time": "2021-06-11T08:57:33.261837Z",
     "start_time": "2021-06-11T08:57:32.805828Z"
    }
   },
   "outputs": [],
   "source": [
    "comp_cols = [col + \"_comp\" for col in cols]\n",
    "\n",
    "w = np.arange(1,31,1).tolist()\n",
    "w.reverse()\n",
    "\n",
    "weighted_comp = []\n",
    "max_comp = []\n",
    "min_comp = []\n",
    "for i in range(0,len(df)):\n",
    "    a = df.loc[i,comp_cols].tolist()\n",
    "    weighted_comp.append(np.average(a, weights=w))\n",
    "    max_comp.append(max(a))\n",
    "    min_comp.append(min(a))\n",
    "    \n",
    "df['compound_mean'] = weighted_comp\n",
    "df['compound_max'] = max_comp\n",
    "df['compound_min'] = min_comp\n",
    "\n",
    "sub_cols = [col + \"_sub\" for col in cols]\n",
    "\n",
    "weighted_sub = []\n",
    "max_sub = []\n",
    "min_sub = []\n",
    "for i in range(0,len(df)):\n",
    "    a = df.loc[i,sub_cols].tolist()\n",
    "    weighted_sub.append(np.average(a, weights=w))\n",
    "    max_sub.append(max(a))\n",
    "    min_sub.append(min(a))\n",
    "\n",
    "df['subjectivity_mean'] = weighted_sub\n",
    "df['subjectivity_max'] = max_sub\n",
    "df['subjectivity_min'] = min_sub\n",
    "\n",
    "to_drop = sub_cols+comp_cols\n",
    "df = df.drop(to_drop, axis=1)"
   ]
  },
  {
   "cell_type": "code",
   "execution_count": 16,
   "metadata": {
    "ExecuteTime": {
     "end_time": "2021-06-11T08:57:34.072109Z",
     "start_time": "2021-06-11T08:57:34.032398Z"
    }
   },
   "outputs": [
    {
     "data": {
      "application/vnd.plotly.v1+json": {
       "config": {
        "plotlyServerURL": "https://plot.ly"
       },
       "data": [
        {
         "mode": "lines",
         "name": "Mean",
         "type": "scatter",
         "x": [
          "2021-01-01",
          "2021-01-02",
          "2021-01-03",
          "2021-01-04",
          "2021-01-05",
          "2021-01-06",
          "2021-01-07",
          "2021-01-08",
          "2021-01-09",
          "2021-01-10",
          "2021-01-11",
          "2021-01-12",
          "2021-01-13",
          "2021-01-14",
          "2021-01-15",
          "2021-01-16",
          "2021-01-17",
          "2021-01-18",
          "2021-01-19",
          "2021-01-20",
          "2021-01-21",
          "2021-01-22",
          "2021-01-23",
          "2021-01-24",
          "2021-01-25",
          "2021-01-26",
          "2021-01-27",
          "2021-01-28",
          "2021-01-29",
          "2021-01-30",
          "2021-01-31",
          "2021-02-01",
          "2021-02-02",
          "2021-02-03",
          "2021-02-04",
          "2021-02-05",
          "2021-02-06",
          "2021-02-07",
          "2021-02-08",
          "2021-02-09",
          "2021-02-10",
          "2021-02-11",
          "2021-02-12",
          "2021-02-13",
          "2021-02-14",
          "2021-02-15",
          "2021-02-16",
          "2021-02-17",
          "2021-02-18",
          "2021-02-19",
          "2021-02-20",
          "2021-02-21",
          "2021-02-22",
          "2021-02-23",
          "2021-02-24",
          "2021-02-25",
          "2021-02-26",
          "2021-02-27",
          "2021-02-28",
          "2021-03-01",
          "2021-03-02",
          "2021-03-03",
          "2021-03-04",
          "2021-03-05",
          "2021-03-06",
          "2021-03-08",
          "2021-03-09",
          "2021-03-10",
          "2021-03-11",
          "2021-03-12",
          "2021-03-13",
          "2021-03-14",
          "2021-03-15",
          "2021-03-16",
          "2021-03-17",
          "2021-03-18",
          "2021-03-19",
          "2021-03-20",
          "2021-03-21",
          "2021-03-22",
          "2021-03-23",
          "2021-03-24",
          "2021-03-25",
          "2021-03-26",
          "2021-03-27",
          "2021-03-28",
          "2021-03-29",
          "2021-03-30",
          "2021-03-31",
          "2021-04-01",
          "2021-04-02",
          "2021-04-03",
          "2021-04-04",
          "2021-04-05",
          "2021-04-06",
          "2021-04-07",
          "2021-04-08",
          "2021-04-09",
          "2021-04-10",
          "2021-04-11",
          "2021-04-12",
          "2021-04-13",
          "2021-04-14",
          "2021-04-15",
          "2021-04-16",
          "2021-04-17",
          "2021-04-18",
          "2021-04-19",
          "2021-04-20",
          "2021-04-21",
          "2021-04-22",
          "2021-04-23",
          "2021-04-24",
          "2021-04-25",
          "2021-04-26",
          "2021-04-27",
          "2021-04-28",
          "2021-04-29",
          "2021-04-30",
          "2021-05-01",
          "2021-05-02",
          "2021-05-03",
          "2021-05-04",
          "2021-05-05",
          "2021-05-06",
          "2021-05-07",
          "2021-05-08",
          "2021-05-09",
          "2021-05-10",
          "2021-05-11",
          "2021-05-12",
          "2021-05-13",
          "2021-05-14",
          "2021-05-15",
          "2021-05-16",
          "2021-05-17",
          "2021-05-18",
          "2021-05-19",
          "2021-05-20",
          "2021-05-21",
          "2021-05-22",
          "2021-05-23",
          "2021-05-24",
          "2021-05-25",
          "2021-05-26",
          "2021-05-27",
          "2021-05-28",
          "2021-05-29",
          "2021-05-30",
          "2021-05-31",
          "2021-06-01",
          "2021-06-02",
          "2021-06-03",
          "2021-06-04",
          "2021-06-05",
          "2021-06-06",
          "2021-06-07",
          "2021-06-08",
          "2021-06-09",
          "2021-06-10",
          "2021-06-11"
         ],
         "y": [
          0.2561602041924622,
          0.25144696969696967,
          0.3387047898338221,
          0.20411242282210026,
          0.2322007323620227,
          0.2970185728250245,
          0.24569437332878194,
          0.25773386708870577,
          0.32175095812192583,
          0.2387099489518844,
          0.26436654489477074,
          0.1939801238188335,
          0.3111412512218964,
          0.2300059581995066,
          0.31949888283759253,
          0.3411800803736288,
          0.13868667861409795,
          0.24013440860215055,
          0.26766039814426906,
          0.32655470992567764,
          0.20382445809865166,
          0.3521854024112088,
          0.23121961550993808,
          0.12560745705906998,
          0.3773185386895064,
          0.21616184890378437,
          0.32459275551211036,
          0.10190833061800803,
          0.16849794411084731,
          0.3206983273596176,
          0.3206983273596176,
          0.3206983273596176,
          0.3206983273596176,
          0.3206983273596176,
          0.3206983273596176,
          0.3206983273596176,
          0.3206983273596176,
          0.3206983273596176,
          0.3206983273596176,
          0.3206983273596176,
          0.3206983273596176,
          0.3206983273596176,
          0.3206983273596176,
          0.3206983273596176,
          0.3206983273596176,
          0.3206983273596176,
          0.3206983273596176,
          0.3206983273596176,
          0.3202356385152084,
          0.3202356385152084,
          0.3202356385152084,
          0.3202356385152084,
          0.3169239346873755,
          0.11964537851634624,
          0.1170772238514174,
          0.2852222222222222,
          0.2852222222222222,
          0.29098533724340175,
          0.29098533724340175,
          0.29098533724340175,
          0.29098533724340175,
          0.14919184161119645,
          0.23377260055754676,
          0.19106060606060604,
          0.2680549349097736,
          0.19532659932659935,
          0.2366629040016137,
          0.30657430681624237,
          0.2880953156759609,
          0.138214945150429,
          0.23490717466523917,
          0.11659275551211033,
          0.29161802355350747,
          0.18517774519387423,
          0.16608178559791464,
          0.19922264115812502,
          0.19555121103508197,
          0.25087071431157454,
          0.26131378299120234,
          0.3787292277614858,
          0.23246427407717732,
          0.3147197784294558,
          0.21500411177830533,
          0.23397415010318234,
          0.18087014061207607,
          0.23748219522413072,
          0.20759025741283807,
          0.17187873357228198,
          0.35501547735418704,
          0.21863620847491816,
          0.2844356467904855,
          0.17323237753882914,
          0.24977279931196986,
          0.20330272773821162,
          0.283591444397896,
          0.14845323434033114,
          0.15542543716737267,
          0.29235065710872166,
          0.17481182795698924,
          0.23204064195462046,
          0.16881720430107527,
          0.2649136526555882,
          0.25860649505810795,
          0.24621597697404152,
          0.24819686884203013,
          0.21330514049868887,
          0.32203405017921155,
          0.15304659498207887,
          0.2829510155316607,
          0.20866742178570136,
          0.29272379711089386,
          0.20876344086021503,
          0.1575337476143928,
          0.20677931387608806,
          0.1886805339224694,
          0.2283435972629521,
          0.21991502117953732,
          0.28198845210941986,
          0.22896296296296298,
          0.21213532560629333,
          0.29717008797653954,
          0.29107459903696464,
          0.14792417260159196,
          0.2638661887694146,
          0.3318124796350602,
          0.2535371378919766,
          0.28499149198073925,
          0.2154138155751059,
          0.1947612220515446,
          0.13556695992179862,
          0.19407962109575014,
          0.10626045400238948,
          0.17164149172213689,
          0.15205325140809012,
          0.2856788313239927,
          0.14349462365591398,
          0.17431614532420983,
          0.18666556502040368,
          0.26534267405235146,
          0.22938090583251872,
          0.21149536843085232,
          0.21992319508448538,
          0.24480286738351253,
          0.11595144998370804,
          0.27299380905832515,
          0.20190321029030708,
          0.15735907461713916,
          0.27308908077187644,
          0.20773313782991204,
          0.2719754301851076,
          0.1591302425173393,
          0.20284701857282503,
          0.2747588791137179,
          0.29559044471486867,
          0.16687574671445637,
          0.2547132616487455,
          0.15752013219755154,
          0.30808580427935267,
          0.2238122003444584,
          0.225111871402194,
          0.11990485500162922
         ]
        },
        {
         "mode": "lines",
         "name": "Min",
         "type": "scatter",
         "x": [
          "2021-01-01",
          "2021-01-02",
          "2021-01-03",
          "2021-01-04",
          "2021-01-05",
          "2021-01-06",
          "2021-01-07",
          "2021-01-08",
          "2021-01-09",
          "2021-01-10",
          "2021-01-11",
          "2021-01-12",
          "2021-01-13",
          "2021-01-14",
          "2021-01-15",
          "2021-01-16",
          "2021-01-17",
          "2021-01-18",
          "2021-01-19",
          "2021-01-20",
          "2021-01-21",
          "2021-01-22",
          "2021-01-23",
          "2021-01-24",
          "2021-01-25",
          "2021-01-26",
          "2021-01-27",
          "2021-01-28",
          "2021-01-29",
          "2021-01-30",
          "2021-01-31",
          "2021-02-01",
          "2021-02-02",
          "2021-02-03",
          "2021-02-04",
          "2021-02-05",
          "2021-02-06",
          "2021-02-07",
          "2021-02-08",
          "2021-02-09",
          "2021-02-10",
          "2021-02-11",
          "2021-02-12",
          "2021-02-13",
          "2021-02-14",
          "2021-02-15",
          "2021-02-16",
          "2021-02-17",
          "2021-02-18",
          "2021-02-19",
          "2021-02-20",
          "2021-02-21",
          "2021-02-22",
          "2021-02-23",
          "2021-02-24",
          "2021-02-25",
          "2021-02-26",
          "2021-02-27",
          "2021-02-28",
          "2021-03-01",
          "2021-03-02",
          "2021-03-03",
          "2021-03-04",
          "2021-03-05",
          "2021-03-06",
          "2021-03-08",
          "2021-03-09",
          "2021-03-10",
          "2021-03-11",
          "2021-03-12",
          "2021-03-13",
          "2021-03-14",
          "2021-03-15",
          "2021-03-16",
          "2021-03-17",
          "2021-03-18",
          "2021-03-19",
          "2021-03-20",
          "2021-03-21",
          "2021-03-22",
          "2021-03-23",
          "2021-03-24",
          "2021-03-25",
          "2021-03-26",
          "2021-03-27",
          "2021-03-28",
          "2021-03-29",
          "2021-03-30",
          "2021-03-31",
          "2021-04-01",
          "2021-04-02",
          "2021-04-03",
          "2021-04-04",
          "2021-04-05",
          "2021-04-06",
          "2021-04-07",
          "2021-04-08",
          "2021-04-09",
          "2021-04-10",
          "2021-04-11",
          "2021-04-12",
          "2021-04-13",
          "2021-04-14",
          "2021-04-15",
          "2021-04-16",
          "2021-04-17",
          "2021-04-18",
          "2021-04-19",
          "2021-04-20",
          "2021-04-21",
          "2021-04-22",
          "2021-04-23",
          "2021-04-24",
          "2021-04-25",
          "2021-04-26",
          "2021-04-27",
          "2021-04-28",
          "2021-04-29",
          "2021-04-30",
          "2021-05-01",
          "2021-05-02",
          "2021-05-03",
          "2021-05-04",
          "2021-05-05",
          "2021-05-06",
          "2021-05-07",
          "2021-05-08",
          "2021-05-09",
          "2021-05-10",
          "2021-05-11",
          "2021-05-12",
          "2021-05-13",
          "2021-05-14",
          "2021-05-15",
          "2021-05-16",
          "2021-05-17",
          "2021-05-18",
          "2021-05-19",
          "2021-05-20",
          "2021-05-21",
          "2021-05-22",
          "2021-05-23",
          "2021-05-24",
          "2021-05-25",
          "2021-05-26",
          "2021-05-27",
          "2021-05-28",
          "2021-05-29",
          "2021-05-30",
          "2021-05-31",
          "2021-06-01",
          "2021-06-02",
          "2021-06-03",
          "2021-06-04",
          "2021-06-05",
          "2021-06-06",
          "2021-06-07",
          "2021-06-08",
          "2021-06-09",
          "2021-06-10",
          "2021-06-11"
         ],
         "y": [
          0,
          0,
          0,
          0,
          0,
          0,
          0,
          0,
          0,
          0,
          0,
          0,
          0,
          0,
          0,
          0,
          0,
          0,
          0,
          0,
          0,
          0,
          0,
          0,
          0,
          0,
          0,
          0,
          0,
          0,
          0,
          0,
          0,
          0,
          0,
          0,
          0,
          0,
          0,
          0,
          0,
          0,
          0,
          0,
          0,
          0,
          0,
          0,
          0,
          0,
          0,
          0,
          0,
          0,
          0,
          0,
          0,
          0,
          0,
          0,
          0,
          0,
          0,
          0,
          0,
          0,
          0,
          0,
          0,
          0,
          0,
          0,
          0,
          0,
          0,
          0,
          0,
          0,
          0,
          0,
          0,
          0,
          0,
          0,
          0,
          0,
          0,
          0,
          0,
          0,
          0,
          0,
          0,
          0,
          0,
          0,
          0,
          0,
          0,
          0,
          0,
          0,
          0,
          0,
          0,
          0,
          0,
          0,
          0,
          0,
          0,
          0,
          0,
          0,
          0,
          0,
          0,
          0,
          0,
          0,
          0,
          0,
          0,
          0,
          0,
          0,
          0,
          0,
          0,
          0,
          0,
          0,
          0,
          0,
          0,
          0,
          0,
          0,
          0,
          0,
          0,
          0,
          0,
          0,
          0,
          0,
          0,
          0,
          0,
          0,
          0,
          0,
          0,
          0,
          0,
          0,
          0,
          0,
          0,
          0,
          0
         ]
        },
        {
         "mode": "lines",
         "name": "Max",
         "type": "scatter",
         "x": [
          "2021-01-01",
          "2021-01-02",
          "2021-01-03",
          "2021-01-04",
          "2021-01-05",
          "2021-01-06",
          "2021-01-07",
          "2021-01-08",
          "2021-01-09",
          "2021-01-10",
          "2021-01-11",
          "2021-01-12",
          "2021-01-13",
          "2021-01-14",
          "2021-01-15",
          "2021-01-16",
          "2021-01-17",
          "2021-01-18",
          "2021-01-19",
          "2021-01-20",
          "2021-01-21",
          "2021-01-22",
          "2021-01-23",
          "2021-01-24",
          "2021-01-25",
          "2021-01-26",
          "2021-01-27",
          "2021-01-28",
          "2021-01-29",
          "2021-01-30",
          "2021-01-31",
          "2021-02-01",
          "2021-02-02",
          "2021-02-03",
          "2021-02-04",
          "2021-02-05",
          "2021-02-06",
          "2021-02-07",
          "2021-02-08",
          "2021-02-09",
          "2021-02-10",
          "2021-02-11",
          "2021-02-12",
          "2021-02-13",
          "2021-02-14",
          "2021-02-15",
          "2021-02-16",
          "2021-02-17",
          "2021-02-18",
          "2021-02-19",
          "2021-02-20",
          "2021-02-21",
          "2021-02-22",
          "2021-02-23",
          "2021-02-24",
          "2021-02-25",
          "2021-02-26",
          "2021-02-27",
          "2021-02-28",
          "2021-03-01",
          "2021-03-02",
          "2021-03-03",
          "2021-03-04",
          "2021-03-05",
          "2021-03-06",
          "2021-03-08",
          "2021-03-09",
          "2021-03-10",
          "2021-03-11",
          "2021-03-12",
          "2021-03-13",
          "2021-03-14",
          "2021-03-15",
          "2021-03-16",
          "2021-03-17",
          "2021-03-18",
          "2021-03-19",
          "2021-03-20",
          "2021-03-21",
          "2021-03-22",
          "2021-03-23",
          "2021-03-24",
          "2021-03-25",
          "2021-03-26",
          "2021-03-27",
          "2021-03-28",
          "2021-03-29",
          "2021-03-30",
          "2021-03-31",
          "2021-04-01",
          "2021-04-02",
          "2021-04-03",
          "2021-04-04",
          "2021-04-05",
          "2021-04-06",
          "2021-04-07",
          "2021-04-08",
          "2021-04-09",
          "2021-04-10",
          "2021-04-11",
          "2021-04-12",
          "2021-04-13",
          "2021-04-14",
          "2021-04-15",
          "2021-04-16",
          "2021-04-17",
          "2021-04-18",
          "2021-04-19",
          "2021-04-20",
          "2021-04-21",
          "2021-04-22",
          "2021-04-23",
          "2021-04-24",
          "2021-04-25",
          "2021-04-26",
          "2021-04-27",
          "2021-04-28",
          "2021-04-29",
          "2021-04-30",
          "2021-05-01",
          "2021-05-02",
          "2021-05-03",
          "2021-05-04",
          "2021-05-05",
          "2021-05-06",
          "2021-05-07",
          "2021-05-08",
          "2021-05-09",
          "2021-05-10",
          "2021-05-11",
          "2021-05-12",
          "2021-05-13",
          "2021-05-14",
          "2021-05-15",
          "2021-05-16",
          "2021-05-17",
          "2021-05-18",
          "2021-05-19",
          "2021-05-20",
          "2021-05-21",
          "2021-05-22",
          "2021-05-23",
          "2021-05-24",
          "2021-05-25",
          "2021-05-26",
          "2021-05-27",
          "2021-05-28",
          "2021-05-29",
          "2021-05-30",
          "2021-05-31",
          "2021-06-01",
          "2021-06-02",
          "2021-06-03",
          "2021-06-04",
          "2021-06-05",
          "2021-06-06",
          "2021-06-07",
          "2021-06-08",
          "2021-06-09",
          "2021-06-10",
          "2021-06-11"
         ],
         "y": [
          1,
          0.8,
          1,
          0.8,
          1,
          0.9750000000000001,
          1,
          0.9,
          1,
          1,
          1,
          1,
          1,
          0.9285714285714286,
          1,
          1,
          1,
          0.8333333333333334,
          1,
          1,
          1,
          1,
          1,
          0.7,
          1,
          0.7,
          1,
          0.525,
          1,
          1,
          1,
          1,
          1,
          1,
          1,
          1,
          1,
          1,
          1,
          1,
          1,
          1,
          1,
          1,
          1,
          1,
          1,
          1,
          1,
          1,
          1,
          1,
          1,
          0.5416666666666666,
          0.5,
          1,
          1,
          1,
          1,
          1,
          1,
          0.5,
          1,
          1,
          1,
          1,
          0.75,
          1,
          0.9,
          0.775,
          1,
          0.5666666666666667,
          1,
          0.75,
          0.638888888888889,
          0.6000000000000001,
          1,
          1,
          1,
          1,
          0.8,
          1,
          1,
          1,
          1,
          0.8888888888888888,
          0.8333333333333334,
          0.8,
          0.9,
          1,
          1,
          1,
          0.6625,
          0.5444444444444444,
          1,
          1,
          1,
          1,
          1,
          1,
          0.5,
          1,
          1,
          0.8,
          1,
          1,
          1,
          0.8,
          1,
          1,
          1,
          1,
          0.7,
          0.9,
          0.8,
          0.95,
          1,
          1,
          1,
          1,
          1,
          1,
          0.5454545454545454,
          0.8333333333333333,
          1,
          0.775,
          1,
          1,
          1,
          0.6666666666666667,
          0.7785714285714285,
          0.7,
          1,
          1,
          1,
          0.625,
          0.6,
          0.9,
          0.875,
          0.8875,
          0.6666666666666667,
          1,
          1,
          0.9,
          1,
          1,
          1,
          0.8,
          0.8,
          1,
          1,
          1,
          1,
          1,
          1,
          1,
          0.8,
          0.75,
          1,
          1,
          1
         ]
        }
       ],
       "layout": {
        "annotations": [
         {
          "font": {
           "color": "rgb(37,37,37)",
           "family": "Arial",
           "size": 30
          },
          "showarrow": false,
          "text": "Development of subjectivity score",
          "x": 0,
          "xanchor": "left",
          "xref": "paper",
          "y": 1.05,
          "yanchor": "bottom",
          "yref": "paper"
         }
        ],
        "template": {
         "data": {
          "bar": [
           {
            "error_x": {
             "color": "#2a3f5f"
            },
            "error_y": {
             "color": "#2a3f5f"
            },
            "marker": {
             "line": {
              "color": "#E5ECF6",
              "width": 0.5
             }
            },
            "type": "bar"
           }
          ],
          "barpolar": [
           {
            "marker": {
             "line": {
              "color": "#E5ECF6",
              "width": 0.5
             }
            },
            "type": "barpolar"
           }
          ],
          "carpet": [
           {
            "aaxis": {
             "endlinecolor": "#2a3f5f",
             "gridcolor": "white",
             "linecolor": "white",
             "minorgridcolor": "white",
             "startlinecolor": "#2a3f5f"
            },
            "baxis": {
             "endlinecolor": "#2a3f5f",
             "gridcolor": "white",
             "linecolor": "white",
             "minorgridcolor": "white",
             "startlinecolor": "#2a3f5f"
            },
            "type": "carpet"
           }
          ],
          "choropleth": [
           {
            "colorbar": {
             "outlinewidth": 0,
             "ticks": ""
            },
            "type": "choropleth"
           }
          ],
          "contour": [
           {
            "colorbar": {
             "outlinewidth": 0,
             "ticks": ""
            },
            "colorscale": [
             [
              0,
              "#0d0887"
             ],
             [
              0.1111111111111111,
              "#46039f"
             ],
             [
              0.2222222222222222,
              "#7201a8"
             ],
             [
              0.3333333333333333,
              "#9c179e"
             ],
             [
              0.4444444444444444,
              "#bd3786"
             ],
             [
              0.5555555555555556,
              "#d8576b"
             ],
             [
              0.6666666666666666,
              "#ed7953"
             ],
             [
              0.7777777777777778,
              "#fb9f3a"
             ],
             [
              0.8888888888888888,
              "#fdca26"
             ],
             [
              1,
              "#f0f921"
             ]
            ],
            "type": "contour"
           }
          ],
          "contourcarpet": [
           {
            "colorbar": {
             "outlinewidth": 0,
             "ticks": ""
            },
            "type": "contourcarpet"
           }
          ],
          "heatmap": [
           {
            "colorbar": {
             "outlinewidth": 0,
             "ticks": ""
            },
            "colorscale": [
             [
              0,
              "#0d0887"
             ],
             [
              0.1111111111111111,
              "#46039f"
             ],
             [
              0.2222222222222222,
              "#7201a8"
             ],
             [
              0.3333333333333333,
              "#9c179e"
             ],
             [
              0.4444444444444444,
              "#bd3786"
             ],
             [
              0.5555555555555556,
              "#d8576b"
             ],
             [
              0.6666666666666666,
              "#ed7953"
             ],
             [
              0.7777777777777778,
              "#fb9f3a"
             ],
             [
              0.8888888888888888,
              "#fdca26"
             ],
             [
              1,
              "#f0f921"
             ]
            ],
            "type": "heatmap"
           }
          ],
          "heatmapgl": [
           {
            "colorbar": {
             "outlinewidth": 0,
             "ticks": ""
            },
            "colorscale": [
             [
              0,
              "#0d0887"
             ],
             [
              0.1111111111111111,
              "#46039f"
             ],
             [
              0.2222222222222222,
              "#7201a8"
             ],
             [
              0.3333333333333333,
              "#9c179e"
             ],
             [
              0.4444444444444444,
              "#bd3786"
             ],
             [
              0.5555555555555556,
              "#d8576b"
             ],
             [
              0.6666666666666666,
              "#ed7953"
             ],
             [
              0.7777777777777778,
              "#fb9f3a"
             ],
             [
              0.8888888888888888,
              "#fdca26"
             ],
             [
              1,
              "#f0f921"
             ]
            ],
            "type": "heatmapgl"
           }
          ],
          "histogram": [
           {
            "marker": {
             "colorbar": {
              "outlinewidth": 0,
              "ticks": ""
             }
            },
            "type": "histogram"
           }
          ],
          "histogram2d": [
           {
            "colorbar": {
             "outlinewidth": 0,
             "ticks": ""
            },
            "colorscale": [
             [
              0,
              "#0d0887"
             ],
             [
              0.1111111111111111,
              "#46039f"
             ],
             [
              0.2222222222222222,
              "#7201a8"
             ],
             [
              0.3333333333333333,
              "#9c179e"
             ],
             [
              0.4444444444444444,
              "#bd3786"
             ],
             [
              0.5555555555555556,
              "#d8576b"
             ],
             [
              0.6666666666666666,
              "#ed7953"
             ],
             [
              0.7777777777777778,
              "#fb9f3a"
             ],
             [
              0.8888888888888888,
              "#fdca26"
             ],
             [
              1,
              "#f0f921"
             ]
            ],
            "type": "histogram2d"
           }
          ],
          "histogram2dcontour": [
           {
            "colorbar": {
             "outlinewidth": 0,
             "ticks": ""
            },
            "colorscale": [
             [
              0,
              "#0d0887"
             ],
             [
              0.1111111111111111,
              "#46039f"
             ],
             [
              0.2222222222222222,
              "#7201a8"
             ],
             [
              0.3333333333333333,
              "#9c179e"
             ],
             [
              0.4444444444444444,
              "#bd3786"
             ],
             [
              0.5555555555555556,
              "#d8576b"
             ],
             [
              0.6666666666666666,
              "#ed7953"
             ],
             [
              0.7777777777777778,
              "#fb9f3a"
             ],
             [
              0.8888888888888888,
              "#fdca26"
             ],
             [
              1,
              "#f0f921"
             ]
            ],
            "type": "histogram2dcontour"
           }
          ],
          "mesh3d": [
           {
            "colorbar": {
             "outlinewidth": 0,
             "ticks": ""
            },
            "type": "mesh3d"
           }
          ],
          "parcoords": [
           {
            "line": {
             "colorbar": {
              "outlinewidth": 0,
              "ticks": ""
             }
            },
            "type": "parcoords"
           }
          ],
          "pie": [
           {
            "automargin": true,
            "type": "pie"
           }
          ],
          "scatter": [
           {
            "marker": {
             "colorbar": {
              "outlinewidth": 0,
              "ticks": ""
             }
            },
            "type": "scatter"
           }
          ],
          "scatter3d": [
           {
            "line": {
             "colorbar": {
              "outlinewidth": 0,
              "ticks": ""
             }
            },
            "marker": {
             "colorbar": {
              "outlinewidth": 0,
              "ticks": ""
             }
            },
            "type": "scatter3d"
           }
          ],
          "scattercarpet": [
           {
            "marker": {
             "colorbar": {
              "outlinewidth": 0,
              "ticks": ""
             }
            },
            "type": "scattercarpet"
           }
          ],
          "scattergeo": [
           {
            "marker": {
             "colorbar": {
              "outlinewidth": 0,
              "ticks": ""
             }
            },
            "type": "scattergeo"
           }
          ],
          "scattergl": [
           {
            "marker": {
             "colorbar": {
              "outlinewidth": 0,
              "ticks": ""
             }
            },
            "type": "scattergl"
           }
          ],
          "scattermapbox": [
           {
            "marker": {
             "colorbar": {
              "outlinewidth": 0,
              "ticks": ""
             }
            },
            "type": "scattermapbox"
           }
          ],
          "scatterpolar": [
           {
            "marker": {
             "colorbar": {
              "outlinewidth": 0,
              "ticks": ""
             }
            },
            "type": "scatterpolar"
           }
          ],
          "scatterpolargl": [
           {
            "marker": {
             "colorbar": {
              "outlinewidth": 0,
              "ticks": ""
             }
            },
            "type": "scatterpolargl"
           }
          ],
          "scatterternary": [
           {
            "marker": {
             "colorbar": {
              "outlinewidth": 0,
              "ticks": ""
             }
            },
            "type": "scatterternary"
           }
          ],
          "surface": [
           {
            "colorbar": {
             "outlinewidth": 0,
             "ticks": ""
            },
            "colorscale": [
             [
              0,
              "#0d0887"
             ],
             [
              0.1111111111111111,
              "#46039f"
             ],
             [
              0.2222222222222222,
              "#7201a8"
             ],
             [
              0.3333333333333333,
              "#9c179e"
             ],
             [
              0.4444444444444444,
              "#bd3786"
             ],
             [
              0.5555555555555556,
              "#d8576b"
             ],
             [
              0.6666666666666666,
              "#ed7953"
             ],
             [
              0.7777777777777778,
              "#fb9f3a"
             ],
             [
              0.8888888888888888,
              "#fdca26"
             ],
             [
              1,
              "#f0f921"
             ]
            ],
            "type": "surface"
           }
          ],
          "table": [
           {
            "cells": {
             "fill": {
              "color": "#EBF0F8"
             },
             "line": {
              "color": "white"
             }
            },
            "header": {
             "fill": {
              "color": "#C8D4E3"
             },
             "line": {
              "color": "white"
             }
            },
            "type": "table"
           }
          ]
         },
         "layout": {
          "annotationdefaults": {
           "arrowcolor": "#2a3f5f",
           "arrowhead": 0,
           "arrowwidth": 1
          },
          "autotypenumbers": "strict",
          "coloraxis": {
           "colorbar": {
            "outlinewidth": 0,
            "ticks": ""
           }
          },
          "colorscale": {
           "diverging": [
            [
             0,
             "#8e0152"
            ],
            [
             0.1,
             "#c51b7d"
            ],
            [
             0.2,
             "#de77ae"
            ],
            [
             0.3,
             "#f1b6da"
            ],
            [
             0.4,
             "#fde0ef"
            ],
            [
             0.5,
             "#f7f7f7"
            ],
            [
             0.6,
             "#e6f5d0"
            ],
            [
             0.7,
             "#b8e186"
            ],
            [
             0.8,
             "#7fbc41"
            ],
            [
             0.9,
             "#4d9221"
            ],
            [
             1,
             "#276419"
            ]
           ],
           "sequential": [
            [
             0,
             "#0d0887"
            ],
            [
             0.1111111111111111,
             "#46039f"
            ],
            [
             0.2222222222222222,
             "#7201a8"
            ],
            [
             0.3333333333333333,
             "#9c179e"
            ],
            [
             0.4444444444444444,
             "#bd3786"
            ],
            [
             0.5555555555555556,
             "#d8576b"
            ],
            [
             0.6666666666666666,
             "#ed7953"
            ],
            [
             0.7777777777777778,
             "#fb9f3a"
            ],
            [
             0.8888888888888888,
             "#fdca26"
            ],
            [
             1,
             "#f0f921"
            ]
           ],
           "sequentialminus": [
            [
             0,
             "#0d0887"
            ],
            [
             0.1111111111111111,
             "#46039f"
            ],
            [
             0.2222222222222222,
             "#7201a8"
            ],
            [
             0.3333333333333333,
             "#9c179e"
            ],
            [
             0.4444444444444444,
             "#bd3786"
            ],
            [
             0.5555555555555556,
             "#d8576b"
            ],
            [
             0.6666666666666666,
             "#ed7953"
            ],
            [
             0.7777777777777778,
             "#fb9f3a"
            ],
            [
             0.8888888888888888,
             "#fdca26"
            ],
            [
             1,
             "#f0f921"
            ]
           ]
          },
          "colorway": [
           "#636efa",
           "#EF553B",
           "#00cc96",
           "#ab63fa",
           "#FFA15A",
           "#19d3f3",
           "#FF6692",
           "#B6E880",
           "#FF97FF",
           "#FECB52"
          ],
          "font": {
           "color": "#2a3f5f"
          },
          "geo": {
           "bgcolor": "white",
           "lakecolor": "white",
           "landcolor": "#E5ECF6",
           "showlakes": true,
           "showland": true,
           "subunitcolor": "white"
          },
          "hoverlabel": {
           "align": "left"
          },
          "hovermode": "closest",
          "mapbox": {
           "style": "light"
          },
          "paper_bgcolor": "white",
          "plot_bgcolor": "#E5ECF6",
          "polar": {
           "angularaxis": {
            "gridcolor": "white",
            "linecolor": "white",
            "ticks": ""
           },
           "bgcolor": "#E5ECF6",
           "radialaxis": {
            "gridcolor": "white",
            "linecolor": "white",
            "ticks": ""
           }
          },
          "scene": {
           "xaxis": {
            "backgroundcolor": "#E5ECF6",
            "gridcolor": "white",
            "gridwidth": 2,
            "linecolor": "white",
            "showbackground": true,
            "ticks": "",
            "zerolinecolor": "white"
           },
           "yaxis": {
            "backgroundcolor": "#E5ECF6",
            "gridcolor": "white",
            "gridwidth": 2,
            "linecolor": "white",
            "showbackground": true,
            "ticks": "",
            "zerolinecolor": "white"
           },
           "zaxis": {
            "backgroundcolor": "#E5ECF6",
            "gridcolor": "white",
            "gridwidth": 2,
            "linecolor": "white",
            "showbackground": true,
            "ticks": "",
            "zerolinecolor": "white"
           }
          },
          "shapedefaults": {
           "line": {
            "color": "#2a3f5f"
           }
          },
          "ternary": {
           "aaxis": {
            "gridcolor": "white",
            "linecolor": "white",
            "ticks": ""
           },
           "baxis": {
            "gridcolor": "white",
            "linecolor": "white",
            "ticks": ""
           },
           "bgcolor": "#E5ECF6",
           "caxis": {
            "gridcolor": "white",
            "linecolor": "white",
            "ticks": ""
           }
          },
          "title": {
           "x": 0.05
          },
          "xaxis": {
           "automargin": true,
           "gridcolor": "white",
           "linecolor": "white",
           "ticks": "",
           "title": {
            "standoff": 15
           },
           "zerolinecolor": "white",
           "zerolinewidth": 2
          },
          "yaxis": {
           "automargin": true,
           "gridcolor": "white",
           "linecolor": "white",
           "ticks": "",
           "title": {
            "standoff": 15
           },
           "zerolinecolor": "white",
           "zerolinewidth": 2
          }
         }
        },
        "xaxis": {
         "title": {
          "text": "Date"
         }
        },
        "yaxis": {
         "title": {
          "text": "Subjectivity score"
         }
        }
       }
      },
      "text/html": [
       "<div>                            <div id=\"9f15ca0d-8f8d-4ab6-9f5e-a75b16837705\" class=\"plotly-graph-div\" style=\"height:525px; width:100%;\"></div>            <script type=\"text/javascript\">                require([\"plotly\"], function(Plotly) {                    window.PLOTLYENV=window.PLOTLYENV || {};                                    if (document.getElementById(\"9f15ca0d-8f8d-4ab6-9f5e-a75b16837705\")) {                    Plotly.newPlot(                        \"9f15ca0d-8f8d-4ab6-9f5e-a75b16837705\",                        [{\"mode\": \"lines\", \"name\": \"Mean\", \"type\": \"scatter\", \"x\": [\"2021-01-01\", \"2021-01-02\", \"2021-01-03\", \"2021-01-04\", \"2021-01-05\", \"2021-01-06\", \"2021-01-07\", \"2021-01-08\", \"2021-01-09\", \"2021-01-10\", \"2021-01-11\", \"2021-01-12\", \"2021-01-13\", \"2021-01-14\", \"2021-01-15\", \"2021-01-16\", \"2021-01-17\", \"2021-01-18\", \"2021-01-19\", \"2021-01-20\", \"2021-01-21\", \"2021-01-22\", \"2021-01-23\", \"2021-01-24\", \"2021-01-25\", \"2021-01-26\", \"2021-01-27\", \"2021-01-28\", \"2021-01-29\", \"2021-01-30\", \"2021-01-31\", \"2021-02-01\", \"2021-02-02\", \"2021-02-03\", \"2021-02-04\", \"2021-02-05\", \"2021-02-06\", \"2021-02-07\", \"2021-02-08\", \"2021-02-09\", \"2021-02-10\", \"2021-02-11\", \"2021-02-12\", \"2021-02-13\", \"2021-02-14\", \"2021-02-15\", \"2021-02-16\", \"2021-02-17\", \"2021-02-18\", \"2021-02-19\", \"2021-02-20\", \"2021-02-21\", \"2021-02-22\", \"2021-02-23\", \"2021-02-24\", \"2021-02-25\", \"2021-02-26\", \"2021-02-27\", \"2021-02-28\", \"2021-03-01\", \"2021-03-02\", \"2021-03-03\", \"2021-03-04\", \"2021-03-05\", \"2021-03-06\", \"2021-03-08\", \"2021-03-09\", \"2021-03-10\", \"2021-03-11\", \"2021-03-12\", \"2021-03-13\", \"2021-03-14\", \"2021-03-15\", \"2021-03-16\", \"2021-03-17\", \"2021-03-18\", \"2021-03-19\", \"2021-03-20\", \"2021-03-21\", \"2021-03-22\", \"2021-03-23\", \"2021-03-24\", \"2021-03-25\", \"2021-03-26\", \"2021-03-27\", \"2021-03-28\", \"2021-03-29\", \"2021-03-30\", \"2021-03-31\", \"2021-04-01\", \"2021-04-02\", \"2021-04-03\", \"2021-04-04\", \"2021-04-05\", \"2021-04-06\", \"2021-04-07\", \"2021-04-08\", \"2021-04-09\", \"2021-04-10\", \"2021-04-11\", \"2021-04-12\", \"2021-04-13\", \"2021-04-14\", \"2021-04-15\", \"2021-04-16\", \"2021-04-17\", \"2021-04-18\", \"2021-04-19\", \"2021-04-20\", \"2021-04-21\", \"2021-04-22\", \"2021-04-23\", \"2021-04-24\", \"2021-04-25\", \"2021-04-26\", \"2021-04-27\", \"2021-04-28\", \"2021-04-29\", \"2021-04-30\", \"2021-05-01\", \"2021-05-02\", \"2021-05-03\", \"2021-05-04\", \"2021-05-05\", \"2021-05-06\", \"2021-05-07\", \"2021-05-08\", \"2021-05-09\", \"2021-05-10\", \"2021-05-11\", \"2021-05-12\", \"2021-05-13\", \"2021-05-14\", \"2021-05-15\", \"2021-05-16\", \"2021-05-17\", \"2021-05-18\", \"2021-05-19\", \"2021-05-20\", \"2021-05-21\", \"2021-05-22\", \"2021-05-23\", \"2021-05-24\", \"2021-05-25\", \"2021-05-26\", \"2021-05-27\", \"2021-05-28\", \"2021-05-29\", \"2021-05-30\", \"2021-05-31\", \"2021-06-01\", \"2021-06-02\", \"2021-06-03\", \"2021-06-04\", \"2021-06-05\", \"2021-06-06\", \"2021-06-07\", \"2021-06-08\", \"2021-06-09\", \"2021-06-10\", \"2021-06-11\"], \"y\": [0.2561602041924622, 0.25144696969696967, 0.3387047898338221, 0.20411242282210026, 0.2322007323620227, 0.2970185728250245, 0.24569437332878194, 0.25773386708870577, 0.32175095812192583, 0.2387099489518844, 0.26436654489477074, 0.1939801238188335, 0.3111412512218964, 0.2300059581995066, 0.31949888283759253, 0.3411800803736288, 0.13868667861409795, 0.24013440860215055, 0.26766039814426906, 0.32655470992567764, 0.20382445809865166, 0.3521854024112088, 0.23121961550993808, 0.12560745705906998, 0.3773185386895064, 0.21616184890378437, 0.32459275551211036, 0.10190833061800803, 0.16849794411084731, 0.3206983273596176, 0.3206983273596176, 0.3206983273596176, 0.3206983273596176, 0.3206983273596176, 0.3206983273596176, 0.3206983273596176, 0.3206983273596176, 0.3206983273596176, 0.3206983273596176, 0.3206983273596176, 0.3206983273596176, 0.3206983273596176, 0.3206983273596176, 0.3206983273596176, 0.3206983273596176, 0.3206983273596176, 0.3206983273596176, 0.3206983273596176, 0.3202356385152084, 0.3202356385152084, 0.3202356385152084, 0.3202356385152084, 0.3169239346873755, 0.11964537851634624, 0.1170772238514174, 0.2852222222222222, 0.2852222222222222, 0.29098533724340175, 0.29098533724340175, 0.29098533724340175, 0.29098533724340175, 0.14919184161119645, 0.23377260055754676, 0.19106060606060604, 0.2680549349097736, 0.19532659932659935, 0.2366629040016137, 0.30657430681624237, 0.2880953156759609, 0.138214945150429, 0.23490717466523917, 0.11659275551211033, 0.29161802355350747, 0.18517774519387423, 0.16608178559791464, 0.19922264115812502, 0.19555121103508197, 0.25087071431157454, 0.26131378299120234, 0.3787292277614858, 0.23246427407717732, 0.3147197784294558, 0.21500411177830533, 0.23397415010318234, 0.18087014061207607, 0.23748219522413072, 0.20759025741283807, 0.17187873357228198, 0.35501547735418704, 0.21863620847491816, 0.2844356467904855, 0.17323237753882914, 0.24977279931196986, 0.20330272773821162, 0.283591444397896, 0.14845323434033114, 0.15542543716737267, 0.29235065710872166, 0.17481182795698924, 0.23204064195462046, 0.16881720430107527, 0.2649136526555882, 0.25860649505810795, 0.24621597697404152, 0.24819686884203013, 0.21330514049868887, 0.32203405017921155, 0.15304659498207887, 0.2829510155316607, 0.20866742178570136, 0.29272379711089386, 0.20876344086021503, 0.1575337476143928, 0.20677931387608806, 0.1886805339224694, 0.2283435972629521, 0.21991502117953732, 0.28198845210941986, 0.22896296296296298, 0.21213532560629333, 0.29717008797653954, 0.29107459903696464, 0.14792417260159196, 0.2638661887694146, 0.3318124796350602, 0.2535371378919766, 0.28499149198073925, 0.2154138155751059, 0.1947612220515446, 0.13556695992179862, 0.19407962109575014, 0.10626045400238948, 0.17164149172213689, 0.15205325140809012, 0.2856788313239927, 0.14349462365591398, 0.17431614532420983, 0.18666556502040368, 0.26534267405235146, 0.22938090583251872, 0.21149536843085232, 0.21992319508448538, 0.24480286738351253, 0.11595144998370804, 0.27299380905832515, 0.20190321029030708, 0.15735907461713916, 0.27308908077187644, 0.20773313782991204, 0.2719754301851076, 0.1591302425173393, 0.20284701857282503, 0.2747588791137179, 0.29559044471486867, 0.16687574671445637, 0.2547132616487455, 0.15752013219755154, 0.30808580427935267, 0.2238122003444584, 0.225111871402194, 0.11990485500162922]}, {\"mode\": \"lines\", \"name\": \"Min\", \"type\": \"scatter\", \"x\": [\"2021-01-01\", \"2021-01-02\", \"2021-01-03\", \"2021-01-04\", \"2021-01-05\", \"2021-01-06\", \"2021-01-07\", \"2021-01-08\", \"2021-01-09\", \"2021-01-10\", \"2021-01-11\", \"2021-01-12\", \"2021-01-13\", \"2021-01-14\", \"2021-01-15\", \"2021-01-16\", \"2021-01-17\", \"2021-01-18\", \"2021-01-19\", \"2021-01-20\", \"2021-01-21\", \"2021-01-22\", \"2021-01-23\", \"2021-01-24\", \"2021-01-25\", \"2021-01-26\", \"2021-01-27\", \"2021-01-28\", \"2021-01-29\", \"2021-01-30\", \"2021-01-31\", \"2021-02-01\", \"2021-02-02\", \"2021-02-03\", \"2021-02-04\", \"2021-02-05\", \"2021-02-06\", \"2021-02-07\", \"2021-02-08\", \"2021-02-09\", \"2021-02-10\", \"2021-02-11\", \"2021-02-12\", \"2021-02-13\", \"2021-02-14\", \"2021-02-15\", \"2021-02-16\", \"2021-02-17\", \"2021-02-18\", \"2021-02-19\", \"2021-02-20\", \"2021-02-21\", \"2021-02-22\", \"2021-02-23\", \"2021-02-24\", \"2021-02-25\", \"2021-02-26\", \"2021-02-27\", \"2021-02-28\", \"2021-03-01\", \"2021-03-02\", \"2021-03-03\", \"2021-03-04\", \"2021-03-05\", \"2021-03-06\", \"2021-03-08\", \"2021-03-09\", \"2021-03-10\", \"2021-03-11\", \"2021-03-12\", \"2021-03-13\", \"2021-03-14\", \"2021-03-15\", \"2021-03-16\", \"2021-03-17\", \"2021-03-18\", \"2021-03-19\", \"2021-03-20\", \"2021-03-21\", \"2021-03-22\", \"2021-03-23\", \"2021-03-24\", \"2021-03-25\", \"2021-03-26\", \"2021-03-27\", \"2021-03-28\", \"2021-03-29\", \"2021-03-30\", \"2021-03-31\", \"2021-04-01\", \"2021-04-02\", \"2021-04-03\", \"2021-04-04\", \"2021-04-05\", \"2021-04-06\", \"2021-04-07\", \"2021-04-08\", \"2021-04-09\", \"2021-04-10\", \"2021-04-11\", \"2021-04-12\", \"2021-04-13\", \"2021-04-14\", \"2021-04-15\", \"2021-04-16\", \"2021-04-17\", \"2021-04-18\", \"2021-04-19\", \"2021-04-20\", \"2021-04-21\", \"2021-04-22\", \"2021-04-23\", \"2021-04-24\", \"2021-04-25\", \"2021-04-26\", \"2021-04-27\", \"2021-04-28\", \"2021-04-29\", \"2021-04-30\", \"2021-05-01\", \"2021-05-02\", \"2021-05-03\", \"2021-05-04\", \"2021-05-05\", \"2021-05-06\", \"2021-05-07\", \"2021-05-08\", \"2021-05-09\", \"2021-05-10\", \"2021-05-11\", \"2021-05-12\", \"2021-05-13\", \"2021-05-14\", \"2021-05-15\", \"2021-05-16\", \"2021-05-17\", \"2021-05-18\", \"2021-05-19\", \"2021-05-20\", \"2021-05-21\", \"2021-05-22\", \"2021-05-23\", \"2021-05-24\", \"2021-05-25\", \"2021-05-26\", \"2021-05-27\", \"2021-05-28\", \"2021-05-29\", \"2021-05-30\", \"2021-05-31\", \"2021-06-01\", \"2021-06-02\", \"2021-06-03\", \"2021-06-04\", \"2021-06-05\", \"2021-06-06\", \"2021-06-07\", \"2021-06-08\", \"2021-06-09\", \"2021-06-10\", \"2021-06-11\"], \"y\": [0.0, 0.0, 0.0, 0.0, 0.0, 0.0, 0.0, 0.0, 0.0, 0.0, 0.0, 0.0, 0.0, 0.0, 0.0, 0.0, 0.0, 0.0, 0.0, 0.0, 0.0, 0.0, 0.0, 0.0, 0.0, 0.0, 0.0, 0.0, 0.0, 0.0, 0.0, 0.0, 0.0, 0.0, 0.0, 0.0, 0.0, 0.0, 0.0, 0.0, 0.0, 0.0, 0.0, 0.0, 0.0, 0.0, 0.0, 0.0, 0.0, 0.0, 0.0, 0.0, 0.0, 0.0, 0.0, 0.0, 0.0, 0.0, 0.0, 0.0, 0.0, 0.0, 0.0, 0.0, 0.0, 0.0, 0.0, 0.0, 0.0, 0.0, 0.0, 0.0, 0.0, 0.0, 0.0, 0.0, 0.0, 0.0, 0.0, 0.0, 0.0, 0.0, 0.0, 0.0, 0.0, 0.0, 0.0, 0.0, 0.0, 0.0, 0.0, 0.0, 0.0, 0.0, 0.0, 0.0, 0.0, 0.0, 0.0, 0.0, 0.0, 0.0, 0.0, 0.0, 0.0, 0.0, 0.0, 0.0, 0.0, 0.0, 0.0, 0.0, 0.0, 0.0, 0.0, 0.0, 0.0, 0.0, 0.0, 0.0, 0.0, 0.0, 0.0, 0.0, 0.0, 0.0, 0.0, 0.0, 0.0, 0.0, 0.0, 0.0, 0.0, 0.0, 0.0, 0.0, 0.0, 0.0, 0.0, 0.0, 0.0, 0.0, 0.0, 0.0, 0.0, 0.0, 0.0, 0.0, 0.0, 0.0, 0.0, 0.0, 0.0, 0.0, 0.0, 0.0, 0.0, 0.0, 0.0, 0.0, 0.0]}, {\"mode\": \"lines\", \"name\": \"Max\", \"type\": \"scatter\", \"x\": [\"2021-01-01\", \"2021-01-02\", \"2021-01-03\", \"2021-01-04\", \"2021-01-05\", \"2021-01-06\", \"2021-01-07\", \"2021-01-08\", \"2021-01-09\", \"2021-01-10\", \"2021-01-11\", \"2021-01-12\", \"2021-01-13\", \"2021-01-14\", \"2021-01-15\", \"2021-01-16\", \"2021-01-17\", \"2021-01-18\", \"2021-01-19\", \"2021-01-20\", \"2021-01-21\", \"2021-01-22\", \"2021-01-23\", \"2021-01-24\", \"2021-01-25\", \"2021-01-26\", \"2021-01-27\", \"2021-01-28\", \"2021-01-29\", \"2021-01-30\", \"2021-01-31\", \"2021-02-01\", \"2021-02-02\", \"2021-02-03\", \"2021-02-04\", \"2021-02-05\", \"2021-02-06\", \"2021-02-07\", \"2021-02-08\", \"2021-02-09\", \"2021-02-10\", \"2021-02-11\", \"2021-02-12\", \"2021-02-13\", \"2021-02-14\", \"2021-02-15\", \"2021-02-16\", \"2021-02-17\", \"2021-02-18\", \"2021-02-19\", \"2021-02-20\", \"2021-02-21\", \"2021-02-22\", \"2021-02-23\", \"2021-02-24\", \"2021-02-25\", \"2021-02-26\", \"2021-02-27\", \"2021-02-28\", \"2021-03-01\", \"2021-03-02\", \"2021-03-03\", \"2021-03-04\", \"2021-03-05\", \"2021-03-06\", \"2021-03-08\", \"2021-03-09\", \"2021-03-10\", \"2021-03-11\", \"2021-03-12\", \"2021-03-13\", \"2021-03-14\", \"2021-03-15\", \"2021-03-16\", \"2021-03-17\", \"2021-03-18\", \"2021-03-19\", \"2021-03-20\", \"2021-03-21\", \"2021-03-22\", \"2021-03-23\", \"2021-03-24\", \"2021-03-25\", \"2021-03-26\", \"2021-03-27\", \"2021-03-28\", \"2021-03-29\", \"2021-03-30\", \"2021-03-31\", \"2021-04-01\", \"2021-04-02\", \"2021-04-03\", \"2021-04-04\", \"2021-04-05\", \"2021-04-06\", \"2021-04-07\", \"2021-04-08\", \"2021-04-09\", \"2021-04-10\", \"2021-04-11\", \"2021-04-12\", \"2021-04-13\", \"2021-04-14\", \"2021-04-15\", \"2021-04-16\", \"2021-04-17\", \"2021-04-18\", \"2021-04-19\", \"2021-04-20\", \"2021-04-21\", \"2021-04-22\", \"2021-04-23\", \"2021-04-24\", \"2021-04-25\", \"2021-04-26\", \"2021-04-27\", \"2021-04-28\", \"2021-04-29\", \"2021-04-30\", \"2021-05-01\", \"2021-05-02\", \"2021-05-03\", \"2021-05-04\", \"2021-05-05\", \"2021-05-06\", \"2021-05-07\", \"2021-05-08\", \"2021-05-09\", \"2021-05-10\", \"2021-05-11\", \"2021-05-12\", \"2021-05-13\", \"2021-05-14\", \"2021-05-15\", \"2021-05-16\", \"2021-05-17\", \"2021-05-18\", \"2021-05-19\", \"2021-05-20\", \"2021-05-21\", \"2021-05-22\", \"2021-05-23\", \"2021-05-24\", \"2021-05-25\", \"2021-05-26\", \"2021-05-27\", \"2021-05-28\", \"2021-05-29\", \"2021-05-30\", \"2021-05-31\", \"2021-06-01\", \"2021-06-02\", \"2021-06-03\", \"2021-06-04\", \"2021-06-05\", \"2021-06-06\", \"2021-06-07\", \"2021-06-08\", \"2021-06-09\", \"2021-06-10\", \"2021-06-11\"], \"y\": [1.0, 0.8, 1.0, 0.8, 1.0, 0.9750000000000001, 1.0, 0.9, 1.0, 1.0, 1.0, 1.0, 1.0, 0.9285714285714286, 1.0, 1.0, 1.0, 0.8333333333333334, 1.0, 1.0, 1.0, 1.0, 1.0, 0.7, 1.0, 0.7, 1.0, 0.525, 1.0, 1.0, 1.0, 1.0, 1.0, 1.0, 1.0, 1.0, 1.0, 1.0, 1.0, 1.0, 1.0, 1.0, 1.0, 1.0, 1.0, 1.0, 1.0, 1.0, 1.0, 1.0, 1.0, 1.0, 1.0, 0.5416666666666666, 0.5, 1.0, 1.0, 1.0, 1.0, 1.0, 1.0, 0.5, 1.0, 1.0, 1.0, 1.0, 0.75, 1.0, 0.9, 0.775, 1.0, 0.5666666666666667, 1.0, 0.75, 0.638888888888889, 0.6000000000000001, 1.0, 1.0, 1.0, 1.0, 0.8, 1.0, 1.0, 1.0, 1.0, 0.8888888888888888, 0.8333333333333334, 0.8, 0.9, 1.0, 1.0, 1.0, 0.6625, 0.5444444444444444, 1.0, 1.0, 1.0, 1.0, 1.0, 1.0, 0.5, 1.0, 1.0, 0.8, 1.0, 1.0, 1.0, 0.8, 1.0, 1.0, 1.0, 1.0, 0.7, 0.9, 0.8, 0.95, 1.0, 1.0, 1.0, 1.0, 1.0, 1.0, 0.5454545454545454, 0.8333333333333333, 1.0, 0.775, 1.0, 1.0, 1.0, 0.6666666666666667, 0.7785714285714285, 0.7, 1.0, 1.0, 1.0, 0.625, 0.6, 0.9, 0.875, 0.8875, 0.6666666666666667, 1.0, 1.0, 0.9, 1.0, 1.0, 1.0, 0.8, 0.8, 1.0, 1.0, 1.0, 1.0, 1.0, 1.0, 1.0, 0.8, 0.75, 1.0, 1.0, 1.0]}],                        {\"annotations\": [{\"font\": {\"color\": \"rgb(37,37,37)\", \"family\": \"Arial\", \"size\": 30}, \"showarrow\": false, \"text\": \"Development of subjectivity score\", \"x\": 0.0, \"xanchor\": \"left\", \"xref\": \"paper\", \"y\": 1.05, \"yanchor\": \"bottom\", \"yref\": \"paper\"}], \"template\": {\"data\": {\"bar\": [{\"error_x\": {\"color\": \"#2a3f5f\"}, \"error_y\": {\"color\": \"#2a3f5f\"}, \"marker\": {\"line\": {\"color\": \"#E5ECF6\", \"width\": 0.5}}, \"type\": \"bar\"}], \"barpolar\": [{\"marker\": {\"line\": {\"color\": \"#E5ECF6\", \"width\": 0.5}}, \"type\": \"barpolar\"}], \"carpet\": [{\"aaxis\": {\"endlinecolor\": \"#2a3f5f\", \"gridcolor\": \"white\", \"linecolor\": \"white\", \"minorgridcolor\": \"white\", \"startlinecolor\": \"#2a3f5f\"}, \"baxis\": {\"endlinecolor\": \"#2a3f5f\", \"gridcolor\": \"white\", \"linecolor\": \"white\", \"minorgridcolor\": \"white\", \"startlinecolor\": \"#2a3f5f\"}, \"type\": \"carpet\"}], \"choropleth\": [{\"colorbar\": {\"outlinewidth\": 0, \"ticks\": \"\"}, \"type\": \"choropleth\"}], \"contour\": [{\"colorbar\": {\"outlinewidth\": 0, \"ticks\": \"\"}, \"colorscale\": [[0.0, \"#0d0887\"], [0.1111111111111111, \"#46039f\"], [0.2222222222222222, \"#7201a8\"], [0.3333333333333333, \"#9c179e\"], [0.4444444444444444, \"#bd3786\"], [0.5555555555555556, \"#d8576b\"], [0.6666666666666666, \"#ed7953\"], [0.7777777777777778, \"#fb9f3a\"], [0.8888888888888888, \"#fdca26\"], [1.0, \"#f0f921\"]], \"type\": \"contour\"}], \"contourcarpet\": [{\"colorbar\": {\"outlinewidth\": 0, \"ticks\": \"\"}, \"type\": \"contourcarpet\"}], \"heatmap\": [{\"colorbar\": {\"outlinewidth\": 0, \"ticks\": \"\"}, \"colorscale\": [[0.0, \"#0d0887\"], [0.1111111111111111, \"#46039f\"], [0.2222222222222222, \"#7201a8\"], [0.3333333333333333, \"#9c179e\"], [0.4444444444444444, \"#bd3786\"], [0.5555555555555556, \"#d8576b\"], [0.6666666666666666, \"#ed7953\"], [0.7777777777777778, \"#fb9f3a\"], [0.8888888888888888, \"#fdca26\"], [1.0, \"#f0f921\"]], \"type\": \"heatmap\"}], \"heatmapgl\": [{\"colorbar\": {\"outlinewidth\": 0, \"ticks\": \"\"}, \"colorscale\": [[0.0, \"#0d0887\"], [0.1111111111111111, \"#46039f\"], [0.2222222222222222, \"#7201a8\"], [0.3333333333333333, \"#9c179e\"], [0.4444444444444444, \"#bd3786\"], [0.5555555555555556, \"#d8576b\"], [0.6666666666666666, \"#ed7953\"], [0.7777777777777778, \"#fb9f3a\"], [0.8888888888888888, \"#fdca26\"], [1.0, \"#f0f921\"]], \"type\": \"heatmapgl\"}], \"histogram\": [{\"marker\": {\"colorbar\": {\"outlinewidth\": 0, \"ticks\": \"\"}}, \"type\": \"histogram\"}], \"histogram2d\": [{\"colorbar\": {\"outlinewidth\": 0, \"ticks\": \"\"}, \"colorscale\": [[0.0, \"#0d0887\"], [0.1111111111111111, \"#46039f\"], [0.2222222222222222, \"#7201a8\"], [0.3333333333333333, \"#9c179e\"], [0.4444444444444444, \"#bd3786\"], [0.5555555555555556, \"#d8576b\"], [0.6666666666666666, \"#ed7953\"], [0.7777777777777778, \"#fb9f3a\"], [0.8888888888888888, \"#fdca26\"], [1.0, \"#f0f921\"]], \"type\": \"histogram2d\"}], \"histogram2dcontour\": [{\"colorbar\": {\"outlinewidth\": 0, \"ticks\": \"\"}, \"colorscale\": [[0.0, \"#0d0887\"], [0.1111111111111111, \"#46039f\"], [0.2222222222222222, \"#7201a8\"], [0.3333333333333333, \"#9c179e\"], [0.4444444444444444, \"#bd3786\"], [0.5555555555555556, \"#d8576b\"], [0.6666666666666666, \"#ed7953\"], [0.7777777777777778, \"#fb9f3a\"], [0.8888888888888888, \"#fdca26\"], [1.0, \"#f0f921\"]], \"type\": \"histogram2dcontour\"}], \"mesh3d\": [{\"colorbar\": {\"outlinewidth\": 0, \"ticks\": \"\"}, \"type\": \"mesh3d\"}], \"parcoords\": [{\"line\": {\"colorbar\": {\"outlinewidth\": 0, \"ticks\": \"\"}}, \"type\": \"parcoords\"}], \"pie\": [{\"automargin\": true, \"type\": \"pie\"}], \"scatter\": [{\"marker\": {\"colorbar\": {\"outlinewidth\": 0, \"ticks\": \"\"}}, \"type\": \"scatter\"}], \"scatter3d\": [{\"line\": {\"colorbar\": {\"outlinewidth\": 0, \"ticks\": \"\"}}, \"marker\": {\"colorbar\": {\"outlinewidth\": 0, \"ticks\": \"\"}}, \"type\": \"scatter3d\"}], \"scattercarpet\": [{\"marker\": {\"colorbar\": {\"outlinewidth\": 0, \"ticks\": \"\"}}, \"type\": \"scattercarpet\"}], \"scattergeo\": [{\"marker\": {\"colorbar\": {\"outlinewidth\": 0, \"ticks\": \"\"}}, \"type\": \"scattergeo\"}], \"scattergl\": [{\"marker\": {\"colorbar\": {\"outlinewidth\": 0, \"ticks\": \"\"}}, \"type\": \"scattergl\"}], \"scattermapbox\": [{\"marker\": {\"colorbar\": {\"outlinewidth\": 0, \"ticks\": \"\"}}, \"type\": \"scattermapbox\"}], \"scatterpolar\": [{\"marker\": {\"colorbar\": {\"outlinewidth\": 0, \"ticks\": \"\"}}, \"type\": \"scatterpolar\"}], \"scatterpolargl\": [{\"marker\": {\"colorbar\": {\"outlinewidth\": 0, \"ticks\": \"\"}}, \"type\": \"scatterpolargl\"}], \"scatterternary\": [{\"marker\": {\"colorbar\": {\"outlinewidth\": 0, \"ticks\": \"\"}}, \"type\": \"scatterternary\"}], \"surface\": [{\"colorbar\": {\"outlinewidth\": 0, \"ticks\": \"\"}, \"colorscale\": [[0.0, \"#0d0887\"], [0.1111111111111111, \"#46039f\"], [0.2222222222222222, \"#7201a8\"], [0.3333333333333333, \"#9c179e\"], [0.4444444444444444, \"#bd3786\"], [0.5555555555555556, \"#d8576b\"], [0.6666666666666666, \"#ed7953\"], [0.7777777777777778, \"#fb9f3a\"], [0.8888888888888888, \"#fdca26\"], [1.0, \"#f0f921\"]], \"type\": \"surface\"}], \"table\": [{\"cells\": {\"fill\": {\"color\": \"#EBF0F8\"}, \"line\": {\"color\": \"white\"}}, \"header\": {\"fill\": {\"color\": \"#C8D4E3\"}, \"line\": {\"color\": \"white\"}}, \"type\": \"table\"}]}, \"layout\": {\"annotationdefaults\": {\"arrowcolor\": \"#2a3f5f\", \"arrowhead\": 0, \"arrowwidth\": 1}, \"autotypenumbers\": \"strict\", \"coloraxis\": {\"colorbar\": {\"outlinewidth\": 0, \"ticks\": \"\"}}, \"colorscale\": {\"diverging\": [[0, \"#8e0152\"], [0.1, \"#c51b7d\"], [0.2, \"#de77ae\"], [0.3, \"#f1b6da\"], [0.4, \"#fde0ef\"], [0.5, \"#f7f7f7\"], [0.6, \"#e6f5d0\"], [0.7, \"#b8e186\"], [0.8, \"#7fbc41\"], [0.9, \"#4d9221\"], [1, \"#276419\"]], \"sequential\": [[0.0, \"#0d0887\"], [0.1111111111111111, \"#46039f\"], [0.2222222222222222, \"#7201a8\"], [0.3333333333333333, \"#9c179e\"], [0.4444444444444444, \"#bd3786\"], [0.5555555555555556, \"#d8576b\"], [0.6666666666666666, \"#ed7953\"], [0.7777777777777778, \"#fb9f3a\"], [0.8888888888888888, \"#fdca26\"], [1.0, \"#f0f921\"]], \"sequentialminus\": [[0.0, \"#0d0887\"], [0.1111111111111111, \"#46039f\"], [0.2222222222222222, \"#7201a8\"], [0.3333333333333333, \"#9c179e\"], [0.4444444444444444, \"#bd3786\"], [0.5555555555555556, \"#d8576b\"], [0.6666666666666666, \"#ed7953\"], [0.7777777777777778, \"#fb9f3a\"], [0.8888888888888888, \"#fdca26\"], [1.0, \"#f0f921\"]]}, \"colorway\": [\"#636efa\", \"#EF553B\", \"#00cc96\", \"#ab63fa\", \"#FFA15A\", \"#19d3f3\", \"#FF6692\", \"#B6E880\", \"#FF97FF\", \"#FECB52\"], \"font\": {\"color\": \"#2a3f5f\"}, \"geo\": {\"bgcolor\": \"white\", \"lakecolor\": \"white\", \"landcolor\": \"#E5ECF6\", \"showlakes\": true, \"showland\": true, \"subunitcolor\": \"white\"}, \"hoverlabel\": {\"align\": \"left\"}, \"hovermode\": \"closest\", \"mapbox\": {\"style\": \"light\"}, \"paper_bgcolor\": \"white\", \"plot_bgcolor\": \"#E5ECF6\", \"polar\": {\"angularaxis\": {\"gridcolor\": \"white\", \"linecolor\": \"white\", \"ticks\": \"\"}, \"bgcolor\": \"#E5ECF6\", \"radialaxis\": {\"gridcolor\": \"white\", \"linecolor\": \"white\", \"ticks\": \"\"}}, \"scene\": {\"xaxis\": {\"backgroundcolor\": \"#E5ECF6\", \"gridcolor\": \"white\", \"gridwidth\": 2, \"linecolor\": \"white\", \"showbackground\": true, \"ticks\": \"\", \"zerolinecolor\": \"white\"}, \"yaxis\": {\"backgroundcolor\": \"#E5ECF6\", \"gridcolor\": \"white\", \"gridwidth\": 2, \"linecolor\": \"white\", \"showbackground\": true, \"ticks\": \"\", \"zerolinecolor\": \"white\"}, \"zaxis\": {\"backgroundcolor\": \"#E5ECF6\", \"gridcolor\": \"white\", \"gridwidth\": 2, \"linecolor\": \"white\", \"showbackground\": true, \"ticks\": \"\", \"zerolinecolor\": \"white\"}}, \"shapedefaults\": {\"line\": {\"color\": \"#2a3f5f\"}}, \"ternary\": {\"aaxis\": {\"gridcolor\": \"white\", \"linecolor\": \"white\", \"ticks\": \"\"}, \"baxis\": {\"gridcolor\": \"white\", \"linecolor\": \"white\", \"ticks\": \"\"}, \"bgcolor\": \"#E5ECF6\", \"caxis\": {\"gridcolor\": \"white\", \"linecolor\": \"white\", \"ticks\": \"\"}}, \"title\": {\"x\": 0.05}, \"xaxis\": {\"automargin\": true, \"gridcolor\": \"white\", \"linecolor\": \"white\", \"ticks\": \"\", \"title\": {\"standoff\": 15}, \"zerolinecolor\": \"white\", \"zerolinewidth\": 2}, \"yaxis\": {\"automargin\": true, \"gridcolor\": \"white\", \"linecolor\": \"white\", \"ticks\": \"\", \"title\": {\"standoff\": 15}, \"zerolinecolor\": \"white\", \"zerolinewidth\": 2}}}, \"xaxis\": {\"title\": {\"text\": \"Date\"}}, \"yaxis\": {\"title\": {\"text\": \"Subjectivity score\"}}},                        {\"responsive\": true}                    ).then(function(){\n",
       "                            \n",
       "var gd = document.getElementById('9f15ca0d-8f8d-4ab6-9f5e-a75b16837705');\n",
       "var x = new MutationObserver(function (mutations, observer) {{\n",
       "        var display = window.getComputedStyle(gd).display;\n",
       "        if (!display || display === 'none') {{\n",
       "            console.log([gd, 'removed!']);\n",
       "            Plotly.purge(gd);\n",
       "            observer.disconnect();\n",
       "        }}\n",
       "}});\n",
       "\n",
       "// Listen for the removal of the full notebook cells\n",
       "var notebookContainer = gd.closest('#notebook-container');\n",
       "if (notebookContainer) {{\n",
       "    x.observe(notebookContainer, {childList: true});\n",
       "}}\n",
       "\n",
       "// Listen for the clearing of the current output cell\n",
       "var outputEl = gd.closest('.output');\n",
       "if (outputEl) {{\n",
       "    x.observe(outputEl, {childList: true});\n",
       "}}\n",
       "\n",
       "                        })                };                });            </script>        </div>"
      ]
     },
     "metadata": {},
     "output_type": "display_data"
    }
   ],
   "source": [
    "import plotly.graph_objects as go\n",
    "\n",
    "fig3 = go.Figure()\n",
    "fig3.add_trace(go.Scatter(x=df.date, y=df.subjectivity_mean,\n",
    "                    mode='lines',\n",
    "                    name='Mean'))\n",
    "fig3.add_trace(go.Scatter(x=df.date, y=df.subjectivity_min,\n",
    "                    mode='lines',\n",
    "                    name='Min'))\n",
    "fig3.add_trace(go.Scatter(x=df.date, y=df.subjectivity_max,\n",
    "                    mode='lines',\n",
    "                    name='Max'))\n",
    "title = []\n",
    "title.append(dict(xref='paper', yref='paper', x=0.0, y=1.05,\n",
    "                              xanchor='left', yanchor='bottom',\n",
    "                              text='Development of subjectivity score',\n",
    "                              font=dict(family='Arial',\n",
    "                                        size=30,\n",
    "                                        color='rgb(37,37,37)'),\n",
    "                              showarrow=False))\n",
    "fig3.update_layout(xaxis_title='Date',\n",
    "                   yaxis_title='Subjectivity score',\n",
    "                  annotations=title)\n",
    "fig3.show()"
   ]
  },
  {
   "cell_type": "code",
   "execution_count": 3,
   "metadata": {
    "ExecuteTime": {
     "end_time": "2021-06-04T13:50:55.534847Z",
     "start_time": "2021-06-04T13:50:44.369566Z"
    }
   },
   "outputs": [],
   "source": [
    "from ta import add_all_ta_features"
   ]
  },
  {
   "cell_type": "code",
   "execution_count": 6,
   "metadata": {
    "ExecuteTime": {
     "end_time": "2021-06-04T13:53:00.061512Z",
     "start_time": "2021-06-04T13:52:59.435307Z"
    }
   },
   "outputs": [],
   "source": [
    "import yfinance as yf, pandas as pd"
   ]
  },
  {
   "cell_type": "code",
   "execution_count": 36,
   "metadata": {
    "ExecuteTime": {
     "end_time": "2021-06-04T14:11:56.034577Z",
     "start_time": "2021-06-04T14:11:55.718509Z"
    }
   },
   "outputs": [
    {
     "data": {
      "text/html": [
       "<div>\n",
       "<style scoped>\n",
       "    .dataframe tbody tr th:only-of-type {\n",
       "        vertical-align: middle;\n",
       "    }\n",
       "\n",
       "    .dataframe tbody tr th {\n",
       "        vertical-align: top;\n",
       "    }\n",
       "\n",
       "    .dataframe thead th {\n",
       "        text-align: right;\n",
       "    }\n",
       "</style>\n",
       "<table border=\"1\" class=\"dataframe\">\n",
       "  <thead>\n",
       "    <tr style=\"text-align: right;\">\n",
       "      <th></th>\n",
       "      <th>Open</th>\n",
       "      <th>High</th>\n",
       "      <th>Low</th>\n",
       "      <th>Close</th>\n",
       "      <th>Volume</th>\n",
       "      <th>Dividends</th>\n",
       "      <th>Stock Splits</th>\n",
       "    </tr>\n",
       "    <tr>\n",
       "      <th>Date</th>\n",
       "      <th></th>\n",
       "      <th></th>\n",
       "      <th></th>\n",
       "      <th></th>\n",
       "      <th></th>\n",
       "      <th></th>\n",
       "      <th></th>\n",
       "    </tr>\n",
       "  </thead>\n",
       "  <tbody>\n",
       "    <tr>\n",
       "      <th>2021-05-28</th>\n",
       "      <td>628.500000</td>\n",
       "      <td>635.590027</td>\n",
       "      <td>622.380005</td>\n",
       "      <td>625.219971</td>\n",
       "      <td>22737000</td>\n",
       "      <td>0</td>\n",
       "      <td>0</td>\n",
       "    </tr>\n",
       "    <tr>\n",
       "      <th>2021-06-01</th>\n",
       "      <td>627.799988</td>\n",
       "      <td>633.799988</td>\n",
       "      <td>620.549988</td>\n",
       "      <td>623.900024</td>\n",
       "      <td>18084900</td>\n",
       "      <td>0</td>\n",
       "      <td>0</td>\n",
       "    </tr>\n",
       "    <tr>\n",
       "      <th>2021-06-02</th>\n",
       "      <td>620.130005</td>\n",
       "      <td>623.359985</td>\n",
       "      <td>599.140015</td>\n",
       "      <td>605.119995</td>\n",
       "      <td>23302800</td>\n",
       "      <td>0</td>\n",
       "      <td>0</td>\n",
       "    </tr>\n",
       "    <tr>\n",
       "      <th>2021-06-03</th>\n",
       "      <td>601.799988</td>\n",
       "      <td>604.549988</td>\n",
       "      <td>571.219971</td>\n",
       "      <td>572.840027</td>\n",
       "      <td>30025400</td>\n",
       "      <td>0</td>\n",
       "      <td>0</td>\n",
       "    </tr>\n",
       "    <tr>\n",
       "      <th>2021-06-04</th>\n",
       "      <td>579.710022</td>\n",
       "      <td>598.630005</td>\n",
       "      <td>577.200012</td>\n",
       "      <td>596.098328</td>\n",
       "      <td>7538103</td>\n",
       "      <td>0</td>\n",
       "      <td>0</td>\n",
       "    </tr>\n",
       "  </tbody>\n",
       "</table>\n",
       "</div>"
      ],
      "text/plain": [
       "                  Open        High         Low       Close    Volume  \\\n",
       "Date                                                                   \n",
       "2021-05-28  628.500000  635.590027  622.380005  625.219971  22737000   \n",
       "2021-06-01  627.799988  633.799988  620.549988  623.900024  18084900   \n",
       "2021-06-02  620.130005  623.359985  599.140015  605.119995  23302800   \n",
       "2021-06-03  601.799988  604.549988  571.219971  572.840027  30025400   \n",
       "2021-06-04  579.710022  598.630005  577.200012  596.098328   7538103   \n",
       "\n",
       "            Dividends  Stock Splits  \n",
       "Date                                 \n",
       "2021-05-28          0             0  \n",
       "2021-06-01          0             0  \n",
       "2021-06-02          0             0  \n",
       "2021-06-03          0             0  \n",
       "2021-06-04          0             0  "
      ]
     },
     "execution_count": 36,
     "metadata": {},
     "output_type": "execute_result"
    }
   ],
   "source": [
    "tick = yf.Ticker(str('TSLA'))\n",
    "hist_data = tick.history(period=\"ytd\")  # Tells yfinance what kind of data we want about this stock.\n",
    "hist_data.tail() # Observe the historical stock data"
   ]
  },
  {
   "cell_type": "code",
   "execution_count": 37,
   "metadata": {
    "ExecuteTime": {
     "end_time": "2021-06-04T14:12:01.963307Z",
     "start_time": "2021-06-04T14:12:01.719076Z"
    }
   },
   "outputs": [
    {
     "name": "stderr",
     "output_type": "stream",
     "text": [
      "/Users/Edite/opt/anaconda3/lib/python3.7/site-packages/ta/trend.py:768: RuntimeWarning:\n",
      "\n",
      "invalid value encountered in double_scalars\n",
      "\n",
      "/Users/Edite/opt/anaconda3/lib/python3.7/site-packages/ta/trend.py:772: RuntimeWarning:\n",
      "\n",
      "invalid value encountered in double_scalars\n",
      "\n"
     ]
    },
    {
     "data": {
      "text/plain": [
       "Index(['Open', 'High', 'Low', 'Close', 'Volume', 'Dividends', 'Stock Splits',\n",
       "       'volume_adi', 'volume_obv', 'volume_cmf', 'volume_fi', 'volume_mfi',\n",
       "       'volume_em', 'volume_sma_em', 'volume_vpt', 'volume_nvi', 'volume_vwap',\n",
       "       'volatility_atr', 'volatility_bbm', 'volatility_bbh', 'volatility_bbl',\n",
       "       'volatility_bbw', 'volatility_bbp', 'volatility_bbhi',\n",
       "       'volatility_bbli', 'volatility_kcc', 'volatility_kch', 'volatility_kcl',\n",
       "       'volatility_kcw', 'volatility_kcp', 'volatility_kchi',\n",
       "       'volatility_kcli', 'volatility_dcl', 'volatility_dch', 'volatility_dcm',\n",
       "       'volatility_dcw', 'volatility_dcp', 'volatility_ui', 'trend_macd',\n",
       "       'trend_macd_signal', 'trend_macd_diff', 'trend_sma_fast',\n",
       "       'trend_sma_slow', 'trend_ema_fast', 'trend_ema_slow', 'trend_adx',\n",
       "       'trend_adx_pos', 'trend_adx_neg', 'trend_vortex_ind_pos',\n",
       "       'trend_vortex_ind_neg', 'trend_vortex_ind_diff', 'trend_trix',\n",
       "       'trend_mass_index', 'trend_cci', 'trend_dpo', 'trend_kst',\n",
       "       'trend_kst_sig', 'trend_kst_diff', 'trend_ichimoku_conv',\n",
       "       'trend_ichimoku_base', 'trend_ichimoku_a', 'trend_ichimoku_b',\n",
       "       'trend_visual_ichimoku_a', 'trend_visual_ichimoku_b', 'trend_aroon_up',\n",
       "       'trend_aroon_down', 'trend_aroon_ind', 'trend_psar_up',\n",
       "       'trend_psar_down', 'trend_psar_up_indicator',\n",
       "       'trend_psar_down_indicator', 'trend_stc', 'momentum_rsi',\n",
       "       'momentum_stoch_rsi', 'momentum_stoch_rsi_k', 'momentum_stoch_rsi_d',\n",
       "       'momentum_tsi', 'momentum_uo', 'momentum_stoch',\n",
       "       'momentum_stoch_signal', 'momentum_wr', 'momentum_ao', 'momentum_kama',\n",
       "       'momentum_roc', 'momentum_ppo', 'momentum_ppo_signal',\n",
       "       'momentum_ppo_hist', 'others_dr', 'others_dlr', 'others_cr'],\n",
       "      dtype='object')"
      ]
     },
     "execution_count": 37,
     "metadata": {},
     "output_type": "execute_result"
    }
   ],
   "source": [
    "mom_data = add_all_ta_features(hist_data, open=\"Open\", high=\"High\", low=\"Low\", close=\"Close\", volume=\"Volume\")\n",
    "mom_data.columns"
   ]
  },
  {
   "cell_type": "code",
   "execution_count": 38,
   "metadata": {
    "ExecuteTime": {
     "end_time": "2021-06-04T14:12:04.649373Z",
     "start_time": "2021-06-04T14:12:04.617402Z"
    }
   },
   "outputs": [
    {
     "data": {
      "text/html": [
       "<div>\n",
       "<style scoped>\n",
       "    .dataframe tbody tr th:only-of-type {\n",
       "        vertical-align: middle;\n",
       "    }\n",
       "\n",
       "    .dataframe tbody tr th {\n",
       "        vertical-align: top;\n",
       "    }\n",
       "\n",
       "    .dataframe thead th {\n",
       "        text-align: right;\n",
       "    }\n",
       "</style>\n",
       "<table border=\"1\" class=\"dataframe\">\n",
       "  <thead>\n",
       "    <tr style=\"text-align: right;\">\n",
       "      <th>Date</th>\n",
       "      <th>2021-05-28</th>\n",
       "      <th>2021-06-01</th>\n",
       "      <th>2021-06-02</th>\n",
       "      <th>2021-06-03</th>\n",
       "      <th>2021-06-04</th>\n",
       "    </tr>\n",
       "  </thead>\n",
       "  <tbody>\n",
       "    <tr>\n",
       "      <th>Open</th>\n",
       "      <td>6.285000e+02</td>\n",
       "      <td>6.278000e+02</td>\n",
       "      <td>6.201300e+02</td>\n",
       "      <td>6.018000e+02</td>\n",
       "      <td>5.797100e+02</td>\n",
       "    </tr>\n",
       "    <tr>\n",
       "      <th>High</th>\n",
       "      <td>6.355900e+02</td>\n",
       "      <td>6.338000e+02</td>\n",
       "      <td>6.233600e+02</td>\n",
       "      <td>6.045500e+02</td>\n",
       "      <td>5.986300e+02</td>\n",
       "    </tr>\n",
       "    <tr>\n",
       "      <th>Low</th>\n",
       "      <td>6.223800e+02</td>\n",
       "      <td>6.205500e+02</td>\n",
       "      <td>5.991400e+02</td>\n",
       "      <td>5.712200e+02</td>\n",
       "      <td>5.772000e+02</td>\n",
       "    </tr>\n",
       "    <tr>\n",
       "      <th>Close</th>\n",
       "      <td>6.252200e+02</td>\n",
       "      <td>6.239000e+02</td>\n",
       "      <td>6.051200e+02</td>\n",
       "      <td>5.728400e+02</td>\n",
       "      <td>5.960983e+02</td>\n",
       "    </tr>\n",
       "    <tr>\n",
       "      <th>Volume</th>\n",
       "      <td>2.273700e+07</td>\n",
       "      <td>1.808490e+07</td>\n",
       "      <td>2.330280e+07</td>\n",
       "      <td>3.002540e+07</td>\n",
       "      <td>7.538103e+06</td>\n",
       "    </tr>\n",
       "    <tr>\n",
       "      <th>...</th>\n",
       "      <td>...</td>\n",
       "      <td>...</td>\n",
       "      <td>...</td>\n",
       "      <td>...</td>\n",
       "      <td>...</td>\n",
       "    </tr>\n",
       "    <tr>\n",
       "      <th>momentum_ppo_signal</th>\n",
       "      <td>-1.590510e+00</td>\n",
       "      <td>-2.839129e+00</td>\n",
       "      <td>-3.995414e+00</td>\n",
       "      <td>-4.641865e+00</td>\n",
       "      <td>-6.270118e+00</td>\n",
       "    </tr>\n",
       "    <tr>\n",
       "      <th>momentum_ppo_hist</th>\n",
       "      <td>-3.399415e+00</td>\n",
       "      <td>-4.994475e+00</td>\n",
       "      <td>-4.625138e+00</td>\n",
       "      <td>-2.585804e+00</td>\n",
       "      <td>-6.513012e+00</td>\n",
       "    </tr>\n",
       "    <tr>\n",
       "      <th>others_dr</th>\n",
       "      <td>-8.924475e-01</td>\n",
       "      <td>-2.111171e-01</td>\n",
       "      <td>-3.010102e+00</td>\n",
       "      <td>-5.334474e+00</td>\n",
       "      <td>4.060174e+00</td>\n",
       "    </tr>\n",
       "    <tr>\n",
       "      <th>others_dlr</th>\n",
       "      <td>-8.964537e-01</td>\n",
       "      <td>-2.113403e-01</td>\n",
       "      <td>-3.056336e+00</td>\n",
       "      <td>-5.482028e+00</td>\n",
       "      <td>3.979914e+00</td>\n",
       "    </tr>\n",
       "    <tr>\n",
       "      <th>others_cr</th>\n",
       "      <td>-1.432644e+01</td>\n",
       "      <td>-1.450731e+01</td>\n",
       "      <td>-1.708073e+01</td>\n",
       "      <td>-2.150403e+01</td>\n",
       "      <td>-1.831696e+01</td>\n",
       "    </tr>\n",
       "  </tbody>\n",
       "</table>\n",
       "<p>90 rows × 5 columns</p>\n",
       "</div>"
      ],
      "text/plain": [
       "Date                   2021-05-28    2021-06-01    2021-06-02    2021-06-03  \\\n",
       "Open                 6.285000e+02  6.278000e+02  6.201300e+02  6.018000e+02   \n",
       "High                 6.355900e+02  6.338000e+02  6.233600e+02  6.045500e+02   \n",
       "Low                  6.223800e+02  6.205500e+02  5.991400e+02  5.712200e+02   \n",
       "Close                6.252200e+02  6.239000e+02  6.051200e+02  5.728400e+02   \n",
       "Volume               2.273700e+07  1.808490e+07  2.330280e+07  3.002540e+07   \n",
       "...                           ...           ...           ...           ...   \n",
       "momentum_ppo_signal -1.590510e+00 -2.839129e+00 -3.995414e+00 -4.641865e+00   \n",
       "momentum_ppo_hist   -3.399415e+00 -4.994475e+00 -4.625138e+00 -2.585804e+00   \n",
       "others_dr           -8.924475e-01 -2.111171e-01 -3.010102e+00 -5.334474e+00   \n",
       "others_dlr          -8.964537e-01 -2.113403e-01 -3.056336e+00 -5.482028e+00   \n",
       "others_cr           -1.432644e+01 -1.450731e+01 -1.708073e+01 -2.150403e+01   \n",
       "\n",
       "Date                   2021-06-04  \n",
       "Open                 5.797100e+02  \n",
       "High                 5.986300e+02  \n",
       "Low                  5.772000e+02  \n",
       "Close                5.960983e+02  \n",
       "Volume               7.538103e+06  \n",
       "...                           ...  \n",
       "momentum_ppo_signal -6.270118e+00  \n",
       "momentum_ppo_hist   -6.513012e+00  \n",
       "others_dr            4.060174e+00  \n",
       "others_dlr           3.979914e+00  \n",
       "others_cr           -1.831696e+01  \n",
       "\n",
       "[90 rows x 5 columns]"
      ]
     },
     "execution_count": 38,
     "metadata": {},
     "output_type": "execute_result"
    }
   ],
   "source": [
    "mom_data.tail().T"
   ]
  },
  {
   "cell_type": "code",
   "execution_count": 39,
   "metadata": {
    "ExecuteTime": {
     "end_time": "2021-06-04T14:12:12.821422Z",
     "start_time": "2021-06-04T14:12:12.435539Z"
    }
   },
   "outputs": [
    {
     "data": {
      "text/html": [
       "<div>\n",
       "<style scoped>\n",
       "    .dataframe tbody tr th:only-of-type {\n",
       "        vertical-align: middle;\n",
       "    }\n",
       "\n",
       "    .dataframe tbody tr th {\n",
       "        vertical-align: top;\n",
       "    }\n",
       "\n",
       "    .dataframe thead th {\n",
       "        text-align: right;\n",
       "    }\n",
       "</style>\n",
       "<table border=\"1\" class=\"dataframe\">\n",
       "  <thead>\n",
       "    <tr style=\"text-align: right;\">\n",
       "      <th></th>\n",
       "      <th>Open</th>\n",
       "      <th>High</th>\n",
       "      <th>Low</th>\n",
       "      <th>Close</th>\n",
       "      <th>Volume</th>\n",
       "      <th>Dividends</th>\n",
       "      <th>Stock Splits</th>\n",
       "      <th>volume_adi</th>\n",
       "      <th>volume_obv</th>\n",
       "      <th>volume_cmf</th>\n",
       "      <th>...</th>\n",
       "      <th>momentum_wr</th>\n",
       "      <th>momentum_ao</th>\n",
       "      <th>momentum_kama</th>\n",
       "      <th>momentum_roc</th>\n",
       "      <th>momentum_ppo</th>\n",
       "      <th>momentum_ppo_signal</th>\n",
       "      <th>momentum_ppo_hist</th>\n",
       "      <th>others_dr</th>\n",
       "      <th>others_dlr</th>\n",
       "      <th>others_cr</th>\n",
       "    </tr>\n",
       "  </thead>\n",
       "  <tbody>\n",
       "    <tr>\n",
       "      <th>count</th>\n",
       "      <td>106.000000</td>\n",
       "      <td>106.000000</td>\n",
       "      <td>106.000000</td>\n",
       "      <td>106.000000</td>\n",
       "      <td>1.060000e+02</td>\n",
       "      <td>106.0</td>\n",
       "      <td>106.0</td>\n",
       "      <td>1.060000e+02</td>\n",
       "      <td>1.060000e+02</td>\n",
       "      <td>87.000000</td>\n",
       "      <td>...</td>\n",
       "      <td>93.000000</td>\n",
       "      <td>73.000000</td>\n",
       "      <td>97.000000</td>\n",
       "      <td>94.000000</td>\n",
       "      <td>81.000000</td>\n",
       "      <td>73.000000</td>\n",
       "      <td>73.000000</td>\n",
       "      <td>106.000000</td>\n",
       "      <td>105.000000</td>\n",
       "      <td>106.000000</td>\n",
       "    </tr>\n",
       "    <tr>\n",
       "      <th>mean</th>\n",
       "      <td>714.698207</td>\n",
       "      <td>729.731224</td>\n",
       "      <td>695.889246</td>\n",
       "      <td>713.012624</td>\n",
       "      <td>3.352222e+07</td>\n",
       "      <td>0.0</td>\n",
       "      <td>0.0</td>\n",
       "      <td>7.921038e+07</td>\n",
       "      <td>3.929620e+07</td>\n",
       "      <td>0.004679</td>\n",
       "      <td>...</td>\n",
       "      <td>-54.085044</td>\n",
       "      <td>-42.828615</td>\n",
       "      <td>713.510518</td>\n",
       "      <td>-3.213252</td>\n",
       "      <td>-1.949068</td>\n",
       "      <td>-0.885922</td>\n",
       "      <td>0.633684</td>\n",
       "      <td>-0.088241</td>\n",
       "      <td>-0.192689</td>\n",
       "      <td>-2.296257</td>\n",
       "    </tr>\n",
       "    <tr>\n",
       "      <th>std</th>\n",
       "      <td>90.511856</td>\n",
       "      <td>90.514698</td>\n",
       "      <td>91.197031</td>\n",
       "      <td>91.388647</td>\n",
       "      <td>1.292481e+07</td>\n",
       "      <td>0.0</td>\n",
       "      <td>0.0</td>\n",
       "      <td>3.545226e+07</td>\n",
       "      <td>1.611427e+08</td>\n",
       "      <td>0.079570</td>\n",
       "      <td>...</td>\n",
       "      <td>27.311253</td>\n",
       "      <td>57.183449</td>\n",
       "      <td>78.445308</td>\n",
       "      <td>10.811949</td>\n",
       "      <td>8.371073</td>\n",
       "      <td>5.569085</td>\n",
       "      <td>4.978522</td>\n",
       "      <td>4.080776</td>\n",
       "      <td>4.025763</td>\n",
       "      <td>12.522938</td>\n",
       "    </tr>\n",
       "    <tr>\n",
       "      <th>min</th>\n",
       "      <td>552.549988</td>\n",
       "      <td>566.210022</td>\n",
       "      <td>539.489990</td>\n",
       "      <td>563.000000</td>\n",
       "      <td>7.538103e+06</td>\n",
       "      <td>0.0</td>\n",
       "      <td>0.0</td>\n",
       "      <td>-8.642063e+06</td>\n",
       "      <td>-2.194987e+08</td>\n",
       "      <td>-0.186540</td>\n",
       "      <td>...</td>\n",
       "      <td>-98.866525</td>\n",
       "      <td>-152.321198</td>\n",
       "      <td>597.803450</td>\n",
       "      <td>-28.497041</td>\n",
       "      <td>-23.046408</td>\n",
       "      <td>-16.394433</td>\n",
       "      <td>-6.513012</td>\n",
       "      <td>-8.549851</td>\n",
       "      <td>-8.937619</td>\n",
       "      <td>-22.852408</td>\n",
       "    </tr>\n",
       "    <tr>\n",
       "      <th>25%</th>\n",
       "      <td>648.914993</td>\n",
       "      <td>668.127518</td>\n",
       "      <td>622.940002</td>\n",
       "      <td>643.582504</td>\n",
       "      <td>2.574855e+07</td>\n",
       "      <td>0.0</td>\n",
       "      <td>0.0</td>\n",
       "      <td>5.864762e+07</td>\n",
       "      <td>-9.498255e+07</td>\n",
       "      <td>-0.037335</td>\n",
       "      <td>...</td>\n",
       "      <td>-79.233413</td>\n",
       "      <td>-82.731767</td>\n",
       "      <td>663.150146</td>\n",
       "      <td>-10.671178</td>\n",
       "      <td>-6.276670</td>\n",
       "      <td>-4.174639</td>\n",
       "      <td>-2.957049</td>\n",
       "      <td>-2.502732</td>\n",
       "      <td>-2.537693</td>\n",
       "      <td>-11.810230</td>\n",
       "    </tr>\n",
       "    <tr>\n",
       "      <th>50%</th>\n",
       "      <td>699.755005</td>\n",
       "      <td>710.839996</td>\n",
       "      <td>680.934998</td>\n",
       "      <td>696.620026</td>\n",
       "      <td>3.112700e+07</td>\n",
       "      <td>0.0</td>\n",
       "      <td>0.0</td>\n",
       "      <td>7.720853e+07</td>\n",
       "      <td>9.336600e+06</td>\n",
       "      <td>0.008197</td>\n",
       "      <td>...</td>\n",
       "      <td>-50.365754</td>\n",
       "      <td>-57.568732</td>\n",
       "      <td>697.252226</td>\n",
       "      <td>-2.274317</td>\n",
       "      <td>-2.178103</td>\n",
       "      <td>-2.305236</td>\n",
       "      <td>-0.422727</td>\n",
       "      <td>-0.472399</td>\n",
       "      <td>-0.551426</td>\n",
       "      <td>-4.542526</td>\n",
       "    </tr>\n",
       "    <tr>\n",
       "      <th>75%</th>\n",
       "      <td>791.475006</td>\n",
       "      <td>812.702499</td>\n",
       "      <td>777.095001</td>\n",
       "      <td>795.547485</td>\n",
       "      <td>3.917465e+07</td>\n",
       "      <td>0.0</td>\n",
       "      <td>0.0</td>\n",
       "      <td>9.821101e+07</td>\n",
       "      <td>2.230299e+08</td>\n",
       "      <td>0.060367</td>\n",
       "      <td>...</td>\n",
       "      <td>-30.512850</td>\n",
       "      <td>5.607055</td>\n",
       "      <td>788.625366</td>\n",
       "      <td>3.412186</td>\n",
       "      <td>2.146019</td>\n",
       "      <td>0.684655</td>\n",
       "      <td>3.022763</td>\n",
       "      <td>2.181560</td>\n",
       "      <td>2.027654</td>\n",
       "      <td>9.013451</td>\n",
       "    </tr>\n",
       "    <tr>\n",
       "      <th>max</th>\n",
       "      <td>891.380005</td>\n",
       "      <td>900.400024</td>\n",
       "      <td>871.599976</td>\n",
       "      <td>883.090027</td>\n",
       "      <td>8.939650e+07</td>\n",
       "      <td>0.0</td>\n",
       "      <td>0.0</td>\n",
       "      <td>1.734003e+08</td>\n",
       "      <td>3.172588e+08</td>\n",
       "      <td>0.147817</td>\n",
       "      <td>...</td>\n",
       "      <td>-0.395368</td>\n",
       "      <td>61.987967</td>\n",
       "      <td>838.894939</td>\n",
       "      <td>20.867346</td>\n",
       "      <td>20.021893</td>\n",
       "      <td>12.591131</td>\n",
       "      <td>14.733965</td>\n",
       "      <td>19.641211</td>\n",
       "      <td>17.932717</td>\n",
       "      <td>21.009360</td>\n",
       "    </tr>\n",
       "  </tbody>\n",
       "</table>\n",
       "<p>8 rows × 90 columns</p>\n",
       "</div>"
      ],
      "text/plain": [
       "             Open        High         Low       Close        Volume  \\\n",
       "count  106.000000  106.000000  106.000000  106.000000  1.060000e+02   \n",
       "mean   714.698207  729.731224  695.889246  713.012624  3.352222e+07   \n",
       "std     90.511856   90.514698   91.197031   91.388647  1.292481e+07   \n",
       "min    552.549988  566.210022  539.489990  563.000000  7.538103e+06   \n",
       "25%    648.914993  668.127518  622.940002  643.582504  2.574855e+07   \n",
       "50%    699.755005  710.839996  680.934998  696.620026  3.112700e+07   \n",
       "75%    791.475006  812.702499  777.095001  795.547485  3.917465e+07   \n",
       "max    891.380005  900.400024  871.599976  883.090027  8.939650e+07   \n",
       "\n",
       "       Dividends  Stock Splits    volume_adi    volume_obv  volume_cmf  ...  \\\n",
       "count      106.0         106.0  1.060000e+02  1.060000e+02   87.000000  ...   \n",
       "mean         0.0           0.0  7.921038e+07  3.929620e+07    0.004679  ...   \n",
       "std          0.0           0.0  3.545226e+07  1.611427e+08    0.079570  ...   \n",
       "min          0.0           0.0 -8.642063e+06 -2.194987e+08   -0.186540  ...   \n",
       "25%          0.0           0.0  5.864762e+07 -9.498255e+07   -0.037335  ...   \n",
       "50%          0.0           0.0  7.720853e+07  9.336600e+06    0.008197  ...   \n",
       "75%          0.0           0.0  9.821101e+07  2.230299e+08    0.060367  ...   \n",
       "max          0.0           0.0  1.734003e+08  3.172588e+08    0.147817  ...   \n",
       "\n",
       "       momentum_wr  momentum_ao  momentum_kama  momentum_roc  momentum_ppo  \\\n",
       "count    93.000000    73.000000      97.000000     94.000000     81.000000   \n",
       "mean    -54.085044   -42.828615     713.510518     -3.213252     -1.949068   \n",
       "std      27.311253    57.183449      78.445308     10.811949      8.371073   \n",
       "min     -98.866525  -152.321198     597.803450    -28.497041    -23.046408   \n",
       "25%     -79.233413   -82.731767     663.150146    -10.671178     -6.276670   \n",
       "50%     -50.365754   -57.568732     697.252226     -2.274317     -2.178103   \n",
       "75%     -30.512850     5.607055     788.625366      3.412186      2.146019   \n",
       "max      -0.395368    61.987967     838.894939     20.867346     20.021893   \n",
       "\n",
       "       momentum_ppo_signal  momentum_ppo_hist   others_dr  others_dlr  \\\n",
       "count            73.000000          73.000000  106.000000  105.000000   \n",
       "mean             -0.885922           0.633684   -0.088241   -0.192689   \n",
       "std               5.569085           4.978522    4.080776    4.025763   \n",
       "min             -16.394433          -6.513012   -8.549851   -8.937619   \n",
       "25%              -4.174639          -2.957049   -2.502732   -2.537693   \n",
       "50%              -2.305236          -0.422727   -0.472399   -0.551426   \n",
       "75%               0.684655           3.022763    2.181560    2.027654   \n",
       "max              12.591131          14.733965   19.641211   17.932717   \n",
       "\n",
       "        others_cr  \n",
       "count  106.000000  \n",
       "mean    -2.296257  \n",
       "std     12.522938  \n",
       "min    -22.852408  \n",
       "25%    -11.810230  \n",
       "50%     -4.542526  \n",
       "75%      9.013451  \n",
       "max     21.009360  \n",
       "\n",
       "[8 rows x 90 columns]"
      ]
     },
     "execution_count": 39,
     "metadata": {},
     "output_type": "execute_result"
    }
   ],
   "source": [
    "mom_data.describe()"
   ]
  },
  {
   "cell_type": "code",
   "execution_count": 25,
   "metadata": {
    "ExecuteTime": {
     "end_time": "2021-06-11T09:09:07.314946Z",
     "start_time": "2021-06-11T09:09:07.257122Z"
    }
   },
   "outputs": [
    {
     "name": "stdout",
     "output_type": "stream",
     "text": [
      "(16, 8)\n"
     ]
    },
    {
     "data": {
      "text/html": [
       "<div>\n",
       "<style scoped>\n",
       "    .dataframe tbody tr th:only-of-type {\n",
       "        vertical-align: middle;\n",
       "    }\n",
       "\n",
       "    .dataframe tbody tr th {\n",
       "        vertical-align: top;\n",
       "    }\n",
       "\n",
       "    .dataframe thead th {\n",
       "        text-align: right;\n",
       "    }\n",
       "</style>\n",
       "<table border=\"1\" class=\"dataframe\">\n",
       "  <thead>\n",
       "    <tr style=\"text-align: right;\">\n",
       "      <th></th>\n",
       "      <th>date</th>\n",
       "      <th>open</th>\n",
       "      <th>high</th>\n",
       "      <th>low</th>\n",
       "      <th>close</th>\n",
       "      <th>adj_close</th>\n",
       "      <th>volume</th>\n",
       "      <th>symbol</th>\n",
       "    </tr>\n",
       "  </thead>\n",
       "  <tbody>\n",
       "    <tr>\n",
       "      <th>0</th>\n",
       "      <td>2021-05-19 00:00:00</td>\n",
       "      <td>4,098.45</td>\n",
       "      <td>4,116.93</td>\n",
       "      <td>4,061.41</td>\n",
       "      <td>4,115.68</td>\n",
       "      <td>4,115.68</td>\n",
       "      <td>3,485,550,000</td>\n",
       "      <td>^GSPC</td>\n",
       "    </tr>\n",
       "    <tr>\n",
       "      <th>1</th>\n",
       "      <td>2021-05-20 00:00:00</td>\n",
       "      <td>4,121.97</td>\n",
       "      <td>4,172.80</td>\n",
       "      <td>4,121.97</td>\n",
       "      <td>4,159.12</td>\n",
       "      <td>4,159.12</td>\n",
       "      <td>3,019,060,000</td>\n",
       "      <td>^GSPC</td>\n",
       "    </tr>\n",
       "    <tr>\n",
       "      <th>2</th>\n",
       "      <td>2021-05-21 00:00:00</td>\n",
       "      <td>4,168.61</td>\n",
       "      <td>4,188.72</td>\n",
       "      <td>4,151.72</td>\n",
       "      <td>4,155.86</td>\n",
       "      <td>4,155.86</td>\n",
       "      <td>3,344,620,000</td>\n",
       "      <td>^GSPC</td>\n",
       "    </tr>\n",
       "    <tr>\n",
       "      <th>3</th>\n",
       "      <td>2021-05-24 00:00:00</td>\n",
       "      <td>4,170.16</td>\n",
       "      <td>4,209.52</td>\n",
       "      <td>4,170.16</td>\n",
       "      <td>4,197.05</td>\n",
       "      <td>4,197.05</td>\n",
       "      <td>2,947,400,000</td>\n",
       "      <td>^GSPC</td>\n",
       "    </tr>\n",
       "    <tr>\n",
       "      <th>4</th>\n",
       "      <td>2021-05-25 00:00:00</td>\n",
       "      <td>4,205.94</td>\n",
       "      <td>4,213.42</td>\n",
       "      <td>4,186.52</td>\n",
       "      <td>4,190.37</td>\n",
       "      <td>4,190.37</td>\n",
       "      <td>1,324,822,000</td>\n",
       "      <td>^GSPC</td>\n",
       "    </tr>\n",
       "    <tr>\n",
       "      <th>5</th>\n",
       "      <td>2021-05-26 00:00:00</td>\n",
       "      <td>4,191.59</td>\n",
       "      <td>4,202.61</td>\n",
       "      <td>4,184.11</td>\n",
       "      <td>4,195.99</td>\n",
       "      <td>4,195.99</td>\n",
       "      <td>3,674,490,000</td>\n",
       "      <td>^GSPC</td>\n",
       "    </tr>\n",
       "    <tr>\n",
       "      <th>6</th>\n",
       "      <td>2021-05-27 00:00:00</td>\n",
       "      <td>4,201.94</td>\n",
       "      <td>4,213.38</td>\n",
       "      <td>4,197.78</td>\n",
       "      <td>4,200.88</td>\n",
       "      <td>4,200.88</td>\n",
       "      <td>5,201,110,000</td>\n",
       "      <td>^GSPC</td>\n",
       "    </tr>\n",
       "    <tr>\n",
       "      <th>7</th>\n",
       "      <td>2021-05-28 00:00:00</td>\n",
       "      <td>4,210.77</td>\n",
       "      <td>4,218.36</td>\n",
       "      <td>4,203.57</td>\n",
       "      <td>4,204.11</td>\n",
       "      <td>4,204.11</td>\n",
       "      <td>4,199,270,000</td>\n",
       "      <td>^GSPC</td>\n",
       "    </tr>\n",
       "    <tr>\n",
       "      <th>8</th>\n",
       "      <td>2021-06-01 00:00:00</td>\n",
       "      <td>4,216.52</td>\n",
       "      <td>4,234.12</td>\n",
       "      <td>4,197.59</td>\n",
       "      <td>4,202.04</td>\n",
       "      <td>4,202.04</td>\n",
       "      <td>4,122,960,000</td>\n",
       "      <td>^GSPC</td>\n",
       "    </tr>\n",
       "    <tr>\n",
       "      <th>9</th>\n",
       "      <td>2021-06-02 00:00:00</td>\n",
       "      <td>4,206.82</td>\n",
       "      <td>4,217.37</td>\n",
       "      <td>4,198.27</td>\n",
       "      <td>4,208.12</td>\n",
       "      <td>4,208.12</td>\n",
       "      <td>4,860,930,000</td>\n",
       "      <td>^GSPC</td>\n",
       "    </tr>\n",
       "    <tr>\n",
       "      <th>10</th>\n",
       "      <td>2021-06-03 00:00:00</td>\n",
       "      <td>4,191.43</td>\n",
       "      <td>4,204.39</td>\n",
       "      <td>4,167.93</td>\n",
       "      <td>4,192.85</td>\n",
       "      <td>4,192.85</td>\n",
       "      <td>4,579,450,000</td>\n",
       "      <td>^GSPC</td>\n",
       "    </tr>\n",
       "    <tr>\n",
       "      <th>11</th>\n",
       "      <td>2021-06-04 00:00:00</td>\n",
       "      <td>4,206.05</td>\n",
       "      <td>4,233.45</td>\n",
       "      <td>4,206.05</td>\n",
       "      <td>4,229.89</td>\n",
       "      <td>4,229.89</td>\n",
       "      <td>3,487,070,000</td>\n",
       "      <td>^GSPC</td>\n",
       "    </tr>\n",
       "    <tr>\n",
       "      <th>12</th>\n",
       "      <td>2021-06-07 00:00:00</td>\n",
       "      <td>4,229.34</td>\n",
       "      <td>4,232.34</td>\n",
       "      <td>4,215.66</td>\n",
       "      <td>4,226.52</td>\n",
       "      <td>4,226.52</td>\n",
       "      <td>3,835,570,000</td>\n",
       "      <td>^GSPC</td>\n",
       "    </tr>\n",
       "    <tr>\n",
       "      <th>13</th>\n",
       "      <td>2021-06-08 00:00:00</td>\n",
       "      <td>4,233.81</td>\n",
       "      <td>4,236.74</td>\n",
       "      <td>4,208.41</td>\n",
       "      <td>4,227.26</td>\n",
       "      <td>4,227.26</td>\n",
       "      <td>3,943,870,000</td>\n",
       "      <td>^GSPC</td>\n",
       "    </tr>\n",
       "    <tr>\n",
       "      <th>14</th>\n",
       "      <td>2021-06-09 00:00:00</td>\n",
       "      <td>4,232.99</td>\n",
       "      <td>4,237.09</td>\n",
       "      <td>4,218.74</td>\n",
       "      <td>4,219.55</td>\n",
       "      <td>4,219.55</td>\n",
       "      <td>3,902,870,000</td>\n",
       "      <td>^GSPC</td>\n",
       "    </tr>\n",
       "    <tr>\n",
       "      <th>15</th>\n",
       "      <td>2021-06-10 00:00:00</td>\n",
       "      <td>4,228.56</td>\n",
       "      <td>4,249.74</td>\n",
       "      <td>4,220.34</td>\n",
       "      <td>4,239.18</td>\n",
       "      <td>4,239.18</td>\n",
       "      <td>3,502,480,000</td>\n",
       "      <td>^GSPC</td>\n",
       "    </tr>\n",
       "  </tbody>\n",
       "</table>\n",
       "</div>"
      ],
      "text/plain": [
       "                   date      open      high       low     close adj_close  \\\n",
       "0   2021-05-19 00:00:00  4,098.45  4,116.93  4,061.41  4,115.68  4,115.68   \n",
       "1   2021-05-20 00:00:00  4,121.97  4,172.80  4,121.97  4,159.12  4,159.12   \n",
       "2   2021-05-21 00:00:00  4,168.61  4,188.72  4,151.72  4,155.86  4,155.86   \n",
       "3   2021-05-24 00:00:00  4,170.16  4,209.52  4,170.16  4,197.05  4,197.05   \n",
       "4   2021-05-25 00:00:00  4,205.94  4,213.42  4,186.52  4,190.37  4,190.37   \n",
       "5   2021-05-26 00:00:00  4,191.59  4,202.61  4,184.11  4,195.99  4,195.99   \n",
       "6   2021-05-27 00:00:00  4,201.94  4,213.38  4,197.78  4,200.88  4,200.88   \n",
       "7   2021-05-28 00:00:00  4,210.77  4,218.36  4,203.57  4,204.11  4,204.11   \n",
       "8   2021-06-01 00:00:00  4,216.52  4,234.12  4,197.59  4,202.04  4,202.04   \n",
       "9   2021-06-02 00:00:00  4,206.82  4,217.37  4,198.27  4,208.12  4,208.12   \n",
       "10  2021-06-03 00:00:00  4,191.43  4,204.39  4,167.93  4,192.85  4,192.85   \n",
       "11  2021-06-04 00:00:00  4,206.05  4,233.45  4,206.05  4,229.89  4,229.89   \n",
       "12  2021-06-07 00:00:00  4,229.34  4,232.34  4,215.66  4,226.52  4,226.52   \n",
       "13  2021-06-08 00:00:00  4,233.81  4,236.74  4,208.41  4,227.26  4,227.26   \n",
       "14  2021-06-09 00:00:00  4,232.99  4,237.09  4,218.74  4,219.55  4,219.55   \n",
       "15  2021-06-10 00:00:00  4,228.56  4,249.74  4,220.34  4,239.18  4,239.18   \n",
       "\n",
       "           volume symbol  \n",
       "0   3,485,550,000  ^GSPC  \n",
       "1   3,019,060,000  ^GSPC  \n",
       "2   3,344,620,000  ^GSPC  \n",
       "3   2,947,400,000  ^GSPC  \n",
       "4   1,324,822,000  ^GSPC  \n",
       "5   3,674,490,000  ^GSPC  \n",
       "6   5,201,110,000  ^GSPC  \n",
       "7   4,199,270,000  ^GSPC  \n",
       "8   4,122,960,000  ^GSPC  \n",
       "9   4,860,930,000  ^GSPC  \n",
       "10  4,579,450,000  ^GSPC  \n",
       "11  3,487,070,000  ^GSPC  \n",
       "12  3,835,570,000  ^GSPC  \n",
       "13  3,943,870,000  ^GSPC  \n",
       "14  3,902,870,000  ^GSPC  \n",
       "15  3,502,480,000  ^GSPC  "
      ]
     },
     "execution_count": 25,
     "metadata": {},
     "output_type": "execute_result"
    }
   ],
   "source": [
    "connection = sqlite3.connect('MSC.db')\n",
    "cursor = connection.cursor()\n",
    "\n",
    "sql = ('''Select distinct * from prices\n",
    "where symbol = \"^GSPC\"\n",
    "and date > '2021-05-19'\n",
    "          order by date, symbol\n",
    "       ''')\n",
    "df = pd.read_sql_query(sql,connection)\n",
    "print(df.shape)\n",
    "df"
   ]
  },
  {
   "cell_type": "code",
   "execution_count": 21,
   "metadata": {
    "ExecuteTime": {
     "end_time": "2021-06-11T09:05:12.774612Z",
     "start_time": "2021-06-11T09:05:12.764694Z"
    }
   },
   "outputs": [
    {
     "data": {
      "text/plain": [
       "'!\"#$%&\\'()*+,-./:;<=>?@[\\\\]^_`{|}~'"
      ]
     },
     "execution_count": 21,
     "metadata": {},
     "output_type": "execute_result"
    }
   ],
   "source": [
    "import string\n",
    "string.punctuation"
   ]
  },
  {
   "cell_type": "code",
   "execution_count": null,
   "metadata": {},
   "outputs": [],
   "source": []
  }
 ],
 "metadata": {
  "kernelspec": {
   "display_name": "Python 3",
   "language": "python",
   "name": "python3"
  },
  "language_info": {
   "codemirror_mode": {
    "name": "ipython",
    "version": 3
   },
   "file_extension": ".py",
   "mimetype": "text/x-python",
   "name": "python",
   "nbconvert_exporter": "python",
   "pygments_lexer": "ipython3",
   "version": "3.7.4"
  },
  "toc": {
   "base_numbering": 1,
   "nav_menu": {},
   "number_sections": true,
   "sideBar": true,
   "skip_h1_title": false,
   "title_cell": "Table of Contents",
   "title_sidebar": "Contents",
   "toc_cell": false,
   "toc_position": {},
   "toc_section_display": true,
   "toc_window_display": true
  }
 },
 "nbformat": 4,
 "nbformat_minor": 2
}
