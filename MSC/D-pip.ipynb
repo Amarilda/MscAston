{
 "cells": [
  {
   "cell_type": "markdown",
   "metadata": {},
   "source": [
    "# Reddit news"
   ]
  },
  {
   "cell_type": "code",
   "execution_count": 2,
   "metadata": {
    "ExecuteTime": {
     "end_time": "2021-05-10T07:57:05.985896Z",
     "start_time": "2021-05-10T07:56:59.465585Z"
    }
   },
   "outputs": [],
   "source": [
    "import pandas as pd\n",
    "import sqlite3"
   ]
  },
  {
   "cell_type": "code",
   "execution_count": 22,
   "metadata": {
    "ExecuteTime": {
     "end_time": "2021-05-10T08:01:45.217910Z",
     "start_time": "2021-05-10T08:01:45.209306Z"
    }
   },
   "outputs": [
    {
     "data": {
      "text/plain": [
       "'!\"#$%&\\'()*+,-./:;<=>?@[\\\\]^_`{|}~'"
      ]
     },
     "execution_count": 22,
     "metadata": {},
     "output_type": "execute_result"
    }
   ],
   "source": [
    "import string\n",
    "string.punctuation"
   ]
  },
  {
   "cell_type": "code",
   "execution_count": null,
   "metadata": {
    "ExecuteTime": {
     "end_time": "2021-05-09T08:43:02.260096Z",
     "start_time": "2021-05-09T08:43:02.252874Z"
    }
   },
   "outputs": [],
   "source": [
    "kolonas = ['date']+['top'+str(i) for i in range(1,31)]\n",
    "print(kolonas)"
   ]
  },
  {
   "cell_type": "code",
   "execution_count": null,
   "metadata": {
    "ExecuteTime": {
     "end_time": "2021-05-07T11:00:18.813978Z",
     "start_time": "2021-05-07T11:00:18.805593Z"
    }
   },
   "outputs": [],
   "source": [
    "df = pd.DataFrame(columns = kolonas)"
   ]
  },
  {
   "cell_type": "code",
   "execution_count": null,
   "metadata": {
    "ExecuteTime": {
     "end_time": "2021-05-09T08:58:23.071091Z",
     "start_time": "2021-05-09T08:58:23.064557Z"
    }
   },
   "outputs": [],
   "source": [
    "connection = sqlite3.connect('MSC.db')\n",
    "cursor = connection.cursor()"
   ]
  },
  {
   "cell_type": "code",
   "execution_count": null,
   "metadata": {
    "ExecuteTime": {
     "end_time": "2021-05-07T08:02:17.784572Z",
     "start_time": "2021-05-07T08:02:15.742548Z"
    }
   },
   "outputs": [],
   "source": [
    "sql = (\"Select date(moment) as date, title from top30 where date = '2021-05-05'\")\n",
    "z = pd.read_sql_query(sql,connection)"
   ]
  },
  {
   "cell_type": "code",
   "execution_count": null,
   "metadata": {
    "ExecuteTime": {
     "end_time": "2021-05-07T08:02:29.929123Z",
     "start_time": "2021-05-07T08:02:29.336372Z"
    }
   },
   "outputs": [],
   "source": [
    "for d in z.date.unique():\n",
    "    atbilde =[]\n",
    "    atbilde.append(d)\n",
    "    #print(atbilde)\n",
    "    for title in z.title[z.date == d]:\n",
    "        atbilde.append(title)\n",
    "        \n",
    "    df.loc[len(df)] = atbilde"
   ]
  },
  {
   "cell_type": "code",
   "execution_count": null,
   "metadata": {
    "ExecuteTime": {
     "end_time": "2021-05-07T08:07:10.091859Z",
     "start_time": "2021-05-07T08:07:09.700192Z"
    }
   },
   "outputs": [],
   "source": [
    "df.to_sql('main', connection, if_exists='append',index=False)"
   ]
  },
  {
   "cell_type": "code",
   "execution_count": null,
   "metadata": {
    "ExecuteTime": {
     "end_time": "2021-05-07T11:00:24.792128Z",
     "start_time": "2021-05-07T11:00:24.773207Z"
    }
   },
   "outputs": [],
   "source": [
    "atbilde = []\n",
    "atbilde.append(z.date[0])\n",
    "#print(atbilde)\n",
    "\n",
    "for title in z.title:\n",
    "    atbilde.append(title)\n",
    "        \n",
    "print(atbilde)\n",
    "df.loc[len(df)] = atbilde"
   ]
  },
  {
   "cell_type": "markdown",
   "metadata": {
    "ExecuteTime": {
     "end_time": "2021-05-04T14:08:12.465116Z",
     "start_time": "2021-05-04T14:08:12.349472Z"
    },
    "heading_collapsed": true
   },
   "source": [
    "# delete"
   ]
  },
  {
   "cell_type": "markdown",
   "metadata": {
    "hidden": true
   },
   "source": [
    "connection = sqlite3.connect('MSC.db')\n",
    "cursor = connection.cursor()\n",
    "sql = (\"DELETE from top30 where moment  between '2021-03-30 11:17:11.915369' and '2021-03-30 11:18:48.647641'\")\n",
    "cursor.execute(sql)\n",
    "connection.commit()"
   ]
  },
  {
   "cell_type": "markdown",
   "metadata": {
    "ExecuteTime": {
     "end_time": "2021-05-04T14:27:17.429930Z",
     "start_time": "2021-05-04T14:27:17.426349Z"
    }
   },
   "source": [
    "# Yahoo finance"
   ]
  },
  {
   "cell_type": "code",
   "execution_count": 1,
   "metadata": {
    "ExecuteTime": {
     "end_time": "2021-05-10T07:56:56.826784Z",
     "start_time": "2021-05-10T07:56:55.281696Z"
    }
   },
   "outputs": [],
   "source": [
    "from bs4 import BeautifulSoup\n",
    "import requests\n",
    "import re"
   ]
  },
  {
   "cell_type": "code",
   "execution_count": null,
   "metadata": {
    "ExecuteTime": {
     "end_time": "2021-05-07T14:13:08.973697Z",
     "start_time": "2021-05-07T14:13:08.947541Z"
    }
   },
   "outputs": [],
   "source": [
    "df = pd.DataFrame(columns = ['date','SP500_Open', 'SP500_High', 'SP500_Low', 'SP500_Close', 'SP500_Adj_Close', 'SP500_Volume'])\n",
    "df"
   ]
  },
  {
   "cell_type": "code",
   "execution_count": null,
   "metadata": {
    "ExecuteTime": {
     "end_time": "2021-05-07T14:13:10.535669Z",
     "start_time": "2021-05-07T14:13:10.526983Z"
    }
   },
   "outputs": [],
   "source": [
    "str([str('SP500_')+i for i in df.columns])"
   ]
  },
  {
   "cell_type": "markdown",
   "metadata": {},
   "source": [
    "## S&P 500 (^GSPC)\n",
    "SNP - SNP Real Time Price. Currency in USD"
   ]
  },
  {
   "cell_type": "code",
   "execution_count": 3,
   "metadata": {
    "ExecuteTime": {
     "end_time": "2021-05-10T07:57:06.014024Z",
     "start_time": "2021-05-10T07:57:05.990210Z"
    }
   },
   "outputs": [],
   "source": [
    "url = \"https://finance.yahoo.com/quote/%5EGSPC/history?p=%5EGSPC\""
   ]
  },
  {
   "cell_type": "code",
   "execution_count": 4,
   "metadata": {
    "ExecuteTime": {
     "end_time": "2021-05-10T07:57:09.709482Z",
     "start_time": "2021-05-10T07:57:08.810741Z"
    }
   },
   "outputs": [],
   "source": [
    "r = requests.get(url)\n",
    "data = r.text\n",
    "soup = BeautifulSoup(data)"
   ]
  },
  {
   "cell_type": "code",
   "execution_count": 5,
   "metadata": {
    "ExecuteTime": {
     "end_time": "2021-05-10T07:57:14.653762Z",
     "start_time": "2021-05-10T07:57:14.638684Z"
    }
   },
   "outputs": [
    {
     "name": "stdout",
     "output_type": "stream",
     "text": [
      "May 07, 2021\n",
      "4,210.34\n",
      "4,238.04\n",
      "4,201.64\n",
      "4,232.60\n",
      "4,232.60\n",
      "4,013,060,000\n"
     ]
    }
   ],
   "source": [
    "answer = []\n",
    "for i in soup.find_all('td')[0:7]:\n",
    "    #print(i.span)\n",
    "    print(i.span.text)\n",
    "    answer.append(i.span.text)\n",
    "    #print(len(answer)    "
   ]
  },
  {
   "cell_type": "markdown",
   "metadata": {
    "ExecuteTime": {
     "end_time": "2021-05-07T14:13:17.725039Z",
     "start_time": "2021-05-07T14:13:17.182645Z"
    }
   },
   "source": [
    "for i in range(0, int(len(answer))//7):\n",
    "    atbilde = []\n",
    "    #print(i)\n",
    "    for j in range (0,7):\n",
    "        if j == 0:\n",
    "            atbilde.append(pd.to_datetime(answer[i*7+j], infer_datetime_format=True))\n",
    "        else:\n",
    "            atbilde.append(answer[i*7+j])\n",
    "    df.loc[len(df)] = atbilde"
   ]
  },
  {
   "cell_type": "code",
   "execution_count": null,
   "metadata": {},
   "outputs": [],
   "source": [
    "connection = sqlite3.connect('MSC/MSC.db')\n",
    "cursor = connection.cursor()\n",
    "sql = (\"Select date(moment) as date, title from top30 where moment>date('now')\")\n",
    "z = pd.read_sql_query(sql,connection)\n",
    "\n",
    "atbilde = []\n",
    "columnnames = \"'date', 'top1', 'top2', 'top3', 'top4', 'top5', 'top6', 'top7', 'top8', 'top9', 'top10', 'top11', 'top12', 'top13', 'top14', 'top15', 'top16', 'top17', 'top18', 'top19', 'top20', 'top21', 'top22', 'top23', 'top24', 'top25', 'top26', 'top27', 'top28', 'top29', top30\"\n",
    "insertintotable = '?,?,?,?,?,?,?,?,?,?,?,?,?,?,?,?,?,?,?,?,?,?,?,?,?,?,?,?,?,?,?'\n",
    "atbilde = [z.date[0]] +[i for i in  z.title]\n",
    "\n",
    "connection = sqlite3.connect('MSC/MSC.db')\n",
    "cursor = connection.cursor()\n",
    "sql2 = f'cursor.execute(\"insert INTO  main ({columnnames}) VALUES ({insertintotable})\", {atbilde})'\n",
    "eval(sql2)\n",
    "connection.commit()\n",
    "connection.close()\n",
    "print(\"Appended to MAIN\")"
   ]
  },
  {
   "cell_type": "code",
   "execution_count": 95,
   "metadata": {
    "ExecuteTime": {
     "end_time": "2021-05-10T08:39:50.188221Z",
     "start_time": "2021-05-10T08:39:50.170622Z"
    }
   },
   "outputs": [
    {
     "data": {
      "text/plain": [
       "Index(['date', 'DJI_Open', 'DJI_High', 'DJI_Low', 'DJI_Close', 'DJI_Adj_Close',\n",
       "       'DJI_Volume'],\n",
       "      dtype='object')"
      ]
     },
     "execution_count": 95,
     "metadata": {},
     "output_type": "execute_result"
    }
   ],
   "source": [
    "connection = sqlite3.connect('MSC.db')\n",
    "cursor = connection.cursor()\n",
    "sql = (\"Select * from DJI\")\n",
    "z = pd.read_sql_query(sql,connection).columns\n",
    "z"
   ]
  },
  {
   "cell_type": "code",
   "execution_count": 93,
   "metadata": {
    "ExecuteTime": {
     "end_time": "2021-05-10T08:36:15.466945Z",
     "start_time": "2021-05-10T08:36:14.639935Z"
    }
   },
   "outputs": [
    {
     "name": "stdout",
     "output_type": "stream",
     "text": [
      "Stop. This data point is already in the data base\n"
     ]
    },
    {
     "data": {
      "text/plain": [
       "[]"
      ]
     },
     "execution_count": 93,
     "metadata": {},
     "output_type": "execute_result"
    }
   ],
   "source": [
    "connection = sqlite3.connect('MSC.db')\n",
    "cursor = connection.cursor()\n",
    "sql = (\"Select max(date) as date from SP500\")\n",
    "z = pd.read_sql_query(sql,connection)\n",
    "latest_date = z.date[0]\n",
    "\n",
    "##SP500\n",
    "url = \"https://finance.yahoo.com/quote/%5EGSPC/history?p=%5EGSPC\"\n",
    "r = requests.get(url)\n",
    "data = r.text\n",
    "soup = BeautifulSoup(data)\n",
    "\n",
    "answer = []\n",
    "if str(pd.to_datetime(soup.find_all('td')[0].text, infer_datetime_format=True)) == latest_date:\n",
    "    print('Stop. This data point is already in the data base')\n",
    "else:\n",
    "    print('Lets get scraping')\n",
    "    answer.append(str(pd.to_datetime(soup.find_all('td')[0].text, infer_datetime_format=True)))\n",
    "    answer = answer + [i.span.text for i in soup.find_all('td')[1:7]]\n",
    "    \n",
    "    columnnames = \"'Date', 'SP500_Open', 'SP500_High', 'SP500_Low', 'SP500_Close','SP500_Adj_Close', 'SP500_Volume'\"\n",
    "    insertintotable = '?,?,?,?,?,?,?'\n",
    "    \n",
    "    connection = sqlite3.connect('MSC/MSC.db')\n",
    "    cursor = connection.cursor()\n",
    "    sql2 = f'cursor.execute(\"insert INTO  SP500 ({columnnames}) VALUES ({insertintotable})\", {answer})'\n",
    "    eval(sql2)\n",
    "    connection.commit()\n",
    "    connection.close()\n",
    "    print(f\"{answer[0]} appended to SP500\")\n",
    "    \n",
    "    \n",
    "    ## DJI\n",
    "    url = \"https://finance.yahoo.com/quote/%5EDJI/history?p=%5EDJI\"\n",
    "    r = requests.get(url)\n",
    "    data = r.text\n",
    "    soup = BeautifulSoup(data)\n",
    "    \n",
    "    answer = []\n",
    "    answer.append(str(pd.to_datetime(soup.find_all('td')[0].text, infer_datetime_format=True)))\n",
    "    answer = answer + [i.span.text for i in soup.find_all('td')[1:7]]\n",
    "    \n",
    "    columnnames = \"'date', 'SP500_Open', 'SP500_High', 'SP500_Low', 'SP500_Close','SP500_Adj_Close', 'SP500_Volume'\"\n",
    "    insertintotable = '?,?,?,?,?,?,?'\n",
    "    \n",
    "    connection = sqlite3.connect('MSC/MSC.db')\n",
    "    cursor = connection.cursor()\n",
    "    sql2 = f'cursor.execute(\"insert INTO  SP500 ({columnnames}) VALUES ({insertintotable})\", {answer})'\n",
    "    eval(sql2)\n",
    "    connection.commit()\n",
    "    connection.close()\n",
    "    print(f\"{answer[0]} appended to DJI\")\n",
    "    \n",
    "    \n",
    "answer"
   ]
  },
  {
   "cell_type": "code",
   "execution_count": null,
   "metadata": {
    "ExecuteTime": {
     "end_time": "2021-05-07T14:13:22.084338Z",
     "start_time": "2021-05-07T14:13:22.071026Z"
    }
   },
   "outputs": [],
   "source": [
    "df.to_sql('SP500', connection, if_exists='append',index=False)"
   ]
  },
  {
   "cell_type": "markdown",
   "metadata": {},
   "source": [
    "## Dow Jones Industrial Average (^DJI)\n",
    "DJI - DJI Real Time Price. Currency in USD"
   ]
  },
  {
   "cell_type": "code",
   "execution_count": null,
   "metadata": {
    "ExecuteTime": {
     "end_time": "2021-05-07T14:11:30.683698Z",
     "start_time": "2021-05-07T14:11:30.680697Z"
    }
   },
   "outputs": [],
   "source": [
    "url = \"https://finance.yahoo.com/quote/%5EDJI/history?p=%5EDJI\""
   ]
  },
  {
   "cell_type": "code",
   "execution_count": null,
   "metadata": {
    "ExecuteTime": {
     "end_time": "2021-05-07T14:11:30.743504Z",
     "start_time": "2021-05-07T14:11:30.687962Z"
    }
   },
   "outputs": [],
   "source": [
    "df = pd.DataFrame(columns = ['date', 'DJI_Open', 'DJI_High', 'DJI_Low', 'DJI_Close', 'DJI_Adj_Close', 'DJI_Volume'])\n",
    "df"
   ]
  },
  {
   "cell_type": "code",
   "execution_count": null,
   "metadata": {
    "ExecuteTime": {
     "end_time": "2021-05-07T14:07:09.567434Z",
     "start_time": "2021-05-07T14:07:09.561932Z"
    }
   },
   "outputs": [],
   "source": [
    "columns_new = [str('DJI_')+i for i in df.columns]"
   ]
  },
  {
   "cell_type": "code",
   "execution_count": null,
   "metadata": {
    "ExecuteTime": {
     "end_time": "2021-05-07T14:11:38.068833Z",
     "start_time": "2021-05-07T14:11:37.171734Z"
    }
   },
   "outputs": [],
   "source": [
    "r = requests.get(url)\n",
    "data = r.text\n",
    "soup = BeautifulSoup(data)"
   ]
  },
  {
   "cell_type": "code",
   "execution_count": null,
   "metadata": {
    "ExecuteTime": {
     "end_time": "2021-05-07T14:11:38.407441Z",
     "start_time": "2021-05-07T14:11:38.383103Z"
    }
   },
   "outputs": [],
   "source": [
    "answer = []\n",
    "for i in soup.find_all('td'):\n",
    "    #print(i.span)\n",
    "    #print(i.span.text)\n",
    "    answer.append(i.span.text)\n",
    "    #print(len(answer)  "
   ]
  },
  {
   "cell_type": "code",
   "execution_count": null,
   "metadata": {
    "ExecuteTime": {
     "end_time": "2021-05-07T14:11:42.764407Z",
     "start_time": "2021-05-07T14:11:42.211538Z"
    }
   },
   "outputs": [],
   "source": [
    "for i in range(0, int(len(answer))//7):\n",
    "    atbilde = []\n",
    "    #print(i)\n",
    "    for j in range (0,7):\n",
    "        if j == 0:\n",
    "            atbilde.append(pd.to_datetime(answer[i*7+j], infer_datetime_format=True))\n",
    "        else:\n",
    "            atbilde.append(answer[i*7+j])\n",
    "    df.loc[len(df)] = atbilde"
   ]
  },
  {
   "cell_type": "code",
   "execution_count": null,
   "metadata": {
    "ExecuteTime": {
     "end_time": "2021-05-07T14:11:43.812893Z",
     "start_time": "2021-05-07T14:11:43.789250Z"
    }
   },
   "outputs": [],
   "source": [
    "df"
   ]
  },
  {
   "cell_type": "code",
   "execution_count": null,
   "metadata": {
    "ExecuteTime": {
     "end_time": "2021-05-07T14:11:47.376694Z",
     "start_time": "2021-05-07T14:11:47.363620Z"
    }
   },
   "outputs": [],
   "source": [
    "df.to_sql('DJI', connection, if_exists='append',index=False)"
   ]
  },
  {
   "cell_type": "markdown",
   "metadata": {},
   "source": [
    "# Merge"
   ]
  },
  {
   "cell_type": "code",
   "execution_count": 214,
   "metadata": {
    "ExecuteTime": {
     "end_time": "2021-05-10T20:22:35.986335Z",
     "start_time": "2021-05-10T20:22:32.532096Z"
    }
   },
   "outputs": [
    {
     "data": {
      "text/html": [
       "<div>\n",
       "<style scoped>\n",
       "    .dataframe tbody tr th:only-of-type {\n",
       "        vertical-align: middle;\n",
       "    }\n",
       "\n",
       "    .dataframe tbody tr th {\n",
       "        vertical-align: top;\n",
       "    }\n",
       "\n",
       "    .dataframe thead th {\n",
       "        text-align: right;\n",
       "    }\n",
       "</style>\n",
       "<table border=\"1\" class=\"dataframe\">\n",
       "  <thead>\n",
       "    <tr style=\"text-align: right;\">\n",
       "      <th></th>\n",
       "      <th>date</th>\n",
       "      <th>top1</th>\n",
       "      <th>top2</th>\n",
       "      <th>top3</th>\n",
       "      <th>top4</th>\n",
       "      <th>top5</th>\n",
       "      <th>top6</th>\n",
       "      <th>top7</th>\n",
       "      <th>top8</th>\n",
       "      <th>top9</th>\n",
       "      <th>...</th>\n",
       "      <th>DJI_Open</th>\n",
       "      <th>DJI_High</th>\n",
       "      <th>DJI_Low</th>\n",
       "      <th>DJI_Close</th>\n",
       "      <th>DJI_Adj_Close</th>\n",
       "      <th>SP500_Open</th>\n",
       "      <th>SP500_High</th>\n",
       "      <th>SP500_Low</th>\n",
       "      <th>SP500_Close</th>\n",
       "      <th>SP500_Adj_Close</th>\n",
       "    </tr>\n",
       "  </thead>\n",
       "  <tbody>\n",
       "    <tr>\n",
       "      <th>0</th>\n",
       "      <td>2021-03-09</td>\n",
       "      <td>China breaching every act in genocide conventi...</td>\n",
       "      <td>Around 1,000 women gather in Istanbul to prote...</td>\n",
       "      <td>Greta Thunberg says Biden isn’t doing ‘nearly ...</td>\n",
       "      <td>Humans have 'destroyed or degraded' two-thirds...</td>\n",
       "      <td>Biden and Europe allies worry Israel is prepar...</td>\n",
       "      <td>Syrian President Assad tests positive for COVI...</td>\n",
       "      <td>Covid-19: 'Certain inevitability' that visitor...</td>\n",
       "      <td>First Nation asks UN expert to probe systemic ...</td>\n",
       "      <td>Brazil Supreme Court judge annuls ex-president...</td>\n",
       "      <td>...</td>\n",
       "      <td>31,892.35</td>\n",
       "      <td>32,150.32</td>\n",
       "      <td>31,822.64</td>\n",
       "      <td>31,832.74</td>\n",
       "      <td>31,832.74</td>\n",
       "      <td>3,851.93</td>\n",
       "      <td>3,903.76</td>\n",
       "      <td>3,851.93</td>\n",
       "      <td>3,875.44</td>\n",
       "      <td>3,875.44</td>\n",
       "    </tr>\n",
       "    <tr>\n",
       "      <th>1</th>\n",
       "      <td>2021-03-10</td>\n",
       "      <td>Scientists Discover Chunk of Protoplanet Older...</td>\n",
       "      <td>'Shoot till they are dead': Some Myanmar polic...</td>\n",
       "      <td>Biden to meet virtually with leaders of Japan,...</td>\n",
       "      <td>Up to 1,000 Christian, Hindu and Sikh girls ar...</td>\n",
       "      <td>Papuan island inhabitants, whose island was of...</td>\n",
       "      <td>China’s appetite for meat fades as vegan revol...</td>\n",
       "      <td>French nuclear tests infected 'almost entire P...</td>\n",
       "      <td>Sex between coaches and teenagers in their car...</td>\n",
       "      <td>'Right to repair' law to come into effect this...</td>\n",
       "      <td>...</td>\n",
       "      <td>31,906.96</td>\n",
       "      <td>32,389.50</td>\n",
       "      <td>31,906.96</td>\n",
       "      <td>32,297.02</td>\n",
       "      <td>32,297.02</td>\n",
       "      <td>3,891.99</td>\n",
       "      <td>3,917.35</td>\n",
       "      <td>3,885.73</td>\n",
       "      <td>3,898.81</td>\n",
       "      <td>3,898.81</td>\n",
       "    </tr>\n",
       "    <tr>\n",
       "      <th>2</th>\n",
       "      <td>2021-03-11</td>\n",
       "      <td>Conspiracy Theorist Who Stormed Trudeau’s Prop...</td>\n",
       "      <td>Biden says he’ll share surplus US vaccines wit...</td>\n",
       "      <td>Mexico Passes Bill to Legalize Cannabis</td>\n",
       "      <td>India now as autocratic as Pakistan, worse tha...</td>\n",
       "      <td>Thousands in India demand top judge resign ove...</td>\n",
       "      <td>Hong Kong: China approves \"patriotic\" plan to ...</td>\n",
       "      <td>Myanmar’s military on ‘killing spree’ against ...</td>\n",
       "      <td>The Pfizer-BioNTech coronavirus vaccine 97% ef...</td>\n",
       "      <td>Myanmar's searing smartphone images flood a wa...</td>\n",
       "      <td>...</td>\n",
       "      <td>32,354.50</td>\n",
       "      <td>32,661.59</td>\n",
       "      <td>32,345.70</td>\n",
       "      <td>32,485.59</td>\n",
       "      <td>32,485.59</td>\n",
       "      <td>3,915.54</td>\n",
       "      <td>3,960.27</td>\n",
       "      <td>3,915.54</td>\n",
       "      <td>3,939.34</td>\n",
       "      <td>3,939.34</td>\n",
       "    </tr>\n",
       "    <tr>\n",
       "      <th>3</th>\n",
       "      <td>2021-03-12</td>\n",
       "      <td>Us secretary of state calls Taiwan \"country\"</td>\n",
       "      <td>Myanmar's military is likely committing \"crime...</td>\n",
       "      <td>Vaccination of Toronto's homeless well underwa...</td>\n",
       "      <td>Novavax vaccine 96% effective against original...</td>\n",
       "      <td>Kremlin critic Navalny moved from jail, wherea...</td>\n",
       "      <td>Global warming leads to fish die off in South ...</td>\n",
       "      <td>12 protesters killed in Myanmar as military de...</td>\n",
       "      <td>Drug clan leader testifies he bribed Honduran ...</td>\n",
       "      <td>Canadian health officials watching probes of A...</td>\n",
       "      <td>...</td>\n",
       "      <td>32,462.40</td>\n",
       "      <td>32,793.32</td>\n",
       "      <td>32,462.40</td>\n",
       "      <td>32,778.64</td>\n",
       "      <td>32,778.64</td>\n",
       "      <td>3,924.52</td>\n",
       "      <td>3,944.99</td>\n",
       "      <td>3,915.21</td>\n",
       "      <td>3,943.34</td>\n",
       "      <td>3,943.34</td>\n",
       "    </tr>\n",
       "    <tr>\n",
       "      <th>4</th>\n",
       "      <td>2021-03-13</td>\n",
       "      <td>Unions call strike at Amazon's logistic operat...</td>\n",
       "      <td>Sri Lanka will ban the wearing of the burqa an...</td>\n",
       "      <td>U.S. Offers Protected Status For People From M...</td>\n",
       "      <td>Japan detects new coronavirus variant from tra...</td>\n",
       "      <td>Odisha Man Creates 25 Acres of Mangrove Forest...</td>\n",
       "      <td>Sarah Everard: Met Police officer charged with...</td>\n",
       "      <td>Myanmar Protest Leader Wants The Military Out ...</td>\n",
       "      <td>Russia detains around 150 people, including le...</td>\n",
       "      <td>'Covid is taking over': Brazil plunges into de...</td>\n",
       "      <td>...</td>\n",
       "      <td>None</td>\n",
       "      <td>None</td>\n",
       "      <td>None</td>\n",
       "      <td>None</td>\n",
       "      <td>None</td>\n",
       "      <td>None</td>\n",
       "      <td>None</td>\n",
       "      <td>None</td>\n",
       "      <td>None</td>\n",
       "      <td>None</td>\n",
       "    </tr>\n",
       "  </tbody>\n",
       "</table>\n",
       "<p>5 rows × 41 columns</p>\n",
       "</div>"
      ],
      "text/plain": [
       "         date                                               top1  \\\n",
       "0  2021-03-09  China breaching every act in genocide conventi...   \n",
       "1  2021-03-10  Scientists Discover Chunk of Protoplanet Older...   \n",
       "2  2021-03-11  Conspiracy Theorist Who Stormed Trudeau’s Prop...   \n",
       "3  2021-03-12       Us secretary of state calls Taiwan \"country\"   \n",
       "4  2021-03-13  Unions call strike at Amazon's logistic operat...   \n",
       "\n",
       "                                                top2  \\\n",
       "0  Around 1,000 women gather in Istanbul to prote...   \n",
       "1  'Shoot till they are dead': Some Myanmar polic...   \n",
       "2  Biden says he’ll share surplus US vaccines wit...   \n",
       "3  Myanmar's military is likely committing \"crime...   \n",
       "4  Sri Lanka will ban the wearing of the burqa an...   \n",
       "\n",
       "                                                top3  \\\n",
       "0  Greta Thunberg says Biden isn’t doing ‘nearly ...   \n",
       "1  Biden to meet virtually with leaders of Japan,...   \n",
       "2            Mexico Passes Bill to Legalize Cannabis   \n",
       "3  Vaccination of Toronto's homeless well underwa...   \n",
       "4  U.S. Offers Protected Status For People From M...   \n",
       "\n",
       "                                                top4  \\\n",
       "0  Humans have 'destroyed or degraded' two-thirds...   \n",
       "1  Up to 1,000 Christian, Hindu and Sikh girls ar...   \n",
       "2  India now as autocratic as Pakistan, worse tha...   \n",
       "3  Novavax vaccine 96% effective against original...   \n",
       "4  Japan detects new coronavirus variant from tra...   \n",
       "\n",
       "                                                top5  \\\n",
       "0  Biden and Europe allies worry Israel is prepar...   \n",
       "1  Papuan island inhabitants, whose island was of...   \n",
       "2  Thousands in India demand top judge resign ove...   \n",
       "3  Kremlin critic Navalny moved from jail, wherea...   \n",
       "4  Odisha Man Creates 25 Acres of Mangrove Forest...   \n",
       "\n",
       "                                                top6  \\\n",
       "0  Syrian President Assad tests positive for COVI...   \n",
       "1  China’s appetite for meat fades as vegan revol...   \n",
       "2  Hong Kong: China approves \"patriotic\" plan to ...   \n",
       "3  Global warming leads to fish die off in South ...   \n",
       "4  Sarah Everard: Met Police officer charged with...   \n",
       "\n",
       "                                                top7  \\\n",
       "0  Covid-19: 'Certain inevitability' that visitor...   \n",
       "1  French nuclear tests infected 'almost entire P...   \n",
       "2  Myanmar’s military on ‘killing spree’ against ...   \n",
       "3  12 protesters killed in Myanmar as military de...   \n",
       "4  Myanmar Protest Leader Wants The Military Out ...   \n",
       "\n",
       "                                                top8  \\\n",
       "0  First Nation asks UN expert to probe systemic ...   \n",
       "1  Sex between coaches and teenagers in their car...   \n",
       "2  The Pfizer-BioNTech coronavirus vaccine 97% ef...   \n",
       "3  Drug clan leader testifies he bribed Honduran ...   \n",
       "4  Russia detains around 150 people, including le...   \n",
       "\n",
       "                                                top9  ...   DJI_Open  \\\n",
       "0  Brazil Supreme Court judge annuls ex-president...  ...  31,892.35   \n",
       "1  'Right to repair' law to come into effect this...  ...  31,906.96   \n",
       "2  Myanmar's searing smartphone images flood a wa...  ...  32,354.50   \n",
       "3  Canadian health officials watching probes of A...  ...  32,462.40   \n",
       "4  'Covid is taking over': Brazil plunges into de...  ...       None   \n",
       "\n",
       "    DJI_High    DJI_Low  DJI_Close DJI_Adj_Close SP500_Open SP500_High  \\\n",
       "0  32,150.32  31,822.64  31,832.74     31,832.74   3,851.93   3,903.76   \n",
       "1  32,389.50  31,906.96  32,297.02     32,297.02   3,891.99   3,917.35   \n",
       "2  32,661.59  32,345.70  32,485.59     32,485.59   3,915.54   3,960.27   \n",
       "3  32,793.32  32,462.40  32,778.64     32,778.64   3,924.52   3,944.99   \n",
       "4       None       None       None          None       None       None   \n",
       "\n",
       "  SP500_Low SP500_Close SP500_Adj_Close  \n",
       "0  3,851.93    3,875.44        3,875.44  \n",
       "1  3,885.73    3,898.81        3,898.81  \n",
       "2  3,915.54    3,939.34        3,939.34  \n",
       "3  3,915.21    3,943.34        3,943.34  \n",
       "4      None        None            None  \n",
       "\n",
       "[5 rows x 41 columns]"
      ]
     },
     "execution_count": 214,
     "metadata": {},
     "output_type": "execute_result"
    }
   ],
   "source": [
    "connection = sqlite3.connect('MSC.db')\n",
    "cursor = connection.cursor()\n",
    "\n",
    "sql = ('''Select \n",
    "            main.date,\n",
    "            top1,top2,top3,top4,top5,\n",
    "            top6,top7,top8,top9,top10,\n",
    "            top11,top12,top13,top14,top15,\n",
    "            top16,top17,top18,top19,top20,\n",
    "            top21,top22,top23,top24,top25,\n",
    "            top26,top27,top28,top29,top30,\n",
    "            \n",
    "            DJI_Open,\n",
    "            DJI_High,\n",
    "            DJI_Low,\n",
    "            DJI_Close,\n",
    "            DJI_Adj_Close,\n",
    "            \n",
    "            SP500_Open,\n",
    "            SP500_High,\n",
    "            SP500_Low,\n",
    "            SP500_Close,\n",
    "            SP500_Adj_Close\n",
    "\n",
    "            from main\n",
    "            left join DJI on\n",
    "            main.date = date(DJI.Date)\n",
    "            left join SP500 on\n",
    "            main.date = date(SP500.Date)\n",
    "\n",
    "       ''')\n",
    "df = pd.read_sql_query(sql,connection)\n",
    "df.head()"
   ]
  },
  {
   "cell_type": "code",
   "execution_count": 215,
   "metadata": {
    "ExecuteTime": {
     "end_time": "2021-05-10T20:22:36.003511Z",
     "start_time": "2021-05-10T20:22:35.993113Z"
    }
   },
   "outputs": [],
   "source": [
    "df = df[['date', 'top1', 'top2', 'top3', 'top4', 'top5', 'top6', 'top7', 'top8',\n",
    "       'top9', 'top10', 'top11', 'top12', 'top13', 'top14', 'top15', 'top16',\n",
    "       'top17', 'top18', 'top19', 'top20', 'top21', 'top22', 'top23', 'top24',\n",
    "       'top25', 'top26', 'top27', 'top28', 'top29', 'top30']]"
   ]
  },
  {
   "cell_type": "markdown",
   "metadata": {
    "ExecuteTime": {
     "end_time": "2021-05-10T20:10:35.168114Z",
     "start_time": "2021-05-10T20:10:35.156961Z"
    }
   },
   "source": [
    "df.isnull().sum()"
   ]
  },
  {
   "cell_type": "code",
   "execution_count": 97,
   "metadata": {
    "ExecuteTime": {
     "end_time": "2021-05-10T19:37:09.086841Z",
     "start_time": "2021-05-10T19:36:45.588503Z"
    }
   },
   "outputs": [],
   "source": [
    "from sklearn.model_selection import cross_val_score\n",
    "from sklearn.feature_selection import VarianceThreshold\n",
    "from sklearn.preprocessing import StandardScaler\n",
    "from nltk.sentiment.vader import SentimentIntensityAnalyzer\n",
    "from textblob import TextBlob"
   ]
  },
  {
   "cell_type": "code",
   "execution_count": 216,
   "metadata": {
    "ExecuteTime": {
     "end_time": "2021-05-10T20:22:45.428285Z",
     "start_time": "2021-05-10T20:22:45.410401Z"
    }
   },
   "outputs": [
    {
     "data": {
      "text/plain": [
       "{'neg': 0.0, 'neu': 0.0, 'pos': 0.0, 'compound': 0.0}"
      ]
     },
     "execution_count": 216,
     "metadata": {},
     "output_type": "execute_result"
    }
   ],
   "source": [
    "Anakin = SentimentIntensityAnalyzer()\n",
    "Anakin.polarity_scores(\" \")"
   ]
  },
  {
   "cell_type": "code",
   "execution_count": 217,
   "metadata": {
    "ExecuteTime": {
     "end_time": "2021-05-10T20:22:46.203292Z",
     "start_time": "2021-05-10T20:22:46.192894Z"
    }
   },
   "outputs": [
    {
     "data": {
      "text/plain": [
       "0.0"
      ]
     },
     "execution_count": 217,
     "metadata": {},
     "output_type": "execute_result"
    }
   ],
   "source": [
    "def detect_subjectivity(text):\n",
    "    '''\n",
    "    subjectivity is a float within the range [0.0, 1.0] where 0.0 is very objective and 1.0 is very subjective.\n",
    "    '''\n",
    "    return TextBlob(text).sentiment.subjectivity\n",
    "\n",
    "detect_subjectivity(\" \") #should return 0\n",
    "\n"
   ]
  },
  {
   "cell_type": "code",
   "execution_count": 218,
   "metadata": {
    "ExecuteTime": {
     "end_time": "2021-05-10T20:22:52.277121Z",
     "start_time": "2021-05-10T20:22:50.066440Z"
    }
   },
   "outputs": [
    {
     "name": "stdout",
     "output_type": "stream",
     "text": [
      "top1 Done\n",
      "top2 Done\n",
      "top3 Done\n",
      "top4 Done\n",
      "top5 Done\n",
      "top6 Done\n",
      "top7 Done\n",
      "top8 Done\n",
      "top9 Done\n",
      "top10 Done\n",
      "top11 Done\n",
      "top12 Done\n",
      "top13 Done\n",
      "top14 Done\n",
      "top15 Done\n",
      "top16 Done\n",
      "top17 Done\n",
      "top18 Done\n",
      "top19 Done\n",
      "top20 Done\n",
      "top21 Done\n",
      "top22 Done\n",
      "top23 Done\n",
      "top24 Done\n",
      "top25 Done\n",
      "top26 Done\n",
      "top27 Done\n",
      "top28 Done\n",
      "top29 Done\n",
      "top30 Done\n",
      "VADER: Vaderization completed after 0.04 Minutes\n"
     ]
    }
   ],
   "source": [
    "start_vect=time.time()\n",
    "#get the name of the headline columns\n",
    "cols = []\n",
    "for i in range(1,31):\n",
    "    col = (\"top{}\".format(i))\n",
    "    cols.append(col)\n",
    "    \n",
    "for col in cols:\n",
    "    df[col] = df[col].astype(str) # Make sure data is treated as a string\n",
    "    df[col+'_comp']= df[col].apply(lambda x:Anakin.polarity_scores(x)['compound'])\n",
    "    df[col+'_sub'] = df[col].apply(detect_subjectivity)\n",
    "    print(\"{} Done\".format(col))\n",
    "    \n",
    "print(\"VADER: Vaderization completed after %0.2f Minutes\"%((time.time() - start_vect)/60))\n"
   ]
  },
  {
   "cell_type": "code",
   "execution_count": 219,
   "metadata": {
    "ExecuteTime": {
     "end_time": "2021-05-10T20:22:55.116988Z",
     "start_time": "2021-05-10T20:22:55.056769Z"
    }
   },
   "outputs": [
    {
     "data": {
      "text/html": [
       "<div>\n",
       "<style scoped>\n",
       "    .dataframe tbody tr th:only-of-type {\n",
       "        vertical-align: middle;\n",
       "    }\n",
       "\n",
       "    .dataframe tbody tr th {\n",
       "        vertical-align: top;\n",
       "    }\n",
       "\n",
       "    .dataframe thead th {\n",
       "        text-align: right;\n",
       "    }\n",
       "</style>\n",
       "<table border=\"1\" class=\"dataframe\">\n",
       "  <thead>\n",
       "    <tr style=\"text-align: right;\">\n",
       "      <th></th>\n",
       "      <th>date</th>\n",
       "      <th>top1_comp</th>\n",
       "      <th>top1_sub</th>\n",
       "      <th>top2_comp</th>\n",
       "      <th>top2_sub</th>\n",
       "      <th>top3_comp</th>\n",
       "      <th>top3_sub</th>\n",
       "      <th>top4_comp</th>\n",
       "      <th>top4_sub</th>\n",
       "      <th>top5_comp</th>\n",
       "      <th>...</th>\n",
       "      <th>top26_comp</th>\n",
       "      <th>top26_sub</th>\n",
       "      <th>top27_comp</th>\n",
       "      <th>top27_sub</th>\n",
       "      <th>top28_comp</th>\n",
       "      <th>top28_sub</th>\n",
       "      <th>top29_comp</th>\n",
       "      <th>top29_sub</th>\n",
       "      <th>top30_comp</th>\n",
       "      <th>top30_sub</th>\n",
       "    </tr>\n",
       "  </thead>\n",
       "  <tbody>\n",
       "    <tr>\n",
       "      <th>0</th>\n",
       "      <td>2021-03-09</td>\n",
       "      <td>0.1280</td>\n",
       "      <td>0.200000</td>\n",
       "      <td>-0.2500</td>\n",
       "      <td>0.0</td>\n",
       "      <td>0.0000</td>\n",
       "      <td>0.500000</td>\n",
       "      <td>-0.5719</td>\n",
       "      <td>0.750000</td>\n",
       "      <td>-0.6369</td>\n",
       "      <td>...</td>\n",
       "      <td>-0.5267</td>\n",
       "      <td>0.238095</td>\n",
       "      <td>0.0000</td>\n",
       "      <td>0.400000</td>\n",
       "      <td>0.3818</td>\n",
       "      <td>0.000</td>\n",
       "      <td>0.3400</td>\n",
       "      <td>0.256250</td>\n",
       "      <td>-0.3612</td>\n",
       "      <td>0.250000</td>\n",
       "    </tr>\n",
       "    <tr>\n",
       "      <th>1</th>\n",
       "      <td>2021-03-10</td>\n",
       "      <td>0.0000</td>\n",
       "      <td>0.333333</td>\n",
       "      <td>-0.6249</td>\n",
       "      <td>0.4</td>\n",
       "      <td>0.1779</td>\n",
       "      <td>0.211111</td>\n",
       "      <td>-0.7430</td>\n",
       "      <td>0.100000</td>\n",
       "      <td>-0.7636</td>\n",
       "      <td>...</td>\n",
       "      <td>-0.7003</td>\n",
       "      <td>0.466667</td>\n",
       "      <td>-0.3818</td>\n",
       "      <td>0.475000</td>\n",
       "      <td>-0.4215</td>\n",
       "      <td>0.300</td>\n",
       "      <td>0.0000</td>\n",
       "      <td>1.000000</td>\n",
       "      <td>-0.3400</td>\n",
       "      <td>0.000000</td>\n",
       "    </tr>\n",
       "    <tr>\n",
       "      <th>2</th>\n",
       "      <td>2021-03-11</td>\n",
       "      <td>-0.5423</td>\n",
       "      <td>0.000000</td>\n",
       "      <td>0.2960</td>\n",
       "      <td>0.5</td>\n",
       "      <td>0.0000</td>\n",
       "      <td>0.000000</td>\n",
       "      <td>-0.4767</td>\n",
       "      <td>0.600000</td>\n",
       "      <td>-0.9557</td>\n",
       "      <td>...</td>\n",
       "      <td>0.0000</td>\n",
       "      <td>0.000000</td>\n",
       "      <td>-0.4588</td>\n",
       "      <td>0.333333</td>\n",
       "      <td>-0.5267</td>\n",
       "      <td>0.325</td>\n",
       "      <td>-0.8860</td>\n",
       "      <td>0.000000</td>\n",
       "      <td>-0.5574</td>\n",
       "      <td>0.214286</td>\n",
       "    </tr>\n",
       "    <tr>\n",
       "      <th>3</th>\n",
       "      <td>2021-03-12</td>\n",
       "      <td>0.0000</td>\n",
       "      <td>0.000000</td>\n",
       "      <td>0.2732</td>\n",
       "      <td>0.5</td>\n",
       "      <td>0.2732</td>\n",
       "      <td>0.000000</td>\n",
       "      <td>0.6597</td>\n",
       "      <td>0.775000</td>\n",
       "      <td>-0.2732</td>\n",
       "      <td>...</td>\n",
       "      <td>0.0000</td>\n",
       "      <td>0.454545</td>\n",
       "      <td>-0.3182</td>\n",
       "      <td>0.000000</td>\n",
       "      <td>-0.2960</td>\n",
       "      <td>0.000</td>\n",
       "      <td>0.1779</td>\n",
       "      <td>0.411111</td>\n",
       "      <td>-0.8360</td>\n",
       "      <td>0.000000</td>\n",
       "    </tr>\n",
       "    <tr>\n",
       "      <th>4</th>\n",
       "      <td>2021-03-13</td>\n",
       "      <td>-0.1280</td>\n",
       "      <td>0.000000</td>\n",
       "      <td>-0.5574</td>\n",
       "      <td>0.5</td>\n",
       "      <td>0.4404</td>\n",
       "      <td>0.144444</td>\n",
       "      <td>0.0000</td>\n",
       "      <td>0.454545</td>\n",
       "      <td>0.2732</td>\n",
       "      <td>...</td>\n",
       "      <td>-0.7003</td>\n",
       "      <td>0.000000</td>\n",
       "      <td>0.0000</td>\n",
       "      <td>0.333333</td>\n",
       "      <td>-0.7506</td>\n",
       "      <td>0.400</td>\n",
       "      <td>0.5859</td>\n",
       "      <td>0.225000</td>\n",
       "      <td>0.0000</td>\n",
       "      <td>0.000000</td>\n",
       "    </tr>\n",
       "  </tbody>\n",
       "</table>\n",
       "<p>5 rows × 61 columns</p>\n",
       "</div>"
      ],
      "text/plain": [
       "         date  top1_comp  top1_sub  top2_comp  top2_sub  top3_comp  top3_sub  \\\n",
       "0  2021-03-09     0.1280  0.200000    -0.2500       0.0     0.0000  0.500000   \n",
       "1  2021-03-10     0.0000  0.333333    -0.6249       0.4     0.1779  0.211111   \n",
       "2  2021-03-11    -0.5423  0.000000     0.2960       0.5     0.0000  0.000000   \n",
       "3  2021-03-12     0.0000  0.000000     0.2732       0.5     0.2732  0.000000   \n",
       "4  2021-03-13    -0.1280  0.000000    -0.5574       0.5     0.4404  0.144444   \n",
       "\n",
       "   top4_comp  top4_sub  top5_comp  ...  top26_comp  top26_sub  top27_comp  \\\n",
       "0    -0.5719  0.750000    -0.6369  ...     -0.5267   0.238095      0.0000   \n",
       "1    -0.7430  0.100000    -0.7636  ...     -0.7003   0.466667     -0.3818   \n",
       "2    -0.4767  0.600000    -0.9557  ...      0.0000   0.000000     -0.4588   \n",
       "3     0.6597  0.775000    -0.2732  ...      0.0000   0.454545     -0.3182   \n",
       "4     0.0000  0.454545     0.2732  ...     -0.7003   0.000000      0.0000   \n",
       "\n",
       "   top27_sub  top28_comp  top28_sub  top29_comp  top29_sub  top30_comp  \\\n",
       "0   0.400000      0.3818      0.000      0.3400   0.256250     -0.3612   \n",
       "1   0.475000     -0.4215      0.300      0.0000   1.000000     -0.3400   \n",
       "2   0.333333     -0.5267      0.325     -0.8860   0.000000     -0.5574   \n",
       "3   0.000000     -0.2960      0.000      0.1779   0.411111     -0.8360   \n",
       "4   0.333333     -0.7506      0.400      0.5859   0.225000      0.0000   \n",
       "\n",
       "   top30_sub  \n",
       "0   0.250000  \n",
       "1   0.000000  \n",
       "2   0.214286  \n",
       "3   0.000000  \n",
       "4   0.000000  \n",
       "\n",
       "[5 rows x 61 columns]"
      ]
     },
     "execution_count": 219,
     "metadata": {},
     "output_type": "execute_result"
    }
   ],
   "source": [
    "#the text isn't required anymore\n",
    "df = df.drop(cols,axis=1)\n",
    "df.head()"
   ]
  },
  {
   "cell_type": "code",
   "execution_count": 173,
   "metadata": {
    "ExecuteTime": {
     "end_time": "2021-05-10T20:04:40.502842Z",
     "start_time": "2021-05-10T20:04:40.498809Z"
    }
   },
   "outputs": [],
   "source": [
    "import numpy as np"
   ]
  },
  {
   "cell_type": "code",
   "execution_count": 224,
   "metadata": {
    "ExecuteTime": {
     "end_time": "2021-05-10T20:25:43.970917Z",
     "start_time": "2021-05-10T20:25:43.964038Z"
    }
   },
   "outputs": [
    {
     "data": {
      "text/plain": [
       "63"
      ]
     },
     "execution_count": 224,
     "metadata": {},
     "output_type": "execute_result"
    }
   ],
   "source": [
    "len(df)"
   ]
  },
  {
   "cell_type": "code",
   "execution_count": 229,
   "metadata": {
    "ExecuteTime": {
     "end_time": "2021-05-10T20:28:05.732361Z",
     "start_time": "2021-05-10T20:28:05.634986Z"
    }
   },
   "outputs": [],
   "source": [
    "comp_cols = [col + \"_comp\" for col in cols]\n",
    "\n",
    "w = np.arange(1,31,1).tolist()\n",
    "w.reverse()\n",
    "\n",
    "weighted_comp = []\n",
    "max_comp = []\n",
    "min_comp = []\n",
    "for i in range(0,len(df)):\n",
    "    a = df.loc[i,comp_cols].tolist()\n",
    "    weighted_comp.append(np.average(a, weights=w))\n",
    "    max_comp.append(max(a))\n",
    "    min_comp.append(min(a))"
   ]
  },
  {
   "cell_type": "code",
   "execution_count": 230,
   "metadata": {
    "ExecuteTime": {
     "end_time": "2021-05-10T20:28:14.488400Z",
     "start_time": "2021-05-10T20:28:14.354035Z"
    }
   },
   "outputs": [],
   "source": [
    "df['compound_mean'] = weighted_comp\n",
    "df['compound_max'] = max_comp\n",
    "df['compound_min'] = min_comp\n",
    "\n",
    "sub_cols = [col + \"_sub\" for col in cols]\n",
    "\n",
    "weighted_sub = []\n",
    "max_sub = []\n",
    "min_sub = []\n",
    "for i in range(0,len(df)):\n",
    "    a = df.loc[i,sub_cols].tolist()\n",
    "    weighted_sub.append(np.average(a, weights=w))\n",
    "    max_sub.append(max(a))\n",
    "    min_sub.append(min(a))\n",
    "\n",
    "df['subjectivity_mean'] = weighted_sub\n",
    "df['subjectivity_max'] = max_sub\n",
    "df['subjectivity_min'] = min_sub\n",
    "\n",
    "to_drop = sub_cols+comp_cols\n",
    "df = df.drop(to_drop, axis=1)"
   ]
  },
  {
   "cell_type": "code",
   "execution_count": null,
   "metadata": {
    "ExecuteTime": {
     "start_time": "2021-05-10T20:33:55.596Z"
    }
   },
   "outputs": [],
   "source": [
    "import plotly.graph_objects as go\n",
    "\n",
    "fig3 = go.Figure()\n",
    "fig3.add_trace(go.Scatter(x=df.Date, y=df.subjectivity_mean,\n",
    "                    mode='lines',\n",
    "                    name='Mean'))\n",
    "fig3.add_trace(go.Scatter(x=df.Date, y=df.subjectivity_min,\n",
    "                    mode='lines',\n",
    "                    name='Min'))\n",
    "fig3.add_trace(go.Scatter(x=df.Date, y=df.subjectivity_max,\n",
    "                    mode='lines',\n",
    "                    name='Max'))\n",
    "title = []\n",
    "title.append(dict(xref='paper', yref='paper', x=0.0, y=1.05,\n",
    "                              xanchor='left', yanchor='bottom',\n",
    "                              text='Development of subjectivity score',\n",
    "                              font=dict(family='Arial',\n",
    "                                        size=30,\n",
    "                                        color='rgb(37,37,37)'),\n",
    "                              showarrow=False))\n",
    "fig3.update_layout(xaxis_title='Date',\n",
    "                   yaxis_title='Subjectivity score',\n",
    "                  annotations=title)\n",
    "fig3.show()"
   ]
  },
  {
   "cell_type": "code",
   "execution_count": 234,
   "metadata": {
    "ExecuteTime": {
     "end_time": "2021-05-10T20:33:37.438083Z",
     "start_time": "2021-05-10T20:32:16.938479Z"
    }
   },
   "outputs": [
    {
     "name": "stdout",
     "output_type": "stream",
     "text": [
      "Collecting plotly\n",
      "  Downloading plotly-4.14.3-py2.py3-none-any.whl (13.2 MB)\n",
      "\u001b[K     |████████████████████████████████| 13.2 MB 9.4 MB/s eta 0:00:01\n",
      "\u001b[?25hCollecting retrying>=1.3.3\n",
      "  Downloading retrying-1.3.3.tar.gz (10 kB)\n",
      "Requirement already satisfied: six in /Users/Edite/opt/anaconda3/lib/python3.7/site-packages (from plotly) (1.12.0)\n",
      "Building wheels for collected packages: retrying\n",
      "  Building wheel for retrying (setup.py) ... \u001b[?25ldone\n",
      "\u001b[?25h  Created wheel for retrying: filename=retrying-1.3.3-py3-none-any.whl size=11429 sha256=bfcc9185c7e7d4b098634ce0259b160541ee53287cd40a35475bbb8ebf13f5d3\n",
      "  Stored in directory: /Users/Edite/Library/Caches/pip/wheels/f9/8d/8d/f6af3f7f9eea3553bc2fe6d53e4b287dad18b06a861ac56ddf\n",
      "Successfully built retrying\n",
      "Installing collected packages: retrying, plotly\n",
      "Successfully installed plotly-4.14.3 retrying-1.3.3\n",
      "\u001b[33mWARNING: You are using pip version 21.0.1; however, version 21.1.1 is available.\n",
      "You should consider upgrading via the '/Users/Edite/opt/anaconda3/bin/python -m pip install --upgrade pip' command.\u001b[0m\n",
      "Note: you may need to restart the kernel to use updated packages.\n"
     ]
    }
   ],
   "source": [
    "pip install plotly"
   ]
  },
  {
   "cell_type": "code",
   "execution_count": null,
   "metadata": {},
   "outputs": [],
   "source": []
  }
 ],
 "metadata": {
  "kernelspec": {
   "display_name": "Python 3",
   "language": "python",
   "name": "python3"
  },
  "language_info": {
   "codemirror_mode": {
    "name": "ipython",
    "version": 3
   },
   "file_extension": ".py",
   "mimetype": "text/x-python",
   "name": "python",
   "nbconvert_exporter": "python",
   "pygments_lexer": "ipython3",
   "version": "3.7.4"
  },
  "toc": {
   "base_numbering": 1,
   "nav_menu": {},
   "number_sections": true,
   "sideBar": true,
   "skip_h1_title": false,
   "title_cell": "Table of Contents",
   "title_sidebar": "Contents",
   "toc_cell": false,
   "toc_position": {},
   "toc_section_display": true,
   "toc_window_display": true
  }
 },
 "nbformat": 4,
 "nbformat_minor": 2
}
