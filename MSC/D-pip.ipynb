{
 "cells": [
  {
   "cell_type": "code",
   "execution_count": 1,
   "metadata": {
    "ExecuteTime": {
     "end_time": "2021-05-12T18:53:07.169626Z",
     "start_time": "2021-05-12T18:52:57.943509Z"
    }
   },
   "outputs": [],
   "source": [
    "import pandas as pd\n",
    "import sqlite3"
   ]
  },
  {
   "cell_type": "markdown",
   "metadata": {
    "heading_collapsed": true
   },
   "source": [
    "# Reddit news"
   ]
  },
  {
   "cell_type": "code",
   "execution_count": null,
   "metadata": {
    "ExecuteTime": {
     "end_time": "2021-05-10T08:01:45.217910Z",
     "start_time": "2021-05-10T08:01:45.209306Z"
    },
    "hidden": true
   },
   "outputs": [],
   "source": [
    "import string\n",
    "string.punctuation"
   ]
  },
  {
   "cell_type": "code",
   "execution_count": null,
   "metadata": {
    "ExecuteTime": {
     "end_time": "2021-05-09T08:43:02.260096Z",
     "start_time": "2021-05-09T08:43:02.252874Z"
    },
    "hidden": true
   },
   "outputs": [],
   "source": [
    "kolonas = ['date']+['top'+str(i) for i in range(1,31)]\n",
    "print(kolonas)"
   ]
  },
  {
   "cell_type": "code",
   "execution_count": null,
   "metadata": {
    "ExecuteTime": {
     "end_time": "2021-05-07T11:00:18.813978Z",
     "start_time": "2021-05-07T11:00:18.805593Z"
    },
    "hidden": true
   },
   "outputs": [],
   "source": [
    "df = pd.DataFrame(columns = kolonas)"
   ]
  },
  {
   "cell_type": "code",
   "execution_count": null,
   "metadata": {
    "ExecuteTime": {
     "end_time": "2021-05-09T08:58:23.071091Z",
     "start_time": "2021-05-09T08:58:23.064557Z"
    },
    "hidden": true
   },
   "outputs": [],
   "source": [
    "connection = sqlite3.connect('MSC.db')\n",
    "cursor = connection.cursor()"
   ]
  },
  {
   "cell_type": "code",
   "execution_count": null,
   "metadata": {
    "ExecuteTime": {
     "end_time": "2021-05-07T08:02:17.784572Z",
     "start_time": "2021-05-07T08:02:15.742548Z"
    },
    "hidden": true
   },
   "outputs": [],
   "source": [
    "sql = (\"Select date(moment) as date, title from top30 where date = '2021-05-05'\")\n",
    "z = pd.read_sql_query(sql,connection)"
   ]
  },
  {
   "cell_type": "code",
   "execution_count": null,
   "metadata": {
    "ExecuteTime": {
     "end_time": "2021-05-07T08:02:29.929123Z",
     "start_time": "2021-05-07T08:02:29.336372Z"
    },
    "hidden": true
   },
   "outputs": [],
   "source": [
    "for d in z.date.unique():\n",
    "    atbilde =[]\n",
    "    atbilde.append(d)\n",
    "    #print(atbilde)\n",
    "    for title in z.title[z.date == d]:\n",
    "        atbilde.append(title)\n",
    "        \n",
    "    df.loc[len(df)] = atbilde"
   ]
  },
  {
   "cell_type": "code",
   "execution_count": null,
   "metadata": {
    "ExecuteTime": {
     "end_time": "2021-05-07T08:07:10.091859Z",
     "start_time": "2021-05-07T08:07:09.700192Z"
    },
    "hidden": true
   },
   "outputs": [],
   "source": [
    "df.to_sql('main', connection, if_exists='append',index=False)"
   ]
  },
  {
   "cell_type": "code",
   "execution_count": null,
   "metadata": {
    "ExecuteTime": {
     "end_time": "2021-05-07T11:00:24.792128Z",
     "start_time": "2021-05-07T11:00:24.773207Z"
    },
    "hidden": true
   },
   "outputs": [],
   "source": [
    "atbilde = []\n",
    "atbilde.append(z.date[0])\n",
    "#print(atbilde)\n",
    "\n",
    "for title in z.title:\n",
    "    atbilde.append(title)\n",
    "        \n",
    "print(atbilde)\n",
    "df.loc[len(df)] = atbilde"
   ]
  },
  {
   "cell_type": "markdown",
   "metadata": {
    "ExecuteTime": {
     "end_time": "2021-05-04T14:08:12.465116Z",
     "start_time": "2021-05-04T14:08:12.349472Z"
    }
   },
   "source": [
    "# delete"
   ]
  },
  {
   "cell_type": "markdown",
   "metadata": {},
   "source": [
    "connection = sqlite3.connect('MSC.db')\n",
    "cursor = connection.cursor()\n",
    "sql = (\"DELETE from top30 where moment  between '2021-03-30 11:17:11.915369' and '2021-03-30 11:18:48.647641'\")\n",
    "cursor.execute(sql)\n",
    "connection.commit()"
   ]
  },
  {
   "cell_type": "markdown",
   "metadata": {
    "ExecuteTime": {
     "end_time": "2021-05-04T14:27:17.429930Z",
     "start_time": "2021-05-04T14:27:17.426349Z"
    },
    "heading_collapsed": true
   },
   "source": [
    "# Yahoo finance"
   ]
  },
  {
   "cell_type": "code",
   "execution_count": null,
   "metadata": {
    "ExecuteTime": {
     "end_time": "2021-05-10T07:56:56.826784Z",
     "start_time": "2021-05-10T07:56:55.281696Z"
    },
    "hidden": true
   },
   "outputs": [],
   "source": [
    "from bs4 import BeautifulSoup\n",
    "import requests\n",
    "import re"
   ]
  },
  {
   "cell_type": "code",
   "execution_count": null,
   "metadata": {
    "ExecuteTime": {
     "end_time": "2021-05-07T14:13:08.973697Z",
     "start_time": "2021-05-07T14:13:08.947541Z"
    },
    "hidden": true
   },
   "outputs": [],
   "source": [
    "df = pd.DataFrame(columns = ['date','SP500_Open', 'SP500_High', 'SP500_Low', 'SP500_Close', 'SP500_Adj_Close', 'SP500_Volume'])\n",
    "df"
   ]
  },
  {
   "cell_type": "code",
   "execution_count": null,
   "metadata": {
    "ExecuteTime": {
     "end_time": "2021-05-07T14:13:10.535669Z",
     "start_time": "2021-05-07T14:13:10.526983Z"
    },
    "hidden": true
   },
   "outputs": [],
   "source": [
    "str([str('SP500_')+i for i in df.columns])"
   ]
  },
  {
   "cell_type": "markdown",
   "metadata": {
    "hidden": true
   },
   "source": [
    "## S&P 500 (^GSPC)\n",
    "SNP - SNP Real Time Price. Currency in USD"
   ]
  },
  {
   "cell_type": "code",
   "execution_count": null,
   "metadata": {
    "ExecuteTime": {
     "end_time": "2021-05-10T07:57:06.014024Z",
     "start_time": "2021-05-10T07:57:05.990210Z"
    },
    "hidden": true
   },
   "outputs": [],
   "source": [
    "url = \"https://finance.yahoo.com/quote/%5EGSPC/history?p=%5EGSPC\""
   ]
  },
  {
   "cell_type": "code",
   "execution_count": null,
   "metadata": {
    "ExecuteTime": {
     "end_time": "2021-05-10T07:57:09.709482Z",
     "start_time": "2021-05-10T07:57:08.810741Z"
    },
    "hidden": true
   },
   "outputs": [],
   "source": [
    "r = requests.get(url)\n",
    "data = r.text\n",
    "soup = BeautifulSoup(data)"
   ]
  },
  {
   "cell_type": "code",
   "execution_count": null,
   "metadata": {
    "ExecuteTime": {
     "end_time": "2021-05-10T07:57:14.653762Z",
     "start_time": "2021-05-10T07:57:14.638684Z"
    },
    "hidden": true
   },
   "outputs": [],
   "source": [
    "answer = []\n",
    "for i in soup.find_all('td')[0:7]:\n",
    "    #print(i.span)\n",
    "    print(i.span.text)\n",
    "    answer.append(i.span.text)\n",
    "    #print(len(answer)    "
   ]
  },
  {
   "cell_type": "markdown",
   "metadata": {
    "ExecuteTime": {
     "end_time": "2021-05-07T14:13:17.725039Z",
     "start_time": "2021-05-07T14:13:17.182645Z"
    },
    "hidden": true
   },
   "source": [
    "for i in range(0, int(len(answer))//7):\n",
    "    atbilde = []\n",
    "    #print(i)\n",
    "    for j in range (0,7):\n",
    "        if j == 0:\n",
    "            atbilde.append(pd.to_datetime(answer[i*7+j], infer_datetime_format=True))\n",
    "        else:\n",
    "            atbilde.append(answer[i*7+j])\n",
    "    df.loc[len(df)] = atbilde"
   ]
  },
  {
   "cell_type": "code",
   "execution_count": null,
   "metadata": {
    "hidden": true
   },
   "outputs": [],
   "source": [
    "connection = sqlite3.connect('MSC/MSC.db')\n",
    "cursor = connection.cursor()\n",
    "sql = (\"Select date(moment) as date, title from top30 where moment>date('now')\")\n",
    "z = pd.read_sql_query(sql,connection)\n",
    "\n",
    "atbilde = []\n",
    "columnnames = \"'date', 'top1', 'top2', 'top3', 'top4', 'top5', 'top6', 'top7', 'top8', 'top9', 'top10', 'top11', 'top12', 'top13', 'top14', 'top15', 'top16', 'top17', 'top18', 'top19', 'top20', 'top21', 'top22', 'top23', 'top24', 'top25', 'top26', 'top27', 'top28', 'top29', top30\"\n",
    "insertintotable = '?,?,?,?,?,?,?,?,?,?,?,?,?,?,?,?,?,?,?,?,?,?,?,?,?,?,?,?,?,?,?'\n",
    "atbilde = [z.date[0]] +[i for i in  z.title]\n",
    "\n",
    "connection = sqlite3.connect('MSC/MSC.db')\n",
    "cursor = connection.cursor()\n",
    "sql2 = f'cursor.execute(\"insert INTO  main ({columnnames}) VALUES ({insertintotable})\", {atbilde})'\n",
    "eval(sql2)\n",
    "connection.commit()\n",
    "connection.close()\n",
    "print(\"Appended to MAIN\")"
   ]
  },
  {
   "cell_type": "code",
   "execution_count": null,
   "metadata": {
    "ExecuteTime": {
     "end_time": "2021-05-10T08:39:50.188221Z",
     "start_time": "2021-05-10T08:39:50.170622Z"
    },
    "hidden": true
   },
   "outputs": [],
   "source": [
    "connection = sqlite3.connect('MSC.db')\n",
    "cursor = connection.cursor()\n",
    "sql = (\"Select * from DJI\")\n",
    "z = pd.read_sql_query(sql,connection).columns\n",
    "z"
   ]
  },
  {
   "cell_type": "code",
   "execution_count": null,
   "metadata": {
    "ExecuteTime": {
     "end_time": "2021-05-10T08:36:15.466945Z",
     "start_time": "2021-05-10T08:36:14.639935Z"
    },
    "hidden": true
   },
   "outputs": [],
   "source": [
    "connection = sqlite3.connect('MSC.db')\n",
    "cursor = connection.cursor()\n",
    "sql = (\"Select max(date) as date from SP500\")\n",
    "z = pd.read_sql_query(sql,connection)\n",
    "latest_date = z.date[0]\n",
    "\n",
    "##SP500\n",
    "url = \"https://finance.yahoo.com/quote/%5EGSPC/history?p=%5EGSPC\"\n",
    "r = requests.get(url)\n",
    "data = r.text\n",
    "soup = BeautifulSoup(data)\n",
    "\n",
    "answer = []\n",
    "if str(pd.to_datetime(soup.find_all('td')[0].text, infer_datetime_format=True)) == latest_date:\n",
    "    print('Stop. This data point is already in the data base')\n",
    "else:\n",
    "    print('Lets get scraping')\n",
    "    answer.append(str(pd.to_datetime(soup.find_all('td')[0].text, infer_datetime_format=True)))\n",
    "    answer = answer + [i.span.text for i in soup.find_all('td')[1:7]]\n",
    "    \n",
    "    columnnames = \"'Date', 'SP500_Open', 'SP500_High', 'SP500_Low', 'SP500_Close','SP500_Adj_Close', 'SP500_Volume'\"\n",
    "    insertintotable = '?,?,?,?,?,?,?'\n",
    "    \n",
    "    connection = sqlite3.connect('MSC/MSC.db')\n",
    "    cursor = connection.cursor()\n",
    "    sql2 = f'cursor.execute(\"insert INTO  SP500 ({columnnames}) VALUES ({insertintotable})\", {answer})'\n",
    "    eval(sql2)\n",
    "    connection.commit()\n",
    "    connection.close()\n",
    "    print(f\"{answer[0]} appended to SP500\")\n",
    "    \n",
    "    \n",
    "    ## DJI\n",
    "    url = \"https://finance.yahoo.com/quote/%5EDJI/history?p=%5EDJI\"\n",
    "    r = requests.get(url)\n",
    "    data = r.text\n",
    "    soup = BeautifulSoup(data)\n",
    "    \n",
    "    answer = []\n",
    "    answer.append(str(pd.to_datetime(soup.find_all('td')[0].text, infer_datetime_format=True)))\n",
    "    answer = answer + [i.span.text for i in soup.find_all('td')[1:7]]\n",
    "    \n",
    "    columnnames = \"'date', 'SP500_Open', 'SP500_High', 'SP500_Low', 'SP500_Close','SP500_Adj_Close', 'SP500_Volume'\"\n",
    "    insertintotable = '?,?,?,?,?,?,?'\n",
    "    \n",
    "    connection = sqlite3.connect('MSC/MSC.db')\n",
    "    cursor = connection.cursor()\n",
    "    sql2 = f'cursor.execute(\"insert INTO  SP500 ({columnnames}) VALUES ({insertintotable})\", {answer})'\n",
    "    eval(sql2)\n",
    "    connection.commit()\n",
    "    connection.close()\n",
    "    print(f\"{answer[0]} appended to DJI\")\n",
    "    \n",
    "    \n",
    "answer"
   ]
  },
  {
   "cell_type": "code",
   "execution_count": null,
   "metadata": {
    "ExecuteTime": {
     "end_time": "2021-05-07T14:13:22.084338Z",
     "start_time": "2021-05-07T14:13:22.071026Z"
    },
    "hidden": true
   },
   "outputs": [],
   "source": [
    "df.to_sql('SP500', connection, if_exists='append',index=False)"
   ]
  },
  {
   "cell_type": "markdown",
   "metadata": {
    "hidden": true
   },
   "source": [
    "## Dow Jones Industrial Average (^DJI)\n",
    "DJI - DJI Real Time Price. Currency in USD"
   ]
  },
  {
   "cell_type": "code",
   "execution_count": null,
   "metadata": {
    "ExecuteTime": {
     "end_time": "2021-05-07T14:11:30.683698Z",
     "start_time": "2021-05-07T14:11:30.680697Z"
    },
    "hidden": true
   },
   "outputs": [],
   "source": [
    "url = \"https://finance.yahoo.com/quote/%5EDJI/history?p=%5EDJI\""
   ]
  },
  {
   "cell_type": "code",
   "execution_count": null,
   "metadata": {
    "ExecuteTime": {
     "end_time": "2021-05-07T14:11:30.743504Z",
     "start_time": "2021-05-07T14:11:30.687962Z"
    },
    "hidden": true
   },
   "outputs": [],
   "source": [
    "df = pd.DataFrame(columns = ['date', 'DJI_Open', 'DJI_High', 'DJI_Low', 'DJI_Close', 'DJI_Adj_Close', 'DJI_Volume'])\n",
    "df"
   ]
  },
  {
   "cell_type": "code",
   "execution_count": null,
   "metadata": {
    "ExecuteTime": {
     "end_time": "2021-05-07T14:07:09.567434Z",
     "start_time": "2021-05-07T14:07:09.561932Z"
    },
    "hidden": true
   },
   "outputs": [],
   "source": [
    "columns_new = [str('DJI_')+i for i in df.columns]"
   ]
  },
  {
   "cell_type": "code",
   "execution_count": null,
   "metadata": {
    "ExecuteTime": {
     "end_time": "2021-05-07T14:11:38.068833Z",
     "start_time": "2021-05-07T14:11:37.171734Z"
    },
    "hidden": true
   },
   "outputs": [],
   "source": [
    "r = requests.get(url)\n",
    "data = r.text\n",
    "soup = BeautifulSoup(data)"
   ]
  },
  {
   "cell_type": "code",
   "execution_count": null,
   "metadata": {
    "ExecuteTime": {
     "end_time": "2021-05-07T14:11:38.407441Z",
     "start_time": "2021-05-07T14:11:38.383103Z"
    },
    "hidden": true
   },
   "outputs": [],
   "source": [
    "answer = []\n",
    "for i in soup.find_all('td'):\n",
    "    #print(i.span)\n",
    "    #print(i.span.text)\n",
    "    answer.append(i.span.text)\n",
    "    #print(len(answer)  "
   ]
  },
  {
   "cell_type": "code",
   "execution_count": null,
   "metadata": {
    "ExecuteTime": {
     "end_time": "2021-05-07T14:11:42.764407Z",
     "start_time": "2021-05-07T14:11:42.211538Z"
    },
    "hidden": true
   },
   "outputs": [],
   "source": [
    "for i in range(0, int(len(answer))//7):\n",
    "    atbilde = []\n",
    "    #print(i)\n",
    "    for j in range (0,7):\n",
    "        if j == 0:\n",
    "            atbilde.append(pd.to_datetime(answer[i*7+j], infer_datetime_format=True))\n",
    "        else:\n",
    "            atbilde.append(answer[i*7+j])\n",
    "    df.loc[len(df)] = atbilde"
   ]
  },
  {
   "cell_type": "code",
   "execution_count": null,
   "metadata": {
    "ExecuteTime": {
     "end_time": "2021-05-07T14:11:43.812893Z",
     "start_time": "2021-05-07T14:11:43.789250Z"
    },
    "hidden": true
   },
   "outputs": [],
   "source": [
    "df"
   ]
  },
  {
   "cell_type": "code",
   "execution_count": null,
   "metadata": {
    "ExecuteTime": {
     "end_time": "2021-05-07T14:11:47.376694Z",
     "start_time": "2021-05-07T14:11:47.363620Z"
    },
    "hidden": true
   },
   "outputs": [],
   "source": [
    "df.to_sql('DJI', connection, if_exists='append',index=False)"
   ]
  },
  {
   "cell_type": "markdown",
   "metadata": {},
   "source": [
    "# Merge"
   ]
  },
  {
   "cell_type": "code",
   "execution_count": 2,
   "metadata": {
    "ExecuteTime": {
     "end_time": "2021-05-12T18:53:07.898144Z",
     "start_time": "2021-05-12T18:53:07.172589Z"
    }
   },
   "outputs": [
    {
     "data": {
      "text/html": [
       "<div>\n",
       "<style scoped>\n",
       "    .dataframe tbody tr th:only-of-type {\n",
       "        vertical-align: middle;\n",
       "    }\n",
       "\n",
       "    .dataframe tbody tr th {\n",
       "        vertical-align: top;\n",
       "    }\n",
       "\n",
       "    .dataframe thead th {\n",
       "        text-align: right;\n",
       "    }\n",
       "</style>\n",
       "<table border=\"1\" class=\"dataframe\">\n",
       "  <thead>\n",
       "    <tr style=\"text-align: right;\">\n",
       "      <th></th>\n",
       "      <th>date</th>\n",
       "      <th>top1</th>\n",
       "      <th>top2</th>\n",
       "      <th>top3</th>\n",
       "      <th>top4</th>\n",
       "      <th>top5</th>\n",
       "      <th>top6</th>\n",
       "      <th>top7</th>\n",
       "      <th>top8</th>\n",
       "      <th>top9</th>\n",
       "      <th>...</th>\n",
       "      <th>DJI_Open</th>\n",
       "      <th>DJI_High</th>\n",
       "      <th>DJI_Low</th>\n",
       "      <th>DJI_Close</th>\n",
       "      <th>DJI_Adj_Close</th>\n",
       "      <th>SP500_Open</th>\n",
       "      <th>SP500_High</th>\n",
       "      <th>SP500_Low</th>\n",
       "      <th>SP500_Close</th>\n",
       "      <th>SP500_Adj_Close</th>\n",
       "    </tr>\n",
       "  </thead>\n",
       "  <tbody>\n",
       "    <tr>\n",
       "      <th>0</th>\n",
       "      <td>2021-03-09</td>\n",
       "      <td>China breaching every act in genocide conventi...</td>\n",
       "      <td>Around 1,000 women gather in Istanbul to prote...</td>\n",
       "      <td>Greta Thunberg says Biden isn’t doing ‘nearly ...</td>\n",
       "      <td>Humans have 'destroyed or degraded' two-thirds...</td>\n",
       "      <td>Biden and Europe allies worry Israel is prepar...</td>\n",
       "      <td>Syrian President Assad tests positive for COVI...</td>\n",
       "      <td>Covid-19: 'Certain inevitability' that visitor...</td>\n",
       "      <td>First Nation asks UN expert to probe systemic ...</td>\n",
       "      <td>Brazil Supreme Court judge annuls ex-president...</td>\n",
       "      <td>...</td>\n",
       "      <td>31,892.35</td>\n",
       "      <td>32,150.32</td>\n",
       "      <td>31,822.64</td>\n",
       "      <td>31,832.74</td>\n",
       "      <td>31,832.74</td>\n",
       "      <td>3,851.93</td>\n",
       "      <td>3,903.76</td>\n",
       "      <td>3,851.93</td>\n",
       "      <td>3,875.44</td>\n",
       "      <td>3,875.44</td>\n",
       "    </tr>\n",
       "    <tr>\n",
       "      <th>1</th>\n",
       "      <td>2021-03-10</td>\n",
       "      <td>Scientists Discover Chunk of Protoplanet Older...</td>\n",
       "      <td>'Shoot till they are dead': Some Myanmar polic...</td>\n",
       "      <td>Biden to meet virtually with leaders of Japan,...</td>\n",
       "      <td>Up to 1,000 Christian, Hindu and Sikh girls ar...</td>\n",
       "      <td>Papuan island inhabitants, whose island was of...</td>\n",
       "      <td>China’s appetite for meat fades as vegan revol...</td>\n",
       "      <td>French nuclear tests infected 'almost entire P...</td>\n",
       "      <td>Sex between coaches and teenagers in their car...</td>\n",
       "      <td>'Right to repair' law to come into effect this...</td>\n",
       "      <td>...</td>\n",
       "      <td>31,906.96</td>\n",
       "      <td>32,389.50</td>\n",
       "      <td>31,906.96</td>\n",
       "      <td>32,297.02</td>\n",
       "      <td>32,297.02</td>\n",
       "      <td>3,891.99</td>\n",
       "      <td>3,917.35</td>\n",
       "      <td>3,885.73</td>\n",
       "      <td>3,898.81</td>\n",
       "      <td>3,898.81</td>\n",
       "    </tr>\n",
       "  </tbody>\n",
       "</table>\n",
       "<p>2 rows × 41 columns</p>\n",
       "</div>"
      ],
      "text/plain": [
       "         date                                               top1  \\\n",
       "0  2021-03-09  China breaching every act in genocide conventi...   \n",
       "1  2021-03-10  Scientists Discover Chunk of Protoplanet Older...   \n",
       "\n",
       "                                                top2  \\\n",
       "0  Around 1,000 women gather in Istanbul to prote...   \n",
       "1  'Shoot till they are dead': Some Myanmar polic...   \n",
       "\n",
       "                                                top3  \\\n",
       "0  Greta Thunberg says Biden isn’t doing ‘nearly ...   \n",
       "1  Biden to meet virtually with leaders of Japan,...   \n",
       "\n",
       "                                                top4  \\\n",
       "0  Humans have 'destroyed or degraded' two-thirds...   \n",
       "1  Up to 1,000 Christian, Hindu and Sikh girls ar...   \n",
       "\n",
       "                                                top5  \\\n",
       "0  Biden and Europe allies worry Israel is prepar...   \n",
       "1  Papuan island inhabitants, whose island was of...   \n",
       "\n",
       "                                                top6  \\\n",
       "0  Syrian President Assad tests positive for COVI...   \n",
       "1  China’s appetite for meat fades as vegan revol...   \n",
       "\n",
       "                                                top7  \\\n",
       "0  Covid-19: 'Certain inevitability' that visitor...   \n",
       "1  French nuclear tests infected 'almost entire P...   \n",
       "\n",
       "                                                top8  \\\n",
       "0  First Nation asks UN expert to probe systemic ...   \n",
       "1  Sex between coaches and teenagers in their car...   \n",
       "\n",
       "                                                top9  ...   DJI_Open  \\\n",
       "0  Brazil Supreme Court judge annuls ex-president...  ...  31,892.35   \n",
       "1  'Right to repair' law to come into effect this...  ...  31,906.96   \n",
       "\n",
       "    DJI_High    DJI_Low  DJI_Close DJI_Adj_Close SP500_Open SP500_High  \\\n",
       "0  32,150.32  31,822.64  31,832.74     31,832.74   3,851.93   3,903.76   \n",
       "1  32,389.50  31,906.96  32,297.02     32,297.02   3,891.99   3,917.35   \n",
       "\n",
       "  SP500_Low SP500_Close SP500_Adj_Close  \n",
       "0  3,851.93    3,875.44        3,875.44  \n",
       "1  3,885.73    3,898.81        3,898.81  \n",
       "\n",
       "[2 rows x 41 columns]"
      ]
     },
     "execution_count": 2,
     "metadata": {},
     "output_type": "execute_result"
    }
   ],
   "source": [
    "connection = sqlite3.connect('MSC.db')\n",
    "cursor = connection.cursor()\n",
    "\n",
    "sql = ('''Select \n",
    "            main.date,\n",
    "            top1,top2,top3,top4,top5,\n",
    "            top6,top7,top8,top9,top10,\n",
    "            top11,top12,top13,top14,top15,\n",
    "            top16,top17,top18,top19,top20,\n",
    "            top21,top22,top23,top24,top25,\n",
    "            top26,top27,top28,top29,top30,\n",
    "            \n",
    "            DJI_Open,\n",
    "            DJI_High,\n",
    "            DJI_Low,\n",
    "            DJI_Close,\n",
    "            DJI_Adj_Close,\n",
    "            \n",
    "            SP500_Open,\n",
    "            SP500_High,\n",
    "            SP500_Low,\n",
    "            SP500_Close,\n",
    "            SP500_Adj_Close\n",
    "\n",
    "            from main\n",
    "            left join DJI on\n",
    "            main.date = date(DJI.Date)\n",
    "            left join SP500 on\n",
    "            main.date = date(SP500.Date)\n",
    "\n",
    "       ''')\n",
    "df = pd.read_sql_query(sql,connection)\n",
    "df.head(2)"
   ]
  },
  {
   "cell_type": "code",
   "execution_count": 4,
   "metadata": {
    "ExecuteTime": {
     "end_time": "2021-05-12T08:48:45.586203Z",
     "start_time": "2021-05-12T08:48:45.353406Z"
    }
   },
   "outputs": [
    {
     "data": {
      "text/html": [
       "<div>\n",
       "<style scoped>\n",
       "    .dataframe tbody tr th:only-of-type {\n",
       "        vertical-align: middle;\n",
       "    }\n",
       "\n",
       "    .dataframe tbody tr th {\n",
       "        vertical-align: top;\n",
       "    }\n",
       "\n",
       "    .dataframe thead th {\n",
       "        text-align: right;\n",
       "    }\n",
       "</style>\n",
       "<table border=\"1\" class=\"dataframe\">\n",
       "  <thead>\n",
       "    <tr style=\"text-align: right;\">\n",
       "      <th></th>\n",
       "      <th>date</th>\n",
       "      <th>top1</th>\n",
       "      <th>top2</th>\n",
       "      <th>top3</th>\n",
       "      <th>top4</th>\n",
       "      <th>top5</th>\n",
       "      <th>top6</th>\n",
       "      <th>top7</th>\n",
       "      <th>top8</th>\n",
       "      <th>top9</th>\n",
       "      <th>...</th>\n",
       "      <th>DJI_Open</th>\n",
       "      <th>DJI_High</th>\n",
       "      <th>DJI_Low</th>\n",
       "      <th>DJI_Close</th>\n",
       "      <th>DJI_Adj_Close</th>\n",
       "      <th>SP500_Open</th>\n",
       "      <th>SP500_High</th>\n",
       "      <th>SP500_Low</th>\n",
       "      <th>SP500_Close</th>\n",
       "      <th>SP500_Adj_Close</th>\n",
       "    </tr>\n",
       "  </thead>\n",
       "  <tbody>\n",
       "    <tr>\n",
       "      <th>0</th>\n",
       "      <td>2021-03-09</td>\n",
       "      <td>China breaching every act in genocide conventi...</td>\n",
       "      <td>Around 1,000 women gather in Istanbul to prote...</td>\n",
       "      <td>Greta Thunberg says Biden isn’t doing ‘nearly ...</td>\n",
       "      <td>Humans have 'destroyed or degraded' two-thirds...</td>\n",
       "      <td>Biden and Europe allies worry Israel is prepar...</td>\n",
       "      <td>Syrian President Assad tests positive for COVI...</td>\n",
       "      <td>Covid-19: 'Certain inevitability' that visitor...</td>\n",
       "      <td>First Nation asks UN expert to probe systemic ...</td>\n",
       "      <td>Brazil Supreme Court judge annuls ex-president...</td>\n",
       "      <td>...</td>\n",
       "      <td>31,892.35</td>\n",
       "      <td>32,150.32</td>\n",
       "      <td>31,822.64</td>\n",
       "      <td>31,832.74</td>\n",
       "      <td>31,832.74</td>\n",
       "      <td>3,851.93</td>\n",
       "      <td>3,903.76</td>\n",
       "      <td>3,851.93</td>\n",
       "      <td>3,875.44</td>\n",
       "      <td>3,875.44</td>\n",
       "    </tr>\n",
       "    <tr>\n",
       "      <th>1</th>\n",
       "      <td>2021-03-10</td>\n",
       "      <td>Scientists Discover Chunk of Protoplanet Older...</td>\n",
       "      <td>'Shoot till they are dead': Some Myanmar polic...</td>\n",
       "      <td>Biden to meet virtually with leaders of Japan,...</td>\n",
       "      <td>Up to 1,000 Christian, Hindu and Sikh girls ar...</td>\n",
       "      <td>Papuan island inhabitants, whose island was of...</td>\n",
       "      <td>China’s appetite for meat fades as vegan revol...</td>\n",
       "      <td>French nuclear tests infected 'almost entire P...</td>\n",
       "      <td>Sex between coaches and teenagers in their car...</td>\n",
       "      <td>'Right to repair' law to come into effect this...</td>\n",
       "      <td>...</td>\n",
       "      <td>31,906.96</td>\n",
       "      <td>32,389.50</td>\n",
       "      <td>31,906.96</td>\n",
       "      <td>32,297.02</td>\n",
       "      <td>32,297.02</td>\n",
       "      <td>3,891.99</td>\n",
       "      <td>3,917.35</td>\n",
       "      <td>3,885.73</td>\n",
       "      <td>3,898.81</td>\n",
       "      <td>3,898.81</td>\n",
       "    </tr>\n",
       "    <tr>\n",
       "      <th>2</th>\n",
       "      <td>2021-03-11</td>\n",
       "      <td>Conspiracy Theorist Who Stormed Trudeau’s Prop...</td>\n",
       "      <td>Biden says he’ll share surplus US vaccines wit...</td>\n",
       "      <td>Mexico Passes Bill to Legalize Cannabis</td>\n",
       "      <td>India now as autocratic as Pakistan, worse tha...</td>\n",
       "      <td>Thousands in India demand top judge resign ove...</td>\n",
       "      <td>Hong Kong: China approves \"patriotic\" plan to ...</td>\n",
       "      <td>Myanmar’s military on ‘killing spree’ against ...</td>\n",
       "      <td>The Pfizer-BioNTech coronavirus vaccine 97% ef...</td>\n",
       "      <td>Myanmar's searing smartphone images flood a wa...</td>\n",
       "      <td>...</td>\n",
       "      <td>32,354.50</td>\n",
       "      <td>32,661.59</td>\n",
       "      <td>32,345.70</td>\n",
       "      <td>32,485.59</td>\n",
       "      <td>32,485.59</td>\n",
       "      <td>3,915.54</td>\n",
       "      <td>3,960.27</td>\n",
       "      <td>3,915.54</td>\n",
       "      <td>3,939.34</td>\n",
       "      <td>3,939.34</td>\n",
       "    </tr>\n",
       "    <tr>\n",
       "      <th>3</th>\n",
       "      <td>2021-03-12</td>\n",
       "      <td>Us secretary of state calls Taiwan \"country\"</td>\n",
       "      <td>Myanmar's military is likely committing \"crime...</td>\n",
       "      <td>Vaccination of Toronto's homeless well underwa...</td>\n",
       "      <td>Novavax vaccine 96% effective against original...</td>\n",
       "      <td>Kremlin critic Navalny moved from jail, wherea...</td>\n",
       "      <td>Global warming leads to fish die off in South ...</td>\n",
       "      <td>12 protesters killed in Myanmar as military de...</td>\n",
       "      <td>Drug clan leader testifies he bribed Honduran ...</td>\n",
       "      <td>Canadian health officials watching probes of A...</td>\n",
       "      <td>...</td>\n",
       "      <td>32,462.40</td>\n",
       "      <td>32,793.32</td>\n",
       "      <td>32,462.40</td>\n",
       "      <td>32,778.64</td>\n",
       "      <td>32,778.64</td>\n",
       "      <td>3,924.52</td>\n",
       "      <td>3,944.99</td>\n",
       "      <td>3,915.21</td>\n",
       "      <td>3,943.34</td>\n",
       "      <td>3,943.34</td>\n",
       "    </tr>\n",
       "    <tr>\n",
       "      <th>4</th>\n",
       "      <td>2021-03-13</td>\n",
       "      <td>Unions call strike at Amazon's logistic operat...</td>\n",
       "      <td>Sri Lanka will ban the wearing of the burqa an...</td>\n",
       "      <td>U.S. Offers Protected Status For People From M...</td>\n",
       "      <td>Japan detects new coronavirus variant from tra...</td>\n",
       "      <td>Odisha Man Creates 25 Acres of Mangrove Forest...</td>\n",
       "      <td>Sarah Everard: Met Police officer charged with...</td>\n",
       "      <td>Myanmar Protest Leader Wants The Military Out ...</td>\n",
       "      <td>Russia detains around 150 people, including le...</td>\n",
       "      <td>'Covid is taking over': Brazil plunges into de...</td>\n",
       "      <td>...</td>\n",
       "      <td>None</td>\n",
       "      <td>None</td>\n",
       "      <td>None</td>\n",
       "      <td>None</td>\n",
       "      <td>None</td>\n",
       "      <td>None</td>\n",
       "      <td>None</td>\n",
       "      <td>None</td>\n",
       "      <td>None</td>\n",
       "      <td>None</td>\n",
       "    </tr>\n",
       "    <tr>\n",
       "      <th>...</th>\n",
       "      <td>...</td>\n",
       "      <td>...</td>\n",
       "      <td>...</td>\n",
       "      <td>...</td>\n",
       "      <td>...</td>\n",
       "      <td>...</td>\n",
       "      <td>...</td>\n",
       "      <td>...</td>\n",
       "      <td>...</td>\n",
       "      <td>...</td>\n",
       "      <td>...</td>\n",
       "      <td>...</td>\n",
       "      <td>...</td>\n",
       "      <td>...</td>\n",
       "      <td>...</td>\n",
       "      <td>...</td>\n",
       "      <td>...</td>\n",
       "      <td>...</td>\n",
       "      <td>...</td>\n",
       "      <td>...</td>\n",
       "      <td>...</td>\n",
       "    </tr>\n",
       "    <tr>\n",
       "      <th>60</th>\n",
       "      <td>2021-05-08</td>\n",
       "      <td>Scientists in the Netherlands have taught bees...</td>\n",
       "      <td>A Yemeni model arrested two months ago for \"ch...</td>\n",
       "      <td>80 percent of Pakistan’s pangolins lost to ill...</td>\n",
       "      <td>Afghanistan is being overrun by crystal meth a...</td>\n",
       "      <td>China has urged United Nations member states n...</td>\n",
       "      <td>Bill Gates backed company releases first batch...</td>\n",
       "      <td>Anti-Olympics campaign gains traction online i...</td>\n",
       "      <td>COVID is killing 120 people an hour in India, ...</td>\n",
       "      <td>Sheikh Jarrah Evictions Posts Being Censored b...</td>\n",
       "      <td>...</td>\n",
       "      <td>None</td>\n",
       "      <td>None</td>\n",
       "      <td>None</td>\n",
       "      <td>None</td>\n",
       "      <td>None</td>\n",
       "      <td>None</td>\n",
       "      <td>None</td>\n",
       "      <td>None</td>\n",
       "      <td>None</td>\n",
       "      <td>None</td>\n",
       "    </tr>\n",
       "    <tr>\n",
       "      <th>61</th>\n",
       "      <td>2021-05-09</td>\n",
       "      <td>Dozens of German priests will defy the Vatican...</td>\n",
       "      <td>Evidence of nine Neanderthals found in Italian...</td>\n",
       "      <td>Gay Croatian couple’s five-year legal battle e...</td>\n",
       "      <td>Senior Swiss diplomat in Iran found dead after...</td>\n",
       "      <td>Scottish nationalists vow new independence vot...</td>\n",
       "      <td>Pope Francis backs vaccine patents waiver to e...</td>\n",
       "      <td>Kabul attack: Blast near school leaves at leas...</td>\n",
       "      <td>Covid-sparked fungal infection assuming epidem...</td>\n",
       "      <td>Melting Glaciers Have Exposed Frozen Relics of...</td>\n",
       "      <td>...</td>\n",
       "      <td>None</td>\n",
       "      <td>None</td>\n",
       "      <td>None</td>\n",
       "      <td>None</td>\n",
       "      <td>None</td>\n",
       "      <td>None</td>\n",
       "      <td>None</td>\n",
       "      <td>None</td>\n",
       "      <td>None</td>\n",
       "      <td>None</td>\n",
       "    </tr>\n",
       "    <tr>\n",
       "      <th>62</th>\n",
       "      <td>2021-05-10</td>\n",
       "      <td>Indigenous leaders launch $2.1 billion class-a...</td>\n",
       "      <td>Russian Doc Who Lied About Navalny Poisoning ‘...</td>\n",
       "      <td>Angry protests have broken out in Kyrgyzstan a...</td>\n",
       "      <td>More than 50 people, many of them female stude...</td>\n",
       "      <td>Queen’s cousin Prince Michael of Kent accused ...</td>\n",
       "      <td>Arab world condemns Israel Police for violent ...</td>\n",
       "      <td>NASA criticizes China after rocket debris land...</td>\n",
       "      <td>Thousands to march in France demanding real ac...</td>\n",
       "      <td>Myanmar poet dies after detention, body return...</td>\n",
       "      <td>...</td>\n",
       "      <td>34,785.27</td>\n",
       "      <td>35,091.56</td>\n",
       "      <td>34,741.57</td>\n",
       "      <td>34,742.82</td>\n",
       "      <td>34,742.82</td>\n",
       "      <td>4,228.29</td>\n",
       "      <td>4,236.39</td>\n",
       "      <td>4,188.13</td>\n",
       "      <td>4,188.43</td>\n",
       "      <td>4,188.43</td>\n",
       "    </tr>\n",
       "    <tr>\n",
       "      <th>63</th>\n",
       "      <td>2021-05-11</td>\n",
       "      <td>Zero Covid deaths recorded yesterday for Engla...</td>\n",
       "      <td>Israeli airstrikes on Gaza kill 20 people, inc...</td>\n",
       "      <td>Stop evictions in East Jerusalem neighbourhood...</td>\n",
       "      <td>Instagram, Twitter deleting posts about Palest...</td>\n",
       "      <td>Boris Johnson investigated over Caribbean holi...</td>\n",
       "      <td>Rocket sirens sound in Jerusalem, Israel amid ...</td>\n",
       "      <td>WHO classifies triple-mutant Covid variant fro...</td>\n",
       "      <td>Dozens of bodies believed to be Covid-19 victi...</td>\n",
       "      <td>Missing Siberian doctor who treated Kremlin cr...</td>\n",
       "      <td>...</td>\n",
       "      <td>34,572.74</td>\n",
       "      <td>34,572.74</td>\n",
       "      <td>34,075.31</td>\n",
       "      <td>34,269.16</td>\n",
       "      <td>34,269.16</td>\n",
       "      <td>4,150.34</td>\n",
       "      <td>4,162.04</td>\n",
       "      <td>4,111.53</td>\n",
       "      <td>4,152.10</td>\n",
       "      <td>4,152.10</td>\n",
       "    </tr>\n",
       "    <tr>\n",
       "      <th>64</th>\n",
       "      <td>2021-05-12</td>\n",
       "      <td>Indian government says 5G doesn’t cause COVID-...</td>\n",
       "      <td>Largest 13 story residential building in Gaza ...</td>\n",
       "      <td>China demands cancellation of UN meeting on Uy...</td>\n",
       "      <td>Taiwan says China is 'maliciously' blocking it...</td>\n",
       "      <td>US officials believe Russia may be behind the ...</td>\n",
       "      <td>UK to ban LGBT conversion therapy and provide ...</td>\n",
       "      <td>Up to 9 Killed in Russia School Shooting</td>\n",
       "      <td>1 dead, 3 severely injured, as 'largest ever' ...</td>\n",
       "      <td>Hundreds of South Africans rallied on Tuesday ...</td>\n",
       "      <td>...</td>\n",
       "      <td>None</td>\n",
       "      <td>None</td>\n",
       "      <td>None</td>\n",
       "      <td>None</td>\n",
       "      <td>None</td>\n",
       "      <td>None</td>\n",
       "      <td>None</td>\n",
       "      <td>None</td>\n",
       "      <td>None</td>\n",
       "      <td>None</td>\n",
       "    </tr>\n",
       "  </tbody>\n",
       "</table>\n",
       "<p>65 rows × 41 columns</p>\n",
       "</div>"
      ],
      "text/plain": [
       "          date                                               top1  \\\n",
       "0   2021-03-09  China breaching every act in genocide conventi...   \n",
       "1   2021-03-10  Scientists Discover Chunk of Protoplanet Older...   \n",
       "2   2021-03-11  Conspiracy Theorist Who Stormed Trudeau’s Prop...   \n",
       "3   2021-03-12       Us secretary of state calls Taiwan \"country\"   \n",
       "4   2021-03-13  Unions call strike at Amazon's logistic operat...   \n",
       "..         ...                                                ...   \n",
       "60  2021-05-08  Scientists in the Netherlands have taught bees...   \n",
       "61  2021-05-09  Dozens of German priests will defy the Vatican...   \n",
       "62  2021-05-10  Indigenous leaders launch $2.1 billion class-a...   \n",
       "63  2021-05-11  Zero Covid deaths recorded yesterday for Engla...   \n",
       "64  2021-05-12  Indian government says 5G doesn’t cause COVID-...   \n",
       "\n",
       "                                                 top2  \\\n",
       "0   Around 1,000 women gather in Istanbul to prote...   \n",
       "1   'Shoot till they are dead': Some Myanmar polic...   \n",
       "2   Biden says he’ll share surplus US vaccines wit...   \n",
       "3   Myanmar's military is likely committing \"crime...   \n",
       "4   Sri Lanka will ban the wearing of the burqa an...   \n",
       "..                                                ...   \n",
       "60  A Yemeni model arrested two months ago for \"ch...   \n",
       "61  Evidence of nine Neanderthals found in Italian...   \n",
       "62  Russian Doc Who Lied About Navalny Poisoning ‘...   \n",
       "63  Israeli airstrikes on Gaza kill 20 people, inc...   \n",
       "64  Largest 13 story residential building in Gaza ...   \n",
       "\n",
       "                                                 top3  \\\n",
       "0   Greta Thunberg says Biden isn’t doing ‘nearly ...   \n",
       "1   Biden to meet virtually with leaders of Japan,...   \n",
       "2             Mexico Passes Bill to Legalize Cannabis   \n",
       "3   Vaccination of Toronto's homeless well underwa...   \n",
       "4   U.S. Offers Protected Status For People From M...   \n",
       "..                                                ...   \n",
       "60  80 percent of Pakistan’s pangolins lost to ill...   \n",
       "61  Gay Croatian couple’s five-year legal battle e...   \n",
       "62  Angry protests have broken out in Kyrgyzstan a...   \n",
       "63  Stop evictions in East Jerusalem neighbourhood...   \n",
       "64  China demands cancellation of UN meeting on Uy...   \n",
       "\n",
       "                                                 top4  \\\n",
       "0   Humans have 'destroyed or degraded' two-thirds...   \n",
       "1   Up to 1,000 Christian, Hindu and Sikh girls ar...   \n",
       "2   India now as autocratic as Pakistan, worse tha...   \n",
       "3   Novavax vaccine 96% effective against original...   \n",
       "4   Japan detects new coronavirus variant from tra...   \n",
       "..                                                ...   \n",
       "60  Afghanistan is being overrun by crystal meth a...   \n",
       "61  Senior Swiss diplomat in Iran found dead after...   \n",
       "62  More than 50 people, many of them female stude...   \n",
       "63  Instagram, Twitter deleting posts about Palest...   \n",
       "64  Taiwan says China is 'maliciously' blocking it...   \n",
       "\n",
       "                                                 top5  \\\n",
       "0   Biden and Europe allies worry Israel is prepar...   \n",
       "1   Papuan island inhabitants, whose island was of...   \n",
       "2   Thousands in India demand top judge resign ove...   \n",
       "3   Kremlin critic Navalny moved from jail, wherea...   \n",
       "4   Odisha Man Creates 25 Acres of Mangrove Forest...   \n",
       "..                                                ...   \n",
       "60  China has urged United Nations member states n...   \n",
       "61  Scottish nationalists vow new independence vot...   \n",
       "62  Queen’s cousin Prince Michael of Kent accused ...   \n",
       "63  Boris Johnson investigated over Caribbean holi...   \n",
       "64  US officials believe Russia may be behind the ...   \n",
       "\n",
       "                                                 top6  \\\n",
       "0   Syrian President Assad tests positive for COVI...   \n",
       "1   China’s appetite for meat fades as vegan revol...   \n",
       "2   Hong Kong: China approves \"patriotic\" plan to ...   \n",
       "3   Global warming leads to fish die off in South ...   \n",
       "4   Sarah Everard: Met Police officer charged with...   \n",
       "..                                                ...   \n",
       "60  Bill Gates backed company releases first batch...   \n",
       "61  Pope Francis backs vaccine patents waiver to e...   \n",
       "62  Arab world condemns Israel Police for violent ...   \n",
       "63  Rocket sirens sound in Jerusalem, Israel amid ...   \n",
       "64  UK to ban LGBT conversion therapy and provide ...   \n",
       "\n",
       "                                                 top7  \\\n",
       "0   Covid-19: 'Certain inevitability' that visitor...   \n",
       "1   French nuclear tests infected 'almost entire P...   \n",
       "2   Myanmar’s military on ‘killing spree’ against ...   \n",
       "3   12 protesters killed in Myanmar as military de...   \n",
       "4   Myanmar Protest Leader Wants The Military Out ...   \n",
       "..                                                ...   \n",
       "60  Anti-Olympics campaign gains traction online i...   \n",
       "61  Kabul attack: Blast near school leaves at leas...   \n",
       "62  NASA criticizes China after rocket debris land...   \n",
       "63  WHO classifies triple-mutant Covid variant fro...   \n",
       "64           Up to 9 Killed in Russia School Shooting   \n",
       "\n",
       "                                                 top8  \\\n",
       "0   First Nation asks UN expert to probe systemic ...   \n",
       "1   Sex between coaches and teenagers in their car...   \n",
       "2   The Pfizer-BioNTech coronavirus vaccine 97% ef...   \n",
       "3   Drug clan leader testifies he bribed Honduran ...   \n",
       "4   Russia detains around 150 people, including le...   \n",
       "..                                                ...   \n",
       "60  COVID is killing 120 people an hour in India, ...   \n",
       "61  Covid-sparked fungal infection assuming epidem...   \n",
       "62  Thousands to march in France demanding real ac...   \n",
       "63  Dozens of bodies believed to be Covid-19 victi...   \n",
       "64  1 dead, 3 severely injured, as 'largest ever' ...   \n",
       "\n",
       "                                                 top9  ...   DJI_Open  \\\n",
       "0   Brazil Supreme Court judge annuls ex-president...  ...  31,892.35   \n",
       "1   'Right to repair' law to come into effect this...  ...  31,906.96   \n",
       "2   Myanmar's searing smartphone images flood a wa...  ...  32,354.50   \n",
       "3   Canadian health officials watching probes of A...  ...  32,462.40   \n",
       "4   'Covid is taking over': Brazil plunges into de...  ...       None   \n",
       "..                                                ...  ...        ...   \n",
       "60  Sheikh Jarrah Evictions Posts Being Censored b...  ...       None   \n",
       "61  Melting Glaciers Have Exposed Frozen Relics of...  ...       None   \n",
       "62  Myanmar poet dies after detention, body return...  ...  34,785.27   \n",
       "63  Missing Siberian doctor who treated Kremlin cr...  ...  34,572.74   \n",
       "64  Hundreds of South Africans rallied on Tuesday ...  ...       None   \n",
       "\n",
       "     DJI_High    DJI_Low  DJI_Close DJI_Adj_Close SP500_Open SP500_High  \\\n",
       "0   32,150.32  31,822.64  31,832.74     31,832.74   3,851.93   3,903.76   \n",
       "1   32,389.50  31,906.96  32,297.02     32,297.02   3,891.99   3,917.35   \n",
       "2   32,661.59  32,345.70  32,485.59     32,485.59   3,915.54   3,960.27   \n",
       "3   32,793.32  32,462.40  32,778.64     32,778.64   3,924.52   3,944.99   \n",
       "4        None       None       None          None       None       None   \n",
       "..        ...        ...        ...           ...        ...        ...   \n",
       "60       None       None       None          None       None       None   \n",
       "61       None       None       None          None       None       None   \n",
       "62  35,091.56  34,741.57  34,742.82     34,742.82   4,228.29   4,236.39   \n",
       "63  34,572.74  34,075.31  34,269.16     34,269.16   4,150.34   4,162.04   \n",
       "64       None       None       None          None       None       None   \n",
       "\n",
       "   SP500_Low SP500_Close SP500_Adj_Close  \n",
       "0   3,851.93    3,875.44        3,875.44  \n",
       "1   3,885.73    3,898.81        3,898.81  \n",
       "2   3,915.54    3,939.34        3,939.34  \n",
       "3   3,915.21    3,943.34        3,943.34  \n",
       "4       None        None            None  \n",
       "..       ...         ...             ...  \n",
       "60      None        None            None  \n",
       "61      None        None            None  \n",
       "62  4,188.13    4,188.43        4,188.43  \n",
       "63  4,111.53    4,152.10        4,152.10  \n",
       "64      None        None            None  \n",
       "\n",
       "[65 rows x 41 columns]"
      ]
     },
     "execution_count": 4,
     "metadata": {},
     "output_type": "execute_result"
    }
   ],
   "source": [
    "df"
   ]
  },
  {
   "cell_type": "code",
   "execution_count": 7,
   "metadata": {
    "ExecuteTime": {
     "end_time": "2021-05-11T19:35:50.122512Z",
     "start_time": "2021-05-11T19:35:49.356265Z"
    }
   },
   "outputs": [
    {
     "data": {
      "text/html": [
       "<div>\n",
       "<style scoped>\n",
       "    .dataframe tbody tr th:only-of-type {\n",
       "        vertical-align: middle;\n",
       "    }\n",
       "\n",
       "    .dataframe tbody tr th {\n",
       "        vertical-align: top;\n",
       "    }\n",
       "\n",
       "    .dataframe thead th {\n",
       "        text-align: right;\n",
       "    }\n",
       "</style>\n",
       "<table border=\"1\" class=\"dataframe\">\n",
       "  <thead>\n",
       "    <tr style=\"text-align: right;\">\n",
       "      <th></th>\n",
       "      <th>date</th>\n",
       "      <th>DJI_Open</th>\n",
       "      <th>DJI_High</th>\n",
       "      <th>DJI_Low</th>\n",
       "      <th>DJI_Close</th>\n",
       "      <th>DJI_Adj_Close</th>\n",
       "      <th>DJI_Volume</th>\n",
       "    </tr>\n",
       "  </thead>\n",
       "  <tbody>\n",
       "    <tr>\n",
       "      <th>90</th>\n",
       "      <td>2020-12-28 00:00:00</td>\n",
       "      <td>30,283.23</td>\n",
       "      <td>30,525.56</td>\n",
       "      <td>30,283.23</td>\n",
       "      <td>30,403.97</td>\n",
       "      <td>30,403.97</td>\n",
       "      <td>3,024,900</td>\n",
       "    </tr>\n",
       "    <tr>\n",
       "      <th>91</th>\n",
       "      <td>2020-12-24 00:00:00</td>\n",
       "      <td>30,155.92</td>\n",
       "      <td>30,209.67</td>\n",
       "      <td>30,099.30</td>\n",
       "      <td>30,199.87</td>\n",
       "      <td>30,199.87</td>\n",
       "      <td>1,455,700</td>\n",
       "    </tr>\n",
       "    <tr>\n",
       "      <th>92</th>\n",
       "      <td>2020-12-23 00:00:00</td>\n",
       "      <td>30,046.73</td>\n",
       "      <td>30,292.53</td>\n",
       "      <td>30,046.73</td>\n",
       "      <td>30,129.83</td>\n",
       "      <td>30,129.83</td>\n",
       "      <td>2,740,500</td>\n",
       "    </tr>\n",
       "    <tr>\n",
       "      <th>93</th>\n",
       "      <td>2020-12-22 00:00:00</td>\n",
       "      <td>30,200.20</td>\n",
       "      <td>30,200.20</td>\n",
       "      <td>29,992.89</td>\n",
       "      <td>30,015.51</td>\n",
       "      <td>30,015.51</td>\n",
       "      <td>3,888,100</td>\n",
       "    </tr>\n",
       "    <tr>\n",
       "      <th>94</th>\n",
       "      <td>2020-12-21 00:00:00</td>\n",
       "      <td>30,159.00</td>\n",
       "      <td>30,304.14</td>\n",
       "      <td>29,755.53</td>\n",
       "      <td>30,216.45</td>\n",
       "      <td>30,216.45</td>\n",
       "      <td>4,374,800</td>\n",
       "    </tr>\n",
       "    <tr>\n",
       "      <th>95</th>\n",
       "      <td>2020-12-18 00:00:00</td>\n",
       "      <td>30,314.26</td>\n",
       "      <td>30,343.59</td>\n",
       "      <td>30,029.44</td>\n",
       "      <td>30,179.05</td>\n",
       "      <td>30,179.05</td>\n",
       "      <td>7,820,700</td>\n",
       "    </tr>\n",
       "    <tr>\n",
       "      <th>96</th>\n",
       "      <td>2020-12-17 00:00:00</td>\n",
       "      <td>30,216.00</td>\n",
       "      <td>30,323.78</td>\n",
       "      <td>30,216.00</td>\n",
       "      <td>30,303.37</td>\n",
       "      <td>30,303.37</td>\n",
       "      <td>3,455,300</td>\n",
       "    </tr>\n",
       "    <tr>\n",
       "      <th>97</th>\n",
       "      <td>2020-12-16 00:00:00</td>\n",
       "      <td>30,191.38</td>\n",
       "      <td>30,236.03</td>\n",
       "      <td>30,080.11</td>\n",
       "      <td>30,154.54</td>\n",
       "      <td>30,154.54</td>\n",
       "      <td>3,445,900</td>\n",
       "    </tr>\n",
       "    <tr>\n",
       "      <th>98</th>\n",
       "      <td>2020-12-15 00:00:00</td>\n",
       "      <td>29,919.09</td>\n",
       "      <td>30,243.26</td>\n",
       "      <td>29,894.95</td>\n",
       "      <td>30,199.31</td>\n",
       "      <td>30,199.31</td>\n",
       "      <td>4,177,700</td>\n",
       "    </tr>\n",
       "    <tr>\n",
       "      <th>99</th>\n",
       "      <td>2020-12-14 00:00:00</td>\n",
       "      <td>30,123.91</td>\n",
       "      <td>30,325.79</td>\n",
       "      <td>29,849.15</td>\n",
       "      <td>29,861.55</td>\n",
       "      <td>29,861.55</td>\n",
       "      <td>3,719,800</td>\n",
       "    </tr>\n",
       "  </tbody>\n",
       "</table>\n",
       "</div>"
      ],
      "text/plain": [
       "                   date   DJI_Open   DJI_High    DJI_Low  DJI_Close  \\\n",
       "90  2020-12-28 00:00:00  30,283.23  30,525.56  30,283.23  30,403.97   \n",
       "91  2020-12-24 00:00:00  30,155.92  30,209.67  30,099.30  30,199.87   \n",
       "92  2020-12-23 00:00:00  30,046.73  30,292.53  30,046.73  30,129.83   \n",
       "93  2020-12-22 00:00:00  30,200.20  30,200.20  29,992.89  30,015.51   \n",
       "94  2020-12-21 00:00:00  30,159.00  30,304.14  29,755.53  30,216.45   \n",
       "95  2020-12-18 00:00:00  30,314.26  30,343.59  30,029.44  30,179.05   \n",
       "96  2020-12-17 00:00:00  30,216.00  30,323.78  30,216.00  30,303.37   \n",
       "97  2020-12-16 00:00:00  30,191.38  30,236.03  30,080.11  30,154.54   \n",
       "98  2020-12-15 00:00:00  29,919.09  30,243.26  29,894.95  30,199.31   \n",
       "99  2020-12-14 00:00:00  30,123.91  30,325.79  29,849.15  29,861.55   \n",
       "\n",
       "   DJI_Adj_Close DJI_Volume  \n",
       "90     30,403.97  3,024,900  \n",
       "91     30,199.87  1,455,700  \n",
       "92     30,129.83  2,740,500  \n",
       "93     30,015.51  3,888,100  \n",
       "94     30,216.45  4,374,800  \n",
       "95     30,179.05  7,820,700  \n",
       "96     30,303.37  3,455,300  \n",
       "97     30,154.54  3,445,900  \n",
       "98     30,199.31  4,177,700  \n",
       "99     29,861.55  3,719,800  "
      ]
     },
     "execution_count": 7,
     "metadata": {},
     "output_type": "execute_result"
    }
   ],
   "source": [
    "connection = sqlite3.connect('MSC.db')\n",
    "cursor = connection.cursor()\n",
    "\n",
    "sql = ('''Select * from DJI\n",
    "\n",
    "       ''')\n",
    "df = pd.read_sql_query(sql,connection)\n",
    "df.tail(10)"
   ]
  },
  {
   "cell_type": "code",
   "execution_count": 8,
   "metadata": {
    "ExecuteTime": {
     "end_time": "2021-05-11T19:35:58.509135Z",
     "start_time": "2021-05-11T19:35:58.501386Z"
    }
   },
   "outputs": [
    {
     "data": {
      "text/plain": [
       "Index(['date', 'DJI_Open', 'DJI_High', 'DJI_Low', 'DJI_Close', 'DJI_Adj_Close',\n",
       "       'DJI_Volume'],\n",
       "      dtype='object')"
      ]
     },
     "execution_count": 8,
     "metadata": {},
     "output_type": "execute_result"
    }
   ],
   "source": [
    "df.columns"
   ]
  },
  {
   "cell_type": "code",
   "execution_count": null,
   "metadata": {
    "ExecuteTime": {
     "end_time": "2021-05-10T20:22:36.003511Z",
     "start_time": "2021-05-10T20:22:35.993113Z"
    }
   },
   "outputs": [],
   "source": [
    "df = df[['date', 'top1', 'top2', 'top3', 'top4', 'top5', 'top6', 'top7', 'top8',\n",
    "       'top9', 'top10', 'top11', 'top12', 'top13', 'top14', 'top15', 'top16',\n",
    "       'top17', 'top18', 'top19', 'top20', 'top21', 'top22', 'top23', 'top24',\n",
    "       'top25', 'top26', 'top27', 'top28', 'top29', 'top30']]"
   ]
  },
  {
   "cell_type": "markdown",
   "metadata": {
    "ExecuteTime": {
     "end_time": "2021-05-10T20:10:35.168114Z",
     "start_time": "2021-05-10T20:10:35.156961Z"
    }
   },
   "source": [
    "df.isnull().sum()"
   ]
  },
  {
   "cell_type": "code",
   "execution_count": null,
   "metadata": {
    "ExecuteTime": {
     "end_time": "2021-05-10T19:37:09.086841Z",
     "start_time": "2021-05-10T19:36:45.588503Z"
    }
   },
   "outputs": [],
   "source": [
    "from sklearn.model_selection import cross_val_score\n",
    "from sklearn.feature_selection import VarianceThreshold\n",
    "from sklearn.preprocessing import StandardScaler\n",
    "from nltk.sentiment.vader import SentimentIntensityAnalyzer\n",
    "from textblob import TextBlob"
   ]
  },
  {
   "cell_type": "code",
   "execution_count": null,
   "metadata": {
    "ExecuteTime": {
     "end_time": "2021-05-10T20:22:45.428285Z",
     "start_time": "2021-05-10T20:22:45.410401Z"
    }
   },
   "outputs": [],
   "source": [
    "Anakin = SentimentIntensityAnalyzer()\n",
    "Anakin.polarity_scores(\" \")"
   ]
  },
  {
   "cell_type": "code",
   "execution_count": null,
   "metadata": {
    "ExecuteTime": {
     "end_time": "2021-05-10T20:22:46.203292Z",
     "start_time": "2021-05-10T20:22:46.192894Z"
    }
   },
   "outputs": [],
   "source": [
    "def detect_subjectivity(text):\n",
    "    '''\n",
    "    subjectivity is a float within the range [0.0, 1.0] where 0.0 is very objective and 1.0 is very subjective.\n",
    "    '''\n",
    "    return TextBlob(text).sentiment.subjectivity\n",
    "\n",
    "detect_subjectivity(\" \") #should return 0\n",
    "\n"
   ]
  },
  {
   "cell_type": "code",
   "execution_count": null,
   "metadata": {
    "ExecuteTime": {
     "end_time": "2021-05-10T20:22:52.277121Z",
     "start_time": "2021-05-10T20:22:50.066440Z"
    }
   },
   "outputs": [],
   "source": [
    "start_vect=time.time()\n",
    "#get the name of the headline columns\n",
    "cols = []\n",
    "for i in range(1,31):\n",
    "    col = (\"top{}\".format(i))\n",
    "    cols.append(col)\n",
    "    \n",
    "for col in cols:\n",
    "    df[col] = df[col].astype(str) # Make sure data is treated as a string\n",
    "    df[col+'_comp']= df[col].apply(lambda x:Anakin.polarity_scores(x)['compound'])\n",
    "    df[col+'_sub'] = df[col].apply(detect_subjectivity)\n",
    "    print(\"{} Done\".format(col))\n",
    "    \n",
    "print(\"VADER: Vaderization completed after %0.2f Minutes\"%((time.time() - start_vect)/60))\n"
   ]
  },
  {
   "cell_type": "code",
   "execution_count": null,
   "metadata": {
    "ExecuteTime": {
     "end_time": "2021-05-10T20:22:55.116988Z",
     "start_time": "2021-05-10T20:22:55.056769Z"
    }
   },
   "outputs": [],
   "source": [
    "#the text isn't required anymore\n",
    "df = df.drop(cols,axis=1)\n",
    "df.head()"
   ]
  },
  {
   "cell_type": "code",
   "execution_count": null,
   "metadata": {
    "ExecuteTime": {
     "end_time": "2021-05-10T20:04:40.502842Z",
     "start_time": "2021-05-10T20:04:40.498809Z"
    }
   },
   "outputs": [],
   "source": [
    "import numpy as np"
   ]
  },
  {
   "cell_type": "code",
   "execution_count": null,
   "metadata": {
    "ExecuteTime": {
     "end_time": "2021-05-10T20:25:43.970917Z",
     "start_time": "2021-05-10T20:25:43.964038Z"
    }
   },
   "outputs": [],
   "source": [
    "len(df)"
   ]
  },
  {
   "cell_type": "code",
   "execution_count": null,
   "metadata": {
    "ExecuteTime": {
     "end_time": "2021-05-10T20:28:05.732361Z",
     "start_time": "2021-05-10T20:28:05.634986Z"
    }
   },
   "outputs": [],
   "source": [
    "comp_cols = [col + \"_comp\" for col in cols]\n",
    "\n",
    "w = np.arange(1,31,1).tolist()\n",
    "w.reverse()\n",
    "\n",
    "weighted_comp = []\n",
    "max_comp = []\n",
    "min_comp = []\n",
    "for i in range(0,len(df)):\n",
    "    a = df.loc[i,comp_cols].tolist()\n",
    "    weighted_comp.append(np.average(a, weights=w))\n",
    "    max_comp.append(max(a))\n",
    "    min_comp.append(min(a))\n",
    "    \n",
    "df['compound_mean'] = weighted_comp\n",
    "df['compound_max'] = max_comp\n",
    "df['compound_min'] = min_comp\n",
    "\n",
    "sub_cols = [col + \"_sub\" for col in cols]\n",
    "\n",
    "weighted_sub = []\n",
    "max_sub = []\n",
    "min_sub = []\n",
    "for i in range(0,len(df)):\n",
    "    a = df.loc[i,sub_cols].tolist()\n",
    "    weighted_sub.append(np.average(a, weights=w))\n",
    "    max_sub.append(max(a))\n",
    "    min_sub.append(min(a))\n",
    "\n",
    "df['subjectivity_mean'] = weighted_sub\n",
    "df['subjectivity_max'] = max_sub\n",
    "df['subjectivity_min'] = min_sub\n",
    "\n",
    "to_drop = sub_cols+comp_cols\n",
    "df = df.drop(to_drop, axis=1)"
   ]
  },
  {
   "cell_type": "code",
   "execution_count": null,
   "metadata": {
    "ExecuteTime": {
     "end_time": "2021-05-10T20:35:48.936804Z",
     "start_time": "2021-05-10T20:34:32.078477Z"
    }
   },
   "outputs": [],
   "source": [
    "import plotly.graph_objects as go\n",
    "\n",
    "fig3 = go.Figure()\n",
    "fig3.add_trace(go.Scatter(x=df.date, y=df.subjectivity_mean,\n",
    "                    mode='lines',\n",
    "                    name='Mean'))\n",
    "fig3.add_trace(go.Scatter(x=df.date, y=df.subjectivity_min,\n",
    "                    mode='lines',\n",
    "                    name='Min'))\n",
    "fig3.add_trace(go.Scatter(x=df.date, y=df.subjectivity_max,\n",
    "                    mode='lines',\n",
    "                    name='Max'))\n",
    "title = []\n",
    "title.append(dict(xref='paper', yref='paper', x=0.0, y=1.05,\n",
    "                              xanchor='left', yanchor='bottom',\n",
    "                              text='Development of subjectivity score',\n",
    "                              font=dict(family='Arial',\n",
    "                                        size=30,\n",
    "                                        color='rgb(37,37,37)'),\n",
    "                              showarrow=False))\n",
    "fig3.update_layout(xaxis_title='Date',\n",
    "                   yaxis_title='Subjectivity score',\n",
    "                  annotations=title)\n",
    "fig3.show()"
   ]
  },
  {
   "cell_type": "code",
   "execution_count": 14,
   "metadata": {
    "ExecuteTime": {
     "end_time": "2021-05-11T19:37:44.946217Z",
     "start_time": "2021-05-11T19:37:44.248373Z"
    }
   },
   "outputs": [
    {
     "name": "stdout",
     "output_type": "stream",
     "text": [
      "2021-05-11 00:00:00 appended to DJI\n"
     ]
    }
   ],
   "source": [
    "##SP500\n",
    "from bs4 import BeautifulSoup\n",
    "import requests\n",
    "import pandas as pd\n",
    "import sqlite3\n",
    "    \n",
    "    \n",
    "## DJI\n",
    "url = \"https://finance.yahoo.com/quote/%5EDJI/history?p=%5EDJI\"\n",
    "r = requests.get(url)\n",
    "data = r.text\n",
    "soup = BeautifulSoup(data, features=\"lxml\")\n",
    "\n",
    "answer = []\n",
    "answer.append(str(pd.to_datetime(soup.find_all('td')[0].text, infer_datetime_format=True)))\n",
    "answer = answer + [i.span.text for i in soup.find_all('td')[1:7]]\n",
    "\n",
    "columnnames = \"'date', 'DJI_Open', 'DJI_High', 'DJI_Low', 'DJI_Close', 'DJI_Adj_Close','DJI_Volume'\"\n",
    "insertintotable = '?,?,?,?,?,?,?'\n",
    "\n",
    "connection = sqlite3.connect('MSC.db')\n",
    "cursor = connection.cursor()\n",
    "sql2 = f'cursor.execute(\"insert INTO  DJI ({columnnames}) VALUES ({insertintotable})\", {answer})'\n",
    "eval(sql2)\n",
    "connection.commit()\n",
    "connection.close()\n",
    "print(f\"{answer[0]} appended to DJI\")"
   ]
  },
  {
   "cell_type": "code",
   "execution_count": 31,
   "metadata": {
    "ExecuteTime": {
     "end_time": "2021-05-11T20:02:09.215547Z",
     "start_time": "2021-05-11T20:02:09.169422Z"
    }
   },
   "outputs": [
    {
     "data": {
      "text/html": [
       "<div>\n",
       "<style scoped>\n",
       "    .dataframe tbody tr th:only-of-type {\n",
       "        vertical-align: middle;\n",
       "    }\n",
       "\n",
       "    .dataframe tbody tr th {\n",
       "        vertical-align: top;\n",
       "    }\n",
       "\n",
       "    .dataframe thead th {\n",
       "        text-align: right;\n",
       "    }\n",
       "</style>\n",
       "<table border=\"1\" class=\"dataframe\">\n",
       "  <thead>\n",
       "    <tr style=\"text-align: right;\">\n",
       "      <th></th>\n",
       "      <th>Date</th>\n",
       "      <th>SP500_Open</th>\n",
       "      <th>SP500_High</th>\n",
       "      <th>SP500_Low</th>\n",
       "      <th>SP500_Close</th>\n",
       "      <th>SP500_Adj_Close</th>\n",
       "      <th>SP500_Volume</th>\n",
       "    </tr>\n",
       "  </thead>\n",
       "  <tbody>\n",
       "    <tr>\n",
       "      <th>0</th>\n",
       "      <td>2021-05-07 00:00:00</td>\n",
       "      <td>4,210.34</td>\n",
       "      <td>4,233.04</td>\n",
       "      <td>4,201.64</td>\n",
       "      <td>4,233.04</td>\n",
       "      <td>4,233.04</td>\n",
       "      <td>357,543,290</td>\n",
       "    </tr>\n",
       "    <tr>\n",
       "      <th>1</th>\n",
       "      <td>2021-05-06 00:00:00</td>\n",
       "      <td>4,169.14</td>\n",
       "      <td>4,202.70</td>\n",
       "      <td>4,147.33</td>\n",
       "      <td>4,201.62</td>\n",
       "      <td>4,201.62</td>\n",
       "      <td>4,504,860,000</td>\n",
       "    </tr>\n",
       "    <tr>\n",
       "      <th>2</th>\n",
       "      <td>2021-05-05 00:00:00</td>\n",
       "      <td>4,177.06</td>\n",
       "      <td>4,187.72</td>\n",
       "      <td>4,160.94</td>\n",
       "      <td>4,167.59</td>\n",
       "      <td>4,167.59</td>\n",
       "      <td>4,029,050,000</td>\n",
       "    </tr>\n",
       "    <tr>\n",
       "      <th>3</th>\n",
       "      <td>2021-05-04 00:00:00</td>\n",
       "      <td>4,179.04</td>\n",
       "      <td>4,179.04</td>\n",
       "      <td>4,128.59</td>\n",
       "      <td>4,164.66</td>\n",
       "      <td>4,164.66</td>\n",
       "      <td>4,441,080,000</td>\n",
       "    </tr>\n",
       "    <tr>\n",
       "      <th>4</th>\n",
       "      <td>2021-05-03 00:00:00</td>\n",
       "      <td>4,191.98</td>\n",
       "      <td>4,209.39</td>\n",
       "      <td>4,188.03</td>\n",
       "      <td>4,192.66</td>\n",
       "      <td>4,192.66</td>\n",
       "      <td>4,061,170,000</td>\n",
       "    </tr>\n",
       "  </tbody>\n",
       "</table>\n",
       "</div>"
      ],
      "text/plain": [
       "                  Date SP500_Open SP500_High SP500_Low SP500_Close  \\\n",
       "0  2021-05-07 00:00:00   4,210.34   4,233.04  4,201.64    4,233.04   \n",
       "1  2021-05-06 00:00:00   4,169.14   4,202.70  4,147.33    4,201.62   \n",
       "2  2021-05-05 00:00:00   4,177.06   4,187.72  4,160.94    4,167.59   \n",
       "3  2021-05-04 00:00:00   4,179.04   4,179.04  4,128.59    4,164.66   \n",
       "4  2021-05-03 00:00:00   4,191.98   4,209.39  4,188.03    4,192.66   \n",
       "\n",
       "  SP500_Adj_Close   SP500_Volume  \n",
       "0        4,233.04    357,543,290  \n",
       "1        4,201.62  4,504,860,000  \n",
       "2        4,167.59  4,029,050,000  \n",
       "3        4,164.66  4,441,080,000  \n",
       "4        4,192.66  4,061,170,000  "
      ]
     },
     "execution_count": 31,
     "metadata": {},
     "output_type": "execute_result"
    }
   ],
   "source": [
    "connection = sqlite3.connect('MSC.db')\n",
    "cursor = connection.cursor()\n",
    "\n",
    "sql = ('''Select * from SP500\n",
    "       ''')\n",
    "df = pd.read_sql_query(sql,connection)\n",
    "df.head()"
   ]
  },
  {
   "cell_type": "code",
   "execution_count": null,
   "metadata": {},
   "outputs": [],
   "source": []
  }
 ],
 "metadata": {
  "kernelspec": {
   "display_name": "Python 3",
   "language": "python",
   "name": "python3"
  },
  "language_info": {
   "codemirror_mode": {
    "name": "ipython",
    "version": 3
   },
   "file_extension": ".py",
   "mimetype": "text/x-python",
   "name": "python",
   "nbconvert_exporter": "python",
   "pygments_lexer": "ipython3",
   "version": "3.7.4"
  },
  "toc": {
   "base_numbering": 1,
   "nav_menu": {},
   "number_sections": true,
   "sideBar": true,
   "skip_h1_title": false,
   "title_cell": "Table of Contents",
   "title_sidebar": "Contents",
   "toc_cell": false,
   "toc_position": {},
   "toc_section_display": true,
   "toc_window_display": true
  }
 },
 "nbformat": 4,
 "nbformat_minor": 2
}
