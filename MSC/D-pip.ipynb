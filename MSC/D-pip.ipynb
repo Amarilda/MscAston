{
 "cells": [
  {
   "cell_type": "markdown",
   "metadata": {},
   "source": [
    "# Reddit news"
   ]
  },
  {
   "cell_type": "code",
   "execution_count": 2,
   "metadata": {
    "ExecuteTime": {
     "end_time": "2021-05-10T07:57:05.985896Z",
     "start_time": "2021-05-10T07:56:59.465585Z"
    }
   },
   "outputs": [],
   "source": [
    "import pandas as pd\n",
    "import sqlite3"
   ]
  },
  {
   "cell_type": "code",
   "execution_count": 22,
   "metadata": {
    "ExecuteTime": {
     "end_time": "2021-05-10T08:01:45.217910Z",
     "start_time": "2021-05-10T08:01:45.209306Z"
    }
   },
   "outputs": [
    {
     "data": {
      "text/plain": [
       "'!\"#$%&\\'()*+,-./:;<=>?@[\\\\]^_`{|}~'"
      ]
     },
     "execution_count": 22,
     "metadata": {},
     "output_type": "execute_result"
    }
   ],
   "source": [
    "import string\n",
    "string.punctuation"
   ]
  },
  {
   "cell_type": "code",
   "execution_count": null,
   "metadata": {
    "ExecuteTime": {
     "end_time": "2021-05-09T08:43:02.260096Z",
     "start_time": "2021-05-09T08:43:02.252874Z"
    }
   },
   "outputs": [],
   "source": [
    "kolonas = ['date']+['top'+str(i) for i in range(1,31)]\n",
    "print(kolonas)"
   ]
  },
  {
   "cell_type": "code",
   "execution_count": null,
   "metadata": {
    "ExecuteTime": {
     "end_time": "2021-05-07T11:00:18.813978Z",
     "start_time": "2021-05-07T11:00:18.805593Z"
    }
   },
   "outputs": [],
   "source": [
    "df = pd.DataFrame(columns = kolonas)"
   ]
  },
  {
   "cell_type": "code",
   "execution_count": null,
   "metadata": {
    "ExecuteTime": {
     "end_time": "2021-05-09T08:58:23.071091Z",
     "start_time": "2021-05-09T08:58:23.064557Z"
    }
   },
   "outputs": [],
   "source": [
    "connection = sqlite3.connect('MSC.db')\n",
    "cursor = connection.cursor()"
   ]
  },
  {
   "cell_type": "code",
   "execution_count": null,
   "metadata": {
    "ExecuteTime": {
     "end_time": "2021-05-07T08:02:17.784572Z",
     "start_time": "2021-05-07T08:02:15.742548Z"
    }
   },
   "outputs": [],
   "source": [
    "sql = (\"Select date(moment) as date, title from top30 where date = '2021-05-05'\")\n",
    "z = pd.read_sql_query(sql,connection)"
   ]
  },
  {
   "cell_type": "code",
   "execution_count": null,
   "metadata": {
    "ExecuteTime": {
     "end_time": "2021-05-07T08:02:29.929123Z",
     "start_time": "2021-05-07T08:02:29.336372Z"
    }
   },
   "outputs": [],
   "source": [
    "for d in z.date.unique():\n",
    "    atbilde =[]\n",
    "    atbilde.append(d)\n",
    "    #print(atbilde)\n",
    "    for title in z.title[z.date == d]:\n",
    "        atbilde.append(title)\n",
    "        \n",
    "    df.loc[len(df)] = atbilde"
   ]
  },
  {
   "cell_type": "code",
   "execution_count": null,
   "metadata": {
    "ExecuteTime": {
     "end_time": "2021-05-07T08:07:10.091859Z",
     "start_time": "2021-05-07T08:07:09.700192Z"
    }
   },
   "outputs": [],
   "source": [
    "df.to_sql('main', connection, if_exists='append',index=False)"
   ]
  },
  {
   "cell_type": "code",
   "execution_count": null,
   "metadata": {
    "ExecuteTime": {
     "end_time": "2021-05-07T11:00:24.792128Z",
     "start_time": "2021-05-07T11:00:24.773207Z"
    }
   },
   "outputs": [],
   "source": [
    "atbilde = []\n",
    "atbilde.append(z.date[0])\n",
    "#print(atbilde)\n",
    "\n",
    "for title in z.title:\n",
    "    atbilde.append(title)\n",
    "        \n",
    "print(atbilde)\n",
    "df.loc[len(df)] = atbilde"
   ]
  },
  {
   "cell_type": "markdown",
   "metadata": {
    "ExecuteTime": {
     "end_time": "2021-05-04T14:08:12.465116Z",
     "start_time": "2021-05-04T14:08:12.349472Z"
    },
    "heading_collapsed": true
   },
   "source": [
    "# delete"
   ]
  },
  {
   "cell_type": "markdown",
   "metadata": {
    "hidden": true
   },
   "source": [
    "connection = sqlite3.connect('MSC.db')\n",
    "cursor = connection.cursor()\n",
    "sql = (\"DELETE from top30 where moment  between '2021-03-30 11:17:11.915369' and '2021-03-30 11:18:48.647641'\")\n",
    "cursor.execute(sql)\n",
    "connection.commit()"
   ]
  },
  {
   "cell_type": "markdown",
   "metadata": {
    "ExecuteTime": {
     "end_time": "2021-05-04T14:27:17.429930Z",
     "start_time": "2021-05-04T14:27:17.426349Z"
    }
   },
   "source": [
    "# Yahoo finance"
   ]
  },
  {
   "cell_type": "code",
   "execution_count": 1,
   "metadata": {
    "ExecuteTime": {
     "end_time": "2021-05-10T07:56:56.826784Z",
     "start_time": "2021-05-10T07:56:55.281696Z"
    }
   },
   "outputs": [],
   "source": [
    "from bs4 import BeautifulSoup\n",
    "import requests\n",
    "import re"
   ]
  },
  {
   "cell_type": "code",
   "execution_count": null,
   "metadata": {
    "ExecuteTime": {
     "end_time": "2021-05-07T14:13:08.973697Z",
     "start_time": "2021-05-07T14:13:08.947541Z"
    }
   },
   "outputs": [],
   "source": [
    "df = pd.DataFrame(columns = ['date','SP500_Open', 'SP500_High', 'SP500_Low', 'SP500_Close', 'SP500_Adj_Close', 'SP500_Volume'])\n",
    "df"
   ]
  },
  {
   "cell_type": "code",
   "execution_count": null,
   "metadata": {
    "ExecuteTime": {
     "end_time": "2021-05-07T14:13:10.535669Z",
     "start_time": "2021-05-07T14:13:10.526983Z"
    }
   },
   "outputs": [],
   "source": [
    "str([str('SP500_')+i for i in df.columns])"
   ]
  },
  {
   "cell_type": "markdown",
   "metadata": {},
   "source": [
    "## S&P 500 (^GSPC)\n",
    "SNP - SNP Real Time Price. Currency in USD"
   ]
  },
  {
   "cell_type": "code",
   "execution_count": 3,
   "metadata": {
    "ExecuteTime": {
     "end_time": "2021-05-10T07:57:06.014024Z",
     "start_time": "2021-05-10T07:57:05.990210Z"
    }
   },
   "outputs": [],
   "source": [
    "url = \"https://finance.yahoo.com/quote/%5EGSPC/history?p=%5EGSPC\""
   ]
  },
  {
   "cell_type": "code",
   "execution_count": 4,
   "metadata": {
    "ExecuteTime": {
     "end_time": "2021-05-10T07:57:09.709482Z",
     "start_time": "2021-05-10T07:57:08.810741Z"
    }
   },
   "outputs": [],
   "source": [
    "r = requests.get(url)\n",
    "data = r.text\n",
    "soup = BeautifulSoup(data)"
   ]
  },
  {
   "cell_type": "code",
   "execution_count": 5,
   "metadata": {
    "ExecuteTime": {
     "end_time": "2021-05-10T07:57:14.653762Z",
     "start_time": "2021-05-10T07:57:14.638684Z"
    }
   },
   "outputs": [
    {
     "name": "stdout",
     "output_type": "stream",
     "text": [
      "May 07, 2021\n",
      "4,210.34\n",
      "4,238.04\n",
      "4,201.64\n",
      "4,232.60\n",
      "4,232.60\n",
      "4,013,060,000\n"
     ]
    }
   ],
   "source": [
    "answer = []\n",
    "for i in soup.find_all('td')[0:7]:\n",
    "    #print(i.span)\n",
    "    print(i.span.text)\n",
    "    answer.append(i.span.text)\n",
    "    #print(len(answer)    "
   ]
  },
  {
   "cell_type": "markdown",
   "metadata": {
    "ExecuteTime": {
     "end_time": "2021-05-07T14:13:17.725039Z",
     "start_time": "2021-05-07T14:13:17.182645Z"
    }
   },
   "source": [
    "for i in range(0, int(len(answer))//7):\n",
    "    atbilde = []\n",
    "    #print(i)\n",
    "    for j in range (0,7):\n",
    "        if j == 0:\n",
    "            atbilde.append(pd.to_datetime(answer[i*7+j], infer_datetime_format=True))\n",
    "        else:\n",
    "            atbilde.append(answer[i*7+j])\n",
    "    df.loc[len(df)] = atbilde"
   ]
  },
  {
   "cell_type": "code",
   "execution_count": 63,
   "metadata": {
    "ExecuteTime": {
     "end_time": "2021-05-10T08:17:48.805872Z",
     "start_time": "2021-05-10T08:17:48.775274Z"
    }
   },
   "outputs": [
    {
     "name": "stdout",
     "output_type": "stream",
     "text": [
      "Lets get scraping\n"
     ]
    },
    {
     "data": {
      "text/plain": [
       "['2021-05-07 00:00:00',\n",
       " '4,210.34',\n",
       " '4,238.04',\n",
       " '4,201.64',\n",
       " '4,232.60',\n",
       " '4,232.60',\n",
       " '4,013,060,000']"
      ]
     },
     "execution_count": 63,
     "metadata": {},
     "output_type": "execute_result"
    }
   ],
   "source": [
    "if str(pd.to_datetime(soup.find_all('td')[0].text, infer_datetime_format=True)) == '2021-05-06 00:00:00':\n",
    "    print('Stop. This data point is already in the data base')\n",
    "else:\n",
    "    print('Lets get scraping')\n",
    "    answer = []\n",
    "    answer.append(str(pd.to_datetime(soup.find_all('td')[0].text, infer_datetime_format=True)))\n",
    "    \n",
    "    #for i in soup.find_all('td')[1:7]:\n",
    "        #answer.append(i.span.text)\n",
    "    answer = answer + [i.span.text for i in soup.find_all('td')[1:7]]\n",
    "        \n",
    "answer"
   ]
  },
  {
   "cell_type": "code",
   "execution_count": 54,
   "metadata": {
    "ExecuteTime": {
     "end_time": "2021-05-10T08:10:35.524461Z",
     "start_time": "2021-05-10T08:10:35.513295Z"
    }
   },
   "outputs": [
    {
     "data": {
      "text/plain": [
       "True"
      ]
     },
     "execution_count": 54,
     "metadata": {},
     "output_type": "execute_result"
    }
   ],
   "source": [
    "str(pd.to_datetime(soup.find_all('td')[0].text, infer_datetime_format=True)) == '2021-05-07 00:00:00'"
   ]
  },
  {
   "cell_type": "code",
   "execution_count": 7,
   "metadata": {
    "ExecuteTime": {
     "end_time": "2021-05-10T07:57:53.762469Z",
     "start_time": "2021-05-10T07:57:53.754732Z"
    }
   },
   "outputs": [
    {
     "data": {
      "text/plain": [
       "['May 07, 2021',\n",
       " '4,210.34',\n",
       " '4,238.04',\n",
       " '4,201.64',\n",
       " '4,232.60',\n",
       " '4,232.60',\n",
       " '4,013,060,000']"
      ]
     },
     "execution_count": 7,
     "metadata": {},
     "output_type": "execute_result"
    }
   ],
   "source": [
    "answer"
   ]
  },
  {
   "cell_type": "code",
   "execution_count": null,
   "metadata": {
    "ExecuteTime": {
     "end_time": "2021-05-10T06:57:34.875704Z",
     "start_time": "2021-05-10T06:57:34.859281Z"
    }
   },
   "outputs": [],
   "source": [
    "connection = sqlite3.connect('MSC.db')\n",
    "cursor = connection.cursor()\n",
    "sql = (\"Select max(date) as date from SP500\")\n",
    "z = pd.read_sql_query(sql,connection)\n",
    "\n",
    "yahoo = str(pd.to_datetime(answer[0], infer_datetime_format=True))\n",
    "db = z.date\n",
    "\n",
    "print(yahoo == db)\n",
    "    #print('Not yet')"
   ]
  },
  {
   "cell_type": "code",
   "execution_count": null,
   "metadata": {
    "ExecuteTime": {
     "end_time": "2021-05-10T06:52:59.649135Z",
     "start_time": "2021-05-10T06:52:59.640747Z"
    }
   },
   "outputs": [],
   "source": [
    "answer = []\n",
    "for i in soup.find_all('td')[0:7]:\n",
    "    print(i.span.text)\n",
    "    answer.append(i.span.text)"
   ]
  },
  {
   "cell_type": "code",
   "execution_count": null,
   "metadata": {
    "ExecuteTime": {
     "end_time": "2021-05-07T14:13:22.084338Z",
     "start_time": "2021-05-07T14:13:22.071026Z"
    }
   },
   "outputs": [],
   "source": [
    "df.to_sql('SP500', connection, if_exists='append',index=False)"
   ]
  },
  {
   "cell_type": "markdown",
   "metadata": {},
   "source": [
    "## Dow Jones Industrial Average (^DJI)\n",
    "DJI - DJI Real Time Price. Currency in USD"
   ]
  },
  {
   "cell_type": "code",
   "execution_count": null,
   "metadata": {
    "ExecuteTime": {
     "end_time": "2021-05-07T14:11:30.683698Z",
     "start_time": "2021-05-07T14:11:30.680697Z"
    }
   },
   "outputs": [],
   "source": [
    "url = \"https://finance.yahoo.com/quote/%5EDJI/history?p=%5EDJI\""
   ]
  },
  {
   "cell_type": "code",
   "execution_count": null,
   "metadata": {
    "ExecuteTime": {
     "end_time": "2021-05-07T14:11:30.743504Z",
     "start_time": "2021-05-07T14:11:30.687962Z"
    }
   },
   "outputs": [],
   "source": [
    "df = pd.DataFrame(columns = ['date', 'DJI_Open', 'DJI_High', 'DJI_Low', 'DJI_Close', 'DJI_Adj_Close', 'DJI_Volume'])\n",
    "df"
   ]
  },
  {
   "cell_type": "code",
   "execution_count": null,
   "metadata": {
    "ExecuteTime": {
     "end_time": "2021-05-07T14:07:09.567434Z",
     "start_time": "2021-05-07T14:07:09.561932Z"
    }
   },
   "outputs": [],
   "source": [
    "columns_new = [str('DJI_')+i for i in df.columns]"
   ]
  },
  {
   "cell_type": "code",
   "execution_count": null,
   "metadata": {
    "ExecuteTime": {
     "end_time": "2021-05-07T14:11:38.068833Z",
     "start_time": "2021-05-07T14:11:37.171734Z"
    }
   },
   "outputs": [],
   "source": [
    "r = requests.get(url)\n",
    "data = r.text\n",
    "soup = BeautifulSoup(data)"
   ]
  },
  {
   "cell_type": "code",
   "execution_count": null,
   "metadata": {
    "ExecuteTime": {
     "end_time": "2021-05-07T14:11:38.407441Z",
     "start_time": "2021-05-07T14:11:38.383103Z"
    }
   },
   "outputs": [],
   "source": [
    "answer = []\n",
    "for i in soup.find_all('td'):\n",
    "    #print(i.span)\n",
    "    #print(i.span.text)\n",
    "    answer.append(i.span.text)\n",
    "    #print(len(answer)  "
   ]
  },
  {
   "cell_type": "code",
   "execution_count": null,
   "metadata": {
    "ExecuteTime": {
     "end_time": "2021-05-07T14:11:42.764407Z",
     "start_time": "2021-05-07T14:11:42.211538Z"
    }
   },
   "outputs": [],
   "source": [
    "for i in range(0, int(len(answer))//7):\n",
    "    atbilde = []\n",
    "    #print(i)\n",
    "    for j in range (0,7):\n",
    "        if j == 0:\n",
    "            atbilde.append(pd.to_datetime(answer[i*7+j], infer_datetime_format=True))\n",
    "        else:\n",
    "            atbilde.append(answer[i*7+j])\n",
    "    df.loc[len(df)] = atbilde"
   ]
  },
  {
   "cell_type": "code",
   "execution_count": null,
   "metadata": {
    "ExecuteTime": {
     "end_time": "2021-05-07T14:11:43.812893Z",
     "start_time": "2021-05-07T14:11:43.789250Z"
    }
   },
   "outputs": [],
   "source": [
    "df"
   ]
  },
  {
   "cell_type": "code",
   "execution_count": null,
   "metadata": {
    "ExecuteTime": {
     "end_time": "2021-05-07T14:11:47.376694Z",
     "start_time": "2021-05-07T14:11:47.363620Z"
    }
   },
   "outputs": [],
   "source": [
    "df.to_sql('DJI', connection, if_exists='append',index=False)"
   ]
  },
  {
   "cell_type": "markdown",
   "metadata": {},
   "source": [
    "# Merge"
   ]
  },
  {
   "cell_type": "code",
   "execution_count": null,
   "metadata": {
    "ExecuteTime": {
     "end_time": "2021-05-10T06:27:34.898005Z",
     "start_time": "2021-05-10T06:27:34.791755Z"
    }
   },
   "outputs": [],
   "source": [
    "connection = sqlite3.connect('MSC.db')\n",
    "cursor = connection.cursor()\n",
    "\n",
    "sql = ('''Select \n",
    "            main.date,\n",
    "            top1,top2,top3,top4,top5,\n",
    "            top6,top7,top8,top9,top10,\n",
    "            top11,top12,top13,top14,top15,\n",
    "            top16,top17,top18,top19,top20,\n",
    "            top21,top22,top23,top24,top25,\n",
    "            top26,top27,top28,top29,top30,\n",
    "            \n",
    "            DJI_Open,\n",
    "            DJI_High,\n",
    "            DJI_Low,\n",
    "            DJI_Close,\n",
    "            DJI_Adj_Close,\n",
    "            \n",
    "            SP500_Open,\n",
    "            SP500_High,\n",
    "            SP500_Low,\n",
    "            SP500_Close,\n",
    "            SP500_Adj_Close\n",
    "\n",
    "            from main\n",
    "            left join DJI on\n",
    "            main.date = date(DJI.Date)\n",
    "            left join SP500 on\n",
    "            main.date = date(SP500.Date)\n",
    "\n",
    "       ''')\n",
    "z = pd.read_sql_query(sql,connection)\n",
    "z"
   ]
  },
  {
   "cell_type": "code",
   "execution_count": null,
   "metadata": {
    "ExecuteTime": {
     "end_time": "2021-05-09T09:04:07.225510Z",
     "start_time": "2021-05-09T09:04:07.140561Z"
    }
   },
   "outputs": [],
   "source": [
    "z.isnull().sum()"
   ]
  },
  {
   "cell_type": "code",
   "execution_count": null,
   "metadata": {},
   "outputs": [],
   "source": [
    "from sklearn.model_selection import cross_val_score\n",
    "from sklearn.feature_selection import VarianceThreshold\n",
    "from sklearn.preprocessing import StandardScaler\n",
    "from nltk.sentiment.vader import SentimentIntensityAnalyzer\n",
    "from textblob import TextBlob"
   ]
  }
 ],
 "metadata": {
  "kernelspec": {
   "display_name": "Python 3",
   "language": "python",
   "name": "python3"
  },
  "language_info": {
   "codemirror_mode": {
    "name": "ipython",
    "version": 3
   },
   "file_extension": ".py",
   "mimetype": "text/x-python",
   "name": "python",
   "nbconvert_exporter": "python",
   "pygments_lexer": "ipython3",
   "version": "3.7.4"
  },
  "toc": {
   "base_numbering": 1,
   "nav_menu": {},
   "number_sections": true,
   "sideBar": true,
   "skip_h1_title": false,
   "title_cell": "Table of Contents",
   "title_sidebar": "Contents",
   "toc_cell": false,
   "toc_position": {},
   "toc_section_display": true,
   "toc_window_display": true
  }
 },
 "nbformat": 4,
 "nbformat_minor": 2
}
