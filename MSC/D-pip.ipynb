{
 "cells": [
  {
   "cell_type": "markdown",
   "metadata": {},
   "source": [
    "# Reddit news"
   ]
  },
  {
   "cell_type": "code",
   "execution_count": 1,
   "metadata": {
    "ExecuteTime": {
     "end_time": "2021-05-09T08:56:36.215465Z",
     "start_time": "2021-05-09T08:56:35.673851Z"
    }
   },
   "outputs": [],
   "source": [
    "import pandas as pd\n",
    "import sqlite3"
   ]
  },
  {
   "cell_type": "code",
   "execution_count": null,
   "metadata": {
    "ExecuteTime": {
     "end_time": "2021-05-07T07:59:07.385635Z",
     "start_time": "2021-05-07T07:59:07.330406Z"
    }
   },
   "outputs": [],
   "source": [
    "import string\n",
    "string.punctuation"
   ]
  },
  {
   "cell_type": "code",
   "execution_count": null,
   "metadata": {
    "ExecuteTime": {
     "end_time": "2021-05-09T08:43:02.260096Z",
     "start_time": "2021-05-09T08:43:02.252874Z"
    }
   },
   "outputs": [],
   "source": [
    "kolonas = ['date']+['top'+str(i) for i in range(1,31)]\n",
    "print(kolonas)"
   ]
  },
  {
   "cell_type": "code",
   "execution_count": null,
   "metadata": {
    "ExecuteTime": {
     "end_time": "2021-05-07T11:00:18.813978Z",
     "start_time": "2021-05-07T11:00:18.805593Z"
    }
   },
   "outputs": [],
   "source": [
    "df = pd.DataFrame(columns = kolonas)"
   ]
  },
  {
   "cell_type": "code",
   "execution_count": 4,
   "metadata": {
    "ExecuteTime": {
     "end_time": "2021-05-09T08:58:23.071091Z",
     "start_time": "2021-05-09T08:58:23.064557Z"
    }
   },
   "outputs": [],
   "source": [
    "connection = sqlite3.connect('MSC.db')\n",
    "cursor = connection.cursor()"
   ]
  },
  {
   "cell_type": "code",
   "execution_count": null,
   "metadata": {
    "ExecuteTime": {
     "end_time": "2021-05-07T08:02:17.784572Z",
     "start_time": "2021-05-07T08:02:15.742548Z"
    }
   },
   "outputs": [],
   "source": [
    "sql = (\"Select date(moment) as date, title from top30 where date = '2021-05-05'\")\n",
    "z = pd.read_sql_query(sql,connection)"
   ]
  },
  {
   "cell_type": "code",
   "execution_count": null,
   "metadata": {
    "ExecuteTime": {
     "end_time": "2021-05-07T08:02:29.929123Z",
     "start_time": "2021-05-07T08:02:29.336372Z"
    }
   },
   "outputs": [],
   "source": [
    "for d in z.date.unique():\n",
    "    atbilde =[]\n",
    "    atbilde.append(d)\n",
    "    #print(atbilde)\n",
    "    for title in z.title[z.date == d]:\n",
    "        atbilde.append(title)\n",
    "        \n",
    "    df.loc[len(df)] = atbilde"
   ]
  },
  {
   "cell_type": "code",
   "execution_count": null,
   "metadata": {
    "ExecuteTime": {
     "end_time": "2021-05-07T08:07:10.091859Z",
     "start_time": "2021-05-07T08:07:09.700192Z"
    }
   },
   "outputs": [],
   "source": [
    "df.to_sql('main', connection, if_exists='append',index=False)"
   ]
  },
  {
   "cell_type": "code",
   "execution_count": null,
   "metadata": {
    "ExecuteTime": {
     "end_time": "2021-05-07T11:00:24.792128Z",
     "start_time": "2021-05-07T11:00:24.773207Z"
    }
   },
   "outputs": [],
   "source": [
    "atbilde = []\n",
    "atbilde.append(z.date[0])\n",
    "#print(atbilde)\n",
    "\n",
    "for title in z.title:\n",
    "    atbilde.append(title)\n",
    "        \n",
    "print(atbilde)\n",
    "df.loc[len(df)] = atbilde"
   ]
  },
  {
   "cell_type": "markdown",
   "metadata": {
    "ExecuteTime": {
     "end_time": "2021-05-04T14:08:12.465116Z",
     "start_time": "2021-05-04T14:08:12.349472Z"
    },
    "heading_collapsed": true
   },
   "source": [
    "# delete"
   ]
  },
  {
   "cell_type": "markdown",
   "metadata": {
    "hidden": true
   },
   "source": [
    "connection = sqlite3.connect('MSC.db')\n",
    "cursor = connection.cursor()\n",
    "sql = (\"DELETE from top30 where moment  between '2021-03-30 11:17:11.915369' and '2021-03-30 11:18:48.647641'\")\n",
    "cursor.execute(sql)\n",
    "connection.commit()"
   ]
  },
  {
   "cell_type": "markdown",
   "metadata": {
    "ExecuteTime": {
     "end_time": "2021-05-04T14:27:17.429930Z",
     "start_time": "2021-05-04T14:27:17.426349Z"
    },
    "heading_collapsed": true
   },
   "source": [
    "# Yahoo finance"
   ]
  },
  {
   "cell_type": "code",
   "execution_count": null,
   "metadata": {
    "ExecuteTime": {
     "end_time": "2021-05-07T14:12:00.869484Z",
     "start_time": "2021-05-07T14:12:00.863628Z"
    },
    "hidden": true
   },
   "outputs": [],
   "source": [
    "from bs4 import BeautifulSoup\n",
    "import requests\n",
    "import re"
   ]
  },
  {
   "cell_type": "code",
   "execution_count": null,
   "metadata": {
    "ExecuteTime": {
     "end_time": "2021-05-07T14:13:08.973697Z",
     "start_time": "2021-05-07T14:13:08.947541Z"
    },
    "hidden": true
   },
   "outputs": [],
   "source": [
    "df = pd.DataFrame(columns = ['Date','SP500_Open', 'SP500_High', 'SP500_Low', 'SP500_Close', 'SP500_Adj_Close', 'SP500_Volume'])\n",
    "df"
   ]
  },
  {
   "cell_type": "code",
   "execution_count": null,
   "metadata": {
    "ExecuteTime": {
     "end_time": "2021-05-07T14:13:10.535669Z",
     "start_time": "2021-05-07T14:13:10.526983Z"
    },
    "hidden": true
   },
   "outputs": [],
   "source": [
    "str([str('SP500_')+i for i in df.columns])"
   ]
  },
  {
   "cell_type": "markdown",
   "metadata": {
    "hidden": true
   },
   "source": [
    "## S&P 500 (^GSPC)\n",
    "SNP - SNP Real Time Price. Currency in USD"
   ]
  },
  {
   "cell_type": "code",
   "execution_count": null,
   "metadata": {
    "ExecuteTime": {
     "end_time": "2021-05-07T14:13:13.108308Z",
     "start_time": "2021-05-07T14:13:13.103347Z"
    },
    "hidden": true
   },
   "outputs": [],
   "source": [
    "url = \"https://finance.yahoo.com/quote/%5EGSPC/history?p=%5EGSPC\""
   ]
  },
  {
   "cell_type": "code",
   "execution_count": null,
   "metadata": {
    "ExecuteTime": {
     "end_time": "2021-05-07T14:13:14.958302Z",
     "start_time": "2021-05-07T14:13:13.790229Z"
    },
    "hidden": true
   },
   "outputs": [],
   "source": [
    "r = requests.get(url)\n",
    "data = r.text\n",
    "soup = BeautifulSoup(data)"
   ]
  },
  {
   "cell_type": "code",
   "execution_count": null,
   "metadata": {
    "ExecuteTime": {
     "end_time": "2021-05-07T14:13:14.990474Z",
     "start_time": "2021-05-07T14:13:14.961726Z"
    },
    "hidden": true
   },
   "outputs": [],
   "source": [
    "answer = []\n",
    "for i in soup.find_all('td'):\n",
    "    #print(i.span)\n",
    "    #print(i.span.text)\n",
    "    answer.append(i.span.text)\n",
    "    #print(len(answer)    "
   ]
  },
  {
   "cell_type": "code",
   "execution_count": null,
   "metadata": {
    "ExecuteTime": {
     "end_time": "2021-05-07T14:13:17.725039Z",
     "start_time": "2021-05-07T14:13:17.182645Z"
    },
    "hidden": true
   },
   "outputs": [],
   "source": [
    "for i in range(0, int(len(answer))//7):\n",
    "    atbilde = []\n",
    "    #print(i)\n",
    "    for j in range (0,7):\n",
    "        if j == 0:\n",
    "            atbilde.append(pd.to_datetime(answer[i*7+j], infer_datetime_format=True))\n",
    "        else:\n",
    "            atbilde.append(answer[i*7+j])\n",
    "    df.loc[len(df)] = atbilde"
   ]
  },
  {
   "cell_type": "code",
   "execution_count": null,
   "metadata": {
    "ExecuteTime": {
     "end_time": "2021-05-07T14:13:22.084338Z",
     "start_time": "2021-05-07T14:13:22.071026Z"
    },
    "hidden": true
   },
   "outputs": [],
   "source": [
    "df.to_sql('SP500', connection, if_exists='append',index=False)"
   ]
  },
  {
   "cell_type": "markdown",
   "metadata": {
    "hidden": true
   },
   "source": [
    "## Dow Jones Industrial Average (^DJI)\n",
    "DJI - DJI Real Time Price. Currency in USD"
   ]
  },
  {
   "cell_type": "code",
   "execution_count": null,
   "metadata": {
    "ExecuteTime": {
     "end_time": "2021-05-07T14:11:30.683698Z",
     "start_time": "2021-05-07T14:11:30.680697Z"
    },
    "hidden": true
   },
   "outputs": [],
   "source": [
    "url = \"https://finance.yahoo.com/quote/%5EDJI/history?p=%5EDJI\""
   ]
  },
  {
   "cell_type": "code",
   "execution_count": null,
   "metadata": {
    "ExecuteTime": {
     "end_time": "2021-05-07T14:11:30.743504Z",
     "start_time": "2021-05-07T14:11:30.687962Z"
    },
    "hidden": true
   },
   "outputs": [],
   "source": [
    "df = pd.DataFrame(columns = ['date', 'DJI_Open', 'DJI_High', 'DJI_Low', 'DJI_Close', 'DJI_Adj_Close', 'DJI_Volume'])\n",
    "df"
   ]
  },
  {
   "cell_type": "code",
   "execution_count": null,
   "metadata": {
    "ExecuteTime": {
     "end_time": "2021-05-07T14:07:09.567434Z",
     "start_time": "2021-05-07T14:07:09.561932Z"
    },
    "hidden": true
   },
   "outputs": [],
   "source": [
    "columns_new = [str('DJI_')+i for i in df.columns]"
   ]
  },
  {
   "cell_type": "code",
   "execution_count": null,
   "metadata": {
    "ExecuteTime": {
     "end_time": "2021-05-07T14:11:38.068833Z",
     "start_time": "2021-05-07T14:11:37.171734Z"
    },
    "hidden": true
   },
   "outputs": [],
   "source": [
    "r = requests.get(url)\n",
    "data = r.text\n",
    "soup = BeautifulSoup(data)"
   ]
  },
  {
   "cell_type": "code",
   "execution_count": null,
   "metadata": {
    "ExecuteTime": {
     "end_time": "2021-05-07T14:11:38.407441Z",
     "start_time": "2021-05-07T14:11:38.383103Z"
    },
    "hidden": true
   },
   "outputs": [],
   "source": [
    "answer = []\n",
    "for i in soup.find_all('td'):\n",
    "    #print(i.span)\n",
    "    #print(i.span.text)\n",
    "    answer.append(i.span.text)\n",
    "    #print(len(answer)  "
   ]
  },
  {
   "cell_type": "code",
   "execution_count": null,
   "metadata": {
    "ExecuteTime": {
     "end_time": "2021-05-07T14:11:42.764407Z",
     "start_time": "2021-05-07T14:11:42.211538Z"
    },
    "hidden": true
   },
   "outputs": [],
   "source": [
    "for i in range(0, int(len(answer))//7):\n",
    "    atbilde = []\n",
    "    #print(i)\n",
    "    for j in range (0,7):\n",
    "        if j == 0:\n",
    "            atbilde.append(pd.to_datetime(answer[i*7+j], infer_datetime_format=True))\n",
    "        else:\n",
    "            atbilde.append(answer[i*7+j])\n",
    "    df.loc[len(df)] = atbilde"
   ]
  },
  {
   "cell_type": "code",
   "execution_count": null,
   "metadata": {
    "ExecuteTime": {
     "end_time": "2021-05-07T14:11:43.812893Z",
     "start_time": "2021-05-07T14:11:43.789250Z"
    },
    "hidden": true
   },
   "outputs": [],
   "source": [
    "df"
   ]
  },
  {
   "cell_type": "code",
   "execution_count": null,
   "metadata": {
    "ExecuteTime": {
     "end_time": "2021-05-07T14:11:47.376694Z",
     "start_time": "2021-05-07T14:11:47.363620Z"
    },
    "hidden": true
   },
   "outputs": [],
   "source": [
    "df.to_sql('DJI', connection, if_exists='append',index=False)"
   ]
  },
  {
   "cell_type": "markdown",
   "metadata": {},
   "source": [
    "# Merge"
   ]
  },
  {
   "cell_type": "code",
   "execution_count": 10,
   "metadata": {
    "ExecuteTime": {
     "end_time": "2021-05-09T08:59:52.214282Z",
     "start_time": "2021-05-09T08:59:52.066588Z"
    }
   },
   "outputs": [
    {
     "data": {
      "text/html": [
       "<div>\n",
       "<style scoped>\n",
       "    .dataframe tbody tr th:only-of-type {\n",
       "        vertical-align: middle;\n",
       "    }\n",
       "\n",
       "    .dataframe tbody tr th {\n",
       "        vertical-align: top;\n",
       "    }\n",
       "\n",
       "    .dataframe thead th {\n",
       "        text-align: right;\n",
       "    }\n",
       "</style>\n",
       "<table border=\"1\" class=\"dataframe\">\n",
       "  <thead>\n",
       "    <tr style=\"text-align: right;\">\n",
       "      <th></th>\n",
       "      <th>date</th>\n",
       "      <th>top1</th>\n",
       "      <th>top2</th>\n",
       "      <th>top3</th>\n",
       "      <th>top4</th>\n",
       "      <th>top5</th>\n",
       "      <th>top6</th>\n",
       "      <th>top7</th>\n",
       "      <th>top8</th>\n",
       "      <th>top9</th>\n",
       "      <th>...</th>\n",
       "      <th>DJI_Open</th>\n",
       "      <th>DJI_High</th>\n",
       "      <th>DJI_Low</th>\n",
       "      <th>DJI_Close</th>\n",
       "      <th>DJI_Adj_Close</th>\n",
       "      <th>SP500_Open</th>\n",
       "      <th>SP500_High</th>\n",
       "      <th>SP500_Low</th>\n",
       "      <th>SP500_Close</th>\n",
       "      <th>SP500_Adj_Close</th>\n",
       "    </tr>\n",
       "  </thead>\n",
       "  <tbody>\n",
       "    <tr>\n",
       "      <th>0</th>\n",
       "      <td>2021-03-09</td>\n",
       "      <td>China breaching every act in genocide conventi...</td>\n",
       "      <td>Around 1,000 women gather in Istanbul to prote...</td>\n",
       "      <td>Greta Thunberg says Biden isn’t doing ‘nearly ...</td>\n",
       "      <td>Humans have 'destroyed or degraded' two-thirds...</td>\n",
       "      <td>Biden and Europe allies worry Israel is prepar...</td>\n",
       "      <td>Syrian President Assad tests positive for COVI...</td>\n",
       "      <td>Covid-19: 'Certain inevitability' that visitor...</td>\n",
       "      <td>First Nation asks UN expert to probe systemic ...</td>\n",
       "      <td>Brazil Supreme Court judge annuls ex-president...</td>\n",
       "      <td>...</td>\n",
       "      <td>31,892.35</td>\n",
       "      <td>32,150.32</td>\n",
       "      <td>31,822.64</td>\n",
       "      <td>31,832.74</td>\n",
       "      <td>31,832.74</td>\n",
       "      <td>3,851.93</td>\n",
       "      <td>3,903.76</td>\n",
       "      <td>3,851.93</td>\n",
       "      <td>3,875.44</td>\n",
       "      <td>3,875.44</td>\n",
       "    </tr>\n",
       "    <tr>\n",
       "      <th>1</th>\n",
       "      <td>2021-03-10</td>\n",
       "      <td>Scientists Discover Chunk of Protoplanet Older...</td>\n",
       "      <td>'Shoot till they are dead': Some Myanmar polic...</td>\n",
       "      <td>Biden to meet virtually with leaders of Japan,...</td>\n",
       "      <td>Up to 1,000 Christian, Hindu and Sikh girls ar...</td>\n",
       "      <td>Papuan island inhabitants, whose island was of...</td>\n",
       "      <td>China’s appetite for meat fades as vegan revol...</td>\n",
       "      <td>French nuclear tests infected 'almost entire P...</td>\n",
       "      <td>Sex between coaches and teenagers in their car...</td>\n",
       "      <td>'Right to repair' law to come into effect this...</td>\n",
       "      <td>...</td>\n",
       "      <td>31,906.96</td>\n",
       "      <td>32,389.50</td>\n",
       "      <td>31,906.96</td>\n",
       "      <td>32,297.02</td>\n",
       "      <td>32,297.02</td>\n",
       "      <td>3,891.99</td>\n",
       "      <td>3,917.35</td>\n",
       "      <td>3,885.73</td>\n",
       "      <td>3,898.81</td>\n",
       "      <td>3,898.81</td>\n",
       "    </tr>\n",
       "    <tr>\n",
       "      <th>2</th>\n",
       "      <td>2021-03-11</td>\n",
       "      <td>Conspiracy Theorist Who Stormed Trudeau’s Prop...</td>\n",
       "      <td>Biden says he’ll share surplus US vaccines wit...</td>\n",
       "      <td>Mexico Passes Bill to Legalize Cannabis</td>\n",
       "      <td>India now as autocratic as Pakistan, worse tha...</td>\n",
       "      <td>Thousands in India demand top judge resign ove...</td>\n",
       "      <td>Hong Kong: China approves \"patriotic\" plan to ...</td>\n",
       "      <td>Myanmar’s military on ‘killing spree’ against ...</td>\n",
       "      <td>The Pfizer-BioNTech coronavirus vaccine 97% ef...</td>\n",
       "      <td>Myanmar's searing smartphone images flood a wa...</td>\n",
       "      <td>...</td>\n",
       "      <td>32,354.50</td>\n",
       "      <td>32,661.59</td>\n",
       "      <td>32,345.70</td>\n",
       "      <td>32,485.59</td>\n",
       "      <td>32,485.59</td>\n",
       "      <td>3,915.54</td>\n",
       "      <td>3,960.27</td>\n",
       "      <td>3,915.54</td>\n",
       "      <td>3,939.34</td>\n",
       "      <td>3,939.34</td>\n",
       "    </tr>\n",
       "    <tr>\n",
       "      <th>3</th>\n",
       "      <td>2021-03-12</td>\n",
       "      <td>Us secretary of state calls Taiwan \"country\"</td>\n",
       "      <td>Myanmar's military is likely committing \"crime...</td>\n",
       "      <td>Vaccination of Toronto's homeless well underwa...</td>\n",
       "      <td>Novavax vaccine 96% effective against original...</td>\n",
       "      <td>Kremlin critic Navalny moved from jail, wherea...</td>\n",
       "      <td>Global warming leads to fish die off in South ...</td>\n",
       "      <td>12 protesters killed in Myanmar as military de...</td>\n",
       "      <td>Drug clan leader testifies he bribed Honduran ...</td>\n",
       "      <td>Canadian health officials watching probes of A...</td>\n",
       "      <td>...</td>\n",
       "      <td>32,462.40</td>\n",
       "      <td>32,793.32</td>\n",
       "      <td>32,462.40</td>\n",
       "      <td>32,778.64</td>\n",
       "      <td>32,778.64</td>\n",
       "      <td>3,924.52</td>\n",
       "      <td>3,944.99</td>\n",
       "      <td>3,915.21</td>\n",
       "      <td>3,943.34</td>\n",
       "      <td>3,943.34</td>\n",
       "    </tr>\n",
       "    <tr>\n",
       "      <th>4</th>\n",
       "      <td>2021-03-13</td>\n",
       "      <td>Unions call strike at Amazon's logistic operat...</td>\n",
       "      <td>Sri Lanka will ban the wearing of the burqa an...</td>\n",
       "      <td>U.S. Offers Protected Status For People From M...</td>\n",
       "      <td>Japan detects new coronavirus variant from tra...</td>\n",
       "      <td>Odisha Man Creates 25 Acres of Mangrove Forest...</td>\n",
       "      <td>Sarah Everard: Met Police officer charged with...</td>\n",
       "      <td>Myanmar Protest Leader Wants The Military Out ...</td>\n",
       "      <td>Russia detains around 150 people, including le...</td>\n",
       "      <td>'Covid is taking over': Brazil plunges into de...</td>\n",
       "      <td>...</td>\n",
       "      <td>None</td>\n",
       "      <td>None</td>\n",
       "      <td>None</td>\n",
       "      <td>None</td>\n",
       "      <td>None</td>\n",
       "      <td>None</td>\n",
       "      <td>None</td>\n",
       "      <td>None</td>\n",
       "      <td>None</td>\n",
       "      <td>None</td>\n",
       "    </tr>\n",
       "    <tr>\n",
       "      <th>...</th>\n",
       "      <td>...</td>\n",
       "      <td>...</td>\n",
       "      <td>...</td>\n",
       "      <td>...</td>\n",
       "      <td>...</td>\n",
       "      <td>...</td>\n",
       "      <td>...</td>\n",
       "      <td>...</td>\n",
       "      <td>...</td>\n",
       "      <td>...</td>\n",
       "      <td>...</td>\n",
       "      <td>...</td>\n",
       "      <td>...</td>\n",
       "      <td>...</td>\n",
       "      <td>...</td>\n",
       "      <td>...</td>\n",
       "      <td>...</td>\n",
       "      <td>...</td>\n",
       "      <td>...</td>\n",
       "      <td>...</td>\n",
       "      <td>...</td>\n",
       "    </tr>\n",
       "    <tr>\n",
       "      <th>57</th>\n",
       "      <td>2021-05-05</td>\n",
       "      <td>Pandora will no longer sell mined diamonds and...</td>\n",
       "      <td>Police in Colombia open fire on citizens prote...</td>\n",
       "      <td>Amazon had sales income of €44bn in Europe in ...</td>\n",
       "      <td>Germany says antisemitic crimes up 15% in 2020...</td>\n",
       "      <td>Israeli Prime Minister Benjamin Netanyahu fail...</td>\n",
       "      <td>Child marriage 'thriving' in UK and should be ...</td>\n",
       "      <td>Swiss diplomat in Iran found dead after ‘fall ...</td>\n",
       "      <td>New Zealand Parliament unanimously declares 's...</td>\n",
       "      <td>#ModiMustResign: As India's coronavirus crisis...</td>\n",
       "      <td>...</td>\n",
       "      <td>34,163.99</td>\n",
       "      <td>34,331.20</td>\n",
       "      <td>34,039.66</td>\n",
       "      <td>34,230.34</td>\n",
       "      <td>34,230.34</td>\n",
       "      <td>4,177.06</td>\n",
       "      <td>4,187.72</td>\n",
       "      <td>4,160.94</td>\n",
       "      <td>4,167.59</td>\n",
       "      <td>4,167.59</td>\n",
       "    </tr>\n",
       "    <tr>\n",
       "      <th>58</th>\n",
       "      <td>2021-05-06</td>\n",
       "      <td>Black Lives Matter Apparel Banned from Tokyo O...</td>\n",
       "      <td>Honeywell fined US$13 million for sharing mili...</td>\n",
       "      <td>Influencers jailed in Bali for fake mask video...</td>\n",
       "      <td>US seen as bigger threat to democracy than Rus...</td>\n",
       "      <td>Dutch Liberation Day: Merkel says Germany has ...</td>\n",
       "      <td>Giant wood moth so heavy it struggles to fly f...</td>\n",
       "      <td>UK supermarkets threaten to stop sourcing prod...</td>\n",
       "      <td>Ukraine starts closing gap with Russia; real i...</td>\n",
       "      <td>Vaccine tourism: Canadians fly south for shot ...</td>\n",
       "      <td>...</td>\n",
       "      <td>34,245.11</td>\n",
       "      <td>34,561.29</td>\n",
       "      <td>34,185.06</td>\n",
       "      <td>34,548.53</td>\n",
       "      <td>34,548.53</td>\n",
       "      <td>4,169.14</td>\n",
       "      <td>4,202.70</td>\n",
       "      <td>4,147.33</td>\n",
       "      <td>4,201.62</td>\n",
       "      <td>4,201.62</td>\n",
       "    </tr>\n",
       "    <tr>\n",
       "      <th>59</th>\n",
       "      <td>2021-05-07</td>\n",
       "      <td>Putin Looks to Make Equating Stalin, USSR to H...</td>\n",
       "      <td>Latvia officially recognizes Armenian Genocide</td>\n",
       "      <td>China’s greenhouse gas emissions exceed those ...</td>\n",
       "      <td>Bolsonaro faces criminal investigation, possib...</td>\n",
       "      <td>Ukraine’s Former Prosecutor General Said He Wa...</td>\n",
       "      <td>EU top court upholds ban on Bayer pesticides l...</td>\n",
       "      <td>Evidence found of forced sterilisation in Russ...</td>\n",
       "      <td>9,000 Fliers May Have Had Reused Swabs Jammed ...</td>\n",
       "      <td>In major move, South Africa to end captive lio...</td>\n",
       "      <td>...</td>\n",
       "      <td>34,578.27</td>\n",
       "      <td>34,699.98</td>\n",
       "      <td>34,464.31</td>\n",
       "      <td>34,696.24</td>\n",
       "      <td>34,696.24</td>\n",
       "      <td>4,210.34</td>\n",
       "      <td>4,233.04</td>\n",
       "      <td>4,201.64</td>\n",
       "      <td>4,233.04</td>\n",
       "      <td>4,233.04</td>\n",
       "    </tr>\n",
       "    <tr>\n",
       "      <th>60</th>\n",
       "      <td>2021-05-08</td>\n",
       "      <td>Scientists in the Netherlands have taught bees...</td>\n",
       "      <td>A Yemeni model arrested two months ago for \"ch...</td>\n",
       "      <td>80 percent of Pakistan’s pangolins lost to ill...</td>\n",
       "      <td>Afghanistan is being overrun by crystal meth a...</td>\n",
       "      <td>China has urged United Nations member states n...</td>\n",
       "      <td>Bill Gates backed company releases first batch...</td>\n",
       "      <td>Anti-Olympics campaign gains traction online i...</td>\n",
       "      <td>COVID is killing 120 people an hour in India, ...</td>\n",
       "      <td>Sheikh Jarrah Evictions Posts Being Censored b...</td>\n",
       "      <td>...</td>\n",
       "      <td>None</td>\n",
       "      <td>None</td>\n",
       "      <td>None</td>\n",
       "      <td>None</td>\n",
       "      <td>None</td>\n",
       "      <td>None</td>\n",
       "      <td>None</td>\n",
       "      <td>None</td>\n",
       "      <td>None</td>\n",
       "      <td>None</td>\n",
       "    </tr>\n",
       "    <tr>\n",
       "      <th>61</th>\n",
       "      <td>2021-05-09</td>\n",
       "      <td>Dozens of German priests will defy the Vatican...</td>\n",
       "      <td>Evidence of nine Neanderthals found in Italian...</td>\n",
       "      <td>Gay Croatian couple’s five-year legal battle e...</td>\n",
       "      <td>Senior Swiss diplomat in Iran found dead after...</td>\n",
       "      <td>Scottish nationalists vow new independence vot...</td>\n",
       "      <td>Pope Francis backs vaccine patents waiver to e...</td>\n",
       "      <td>Kabul attack: Blast near school leaves at leas...</td>\n",
       "      <td>Covid-sparked fungal infection assuming epidem...</td>\n",
       "      <td>Melting Glaciers Have Exposed Frozen Relics of...</td>\n",
       "      <td>...</td>\n",
       "      <td>None</td>\n",
       "      <td>None</td>\n",
       "      <td>None</td>\n",
       "      <td>None</td>\n",
       "      <td>None</td>\n",
       "      <td>None</td>\n",
       "      <td>None</td>\n",
       "      <td>None</td>\n",
       "      <td>None</td>\n",
       "      <td>None</td>\n",
       "    </tr>\n",
       "  </tbody>\n",
       "</table>\n",
       "<p>62 rows × 41 columns</p>\n",
       "</div>"
      ],
      "text/plain": [
       "          date                                               top1  \\\n",
       "0   2021-03-09  China breaching every act in genocide conventi...   \n",
       "1   2021-03-10  Scientists Discover Chunk of Protoplanet Older...   \n",
       "2   2021-03-11  Conspiracy Theorist Who Stormed Trudeau’s Prop...   \n",
       "3   2021-03-12       Us secretary of state calls Taiwan \"country\"   \n",
       "4   2021-03-13  Unions call strike at Amazon's logistic operat...   \n",
       "..         ...                                                ...   \n",
       "57  2021-05-05  Pandora will no longer sell mined diamonds and...   \n",
       "58  2021-05-06  Black Lives Matter Apparel Banned from Tokyo O...   \n",
       "59  2021-05-07  Putin Looks to Make Equating Stalin, USSR to H...   \n",
       "60  2021-05-08  Scientists in the Netherlands have taught bees...   \n",
       "61  2021-05-09  Dozens of German priests will defy the Vatican...   \n",
       "\n",
       "                                                 top2  \\\n",
       "0   Around 1,000 women gather in Istanbul to prote...   \n",
       "1   'Shoot till they are dead': Some Myanmar polic...   \n",
       "2   Biden says he’ll share surplus US vaccines wit...   \n",
       "3   Myanmar's military is likely committing \"crime...   \n",
       "4   Sri Lanka will ban the wearing of the burqa an...   \n",
       "..                                                ...   \n",
       "57  Police in Colombia open fire on citizens prote...   \n",
       "58  Honeywell fined US$13 million for sharing mili...   \n",
       "59     Latvia officially recognizes Armenian Genocide   \n",
       "60  A Yemeni model arrested two months ago for \"ch...   \n",
       "61  Evidence of nine Neanderthals found in Italian...   \n",
       "\n",
       "                                                 top3  \\\n",
       "0   Greta Thunberg says Biden isn’t doing ‘nearly ...   \n",
       "1   Biden to meet virtually with leaders of Japan,...   \n",
       "2             Mexico Passes Bill to Legalize Cannabis   \n",
       "3   Vaccination of Toronto's homeless well underwa...   \n",
       "4   U.S. Offers Protected Status For People From M...   \n",
       "..                                                ...   \n",
       "57  Amazon had sales income of €44bn in Europe in ...   \n",
       "58  Influencers jailed in Bali for fake mask video...   \n",
       "59  China’s greenhouse gas emissions exceed those ...   \n",
       "60  80 percent of Pakistan’s pangolins lost to ill...   \n",
       "61  Gay Croatian couple’s five-year legal battle e...   \n",
       "\n",
       "                                                 top4  \\\n",
       "0   Humans have 'destroyed or degraded' two-thirds...   \n",
       "1   Up to 1,000 Christian, Hindu and Sikh girls ar...   \n",
       "2   India now as autocratic as Pakistan, worse tha...   \n",
       "3   Novavax vaccine 96% effective against original...   \n",
       "4   Japan detects new coronavirus variant from tra...   \n",
       "..                                                ...   \n",
       "57  Germany says antisemitic crimes up 15% in 2020...   \n",
       "58  US seen as bigger threat to democracy than Rus...   \n",
       "59  Bolsonaro faces criminal investigation, possib...   \n",
       "60  Afghanistan is being overrun by crystal meth a...   \n",
       "61  Senior Swiss diplomat in Iran found dead after...   \n",
       "\n",
       "                                                 top5  \\\n",
       "0   Biden and Europe allies worry Israel is prepar...   \n",
       "1   Papuan island inhabitants, whose island was of...   \n",
       "2   Thousands in India demand top judge resign ove...   \n",
       "3   Kremlin critic Navalny moved from jail, wherea...   \n",
       "4   Odisha Man Creates 25 Acres of Mangrove Forest...   \n",
       "..                                                ...   \n",
       "57  Israeli Prime Minister Benjamin Netanyahu fail...   \n",
       "58  Dutch Liberation Day: Merkel says Germany has ...   \n",
       "59  Ukraine’s Former Prosecutor General Said He Wa...   \n",
       "60  China has urged United Nations member states n...   \n",
       "61  Scottish nationalists vow new independence vot...   \n",
       "\n",
       "                                                 top6  \\\n",
       "0   Syrian President Assad tests positive for COVI...   \n",
       "1   China’s appetite for meat fades as vegan revol...   \n",
       "2   Hong Kong: China approves \"patriotic\" plan to ...   \n",
       "3   Global warming leads to fish die off in South ...   \n",
       "4   Sarah Everard: Met Police officer charged with...   \n",
       "..                                                ...   \n",
       "57  Child marriage 'thriving' in UK and should be ...   \n",
       "58  Giant wood moth so heavy it struggles to fly f...   \n",
       "59  EU top court upholds ban on Bayer pesticides l...   \n",
       "60  Bill Gates backed company releases first batch...   \n",
       "61  Pope Francis backs vaccine patents waiver to e...   \n",
       "\n",
       "                                                 top7  \\\n",
       "0   Covid-19: 'Certain inevitability' that visitor...   \n",
       "1   French nuclear tests infected 'almost entire P...   \n",
       "2   Myanmar’s military on ‘killing spree’ against ...   \n",
       "3   12 protesters killed in Myanmar as military de...   \n",
       "4   Myanmar Protest Leader Wants The Military Out ...   \n",
       "..                                                ...   \n",
       "57  Swiss diplomat in Iran found dead after ‘fall ...   \n",
       "58  UK supermarkets threaten to stop sourcing prod...   \n",
       "59  Evidence found of forced sterilisation in Russ...   \n",
       "60  Anti-Olympics campaign gains traction online i...   \n",
       "61  Kabul attack: Blast near school leaves at leas...   \n",
       "\n",
       "                                                 top8  \\\n",
       "0   First Nation asks UN expert to probe systemic ...   \n",
       "1   Sex between coaches and teenagers in their car...   \n",
       "2   The Pfizer-BioNTech coronavirus vaccine 97% ef...   \n",
       "3   Drug clan leader testifies he bribed Honduran ...   \n",
       "4   Russia detains around 150 people, including le...   \n",
       "..                                                ...   \n",
       "57  New Zealand Parliament unanimously declares 's...   \n",
       "58  Ukraine starts closing gap with Russia; real i...   \n",
       "59  9,000 Fliers May Have Had Reused Swabs Jammed ...   \n",
       "60  COVID is killing 120 people an hour in India, ...   \n",
       "61  Covid-sparked fungal infection assuming epidem...   \n",
       "\n",
       "                                                 top9  ...   DJI_Open  \\\n",
       "0   Brazil Supreme Court judge annuls ex-president...  ...  31,892.35   \n",
       "1   'Right to repair' law to come into effect this...  ...  31,906.96   \n",
       "2   Myanmar's searing smartphone images flood a wa...  ...  32,354.50   \n",
       "3   Canadian health officials watching probes of A...  ...  32,462.40   \n",
       "4   'Covid is taking over': Brazil plunges into de...  ...       None   \n",
       "..                                                ...  ...        ...   \n",
       "57  #ModiMustResign: As India's coronavirus crisis...  ...  34,163.99   \n",
       "58  Vaccine tourism: Canadians fly south for shot ...  ...  34,245.11   \n",
       "59  In major move, South Africa to end captive lio...  ...  34,578.27   \n",
       "60  Sheikh Jarrah Evictions Posts Being Censored b...  ...       None   \n",
       "61  Melting Glaciers Have Exposed Frozen Relics of...  ...       None   \n",
       "\n",
       "     DJI_High    DJI_Low  DJI_Close DJI_Adj_Close SP500_Open SP500_High  \\\n",
       "0   32,150.32  31,822.64  31,832.74     31,832.74   3,851.93   3,903.76   \n",
       "1   32,389.50  31,906.96  32,297.02     32,297.02   3,891.99   3,917.35   \n",
       "2   32,661.59  32,345.70  32,485.59     32,485.59   3,915.54   3,960.27   \n",
       "3   32,793.32  32,462.40  32,778.64     32,778.64   3,924.52   3,944.99   \n",
       "4        None       None       None          None       None       None   \n",
       "..        ...        ...        ...           ...        ...        ...   \n",
       "57  34,331.20  34,039.66  34,230.34     34,230.34   4,177.06   4,187.72   \n",
       "58  34,561.29  34,185.06  34,548.53     34,548.53   4,169.14   4,202.70   \n",
       "59  34,699.98  34,464.31  34,696.24     34,696.24   4,210.34   4,233.04   \n",
       "60       None       None       None          None       None       None   \n",
       "61       None       None       None          None       None       None   \n",
       "\n",
       "   SP500_Low SP500_Close SP500_Adj_Close  \n",
       "0   3,851.93    3,875.44        3,875.44  \n",
       "1   3,885.73    3,898.81        3,898.81  \n",
       "2   3,915.54    3,939.34        3,939.34  \n",
       "3   3,915.21    3,943.34        3,943.34  \n",
       "4       None        None            None  \n",
       "..       ...         ...             ...  \n",
       "57  4,160.94    4,167.59        4,167.59  \n",
       "58  4,147.33    4,201.62        4,201.62  \n",
       "59  4,201.64    4,233.04        4,233.04  \n",
       "60      None        None            None  \n",
       "61      None        None            None  \n",
       "\n",
       "[62 rows x 41 columns]"
      ]
     },
     "execution_count": 10,
     "metadata": {},
     "output_type": "execute_result"
    }
   ],
   "source": [
    "connection = sqlite3.connect('MSC.db')\n",
    "cursor = connection.cursor()\n",
    "\n",
    "sql = ('''Select main.date,\n",
    "            top1,\n",
    "            top2,\n",
    "            top3,\n",
    "            top4,\n",
    "            top5,\n",
    "            top6,\n",
    "            top7,\n",
    "            top8,\n",
    "            top9,\n",
    "            top10,\n",
    "            top11,\n",
    "            top12,\n",
    "            top13,\n",
    "            top14,\n",
    "            top15,\n",
    "            top16,\n",
    "            top17,\n",
    "            top18,\n",
    "            top19,\n",
    "            top20,\n",
    "            top21,\n",
    "            top22,\n",
    "            top23,\n",
    "            top24,\n",
    "            top25,\n",
    "            top26,\n",
    "            top27,\n",
    "            top28,\n",
    "            top29,\n",
    "            top30,\n",
    "            DJI_Open,\n",
    "            DJI_High,\n",
    "            DJI_Low,\n",
    "            DJI_Close,\n",
    "            DJI_Adj_Close,\n",
    "            SP500_Open,\n",
    "            SP500_High,\n",
    "            SP500_Low,\n",
    "            SP500_Close,\n",
    "            SP500_Adj_Close\n",
    "\n",
    "            from main\n",
    "            left join DJI on\n",
    "            main.date = date(DJI.Date)\n",
    "            left join SP500 on\n",
    "            main.date = date(SP500.Date)\n",
    "\n",
    "       \n",
    "       ''')\n",
    "z = pd.read_sql_query(sql,connection)\n",
    "z"
   ]
  }
 ],
 "metadata": {
  "kernelspec": {
   "display_name": "Python 3",
   "language": "python",
   "name": "python3"
  },
  "language_info": {
   "codemirror_mode": {
    "name": "ipython",
    "version": 3
   },
   "file_extension": ".py",
   "mimetype": "text/x-python",
   "name": "python",
   "nbconvert_exporter": "python",
   "pygments_lexer": "ipython3",
   "version": "3.7.4"
  },
  "toc": {
   "base_numbering": 1,
   "nav_menu": {},
   "number_sections": true,
   "sideBar": true,
   "skip_h1_title": false,
   "title_cell": "Table of Contents",
   "title_sidebar": "Contents",
   "toc_cell": false,
   "toc_position": {},
   "toc_section_display": true,
   "toc_window_display": true
  }
 },
 "nbformat": 4,
 "nbformat_minor": 2
}
