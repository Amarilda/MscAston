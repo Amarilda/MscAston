{
 "cells": [
  {
   "cell_type": "code",
   "execution_count": 46,
   "metadata": {
    "ExecuteTime": {
     "end_time": "2021-04-26T09:12:09.913727Z",
     "start_time": "2021-04-26T09:12:09.906262Z"
    }
   },
   "outputs": [],
   "source": [
    "import pandas as pd\n",
    "from datetime import datetime, timedelta \n",
    "import datetime\n",
    "\n",
    "datelist = pd.date_range('2021-03-01 08:00:00', periods=1).tolist()"
   ]
  },
  {
   "cell_type": "code",
   "execution_count": 43,
   "metadata": {
    "ExecuteTime": {
     "end_time": "2021-04-26T09:11:27.608838Z",
     "start_time": "2021-04-26T09:11:27.603483Z"
    }
   },
   "outputs": [
    {
     "name": "stdout",
     "output_type": "stream",
     "text": [
      "2021-03-01 08:00:00 2021-02-28 08:00:00\n"
     ]
    }
   ],
   "source": [
    "for d in datelist:\n",
    "    print(d, d + timedelta(days=-1))"
   ]
  },
  {
   "cell_type": "code",
   "execution_count": 40,
   "metadata": {
    "ExecuteTime": {
     "end_time": "2021-04-26T09:11:15.651293Z",
     "start_time": "2021-04-26T09:11:11.948890Z"
    }
   },
   "outputs": [
    {
     "name": "stdout",
     "output_type": "stream",
     "text": [
      "JustAnotherCogg\n"
     ]
    }
   ],
   "source": [
    "import requests\n",
    "import sqlite3\n",
    "import praw\n",
    "from credentials import credentials\n",
    "\n",
    "client_id, client_secret,password, user_agent, username = credentials\n",
    "\n",
    "reddit = praw.Reddit(\n",
    "    client_id=client_id,\n",
    "    client_secret=client_secret,\n",
    "    password=password,\n",
    "    user_agent=user_agent,\n",
    "    username=username,\n",
    ")\n",
    "\n",
    "print(reddit.user.me())"
   ]
  },
  {
   "cell_type": "code",
   "execution_count": null,
   "metadata": {
    "ExecuteTime": {
     "start_time": "2021-04-26T09:31:38.896Z"
    }
   },
   "outputs": [],
   "source": [
    "top_posts = reddit.subreddit('worldnews').top(time_filter='year',limit=100000)\n",
    "\n",
    "#Get all unique columns\n",
    "kolonas = ['moment', 'daily_rank']   \n",
    "for post in top_posts:\n",
    "     for m in vars(post):\n",
    "            if m not in kolonas:\n",
    "                kolonas.append(m)\n",
    "                \n",
    "sodiena = str(\"ER20202021\")\n",
    "\n",
    "createtable = \"\"\n",
    "columnnames = \"\"\n",
    "insertintotable = \"\"\n",
    "\n",
    "#Create strings for SQL injection\n",
    "z = len(kolonas)\n",
    "for k in kolonas:\n",
    "    if z > 1:\n",
    "        createtable+= str(k + \" TEXT,\")\n",
    "        columnnames += str(f\"'{k}', \")\n",
    "        insertintotable += str(\"?,\")\n",
    "        \n",
    "    else:\n",
    "        createtable+= str(k + \" TEXT\")\n",
    "        columnnames += str(k)\n",
    "        insertintotable += str(\"?\")\n",
    "    z+= -1\n",
    "    \n",
    "#Drop and create the todays table\n",
    "connection = sqlite3.connect('MSC.db')\n",
    "cursor = connection.cursor()\n",
    "a = f\"cursor.executescript('DROP TABLE IF EXISTS {sodiena}')\"\n",
    "b = f\"cursor.execute('''CREATE TABLE {sodiena} ({createtable} )''')\"\n",
    "\n",
    "eval(a)\n",
    "eval(b)\n",
    "    \n",
    "#An actual webscraping\n",
    "top_posts = reddit.subreddit('worldnews').top(time_filter='year',limit=100000)\n",
    "i = 1\n",
    "for post in top_posts:    \n",
    "    atbilde =[]\n",
    "    atbilde.append(str(datetime.datetime.now()))\n",
    "    atbilde.append(str(i))\n",
    "    for j in kolonas[2:]:\n",
    "        try:\n",
    "            atbilde.append(str(eval(\"post.\"+j)))\n",
    "        except:\n",
    "            atbilde.append(\"\")\n",
    "    \n",
    "    connection = sqlite3.connect('MSC.db')\n",
    "    cursor = connection.cursor()\n",
    "    sql2 = f'cursor.execute(\"insert INTO  {sodiena} ({columnnames}) VALUES ({insertintotable})\", {atbilde})'\n",
    "    eval(sql2)\n",
    "    connection.commit()\n",
    "    connection.close()\n",
    "    \n",
    "    i +=1\n",
    "    \n",
    "print(\"done\")"
   ]
  },
  {
   "cell_type": "code",
   "execution_count": null,
   "metadata": {
    "ExecuteTime": {
     "start_time": "2021-04-26T09:31:41.175Z"
    }
   },
   "outputs": [],
   "source": [
    "connection = sqlite3.connect('MSC.db')\n",
    "cursor = connection.cursor()\n",
    "\n",
    "sql = (f\"Select * from {sodiena}\")\n",
    "z = pd.read_sql_query(sql,connection)\n",
    "z.shape"
   ]
  },
  {
   "cell_type": "code",
   "execution_count": null,
   "metadata": {},
   "outputs": [],
   "source": []
  }
 ],
 "metadata": {
  "kernelspec": {
   "display_name": "Python 3",
   "language": "python",
   "name": "python3"
  },
  "language_info": {
   "codemirror_mode": {
    "name": "ipython",
    "version": 3
   },
   "file_extension": ".py",
   "mimetype": "text/x-python",
   "name": "python",
   "nbconvert_exporter": "python",
   "pygments_lexer": "ipython3",
   "version": "3.7.4"
  },
  "toc": {
   "base_numbering": 1,
   "nav_menu": {},
   "number_sections": true,
   "sideBar": true,
   "skip_h1_title": false,
   "title_cell": "Table of Contents",
   "title_sidebar": "Contents",
   "toc_cell": false,
   "toc_position": {},
   "toc_section_display": true,
   "toc_window_display": false
  }
 },
 "nbformat": 4,
 "nbformat_minor": 2
}
