{
 "cells": [
  {
   "cell_type": "code",
   "execution_count": 1,
   "metadata": {
    "ExecuteTime": {
     "end_time": "2021-06-14T09:22:18.951566Z",
     "start_time": "2021-06-14T09:22:05.011367Z"
    }
   },
   "outputs": [
    {
     "name": "stdout",
     "output_type": "stream",
     "text": [
      "NotesFridays work\n"
     ]
    }
   ],
   "source": [
    "import datetime\n",
    "import pandas as pd\n",
    "df = pd.read_csv('atomic_dissertation.csv')\n",
    "atbilde = []\n",
    "atbilde.append(datetime.datetime.now())\n",
    "\n",
    "from docxlatex import Document\n",
    "doc = Document(\"/Volumes/Seagate Backup Plus Drive/Learning/Aston/Disesertation/ER.docx\")\n",
    "\n",
    "text = doc.get_text()\n",
    "len(text.split())\n",
    "atbilde.append(len(text.split()))\n",
    "\n",
    "atbilde.append(input('Notes'))\n",
    "df.loc[len(df)] = atbilde\n",
    "df.to_csv('atomic_dissertation.csv', index = False)"
   ]
  },
  {
   "cell_type": "markdown",
   "metadata": {
    "ExecuteTime": {
     "end_time": "2021-06-10T09:45:00.441851Z",
     "start_time": "2021-06-10T09:41:49.709756Z"
    }
   },
   "source": [
    "from docx2pdf import convert\n",
    "convert(\"/Volumes/Seagate Backup Plus Drive/Learning/Aston/Disesertation/ER.docx\", \"/Volumes/Seagate Backup Plus Drive/Learning/Aston/Disesertation/output.pdf\")"
   ]
  },
  {
   "cell_type": "markdown",
   "metadata": {
    "ExecuteTime": {
     "end_time": "2021-06-10T08:36:00.942983Z",
     "start_time": "2021-06-10T08:36:00.724932Z"
    }
   },
   "source": [
    "with open('output.pdf', encoding=\"utf8\", errors='ignore') as f:\n",
    "\n",
    "#file = open('output.pdf', \"rt\")\n",
    "    data = f.read()\n",
    "    words = data.split()\n",
    "\n",
    "print('Number of words in text file :', len(words))\n",
    "#atbilde.append(len(words))"
   ]
  },
  {
   "cell_type": "markdown",
   "metadata": {
    "ExecuteTime": {
     "end_time": "2021-06-09T13:57:24.782309Z",
     "start_time": "2021-06-09T13:56:27.479837Z"
    }
   },
   "source": [
    "pip install --ignore-installed docx2pdf"
   ]
  },
  {
   "cell_type": "code",
   "execution_count": 2,
   "metadata": {
    "ExecuteTime": {
     "end_time": "2021-06-14T09:22:22.462086Z",
     "start_time": "2021-06-14T09:22:22.310889Z"
    }
   },
   "outputs": [
    {
     "data": {
      "text/html": [
       "<div>\n",
       "<style scoped>\n",
       "    .dataframe tbody tr th:only-of-type {\n",
       "        vertical-align: middle;\n",
       "    }\n",
       "\n",
       "    .dataframe tbody tr th {\n",
       "        vertical-align: top;\n",
       "    }\n",
       "\n",
       "    .dataframe thead th {\n",
       "        text-align: right;\n",
       "    }\n",
       "</style>\n",
       "<table border=\"1\" class=\"dataframe\">\n",
       "  <thead>\n",
       "    <tr style=\"text-align: right;\">\n",
       "      <th></th>\n",
       "      <th>datetime</th>\n",
       "      <th>len</th>\n",
       "      <th>notes</th>\n",
       "    </tr>\n",
       "  </thead>\n",
       "  <tbody>\n",
       "    <tr>\n",
       "      <th>0</th>\n",
       "      <td>2021-06-09 17:14:10.974003</td>\n",
       "      <td>4206</td>\n",
       "      <td>Home, allergic</td>\n",
       "    </tr>\n",
       "    <tr>\n",
       "      <th>1</th>\n",
       "      <td>2021-06-10 14:03:27.841383</td>\n",
       "      <td>4187</td>\n",
       "      <td>before pomodoros</td>\n",
       "    </tr>\n",
       "    <tr>\n",
       "      <th>2</th>\n",
       "      <td>2021-06-10 15:02:35.850335</td>\n",
       "      <td>4266</td>\n",
       "      <td>1 pomodoro</td>\n",
       "    </tr>\n",
       "    <tr>\n",
       "      <th>3</th>\n",
       "      <td>2021-06-14 11:22:08.996200</td>\n",
       "      <td>4472</td>\n",
       "      <td>Fridays work</td>\n",
       "    </tr>\n",
       "  </tbody>\n",
       "</table>\n",
       "</div>"
      ],
      "text/plain": [
       "                     datetime   len             notes\n",
       "0  2021-06-09 17:14:10.974003  4206    Home, allergic\n",
       "1  2021-06-10 14:03:27.841383  4187  before pomodoros\n",
       "2  2021-06-10 15:02:35.850335  4266        1 pomodoro\n",
       "3  2021-06-14 11:22:08.996200  4472      Fridays work"
      ]
     },
     "execution_count": 2,
     "metadata": {},
     "output_type": "execute_result"
    }
   ],
   "source": [
    "df = pd.read_csv('atomic_dissertation.csv')\n",
    "df"
   ]
  },
  {
   "cell_type": "code",
   "execution_count": 115,
   "metadata": {
    "ExecuteTime": {
     "end_time": "2021-06-10T13:05:06.193806Z",
     "start_time": "2021-06-10T13:05:06.184875Z"
    }
   },
   "outputs": [
    {
     "data": {
      "text/plain": [
       "0.284"
      ]
     },
     "execution_count": 115,
     "metadata": {},
     "output_type": "execute_result"
    }
   ],
   "source": [
    "round(df.len[len(df)-1]/15000,3)"
   ]
  },
  {
   "cell_type": "code",
   "execution_count": 4,
   "metadata": {
    "ExecuteTime": {
     "end_time": "2021-06-14T09:26:25.208852Z",
     "start_time": "2021-06-14T09:26:25.202279Z"
    }
   },
   "outputs": [
    {
     "name": "stdout",
     "output_type": "stream",
     "text": [
      "0.28\n",
      "0.279\n",
      "0.284\n",
      "0.298\n"
     ]
    }
   ],
   "source": [
    "for i in df.len:\n",
    "    print(round(i/15000,3))"
   ]
  },
  {
   "cell_type": "code",
   "execution_count": null,
   "metadata": {},
   "outputs": [],
   "source": []
  }
 ],
 "metadata": {
  "kernelspec": {
   "display_name": "Python 3",
   "language": "python",
   "name": "python3"
  },
  "language_info": {
   "codemirror_mode": {
    "name": "ipython",
    "version": 3
   },
   "file_extension": ".py",
   "mimetype": "text/x-python",
   "name": "python",
   "nbconvert_exporter": "python",
   "pygments_lexer": "ipython3",
   "version": "3.7.4"
  },
  "toc": {
   "base_numbering": 1,
   "nav_menu": {},
   "number_sections": true,
   "sideBar": true,
   "skip_h1_title": false,
   "title_cell": "Table of Contents",
   "title_sidebar": "Contents",
   "toc_cell": false,
   "toc_position": {},
   "toc_section_display": true,
   "toc_window_display": false
  }
 },
 "nbformat": 4,
 "nbformat_minor": 2
}
