{
 "cells": [
  {
   "cell_type": "code",
   "execution_count": null,
   "metadata": {
    "ExecuteTime": {
     "end_time": "2021-06-09T14:30:37.635198Z",
     "start_time": "2021-06-09T14:29:25.375363Z"
    }
   },
   "outputs": [],
   "source": [
    "from docx2pdf import convert\n",
    "import datetime\n",
    "import pandas as pd\n",
    "df = pd.read_csv('atomic_dissertation.csv')\n",
    "convert(\"/Volumes/Seagate Backup Plus Drive/Learning/Aston/Disesertation/ER.docx\", \"output.pdf\")"
   ]
  },
  {
   "cell_type": "code",
   "execution_count": 10,
   "metadata": {
    "ExecuteTime": {
     "end_time": "2021-06-09T15:14:10.620788Z",
     "start_time": "2021-06-09T15:14:10.610475Z"
    }
   },
   "outputs": [],
   "source": [
    "atbilde = []\n",
    "atbilde.append(datetime.datetime.now())"
   ]
  },
  {
   "cell_type": "code",
   "execution_count": 13,
   "metadata": {
    "ExecuteTime": {
     "end_time": "2021-06-09T15:14:43.165268Z",
     "start_time": "2021-06-09T15:14:43.144707Z"
    }
   },
   "outputs": [
    {
     "name": "stdout",
     "output_type": "stream",
     "text": [
      "Number of words in text file : 19579\n"
     ]
    }
   ],
   "source": [
    "with open('output.pdf', encoding=\"utf8\", errors='ignore') as f:\n",
    "\n",
    "#file = open('output.pdf', \"rt\")\n",
    "    data = f.read()\n",
    "    words = data.split()\n",
    "\n",
    "print('Number of words in text file :', len(words))\n",
    "atbilde.append(len(words))"
   ]
  },
  {
   "cell_type": "code",
   "execution_count": 20,
   "metadata": {
    "ExecuteTime": {
     "end_time": "2021-06-09T15:20:38.632889Z",
     "start_time": "2021-06-09T15:20:31.037570Z"
    }
   },
   "outputs": [
    {
     "name": "stdout",
     "output_type": "stream",
     "text": [
      "NotesHome, allergic\n"
     ]
    }
   ],
   "source": [
    "atbilde.append(input('Notes'))\n",
    "df.loc[len(df)] = atbilde\n",
    "df.to_csv('atomic_dissertation.csv', index = False)"
   ]
  },
  {
   "cell_type": "markdown",
   "metadata": {
    "ExecuteTime": {
     "end_time": "2021-06-09T13:57:24.782309Z",
     "start_time": "2021-06-09T13:56:27.479837Z"
    }
   },
   "source": [
    "pip install --ignore-installed docx2pdf"
   ]
  },
  {
   "cell_type": "markdown",
   "metadata": {
    "ExecuteTime": {
     "end_time": "2021-06-09T14:01:33.467862Z",
     "start_time": "2021-06-09T14:01:33.301327Z"
    }
   },
   "source": [
    "import PyPDF2\n",
    "pdfFileObj = open('output.pdf', 'rb')\n",
    "pdfReader = PyPDF2.PdfFileReader(pdfFileObj)\n",
    "pdfReader.numPages"
   ]
  }
 ],
 "metadata": {
  "kernelspec": {
   "display_name": "Python 3",
   "language": "python",
   "name": "python3"
  },
  "language_info": {
   "codemirror_mode": {
    "name": "ipython",
    "version": 3
   },
   "file_extension": ".py",
   "mimetype": "text/x-python",
   "name": "python",
   "nbconvert_exporter": "python",
   "pygments_lexer": "ipython3",
   "version": "3.7.4"
  },
  "toc": {
   "base_numbering": 1,
   "nav_menu": {},
   "number_sections": true,
   "sideBar": true,
   "skip_h1_title": false,
   "title_cell": "Table of Contents",
   "title_sidebar": "Contents",
   "toc_cell": false,
   "toc_position": {},
   "toc_section_display": true,
   "toc_window_display": false
  }
 },
 "nbformat": 4,
 "nbformat_minor": 2
}
